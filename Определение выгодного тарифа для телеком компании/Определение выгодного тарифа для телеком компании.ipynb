{
 "cells": [
  {
   "cell_type": "markdown",
   "metadata": {},
   "source": [
    "# Определение выгодного тарифа для телеком компании"
   ]
  },
  {
   "cell_type": "markdown",
   "metadata": {},
   "source": [
    "**Цель исследования** - анализ поведения клиентов, определение наиболее экономически привлекательного для компании тарифа.\n",
    "\n",
    "В рамках исследования мы проанализируем поведение клиентов двух тарифов - \"Смарт\" и \"Ультра\" и определим какой из тарифов приносит наибольшую экономичекую выгоду."
   ]
  },
  {
   "cell_type": "markdown",
   "metadata": {},
   "source": [
    "**Ход исследования:**\n",
    "\n",
    "Проведем исследование в соответствии со следующим порядком:\n",
    "1. Проведем анализ количества минут разговора, количества отправленных SMS и количества потраченного интернет-трафика в рамках тарифа.\n",
    "2. Проведем анализ среднего кличества, дисперсии и стандартного отклонения по выборке, опишем распределения.\n",
    "3. Проверим несколько гипотез:\n",
    " * средняя выручка пользователей тарифов «Ультра» и «Смарт» различаются;\n",
    " * средняя выручка пользователей из Москвы отличается от выручки пользователей из других регионов.\n",
    " \n",
    "**Исследование проведем в 4 этапа:**\n",
    "1. Изучим датасет.\n",
    "2. Подготовим данные для анализа.\n",
    "3. Проведем исследовательский анализ.\n",
    "4. Проверим гипотезы.\n",
    "\n",
    "**Исследуемые тарифы:**\n",
    "\n",
    "*Тариф «Смарт»:*\n",
    "1. Ежемесячная плата: 550 рублей\n",
    "2. Включено 500 минут разговора, 50 сообщений и 15 Гб интернет-трафика\n",
    "3. Стоимость услуг сверх тарифного пакета:\n",
    " * минута разговора: 3 рубля\n",
    " * сообщение: 3 рубля\n",
    " * 1 Гб интернет-трафика: 200 рублей\n",
    " \n",
    " \n",
    " *Тариф «Ультра»:*\n",
    "1. Ежемесячная плата: 1950 рублей\n",
    "2. Включено 3000 минут разговора, 1000 сообщений и 30 Гб интернет-трафика\n",
    "3. Стоимость услуг сверх тарифного пакета:\n",
    " * минута разговора: 1 рубль\n",
    " * сообщение: 1 рубль\n",
    " * 1 Гб интернет-трафика: 150 рублей"
   ]
  },
  {
   "cell_type": "markdown",
   "metadata": {},
   "source": [
    "## Обзор данных"
   ]
  },
  {
   "cell_type": "markdown",
   "metadata": {},
   "source": [
    "Импортируем необходимые для работы библиотеки."
   ]
  },
  {
   "cell_type": "code",
   "execution_count": 1,
   "metadata": {
    "ExecuteTime": {
     "end_time": "2023-02-11T21:43:27.230068Z",
     "start_time": "2023-02-11T21:43:25.242245Z"
    }
   },
   "outputs": [],
   "source": [
    "# Импорт стандартных библиотек\n",
    "import math\n",
    "import numpy as np\n",
    "import pandas as pd\n",
    "import seaborn as sns\n",
    "import scipy.stats as st\n",
    "import matplotlib.pyplot as plt\n",
    "\n",
    "pd.set_option('display.float_format', lambda x: '%.2f' % x)"
   ]
  },
  {
   "cell_type": "markdown",
   "metadata": {},
   "source": [
    "Импортируем исследуемые датасеты."
   ]
  },
  {
   "cell_type": "code",
   "execution_count": 2,
   "metadata": {
    "ExecuteTime": {
     "end_time": "2023-02-11T21:43:27.829430Z",
     "start_time": "2023-02-11T21:43:27.232064Z"
    }
   },
   "outputs": [],
   "source": [
    "# Проверка на исключение при локальном доступе и доступе на сервере к датасетам\n",
    "try:\n",
    "    calls = pd.read_csv('/datasets/calls.csv')\n",
    "    internet = pd.read_csv('/datasets/internet.csv')\n",
    "    messages = pd.read_csv('/datasets/messages.csv')\n",
    "    tariffs = pd.read_csv('/datasets/tariffs.csv')\n",
    "    users = pd.read_csv('/datasets/users.csv')\n",
    "except:\n",
    "    calls = pd.read_csv('D:\\\\Users\\\\BlackEdition\\\\Desktop\\\\'\n",
    "                        'Data Science\\\\Обучение в Яндекс\\\\'\n",
    "                        '5. Статистический анализ данных\\\\Проект\\\\calls.csv')\n",
    "    internet = pd.read_csv('D:\\\\Users\\\\BlackEdition\\\\Desktop\\\\'\n",
    "                           'Data Science\\\\Обучение в Яндекс\\\\'\n",
    "                           '5. Статистический анализ данных\\\\Проект\\\\internet.csv')\n",
    "    messages = pd.read_csv('D:\\\\Users\\\\BlackEdition\\\\Desktop\\\\'\n",
    "                           'Data Science\\\\Обучение в Яндекс\\\\'\n",
    "                           '5. Статистический анализ данных\\\\Проект\\\\messages.csv')\n",
    "    tariffs = pd.read_csv('D:\\\\Users\\\\BlackEdition\\\\Desktop\\\\'\n",
    "                          'Data Science\\\\Обучение в Яндекс\\\\'\n",
    "                          '5. Статистический анализ данных\\\\Проект\\\\tariffs.csv')\n",
    "    users = pd.read_csv('D:\\\\Users\\\\BlackEdition\\\\Desktop\\\\'\n",
    "                        'Data Science\\\\Обучение в Яндекс\\\\'\n",
    "                        '5. Статистический анализ данных\\\\Проект\\\\users.csv')"
   ]
  },
  {
   "cell_type": "markdown",
   "metadata": {},
   "source": [
    "Выведем информацию по датасетам на экран."
   ]
  },
  {
   "cell_type": "code",
   "execution_count": 3,
   "metadata": {
    "ExecuteTime": {
     "end_time": "2023-02-11T21:43:28.049878Z",
     "start_time": "2023-02-11T21:43:27.834421Z"
    },
    "scrolled": true
   },
   "outputs": [
    {
     "data": {
      "text/html": [
       "<div>\n",
       "<style scoped>\n",
       "    .dataframe tbody tr th:only-of-type {\n",
       "        vertical-align: middle;\n",
       "    }\n",
       "\n",
       "    .dataframe tbody tr th {\n",
       "        vertical-align: top;\n",
       "    }\n",
       "\n",
       "    .dataframe thead th {\n",
       "        text-align: right;\n",
       "    }\n",
       "</style>\n",
       "<table border=\"1\" class=\"dataframe\">\n",
       "  <thead>\n",
       "    <tr style=\"text-align: right;\">\n",
       "      <th></th>\n",
       "      <th>id</th>\n",
       "      <th>call_date</th>\n",
       "      <th>duration</th>\n",
       "      <th>user_id</th>\n",
       "    </tr>\n",
       "  </thead>\n",
       "  <tbody>\n",
       "    <tr>\n",
       "      <th>0</th>\n",
       "      <td>1000_0</td>\n",
       "      <td>2018-07-25</td>\n",
       "      <td>0.00</td>\n",
       "      <td>1000</td>\n",
       "    </tr>\n",
       "    <tr>\n",
       "      <th>1</th>\n",
       "      <td>1000_1</td>\n",
       "      <td>2018-08-17</td>\n",
       "      <td>0.00</td>\n",
       "      <td>1000</td>\n",
       "    </tr>\n",
       "    <tr>\n",
       "      <th>2</th>\n",
       "      <td>1000_2</td>\n",
       "      <td>2018-06-11</td>\n",
       "      <td>2.85</td>\n",
       "      <td>1000</td>\n",
       "    </tr>\n",
       "    <tr>\n",
       "      <th>3</th>\n",
       "      <td>1000_3</td>\n",
       "      <td>2018-09-21</td>\n",
       "      <td>13.80</td>\n",
       "      <td>1000</td>\n",
       "    </tr>\n",
       "    <tr>\n",
       "      <th>4</th>\n",
       "      <td>1000_4</td>\n",
       "      <td>2018-12-15</td>\n",
       "      <td>5.18</td>\n",
       "      <td>1000</td>\n",
       "    </tr>\n",
       "    <tr>\n",
       "      <th>...</th>\n",
       "      <td>...</td>\n",
       "      <td>...</td>\n",
       "      <td>...</td>\n",
       "      <td>...</td>\n",
       "    </tr>\n",
       "    <tr>\n",
       "      <th>202602</th>\n",
       "      <td>1499_215</td>\n",
       "      <td>2018-12-26</td>\n",
       "      <td>0.76</td>\n",
       "      <td>1499</td>\n",
       "    </tr>\n",
       "    <tr>\n",
       "      <th>202603</th>\n",
       "      <td>1499_216</td>\n",
       "      <td>2018-10-18</td>\n",
       "      <td>18.83</td>\n",
       "      <td>1499</td>\n",
       "    </tr>\n",
       "    <tr>\n",
       "      <th>202604</th>\n",
       "      <td>1499_217</td>\n",
       "      <td>2018-11-10</td>\n",
       "      <td>10.81</td>\n",
       "      <td>1499</td>\n",
       "    </tr>\n",
       "    <tr>\n",
       "      <th>202605</th>\n",
       "      <td>1499_218</td>\n",
       "      <td>2018-10-06</td>\n",
       "      <td>4.27</td>\n",
       "      <td>1499</td>\n",
       "    </tr>\n",
       "    <tr>\n",
       "      <th>202606</th>\n",
       "      <td>1499_219</td>\n",
       "      <td>2018-12-14</td>\n",
       "      <td>19.62</td>\n",
       "      <td>1499</td>\n",
       "    </tr>\n",
       "  </tbody>\n",
       "</table>\n",
       "<p>202607 rows × 4 columns</p>\n",
       "</div>"
      ],
      "text/plain": [
       "              id   call_date  duration  user_id\n",
       "0         1000_0  2018-07-25      0.00     1000\n",
       "1         1000_1  2018-08-17      0.00     1000\n",
       "2         1000_2  2018-06-11      2.85     1000\n",
       "3         1000_3  2018-09-21     13.80     1000\n",
       "4         1000_4  2018-12-15      5.18     1000\n",
       "...          ...         ...       ...      ...\n",
       "202602  1499_215  2018-12-26      0.76     1499\n",
       "202603  1499_216  2018-10-18     18.83     1499\n",
       "202604  1499_217  2018-11-10     10.81     1499\n",
       "202605  1499_218  2018-10-06      4.27     1499\n",
       "202606  1499_219  2018-12-14     19.62     1499\n",
       "\n",
       "[202607 rows x 4 columns]"
      ]
     },
     "metadata": {},
     "output_type": "display_data"
    },
    {
     "name": "stdout",
     "output_type": "stream",
     "text": [
      "<class 'pandas.core.frame.DataFrame'>\n",
      "RangeIndex: 202607 entries, 0 to 202606\n",
      "Data columns (total 4 columns):\n",
      " #   Column     Non-Null Count   Dtype  \n",
      "---  ------     --------------   -----  \n",
      " 0   id         202607 non-null  object \n",
      " 1   call_date  202607 non-null  object \n",
      " 2   duration   202607 non-null  float64\n",
      " 3   user_id    202607 non-null  int64  \n",
      "dtypes: float64(1), int64(1), object(2)\n",
      "memory usage: 6.2+ MB\n"
     ]
    },
    {
     "data": {
      "text/plain": [
       "None"
      ]
     },
     "metadata": {},
     "output_type": "display_data"
    },
    {
     "data": {
      "text/html": [
       "<div>\n",
       "<style scoped>\n",
       "    .dataframe tbody tr th:only-of-type {\n",
       "        vertical-align: middle;\n",
       "    }\n",
       "\n",
       "    .dataframe tbody tr th {\n",
       "        vertical-align: top;\n",
       "    }\n",
       "\n",
       "    .dataframe thead th {\n",
       "        text-align: right;\n",
       "    }\n",
       "</style>\n",
       "<table border=\"1\" class=\"dataframe\">\n",
       "  <thead>\n",
       "    <tr style=\"text-align: right;\">\n",
       "      <th></th>\n",
       "      <th>Unnamed: 0</th>\n",
       "      <th>id</th>\n",
       "      <th>mb_used</th>\n",
       "      <th>session_date</th>\n",
       "      <th>user_id</th>\n",
       "    </tr>\n",
       "  </thead>\n",
       "  <tbody>\n",
       "    <tr>\n",
       "      <th>0</th>\n",
       "      <td>0</td>\n",
       "      <td>1000_0</td>\n",
       "      <td>112.95</td>\n",
       "      <td>2018-11-25</td>\n",
       "      <td>1000</td>\n",
       "    </tr>\n",
       "    <tr>\n",
       "      <th>1</th>\n",
       "      <td>1</td>\n",
       "      <td>1000_1</td>\n",
       "      <td>1052.81</td>\n",
       "      <td>2018-09-07</td>\n",
       "      <td>1000</td>\n",
       "    </tr>\n",
       "    <tr>\n",
       "      <th>2</th>\n",
       "      <td>2</td>\n",
       "      <td>1000_2</td>\n",
       "      <td>1197.26</td>\n",
       "      <td>2018-06-25</td>\n",
       "      <td>1000</td>\n",
       "    </tr>\n",
       "    <tr>\n",
       "      <th>3</th>\n",
       "      <td>3</td>\n",
       "      <td>1000_3</td>\n",
       "      <td>550.27</td>\n",
       "      <td>2018-08-22</td>\n",
       "      <td>1000</td>\n",
       "    </tr>\n",
       "    <tr>\n",
       "      <th>4</th>\n",
       "      <td>4</td>\n",
       "      <td>1000_4</td>\n",
       "      <td>302.56</td>\n",
       "      <td>2018-09-24</td>\n",
       "      <td>1000</td>\n",
       "    </tr>\n",
       "    <tr>\n",
       "      <th>...</th>\n",
       "      <td>...</td>\n",
       "      <td>...</td>\n",
       "      <td>...</td>\n",
       "      <td>...</td>\n",
       "      <td>...</td>\n",
       "    </tr>\n",
       "    <tr>\n",
       "      <th>149391</th>\n",
       "      <td>149391</td>\n",
       "      <td>1499_152</td>\n",
       "      <td>318.90</td>\n",
       "      <td>2018-10-03</td>\n",
       "      <td>1499</td>\n",
       "    </tr>\n",
       "    <tr>\n",
       "      <th>149392</th>\n",
       "      <td>149392</td>\n",
       "      <td>1499_153</td>\n",
       "      <td>490.13</td>\n",
       "      <td>2018-12-14</td>\n",
       "      <td>1499</td>\n",
       "    </tr>\n",
       "    <tr>\n",
       "      <th>149393</th>\n",
       "      <td>149393</td>\n",
       "      <td>1499_154</td>\n",
       "      <td>0.00</td>\n",
       "      <td>2018-10-27</td>\n",
       "      <td>1499</td>\n",
       "    </tr>\n",
       "    <tr>\n",
       "      <th>149394</th>\n",
       "      <td>149394</td>\n",
       "      <td>1499_155</td>\n",
       "      <td>1246.32</td>\n",
       "      <td>2018-11-26</td>\n",
       "      <td>1499</td>\n",
       "    </tr>\n",
       "    <tr>\n",
       "      <th>149395</th>\n",
       "      <td>149395</td>\n",
       "      <td>1499_156</td>\n",
       "      <td>544.37</td>\n",
       "      <td>2018-10-26</td>\n",
       "      <td>1499</td>\n",
       "    </tr>\n",
       "  </tbody>\n",
       "</table>\n",
       "<p>149396 rows × 5 columns</p>\n",
       "</div>"
      ],
      "text/plain": [
       "        Unnamed: 0        id  mb_used session_date  user_id\n",
       "0                0    1000_0   112.95   2018-11-25     1000\n",
       "1                1    1000_1  1052.81   2018-09-07     1000\n",
       "2                2    1000_2  1197.26   2018-06-25     1000\n",
       "3                3    1000_3   550.27   2018-08-22     1000\n",
       "4                4    1000_4   302.56   2018-09-24     1000\n",
       "...            ...       ...      ...          ...      ...\n",
       "149391      149391  1499_152   318.90   2018-10-03     1499\n",
       "149392      149392  1499_153   490.13   2018-12-14     1499\n",
       "149393      149393  1499_154     0.00   2018-10-27     1499\n",
       "149394      149394  1499_155  1246.32   2018-11-26     1499\n",
       "149395      149395  1499_156   544.37   2018-10-26     1499\n",
       "\n",
       "[149396 rows x 5 columns]"
      ]
     },
     "metadata": {},
     "output_type": "display_data"
    },
    {
     "name": "stdout",
     "output_type": "stream",
     "text": [
      "<class 'pandas.core.frame.DataFrame'>\n",
      "RangeIndex: 149396 entries, 0 to 149395\n",
      "Data columns (total 5 columns):\n",
      " #   Column        Non-Null Count   Dtype  \n",
      "---  ------        --------------   -----  \n",
      " 0   Unnamed: 0    149396 non-null  int64  \n",
      " 1   id            149396 non-null  object \n",
      " 2   mb_used       149396 non-null  float64\n",
      " 3   session_date  149396 non-null  object \n",
      " 4   user_id       149396 non-null  int64  \n",
      "dtypes: float64(1), int64(2), object(2)\n",
      "memory usage: 5.7+ MB\n"
     ]
    },
    {
     "data": {
      "text/plain": [
       "None"
      ]
     },
     "metadata": {},
     "output_type": "display_data"
    },
    {
     "data": {
      "text/html": [
       "<div>\n",
       "<style scoped>\n",
       "    .dataframe tbody tr th:only-of-type {\n",
       "        vertical-align: middle;\n",
       "    }\n",
       "\n",
       "    .dataframe tbody tr th {\n",
       "        vertical-align: top;\n",
       "    }\n",
       "\n",
       "    .dataframe thead th {\n",
       "        text-align: right;\n",
       "    }\n",
       "</style>\n",
       "<table border=\"1\" class=\"dataframe\">\n",
       "  <thead>\n",
       "    <tr style=\"text-align: right;\">\n",
       "      <th></th>\n",
       "      <th>id</th>\n",
       "      <th>message_date</th>\n",
       "      <th>user_id</th>\n",
       "    </tr>\n",
       "  </thead>\n",
       "  <tbody>\n",
       "    <tr>\n",
       "      <th>0</th>\n",
       "      <td>1000_0</td>\n",
       "      <td>2018-06-27</td>\n",
       "      <td>1000</td>\n",
       "    </tr>\n",
       "    <tr>\n",
       "      <th>1</th>\n",
       "      <td>1000_1</td>\n",
       "      <td>2018-10-08</td>\n",
       "      <td>1000</td>\n",
       "    </tr>\n",
       "    <tr>\n",
       "      <th>2</th>\n",
       "      <td>1000_2</td>\n",
       "      <td>2018-08-04</td>\n",
       "      <td>1000</td>\n",
       "    </tr>\n",
       "    <tr>\n",
       "      <th>3</th>\n",
       "      <td>1000_3</td>\n",
       "      <td>2018-06-16</td>\n",
       "      <td>1000</td>\n",
       "    </tr>\n",
       "    <tr>\n",
       "      <th>4</th>\n",
       "      <td>1000_4</td>\n",
       "      <td>2018-12-05</td>\n",
       "      <td>1000</td>\n",
       "    </tr>\n",
       "    <tr>\n",
       "      <th>...</th>\n",
       "      <td>...</td>\n",
       "      <td>...</td>\n",
       "      <td>...</td>\n",
       "    </tr>\n",
       "    <tr>\n",
       "      <th>123031</th>\n",
       "      <td>1499_179</td>\n",
       "      <td>2018-12-12</td>\n",
       "      <td>1499</td>\n",
       "    </tr>\n",
       "    <tr>\n",
       "      <th>123032</th>\n",
       "      <td>1499_180</td>\n",
       "      <td>2018-09-28</td>\n",
       "      <td>1499</td>\n",
       "    </tr>\n",
       "    <tr>\n",
       "      <th>123033</th>\n",
       "      <td>1499_181</td>\n",
       "      <td>2018-09-27</td>\n",
       "      <td>1499</td>\n",
       "    </tr>\n",
       "    <tr>\n",
       "      <th>123034</th>\n",
       "      <td>1499_182</td>\n",
       "      <td>2018-11-15</td>\n",
       "      <td>1499</td>\n",
       "    </tr>\n",
       "    <tr>\n",
       "      <th>123035</th>\n",
       "      <td>1499_183</td>\n",
       "      <td>2018-11-16</td>\n",
       "      <td>1499</td>\n",
       "    </tr>\n",
       "  </tbody>\n",
       "</table>\n",
       "<p>123036 rows × 3 columns</p>\n",
       "</div>"
      ],
      "text/plain": [
       "              id message_date  user_id\n",
       "0         1000_0   2018-06-27     1000\n",
       "1         1000_1   2018-10-08     1000\n",
       "2         1000_2   2018-08-04     1000\n",
       "3         1000_3   2018-06-16     1000\n",
       "4         1000_4   2018-12-05     1000\n",
       "...          ...          ...      ...\n",
       "123031  1499_179   2018-12-12     1499\n",
       "123032  1499_180   2018-09-28     1499\n",
       "123033  1499_181   2018-09-27     1499\n",
       "123034  1499_182   2018-11-15     1499\n",
       "123035  1499_183   2018-11-16     1499\n",
       "\n",
       "[123036 rows x 3 columns]"
      ]
     },
     "metadata": {},
     "output_type": "display_data"
    },
    {
     "name": "stdout",
     "output_type": "stream",
     "text": [
      "<class 'pandas.core.frame.DataFrame'>\n",
      "RangeIndex: 123036 entries, 0 to 123035\n",
      "Data columns (total 3 columns):\n",
      " #   Column        Non-Null Count   Dtype \n",
      "---  ------        --------------   ----- \n",
      " 0   id            123036 non-null  object\n",
      " 1   message_date  123036 non-null  object\n",
      " 2   user_id       123036 non-null  int64 \n",
      "dtypes: int64(1), object(2)\n",
      "memory usage: 2.8+ MB\n"
     ]
    },
    {
     "data": {
      "text/plain": [
       "None"
      ]
     },
     "metadata": {},
     "output_type": "display_data"
    },
    {
     "data": {
      "text/html": [
       "<div>\n",
       "<style scoped>\n",
       "    .dataframe tbody tr th:only-of-type {\n",
       "        vertical-align: middle;\n",
       "    }\n",
       "\n",
       "    .dataframe tbody tr th {\n",
       "        vertical-align: top;\n",
       "    }\n",
       "\n",
       "    .dataframe thead th {\n",
       "        text-align: right;\n",
       "    }\n",
       "</style>\n",
       "<table border=\"1\" class=\"dataframe\">\n",
       "  <thead>\n",
       "    <tr style=\"text-align: right;\">\n",
       "      <th></th>\n",
       "      <th>messages_included</th>\n",
       "      <th>mb_per_month_included</th>\n",
       "      <th>minutes_included</th>\n",
       "      <th>rub_monthly_fee</th>\n",
       "      <th>rub_per_gb</th>\n",
       "      <th>rub_per_message</th>\n",
       "      <th>rub_per_minute</th>\n",
       "      <th>tariff_name</th>\n",
       "    </tr>\n",
       "  </thead>\n",
       "  <tbody>\n",
       "    <tr>\n",
       "      <th>0</th>\n",
       "      <td>50</td>\n",
       "      <td>15360</td>\n",
       "      <td>500</td>\n",
       "      <td>550</td>\n",
       "      <td>200</td>\n",
       "      <td>3</td>\n",
       "      <td>3</td>\n",
       "      <td>smart</td>\n",
       "    </tr>\n",
       "    <tr>\n",
       "      <th>1</th>\n",
       "      <td>1000</td>\n",
       "      <td>30720</td>\n",
       "      <td>3000</td>\n",
       "      <td>1950</td>\n",
       "      <td>150</td>\n",
       "      <td>1</td>\n",
       "      <td>1</td>\n",
       "      <td>ultra</td>\n",
       "    </tr>\n",
       "  </tbody>\n",
       "</table>\n",
       "</div>"
      ],
      "text/plain": [
       "   messages_included  mb_per_month_included  minutes_included  \\\n",
       "0                 50                  15360               500   \n",
       "1               1000                  30720              3000   \n",
       "\n",
       "   rub_monthly_fee  rub_per_gb  rub_per_message  rub_per_minute tariff_name  \n",
       "0              550         200                3               3       smart  \n",
       "1             1950         150                1               1       ultra  "
      ]
     },
     "metadata": {},
     "output_type": "display_data"
    },
    {
     "name": "stdout",
     "output_type": "stream",
     "text": [
      "<class 'pandas.core.frame.DataFrame'>\n",
      "RangeIndex: 2 entries, 0 to 1\n",
      "Data columns (total 8 columns):\n",
      " #   Column                 Non-Null Count  Dtype \n",
      "---  ------                 --------------  ----- \n",
      " 0   messages_included      2 non-null      int64 \n",
      " 1   mb_per_month_included  2 non-null      int64 \n",
      " 2   minutes_included       2 non-null      int64 \n",
      " 3   rub_monthly_fee        2 non-null      int64 \n",
      " 4   rub_per_gb             2 non-null      int64 \n",
      " 5   rub_per_message        2 non-null      int64 \n",
      " 6   rub_per_minute         2 non-null      int64 \n",
      " 7   tariff_name            2 non-null      object\n",
      "dtypes: int64(7), object(1)\n",
      "memory usage: 256.0+ bytes\n"
     ]
    },
    {
     "data": {
      "text/plain": [
       "None"
      ]
     },
     "metadata": {},
     "output_type": "display_data"
    },
    {
     "data": {
      "text/html": [
       "<div>\n",
       "<style scoped>\n",
       "    .dataframe tbody tr th:only-of-type {\n",
       "        vertical-align: middle;\n",
       "    }\n",
       "\n",
       "    .dataframe tbody tr th {\n",
       "        vertical-align: top;\n",
       "    }\n",
       "\n",
       "    .dataframe thead th {\n",
       "        text-align: right;\n",
       "    }\n",
       "</style>\n",
       "<table border=\"1\" class=\"dataframe\">\n",
       "  <thead>\n",
       "    <tr style=\"text-align: right;\">\n",
       "      <th></th>\n",
       "      <th>user_id</th>\n",
       "      <th>age</th>\n",
       "      <th>churn_date</th>\n",
       "      <th>city</th>\n",
       "      <th>first_name</th>\n",
       "      <th>last_name</th>\n",
       "      <th>reg_date</th>\n",
       "      <th>tariff</th>\n",
       "    </tr>\n",
       "  </thead>\n",
       "  <tbody>\n",
       "    <tr>\n",
       "      <th>0</th>\n",
       "      <td>1000</td>\n",
       "      <td>52</td>\n",
       "      <td>NaN</td>\n",
       "      <td>Краснодар</td>\n",
       "      <td>Рафаил</td>\n",
       "      <td>Верещагин</td>\n",
       "      <td>2018-05-25</td>\n",
       "      <td>ultra</td>\n",
       "    </tr>\n",
       "    <tr>\n",
       "      <th>1</th>\n",
       "      <td>1001</td>\n",
       "      <td>41</td>\n",
       "      <td>NaN</td>\n",
       "      <td>Москва</td>\n",
       "      <td>Иван</td>\n",
       "      <td>Ежов</td>\n",
       "      <td>2018-11-01</td>\n",
       "      <td>smart</td>\n",
       "    </tr>\n",
       "    <tr>\n",
       "      <th>2</th>\n",
       "      <td>1002</td>\n",
       "      <td>59</td>\n",
       "      <td>NaN</td>\n",
       "      <td>Стерлитамак</td>\n",
       "      <td>Евгений</td>\n",
       "      <td>Абрамович</td>\n",
       "      <td>2018-06-17</td>\n",
       "      <td>smart</td>\n",
       "    </tr>\n",
       "    <tr>\n",
       "      <th>3</th>\n",
       "      <td>1003</td>\n",
       "      <td>23</td>\n",
       "      <td>NaN</td>\n",
       "      <td>Москва</td>\n",
       "      <td>Белла</td>\n",
       "      <td>Белякова</td>\n",
       "      <td>2018-08-17</td>\n",
       "      <td>ultra</td>\n",
       "    </tr>\n",
       "    <tr>\n",
       "      <th>4</th>\n",
       "      <td>1004</td>\n",
       "      <td>68</td>\n",
       "      <td>NaN</td>\n",
       "      <td>Новокузнецк</td>\n",
       "      <td>Татьяна</td>\n",
       "      <td>Авдеенко</td>\n",
       "      <td>2018-05-14</td>\n",
       "      <td>ultra</td>\n",
       "    </tr>\n",
       "    <tr>\n",
       "      <th>...</th>\n",
       "      <td>...</td>\n",
       "      <td>...</td>\n",
       "      <td>...</td>\n",
       "      <td>...</td>\n",
       "      <td>...</td>\n",
       "      <td>...</td>\n",
       "      <td>...</td>\n",
       "      <td>...</td>\n",
       "    </tr>\n",
       "    <tr>\n",
       "      <th>495</th>\n",
       "      <td>1495</td>\n",
       "      <td>65</td>\n",
       "      <td>NaN</td>\n",
       "      <td>Иркутск</td>\n",
       "      <td>Авксентий</td>\n",
       "      <td>Фокин</td>\n",
       "      <td>2018-08-28</td>\n",
       "      <td>ultra</td>\n",
       "    </tr>\n",
       "    <tr>\n",
       "      <th>496</th>\n",
       "      <td>1496</td>\n",
       "      <td>36</td>\n",
       "      <td>NaN</td>\n",
       "      <td>Вологда</td>\n",
       "      <td>Трифон</td>\n",
       "      <td>Блохин</td>\n",
       "      <td>2018-01-27</td>\n",
       "      <td>smart</td>\n",
       "    </tr>\n",
       "    <tr>\n",
       "      <th>497</th>\n",
       "      <td>1497</td>\n",
       "      <td>32</td>\n",
       "      <td>NaN</td>\n",
       "      <td>Челябинск</td>\n",
       "      <td>Каролина</td>\n",
       "      <td>Агеева</td>\n",
       "      <td>2018-10-09</td>\n",
       "      <td>smart</td>\n",
       "    </tr>\n",
       "    <tr>\n",
       "      <th>498</th>\n",
       "      <td>1498</td>\n",
       "      <td>68</td>\n",
       "      <td>2018-10-25</td>\n",
       "      <td>Владикавказ</td>\n",
       "      <td>Всеволод</td>\n",
       "      <td>Акимчин</td>\n",
       "      <td>2018-07-19</td>\n",
       "      <td>smart</td>\n",
       "    </tr>\n",
       "    <tr>\n",
       "      <th>499</th>\n",
       "      <td>1499</td>\n",
       "      <td>35</td>\n",
       "      <td>NaN</td>\n",
       "      <td>Пермь</td>\n",
       "      <td>Гектор</td>\n",
       "      <td>Корнилов</td>\n",
       "      <td>2018-09-27</td>\n",
       "      <td>smart</td>\n",
       "    </tr>\n",
       "  </tbody>\n",
       "</table>\n",
       "<p>500 rows × 8 columns</p>\n",
       "</div>"
      ],
      "text/plain": [
       "     user_id  age  churn_date         city first_name  last_name    reg_date  \\\n",
       "0       1000   52         NaN    Краснодар     Рафаил  Верещагин  2018-05-25   \n",
       "1       1001   41         NaN       Москва       Иван       Ежов  2018-11-01   \n",
       "2       1002   59         NaN  Стерлитамак    Евгений  Абрамович  2018-06-17   \n",
       "3       1003   23         NaN       Москва      Белла   Белякова  2018-08-17   \n",
       "4       1004   68         NaN  Новокузнецк    Татьяна   Авдеенко  2018-05-14   \n",
       "..       ...  ...         ...          ...        ...        ...         ...   \n",
       "495     1495   65         NaN      Иркутск  Авксентий      Фокин  2018-08-28   \n",
       "496     1496   36         NaN      Вологда     Трифон     Блохин  2018-01-27   \n",
       "497     1497   32         NaN    Челябинск   Каролина     Агеева  2018-10-09   \n",
       "498     1498   68  2018-10-25  Владикавказ   Всеволод    Акимчин  2018-07-19   \n",
       "499     1499   35         NaN        Пермь     Гектор   Корнилов  2018-09-27   \n",
       "\n",
       "    tariff  \n",
       "0    ultra  \n",
       "1    smart  \n",
       "2    smart  \n",
       "3    ultra  \n",
       "4    ultra  \n",
       "..     ...  \n",
       "495  ultra  \n",
       "496  smart  \n",
       "497  smart  \n",
       "498  smart  \n",
       "499  smart  \n",
       "\n",
       "[500 rows x 8 columns]"
      ]
     },
     "metadata": {},
     "output_type": "display_data"
    },
    {
     "name": "stdout",
     "output_type": "stream",
     "text": [
      "<class 'pandas.core.frame.DataFrame'>\n",
      "RangeIndex: 500 entries, 0 to 499\n",
      "Data columns (total 8 columns):\n",
      " #   Column      Non-Null Count  Dtype \n",
      "---  ------      --------------  ----- \n",
      " 0   user_id     500 non-null    int64 \n",
      " 1   age         500 non-null    int64 \n",
      " 2   churn_date  38 non-null     object\n",
      " 3   city        500 non-null    object\n",
      " 4   first_name  500 non-null    object\n",
      " 5   last_name   500 non-null    object\n",
      " 6   reg_date    500 non-null    object\n",
      " 7   tariff      500 non-null    object\n",
      "dtypes: int64(2), object(6)\n",
      "memory usage: 31.4+ KB\n"
     ]
    },
    {
     "data": {
      "text/plain": [
       "None"
      ]
     },
     "metadata": {},
     "output_type": "display_data"
    }
   ],
   "source": [
    "datasets = [calls, internet, messages, tariffs, users]\n",
    "\n",
    "for dataset in datasets:\n",
    "    display(dataset)\n",
    "    display(dataset.info())"
   ]
  },
  {
   "cell_type": "markdown",
   "metadata": {},
   "source": [
    "### Вывод"
   ]
  },
  {
   "cell_type": "markdown",
   "metadata": {},
   "source": [
    "Из проведенного обзора данных можно сделать следующие выводы:\n",
    " * Столбцы по всем выборкам соответствуют snake_case.\n",
    " * В данных нет пропущенных значений, за иключением колонки *`churn_date`* в датасете *`Users`*.\n",
    " * Типы данные соответствуют ожиданиям, за исключением колонок в различных датасетах с датами. Их необходимо будет привести к формату *`datetime`*.\n",
    "\n",
    "Описание данных:\n",
    "1. Таблица `users` (информация о пользователях):\n",
    "   * `user_id` — уникальный идентификатор пользователя\n",
    "   * `first_name` — имя пользователя\n",
    "   * `last_name` — фамилия пользователя\n",
    "   * `age` — возраст пользователя (годы)\n",
    "   * `reg_date` — дата подключения тарифа (день, месяц, год)\n",
    "   * `churn_date` — дата прекращения пользования тарифом (если значение пропущено, то тариф ещё действовал на момент выгрузки данных)\n",
    "   * `city` — город проживания пользователя\n",
    "   * `tariff` — название тарифного плана\n",
    "2. Таблица `calls` (информация о звонках):\n",
    "   * `id` — уникальный номер звонка\n",
    "   * `call_date` — дата звонка\n",
    "   * `duration` — длительность звонка в минутах\n",
    "   * `user_id` — идентификатор пользователя, сделавшего звонок\n",
    "3. Таблица `messages` (информация о сообщениях):\n",
    "   * `id` — уникальный номер сообщения\n",
    "   * `message_date` — дата сообщения\n",
    "   * `user_id` — идентификатор пользователя, отправившего сообщение\n",
    "4. Таблица `internet` (информация об интернет-сессиях):\n",
    "   * `id` — уникальный номер сессии\n",
    "   * `mb_used` — объём потраченного за сессию интернет-трафика (в мегабайтах)\n",
    "   * `session_date` — дата интернет-сессии\n",
    "   * `user_id` — идентификатор пользователя\n",
    "5. Таблица `tariffs` (информация о тарифах):\n",
    "   * `tariff_name` — название тарифа\n",
    "   * `rub_monthly_fee` — ежемесячная абонентская плата в рублях\n",
    "   * `minutes_included` — количество минут разговора в месяц, включённых в абонентскую плату\n",
    "   * `messages_included` — количество сообщений в месяц, включённых в абонентскую плату\n",
    "   * `mb_per_month_included` — объём интернет-трафика, включённого в абонентскую плату (в мегабайтах)\n",
    "   * `rub_per_minute` — стоимость минуты разговора сверх тарифного пакета (например, если в тарифе 100 минут разговора в месяц, то со 101 м`нуты будет взиматься плата)\n",
    "   * `rub_per_message` — стоимость отправки сообщения сверх тарифного пакета\n",
    "   * `rub_per_gb` — стоимость дополнительного гигабайта интернет-трафика сверх тарифного пакета (1 гигабайт = 1024 мегабайта)"
   ]
  },
  {
   "cell_type": "markdown",
   "metadata": {},
   "source": [
    "## Предобработка данных"
   ]
  },
  {
   "cell_type": "markdown",
   "metadata": {},
   "source": [
    "### Изменение типов данных"
   ]
  },
  {
   "cell_type": "markdown",
   "metadata": {},
   "source": [
    "Изменим тип данных столбцов *`churn_date`, `reg_date`, `message_date`, `session_date`, `call_date`* с *`object`* на *`datetime`*."
   ]
  },
  {
   "cell_type": "code",
   "execution_count": 4,
   "metadata": {
    "ExecuteTime": {
     "end_time": "2023-02-11T21:43:28.282513Z",
     "start_time": "2023-02-11T21:43:28.054686Z"
    }
   },
   "outputs": [],
   "source": [
    "# Датасеты и их столбцы для приведения к формату datetime\n",
    "reduction_to_datetime = {'churn_date': users,\n",
    "                         'reg_date': users,\n",
    "                         'message_date': messages,\n",
    "                         'session_date': internet,\n",
    "                         'call_date': calls}\n",
    "\n",
    "# Цикл для перебора столбцов и замены object на datetime\n",
    "for column, df in reduction_to_datetime.items():\n",
    "    df[column] = pd.to_datetime(df[column], format='%Y-%m-%d')"
   ]
  },
  {
   "cell_type": "markdown",
   "metadata": {},
   "source": [
    "Проверим внесенные изменения."
   ]
  },
  {
   "cell_type": "code",
   "execution_count": 5,
   "metadata": {
    "ExecuteTime": {
     "end_time": "2023-02-11T21:43:28.313729Z",
     "start_time": "2023-02-11T21:43:28.284508Z"
    },
    "scrolled": true
   },
   "outputs": [
    {
     "data": {
      "text/plain": [
       "user_id                int64\n",
       "age                    int64\n",
       "churn_date    datetime64[ns]\n",
       "city                  object\n",
       "first_name            object\n",
       "last_name             object\n",
       "reg_date      datetime64[ns]\n",
       "tariff                object\n",
       "dtype: object"
      ]
     },
     "metadata": {},
     "output_type": "display_data"
    },
    {
     "data": {
      "text/plain": [
       "id                      object\n",
       "message_date    datetime64[ns]\n",
       "user_id                  int64\n",
       "dtype: object"
      ]
     },
     "metadata": {},
     "output_type": "display_data"
    },
    {
     "data": {
      "text/plain": [
       "Unnamed: 0               int64\n",
       "id                      object\n",
       "mb_used                float64\n",
       "session_date    datetime64[ns]\n",
       "user_id                  int64\n",
       "dtype: object"
      ]
     },
     "metadata": {},
     "output_type": "display_data"
    },
    {
     "data": {
      "text/plain": [
       "id                   object\n",
       "call_date    datetime64[ns]\n",
       "duration            float64\n",
       "user_id               int64\n",
       "dtype: object"
      ]
     },
     "metadata": {},
     "output_type": "display_data"
    }
   ],
   "source": [
    "datasets = [users, messages, internet, calls]\n",
    "\n",
    "for dataset in datasets:\n",
    "    display(dataset.dtypes)\n",
    "    display()"
   ]
  },
  {
   "cell_type": "markdown",
   "metadata": {},
   "source": [
    "Форматы колонок изменены корректно."
   ]
  },
  {
   "cell_type": "markdown",
   "metadata": {},
   "source": [
    "### Проверка на пропуски"
   ]
  },
  {
   "cell_type": "markdown",
   "metadata": {},
   "source": [
    "Проверим данные на NAN значения по столбцам датасета *users*."
   ]
  },
  {
   "cell_type": "code",
   "execution_count": 6,
   "metadata": {
    "ExecuteTime": {
     "end_time": "2023-02-11T21:43:28.329057Z",
     "start_time": "2023-02-11T21:43:28.315724Z"
    }
   },
   "outputs": [
    {
     "data": {
      "text/plain": [
       "user_id         0\n",
       "age             0\n",
       "churn_date    462\n",
       "city            0\n",
       "first_name      0\n",
       "last_name       0\n",
       "reg_date        0\n",
       "tariff          0\n",
       "dtype: int64"
      ]
     },
     "execution_count": 6,
     "metadata": {},
     "output_type": "execute_result"
    }
   ],
   "source": [
    "users.isna().sum()"
   ]
  },
  {
   "cell_type": "markdown",
   "metadata": {},
   "source": [
    "Из проведенной проверки видно, что `NAN` значения имеются только в колонке *`churn_dat`e*. *`Churn_date`* означает дату окончания пользования тарифом. Т.к. для дальшейнего исследовательского анализа и проверки гипотез нам данная информация не нужна, поэтому принято решение не прозводить заполнение данных по данному столбцу."
   ]
  },
  {
   "cell_type": "markdown",
   "metadata": {},
   "source": [
    "### Подготовка данных"
   ]
  },
  {
   "cell_type": "markdown",
   "metadata": {},
   "source": [
    "Подготовим данные к анализу - добавим в датасеты *`calls`, `messages`, `internet`* стобцы с месяцами."
   ]
  },
  {
   "cell_type": "code",
   "execution_count": 7,
   "metadata": {
    "ExecuteTime": {
     "end_time": "2023-02-11T21:43:28.407852Z",
     "start_time": "2023-02-11T21:43:28.332049Z"
    }
   },
   "outputs": [],
   "source": [
    "# Выедление месяца из датасетов в отдельную колонку\n",
    "calls['month'] = calls[\"call_date\"].dt.month\n",
    "messages['month'] = messages[\"message_date\"].dt.month\n",
    "internet['month'] = internet['session_date'].dt.month"
   ]
  },
  {
   "cell_type": "code",
   "execution_count": 8,
   "metadata": {
    "ExecuteTime": {
     "end_time": "2023-02-11T21:43:28.455367Z",
     "start_time": "2023-02-11T21:43:28.409840Z"
    },
    "scrolled": true
   },
   "outputs": [
    {
     "data": {
      "text/html": [
       "<div>\n",
       "<style scoped>\n",
       "    .dataframe tbody tr th:only-of-type {\n",
       "        vertical-align: middle;\n",
       "    }\n",
       "\n",
       "    .dataframe tbody tr th {\n",
       "        vertical-align: top;\n",
       "    }\n",
       "\n",
       "    .dataframe thead th {\n",
       "        text-align: right;\n",
       "    }\n",
       "</style>\n",
       "<table border=\"1\" class=\"dataframe\">\n",
       "  <thead>\n",
       "    <tr style=\"text-align: right;\">\n",
       "      <th></th>\n",
       "      <th>id</th>\n",
       "      <th>call_date</th>\n",
       "      <th>duration</th>\n",
       "      <th>user_id</th>\n",
       "      <th>month</th>\n",
       "    </tr>\n",
       "  </thead>\n",
       "  <tbody>\n",
       "    <tr>\n",
       "      <th>0</th>\n",
       "      <td>1000_0</td>\n",
       "      <td>2018-07-25</td>\n",
       "      <td>0.00</td>\n",
       "      <td>1000</td>\n",
       "      <td>7</td>\n",
       "    </tr>\n",
       "    <tr>\n",
       "      <th>1</th>\n",
       "      <td>1000_1</td>\n",
       "      <td>2018-08-17</td>\n",
       "      <td>0.00</td>\n",
       "      <td>1000</td>\n",
       "      <td>8</td>\n",
       "    </tr>\n",
       "    <tr>\n",
       "      <th>2</th>\n",
       "      <td>1000_2</td>\n",
       "      <td>2018-06-11</td>\n",
       "      <td>2.85</td>\n",
       "      <td>1000</td>\n",
       "      <td>6</td>\n",
       "    </tr>\n",
       "    <tr>\n",
       "      <th>3</th>\n",
       "      <td>1000_3</td>\n",
       "      <td>2018-09-21</td>\n",
       "      <td>13.80</td>\n",
       "      <td>1000</td>\n",
       "      <td>9</td>\n",
       "    </tr>\n",
       "    <tr>\n",
       "      <th>4</th>\n",
       "      <td>1000_4</td>\n",
       "      <td>2018-12-15</td>\n",
       "      <td>5.18</td>\n",
       "      <td>1000</td>\n",
       "      <td>12</td>\n",
       "    </tr>\n",
       "    <tr>\n",
       "      <th>5</th>\n",
       "      <td>1000_5</td>\n",
       "      <td>2018-11-02</td>\n",
       "      <td>0.00</td>\n",
       "      <td>1000</td>\n",
       "      <td>11</td>\n",
       "    </tr>\n",
       "    <tr>\n",
       "      <th>6</th>\n",
       "      <td>1000_6</td>\n",
       "      <td>2018-10-18</td>\n",
       "      <td>0.00</td>\n",
       "      <td>1000</td>\n",
       "      <td>10</td>\n",
       "    </tr>\n",
       "    <tr>\n",
       "      <th>7</th>\n",
       "      <td>1000_7</td>\n",
       "      <td>2018-08-22</td>\n",
       "      <td>18.31</td>\n",
       "      <td>1000</td>\n",
       "      <td>8</td>\n",
       "    </tr>\n",
       "    <tr>\n",
       "      <th>8</th>\n",
       "      <td>1000_8</td>\n",
       "      <td>2018-09-15</td>\n",
       "      <td>18.44</td>\n",
       "      <td>1000</td>\n",
       "      <td>9</td>\n",
       "    </tr>\n",
       "    <tr>\n",
       "      <th>9</th>\n",
       "      <td>1000_9</td>\n",
       "      <td>2018-08-15</td>\n",
       "      <td>0.00</td>\n",
       "      <td>1000</td>\n",
       "      <td>8</td>\n",
       "    </tr>\n",
       "    <tr>\n",
       "      <th>10</th>\n",
       "      <td>1000_10</td>\n",
       "      <td>2018-08-22</td>\n",
       "      <td>5.03</td>\n",
       "      <td>1000</td>\n",
       "      <td>8</td>\n",
       "    </tr>\n",
       "    <tr>\n",
       "      <th>11</th>\n",
       "      <td>1000_11</td>\n",
       "      <td>2018-05-28</td>\n",
       "      <td>18.82</td>\n",
       "      <td>1000</td>\n",
       "      <td>5</td>\n",
       "    </tr>\n",
       "  </tbody>\n",
       "</table>\n",
       "</div>"
      ],
      "text/plain": [
       "         id  call_date  duration  user_id  month\n",
       "0    1000_0 2018-07-25      0.00     1000      7\n",
       "1    1000_1 2018-08-17      0.00     1000      8\n",
       "2    1000_2 2018-06-11      2.85     1000      6\n",
       "3    1000_3 2018-09-21     13.80     1000      9\n",
       "4    1000_4 2018-12-15      5.18     1000     12\n",
       "5    1000_5 2018-11-02      0.00     1000     11\n",
       "6    1000_6 2018-10-18      0.00     1000     10\n",
       "7    1000_7 2018-08-22     18.31     1000      8\n",
       "8    1000_8 2018-09-15     18.44     1000      9\n",
       "9    1000_9 2018-08-15      0.00     1000      8\n",
       "10  1000_10 2018-08-22      5.03     1000      8\n",
       "11  1000_11 2018-05-28     18.82     1000      5"
      ]
     },
     "metadata": {},
     "output_type": "display_data"
    },
    {
     "data": {
      "text/html": [
       "<div>\n",
       "<style scoped>\n",
       "    .dataframe tbody tr th:only-of-type {\n",
       "        vertical-align: middle;\n",
       "    }\n",
       "\n",
       "    .dataframe tbody tr th {\n",
       "        vertical-align: top;\n",
       "    }\n",
       "\n",
       "    .dataframe thead th {\n",
       "        text-align: right;\n",
       "    }\n",
       "</style>\n",
       "<table border=\"1\" class=\"dataframe\">\n",
       "  <thead>\n",
       "    <tr style=\"text-align: right;\">\n",
       "      <th></th>\n",
       "      <th>id</th>\n",
       "      <th>message_date</th>\n",
       "      <th>user_id</th>\n",
       "      <th>month</th>\n",
       "    </tr>\n",
       "  </thead>\n",
       "  <tbody>\n",
       "    <tr>\n",
       "      <th>0</th>\n",
       "      <td>1000_0</td>\n",
       "      <td>2018-06-27</td>\n",
       "      <td>1000</td>\n",
       "      <td>6</td>\n",
       "    </tr>\n",
       "    <tr>\n",
       "      <th>1</th>\n",
       "      <td>1000_1</td>\n",
       "      <td>2018-10-08</td>\n",
       "      <td>1000</td>\n",
       "      <td>10</td>\n",
       "    </tr>\n",
       "    <tr>\n",
       "      <th>2</th>\n",
       "      <td>1000_2</td>\n",
       "      <td>2018-08-04</td>\n",
       "      <td>1000</td>\n",
       "      <td>8</td>\n",
       "    </tr>\n",
       "    <tr>\n",
       "      <th>3</th>\n",
       "      <td>1000_3</td>\n",
       "      <td>2018-06-16</td>\n",
       "      <td>1000</td>\n",
       "      <td>6</td>\n",
       "    </tr>\n",
       "    <tr>\n",
       "      <th>4</th>\n",
       "      <td>1000_4</td>\n",
       "      <td>2018-12-05</td>\n",
       "      <td>1000</td>\n",
       "      <td>12</td>\n",
       "    </tr>\n",
       "    <tr>\n",
       "      <th>5</th>\n",
       "      <td>1000_5</td>\n",
       "      <td>2018-06-20</td>\n",
       "      <td>1000</td>\n",
       "      <td>6</td>\n",
       "    </tr>\n",
       "    <tr>\n",
       "      <th>6</th>\n",
       "      <td>1000_6</td>\n",
       "      <td>2018-11-19</td>\n",
       "      <td>1000</td>\n",
       "      <td>11</td>\n",
       "    </tr>\n",
       "    <tr>\n",
       "      <th>7</th>\n",
       "      <td>1000_7</td>\n",
       "      <td>2018-10-29</td>\n",
       "      <td>1000</td>\n",
       "      <td>10</td>\n",
       "    </tr>\n",
       "    <tr>\n",
       "      <th>8</th>\n",
       "      <td>1000_8</td>\n",
       "      <td>2018-06-25</td>\n",
       "      <td>1000</td>\n",
       "      <td>6</td>\n",
       "    </tr>\n",
       "    <tr>\n",
       "      <th>9</th>\n",
       "      <td>1000_9</td>\n",
       "      <td>2018-12-18</td>\n",
       "      <td>1000</td>\n",
       "      <td>12</td>\n",
       "    </tr>\n",
       "    <tr>\n",
       "      <th>10</th>\n",
       "      <td>1000_10</td>\n",
       "      <td>2018-05-30</td>\n",
       "      <td>1000</td>\n",
       "      <td>5</td>\n",
       "    </tr>\n",
       "    <tr>\n",
       "      <th>11</th>\n",
       "      <td>1000_11</td>\n",
       "      <td>2018-07-06</td>\n",
       "      <td>1000</td>\n",
       "      <td>7</td>\n",
       "    </tr>\n",
       "  </tbody>\n",
       "</table>\n",
       "</div>"
      ],
      "text/plain": [
       "         id message_date  user_id  month\n",
       "0    1000_0   2018-06-27     1000      6\n",
       "1    1000_1   2018-10-08     1000     10\n",
       "2    1000_2   2018-08-04     1000      8\n",
       "3    1000_3   2018-06-16     1000      6\n",
       "4    1000_4   2018-12-05     1000     12\n",
       "5    1000_5   2018-06-20     1000      6\n",
       "6    1000_6   2018-11-19     1000     11\n",
       "7    1000_7   2018-10-29     1000     10\n",
       "8    1000_8   2018-06-25     1000      6\n",
       "9    1000_9   2018-12-18     1000     12\n",
       "10  1000_10   2018-05-30     1000      5\n",
       "11  1000_11   2018-07-06     1000      7"
      ]
     },
     "metadata": {},
     "output_type": "display_data"
    },
    {
     "data": {
      "text/html": [
       "<div>\n",
       "<style scoped>\n",
       "    .dataframe tbody tr th:only-of-type {\n",
       "        vertical-align: middle;\n",
       "    }\n",
       "\n",
       "    .dataframe tbody tr th {\n",
       "        vertical-align: top;\n",
       "    }\n",
       "\n",
       "    .dataframe thead th {\n",
       "        text-align: right;\n",
       "    }\n",
       "</style>\n",
       "<table border=\"1\" class=\"dataframe\">\n",
       "  <thead>\n",
       "    <tr style=\"text-align: right;\">\n",
       "      <th></th>\n",
       "      <th>Unnamed: 0</th>\n",
       "      <th>id</th>\n",
       "      <th>mb_used</th>\n",
       "      <th>session_date</th>\n",
       "      <th>user_id</th>\n",
       "      <th>month</th>\n",
       "    </tr>\n",
       "  </thead>\n",
       "  <tbody>\n",
       "    <tr>\n",
       "      <th>0</th>\n",
       "      <td>0</td>\n",
       "      <td>1000_0</td>\n",
       "      <td>112.95</td>\n",
       "      <td>2018-11-25</td>\n",
       "      <td>1000</td>\n",
       "      <td>11</td>\n",
       "    </tr>\n",
       "    <tr>\n",
       "      <th>1</th>\n",
       "      <td>1</td>\n",
       "      <td>1000_1</td>\n",
       "      <td>1052.81</td>\n",
       "      <td>2018-09-07</td>\n",
       "      <td>1000</td>\n",
       "      <td>9</td>\n",
       "    </tr>\n",
       "    <tr>\n",
       "      <th>2</th>\n",
       "      <td>2</td>\n",
       "      <td>1000_2</td>\n",
       "      <td>1197.26</td>\n",
       "      <td>2018-06-25</td>\n",
       "      <td>1000</td>\n",
       "      <td>6</td>\n",
       "    </tr>\n",
       "    <tr>\n",
       "      <th>3</th>\n",
       "      <td>3</td>\n",
       "      <td>1000_3</td>\n",
       "      <td>550.27</td>\n",
       "      <td>2018-08-22</td>\n",
       "      <td>1000</td>\n",
       "      <td>8</td>\n",
       "    </tr>\n",
       "    <tr>\n",
       "      <th>4</th>\n",
       "      <td>4</td>\n",
       "      <td>1000_4</td>\n",
       "      <td>302.56</td>\n",
       "      <td>2018-09-24</td>\n",
       "      <td>1000</td>\n",
       "      <td>9</td>\n",
       "    </tr>\n",
       "    <tr>\n",
       "      <th>5</th>\n",
       "      <td>5</td>\n",
       "      <td>1000_5</td>\n",
       "      <td>399.97</td>\n",
       "      <td>2018-10-02</td>\n",
       "      <td>1000</td>\n",
       "      <td>10</td>\n",
       "    </tr>\n",
       "    <tr>\n",
       "      <th>6</th>\n",
       "      <td>6</td>\n",
       "      <td>1000_6</td>\n",
       "      <td>540.08</td>\n",
       "      <td>2018-09-07</td>\n",
       "      <td>1000</td>\n",
       "      <td>9</td>\n",
       "    </tr>\n",
       "    <tr>\n",
       "      <th>7</th>\n",
       "      <td>7</td>\n",
       "      <td>1000_7</td>\n",
       "      <td>415.70</td>\n",
       "      <td>2018-07-11</td>\n",
       "      <td>1000</td>\n",
       "      <td>7</td>\n",
       "    </tr>\n",
       "    <tr>\n",
       "      <th>8</th>\n",
       "      <td>8</td>\n",
       "      <td>1000_8</td>\n",
       "      <td>505.40</td>\n",
       "      <td>2018-10-08</td>\n",
       "      <td>1000</td>\n",
       "      <td>10</td>\n",
       "    </tr>\n",
       "    <tr>\n",
       "      <th>9</th>\n",
       "      <td>9</td>\n",
       "      <td>1000_9</td>\n",
       "      <td>345.54</td>\n",
       "      <td>2018-09-03</td>\n",
       "      <td>1000</td>\n",
       "      <td>9</td>\n",
       "    </tr>\n",
       "    <tr>\n",
       "      <th>10</th>\n",
       "      <td>10</td>\n",
       "      <td>1000_10</td>\n",
       "      <td>385.14</td>\n",
       "      <td>2018-09-27</td>\n",
       "      <td>1000</td>\n",
       "      <td>9</td>\n",
       "    </tr>\n",
       "    <tr>\n",
       "      <th>11</th>\n",
       "      <td>11</td>\n",
       "      <td>1000_11</td>\n",
       "      <td>0.00</td>\n",
       "      <td>2018-08-28</td>\n",
       "      <td>1000</td>\n",
       "      <td>8</td>\n",
       "    </tr>\n",
       "  </tbody>\n",
       "</table>\n",
       "</div>"
      ],
      "text/plain": [
       "    Unnamed: 0       id  mb_used session_date  user_id  month\n",
       "0            0   1000_0   112.95   2018-11-25     1000     11\n",
       "1            1   1000_1  1052.81   2018-09-07     1000      9\n",
       "2            2   1000_2  1197.26   2018-06-25     1000      6\n",
       "3            3   1000_3   550.27   2018-08-22     1000      8\n",
       "4            4   1000_4   302.56   2018-09-24     1000      9\n",
       "5            5   1000_5   399.97   2018-10-02     1000     10\n",
       "6            6   1000_6   540.08   2018-09-07     1000      9\n",
       "7            7   1000_7   415.70   2018-07-11     1000      7\n",
       "8            8   1000_8   505.40   2018-10-08     1000     10\n",
       "9            9   1000_9   345.54   2018-09-03     1000      9\n",
       "10          10  1000_10   385.14   2018-09-27     1000      9\n",
       "11          11  1000_11     0.00   2018-08-28     1000      8"
      ]
     },
     "metadata": {},
     "output_type": "display_data"
    }
   ],
   "source": [
    "datasets = [calls, messages, internet]\n",
    "\n",
    "for dataset in datasets:\n",
    "    display(dataset.head(12))\n",
    "    display()"
   ]
  },
  {
   "cell_type": "markdown",
   "metadata": {},
   "source": [
    "Столбцы с месяцами дабавлены."
   ]
  },
  {
   "cell_type": "markdown",
   "metadata": {},
   "source": [
    "Подсчитаем следующие показатели:\n",
    " * количество сделанных звонков и израсходованных минут разговора по месяцам;\n",
    " * количество отправленных сообщений по месяцам;\n",
    " * объем израсходованного интернет-трафика по месяцам."
   ]
  },
  {
   "cell_type": "code",
   "execution_count": 9,
   "metadata": {
    "ExecuteTime": {
     "end_time": "2023-02-11T21:43:28.566074Z",
     "start_time": "2023-02-11T21:43:28.457363Z"
    }
   },
   "outputs": [
    {
     "data": {
      "text/html": [
       "<div>\n",
       "<style scoped>\n",
       "    .dataframe tbody tr th:only-of-type {\n",
       "        vertical-align: middle;\n",
       "    }\n",
       "\n",
       "    .dataframe tbody tr th {\n",
       "        vertical-align: top;\n",
       "    }\n",
       "\n",
       "    .dataframe thead th {\n",
       "        text-align: right;\n",
       "    }\n",
       "</style>\n",
       "<table border=\"1\" class=\"dataframe\">\n",
       "  <thead>\n",
       "    <tr style=\"text-align: right;\">\n",
       "      <th></th>\n",
       "      <th>id</th>\n",
       "      <th>call_date</th>\n",
       "      <th>duration</th>\n",
       "      <th>user_id</th>\n",
       "      <th>month</th>\n",
       "    </tr>\n",
       "  </thead>\n",
       "  <tbody>\n",
       "    <tr>\n",
       "      <th>0</th>\n",
       "      <td>1000_0</td>\n",
       "      <td>2018-07-25</td>\n",
       "      <td>0</td>\n",
       "      <td>1000</td>\n",
       "      <td>7</td>\n",
       "    </tr>\n",
       "    <tr>\n",
       "      <th>1</th>\n",
       "      <td>1000_1</td>\n",
       "      <td>2018-08-17</td>\n",
       "      <td>0</td>\n",
       "      <td>1000</td>\n",
       "      <td>8</td>\n",
       "    </tr>\n",
       "    <tr>\n",
       "      <th>2</th>\n",
       "      <td>1000_2</td>\n",
       "      <td>2018-06-11</td>\n",
       "      <td>3</td>\n",
       "      <td>1000</td>\n",
       "      <td>6</td>\n",
       "    </tr>\n",
       "    <tr>\n",
       "      <th>3</th>\n",
       "      <td>1000_3</td>\n",
       "      <td>2018-09-21</td>\n",
       "      <td>14</td>\n",
       "      <td>1000</td>\n",
       "      <td>9</td>\n",
       "    </tr>\n",
       "    <tr>\n",
       "      <th>4</th>\n",
       "      <td>1000_4</td>\n",
       "      <td>2018-12-15</td>\n",
       "      <td>6</td>\n",
       "      <td>1000</td>\n",
       "      <td>12</td>\n",
       "    </tr>\n",
       "  </tbody>\n",
       "</table>\n",
       "</div>"
      ],
      "text/plain": [
       "       id  call_date  duration  user_id  month\n",
       "0  1000_0 2018-07-25         0     1000      7\n",
       "1  1000_1 2018-08-17         0     1000      8\n",
       "2  1000_2 2018-06-11         3     1000      6\n",
       "3  1000_3 2018-09-21        14     1000      9\n",
       "4  1000_4 2018-12-15         6     1000     12"
      ]
     },
     "execution_count": 9,
     "metadata": {},
     "output_type": "execute_result"
    }
   ],
   "source": [
    "calls['duration'] = calls['duration'].apply(math.ceil)\n",
    "calls.head()"
   ]
  },
  {
   "cell_type": "code",
   "execution_count": 10,
   "metadata": {
    "ExecuteTime": {
     "end_time": "2023-02-11T21:43:28.766247Z",
     "start_time": "2023-02-11T21:43:28.568075Z"
    }
   },
   "outputs": [
    {
     "data": {
      "text/html": [
       "<div>\n",
       "<style scoped>\n",
       "    .dataframe tbody tr th:only-of-type {\n",
       "        vertical-align: middle;\n",
       "    }\n",
       "\n",
       "    .dataframe tbody tr th {\n",
       "        vertical-align: top;\n",
       "    }\n",
       "\n",
       "    .dataframe thead th {\n",
       "        text-align: right;\n",
       "    }\n",
       "</style>\n",
       "<table border=\"1\" class=\"dataframe\">\n",
       "  <thead>\n",
       "    <tr style=\"text-align: right;\">\n",
       "      <th></th>\n",
       "      <th>user_id</th>\n",
       "      <th>month</th>\n",
       "      <th>len</th>\n",
       "      <th>sum</th>\n",
       "    </tr>\n",
       "  </thead>\n",
       "  <tbody>\n",
       "    <tr>\n",
       "      <th>0</th>\n",
       "      <td>1000</td>\n",
       "      <td>5</td>\n",
       "      <td>22</td>\n",
       "      <td>159</td>\n",
       "    </tr>\n",
       "    <tr>\n",
       "      <th>1</th>\n",
       "      <td>1000</td>\n",
       "      <td>6</td>\n",
       "      <td>43</td>\n",
       "      <td>172</td>\n",
       "    </tr>\n",
       "    <tr>\n",
       "      <th>2</th>\n",
       "      <td>1000</td>\n",
       "      <td>7</td>\n",
       "      <td>47</td>\n",
       "      <td>340</td>\n",
       "    </tr>\n",
       "    <tr>\n",
       "      <th>3</th>\n",
       "      <td>1000</td>\n",
       "      <td>8</td>\n",
       "      <td>52</td>\n",
       "      <td>408</td>\n",
       "    </tr>\n",
       "    <tr>\n",
       "      <th>4</th>\n",
       "      <td>1000</td>\n",
       "      <td>9</td>\n",
       "      <td>58</td>\n",
       "      <td>466</td>\n",
       "    </tr>\n",
       "    <tr>\n",
       "      <th>...</th>\n",
       "      <td>...</td>\n",
       "      <td>...</td>\n",
       "      <td>...</td>\n",
       "      <td>...</td>\n",
       "    </tr>\n",
       "    <tr>\n",
       "      <th>3169</th>\n",
       "      <td>1498</td>\n",
       "      <td>10</td>\n",
       "      <td>41</td>\n",
       "      <td>247</td>\n",
       "    </tr>\n",
       "    <tr>\n",
       "      <th>3170</th>\n",
       "      <td>1499</td>\n",
       "      <td>9</td>\n",
       "      <td>9</td>\n",
       "      <td>70</td>\n",
       "    </tr>\n",
       "    <tr>\n",
       "      <th>3171</th>\n",
       "      <td>1499</td>\n",
       "      <td>10</td>\n",
       "      <td>68</td>\n",
       "      <td>449</td>\n",
       "    </tr>\n",
       "    <tr>\n",
       "      <th>3172</th>\n",
       "      <td>1499</td>\n",
       "      <td>11</td>\n",
       "      <td>74</td>\n",
       "      <td>612</td>\n",
       "    </tr>\n",
       "    <tr>\n",
       "      <th>3173</th>\n",
       "      <td>1499</td>\n",
       "      <td>12</td>\n",
       "      <td>69</td>\n",
       "      <td>492</td>\n",
       "    </tr>\n",
       "  </tbody>\n",
       "</table>\n",
       "<p>3174 rows × 4 columns</p>\n",
       "</div>"
      ],
      "text/plain": [
       "      user_id  month  len  sum\n",
       "0        1000      5   22  159\n",
       "1        1000      6   43  172\n",
       "2        1000      7   47  340\n",
       "3        1000      8   52  408\n",
       "4        1000      9   58  466\n",
       "...       ...    ...  ...  ...\n",
       "3169     1498     10   41  247\n",
       "3170     1499      9    9   70\n",
       "3171     1499     10   68  449\n",
       "3172     1499     11   74  612\n",
       "3173     1499     12   69  492\n",
       "\n",
       "[3174 rows x 4 columns]"
      ]
     },
     "execution_count": 10,
     "metadata": {},
     "output_type": "execute_result"
    }
   ],
   "source": [
    "# Подсчет количество сделанных звонков и израсходованных минут по месяцам\n",
    "calls_df = (calls.pivot_table(index=['user_id', 'month'],\n",
    "                             values='duration',\n",
    "                             aggfunc=[len, np.sum])\n",
    "                .reset_index())\n",
    "calls_df.columns = calls_df.columns.droplevel(1)\n",
    "calls_df"
   ]
  },
  {
   "cell_type": "code",
   "execution_count": 11,
   "metadata": {
    "ExecuteTime": {
     "end_time": "2023-02-11T21:43:28.924158Z",
     "start_time": "2023-02-11T21:43:28.768244Z"
    }
   },
   "outputs": [
    {
     "data": {
      "text/html": [
       "<div>\n",
       "<style scoped>\n",
       "    .dataframe tbody tr th:only-of-type {\n",
       "        vertical-align: middle;\n",
       "    }\n",
       "\n",
       "    .dataframe tbody tr th {\n",
       "        vertical-align: top;\n",
       "    }\n",
       "\n",
       "    .dataframe thead th {\n",
       "        text-align: right;\n",
       "    }\n",
       "</style>\n",
       "<table border=\"1\" class=\"dataframe\">\n",
       "  <thead>\n",
       "    <tr style=\"text-align: right;\">\n",
       "      <th></th>\n",
       "      <th>user_id</th>\n",
       "      <th>month</th>\n",
       "      <th>message_date</th>\n",
       "    </tr>\n",
       "  </thead>\n",
       "  <tbody>\n",
       "    <tr>\n",
       "      <th>0</th>\n",
       "      <td>1000</td>\n",
       "      <td>5</td>\n",
       "      <td>22</td>\n",
       "    </tr>\n",
       "    <tr>\n",
       "      <th>1</th>\n",
       "      <td>1000</td>\n",
       "      <td>6</td>\n",
       "      <td>60</td>\n",
       "    </tr>\n",
       "    <tr>\n",
       "      <th>2</th>\n",
       "      <td>1000</td>\n",
       "      <td>7</td>\n",
       "      <td>75</td>\n",
       "    </tr>\n",
       "    <tr>\n",
       "      <th>3</th>\n",
       "      <td>1000</td>\n",
       "      <td>8</td>\n",
       "      <td>81</td>\n",
       "    </tr>\n",
       "    <tr>\n",
       "      <th>4</th>\n",
       "      <td>1000</td>\n",
       "      <td>9</td>\n",
       "      <td>57</td>\n",
       "    </tr>\n",
       "    <tr>\n",
       "      <th>...</th>\n",
       "      <td>...</td>\n",
       "      <td>...</td>\n",
       "      <td>...</td>\n",
       "    </tr>\n",
       "    <tr>\n",
       "      <th>2712</th>\n",
       "      <td>1498</td>\n",
       "      <td>10</td>\n",
       "      <td>42</td>\n",
       "    </tr>\n",
       "    <tr>\n",
       "      <th>2713</th>\n",
       "      <td>1499</td>\n",
       "      <td>9</td>\n",
       "      <td>11</td>\n",
       "    </tr>\n",
       "    <tr>\n",
       "      <th>2714</th>\n",
       "      <td>1499</td>\n",
       "      <td>10</td>\n",
       "      <td>48</td>\n",
       "    </tr>\n",
       "    <tr>\n",
       "      <th>2715</th>\n",
       "      <td>1499</td>\n",
       "      <td>11</td>\n",
       "      <td>59</td>\n",
       "    </tr>\n",
       "    <tr>\n",
       "      <th>2716</th>\n",
       "      <td>1499</td>\n",
       "      <td>12</td>\n",
       "      <td>66</td>\n",
       "    </tr>\n",
       "  </tbody>\n",
       "</table>\n",
       "<p>2717 rows × 3 columns</p>\n",
       "</div>"
      ],
      "text/plain": [
       "      user_id  month  message_date\n",
       "0        1000      5            22\n",
       "1        1000      6            60\n",
       "2        1000      7            75\n",
       "3        1000      8            81\n",
       "4        1000      9            57\n",
       "...       ...    ...           ...\n",
       "2712     1498     10            42\n",
       "2713     1499      9            11\n",
       "2714     1499     10            48\n",
       "2715     1499     11            59\n",
       "2716     1499     12            66\n",
       "\n",
       "[2717 rows x 3 columns]"
      ]
     },
     "execution_count": 11,
     "metadata": {},
     "output_type": "execute_result"
    }
   ],
   "source": [
    "# Подсчет количества отправленных смс по месяцам\n",
    "message_df = (messages.pivot_table(index=['user_id', 'month'],\n",
    "                                  values='message_date',\n",
    "                                  aggfunc=len)\n",
    "                     .reset_index())\n",
    "message_df"
   ]
  },
  {
   "cell_type": "code",
   "execution_count": 12,
   "metadata": {
    "ExecuteTime": {
     "end_time": "2023-02-11T21:43:29.047024Z",
     "start_time": "2023-02-11T21:43:28.933132Z"
    }
   },
   "outputs": [
    {
     "data": {
      "text/html": [
       "<div>\n",
       "<style scoped>\n",
       "    .dataframe tbody tr th:only-of-type {\n",
       "        vertical-align: middle;\n",
       "    }\n",
       "\n",
       "    .dataframe tbody tr th {\n",
       "        vertical-align: top;\n",
       "    }\n",
       "\n",
       "    .dataframe thead th {\n",
       "        text-align: right;\n",
       "    }\n",
       "</style>\n",
       "<table border=\"1\" class=\"dataframe\">\n",
       "  <thead>\n",
       "    <tr style=\"text-align: right;\">\n",
       "      <th></th>\n",
       "      <th>user_id</th>\n",
       "      <th>month</th>\n",
       "      <th>mb_used</th>\n",
       "    </tr>\n",
       "  </thead>\n",
       "  <tbody>\n",
       "    <tr>\n",
       "      <th>0</th>\n",
       "      <td>1000</td>\n",
       "      <td>5</td>\n",
       "      <td>3072</td>\n",
       "    </tr>\n",
       "    <tr>\n",
       "      <th>1</th>\n",
       "      <td>1000</td>\n",
       "      <td>6</td>\n",
       "      <td>23552</td>\n",
       "    </tr>\n",
       "    <tr>\n",
       "      <th>2</th>\n",
       "      <td>1000</td>\n",
       "      <td>7</td>\n",
       "      <td>14336</td>\n",
       "    </tr>\n",
       "    <tr>\n",
       "      <th>3</th>\n",
       "      <td>1000</td>\n",
       "      <td>8</td>\n",
       "      <td>14336</td>\n",
       "    </tr>\n",
       "    <tr>\n",
       "      <th>4</th>\n",
       "      <td>1000</td>\n",
       "      <td>9</td>\n",
       "      <td>15360</td>\n",
       "    </tr>\n",
       "    <tr>\n",
       "      <th>...</th>\n",
       "      <td>...</td>\n",
       "      <td>...</td>\n",
       "      <td>...</td>\n",
       "    </tr>\n",
       "    <tr>\n",
       "      <th>3198</th>\n",
       "      <td>1498</td>\n",
       "      <td>10</td>\n",
       "      <td>21504</td>\n",
       "    </tr>\n",
       "    <tr>\n",
       "      <th>3199</th>\n",
       "      <td>1499</td>\n",
       "      <td>9</td>\n",
       "      <td>2048</td>\n",
       "    </tr>\n",
       "    <tr>\n",
       "      <th>3200</th>\n",
       "      <td>1499</td>\n",
       "      <td>10</td>\n",
       "      <td>18432</td>\n",
       "    </tr>\n",
       "    <tr>\n",
       "      <th>3201</th>\n",
       "      <td>1499</td>\n",
       "      <td>11</td>\n",
       "      <td>18432</td>\n",
       "    </tr>\n",
       "    <tr>\n",
       "      <th>3202</th>\n",
       "      <td>1499</td>\n",
       "      <td>12</td>\n",
       "      <td>13312</td>\n",
       "    </tr>\n",
       "  </tbody>\n",
       "</table>\n",
       "<p>3203 rows × 3 columns</p>\n",
       "</div>"
      ],
      "text/plain": [
       "      user_id  month  mb_used\n",
       "0        1000      5     3072\n",
       "1        1000      6    23552\n",
       "2        1000      7    14336\n",
       "3        1000      8    14336\n",
       "4        1000      9    15360\n",
       "...       ...    ...      ...\n",
       "3198     1498     10    21504\n",
       "3199     1499      9     2048\n",
       "3200     1499     10    18432\n",
       "3201     1499     11    18432\n",
       "3202     1499     12    13312\n",
       "\n",
       "[3203 rows x 3 columns]"
      ]
     },
     "execution_count": 12,
     "metadata": {},
     "output_type": "execute_result"
    }
   ],
   "source": [
    "# Подсчет количества потраченных мегабайт интернета\n",
    "internet_df = (internet.pivot_table(index=['user_id', 'month'],\n",
    "                                   values='mb_used',\n",
    "                                   aggfunc=np.sum)\n",
    "                      .reset_index())\n",
    "\n",
    "# Функция округления мегабайтов по месяцам до целочисленных гигобайтов\n",
    "def rounding_up_traffic(row):\n",
    "    rounded_value = math.ceil(row['mb_used'] / 1024) * 1024\n",
    "    return rounded_value\n",
    "\n",
    "internet_df['mb_used'] = internet_df.apply(rounding_up_traffic, axis=1)\n",
    "internet_df"
   ]
  },
  {
   "cell_type": "code",
   "execution_count": 13,
   "metadata": {
    "ExecuteTime": {
     "end_time": "2023-02-11T21:43:29.078011Z",
     "start_time": "2023-02-11T21:43:29.050015Z"
    }
   },
   "outputs": [
    {
     "data": {
      "text/html": [
       "<div>\n",
       "<style scoped>\n",
       "    .dataframe tbody tr th:only-of-type {\n",
       "        vertical-align: middle;\n",
       "    }\n",
       "\n",
       "    .dataframe tbody tr th {\n",
       "        vertical-align: top;\n",
       "    }\n",
       "\n",
       "    .dataframe thead th {\n",
       "        text-align: right;\n",
       "    }\n",
       "</style>\n",
       "<table border=\"1\" class=\"dataframe\">\n",
       "  <thead>\n",
       "    <tr style=\"text-align: right;\">\n",
       "      <th></th>\n",
       "      <th>user_id</th>\n",
       "      <th>tariff</th>\n",
       "      <th>city</th>\n",
       "    </tr>\n",
       "  </thead>\n",
       "  <tbody>\n",
       "    <tr>\n",
       "      <th>0</th>\n",
       "      <td>1000</td>\n",
       "      <td>ultra</td>\n",
       "      <td>Краснодар</td>\n",
       "    </tr>\n",
       "    <tr>\n",
       "      <th>1</th>\n",
       "      <td>1001</td>\n",
       "      <td>smart</td>\n",
       "      <td>Москва</td>\n",
       "    </tr>\n",
       "    <tr>\n",
       "      <th>2</th>\n",
       "      <td>1002</td>\n",
       "      <td>smart</td>\n",
       "      <td>Стерлитамак</td>\n",
       "    </tr>\n",
       "    <tr>\n",
       "      <th>3</th>\n",
       "      <td>1003</td>\n",
       "      <td>ultra</td>\n",
       "      <td>Москва</td>\n",
       "    </tr>\n",
       "    <tr>\n",
       "      <th>4</th>\n",
       "      <td>1004</td>\n",
       "      <td>ultra</td>\n",
       "      <td>Новокузнецк</td>\n",
       "    </tr>\n",
       "    <tr>\n",
       "      <th>...</th>\n",
       "      <td>...</td>\n",
       "      <td>...</td>\n",
       "      <td>...</td>\n",
       "    </tr>\n",
       "    <tr>\n",
       "      <th>495</th>\n",
       "      <td>1495</td>\n",
       "      <td>ultra</td>\n",
       "      <td>Иркутск</td>\n",
       "    </tr>\n",
       "    <tr>\n",
       "      <th>496</th>\n",
       "      <td>1496</td>\n",
       "      <td>smart</td>\n",
       "      <td>Вологда</td>\n",
       "    </tr>\n",
       "    <tr>\n",
       "      <th>497</th>\n",
       "      <td>1497</td>\n",
       "      <td>smart</td>\n",
       "      <td>Челябинск</td>\n",
       "    </tr>\n",
       "    <tr>\n",
       "      <th>498</th>\n",
       "      <td>1498</td>\n",
       "      <td>smart</td>\n",
       "      <td>Владикавказ</td>\n",
       "    </tr>\n",
       "    <tr>\n",
       "      <th>499</th>\n",
       "      <td>1499</td>\n",
       "      <td>smart</td>\n",
       "      <td>Пермь</td>\n",
       "    </tr>\n",
       "  </tbody>\n",
       "</table>\n",
       "<p>500 rows × 3 columns</p>\n",
       "</div>"
      ],
      "text/plain": [
       "     user_id tariff         city\n",
       "0       1000  ultra    Краснодар\n",
       "1       1001  smart       Москва\n",
       "2       1002  smart  Стерлитамак\n",
       "3       1003  ultra       Москва\n",
       "4       1004  ultra  Новокузнецк\n",
       "..       ...    ...          ...\n",
       "495     1495  ultra      Иркутск\n",
       "496     1496  smart      Вологда\n",
       "497     1497  smart    Челябинск\n",
       "498     1498  smart  Владикавказ\n",
       "499     1499  smart        Пермь\n",
       "\n",
       "[500 rows x 3 columns]"
      ]
     },
     "execution_count": 13,
     "metadata": {},
     "output_type": "execute_result"
    }
   ],
   "source": [
    "# Вспомогательная таблица по тарифам и местонахождению абонента для анализа данных и проверки гипотез\n",
    "users_df = users[['user_id', 'tariff', 'city']]\n",
    "users_df"
   ]
  },
  {
   "cell_type": "markdown",
   "metadata": {},
   "source": [
    "Сведем все данные в одну таблицу для проведения дальшейнего анализа."
   ]
  },
  {
   "cell_type": "code",
   "execution_count": 14,
   "metadata": {
    "ExecuteTime": {
     "end_time": "2023-02-11T21:43:29.139833Z",
     "start_time": "2023-02-11T21:43:29.080990Z"
    }
   },
   "outputs": [
    {
     "data": {
      "text/html": [
       "<div>\n",
       "<style scoped>\n",
       "    .dataframe tbody tr th:only-of-type {\n",
       "        vertical-align: middle;\n",
       "    }\n",
       "\n",
       "    .dataframe tbody tr th {\n",
       "        vertical-align: top;\n",
       "    }\n",
       "\n",
       "    .dataframe thead th {\n",
       "        text-align: right;\n",
       "    }\n",
       "</style>\n",
       "<table border=\"1\" class=\"dataframe\">\n",
       "  <thead>\n",
       "    <tr style=\"text-align: right;\">\n",
       "      <th></th>\n",
       "      <th>user_id</th>\n",
       "      <th>month</th>\n",
       "      <th>len</th>\n",
       "      <th>sum</th>\n",
       "      <th>message_date</th>\n",
       "      <th>mb_used</th>\n",
       "      <th>tariff</th>\n",
       "      <th>city</th>\n",
       "    </tr>\n",
       "  </thead>\n",
       "  <tbody>\n",
       "    <tr>\n",
       "      <th>0</th>\n",
       "      <td>1000</td>\n",
       "      <td>5.00</td>\n",
       "      <td>22.00</td>\n",
       "      <td>159.00</td>\n",
       "      <td>22.00</td>\n",
       "      <td>3072.00</td>\n",
       "      <td>ultra</td>\n",
       "      <td>Краснодар</td>\n",
       "    </tr>\n",
       "    <tr>\n",
       "      <th>1</th>\n",
       "      <td>1000</td>\n",
       "      <td>6.00</td>\n",
       "      <td>43.00</td>\n",
       "      <td>172.00</td>\n",
       "      <td>60.00</td>\n",
       "      <td>23552.00</td>\n",
       "      <td>ultra</td>\n",
       "      <td>Краснодар</td>\n",
       "    </tr>\n",
       "    <tr>\n",
       "      <th>2</th>\n",
       "      <td>1000</td>\n",
       "      <td>7.00</td>\n",
       "      <td>47.00</td>\n",
       "      <td>340.00</td>\n",
       "      <td>75.00</td>\n",
       "      <td>14336.00</td>\n",
       "      <td>ultra</td>\n",
       "      <td>Краснодар</td>\n",
       "    </tr>\n",
       "    <tr>\n",
       "      <th>3</th>\n",
       "      <td>1000</td>\n",
       "      <td>8.00</td>\n",
       "      <td>52.00</td>\n",
       "      <td>408.00</td>\n",
       "      <td>81.00</td>\n",
       "      <td>14336.00</td>\n",
       "      <td>ultra</td>\n",
       "      <td>Краснодар</td>\n",
       "    </tr>\n",
       "    <tr>\n",
       "      <th>4</th>\n",
       "      <td>1000</td>\n",
       "      <td>9.00</td>\n",
       "      <td>58.00</td>\n",
       "      <td>466.00</td>\n",
       "      <td>57.00</td>\n",
       "      <td>15360.00</td>\n",
       "      <td>ultra</td>\n",
       "      <td>Краснодар</td>\n",
       "    </tr>\n",
       "    <tr>\n",
       "      <th>...</th>\n",
       "      <td>...</td>\n",
       "      <td>...</td>\n",
       "      <td>...</td>\n",
       "      <td>...</td>\n",
       "      <td>...</td>\n",
       "      <td>...</td>\n",
       "      <td>...</td>\n",
       "      <td>...</td>\n",
       "    </tr>\n",
       "    <tr>\n",
       "      <th>3211</th>\n",
       "      <td>1489</td>\n",
       "      <td>10.00</td>\n",
       "      <td>NaN</td>\n",
       "      <td>NaN</td>\n",
       "      <td>21.00</td>\n",
       "      <td>20480.00</td>\n",
       "      <td>smart</td>\n",
       "      <td>Санкт-Петербург</td>\n",
       "    </tr>\n",
       "    <tr>\n",
       "      <th>3212</th>\n",
       "      <td>1489</td>\n",
       "      <td>11.00</td>\n",
       "      <td>NaN</td>\n",
       "      <td>NaN</td>\n",
       "      <td>20.00</td>\n",
       "      <td>18432.00</td>\n",
       "      <td>smart</td>\n",
       "      <td>Санкт-Петербург</td>\n",
       "    </tr>\n",
       "    <tr>\n",
       "      <th>3213</th>\n",
       "      <td>1489</td>\n",
       "      <td>12.00</td>\n",
       "      <td>NaN</td>\n",
       "      <td>NaN</td>\n",
       "      <td>35.00</td>\n",
       "      <td>17408.00</td>\n",
       "      <td>smart</td>\n",
       "      <td>Санкт-Петербург</td>\n",
       "    </tr>\n",
       "    <tr>\n",
       "      <th>3214</th>\n",
       "      <td>1128</td>\n",
       "      <td>NaN</td>\n",
       "      <td>NaN</td>\n",
       "      <td>NaN</td>\n",
       "      <td>NaN</td>\n",
       "      <td>NaN</td>\n",
       "      <td>ultra</td>\n",
       "      <td>Волжский</td>\n",
       "    </tr>\n",
       "    <tr>\n",
       "      <th>3215</th>\n",
       "      <td>1371</td>\n",
       "      <td>NaN</td>\n",
       "      <td>NaN</td>\n",
       "      <td>NaN</td>\n",
       "      <td>NaN</td>\n",
       "      <td>NaN</td>\n",
       "      <td>smart</td>\n",
       "      <td>Омск</td>\n",
       "    </tr>\n",
       "  </tbody>\n",
       "</table>\n",
       "<p>3216 rows × 8 columns</p>\n",
       "</div>"
      ],
      "text/plain": [
       "      user_id  month   len    sum  message_date  mb_used tariff  \\\n",
       "0        1000   5.00 22.00 159.00         22.00  3072.00  ultra   \n",
       "1        1000   6.00 43.00 172.00         60.00 23552.00  ultra   \n",
       "2        1000   7.00 47.00 340.00         75.00 14336.00  ultra   \n",
       "3        1000   8.00 52.00 408.00         81.00 14336.00  ultra   \n",
       "4        1000   9.00 58.00 466.00         57.00 15360.00  ultra   \n",
       "...       ...    ...   ...    ...           ...      ...    ...   \n",
       "3211     1489  10.00   NaN    NaN         21.00 20480.00  smart   \n",
       "3212     1489  11.00   NaN    NaN         20.00 18432.00  smart   \n",
       "3213     1489  12.00   NaN    NaN         35.00 17408.00  smart   \n",
       "3214     1128    NaN   NaN    NaN           NaN      NaN  ultra   \n",
       "3215     1371    NaN   NaN    NaN           NaN      NaN  smart   \n",
       "\n",
       "                 city  \n",
       "0           Краснодар  \n",
       "1           Краснодар  \n",
       "2           Краснодар  \n",
       "3           Краснодар  \n",
       "4           Краснодар  \n",
       "...               ...  \n",
       "3211  Санкт-Петербург  \n",
       "3212  Санкт-Петербург  \n",
       "3213  Санкт-Петербург  \n",
       "3214         Волжский  \n",
       "3215             Омск  \n",
       "\n",
       "[3216 rows x 8 columns]"
      ]
     },
     "execution_count": 14,
     "metadata": {},
     "output_type": "execute_result"
    }
   ],
   "source": [
    "# Сводная \"смёрженная\" таблица по предыдущим таблицам для дальнейшего анализа\n",
    "result_df = (calls_df.merge(message_df,\n",
    "                            how='outer',\n",
    "                            on=['user_id', 'month'])\n",
    "                     .merge(internet_df,\n",
    "                            how='outer',\n",
    "                            on=['user_id', 'month'])\n",
    "                     .merge(users_df[['user_id', 'tariff', 'city']],\n",
    "                            how='outer',\n",
    "                            on='user_id'))\n",
    "\n",
    "result_df"
   ]
  },
  {
   "cell_type": "markdown",
   "metadata": {},
   "source": [
    "Переименуем столцы в сводной таблице для упрощения чтения информации."
   ]
  },
  {
   "cell_type": "code",
   "execution_count": 15,
   "metadata": {
    "ExecuteTime": {
     "end_time": "2023-02-11T21:43:29.171747Z",
     "start_time": "2023-02-11T21:43:29.143825Z"
    }
   },
   "outputs": [
    {
     "data": {
      "text/html": [
       "<div>\n",
       "<style scoped>\n",
       "    .dataframe tbody tr th:only-of-type {\n",
       "        vertical-align: middle;\n",
       "    }\n",
       "\n",
       "    .dataframe tbody tr th {\n",
       "        vertical-align: top;\n",
       "    }\n",
       "\n",
       "    .dataframe thead th {\n",
       "        text-align: right;\n",
       "    }\n",
       "</style>\n",
       "<table border=\"1\" class=\"dataframe\">\n",
       "  <thead>\n",
       "    <tr style=\"text-align: right;\">\n",
       "      <th></th>\n",
       "      <th>user_id</th>\n",
       "      <th>month</th>\n",
       "      <th>number_of_calls</th>\n",
       "      <th>minutes_spent</th>\n",
       "      <th>sms_sent</th>\n",
       "      <th>mb_used</th>\n",
       "      <th>tariff</th>\n",
       "      <th>city</th>\n",
       "    </tr>\n",
       "  </thead>\n",
       "  <tbody>\n",
       "    <tr>\n",
       "      <th>0</th>\n",
       "      <td>1000</td>\n",
       "      <td>5.00</td>\n",
       "      <td>22.00</td>\n",
       "      <td>159.00</td>\n",
       "      <td>22.00</td>\n",
       "      <td>3072.00</td>\n",
       "      <td>ultra</td>\n",
       "      <td>Краснодар</td>\n",
       "    </tr>\n",
       "    <tr>\n",
       "      <th>1</th>\n",
       "      <td>1000</td>\n",
       "      <td>6.00</td>\n",
       "      <td>43.00</td>\n",
       "      <td>172.00</td>\n",
       "      <td>60.00</td>\n",
       "      <td>23552.00</td>\n",
       "      <td>ultra</td>\n",
       "      <td>Краснодар</td>\n",
       "    </tr>\n",
       "    <tr>\n",
       "      <th>2</th>\n",
       "      <td>1000</td>\n",
       "      <td>7.00</td>\n",
       "      <td>47.00</td>\n",
       "      <td>340.00</td>\n",
       "      <td>75.00</td>\n",
       "      <td>14336.00</td>\n",
       "      <td>ultra</td>\n",
       "      <td>Краснодар</td>\n",
       "    </tr>\n",
       "    <tr>\n",
       "      <th>3</th>\n",
       "      <td>1000</td>\n",
       "      <td>8.00</td>\n",
       "      <td>52.00</td>\n",
       "      <td>408.00</td>\n",
       "      <td>81.00</td>\n",
       "      <td>14336.00</td>\n",
       "      <td>ultra</td>\n",
       "      <td>Краснодар</td>\n",
       "    </tr>\n",
       "    <tr>\n",
       "      <th>4</th>\n",
       "      <td>1000</td>\n",
       "      <td>9.00</td>\n",
       "      <td>58.00</td>\n",
       "      <td>466.00</td>\n",
       "      <td>57.00</td>\n",
       "      <td>15360.00</td>\n",
       "      <td>ultra</td>\n",
       "      <td>Краснодар</td>\n",
       "    </tr>\n",
       "    <tr>\n",
       "      <th>...</th>\n",
       "      <td>...</td>\n",
       "      <td>...</td>\n",
       "      <td>...</td>\n",
       "      <td>...</td>\n",
       "      <td>...</td>\n",
       "      <td>...</td>\n",
       "      <td>...</td>\n",
       "      <td>...</td>\n",
       "    </tr>\n",
       "    <tr>\n",
       "      <th>3211</th>\n",
       "      <td>1489</td>\n",
       "      <td>10.00</td>\n",
       "      <td>NaN</td>\n",
       "      <td>NaN</td>\n",
       "      <td>21.00</td>\n",
       "      <td>20480.00</td>\n",
       "      <td>smart</td>\n",
       "      <td>Санкт-Петербург</td>\n",
       "    </tr>\n",
       "    <tr>\n",
       "      <th>3212</th>\n",
       "      <td>1489</td>\n",
       "      <td>11.00</td>\n",
       "      <td>NaN</td>\n",
       "      <td>NaN</td>\n",
       "      <td>20.00</td>\n",
       "      <td>18432.00</td>\n",
       "      <td>smart</td>\n",
       "      <td>Санкт-Петербург</td>\n",
       "    </tr>\n",
       "    <tr>\n",
       "      <th>3213</th>\n",
       "      <td>1489</td>\n",
       "      <td>12.00</td>\n",
       "      <td>NaN</td>\n",
       "      <td>NaN</td>\n",
       "      <td>35.00</td>\n",
       "      <td>17408.00</td>\n",
       "      <td>smart</td>\n",
       "      <td>Санкт-Петербург</td>\n",
       "    </tr>\n",
       "    <tr>\n",
       "      <th>3214</th>\n",
       "      <td>1128</td>\n",
       "      <td>NaN</td>\n",
       "      <td>NaN</td>\n",
       "      <td>NaN</td>\n",
       "      <td>NaN</td>\n",
       "      <td>NaN</td>\n",
       "      <td>ultra</td>\n",
       "      <td>Волжский</td>\n",
       "    </tr>\n",
       "    <tr>\n",
       "      <th>3215</th>\n",
       "      <td>1371</td>\n",
       "      <td>NaN</td>\n",
       "      <td>NaN</td>\n",
       "      <td>NaN</td>\n",
       "      <td>NaN</td>\n",
       "      <td>NaN</td>\n",
       "      <td>smart</td>\n",
       "      <td>Омск</td>\n",
       "    </tr>\n",
       "  </tbody>\n",
       "</table>\n",
       "<p>3216 rows × 8 columns</p>\n",
       "</div>"
      ],
      "text/plain": [
       "      user_id  month  number_of_calls  minutes_spent  sms_sent  mb_used  \\\n",
       "0        1000   5.00            22.00         159.00     22.00  3072.00   \n",
       "1        1000   6.00            43.00         172.00     60.00 23552.00   \n",
       "2        1000   7.00            47.00         340.00     75.00 14336.00   \n",
       "3        1000   8.00            52.00         408.00     81.00 14336.00   \n",
       "4        1000   9.00            58.00         466.00     57.00 15360.00   \n",
       "...       ...    ...              ...            ...       ...      ...   \n",
       "3211     1489  10.00              NaN            NaN     21.00 20480.00   \n",
       "3212     1489  11.00              NaN            NaN     20.00 18432.00   \n",
       "3213     1489  12.00              NaN            NaN     35.00 17408.00   \n",
       "3214     1128    NaN              NaN            NaN       NaN      NaN   \n",
       "3215     1371    NaN              NaN            NaN       NaN      NaN   \n",
       "\n",
       "     tariff             city  \n",
       "0     ultra        Краснодар  \n",
       "1     ultra        Краснодар  \n",
       "2     ultra        Краснодар  \n",
       "3     ultra        Краснодар  \n",
       "4     ultra        Краснодар  \n",
       "...     ...              ...  \n",
       "3211  smart  Санкт-Петербург  \n",
       "3212  smart  Санкт-Петербург  \n",
       "3213  smart  Санкт-Петербург  \n",
       "3214  ultra         Волжский  \n",
       "3215  smart             Омск  \n",
       "\n",
       "[3216 rows x 8 columns]"
      ]
     },
     "execution_count": 15,
     "metadata": {},
     "output_type": "execute_result"
    }
   ],
   "source": [
    "# Переимнование столбцов сводного датасета\n",
    "rename_columns = {'user_id_calls': 'user_id',\n",
    "                  'month_calls': 'month',\n",
    "                  'len': 'number_of_calls',\n",
    "                  'sum': 'minutes_spent',\n",
    "                  'message_date': 'sms_sent'}\n",
    "result_df = result_df.rename(columns=rename_columns)\n",
    "\n",
    "result_df"
   ]
  },
  {
   "cell_type": "markdown",
   "metadata": {},
   "source": [
    "Подсчитаем количество пропущнных значений после объединения таблиц."
   ]
  },
  {
   "cell_type": "code",
   "execution_count": 16,
   "metadata": {
    "ExecuteTime": {
     "end_time": "2023-02-11T21:43:29.188702Z",
     "start_time": "2023-02-11T21:43:29.174741Z"
    }
   },
   "outputs": [
    {
     "data": {
      "text/plain": [
       "user_id              0\n",
       "month                2\n",
       "number_of_calls     42\n",
       "minutes_spent       42\n",
       "sms_sent           499\n",
       "mb_used             13\n",
       "tariff               0\n",
       "city                 0\n",
       "dtype: int64"
      ]
     },
     "execution_count": 16,
     "metadata": {},
     "output_type": "execute_result"
    }
   ],
   "source": [
    "result_df.isna().sum()"
   ]
  },
  {
   "cell_type": "markdown",
   "metadata": {},
   "source": [
    "В данных появились пропущенные значения. Заменим их на нули, т.к. `NAN` в этих столбцах означает отсутствие звонков, смс или потраченных мегабайт интернета."
   ]
  },
  {
   "cell_type": "code",
   "execution_count": 17,
   "metadata": {
    "ExecuteTime": {
     "end_time": "2023-02-11T21:43:29.219619Z",
     "start_time": "2023-02-11T21:43:29.192692Z"
    }
   },
   "outputs": [
    {
     "data": {
      "text/plain": [
       "user_id            0\n",
       "month              2\n",
       "number_of_calls    0\n",
       "minutes_spent      0\n",
       "sms_sent           0\n",
       "mb_used            0\n",
       "tariff             0\n",
       "city               0\n",
       "dtype: int64"
      ]
     },
     "execution_count": 17,
     "metadata": {},
     "output_type": "execute_result"
    }
   ],
   "source": [
    "# Заполнение NAN значений нулями через цикл\n",
    "columns = ['number_of_calls', 'minutes_spent', 'sms_sent', 'mb_used']\n",
    "\n",
    "for column in columns:\n",
    "    result_df[column] = result_df[column].fillna(0)\n",
    "\n",
    "result_df.isna().sum()"
   ]
  },
  {
   "cell_type": "markdown",
   "metadata": {},
   "source": [
    "Пропущенных значения успешно заменены."
   ]
  },
  {
   "cell_type": "markdown",
   "metadata": {},
   "source": [
    "Создадим функцию для расчета помесячной выручки, полученной с каждого пользователя."
   ]
  },
  {
   "cell_type": "code",
   "execution_count": 18,
   "metadata": {
    "ExecuteTime": {
     "end_time": "2023-02-11T21:43:29.251534Z",
     "start_time": "2023-02-11T21:43:29.222612Z"
    }
   },
   "outputs": [
    {
     "data": {
      "text/html": [
       "<div>\n",
       "<style scoped>\n",
       "    .dataframe tbody tr th:only-of-type {\n",
       "        vertical-align: middle;\n",
       "    }\n",
       "\n",
       "    .dataframe tbody tr th {\n",
       "        vertical-align: top;\n",
       "    }\n",
       "\n",
       "    .dataframe thead th {\n",
       "        text-align: right;\n",
       "    }\n",
       "</style>\n",
       "<table border=\"1\" class=\"dataframe\">\n",
       "  <thead>\n",
       "    <tr style=\"text-align: right;\">\n",
       "      <th></th>\n",
       "      <th>messages_included</th>\n",
       "      <th>mb_per_month_included</th>\n",
       "      <th>minutes_included</th>\n",
       "      <th>rub_monthly_fee</th>\n",
       "      <th>rub_per_gb</th>\n",
       "      <th>rub_per_message</th>\n",
       "      <th>rub_per_minute</th>\n",
       "      <th>tariff_name</th>\n",
       "    </tr>\n",
       "  </thead>\n",
       "  <tbody>\n",
       "    <tr>\n",
       "      <th>0</th>\n",
       "      <td>50</td>\n",
       "      <td>15360</td>\n",
       "      <td>500</td>\n",
       "      <td>550</td>\n",
       "      <td>200</td>\n",
       "      <td>3</td>\n",
       "      <td>3</td>\n",
       "      <td>smart</td>\n",
       "    </tr>\n",
       "    <tr>\n",
       "      <th>1</th>\n",
       "      <td>1000</td>\n",
       "      <td>30720</td>\n",
       "      <td>3000</td>\n",
       "      <td>1950</td>\n",
       "      <td>150</td>\n",
       "      <td>1</td>\n",
       "      <td>1</td>\n",
       "      <td>ultra</td>\n",
       "    </tr>\n",
       "  </tbody>\n",
       "</table>\n",
       "</div>"
      ],
      "text/plain": [
       "   messages_included  mb_per_month_included  minutes_included  \\\n",
       "0                 50                  15360               500   \n",
       "1               1000                  30720              3000   \n",
       "\n",
       "   rub_monthly_fee  rub_per_gb  rub_per_message  rub_per_minute tariff_name  \n",
       "0              550         200                3               3       smart  \n",
       "1             1950         150                1               1       ultra  "
      ]
     },
     "execution_count": 18,
     "metadata": {},
     "output_type": "execute_result"
    }
   ],
   "source": [
    "tariffs.head()"
   ]
  },
  {
   "cell_type": "code",
   "execution_count": 19,
   "metadata": {
    "ExecuteTime": {
     "end_time": "2023-02-11T21:43:29.779954Z",
     "start_time": "2023-02-11T21:43:29.255524Z"
    }
   },
   "outputs": [],
   "source": [
    "# Функция по расчету доходов по месяцам по абоненту каждого тарифа\n",
    "def income(row):  # Фукнция принимает на вход строку датасета\n",
    "    def over_the_package(parametres):  # Функция принимает параметры тарифа\n",
    "        minutes_over = 0\n",
    "        sms_over = 0\n",
    "        mb_over = 0\n",
    "        # Обработка через логику параметров.\n",
    "        # Если использованных минут больше, чем тарифных, то вернем их разницу.\n",
    "        if row['minutes_spent'] > parametres['munutes_available']: \n",
    "            minutes_over = row['minutes_spent'] - parametres['munutes_available']\n",
    "        if row['sms_sent'] > parametres['sms_available']:\n",
    "            sms_over = row['sms_sent'] - parametres['sms_available']\n",
    "        if row['mb_used'] > parametres['mb_available']:\n",
    "            mb_over = (row['mb_used'] - parametres['mb_available']) / 1024\n",
    "        return minutes_over, sms_over, mb_over\n",
    "\n",
    "    smart = {\n",
    "        'munutes_available': tariffs['minutes_included'][0],\n",
    "        'sms_available': tariffs['messages_included'][0],\n",
    "        'mb_available': tariffs['mb_per_month_included'][0]\n",
    "    }\n",
    "\n",
    "    ultra = {\n",
    "        'munutes_available': tariffs['minutes_included'][1],\n",
    "        'sms_available': tariffs['messages_included'][1],\n",
    "        'mb_available': tariffs['mb_per_month_included'][1]\n",
    "    }\n",
    "        \n",
    "    # Расчет суммы затрат сверх оплаченных в рамках тарифа лимитов\n",
    "    if row['tariff'] == 'smart':\n",
    "        income = tariffs['rub_monthly_fee'][0]\n",
    "        minutes_over, sms_over, mb_over = over_the_package(smart)\n",
    "        income += (minutes_over * tariffs['rub_per_minute'][0]\n",
    "                   + sms_over * tariffs['rub_per_message'][0]\n",
    "                   + mb_over * tariffs['rub_per_gb'][0])    \n",
    "    elif row['tariff'] == 'ultra':\n",
    "        income = tariffs['rub_monthly_fee'][1]\n",
    "        minutes_over, sms_over, mb_over = over_the_package(ultra)\n",
    "        income += (minutes_over * tariffs['rub_per_minute'][1]\n",
    "                   + sms_over * tariffs['rub_per_message'][1]\n",
    "                   + mb_over * tariffs['rub_per_gb'][1])\n",
    "\n",
    "    return income\n",
    "\n",
    "# Применение функции income к каждой колоке датасета result_df\n",
    "result_df['income'] = result_df.apply(income, axis=1)"
   ]
  },
  {
   "cell_type": "markdown",
   "metadata": {},
   "source": [
    "Функция рассчитала прибыль по каждому пользователю тарифа по месяцам."
   ]
  },
  {
   "cell_type": "markdown",
   "metadata": {},
   "source": [
    "Теперь все `float` значения приведем к формату `int` для удобства."
   ]
  },
  {
   "cell_type": "code",
   "execution_count": 20,
   "metadata": {
    "ExecuteTime": {
     "end_time": "2023-02-11T21:43:29.811627Z",
     "start_time": "2023-02-11T21:43:29.782672Z"
    },
    "scrolled": true
   },
   "outputs": [
    {
     "data": {
      "text/html": [
       "<div>\n",
       "<style scoped>\n",
       "    .dataframe tbody tr th:only-of-type {\n",
       "        vertical-align: middle;\n",
       "    }\n",
       "\n",
       "    .dataframe tbody tr th {\n",
       "        vertical-align: top;\n",
       "    }\n",
       "\n",
       "    .dataframe thead th {\n",
       "        text-align: right;\n",
       "    }\n",
       "</style>\n",
       "<table border=\"1\" class=\"dataframe\">\n",
       "  <thead>\n",
       "    <tr style=\"text-align: right;\">\n",
       "      <th></th>\n",
       "      <th>user_id</th>\n",
       "      <th>month</th>\n",
       "      <th>number_of_calls</th>\n",
       "      <th>minutes_spent</th>\n",
       "      <th>sms_sent</th>\n",
       "      <th>mb_used</th>\n",
       "      <th>tariff</th>\n",
       "      <th>city</th>\n",
       "      <th>income</th>\n",
       "    </tr>\n",
       "  </thead>\n",
       "  <tbody>\n",
       "    <tr>\n",
       "      <th>0</th>\n",
       "      <td>1000</td>\n",
       "      <td>5.00</td>\n",
       "      <td>22</td>\n",
       "      <td>159</td>\n",
       "      <td>22</td>\n",
       "      <td>3072</td>\n",
       "      <td>ultra</td>\n",
       "      <td>Краснодар</td>\n",
       "      <td>1950.00</td>\n",
       "    </tr>\n",
       "    <tr>\n",
       "      <th>1</th>\n",
       "      <td>1000</td>\n",
       "      <td>6.00</td>\n",
       "      <td>43</td>\n",
       "      <td>172</td>\n",
       "      <td>60</td>\n",
       "      <td>23552</td>\n",
       "      <td>ultra</td>\n",
       "      <td>Краснодар</td>\n",
       "      <td>1950.00</td>\n",
       "    </tr>\n",
       "    <tr>\n",
       "      <th>2</th>\n",
       "      <td>1000</td>\n",
       "      <td>7.00</td>\n",
       "      <td>47</td>\n",
       "      <td>340</td>\n",
       "      <td>75</td>\n",
       "      <td>14336</td>\n",
       "      <td>ultra</td>\n",
       "      <td>Краснодар</td>\n",
       "      <td>1950.00</td>\n",
       "    </tr>\n",
       "    <tr>\n",
       "      <th>3</th>\n",
       "      <td>1000</td>\n",
       "      <td>8.00</td>\n",
       "      <td>52</td>\n",
       "      <td>408</td>\n",
       "      <td>81</td>\n",
       "      <td>14336</td>\n",
       "      <td>ultra</td>\n",
       "      <td>Краснодар</td>\n",
       "      <td>1950.00</td>\n",
       "    </tr>\n",
       "    <tr>\n",
       "      <th>4</th>\n",
       "      <td>1000</td>\n",
       "      <td>9.00</td>\n",
       "      <td>58</td>\n",
       "      <td>466</td>\n",
       "      <td>57</td>\n",
       "      <td>15360</td>\n",
       "      <td>ultra</td>\n",
       "      <td>Краснодар</td>\n",
       "      <td>1950.00</td>\n",
       "    </tr>\n",
       "    <tr>\n",
       "      <th>...</th>\n",
       "      <td>...</td>\n",
       "      <td>...</td>\n",
       "      <td>...</td>\n",
       "      <td>...</td>\n",
       "      <td>...</td>\n",
       "      <td>...</td>\n",
       "      <td>...</td>\n",
       "      <td>...</td>\n",
       "      <td>...</td>\n",
       "    </tr>\n",
       "    <tr>\n",
       "      <th>3211</th>\n",
       "      <td>1489</td>\n",
       "      <td>10.00</td>\n",
       "      <td>0</td>\n",
       "      <td>0</td>\n",
       "      <td>21</td>\n",
       "      <td>20480</td>\n",
       "      <td>smart</td>\n",
       "      <td>Санкт-Петербург</td>\n",
       "      <td>1550.00</td>\n",
       "    </tr>\n",
       "    <tr>\n",
       "      <th>3212</th>\n",
       "      <td>1489</td>\n",
       "      <td>11.00</td>\n",
       "      <td>0</td>\n",
       "      <td>0</td>\n",
       "      <td>20</td>\n",
       "      <td>18432</td>\n",
       "      <td>smart</td>\n",
       "      <td>Санкт-Петербург</td>\n",
       "      <td>1150.00</td>\n",
       "    </tr>\n",
       "    <tr>\n",
       "      <th>3213</th>\n",
       "      <td>1489</td>\n",
       "      <td>12.00</td>\n",
       "      <td>0</td>\n",
       "      <td>0</td>\n",
       "      <td>35</td>\n",
       "      <td>17408</td>\n",
       "      <td>smart</td>\n",
       "      <td>Санкт-Петербург</td>\n",
       "      <td>950.00</td>\n",
       "    </tr>\n",
       "    <tr>\n",
       "      <th>3214</th>\n",
       "      <td>1128</td>\n",
       "      <td>NaN</td>\n",
       "      <td>0</td>\n",
       "      <td>0</td>\n",
       "      <td>0</td>\n",
       "      <td>0</td>\n",
       "      <td>ultra</td>\n",
       "      <td>Волжский</td>\n",
       "      <td>1950.00</td>\n",
       "    </tr>\n",
       "    <tr>\n",
       "      <th>3215</th>\n",
       "      <td>1371</td>\n",
       "      <td>NaN</td>\n",
       "      <td>0</td>\n",
       "      <td>0</td>\n",
       "      <td>0</td>\n",
       "      <td>0</td>\n",
       "      <td>smart</td>\n",
       "      <td>Омск</td>\n",
       "      <td>550.00</td>\n",
       "    </tr>\n",
       "  </tbody>\n",
       "</table>\n",
       "<p>3216 rows × 9 columns</p>\n",
       "</div>"
      ],
      "text/plain": [
       "      user_id  month  number_of_calls  minutes_spent  sms_sent  mb_used  \\\n",
       "0        1000   5.00               22            159        22     3072   \n",
       "1        1000   6.00               43            172        60    23552   \n",
       "2        1000   7.00               47            340        75    14336   \n",
       "3        1000   8.00               52            408        81    14336   \n",
       "4        1000   9.00               58            466        57    15360   \n",
       "...       ...    ...              ...            ...       ...      ...   \n",
       "3211     1489  10.00                0              0        21    20480   \n",
       "3212     1489  11.00                0              0        20    18432   \n",
       "3213     1489  12.00                0              0        35    17408   \n",
       "3214     1128    NaN                0              0         0        0   \n",
       "3215     1371    NaN                0              0         0        0   \n",
       "\n",
       "     tariff             city  income  \n",
       "0     ultra        Краснодар 1950.00  \n",
       "1     ultra        Краснодар 1950.00  \n",
       "2     ultra        Краснодар 1950.00  \n",
       "3     ultra        Краснодар 1950.00  \n",
       "4     ultra        Краснодар 1950.00  \n",
       "...     ...              ...     ...  \n",
       "3211  smart  Санкт-Петербург 1550.00  \n",
       "3212  smart  Санкт-Петербург 1150.00  \n",
       "3213  smart  Санкт-Петербург  950.00  \n",
       "3214  ultra         Волжский 1950.00  \n",
       "3215  smart             Омск  550.00  \n",
       "\n",
       "[3216 rows x 9 columns]"
      ]
     },
     "execution_count": 20,
     "metadata": {},
     "output_type": "execute_result"
    }
   ],
   "source": [
    "# Приведение float значений к integer\n",
    "columns = ['number_of_calls', 'minutes_spent', 'sms_sent', 'mb_used']\n",
    "\n",
    "for column in columns:\n",
    "    result_df[column] = result_df[column].astype('int64')\n",
    "\n",
    "result_df"
   ]
  },
  {
   "cell_type": "markdown",
   "metadata": {},
   "source": [
    "*Float* значения заменены."
   ]
  },
  {
   "cell_type": "code",
   "execution_count": 21,
   "metadata": {
    "ExecuteTime": {
     "end_time": "2023-02-11T21:43:29.827554Z",
     "start_time": "2023-02-11T21:43:29.813590Z"
    }
   },
   "outputs": [
    {
     "data": {
      "text/plain": [
       "4916951.0"
      ]
     },
     "execution_count": 21,
     "metadata": {},
     "output_type": "execute_result"
    }
   ],
   "source": [
    "result_df['income'].sum()"
   ]
  },
  {
   "cell_type": "code",
   "execution_count": 22,
   "metadata": {
    "ExecuteTime": {
     "end_time": "2023-02-11T21:43:29.859466Z",
     "start_time": "2023-02-11T21:43:29.830545Z"
    }
   },
   "outputs": [
    {
     "data": {
      "text/html": [
       "<div>\n",
       "<style scoped>\n",
       "    .dataframe tbody tr th:only-of-type {\n",
       "        vertical-align: middle;\n",
       "    }\n",
       "\n",
       "    .dataframe tbody tr th {\n",
       "        vertical-align: top;\n",
       "    }\n",
       "\n",
       "    .dataframe thead th {\n",
       "        text-align: right;\n",
       "    }\n",
       "</style>\n",
       "<table border=\"1\" class=\"dataframe\">\n",
       "  <thead>\n",
       "    <tr style=\"text-align: right;\">\n",
       "      <th></th>\n",
       "      <th>user_id</th>\n",
       "      <th>month</th>\n",
       "      <th>number_of_calls</th>\n",
       "      <th>minutes_spent</th>\n",
       "      <th>sms_sent</th>\n",
       "      <th>mb_used</th>\n",
       "      <th>tariff</th>\n",
       "      <th>city</th>\n",
       "      <th>income</th>\n",
       "    </tr>\n",
       "  </thead>\n",
       "  <tbody>\n",
       "    <tr>\n",
       "      <th>3160</th>\n",
       "      <td>1496</td>\n",
       "      <td>8.00</td>\n",
       "      <td>88</td>\n",
       "      <td>527</td>\n",
       "      <td>41</td>\n",
       "      <td>23552</td>\n",
       "      <td>smart</td>\n",
       "      <td>Вологда</td>\n",
       "      <td>2231.00</td>\n",
       "    </tr>\n",
       "    <tr>\n",
       "      <th>3163</th>\n",
       "      <td>1496</td>\n",
       "      <td>11.00</td>\n",
       "      <td>80</td>\n",
       "      <td>662</td>\n",
       "      <td>46</td>\n",
       "      <td>25600</td>\n",
       "      <td>smart</td>\n",
       "      <td>Вологда</td>\n",
       "      <td>3036.00</td>\n",
       "    </tr>\n",
       "    <tr>\n",
       "      <th>3164</th>\n",
       "      <td>1496</td>\n",
       "      <td>12.00</td>\n",
       "      <td>80</td>\n",
       "      <td>518</td>\n",
       "      <td>51</td>\n",
       "      <td>21504</td>\n",
       "      <td>smart</td>\n",
       "      <td>Вологда</td>\n",
       "      <td>1807.00</td>\n",
       "    </tr>\n",
       "    <tr>\n",
       "      <th>3167</th>\n",
       "      <td>1497</td>\n",
       "      <td>12.00</td>\n",
       "      <td>71</td>\n",
       "      <td>545</td>\n",
       "      <td>17</td>\n",
       "      <td>20480</td>\n",
       "      <td>smart</td>\n",
       "      <td>Челябинск</td>\n",
       "      <td>1685.00</td>\n",
       "    </tr>\n",
       "    <tr>\n",
       "      <th>3174</th>\n",
       "      <td>1499</td>\n",
       "      <td>11.00</td>\n",
       "      <td>74</td>\n",
       "      <td>612</td>\n",
       "      <td>59</td>\n",
       "      <td>18432</td>\n",
       "      <td>smart</td>\n",
       "      <td>Пермь</td>\n",
       "      <td>1513.00</td>\n",
       "    </tr>\n",
       "  </tbody>\n",
       "</table>\n",
       "</div>"
      ],
      "text/plain": [
       "      user_id  month  number_of_calls  minutes_spent  sms_sent  mb_used  \\\n",
       "3160     1496   8.00               88            527        41    23552   \n",
       "3163     1496  11.00               80            662        46    25600   \n",
       "3164     1496  12.00               80            518        51    21504   \n",
       "3167     1497  12.00               71            545        17    20480   \n",
       "3174     1499  11.00               74            612        59    18432   \n",
       "\n",
       "     tariff       city  income  \n",
       "3160  smart    Вологда 2231.00  \n",
       "3163  smart    Вологда 3036.00  \n",
       "3164  smart    Вологда 1807.00  \n",
       "3167  smart  Челябинск 1685.00  \n",
       "3174  smart      Пермь 1513.00  "
      ]
     },
     "execution_count": 22,
     "metadata": {},
     "output_type": "execute_result"
    }
   ],
   "source": [
    "result_df[result_df['minutes_spent'] > 500].tail()"
   ]
  },
  {
   "cell_type": "markdown",
   "metadata": {},
   "source": [
    "### Вывод"
   ]
  },
  {
   "cell_type": "markdown",
   "metadata": {},
   "source": [
    "Нами были произведены следующие дейтсвия:\n",
    " * даты приведены к типу *`datetime`*;\n",
    " * проведена проверка на пропуски исходных датасетов;\n",
    " * проведена подготовка данных:\n",
    "   * добавлены дополнительные столбцы с месяцами;\n",
    "   * посчитаны показатели количества сделанных звонков, количества потраченных минут, количества потраченных смс и количество затраченного интернет-трафика, рассчитана ежемесячная выручка по абонентам каждого из тарифов;\n",
    "   * переименованы стобцы для лучшего восприятия инфорации;\n",
    "   * заменены `NAN` значения;\n",
    "   * float значения, так где это необходимо, заменены на формат integer;\n",
    "   * информация сведена в единую таблицу для дальшейшего анализа и проверки гипотез."
   ]
  },
  {
   "cell_type": "markdown",
   "metadata": {},
   "source": [
    "## Исследовательский анализ данных"
   ]
  },
  {
   "cell_type": "markdown",
   "metadata": {},
   "source": [
    "Исследуем поведение клиентов оператора, исходя из выборки.\n",
    "\n",
    "Определим сколько минут разговора, сколько сообщений и какой объём интернет-трафика требуется пользователям каждого тарифа в месяц.\n",
    "\n",
    "Посчитаем среднее количество, дисперсию и стандартное отклонение."
   ]
  },
  {
   "cell_type": "code",
   "execution_count": 23,
   "metadata": {
    "ExecuteTime": {
     "end_time": "2023-02-11T21:43:29.954659Z",
     "start_time": "2023-02-11T21:43:29.862461Z"
    }
   },
   "outputs": [
    {
     "data": {
      "text/html": [
       "<div>\n",
       "<style scoped>\n",
       "    .dataframe tbody tr th:only-of-type {\n",
       "        vertical-align: middle;\n",
       "    }\n",
       "\n",
       "    .dataframe tbody tr th {\n",
       "        vertical-align: top;\n",
       "    }\n",
       "\n",
       "    .dataframe thead tr th {\n",
       "        text-align: left;\n",
       "    }\n",
       "\n",
       "    .dataframe thead tr:last-of-type th {\n",
       "        text-align: right;\n",
       "    }\n",
       "</style>\n",
       "<table border=\"1\" class=\"dataframe\">\n",
       "  <thead>\n",
       "    <tr>\n",
       "      <th></th>\n",
       "      <th colspan=\"3\" halign=\"left\">median</th>\n",
       "      <th colspan=\"3\" halign=\"left\">mean</th>\n",
       "      <th colspan=\"3\" halign=\"left\">var</th>\n",
       "      <th colspan=\"3\" halign=\"left\">std</th>\n",
       "    </tr>\n",
       "    <tr>\n",
       "      <th></th>\n",
       "      <th>mb_used</th>\n",
       "      <th>minutes_spent</th>\n",
       "      <th>sms_sent</th>\n",
       "      <th>mb_used</th>\n",
       "      <th>minutes_spent</th>\n",
       "      <th>sms_sent</th>\n",
       "      <th>mb_used</th>\n",
       "      <th>minutes_spent</th>\n",
       "      <th>sms_sent</th>\n",
       "      <th>mb_used</th>\n",
       "      <th>minutes_spent</th>\n",
       "      <th>sms_sent</th>\n",
       "    </tr>\n",
       "    <tr>\n",
       "      <th>tariff</th>\n",
       "      <th></th>\n",
       "      <th></th>\n",
       "      <th></th>\n",
       "      <th></th>\n",
       "      <th></th>\n",
       "      <th></th>\n",
       "      <th></th>\n",
       "      <th></th>\n",
       "      <th></th>\n",
       "      <th></th>\n",
       "      <th></th>\n",
       "      <th></th>\n",
       "    </tr>\n",
       "  </thead>\n",
       "  <tbody>\n",
       "    <tr>\n",
       "      <th>smart</th>\n",
       "      <td>17408</td>\n",
       "      <td>421.50</td>\n",
       "      <td>28</td>\n",
       "      <td>16713.24</td>\n",
       "      <td>417.75</td>\n",
       "      <td>33.37</td>\n",
       "      <td>34742943.65</td>\n",
       "      <td>36281.39</td>\n",
       "      <td>796.96</td>\n",
       "      <td>5894.31</td>\n",
       "      <td>190.48</td>\n",
       "      <td>28.23</td>\n",
       "    </tr>\n",
       "    <tr>\n",
       "      <th>ultra</th>\n",
       "      <td>19456</td>\n",
       "      <td>518.00</td>\n",
       "      <td>38</td>\n",
       "      <td>19942.04</td>\n",
       "      <td>526.09</td>\n",
       "      <td>49.31</td>\n",
       "      <td>102108804.46</td>\n",
       "      <td>101052.49</td>\n",
       "      <td>2285.42</td>\n",
       "      <td>10104.89</td>\n",
       "      <td>317.89</td>\n",
       "      <td>47.81</td>\n",
       "    </tr>\n",
       "  </tbody>\n",
       "</table>\n",
       "</div>"
      ],
      "text/plain": [
       "        median                            mean                         \\\n",
       "       mb_used minutes_spent sms_sent  mb_used minutes_spent sms_sent   \n",
       "tariff                                                                  \n",
       "smart    17408        421.50       28 16713.24        417.75    33.37   \n",
       "ultra    19456        518.00       38 19942.04        526.09    49.31   \n",
       "\n",
       "                var                             std                         \n",
       "            mb_used minutes_spent sms_sent  mb_used minutes_spent sms_sent  \n",
       "tariff                                                                      \n",
       "smart   34742943.65      36281.39   796.96  5894.31        190.48    28.23  \n",
       "ultra  102108804.46     101052.49  2285.42 10104.89        317.89    47.81  "
      ]
     },
     "execution_count": 23,
     "metadata": {},
     "output_type": "execute_result"
    }
   ],
   "source": [
    "# Рассчет среднего, дисперсии, стандартного отклонения\n",
    "result_df.pivot_table(index=['tariff'],\n",
    "                      values=['minutes_spent', 'sms_sent', 'mb_used'],\n",
    "                      aggfunc=[np.median, np.mean, np.var, np.std])"
   ]
  },
  {
   "cell_type": "markdown",
   "metadata": {},
   "source": [
    "Из проведенного анализа видно, что в среднем по тарифы *smart* пользователи тратят меньшее количество интернета, минут и смс, чем по тарифу *ultra*. При этом дисперсия и стандартное отклоение по тарифу *smart* по всем показателям тоже меньше - это говорит о том, что умный тариф используют люди одного класса и у них примерно одинаковое потребление. А вот тариф ультра используют люди с большими запросами, поэтому разброс значений в этом тарифе выше."
   ]
  },
  {
   "cell_type": "markdown",
   "metadata": {},
   "source": [
    "Построим гистограммы для сравнения показателей по разным тарифам:"
   ]
  },
  {
   "cell_type": "code",
   "execution_count": 24,
   "metadata": {
    "ExecuteTime": {
     "end_time": "2023-02-11T21:43:30.300630Z",
     "start_time": "2023-02-11T21:43:29.957654Z"
    }
   },
   "outputs": [
    {
     "data": {
      "text/plain": [
       "Text(0, 0.5, 'Количество абонентов')"
      ]
     },
     "execution_count": 24,
     "metadata": {},
     "output_type": "execute_result"
    },
    {
     "data": {
      "image/png": "[encoded data removed]",
      "text/plain": [
       "<Figure size 1296x432 with 1 Axes>"
      ]
     },
     "metadata": {
      "needs_background": "light"
     },
     "output_type": "display_data"
    }
   ],
   "source": [
    "# Построение гистограммы по потраченным минутам по тарифам\n",
    "plt.figure(figsize=(18, 6))\n",
    "(result_df.loc[result_df['tariff'] == 'smart']['minutes_spent']\n",
    "         .plot(kind='hist', alpha=0.8))\n",
    "(result_df.loc[result_df['tariff'] == 'ultra']['minutes_spent']\n",
    "         .plot(kind='hist', alpha=0.8))\n",
    "plt.title('Гистограмма потраченных минут по тарифам')\n",
    "plt.xlabel('Количество потраченных минут')\n",
    "plt.ylabel('Количество абонентов')"
   ]
  },
  {
   "cell_type": "markdown",
   "metadata": {},
   "source": [
    "Из гистограммы видно, что количества пользователей, которые тратят от 700 и более минут в месяц на звонки больше по тарифу *ultra*, но пользователей тарифы *smart* в целом больше. Данные по количеству потраченных минут по тарифам *smart и ultra* немного скошены влево (отрицательно скошеные), соответственно медиана должна быть меньше среднего."
   ]
  },
  {
   "cell_type": "code",
   "execution_count": 25,
   "metadata": {
    "ExecuteTime": {
     "end_time": "2023-02-11T21:43:30.597874Z",
     "start_time": "2023-02-11T21:43:30.304622Z"
    }
   },
   "outputs": [
    {
     "data": {
      "text/plain": [
       "Text(0, 0.5, 'Количество абонентов')"
      ]
     },
     "execution_count": 25,
     "metadata": {},
     "output_type": "execute_result"
    },
    {
     "data": {
      "image/png": "[encoded data removed]",
      "text/plain": [
       "<Figure size 1296x432 with 1 Axes>"
      ]
     },
     "metadata": {
      "needs_background": "light"
     },
     "output_type": "display_data"
    }
   ],
   "source": [
    "# Построение гистограммы по отправленным смс по тарифам\n",
    "plt.figure(figsize=(18, 6))\n",
    "(result_df.loc[result_df['tariff'] == 'smart']['sms_sent']\n",
    "         .plot(kind='hist', alpha=0.8))\n",
    "(result_df.loc[result_df['tariff'] == 'ultra']['sms_sent']\n",
    "         .plot(kind='hist', alpha=0.8))\n",
    "plt.title('Гистограмма отправленных смс по тарифам')\n",
    "plt.xlabel('Количество отправленных смс')\n",
    "plt.ylabel('Количество абонентов')"
   ]
  },
  {
   "cell_type": "markdown",
   "metadata": {},
   "source": [
    "Из гистограммы видно, что в тарифе *ultra* имеются пользователи, которые тратят на смс от 100 и более смс. А пользователи тарифы *smart*, как правило, не превышают заложенного лимита в 50 смс. Данные по отправленным смс сообщениям сильно скошены влево. Медиана должна быть меньше среднего значения, что подтверждается если посмотреть на сводную таблицу."
   ]
  },
  {
   "cell_type": "code",
   "execution_count": 26,
   "metadata": {
    "ExecuteTime": {
     "end_time": "2023-02-11T21:43:30.895198Z",
     "start_time": "2023-02-11T21:43:30.600829Z"
    }
   },
   "outputs": [
    {
     "data": {
      "text/plain": [
       "Text(0, 0.5, 'Количество абонентов')"
      ]
     },
     "execution_count": 26,
     "metadata": {},
     "output_type": "execute_result"
    },
    {
     "data": {
      "image/png": "[encoded data removed]",
      "text/plain": [
       "<Figure size 1296x432 with 1 Axes>"
      ]
     },
     "metadata": {
      "needs_background": "light"
     },
     "output_type": "display_data"
    }
   ],
   "source": [
    "# Построение гистограммы по потраченным мегабайтам по тарифам\n",
    "plt.figure(figsize=(18, 6))\n",
    "(result_df.loc[result_df['tariff'] == 'smart']['mb_used']\n",
    "         .plot(kind='hist', alpha=0.8))\n",
    "(result_df.loc[result_df['tariff'] == 'ultra']['mb_used']\n",
    "         .plot(kind='hist', alpha=0.8))\n",
    "plt.title('Гистограмма потраченных мегабайт по тарифам')\n",
    "plt.xlabel('Количество потраченных мегабайт')\n",
    "plt.ylabel('Количество абонентов')"
   ]
  },
  {
   "cell_type": "markdown",
   "metadata": {},
   "source": [
    "Из гистограммы видно, что пользователи тарифа *smart* как правило не используют больше 23 гб в месяц, а пользователи тарифа *ultra* распределены в виде колокола нормального распределения до 50 гб в месяц. Данные по потраченным мегабайтам имеют нормальное распределение."
   ]
  },
  {
   "cell_type": "code",
   "execution_count": 27,
   "metadata": {
    "ExecuteTime": {
     "end_time": "2023-02-11T21:43:31.304125Z",
     "start_time": "2023-02-11T21:43:30.900156Z"
    }
   },
   "outputs": [
    {
     "data": {
      "text/plain": [
       "Text(0, 0.5, 'Количество абонентов')"
      ]
     },
     "execution_count": 27,
     "metadata": {},
     "output_type": "execute_result"
    },
    {
     "data": {
      "image/png": "[encoded data removed]",
      "text/plain": [
       "<Figure size 1296x432 with 1 Axes>"
      ]
     },
     "metadata": {
      "needs_background": "light"
     },
     "output_type": "display_data"
    }
   ],
   "source": [
    "# Построение гистограммы по доходам по тарифам\n",
    "plt.figure(figsize=(18, 6))\n",
    "(result_df.loc[result_df['tariff'] == 'smart']['income']\n",
    "         .plot(kind='hist', alpha=0.8, bins=30, range=(0, 4000)))\n",
    "(result_df.loc[result_df['tariff'] == 'ultra']['income']\n",
    "         .plot(kind='hist', alpha=0.8, bins=30, range=(0, 4000)))\n",
    "plt.title('Гистограмма оплата тарифов')\n",
    "plt.xlabel('Количество затраты по тарифу')\n",
    "plt.ylabel('Количество абонентов')"
   ]
  },
  {
   "cell_type": "markdown",
   "metadata": {},
   "source": [
    "Из гистограммы видно, что большинство пользователей тарифа *ultra* платят исключительно ежемесяный платеж, редко выходя за рамки лимита данного тарифа. Множество пользователетей тарифа *smart* платя ежемесячный платеж 500 рублей, но часто \"вылазят\" за рамки тарифа и платят больше. Данные скошены влево."
   ]
  },
  {
   "cell_type": "markdown",
   "metadata": {},
   "source": [
    "Рассчитаем суммарную выручку за 2018 год по двум рассматриваемым тарифам."
   ]
  },
  {
   "cell_type": "code",
   "execution_count": 28,
   "metadata": {
    "ExecuteTime": {
     "end_time": "2023-02-11T21:43:31.508097Z",
     "start_time": "2023-02-11T21:43:31.307122Z"
    }
   },
   "outputs": [
    {
     "name": "stdout",
     "output_type": "stream",
     "text": [
      "Тариф smart доходнее тарифа ультра на 834851.0 руб.\n"
     ]
    },
    {
     "data": {
      "text/plain": [
       "Text(0, 0.5, 'Доходность, млн. руб.')"
      ]
     },
     "execution_count": 28,
     "metadata": {},
     "output_type": "execute_result"
    },
    {
     "data": {
      "image/png": "[encoded data removed]",
      "text/plain": [
       "<Figure size 1296x504 with 1 Axes>"
      ]
     },
     "metadata": {
      "needs_background": "light"
     },
     "output_type": "display_data"
    }
   ],
   "source": [
    "total_sales = result_df.pivot_table(index='tariff',\n",
    "                                    values='income',\n",
    "                                    aggfunc=np.sum)\n",
    "difference = total_sales['income'][0] - total_sales['income'][1]\n",
    "\n",
    "print(f'Тариф smart доходнее тарифа ультра на {difference} руб.')\n",
    "\n",
    "plt.figure(figsize=(18, 7))\n",
    "sns.barplot(x=total_sales.index,\n",
    "            y=total_sales['income'])\n",
    "plt.title('Доходы по тарифам')\n",
    "plt.xlabel('Наименование тарифа')\n",
    "plt.ylabel('Доходность, млн. руб.')"
   ]
  },
  {
   "cell_type": "markdown",
   "metadata": {},
   "source": [
    "Из расчетов и гистограммы видно, что суммарная выручка по тарифу smart выше выручки по тарифу ultra на 834851 руб."
   ]
  },
  {
   "cell_type": "markdown",
   "metadata": {},
   "source": [
    "Посмотрим какой средний возраст пользователей в выборке и у каждого из тарифов"
   ]
  },
  {
   "cell_type": "code",
   "execution_count": 29,
   "metadata": {
    "ExecuteTime": {
     "end_time": "2023-02-11T21:43:31.524054Z",
     "start_time": "2023-02-11T21:43:31.511088Z"
    }
   },
   "outputs": [
    {
     "name": "stdout",
     "output_type": "stream",
     "text": [
      "Средний возраст пользователей: 46.588\n",
      "Медианный возраст пользователей: 46.0\n"
     ]
    }
   ],
   "source": [
    "print('Средний возраст пользователей:', users['age'].mean())\n",
    "print('Медианный возраст пользователей:', users['age'].median())"
   ]
  },
  {
   "cell_type": "code",
   "execution_count": 30,
   "metadata": {
    "ExecuteTime": {
     "end_time": "2023-02-11T21:43:31.730722Z",
     "start_time": "2023-02-11T21:43:31.526048Z"
    }
   },
   "outputs": [
    {
     "data": {
      "text/plain": [
       "Text(0, 0.5, 'Возраст, лет')"
      ]
     },
     "execution_count": 30,
     "metadata": {},
     "output_type": "execute_result"
    },
    {
     "data": {
      "image/png": "[encoded data removed]",
      "text/plain": [
       "<Figure size 1296x504 with 1 Axes>"
      ]
     },
     "metadata": {
      "needs_background": "light"
     },
     "output_type": "display_data"
    }
   ],
   "source": [
    "mean_age = users.pivot_table(index='tariff',\n",
    "                             values='age')\n",
    "plt.figure(figsize=(18, 7))\n",
    "sns.barplot(x=mean_age.index,\n",
    "            y=mean_age['age'])\n",
    "plt.title('Средний возраст')\n",
    "plt.xlabel('Наименование тарифа')\n",
    "plt.ylabel('Возраст, лет')"
   ]
  },
  {
   "cell_type": "markdown",
   "metadata": {},
   "source": [
    "Посчитаем сколько звонков сделали, минут, смс и мегабайт потратили абоненты по тарифам."
   ]
  },
  {
   "cell_type": "code",
   "execution_count": 31,
   "metadata": {
    "ExecuteTime": {
     "end_time": "2023-02-11T21:43:31.920137Z",
     "start_time": "2023-02-11T21:43:31.732717Z"
    }
   },
   "outputs": [
    {
     "data": {
      "text/plain": [
       "Text(0, 0.5, 'Количество минут')"
      ]
     },
     "execution_count": 31,
     "metadata": {},
     "output_type": "execute_result"
    },
    {
     "data": {
      "image/png": "[encoded data removed]",
      "text/plain": [
       "<Figure size 1296x504 with 1 Axes>"
      ]
     },
     "metadata": {
      "needs_background": "light"
     },
     "output_type": "display_data"
    }
   ],
   "source": [
    "minutes_spent = result_df.pivot_table(index='tariff',\n",
    "                                      values='minutes_spent',\n",
    "                                      aggfunc=np.sum)\n",
    "plt.figure(figsize=(18, 7))\n",
    "sns.barplot(x=minutes_spent.index,\n",
    "            y=minutes_spent['minutes_spent'])\n",
    "plt.title('Количество потраченных минут')\n",
    "plt.xlabel('Наименование тарифа')\n",
    "plt.ylabel('Количество минут')"
   ]
  },
  {
   "cell_type": "code",
   "execution_count": 32,
   "metadata": {
    "ExecuteTime": {
     "end_time": "2023-02-11T21:43:32.139065Z",
     "start_time": "2023-02-11T21:43:31.923130Z"
    }
   },
   "outputs": [
    {
     "data": {
      "text/plain": [
       "Text(0, 0.5, 'Количество смс')"
      ]
     },
     "execution_count": 32,
     "metadata": {},
     "output_type": "execute_result"
    },
    {
     "data": {
      "image/png": "[encoded data removed]",
      "text/plain": [
       "<Figure size 1296x504 with 1 Axes>"
      ]
     },
     "metadata": {
      "needs_background": "light"
     },
     "output_type": "display_data"
    }
   ],
   "source": [
    "sms_sent = result_df.pivot_table(index='tariff',\n",
    "                                 values='sms_sent',\n",
    "                                 aggfunc=np.sum)\n",
    "plt.figure(figsize=(18, 7))\n",
    "sns.barplot(x=sms_sent.index,\n",
    "            y=sms_sent['sms_sent'])\n",
    "plt.title('Количество отправленных смс')\n",
    "plt.xlabel('Наименование тарифа')\n",
    "plt.ylabel('Количество смс')"
   ]
  },
  {
   "cell_type": "code",
   "execution_count": 33,
   "metadata": {
    "ExecuteTime": {
     "end_time": "2023-02-11T21:43:32.357119Z",
     "start_time": "2023-02-11T21:43:32.142059Z"
    }
   },
   "outputs": [
    {
     "data": {
      "text/plain": [
       "Text(0, 0.5, 'Количество мегабайт')"
      ]
     },
     "execution_count": 33,
     "metadata": {},
     "output_type": "execute_result"
    },
    {
     "data": {
      "image/png": "[encoded data removed]",
      "text/plain": [
       "<Figure size 1296x504 with 1 Axes>"
      ]
     },
     "metadata": {
      "needs_background": "light"
     },
     "output_type": "display_data"
    }
   ],
   "source": [
    "mb_used = result_df.pivot_table(index='tariff',\n",
    "                                values='mb_used',\n",
    "                                aggfunc=np.sum)\n",
    "plt.figure(figsize=(18, 7))\n",
    "sns.barplot(x=mb_used.index,\n",
    "            y=mb_used['mb_used'])\n",
    "plt.title('Количество потраченных мегабайт')\n",
    "plt.xlabel('Наименование тарифа')\n",
    "plt.ylabel('Количество мегабайт')"
   ]
  },
  {
   "cell_type": "code",
   "execution_count": 34,
   "metadata": {
    "ExecuteTime": {
     "end_time": "2023-02-11T21:43:32.641441Z",
     "start_time": "2023-02-11T21:43:32.362073Z"
    }
   },
   "outputs": [
    {
     "data": {
      "text/plain": [
       "Text(0, 0.5, 'Количество звонков')"
      ]
     },
     "execution_count": 34,
     "metadata": {},
     "output_type": "execute_result"
    },
    {
     "data": {
      "image/png": "[encoded data removed]",
      "text/plain": [
       "<Figure size 1296x504 with 1 Axes>"
      ]
     },
     "metadata": {
      "needs_background": "light"
     },
     "output_type": "display_data"
    }
   ],
   "source": [
    "numbers_of_calls = result_df.pivot_table(index='tariff',\n",
    "                                         values='number_of_calls',\n",
    "                                         aggfunc=np.sum)\n",
    "plt.figure(figsize=(18, 7))\n",
    "sns.barplot(x=numbers_of_calls.index,\n",
    "            y=numbers_of_calls['number_of_calls'])\n",
    "plt.title('Количество сделанных звонков')\n",
    "plt.xlabel('Наименование тарифа')\n",
    "plt.ylabel('Количество звонков')"
   ]
  },
  {
   "cell_type": "markdown",
   "metadata": {},
   "source": [
    "### Вывод"
   ]
  },
  {
   "cell_type": "markdown",
   "metadata": {},
   "source": [
    "Из проведенного исследовательского анализа можно сделать вывод, что данные пользователи приведенных двух тарифов очень разные, тратят разное количество минут звонков, посылают разное количество смс сообщений, по разному пользуются интернетом. Пользователи тарифа *ultra* тратят большее число услуг, но в рамках оплаченного пакета, тогда как пользователи тарифа *smart* чаще всего выходят за рамки предоплаченного пакета услуг. Видимо потому что не хотят платить за дорогой пакет, но не рассчитывают свои потребности в звонках, смс и интернете."
   ]
  },
  {
   "cell_type": "markdown",
   "metadata": {},
   "source": [
    "## Проверка гипотез"
   ]
  },
  {
   "cell_type": "markdown",
   "metadata": {},
   "source": [
    "### Гипотеза № 1: средняя выручка пользователей тарифов «Ультра» и «Смарт» различаются"
   ]
  },
  {
   "cell_type": "markdown",
   "metadata": {},
   "source": [
    "Проверим первую гепотезу о том, что выручка пользователей тарифов \"ультра\" и \"смарт\" различаются.\n",
    "\n",
    "H0: нулевая гипотеза для нас заключается в том, что данные тарифы равны по объему выручки.\n",
    "\n",
    "H1: альтарнативной теорией мы хотим доказать, что выручка по данным тарифам различна."
   ]
  },
  {
   "cell_type": "code",
   "execution_count": 35,
   "metadata": {
    "ExecuteTime": {
     "end_time": "2023-02-11T21:43:32.673393Z",
     "start_time": "2023-02-11T21:43:32.646437Z"
    }
   },
   "outputs": [
    {
     "name": "stdout",
     "output_type": "stream",
     "text": [
      "p-значение: 8.081909555489933e-161\n",
      "Отвергаем нулевую гипотезу\n"
     ]
    }
   ],
   "source": [
    "smart_tariff = result_df.loc[result_df['tariff'] == 'smart']['income']  # Выборка по тарифу smart\n",
    "ultra_tariff = result_df.loc[result_df['tariff'] == 'ultra']['income']  # Выборка по тарифу ultra\n",
    "\n",
    "alpha = .05  # Пороговое значение проверки гипотезы\n",
    "\n",
    "# Проверка гипотезы\n",
    "result = st.ttest_ind(smart_tariff,\n",
    "                      ultra_tariff)\n",
    "\n",
    "print('p-значение:', result.pvalue)\n",
    "\n",
    "if result.pvalue < alpha:\n",
    "    print(\"Отвергаем нулевую гипотезу\")\n",
    "else:\n",
    "    print(\"Не получилось отвергнуть нулевую гипотезу\") "
   ]
  },
  {
   "cell_type": "markdown",
   "metadata": {},
   "source": [
    "Из проверки нулевой гипотезы видно, что шанс получить схожие данные при условии, что нулевая гипотеза верна, крайне мал, поэтому мы отвергаем нулевую гипотезу."
   ]
  },
  {
   "cell_type": "markdown",
   "metadata": {},
   "source": [
    "### Гипотеза № 2: средняя выручка пользователей из Москвы отличается от выручки пользователей из других регионов"
   ]
  },
  {
   "cell_type": "markdown",
   "metadata": {},
   "source": [
    "Проверим первую гепотезу о том, что выручка пользователей тарифов \"ультра\" и \"смарт\" различается в зависимости от региона.\n",
    "\n",
    "H0: нулевая гипотеза для нас заключается в том, что данные тарифы равны по выручке по регионам.\n",
    "\n",
    "H1: альтарнативной теорией мы хотим доказать, что выручка по данным тарифам по регионам различна."
   ]
  },
  {
   "cell_type": "code",
   "execution_count": 36,
   "metadata": {
    "ExecuteTime": {
     "end_time": "2023-02-11T21:43:32.705271Z",
     "start_time": "2023-02-11T21:43:32.675351Z"
    }
   },
   "outputs": [
    {
     "name": "stdout",
     "output_type": "stream",
     "text": [
      "p-значение: 0.5216952110000279\n",
      "Не получилось отвергнуть нулевую гипотезу\n"
     ]
    }
   ],
   "source": [
    "smart_tariff = result_df.loc[result_df['city'] == 'Москва']['income']  # Выборка по Москве\n",
    "ultra_tariff = result_df.loc[result_df['city'] != 'Москва']['income']  # Выборка по регионам\n",
    "\n",
    "alpha = .05  # Пороговое значение проверки гипотезы\n",
    "\n",
    "# Проверка гипотезы\n",
    "result = st.ttest_ind(smart_tariff,\n",
    "                      ultra_tariff,\n",
    "                      equal_var=False)\n",
    "\n",
    "print('p-значение:', result.pvalue)\n",
    "\n",
    "if result.pvalue < alpha:\n",
    "    print(\"Отвергаем нулевую гипотезу\")\n",
    "else:\n",
    "    print(\"Не получилось отвергнуть нулевую гипотезу\") "
   ]
  },
  {
   "cell_type": "code",
   "execution_count": 37,
   "metadata": {
    "ExecuteTime": {
     "end_time": "2023-02-11T21:43:32.737241Z",
     "start_time": "2023-02-11T21:43:32.708265Z"
    }
   },
   "outputs": [
    {
     "name": "stdout",
     "output_type": "stream",
     "text": [
      "p-значение: 0.1912450522572209\n",
      "Не получилось отвергнуть нулевую гипотезу\n"
     ]
    }
   ],
   "source": [
    "# Приведены два датасета: сумма покупок, совершённых за месяц посетителями\n",
    "\n",
    "sample_1 = [3071, 3636, 3454, 3151, 2185, 3259, 1727, 2263, 2015,\n",
    "2582, 4815, 633, 3186, 887, 2028, 3589, 2564, 1422, 1785,\n",
    "3180, 1770, 2716, 2546, 1848, 4644, 3134, 475, 2686,\n",
    "1838, 3352]\n",
    "\n",
    "sample_2 = [1211, 1228, 2157, 3699, 600, 1898, 1688, 1420, 5048, 3007,\n",
    "509, 3777, 5583, 3949, 121, 1674, 4300, 1338, 3066,\n",
    "3562, 1010, 2311, 462, 863, 2021, 528, 1849, 255,\n",
    "1740, 2596]\n",
    "\n",
    "alpha = .05 # критический уровень статистической значимости\n",
    "\n",
    "# если p-value окажется меньше него - отвергнем гипотезу\n",
    "results = st.ttest_ind(\n",
    "sample_1,\n",
    "sample_2)\n",
    "print('p-значение:', results.pvalue)\n",
    "if (results.pvalue < alpha):\n",
    "    print(\"Отвергаем нулевую гипотезу\")\n",
    "else:\n",
    "    print(\"Не получилось отвергнуть нулевую гипотезу\")"
   ]
  },
  {
   "cell_type": "markdown",
   "metadata": {},
   "source": [
    "Из проверки нулевой гипотезы видно, что шанс получить схожие данные при условии, что нулевая гипотеза верна, составляет примерно 52%, поэтому мы не можем отвергнуть нулевую гипотезу."
   ]
  },
  {
   "cell_type": "markdown",
   "metadata": {},
   "source": [
    "## Вывод"
   ]
  },
  {
   "cell_type": "markdown",
   "metadata": {},
   "source": [
    "Из двух гипотез подтвердилась только одна - тарифы действительно приносят разные деньги компаниям. Но мы не знаем какой из них приносит денег больше.\n",
    "\n",
    "А вот распределение дохода по данным тарифам по регионам не сильно разнится. Но и тут Москва стоит наравне почти со всей Россией по доходама, а зачит реклама там более приоритетна."
   ]
  },
  {
   "cell_type": "markdown",
   "metadata": {},
   "source": [
    "## Общий вывод"
   ]
  },
  {
   "cell_type": "markdown",
   "metadata": {},
   "source": [
    "Из проведенного анализа видно, что два тарифа действительно разные и приносят разную выручку компании. Мы не проводили одноронней гипотезы и не определяли по какому тарифу выручка больше, поэтому сложно сделать вывод, какой из тарифов приносит больше денег, но из проведенного исследовательскогоа анализа и диаграм можно сделать предположение, что пользователи тарифы *smart* приносят больше денег компании, т.к. люди часто выходят за пределы выделенных в рамках тарифа лимитов и из-за этого переплачивают. Это предпололжение - предпосылка проверить в будущем еще несколько односторонних гипотез.\n",
    "\n",
    "Также из исследовательского анализа данных видно, что в целом по тарифу smart пользователи совершают большее количество звонков, тратят больше минут, отправляют больше смс и чаще сидят в интернете из чего можнос делать вывод, что рекламная компания для тарифа smart более выгодная, чем для тарифа ultra."
   ]
  }
 ],
 "metadata": {
  "ExecuteTimeLog": [
   {
    "duration": 4,
    "start_time": "2022-06-16T06:42:03.001Z"
   },
   {
    "duration": 409,
    "start_time": "2022-06-16T07:10:08.769Z"
   },
   {
    "duration": 43,
    "start_time": "2022-06-16T07:13:22.565Z"
   },
   {
    "duration": 289,
    "start_time": "2022-06-16T07:13:38.098Z"
   },
   {
    "duration": 944,
    "start_time": "2022-06-16T07:14:52.513Z"
   },
   {
    "duration": 486,
    "start_time": "2022-06-16T07:15:30.136Z"
   },
   {
    "duration": 550,
    "start_time": "2022-06-16T07:16:43.901Z"
   },
   {
    "duration": 21,
    "start_time": "2022-06-16T07:22:44.375Z"
   },
   {
    "duration": 31,
    "start_time": "2022-06-16T07:22:48.589Z"
   },
   {
    "duration": 34,
    "start_time": "2022-06-16T07:23:12.680Z"
   },
   {
    "duration": 47,
    "start_time": "2022-06-16T07:23:18.211Z"
   },
   {
    "duration": 41,
    "start_time": "2022-06-16T07:24:05.248Z"
   },
   {
    "duration": 25,
    "start_time": "2022-06-16T07:24:17.252Z"
   },
   {
    "duration": 15,
    "start_time": "2022-06-16T07:24:32.807Z"
   },
   {
    "duration": 21,
    "start_time": "2022-06-16T07:24:50.961Z"
   },
   {
    "duration": 11,
    "start_time": "2022-06-16T07:29:25.619Z"
   },
   {
    "duration": 9,
    "start_time": "2022-06-16T07:29:31.269Z"
   },
   {
    "duration": 7,
    "start_time": "2022-06-16T07:33:31.499Z"
   },
   {
    "duration": 80,
    "start_time": "2022-06-16T07:39:09.278Z"
   },
   {
    "duration": 9,
    "start_time": "2022-06-16T07:41:14.893Z"
   },
   {
    "duration": 8,
    "start_time": "2022-06-16T07:41:19.252Z"
   },
   {
    "duration": 10,
    "start_time": "2022-06-16T07:42:10.682Z"
   },
   {
    "duration": 6,
    "start_time": "2022-06-16T07:42:13.775Z"
   },
   {
    "duration": 7,
    "start_time": "2022-06-16T07:43:41.603Z"
   },
   {
    "duration": 8,
    "start_time": "2022-06-16T07:43:47.674Z"
   },
   {
    "duration": 8,
    "start_time": "2022-06-16T07:45:10.304Z"
   },
   {
    "duration": 6,
    "start_time": "2022-06-16T07:46:42.144Z"
   },
   {
    "duration": 6,
    "start_time": "2022-06-16T07:46:43.945Z"
   },
   {
    "duration": 7,
    "start_time": "2022-06-16T07:47:42.843Z"
   },
   {
    "duration": 6,
    "start_time": "2022-06-16T07:47:43.535Z"
   },
   {
    "duration": 832,
    "start_time": "2022-06-16T07:49:21.415Z"
   },
   {
    "duration": 5,
    "start_time": "2022-06-16T07:49:24.416Z"
   },
   {
    "duration": 530,
    "start_time": "2022-06-16T07:49:24.423Z"
   },
   {
    "duration": 98,
    "start_time": "2022-06-16T07:49:24.954Z"
   },
   {
    "duration": 23,
    "start_time": "2022-06-16T07:49:25.054Z"
   },
   {
    "duration": 27,
    "start_time": "2022-06-16T07:49:25.079Z"
   },
   {
    "duration": 37,
    "start_time": "2022-06-16T07:49:25.107Z"
   },
   {
    "duration": 14,
    "start_time": "2022-06-16T07:49:25.146Z"
   },
   {
    "duration": 122,
    "start_time": "2022-06-16T07:49:25.162Z"
   },
   {
    "duration": 7,
    "start_time": "2022-06-16T07:49:25.286Z"
   },
   {
    "duration": 12,
    "start_time": "2022-06-16T07:49:25.295Z"
   },
   {
    "duration": 18,
    "start_time": "2022-06-16T07:49:25.309Z"
   },
   {
    "duration": 10,
    "start_time": "2022-06-16T07:49:30.226Z"
   },
   {
    "duration": 544,
    "start_time": "2022-06-16T07:49:30.239Z"
   },
   {
    "duration": 31,
    "start_time": "2022-06-16T07:49:30.785Z"
   },
   {
    "duration": 49,
    "start_time": "2022-06-16T07:49:30.818Z"
   },
   {
    "duration": 26,
    "start_time": "2022-06-16T07:49:30.869Z"
   },
   {
    "duration": 58,
    "start_time": "2022-06-16T07:49:30.897Z"
   },
   {
    "duration": 60,
    "start_time": "2022-06-16T07:49:30.958Z"
   },
   {
    "duration": 115,
    "start_time": "2022-06-16T07:49:31.020Z"
   },
   {
    "duration": 8,
    "start_time": "2022-06-16T07:49:31.137Z"
   },
   {
    "duration": 31,
    "start_time": "2022-06-16T07:49:31.147Z"
   },
   {
    "duration": 26,
    "start_time": "2022-06-16T07:49:31.180Z"
   },
   {
    "duration": 29,
    "start_time": "2022-06-16T08:26:27.403Z"
   },
   {
    "duration": 51,
    "start_time": "2022-06-16T08:26:45.656Z"
   },
   {
    "duration": 6,
    "start_time": "2022-06-16T08:26:59.421Z"
   },
   {
    "duration": 6,
    "start_time": "2022-06-16T08:27:25.772Z"
   },
   {
    "duration": 7,
    "start_time": "2022-06-16T08:27:30.642Z"
   },
   {
    "duration": 43,
    "start_time": "2022-06-16T08:27:54.673Z"
   },
   {
    "duration": 6,
    "start_time": "2022-06-16T08:27:59.493Z"
   },
   {
    "duration": 5,
    "start_time": "2022-06-16T08:28:08.874Z"
   },
   {
    "duration": 9,
    "start_time": "2022-06-16T08:32:48.488Z"
   },
   {
    "duration": 52,
    "start_time": "2022-06-16T08:32:52.898Z"
   },
   {
    "duration": 28,
    "start_time": "2022-06-16T08:34:30.284Z"
   },
   {
    "duration": 25,
    "start_time": "2022-06-16T08:34:33.991Z"
   },
   {
    "duration": 83,
    "start_time": "2022-06-16T08:34:38.776Z"
   },
   {
    "duration": 45,
    "start_time": "2022-06-16T08:36:11.678Z"
   },
   {
    "duration": 64,
    "start_time": "2022-06-16T08:37:15.467Z"
   },
   {
    "duration": 35,
    "start_time": "2022-06-16T08:37:15.533Z"
   },
   {
    "duration": 24,
    "start_time": "2022-06-16T08:37:38.978Z"
   },
   {
    "duration": 13,
    "start_time": "2022-06-16T08:40:37.808Z"
   },
   {
    "duration": 14,
    "start_time": "2022-06-16T08:43:01.315Z"
   },
   {
    "duration": 90,
    "start_time": "2022-06-16T08:44:11.090Z"
   },
   {
    "duration": 38,
    "start_time": "2022-06-16T08:44:23.038Z"
   },
   {
    "duration": 39,
    "start_time": "2022-06-16T08:44:54.130Z"
   },
   {
    "duration": 41,
    "start_time": "2022-06-16T08:44:59.591Z"
   },
   {
    "duration": 80,
    "start_time": "2022-06-16T08:45:19.269Z"
   },
   {
    "duration": 110,
    "start_time": "2022-06-16T08:45:34.361Z"
   },
   {
    "duration": 134,
    "start_time": "2022-06-16T08:45:49.014Z"
   },
   {
    "duration": 86,
    "start_time": "2022-06-16T08:45:52.511Z"
   },
   {
    "duration": 104,
    "start_time": "2022-06-16T08:46:13.430Z"
   },
   {
    "duration": 83,
    "start_time": "2022-06-16T08:46:26.750Z"
   },
   {
    "duration": 85,
    "start_time": "2022-06-16T08:46:37.846Z"
   },
   {
    "duration": 86,
    "start_time": "2022-06-16T08:46:47.708Z"
   },
   {
    "duration": 63,
    "start_time": "2022-06-16T08:50:52.009Z"
   },
   {
    "duration": 20,
    "start_time": "2022-06-16T08:51:25.810Z"
   },
   {
    "duration": 41,
    "start_time": "2022-06-16T08:51:41.810Z"
   },
   {
    "duration": 43,
    "start_time": "2022-06-16T08:52:13.710Z"
   },
   {
    "duration": 39,
    "start_time": "2022-06-16T08:52:22.661Z"
   },
   {
    "duration": 41,
    "start_time": "2022-06-16T08:52:27.530Z"
   },
   {
    "duration": 20,
    "start_time": "2022-06-16T08:56:25.748Z"
   },
   {
    "duration": 79,
    "start_time": "2022-06-16T08:56:36.438Z"
   },
   {
    "duration": 94,
    "start_time": "2022-06-16T08:56:51.047Z"
   },
   {
    "duration": 95,
    "start_time": "2022-06-16T08:57:02.287Z"
   },
   {
    "duration": 87,
    "start_time": "2022-06-16T08:57:11.837Z"
   },
   {
    "duration": 85,
    "start_time": "2022-06-16T08:57:16.367Z"
   },
   {
    "duration": 1393,
    "start_time": "2022-06-18T11:30:44.358Z"
   },
   {
    "duration": 1189,
    "start_time": "2022-06-18T11:30:45.759Z"
   },
   {
    "duration": 46,
    "start_time": "2022-06-18T11:30:46.950Z"
   },
   {
    "duration": 47,
    "start_time": "2022-06-18T11:30:47.003Z"
   },
   {
    "duration": 35,
    "start_time": "2022-06-18T11:30:47.052Z"
   },
   {
    "duration": 36,
    "start_time": "2022-06-18T11:30:47.089Z"
   },
   {
    "duration": 20,
    "start_time": "2022-06-18T11:30:47.128Z"
   },
   {
    "duration": 121,
    "start_time": "2022-06-18T11:30:47.150Z"
   },
   {
    "duration": 10,
    "start_time": "2022-06-18T11:30:47.273Z"
   },
   {
    "duration": 14,
    "start_time": "2022-06-18T11:30:47.287Z"
   },
   {
    "duration": 10,
    "start_time": "2022-06-18T11:30:47.303Z"
   },
   {
    "duration": 74,
    "start_time": "2022-06-18T11:30:47.315Z"
   },
   {
    "duration": 6,
    "start_time": "2022-06-18T11:30:47.390Z"
   },
   {
    "duration": 228,
    "start_time": "2022-06-18T11:30:47.398Z"
   },
   {
    "duration": 0,
    "start_time": "2022-06-18T11:30:47.627Z"
   },
   {
    "duration": 0,
    "start_time": "2022-06-18T11:30:47.629Z"
   },
   {
    "duration": 56,
    "start_time": "2022-06-19T13:54:43.974Z"
   },
   {
    "duration": 2320,
    "start_time": "2022-06-19T13:54:49.885Z"
   },
   {
    "duration": 1712,
    "start_time": "2022-06-19T13:54:52.207Z"
   },
   {
    "duration": 174,
    "start_time": "2022-06-19T13:54:53.921Z"
   },
   {
    "duration": 128,
    "start_time": "2022-06-19T13:54:54.100Z"
   },
   {
    "duration": 45,
    "start_time": "2022-06-19T13:54:54.235Z"
   },
   {
    "duration": 37,
    "start_time": "2022-06-19T13:54:54.285Z"
   },
   {
    "duration": 143,
    "start_time": "2022-06-19T13:54:54.332Z"
   },
   {
    "duration": 23,
    "start_time": "2022-06-19T13:54:54.476Z"
   },
   {
    "duration": 160,
    "start_time": "2022-06-19T13:54:54.502Z"
   },
   {
    "duration": 85,
    "start_time": "2022-06-19T13:54:54.669Z"
   },
   {
    "duration": 62,
    "start_time": "2022-06-19T13:54:54.757Z"
   },
   {
    "duration": 24,
    "start_time": "2022-06-19T13:54:54.826Z"
   },
   {
    "duration": 82,
    "start_time": "2022-06-19T13:54:54.853Z"
   },
   {
    "duration": 25,
    "start_time": "2022-06-19T13:54:54.942Z"
   },
   {
    "duration": 24,
    "start_time": "2022-06-19T13:54:54.969Z"
   },
   {
    "duration": 19,
    "start_time": "2022-06-19T13:54:54.997Z"
   },
   {
    "duration": 156,
    "start_time": "2022-06-19T13:54:55.018Z"
   },
   {
    "duration": 22,
    "start_time": "2022-06-19T13:54:55.179Z"
   },
   {
    "duration": 12,
    "start_time": "2022-06-19T13:54:55.203Z"
   },
   {
    "duration": 103,
    "start_time": "2022-06-19T13:54:55.217Z"
   },
   {
    "duration": 856,
    "start_time": "2022-06-19T13:54:55.321Z"
   },
   {
    "duration": 205,
    "start_time": "2022-06-19T13:54:56.181Z"
   },
   {
    "duration": 211,
    "start_time": "2022-06-19T13:54:56.389Z"
   },
   {
    "duration": 285,
    "start_time": "2022-06-19T13:54:56.602Z"
   },
   {
    "duration": 10,
    "start_time": "2022-06-19T13:54:56.890Z"
   },
   {
    "duration": 16,
    "start_time": "2022-06-19T13:54:56.901Z"
   },
   {
    "duration": 10,
    "start_time": "2022-06-19T13:55:20.055Z"
   },
   {
    "duration": 5,
    "start_time": "2022-06-19T13:55:27.142Z"
   },
   {
    "duration": 19,
    "start_time": "2022-06-19T13:55:49.122Z"
   },
   {
    "duration": 139,
    "start_time": "2022-06-19T13:57:07.845Z"
   },
   {
    "duration": 27,
    "start_time": "2022-06-19T13:57:11.761Z"
   },
   {
    "duration": 7,
    "start_time": "2022-06-19T13:57:22.883Z"
   },
   {
    "duration": 21,
    "start_time": "2022-06-19T13:57:29.876Z"
   },
   {
    "duration": 102,
    "start_time": "2022-06-19T13:58:58.505Z"
   },
   {
    "duration": 6,
    "start_time": "2022-06-19T13:59:16.289Z"
   },
   {
    "duration": 16,
    "start_time": "2022-06-19T14:03:30.376Z"
   },
   {
    "duration": 957,
    "start_time": "2022-06-19T14:11:45.050Z"
   },
   {
    "duration": 1189,
    "start_time": "2022-06-19T14:11:46.010Z"
   },
   {
    "duration": 151,
    "start_time": "2022-06-19T14:11:47.201Z"
   },
   {
    "duration": 105,
    "start_time": "2022-06-19T14:11:47.355Z"
   },
   {
    "duration": 9,
    "start_time": "2022-06-19T14:11:47.462Z"
   },
   {
    "duration": 19,
    "start_time": "2022-06-19T14:11:47.473Z"
   },
   {
    "duration": 63,
    "start_time": "2022-06-19T14:11:47.494Z"
   },
   {
    "duration": 11,
    "start_time": "2022-06-19T14:11:47.559Z"
   },
   {
    "duration": 113,
    "start_time": "2022-06-19T14:11:47.572Z"
   },
   {
    "duration": 72,
    "start_time": "2022-06-19T14:11:47.688Z"
   },
   {
    "duration": 45,
    "start_time": "2022-06-19T14:11:47.762Z"
   },
   {
    "duration": 26,
    "start_time": "2022-06-19T14:11:47.809Z"
   },
   {
    "duration": 38,
    "start_time": "2022-06-19T14:11:47.842Z"
   },
   {
    "duration": 15,
    "start_time": "2022-06-19T14:11:47.883Z"
   },
   {
    "duration": 10,
    "start_time": "2022-06-19T14:11:47.900Z"
   },
   {
    "duration": 12,
    "start_time": "2022-06-19T14:11:47.928Z"
   },
   {
    "duration": 81,
    "start_time": "2022-06-19T14:11:47.942Z"
   },
   {
    "duration": 21,
    "start_time": "2022-06-19T14:11:48.025Z"
   },
   {
    "duration": 16,
    "start_time": "2022-06-19T14:11:48.048Z"
   },
   {
    "duration": 18,
    "start_time": "2022-06-19T14:11:48.065Z"
   },
   {
    "duration": 66,
    "start_time": "2022-06-19T14:11:48.084Z"
   },
   {
    "duration": 464,
    "start_time": "2022-06-19T14:11:48.151Z"
   },
   {
    "duration": 181,
    "start_time": "2022-06-19T14:11:48.626Z"
   },
   {
    "duration": 174,
    "start_time": "2022-06-19T14:11:48.809Z"
   },
   {
    "duration": 271,
    "start_time": "2022-06-19T14:11:48.985Z"
   },
   {
    "duration": 10,
    "start_time": "2022-06-19T14:11:49.258Z"
   },
   {
    "duration": 14,
    "start_time": "2022-06-19T14:11:49.270Z"
   },
   {
    "duration": 5,
    "start_time": "2022-06-19T14:11:49.288Z"
   },
   {
    "duration": 48,
    "start_time": "2022-06-21T10:54:23.986Z"
   },
   {
    "duration": 1086,
    "start_time": "2022-06-21T10:56:34.970Z"
   },
   {
    "duration": 57,
    "start_time": "2022-06-21T10:56:37.113Z"
   },
   {
    "duration": 1080,
    "start_time": "2022-06-21T10:56:42.709Z"
   },
   {
    "duration": 421,
    "start_time": "2022-06-21T10:56:43.791Z"
   },
   {
    "duration": 172,
    "start_time": "2022-06-21T10:56:44.214Z"
   },
   {
    "duration": 89,
    "start_time": "2022-06-21T10:56:44.389Z"
   },
   {
    "duration": 14,
    "start_time": "2022-06-21T10:56:44.480Z"
   },
   {
    "duration": 9,
    "start_time": "2022-06-21T10:56:44.496Z"
   },
   {
    "duration": 72,
    "start_time": "2022-06-21T10:56:44.507Z"
   },
   {
    "duration": 23,
    "start_time": "2022-06-21T10:56:44.581Z"
   },
   {
    "duration": 85,
    "start_time": "2022-06-21T10:56:44.606Z"
   },
   {
    "duration": 90,
    "start_time": "2022-06-21T10:56:44.694Z"
   },
   {
    "duration": 41,
    "start_time": "2022-06-21T10:56:44.786Z"
   },
   {
    "duration": 4,
    "start_time": "2022-06-21T10:56:44.829Z"
   },
   {
    "duration": 73,
    "start_time": "2022-06-21T10:56:44.835Z"
   },
   {
    "duration": 11,
    "start_time": "2022-06-21T10:56:44.910Z"
   },
   {
    "duration": 28,
    "start_time": "2022-06-21T10:56:44.923Z"
   },
   {
    "duration": 26,
    "start_time": "2022-06-21T10:56:44.952Z"
   },
   {
    "duration": 7,
    "start_time": "2022-06-21T10:56:44.980Z"
   },
   {
    "duration": 11,
    "start_time": "2022-06-21T10:56:44.989Z"
   },
   {
    "duration": 11,
    "start_time": "2022-06-21T10:56:45.002Z"
   },
   {
    "duration": 255,
    "start_time": "2022-06-21T10:56:45.015Z"
   },
   {
    "duration": 20,
    "start_time": "2022-06-21T10:56:45.272Z"
   },
   {
    "duration": 4,
    "start_time": "2022-06-21T10:56:45.294Z"
   },
   {
    "duration": 12,
    "start_time": "2022-06-21T10:56:45.300Z"
   },
   {
    "duration": 68,
    "start_time": "2022-06-21T10:56:45.313Z"
   },
   {
    "duration": 229,
    "start_time": "2022-06-21T10:56:45.382Z"
   },
   {
    "duration": 205,
    "start_time": "2022-06-21T10:56:45.613Z"
   },
   {
    "duration": 213,
    "start_time": "2022-06-21T10:56:45.820Z"
   },
   {
    "duration": 286,
    "start_time": "2022-06-21T10:56:46.036Z"
   },
   {
    "duration": 166,
    "start_time": "2022-06-21T10:56:46.324Z"
   },
   {
    "duration": 5,
    "start_time": "2022-06-21T10:56:46.492Z"
   },
   {
    "duration": 153,
    "start_time": "2022-06-21T10:56:46.499Z"
   },
   {
    "duration": 155,
    "start_time": "2022-06-21T10:56:46.653Z"
   },
   {
    "duration": 234,
    "start_time": "2022-06-21T10:56:46.810Z"
   },
   {
    "duration": 172,
    "start_time": "2022-06-21T10:56:47.046Z"
   },
   {
    "duration": 167,
    "start_time": "2022-06-21T10:56:47.220Z"
   },
   {
    "duration": 9,
    "start_time": "2022-06-21T10:56:47.388Z"
   },
   {
    "duration": 9,
    "start_time": "2022-06-21T10:56:47.398Z"
   },
   {
    "duration": 6,
    "start_time": "2022-06-21T10:56:47.408Z"
   },
   {
    "duration": 7,
    "start_time": "2022-06-21T10:56:47.416Z"
   },
   {
    "duration": 4,
    "start_time": "2022-06-21T10:56:47.425Z"
   },
   {
    "duration": 40,
    "start_time": "2022-06-21T10:56:47.430Z"
   },
   {
    "duration": 104,
    "start_time": "2022-06-21T10:56:47.472Z"
   },
   {
    "duration": 0,
    "start_time": "2022-06-21T10:56:47.578Z"
   },
   {
    "duration": 0,
    "start_time": "2022-06-21T10:56:47.579Z"
   },
   {
    "duration": 0,
    "start_time": "2022-06-21T10:56:47.580Z"
   },
   {
    "duration": 0,
    "start_time": "2022-06-21T10:56:47.582Z"
   },
   {
    "duration": 170,
    "start_time": "2022-06-21T10:57:11.218Z"
   },
   {
    "duration": 1345,
    "start_time": "2022-06-21T10:57:29.677Z"
   },
   {
    "duration": 173,
    "start_time": "2022-06-21T10:57:42.746Z"
   },
   {
    "duration": 161,
    "start_time": "2022-06-21T10:57:47.028Z"
   },
   {
    "duration": 55,
    "start_time": "2022-06-21T10:57:49.892Z"
   },
   {
    "duration": 1097,
    "start_time": "2022-06-21T10:58:19.771Z"
   },
   {
    "duration": 393,
    "start_time": "2022-06-21T10:58:20.870Z"
   },
   {
    "duration": 135,
    "start_time": "2022-06-21T10:58:21.264Z"
   },
   {
    "duration": 85,
    "start_time": "2022-06-21T10:58:21.401Z"
   },
   {
    "duration": 11,
    "start_time": "2022-06-21T10:58:21.488Z"
   },
   {
    "duration": 8,
    "start_time": "2022-06-21T10:58:21.500Z"
   },
   {
    "duration": 78,
    "start_time": "2022-06-21T10:58:21.510Z"
   },
   {
    "duration": 24,
    "start_time": "2022-06-21T10:58:21.590Z"
   },
   {
    "duration": 87,
    "start_time": "2022-06-21T10:58:21.616Z"
   },
   {
    "duration": 80,
    "start_time": "2022-06-21T10:58:21.706Z"
   },
   {
    "duration": 37,
    "start_time": "2022-06-21T10:58:21.788Z"
   },
   {
    "duration": 4,
    "start_time": "2022-06-21T10:58:21.827Z"
   },
   {
    "duration": 67,
    "start_time": "2022-06-21T10:58:21.832Z"
   },
   {
    "duration": 10,
    "start_time": "2022-06-21T10:58:21.901Z"
   },
   {
    "duration": 34,
    "start_time": "2022-06-21T10:58:21.913Z"
   },
   {
    "duration": 30,
    "start_time": "2022-06-21T10:58:21.948Z"
   },
   {
    "duration": 14,
    "start_time": "2022-06-21T10:58:21.980Z"
   },
   {
    "duration": 9,
    "start_time": "2022-06-21T10:58:21.996Z"
   },
   {
    "duration": 10,
    "start_time": "2022-06-21T10:58:22.006Z"
   },
   {
    "duration": 261,
    "start_time": "2022-06-21T10:58:22.017Z"
   },
   {
    "duration": 22,
    "start_time": "2022-06-21T10:58:22.280Z"
   },
   {
    "duration": 6,
    "start_time": "2022-06-21T10:58:22.304Z"
   },
   {
    "duration": 20,
    "start_time": "2022-06-21T10:58:22.311Z"
   },
   {
    "duration": 62,
    "start_time": "2022-06-21T10:58:22.333Z"
   },
   {
    "duration": 242,
    "start_time": "2022-06-21T10:58:22.397Z"
   },
   {
    "duration": 206,
    "start_time": "2022-06-21T10:58:22.641Z"
   },
   {
    "duration": 206,
    "start_time": "2022-06-21T10:58:22.849Z"
   },
   {
    "duration": 278,
    "start_time": "2022-06-21T10:58:23.058Z"
   },
   {
    "duration": 172,
    "start_time": "2022-06-21T10:58:23.337Z"
   },
   {
    "duration": 5,
    "start_time": "2022-06-21T10:58:23.511Z"
   },
   {
    "duration": 164,
    "start_time": "2022-06-21T10:58:23.518Z"
   },
   {
    "duration": 151,
    "start_time": "2022-06-21T10:58:23.683Z"
   },
   {
    "duration": 235,
    "start_time": "2022-06-21T10:58:23.836Z"
   },
   {
    "duration": 169,
    "start_time": "2022-06-21T10:58:24.072Z"
   },
   {
    "duration": 165,
    "start_time": "2022-06-21T10:58:24.243Z"
   },
   {
    "duration": 8,
    "start_time": "2022-06-21T10:58:24.409Z"
   },
   {
    "duration": 10,
    "start_time": "2022-06-21T10:58:24.419Z"
   },
   {
    "duration": 6,
    "start_time": "2022-06-21T10:58:24.430Z"
   },
   {
    "duration": 3,
    "start_time": "2022-06-21T10:58:24.468Z"
   },
   {
    "duration": 5,
    "start_time": "2022-06-21T10:58:24.472Z"
   },
   {
    "duration": 1342,
    "start_time": "2022-06-21T10:58:24.479Z"
   },
   {
    "duration": 181,
    "start_time": "2022-06-21T10:58:25.822Z"
   },
   {
    "duration": 178,
    "start_time": "2022-06-21T10:58:26.004Z"
   },
   {
    "duration": 163,
    "start_time": "2022-06-21T10:58:26.183Z"
   },
   {
    "duration": 54,
    "start_time": "2022-06-21T10:58:26.348Z"
   },
   {
    "duration": 1067,
    "start_time": "2022-06-21T11:02:01.325Z"
   },
   {
    "duration": 400,
    "start_time": "2022-06-21T11:02:02.394Z"
   },
   {
    "duration": 117,
    "start_time": "2022-06-21T11:02:02.795Z"
   },
   {
    "duration": 97,
    "start_time": "2022-06-21T11:02:02.914Z"
   },
   {
    "duration": 11,
    "start_time": "2022-06-21T11:02:03.014Z"
   },
   {
    "duration": 6,
    "start_time": "2022-06-21T11:02:03.027Z"
   },
   {
    "duration": 67,
    "start_time": "2022-06-21T11:02:03.035Z"
   },
   {
    "duration": 21,
    "start_time": "2022-06-21T11:02:03.104Z"
   },
   {
    "duration": 76,
    "start_time": "2022-06-21T11:02:03.126Z"
   },
   {
    "duration": 77,
    "start_time": "2022-06-21T11:02:03.204Z"
   },
   {
    "duration": 37,
    "start_time": "2022-06-21T11:02:03.283Z"
   },
   {
    "duration": 3,
    "start_time": "2022-06-21T11:02:03.322Z"
   },
   {
    "duration": 69,
    "start_time": "2022-06-21T11:02:03.327Z"
   },
   {
    "duration": 9,
    "start_time": "2022-06-21T11:02:03.399Z"
   },
   {
    "duration": 36,
    "start_time": "2022-06-21T11:02:03.410Z"
   },
   {
    "duration": 24,
    "start_time": "2022-06-21T11:02:03.448Z"
   },
   {
    "duration": 7,
    "start_time": "2022-06-21T11:02:03.473Z"
   },
   {
    "duration": 12,
    "start_time": "2022-06-21T11:02:03.481Z"
   },
   {
    "duration": 12,
    "start_time": "2022-06-21T11:02:03.495Z"
   },
   {
    "duration": 241,
    "start_time": "2022-06-21T11:02:03.509Z"
   },
   {
    "duration": 21,
    "start_time": "2022-06-21T11:02:03.752Z"
   },
   {
    "duration": 4,
    "start_time": "2022-06-21T11:02:03.774Z"
   },
   {
    "duration": 12,
    "start_time": "2022-06-21T11:02:03.780Z"
   },
   {
    "duration": 39,
    "start_time": "2022-06-21T11:02:03.793Z"
   },
   {
    "duration": 239,
    "start_time": "2022-06-21T11:02:03.834Z"
   },
   {
    "duration": 234,
    "start_time": "2022-06-21T11:02:04.075Z"
   },
   {
    "duration": 210,
    "start_time": "2022-06-21T11:02:04.311Z"
   },
   {
    "duration": 310,
    "start_time": "2022-06-21T11:02:04.523Z"
   },
   {
    "duration": 175,
    "start_time": "2022-06-21T11:02:04.835Z"
   },
   {
    "duration": 5,
    "start_time": "2022-06-21T11:02:05.012Z"
   },
   {
    "duration": 136,
    "start_time": "2022-06-21T11:02:05.019Z"
   },
   {
    "duration": 133,
    "start_time": "2022-06-21T11:02:05.157Z"
   },
   {
    "duration": 244,
    "start_time": "2022-06-21T11:02:05.291Z"
   },
   {
    "duration": 170,
    "start_time": "2022-06-21T11:02:05.537Z"
   },
   {
    "duration": 153,
    "start_time": "2022-06-21T11:02:05.709Z"
   },
   {
    "duration": 11,
    "start_time": "2022-06-21T11:02:05.864Z"
   },
   {
    "duration": 14,
    "start_time": "2022-06-21T11:02:05.877Z"
   },
   {
    "duration": 7,
    "start_time": "2022-06-21T11:02:05.893Z"
   },
   {
    "duration": 9,
    "start_time": "2022-06-21T11:02:05.901Z"
   },
   {
    "duration": 7,
    "start_time": "2022-06-21T11:02:05.911Z"
   },
   {
    "duration": 1379,
    "start_time": "2022-06-21T11:02:05.921Z"
   },
   {
    "duration": 185,
    "start_time": "2022-06-21T11:02:07.302Z"
   },
   {
    "duration": 180,
    "start_time": "2022-06-21T11:02:07.489Z"
   },
   {
    "duration": 154,
    "start_time": "2022-06-21T11:02:07.671Z"
   },
   {
    "duration": 55,
    "start_time": "2022-06-21T11:02:07.826Z"
   }
  ],
  "kernelspec": {
   "display_name": "Python 3 (ipykernel)",
   "language": "python",
   "name": "python3"
  },
  "language_info": {
   "codemirror_mode": {
    "name": "ipython",
    "version": 3
   },
   "file_extension": ".py",
   "mimetype": "text/x-python",
   "name": "python",
   "nbconvert_exporter": "python",
   "pygments_lexer": "ipython3",
   "version": "3.9.7"
  },
  "toc": {
   "base_numbering": 1,
   "nav_menu": {},
   "number_sections": true,
   "sideBar": true,
   "skip_h1_title": true,
   "title_cell": "Table of Contents",
   "title_sidebar": "Contents",
   "toc_cell": false,
   "toc_position": {
    "height": "495.556px",
    "left": "165px",
    "top": "309.441px",
    "width": "275.104px"
   },
   "toc_section_display": true,
   "toc_window_display": true
  }
 },
 "nbformat": 4,
 "nbformat_minor": 2
}
