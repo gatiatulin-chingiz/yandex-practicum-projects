{
 "cells": [
  {
   "cell_type": "markdown",
   "id": "e8e02ecd",
   "metadata": {},
   "source": [
    "# Исследование надёжности заёмщиков — анализ банковских данных"
   ]
  },
  {
   "cell_type": "markdown",
   "id": "ae71b916",
   "metadata": {},
   "source": [
    "**Цель исследования** - определить степень влияния различных критериев на погашения заемщиками кредитных обязательств в установленный срок.\n",
    "\n",
    "**Ход исследования:**\n",
    "\n",
    "В ходе ислледования мы проверим следующие гипотезы:\n",
    " 1. Существует ли зависимость между количеством детей и возвратом кредита в срок?\n",
    " 2. Существует ли зависимость между семейным положением и возвратом кредита в срок?\n",
    " 3. Существует ли зависимость между уровнем дохода и возвратом кредита в срок?\n",
    " 4. Как разные цели кредита влияют на его возврат в срок?\n",
    "\n",
    "Исследование пройдёт в три этапа:\n",
    " 1. Обзор данных.\n",
    " 2. Предобработка данных.\n",
    " 3. Проверка гипотез."
   ]
  },
  {
   "cell_type": "markdown",
   "id": "b0619d5b",
   "metadata": {},
   "source": [
    "## Обзор данных"
   ]
  },
  {
   "cell_type": "markdown",
   "id": "730005ff",
   "metadata": {},
   "source": [
    "Импортируем необходимые библиотеки."
   ]
  },
  {
   "cell_type": "code",
   "execution_count": 1,
   "id": "ed9cdcdd",
   "metadata": {
    "ExecuteTime": {
     "end_time": "2023-02-09T09:52:00.390723Z",
     "start_time": "2023-02-09T09:51:59.142701Z"
    }
   },
   "outputs": [],
   "source": [
    "import pandas as pd\n",
    "import matplotlib.pyplot as plt"
   ]
  },
  {
   "cell_type": "markdown",
   "id": "78314389",
   "metadata": {},
   "source": [
    "Прочитаем имеющийся файл с данными."
   ]
  },
  {
   "cell_type": "code",
   "execution_count": 2,
   "id": "a45ef8b6",
   "metadata": {
    "ExecuteTime": {
     "end_time": "2023-02-09T09:52:00.511605Z",
     "start_time": "2023-02-09T09:52:00.393704Z"
    }
   },
   "outputs": [],
   "source": [
    "# Чтение файла с сервера или с локального ПК\n",
    "try:\n",
    "    df = pd.read_csv('/datasets/data.csv')\n",
    "except:\n",
    "    df = pd.read_csv('D:\\\\Users\\\\BlackEdition\\\\Desktop\\\\Data Science\\\\Обучение в Яндекс\\\\'\n",
    "                     '3. Предобработка данных\\\\Проект предобработка данных\\\\data.csv')"
   ]
  },
  {
   "cell_type": "markdown",
   "id": "f5a45ab6",
   "metadata": {},
   "source": [
    "Выведем датасет и информацию о нем на экран."
   ]
  },
  {
   "cell_type": "code",
   "execution_count": 3,
   "id": "63ae4707",
   "metadata": {
    "ExecuteTime": {
     "end_time": "2023-02-09T09:52:00.588743Z",
     "start_time": "2023-02-09T09:52:00.514597Z"
    }
   },
   "outputs": [
    {
     "data": {
      "text/html": [
       "<div>\n",
       "<style scoped>\n",
       "    .dataframe tbody tr th:only-of-type {\n",
       "        vertical-align: middle;\n",
       "    }\n",
       "\n",
       "    .dataframe tbody tr th {\n",
       "        vertical-align: top;\n",
       "    }\n",
       "\n",
       "    .dataframe thead th {\n",
       "        text-align: right;\n",
       "    }\n",
       "</style>\n",
       "<table border=\"1\" class=\"dataframe\">\n",
       "  <thead>\n",
       "    <tr style=\"text-align: right;\">\n",
       "      <th></th>\n",
       "      <th>children</th>\n",
       "      <th>days_employed</th>\n",
       "      <th>dob_years</th>\n",
       "      <th>education</th>\n",
       "      <th>education_id</th>\n",
       "      <th>family_status</th>\n",
       "      <th>family_status_id</th>\n",
       "      <th>gender</th>\n",
       "      <th>income_type</th>\n",
       "      <th>debt</th>\n",
       "      <th>total_income</th>\n",
       "      <th>purpose</th>\n",
       "    </tr>\n",
       "  </thead>\n",
       "  <tbody>\n",
       "    <tr>\n",
       "      <th>0</th>\n",
       "      <td>1</td>\n",
       "      <td>-8437.673028</td>\n",
       "      <td>42</td>\n",
       "      <td>высшее</td>\n",
       "      <td>0</td>\n",
       "      <td>женат / замужем</td>\n",
       "      <td>0</td>\n",
       "      <td>F</td>\n",
       "      <td>сотрудник</td>\n",
       "      <td>0</td>\n",
       "      <td>253875.639453</td>\n",
       "      <td>покупка жилья</td>\n",
       "    </tr>\n",
       "    <tr>\n",
       "      <th>1</th>\n",
       "      <td>1</td>\n",
       "      <td>-4024.803754</td>\n",
       "      <td>36</td>\n",
       "      <td>среднее</td>\n",
       "      <td>1</td>\n",
       "      <td>женат / замужем</td>\n",
       "      <td>0</td>\n",
       "      <td>F</td>\n",
       "      <td>сотрудник</td>\n",
       "      <td>0</td>\n",
       "      <td>112080.014102</td>\n",
       "      <td>приобретение автомобиля</td>\n",
       "    </tr>\n",
       "    <tr>\n",
       "      <th>2</th>\n",
       "      <td>0</td>\n",
       "      <td>-5623.422610</td>\n",
       "      <td>33</td>\n",
       "      <td>Среднее</td>\n",
       "      <td>1</td>\n",
       "      <td>женат / замужем</td>\n",
       "      <td>0</td>\n",
       "      <td>M</td>\n",
       "      <td>сотрудник</td>\n",
       "      <td>0</td>\n",
       "      <td>145885.952297</td>\n",
       "      <td>покупка жилья</td>\n",
       "    </tr>\n",
       "    <tr>\n",
       "      <th>3</th>\n",
       "      <td>3</td>\n",
       "      <td>-4124.747207</td>\n",
       "      <td>32</td>\n",
       "      <td>среднее</td>\n",
       "      <td>1</td>\n",
       "      <td>женат / замужем</td>\n",
       "      <td>0</td>\n",
       "      <td>M</td>\n",
       "      <td>сотрудник</td>\n",
       "      <td>0</td>\n",
       "      <td>267628.550329</td>\n",
       "      <td>дополнительное образование</td>\n",
       "    </tr>\n",
       "    <tr>\n",
       "      <th>4</th>\n",
       "      <td>0</td>\n",
       "      <td>340266.072047</td>\n",
       "      <td>53</td>\n",
       "      <td>среднее</td>\n",
       "      <td>1</td>\n",
       "      <td>гражданский брак</td>\n",
       "      <td>1</td>\n",
       "      <td>F</td>\n",
       "      <td>пенсионер</td>\n",
       "      <td>0</td>\n",
       "      <td>158616.077870</td>\n",
       "      <td>сыграть свадьбу</td>\n",
       "    </tr>\n",
       "    <tr>\n",
       "      <th>...</th>\n",
       "      <td>...</td>\n",
       "      <td>...</td>\n",
       "      <td>...</td>\n",
       "      <td>...</td>\n",
       "      <td>...</td>\n",
       "      <td>...</td>\n",
       "      <td>...</td>\n",
       "      <td>...</td>\n",
       "      <td>...</td>\n",
       "      <td>...</td>\n",
       "      <td>...</td>\n",
       "      <td>...</td>\n",
       "    </tr>\n",
       "    <tr>\n",
       "      <th>21520</th>\n",
       "      <td>1</td>\n",
       "      <td>-4529.316663</td>\n",
       "      <td>43</td>\n",
       "      <td>среднее</td>\n",
       "      <td>1</td>\n",
       "      <td>гражданский брак</td>\n",
       "      <td>1</td>\n",
       "      <td>F</td>\n",
       "      <td>компаньон</td>\n",
       "      <td>0</td>\n",
       "      <td>224791.862382</td>\n",
       "      <td>операции с жильем</td>\n",
       "    </tr>\n",
       "    <tr>\n",
       "      <th>21521</th>\n",
       "      <td>0</td>\n",
       "      <td>343937.404131</td>\n",
       "      <td>67</td>\n",
       "      <td>среднее</td>\n",
       "      <td>1</td>\n",
       "      <td>женат / замужем</td>\n",
       "      <td>0</td>\n",
       "      <td>F</td>\n",
       "      <td>пенсионер</td>\n",
       "      <td>0</td>\n",
       "      <td>155999.806512</td>\n",
       "      <td>сделка с автомобилем</td>\n",
       "    </tr>\n",
       "    <tr>\n",
       "      <th>21522</th>\n",
       "      <td>1</td>\n",
       "      <td>-2113.346888</td>\n",
       "      <td>38</td>\n",
       "      <td>среднее</td>\n",
       "      <td>1</td>\n",
       "      <td>гражданский брак</td>\n",
       "      <td>1</td>\n",
       "      <td>M</td>\n",
       "      <td>сотрудник</td>\n",
       "      <td>1</td>\n",
       "      <td>89672.561153</td>\n",
       "      <td>недвижимость</td>\n",
       "    </tr>\n",
       "    <tr>\n",
       "      <th>21523</th>\n",
       "      <td>3</td>\n",
       "      <td>-3112.481705</td>\n",
       "      <td>38</td>\n",
       "      <td>среднее</td>\n",
       "      <td>1</td>\n",
       "      <td>женат / замужем</td>\n",
       "      <td>0</td>\n",
       "      <td>M</td>\n",
       "      <td>сотрудник</td>\n",
       "      <td>1</td>\n",
       "      <td>244093.050500</td>\n",
       "      <td>на покупку своего автомобиля</td>\n",
       "    </tr>\n",
       "    <tr>\n",
       "      <th>21524</th>\n",
       "      <td>2</td>\n",
       "      <td>-1984.507589</td>\n",
       "      <td>40</td>\n",
       "      <td>среднее</td>\n",
       "      <td>1</td>\n",
       "      <td>женат / замужем</td>\n",
       "      <td>0</td>\n",
       "      <td>F</td>\n",
       "      <td>сотрудник</td>\n",
       "      <td>0</td>\n",
       "      <td>82047.418899</td>\n",
       "      <td>на покупку автомобиля</td>\n",
       "    </tr>\n",
       "  </tbody>\n",
       "</table>\n",
       "<p>21525 rows × 12 columns</p>\n",
       "</div>"
      ],
      "text/plain": [
       "       children  days_employed  dob_years education  education_id  \\\n",
       "0             1   -8437.673028         42    высшее             0   \n",
       "1             1   -4024.803754         36   среднее             1   \n",
       "2             0   -5623.422610         33   Среднее             1   \n",
       "3             3   -4124.747207         32   среднее             1   \n",
       "4             0  340266.072047         53   среднее             1   \n",
       "...         ...            ...        ...       ...           ...   \n",
       "21520         1   -4529.316663         43   среднее             1   \n",
       "21521         0  343937.404131         67   среднее             1   \n",
       "21522         1   -2113.346888         38   среднее             1   \n",
       "21523         3   -3112.481705         38   среднее             1   \n",
       "21524         2   -1984.507589         40   среднее             1   \n",
       "\n",
       "          family_status  family_status_id gender income_type  debt  \\\n",
       "0       женат / замужем                 0      F   сотрудник     0   \n",
       "1       женат / замужем                 0      F   сотрудник     0   \n",
       "2       женат / замужем                 0      M   сотрудник     0   \n",
       "3       женат / замужем                 0      M   сотрудник     0   \n",
       "4      гражданский брак                 1      F   пенсионер     0   \n",
       "...                 ...               ...    ...         ...   ...   \n",
       "21520  гражданский брак                 1      F   компаньон     0   \n",
       "21521   женат / замужем                 0      F   пенсионер     0   \n",
       "21522  гражданский брак                 1      M   сотрудник     1   \n",
       "21523   женат / замужем                 0      M   сотрудник     1   \n",
       "21524   женат / замужем                 0      F   сотрудник     0   \n",
       "\n",
       "        total_income                       purpose  \n",
       "0      253875.639453                 покупка жилья  \n",
       "1      112080.014102       приобретение автомобиля  \n",
       "2      145885.952297                 покупка жилья  \n",
       "3      267628.550329    дополнительное образование  \n",
       "4      158616.077870               сыграть свадьбу  \n",
       "...              ...                           ...  \n",
       "21520  224791.862382             операции с жильем  \n",
       "21521  155999.806512          сделка с автомобилем  \n",
       "21522   89672.561153                  недвижимость  \n",
       "21523  244093.050500  на покупку своего автомобиля  \n",
       "21524   82047.418899         на покупку автомобиля  \n",
       "\n",
       "[21525 rows x 12 columns]"
      ]
     },
     "execution_count": 3,
     "metadata": {},
     "output_type": "execute_result"
    }
   ],
   "source": [
    "df"
   ]
  },
  {
   "cell_type": "code",
   "execution_count": 4,
   "id": "50aa9b0b",
   "metadata": {
    "ExecuteTime": {
     "end_time": "2023-02-09T09:52:00.635618Z",
     "start_time": "2023-02-09T09:52:00.592734Z"
    }
   },
   "outputs": [
    {
     "name": "stdout",
     "output_type": "stream",
     "text": [
      "<class 'pandas.core.frame.DataFrame'>\n",
      "RangeIndex: 21525 entries, 0 to 21524\n",
      "Data columns (total 12 columns):\n",
      " #   Column            Non-Null Count  Dtype  \n",
      "---  ------            --------------  -----  \n",
      " 0   children          21525 non-null  int64  \n",
      " 1   days_employed     19351 non-null  float64\n",
      " 2   dob_years         21525 non-null  int64  \n",
      " 3   education         21525 non-null  object \n",
      " 4   education_id      21525 non-null  int64  \n",
      " 5   family_status     21525 non-null  object \n",
      " 6   family_status_id  21525 non-null  int64  \n",
      " 7   gender            21525 non-null  object \n",
      " 8   income_type       21525 non-null  object \n",
      " 9   debt              21525 non-null  int64  \n",
      " 10  total_income      19351 non-null  float64\n",
      " 11  purpose           21525 non-null  object \n",
      "dtypes: float64(2), int64(5), object(5)\n",
      "memory usage: 2.0+ MB\n"
     ]
    }
   ],
   "source": [
    "df.info()"
   ]
  },
  {
   "cell_type": "markdown",
   "id": "40cf025b",
   "metadata": {},
   "source": [
    "**Выводы**\n",
    "\n",
    "Из проведенного обзора данных можно сделать следующие выводы:\n",
    "1. В таблице 12 колонок с данными разного типа.\n",
    "2. Названия колонок таблицы имеют приемлемый формат и не требуют предварительной обработки.\n",
    "3. Согласно документации данные имеют следующие назначения:\n",
    "  * `children` — количество детей в семье;\n",
    "  * `days_employed` — общий трудовой стаж в днях;\n",
    "  * `dob_years` — возраст клиента в годах;\n",
    "  * `education` — уровень образования клиента;\n",
    "  * `education_id` — идентификатор уровня образования;\n",
    "  * `family_status` — семейное положение;\n",
    "  * `family_status_id` — идентификатор семейного положения;\n",
    "  * `gender` — пол клиента;\n",
    "  * `income_type` — тип занятости;\n",
    "  * `debt` — имел ли задолженность по возврату кредитов;\n",
    "  * `total_income` — ежемесячный доход;\n",
    "  * `purpose` — цель получения кредита.\n",
    "  \n",
    "  Из обзора данных можно сделать вывод:\n",
    "  \n",
    "    * Типы представленных в таблице данных логически совпадают с их описанием и не требуют конвертации.\n",
    "    * Данные в колонке `days_employed` (общий трудовой стаж в днях) имеют отрицательный формат.\n",
    "    * Данные в колонке `ducation` (уровень образования клиента) имеют разный регистр написания символов.\n",
    "    * Данные в колонке `purpose` (цель получения кредита) имеют неявные дубликаты.\n",
    "    * Количество значений в колонках `days_employed` и `total_income` отличается, что свидетельствует о наличии пропущенных значений.\n",
    "\n",
    "Устраним артефакты (выполним предобработку данных) для возможности проверки гипотез и обеспечения корректности проводимого анализа и результатов."
   ]
  },
  {
   "cell_type": "markdown",
   "id": "82d1564e",
   "metadata": {},
   "source": [
    "## Предобработка данных"
   ]
  },
  {
   "cell_type": "markdown",
   "id": "53300bc1",
   "metadata": {},
   "source": [
    "### Заполнение пропусков"
   ]
  },
  {
   "cell_type": "markdown",
   "id": "8f9423f4",
   "metadata": {},
   "source": [
    "Проверим количество и долю NAN значений в данных:"
   ]
  },
  {
   "cell_type": "code",
   "execution_count": 5,
   "id": "49c43064",
   "metadata": {
    "ExecuteTime": {
     "end_time": "2023-02-09T09:52:00.666755Z",
     "start_time": "2023-02-09T09:52:00.640826Z"
    }
   },
   "outputs": [
    {
     "data": {
      "text/plain": [
       "children               0\n",
       "days_employed       2174\n",
       "dob_years              0\n",
       "education              0\n",
       "education_id           0\n",
       "family_status          0\n",
       "family_status_id       0\n",
       "gender                 0\n",
       "income_type            0\n",
       "debt                   0\n",
       "total_income        2174\n",
       "purpose                0\n",
       "dtype: int64"
      ]
     },
     "execution_count": 5,
     "metadata": {},
     "output_type": "execute_result"
    }
   ],
   "source": [
    "df.isna().sum()"
   ]
  },
  {
   "cell_type": "code",
   "execution_count": 6,
   "id": "bd917eb0",
   "metadata": {
    "ExecuteTime": {
     "end_time": "2023-02-09T09:52:00.700665Z",
     "start_time": "2023-02-09T09:52:00.671744Z"
    }
   },
   "outputs": [
    {
     "data": {
      "text/plain": [
       "0.10099883855981417"
      ]
     },
     "metadata": {},
     "output_type": "display_data"
    },
    {
     "data": {
      "text/plain": [
       "0.10099883855981417"
      ]
     },
     "metadata": {},
     "output_type": "display_data"
    }
   ],
   "source": [
    "# Проверка доли пропущенных значений по отношению к датасету\n",
    "display(df['days_employed'].isna().mean())\n",
    "display(df['total_income'].isna().mean())"
   ]
  },
  {
   "cell_type": "markdown",
   "id": "067932cd",
   "metadata": {},
   "source": [
    "Как видно из проведенного анализа пропущенных значений в колонке `total_income` находится 2174 значения NAN. Другие типы пропущенных значений в колонке отсутствуют.\n",
    "\n",
    "Доли пропущенных значений в колонках `days_employed` и `total_income` равны.\n",
    "\n",
    "Появление пропущенных значений в колонке `days_employed` возможно из-за отсутствия у заемщиков трудового стажа (в силу возраста или иных обстоятельств). Пропущенные значения в колонке `total_income`, вероятно, образованы из-за отказа заемщиков указывать свой доход или в связи с отсутствием подтверждающих доход документов.\n",
    "\n",
    "Для исключения пропусков и корректности исследования определим медиану и заполним колонку `total_income` медианными значениями по категориям."
   ]
  },
  {
   "cell_type": "code",
   "execution_count": 7,
   "id": "b3454464",
   "metadata": {
    "ExecuteTime": {
     "end_time": "2023-02-09T09:52:00.728589Z",
     "start_time": "2023-02-09T09:52:00.709642Z"
    }
   },
   "outputs": [
    {
     "data": {
      "text/plain": [
       "145017.93753253992"
      ]
     },
     "execution_count": 7,
     "metadata": {},
     "output_type": "execute_result"
    }
   ],
   "source": [
    "df['total_income'].median()"
   ]
  },
  {
   "cell_type": "code",
   "execution_count": 8,
   "id": "896616b1",
   "metadata": {
    "ExecuteTime": {
     "end_time": "2023-02-09T09:52:00.758509Z",
     "start_time": "2023-02-09T09:52:00.734574Z"
    }
   },
   "outputs": [],
   "source": [
    "# Заполнение NAN медианой в разрезе категорий\n",
    "df['total_income'] = df['total_income'].fillna(\n",
    "    df.groupby('income_type')['total_income'].transform('median'))"
   ]
  },
  {
   "cell_type": "code",
   "execution_count": 9,
   "id": "95b9160f",
   "metadata": {
    "ExecuteTime": {
     "end_time": "2023-02-09T09:52:00.789428Z",
     "start_time": "2023-02-09T09:52:00.761502Z"
    }
   },
   "outputs": [
    {
     "data": {
      "text/plain": [
       "0.10099883855981417"
      ]
     },
     "metadata": {},
     "output_type": "display_data"
    },
    {
     "data": {
      "text/plain": [
       "0.0"
      ]
     },
     "metadata": {},
     "output_type": "display_data"
    },
    {
     "data": {
      "text/plain": [
       "142594.39684740017"
      ]
     },
     "metadata": {},
     "output_type": "display_data"
    }
   ],
   "source": [
    "display(df['days_employed'].isna().mean())\n",
    "display(df['total_income'].isna().mean())\n",
    "display(df['total_income'].median())"
   ]
  },
  {
   "cell_type": "markdown",
   "id": "a9965a17",
   "metadata": {},
   "source": [
    "Пропущенные значения заменены медианами. Медиана по столбцу `total_income` уменьшилась."
   ]
  },
  {
   "cell_type": "markdown",
   "id": "edbcd247",
   "metadata": {},
   "source": [
    "### Проверка данных на аномалии и исправления."
   ]
  },
  {
   "cell_type": "markdown",
   "id": "b940d13e",
   "metadata": {},
   "source": [
    "**Проверим все колонки данных на наличие аномалий, проанализировав уникальные значения по колонкам и их значения:**"
   ]
  },
  {
   "cell_type": "code",
   "execution_count": 10,
   "id": "ece495d5",
   "metadata": {
    "ExecuteTime": {
     "end_time": "2023-02-09T09:52:00.931462Z",
     "start_time": "2023-02-09T09:52:00.791422Z"
    }
   },
   "outputs": [
    {
     "data": {
      "text/plain": [
       "'Уникальные значения в колонке: «children»'"
      ]
     },
     "metadata": {},
     "output_type": "display_data"
    },
    {
     "data": {
      "text/plain": [
       " 5         9\n",
       " 4        41\n",
       "-1        47\n",
       " 20       76\n",
       " 3       330\n",
       " 2      2055\n",
       " 1      4818\n",
       " 0     14149\n",
       "Name: children, dtype: int64"
      ]
     },
     "metadata": {},
     "output_type": "display_data"
    },
    {
     "data": {
      "text/plain": [
       "'Уникальные значения в колонке: «days_employed»'"
      ]
     },
     "metadata": {},
     "output_type": "display_data"
    },
    {
     "data": {
      "text/plain": [
       "-8437.673028      1\n",
       "-926.185831       1\n",
       "-2879.202052      1\n",
       "-152.779569       1\n",
       "-6929.865299      1\n",
       "                 ..\n",
       "-79.832064        1\n",
       "-681.446439       1\n",
       "-1556.249906      1\n",
       " 363996.449108    1\n",
       "-1984.507589      1\n",
       "Name: days_employed, Length: 19351, dtype: int64"
      ]
     },
     "metadata": {},
     "output_type": "display_data"
    },
    {
     "data": {
      "text/plain": [
       "'Уникальные значения в колонке: «dob_years»'"
      ]
     },
     "metadata": {},
     "output_type": "display_data"
    },
    {
     "data": {
      "text/plain": [
       "75      1\n",
       "74      6\n",
       "73      8\n",
       "19     14\n",
       "72     33\n",
       "20     51\n",
       "71     58\n",
       "70     65\n",
       "69     85\n",
       "68     99\n",
       "0     101\n",
       "21    111\n",
       "67    167\n",
       "66    183\n",
       "22    183\n",
       "65    194\n",
       "23    254\n",
       "24    264\n",
       "64    265\n",
       "63    269\n",
       "62    352\n",
       "61    355\n",
       "25    357\n",
       "60    377\n",
       "26    408\n",
       "55    443\n",
       "59    444\n",
       "51    448\n",
       "53    459\n",
       "57    460\n",
       "58    461\n",
       "46    475\n",
       "54    479\n",
       "47    480\n",
       "52    484\n",
       "56    487\n",
       "27    493\n",
       "45    497\n",
       "28    503\n",
       "49    508\n",
       "32    510\n",
       "43    513\n",
       "50    514\n",
       "37    537\n",
       "48    538\n",
       "30    540\n",
       "29    545\n",
       "44    547\n",
       "36    555\n",
       "31    560\n",
       "39    573\n",
       "33    581\n",
       "42    597\n",
       "38    598\n",
       "34    603\n",
       "41    607\n",
       "40    609\n",
       "35    617\n",
       "Name: dob_years, dtype: int64"
      ]
     },
     "metadata": {},
     "output_type": "display_data"
    },
    {
     "data": {
      "text/plain": [
       "'Уникальные значения в колонке: «education»'"
      ]
     },
     "metadata": {},
     "output_type": "display_data"
    },
    {
     "data": {
      "text/plain": [
       "Ученая степень             1\n",
       "УЧЕНАЯ СТЕПЕНЬ             1\n",
       "ученая степень             4\n",
       "Начальное                 15\n",
       "НАЧАЛЬНОЕ                 17\n",
       "НЕОКОНЧЕННОЕ ВЫСШЕЕ       29\n",
       "Неоконченное высшее       47\n",
       "начальное                250\n",
       "Высшее                   268\n",
       "ВЫСШЕЕ                   274\n",
       "неоконченное высшее      668\n",
       "Среднее                  711\n",
       "СРЕДНЕЕ                  772\n",
       "высшее                  4718\n",
       "среднее                13750\n",
       "Name: education, dtype: int64"
      ]
     },
     "metadata": {},
     "output_type": "display_data"
    },
    {
     "data": {
      "text/plain": [
       "'Уникальные значения в колонке: «education_id»'"
      ]
     },
     "metadata": {},
     "output_type": "display_data"
    },
    {
     "data": {
      "text/plain": [
       "4        6\n",
       "3      282\n",
       "2      744\n",
       "0     5260\n",
       "1    15233\n",
       "Name: education_id, dtype: int64"
      ]
     },
     "metadata": {},
     "output_type": "display_data"
    },
    {
     "data": {
      "text/plain": [
       "'Уникальные значения в колонке: «family_status»'"
      ]
     },
     "metadata": {},
     "output_type": "display_data"
    },
    {
     "data": {
      "text/plain": [
       "вдовец / вдова             960\n",
       "в разводе                 1195\n",
       "Не женат / не замужем     2813\n",
       "гражданский брак          4177\n",
       "женат / замужем          12380\n",
       "Name: family_status, dtype: int64"
      ]
     },
     "metadata": {},
     "output_type": "display_data"
    },
    {
     "data": {
      "text/plain": [
       "'Уникальные значения в колонке: «family_status_id»'"
      ]
     },
     "metadata": {},
     "output_type": "display_data"
    },
    {
     "data": {
      "text/plain": [
       "2      960\n",
       "3     1195\n",
       "4     2813\n",
       "1     4177\n",
       "0    12380\n",
       "Name: family_status_id, dtype: int64"
      ]
     },
     "metadata": {},
     "output_type": "display_data"
    },
    {
     "data": {
      "text/plain": [
       "'Уникальные значения в колонке: «gender»'"
      ]
     },
     "metadata": {},
     "output_type": "display_data"
    },
    {
     "data": {
      "text/plain": [
       "XNA        1\n",
       "M       7288\n",
       "F      14236\n",
       "Name: gender, dtype: int64"
      ]
     },
     "metadata": {},
     "output_type": "display_data"
    },
    {
     "data": {
      "text/plain": [
       "'Уникальные значения в колонке: «income_type»'"
      ]
     },
     "metadata": {},
     "output_type": "display_data"
    },
    {
     "data": {
      "text/plain": [
       "студент                1\n",
       "в декрете              1\n",
       "безработный            2\n",
       "предприниматель        2\n",
       "госслужащий         1459\n",
       "пенсионер           3856\n",
       "компаньон           5085\n",
       "сотрудник          11119\n",
       "Name: income_type, dtype: int64"
      ]
     },
     "metadata": {},
     "output_type": "display_data"
    },
    {
     "data": {
      "text/plain": [
       "'Уникальные значения в колонке: «debt»'"
      ]
     },
     "metadata": {},
     "output_type": "display_data"
    },
    {
     "data": {
      "text/plain": [
       "1     1741\n",
       "0    19784\n",
       "Name: debt, dtype: int64"
      ]
     },
     "metadata": {},
     "output_type": "display_data"
    },
    {
     "data": {
      "text/plain": [
       "'Уникальные значения в колонке: «total_income»'"
      ]
     },
     "metadata": {},
     "output_type": "display_data"
    },
    {
     "data": {
      "text/plain": [
       "190201.448274       1\n",
       "135823.934197       1\n",
       "95856.832424        1\n",
       "144425.938277       1\n",
       "113943.491460       1\n",
       "                 ... \n",
       "499163.144947       2\n",
       "150447.935283     147\n",
       "118514.486412     414\n",
       "172357.950966     509\n",
       "142594.396847    1105\n",
       "Name: total_income, Length: 19353, dtype: int64"
      ]
     },
     "metadata": {},
     "output_type": "display_data"
    },
    {
     "data": {
      "text/plain": [
       "'Уникальные значения в колонке: «purpose»'"
      ]
     },
     "metadata": {},
     "output_type": "display_data"
    },
    {
     "data": {
      "text/plain": [
       "заняться образованием                     412\n",
       "получение высшего образования             426\n",
       "профильное образование                    436\n",
       "получение образования                     443\n",
       "получение дополнительного образования     447\n",
       "образование                               447\n",
       "высшее образование                        453\n",
       "сделка с автомобилем                      455\n",
       "приобретение автомобиля                   462\n",
       "дополнительное образование                462\n",
       "на покупку автомобиля                     472\n",
       "автомобили                                478\n",
       "на покупку подержанного автомобиля        479\n",
       "свой автомобиль                           480\n",
       "сделка с подержанным автомобилем          489\n",
       "автомобиль                                495\n",
       "заняться высшим образованием              496\n",
       "на покупку своего автомобиля              505\n",
       "покупка жилой недвижимости                607\n",
       "ремонт жилью                              612\n",
       "строительство недвижимости                620\n",
       "покупка своего жилья                      620\n",
       "покупка недвижимости                      624\n",
       "строительство жилой недвижимости          626\n",
       "операции со своей недвижимостью           630\n",
       "недвижимость                              634\n",
       "строительство собственной недвижимости    635\n",
       "покупка жилья для семьи                   641\n",
       "покупка жилья                             647\n",
       "жилье                                     647\n",
       "операции с коммерческой недвижимостью     651\n",
       "операции с жильем                         653\n",
       "покупка жилья для сдачи                   653\n",
       "покупка коммерческой недвижимости         664\n",
       "операции с недвижимостью                  676\n",
       "сыграть свадьбу                           774\n",
       "на проведение свадьбы                     777\n",
       "свадьба                                   797\n",
       "Name: purpose, dtype: int64"
      ]
     },
     "metadata": {},
     "output_type": "display_data"
    }
   ],
   "source": [
    "# Вывод уникальных значения и их количества с целью анализа аномалий\n",
    "try:\n",
    "    for column in df:\n",
    "        display(f'Уникальные значения в колонке: «{column}»')\n",
    "        display(df[column].value_counts().sort_values(ascending=True))\n",
    "        display()\n",
    "except:\n",
    "    display('Невозможно вывести значения')"
   ]
  },
  {
   "cell_type": "markdown",
   "id": "3aeac80a",
   "metadata": {},
   "source": [
    "**Аномалии в колонке *`children`***\n",
    "\n",
    "В колонке *children* имеется 2 артифакта:\n",
    "1. Количество детей у некоторых заемщиков имеет отрицательное значение.\n",
    "2. У некоторых заемщиков имеется 20 детей.\n",
    "\n",
    "Отрицательное значение детей, скорее всего, является технической ошибкой в данных или человеческих фактором.\n",
    "Наличие у заемщика 20-ти детей возможно не является ошибкой (возможно это многодетная семья).\n",
    "\n",
    "Проверим количество вхождения в данных по таким артефактам для принятия решений."
   ]
  },
  {
   "cell_type": "code",
   "execution_count": 11,
   "id": "e8a54dca",
   "metadata": {
    "ExecuteTime": {
     "end_time": "2023-02-09T09:52:00.947265Z",
     "start_time": "2023-02-09T09:52:00.936532Z"
    }
   },
   "outputs": [
    {
     "data": {
      "text/plain": [
       "47"
      ]
     },
     "execution_count": 11,
     "metadata": {},
     "output_type": "execute_result"
    }
   ],
   "source": [
    "# Проверка количества заемщиков с отрицательным количеством детей\n",
    "df.loc[df['children'] == -1]['children'].count()"
   ]
  },
  {
   "cell_type": "code",
   "execution_count": 12,
   "id": "ebc31129",
   "metadata": {
    "ExecuteTime": {
     "end_time": "2023-02-09T09:52:00.963224Z",
     "start_time": "2023-02-09T09:52:00.950258Z"
    }
   },
   "outputs": [
    {
     "data": {
      "text/plain": [
       "76"
      ]
     },
     "execution_count": 12,
     "metadata": {},
     "output_type": "execute_result"
    }
   ],
   "source": [
    "# Проверка количества заемщиков с большим количеством детей\n",
    "df.loc[df['children'] == 20]['children'].count()"
   ]
  },
  {
   "cell_type": "markdown",
   "id": "43cc32ee",
   "metadata": {},
   "source": [
    "Из анализа видно, что количество значений по двум артефактам по отношению к общей выборке очень мало, поэтому принято решение оба типа артефактов из выборки исключить."
   ]
  },
  {
   "cell_type": "code",
   "execution_count": 13,
   "id": "4ddc9503",
   "metadata": {
    "ExecuteTime": {
     "end_time": "2023-02-09T09:52:01.011094Z",
     "start_time": "2023-02-09T09:52:00.966214Z"
    }
   },
   "outputs": [
    {
     "name": "stdout",
     "output_type": "stream",
     "text": [
      "<class 'pandas.core.frame.DataFrame'>\n",
      "Int64Index: 21402 entries, 0 to 21524\n",
      "Data columns (total 12 columns):\n",
      " #   Column            Non-Null Count  Dtype  \n",
      "---  ------            --------------  -----  \n",
      " 0   children          21402 non-null  int64  \n",
      " 1   days_employed     19240 non-null  float64\n",
      " 2   dob_years         21402 non-null  int64  \n",
      " 3   education         21402 non-null  object \n",
      " 4   education_id      21402 non-null  int64  \n",
      " 5   family_status     21402 non-null  object \n",
      " 6   family_status_id  21402 non-null  int64  \n",
      " 7   gender            21402 non-null  object \n",
      " 8   income_type       21402 non-null  object \n",
      " 9   debt              21402 non-null  int64  \n",
      " 10  total_income      21402 non-null  float64\n",
      " 11  purpose           21402 non-null  object \n",
      "dtypes: float64(2), int64(5), object(5)\n",
      "memory usage: 2.1+ MB\n"
     ]
    }
   ],
   "source": [
    "# Удаление аномальных значений по детям\n",
    "df = df[(df['children'] != -1) & (df['children'] != 20)]\n",
    "df.info()"
   ]
  },
  {
   "cell_type": "markdown",
   "id": "e5657715",
   "metadata": {},
   "source": [
    "**Аномалии в колонке *`days_employed`***\n",
    "\n",
    "В колонке *days_employed* имеются аномальные значения - это отрицательное количество дней трудового стажа заемщиков. Эта ошибка, скорее всего, технического характера и возникла из-за ошибки в коде или при импортировании данных.\n",
    "Заменим отрицательные значения на положительные."
   ]
  },
  {
   "cell_type": "code",
   "execution_count": 14,
   "id": "421b5a20",
   "metadata": {
    "ExecuteTime": {
     "end_time": "2023-02-09T09:52:01.043008Z",
     "start_time": "2023-02-09T09:52:01.014087Z"
    }
   },
   "outputs": [
    {
     "name": "stderr",
     "output_type": "stream",
     "text": [
      "C:\\Users\\BLACKE~1\\AppData\\Local\\Temp/ipykernel_8560/1196347041.py:2: SettingWithCopyWarning: \n",
      "A value is trying to be set on a copy of a slice from a DataFrame.\n",
      "Try using .loc[row_indexer,col_indexer] = value instead\n",
      "\n",
      "See the caveats in the documentation: https://pandas.pydata.org/pandas-docs/stable/user_guide/indexing.html#returning-a-view-versus-a-copy\n",
      "  df['days_employed'] = df['days_employed'].abs()\n"
     ]
    },
    {
     "data": {
      "text/html": [
       "<div>\n",
       "<style scoped>\n",
       "    .dataframe tbody tr th:only-of-type {\n",
       "        vertical-align: middle;\n",
       "    }\n",
       "\n",
       "    .dataframe tbody tr th {\n",
       "        vertical-align: top;\n",
       "    }\n",
       "\n",
       "    .dataframe thead th {\n",
       "        text-align: right;\n",
       "    }\n",
       "</style>\n",
       "<table border=\"1\" class=\"dataframe\">\n",
       "  <thead>\n",
       "    <tr style=\"text-align: right;\">\n",
       "      <th></th>\n",
       "      <th>children</th>\n",
       "      <th>days_employed</th>\n",
       "      <th>dob_years</th>\n",
       "      <th>education</th>\n",
       "      <th>education_id</th>\n",
       "      <th>family_status</th>\n",
       "      <th>family_status_id</th>\n",
       "      <th>gender</th>\n",
       "      <th>income_type</th>\n",
       "      <th>debt</th>\n",
       "      <th>total_income</th>\n",
       "      <th>purpose</th>\n",
       "    </tr>\n",
       "  </thead>\n",
       "  <tbody>\n",
       "    <tr>\n",
       "      <th>0</th>\n",
       "      <td>1</td>\n",
       "      <td>8437.673028</td>\n",
       "      <td>42</td>\n",
       "      <td>высшее</td>\n",
       "      <td>0</td>\n",
       "      <td>женат / замужем</td>\n",
       "      <td>0</td>\n",
       "      <td>F</td>\n",
       "      <td>сотрудник</td>\n",
       "      <td>0</td>\n",
       "      <td>253875.639453</td>\n",
       "      <td>покупка жилья</td>\n",
       "    </tr>\n",
       "    <tr>\n",
       "      <th>1</th>\n",
       "      <td>1</td>\n",
       "      <td>4024.803754</td>\n",
       "      <td>36</td>\n",
       "      <td>среднее</td>\n",
       "      <td>1</td>\n",
       "      <td>женат / замужем</td>\n",
       "      <td>0</td>\n",
       "      <td>F</td>\n",
       "      <td>сотрудник</td>\n",
       "      <td>0</td>\n",
       "      <td>112080.014102</td>\n",
       "      <td>приобретение автомобиля</td>\n",
       "    </tr>\n",
       "    <tr>\n",
       "      <th>2</th>\n",
       "      <td>0</td>\n",
       "      <td>5623.422610</td>\n",
       "      <td>33</td>\n",
       "      <td>Среднее</td>\n",
       "      <td>1</td>\n",
       "      <td>женат / замужем</td>\n",
       "      <td>0</td>\n",
       "      <td>M</td>\n",
       "      <td>сотрудник</td>\n",
       "      <td>0</td>\n",
       "      <td>145885.952297</td>\n",
       "      <td>покупка жилья</td>\n",
       "    </tr>\n",
       "    <tr>\n",
       "      <th>3</th>\n",
       "      <td>3</td>\n",
       "      <td>4124.747207</td>\n",
       "      <td>32</td>\n",
       "      <td>среднее</td>\n",
       "      <td>1</td>\n",
       "      <td>женат / замужем</td>\n",
       "      <td>0</td>\n",
       "      <td>M</td>\n",
       "      <td>сотрудник</td>\n",
       "      <td>0</td>\n",
       "      <td>267628.550329</td>\n",
       "      <td>дополнительное образование</td>\n",
       "    </tr>\n",
       "    <tr>\n",
       "      <th>4</th>\n",
       "      <td>0</td>\n",
       "      <td>340266.072047</td>\n",
       "      <td>53</td>\n",
       "      <td>среднее</td>\n",
       "      <td>1</td>\n",
       "      <td>гражданский брак</td>\n",
       "      <td>1</td>\n",
       "      <td>F</td>\n",
       "      <td>пенсионер</td>\n",
       "      <td>0</td>\n",
       "      <td>158616.077870</td>\n",
       "      <td>сыграть свадьбу</td>\n",
       "    </tr>\n",
       "  </tbody>\n",
       "</table>\n",
       "</div>"
      ],
      "text/plain": [
       "   children  days_employed  dob_years education  education_id  \\\n",
       "0         1    8437.673028         42    высшее             0   \n",
       "1         1    4024.803754         36   среднее             1   \n",
       "2         0    5623.422610         33   Среднее             1   \n",
       "3         3    4124.747207         32   среднее             1   \n",
       "4         0  340266.072047         53   среднее             1   \n",
       "\n",
       "      family_status  family_status_id gender income_type  debt   total_income  \\\n",
       "0   женат / замужем                 0      F   сотрудник     0  253875.639453   \n",
       "1   женат / замужем                 0      F   сотрудник     0  112080.014102   \n",
       "2   женат / замужем                 0      M   сотрудник     0  145885.952297   \n",
       "3   женат / замужем                 0      M   сотрудник     0  267628.550329   \n",
       "4  гражданский брак                 1      F   пенсионер     0  158616.077870   \n",
       "\n",
       "                      purpose  \n",
       "0               покупка жилья  \n",
       "1     приобретение автомобиля  \n",
       "2               покупка жилья  \n",
       "3  дополнительное образование  \n",
       "4             сыграть свадьбу  "
      ]
     },
     "execution_count": 14,
     "metadata": {},
     "output_type": "execute_result"
    }
   ],
   "source": [
    "# Замена отрицательных значений в колонке days_employed на положительные\n",
    "df['days_employed'] = df['days_employed'].abs()\n",
    "df.head()"
   ]
  },
  {
   "cell_type": "markdown",
   "id": "f12f7f50",
   "metadata": {},
   "source": [
    "Также, в колонке `days_employed` имеется аномальное по отношению к выборке количество сотрудников, отработавших 2195.251592 дней (2098 человек), когда другие количества отработанных дней попадаются в выборке не более 1 раза. 2195.251592 - это медиана по столбцу *days_employed*, - скорее всего пропущенные данные уже до этого были заполнены медианой, поэтому дополнительная замена аномального количества дней стажа на медианное значение не трубется."
   ]
  },
  {
   "cell_type": "markdown",
   "id": "5139e6ae",
   "metadata": {},
   "source": [
    "После избавления от аномалий произведем заполнение пропущенных значений в колонке `days_employed` медианными значениями по аналогии с колонкой `total_income`. Выбор заполнения данных именно медианными значениями обусловлен наличием в трудовом стаже экстремальных значений, которые могут искажать картину данных при расчете среднего значения (у части заемщиков стаж может быть очень большой, а у другой части вообще отсутствовать или быть незначительным (к примеру у студентов))."
   ]
  },
  {
   "cell_type": "code",
   "execution_count": 15,
   "id": "aed0b05a",
   "metadata": {
    "ExecuteTime": {
     "end_time": "2023-02-09T09:52:01.057969Z",
     "start_time": "2023-02-09T09:52:01.046002Z"
    }
   },
   "outputs": [
    {
     "name": "stderr",
     "output_type": "stream",
     "text": [
      "C:\\Users\\BLACKE~1\\AppData\\Local\\Temp/ipykernel_8560/3379473936.py:2: SettingWithCopyWarning: \n",
      "A value is trying to be set on a copy of a slice from a DataFrame.\n",
      "Try using .loc[row_indexer,col_indexer] = value instead\n",
      "\n",
      "See the caveats in the documentation: https://pandas.pydata.org/pandas-docs/stable/user_guide/indexing.html#returning-a-view-versus-a-copy\n",
      "  df['days_employed'] = df['days_employed'].fillna(df['days_employed'].median())\n"
     ]
    }
   ],
   "source": [
    "# Заполнение пропущенных значений колонки days_employed на медианное значение\n",
    "df['days_employed'] = df['days_employed'].fillna(df['days_employed'].median())"
   ]
  },
  {
   "cell_type": "code",
   "execution_count": 16,
   "id": "b2e29990",
   "metadata": {
    "ExecuteTime": {
     "end_time": "2023-02-09T09:52:01.089054Z",
     "start_time": "2023-02-09T09:52:01.063955Z"
    }
   },
   "outputs": [
    {
     "data": {
      "text/plain": [
       "0"
      ]
     },
     "execution_count": 16,
     "metadata": {},
     "output_type": "execute_result"
    }
   ],
   "source": [
    "df['days_employed'].isna().sum()"
   ]
  },
  {
   "cell_type": "markdown",
   "id": "8a6e3f28",
   "metadata": {},
   "source": [
    "Проверим столбец на аномалии."
   ]
  },
  {
   "cell_type": "code",
   "execution_count": 17,
   "id": "7e2fc69f",
   "metadata": {
    "ExecuteTime": {
     "end_time": "2023-02-09T09:52:01.105015Z",
     "start_time": "2023-02-09T09:52:01.092047Z"
    }
   },
   "outputs": [
    {
     "data": {
      "text/plain": [
       "6954     401755.400475\n",
       "10006    401715.811749\n",
       "7664     401675.093434\n",
       "2156     401674.466633\n",
       "7794     401663.850046\n",
       "             ...      \n",
       "2127         34.701045\n",
       "9683         33.520665\n",
       "6157         30.195337\n",
       "8336         24.240695\n",
       "17437        24.141633\n",
       "Name: days_employed, Length: 21402, dtype: float64"
      ]
     },
     "execution_count": 17,
     "metadata": {},
     "output_type": "execute_result"
    }
   ],
   "source": [
    "df['days_employed'].sort_values(ascending=False)"
   ]
  },
  {
   "cell_type": "markdown",
   "id": "dfef9edc",
   "metadata": {},
   "source": [
    "В колонке имеются аномально большие значения стажа. Посчитаем их количество (больше 65 лет стажа)."
   ]
  },
  {
   "cell_type": "code",
   "execution_count": 18,
   "id": "6a897c7f",
   "metadata": {
    "ExecuteTime": {
     "end_time": "2023-02-09T09:52:01.120968Z",
     "start_time": "2023-02-09T09:52:01.108004Z"
    }
   },
   "outputs": [
    {
     "data": {
      "text/plain": [
       "3431"
      ]
     },
     "execution_count": 18,
     "metadata": {},
     "output_type": "execute_result"
    }
   ],
   "source": [
    "df.loc[df['days_employed'] > 23725]['days_employed'].count()"
   ]
  },
  {
   "cell_type": "code",
   "execution_count": 51,
   "id": "7820a4a3",
   "metadata": {
    "ExecuteTime": {
     "end_time": "2023-02-09T09:56:17.335043Z",
     "start_time": "2023-02-09T09:56:17.308117Z"
    }
   },
   "outputs": [
    {
     "data": {
      "text/plain": [
       "16.081017428167687"
      ]
     },
     "execution_count": 51,
     "metadata": {},
     "output_type": "execute_result"
    }
   ],
   "source": [
    "# Подсчет процента аномальных значений в обещй выборке\n",
    "(df.loc[df['days_employed'] > 23725]['days_employed'].count()\n",
    " / df['days_employed'].count() * 100)"
   ]
  },
  {
   "cell_type": "markdown",
   "id": "df403e70",
   "metadata": {},
   "source": [
    "В колонке *days_employed* находится 3431 аномальное значение (стаж больше 65 лет), что составляет 16.03% от всей выборки."
   ]
  },
  {
   "cell_type": "markdown",
   "id": "7a457610",
   "metadata": {},
   "source": [
    "**Аномалии в колонке *dob_years***\n",
    "\n",
    "В колонке *dob_years* имеется аномальное значение равно 0. Возраст заемщика не может быть равен 0. Это ошибка. Проверим количество заемщиков с возрастом 0 и удалим такие данные, если вхождение такого значения в выборке данных не очень большое."
   ]
  },
  {
   "cell_type": "code",
   "execution_count": 20,
   "id": "7c6df939",
   "metadata": {
    "ExecuteTime": {
     "end_time": "2023-02-09T09:52:01.151885Z",
     "start_time": "2023-02-09T09:52:01.139918Z"
    }
   },
   "outputs": [
    {
     "data": {
      "text/plain": [
       "100"
      ]
     },
     "execution_count": 20,
     "metadata": {},
     "output_type": "execute_result"
    }
   ],
   "source": [
    "df.loc[df['dob_years'] == 0]['dob_years'].count()"
   ]
  },
  {
   "cell_type": "code",
   "execution_count": 21,
   "id": "93a0582f",
   "metadata": {
    "ExecuteTime": {
     "end_time": "2023-02-09T09:52:01.183085Z",
     "start_time": "2023-02-09T09:52:01.154879Z"
    }
   },
   "outputs": [
    {
     "data": {
      "text/plain": [
       "21302"
      ]
     },
     "execution_count": 21,
     "metadata": {},
     "output_type": "execute_result"
    }
   ],
   "source": [
    "df = df[df['dob_years'] != 0]\n",
    "df['dob_years'].count()"
   ]
  },
  {
   "cell_type": "markdown",
   "id": "c19dc0c4",
   "metadata": {},
   "source": [
    "**Аномалии в колонке *`gender`***\n",
    "\n",
    "В колонке `gender` присутствует аномальное неопределенное значение `XNA`. Для принятия решения определим сколько вхождений такого показателя присутствует в данных."
   ]
  },
  {
   "cell_type": "code",
   "execution_count": 22,
   "id": "3e559a92",
   "metadata": {
    "ExecuteTime": {
     "end_time": "2023-02-09T09:52:01.214002Z",
     "start_time": "2023-02-09T09:52:01.186078Z"
    }
   },
   "outputs": [
    {
     "data": {
      "text/plain": [
       "1"
      ]
     },
     "execution_count": 22,
     "metadata": {},
     "output_type": "execute_result"
    }
   ],
   "source": [
    "df.loc[df['gender'] == 'XNA']['gender'].count()"
   ]
  },
  {
   "cell_type": "markdown",
   "id": "0107102c",
   "metadata": {},
   "source": [
    "В данных всего 1 входение с наименованием `XNA`. Удалим его из выборки для очистки данных."
   ]
  },
  {
   "cell_type": "code",
   "execution_count": 23,
   "id": "a80234b2",
   "metadata": {
    "ExecuteTime": {
     "end_time": "2023-02-09T09:52:01.244920Z",
     "start_time": "2023-02-09T09:52:01.216996Z"
    }
   },
   "outputs": [
    {
     "data": {
      "text/plain": [
       "0"
      ]
     },
     "execution_count": 23,
     "metadata": {},
     "output_type": "execute_result"
    }
   ],
   "source": [
    "df = df[df['gender'] != 'XNA']\n",
    "df.loc[df['gender'] == 'XNA']['gender'].count()"
   ]
  },
  {
   "cell_type": "markdown",
   "id": "28aae81a",
   "metadata": {},
   "source": [
    "**Аномалии в других колонках**\n",
    "\n",
    "В других колонках присутствуют дубликаты - их мы обработаем на этапе обработки дубликатов. Аномалии в других колонках не выявлены."
   ]
  },
  {
   "cell_type": "markdown",
   "id": "4341a8e6",
   "metadata": {},
   "source": [
    "### Изменение типов данных."
   ]
  },
  {
   "cell_type": "markdown",
   "id": "c64e6cca",
   "metadata": {},
   "source": [
    "Изменим тип данных в колонке `total_income` с вещественного на целочисленный для удобства воприятия и исключения дробной части (копейки), не влияющей на результат исследования."
   ]
  },
  {
   "cell_type": "code",
   "execution_count": 24,
   "id": "f3d90475",
   "metadata": {
    "ExecuteTime": {
     "end_time": "2023-02-09T09:52:01.274855Z",
     "start_time": "2023-02-09T09:52:01.247915Z"
    }
   },
   "outputs": [
    {
     "data": {
      "text/plain": [
       "dtype('int64')"
      ]
     },
     "execution_count": 24,
     "metadata": {},
     "output_type": "execute_result"
    }
   ],
   "source": [
    "df['total_income'] = df['total_income'].astype('int64')\n",
    "df['total_income'].dtypes"
   ]
  },
  {
   "cell_type": "markdown",
   "id": "3dc4fac3",
   "metadata": {},
   "source": [
    "### Удаление дубликатов."
   ]
  },
  {
   "cell_type": "markdown",
   "id": "9f031e95",
   "metadata": {},
   "source": [
    "#### Проверка данных на явные дубликаты"
   ]
  },
  {
   "cell_type": "markdown",
   "id": "78b9b211",
   "metadata": {},
   "source": [
    "Проверим данные на наличие явных дубликатов:"
   ]
  },
  {
   "cell_type": "code",
   "execution_count": 25,
   "id": "8945df60",
   "metadata": {
    "ExecuteTime": {
     "end_time": "2023-02-09T09:52:01.322728Z",
     "start_time": "2023-02-09T09:52:01.277847Z"
    }
   },
   "outputs": [
    {
     "data": {
      "text/plain": [
       "54"
      ]
     },
     "execution_count": 25,
     "metadata": {},
     "output_type": "execute_result"
    }
   ],
   "source": [
    "df.duplicated().sum()"
   ]
  },
  {
   "cell_type": "markdown",
   "id": "89dbe38f",
   "metadata": {},
   "source": [
    "В данных имеется 54 строки с явными дубликатами. Удалим их для очистки данных:"
   ]
  },
  {
   "cell_type": "code",
   "execution_count": 26,
   "id": "4c1b6c42",
   "metadata": {
    "ExecuteTime": {
     "end_time": "2023-02-09T09:52:01.402516Z",
     "start_time": "2023-02-09T09:52:01.331703Z"
    }
   },
   "outputs": [
    {
     "data": {
      "text/plain": [
       "0"
      ]
     },
     "execution_count": 26,
     "metadata": {},
     "output_type": "execute_result"
    }
   ],
   "source": [
    "df = df.drop_duplicates().reset_index(drop=True)\n",
    "df.duplicated().sum()"
   ]
  },
  {
   "cell_type": "markdown",
   "id": "3d441c5c",
   "metadata": {},
   "source": [
    "Все явные дубликаты были удалены."
   ]
  },
  {
   "cell_type": "markdown",
   "id": "4d557e05",
   "metadata": {},
   "source": [
    "#### Проверка данных на неявные дубликаты\n",
    "\n",
    "Теперь проверим данные на наличие неявных дубликатов:"
   ]
  },
  {
   "cell_type": "code",
   "execution_count": 27,
   "id": "88f71b66",
   "metadata": {
    "ExecuteTime": {
     "end_time": "2023-02-09T09:52:01.574755Z",
     "start_time": "2023-02-09T09:52:01.405506Z"
    },
    "scrolled": true
   },
   "outputs": [
    {
     "data": {
      "text/plain": [
       "'Уникальные значения в колонке: «children»'"
      ]
     },
     "metadata": {},
     "output_type": "display_data"
    },
    {
     "data": {
      "text/plain": [
       "array([0, 1, 2, 3, 4, 5], dtype=int64)"
      ]
     },
     "metadata": {},
     "output_type": "display_data"
    },
    {
     "data": {
      "text/plain": [
       "'Уникальные значения в колонке: «days_employed»'"
      ]
     },
     "metadata": {},
     "output_type": "display_data"
    },
    {
     "data": {
      "text/plain": [
       "array([2.41416332e+01, 2.42406948e+01, 3.01953372e+01, ...,\n",
       "       4.01675093e+05, 4.01715812e+05, 4.01755400e+05])"
      ]
     },
     "metadata": {},
     "output_type": "display_data"
    },
    {
     "data": {
      "text/plain": [
       "'Уникальные значения в колонке: «dob_years»'"
      ]
     },
     "metadata": {},
     "output_type": "display_data"
    },
    {
     "data": {
      "text/plain": [
       "array([19, 20, 21, 22, 23, 24, 25, 26, 27, 28, 29, 30, 31, 32, 33, 34, 35,\n",
       "       36, 37, 38, 39, 40, 41, 42, 43, 44, 45, 46, 47, 48, 49, 50, 51, 52,\n",
       "       53, 54, 55, 56, 57, 58, 59, 60, 61, 62, 63, 64, 65, 66, 67, 68, 69,\n",
       "       70, 71, 72, 73, 74, 75], dtype=int64)"
      ]
     },
     "metadata": {},
     "output_type": "display_data"
    },
    {
     "data": {
      "text/plain": [
       "'Уникальные значения в колонке: «education»'"
      ]
     },
     "metadata": {},
     "output_type": "display_data"
    },
    {
     "data": {
      "text/plain": [
       "array(['ВЫСШЕЕ', 'Высшее', 'НАЧАЛЬНОЕ', 'НЕОКОНЧЕННОЕ ВЫСШЕЕ',\n",
       "       'Начальное', 'Неоконченное высшее', 'СРЕДНЕЕ', 'Среднее',\n",
       "       'УЧЕНАЯ СТЕПЕНЬ', 'Ученая степень', 'высшее', 'начальное',\n",
       "       'неоконченное высшее', 'среднее', 'ученая степень'], dtype=object)"
      ]
     },
     "metadata": {},
     "output_type": "display_data"
    },
    {
     "data": {
      "text/plain": [
       "'Уникальные значения в колонке: «education_id»'"
      ]
     },
     "metadata": {},
     "output_type": "display_data"
    },
    {
     "data": {
      "text/plain": [
       "array([0, 1, 2, 3, 4], dtype=int64)"
      ]
     },
     "metadata": {},
     "output_type": "display_data"
    },
    {
     "data": {
      "text/plain": [
       "'Уникальные значения в колонке: «family_status»'"
      ]
     },
     "metadata": {},
     "output_type": "display_data"
    },
    {
     "data": {
      "text/plain": [
       "array(['Не женат / не замужем', 'в разводе', 'вдовец / вдова',\n",
       "       'гражданский брак', 'женат / замужем'], dtype=object)"
      ]
     },
     "metadata": {},
     "output_type": "display_data"
    },
    {
     "data": {
      "text/plain": [
       "'Уникальные значения в колонке: «family_status_id»'"
      ]
     },
     "metadata": {},
     "output_type": "display_data"
    },
    {
     "data": {
      "text/plain": [
       "array([0, 1, 2, 3, 4], dtype=int64)"
      ]
     },
     "metadata": {},
     "output_type": "display_data"
    },
    {
     "data": {
      "text/plain": [
       "'Уникальные значения в колонке: «gender»'"
      ]
     },
     "metadata": {},
     "output_type": "display_data"
    },
    {
     "data": {
      "text/plain": [
       "array(['F', 'M'], dtype=object)"
      ]
     },
     "metadata": {},
     "output_type": "display_data"
    },
    {
     "data": {
      "text/plain": [
       "'Уникальные значения в колонке: «income_type»'"
      ]
     },
     "metadata": {},
     "output_type": "display_data"
    },
    {
     "data": {
      "text/plain": [
       "array(['безработный', 'в декрете', 'госслужащий', 'компаньон',\n",
       "       'пенсионер', 'предприниматель', 'сотрудник', 'студент'],\n",
       "      dtype=object)"
      ]
     },
     "metadata": {},
     "output_type": "display_data"
    },
    {
     "data": {
      "text/plain": [
       "'Уникальные значения в колонке: «debt»'"
      ]
     },
     "metadata": {},
     "output_type": "display_data"
    },
    {
     "data": {
      "text/plain": [
       "array([0, 1], dtype=int64)"
      ]
     },
     "metadata": {},
     "output_type": "display_data"
    },
    {
     "data": {
      "text/plain": [
       "'Уникальные значения в колонке: «total_income»'"
      ]
     },
     "metadata": {},
     "output_type": "display_data"
    },
    {
     "data": {
      "text/plain": [
       "array([  20667,   21205,   21367, ..., 1726276, 2200852, 2265604],\n",
       "      dtype=int64)"
      ]
     },
     "metadata": {},
     "output_type": "display_data"
    },
    {
     "data": {
      "text/plain": [
       "'Уникальные значения в колонке: «purpose»'"
      ]
     },
     "metadata": {},
     "output_type": "display_data"
    },
    {
     "data": {
      "text/plain": [
       "array(['автомобили', 'автомобиль', 'высшее образование',\n",
       "       'дополнительное образование', 'жилье',\n",
       "       'заняться высшим образованием', 'заняться образованием',\n",
       "       'на покупку автомобиля', 'на покупку подержанного автомобиля',\n",
       "       'на покупку своего автомобиля', 'на проведение свадьбы',\n",
       "       'недвижимость', 'образование', 'операции с жильем',\n",
       "       'операции с коммерческой недвижимостью',\n",
       "       'операции с недвижимостью', 'операции со своей недвижимостью',\n",
       "       'покупка жилой недвижимости', 'покупка жилья',\n",
       "       'покупка жилья для сдачи', 'покупка жилья для семьи',\n",
       "       'покупка коммерческой недвижимости', 'покупка недвижимости',\n",
       "       'покупка своего жилья', 'получение высшего образования',\n",
       "       'получение дополнительного образования', 'получение образования',\n",
       "       'приобретение автомобиля', 'профильное образование',\n",
       "       'ремонт жилью', 'свадьба', 'свой автомобиль',\n",
       "       'сделка с автомобилем', 'сделка с подержанным автомобилем',\n",
       "       'строительство жилой недвижимости', 'строительство недвижимости',\n",
       "       'строительство собственной недвижимости', 'сыграть свадьбу'],\n",
       "      dtype=object)"
      ]
     },
     "metadata": {},
     "output_type": "display_data"
    }
   ],
   "source": [
    "for column in df:\n",
    "    display(f'Уникальные значения в колонке: «{column}»')\n",
    "    display(df[column].sort_values().unique())\n",
    "    display()"
   ]
  },
  {
   "cell_type": "markdown",
   "id": "47c1e86b",
   "metadata": {},
   "source": [
    "**Неявные дубликаты в колонке *`education`***\n",
    "\n",
    "В колонке `education` присутствуют неявные дубликаты, образовавшиеся из-за разного регистра букв. Приведем их к единому стилю."
   ]
  },
  {
   "cell_type": "code",
   "execution_count": 28,
   "id": "92ca809a",
   "metadata": {
    "ExecuteTime": {
     "end_time": "2023-02-09T09:52:01.638581Z",
     "start_time": "2023-02-09T09:52:01.577745Z"
    }
   },
   "outputs": [
    {
     "data": {
      "text/plain": [
       "array(['высшее', 'начальное', 'неоконченное высшее', 'среднее',\n",
       "       'ученая степень'], dtype=object)"
      ]
     },
     "execution_count": 28,
     "metadata": {},
     "output_type": "execute_result"
    }
   ],
   "source": [
    "df['education'] = df['education'].str.lower()\n",
    "df['education'].sort_values().unique()"
   ]
  },
  {
   "cell_type": "code",
   "execution_count": 29,
   "id": "c4597171",
   "metadata": {
    "ExecuteTime": {
     "end_time": "2023-02-09T09:52:01.685456Z",
     "start_time": "2023-02-09T09:52:01.640577Z"
    }
   },
   "outputs": [
    {
     "data": {
      "text/plain": [
       "17"
      ]
     },
     "execution_count": 29,
     "metadata": {},
     "output_type": "execute_result"
    }
   ],
   "source": [
    "df.duplicated().sum()"
   ]
  },
  {
   "cell_type": "code",
   "execution_count": 30,
   "id": "5173b91d",
   "metadata": {
    "ExecuteTime": {
     "end_time": "2023-02-09T09:52:01.762886Z",
     "start_time": "2023-02-09T09:52:01.689698Z"
    }
   },
   "outputs": [
    {
     "data": {
      "text/plain": [
       "0"
      ]
     },
     "execution_count": 30,
     "metadata": {},
     "output_type": "execute_result"
    }
   ],
   "source": [
    "df = df.drop_duplicates().reset_index(drop=True)\n",
    "df.duplicated().sum()"
   ]
  },
  {
   "cell_type": "markdown",
   "id": "f3b44e3d",
   "metadata": {},
   "source": [
    "После приведения данных в колонке `education` из нее были убраны неявные дубликаты, которые образовались из-за разного регистра букв. Теперь данные из этой колонки можно использовать для анализа."
   ]
  },
  {
   "cell_type": "markdown",
   "id": "233ac85b",
   "metadata": {},
   "source": [
    "**Неявные дубликаты в других колонках**\n",
    "\n",
    "Другие неявные дубликаты имеются в колонке `purpose`, однако их обработка будет происходить в рамках категоризации."
   ]
  },
  {
   "cell_type": "markdown",
   "id": "ae2aac48",
   "metadata": {},
   "source": [
    "### Формирование дополнительных датафреймов словарей, декомпозиция исходного датафрейма."
   ]
  },
  {
   "cell_type": "markdown",
   "id": "11209aaa",
   "metadata": {},
   "source": [
    "Сделаем более компактным предоставление информации по уровню образования заемщиков и их семейному статусу, выделив колонки `education`, `education_id` и `family_status`, `family_status_id` в отдельные датафреймы."
   ]
  },
  {
   "cell_type": "code",
   "execution_count": 31,
   "id": "a0dd6511",
   "metadata": {
    "ExecuteTime": {
     "end_time": "2023-02-09T09:52:01.793996Z",
     "start_time": "2023-02-09T09:52:01.765876Z"
    }
   },
   "outputs": [
    {
     "data": {
      "text/html": [
       "<div>\n",
       "<style scoped>\n",
       "    .dataframe tbody tr th:only-of-type {\n",
       "        vertical-align: middle;\n",
       "    }\n",
       "\n",
       "    .dataframe tbody tr th {\n",
       "        vertical-align: top;\n",
       "    }\n",
       "\n",
       "    .dataframe thead th {\n",
       "        text-align: right;\n",
       "    }\n",
       "</style>\n",
       "<table border=\"1\" class=\"dataframe\">\n",
       "  <thead>\n",
       "    <tr style=\"text-align: right;\">\n",
       "      <th></th>\n",
       "      <th>education</th>\n",
       "      <th>education_id</th>\n",
       "    </tr>\n",
       "  </thead>\n",
       "  <tbody>\n",
       "    <tr>\n",
       "      <th>0</th>\n",
       "      <td>высшее</td>\n",
       "      <td>0</td>\n",
       "    </tr>\n",
       "    <tr>\n",
       "      <th>1</th>\n",
       "      <td>среднее</td>\n",
       "      <td>1</td>\n",
       "    </tr>\n",
       "    <tr>\n",
       "      <th>2</th>\n",
       "      <td>неоконченное высшее</td>\n",
       "      <td>2</td>\n",
       "    </tr>\n",
       "    <tr>\n",
       "      <th>3</th>\n",
       "      <td>начальное</td>\n",
       "      <td>3</td>\n",
       "    </tr>\n",
       "    <tr>\n",
       "      <th>4</th>\n",
       "      <td>ученая степень</td>\n",
       "      <td>4</td>\n",
       "    </tr>\n",
       "  </tbody>\n",
       "</table>\n",
       "</div>"
      ],
      "text/plain": [
       "             education  education_id\n",
       "0               высшее             0\n",
       "1              среднее             1\n",
       "2  неоконченное высшее             2\n",
       "3            начальное             3\n",
       "4       ученая степень             4"
      ]
     },
     "execution_count": 31,
     "metadata": {},
     "output_type": "execute_result"
    }
   ],
   "source": [
    "# Формирование дополнительного датафрейма\n",
    "education_df = df[['education', 'education_id']]\n",
    "\n",
    "# Удаление дубликатов для формирования уникальных значений\n",
    "education_df = education_df.drop_duplicates().reset_index(drop=True)\n",
    "education_df"
   ]
  },
  {
   "cell_type": "code",
   "execution_count": 32,
   "id": "7e4c5c80",
   "metadata": {
    "ExecuteTime": {
     "end_time": "2023-02-09T09:52:01.825271Z",
     "start_time": "2023-02-09T09:52:01.796989Z"
    }
   },
   "outputs": [
    {
     "data": {
      "text/html": [
       "<div>\n",
       "<style scoped>\n",
       "    .dataframe tbody tr th:only-of-type {\n",
       "        vertical-align: middle;\n",
       "    }\n",
       "\n",
       "    .dataframe tbody tr th {\n",
       "        vertical-align: top;\n",
       "    }\n",
       "\n",
       "    .dataframe thead th {\n",
       "        text-align: right;\n",
       "    }\n",
       "</style>\n",
       "<table border=\"1\" class=\"dataframe\">\n",
       "  <thead>\n",
       "    <tr style=\"text-align: right;\">\n",
       "      <th></th>\n",
       "      <th>family_status</th>\n",
       "      <th>family_status_id</th>\n",
       "    </tr>\n",
       "  </thead>\n",
       "  <tbody>\n",
       "    <tr>\n",
       "      <th>0</th>\n",
       "      <td>женат / замужем</td>\n",
       "      <td>0</td>\n",
       "    </tr>\n",
       "    <tr>\n",
       "      <th>1</th>\n",
       "      <td>гражданский брак</td>\n",
       "      <td>1</td>\n",
       "    </tr>\n",
       "    <tr>\n",
       "      <th>2</th>\n",
       "      <td>вдовец / вдова</td>\n",
       "      <td>2</td>\n",
       "    </tr>\n",
       "    <tr>\n",
       "      <th>3</th>\n",
       "      <td>в разводе</td>\n",
       "      <td>3</td>\n",
       "    </tr>\n",
       "    <tr>\n",
       "      <th>4</th>\n",
       "      <td>Не женат / не замужем</td>\n",
       "      <td>4</td>\n",
       "    </tr>\n",
       "  </tbody>\n",
       "</table>\n",
       "</div>"
      ],
      "text/plain": [
       "           family_status  family_status_id\n",
       "0        женат / замужем                 0\n",
       "1       гражданский брак                 1\n",
       "2         вдовец / вдова                 2\n",
       "3              в разводе                 3\n",
       "4  Не женат / не замужем                 4"
      ]
     },
     "execution_count": 32,
     "metadata": {},
     "output_type": "execute_result"
    }
   ],
   "source": [
    "# Формирование дополнительного датафрейма\n",
    "family_status_df = df[['family_status', 'family_status_id']]\n",
    "\n",
    "# Удаление дубликатов для формирования уникальных значений\n",
    "family_status_df = family_status_df.drop_duplicates().reset_index(drop=True)\n",
    "family_status_df"
   ]
  },
  {
   "cell_type": "markdown",
   "id": "7dae83f9",
   "metadata": {},
   "source": [
    "Удалим из исходного датафрейма столбцы `education` и `family_status`, оставив только их идентификаторы: `education_id` и `family_status_id`."
   ]
  },
  {
   "cell_type": "code",
   "execution_count": 33,
   "id": "209f0d65",
   "metadata": {
    "ExecuteTime": {
     "end_time": "2023-02-09T09:52:01.841229Z",
     "start_time": "2023-02-09T09:52:01.828263Z"
    }
   },
   "outputs": [
    {
     "data": {
      "text/plain": [
       "Index(['children', 'days_employed', 'dob_years', 'education_id',\n",
       "       'family_status_id', 'gender', 'income_type', 'debt', 'total_income',\n",
       "       'purpose'],\n",
       "      dtype='object')"
      ]
     },
     "execution_count": 33,
     "metadata": {},
     "output_type": "execute_result"
    }
   ],
   "source": [
    "df = df.drop(['education', 'family_status'], axis=1) # Декомпозиция исходного датафрейма\n",
    "df.columns"
   ]
  },
  {
   "cell_type": "markdown",
   "id": "8958fab4",
   "metadata": {},
   "source": [
    "Теперь мы можем обращаться к столбцам `education` и `family_status` через их индентификаторы в основном датафрейме, а основной датафрейм стал компактнее и читабельнее."
   ]
  },
  {
   "cell_type": "markdown",
   "id": "5f9fb6c7",
   "metadata": {},
   "source": [
    "### Категоризация дохода."
   ]
  },
  {
   "cell_type": "markdown",
   "id": "1881901f",
   "metadata": {},
   "source": [
    "Произведем категоризацию доходов заемщиков в соответсвии со следующей структурой.\n",
    "\n",
    "(Доход заемщика - категория)\n",
    "* 0–30000 — `E`;\n",
    "* 30001–50000 — `D`;\n",
    "* 50001–200000 — `C`;\n",
    "* 200001–1000000 — `B`;\n",
    "* 1000001 и выше — `A`.\n",
    "\n",
    "Для этого создадим соответствующую функцию `income_categorization`, которая выполнит соответствующую катогоризацию основываясь на уровне доходов заемщиков."
   ]
  },
  {
   "cell_type": "code",
   "execution_count": 34,
   "id": "2a220616",
   "metadata": {
    "ExecuteTime": {
     "end_time": "2023-02-09T09:52:01.888279Z",
     "start_time": "2023-02-09T09:52:01.844220Z"
    }
   },
   "outputs": [
    {
     "data": {
      "text/plain": [
       "C    15849\n",
       "B     4987\n",
       "D      347\n",
       "A       25\n",
       "E       22\n",
       "Name: total_income_category, dtype: int64"
      ]
     },
     "metadata": {},
     "output_type": "display_data"
    }
   ],
   "source": [
    "'''Функция, которая принимает на вход заработкую плату заемщика\n",
    "и распределяет по категориям в зависимости от ее уровня.\n",
    "'''\n",
    "\n",
    "\n",
    "def income_categorization(income):\n",
    "    if income >= 0 and income <= 30000:\n",
    "        return 'E'\n",
    "    elif income >= 30001 and income <= 50000:\n",
    "        return 'D'\n",
    "    elif income >= 50001 and income <= 200000:\n",
    "        return 'C'\n",
    "    elif income >= 200001 and income <= 1000000:\n",
    "        return 'B'\n",
    "    return 'A'\n",
    "\n",
    "df['total_income_category'] = df['total_income'].apply(income_categorization)\n",
    "display(df['total_income_category'].value_counts())"
   ]
  },
  {
   "cell_type": "markdown",
   "id": "eecdddcb",
   "metadata": {},
   "source": [
    "### Категоризация целей кредита."
   ]
  },
  {
   "cell_type": "markdown",
   "id": "62ec53d0",
   "metadata": {},
   "source": [
    "Произведем категоризацию целей кредита в колонке `purpose` для удобства проведения анализа. Категоризация также поможет нам избавиться от неявных дубликатов.\n",
    "\n",
    "Для начала посмотрим, какие уникальные значения есть в колонке `purpose`:"
   ]
  },
  {
   "cell_type": "code",
   "execution_count": 35,
   "id": "b77d4728",
   "metadata": {
    "ExecuteTime": {
     "end_time": "2023-02-09T09:52:01.903238Z",
     "start_time": "2023-02-09T09:52:01.891274Z"
    }
   },
   "outputs": [
    {
     "data": {
      "text/plain": [
       "array(['покупка жилья', 'приобретение автомобиля',\n",
       "       'дополнительное образование', 'сыграть свадьбу',\n",
       "       'операции с жильем', 'образование', 'на проведение свадьбы',\n",
       "       'покупка жилья для семьи', 'покупка недвижимости',\n",
       "       'покупка коммерческой недвижимости', 'покупка жилой недвижимости',\n",
       "       'строительство собственной недвижимости', 'недвижимость',\n",
       "       'строительство недвижимости', 'на покупку подержанного автомобиля',\n",
       "       'на покупку своего автомобиля',\n",
       "       'операции с коммерческой недвижимостью',\n",
       "       'строительство жилой недвижимости', 'жилье',\n",
       "       'операции со своей недвижимостью', 'автомобили',\n",
       "       'заняться образованием', 'сделка с подержанным автомобилем',\n",
       "       'получение образования', 'автомобиль', 'свадьба',\n",
       "       'получение дополнительного образования', 'покупка своего жилья',\n",
       "       'операции с недвижимостью', 'получение высшего образования',\n",
       "       'свой автомобиль', 'сделка с автомобилем',\n",
       "       'профильное образование', 'высшее образование',\n",
       "       'покупка жилья для сдачи', 'на покупку автомобиля', 'ремонт жилью',\n",
       "       'заняться высшим образованием'], dtype=object)"
      ]
     },
     "execution_count": 35,
     "metadata": {},
     "output_type": "execute_result"
    }
   ],
   "source": [
    "# Выявление уникальных значений в колонке purpose для написания функции по категоризации\n",
    "df['purpose'].unique()"
   ]
  },
  {
   "cell_type": "markdown",
   "id": "abcb300f",
   "metadata": {},
   "source": [
    "Напишем функцию, которая произведет автоматическую категоризацию в колонке `purpose` и запишет данные с обновленными категориями в колонку `purpose_category`:"
   ]
  },
  {
   "cell_type": "code",
   "execution_count": 36,
   "id": "483c302d",
   "metadata": {
    "ExecuteTime": {
     "end_time": "2023-02-09T09:52:01.951110Z",
     "start_time": "2023-02-09T09:52:01.906233Z"
    }
   },
   "outputs": [
    {
     "data": {
      "text/html": [
       "<div>\n",
       "<style scoped>\n",
       "    .dataframe tbody tr th:only-of-type {\n",
       "        vertical-align: middle;\n",
       "    }\n",
       "\n",
       "    .dataframe tbody tr th {\n",
       "        vertical-align: top;\n",
       "    }\n",
       "\n",
       "    .dataframe thead th {\n",
       "        text-align: right;\n",
       "    }\n",
       "</style>\n",
       "<table border=\"1\" class=\"dataframe\">\n",
       "  <thead>\n",
       "    <tr style=\"text-align: right;\">\n",
       "      <th></th>\n",
       "      <th>purpose</th>\n",
       "      <th>purpose_category</th>\n",
       "    </tr>\n",
       "  </thead>\n",
       "  <tbody>\n",
       "    <tr>\n",
       "      <th>0</th>\n",
       "      <td>покупка жилья</td>\n",
       "      <td>операции с недвижимостью</td>\n",
       "    </tr>\n",
       "    <tr>\n",
       "      <th>1</th>\n",
       "      <td>приобретение автомобиля</td>\n",
       "      <td>операции с автомобилем</td>\n",
       "    </tr>\n",
       "    <tr>\n",
       "      <th>2</th>\n",
       "      <td>покупка жилья</td>\n",
       "      <td>операции с недвижимостью</td>\n",
       "    </tr>\n",
       "    <tr>\n",
       "      <th>3</th>\n",
       "      <td>дополнительное образование</td>\n",
       "      <td>получение образования</td>\n",
       "    </tr>\n",
       "    <tr>\n",
       "      <th>4</th>\n",
       "      <td>сыграть свадьбу</td>\n",
       "      <td>проведение свадьбы</td>\n",
       "    </tr>\n",
       "    <tr>\n",
       "      <th>5</th>\n",
       "      <td>покупка жилья</td>\n",
       "      <td>операции с недвижимостью</td>\n",
       "    </tr>\n",
       "    <tr>\n",
       "      <th>6</th>\n",
       "      <td>операции с жильем</td>\n",
       "      <td>операции с недвижимостью</td>\n",
       "    </tr>\n",
       "    <tr>\n",
       "      <th>7</th>\n",
       "      <td>образование</td>\n",
       "      <td>получение образования</td>\n",
       "    </tr>\n",
       "    <tr>\n",
       "      <th>8</th>\n",
       "      <td>на проведение свадьбы</td>\n",
       "      <td>проведение свадьбы</td>\n",
       "    </tr>\n",
       "    <tr>\n",
       "      <th>9</th>\n",
       "      <td>покупка жилья для семьи</td>\n",
       "      <td>операции с недвижимостью</td>\n",
       "    </tr>\n",
       "  </tbody>\n",
       "</table>\n",
       "</div>"
      ],
      "text/plain": [
       "                      purpose          purpose_category\n",
       "0               покупка жилья  операции с недвижимостью\n",
       "1     приобретение автомобиля    операции с автомобилем\n",
       "2               покупка жилья  операции с недвижимостью\n",
       "3  дополнительное образование     получение образования\n",
       "4             сыграть свадьбу        проведение свадьбы\n",
       "5               покупка жилья  операции с недвижимостью\n",
       "6           операции с жильем  операции с недвижимостью\n",
       "7                 образование     получение образования\n",
       "8       на проведение свадьбы        проведение свадьбы\n",
       "9     покупка жилья для семьи  операции с недвижимостью"
      ]
     },
     "metadata": {},
     "output_type": "display_data"
    }
   ],
   "source": [
    "'''Функция по категоризации целей кредита.\n",
    "Функция принимает строку, анализирует по ключевым словам\n",
    "и определяет в определенные заранее категории.\n",
    "'''\n",
    "\n",
    "\n",
    "try:\n",
    "    def purpose_categorization(purpose):\n",
    "        if 'автомобил' in purpose:\n",
    "            return 'операции с автомобилем'\n",
    "        elif 'жиль' in purpose or 'недвижимост' in purpose:\n",
    "            return 'операции с недвижимостью'\n",
    "        elif 'свадьб' in purpose:\n",
    "            return 'проведение свадьбы'\n",
    "        return 'получение образования'\n",
    "\n",
    "    df['purpose_category'] = df['purpose'].apply(purpose_categorization)\n",
    "    display(df.loc[:, ['purpose', 'purpose_category']].head(10))\n",
    "except:\n",
    "    display('Возникла ошибка')"
   ]
  },
  {
   "cell_type": "markdown",
   "id": "c3a50edd",
   "metadata": {},
   "source": [
    "### Вывод"
   ]
  },
  {
   "cell_type": "markdown",
   "id": "3e901d61",
   "metadata": {},
   "source": [
    "Мы провели предобработку данных для возможности проведения анализа требуемых гипотез.\n",
    "При преобработке дынных из них были удалены найденные аномалии и явные дубликаты. Неявные дубликаты приведены к единому стилю написания. Был изменен тип дынных в столбце `total_income` с отчесением ненужной для анализа дробной части и для облегчения восприятия и анализа."
   ]
  },
  {
   "cell_type": "markdown",
   "id": "97fe3a2d",
   "metadata": {},
   "source": [
    "## Проверка гипотез"
   ]
  },
  {
   "cell_type": "markdown",
   "id": "e751a85e",
   "metadata": {},
   "source": [
    "### Гипотеза 1: Существует ли зависимость между количеством детей и возвратом кредита в срок?"
   ]
  },
  {
   "cell_type": "markdown",
   "id": "d2c56e0e",
   "metadata": {},
   "source": [
    "Исследуем первую гипотезу:\n",
    "*существует ли зависимость между количеством детей и возвратом кредита в срок?*\n",
    "\n",
    "Для этого сгруппируем данные по категории заемщиков с привязкой к количеству детей и проанализируем доли, которые выплачивают заемщики с детьми по отношению ко всей сумме взятых кредитов."
   ]
  },
  {
   "cell_type": "code",
   "execution_count": 37,
   "id": "0c59ef80",
   "metadata": {
    "ExecuteTime": {
     "end_time": "2023-02-09T09:52:01.982208Z",
     "start_time": "2023-02-09T09:52:01.955279Z"
    }
   },
   "outputs": [
    {
     "data": {
      "text/html": [
       "<div>\n",
       "<style scoped>\n",
       "    .dataframe tbody tr th:only-of-type {\n",
       "        vertical-align: middle;\n",
       "    }\n",
       "\n",
       "    .dataframe tbody tr th {\n",
       "        vertical-align: top;\n",
       "    }\n",
       "\n",
       "    .dataframe thead th {\n",
       "        text-align: right;\n",
       "    }\n",
       "</style>\n",
       "<table border=\"1\" class=\"dataframe\">\n",
       "  <thead>\n",
       "    <tr style=\"text-align: right;\">\n",
       "      <th></th>\n",
       "      <th>debt</th>\n",
       "    </tr>\n",
       "    <tr>\n",
       "      <th>children</th>\n",
       "      <th></th>\n",
       "    </tr>\n",
       "  </thead>\n",
       "  <tbody>\n",
       "    <tr>\n",
       "      <th>0</th>\n",
       "      <td>0.075458</td>\n",
       "    </tr>\n",
       "    <tr>\n",
       "      <th>1</th>\n",
       "      <td>0.092028</td>\n",
       "    </tr>\n",
       "    <tr>\n",
       "      <th>2</th>\n",
       "      <td>0.095145</td>\n",
       "    </tr>\n",
       "    <tr>\n",
       "      <th>3</th>\n",
       "      <td>0.082317</td>\n",
       "    </tr>\n",
       "    <tr>\n",
       "      <th>4</th>\n",
       "      <td>0.097561</td>\n",
       "    </tr>\n",
       "    <tr>\n",
       "      <th>5</th>\n",
       "      <td>0.000000</td>\n",
       "    </tr>\n",
       "  </tbody>\n",
       "</table>\n",
       "</div>"
      ],
      "text/plain": [
       "              debt\n",
       "children          \n",
       "0         0.075458\n",
       "1         0.092028\n",
       "2         0.095145\n",
       "3         0.082317\n",
       "4         0.097561\n",
       "5         0.000000"
      ]
     },
     "execution_count": 37,
     "metadata": {},
     "output_type": "execute_result"
    }
   ],
   "source": [
    "# Построение сводной таблицы по долгам в зависимости от количества детей\n",
    "df.pivot_table(values='debt', index='children')"
   ]
  },
  {
   "cell_type": "code",
   "execution_count": 52,
   "id": "4eac5790",
   "metadata": {
    "ExecuteTime": {
     "end_time": "2023-02-09T10:02:45.895065Z",
     "start_time": "2023-02-09T10:02:45.634217Z"
    }
   },
   "outputs": [
    {
     "data": {
      "image/png": "[encoded data removed]",
      "text/plain": [
       "<Figure size 1080x720 with 1 Axes>"
      ]
     },
     "metadata": {
      "needs_background": "light"
     },
     "output_type": "display_data"
    }
   ],
   "source": [
    "plt.figure(figsize=(15, 10))\n",
    "plt.plot(df.pivot_table(values='debt', index='children'))\n",
    "plt.title('Долг в зависимости от количества детей')\n",
    "plt.legend(['Debt'])\n",
    "plt.xlabel('Children')\n",
    "plt.ylabel('Debt')\n",
    "plt.show()"
   ]
  },
  {
   "cell_type": "markdown",
   "id": "91d93e6f",
   "metadata": {},
   "source": [
    "#### Вывод"
   ]
  },
  {
   "cell_type": "markdown",
   "id": "2c33281c",
   "metadata": {},
   "source": [
    "Из проведенного анализа видно, что с увеличением количества детей увеличивается и процент невозвращенных кредитов. При этом необходимо отметить, что доля увеличивается несильно из чего можно сделать косвенный вывод, что заемщики с детьми более ответственные в части оплаты кредитных обязательств (хотя финансовая нагрузка у них, как правило, выше, чем у заемщиков без детей, кредитные обязательства они все равно покрывают в примерно таком же объеме, как и бездетные заемщики)."
   ]
  },
  {
   "cell_type": "markdown",
   "id": "cb15f6a9",
   "metadata": {},
   "source": [
    "### Гипотеза 2: Существует ли зависимость между семейным положением и возвратом кредита в срок?"
   ]
  },
  {
   "cell_type": "markdown",
   "id": "ccbf2a89",
   "metadata": {},
   "source": [
    "Исследуем вторую гипотезу: существует ли зависимость между семейным положением и возвратом кредита в срок?\n",
    "\n",
    "Для этого сгруппируем данные по семейному статусу заемщиков и проанализируем доли, которые выплачивают заемщики по группам по отношению в общему количеству выборки."
   ]
  },
  {
   "cell_type": "code",
   "execution_count": 39,
   "id": "953b6160",
   "metadata": {
    "ExecuteTime": {
     "end_time": "2023-02-09T09:52:02.439203Z",
     "start_time": "2023-02-09T09:52:02.394641Z"
    }
   },
   "outputs": [
    {
     "data": {
      "text/html": [
       "<div>\n",
       "<style scoped>\n",
       "    .dataframe tbody tr th:only-of-type {\n",
       "        vertical-align: middle;\n",
       "    }\n",
       "\n",
       "    .dataframe tbody tr th {\n",
       "        vertical-align: top;\n",
       "    }\n",
       "\n",
       "    .dataframe thead th {\n",
       "        text-align: right;\n",
       "    }\n",
       "</style>\n",
       "<table border=\"1\" class=\"dataframe\">\n",
       "  <thead>\n",
       "    <tr style=\"text-align: right;\">\n",
       "      <th></th>\n",
       "      <th>children</th>\n",
       "      <th>days_employed</th>\n",
       "      <th>dob_years</th>\n",
       "      <th>education_id</th>\n",
       "      <th>family_status_id</th>\n",
       "      <th>gender</th>\n",
       "      <th>income_type</th>\n",
       "      <th>debt</th>\n",
       "      <th>total_income</th>\n",
       "      <th>purpose</th>\n",
       "      <th>total_income_category</th>\n",
       "      <th>purpose_category</th>\n",
       "      <th>family_status</th>\n",
       "    </tr>\n",
       "  </thead>\n",
       "  <tbody>\n",
       "    <tr>\n",
       "      <th>0</th>\n",
       "      <td>1</td>\n",
       "      <td>8437.673028</td>\n",
       "      <td>42</td>\n",
       "      <td>0</td>\n",
       "      <td>0</td>\n",
       "      <td>F</td>\n",
       "      <td>сотрудник</td>\n",
       "      <td>0</td>\n",
       "      <td>253875</td>\n",
       "      <td>покупка жилья</td>\n",
       "      <td>B</td>\n",
       "      <td>операции с недвижимостью</td>\n",
       "      <td>женат / замужем</td>\n",
       "    </tr>\n",
       "    <tr>\n",
       "      <th>1</th>\n",
       "      <td>1</td>\n",
       "      <td>4024.803754</td>\n",
       "      <td>36</td>\n",
       "      <td>1</td>\n",
       "      <td>0</td>\n",
       "      <td>F</td>\n",
       "      <td>сотрудник</td>\n",
       "      <td>0</td>\n",
       "      <td>112080</td>\n",
       "      <td>приобретение автомобиля</td>\n",
       "      <td>C</td>\n",
       "      <td>операции с автомобилем</td>\n",
       "      <td>женат / замужем</td>\n",
       "    </tr>\n",
       "    <tr>\n",
       "      <th>2</th>\n",
       "      <td>0</td>\n",
       "      <td>5623.422610</td>\n",
       "      <td>33</td>\n",
       "      <td>1</td>\n",
       "      <td>0</td>\n",
       "      <td>M</td>\n",
       "      <td>сотрудник</td>\n",
       "      <td>0</td>\n",
       "      <td>145885</td>\n",
       "      <td>покупка жилья</td>\n",
       "      <td>C</td>\n",
       "      <td>операции с недвижимостью</td>\n",
       "      <td>женат / замужем</td>\n",
       "    </tr>\n",
       "    <tr>\n",
       "      <th>3</th>\n",
       "      <td>3</td>\n",
       "      <td>4124.747207</td>\n",
       "      <td>32</td>\n",
       "      <td>1</td>\n",
       "      <td>0</td>\n",
       "      <td>M</td>\n",
       "      <td>сотрудник</td>\n",
       "      <td>0</td>\n",
       "      <td>267628</td>\n",
       "      <td>дополнительное образование</td>\n",
       "      <td>B</td>\n",
       "      <td>получение образования</td>\n",
       "      <td>женат / замужем</td>\n",
       "    </tr>\n",
       "    <tr>\n",
       "      <th>4</th>\n",
       "      <td>0</td>\n",
       "      <td>2879.202052</td>\n",
       "      <td>43</td>\n",
       "      <td>0</td>\n",
       "      <td>0</td>\n",
       "      <td>F</td>\n",
       "      <td>компаньон</td>\n",
       "      <td>0</td>\n",
       "      <td>240525</td>\n",
       "      <td>операции с жильем</td>\n",
       "      <td>B</td>\n",
       "      <td>операции с недвижимостью</td>\n",
       "      <td>женат / замужем</td>\n",
       "    </tr>\n",
       "    <tr>\n",
       "      <th>5</th>\n",
       "      <td>0</td>\n",
       "      <td>152.779569</td>\n",
       "      <td>50</td>\n",
       "      <td>1</td>\n",
       "      <td>0</td>\n",
       "      <td>M</td>\n",
       "      <td>сотрудник</td>\n",
       "      <td>0</td>\n",
       "      <td>135823</td>\n",
       "      <td>образование</td>\n",
       "      <td>C</td>\n",
       "      <td>получение образования</td>\n",
       "      <td>женат / замужем</td>\n",
       "    </tr>\n",
       "    <tr>\n",
       "      <th>6</th>\n",
       "      <td>0</td>\n",
       "      <td>2188.756445</td>\n",
       "      <td>41</td>\n",
       "      <td>1</td>\n",
       "      <td>0</td>\n",
       "      <td>M</td>\n",
       "      <td>сотрудник</td>\n",
       "      <td>0</td>\n",
       "      <td>144425</td>\n",
       "      <td>покупка жилья для семьи</td>\n",
       "      <td>C</td>\n",
       "      <td>операции с недвижимостью</td>\n",
       "      <td>женат / замужем</td>\n",
       "    </tr>\n",
       "    <tr>\n",
       "      <th>7</th>\n",
       "      <td>2</td>\n",
       "      <td>4171.483647</td>\n",
       "      <td>36</td>\n",
       "      <td>0</td>\n",
       "      <td>0</td>\n",
       "      <td>M</td>\n",
       "      <td>компаньон</td>\n",
       "      <td>0</td>\n",
       "      <td>113943</td>\n",
       "      <td>покупка недвижимости</td>\n",
       "      <td>C</td>\n",
       "      <td>операции с недвижимостью</td>\n",
       "      <td>женат / замужем</td>\n",
       "    </tr>\n",
       "    <tr>\n",
       "      <th>8</th>\n",
       "      <td>0</td>\n",
       "      <td>792.701887</td>\n",
       "      <td>40</td>\n",
       "      <td>1</td>\n",
       "      <td>0</td>\n",
       "      <td>F</td>\n",
       "      <td>сотрудник</td>\n",
       "      <td>0</td>\n",
       "      <td>77069</td>\n",
       "      <td>покупка коммерческой недвижимости</td>\n",
       "      <td>C</td>\n",
       "      <td>операции с недвижимостью</td>\n",
       "      <td>женат / замужем</td>\n",
       "    </tr>\n",
       "    <tr>\n",
       "      <th>9</th>\n",
       "      <td>0</td>\n",
       "      <td>1846.641941</td>\n",
       "      <td>54</td>\n",
       "      <td>2</td>\n",
       "      <td>0</td>\n",
       "      <td>F</td>\n",
       "      <td>сотрудник</td>\n",
       "      <td>0</td>\n",
       "      <td>130458</td>\n",
       "      <td>приобретение автомобиля</td>\n",
       "      <td>C</td>\n",
       "      <td>операции с автомобилем</td>\n",
       "      <td>женат / замужем</td>\n",
       "    </tr>\n",
       "  </tbody>\n",
       "</table>\n",
       "</div>"
      ],
      "text/plain": [
       "   children  days_employed  dob_years  education_id  family_status_id gender  \\\n",
       "0         1    8437.673028         42             0                 0      F   \n",
       "1         1    4024.803754         36             1                 0      F   \n",
       "2         0    5623.422610         33             1                 0      M   \n",
       "3         3    4124.747207         32             1                 0      M   \n",
       "4         0    2879.202052         43             0                 0      F   \n",
       "5         0     152.779569         50             1                 0      M   \n",
       "6         0    2188.756445         41             1                 0      M   \n",
       "7         2    4171.483647         36             0                 0      M   \n",
       "8         0     792.701887         40             1                 0      F   \n",
       "9         0    1846.641941         54             2                 0      F   \n",
       "\n",
       "  income_type  debt  total_income                            purpose  \\\n",
       "0   сотрудник     0        253875                      покупка жилья   \n",
       "1   сотрудник     0        112080            приобретение автомобиля   \n",
       "2   сотрудник     0        145885                      покупка жилья   \n",
       "3   сотрудник     0        267628         дополнительное образование   \n",
       "4   компаньон     0        240525                  операции с жильем   \n",
       "5   сотрудник     0        135823                        образование   \n",
       "6   сотрудник     0        144425            покупка жилья для семьи   \n",
       "7   компаньон     0        113943               покупка недвижимости   \n",
       "8   сотрудник     0         77069  покупка коммерческой недвижимости   \n",
       "9   сотрудник     0        130458            приобретение автомобиля   \n",
       "\n",
       "  total_income_category          purpose_category    family_status  \n",
       "0                     B  операции с недвижимостью  женат / замужем  \n",
       "1                     C    операции с автомобилем  женат / замужем  \n",
       "2                     C  операции с недвижимостью  женат / замужем  \n",
       "3                     B     получение образования  женат / замужем  \n",
       "4                     B  операции с недвижимостью  женат / замужем  \n",
       "5                     C     получение образования  женат / замужем  \n",
       "6                     C  операции с недвижимостью  женат / замужем  \n",
       "7                     C  операции с недвижимостью  женат / замужем  \n",
       "8                     C  операции с недвижимостью  женат / замужем  \n",
       "9                     C    операции с автомобилем  женат / замужем  "
      ]
     },
     "execution_count": 39,
     "metadata": {},
     "output_type": "execute_result"
    }
   ],
   "source": [
    "df = df.merge(family_status_df, on='family_status_id')\n",
    "df.head(10)"
   ]
  },
  {
   "cell_type": "code",
   "execution_count": 40,
   "id": "a1cc8f86",
   "metadata": {
    "ExecuteTime": {
     "end_time": "2023-02-09T09:52:02.485080Z",
     "start_time": "2023-02-09T09:52:02.442195Z"
    }
   },
   "outputs": [
    {
     "data": {
      "text/html": [
       "<div>\n",
       "<style scoped>\n",
       "    .dataframe tbody tr th:only-of-type {\n",
       "        vertical-align: middle;\n",
       "    }\n",
       "\n",
       "    .dataframe tbody tr th {\n",
       "        vertical-align: top;\n",
       "    }\n",
       "\n",
       "    .dataframe thead th {\n",
       "        text-align: right;\n",
       "    }\n",
       "</style>\n",
       "<table border=\"1\" class=\"dataframe\">\n",
       "  <thead>\n",
       "    <tr style=\"text-align: right;\">\n",
       "      <th></th>\n",
       "      <th>debt</th>\n",
       "    </tr>\n",
       "    <tr>\n",
       "      <th>family_status</th>\n",
       "      <th></th>\n",
       "    </tr>\n",
       "  </thead>\n",
       "  <tbody>\n",
       "    <tr>\n",
       "      <th>Не женат / не замужем</th>\n",
       "      <td>0.097842</td>\n",
       "    </tr>\n",
       "    <tr>\n",
       "      <th>в разводе</th>\n",
       "      <td>0.071247</td>\n",
       "    </tr>\n",
       "    <tr>\n",
       "      <th>вдовец / вдова</th>\n",
       "      <td>0.065539</td>\n",
       "    </tr>\n",
       "    <tr>\n",
       "      <th>гражданский брак</th>\n",
       "      <td>0.093142</td>\n",
       "    </tr>\n",
       "    <tr>\n",
       "      <th>женат / замужем</th>\n",
       "      <td>0.075575</td>\n",
       "    </tr>\n",
       "  </tbody>\n",
       "</table>\n",
       "</div>"
      ],
      "text/plain": [
       "                           debt\n",
       "family_status                  \n",
       "Не женат / не замужем  0.097842\n",
       "в разводе              0.071247\n",
       "вдовец / вдова         0.065539\n",
       "гражданский брак       0.093142\n",
       "женат / замужем        0.075575"
      ]
     },
     "execution_count": 40,
     "metadata": {},
     "output_type": "execute_result"
    }
   ],
   "source": [
    "# Построение сводной таблицы по долгам в зависимости от семейного статуса\n",
    "df.pivot_table(values='debt', index='family_status')"
   ]
  },
  {
   "cell_type": "code",
   "execution_count": 41,
   "id": "66b92f42",
   "metadata": {
    "ExecuteTime": {
     "end_time": "2023-02-09T09:52:02.737495Z",
     "start_time": "2023-02-09T09:52:02.489070Z"
    }
   },
   "outputs": [
    {
     "data": {
      "image/png": "[encoded data removed]",
      "text/plain": [
       "<Figure size 1080x720 with 1 Axes>"
      ]
     },
     "metadata": {
      "needs_background": "light"
     },
     "output_type": "display_data"
    }
   ],
   "source": [
    "plt.figure(figsize=(15, 10))\n",
    "plt.bar(df.pivot_table(values='debt', index='family_status').reset_index()['family_status'],\n",
    "        df.pivot_table(values='debt', index='family_status')['debt'])\n",
    "plt.title('Долг в зависимости от семейного положения')\n",
    "plt.legend(['Debt'])\n",
    "plt.xlabel('Family_status')\n",
    "plt.ylabel('Debt')\n",
    "plt.show()"
   ]
  },
  {
   "cell_type": "markdown",
   "id": "1c21d6cb",
   "metadata": {},
   "source": [
    "#### Вывод"
   ]
  },
  {
   "cell_type": "markdown",
   "id": "460881d8",
   "metadata": {},
   "source": [
    "Из проведенного анализа видно, что заемщики, состоящие в разводе и вдовцы более исправно выполняют кредитные обязательства, чем другие категории заемщиков. Люди без семейного положения или живущие в гражанском браке выполняют свои кредитные обязательства хуже остальных категорий. Медианное значение в анализе приходится на женатых/замужних людей, чьи обязательства исполняются лучше людей без семейного положения и живущих в гражданском браке, но хуже людей, находящихся в разводе или потерявших свою вторую половину."
   ]
  },
  {
   "cell_type": "markdown",
   "id": "38abd1da",
   "metadata": {},
   "source": [
    "### Гипотеза 3: Существует ли зависимость между уровнем дохода и возвратом кредита в срок?"
   ]
  },
  {
   "cell_type": "markdown",
   "id": "5c257a4f",
   "metadata": {},
   "source": [
    "Исследуем третью гипотезу: существует ли зависимость между уровнем дохода и возвратом кредита в срок?\n",
    "\n",
    "Для этого проанализируем категории заемщиков по уровню дохода (от категории A до E)."
   ]
  },
  {
   "cell_type": "code",
   "execution_count": 42,
   "id": "9bad9331",
   "metadata": {
    "ExecuteTime": {
     "end_time": "2023-02-09T09:52:02.784368Z",
     "start_time": "2023-02-09T09:52:02.739455Z"
    }
   },
   "outputs": [
    {
     "data": {
      "text/html": [
       "<div>\n",
       "<style scoped>\n",
       "    .dataframe tbody tr th:only-of-type {\n",
       "        vertical-align: middle;\n",
       "    }\n",
       "\n",
       "    .dataframe tbody tr th {\n",
       "        vertical-align: top;\n",
       "    }\n",
       "\n",
       "    .dataframe thead th {\n",
       "        text-align: right;\n",
       "    }\n",
       "</style>\n",
       "<table border=\"1\" class=\"dataframe\">\n",
       "  <thead>\n",
       "    <tr style=\"text-align: right;\">\n",
       "      <th></th>\n",
       "      <th>debt</th>\n",
       "    </tr>\n",
       "    <tr>\n",
       "      <th>total_income_category</th>\n",
       "      <th></th>\n",
       "    </tr>\n",
       "  </thead>\n",
       "  <tbody>\n",
       "    <tr>\n",
       "      <th>A</th>\n",
       "      <td>0.080000</td>\n",
       "    </tr>\n",
       "    <tr>\n",
       "      <th>B</th>\n",
       "      <td>0.070784</td>\n",
       "    </tr>\n",
       "    <tr>\n",
       "      <th>C</th>\n",
       "      <td>0.084926</td>\n",
       "    </tr>\n",
       "    <tr>\n",
       "      <th>D</th>\n",
       "      <td>0.060519</td>\n",
       "    </tr>\n",
       "    <tr>\n",
       "      <th>E</th>\n",
       "      <td>0.090909</td>\n",
       "    </tr>\n",
       "  </tbody>\n",
       "</table>\n",
       "</div>"
      ],
      "text/plain": [
       "                           debt\n",
       "total_income_category          \n",
       "A                      0.080000\n",
       "B                      0.070784\n",
       "C                      0.084926\n",
       "D                      0.060519\n",
       "E                      0.090909"
      ]
     },
     "execution_count": 42,
     "metadata": {},
     "output_type": "execute_result"
    }
   ],
   "source": [
    "# Построение сводной таблицы по долгам в зависимости от уровня дохода\n",
    "df.pivot_table(values='debt', index='total_income_category')"
   ]
  },
  {
   "cell_type": "code",
   "execution_count": 43,
   "id": "b2b9cbd7",
   "metadata": {
    "ExecuteTime": {
     "end_time": "2023-02-09T09:52:03.035918Z",
     "start_time": "2023-02-09T09:52:02.789322Z"
    }
   },
   "outputs": [
    {
     "data": {
      "image/png": "[encoded data removed]",
      "text/plain": [
       "<Figure size 1080x720 with 1 Axes>"
      ]
     },
     "metadata": {
      "needs_background": "light"
     },
     "output_type": "display_data"
    }
   ],
   "source": [
    "plt.figure(figsize=(15, 10))\n",
    "plt.bar(df.pivot_table(values='debt', index='total_income_category')\n",
    "          .reset_index()['total_income_category'],\n",
    "        df.pivot_table(values='debt', index='total_income_category')['debt'])\n",
    "plt.title('Долг в зависимости от уровня дохода')\n",
    "plt.legend(['Debt'])\n",
    "plt.xlabel('Total_income_category')\n",
    "plt.ylabel('Debt')\n",
    "plt.show()"
   ]
  },
  {
   "cell_type": "markdown",
   "id": "9d9ad1b6",
   "metadata": {},
   "source": [
    "#### Вывод"
   ]
  },
  {
   "cell_type": "markdown",
   "id": "81836c17",
   "metadata": {},
   "source": [
    "Из проведенного анализа видно, что наиболее платежеспособными оказались заемщики с уровнем дохода от 30 до 50 тыс. руб. Возможно, на этот показатель сказывается то, что такие заемщики не берут на себя большие обязательства.\n",
    "Заемщики с уровнем дохода от 200 до 1000 тыс. руб. так же могут позволить себе оплачивать взятые на них обязательства.\n",
    "Остальные категории заемщиков выполняют свои кредитные обязательства немного хуже.\n",
    "Хуже всех выполняют свои обязательства заемщики с уровнем дохода от 0 до 30 тыс. руб. Возможно это связано с желанием обеспечить себе достойный уровень жизни, но неимением для этого должных финансовых ресурсов."
   ]
  },
  {
   "cell_type": "markdown",
   "id": "9e580459",
   "metadata": {},
   "source": [
    "### Гипотеза 4: Как разные цели кредита влияют на его возврат в срок?"
   ]
  },
  {
   "cell_type": "markdown",
   "id": "ef3ebda1",
   "metadata": {},
   "source": [
    "Исследуем четвертую гипотезу: как разные цели кредита влияют на его возврат в срок?\n",
    "\n",
    "Для этого проанализируем цели, на которые выдавались кредиты."
   ]
  },
  {
   "cell_type": "code",
   "execution_count": 44,
   "id": "a60302f0",
   "metadata": {
    "ExecuteTime": {
     "end_time": "2023-02-09T09:52:03.066824Z",
     "start_time": "2023-02-09T09:52:03.039895Z"
    }
   },
   "outputs": [
    {
     "data": {
      "text/html": [
       "<div>\n",
       "<style scoped>\n",
       "    .dataframe tbody tr th:only-of-type {\n",
       "        vertical-align: middle;\n",
       "    }\n",
       "\n",
       "    .dataframe tbody tr th {\n",
       "        vertical-align: top;\n",
       "    }\n",
       "\n",
       "    .dataframe thead th {\n",
       "        text-align: right;\n",
       "    }\n",
       "</style>\n",
       "<table border=\"1\" class=\"dataframe\">\n",
       "  <thead>\n",
       "    <tr style=\"text-align: right;\">\n",
       "      <th></th>\n",
       "      <th>debt</th>\n",
       "    </tr>\n",
       "    <tr>\n",
       "      <th>purpose_category</th>\n",
       "      <th></th>\n",
       "    </tr>\n",
       "  </thead>\n",
       "  <tbody>\n",
       "    <tr>\n",
       "      <th>операции с автомобилем</th>\n",
       "      <td>0.093236</td>\n",
       "    </tr>\n",
       "    <tr>\n",
       "      <th>операции с недвижимостью</th>\n",
       "      <td>0.072596</td>\n",
       "    </tr>\n",
       "    <tr>\n",
       "      <th>получение образования</th>\n",
       "      <td>0.092947</td>\n",
       "    </tr>\n",
       "    <tr>\n",
       "      <th>проведение свадьбы</th>\n",
       "      <td>0.078730</td>\n",
       "    </tr>\n",
       "  </tbody>\n",
       "</table>\n",
       "</div>"
      ],
      "text/plain": [
       "                              debt\n",
       "purpose_category                  \n",
       "операции с автомобилем    0.093236\n",
       "операции с недвижимостью  0.072596\n",
       "получение образования     0.092947\n",
       "проведение свадьбы        0.078730"
      ]
     },
     "execution_count": 44,
     "metadata": {},
     "output_type": "execute_result"
    }
   ],
   "source": [
    "# Построение сводной таблицы по долгам в зависимости от целей кредита\n",
    "df.pivot_table(values='debt', index='purpose_category')"
   ]
  },
  {
   "cell_type": "code",
   "execution_count": 45,
   "id": "d26355e5",
   "metadata": {
    "ExecuteTime": {
     "end_time": "2023-02-09T09:52:03.314649Z",
     "start_time": "2023-02-09T09:52:03.071810Z"
    }
   },
   "outputs": [
    {
     "data": {
      "image/png": "[encoded data removed]",
      "text/plain": [
       "<Figure size 1080x720 with 1 Axes>"
      ]
     },
     "metadata": {
      "needs_background": "light"
     },
     "output_type": "display_data"
    }
   ],
   "source": [
    "plt.figure(figsize=(15, 10))\n",
    "plt.bar(df.pivot_table(values='debt', index='purpose_category').reset_index()['purpose_category'],\n",
    "        df.pivot_table(values='debt', index='purpose_category')['debt'])\n",
    "plt.title('Долг в зависимости целей кредита')\n",
    "plt.legend(['Debt'])\n",
    "plt.xlabel('Purpose_category')\n",
    "plt.ylabel('Debt')\n",
    "plt.show()"
   ]
  },
  {
   "cell_type": "markdown",
   "id": "1b517ed9",
   "metadata": {},
   "source": [
    "#### Вывод"
   ]
  },
  {
   "cell_type": "markdown",
   "id": "2934c675",
   "metadata": {},
   "source": [
    "Из проведенного анализа видно, что наиболее кредитные обязательства взятые на проведение операций с недвижимостью и свадебного мероприятия исполняются лучше, чем операции на покупку автомобиля или получение образования.\n",
    "Возможно это связано с тем, что операции по недвижимостью являются для людей жизненно важной необходимостью, а новобрачные начинают жизнь с листого семейного листа и не желают его очернять (к тому же на свадьбе, как правило, молодоженам дарят деньги! Можно и кредит закрыть).\n",
    "А вот покупка автомобиля, который требует к себе дополнительного внимания, ухода и финансовых вложений ложится сильным грузом на плечи заемщиков.\n",
    "Деньги, взятые на получение образования возвращаются неохотно из-за того, что обучение для человека это всегда трудность, которую нужно преодолеть, а если обучение еще и не принесло своих плодов или не понравилось, то человек остается и без денег и без образования, которое хотел получить."
   ]
  },
  {
   "cell_type": "markdown",
   "id": "932dcaf3",
   "metadata": {},
   "source": [
    "## Общий вывод:"
   ]
  },
  {
   "cell_type": "markdown",
   "id": "f9369c6e",
   "metadata": {},
   "source": [
    "Нами была рассмотрена выборка данных по платежеспособности клиентов банка, проведена их предобработка и анализ 4-х гипотез:\n",
    "* Есть ли зависимость между количеством детей и возвратом кредита в срок?\n",
    "* Есть ли зависимость между семейным положением и возвратом кредита в срок?\n",
    "* Есть ли зависимость между уровнем дохода и возвратом кредита в срок?\n",
    "* Как разные цели кредита влияют на его возврат в срок?\n",
    "\n",
    "На основе проведенного анализа можно сделать выводы, что на результат платежеспособности заещиков влияют такие показатели, как:\n",
    "* количество детей - чем больше детей у заемщика, тем выше у него финансовая нагрузка и тем сложнее ему закрывать свои обязательства;\n",
    "* семейный статус - одинокие люди чаще грустят и чаще себя балуют, из-за чего не всегда справляются со своими обязательствами.\n",
    "* доход - люди с маленьким доходом хотят жить лучше и обеспечивают себе нормальный уровень жизни, но увы, за счет кредитов. А вот люди с большим доходом склонны брать кредиты для инвестиционной деятельности и бизнеса и тоже не всегда справляются со своими амбициями и обязательствами. Оптимальным заемщиком, исходя из анализа, является средний класс;\n",
    "* цель, на которую берется займ - существуют жизненонеобходимые цели и цели, которые удовлетворяют наши амбиции или желания. Исходя из анализа жизненнонеобходимые цели, такие как покупка недвижимости или скрепление своей жизни узами брака заставляют заемщиков быть более ответственными.\n",
    "\n",
    "Рекомендации кредитному отделу: при построении модели кредитного скоринга учитывать результаты проведенного анализа по платежеспособности заемщиков по категориям и целям кредитования."
   ]
  }
 ],
 "metadata": {
  "ExecuteTimeLog": [
   {
    "duration": 52,
    "start_time": "2022-05-15T12:32:02.671Z"
   },
   {
    "duration": 467,
    "start_time": "2022-05-15T12:32:07.123Z"
   },
   {
    "duration": 78,
    "start_time": "2022-05-15T12:32:07.592Z"
   },
   {
    "duration": 22,
    "start_time": "2022-05-15T12:32:07.991Z"
   },
   {
    "duration": 19,
    "start_time": "2022-05-15T12:33:50.591Z"
   },
   {
    "duration": 188,
    "start_time": "2022-05-15T12:34:23.526Z"
   },
   {
    "duration": 33,
    "start_time": "2022-05-15T13:10:26.322Z"
   },
   {
    "duration": 8,
    "start_time": "2022-05-15T13:10:36.074Z"
   },
   {
    "duration": 3,
    "start_time": "2022-05-15T13:10:48.298Z"
   },
   {
    "duration": 67,
    "start_time": "2022-05-15T13:10:48.303Z"
   },
   {
    "duration": 14,
    "start_time": "2022-05-15T13:10:48.372Z"
   },
   {
    "duration": 22,
    "start_time": "2022-05-15T13:10:48.388Z"
   },
   {
    "duration": 27,
    "start_time": "2022-05-15T13:10:48.412Z"
   },
   {
    "duration": 9,
    "start_time": "2022-05-15T13:10:54.874Z"
   },
   {
    "duration": 12,
    "start_time": "2022-05-15T13:11:02.067Z"
   },
   {
    "duration": 6,
    "start_time": "2022-05-15T13:13:54.475Z"
   },
   {
    "duration": 6,
    "start_time": "2022-05-15T13:14:53.070Z"
   },
   {
    "duration": 4,
    "start_time": "2022-05-15T13:15:09.730Z"
   },
   {
    "duration": 12,
    "start_time": "2022-05-15T13:17:16.978Z"
   },
   {
    "duration": 11,
    "start_time": "2022-05-15T13:17:21.597Z"
   },
   {
    "duration": 17,
    "start_time": "2022-05-15T13:21:30.357Z"
   },
   {
    "duration": 15,
    "start_time": "2022-05-15T13:21:42.813Z"
   },
   {
    "duration": 10,
    "start_time": "2022-05-15T13:22:00.258Z"
   },
   {
    "duration": 10,
    "start_time": "2022-05-15T13:22:18.085Z"
   },
   {
    "duration": 11,
    "start_time": "2022-05-15T13:22:27.241Z"
   },
   {
    "duration": 11,
    "start_time": "2022-05-15T13:22:48.586Z"
   },
   {
    "duration": 12,
    "start_time": "2022-05-15T13:22:54.538Z"
   },
   {
    "duration": 10,
    "start_time": "2022-05-15T13:22:57.269Z"
   },
   {
    "duration": 17,
    "start_time": "2022-05-15T13:24:08.497Z"
   },
   {
    "duration": 162,
    "start_time": "2022-05-15T13:24:32.401Z"
   },
   {
    "duration": 179,
    "start_time": "2022-05-15T13:24:45.553Z"
   },
   {
    "duration": 16,
    "start_time": "2022-05-15T13:24:53.233Z"
   },
   {
    "duration": 10,
    "start_time": "2022-05-15T13:26:04.329Z"
   },
   {
    "duration": 12,
    "start_time": "2022-05-15T13:26:28.969Z"
   },
   {
    "duration": 12,
    "start_time": "2022-05-15T13:26:33.902Z"
   },
   {
    "duration": 10,
    "start_time": "2022-05-15T13:30:17.149Z"
   },
   {
    "duration": 12,
    "start_time": "2022-05-15T13:34:38.485Z"
   },
   {
    "duration": 11,
    "start_time": "2022-05-15T13:34:55.626Z"
   },
   {
    "duration": 10,
    "start_time": "2022-05-15T13:34:59.169Z"
   },
   {
    "duration": 11,
    "start_time": "2022-05-15T13:35:01.982Z"
   },
   {
    "duration": 17,
    "start_time": "2022-05-15T13:35:11.785Z"
   },
   {
    "duration": 18,
    "start_time": "2022-05-15T13:35:19.245Z"
   },
   {
    "duration": 17,
    "start_time": "2022-05-15T13:35:22.430Z"
   },
   {
    "duration": 16,
    "start_time": "2022-05-15T13:35:34.986Z"
   },
   {
    "duration": 2,
    "start_time": "2022-05-15T13:44:09.206Z"
   },
   {
    "duration": 2,
    "start_time": "2022-05-15T13:46:20.601Z"
   },
   {
    "duration": 6,
    "start_time": "2022-05-15T13:58:40.677Z"
   },
   {
    "duration": 19,
    "start_time": "2022-05-15T13:58:52.525Z"
   },
   {
    "duration": 4,
    "start_time": "2022-05-15T13:59:16.585Z"
   },
   {
    "duration": 19,
    "start_time": "2022-05-15T13:59:21.397Z"
   },
   {
    "duration": 10,
    "start_time": "2022-05-15T14:01:16.493Z"
   },
   {
    "duration": 9,
    "start_time": "2022-05-15T14:01:29.862Z"
   },
   {
    "duration": 6,
    "start_time": "2022-05-15T14:01:52.189Z"
   },
   {
    "duration": 5,
    "start_time": "2022-05-15T14:02:09.617Z"
   },
   {
    "duration": 14,
    "start_time": "2022-05-15T14:02:14.253Z"
   },
   {
    "duration": 16,
    "start_time": "2022-05-15T14:02:16.729Z"
   },
   {
    "duration": 3,
    "start_time": "2022-05-15T14:24:28.776Z"
   },
   {
    "duration": 2974,
    "start_time": "2022-05-15T14:25:05.605Z"
   },
   {
    "duration": 162,
    "start_time": "2022-05-15T14:25:42.421Z"
   },
   {
    "duration": 16,
    "start_time": "2022-05-15T14:25:54.377Z"
   },
   {
    "duration": 256,
    "start_time": "2022-05-15T14:30:05.925Z"
   },
   {
    "duration": 9,
    "start_time": "2022-05-15T14:30:12.673Z"
   },
   {
    "duration": 11,
    "start_time": "2022-05-15T14:31:03.660Z"
   },
   {
    "duration": 5,
    "start_time": "2022-05-15T14:31:27.721Z"
   },
   {
    "duration": 22,
    "start_time": "2022-05-15T14:32:05.405Z"
   },
   {
    "duration": 6,
    "start_time": "2022-05-15T14:37:17.112Z"
   },
   {
    "duration": 16,
    "start_time": "2022-05-15T14:37:26.900Z"
   },
   {
    "duration": 25,
    "start_time": "2022-05-15T14:43:28.072Z"
   },
   {
    "duration": 21,
    "start_time": "2022-05-15T14:43:40.496Z"
   },
   {
    "duration": 19,
    "start_time": "2022-05-15T14:43:53.980Z"
   },
   {
    "duration": 13,
    "start_time": "2022-05-15T14:44:14.528Z"
   },
   {
    "duration": 11,
    "start_time": "2022-05-15T14:44:21.847Z"
   },
   {
    "duration": 8,
    "start_time": "2022-05-15T14:45:05.292Z"
   },
   {
    "duration": 7,
    "start_time": "2022-05-15T14:45:28.732Z"
   },
   {
    "duration": 24,
    "start_time": "2022-05-15T14:46:05.148Z"
   },
   {
    "duration": 12,
    "start_time": "2022-05-15T14:46:31.408Z"
   },
   {
    "duration": 22,
    "start_time": "2022-05-15T14:50:40.963Z"
   },
   {
    "duration": 16,
    "start_time": "2022-05-15T14:51:11.211Z"
   },
   {
    "duration": 5,
    "start_time": "2022-05-15T14:52:04.976Z"
   },
   {
    "duration": 19,
    "start_time": "2022-05-15T14:52:17.992Z"
   },
   {
    "duration": 16,
    "start_time": "2022-05-15T14:52:34.892Z"
   },
   {
    "duration": 21,
    "start_time": "2022-05-15T14:52:55.731Z"
   },
   {
    "duration": 20,
    "start_time": "2022-05-15T14:53:10.380Z"
   },
   {
    "duration": 15,
    "start_time": "2022-05-15T14:53:31.144Z"
   },
   {
    "duration": 3,
    "start_time": "2022-05-15T14:53:37.324Z"
   },
   {
    "duration": 66,
    "start_time": "2022-05-15T14:53:37.331Z"
   },
   {
    "duration": 15,
    "start_time": "2022-05-15T14:53:37.399Z"
   },
   {
    "duration": 31,
    "start_time": "2022-05-15T14:53:37.415Z"
   },
   {
    "duration": 11,
    "start_time": "2022-05-15T14:53:37.448Z"
   },
   {
    "duration": 11,
    "start_time": "2022-05-15T14:53:37.461Z"
   },
   {
    "duration": 17,
    "start_time": "2022-05-15T14:53:37.474Z"
   },
   {
    "duration": 42,
    "start_time": "2022-05-15T14:53:37.493Z"
   },
   {
    "duration": 15,
    "start_time": "2022-05-15T14:53:37.537Z"
   },
   {
    "duration": 26,
    "start_time": "2022-05-15T14:53:37.554Z"
   },
   {
    "duration": 9,
    "start_time": "2022-05-15T14:53:37.582Z"
   },
   {
    "duration": 23,
    "start_time": "2022-05-15T14:53:37.592Z"
   },
   {
    "duration": 15,
    "start_time": "2022-05-15T14:53:37.634Z"
   },
   {
    "duration": 26,
    "start_time": "2022-05-15T14:53:37.651Z"
   },
   {
    "duration": 6,
    "start_time": "2022-05-15T14:54:34.395Z"
   },
   {
    "duration": 20,
    "start_time": "2022-05-15T14:54:43.591Z"
   },
   {
    "duration": 20,
    "start_time": "2022-05-15T14:55:15.351Z"
   },
   {
    "duration": 16,
    "start_time": "2022-05-15T14:55:29.976Z"
   },
   {
    "duration": 15,
    "start_time": "2022-05-15T14:55:42.233Z"
   },
   {
    "duration": 20,
    "start_time": "2022-05-15T14:55:43.976Z"
   },
   {
    "duration": 31,
    "start_time": "2022-05-15T14:55:51.512Z"
   },
   {
    "duration": 29,
    "start_time": "2022-05-15T14:56:34.943Z"
   },
   {
    "duration": 28,
    "start_time": "2022-05-15T14:58:43.003Z"
   },
   {
    "duration": 18,
    "start_time": "2022-05-15T14:58:47.359Z"
   },
   {
    "duration": 23,
    "start_time": "2022-05-15T15:00:12.531Z"
   },
   {
    "duration": 36,
    "start_time": "2022-05-15T15:03:09.463Z"
   },
   {
    "duration": 24,
    "start_time": "2022-05-15T15:03:27.967Z"
   },
   {
    "duration": 19,
    "start_time": "2022-05-15T15:03:42.011Z"
   },
   {
    "duration": 159,
    "start_time": "2022-05-15T15:04:17.679Z"
   },
   {
    "duration": 8,
    "start_time": "2022-05-15T15:05:11.559Z"
   },
   {
    "duration": 5,
    "start_time": "2022-05-15T15:06:34.237Z"
   },
   {
    "duration": 8,
    "start_time": "2022-05-15T15:07:19.403Z"
   },
   {
    "duration": 8,
    "start_time": "2022-05-15T15:07:24.211Z"
   },
   {
    "duration": 15,
    "start_time": "2022-05-15T15:07:59.587Z"
   },
   {
    "duration": 2638,
    "start_time": "2022-05-15T15:08:15.151Z"
   },
   {
    "duration": 16,
    "start_time": "2022-05-15T15:08:18.499Z"
   },
   {
    "duration": 15,
    "start_time": "2022-05-15T15:08:26.058Z"
   },
   {
    "duration": 8,
    "start_time": "2022-05-15T15:08:41.802Z"
   },
   {
    "duration": 8,
    "start_time": "2022-05-15T15:10:07.430Z"
   },
   {
    "duration": 7,
    "start_time": "2022-05-15T15:10:37.999Z"
   },
   {
    "duration": 14,
    "start_time": "2022-05-15T15:10:55.462Z"
   },
   {
    "duration": 4,
    "start_time": "2022-05-15T15:11:22.727Z"
   },
   {
    "duration": 9,
    "start_time": "2022-05-15T15:11:34.486Z"
   },
   {
    "duration": 6,
    "start_time": "2022-05-15T15:12:04.834Z"
   },
   {
    "duration": 19,
    "start_time": "2022-05-15T15:12:27.938Z"
   },
   {
    "duration": 77,
    "start_time": "2022-05-15T15:12:34.111Z"
   },
   {
    "duration": 81,
    "start_time": "2022-05-15T15:12:46.863Z"
   },
   {
    "duration": 94,
    "start_time": "2022-05-15T15:13:01.624Z"
   },
   {
    "duration": 80,
    "start_time": "2022-05-15T15:13:36.218Z"
   },
   {
    "duration": 81,
    "start_time": "2022-05-15T15:13:52.490Z"
   },
   {
    "duration": 82,
    "start_time": "2022-05-15T15:14:08.418Z"
   },
   {
    "duration": 94,
    "start_time": "2022-05-15T15:14:22.458Z"
   },
   {
    "duration": 8,
    "start_time": "2022-05-15T15:17:32.638Z"
   },
   {
    "duration": 86,
    "start_time": "2022-05-15T15:19:37.134Z"
   },
   {
    "duration": 23,
    "start_time": "2022-05-15T15:25:17.429Z"
   },
   {
    "duration": 6,
    "start_time": "2022-05-15T15:25:34.449Z"
   },
   {
    "duration": 6,
    "start_time": "2022-05-15T15:27:06.581Z"
   },
   {
    "duration": 23,
    "start_time": "2022-05-15T15:42:25.961Z"
   },
   {
    "duration": 2960,
    "start_time": "2022-05-15T15:43:27.841Z"
   },
   {
    "duration": 8,
    "start_time": "2022-05-15T15:48:42.983Z"
   },
   {
    "duration": 2884,
    "start_time": "2022-05-15T15:48:52.331Z"
   },
   {
    "duration": 4,
    "start_time": "2022-05-15T15:49:06.787Z"
   },
   {
    "duration": 4,
    "start_time": "2022-05-15T15:49:19.643Z"
   },
   {
    "duration": 14,
    "start_time": "2022-05-15T15:49:26.819Z"
   },
   {
    "duration": 9,
    "start_time": "2022-05-15T15:49:36.578Z"
   },
   {
    "duration": 9,
    "start_time": "2022-05-15T15:49:42.015Z"
   },
   {
    "duration": 10,
    "start_time": "2022-05-15T15:50:02.998Z"
   },
   {
    "duration": 10,
    "start_time": "2022-05-15T15:50:14.182Z"
   },
   {
    "duration": 8,
    "start_time": "2022-05-15T15:50:16.311Z"
   },
   {
    "duration": 9,
    "start_time": "2022-05-15T15:50:24.070Z"
   },
   {
    "duration": 6,
    "start_time": "2022-05-15T15:50:31.675Z"
   },
   {
    "duration": 9,
    "start_time": "2022-05-15T15:50:35.630Z"
   },
   {
    "duration": 3,
    "start_time": "2022-05-15T15:50:52.842Z"
   },
   {
    "duration": 75,
    "start_time": "2022-05-15T15:50:52.851Z"
   },
   {
    "duration": 14,
    "start_time": "2022-05-15T15:50:52.928Z"
   },
   {
    "duration": 20,
    "start_time": "2022-05-15T15:50:52.944Z"
   },
   {
    "duration": 13,
    "start_time": "2022-05-15T15:50:52.966Z"
   },
   {
    "duration": 12,
    "start_time": "2022-05-15T15:50:52.982Z"
   },
   {
    "duration": 48,
    "start_time": "2022-05-15T15:50:52.996Z"
   },
   {
    "duration": 6,
    "start_time": "2022-05-15T15:50:53.046Z"
   },
   {
    "duration": 18,
    "start_time": "2022-05-15T15:50:53.053Z"
   },
   {
    "duration": 115,
    "start_time": "2022-05-15T15:50:53.072Z"
   },
   {
    "duration": 6,
    "start_time": "2022-05-15T15:50:53.188Z"
   },
   {
    "duration": 9,
    "start_time": "2022-05-15T15:50:53.196Z"
   },
   {
    "duration": 38,
    "start_time": "2022-05-15T15:50:53.207Z"
   },
   {
    "duration": 18,
    "start_time": "2022-05-15T15:50:53.247Z"
   },
   {
    "duration": 6,
    "start_time": "2022-05-15T15:50:53.268Z"
   },
   {
    "duration": 15,
    "start_time": "2022-05-15T15:50:53.275Z"
   },
   {
    "duration": 47,
    "start_time": "2022-05-15T15:50:53.291Z"
   },
   {
    "duration": 8,
    "start_time": "2022-05-15T15:50:53.340Z"
   },
   {
    "duration": 12,
    "start_time": "2022-05-15T15:50:53.350Z"
   },
   {
    "duration": 10,
    "start_time": "2022-05-15T15:50:53.363Z"
   },
   {
    "duration": 15,
    "start_time": "2022-05-15T15:50:53.374Z"
   },
   {
    "duration": 6,
    "start_time": "2022-05-15T15:50:53.391Z"
   },
   {
    "duration": 9,
    "start_time": "2022-05-15T15:51:12.234Z"
   },
   {
    "duration": 2,
    "start_time": "2022-05-15T15:51:14.891Z"
   },
   {
    "duration": 69,
    "start_time": "2022-05-15T15:51:14.896Z"
   },
   {
    "duration": 14,
    "start_time": "2022-05-15T15:51:14.967Z"
   },
   {
    "duration": 19,
    "start_time": "2022-05-15T15:51:14.983Z"
   },
   {
    "duration": 39,
    "start_time": "2022-05-15T15:51:15.004Z"
   },
   {
    "duration": 14,
    "start_time": "2022-05-15T15:51:15.046Z"
   },
   {
    "duration": 20,
    "start_time": "2022-05-15T15:51:15.062Z"
   },
   {
    "duration": 49,
    "start_time": "2022-05-15T15:51:15.084Z"
   },
   {
    "duration": 19,
    "start_time": "2022-05-15T15:51:15.137Z"
   },
   {
    "duration": 118,
    "start_time": "2022-05-15T15:51:15.158Z"
   },
   {
    "duration": 6,
    "start_time": "2022-05-15T15:51:15.278Z"
   },
   {
    "duration": 10,
    "start_time": "2022-05-15T15:51:15.285Z"
   },
   {
    "duration": 48,
    "start_time": "2022-05-15T15:51:15.297Z"
   },
   {
    "duration": 16,
    "start_time": "2022-05-15T15:51:15.346Z"
   },
   {
    "duration": 8,
    "start_time": "2022-05-15T15:51:15.363Z"
   },
   {
    "duration": 17,
    "start_time": "2022-05-15T15:51:15.373Z"
   },
   {
    "duration": 47,
    "start_time": "2022-05-15T15:51:15.392Z"
   },
   {
    "duration": 19,
    "start_time": "2022-05-15T15:51:15.442Z"
   },
   {
    "duration": 21,
    "start_time": "2022-05-15T15:51:15.462Z"
   },
   {
    "duration": 52,
    "start_time": "2022-05-15T15:51:15.485Z"
   },
   {
    "duration": 99,
    "start_time": "2022-05-15T15:51:15.539Z"
   },
   {
    "duration": 8,
    "start_time": "2022-05-15T15:51:15.639Z"
   },
   {
    "duration": 9,
    "start_time": "2022-05-15T15:51:37.114Z"
   },
   {
    "duration": 17,
    "start_time": "2022-05-15T15:51:55.606Z"
   },
   {
    "duration": 19,
    "start_time": "2022-05-15T15:52:01.411Z"
   },
   {
    "duration": 3,
    "start_time": "2022-05-15T15:54:42.026Z"
   },
   {
    "duration": 73,
    "start_time": "2022-05-15T15:54:42.031Z"
   },
   {
    "duration": 13,
    "start_time": "2022-05-15T15:54:42.106Z"
   },
   {
    "duration": 23,
    "start_time": "2022-05-15T15:54:42.122Z"
   },
   {
    "duration": 11,
    "start_time": "2022-05-15T15:54:42.147Z"
   },
   {
    "duration": 16,
    "start_time": "2022-05-15T15:54:42.161Z"
   },
   {
    "duration": 16,
    "start_time": "2022-05-15T15:54:42.179Z"
   },
   {
    "duration": 4,
    "start_time": "2022-05-15T15:54:42.234Z"
   },
   {
    "duration": 18,
    "start_time": "2022-05-15T15:54:42.240Z"
   },
   {
    "duration": 101,
    "start_time": "2022-05-15T15:54:42.259Z"
   },
   {
    "duration": 7,
    "start_time": "2022-05-15T15:54:42.362Z"
   },
   {
    "duration": 8,
    "start_time": "2022-05-15T15:54:42.370Z"
   },
   {
    "duration": 19,
    "start_time": "2022-05-15T15:54:42.380Z"
   },
   {
    "duration": 15,
    "start_time": "2022-05-15T15:54:42.433Z"
   },
   {
    "duration": 9,
    "start_time": "2022-05-15T15:54:42.451Z"
   },
   {
    "duration": 16,
    "start_time": "2022-05-15T15:54:42.461Z"
   },
   {
    "duration": 15,
    "start_time": "2022-05-15T15:54:42.479Z"
   },
   {
    "duration": 20,
    "start_time": "2022-05-15T15:54:42.534Z"
   },
   {
    "duration": 22,
    "start_time": "2022-05-15T15:54:42.556Z"
   },
   {
    "duration": 19,
    "start_time": "2022-05-15T15:54:42.580Z"
   },
   {
    "duration": 102,
    "start_time": "2022-05-15T15:54:42.632Z"
   },
   {
    "duration": 9,
    "start_time": "2022-05-15T15:54:42.735Z"
   },
   {
    "duration": 7,
    "start_time": "2022-05-15T15:55:05.770Z"
   },
   {
    "duration": 6,
    "start_time": "2022-05-15T15:55:10.566Z"
   },
   {
    "duration": 6,
    "start_time": "2022-05-15T15:55:12.010Z"
   },
   {
    "duration": 6,
    "start_time": "2022-05-15T15:55:14.106Z"
   },
   {
    "duration": 6,
    "start_time": "2022-05-15T15:55:16.146Z"
   },
   {
    "duration": 2,
    "start_time": "2022-05-15T15:55:24.406Z"
   },
   {
    "duration": 81,
    "start_time": "2022-05-15T15:55:24.410Z"
   },
   {
    "duration": 12,
    "start_time": "2022-05-15T15:55:24.493Z"
   },
   {
    "duration": 48,
    "start_time": "2022-05-15T15:55:24.507Z"
   },
   {
    "duration": 14,
    "start_time": "2022-05-15T15:55:24.558Z"
   },
   {
    "duration": 26,
    "start_time": "2022-05-15T15:55:24.573Z"
   },
   {
    "duration": 29,
    "start_time": "2022-05-15T15:55:24.601Z"
   },
   {
    "duration": 18,
    "start_time": "2022-05-15T15:55:24.631Z"
   },
   {
    "duration": 44,
    "start_time": "2022-05-15T15:55:24.651Z"
   },
   {
    "duration": 90,
    "start_time": "2022-05-15T15:55:24.697Z"
   },
   {
    "duration": 5,
    "start_time": "2022-05-15T15:55:24.789Z"
   },
   {
    "duration": 29,
    "start_time": "2022-05-15T15:55:24.796Z"
   },
   {
    "duration": 40,
    "start_time": "2022-05-15T15:55:24.827Z"
   },
   {
    "duration": 26,
    "start_time": "2022-05-15T15:55:24.869Z"
   },
   {
    "duration": 10,
    "start_time": "2022-05-15T15:55:24.897Z"
   },
   {
    "duration": 39,
    "start_time": "2022-05-15T15:55:24.908Z"
   },
   {
    "duration": 14,
    "start_time": "2022-05-15T15:55:24.949Z"
   },
   {
    "duration": 24,
    "start_time": "2022-05-15T15:55:24.965Z"
   },
   {
    "duration": 59,
    "start_time": "2022-05-15T15:55:24.991Z"
   },
   {
    "duration": 27,
    "start_time": "2022-05-15T15:55:25.052Z"
   },
   {
    "duration": 93,
    "start_time": "2022-05-15T15:55:25.081Z"
   },
   {
    "duration": 7,
    "start_time": "2022-05-15T15:55:25.176Z"
   },
   {
    "duration": 22,
    "start_time": "2022-05-15T16:08:51.973Z"
   },
   {
    "duration": 6,
    "start_time": "2022-05-15T16:09:44.157Z"
   },
   {
    "duration": 6,
    "start_time": "2022-05-15T16:24:27.227Z"
   },
   {
    "duration": 7,
    "start_time": "2022-05-15T16:28:43.679Z"
   },
   {
    "duration": 3,
    "start_time": "2022-05-15T16:28:46.019Z"
   },
   {
    "duration": 77,
    "start_time": "2022-05-15T16:28:46.024Z"
   },
   {
    "duration": 13,
    "start_time": "2022-05-15T16:28:46.103Z"
   },
   {
    "duration": 38,
    "start_time": "2022-05-15T16:28:46.118Z"
   },
   {
    "duration": 14,
    "start_time": "2022-05-15T16:28:46.158Z"
   },
   {
    "duration": 17,
    "start_time": "2022-05-15T16:28:46.174Z"
   },
   {
    "duration": 52,
    "start_time": "2022-05-15T16:28:46.193Z"
   },
   {
    "duration": 13,
    "start_time": "2022-05-15T16:28:46.247Z"
   },
   {
    "duration": 22,
    "start_time": "2022-05-15T16:28:46.261Z"
   },
   {
    "duration": 119,
    "start_time": "2022-05-15T16:28:46.285Z"
   },
   {
    "duration": 7,
    "start_time": "2022-05-15T16:28:46.407Z"
   },
   {
    "duration": 23,
    "start_time": "2022-05-15T16:28:46.435Z"
   },
   {
    "duration": 20,
    "start_time": "2022-05-15T16:28:46.462Z"
   },
   {
    "duration": 18,
    "start_time": "2022-05-15T16:28:46.484Z"
   },
   {
    "duration": 30,
    "start_time": "2022-05-15T16:28:46.504Z"
   },
   {
    "duration": 26,
    "start_time": "2022-05-15T16:28:46.536Z"
   },
   {
    "duration": 12,
    "start_time": "2022-05-15T16:28:46.564Z"
   },
   {
    "duration": 64,
    "start_time": "2022-05-15T16:28:46.579Z"
   },
   {
    "duration": 22,
    "start_time": "2022-05-15T16:28:46.645Z"
   },
   {
    "duration": 22,
    "start_time": "2022-05-15T16:28:46.669Z"
   },
   {
    "duration": 58,
    "start_time": "2022-05-15T16:28:46.693Z"
   },
   {
    "duration": 22,
    "start_time": "2022-05-15T16:28:46.752Z"
   },
   {
    "duration": 117,
    "start_time": "2022-05-15T16:28:46.776Z"
   },
   {
    "duration": 10,
    "start_time": "2022-05-15T16:28:46.895Z"
   },
   {
    "duration": 9,
    "start_time": "2022-05-15T16:29:45.287Z"
   },
   {
    "duration": 3,
    "start_time": "2022-05-15T16:29:50.371Z"
   },
   {
    "duration": 80,
    "start_time": "2022-05-15T16:29:50.380Z"
   },
   {
    "duration": 16,
    "start_time": "2022-05-15T16:29:50.462Z"
   },
   {
    "duration": 23,
    "start_time": "2022-05-15T16:29:50.480Z"
   },
   {
    "duration": 28,
    "start_time": "2022-05-15T16:29:50.506Z"
   },
   {
    "duration": 18,
    "start_time": "2022-05-15T16:29:50.538Z"
   },
   {
    "duration": 34,
    "start_time": "2022-05-15T16:29:50.558Z"
   },
   {
    "duration": 5,
    "start_time": "2022-05-15T16:29:50.594Z"
   },
   {
    "duration": 44,
    "start_time": "2022-05-15T16:29:50.600Z"
   },
   {
    "duration": 136,
    "start_time": "2022-05-15T16:29:50.646Z"
   },
   {
    "duration": 8,
    "start_time": "2022-05-15T16:29:50.784Z"
   },
   {
    "duration": 10,
    "start_time": "2022-05-15T16:29:50.795Z"
   },
   {
    "duration": 60,
    "start_time": "2022-05-15T16:29:50.807Z"
   },
   {
    "duration": 22,
    "start_time": "2022-05-15T16:29:50.869Z"
   },
   {
    "duration": 6,
    "start_time": "2022-05-15T16:29:50.895Z"
   },
   {
    "duration": 42,
    "start_time": "2022-05-15T16:29:50.903Z"
   },
   {
    "duration": 30,
    "start_time": "2022-05-15T16:29:50.947Z"
   },
   {
    "duration": 9,
    "start_time": "2022-05-15T16:29:50.979Z"
   },
   {
    "duration": 14,
    "start_time": "2022-05-15T16:29:50.990Z"
   },
   {
    "duration": 42,
    "start_time": "2022-05-15T16:29:51.006Z"
   },
   {
    "duration": 29,
    "start_time": "2022-05-15T16:29:51.050Z"
   },
   {
    "duration": 19,
    "start_time": "2022-05-15T16:29:51.080Z"
   },
   {
    "duration": 148,
    "start_time": "2022-05-15T16:29:51.101Z"
   },
   {
    "duration": 18,
    "start_time": "2022-05-15T16:29:51.251Z"
   },
   {
    "duration": 9,
    "start_time": "2022-05-15T16:40:16.759Z"
   },
   {
    "duration": 9,
    "start_time": "2022-05-15T16:41:29.810Z"
   },
   {
    "duration": 3,
    "start_time": "2022-05-15T16:41:36.902Z"
   },
   {
    "duration": 86,
    "start_time": "2022-05-15T16:41:36.907Z"
   },
   {
    "duration": 15,
    "start_time": "2022-05-15T16:41:36.994Z"
   },
   {
    "duration": 47,
    "start_time": "2022-05-15T16:41:37.012Z"
   },
   {
    "duration": 21,
    "start_time": "2022-05-15T16:41:37.061Z"
   },
   {
    "duration": 17,
    "start_time": "2022-05-15T16:41:37.084Z"
   },
   {
    "duration": 48,
    "start_time": "2022-05-15T16:41:37.104Z"
   },
   {
    "duration": 16,
    "start_time": "2022-05-15T16:41:37.154Z"
   },
   {
    "duration": 23,
    "start_time": "2022-05-15T16:41:37.173Z"
   },
   {
    "duration": 158,
    "start_time": "2022-05-15T16:41:37.197Z"
   },
   {
    "duration": 11,
    "start_time": "2022-05-15T16:41:37.357Z"
   },
   {
    "duration": 21,
    "start_time": "2022-05-15T16:41:37.370Z"
   },
   {
    "duration": 41,
    "start_time": "2022-05-15T16:41:37.393Z"
   },
   {
    "duration": 23,
    "start_time": "2022-05-15T16:41:37.436Z"
   },
   {
    "duration": 10,
    "start_time": "2022-05-15T16:41:37.461Z"
   },
   {
    "duration": 28,
    "start_time": "2022-05-15T16:41:37.472Z"
   },
   {
    "duration": 8,
    "start_time": "2022-05-15T16:41:37.502Z"
   },
   {
    "duration": 29,
    "start_time": "2022-05-15T16:41:37.534Z"
   },
   {
    "duration": 10,
    "start_time": "2022-05-15T16:41:37.565Z"
   },
   {
    "duration": 19,
    "start_time": "2022-05-15T16:41:37.577Z"
   },
   {
    "duration": 38,
    "start_time": "2022-05-15T16:41:37.598Z"
   },
   {
    "duration": 57,
    "start_time": "2022-05-15T16:41:37.638Z"
   },
   {
    "duration": 23,
    "start_time": "2022-05-15T16:41:37.697Z"
   },
   {
    "duration": 34,
    "start_time": "2022-05-15T16:41:37.723Z"
   },
   {
    "duration": 112,
    "start_time": "2022-05-15T16:41:37.760Z"
   },
   {
    "duration": 9,
    "start_time": "2022-05-15T16:41:37.875Z"
   },
   {
    "duration": 212,
    "start_time": "2022-05-15T16:43:45.710Z"
   },
   {
    "duration": 21,
    "start_time": "2022-05-15T16:45:17.426Z"
   },
   {
    "duration": 16,
    "start_time": "2022-05-15T16:45:39.391Z"
   },
   {
    "duration": 15,
    "start_time": "2022-05-15T16:45:39.806Z"
   },
   {
    "duration": 205,
    "start_time": "2022-05-15T16:47:00.154Z"
   },
   {
    "duration": 187,
    "start_time": "2022-05-15T16:47:26.666Z"
   },
   {
    "duration": 150,
    "start_time": "2022-05-15T16:48:44.370Z"
   },
   {
    "duration": 11,
    "start_time": "2022-05-15T16:54:49.149Z"
   },
   {
    "duration": 13,
    "start_time": "2022-05-15T16:57:34.059Z"
   },
   {
    "duration": 16,
    "start_time": "2022-05-15T16:57:45.560Z"
   },
   {
    "duration": 28,
    "start_time": "2022-05-15T16:57:58.450Z"
   },
   {
    "duration": 33,
    "start_time": "2022-05-15T16:58:12.364Z"
   },
   {
    "duration": 30,
    "start_time": "2022-05-15T16:59:12.399Z"
   },
   {
    "duration": 11,
    "start_time": "2022-05-15T17:05:34.777Z"
   },
   {
    "duration": 14,
    "start_time": "2022-05-15T17:07:07.946Z"
   },
   {
    "duration": 3,
    "start_time": "2022-05-15T17:07:15.557Z"
   },
   {
    "duration": 77,
    "start_time": "2022-05-15T17:07:15.562Z"
   },
   {
    "duration": 13,
    "start_time": "2022-05-15T17:07:15.641Z"
   },
   {
    "duration": 19,
    "start_time": "2022-05-15T17:07:15.656Z"
   },
   {
    "duration": 11,
    "start_time": "2022-05-15T17:07:15.676Z"
   },
   {
    "duration": 75,
    "start_time": "2022-05-15T17:07:15.688Z"
   },
   {
    "duration": 22,
    "start_time": "2022-05-15T17:07:15.764Z"
   },
   {
    "duration": 5,
    "start_time": "2022-05-15T17:07:15.788Z"
   },
   {
    "duration": 39,
    "start_time": "2022-05-15T17:07:15.795Z"
   },
   {
    "duration": 99,
    "start_time": "2022-05-15T17:07:15.836Z"
   },
   {
    "duration": 6,
    "start_time": "2022-05-15T17:07:15.936Z"
   },
   {
    "duration": 9,
    "start_time": "2022-05-15T17:07:15.944Z"
   },
   {
    "duration": 26,
    "start_time": "2022-05-15T17:07:15.955Z"
   },
   {
    "duration": 14,
    "start_time": "2022-05-15T17:07:15.983Z"
   },
   {
    "duration": 38,
    "start_time": "2022-05-15T17:07:15.999Z"
   },
   {
    "duration": 17,
    "start_time": "2022-05-15T17:07:16.038Z"
   },
   {
    "duration": 9,
    "start_time": "2022-05-15T17:07:16.057Z"
   },
   {
    "duration": 13,
    "start_time": "2022-05-15T17:07:16.068Z"
   },
   {
    "duration": 10,
    "start_time": "2022-05-15T17:07:16.082Z"
   },
   {
    "duration": 46,
    "start_time": "2022-05-15T17:07:16.094Z"
   },
   {
    "duration": 11,
    "start_time": "2022-05-15T17:07:16.141Z"
   },
   {
    "duration": 0,
    "start_time": "2022-05-15T17:07:16.155Z"
   },
   {
    "duration": 0,
    "start_time": "2022-05-15T17:07:16.156Z"
   },
   {
    "duration": 0,
    "start_time": "2022-05-15T17:07:16.158Z"
   },
   {
    "duration": 0,
    "start_time": "2022-05-15T17:07:16.159Z"
   },
   {
    "duration": 0,
    "start_time": "2022-05-15T17:07:16.160Z"
   },
   {
    "duration": 0,
    "start_time": "2022-05-15T17:07:16.161Z"
   },
   {
    "duration": 14,
    "start_time": "2022-05-15T17:07:44.678Z"
   },
   {
    "duration": 4,
    "start_time": "2022-05-15T17:08:17.494Z"
   },
   {
    "duration": 21,
    "start_time": "2022-05-15T17:09:52.441Z"
   },
   {
    "duration": 21,
    "start_time": "2022-05-15T17:10:18.625Z"
   },
   {
    "duration": 15,
    "start_time": "2022-05-15T17:10:44.405Z"
   },
   {
    "duration": 22,
    "start_time": "2022-05-15T17:10:59.837Z"
   },
   {
    "duration": 12,
    "start_time": "2022-05-15T17:11:01.969Z"
   },
   {
    "duration": 27,
    "start_time": "2022-05-15T17:11:07.253Z"
   },
   {
    "duration": 12,
    "start_time": "2022-05-15T17:11:12.848Z"
   },
   {
    "duration": 20,
    "start_time": "2022-05-15T17:11:24.189Z"
   },
   {
    "duration": 40,
    "start_time": "2022-05-15T17:11:32.253Z"
   },
   {
    "duration": 37,
    "start_time": "2022-05-15T17:12:31.509Z"
   },
   {
    "duration": 30,
    "start_time": "2022-05-15T17:12:39.661Z"
   },
   {
    "duration": 37,
    "start_time": "2022-05-15T17:12:42.821Z"
   },
   {
    "duration": 43,
    "start_time": "2022-05-15T17:12:57.044Z"
   },
   {
    "duration": 25,
    "start_time": "2022-05-15T17:13:12.925Z"
   },
   {
    "duration": 51,
    "start_time": "2022-05-15T17:14:11.728Z"
   },
   {
    "duration": 7,
    "start_time": "2022-05-15T17:14:53.169Z"
   },
   {
    "duration": 14,
    "start_time": "2022-05-15T17:15:05.460Z"
   },
   {
    "duration": 25,
    "start_time": "2022-05-15T17:15:57.324Z"
   },
   {
    "duration": 3,
    "start_time": "2022-05-15T17:23:13.841Z"
   },
   {
    "duration": 92,
    "start_time": "2022-05-15T17:23:13.847Z"
   },
   {
    "duration": 20,
    "start_time": "2022-05-15T17:23:13.942Z"
   },
   {
    "duration": 29,
    "start_time": "2022-05-15T17:23:13.964Z"
   },
   {
    "duration": 13,
    "start_time": "2022-05-15T17:23:13.996Z"
   },
   {
    "duration": 14,
    "start_time": "2022-05-15T17:23:14.037Z"
   },
   {
    "duration": 17,
    "start_time": "2022-05-15T17:23:14.053Z"
   },
   {
    "duration": 5,
    "start_time": "2022-05-15T17:23:14.072Z"
   },
   {
    "duration": 21,
    "start_time": "2022-05-15T17:23:14.078Z"
   },
   {
    "duration": 124,
    "start_time": "2022-05-15T17:23:14.134Z"
   },
   {
    "duration": 5,
    "start_time": "2022-05-15T17:23:14.262Z"
   },
   {
    "duration": 9,
    "start_time": "2022-05-15T17:23:14.269Z"
   },
   {
    "duration": 61,
    "start_time": "2022-05-15T17:23:14.279Z"
   },
   {
    "duration": 17,
    "start_time": "2022-05-15T17:23:14.342Z"
   },
   {
    "duration": 6,
    "start_time": "2022-05-15T17:23:14.361Z"
   },
   {
    "duration": 16,
    "start_time": "2022-05-15T17:23:14.369Z"
   },
   {
    "duration": 5,
    "start_time": "2022-05-15T17:23:14.387Z"
   },
   {
    "duration": 50,
    "start_time": "2022-05-15T17:23:14.394Z"
   },
   {
    "duration": 14,
    "start_time": "2022-05-15T17:23:14.449Z"
   },
   {
    "duration": 12,
    "start_time": "2022-05-15T17:23:14.466Z"
   },
   {
    "duration": 15,
    "start_time": "2022-05-15T17:23:14.480Z"
   },
   {
    "duration": 56,
    "start_time": "2022-05-15T17:23:14.497Z"
   },
   {
    "duration": 21,
    "start_time": "2022-05-15T17:23:14.555Z"
   },
   {
    "duration": 20,
    "start_time": "2022-05-15T17:23:14.578Z"
   },
   {
    "duration": 118,
    "start_time": "2022-05-15T17:23:14.599Z"
   },
   {
    "duration": 40,
    "start_time": "2022-05-15T17:23:14.733Z"
   },
   {
    "duration": 163,
    "start_time": "2022-05-15T17:47:46.632Z"
   },
   {
    "duration": 3,
    "start_time": "2022-05-15T17:48:06.629Z"
   },
   {
    "duration": 64,
    "start_time": "2022-05-15T17:48:06.634Z"
   },
   {
    "duration": 13,
    "start_time": "2022-05-15T17:48:06.700Z"
   },
   {
    "duration": 29,
    "start_time": "2022-05-15T17:48:06.715Z"
   },
   {
    "duration": 10,
    "start_time": "2022-05-15T17:48:06.747Z"
   },
   {
    "duration": 10,
    "start_time": "2022-05-15T17:48:06.759Z"
   },
   {
    "duration": 18,
    "start_time": "2022-05-15T17:48:06.770Z"
   },
   {
    "duration": 5,
    "start_time": "2022-05-15T17:48:06.790Z"
   },
   {
    "duration": 18,
    "start_time": "2022-05-15T17:48:06.834Z"
   },
   {
    "duration": 106,
    "start_time": "2022-05-15T17:48:06.854Z"
   },
   {
    "duration": 7,
    "start_time": "2022-05-15T17:48:06.962Z"
   },
   {
    "duration": 13,
    "start_time": "2022-05-15T17:48:06.971Z"
   },
   {
    "duration": 24,
    "start_time": "2022-05-15T17:48:06.985Z"
   },
   {
    "duration": 14,
    "start_time": "2022-05-15T17:48:07.033Z"
   },
   {
    "duration": 6,
    "start_time": "2022-05-15T17:48:07.048Z"
   },
   {
    "duration": 16,
    "start_time": "2022-05-15T17:48:07.056Z"
   },
   {
    "duration": 5,
    "start_time": "2022-05-15T17:48:07.073Z"
   },
   {
    "duration": 15,
    "start_time": "2022-05-15T17:48:07.080Z"
   },
   {
    "duration": 44,
    "start_time": "2022-05-15T17:48:07.096Z"
   },
   {
    "duration": 13,
    "start_time": "2022-05-15T17:48:07.141Z"
   },
   {
    "duration": 18,
    "start_time": "2022-05-15T17:48:07.155Z"
   },
   {
    "duration": 18,
    "start_time": "2022-05-15T17:48:07.174Z"
   },
   {
    "duration": 53,
    "start_time": "2022-05-15T17:48:07.194Z"
   },
   {
    "duration": 18,
    "start_time": "2022-05-15T17:48:07.249Z"
   },
   {
    "duration": 97,
    "start_time": "2022-05-15T17:48:07.268Z"
   },
   {
    "duration": 29,
    "start_time": "2022-05-15T17:48:07.367Z"
   },
   {
    "duration": 280,
    "start_time": "2022-05-16T06:30:54.795Z"
   },
   {
    "duration": 62,
    "start_time": "2022-05-16T06:43:28.772Z"
   },
   {
    "duration": 533,
    "start_time": "2022-05-16T06:43:31.990Z"
   },
   {
    "duration": 79,
    "start_time": "2022-05-16T06:43:32.525Z"
   },
   {
    "duration": 29,
    "start_time": "2022-05-16T06:43:32.606Z"
   },
   {
    "duration": 21,
    "start_time": "2022-05-16T06:43:32.651Z"
   },
   {
    "duration": 12,
    "start_time": "2022-05-16T06:43:32.675Z"
   },
   {
    "duration": 13,
    "start_time": "2022-05-16T06:43:32.689Z"
   },
   {
    "duration": 60,
    "start_time": "2022-05-16T06:43:32.704Z"
   },
   {
    "duration": 6,
    "start_time": "2022-05-16T06:43:32.766Z"
   },
   {
    "duration": 27,
    "start_time": "2022-05-16T06:43:32.774Z"
   },
   {
    "duration": 146,
    "start_time": "2022-05-16T06:43:32.806Z"
   },
   {
    "duration": 8,
    "start_time": "2022-05-16T06:43:32.954Z"
   },
   {
    "duration": 9,
    "start_time": "2022-05-16T06:43:32.964Z"
   },
   {
    "duration": 26,
    "start_time": "2022-05-16T06:43:32.975Z"
   },
   {
    "duration": 60,
    "start_time": "2022-05-16T06:43:33.003Z"
   },
   {
    "duration": 7,
    "start_time": "2022-05-16T06:43:33.065Z"
   },
   {
    "duration": 24,
    "start_time": "2022-05-16T06:43:33.074Z"
   },
   {
    "duration": 9,
    "start_time": "2022-05-16T06:43:33.100Z"
   },
   {
    "duration": 9,
    "start_time": "2022-05-16T06:43:33.152Z"
   },
   {
    "duration": 13,
    "start_time": "2022-05-16T06:43:33.163Z"
   },
   {
    "duration": 14,
    "start_time": "2022-05-16T06:43:33.178Z"
   },
   {
    "duration": 63,
    "start_time": "2022-05-16T06:43:33.194Z"
   },
   {
    "duration": 26,
    "start_time": "2022-05-16T06:43:33.259Z"
   },
   {
    "duration": 28,
    "start_time": "2022-05-16T06:43:33.287Z"
   },
   {
    "duration": 55,
    "start_time": "2022-05-16T06:43:33.317Z"
   },
   {
    "duration": 43,
    "start_time": "2022-05-16T06:43:33.374Z"
   },
   {
    "duration": 0,
    "start_time": "2022-05-16T06:43:33.419Z"
   },
   {
    "duration": 39,
    "start_time": "2022-05-16T06:43:44.449Z"
   },
   {
    "duration": 43,
    "start_time": "2022-05-16T06:44:22.889Z"
   },
   {
    "duration": 43,
    "start_time": "2022-05-16T06:44:41.697Z"
   },
   {
    "duration": 53,
    "start_time": "2022-05-16T06:44:45.296Z"
   },
   {
    "duration": 104,
    "start_time": "2022-05-16T06:56:13.969Z"
   },
   {
    "duration": 107,
    "start_time": "2022-05-16T06:56:51.866Z"
   },
   {
    "duration": 43,
    "start_time": "2022-05-16T06:59:51.269Z"
   },
   {
    "duration": 4,
    "start_time": "2022-05-16T07:00:06.219Z"
   },
   {
    "duration": 84,
    "start_time": "2022-05-16T07:00:06.225Z"
   },
   {
    "duration": 19,
    "start_time": "2022-05-16T07:00:06.311Z"
   },
   {
    "duration": 39,
    "start_time": "2022-05-16T07:00:06.332Z"
   },
   {
    "duration": 13,
    "start_time": "2022-05-16T07:00:06.374Z"
   },
   {
    "duration": 17,
    "start_time": "2022-05-16T07:00:06.389Z"
   },
   {
    "duration": 56,
    "start_time": "2022-05-16T07:00:06.408Z"
   },
   {
    "duration": 7,
    "start_time": "2022-05-16T07:00:06.466Z"
   },
   {
    "duration": 29,
    "start_time": "2022-05-16T07:00:06.475Z"
   },
   {
    "duration": 96,
    "start_time": "2022-05-16T07:00:06.507Z"
   },
   {
    "duration": 10,
    "start_time": "2022-05-16T07:00:06.606Z"
   },
   {
    "duration": 40,
    "start_time": "2022-05-16T07:00:06.618Z"
   },
   {
    "duration": 43,
    "start_time": "2022-05-16T07:00:06.660Z"
   },
   {
    "duration": 18,
    "start_time": "2022-05-16T07:00:06.707Z"
   },
   {
    "duration": 7,
    "start_time": "2022-05-16T07:00:06.751Z"
   },
   {
    "duration": 21,
    "start_time": "2022-05-16T07:00:06.760Z"
   },
   {
    "duration": 7,
    "start_time": "2022-05-16T07:00:06.783Z"
   },
   {
    "duration": 13,
    "start_time": "2022-05-16T07:00:06.792Z"
   },
   {
    "duration": 8,
    "start_time": "2022-05-16T07:00:06.851Z"
   },
   {
    "duration": 17,
    "start_time": "2022-05-16T07:00:06.861Z"
   },
   {
    "duration": 18,
    "start_time": "2022-05-16T07:00:06.880Z"
   },
   {
    "duration": 64,
    "start_time": "2022-05-16T07:00:06.900Z"
   },
   {
    "duration": 28,
    "start_time": "2022-05-16T07:00:06.966Z"
   },
   {
    "duration": 25,
    "start_time": "2022-05-16T07:00:06.997Z"
   },
   {
    "duration": 120,
    "start_time": "2022-05-16T07:00:07.052Z"
   },
   {
    "duration": 37,
    "start_time": "2022-05-16T07:00:07.174Z"
   },
   {
    "duration": 99,
    "start_time": "2022-05-16T07:02:28.403Z"
   },
   {
    "duration": 44,
    "start_time": "2022-05-16T07:03:00.947Z"
   },
   {
    "duration": 4,
    "start_time": "2022-05-16T07:03:33.760Z"
   },
   {
    "duration": 85,
    "start_time": "2022-05-16T07:03:33.767Z"
   },
   {
    "duration": 20,
    "start_time": "2022-05-16T07:03:33.854Z"
   },
   {
    "duration": 23,
    "start_time": "2022-05-16T07:03:33.877Z"
   },
   {
    "duration": 14,
    "start_time": "2022-05-16T07:03:33.903Z"
   },
   {
    "duration": 13,
    "start_time": "2022-05-16T07:03:33.952Z"
   },
   {
    "duration": 22,
    "start_time": "2022-05-16T07:03:33.967Z"
   },
   {
    "duration": 5,
    "start_time": "2022-05-16T07:03:33.992Z"
   },
   {
    "duration": 61,
    "start_time": "2022-05-16T07:03:33.999Z"
   },
   {
    "duration": 42,
    "start_time": "2022-05-16T07:03:34.063Z"
   },
   {
    "duration": 7,
    "start_time": "2022-05-16T07:03:34.107Z"
   },
   {
    "duration": 41,
    "start_time": "2022-05-16T07:03:34.116Z"
   },
   {
    "duration": 24,
    "start_time": "2022-05-16T07:03:34.159Z"
   },
   {
    "duration": 18,
    "start_time": "2022-05-16T07:03:34.187Z"
   },
   {
    "duration": 45,
    "start_time": "2022-05-16T07:03:34.207Z"
   },
   {
    "duration": 20,
    "start_time": "2022-05-16T07:03:34.254Z"
   },
   {
    "duration": 8,
    "start_time": "2022-05-16T07:03:34.276Z"
   },
   {
    "duration": 14,
    "start_time": "2022-05-16T07:03:34.286Z"
   },
   {
    "duration": 8,
    "start_time": "2022-05-16T07:03:34.302Z"
   },
   {
    "duration": 13,
    "start_time": "2022-05-16T07:03:34.353Z"
   },
   {
    "duration": 18,
    "start_time": "2022-05-16T07:03:34.369Z"
   },
   {
    "duration": 72,
    "start_time": "2022-05-16T07:03:34.389Z"
   },
   {
    "duration": 29,
    "start_time": "2022-05-16T07:03:34.463Z"
   },
   {
    "duration": 29,
    "start_time": "2022-05-16T07:03:34.495Z"
   },
   {
    "duration": 149,
    "start_time": "2022-05-16T07:03:34.526Z"
   },
   {
    "duration": 37,
    "start_time": "2022-05-16T07:03:34.678Z"
   },
   {
    "duration": 45,
    "start_time": "2022-05-16T07:09:21.249Z"
   },
   {
    "duration": 47,
    "start_time": "2022-05-16T07:09:26.594Z"
   },
   {
    "duration": 42,
    "start_time": "2022-05-16T07:09:32.595Z"
   },
   {
    "duration": 45,
    "start_time": "2022-05-16T07:09:37.382Z"
   },
   {
    "duration": 14,
    "start_time": "2022-05-16T07:17:35.226Z"
   },
   {
    "duration": 11,
    "start_time": "2022-05-16T07:17:43.705Z"
   },
   {
    "duration": 10,
    "start_time": "2022-05-16T07:18:07.406Z"
   },
   {
    "duration": 4,
    "start_time": "2022-05-16T07:18:10.517Z"
   },
   {
    "duration": 72,
    "start_time": "2022-05-16T07:18:10.523Z"
   },
   {
    "duration": 19,
    "start_time": "2022-05-16T07:18:10.597Z"
   },
   {
    "duration": 40,
    "start_time": "2022-05-16T07:18:10.618Z"
   },
   {
    "duration": 12,
    "start_time": "2022-05-16T07:18:10.661Z"
   },
   {
    "duration": 13,
    "start_time": "2022-05-16T07:18:10.675Z"
   },
   {
    "duration": 62,
    "start_time": "2022-05-16T07:18:10.690Z"
   },
   {
    "duration": 6,
    "start_time": "2022-05-16T07:18:10.754Z"
   },
   {
    "duration": 25,
    "start_time": "2022-05-16T07:18:10.762Z"
   },
   {
    "duration": 79,
    "start_time": "2022-05-16T07:18:10.789Z"
   },
   {
    "duration": 7,
    "start_time": "2022-05-16T07:18:10.870Z"
   },
   {
    "duration": 9,
    "start_time": "2022-05-16T07:18:10.879Z"
   },
   {
    "duration": 62,
    "start_time": "2022-05-16T07:18:10.890Z"
   },
   {
    "duration": 19,
    "start_time": "2022-05-16T07:18:10.956Z"
   },
   {
    "duration": 13,
    "start_time": "2022-05-16T07:18:10.978Z"
   },
   {
    "duration": 12,
    "start_time": "2022-05-16T07:18:10.993Z"
   },
   {
    "duration": 52,
    "start_time": "2022-05-16T07:18:11.008Z"
   },
   {
    "duration": 7,
    "start_time": "2022-05-16T07:18:11.062Z"
   },
   {
    "duration": 10,
    "start_time": "2022-05-16T07:18:11.071Z"
   },
   {
    "duration": 8,
    "start_time": "2022-05-16T07:18:11.084Z"
   },
   {
    "duration": 62,
    "start_time": "2022-05-16T07:18:11.094Z"
   },
   {
    "duration": 18,
    "start_time": "2022-05-16T07:18:11.158Z"
   },
   {
    "duration": 27,
    "start_time": "2022-05-16T07:18:11.178Z"
   },
   {
    "duration": 60,
    "start_time": "2022-05-16T07:18:11.207Z"
   },
   {
    "duration": 25,
    "start_time": "2022-05-16T07:18:11.269Z"
   },
   {
    "duration": 141,
    "start_time": "2022-05-16T07:18:11.296Z"
   },
   {
    "duration": 49,
    "start_time": "2022-05-16T07:18:11.439Z"
   },
   {
    "duration": 10,
    "start_time": "2022-05-16T07:20:31.206Z"
   },
   {
    "duration": 9,
    "start_time": "2022-05-16T07:21:00.375Z"
   },
   {
    "duration": 3,
    "start_time": "2022-05-16T07:21:05.115Z"
   },
   {
    "duration": 69,
    "start_time": "2022-05-16T07:21:05.121Z"
   },
   {
    "duration": 19,
    "start_time": "2022-05-16T07:21:05.192Z"
   },
   {
    "duration": 48,
    "start_time": "2022-05-16T07:21:05.214Z"
   },
   {
    "duration": 14,
    "start_time": "2022-05-16T07:21:05.265Z"
   },
   {
    "duration": 12,
    "start_time": "2022-05-16T07:21:05.281Z"
   },
   {
    "duration": 59,
    "start_time": "2022-05-16T07:21:05.295Z"
   },
   {
    "duration": 6,
    "start_time": "2022-05-16T07:21:05.357Z"
   },
   {
    "duration": 25,
    "start_time": "2022-05-16T07:21:05.366Z"
   },
   {
    "duration": 78,
    "start_time": "2022-05-16T07:21:05.393Z"
   },
   {
    "duration": 7,
    "start_time": "2022-05-16T07:21:05.473Z"
   },
   {
    "duration": 12,
    "start_time": "2022-05-16T07:21:05.482Z"
   },
   {
    "duration": 60,
    "start_time": "2022-05-16T07:21:05.496Z"
   },
   {
    "duration": 20,
    "start_time": "2022-05-16T07:21:05.560Z"
   },
   {
    "duration": 17,
    "start_time": "2022-05-16T07:21:05.582Z"
   },
   {
    "duration": 6,
    "start_time": "2022-05-16T07:21:05.601Z"
   },
   {
    "duration": 65,
    "start_time": "2022-05-16T07:21:05.609Z"
   },
   {
    "duration": 7,
    "start_time": "2022-05-16T07:21:05.676Z"
   },
   {
    "duration": 12,
    "start_time": "2022-05-16T07:21:05.685Z"
   },
   {
    "duration": 19,
    "start_time": "2022-05-16T07:21:05.699Z"
   },
   {
    "duration": 14,
    "start_time": "2022-05-16T07:21:05.751Z"
   },
   {
    "duration": 45,
    "start_time": "2022-05-16T07:21:05.767Z"
   },
   {
    "duration": 37,
    "start_time": "2022-05-16T07:21:05.814Z"
   },
   {
    "duration": 27,
    "start_time": "2022-05-16T07:21:05.854Z"
   },
   {
    "duration": 24,
    "start_time": "2022-05-16T07:21:05.884Z"
   },
   {
    "duration": 149,
    "start_time": "2022-05-16T07:21:05.910Z"
   },
   {
    "duration": 35,
    "start_time": "2022-05-16T07:21:06.061Z"
   },
   {
    "duration": 4,
    "start_time": "2022-05-16T07:22:10.778Z"
   },
   {
    "duration": 78,
    "start_time": "2022-05-16T07:22:10.785Z"
   },
   {
    "duration": 20,
    "start_time": "2022-05-16T07:22:10.865Z"
   },
   {
    "duration": 21,
    "start_time": "2022-05-16T07:22:10.887Z"
   },
   {
    "duration": 46,
    "start_time": "2022-05-16T07:22:10.911Z"
   },
   {
    "duration": 13,
    "start_time": "2022-05-16T07:22:10.959Z"
   },
   {
    "duration": 20,
    "start_time": "2022-05-16T07:22:10.974Z"
   },
   {
    "duration": 5,
    "start_time": "2022-05-16T07:22:10.996Z"
   },
   {
    "duration": 21,
    "start_time": "2022-05-16T07:22:11.051Z"
   },
   {
    "duration": 77,
    "start_time": "2022-05-16T07:22:11.075Z"
   },
   {
    "duration": 9,
    "start_time": "2022-05-16T07:22:11.156Z"
   },
   {
    "duration": 9,
    "start_time": "2022-05-16T07:22:11.167Z"
   },
   {
    "duration": 26,
    "start_time": "2022-05-16T07:22:11.178Z"
   },
   {
    "duration": 57,
    "start_time": "2022-05-16T07:22:11.206Z"
   },
   {
    "duration": 15,
    "start_time": "2022-05-16T07:22:11.265Z"
   },
   {
    "duration": 5,
    "start_time": "2022-05-16T07:22:11.282Z"
   },
   {
    "duration": 67,
    "start_time": "2022-05-16T07:22:11.290Z"
   },
   {
    "duration": 7,
    "start_time": "2022-05-16T07:22:11.360Z"
   },
   {
    "duration": 13,
    "start_time": "2022-05-16T07:22:11.369Z"
   },
   {
    "duration": 9,
    "start_time": "2022-05-16T07:22:11.384Z"
   },
   {
    "duration": 59,
    "start_time": "2022-05-16T07:22:11.395Z"
   },
   {
    "duration": 20,
    "start_time": "2022-05-16T07:22:11.457Z"
   },
   {
    "duration": 26,
    "start_time": "2022-05-16T07:22:11.479Z"
   },
   {
    "duration": 70,
    "start_time": "2022-05-16T07:22:11.508Z"
   },
   {
    "duration": 26,
    "start_time": "2022-05-16T07:22:11.580Z"
   },
   {
    "duration": 145,
    "start_time": "2022-05-16T07:22:11.608Z"
   },
   {
    "duration": 36,
    "start_time": "2022-05-16T07:22:11.756Z"
   },
   {
    "duration": 46,
    "start_time": "2022-05-16T07:22:57.742Z"
   },
   {
    "duration": 10,
    "start_time": "2022-05-16T07:23:44.475Z"
   },
   {
    "duration": 104,
    "start_time": "2022-05-16T07:28:57.060Z"
   },
   {
    "duration": 12,
    "start_time": "2022-05-16T07:34:38.747Z"
   },
   {
    "duration": 5,
    "start_time": "2022-05-16T07:38:51.387Z"
   },
   {
    "duration": 11,
    "start_time": "2022-05-16T07:39:02.564Z"
   },
   {
    "duration": 11,
    "start_time": "2022-05-16T07:39:40.666Z"
   },
   {
    "duration": 12,
    "start_time": "2022-05-16T07:39:52.226Z"
   },
   {
    "duration": 13,
    "start_time": "2022-05-16T07:40:01.866Z"
   },
   {
    "duration": 14,
    "start_time": "2022-05-16T07:40:27.194Z"
   },
   {
    "duration": 11,
    "start_time": "2022-05-16T07:40:49.777Z"
   },
   {
    "duration": 6,
    "start_time": "2022-05-16T07:48:33.247Z"
   },
   {
    "duration": 19,
    "start_time": "2022-05-16T07:48:41.748Z"
   },
   {
    "duration": 4,
    "start_time": "2022-05-16T07:49:09.597Z"
   },
   {
    "duration": 69,
    "start_time": "2022-05-16T07:49:09.604Z"
   },
   {
    "duration": 19,
    "start_time": "2022-05-16T07:49:09.675Z"
   },
   {
    "duration": 53,
    "start_time": "2022-05-16T07:49:09.699Z"
   },
   {
    "duration": 14,
    "start_time": "2022-05-16T07:49:09.755Z"
   },
   {
    "duration": 16,
    "start_time": "2022-05-16T07:49:09.771Z"
   },
   {
    "duration": 18,
    "start_time": "2022-05-16T07:49:09.790Z"
   },
   {
    "duration": 42,
    "start_time": "2022-05-16T07:49:09.810Z"
   },
   {
    "duration": 19,
    "start_time": "2022-05-16T07:49:09.856Z"
   },
   {
    "duration": 82,
    "start_time": "2022-05-16T07:49:09.878Z"
   },
   {
    "duration": 10,
    "start_time": "2022-05-16T07:49:09.963Z"
   },
   {
    "duration": 25,
    "start_time": "2022-05-16T07:49:09.976Z"
   },
   {
    "duration": 50,
    "start_time": "2022-05-16T07:49:10.003Z"
   },
   {
    "duration": 21,
    "start_time": "2022-05-16T07:49:10.056Z"
   },
   {
    "duration": 7,
    "start_time": "2022-05-16T07:49:10.080Z"
   },
   {
    "duration": 65,
    "start_time": "2022-05-16T07:49:10.089Z"
   },
   {
    "duration": 8,
    "start_time": "2022-05-16T07:49:10.158Z"
   },
   {
    "duration": 20,
    "start_time": "2022-05-16T07:49:10.169Z"
   },
   {
    "duration": 9,
    "start_time": "2022-05-16T07:49:10.192Z"
   },
   {
    "duration": 56,
    "start_time": "2022-05-16T07:49:10.203Z"
   },
   {
    "duration": 17,
    "start_time": "2022-05-16T07:49:10.262Z"
   },
   {
    "duration": 40,
    "start_time": "2022-05-16T07:49:10.281Z"
   },
   {
    "duration": 48,
    "start_time": "2022-05-16T07:49:10.323Z"
   },
   {
    "duration": 27,
    "start_time": "2022-05-16T07:49:10.376Z"
   },
   {
    "duration": 121,
    "start_time": "2022-05-16T07:49:10.405Z"
   },
   {
    "duration": 49,
    "start_time": "2022-05-16T07:49:10.529Z"
   },
   {
    "duration": 20,
    "start_time": "2022-05-16T07:49:10.580Z"
   },
   {
    "duration": 15,
    "start_time": "2022-05-16T07:49:10.602Z"
   },
   {
    "duration": 49,
    "start_time": "2022-05-16T07:49:10.619Z"
   },
   {
    "duration": 16,
    "start_time": "2022-05-16T07:49:22.855Z"
   },
   {
    "duration": 3,
    "start_time": "2022-05-16T07:49:26.619Z"
   },
   {
    "duration": 71,
    "start_time": "2022-05-16T07:49:26.625Z"
   },
   {
    "duration": 19,
    "start_time": "2022-05-16T07:49:26.698Z"
   },
   {
    "duration": 48,
    "start_time": "2022-05-16T07:49:26.720Z"
   },
   {
    "duration": 13,
    "start_time": "2022-05-16T07:49:26.770Z"
   },
   {
    "duration": 13,
    "start_time": "2022-05-16T07:49:26.785Z"
   },
   {
    "duration": 65,
    "start_time": "2022-05-16T07:49:26.800Z"
   },
   {
    "duration": 6,
    "start_time": "2022-05-16T07:49:26.867Z"
   },
   {
    "duration": 21,
    "start_time": "2022-05-16T07:49:26.877Z"
   },
   {
    "duration": 80,
    "start_time": "2022-05-16T07:49:26.900Z"
   },
   {
    "duration": 8,
    "start_time": "2022-05-16T07:49:26.983Z"
   },
   {
    "duration": 12,
    "start_time": "2022-05-16T07:49:26.993Z"
   },
   {
    "duration": 66,
    "start_time": "2022-05-16T07:49:27.007Z"
   },
   {
    "duration": 18,
    "start_time": "2022-05-16T07:49:27.075Z"
   },
   {
    "duration": 7,
    "start_time": "2022-05-16T07:49:27.095Z"
   },
   {
    "duration": 59,
    "start_time": "2022-05-16T07:49:27.104Z"
   },
   {
    "duration": 7,
    "start_time": "2022-05-16T07:49:27.165Z"
   },
   {
    "duration": 11,
    "start_time": "2022-05-16T07:49:27.174Z"
   },
   {
    "duration": 9,
    "start_time": "2022-05-16T07:49:27.187Z"
   },
   {
    "duration": 60,
    "start_time": "2022-05-16T07:49:27.198Z"
   },
   {
    "duration": 18,
    "start_time": "2022-05-16T07:49:27.260Z"
   },
   {
    "duration": 26,
    "start_time": "2022-05-16T07:49:27.280Z"
   },
   {
    "duration": 66,
    "start_time": "2022-05-16T07:49:27.309Z"
   },
   {
    "duration": 24,
    "start_time": "2022-05-16T07:49:27.380Z"
   },
   {
    "duration": 116,
    "start_time": "2022-05-16T07:49:27.406Z"
   },
   {
    "duration": 45,
    "start_time": "2022-05-16T07:49:27.524Z"
   },
   {
    "duration": 11,
    "start_time": "2022-05-16T07:49:27.571Z"
   },
   {
    "duration": 12,
    "start_time": "2022-05-16T07:49:27.584Z"
   },
   {
    "duration": 54,
    "start_time": "2022-05-16T07:49:27.598Z"
   },
   {
    "duration": 16,
    "start_time": "2022-05-16T07:49:34.028Z"
   },
   {
    "duration": 21,
    "start_time": "2022-05-16T07:49:36.475Z"
   },
   {
    "duration": 19,
    "start_time": "2022-05-16T07:49:38.088Z"
   },
   {
    "duration": 4,
    "start_time": "2022-05-16T07:51:24.056Z"
   },
   {
    "duration": 105,
    "start_time": "2022-05-16T07:51:24.063Z"
   },
   {
    "duration": 20,
    "start_time": "2022-05-16T07:51:24.171Z"
   },
   {
    "duration": 58,
    "start_time": "2022-05-16T07:51:24.194Z"
   },
   {
    "duration": 18,
    "start_time": "2022-05-16T07:51:24.257Z"
   },
   {
    "duration": 17,
    "start_time": "2022-05-16T07:51:24.278Z"
   },
   {
    "duration": 71,
    "start_time": "2022-05-16T07:51:24.298Z"
   },
   {
    "duration": 10,
    "start_time": "2022-05-16T07:51:24.372Z"
   },
   {
    "duration": 52,
    "start_time": "2022-05-16T07:51:24.384Z"
   },
   {
    "duration": 47,
    "start_time": "2022-05-16T07:51:24.451Z"
   },
   {
    "duration": 8,
    "start_time": "2022-05-16T07:51:24.501Z"
   },
   {
    "duration": 41,
    "start_time": "2022-05-16T07:51:24.512Z"
   },
   {
    "duration": 26,
    "start_time": "2022-05-16T07:51:24.558Z"
   },
   {
    "duration": 20,
    "start_time": "2022-05-16T07:51:24.587Z"
   },
   {
    "duration": 7,
    "start_time": "2022-05-16T07:51:24.652Z"
   },
   {
    "duration": 21,
    "start_time": "2022-05-16T07:51:24.662Z"
   },
   {
    "duration": 7,
    "start_time": "2022-05-16T07:51:24.686Z"
   },
   {
    "duration": 59,
    "start_time": "2022-05-16T07:51:24.695Z"
   },
   {
    "duration": 9,
    "start_time": "2022-05-16T07:51:24.757Z"
   },
   {
    "duration": 15,
    "start_time": "2022-05-16T07:51:24.768Z"
   },
   {
    "duration": 20,
    "start_time": "2022-05-16T07:51:24.786Z"
   },
   {
    "duration": 67,
    "start_time": "2022-05-16T07:51:24.808Z"
   },
   {
    "duration": 95,
    "start_time": "2022-05-16T07:51:24.878Z"
   },
   {
    "duration": 26,
    "start_time": "2022-05-16T07:51:24.975Z"
   },
   {
    "duration": 129,
    "start_time": "2022-05-16T07:51:25.003Z"
   },
   {
    "duration": 52,
    "start_time": "2022-05-16T07:51:25.134Z"
   },
   {
    "duration": 10,
    "start_time": "2022-05-16T07:51:25.189Z"
   },
   {
    "duration": 12,
    "start_time": "2022-05-16T07:51:25.201Z"
   },
   {
    "duration": 44,
    "start_time": "2022-05-16T07:51:25.215Z"
   },
   {
    "duration": 16,
    "start_time": "2022-05-16T07:51:38.894Z"
   },
   {
    "duration": 4,
    "start_time": "2022-05-16T07:51:42.766Z"
   },
   {
    "duration": 78,
    "start_time": "2022-05-16T07:51:42.773Z"
   },
   {
    "duration": 18,
    "start_time": "2022-05-16T07:51:42.854Z"
   },
   {
    "duration": 23,
    "start_time": "2022-05-16T07:51:42.874Z"
   },
   {
    "duration": 12,
    "start_time": "2022-05-16T07:51:42.900Z"
   },
   {
    "duration": 49,
    "start_time": "2022-05-16T07:51:42.914Z"
   },
   {
    "duration": 19,
    "start_time": "2022-05-16T07:51:42.965Z"
   },
   {
    "duration": 5,
    "start_time": "2022-05-16T07:51:42.986Z"
   },
   {
    "duration": 62,
    "start_time": "2022-05-16T07:51:42.994Z"
   },
   {
    "duration": 44,
    "start_time": "2022-05-16T07:51:43.058Z"
   },
   {
    "duration": 8,
    "start_time": "2022-05-16T07:51:43.105Z"
   },
   {
    "duration": 9,
    "start_time": "2022-05-16T07:51:43.151Z"
   },
   {
    "duration": 26,
    "start_time": "2022-05-16T07:51:43.162Z"
   },
   {
    "duration": 62,
    "start_time": "2022-05-16T07:51:43.190Z"
   },
   {
    "duration": 7,
    "start_time": "2022-05-16T07:51:43.256Z"
   },
   {
    "duration": 32,
    "start_time": "2022-05-16T07:51:43.266Z"
   },
   {
    "duration": 9,
    "start_time": "2022-05-16T07:51:43.301Z"
   },
   {
    "duration": 46,
    "start_time": "2022-05-16T07:51:43.312Z"
   },
   {
    "duration": 13,
    "start_time": "2022-05-16T07:51:43.360Z"
   },
   {
    "duration": 31,
    "start_time": "2022-05-16T07:51:43.375Z"
   },
   {
    "duration": 26,
    "start_time": "2022-05-16T07:51:43.408Z"
   },
   {
    "duration": 26,
    "start_time": "2022-05-16T07:51:43.451Z"
   },
   {
    "duration": 29,
    "start_time": "2022-05-16T07:51:43.479Z"
   },
   {
    "duration": 59,
    "start_time": "2022-05-16T07:51:43.512Z"
   },
   {
    "duration": 116,
    "start_time": "2022-05-16T07:51:43.573Z"
   },
   {
    "duration": 62,
    "start_time": "2022-05-16T07:51:43.691Z"
   },
   {
    "duration": 11,
    "start_time": "2022-05-16T07:51:43.756Z"
   },
   {
    "duration": 16,
    "start_time": "2022-05-16T07:51:43.770Z"
   },
   {
    "duration": 11,
    "start_time": "2022-05-16T07:51:43.788Z"
   },
   {
    "duration": 6,
    "start_time": "2022-05-16T08:12:50.608Z"
   },
   {
    "duration": 3,
    "start_time": "2022-05-16T08:12:55.845Z"
   },
   {
    "duration": 74,
    "start_time": "2022-05-16T08:12:55.850Z"
   },
   {
    "duration": 19,
    "start_time": "2022-05-16T08:12:55.952Z"
   },
   {
    "duration": 21,
    "start_time": "2022-05-16T08:12:55.974Z"
   },
   {
    "duration": 14,
    "start_time": "2022-05-16T08:12:55.998Z"
   },
   {
    "duration": 50,
    "start_time": "2022-05-16T08:12:56.014Z"
   },
   {
    "duration": 32,
    "start_time": "2022-05-16T08:12:56.066Z"
   },
   {
    "duration": 6,
    "start_time": "2022-05-16T08:12:56.101Z"
   },
   {
    "duration": 69,
    "start_time": "2022-05-16T08:12:56.110Z"
   },
   {
    "duration": 97,
    "start_time": "2022-05-16T08:12:56.182Z"
   },
   {
    "duration": 11,
    "start_time": "2022-05-16T08:12:56.281Z"
   },
   {
    "duration": 20,
    "start_time": "2022-05-16T08:12:56.294Z"
   },
   {
    "duration": 53,
    "start_time": "2022-05-16T08:12:56.317Z"
   },
   {
    "duration": 19,
    "start_time": "2022-05-16T08:12:56.374Z"
   },
   {
    "duration": 8,
    "start_time": "2022-05-16T08:12:56.395Z"
   },
   {
    "duration": 52,
    "start_time": "2022-05-16T08:12:56.405Z"
   },
   {
    "duration": 8,
    "start_time": "2022-05-16T08:12:56.459Z"
   },
   {
    "duration": 10,
    "start_time": "2022-05-16T08:12:56.469Z"
   },
   {
    "duration": 8,
    "start_time": "2022-05-16T08:12:56.481Z"
   },
   {
    "duration": 62,
    "start_time": "2022-05-16T08:12:56.491Z"
   },
   {
    "duration": 20,
    "start_time": "2022-05-16T08:12:56.555Z"
   },
   {
    "duration": 27,
    "start_time": "2022-05-16T08:12:56.577Z"
   },
   {
    "duration": 69,
    "start_time": "2022-05-16T08:12:56.606Z"
   },
   {
    "duration": 26,
    "start_time": "2022-05-16T08:12:56.677Z"
   },
   {
    "duration": 120,
    "start_time": "2022-05-16T08:12:56.705Z"
   },
   {
    "duration": 50,
    "start_time": "2022-05-16T08:12:56.828Z"
   },
   {
    "duration": 11,
    "start_time": "2022-05-16T08:12:56.880Z"
   },
   {
    "duration": 10,
    "start_time": "2022-05-16T08:12:56.893Z"
   },
   {
    "duration": 43,
    "start_time": "2022-05-16T08:12:56.912Z"
   },
   {
    "duration": 6,
    "start_time": "2022-05-16T08:12:56.959Z"
   },
   {
    "duration": 129,
    "start_time": "2022-05-16T08:13:07.509Z"
   },
   {
    "duration": 5,
    "start_time": "2022-05-16T08:13:24.817Z"
   },
   {
    "duration": 6,
    "start_time": "2022-05-16T08:13:28.306Z"
   },
   {
    "duration": 134,
    "start_time": "2022-05-16T08:14:01.496Z"
   },
   {
    "duration": 5,
    "start_time": "2022-05-16T08:14:13.608Z"
   },
   {
    "duration": 17,
    "start_time": "2022-05-16T08:16:28.542Z"
   },
   {
    "duration": 24,
    "start_time": "2022-05-16T08:16:29.892Z"
   },
   {
    "duration": 30,
    "start_time": "2022-05-16T08:16:35.994Z"
   },
   {
    "duration": 27,
    "start_time": "2022-05-16T08:17:41.895Z"
   },
   {
    "duration": 27,
    "start_time": "2022-05-16T08:17:51.052Z"
   },
   {
    "duration": 98,
    "start_time": "2022-05-16T08:22:11.098Z"
   },
   {
    "duration": 27,
    "start_time": "2022-05-16T08:22:17.509Z"
   },
   {
    "duration": 26,
    "start_time": "2022-05-16T08:24:03.136Z"
   },
   {
    "duration": 24,
    "start_time": "2022-05-16T08:24:12.538Z"
   },
   {
    "duration": 8,
    "start_time": "2022-05-16T08:30:48.496Z"
   },
   {
    "duration": 5,
    "start_time": "2022-05-16T08:43:36.941Z"
   },
   {
    "duration": 15,
    "start_time": "2022-05-16T08:45:05.581Z"
   },
   {
    "duration": 12,
    "start_time": "2022-05-16T08:45:11.241Z"
   },
   {
    "duration": 27,
    "start_time": "2022-05-16T08:45:43.077Z"
   },
   {
    "duration": 21,
    "start_time": "2022-05-16T09:26:26.270Z"
   },
   {
    "duration": 6,
    "start_time": "2022-05-16T09:31:00.950Z"
   },
   {
    "duration": 25,
    "start_time": "2022-05-16T09:31:24.847Z"
   },
   {
    "duration": 9,
    "start_time": "2022-05-16T09:31:36.796Z"
   },
   {
    "duration": 7,
    "start_time": "2022-05-16T09:32:00.229Z"
   },
   {
    "duration": 9,
    "start_time": "2022-05-16T09:32:14.500Z"
   },
   {
    "duration": 17,
    "start_time": "2022-05-16T09:36:06.720Z"
   },
   {
    "duration": 9,
    "start_time": "2022-05-16T09:36:44.000Z"
   },
   {
    "duration": 13,
    "start_time": "2022-05-16T09:37:19.479Z"
   },
   {
    "duration": 4,
    "start_time": "2022-05-16T09:37:50.500Z"
   },
   {
    "duration": 21,
    "start_time": "2022-05-16T09:38:04.151Z"
   },
   {
    "duration": 47,
    "start_time": "2022-05-16T09:41:20.510Z"
   },
   {
    "duration": 21,
    "start_time": "2022-05-16T09:41:35.348Z"
   },
   {
    "duration": 11,
    "start_time": "2022-05-16T09:42:35.801Z"
   },
   {
    "duration": 33,
    "start_time": "2022-05-16T09:50:05.312Z"
   },
   {
    "duration": 32,
    "start_time": "2022-05-16T09:51:05.481Z"
   },
   {
    "duration": 18,
    "start_time": "2022-05-16T09:54:46.521Z"
   },
   {
    "duration": 42,
    "start_time": "2022-05-16T09:55:22.063Z"
   },
   {
    "duration": 22,
    "start_time": "2022-05-16T09:55:36.450Z"
   },
   {
    "duration": 19,
    "start_time": "2022-05-16T09:55:49.237Z"
   },
   {
    "duration": 42,
    "start_time": "2022-05-16T09:56:15.163Z"
   },
   {
    "duration": 46,
    "start_time": "2022-05-16T09:56:27.006Z"
   },
   {
    "duration": 19,
    "start_time": "2022-05-16T09:56:33.169Z"
   },
   {
    "duration": 47,
    "start_time": "2022-05-16T09:56:44.312Z"
   },
   {
    "duration": 33,
    "start_time": "2022-05-16T09:56:49.343Z"
   },
   {
    "duration": 17,
    "start_time": "2022-05-16T09:58:00.912Z"
   },
   {
    "duration": 34,
    "start_time": "2022-05-16T09:58:11.731Z"
   },
   {
    "duration": 19,
    "start_time": "2022-05-16T09:59:43.542Z"
   },
   {
    "duration": 20,
    "start_time": "2022-05-16T10:00:31.351Z"
   },
   {
    "duration": 18,
    "start_time": "2022-05-16T10:04:45.882Z"
   },
   {
    "duration": 616,
    "start_time": "2022-05-16T15:17:07.460Z"
   },
   {
    "duration": 123,
    "start_time": "2022-05-16T15:17:08.080Z"
   },
   {
    "duration": 37,
    "start_time": "2022-05-16T15:17:08.205Z"
   },
   {
    "duration": 54,
    "start_time": "2022-05-16T15:17:08.244Z"
   },
   {
    "duration": 23,
    "start_time": "2022-05-16T15:17:08.301Z"
   },
   {
    "duration": 13,
    "start_time": "2022-05-16T15:17:08.326Z"
   },
   {
    "duration": 63,
    "start_time": "2022-05-16T15:17:08.341Z"
   },
   {
    "duration": 6,
    "start_time": "2022-05-16T15:17:08.406Z"
   },
   {
    "duration": 21,
    "start_time": "2022-05-16T15:17:08.415Z"
   },
   {
    "duration": 94,
    "start_time": "2022-05-16T15:17:08.439Z"
   },
   {
    "duration": 15,
    "start_time": "2022-05-16T15:17:08.535Z"
   },
   {
    "duration": 36,
    "start_time": "2022-05-16T15:17:08.553Z"
   },
   {
    "duration": 27,
    "start_time": "2022-05-16T15:17:08.592Z"
   },
   {
    "duration": 19,
    "start_time": "2022-05-16T15:17:08.622Z"
   },
   {
    "duration": 11,
    "start_time": "2022-05-16T15:17:08.644Z"
   },
   {
    "duration": 53,
    "start_time": "2022-05-16T15:17:08.658Z"
   },
   {
    "duration": 7,
    "start_time": "2022-05-16T15:17:08.713Z"
   },
   {
    "duration": 11,
    "start_time": "2022-05-16T15:17:08.722Z"
   },
   {
    "duration": 8,
    "start_time": "2022-05-16T15:17:08.735Z"
   },
   {
    "duration": 18,
    "start_time": "2022-05-16T15:17:08.787Z"
   },
   {
    "duration": 19,
    "start_time": "2022-05-16T15:17:08.807Z"
   },
   {
    "duration": 74,
    "start_time": "2022-05-16T15:17:08.830Z"
   },
   {
    "duration": 30,
    "start_time": "2022-05-16T15:17:08.907Z"
   },
   {
    "duration": 44,
    "start_time": "2022-05-16T15:17:08.939Z"
   },
   {
    "duration": 111,
    "start_time": "2022-05-16T15:17:08.986Z"
   },
   {
    "duration": 41,
    "start_time": "2022-05-16T15:17:09.100Z"
   },
   {
    "duration": 11,
    "start_time": "2022-05-16T15:17:09.144Z"
   },
   {
    "duration": 39,
    "start_time": "2022-05-16T15:17:09.160Z"
   },
   {
    "duration": 8,
    "start_time": "2022-05-16T15:17:09.202Z"
   },
   {
    "duration": 25,
    "start_time": "2022-05-16T15:17:09.213Z"
   },
   {
    "duration": 47,
    "start_time": "2022-05-16T15:17:09.240Z"
   },
   {
    "duration": 32,
    "start_time": "2022-05-16T15:17:09.290Z"
   },
   {
    "duration": 9,
    "start_time": "2022-05-16T15:17:09.324Z"
   },
   {
    "duration": 49,
    "start_time": "2022-05-16T15:17:09.334Z"
   },
   {
    "duration": 24,
    "start_time": "2022-05-16T15:17:09.386Z"
   },
   {
    "duration": 10,
    "start_time": "2022-05-16T15:33:57.095Z"
   },
   {
    "duration": 17,
    "start_time": "2022-05-16T15:34:16.366Z"
   },
   {
    "duration": 3,
    "start_time": "2022-05-16T15:43:51.459Z"
   },
   {
    "duration": 96,
    "start_time": "2022-05-16T15:43:51.464Z"
   },
   {
    "duration": 30,
    "start_time": "2022-05-16T15:43:51.562Z"
   },
   {
    "duration": 24,
    "start_time": "2022-05-16T15:43:51.595Z"
   },
   {
    "duration": 13,
    "start_time": "2022-05-16T15:43:51.621Z"
   },
   {
    "duration": 12,
    "start_time": "2022-05-16T15:43:51.637Z"
   },
   {
    "duration": 27,
    "start_time": "2022-05-16T15:43:51.684Z"
   },
   {
    "duration": 6,
    "start_time": "2022-05-16T15:43:51.713Z"
   },
   {
    "duration": 26,
    "start_time": "2022-05-16T15:43:51.721Z"
   },
   {
    "duration": 50,
    "start_time": "2022-05-16T15:43:51.789Z"
   },
   {
    "duration": 8,
    "start_time": "2022-05-16T15:43:51.842Z"
   },
   {
    "duration": 38,
    "start_time": "2022-05-16T15:43:51.853Z"
   },
   {
    "duration": 26,
    "start_time": "2022-05-16T15:43:51.894Z"
   },
   {
    "duration": 20,
    "start_time": "2022-05-16T15:43:51.922Z"
   },
   {
    "duration": 7,
    "start_time": "2022-05-16T15:43:51.944Z"
   },
   {
    "duration": 53,
    "start_time": "2022-05-16T15:43:51.954Z"
   },
   {
    "duration": 7,
    "start_time": "2022-05-16T15:43:52.010Z"
   },
   {
    "duration": 11,
    "start_time": "2022-05-16T15:43:52.019Z"
   },
   {
    "duration": 9,
    "start_time": "2022-05-16T15:43:52.032Z"
   },
   {
    "duration": 53,
    "start_time": "2022-05-16T15:43:52.043Z"
   },
   {
    "duration": 22,
    "start_time": "2022-05-16T15:43:52.100Z"
   },
   {
    "duration": 27,
    "start_time": "2022-05-16T15:43:52.125Z"
   },
   {
    "duration": 65,
    "start_time": "2022-05-16T15:43:52.154Z"
   },
   {
    "duration": 25,
    "start_time": "2022-05-16T15:43:52.221Z"
   },
   {
    "duration": 124,
    "start_time": "2022-05-16T15:43:52.251Z"
   },
   {
    "duration": 49,
    "start_time": "2022-05-16T15:43:52.377Z"
   },
   {
    "duration": 12,
    "start_time": "2022-05-16T15:43:52.428Z"
   },
   {
    "duration": 13,
    "start_time": "2022-05-16T15:43:52.441Z"
   },
   {
    "duration": 20,
    "start_time": "2022-05-16T15:43:52.485Z"
   },
   {
    "duration": 26,
    "start_time": "2022-05-16T15:43:52.508Z"
   },
   {
    "duration": 8,
    "start_time": "2022-05-16T15:43:52.536Z"
   },
   {
    "duration": 53,
    "start_time": "2022-05-16T15:43:52.546Z"
   },
   {
    "duration": 16,
    "start_time": "2022-05-16T15:43:52.602Z"
   },
   {
    "duration": 18,
    "start_time": "2022-05-16T15:43:52.620Z"
   },
   {
    "duration": 45,
    "start_time": "2022-05-16T15:43:52.640Z"
   },
   {
    "duration": 19,
    "start_time": "2022-05-16T15:43:52.688Z"
   },
   {
    "duration": 25,
    "start_time": "2022-05-16T15:45:27.855Z"
   },
   {
    "duration": 16,
    "start_time": "2022-05-16T15:45:38.397Z"
   },
   {
    "duration": 16,
    "start_time": "2022-05-16T15:46:33.196Z"
   },
   {
    "duration": 16,
    "start_time": "2022-05-16T15:47:05.950Z"
   },
   {
    "duration": 19,
    "start_time": "2022-05-16T15:47:09.556Z"
   },
   {
    "duration": 18,
    "start_time": "2022-05-16T15:47:12.171Z"
   },
   {
    "duration": 17,
    "start_time": "2022-05-16T15:48:16.421Z"
   },
   {
    "duration": 4,
    "start_time": "2022-05-16T16:07:40.395Z"
   },
   {
    "duration": 77,
    "start_time": "2022-05-16T16:07:40.432Z"
   },
   {
    "duration": 22,
    "start_time": "2022-05-16T16:07:40.512Z"
   },
   {
    "duration": 63,
    "start_time": "2022-05-16T16:07:40.537Z"
   },
   {
    "duration": 22,
    "start_time": "2022-05-16T16:07:40.604Z"
   },
   {
    "duration": 53,
    "start_time": "2022-05-16T16:07:40.629Z"
   },
   {
    "duration": 23,
    "start_time": "2022-05-16T16:07:40.685Z"
   },
   {
    "duration": 5,
    "start_time": "2022-05-16T16:07:40.711Z"
   },
   {
    "duration": 22,
    "start_time": "2022-05-16T16:07:40.718Z"
   },
   {
    "duration": 55,
    "start_time": "2022-05-16T16:07:40.783Z"
   },
   {
    "duration": 8,
    "start_time": "2022-05-16T16:07:40.843Z"
   },
   {
    "duration": 46,
    "start_time": "2022-05-16T16:07:40.853Z"
   },
   {
    "duration": 25,
    "start_time": "2022-05-16T16:07:40.901Z"
   },
   {
    "duration": 19,
    "start_time": "2022-05-16T16:07:40.929Z"
   },
   {
    "duration": 35,
    "start_time": "2022-05-16T16:07:40.951Z"
   },
   {
    "duration": 24,
    "start_time": "2022-05-16T16:07:40.989Z"
   },
   {
    "duration": 7,
    "start_time": "2022-05-16T16:07:41.015Z"
   },
   {
    "duration": 17,
    "start_time": "2022-05-16T16:07:41.025Z"
   },
   {
    "duration": 47,
    "start_time": "2022-05-16T16:07:41.045Z"
   },
   {
    "duration": 24,
    "start_time": "2022-05-16T16:07:41.094Z"
   },
   {
    "duration": 20,
    "start_time": "2022-05-16T16:07:41.120Z"
   },
   {
    "duration": 64,
    "start_time": "2022-05-16T16:07:41.142Z"
   },
   {
    "duration": 43,
    "start_time": "2022-05-16T16:07:41.209Z"
   },
   {
    "duration": 58,
    "start_time": "2022-05-16T16:07:41.256Z"
   },
   {
    "duration": 179,
    "start_time": "2022-05-16T16:07:41.317Z"
   },
   {
    "duration": 39,
    "start_time": "2022-05-16T16:07:41.499Z"
   },
   {
    "duration": 11,
    "start_time": "2022-05-16T16:07:41.540Z"
   },
   {
    "duration": 17,
    "start_time": "2022-05-16T16:07:41.582Z"
   },
   {
    "duration": 10,
    "start_time": "2022-05-16T16:07:41.604Z"
   },
   {
    "duration": 65,
    "start_time": "2022-05-16T16:07:41.616Z"
   },
   {
    "duration": 17,
    "start_time": "2022-05-16T16:07:41.686Z"
   },
   {
    "duration": 41,
    "start_time": "2022-05-16T16:07:41.706Z"
   },
   {
    "duration": 52,
    "start_time": "2022-05-16T16:07:41.750Z"
   },
   {
    "duration": 24,
    "start_time": "2022-05-16T16:07:50.003Z"
   },
   {
    "duration": 20,
    "start_time": "2022-05-16T16:08:15.198Z"
   },
   {
    "duration": 17,
    "start_time": "2022-05-16T16:10:31.614Z"
   },
   {
    "duration": 24,
    "start_time": "2022-05-16T16:15:21.386Z"
   },
   {
    "duration": 19,
    "start_time": "2022-05-16T16:19:55.303Z"
   },
   {
    "duration": 20,
    "start_time": "2022-05-16T16:20:01.603Z"
   },
   {
    "duration": 28,
    "start_time": "2022-05-16T16:21:17.223Z"
   },
   {
    "duration": 25,
    "start_time": "2022-05-16T16:21:22.613Z"
   },
   {
    "duration": 17,
    "start_time": "2022-05-16T16:24:42.006Z"
   },
   {
    "duration": 29,
    "start_time": "2022-05-16T16:28:44.272Z"
   },
   {
    "duration": 25,
    "start_time": "2022-05-16T16:29:25.621Z"
   },
   {
    "duration": 27,
    "start_time": "2022-05-16T16:29:33.542Z"
   },
   {
    "duration": 32,
    "start_time": "2022-05-16T16:29:46.573Z"
   },
   {
    "duration": 25,
    "start_time": "2022-05-16T16:30:54.771Z"
   },
   {
    "duration": 15,
    "start_time": "2022-05-16T16:34:25.610Z"
   },
   {
    "duration": 25,
    "start_time": "2022-05-16T16:43:34.677Z"
   },
   {
    "duration": 3387,
    "start_time": "2022-05-16T16:45:00.267Z"
   },
   {
    "duration": 21,
    "start_time": "2022-05-16T16:45:17.521Z"
   },
   {
    "duration": 26,
    "start_time": "2022-05-16T16:45:27.222Z"
   },
   {
    "duration": 4,
    "start_time": "2022-05-16T16:50:34.551Z"
   },
   {
    "duration": 98,
    "start_time": "2022-05-16T16:50:34.557Z"
   },
   {
    "duration": 41,
    "start_time": "2022-05-16T16:50:34.657Z"
   },
   {
    "duration": 31,
    "start_time": "2022-05-16T16:50:34.705Z"
   },
   {
    "duration": 57,
    "start_time": "2022-05-16T16:50:34.739Z"
   },
   {
    "duration": 24,
    "start_time": "2022-05-16T16:50:34.799Z"
   },
   {
    "duration": 20,
    "start_time": "2022-05-16T16:50:34.826Z"
   },
   {
    "duration": 13,
    "start_time": "2022-05-16T16:50:34.883Z"
   },
   {
    "duration": 43,
    "start_time": "2022-05-16T16:50:34.898Z"
   },
   {
    "duration": 79,
    "start_time": "2022-05-16T16:50:34.943Z"
   },
   {
    "duration": 10,
    "start_time": "2022-05-16T16:50:35.025Z"
   },
   {
    "duration": 8,
    "start_time": "2022-05-16T16:50:35.038Z"
   },
   {
    "duration": 39,
    "start_time": "2022-05-16T16:50:35.081Z"
   },
   {
    "duration": 19,
    "start_time": "2022-05-16T16:50:35.123Z"
   },
   {
    "duration": 44,
    "start_time": "2022-05-16T16:50:35.144Z"
   },
   {
    "duration": 36,
    "start_time": "2022-05-16T16:50:35.190Z"
   },
   {
    "duration": 8,
    "start_time": "2022-05-16T16:50:35.229Z"
   },
   {
    "duration": 43,
    "start_time": "2022-05-16T16:50:35.239Z"
   },
   {
    "duration": 24,
    "start_time": "2022-05-16T16:50:35.288Z"
   },
   {
    "duration": 21,
    "start_time": "2022-05-16T16:50:35.315Z"
   },
   {
    "duration": 68,
    "start_time": "2022-05-16T16:50:35.338Z"
   },
   {
    "duration": 49,
    "start_time": "2022-05-16T16:50:35.409Z"
   },
   {
    "duration": 61,
    "start_time": "2022-05-16T16:50:35.461Z"
   },
   {
    "duration": 28,
    "start_time": "2022-05-16T16:50:35.525Z"
   },
   {
    "duration": 193,
    "start_time": "2022-05-16T16:50:35.555Z"
   },
   {
    "duration": 68,
    "start_time": "2022-05-16T16:50:35.750Z"
   },
   {
    "duration": 14,
    "start_time": "2022-05-16T16:50:35.821Z"
   },
   {
    "duration": 16,
    "start_time": "2022-05-16T16:50:35.837Z"
   },
   {
    "duration": 47,
    "start_time": "2022-05-16T16:50:35.855Z"
   },
   {
    "duration": 41,
    "start_time": "2022-05-16T16:50:35.905Z"
   },
   {
    "duration": 9,
    "start_time": "2022-05-16T16:50:35.948Z"
   },
   {
    "duration": 36,
    "start_time": "2022-05-16T16:50:35.987Z"
   },
   {
    "duration": 23,
    "start_time": "2022-05-16T16:50:36.025Z"
   },
   {
    "duration": 35,
    "start_time": "2022-05-16T16:50:36.050Z"
   },
   {
    "duration": 43,
    "start_time": "2022-05-17T09:47:25.748Z"
   },
   {
    "duration": 391,
    "start_time": "2022-05-17T09:47:30.176Z"
   },
   {
    "duration": 60,
    "start_time": "2022-05-17T09:47:30.569Z"
   },
   {
    "duration": 19,
    "start_time": "2022-05-17T09:47:30.630Z"
   },
   {
    "duration": 20,
    "start_time": "2022-05-17T09:47:30.651Z"
   },
   {
    "duration": 9,
    "start_time": "2022-05-17T09:47:30.673Z"
   },
   {
    "duration": 12,
    "start_time": "2022-05-17T09:47:30.683Z"
   },
   {
    "duration": 18,
    "start_time": "2022-05-17T09:47:30.696Z"
   },
   {
    "duration": 5,
    "start_time": "2022-05-17T09:47:30.716Z"
   },
   {
    "duration": 17,
    "start_time": "2022-05-17T09:47:30.722Z"
   },
   {
    "duration": 53,
    "start_time": "2022-05-17T09:47:30.740Z"
   },
   {
    "duration": 6,
    "start_time": "2022-05-17T09:47:30.795Z"
   },
   {
    "duration": 16,
    "start_time": "2022-05-17T09:47:30.802Z"
   },
   {
    "duration": 20,
    "start_time": "2022-05-17T09:47:30.819Z"
   },
   {
    "duration": 12,
    "start_time": "2022-05-17T09:47:30.842Z"
   },
   {
    "duration": 5,
    "start_time": "2022-05-17T09:47:30.871Z"
   },
   {
    "duration": 36,
    "start_time": "2022-05-17T09:47:30.877Z"
   },
   {
    "duration": 5,
    "start_time": "2022-05-17T09:47:30.915Z"
   },
   {
    "duration": 12,
    "start_time": "2022-05-17T09:47:30.921Z"
   },
   {
    "duration": 13,
    "start_time": "2022-05-17T09:47:30.934Z"
   },
   {
    "duration": 15,
    "start_time": "2022-05-17T09:47:30.948Z"
   },
   {
    "duration": 14,
    "start_time": "2022-05-17T09:47:30.965Z"
   },
   {
    "duration": 16,
    "start_time": "2022-05-17T09:47:30.981Z"
   },
   {
    "duration": 19,
    "start_time": "2022-05-17T09:47:30.999Z"
   },
   {
    "duration": 19,
    "start_time": "2022-05-17T09:47:31.020Z"
   },
   {
    "duration": 99,
    "start_time": "2022-05-17T09:47:31.041Z"
   },
   {
    "duration": 41,
    "start_time": "2022-05-17T09:47:31.142Z"
   },
   {
    "duration": 8,
    "start_time": "2022-05-17T09:47:31.185Z"
   },
   {
    "duration": 11,
    "start_time": "2022-05-17T09:47:31.195Z"
   },
   {
    "duration": 15,
    "start_time": "2022-05-17T09:47:31.208Z"
   },
   {
    "duration": 17,
    "start_time": "2022-05-17T09:47:31.224Z"
   },
   {
    "duration": 30,
    "start_time": "2022-05-17T09:47:31.243Z"
   },
   {
    "duration": 16,
    "start_time": "2022-05-17T09:47:31.274Z"
   },
   {
    "duration": 18,
    "start_time": "2022-05-17T09:47:31.291Z"
   },
   {
    "duration": 12,
    "start_time": "2022-05-17T09:47:31.311Z"
   },
   {
    "duration": 10,
    "start_time": "2022-05-17T09:50:11.698Z"
   },
   {
    "duration": 26,
    "start_time": "2022-05-17T09:50:16.867Z"
   },
   {
    "duration": 12,
    "start_time": "2022-05-17T09:50:24.288Z"
   },
   {
    "duration": 11,
    "start_time": "2022-05-17T09:50:47.107Z"
   },
   {
    "duration": 14,
    "start_time": "2022-05-17T09:50:54.955Z"
   },
   {
    "duration": 14,
    "start_time": "2022-05-17T09:51:00.948Z"
   },
   {
    "duration": 13,
    "start_time": "2022-05-17T09:51:57.878Z"
   },
   {
    "duration": 13,
    "start_time": "2022-05-17T09:52:05.294Z"
   },
   {
    "duration": 21,
    "start_time": "2022-05-17T09:52:11.090Z"
   },
   {
    "duration": 13,
    "start_time": "2022-05-17T09:52:16.128Z"
   },
   {
    "duration": 8,
    "start_time": "2022-05-17T09:52:39.127Z"
   },
   {
    "duration": 21,
    "start_time": "2022-05-17T09:52:57.258Z"
   },
   {
    "duration": 24,
    "start_time": "2022-05-17T09:56:31.416Z"
   },
   {
    "duration": 92,
    "start_time": "2022-05-19T02:45:55.158Z"
   },
   {
    "duration": 435,
    "start_time": "2022-05-19T02:46:00.297Z"
   },
   {
    "duration": 115,
    "start_time": "2022-05-19T02:46:00.735Z"
   },
   {
    "duration": 25,
    "start_time": "2022-05-19T02:46:00.852Z"
   },
   {
    "duration": 30,
    "start_time": "2022-05-19T02:46:00.879Z"
   },
   {
    "duration": 31,
    "start_time": "2022-05-19T02:46:00.912Z"
   },
   {
    "duration": 24,
    "start_time": "2022-05-19T02:46:00.945Z"
   },
   {
    "duration": 65,
    "start_time": "2022-05-19T02:46:00.971Z"
   },
   {
    "duration": 55,
    "start_time": "2022-05-19T02:46:01.038Z"
   },
   {
    "duration": 48,
    "start_time": "2022-05-19T02:46:01.095Z"
   },
   {
    "duration": 50,
    "start_time": "2022-05-19T02:46:01.145Z"
   },
   {
    "duration": 8,
    "start_time": "2022-05-19T02:46:01.197Z"
   },
   {
    "duration": 44,
    "start_time": "2022-05-19T02:46:01.206Z"
   },
   {
    "duration": 48,
    "start_time": "2022-05-19T02:46:01.252Z"
   },
   {
    "duration": 49,
    "start_time": "2022-05-19T02:46:01.304Z"
   },
   {
    "duration": 437,
    "start_time": "2022-05-19T02:54:03.434Z"
   },
   {
    "duration": 98,
    "start_time": "2022-05-19T02:54:03.874Z"
   },
   {
    "duration": 19,
    "start_time": "2022-05-19T02:54:03.974Z"
   },
   {
    "duration": 17,
    "start_time": "2022-05-19T02:54:03.995Z"
   },
   {
    "duration": 10,
    "start_time": "2022-05-19T02:54:04.014Z"
   },
   {
    "duration": 9,
    "start_time": "2022-05-19T02:54:04.027Z"
   },
   {
    "duration": 30,
    "start_time": "2022-05-19T02:54:04.037Z"
   },
   {
    "duration": 7,
    "start_time": "2022-05-19T02:54:04.069Z"
   },
   {
    "duration": 26,
    "start_time": "2022-05-19T02:54:04.077Z"
   },
   {
    "duration": 35,
    "start_time": "2022-05-19T02:54:04.105Z"
   },
   {
    "duration": 6,
    "start_time": "2022-05-19T02:54:04.142Z"
   },
   {
    "duration": 6,
    "start_time": "2022-05-19T02:54:04.150Z"
   },
   {
    "duration": 21,
    "start_time": "2022-05-19T02:54:04.158Z"
   },
   {
    "duration": 14,
    "start_time": "2022-05-19T02:54:04.182Z"
   },
   {
    "duration": 30,
    "start_time": "2022-05-19T02:54:04.197Z"
   },
   {
    "duration": 13,
    "start_time": "2022-05-19T02:54:04.229Z"
   },
   {
    "duration": 20,
    "start_time": "2022-05-19T02:54:04.243Z"
   },
   {
    "duration": 23,
    "start_time": "2022-05-19T02:54:04.265Z"
   },
   {
    "duration": 12,
    "start_time": "2022-05-19T02:54:04.289Z"
   },
   {
    "duration": 12,
    "start_time": "2022-05-19T02:54:04.302Z"
   },
   {
    "duration": 12,
    "start_time": "2022-05-19T02:54:04.316Z"
   },
   {
    "duration": 18,
    "start_time": "2022-05-19T02:54:04.330Z"
   },
   {
    "duration": 18,
    "start_time": "2022-05-19T02:54:04.350Z"
   },
   {
    "duration": 17,
    "start_time": "2022-05-19T02:54:04.370Z"
   },
   {
    "duration": 103,
    "start_time": "2022-05-19T02:54:04.388Z"
   },
   {
    "duration": 44,
    "start_time": "2022-05-19T02:54:04.495Z"
   },
   {
    "duration": 8,
    "start_time": "2022-05-19T02:54:04.541Z"
   },
   {
    "duration": 14,
    "start_time": "2022-05-19T02:54:04.550Z"
   },
   {
    "duration": 7,
    "start_time": "2022-05-19T02:54:04.565Z"
   },
   {
    "duration": 20,
    "start_time": "2022-05-19T02:54:04.574Z"
   },
   {
    "duration": 6,
    "start_time": "2022-05-19T02:54:04.596Z"
   },
   {
    "duration": 37,
    "start_time": "2022-05-19T02:54:04.603Z"
   },
   {
    "duration": 12,
    "start_time": "2022-05-19T02:54:04.642Z"
   },
   {
    "duration": 17,
    "start_time": "2022-05-19T02:54:04.655Z"
   },
   {
    "duration": 432,
    "start_time": "2022-05-19T02:54:04.673Z"
   },
   {
    "duration": 86,
    "start_time": "2022-05-19T02:54:05.107Z"
   },
   {
    "duration": 22,
    "start_time": "2022-05-19T02:54:15.504Z"
   },
   {
    "duration": 15,
    "start_time": "2022-05-19T02:54:38.294Z"
   },
   {
    "duration": 14,
    "start_time": "2022-05-19T02:55:16.014Z"
   },
   {
    "duration": 8,
    "start_time": "2022-05-19T02:55:30.994Z"
   },
   {
    "duration": 19,
    "start_time": "2022-05-19T02:55:42.475Z"
   },
   {
    "duration": 14,
    "start_time": "2022-05-19T02:56:32.487Z"
   },
   {
    "duration": 159,
    "start_time": "2022-05-19T02:56:43.357Z"
   },
   {
    "duration": 450,
    "start_time": "2022-05-19T03:03:05.296Z"
   },
   {
    "duration": 65,
    "start_time": "2022-05-19T03:03:05.748Z"
   },
   {
    "duration": 27,
    "start_time": "2022-05-19T03:03:05.815Z"
   },
   {
    "duration": 17,
    "start_time": "2022-05-19T03:03:05.846Z"
   },
   {
    "duration": 19,
    "start_time": "2022-05-19T03:03:05.865Z"
   },
   {
    "duration": 31,
    "start_time": "2022-05-19T03:03:05.886Z"
   },
   {
    "duration": 33,
    "start_time": "2022-05-19T03:03:05.919Z"
   },
   {
    "duration": 9,
    "start_time": "2022-05-19T03:03:05.954Z"
   },
   {
    "duration": 29,
    "start_time": "2022-05-19T03:03:05.965Z"
   },
   {
    "duration": 53,
    "start_time": "2022-05-19T03:03:05.997Z"
   },
   {
    "duration": 8,
    "start_time": "2022-05-19T03:03:06.053Z"
   },
   {
    "duration": 21,
    "start_time": "2022-05-19T03:03:06.064Z"
   },
   {
    "duration": 38,
    "start_time": "2022-05-19T03:03:06.087Z"
   },
   {
    "duration": 54,
    "start_time": "2022-05-19T03:03:06.130Z"
   },
   {
    "duration": 26,
    "start_time": "2022-05-19T03:03:06.187Z"
   },
   {
    "duration": 76,
    "start_time": "2022-05-19T03:03:06.216Z"
   },
   {
    "duration": 23,
    "start_time": "2022-05-19T03:03:06.294Z"
   },
   {
    "duration": 46,
    "start_time": "2022-05-19T03:03:06.319Z"
   },
   {
    "duration": 33,
    "start_time": "2022-05-19T03:03:06.367Z"
   },
   {
    "duration": 67,
    "start_time": "2022-05-19T03:03:06.402Z"
   },
   {
    "duration": 36,
    "start_time": "2022-05-19T03:03:06.471Z"
   },
   {
    "duration": 68,
    "start_time": "2022-05-19T03:03:06.509Z"
   },
   {
    "duration": 25,
    "start_time": "2022-05-19T03:03:06.579Z"
   },
   {
    "duration": 23,
    "start_time": "2022-05-19T03:03:06.606Z"
   },
   {
    "duration": 91,
    "start_time": "2022-05-19T03:03:06.642Z"
   },
   {
    "duration": 36,
    "start_time": "2022-05-19T03:03:06.735Z"
   },
   {
    "duration": 8,
    "start_time": "2022-05-19T03:03:06.773Z"
   },
   {
    "duration": 28,
    "start_time": "2022-05-19T03:03:06.784Z"
   },
   {
    "duration": 37,
    "start_time": "2022-05-19T03:03:06.813Z"
   },
   {
    "duration": 40,
    "start_time": "2022-05-19T03:03:06.852Z"
   },
   {
    "duration": 24,
    "start_time": "2022-05-19T03:03:06.894Z"
   },
   {
    "duration": 62,
    "start_time": "2022-05-19T03:03:06.920Z"
   },
   {
    "duration": 37,
    "start_time": "2022-05-19T03:03:06.984Z"
   },
   {
    "duration": 43,
    "start_time": "2022-05-19T03:03:07.023Z"
   },
   {
    "duration": 545,
    "start_time": "2022-05-19T03:03:07.068Z"
   },
   {
    "duration": 16,
    "start_time": "2022-05-19T03:03:07.615Z"
   },
   {
    "duration": 52,
    "start_time": "2022-05-19T03:03:07.636Z"
   },
   {
    "duration": 185,
    "start_time": "2022-05-19T03:03:07.691Z"
   },
   {
    "duration": 3,
    "start_time": "2022-05-19T03:09:00.197Z"
   },
   {
    "duration": 86,
    "start_time": "2022-05-19T03:09:00.210Z"
   },
   {
    "duration": 19,
    "start_time": "2022-05-19T03:09:00.298Z"
   },
   {
    "duration": 27,
    "start_time": "2022-05-19T03:09:00.326Z"
   },
   {
    "duration": 15,
    "start_time": "2022-05-19T03:09:00.356Z"
   },
   {
    "duration": 27,
    "start_time": "2022-05-19T03:09:00.373Z"
   },
   {
    "duration": 34,
    "start_time": "2022-05-19T03:09:00.402Z"
   },
   {
    "duration": 6,
    "start_time": "2022-05-19T03:09:00.438Z"
   },
   {
    "duration": 28,
    "start_time": "2022-05-19T03:09:00.446Z"
   },
   {
    "duration": 63,
    "start_time": "2022-05-19T03:09:00.476Z"
   },
   {
    "duration": 5,
    "start_time": "2022-05-19T03:09:00.542Z"
   },
   {
    "duration": 11,
    "start_time": "2022-05-19T03:09:00.549Z"
   },
   {
    "duration": 24,
    "start_time": "2022-05-19T03:09:00.562Z"
   },
   {
    "duration": 41,
    "start_time": "2022-05-19T03:09:00.588Z"
   },
   {
    "duration": 12,
    "start_time": "2022-05-19T03:09:00.631Z"
   },
   {
    "duration": 28,
    "start_time": "2022-05-19T03:09:00.644Z"
   },
   {
    "duration": 6,
    "start_time": "2022-05-19T03:09:00.675Z"
   },
   {
    "duration": 13,
    "start_time": "2022-05-19T03:09:00.682Z"
   },
   {
    "duration": 24,
    "start_time": "2022-05-19T03:09:00.697Z"
   },
   {
    "duration": 23,
    "start_time": "2022-05-19T03:09:00.723Z"
   },
   {
    "duration": 23,
    "start_time": "2022-05-19T03:09:00.748Z"
   },
   {
    "duration": 18,
    "start_time": "2022-05-19T03:09:00.773Z"
   },
   {
    "duration": 24,
    "start_time": "2022-05-19T03:09:00.792Z"
   },
   {
    "duration": 23,
    "start_time": "2022-05-19T03:09:00.818Z"
   },
   {
    "duration": 101,
    "start_time": "2022-05-19T03:09:00.843Z"
   },
   {
    "duration": 29,
    "start_time": "2022-05-19T03:09:00.946Z"
   },
   {
    "duration": 14,
    "start_time": "2022-05-19T03:09:00.977Z"
   },
   {
    "duration": 25,
    "start_time": "2022-05-19T03:09:00.992Z"
   },
   {
    "duration": 25,
    "start_time": "2022-05-19T03:09:01.027Z"
   },
   {
    "duration": 40,
    "start_time": "2022-05-19T03:09:01.054Z"
   },
   {
    "duration": 17,
    "start_time": "2022-05-19T03:09:01.096Z"
   },
   {
    "duration": 41,
    "start_time": "2022-05-19T03:09:01.114Z"
   },
   {
    "duration": 18,
    "start_time": "2022-05-19T03:09:01.158Z"
   },
   {
    "duration": 31,
    "start_time": "2022-05-19T03:09:01.179Z"
   },
   {
    "duration": 167,
    "start_time": "2022-05-19T03:09:01.212Z"
   },
   {
    "duration": 8,
    "start_time": "2022-05-19T03:09:01.380Z"
   },
   {
    "duration": 34,
    "start_time": "2022-05-19T03:09:01.390Z"
   },
   {
    "duration": 164,
    "start_time": "2022-05-19T03:09:01.427Z"
   },
   {
    "duration": 68,
    "start_time": "2022-05-19T03:10:35.510Z"
   },
   {
    "duration": 16,
    "start_time": "2022-05-19T03:10:41.325Z"
   },
   {
    "duration": 14,
    "start_time": "2022-05-19T03:10:44.072Z"
   },
   {
    "duration": 11,
    "start_time": "2022-05-19T03:10:51.987Z"
   },
   {
    "duration": 7,
    "start_time": "2022-05-19T03:11:00.378Z"
   },
   {
    "duration": 17,
    "start_time": "2022-05-19T03:11:00.839Z"
   },
   {
    "duration": 2,
    "start_time": "2022-05-19T03:11:08.864Z"
   },
   {
    "duration": 65,
    "start_time": "2022-05-19T03:11:08.888Z"
   },
   {
    "duration": 14,
    "start_time": "2022-05-19T03:11:08.956Z"
   },
   {
    "duration": 22,
    "start_time": "2022-05-19T03:11:08.972Z"
   },
   {
    "duration": 35,
    "start_time": "2022-05-19T03:11:08.998Z"
   },
   {
    "duration": 19,
    "start_time": "2022-05-19T03:11:09.037Z"
   },
   {
    "duration": 16,
    "start_time": "2022-05-19T03:11:09.058Z"
   },
   {
    "duration": 7,
    "start_time": "2022-05-19T03:11:09.077Z"
   },
   {
    "duration": 16,
    "start_time": "2022-05-19T03:11:09.087Z"
   },
   {
    "duration": 60,
    "start_time": "2022-05-19T03:11:09.105Z"
   },
   {
    "duration": 6,
    "start_time": "2022-05-19T03:11:09.168Z"
   },
   {
    "duration": 8,
    "start_time": "2022-05-19T03:11:09.176Z"
   },
   {
    "duration": 54,
    "start_time": "2022-05-19T03:11:09.186Z"
   },
   {
    "duration": 19,
    "start_time": "2022-05-19T03:11:09.241Z"
   },
   {
    "duration": 10,
    "start_time": "2022-05-19T03:11:09.263Z"
   },
   {
    "duration": 21,
    "start_time": "2022-05-19T03:11:09.276Z"
   },
   {
    "duration": 7,
    "start_time": "2022-05-19T03:11:09.299Z"
   },
   {
    "duration": 10,
    "start_time": "2022-05-19T03:11:09.328Z"
   },
   {
    "duration": 25,
    "start_time": "2022-05-19T03:11:09.339Z"
   },
   {
    "duration": 10,
    "start_time": "2022-05-19T03:11:09.811Z"
   },
   {
    "duration": 34,
    "start_time": "2022-05-19T03:11:09.823Z"
   },
   {
    "duration": 28,
    "start_time": "2022-05-19T03:11:09.859Z"
   },
   {
    "duration": 26,
    "start_time": "2022-05-19T03:11:09.890Z"
   },
   {
    "duration": 22,
    "start_time": "2022-05-19T03:11:09.919Z"
   },
   {
    "duration": 71,
    "start_time": "2022-05-19T03:11:09.947Z"
   },
   {
    "duration": 37,
    "start_time": "2022-05-19T03:11:10.027Z"
   },
   {
    "duration": 9,
    "start_time": "2022-05-19T03:11:10.065Z"
   },
   {
    "duration": 11,
    "start_time": "2022-05-19T03:11:10.077Z"
   },
   {
    "duration": 10,
    "start_time": "2022-05-19T03:11:10.089Z"
   },
   {
    "duration": 26,
    "start_time": "2022-05-19T03:11:10.130Z"
   },
   {
    "duration": 7,
    "start_time": "2022-05-19T03:11:10.776Z"
   },
   {
    "duration": 24,
    "start_time": "2022-05-19T03:11:10.866Z"
   },
   {
    "duration": 11,
    "start_time": "2022-05-19T03:11:10.893Z"
   },
   {
    "duration": 17,
    "start_time": "2022-05-19T03:11:10.906Z"
   },
   {
    "duration": 162,
    "start_time": "2022-05-19T03:11:10.925Z"
   },
   {
    "duration": 6,
    "start_time": "2022-05-19T03:11:11.090Z"
   },
   {
    "duration": 35,
    "start_time": "2022-05-19T03:11:11.098Z"
   },
   {
    "duration": 17,
    "start_time": "2022-05-19T03:11:11.138Z"
   },
   {
    "duration": 8,
    "start_time": "2022-05-19T03:11:46.620Z"
   },
   {
    "duration": 43,
    "start_time": "2022-05-19T03:11:46.630Z"
   },
   {
    "duration": 17,
    "start_time": "2022-05-19T03:11:53.737Z"
   },
   {
    "duration": 28,
    "start_time": "2022-05-19T03:12:12.169Z"
   },
   {
    "duration": 11,
    "start_time": "2022-05-19T03:14:25.027Z"
   },
   {
    "duration": 2,
    "start_time": "2022-05-19T03:14:27.467Z"
   },
   {
    "duration": 4,
    "start_time": "2022-05-19T03:17:47.418Z"
   },
   {
    "duration": 5,
    "start_time": "2022-05-19T03:17:51.829Z"
   },
   {
    "duration": 76,
    "start_time": "2022-05-19T03:17:51.842Z"
   },
   {
    "duration": 28,
    "start_time": "2022-05-19T03:17:51.920Z"
   },
   {
    "duration": 23,
    "start_time": "2022-05-19T03:17:51.950Z"
   },
   {
    "duration": 10,
    "start_time": "2022-05-19T03:17:51.975Z"
   },
   {
    "duration": 9,
    "start_time": "2022-05-19T03:17:51.986Z"
   },
   {
    "duration": 20,
    "start_time": "2022-05-19T03:17:51.997Z"
   },
   {
    "duration": 10,
    "start_time": "2022-05-19T03:17:52.019Z"
   },
   {
    "duration": 38,
    "start_time": "2022-05-19T03:17:52.031Z"
   },
   {
    "duration": 28,
    "start_time": "2022-05-19T03:17:52.071Z"
   },
   {
    "duration": 6,
    "start_time": "2022-05-19T03:17:52.101Z"
   },
   {
    "duration": 14,
    "start_time": "2022-05-19T03:17:52.108Z"
   },
   {
    "duration": 51,
    "start_time": "2022-05-19T03:17:52.123Z"
   },
   {
    "duration": 12,
    "start_time": "2022-05-19T03:17:52.175Z"
   },
   {
    "duration": 5,
    "start_time": "2022-05-19T03:17:52.188Z"
   },
   {
    "duration": 17,
    "start_time": "2022-05-19T03:17:52.194Z"
   },
   {
    "duration": 5,
    "start_time": "2022-05-19T03:17:52.212Z"
   },
   {
    "duration": 13,
    "start_time": "2022-05-19T03:17:52.218Z"
   },
   {
    "duration": 32,
    "start_time": "2022-05-19T03:17:52.232Z"
   },
   {
    "duration": 12,
    "start_time": "2022-05-19T03:17:52.265Z"
   },
   {
    "duration": 12,
    "start_time": "2022-05-19T03:17:52.278Z"
   },
   {
    "duration": 15,
    "start_time": "2022-05-19T03:17:52.292Z"
   },
   {
    "duration": 26,
    "start_time": "2022-05-19T03:17:52.309Z"
   },
   {
    "duration": 20,
    "start_time": "2022-05-19T03:17:52.344Z"
   },
   {
    "duration": 91,
    "start_time": "2022-05-19T03:17:52.366Z"
   },
   {
    "duration": 26,
    "start_time": "2022-05-19T03:17:52.459Z"
   },
   {
    "duration": 11,
    "start_time": "2022-05-19T03:17:52.487Z"
   },
   {
    "duration": 10,
    "start_time": "2022-05-19T03:17:52.499Z"
   },
   {
    "duration": 39,
    "start_time": "2022-05-19T03:17:52.512Z"
   },
   {
    "duration": 21,
    "start_time": "2022-05-19T03:17:52.553Z"
   },
   {
    "duration": 10,
    "start_time": "2022-05-19T03:17:52.576Z"
   },
   {
    "duration": 23,
    "start_time": "2022-05-19T03:17:52.588Z"
   },
   {
    "duration": 11,
    "start_time": "2022-05-19T03:17:52.612Z"
   },
   {
    "duration": 46,
    "start_time": "2022-05-19T03:17:52.624Z"
   },
   {
    "duration": 138,
    "start_time": "2022-05-19T03:17:52.671Z"
   },
   {
    "duration": 32,
    "start_time": "2022-05-19T03:17:52.811Z"
   },
   {
    "duration": 25,
    "start_time": "2022-05-19T03:17:52.847Z"
   },
   {
    "duration": 3,
    "start_time": "2022-05-19T03:17:52.874Z"
   },
   {
    "duration": 7,
    "start_time": "2022-05-19T03:19:04.672Z"
   },
   {
    "duration": 14,
    "start_time": "2022-05-19T03:19:33.749Z"
   },
   {
    "duration": 4,
    "start_time": "2022-05-19T03:19:40.018Z"
   },
   {
    "duration": 5,
    "start_time": "2022-05-19T03:19:52.406Z"
   },
   {
    "duration": 10,
    "start_time": "2022-05-19T03:20:03.965Z"
   },
   {
    "duration": 8,
    "start_time": "2022-05-19T03:20:17.651Z"
   },
   {
    "duration": 19,
    "start_time": "2022-05-19T03:22:36.473Z"
   },
   {
    "duration": 460,
    "start_time": "2022-05-19T03:25:55.122Z"
   },
   {
    "duration": 70,
    "start_time": "2022-05-19T03:25:55.585Z"
   },
   {
    "duration": 21,
    "start_time": "2022-05-19T03:25:55.656Z"
   },
   {
    "duration": 15,
    "start_time": "2022-05-19T03:25:55.679Z"
   },
   {
    "duration": 9,
    "start_time": "2022-05-19T03:25:55.696Z"
   },
   {
    "duration": 37,
    "start_time": "2022-05-19T03:25:55.707Z"
   },
   {
    "duration": 20,
    "start_time": "2022-05-19T03:25:55.752Z"
   },
   {
    "duration": 6,
    "start_time": "2022-05-19T03:25:55.774Z"
   },
   {
    "duration": 16,
    "start_time": "2022-05-19T03:25:55.781Z"
   },
   {
    "duration": 40,
    "start_time": "2022-05-19T03:25:55.799Z"
   },
   {
    "duration": 13,
    "start_time": "2022-05-19T03:25:55.842Z"
   },
   {
    "duration": 10,
    "start_time": "2022-05-19T03:25:55.857Z"
   },
   {
    "duration": 18,
    "start_time": "2022-05-19T03:25:55.868Z"
   },
   {
    "duration": 12,
    "start_time": "2022-05-19T03:25:55.887Z"
   },
   {
    "duration": 5,
    "start_time": "2022-05-19T03:25:55.900Z"
   },
   {
    "duration": 36,
    "start_time": "2022-05-19T03:25:55.907Z"
   },
   {
    "duration": 11,
    "start_time": "2022-05-19T03:25:55.946Z"
   },
   {
    "duration": 12,
    "start_time": "2022-05-19T03:25:55.958Z"
   },
   {
    "duration": 5,
    "start_time": "2022-05-19T03:25:55.972Z"
   },
   {
    "duration": 13,
    "start_time": "2022-05-19T03:25:55.979Z"
   },
   {
    "duration": 12,
    "start_time": "2022-05-19T03:25:55.993Z"
   },
   {
    "duration": 34,
    "start_time": "2022-05-19T03:25:56.006Z"
   },
   {
    "duration": 25,
    "start_time": "2022-05-19T03:25:56.041Z"
   },
   {
    "duration": 15,
    "start_time": "2022-05-19T03:25:56.068Z"
   },
   {
    "duration": 96,
    "start_time": "2022-05-19T03:25:56.084Z"
   },
   {
    "duration": 57,
    "start_time": "2022-05-19T03:25:56.182Z"
   },
   {
    "duration": 11,
    "start_time": "2022-05-19T03:25:56.243Z"
   },
   {
    "duration": 13,
    "start_time": "2022-05-19T03:25:56.257Z"
   },
   {
    "duration": 11,
    "start_time": "2022-05-19T03:25:56.272Z"
   },
   {
    "duration": 26,
    "start_time": "2022-05-19T03:25:56.284Z"
   },
   {
    "duration": 8,
    "start_time": "2022-05-19T03:25:56.312Z"
   },
   {
    "duration": 19,
    "start_time": "2022-05-19T03:25:56.363Z"
   },
   {
    "duration": 12,
    "start_time": "2022-05-19T03:25:56.494Z"
   },
   {
    "duration": 36,
    "start_time": "2022-05-19T03:25:56.508Z"
   },
   {
    "duration": 441,
    "start_time": "2022-05-19T03:25:56.548Z"
   },
   {
    "duration": 16,
    "start_time": "2022-05-19T03:25:56.991Z"
   },
   {
    "duration": 37,
    "start_time": "2022-05-19T03:25:57.008Z"
   },
   {
    "duration": 149,
    "start_time": "2022-05-19T03:25:57.048Z"
   },
   {
    "duration": 55,
    "start_time": "2022-05-19T03:26:39.563Z"
   },
   {
    "duration": 23,
    "start_time": "2022-05-19T03:26:46.924Z"
   },
   {
    "duration": 10,
    "start_time": "2022-05-19T03:26:59.373Z"
   },
   {
    "duration": 10,
    "start_time": "2022-05-19T03:27:11.144Z"
   },
   {
    "duration": 664,
    "start_time": "2022-05-19T03:27:16.256Z"
   },
   {
    "duration": 20,
    "start_time": "2022-05-19T03:27:39.823Z"
   },
   {
    "duration": 17,
    "start_time": "2022-05-19T03:27:44.661Z"
   },
   {
    "duration": 13,
    "start_time": "2022-05-19T03:28:38.288Z"
   },
   {
    "duration": 18,
    "start_time": "2022-05-19T03:30:19.602Z"
   },
   {
    "duration": 15,
    "start_time": "2022-05-19T03:30:50.455Z"
   },
   {
    "duration": 15,
    "start_time": "2022-05-19T03:31:14.184Z"
   },
   {
    "duration": 137,
    "start_time": "2022-05-19T03:33:29.768Z"
   },
   {
    "duration": 14,
    "start_time": "2022-05-19T03:33:37.608Z"
   },
   {
    "duration": 141,
    "start_time": "2022-05-19T03:33:51.451Z"
   },
   {
    "duration": 155,
    "start_time": "2022-05-19T03:34:02.697Z"
   },
   {
    "duration": 145,
    "start_time": "2022-05-19T03:34:17.325Z"
   },
   {
    "duration": 148,
    "start_time": "2022-05-19T03:34:53.327Z"
   },
   {
    "duration": 15,
    "start_time": "2022-05-19T05:53:12.720Z"
   },
   {
    "duration": 143,
    "start_time": "2022-05-19T05:53:12.962Z"
   },
   {
    "duration": 14,
    "start_time": "2022-05-19T06:55:30.124Z"
   },
   {
    "duration": 2,
    "start_time": "2022-05-19T07:02:04.096Z"
   },
   {
    "duration": 15,
    "start_time": "2022-05-19T07:14:41.105Z"
   },
   {
    "duration": 16,
    "start_time": "2022-05-19T07:14:44.163Z"
   },
   {
    "duration": 2,
    "start_time": "2022-05-19T07:14:46.705Z"
   },
   {
    "duration": 67,
    "start_time": "2022-05-19T07:14:46.709Z"
   },
   {
    "duration": 13,
    "start_time": "2022-05-19T07:14:46.777Z"
   },
   {
    "duration": 23,
    "start_time": "2022-05-19T07:14:46.792Z"
   },
   {
    "duration": 10,
    "start_time": "2022-05-19T07:14:46.827Z"
   },
   {
    "duration": 13,
    "start_time": "2022-05-19T07:14:46.839Z"
   },
   {
    "duration": 17,
    "start_time": "2022-05-19T07:14:46.853Z"
   },
   {
    "duration": 4,
    "start_time": "2022-05-19T07:14:46.871Z"
   },
   {
    "duration": 18,
    "start_time": "2022-05-19T07:14:46.876Z"
   },
   {
    "duration": 61,
    "start_time": "2022-05-19T07:14:46.896Z"
   },
   {
    "duration": 6,
    "start_time": "2022-05-19T07:14:46.958Z"
   },
   {
    "duration": 12,
    "start_time": "2022-05-19T07:14:46.966Z"
   },
   {
    "duration": 26,
    "start_time": "2022-05-19T07:14:46.980Z"
   },
   {
    "duration": 21,
    "start_time": "2022-05-19T07:14:47.026Z"
   },
   {
    "duration": 5,
    "start_time": "2022-05-19T07:14:47.049Z"
   },
   {
    "duration": 17,
    "start_time": "2022-05-19T07:14:47.056Z"
   },
   {
    "duration": 6,
    "start_time": "2022-05-19T07:14:47.074Z"
   },
   {
    "duration": 46,
    "start_time": "2022-05-19T07:14:47.082Z"
   },
   {
    "duration": 7,
    "start_time": "2022-05-19T07:14:47.130Z"
   },
   {
    "duration": 13,
    "start_time": "2022-05-19T07:14:47.139Z"
   },
   {
    "duration": 15,
    "start_time": "2022-05-19T07:14:47.154Z"
   },
   {
    "duration": 18,
    "start_time": "2022-05-19T07:14:47.171Z"
   },
   {
    "duration": 47,
    "start_time": "2022-05-19T07:14:47.190Z"
   },
   {
    "duration": 17,
    "start_time": "2022-05-19T07:14:47.239Z"
   },
   {
    "duration": 94,
    "start_time": "2022-05-19T07:14:47.258Z"
   },
   {
    "duration": 28,
    "start_time": "2022-05-19T07:14:47.353Z"
   },
   {
    "duration": 11,
    "start_time": "2022-05-19T07:14:47.382Z"
   },
   {
    "duration": 34,
    "start_time": "2022-05-19T07:14:47.394Z"
   },
   {
    "duration": 6,
    "start_time": "2022-05-19T07:14:47.430Z"
   },
   {
    "duration": 23,
    "start_time": "2022-05-19T07:14:47.438Z"
   },
   {
    "duration": 6,
    "start_time": "2022-05-19T07:14:47.462Z"
   },
   {
    "duration": 17,
    "start_time": "2022-05-19T07:14:47.470Z"
   },
   {
    "duration": 48,
    "start_time": "2022-05-19T07:14:47.489Z"
   },
   {
    "duration": 142,
    "start_time": "2022-05-19T07:14:47.538Z"
   },
   {
    "duration": 17,
    "start_time": "2022-05-19T07:14:47.681Z"
   },
   {
    "duration": 33,
    "start_time": "2022-05-19T07:14:47.699Z"
   },
   {
    "duration": 153,
    "start_time": "2022-05-19T07:14:47.733Z"
   },
   {
    "duration": 16,
    "start_time": "2022-05-19T07:14:47.887Z"
   },
   {
    "duration": 145,
    "start_time": "2022-05-19T07:14:47.904Z"
   },
   {
    "duration": 21,
    "start_time": "2022-05-19T07:14:48.051Z"
   },
   {
    "duration": 216,
    "start_time": "2022-05-19T07:14:48.077Z"
   },
   {
    "duration": 5,
    "start_time": "2022-05-19T07:15:22.082Z"
   },
   {
    "duration": 3,
    "start_time": "2022-05-19T07:15:25.564Z"
   },
   {
    "duration": 67,
    "start_time": "2022-05-19T07:15:25.569Z"
   },
   {
    "duration": 13,
    "start_time": "2022-05-19T07:15:25.638Z"
   },
   {
    "duration": 19,
    "start_time": "2022-05-19T07:15:25.652Z"
   },
   {
    "duration": 10,
    "start_time": "2022-05-19T07:15:25.673Z"
   },
   {
    "duration": 16,
    "start_time": "2022-05-19T07:15:25.684Z"
   },
   {
    "duration": 5,
    "start_time": "2022-05-19T07:15:25.727Z"
   },
   {
    "duration": 8,
    "start_time": "2022-05-19T07:15:25.734Z"
   },
   {
    "duration": 24,
    "start_time": "2022-05-19T07:15:25.743Z"
   },
   {
    "duration": 30,
    "start_time": "2022-05-19T07:15:25.768Z"
   },
   {
    "duration": 32,
    "start_time": "2022-05-19T07:15:25.800Z"
   },
   {
    "duration": 8,
    "start_time": "2022-05-19T07:15:25.833Z"
   },
   {
    "duration": 25,
    "start_time": "2022-05-19T07:15:25.843Z"
   },
   {
    "duration": 12,
    "start_time": "2022-05-19T07:15:25.871Z"
   },
   {
    "duration": 10,
    "start_time": "2022-05-19T07:15:25.885Z"
   },
   {
    "duration": 41,
    "start_time": "2022-05-19T07:15:25.896Z"
   },
   {
    "duration": 6,
    "start_time": "2022-05-19T07:15:25.938Z"
   },
   {
    "duration": 13,
    "start_time": "2022-05-19T07:15:25.945Z"
   },
   {
    "duration": 18,
    "start_time": "2022-05-19T07:15:25.959Z"
   },
   {
    "duration": 13,
    "start_time": "2022-05-19T07:15:25.978Z"
   },
   {
    "duration": 39,
    "start_time": "2022-05-19T07:15:25.993Z"
   },
   {
    "duration": 19,
    "start_time": "2022-05-19T07:15:26.034Z"
   },
   {
    "duration": 20,
    "start_time": "2022-05-19T07:15:26.055Z"
   },
   {
    "duration": 52,
    "start_time": "2022-05-19T07:15:26.077Z"
   },
   {
    "duration": 75,
    "start_time": "2022-05-19T07:15:26.131Z"
   },
   {
    "duration": 48,
    "start_time": "2022-05-19T07:15:26.209Z"
   },
   {
    "duration": 9,
    "start_time": "2022-05-19T07:15:26.259Z"
   },
   {
    "duration": 14,
    "start_time": "2022-05-19T07:15:26.270Z"
   },
   {
    "duration": 43,
    "start_time": "2022-05-19T07:15:26.286Z"
   },
   {
    "duration": 32,
    "start_time": "2022-05-19T07:15:26.331Z"
   },
   {
    "duration": 7,
    "start_time": "2022-05-19T07:15:26.365Z"
   },
   {
    "duration": 21,
    "start_time": "2022-05-19T07:15:26.374Z"
   },
   {
    "duration": 43,
    "start_time": "2022-05-19T07:15:26.397Z"
   },
   {
    "duration": 157,
    "start_time": "2022-05-19T07:15:26.443Z"
   },
   {
    "duration": 29,
    "start_time": "2022-05-19T07:15:26.601Z"
   },
   {
    "duration": 18,
    "start_time": "2022-05-19T07:15:26.632Z"
   },
   {
    "duration": 168,
    "start_time": "2022-05-19T07:15:26.652Z"
   },
   {
    "duration": 16,
    "start_time": "2022-05-19T07:15:26.827Z"
   },
   {
    "duration": 153,
    "start_time": "2022-05-19T07:15:26.845Z"
   },
   {
    "duration": 16,
    "start_time": "2022-05-19T07:15:26.999Z"
   },
   {
    "duration": 151,
    "start_time": "2022-05-19T07:15:27.028Z"
   },
   {
    "duration": 429,
    "start_time": "2022-05-19T12:32:33.311Z"
   },
   {
    "duration": 111,
    "start_time": "2022-05-19T12:32:33.742Z"
   },
   {
    "duration": 27,
    "start_time": "2022-05-19T12:32:33.855Z"
   },
   {
    "duration": 21,
    "start_time": "2022-05-19T12:32:33.883Z"
   },
   {
    "duration": 10,
    "start_time": "2022-05-19T12:32:33.906Z"
   },
   {
    "duration": 13,
    "start_time": "2022-05-19T12:32:33.918Z"
   },
   {
    "duration": 5,
    "start_time": "2022-05-19T12:32:33.933Z"
   },
   {
    "duration": 28,
    "start_time": "2022-05-19T12:32:33.940Z"
   },
   {
    "duration": 19,
    "start_time": "2022-05-19T12:32:33.969Z"
   },
   {
    "duration": 33,
    "start_time": "2022-05-19T12:32:33.990Z"
   },
   {
    "duration": 7,
    "start_time": "2022-05-19T12:32:34.025Z"
   },
   {
    "duration": 6,
    "start_time": "2022-05-19T12:32:34.064Z"
   },
   {
    "duration": 25,
    "start_time": "2022-05-19T12:32:34.071Z"
   },
   {
    "duration": 13,
    "start_time": "2022-05-19T12:32:34.099Z"
   },
   {
    "duration": 11,
    "start_time": "2022-05-19T12:32:34.114Z"
   },
   {
    "duration": 20,
    "start_time": "2022-05-19T12:32:34.126Z"
   },
   {
    "duration": 14,
    "start_time": "2022-05-19T12:32:34.165Z"
   },
   {
    "duration": 11,
    "start_time": "2022-05-19T12:32:34.181Z"
   },
   {
    "duration": 6,
    "start_time": "2022-05-19T12:32:34.194Z"
   },
   {
    "duration": 12,
    "start_time": "2022-05-19T12:32:34.202Z"
   },
   {
    "duration": 19,
    "start_time": "2022-05-19T12:32:34.216Z"
   },
   {
    "duration": 33,
    "start_time": "2022-05-19T12:32:34.236Z"
   },
   {
    "duration": 24,
    "start_time": "2022-05-19T12:32:34.271Z"
   },
   {
    "duration": 18,
    "start_time": "2022-05-19T12:32:34.297Z"
   },
   {
    "duration": 119,
    "start_time": "2022-05-19T12:32:34.317Z"
   },
   {
    "duration": 44,
    "start_time": "2022-05-19T12:32:34.438Z"
   },
   {
    "duration": 9,
    "start_time": "2022-05-19T12:32:34.484Z"
   },
   {
    "duration": 9,
    "start_time": "2022-05-19T12:32:34.495Z"
   },
   {
    "duration": 18,
    "start_time": "2022-05-19T12:32:34.506Z"
   },
   {
    "duration": 50,
    "start_time": "2022-05-19T12:32:34.526Z"
   },
   {
    "duration": 7,
    "start_time": "2022-05-19T12:32:34.578Z"
   },
   {
    "duration": 30,
    "start_time": "2022-05-19T12:32:34.588Z"
   },
   {
    "duration": 29,
    "start_time": "2022-05-19T12:32:34.620Z"
   },
   {
    "duration": 658,
    "start_time": "2022-05-19T12:32:34.651Z"
   },
   {
    "duration": 27,
    "start_time": "2022-05-19T12:32:35.311Z"
   },
   {
    "duration": 40,
    "start_time": "2022-05-19T12:32:35.339Z"
   },
   {
    "duration": 169,
    "start_time": "2022-05-19T12:32:35.380Z"
   },
   {
    "duration": 25,
    "start_time": "2022-05-19T12:32:35.551Z"
   },
   {
    "duration": 169,
    "start_time": "2022-05-19T12:32:35.578Z"
   },
   {
    "duration": 24,
    "start_time": "2022-05-19T12:32:35.749Z"
   },
   {
    "duration": 166,
    "start_time": "2022-05-19T12:32:35.776Z"
   },
   {
    "duration": 17,
    "start_time": "2022-05-19T12:34:12.266Z"
   },
   {
    "duration": 15,
    "start_time": "2022-05-19T12:51:33.549Z"
   },
   {
    "duration": 18,
    "start_time": "2022-05-19T12:55:01.130Z"
   },
   {
    "duration": 16,
    "start_time": "2022-05-19T12:55:06.439Z"
   },
   {
    "duration": 17,
    "start_time": "2022-05-19T12:55:12.683Z"
   },
   {
    "duration": 60,
    "start_time": "2022-05-19T13:10:52.939Z"
   },
   {
    "duration": 461,
    "start_time": "2022-05-19T13:10:57.840Z"
   },
   {
    "duration": 102,
    "start_time": "2022-05-19T13:10:58.303Z"
   },
   {
    "duration": 23,
    "start_time": "2022-05-19T13:10:58.406Z"
   },
   {
    "duration": 22,
    "start_time": "2022-05-19T13:10:58.432Z"
   },
   {
    "duration": 22,
    "start_time": "2022-05-19T13:10:58.456Z"
   },
   {
    "duration": 18,
    "start_time": "2022-05-19T13:10:58.480Z"
   },
   {
    "duration": 12,
    "start_time": "2022-05-19T13:10:58.500Z"
   },
   {
    "duration": 6,
    "start_time": "2022-05-19T13:10:58.514Z"
   },
   {
    "duration": 23,
    "start_time": "2022-05-19T13:10:58.522Z"
   },
   {
    "duration": 35,
    "start_time": "2022-05-19T13:10:58.566Z"
   },
   {
    "duration": 7,
    "start_time": "2022-05-19T13:10:58.604Z"
   },
   {
    "duration": 8,
    "start_time": "2022-05-19T13:10:58.613Z"
   },
   {
    "duration": 53,
    "start_time": "2022-05-19T13:10:58.623Z"
   },
   {
    "duration": 14,
    "start_time": "2022-05-19T13:10:58.678Z"
   },
   {
    "duration": 8,
    "start_time": "2022-05-19T13:10:58.695Z"
   },
   {
    "duration": 26,
    "start_time": "2022-05-19T13:10:58.705Z"
   },
   {
    "duration": 6,
    "start_time": "2022-05-19T13:10:58.733Z"
   },
   {
    "duration": 8,
    "start_time": "2022-05-19T13:10:58.765Z"
   },
   {
    "duration": 10,
    "start_time": "2022-05-19T13:10:58.775Z"
   },
   {
    "duration": 14,
    "start_time": "2022-05-19T13:10:58.787Z"
   },
   {
    "duration": 17,
    "start_time": "2022-05-19T13:10:58.803Z"
   },
   {
    "duration": 55,
    "start_time": "2022-05-19T13:10:58.822Z"
   },
   {
    "duration": 27,
    "start_time": "2022-05-19T13:10:58.881Z"
   },
   {
    "duration": 23,
    "start_time": "2022-05-19T13:10:58.910Z"
   },
   {
    "duration": 137,
    "start_time": "2022-05-19T13:10:58.935Z"
   },
   {
    "duration": 51,
    "start_time": "2022-05-19T13:10:59.074Z"
   },
   {
    "duration": 12,
    "start_time": "2022-05-19T13:10:59.128Z"
   },
   {
    "duration": 12,
    "start_time": "2022-05-19T13:10:59.164Z"
   },
   {
    "duration": 22,
    "start_time": "2022-05-19T13:10:59.178Z"
   },
   {
    "duration": 19,
    "start_time": "2022-05-19T13:10:59.203Z"
   },
   {
    "duration": 8,
    "start_time": "2022-05-19T13:10:59.224Z"
   },
   {
    "duration": 41,
    "start_time": "2022-05-19T13:10:59.234Z"
   },
   {
    "duration": 15,
    "start_time": "2022-05-19T13:10:59.277Z"
   },
   {
    "duration": 447,
    "start_time": "2022-05-19T13:10:59.294Z"
   },
   {
    "duration": 71,
    "start_time": "2022-05-19T13:14:04.425Z"
   },
   {
    "duration": 632,
    "start_time": "2022-05-19T13:14:14.299Z"
   },
   {
    "duration": 159,
    "start_time": "2022-05-19T13:14:14.933Z"
   },
   {
    "duration": 31,
    "start_time": "2022-05-19T13:14:15.095Z"
   },
   {
    "duration": 18,
    "start_time": "2022-05-19T13:14:15.129Z"
   },
   {
    "duration": 35,
    "start_time": "2022-05-19T13:14:15.150Z"
   },
   {
    "duration": 13,
    "start_time": "2022-05-19T13:14:15.186Z"
   },
   {
    "duration": 10,
    "start_time": "2022-05-19T13:14:15.201Z"
   },
   {
    "duration": 8,
    "start_time": "2022-05-19T13:14:15.213Z"
   },
   {
    "duration": 24,
    "start_time": "2022-05-19T13:14:15.223Z"
   },
   {
    "duration": 68,
    "start_time": "2022-05-19T13:14:15.249Z"
   },
   {
    "duration": 8,
    "start_time": "2022-05-19T13:14:15.319Z"
   },
   {
    "duration": 9,
    "start_time": "2022-05-19T13:14:15.329Z"
   },
   {
    "duration": 40,
    "start_time": "2022-05-19T13:14:15.340Z"
   },
   {
    "duration": 14,
    "start_time": "2022-05-19T13:14:15.384Z"
   },
   {
    "duration": 7,
    "start_time": "2022-05-19T13:14:15.400Z"
   },
   {
    "duration": 16,
    "start_time": "2022-05-19T13:14:15.408Z"
   },
   {
    "duration": 6,
    "start_time": "2022-05-19T13:14:15.427Z"
   },
   {
    "duration": 61,
    "start_time": "2022-05-19T13:14:15.435Z"
   },
   {
    "duration": 8,
    "start_time": "2022-05-19T13:14:15.498Z"
   },
   {
    "duration": 15,
    "start_time": "2022-05-19T13:14:15.508Z"
   },
   {
    "duration": 18,
    "start_time": "2022-05-19T13:14:15.525Z"
   },
   {
    "duration": 35,
    "start_time": "2022-05-19T13:14:15.544Z"
   },
   {
    "duration": 25,
    "start_time": "2022-05-19T13:14:15.580Z"
   },
   {
    "duration": 22,
    "start_time": "2022-05-19T13:14:15.607Z"
   },
   {
    "duration": 122,
    "start_time": "2022-05-19T13:14:15.632Z"
   },
   {
    "duration": 51,
    "start_time": "2022-05-19T13:14:15.756Z"
   },
   {
    "duration": 22,
    "start_time": "2022-05-19T13:14:15.809Z"
   },
   {
    "duration": 64,
    "start_time": "2022-05-19T13:14:15.834Z"
   },
   {
    "duration": 23,
    "start_time": "2022-05-19T13:14:15.900Z"
   },
   {
    "duration": 28,
    "start_time": "2022-05-19T13:14:15.924Z"
   },
   {
    "duration": 27,
    "start_time": "2022-05-19T13:14:15.954Z"
   },
   {
    "duration": 29,
    "start_time": "2022-05-19T13:14:15.983Z"
   },
   {
    "duration": 43,
    "start_time": "2022-05-19T13:14:16.014Z"
   },
   {
    "duration": 530,
    "start_time": "2022-05-19T13:14:16.059Z"
   },
   {
    "duration": 42,
    "start_time": "2022-05-19T13:14:16.592Z"
   },
   {
    "duration": 0,
    "start_time": "2022-05-19T13:14:16.636Z"
   },
   {
    "duration": 0,
    "start_time": "2022-05-19T13:14:16.637Z"
   },
   {
    "duration": 0,
    "start_time": "2022-05-19T13:14:16.638Z"
   },
   {
    "duration": 0,
    "start_time": "2022-05-19T13:14:16.639Z"
   },
   {
    "duration": 0,
    "start_time": "2022-05-19T13:14:16.640Z"
   },
   {
    "duration": 0,
    "start_time": "2022-05-19T13:14:16.642Z"
   },
   {
    "duration": 14,
    "start_time": "2022-05-19T13:14:36.014Z"
   },
   {
    "duration": 16,
    "start_time": "2022-05-19T13:15:01.583Z"
   },
   {
    "duration": 77,
    "start_time": "2022-05-19T13:15:54.744Z"
   },
   {
    "duration": 443,
    "start_time": "2022-05-19T13:15:57.904Z"
   },
   {
    "duration": 158,
    "start_time": "2022-05-19T13:15:58.350Z"
   },
   {
    "duration": 23,
    "start_time": "2022-05-19T13:15:58.510Z"
   },
   {
    "duration": 18,
    "start_time": "2022-05-19T13:15:58.534Z"
   },
   {
    "duration": 23,
    "start_time": "2022-05-19T13:15:58.555Z"
   },
   {
    "duration": 17,
    "start_time": "2022-05-19T13:15:58.580Z"
   },
   {
    "duration": 13,
    "start_time": "2022-05-19T13:15:58.599Z"
   },
   {
    "duration": 9,
    "start_time": "2022-05-19T13:15:58.614Z"
   },
   {
    "duration": 49,
    "start_time": "2022-05-19T13:15:58.625Z"
   },
   {
    "duration": 36,
    "start_time": "2022-05-19T13:15:58.675Z"
   },
   {
    "duration": 8,
    "start_time": "2022-05-19T13:15:58.712Z"
   },
   {
    "duration": 7,
    "start_time": "2022-05-19T13:15:58.721Z"
   },
   {
    "duration": 52,
    "start_time": "2022-05-19T13:15:58.730Z"
   },
   {
    "duration": 14,
    "start_time": "2022-05-19T13:15:58.786Z"
   },
   {
    "duration": 5,
    "start_time": "2022-05-19T13:15:58.802Z"
   },
   {
    "duration": 17,
    "start_time": "2022-05-19T13:15:58.809Z"
   },
   {
    "duration": 5,
    "start_time": "2022-05-19T13:15:58.828Z"
   },
   {
    "duration": 34,
    "start_time": "2022-05-19T13:15:58.864Z"
   },
   {
    "duration": 21,
    "start_time": "2022-05-19T13:15:58.901Z"
   },
   {
    "duration": 24,
    "start_time": "2022-05-19T13:15:58.924Z"
   },
   {
    "duration": 28,
    "start_time": "2022-05-19T13:15:58.951Z"
   },
   {
    "duration": 44,
    "start_time": "2022-05-19T13:15:58.984Z"
   },
   {
    "duration": 32,
    "start_time": "2022-05-19T13:15:59.030Z"
   },
   {
    "duration": 30,
    "start_time": "2022-05-19T13:15:59.066Z"
   },
   {
    "duration": 121,
    "start_time": "2022-05-19T13:15:59.099Z"
   },
   {
    "duration": 32,
    "start_time": "2022-05-19T13:15:59.223Z"
   },
   {
    "duration": 17,
    "start_time": "2022-05-19T13:15:59.265Z"
   },
   {
    "duration": 22,
    "start_time": "2022-05-19T13:15:59.285Z"
   },
   {
    "duration": 13,
    "start_time": "2022-05-19T13:15:59.309Z"
   },
   {
    "duration": 26,
    "start_time": "2022-05-19T13:15:59.324Z"
   },
   {
    "duration": 26,
    "start_time": "2022-05-19T13:15:59.352Z"
   },
   {
    "duration": 23,
    "start_time": "2022-05-19T13:15:59.380Z"
   },
   {
    "duration": 20,
    "start_time": "2022-05-19T13:15:59.405Z"
   },
   {
    "duration": 539,
    "start_time": "2022-05-19T13:15:59.428Z"
   },
   {
    "duration": 453,
    "start_time": "2022-05-19T13:16:36.181Z"
   },
   {
    "duration": 116,
    "start_time": "2022-05-19T13:16:36.637Z"
   },
   {
    "duration": 28,
    "start_time": "2022-05-19T13:16:36.755Z"
   },
   {
    "duration": 17,
    "start_time": "2022-05-19T13:16:36.784Z"
   },
   {
    "duration": 10,
    "start_time": "2022-05-19T13:16:36.803Z"
   },
   {
    "duration": 10,
    "start_time": "2022-05-19T13:16:36.815Z"
   },
   {
    "duration": 6,
    "start_time": "2022-05-19T13:16:36.827Z"
   },
   {
    "duration": 13,
    "start_time": "2022-05-19T13:16:36.865Z"
   },
   {
    "duration": 20,
    "start_time": "2022-05-19T13:16:36.880Z"
   },
   {
    "duration": 33,
    "start_time": "2022-05-19T13:16:36.902Z"
   },
   {
    "duration": 29,
    "start_time": "2022-05-19T13:16:36.936Z"
   },
   {
    "duration": 9,
    "start_time": "2022-05-19T13:16:36.970Z"
   },
   {
    "duration": 22,
    "start_time": "2022-05-19T13:16:36.981Z"
   },
   {
    "duration": 14,
    "start_time": "2022-05-19T13:16:37.007Z"
   },
   {
    "duration": 5,
    "start_time": "2022-05-19T13:16:37.023Z"
   },
   {
    "duration": 47,
    "start_time": "2022-05-19T13:16:37.030Z"
   },
   {
    "duration": 7,
    "start_time": "2022-05-19T13:16:37.079Z"
   },
   {
    "duration": 8,
    "start_time": "2022-05-19T13:16:37.088Z"
   },
   {
    "duration": 7,
    "start_time": "2022-05-19T13:16:37.098Z"
   },
   {
    "duration": 12,
    "start_time": "2022-05-19T13:16:37.107Z"
   },
   {
    "duration": 46,
    "start_time": "2022-05-19T13:16:37.121Z"
   },
   {
    "duration": 23,
    "start_time": "2022-05-19T13:16:37.169Z"
   },
   {
    "duration": 20,
    "start_time": "2022-05-19T13:16:37.193Z"
   },
   {
    "duration": 16,
    "start_time": "2022-05-19T13:16:37.215Z"
   },
   {
    "duration": 110,
    "start_time": "2022-05-19T13:16:37.233Z"
   },
   {
    "duration": 54,
    "start_time": "2022-05-19T13:16:37.344Z"
   },
   {
    "duration": 11,
    "start_time": "2022-05-19T13:16:37.401Z"
   },
   {
    "duration": 20,
    "start_time": "2022-05-19T13:16:37.413Z"
   },
   {
    "duration": 13,
    "start_time": "2022-05-19T13:16:37.434Z"
   },
   {
    "duration": 30,
    "start_time": "2022-05-19T13:16:37.466Z"
   },
   {
    "duration": 10,
    "start_time": "2022-05-19T13:16:37.498Z"
   },
   {
    "duration": 20,
    "start_time": "2022-05-19T13:16:37.510Z"
   },
   {
    "duration": 36,
    "start_time": "2022-05-19T13:16:37.532Z"
   },
   {
    "duration": 467,
    "start_time": "2022-05-19T13:16:37.570Z"
   },
   {
    "duration": 72,
    "start_time": "2022-05-19T13:16:59.360Z"
   },
   {
    "duration": 499,
    "start_time": "2022-05-19T13:17:04.856Z"
   },
   {
    "duration": 130,
    "start_time": "2022-05-19T13:17:05.357Z"
   },
   {
    "duration": 23,
    "start_time": "2022-05-19T13:17:05.488Z"
   },
   {
    "duration": 18,
    "start_time": "2022-05-19T13:17:05.513Z"
   },
   {
    "duration": 29,
    "start_time": "2022-05-19T13:17:05.533Z"
   },
   {
    "duration": 42,
    "start_time": "2022-05-19T13:17:05.564Z"
   },
   {
    "duration": 9,
    "start_time": "2022-05-19T13:17:05.609Z"
   },
   {
    "duration": 17,
    "start_time": "2022-05-19T13:17:05.620Z"
   },
   {
    "duration": 45,
    "start_time": "2022-05-19T13:17:05.639Z"
   },
   {
    "duration": 64,
    "start_time": "2022-05-19T13:17:05.685Z"
   },
   {
    "duration": 8,
    "start_time": "2022-05-19T13:17:05.752Z"
   },
   {
    "duration": 31,
    "start_time": "2022-05-19T13:17:05.761Z"
   },
   {
    "duration": 43,
    "start_time": "2022-05-19T13:17:05.794Z"
   },
   {
    "duration": 14,
    "start_time": "2022-05-19T13:17:05.840Z"
   },
   {
    "duration": 38,
    "start_time": "2022-05-19T13:17:05.857Z"
   },
   {
    "duration": 27,
    "start_time": "2022-05-19T13:17:05.899Z"
   },
   {
    "duration": 9,
    "start_time": "2022-05-19T13:17:05.928Z"
   },
   {
    "duration": 25,
    "start_time": "2022-05-19T13:17:05.938Z"
   },
   {
    "duration": 30,
    "start_time": "2022-05-19T13:17:05.967Z"
   },
   {
    "duration": 22,
    "start_time": "2022-05-19T13:17:05.999Z"
   },
   {
    "duration": 27,
    "start_time": "2022-05-19T13:17:06.023Z"
   },
   {
    "duration": 53,
    "start_time": "2022-05-19T13:17:06.052Z"
   },
   {
    "duration": 29,
    "start_time": "2022-05-19T13:17:06.107Z"
   },
   {
    "duration": 46,
    "start_time": "2022-05-19T13:17:06.138Z"
   },
   {
    "duration": 94,
    "start_time": "2022-05-19T13:17:06.187Z"
   },
   {
    "duration": 48,
    "start_time": "2022-05-19T13:17:06.284Z"
   },
   {
    "duration": 10,
    "start_time": "2022-05-19T13:17:06.334Z"
   },
   {
    "duration": 48,
    "start_time": "2022-05-19T13:17:06.346Z"
   },
   {
    "duration": 40,
    "start_time": "2022-05-19T13:17:06.396Z"
   },
   {
    "duration": 49,
    "start_time": "2022-05-19T13:17:06.438Z"
   },
   {
    "duration": 40,
    "start_time": "2022-05-19T13:17:06.489Z"
   },
   {
    "duration": 41,
    "start_time": "2022-05-19T13:17:06.531Z"
   },
   {
    "duration": 31,
    "start_time": "2022-05-19T13:17:06.574Z"
   },
   {
    "duration": 554,
    "start_time": "2022-05-19T13:17:06.607Z"
   },
   {
    "duration": 61,
    "start_time": "2022-05-19T13:17:34.381Z"
   },
   {
    "duration": 448,
    "start_time": "2022-05-19T13:17:39.784Z"
   },
   {
    "duration": 121,
    "start_time": "2022-05-19T13:17:40.234Z"
   },
   {
    "duration": 31,
    "start_time": "2022-05-19T13:17:40.356Z"
   },
   {
    "duration": 28,
    "start_time": "2022-05-19T13:17:40.389Z"
   },
   {
    "duration": 11,
    "start_time": "2022-05-19T13:17:40.419Z"
   },
   {
    "duration": 36,
    "start_time": "2022-05-19T13:17:40.432Z"
   },
   {
    "duration": 8,
    "start_time": "2022-05-19T13:17:40.471Z"
   },
   {
    "duration": 16,
    "start_time": "2022-05-19T13:17:40.481Z"
   },
   {
    "duration": 27,
    "start_time": "2022-05-19T13:17:40.499Z"
   },
   {
    "duration": 72,
    "start_time": "2022-05-19T13:17:40.528Z"
   },
   {
    "duration": 11,
    "start_time": "2022-05-19T13:17:40.601Z"
   },
   {
    "duration": 10,
    "start_time": "2022-05-19T13:17:40.614Z"
   },
   {
    "duration": 31,
    "start_time": "2022-05-19T13:17:40.627Z"
   },
   {
    "duration": 23,
    "start_time": "2022-05-19T13:17:40.666Z"
   },
   {
    "duration": 5,
    "start_time": "2022-05-19T13:17:40.691Z"
   },
   {
    "duration": 16,
    "start_time": "2022-05-19T13:17:40.698Z"
   },
   {
    "duration": 7,
    "start_time": "2022-05-19T13:17:40.716Z"
   },
   {
    "duration": 11,
    "start_time": "2022-05-19T13:17:40.725Z"
   },
   {
    "duration": 37,
    "start_time": "2022-05-19T13:17:40.738Z"
   },
   {
    "duration": 19,
    "start_time": "2022-05-19T13:17:40.777Z"
   },
   {
    "duration": 41,
    "start_time": "2022-05-19T13:17:40.798Z"
   },
   {
    "duration": 39,
    "start_time": "2022-05-19T13:17:40.841Z"
   },
   {
    "duration": 30,
    "start_time": "2022-05-19T13:17:40.883Z"
   },
   {
    "duration": 26,
    "start_time": "2022-05-19T13:17:40.915Z"
   },
   {
    "duration": 112,
    "start_time": "2022-05-19T13:17:40.943Z"
   },
   {
    "duration": 59,
    "start_time": "2022-05-19T13:17:41.057Z"
   },
   {
    "duration": 12,
    "start_time": "2022-05-19T13:17:41.119Z"
   },
   {
    "duration": 40,
    "start_time": "2022-05-19T13:17:41.134Z"
   },
   {
    "duration": 15,
    "start_time": "2022-05-19T13:17:41.181Z"
   },
   {
    "duration": 32,
    "start_time": "2022-05-19T13:17:41.199Z"
   },
   {
    "duration": 9,
    "start_time": "2022-05-19T13:17:41.233Z"
   },
   {
    "duration": 40,
    "start_time": "2022-05-19T13:17:41.244Z"
   },
   {
    "duration": 19,
    "start_time": "2022-05-19T13:17:41.286Z"
   },
   {
    "duration": 497,
    "start_time": "2022-05-19T13:17:41.307Z"
   },
   {
    "duration": 465,
    "start_time": "2022-05-19T13:18:01.419Z"
   },
   {
    "duration": 130,
    "start_time": "2022-05-19T13:18:01.888Z"
   },
   {
    "duration": 24,
    "start_time": "2022-05-19T13:18:02.020Z"
   },
   {
    "duration": 36,
    "start_time": "2022-05-19T13:18:02.047Z"
   },
   {
    "duration": 18,
    "start_time": "2022-05-19T13:18:02.086Z"
   },
   {
    "duration": 24,
    "start_time": "2022-05-19T13:18:02.106Z"
   },
   {
    "duration": 17,
    "start_time": "2022-05-19T13:18:02.132Z"
   },
   {
    "duration": 10,
    "start_time": "2022-05-19T13:18:02.151Z"
   },
   {
    "duration": 33,
    "start_time": "2022-05-19T13:18:02.163Z"
   },
   {
    "duration": 33,
    "start_time": "2022-05-19T13:18:02.198Z"
   },
   {
    "duration": 7,
    "start_time": "2022-05-19T13:18:02.233Z"
   },
   {
    "duration": 39,
    "start_time": "2022-05-19T13:18:02.242Z"
   },
   {
    "duration": 23,
    "start_time": "2022-05-19T13:18:02.284Z"
   },
   {
    "duration": 15,
    "start_time": "2022-05-19T13:18:02.312Z"
   },
   {
    "duration": 24,
    "start_time": "2022-05-19T13:18:02.330Z"
   },
   {
    "duration": 46,
    "start_time": "2022-05-19T13:18:02.356Z"
   },
   {
    "duration": 11,
    "start_time": "2022-05-19T13:18:02.405Z"
   },
   {
    "duration": 18,
    "start_time": "2022-05-19T13:18:02.418Z"
   },
   {
    "duration": 15,
    "start_time": "2022-05-19T13:18:02.438Z"
   },
   {
    "duration": 37,
    "start_time": "2022-05-19T13:18:02.455Z"
   },
   {
    "duration": 37,
    "start_time": "2022-05-19T13:18:02.494Z"
   },
   {
    "duration": 21,
    "start_time": "2022-05-19T13:18:02.533Z"
   },
   {
    "duration": 33,
    "start_time": "2022-05-19T13:18:02.557Z"
   },
   {
    "duration": 51,
    "start_time": "2022-05-19T13:18:02.592Z"
   },
   {
    "duration": 105,
    "start_time": "2022-05-19T13:18:02.646Z"
   },
   {
    "duration": 45,
    "start_time": "2022-05-19T13:18:02.754Z"
   },
   {
    "duration": 22,
    "start_time": "2022-05-19T13:18:02.802Z"
   },
   {
    "duration": 22,
    "start_time": "2022-05-19T13:18:02.826Z"
   },
   {
    "duration": 31,
    "start_time": "2022-05-19T13:18:02.850Z"
   },
   {
    "duration": 25,
    "start_time": "2022-05-19T13:18:02.883Z"
   },
   {
    "duration": 10,
    "start_time": "2022-05-19T13:18:02.911Z"
   },
   {
    "duration": 26,
    "start_time": "2022-05-19T13:18:02.923Z"
   },
   {
    "duration": 33,
    "start_time": "2022-05-19T13:18:02.951Z"
   },
   {
    "duration": 544,
    "start_time": "2022-05-19T13:18:02.987Z"
   },
   {
    "duration": 14,
    "start_time": "2022-05-19T13:20:05.350Z"
   },
   {
    "duration": 72,
    "start_time": "2022-05-19T13:20:08.587Z"
   },
   {
    "duration": 594,
    "start_time": "2022-05-19T13:20:12.576Z"
   },
   {
    "duration": 109,
    "start_time": "2022-05-19T13:20:13.179Z"
   },
   {
    "duration": 29,
    "start_time": "2022-05-19T13:20:13.290Z"
   },
   {
    "duration": 16,
    "start_time": "2022-05-19T13:20:13.321Z"
   },
   {
    "duration": 26,
    "start_time": "2022-05-19T13:20:13.340Z"
   },
   {
    "duration": 19,
    "start_time": "2022-05-19T13:20:13.371Z"
   },
   {
    "duration": 5,
    "start_time": "2022-05-19T13:20:13.392Z"
   },
   {
    "duration": 11,
    "start_time": "2022-05-19T13:20:13.399Z"
   },
   {
    "duration": 19,
    "start_time": "2022-05-19T13:20:13.411Z"
   },
   {
    "duration": 59,
    "start_time": "2022-05-19T13:20:13.431Z"
   },
   {
    "duration": 8,
    "start_time": "2022-05-19T13:20:13.492Z"
   },
   {
    "duration": 7,
    "start_time": "2022-05-19T13:20:13.502Z"
   },
   {
    "duration": 22,
    "start_time": "2022-05-19T13:20:13.511Z"
   },
   {
    "duration": 40,
    "start_time": "2022-05-19T13:20:13.536Z"
   },
   {
    "duration": 11,
    "start_time": "2022-05-19T13:20:13.578Z"
   },
   {
    "duration": 23,
    "start_time": "2022-05-19T13:20:13.591Z"
   },
   {
    "duration": 19,
    "start_time": "2022-05-19T13:20:13.616Z"
   },
   {
    "duration": 26,
    "start_time": "2022-05-19T13:20:13.637Z"
   },
   {
    "duration": 12,
    "start_time": "2022-05-19T13:20:13.669Z"
   },
   {
    "duration": 20,
    "start_time": "2022-05-19T13:20:13.683Z"
   },
   {
    "duration": 19,
    "start_time": "2022-05-19T13:20:13.704Z"
   },
   {
    "duration": 41,
    "start_time": "2022-05-19T13:20:13.725Z"
   },
   {
    "duration": 29,
    "start_time": "2022-05-19T13:20:13.768Z"
   },
   {
    "duration": 24,
    "start_time": "2022-05-19T13:20:13.800Z"
   },
   {
    "duration": 118,
    "start_time": "2022-05-19T13:20:13.826Z"
   },
   {
    "duration": 46,
    "start_time": "2022-05-19T13:20:13.946Z"
   },
   {
    "duration": 9,
    "start_time": "2022-05-19T13:20:13.993Z"
   },
   {
    "duration": 14,
    "start_time": "2022-05-19T13:20:14.003Z"
   },
   {
    "duration": 8,
    "start_time": "2022-05-19T13:20:14.018Z"
   },
   {
    "duration": 45,
    "start_time": "2022-05-19T13:20:14.028Z"
   },
   {
    "duration": 8,
    "start_time": "2022-05-19T13:20:14.075Z"
   },
   {
    "duration": 25,
    "start_time": "2022-05-19T13:20:14.085Z"
   },
   {
    "duration": 22,
    "start_time": "2022-05-19T13:20:14.112Z"
   },
   {
    "duration": 494,
    "start_time": "2022-05-19T13:20:14.136Z"
   },
   {
    "duration": 113,
    "start_time": "2022-05-19T13:21:33.687Z"
   },
   {
    "duration": 506,
    "start_time": "2022-05-19T13:21:39.886Z"
   },
   {
    "duration": 149,
    "start_time": "2022-05-19T13:21:40.397Z"
   },
   {
    "duration": 49,
    "start_time": "2022-05-19T13:21:40.548Z"
   },
   {
    "duration": 20,
    "start_time": "2022-05-19T13:21:40.599Z"
   },
   {
    "duration": 11,
    "start_time": "2022-05-19T13:21:40.622Z"
   },
   {
    "duration": 24,
    "start_time": "2022-05-19T13:21:40.635Z"
   },
   {
    "duration": 33,
    "start_time": "2022-05-19T13:21:40.661Z"
   },
   {
    "duration": 7,
    "start_time": "2022-05-19T13:21:40.697Z"
   },
   {
    "duration": 22,
    "start_time": "2022-05-19T13:21:40.706Z"
   },
   {
    "duration": 63,
    "start_time": "2022-05-19T13:21:40.730Z"
   },
   {
    "duration": 8,
    "start_time": "2022-05-19T13:21:40.795Z"
   },
   {
    "duration": 10,
    "start_time": "2022-05-19T13:21:40.804Z"
   },
   {
    "duration": 52,
    "start_time": "2022-05-19T13:21:40.816Z"
   },
   {
    "duration": 19,
    "start_time": "2022-05-19T13:21:40.875Z"
   },
   {
    "duration": 10,
    "start_time": "2022-05-19T13:21:40.896Z"
   },
   {
    "duration": 23,
    "start_time": "2022-05-19T13:21:40.907Z"
   },
   {
    "duration": 9,
    "start_time": "2022-05-19T13:21:40.932Z"
   },
   {
    "duration": 16,
    "start_time": "2022-05-19T13:21:40.967Z"
   },
   {
    "duration": 16,
    "start_time": "2022-05-19T13:21:40.985Z"
   },
   {
    "duration": 18,
    "start_time": "2022-05-19T13:21:41.003Z"
   },
   {
    "duration": 22,
    "start_time": "2022-05-19T13:21:41.023Z"
   },
   {
    "duration": 37,
    "start_time": "2022-05-19T13:21:41.065Z"
   },
   {
    "duration": 32,
    "start_time": "2022-05-19T13:21:41.104Z"
   },
   {
    "duration": 62,
    "start_time": "2022-05-19T13:21:41.139Z"
   },
   {
    "duration": 108,
    "start_time": "2022-05-19T13:21:41.205Z"
   },
   {
    "duration": 34,
    "start_time": "2022-05-19T13:21:41.315Z"
   },
   {
    "duration": 24,
    "start_time": "2022-05-19T13:21:41.351Z"
   },
   {
    "duration": 56,
    "start_time": "2022-05-19T13:21:41.376Z"
   },
   {
    "duration": 17,
    "start_time": "2022-05-19T13:21:41.435Z"
   },
   {
    "duration": 34,
    "start_time": "2022-05-19T13:21:41.454Z"
   },
   {
    "duration": 15,
    "start_time": "2022-05-19T13:21:41.491Z"
   },
   {
    "duration": 28,
    "start_time": "2022-05-19T13:21:41.508Z"
   },
   {
    "duration": 37,
    "start_time": "2022-05-19T13:21:41.538Z"
   },
   {
    "duration": 629,
    "start_time": "2022-05-19T13:21:41.578Z"
   },
   {
    "duration": 14,
    "start_time": "2022-05-19T13:21:42.209Z"
   },
   {
    "duration": 87,
    "start_time": "2022-05-19T13:21:42.225Z"
   },
   {
    "duration": 0,
    "start_time": "2022-05-19T13:21:42.315Z"
   },
   {
    "duration": 0,
    "start_time": "2022-05-19T13:21:42.316Z"
   },
   {
    "duration": 0,
    "start_time": "2022-05-19T13:21:42.318Z"
   },
   {
    "duration": 0,
    "start_time": "2022-05-19T13:21:42.319Z"
   },
   {
    "duration": 0,
    "start_time": "2022-05-19T13:21:42.320Z"
   },
   {
    "duration": 6,
    "start_time": "2022-05-19T13:22:26.320Z"
   },
   {
    "duration": 19,
    "start_time": "2022-05-19T13:22:45.858Z"
   },
   {
    "duration": 8,
    "start_time": "2022-05-19T13:22:51.561Z"
   },
   {
    "duration": 7,
    "start_time": "2022-05-19T13:22:55.251Z"
   },
   {
    "duration": 3,
    "start_time": "2022-05-19T13:26:43.951Z"
   },
   {
    "duration": 87,
    "start_time": "2022-05-19T13:26:43.957Z"
   },
   {
    "duration": 14,
    "start_time": "2022-05-19T13:26:44.046Z"
   },
   {
    "duration": 41,
    "start_time": "2022-05-19T13:26:44.064Z"
   },
   {
    "duration": 13,
    "start_time": "2022-05-19T13:26:44.108Z"
   },
   {
    "duration": 12,
    "start_time": "2022-05-19T13:26:44.123Z"
   },
   {
    "duration": 31,
    "start_time": "2022-05-19T13:26:44.137Z"
   },
   {
    "duration": 5,
    "start_time": "2022-05-19T13:26:44.170Z"
   },
   {
    "duration": 30,
    "start_time": "2022-05-19T13:26:44.177Z"
   },
   {
    "duration": 34,
    "start_time": "2022-05-19T13:26:44.209Z"
   },
   {
    "duration": 36,
    "start_time": "2022-05-19T13:26:44.245Z"
   },
   {
    "duration": 12,
    "start_time": "2022-05-19T13:26:44.284Z"
   },
   {
    "duration": 21,
    "start_time": "2022-05-19T13:26:44.300Z"
   },
   {
    "duration": 15,
    "start_time": "2022-05-19T13:26:44.323Z"
   },
   {
    "duration": 30,
    "start_time": "2022-05-19T13:26:44.340Z"
   },
   {
    "duration": 21,
    "start_time": "2022-05-19T13:26:44.372Z"
   },
   {
    "duration": 7,
    "start_time": "2022-05-19T13:26:44.396Z"
   },
   {
    "duration": 15,
    "start_time": "2022-05-19T13:26:44.406Z"
   },
   {
    "duration": 6,
    "start_time": "2022-05-19T13:26:44.424Z"
   },
   {
    "duration": 51,
    "start_time": "2022-05-19T13:26:44.432Z"
   },
   {
    "duration": 20,
    "start_time": "2022-05-19T13:26:44.487Z"
   },
   {
    "duration": 24,
    "start_time": "2022-05-19T13:26:44.510Z"
   },
   {
    "duration": 46,
    "start_time": "2022-05-19T13:26:44.536Z"
   },
   {
    "duration": 30,
    "start_time": "2022-05-19T13:26:44.585Z"
   },
   {
    "duration": 119,
    "start_time": "2022-05-19T13:26:44.617Z"
   },
   {
    "duration": 57,
    "start_time": "2022-05-19T13:26:44.738Z"
   },
   {
    "duration": 9,
    "start_time": "2022-05-19T13:26:44.796Z"
   },
   {
    "duration": 12,
    "start_time": "2022-05-19T13:26:44.807Z"
   },
   {
    "duration": 8,
    "start_time": "2022-05-19T13:26:44.821Z"
   },
   {
    "duration": 54,
    "start_time": "2022-05-19T13:26:44.830Z"
   },
   {
    "duration": 8,
    "start_time": "2022-05-19T13:26:44.887Z"
   },
   {
    "duration": 18,
    "start_time": "2022-05-19T13:26:44.897Z"
   },
   {
    "duration": 25,
    "start_time": "2022-05-19T13:26:44.916Z"
   },
   {
    "duration": 183,
    "start_time": "2022-05-19T13:26:44.943Z"
   },
   {
    "duration": 8,
    "start_time": "2022-05-19T13:26:45.128Z"
   },
   {
    "duration": 30,
    "start_time": "2022-05-19T13:26:45.138Z"
   },
   {
    "duration": 70,
    "start_time": "2022-05-19T13:27:04.259Z"
   },
   {
    "duration": 487,
    "start_time": "2022-05-19T13:27:08.443Z"
   },
   {
    "duration": 157,
    "start_time": "2022-05-19T13:27:08.933Z"
   },
   {
    "duration": 36,
    "start_time": "2022-05-19T13:27:09.093Z"
   },
   {
    "duration": 22,
    "start_time": "2022-05-19T13:27:09.131Z"
   },
   {
    "duration": 31,
    "start_time": "2022-05-19T13:27:09.157Z"
   },
   {
    "duration": 25,
    "start_time": "2022-05-19T13:27:09.194Z"
   },
   {
    "duration": 18,
    "start_time": "2022-05-19T13:27:09.221Z"
   },
   {
    "duration": 26,
    "start_time": "2022-05-19T13:27:09.241Z"
   },
   {
    "duration": 50,
    "start_time": "2022-05-19T13:27:09.269Z"
   },
   {
    "duration": 63,
    "start_time": "2022-05-19T13:27:09.322Z"
   },
   {
    "duration": 7,
    "start_time": "2022-05-19T13:27:09.386Z"
   },
   {
    "duration": 15,
    "start_time": "2022-05-19T13:27:09.395Z"
   },
   {
    "duration": 38,
    "start_time": "2022-05-19T13:27:09.412Z"
   },
   {
    "duration": 31,
    "start_time": "2022-05-19T13:27:09.455Z"
   },
   {
    "duration": 10,
    "start_time": "2022-05-19T13:27:09.488Z"
   },
   {
    "duration": 19,
    "start_time": "2022-05-19T13:27:09.500Z"
   },
   {
    "duration": 8,
    "start_time": "2022-05-19T13:27:09.521Z"
   },
   {
    "duration": 20,
    "start_time": "2022-05-19T13:27:09.531Z"
   },
   {
    "duration": 21,
    "start_time": "2022-05-19T13:27:09.553Z"
   },
   {
    "duration": 25,
    "start_time": "2022-05-19T13:27:09.576Z"
   },
   {
    "duration": 23,
    "start_time": "2022-05-19T13:27:09.604Z"
   },
   {
    "duration": 31,
    "start_time": "2022-05-19T13:27:09.629Z"
   },
   {
    "duration": 28,
    "start_time": "2022-05-19T13:27:09.662Z"
   },
   {
    "duration": 24,
    "start_time": "2022-05-19T13:27:09.692Z"
   },
   {
    "duration": 105,
    "start_time": "2022-05-19T13:27:09.718Z"
   },
   {
    "duration": 43,
    "start_time": "2022-05-19T13:27:09.825Z"
   },
   {
    "duration": 10,
    "start_time": "2022-05-19T13:27:09.877Z"
   },
   {
    "duration": 9,
    "start_time": "2022-05-19T13:27:09.889Z"
   },
   {
    "duration": 9,
    "start_time": "2022-05-19T13:27:09.900Z"
   },
   {
    "duration": 20,
    "start_time": "2022-05-19T13:27:09.911Z"
   },
   {
    "duration": 37,
    "start_time": "2022-05-19T13:27:09.933Z"
   },
   {
    "duration": 24,
    "start_time": "2022-05-19T13:27:09.976Z"
   },
   {
    "duration": 15,
    "start_time": "2022-05-19T13:27:10.002Z"
   },
   {
    "duration": 507,
    "start_time": "2022-05-19T13:27:10.019Z"
   },
   {
    "duration": 8,
    "start_time": "2022-05-19T13:27:10.528Z"
   },
   {
    "duration": 22,
    "start_time": "2022-05-19T13:27:10.537Z"
   },
   {
    "duration": 67,
    "start_time": "2022-05-19T13:27:10.568Z"
   },
   {
    "duration": 0,
    "start_time": "2022-05-19T13:27:10.638Z"
   },
   {
    "duration": 0,
    "start_time": "2022-05-19T13:27:10.639Z"
   },
   {
    "duration": 0,
    "start_time": "2022-05-19T13:27:10.640Z"
   },
   {
    "duration": 0,
    "start_time": "2022-05-19T13:27:10.642Z"
   },
   {
    "duration": 0,
    "start_time": "2022-05-19T13:27:10.642Z"
   },
   {
    "duration": 0,
    "start_time": "2022-05-19T13:27:10.644Z"
   },
   {
    "duration": 3,
    "start_time": "2022-05-19T13:27:44.782Z"
   },
   {
    "duration": 98,
    "start_time": "2022-05-19T13:27:44.788Z"
   },
   {
    "duration": 15,
    "start_time": "2022-05-19T13:27:44.889Z"
   },
   {
    "duration": 21,
    "start_time": "2022-05-19T13:27:44.905Z"
   },
   {
    "duration": 43,
    "start_time": "2022-05-19T13:27:44.929Z"
   },
   {
    "duration": 20,
    "start_time": "2022-05-19T13:27:44.984Z"
   },
   {
    "duration": 17,
    "start_time": "2022-05-19T13:27:45.006Z"
   },
   {
    "duration": 17,
    "start_time": "2022-05-19T13:27:45.025Z"
   },
   {
    "duration": 32,
    "start_time": "2022-05-19T13:27:45.044Z"
   },
   {
    "duration": 44,
    "start_time": "2022-05-19T13:27:45.078Z"
   },
   {
    "duration": 7,
    "start_time": "2022-05-19T13:27:45.124Z"
   },
   {
    "duration": 15,
    "start_time": "2022-05-19T13:27:45.133Z"
   },
   {
    "duration": 40,
    "start_time": "2022-05-19T13:27:45.150Z"
   },
   {
    "duration": 23,
    "start_time": "2022-05-19T13:27:45.195Z"
   },
   {
    "duration": 8,
    "start_time": "2022-05-19T13:27:45.220Z"
   },
   {
    "duration": 21,
    "start_time": "2022-05-19T13:27:45.230Z"
   },
   {
    "duration": 24,
    "start_time": "2022-05-19T13:27:45.253Z"
   },
   {
    "duration": 17,
    "start_time": "2022-05-19T13:27:45.282Z"
   },
   {
    "duration": 8,
    "start_time": "2022-05-19T13:27:45.301Z"
   },
   {
    "duration": 13,
    "start_time": "2022-05-19T13:27:45.311Z"
   },
   {
    "duration": 40,
    "start_time": "2022-05-19T13:27:45.326Z"
   },
   {
    "duration": 24,
    "start_time": "2022-05-19T13:27:45.373Z"
   },
   {
    "duration": 23,
    "start_time": "2022-05-19T13:27:45.399Z"
   },
   {
    "duration": 20,
    "start_time": "2022-05-19T13:27:45.424Z"
   },
   {
    "duration": 121,
    "start_time": "2022-05-19T13:27:45.446Z"
   },
   {
    "duration": 39,
    "start_time": "2022-05-19T13:27:45.569Z"
   },
   {
    "duration": 9,
    "start_time": "2022-05-19T13:27:45.610Z"
   },
   {
    "duration": 13,
    "start_time": "2022-05-19T13:27:45.621Z"
   },
   {
    "duration": 45,
    "start_time": "2022-05-19T13:27:45.636Z"
   },
   {
    "duration": 22,
    "start_time": "2022-05-19T13:27:45.683Z"
   },
   {
    "duration": 17,
    "start_time": "2022-05-19T13:27:45.706Z"
   },
   {
    "duration": 31,
    "start_time": "2022-05-19T13:27:45.724Z"
   },
   {
    "duration": 30,
    "start_time": "2022-05-19T13:27:45.757Z"
   },
   {
    "duration": 187,
    "start_time": "2022-05-19T13:27:45.790Z"
   },
   {
    "duration": 8,
    "start_time": "2022-05-19T13:27:45.979Z"
   },
   {
    "duration": 8,
    "start_time": "2022-05-19T13:27:45.989Z"
   },
   {
    "duration": 15,
    "start_time": "2022-05-19T13:27:46.000Z"
   },
   {
    "duration": 0,
    "start_time": "2022-05-19T13:27:46.018Z"
   },
   {
    "duration": 0,
    "start_time": "2022-05-19T13:27:46.019Z"
   },
   {
    "duration": 0,
    "start_time": "2022-05-19T13:27:46.020Z"
   },
   {
    "duration": 0,
    "start_time": "2022-05-19T13:27:46.022Z"
   },
   {
    "duration": 0,
    "start_time": "2022-05-19T13:27:46.023Z"
   },
   {
    "duration": 0,
    "start_time": "2022-05-19T13:27:46.026Z"
   },
   {
    "duration": 5,
    "start_time": "2022-05-19T13:28:17.631Z"
   },
   {
    "duration": 10,
    "start_time": "2022-05-19T13:28:33.883Z"
   },
   {
    "duration": 5,
    "start_time": "2022-05-19T13:28:38.684Z"
   },
   {
    "duration": 2,
    "start_time": "2022-05-19T13:29:38.313Z"
   },
   {
    "duration": 78,
    "start_time": "2022-05-19T13:29:38.317Z"
   },
   {
    "duration": 15,
    "start_time": "2022-05-19T13:29:38.396Z"
   },
   {
    "duration": 19,
    "start_time": "2022-05-19T13:29:38.412Z"
   },
   {
    "duration": 51,
    "start_time": "2022-05-19T13:29:38.433Z"
   },
   {
    "duration": 12,
    "start_time": "2022-05-19T13:29:38.488Z"
   },
   {
    "duration": 10,
    "start_time": "2022-05-19T13:29:38.502Z"
   },
   {
    "duration": 6,
    "start_time": "2022-05-19T13:29:38.513Z"
   },
   {
    "duration": 46,
    "start_time": "2022-05-19T13:29:38.520Z"
   },
   {
    "duration": 38,
    "start_time": "2022-05-19T13:29:38.576Z"
   },
   {
    "duration": 7,
    "start_time": "2022-05-19T13:29:38.619Z"
   },
   {
    "duration": 12,
    "start_time": "2022-05-19T13:29:38.628Z"
   },
   {
    "duration": 45,
    "start_time": "2022-05-19T13:29:38.642Z"
   },
   {
    "duration": 15,
    "start_time": "2022-05-19T13:29:38.689Z"
   },
   {
    "duration": 9,
    "start_time": "2022-05-19T13:29:38.706Z"
   },
   {
    "duration": 17,
    "start_time": "2022-05-19T13:29:38.717Z"
   },
   {
    "duration": 45,
    "start_time": "2022-05-19T13:29:38.736Z"
   },
   {
    "duration": 9,
    "start_time": "2022-05-19T13:29:38.783Z"
   },
   {
    "duration": 8,
    "start_time": "2022-05-19T13:29:38.794Z"
   },
   {
    "duration": 15,
    "start_time": "2022-05-19T13:29:38.803Z"
   },
   {
    "duration": 14,
    "start_time": "2022-05-19T13:29:38.819Z"
   },
   {
    "duration": 53,
    "start_time": "2022-05-19T13:29:38.835Z"
   },
   {
    "duration": 31,
    "start_time": "2022-05-19T13:29:38.890Z"
   },
   {
    "duration": 27,
    "start_time": "2022-05-19T13:29:38.924Z"
   },
   {
    "duration": 146,
    "start_time": "2022-05-19T13:29:38.955Z"
   },
   {
    "duration": 43,
    "start_time": "2022-05-19T13:29:39.104Z"
   },
   {
    "duration": 31,
    "start_time": "2022-05-19T13:29:39.149Z"
   },
   {
    "duration": 28,
    "start_time": "2022-05-19T13:29:39.183Z"
   },
   {
    "duration": 9,
    "start_time": "2022-05-19T13:29:39.216Z"
   },
   {
    "duration": 53,
    "start_time": "2022-05-19T13:29:39.227Z"
   },
   {
    "duration": 13,
    "start_time": "2022-05-19T13:29:39.284Z"
   },
   {
    "duration": 27,
    "start_time": "2022-05-19T13:29:39.299Z"
   },
   {
    "duration": 16,
    "start_time": "2022-05-19T13:29:39.327Z"
   },
   {
    "duration": 162,
    "start_time": "2022-05-19T13:29:39.346Z"
   },
   {
    "duration": 8,
    "start_time": "2022-05-19T13:29:39.510Z"
   },
   {
    "duration": 10,
    "start_time": "2022-05-19T13:29:39.519Z"
   },
   {
    "duration": 11,
    "start_time": "2022-05-19T13:29:39.531Z"
   },
   {
    "duration": 41,
    "start_time": "2022-05-19T13:29:39.544Z"
   },
   {
    "duration": 20,
    "start_time": "2022-05-19T13:29:39.587Z"
   },
   {
    "duration": 0,
    "start_time": "2022-05-19T13:29:39.608Z"
   },
   {
    "duration": 0,
    "start_time": "2022-05-19T13:29:39.609Z"
   },
   {
    "duration": 0,
    "start_time": "2022-05-19T13:29:39.611Z"
   },
   {
    "duration": 0,
    "start_time": "2022-05-19T13:29:39.612Z"
   },
   {
    "duration": 0,
    "start_time": "2022-05-19T13:29:39.613Z"
   },
   {
    "duration": 0,
    "start_time": "2022-05-19T13:29:39.615Z"
   },
   {
    "duration": 4,
    "start_time": "2022-05-19T13:30:38.272Z"
   },
   {
    "duration": 119,
    "start_time": "2022-05-19T13:30:38.279Z"
   },
   {
    "duration": 14,
    "start_time": "2022-05-19T13:30:38.400Z"
   },
   {
    "duration": 29,
    "start_time": "2022-05-19T13:30:38.416Z"
   },
   {
    "duration": 37,
    "start_time": "2022-05-19T13:30:38.448Z"
   },
   {
    "duration": 27,
    "start_time": "2022-05-19T13:30:38.487Z"
   },
   {
    "duration": 17,
    "start_time": "2022-05-19T13:30:38.516Z"
   },
   {
    "duration": 18,
    "start_time": "2022-05-19T13:30:38.535Z"
   },
   {
    "duration": 29,
    "start_time": "2022-05-19T13:30:38.555Z"
   },
   {
    "duration": 39,
    "start_time": "2022-05-19T13:30:38.586Z"
   },
   {
    "duration": 7,
    "start_time": "2022-05-19T13:30:38.628Z"
   },
   {
    "duration": 60,
    "start_time": "2022-05-19T13:30:38.636Z"
   },
   {
    "duration": 35,
    "start_time": "2022-05-19T13:30:38.699Z"
   },
   {
    "duration": 32,
    "start_time": "2022-05-19T13:30:38.736Z"
   },
   {
    "duration": 16,
    "start_time": "2022-05-19T13:30:38.776Z"
   },
   {
    "duration": 31,
    "start_time": "2022-05-19T13:30:38.793Z"
   },
   {
    "duration": 13,
    "start_time": "2022-05-19T13:30:38.826Z"
   },
   {
    "duration": 32,
    "start_time": "2022-05-19T13:30:38.841Z"
   },
   {
    "duration": 24,
    "start_time": "2022-05-19T13:30:38.879Z"
   },
   {
    "duration": 19,
    "start_time": "2022-05-19T13:30:38.905Z"
   },
   {
    "duration": 31,
    "start_time": "2022-05-19T13:30:38.926Z"
   },
   {
    "duration": 25,
    "start_time": "2022-05-19T13:30:38.960Z"
   },
   {
    "duration": 60,
    "start_time": "2022-05-19T13:30:38.987Z"
   },
   {
    "duration": 35,
    "start_time": "2022-05-19T13:30:39.049Z"
   },
   {
    "duration": 110,
    "start_time": "2022-05-19T13:30:39.086Z"
   },
   {
    "duration": 50,
    "start_time": "2022-05-19T13:30:39.198Z"
   },
   {
    "duration": 28,
    "start_time": "2022-05-19T13:30:39.250Z"
   },
   {
    "duration": 26,
    "start_time": "2022-05-19T13:30:39.283Z"
   },
   {
    "duration": 21,
    "start_time": "2022-05-19T13:30:39.314Z"
   },
   {
    "duration": 26,
    "start_time": "2022-05-19T13:30:39.338Z"
   },
   {
    "duration": 14,
    "start_time": "2022-05-19T13:30:39.366Z"
   },
   {
    "duration": 28,
    "start_time": "2022-05-19T13:30:39.385Z"
   },
   {
    "duration": 23,
    "start_time": "2022-05-19T13:30:39.414Z"
   },
   {
    "duration": 165,
    "start_time": "2022-05-19T13:30:39.439Z"
   },
   {
    "duration": 6,
    "start_time": "2022-05-19T13:30:39.606Z"
   },
   {
    "duration": 7,
    "start_time": "2022-05-19T13:30:39.614Z"
   },
   {
    "duration": 9,
    "start_time": "2022-05-19T13:30:39.623Z"
   },
   {
    "duration": 9,
    "start_time": "2022-05-19T13:30:39.633Z"
   },
   {
    "duration": 25,
    "start_time": "2022-05-19T13:30:39.666Z"
   },
   {
    "duration": 0,
    "start_time": "2022-05-19T13:30:39.693Z"
   },
   {
    "duration": 0,
    "start_time": "2022-05-19T13:30:39.695Z"
   },
   {
    "duration": 0,
    "start_time": "2022-05-19T13:30:39.697Z"
   },
   {
    "duration": 0,
    "start_time": "2022-05-19T13:30:39.699Z"
   },
   {
    "duration": 0,
    "start_time": "2022-05-19T13:30:39.700Z"
   },
   {
    "duration": 0,
    "start_time": "2022-05-19T13:30:39.702Z"
   },
   {
    "duration": 68,
    "start_time": "2022-05-19T13:34:41.429Z"
   },
   {
    "duration": 630,
    "start_time": "2022-05-19T13:34:45.052Z"
   },
   {
    "duration": 133,
    "start_time": "2022-05-19T13:34:45.689Z"
   },
   {
    "duration": 38,
    "start_time": "2022-05-19T13:34:45.824Z"
   },
   {
    "duration": 33,
    "start_time": "2022-05-19T13:34:45.865Z"
   },
   {
    "duration": 21,
    "start_time": "2022-05-19T13:34:45.901Z"
   },
   {
    "duration": 12,
    "start_time": "2022-05-19T13:34:45.924Z"
   },
   {
    "duration": 31,
    "start_time": "2022-05-19T13:34:45.938Z"
   },
   {
    "duration": 11,
    "start_time": "2022-05-19T13:34:45.971Z"
   },
   {
    "duration": 29,
    "start_time": "2022-05-19T13:34:45.984Z"
   },
   {
    "duration": 71,
    "start_time": "2022-05-19T13:34:46.017Z"
   },
   {
    "duration": 8,
    "start_time": "2022-05-19T13:34:46.089Z"
   },
   {
    "duration": 9,
    "start_time": "2022-05-19T13:34:46.099Z"
   },
   {
    "duration": 35,
    "start_time": "2022-05-19T13:34:46.110Z"
   },
   {
    "duration": 27,
    "start_time": "2022-05-19T13:34:46.165Z"
   },
   {
    "duration": 6,
    "start_time": "2022-05-19T13:34:46.194Z"
   },
   {
    "duration": 17,
    "start_time": "2022-05-19T13:34:46.202Z"
   },
   {
    "duration": 8,
    "start_time": "2022-05-19T13:34:46.222Z"
   },
   {
    "duration": 45,
    "start_time": "2022-05-19T13:34:46.232Z"
   },
   {
    "duration": 9,
    "start_time": "2022-05-19T13:34:46.279Z"
   },
   {
    "duration": 14,
    "start_time": "2022-05-19T13:34:46.290Z"
   },
   {
    "duration": 15,
    "start_time": "2022-05-19T13:34:46.306Z"
   },
   {
    "duration": 19,
    "start_time": "2022-05-19T13:34:46.323Z"
   },
   {
    "duration": 48,
    "start_time": "2022-05-19T13:34:46.344Z"
   },
   {
    "duration": 27,
    "start_time": "2022-05-19T13:34:46.394Z"
   },
   {
    "duration": 115,
    "start_time": "2022-05-19T13:34:46.423Z"
   },
   {
    "duration": 61,
    "start_time": "2022-05-19T13:34:46.540Z"
   },
   {
    "duration": 9,
    "start_time": "2022-05-19T13:34:46.603Z"
   },
   {
    "duration": 31,
    "start_time": "2022-05-19T13:34:46.617Z"
   },
   {
    "duration": 30,
    "start_time": "2022-05-19T13:34:46.651Z"
   },
   {
    "duration": 24,
    "start_time": "2022-05-19T13:34:46.683Z"
   },
   {
    "duration": 8,
    "start_time": "2022-05-19T13:34:46.709Z"
   },
   {
    "duration": 23,
    "start_time": "2022-05-19T13:34:46.719Z"
   },
   {
    "duration": 33,
    "start_time": "2022-05-19T13:34:46.745Z"
   },
   {
    "duration": 477,
    "start_time": "2022-05-19T13:34:46.780Z"
   },
   {
    "duration": 19,
    "start_time": "2022-05-19T13:34:47.264Z"
   },
   {
    "duration": 6,
    "start_time": "2022-05-19T13:34:47.286Z"
   },
   {
    "duration": 7,
    "start_time": "2022-05-19T13:34:47.294Z"
   },
   {
    "duration": 13,
    "start_time": "2022-05-19T13:34:47.304Z"
   },
   {
    "duration": 413,
    "start_time": "2022-05-19T15:17:06.433Z"
   },
   {
    "duration": 283,
    "start_time": "2022-05-19T15:17:06.848Z"
   },
   {
    "duration": 19,
    "start_time": "2022-05-19T15:17:07.132Z"
   },
   {
    "duration": 32,
    "start_time": "2022-05-19T15:17:07.153Z"
   },
   {
    "duration": 15,
    "start_time": "2022-05-19T15:17:07.187Z"
   },
   {
    "duration": 29,
    "start_time": "2022-05-19T15:17:07.204Z"
   },
   {
    "duration": 24,
    "start_time": "2022-05-19T15:17:07.235Z"
   },
   {
    "duration": 35,
    "start_time": "2022-05-19T15:17:07.260Z"
   },
   {
    "duration": 31,
    "start_time": "2022-05-19T15:17:07.297Z"
   },
   {
    "duration": 41,
    "start_time": "2022-05-19T15:17:07.331Z"
   },
   {
    "duration": 6,
    "start_time": "2022-05-19T15:17:07.374Z"
   },
   {
    "duration": 13,
    "start_time": "2022-05-19T15:17:07.381Z"
   },
   {
    "duration": 43,
    "start_time": "2022-05-19T15:17:07.396Z"
   },
   {
    "duration": 28,
    "start_time": "2022-05-19T15:17:07.441Z"
   },
   {
    "duration": 24,
    "start_time": "2022-05-19T15:17:07.471Z"
   },
   {
    "duration": 41,
    "start_time": "2022-05-19T15:17:07.497Z"
   },
   {
    "duration": 17,
    "start_time": "2022-05-19T15:17:07.539Z"
   },
   {
    "duration": 25,
    "start_time": "2022-05-19T15:17:07.558Z"
   },
   {
    "duration": 9,
    "start_time": "2022-05-19T15:17:07.584Z"
   },
   {
    "duration": 34,
    "start_time": "2022-05-19T15:17:07.595Z"
   },
   {
    "duration": 30,
    "start_time": "2022-05-19T15:17:07.631Z"
   },
   {
    "duration": 16,
    "start_time": "2022-05-19T15:17:07.663Z"
   },
   {
    "duration": 29,
    "start_time": "2022-05-19T15:17:07.681Z"
   },
   {
    "duration": 16,
    "start_time": "2022-05-19T15:17:07.711Z"
   },
   {
    "duration": 83,
    "start_time": "2022-05-19T15:17:07.729Z"
   },
   {
    "duration": 28,
    "start_time": "2022-05-19T15:17:07.813Z"
   },
   {
    "duration": 22,
    "start_time": "2022-05-19T15:17:07.843Z"
   },
   {
    "duration": 31,
    "start_time": "2022-05-19T15:17:07.868Z"
   },
   {
    "duration": 20,
    "start_time": "2022-05-19T15:17:07.901Z"
   },
   {
    "duration": 28,
    "start_time": "2022-05-19T15:17:07.923Z"
   },
   {
    "duration": 23,
    "start_time": "2022-05-19T15:17:07.952Z"
   },
   {
    "duration": 27,
    "start_time": "2022-05-19T15:17:07.977Z"
   },
   {
    "duration": 25,
    "start_time": "2022-05-19T15:17:08.006Z"
   },
   {
    "duration": 626,
    "start_time": "2022-05-19T15:17:08.033Z"
   },
   {
    "duration": 7,
    "start_time": "2022-05-19T15:17:08.661Z"
   },
   {
    "duration": 25,
    "start_time": "2022-05-19T15:17:08.670Z"
   },
   {
    "duration": 22,
    "start_time": "2022-05-19T15:17:08.697Z"
   },
   {
    "duration": 20,
    "start_time": "2022-05-19T15:17:08.721Z"
   },
   {
    "duration": 108,
    "start_time": "2022-05-19T15:17:08.742Z"
   },
   {
    "duration": 0,
    "start_time": "2022-05-19T15:17:08.852Z"
   },
   {
    "duration": 0,
    "start_time": "2022-05-19T15:17:08.853Z"
   },
   {
    "duration": 0,
    "start_time": "2022-05-19T15:17:08.854Z"
   },
   {
    "duration": 0,
    "start_time": "2022-05-19T15:17:08.855Z"
   },
   {
    "duration": 0,
    "start_time": "2022-05-19T15:17:08.856Z"
   },
   {
    "duration": 63,
    "start_time": "2022-05-19T15:24:22.756Z"
   },
   {
    "duration": 427,
    "start_time": "2022-05-19T15:24:35.230Z"
   },
   {
    "duration": 274,
    "start_time": "2022-05-19T15:24:35.659Z"
   },
   {
    "duration": 21,
    "start_time": "2022-05-19T15:24:35.934Z"
   },
   {
    "duration": 15,
    "start_time": "2022-05-19T15:24:35.956Z"
   },
   {
    "duration": 10,
    "start_time": "2022-05-19T15:24:35.973Z"
   },
   {
    "duration": 13,
    "start_time": "2022-05-19T15:24:35.984Z"
   },
   {
    "duration": 6,
    "start_time": "2022-05-19T15:24:36.012Z"
   },
   {
    "duration": 6,
    "start_time": "2022-05-19T15:24:36.020Z"
   },
   {
    "duration": 14,
    "start_time": "2022-05-19T15:24:36.028Z"
   },
   {
    "duration": 29,
    "start_time": "2022-05-19T15:24:36.043Z"
   },
   {
    "duration": 40,
    "start_time": "2022-05-19T15:24:36.073Z"
   },
   {
    "duration": 5,
    "start_time": "2022-05-19T15:24:36.115Z"
   },
   {
    "duration": 19,
    "start_time": "2022-05-19T15:24:36.122Z"
   },
   {
    "duration": 12,
    "start_time": "2022-05-19T15:24:36.144Z"
   },
   {
    "duration": 9,
    "start_time": "2022-05-19T15:24:36.157Z"
   },
   {
    "duration": 52,
    "start_time": "2022-05-19T15:24:36.167Z"
   },
   {
    "duration": 7,
    "start_time": "2022-05-19T15:24:36.221Z"
   },
   {
    "duration": 9,
    "start_time": "2022-05-19T15:24:36.229Z"
   },
   {
    "duration": 7,
    "start_time": "2022-05-19T15:24:36.240Z"
   },
   {
    "duration": 13,
    "start_time": "2022-05-19T15:24:36.249Z"
   },
   {
    "duration": 50,
    "start_time": "2022-05-19T15:24:36.264Z"
   },
   {
    "duration": 16,
    "start_time": "2022-05-19T15:24:36.316Z"
   },
   {
    "duration": 18,
    "start_time": "2022-05-19T15:24:36.333Z"
   },
   {
    "duration": 19,
    "start_time": "2022-05-19T15:24:36.352Z"
   },
   {
    "duration": 114,
    "start_time": "2022-05-19T15:24:36.372Z"
   },
   {
    "duration": 38,
    "start_time": "2022-05-19T15:24:36.488Z"
   },
   {
    "duration": 8,
    "start_time": "2022-05-19T15:24:36.527Z"
   },
   {
    "duration": 10,
    "start_time": "2022-05-19T15:24:36.536Z"
   },
   {
    "duration": 8,
    "start_time": "2022-05-19T15:24:36.548Z"
   },
   {
    "duration": 17,
    "start_time": "2022-05-19T15:24:36.558Z"
   },
   {
    "duration": 41,
    "start_time": "2022-05-19T15:24:36.576Z"
   },
   {
    "duration": 16,
    "start_time": "2022-05-19T15:24:36.618Z"
   },
   {
    "duration": 12,
    "start_time": "2022-05-19T15:24:36.635Z"
   },
   {
    "duration": 446,
    "start_time": "2022-05-19T15:24:36.649Z"
   },
   {
    "duration": 6,
    "start_time": "2022-05-19T15:24:37.097Z"
   },
   {
    "duration": 40,
    "start_time": "2022-05-19T15:24:37.112Z"
   },
   {
    "duration": 7,
    "start_time": "2022-05-19T15:24:37.154Z"
   },
   {
    "duration": 13,
    "start_time": "2022-05-19T15:24:37.162Z"
   },
   {
    "duration": 47,
    "start_time": "2022-05-19T15:24:37.177Z"
   },
   {
    "duration": 0,
    "start_time": "2022-05-19T15:24:37.226Z"
   },
   {
    "duration": 0,
    "start_time": "2022-05-19T15:24:37.227Z"
   },
   {
    "duration": 0,
    "start_time": "2022-05-19T15:24:37.228Z"
   },
   {
    "duration": 0,
    "start_time": "2022-05-19T15:24:37.229Z"
   },
   {
    "duration": 1,
    "start_time": "2022-05-19T15:24:37.230Z"
   },
   {
    "duration": 785,
    "start_time": "2022-05-19T15:25:59.944Z"
   },
   {
    "duration": 634,
    "start_time": "2022-05-19T15:26:36.532Z"
   },
   {
    "duration": 752,
    "start_time": "2022-05-19T15:27:10.938Z"
   },
   {
    "duration": 1340,
    "start_time": "2022-05-19T15:27:18.525Z"
   },
   {
    "duration": 781,
    "start_time": "2022-05-19T15:27:42.459Z"
   },
   {
    "duration": 5,
    "start_time": "2022-05-19T15:28:00.528Z"
   },
   {
    "duration": 7,
    "start_time": "2022-05-19T15:28:37.298Z"
   },
   {
    "duration": 402,
    "start_time": "2022-05-19T15:34:57.239Z"
   },
   {
    "duration": 264,
    "start_time": "2022-05-19T15:34:57.643Z"
   },
   {
    "duration": 21,
    "start_time": "2022-05-19T15:34:57.910Z"
   },
   {
    "duration": 20,
    "start_time": "2022-05-19T15:34:57.933Z"
   },
   {
    "duration": 20,
    "start_time": "2022-05-19T15:34:57.955Z"
   },
   {
    "duration": 24,
    "start_time": "2022-05-19T15:34:57.977Z"
   },
   {
    "duration": 22,
    "start_time": "2022-05-19T15:34:58.003Z"
   },
   {
    "duration": 21,
    "start_time": "2022-05-19T15:34:58.027Z"
   },
   {
    "duration": 26,
    "start_time": "2022-05-19T15:34:58.050Z"
   },
   {
    "duration": 54,
    "start_time": "2022-05-19T15:34:58.078Z"
   },
   {
    "duration": 6,
    "start_time": "2022-05-19T15:34:58.134Z"
   },
   {
    "duration": 22,
    "start_time": "2022-05-19T15:34:58.142Z"
   },
   {
    "duration": 36,
    "start_time": "2022-05-19T15:34:58.166Z"
   },
   {
    "duration": 12,
    "start_time": "2022-05-19T15:34:58.204Z"
   },
   {
    "duration": 24,
    "start_time": "2022-05-19T15:34:58.219Z"
   },
   {
    "duration": 23,
    "start_time": "2022-05-19T15:34:58.246Z"
   },
   {
    "duration": 13,
    "start_time": "2022-05-19T15:34:58.272Z"
   },
   {
    "duration": 25,
    "start_time": "2022-05-19T15:34:58.286Z"
   },
   {
    "duration": 12,
    "start_time": "2022-05-19T15:34:58.313Z"
   },
   {
    "duration": 34,
    "start_time": "2022-05-19T15:34:58.327Z"
   },
   {
    "duration": 21,
    "start_time": "2022-05-19T15:34:58.362Z"
   },
   {
    "duration": 32,
    "start_time": "2022-05-19T15:34:58.384Z"
   },
   {
    "duration": 20,
    "start_time": "2022-05-19T15:34:58.418Z"
   },
   {
    "duration": 28,
    "start_time": "2022-05-19T15:34:58.440Z"
   },
   {
    "duration": 91,
    "start_time": "2022-05-19T15:34:58.470Z"
   },
   {
    "duration": 26,
    "start_time": "2022-05-19T15:34:58.564Z"
   },
   {
    "duration": 26,
    "start_time": "2022-05-19T15:34:58.591Z"
   },
   {
    "duration": 13,
    "start_time": "2022-05-19T15:34:58.619Z"
   },
   {
    "duration": 18,
    "start_time": "2022-05-19T15:34:58.633Z"
   },
   {
    "duration": 30,
    "start_time": "2022-05-19T15:34:58.652Z"
   },
   {
    "duration": 24,
    "start_time": "2022-05-19T15:34:58.683Z"
   },
   {
    "duration": 37,
    "start_time": "2022-05-19T15:34:58.708Z"
   },
   {
    "duration": 17,
    "start_time": "2022-05-19T15:34:58.747Z"
   },
   {
    "duration": 439,
    "start_time": "2022-05-19T15:34:58.765Z"
   },
   {
    "duration": 9,
    "start_time": "2022-05-19T15:34:59.206Z"
   },
   {
    "duration": 35,
    "start_time": "2022-05-19T15:34:59.217Z"
   },
   {
    "duration": 27,
    "start_time": "2022-05-19T15:34:59.254Z"
   },
   {
    "duration": 19,
    "start_time": "2022-05-19T15:34:59.283Z"
   },
   {
    "duration": 401,
    "start_time": "2022-05-19T15:36:10.254Z"
   },
   {
    "duration": 495,
    "start_time": "2022-05-19T15:36:10.657Z"
   },
   {
    "duration": 24,
    "start_time": "2022-05-19T15:36:11.154Z"
   },
   {
    "duration": 34,
    "start_time": "2022-05-19T15:36:11.181Z"
   },
   {
    "duration": 14,
    "start_time": "2022-05-19T15:36:11.217Z"
   },
   {
    "duration": 24,
    "start_time": "2022-05-19T15:36:11.233Z"
   },
   {
    "duration": 12,
    "start_time": "2022-05-19T15:36:11.260Z"
   },
   {
    "duration": 28,
    "start_time": "2022-05-19T15:36:11.274Z"
   },
   {
    "duration": 27,
    "start_time": "2022-05-19T15:36:11.304Z"
   },
   {
    "duration": 43,
    "start_time": "2022-05-19T15:36:11.333Z"
   },
   {
    "duration": 8,
    "start_time": "2022-05-19T15:36:11.378Z"
   },
   {
    "duration": 25,
    "start_time": "2022-05-19T15:36:11.388Z"
   },
   {
    "duration": 51,
    "start_time": "2022-05-19T15:36:11.415Z"
   },
   {
    "duration": 17,
    "start_time": "2022-05-19T15:36:11.469Z"
   },
   {
    "duration": 29,
    "start_time": "2022-05-19T15:36:11.488Z"
   },
   {
    "duration": 44,
    "start_time": "2022-05-19T15:36:11.519Z"
   },
   {
    "duration": 40,
    "start_time": "2022-05-19T15:36:11.564Z"
   },
   {
    "duration": 42,
    "start_time": "2022-05-19T15:36:11.606Z"
   },
   {
    "duration": 20,
    "start_time": "2022-05-19T15:36:11.651Z"
   },
   {
    "duration": 35,
    "start_time": "2022-05-19T15:36:11.673Z"
   },
   {
    "duration": 62,
    "start_time": "2022-05-19T15:36:11.710Z"
   },
   {
    "duration": 43,
    "start_time": "2022-05-19T15:36:11.774Z"
   },
   {
    "duration": 22,
    "start_time": "2022-05-19T15:36:11.818Z"
   },
   {
    "duration": 22,
    "start_time": "2022-05-19T15:36:11.841Z"
   },
   {
    "duration": 97,
    "start_time": "2022-05-19T15:36:11.865Z"
   },
   {
    "duration": 28,
    "start_time": "2022-05-19T15:36:11.964Z"
   },
   {
    "duration": 34,
    "start_time": "2022-05-19T15:36:12.011Z"
   },
   {
    "duration": 35,
    "start_time": "2022-05-19T15:36:12.047Z"
   },
   {
    "duration": 38,
    "start_time": "2022-05-19T15:36:12.084Z"
   },
   {
    "duration": 45,
    "start_time": "2022-05-19T15:36:12.124Z"
   },
   {
    "duration": 19,
    "start_time": "2022-05-19T15:36:12.171Z"
   },
   {
    "duration": 36,
    "start_time": "2022-05-19T15:36:12.192Z"
   },
   {
    "duration": 28,
    "start_time": "2022-05-19T15:36:12.229Z"
   },
   {
    "duration": 524,
    "start_time": "2022-05-19T15:36:12.259Z"
   },
   {
    "duration": 7,
    "start_time": "2022-05-19T15:36:12.785Z"
   },
   {
    "duration": 58,
    "start_time": "2022-05-19T15:36:12.794Z"
   },
   {
    "duration": 32,
    "start_time": "2022-05-19T15:36:12.854Z"
   },
   {
    "duration": 19,
    "start_time": "2022-05-19T15:36:12.888Z"
   },
   {
    "duration": 12,
    "start_time": "2022-05-19T16:21:44.002Z"
   },
   {
    "duration": 2,
    "start_time": "2022-05-19T16:21:47.363Z"
   },
   {
    "duration": 73,
    "start_time": "2022-05-19T16:21:47.367Z"
   },
   {
    "duration": 13,
    "start_time": "2022-05-19T16:21:47.442Z"
   },
   {
    "duration": 18,
    "start_time": "2022-05-19T16:21:47.457Z"
   },
   {
    "duration": 39,
    "start_time": "2022-05-19T16:21:47.478Z"
   },
   {
    "duration": 10,
    "start_time": "2022-05-19T16:21:47.518Z"
   },
   {
    "duration": 8,
    "start_time": "2022-05-19T16:21:47.530Z"
   },
   {
    "duration": 7,
    "start_time": "2022-05-19T16:21:47.539Z"
   },
   {
    "duration": 17,
    "start_time": "2022-05-19T16:21:47.547Z"
   },
   {
    "duration": 48,
    "start_time": "2022-05-19T16:21:47.566Z"
   },
   {
    "duration": 5,
    "start_time": "2022-05-19T16:21:47.616Z"
   },
   {
    "duration": 6,
    "start_time": "2022-05-19T16:21:47.623Z"
   },
   {
    "duration": 22,
    "start_time": "2022-05-19T16:21:47.630Z"
   },
   {
    "duration": 12,
    "start_time": "2022-05-19T16:21:47.653Z"
   },
   {
    "duration": 5,
    "start_time": "2022-05-19T16:21:47.666Z"
   },
   {
    "duration": 41,
    "start_time": "2022-05-19T16:21:47.673Z"
   },
   {
    "duration": 5,
    "start_time": "2022-05-19T16:21:47.716Z"
   },
   {
    "duration": 23,
    "start_time": "2022-05-19T16:21:47.722Z"
   },
   {
    "duration": 11,
    "start_time": "2022-05-19T16:21:47.747Z"
   },
   {
    "duration": 10,
    "start_time": "2022-05-19T16:21:47.759Z"
   },
   {
    "duration": 14,
    "start_time": "2022-05-19T16:21:47.771Z"
   },
   {
    "duration": 28,
    "start_time": "2022-05-19T16:21:47.786Z"
   },
   {
    "duration": 17,
    "start_time": "2022-05-19T16:21:47.815Z"
   },
   {
    "duration": 14,
    "start_time": "2022-05-19T16:21:47.834Z"
   },
   {
    "duration": 95,
    "start_time": "2022-05-19T16:21:47.849Z"
   },
   {
    "duration": 26,
    "start_time": "2022-05-19T16:21:47.947Z"
   },
   {
    "duration": 8,
    "start_time": "2022-05-19T16:21:47.975Z"
   },
   {
    "duration": 31,
    "start_time": "2022-05-19T16:21:47.984Z"
   },
   {
    "duration": 8,
    "start_time": "2022-05-19T16:21:48.016Z"
   },
   {
    "duration": 16,
    "start_time": "2022-05-19T16:21:48.025Z"
   },
   {
    "duration": 6,
    "start_time": "2022-05-19T16:21:48.042Z"
   },
   {
    "duration": 15,
    "start_time": "2022-05-19T16:21:48.049Z"
   },
   {
    "duration": 12,
    "start_time": "2022-05-19T16:21:48.065Z"
   },
   {
    "duration": 163,
    "start_time": "2022-05-19T16:21:48.078Z"
   },
   {
    "duration": 6,
    "start_time": "2022-05-19T16:21:48.243Z"
   },
   {
    "duration": 6,
    "start_time": "2022-05-19T16:21:48.250Z"
   },
   {
    "duration": 7,
    "start_time": "2022-05-19T16:21:48.257Z"
   },
   {
    "duration": 10,
    "start_time": "2022-05-19T16:21:48.265Z"
   },
   {
    "duration": 442,
    "start_time": "2022-05-19T16:22:06.515Z"
   },
   {
    "duration": 290,
    "start_time": "2022-05-19T16:22:06.958Z"
   },
   {
    "duration": 21,
    "start_time": "2022-05-19T16:22:07.251Z"
   },
   {
    "duration": 36,
    "start_time": "2022-05-19T16:22:07.274Z"
   },
   {
    "duration": 17,
    "start_time": "2022-05-19T16:22:07.311Z"
   },
   {
    "duration": 31,
    "start_time": "2022-05-19T16:22:07.329Z"
   },
   {
    "duration": 4,
    "start_time": "2022-05-19T16:22:07.362Z"
   },
   {
    "duration": 25,
    "start_time": "2022-05-19T16:22:07.368Z"
   },
   {
    "duration": 28,
    "start_time": "2022-05-19T16:22:07.395Z"
   },
   {
    "duration": 44,
    "start_time": "2022-05-19T16:22:07.425Z"
   },
   {
    "duration": 7,
    "start_time": "2022-05-19T16:22:07.471Z"
   },
   {
    "duration": 21,
    "start_time": "2022-05-19T16:22:07.480Z"
   },
   {
    "duration": 25,
    "start_time": "2022-05-19T16:22:07.503Z"
   },
   {
    "duration": 19,
    "start_time": "2022-05-19T16:22:07.529Z"
   },
   {
    "duration": 22,
    "start_time": "2022-05-19T16:22:07.550Z"
   },
   {
    "duration": 21,
    "start_time": "2022-05-19T16:22:07.573Z"
   },
   {
    "duration": 7,
    "start_time": "2022-05-19T16:22:07.596Z"
   },
   {
    "duration": 22,
    "start_time": "2022-05-19T16:22:07.604Z"
   },
   {
    "duration": 19,
    "start_time": "2022-05-19T16:22:07.627Z"
   },
   {
    "duration": 20,
    "start_time": "2022-05-19T16:22:07.648Z"
   },
   {
    "duration": 18,
    "start_time": "2022-05-19T16:22:07.670Z"
   },
   {
    "duration": 27,
    "start_time": "2022-05-19T16:22:07.690Z"
   },
   {
    "duration": 21,
    "start_time": "2022-05-19T16:22:07.718Z"
   },
   {
    "duration": 17,
    "start_time": "2022-05-19T16:22:07.742Z"
   },
   {
    "duration": 95,
    "start_time": "2022-05-19T16:22:07.760Z"
   },
   {
    "duration": 28,
    "start_time": "2022-05-19T16:22:07.857Z"
   },
   {
    "duration": 26,
    "start_time": "2022-05-19T16:22:07.887Z"
   },
   {
    "duration": 27,
    "start_time": "2022-05-19T16:22:07.916Z"
   },
   {
    "duration": 19,
    "start_time": "2022-05-19T16:22:07.945Z"
   },
   {
    "duration": 31,
    "start_time": "2022-05-19T16:22:07.965Z"
   },
   {
    "duration": 8,
    "start_time": "2022-05-19T16:22:07.998Z"
   },
   {
    "duration": 16,
    "start_time": "2022-05-19T16:22:08.008Z"
   },
   {
    "duration": 12,
    "start_time": "2022-05-19T16:22:08.025Z"
   },
   {
    "duration": 399,
    "start_time": "2022-05-19T16:22:08.038Z"
   },
   {
    "duration": 5,
    "start_time": "2022-05-19T16:22:08.439Z"
   },
   {
    "duration": 6,
    "start_time": "2022-05-19T16:22:08.445Z"
   },
   {
    "duration": 13,
    "start_time": "2022-05-19T16:22:08.452Z"
   },
   {
    "duration": 8,
    "start_time": "2022-05-19T16:22:08.466Z"
   },
   {
    "duration": 99,
    "start_time": "2022-05-19T16:22:08.476Z"
   },
   {
    "duration": 0,
    "start_time": "2022-05-19T16:22:08.577Z"
   },
   {
    "duration": 0,
    "start_time": "2022-05-19T16:22:08.578Z"
   },
   {
    "duration": 0,
    "start_time": "2022-05-19T16:22:08.579Z"
   },
   {
    "duration": 0,
    "start_time": "2022-05-19T16:22:08.580Z"
   },
   {
    "duration": 0,
    "start_time": "2022-05-19T16:22:08.581Z"
   },
   {
    "duration": 12,
    "start_time": "2022-05-19T16:22:17.811Z"
   },
   {
    "duration": 10,
    "start_time": "2022-05-19T16:22:19.974Z"
   },
   {
    "duration": 2,
    "start_time": "2022-05-19T16:22:34.979Z"
   },
   {
    "duration": 74,
    "start_time": "2022-05-19T16:22:34.983Z"
   },
   {
    "duration": 11,
    "start_time": "2022-05-19T16:22:35.059Z"
   },
   {
    "duration": 16,
    "start_time": "2022-05-19T16:22:35.072Z"
   },
   {
    "duration": 9,
    "start_time": "2022-05-19T16:22:35.111Z"
   },
   {
    "duration": 12,
    "start_time": "2022-05-19T16:22:35.123Z"
   },
   {
    "duration": 4,
    "start_time": "2022-05-19T16:22:35.136Z"
   },
   {
    "duration": 8,
    "start_time": "2022-05-19T16:22:35.141Z"
   },
   {
    "duration": 14,
    "start_time": "2022-05-19T16:22:35.150Z"
   },
   {
    "duration": 61,
    "start_time": "2022-05-19T16:22:35.166Z"
   },
   {
    "duration": 5,
    "start_time": "2022-05-19T16:22:35.229Z"
   },
   {
    "duration": 7,
    "start_time": "2022-05-19T16:22:35.236Z"
   },
   {
    "duration": 16,
    "start_time": "2022-05-19T16:22:35.244Z"
   },
   {
    "duration": 11,
    "start_time": "2022-05-19T16:22:35.261Z"
   },
   {
    "duration": 7,
    "start_time": "2022-05-19T16:22:35.274Z"
   },
   {
    "duration": 37,
    "start_time": "2022-05-19T16:22:35.282Z"
   },
   {
    "duration": 5,
    "start_time": "2022-05-19T16:22:35.321Z"
   },
   {
    "duration": 7,
    "start_time": "2022-05-19T16:22:35.328Z"
   },
   {
    "duration": 5,
    "start_time": "2022-05-19T16:22:35.337Z"
   },
   {
    "duration": 11,
    "start_time": "2022-05-19T16:22:35.343Z"
   },
   {
    "duration": 12,
    "start_time": "2022-05-19T16:22:35.355Z"
   },
   {
    "duration": 47,
    "start_time": "2022-05-19T16:22:35.368Z"
   },
   {
    "duration": 17,
    "start_time": "2022-05-19T16:22:35.417Z"
   },
   {
    "duration": 14,
    "start_time": "2022-05-19T16:22:35.436Z"
   },
   {
    "duration": 89,
    "start_time": "2022-05-19T16:22:35.452Z"
   },
   {
    "duration": 27,
    "start_time": "2022-05-19T16:22:35.543Z"
   },
   {
    "duration": 7,
    "start_time": "2022-05-19T16:22:35.571Z"
   },
   {
    "duration": 10,
    "start_time": "2022-05-19T16:22:35.579Z"
   },
   {
    "duration": 7,
    "start_time": "2022-05-19T16:22:35.611Z"
   },
   {
    "duration": 21,
    "start_time": "2022-05-19T16:22:35.619Z"
   },
   {
    "duration": 8,
    "start_time": "2022-05-19T16:22:35.641Z"
   },
   {
    "duration": 19,
    "start_time": "2022-05-19T16:22:35.650Z"
   },
   {
    "duration": 12,
    "start_time": "2022-05-19T16:22:35.671Z"
   },
   {
    "duration": 153,
    "start_time": "2022-05-19T16:22:35.684Z"
   },
   {
    "duration": 5,
    "start_time": "2022-05-19T16:22:35.839Z"
   },
   {
    "duration": 8,
    "start_time": "2022-05-19T16:22:35.845Z"
   },
   {
    "duration": 7,
    "start_time": "2022-05-19T16:22:35.854Z"
   },
   {
    "duration": 7,
    "start_time": "2022-05-19T16:22:35.863Z"
   },
   {
    "duration": 13,
    "start_time": "2022-05-19T16:22:35.872Z"
   },
   {
    "duration": 0,
    "start_time": "2022-05-19T16:22:35.887Z"
   },
   {
    "duration": 0,
    "start_time": "2022-05-19T16:22:35.911Z"
   },
   {
    "duration": 0,
    "start_time": "2022-05-19T16:22:35.913Z"
   },
   {
    "duration": 0,
    "start_time": "2022-05-19T16:22:35.914Z"
   },
   {
    "duration": 0,
    "start_time": "2022-05-19T16:22:35.915Z"
   },
   {
    "duration": 2,
    "start_time": "2022-05-19T16:22:55.465Z"
   },
   {
    "duration": 73,
    "start_time": "2022-05-19T16:22:55.469Z"
   },
   {
    "duration": 12,
    "start_time": "2022-05-19T16:22:55.544Z"
   },
   {
    "duration": 14,
    "start_time": "2022-05-19T16:22:55.557Z"
   },
   {
    "duration": 8,
    "start_time": "2022-05-19T16:22:55.573Z"
   },
   {
    "duration": 30,
    "start_time": "2022-05-19T16:22:55.583Z"
   },
   {
    "duration": 5,
    "start_time": "2022-05-19T16:22:55.615Z"
   },
   {
    "duration": 5,
    "start_time": "2022-05-19T16:22:55.622Z"
   },
   {
    "duration": 16,
    "start_time": "2022-05-19T16:22:55.628Z"
   },
   {
    "duration": 29,
    "start_time": "2022-05-19T16:22:55.646Z"
   },
   {
    "duration": 36,
    "start_time": "2022-05-19T16:22:55.676Z"
   },
   {
    "duration": 5,
    "start_time": "2022-05-19T16:22:55.714Z"
   },
   {
    "duration": 20,
    "start_time": "2022-05-19T16:22:55.721Z"
   },
   {
    "duration": 11,
    "start_time": "2022-05-19T16:22:55.743Z"
   },
   {
    "duration": 7,
    "start_time": "2022-05-19T16:22:55.756Z"
   },
   {
    "duration": 17,
    "start_time": "2022-05-19T16:22:55.764Z"
   },
   {
    "duration": 30,
    "start_time": "2022-05-19T16:22:55.783Z"
   },
   {
    "duration": 9,
    "start_time": "2022-05-19T16:22:55.815Z"
   },
   {
    "duration": 6,
    "start_time": "2022-05-19T16:22:55.826Z"
   },
   {
    "duration": 11,
    "start_time": "2022-05-19T16:22:55.833Z"
   },
   {
    "duration": 17,
    "start_time": "2022-05-19T16:22:55.845Z"
   },
   {
    "duration": 18,
    "start_time": "2022-05-19T16:22:55.863Z"
   },
   {
    "duration": 42,
    "start_time": "2022-05-19T16:22:55.883Z"
   },
   {
    "duration": 22,
    "start_time": "2022-05-19T16:22:55.928Z"
   },
   {
    "duration": 92,
    "start_time": "2022-05-19T16:22:55.952Z"
   },
   {
    "duration": 26,
    "start_time": "2022-05-19T16:22:56.045Z"
   },
   {
    "duration": 8,
    "start_time": "2022-05-19T16:22:56.072Z"
   },
   {
    "duration": 10,
    "start_time": "2022-05-19T16:22:56.081Z"
   },
   {
    "duration": 6,
    "start_time": "2022-05-19T16:22:56.112Z"
   },
   {
    "duration": 16,
    "start_time": "2022-05-19T16:22:56.120Z"
   },
   {
    "duration": 6,
    "start_time": "2022-05-19T16:22:56.137Z"
   },
   {
    "duration": 16,
    "start_time": "2022-05-19T16:22:56.144Z"
   },
   {
    "duration": 14,
    "start_time": "2022-05-19T16:22:56.161Z"
   },
   {
    "duration": 171,
    "start_time": "2022-05-19T16:22:56.177Z"
   },
   {
    "duration": 5,
    "start_time": "2022-05-19T16:22:56.351Z"
   },
   {
    "duration": 5,
    "start_time": "2022-05-19T16:22:56.358Z"
   },
   {
    "duration": 7,
    "start_time": "2022-05-19T16:22:56.364Z"
   },
   {
    "duration": 8,
    "start_time": "2022-05-19T16:22:56.372Z"
   },
   {
    "duration": 55,
    "start_time": "2022-05-19T16:23:14.926Z"
   },
   {
    "duration": 375,
    "start_time": "2022-05-19T16:23:19.166Z"
   },
   {
    "duration": 289,
    "start_time": "2022-05-19T16:23:19.543Z"
   },
   {
    "duration": 20,
    "start_time": "2022-05-19T16:23:19.834Z"
   },
   {
    "duration": 31,
    "start_time": "2022-05-19T16:23:19.856Z"
   },
   {
    "duration": 32,
    "start_time": "2022-05-19T16:23:19.889Z"
   },
   {
    "duration": 31,
    "start_time": "2022-05-19T16:23:19.923Z"
   },
   {
    "duration": 33,
    "start_time": "2022-05-19T16:23:19.955Z"
   },
   {
    "duration": 53,
    "start_time": "2022-05-19T16:23:19.990Z"
   },
   {
    "duration": 38,
    "start_time": "2022-05-19T16:23:20.045Z"
   },
   {
    "duration": 67,
    "start_time": "2022-05-19T16:23:20.085Z"
   },
   {
    "duration": 20,
    "start_time": "2022-05-19T16:23:20.153Z"
   },
   {
    "duration": 19,
    "start_time": "2022-05-19T16:23:20.175Z"
   },
   {
    "duration": 51,
    "start_time": "2022-05-19T16:23:20.195Z"
   },
   {
    "duration": 29,
    "start_time": "2022-05-19T16:23:20.250Z"
   },
   {
    "duration": 27,
    "start_time": "2022-05-19T16:23:20.281Z"
   },
   {
    "duration": 42,
    "start_time": "2022-05-19T16:23:20.310Z"
   },
   {
    "duration": 20,
    "start_time": "2022-05-19T16:23:20.354Z"
   },
   {
    "duration": 30,
    "start_time": "2022-05-19T16:23:20.376Z"
   },
   {
    "duration": 27,
    "start_time": "2022-05-19T16:23:20.407Z"
   },
   {
    "duration": 19,
    "start_time": "2022-05-19T16:23:20.436Z"
   },
   {
    "duration": 24,
    "start_time": "2022-05-19T16:23:20.456Z"
   },
   {
    "duration": 19,
    "start_time": "2022-05-19T16:23:20.482Z"
   },
   {
    "duration": 17,
    "start_time": "2022-05-19T16:23:20.503Z"
   },
   {
    "duration": 27,
    "start_time": "2022-05-19T16:23:20.522Z"
   },
   {
    "duration": 70,
    "start_time": "2022-05-19T16:23:20.550Z"
   },
   {
    "duration": 27,
    "start_time": "2022-05-19T16:23:20.622Z"
   },
   {
    "duration": 23,
    "start_time": "2022-05-19T16:23:20.650Z"
   },
   {
    "duration": 11,
    "start_time": "2022-05-19T16:23:20.675Z"
   },
   {
    "duration": 9,
    "start_time": "2022-05-19T16:23:20.688Z"
   },
   {
    "duration": 27,
    "start_time": "2022-05-19T16:23:20.698Z"
   },
   {
    "duration": 5,
    "start_time": "2022-05-19T16:23:20.727Z"
   },
   {
    "duration": 19,
    "start_time": "2022-05-19T16:23:20.734Z"
   },
   {
    "duration": 18,
    "start_time": "2022-05-19T16:23:20.754Z"
   },
   {
    "duration": 412,
    "start_time": "2022-05-19T16:23:20.773Z"
   },
   {
    "duration": 5,
    "start_time": "2022-05-19T16:23:21.186Z"
   },
   {
    "duration": 46,
    "start_time": "2022-05-19T16:23:21.193Z"
   },
   {
    "duration": 14,
    "start_time": "2022-05-19T16:23:21.241Z"
   },
   {
    "duration": 19,
    "start_time": "2022-05-19T16:23:21.257Z"
   },
   {
    "duration": 67,
    "start_time": "2022-05-19T16:26:01.258Z"
   },
   {
    "duration": 453,
    "start_time": "2022-05-19T16:26:04.586Z"
   },
   {
    "duration": 296,
    "start_time": "2022-05-19T16:26:05.041Z"
   },
   {
    "duration": 20,
    "start_time": "2022-05-19T16:26:05.338Z"
   },
   {
    "duration": 15,
    "start_time": "2022-05-19T16:26:05.360Z"
   },
   {
    "duration": 9,
    "start_time": "2022-05-19T16:26:05.377Z"
   },
   {
    "duration": 9,
    "start_time": "2022-05-19T16:26:05.388Z"
   },
   {
    "duration": 27,
    "start_time": "2022-05-19T16:26:05.398Z"
   },
   {
    "duration": 5,
    "start_time": "2022-05-19T16:26:05.426Z"
   },
   {
    "duration": 19,
    "start_time": "2022-05-19T16:26:05.433Z"
   },
   {
    "duration": 33,
    "start_time": "2022-05-19T16:26:05.455Z"
   },
   {
    "duration": 8,
    "start_time": "2022-05-19T16:26:05.489Z"
   },
   {
    "duration": 36,
    "start_time": "2022-05-19T16:26:05.499Z"
   },
   {
    "duration": 26,
    "start_time": "2022-05-19T16:26:05.536Z"
   },
   {
    "duration": 12,
    "start_time": "2022-05-19T16:26:05.564Z"
   },
   {
    "duration": 15,
    "start_time": "2022-05-19T16:26:05.577Z"
   },
   {
    "duration": 17,
    "start_time": "2022-05-19T16:26:05.593Z"
   },
   {
    "duration": 17,
    "start_time": "2022-05-19T16:26:05.611Z"
   },
   {
    "duration": 14,
    "start_time": "2022-05-19T16:26:05.630Z"
   },
   {
    "duration": 8,
    "start_time": "2022-05-19T16:26:05.645Z"
   },
   {
    "duration": 15,
    "start_time": "2022-05-19T16:26:05.654Z"
   },
   {
    "duration": 11,
    "start_time": "2022-05-19T16:26:05.671Z"
   },
   {
    "duration": 16,
    "start_time": "2022-05-19T16:26:05.683Z"
   },
   {
    "duration": 32,
    "start_time": "2022-05-19T16:26:05.700Z"
   },
   {
    "duration": 18,
    "start_time": "2022-05-19T16:26:05.734Z"
   },
   {
    "duration": 84,
    "start_time": "2022-05-19T16:26:05.753Z"
   },
   {
    "duration": 26,
    "start_time": "2022-05-19T16:26:05.838Z"
   },
   {
    "duration": 7,
    "start_time": "2022-05-19T16:26:05.866Z"
   },
   {
    "duration": 7,
    "start_time": "2022-05-19T16:26:05.876Z"
   },
   {
    "duration": 48,
    "start_time": "2022-05-19T16:26:05.885Z"
   },
   {
    "duration": 17,
    "start_time": "2022-05-19T16:26:05.935Z"
   },
   {
    "duration": 5,
    "start_time": "2022-05-19T16:26:05.955Z"
   },
   {
    "duration": 17,
    "start_time": "2022-05-19T16:26:05.962Z"
   },
   {
    "duration": 14,
    "start_time": "2022-05-19T16:26:05.980Z"
   },
   {
    "duration": 458,
    "start_time": "2022-05-19T16:26:05.995Z"
   },
   {
    "duration": 5,
    "start_time": "2022-05-19T16:26:06.455Z"
   },
   {
    "duration": 8,
    "start_time": "2022-05-19T16:26:06.461Z"
   },
   {
    "duration": 6,
    "start_time": "2022-05-19T16:26:06.471Z"
   },
   {
    "duration": 7,
    "start_time": "2022-05-19T16:26:06.479Z"
   },
   {
    "duration": 57,
    "start_time": "2022-05-19T16:29:40.006Z"
   },
   {
    "duration": 417,
    "start_time": "2022-05-19T16:29:42.446Z"
   },
   {
    "duration": 277,
    "start_time": "2022-05-19T16:29:42.865Z"
   },
   {
    "duration": 20,
    "start_time": "2022-05-19T16:29:43.144Z"
   },
   {
    "duration": 15,
    "start_time": "2022-05-19T16:29:43.166Z"
   },
   {
    "duration": 9,
    "start_time": "2022-05-19T16:29:43.182Z"
   },
   {
    "duration": 27,
    "start_time": "2022-05-19T16:29:43.193Z"
   },
   {
    "duration": 18,
    "start_time": "2022-05-19T16:29:43.222Z"
   },
   {
    "duration": 21,
    "start_time": "2022-05-19T16:29:43.245Z"
   },
   {
    "duration": 23,
    "start_time": "2022-05-19T16:29:43.267Z"
   },
   {
    "duration": 35,
    "start_time": "2022-05-19T16:29:43.292Z"
   },
   {
    "duration": 6,
    "start_time": "2022-05-19T16:29:43.328Z"
   },
   {
    "duration": 15,
    "start_time": "2022-05-19T16:29:43.336Z"
   },
   {
    "duration": 22,
    "start_time": "2022-05-19T16:29:43.353Z"
   },
   {
    "duration": 13,
    "start_time": "2022-05-19T16:29:43.377Z"
   },
   {
    "duration": 11,
    "start_time": "2022-05-19T16:29:43.392Z"
   },
   {
    "duration": 18,
    "start_time": "2022-05-19T16:29:43.417Z"
   },
   {
    "duration": 5,
    "start_time": "2022-05-19T16:29:43.437Z"
   },
   {
    "duration": 13,
    "start_time": "2022-05-19T16:29:43.444Z"
   },
   {
    "duration": 16,
    "start_time": "2022-05-19T16:29:43.459Z"
   },
   {
    "duration": 25,
    "start_time": "2022-05-19T16:29:43.477Z"
   },
   {
    "duration": 37,
    "start_time": "2022-05-19T16:29:43.503Z"
   },
   {
    "duration": 16,
    "start_time": "2022-05-19T16:29:43.542Z"
   },
   {
    "duration": 18,
    "start_time": "2022-05-19T16:29:43.559Z"
   },
   {
    "duration": 16,
    "start_time": "2022-05-19T16:29:43.579Z"
   },
   {
    "duration": 75,
    "start_time": "2022-05-19T16:29:43.597Z"
   },
   {
    "duration": 25,
    "start_time": "2022-05-19T16:29:43.674Z"
   },
   {
    "duration": 11,
    "start_time": "2022-05-19T16:29:43.716Z"
   },
   {
    "duration": 27,
    "start_time": "2022-05-19T16:29:43.730Z"
   },
   {
    "duration": 31,
    "start_time": "2022-05-19T16:29:43.758Z"
   },
   {
    "duration": 51,
    "start_time": "2022-05-19T16:29:43.790Z"
   },
   {
    "duration": 5,
    "start_time": "2022-05-19T16:29:43.843Z"
   },
   {
    "duration": 16,
    "start_time": "2022-05-19T16:29:43.849Z"
   },
   {
    "duration": 14,
    "start_time": "2022-05-19T16:29:43.866Z"
   },
   {
    "duration": 426,
    "start_time": "2022-05-19T16:29:43.881Z"
   },
   {
    "duration": 6,
    "start_time": "2022-05-19T16:29:44.314Z"
   },
   {
    "duration": 11,
    "start_time": "2022-05-19T16:29:44.324Z"
   },
   {
    "duration": 8,
    "start_time": "2022-05-19T16:29:44.336Z"
   },
   {
    "duration": 8,
    "start_time": "2022-05-19T16:29:44.346Z"
   },
   {
    "duration": 412,
    "start_time": "2022-05-19T16:30:53.057Z"
   },
   {
    "duration": 264,
    "start_time": "2022-05-19T16:30:53.471Z"
   },
   {
    "duration": 21,
    "start_time": "2022-05-19T16:30:53.737Z"
   },
   {
    "duration": 17,
    "start_time": "2022-05-19T16:30:53.760Z"
   },
   {
    "duration": 32,
    "start_time": "2022-05-19T16:30:53.779Z"
   },
   {
    "duration": 28,
    "start_time": "2022-05-19T16:30:53.813Z"
   },
   {
    "duration": 33,
    "start_time": "2022-05-19T16:30:53.843Z"
   },
   {
    "duration": 31,
    "start_time": "2022-05-19T16:30:53.878Z"
   },
   {
    "duration": 32,
    "start_time": "2022-05-19T16:30:53.911Z"
   },
   {
    "duration": 33,
    "start_time": "2022-05-19T16:30:53.946Z"
   },
   {
    "duration": 6,
    "start_time": "2022-05-19T16:30:53.980Z"
   },
   {
    "duration": 14,
    "start_time": "2022-05-19T16:30:53.988Z"
   },
   {
    "duration": 46,
    "start_time": "2022-05-19T16:30:54.003Z"
   },
   {
    "duration": 22,
    "start_time": "2022-05-19T16:30:54.051Z"
   },
   {
    "duration": 21,
    "start_time": "2022-05-19T16:30:54.074Z"
   },
   {
    "duration": 35,
    "start_time": "2022-05-19T16:30:54.096Z"
   },
   {
    "duration": 13,
    "start_time": "2022-05-19T16:30:54.133Z"
   },
   {
    "duration": 21,
    "start_time": "2022-05-19T16:30:54.147Z"
   },
   {
    "duration": 23,
    "start_time": "2022-05-19T16:30:54.169Z"
   },
   {
    "duration": 26,
    "start_time": "2022-05-19T16:30:54.193Z"
   },
   {
    "duration": 21,
    "start_time": "2022-05-19T16:30:54.220Z"
   },
   {
    "duration": 22,
    "start_time": "2022-05-19T16:30:54.243Z"
   },
   {
    "duration": 19,
    "start_time": "2022-05-19T16:30:54.267Z"
   },
   {
    "duration": 29,
    "start_time": "2022-05-19T16:30:54.287Z"
   },
   {
    "duration": 87,
    "start_time": "2022-05-19T16:30:54.317Z"
   },
   {
    "duration": 40,
    "start_time": "2022-05-19T16:30:54.412Z"
   },
   {
    "duration": 15,
    "start_time": "2022-05-19T16:30:54.454Z"
   },
   {
    "duration": 30,
    "start_time": "2022-05-19T16:30:54.473Z"
   },
   {
    "duration": 7,
    "start_time": "2022-05-19T16:30:54.505Z"
   },
   {
    "duration": 32,
    "start_time": "2022-05-19T16:30:54.513Z"
   },
   {
    "duration": 7,
    "start_time": "2022-05-19T16:30:54.547Z"
   },
   {
    "duration": 18,
    "start_time": "2022-05-19T16:30:54.555Z"
   },
   {
    "duration": 12,
    "start_time": "2022-05-19T16:30:54.575Z"
   },
   {
    "duration": 449,
    "start_time": "2022-05-19T16:30:54.588Z"
   },
   {
    "duration": 5,
    "start_time": "2022-05-19T16:30:55.039Z"
   },
   {
    "duration": 8,
    "start_time": "2022-05-19T16:30:55.046Z"
   },
   {
    "duration": 8,
    "start_time": "2022-05-19T16:30:55.055Z"
   },
   {
    "duration": 12,
    "start_time": "2022-05-19T16:30:55.065Z"
   },
   {
    "duration": 459,
    "start_time": "2022-05-19T16:31:15.523Z"
   },
   {
    "duration": 291,
    "start_time": "2022-05-19T16:31:15.984Z"
   },
   {
    "duration": 20,
    "start_time": "2022-05-19T16:31:16.276Z"
   },
   {
    "duration": 24,
    "start_time": "2022-05-19T16:31:16.297Z"
   },
   {
    "duration": 11,
    "start_time": "2022-05-19T16:31:16.323Z"
   },
   {
    "duration": 9,
    "start_time": "2022-05-19T16:31:16.335Z"
   },
   {
    "duration": 7,
    "start_time": "2022-05-19T16:31:16.346Z"
   },
   {
    "duration": 8,
    "start_time": "2022-05-19T16:31:16.354Z"
   },
   {
    "duration": 16,
    "start_time": "2022-05-19T16:31:16.363Z"
   },
   {
    "duration": 55,
    "start_time": "2022-05-19T16:31:16.380Z"
   },
   {
    "duration": 6,
    "start_time": "2022-05-19T16:31:16.437Z"
   },
   {
    "duration": 5,
    "start_time": "2022-05-19T16:31:16.445Z"
   },
   {
    "duration": 25,
    "start_time": "2022-05-19T16:31:16.451Z"
   },
   {
    "duration": 41,
    "start_time": "2022-05-19T16:31:16.479Z"
   },
   {
    "duration": 4,
    "start_time": "2022-05-19T16:31:16.523Z"
   },
   {
    "duration": 19,
    "start_time": "2022-05-19T16:31:16.529Z"
   },
   {
    "duration": 6,
    "start_time": "2022-05-19T16:31:16.549Z"
   },
   {
    "duration": 19,
    "start_time": "2022-05-19T16:31:16.556Z"
   },
   {
    "duration": 19,
    "start_time": "2022-05-19T16:31:16.576Z"
   },
   {
    "duration": 12,
    "start_time": "2022-05-19T16:31:16.596Z"
   },
   {
    "duration": 35,
    "start_time": "2022-05-19T16:31:16.609Z"
   },
   {
    "duration": 18,
    "start_time": "2022-05-19T16:31:16.646Z"
   },
   {
    "duration": 20,
    "start_time": "2022-05-19T16:31:16.666Z"
   },
   {
    "duration": 17,
    "start_time": "2022-05-19T16:31:16.688Z"
   },
   {
    "duration": 84,
    "start_time": "2022-05-19T16:31:16.716Z"
   },
   {
    "duration": 41,
    "start_time": "2022-05-19T16:31:16.802Z"
   },
   {
    "duration": 7,
    "start_time": "2022-05-19T16:31:16.845Z"
   },
   {
    "duration": 11,
    "start_time": "2022-05-19T16:31:16.853Z"
   },
   {
    "duration": 9,
    "start_time": "2022-05-19T16:31:16.866Z"
   },
   {
    "duration": 45,
    "start_time": "2022-05-19T16:31:16.876Z"
   },
   {
    "duration": 6,
    "start_time": "2022-05-19T16:31:16.923Z"
   },
   {
    "duration": 16,
    "start_time": "2022-05-19T16:31:16.931Z"
   },
   {
    "duration": 14,
    "start_time": "2022-05-19T16:31:16.949Z"
   },
   {
    "duration": 477,
    "start_time": "2022-05-19T16:31:16.965Z"
   },
   {
    "duration": 6,
    "start_time": "2022-05-19T16:31:17.443Z"
   },
   {
    "duration": 7,
    "start_time": "2022-05-19T16:31:17.451Z"
   },
   {
    "duration": 13,
    "start_time": "2022-05-19T16:31:17.460Z"
   },
   {
    "duration": 9,
    "start_time": "2022-05-19T16:31:17.474Z"
   },
   {
    "duration": 435,
    "start_time": "2022-05-19T16:31:32.864Z"
   },
   {
    "duration": 272,
    "start_time": "2022-05-19T16:31:33.301Z"
   },
   {
    "duration": 20,
    "start_time": "2022-05-19T16:31:33.575Z"
   },
   {
    "duration": 17,
    "start_time": "2022-05-19T16:31:33.597Z"
   },
   {
    "duration": 9,
    "start_time": "2022-05-19T16:31:33.616Z"
   },
   {
    "duration": 9,
    "start_time": "2022-05-19T16:31:33.626Z"
   },
   {
    "duration": 7,
    "start_time": "2022-05-19T16:31:33.637Z"
   },
   {
    "duration": 10,
    "start_time": "2022-05-19T16:31:33.645Z"
   },
   {
    "duration": 18,
    "start_time": "2022-05-19T16:31:33.657Z"
   },
   {
    "duration": 51,
    "start_time": "2022-05-19T16:31:33.678Z"
   },
   {
    "duration": 8,
    "start_time": "2022-05-19T16:31:33.731Z"
   },
   {
    "duration": 22,
    "start_time": "2022-05-19T16:31:33.741Z"
   },
   {
    "duration": 26,
    "start_time": "2022-05-19T16:31:33.764Z"
   },
   {
    "duration": 24,
    "start_time": "2022-05-19T16:31:33.791Z"
   },
   {
    "duration": 7,
    "start_time": "2022-05-19T16:31:33.816Z"
   },
   {
    "duration": 15,
    "start_time": "2022-05-19T16:31:33.825Z"
   },
   {
    "duration": 5,
    "start_time": "2022-05-19T16:31:33.842Z"
   },
   {
    "duration": 8,
    "start_time": "2022-05-19T16:31:33.848Z"
   },
   {
    "duration": 9,
    "start_time": "2022-05-19T16:31:33.858Z"
   },
   {
    "duration": 44,
    "start_time": "2022-05-19T16:31:33.869Z"
   },
   {
    "duration": 13,
    "start_time": "2022-05-19T16:31:33.914Z"
   },
   {
    "duration": 17,
    "start_time": "2022-05-19T16:31:33.928Z"
   },
   {
    "duration": 18,
    "start_time": "2022-05-19T16:31:33.947Z"
   },
   {
    "duration": 48,
    "start_time": "2022-05-19T16:31:33.967Z"
   },
   {
    "duration": 72,
    "start_time": "2022-05-19T16:31:34.017Z"
   },
   {
    "duration": 46,
    "start_time": "2022-05-19T16:31:34.091Z"
   },
   {
    "duration": 8,
    "start_time": "2022-05-19T16:31:34.139Z"
   },
   {
    "duration": 9,
    "start_time": "2022-05-19T16:31:34.151Z"
   },
   {
    "duration": 7,
    "start_time": "2022-05-19T16:31:34.162Z"
   },
   {
    "duration": 56,
    "start_time": "2022-05-19T16:31:34.170Z"
   },
   {
    "duration": 6,
    "start_time": "2022-05-19T16:31:34.228Z"
   },
   {
    "duration": 24,
    "start_time": "2022-05-19T16:31:34.235Z"
   },
   {
    "duration": 14,
    "start_time": "2022-05-19T16:31:34.260Z"
   },
   {
    "duration": 445,
    "start_time": "2022-05-19T16:31:34.276Z"
   },
   {
    "duration": 6,
    "start_time": "2022-05-19T16:31:34.722Z"
   },
   {
    "duration": 6,
    "start_time": "2022-05-19T16:31:34.729Z"
   },
   {
    "duration": 9,
    "start_time": "2022-05-19T16:31:34.736Z"
   },
   {
    "duration": 11,
    "start_time": "2022-05-19T16:31:34.747Z"
   },
   {
    "duration": 409,
    "start_time": "2022-05-19T16:34:08.059Z"
   },
   {
    "duration": 266,
    "start_time": "2022-05-19T16:34:08.470Z"
   },
   {
    "duration": 19,
    "start_time": "2022-05-19T16:34:08.738Z"
   },
   {
    "duration": 18,
    "start_time": "2022-05-19T16:34:08.759Z"
   },
   {
    "duration": 16,
    "start_time": "2022-05-19T16:34:08.779Z"
   },
   {
    "duration": 25,
    "start_time": "2022-05-19T16:34:08.797Z"
   },
   {
    "duration": 7,
    "start_time": "2022-05-19T16:34:08.823Z"
   },
   {
    "duration": 21,
    "start_time": "2022-05-19T16:34:08.831Z"
   },
   {
    "duration": 23,
    "start_time": "2022-05-19T16:34:08.854Z"
   },
   {
    "duration": 29,
    "start_time": "2022-05-19T16:34:08.880Z"
   },
   {
    "duration": 6,
    "start_time": "2022-05-19T16:34:08.910Z"
   },
   {
    "duration": 16,
    "start_time": "2022-05-19T16:34:08.918Z"
   },
   {
    "duration": 27,
    "start_time": "2022-05-19T16:34:08.935Z"
   },
   {
    "duration": 17,
    "start_time": "2022-05-19T16:34:08.963Z"
   },
   {
    "duration": 9,
    "start_time": "2022-05-19T16:34:08.982Z"
   },
   {
    "duration": 25,
    "start_time": "2022-05-19T16:34:08.993Z"
   },
   {
    "duration": 6,
    "start_time": "2022-05-19T16:34:09.019Z"
   },
   {
    "duration": 15,
    "start_time": "2022-05-19T16:34:09.026Z"
   },
   {
    "duration": 15,
    "start_time": "2022-05-19T16:34:09.043Z"
   },
   {
    "duration": 16,
    "start_time": "2022-05-19T16:34:09.060Z"
   },
   {
    "duration": 16,
    "start_time": "2022-05-19T16:34:09.078Z"
   },
   {
    "duration": 35,
    "start_time": "2022-05-19T16:34:09.096Z"
   },
   {
    "duration": 23,
    "start_time": "2022-05-19T16:34:09.133Z"
   },
   {
    "duration": 17,
    "start_time": "2022-05-19T16:34:09.158Z"
   },
   {
    "duration": 93,
    "start_time": "2022-05-19T16:34:09.177Z"
   },
   {
    "duration": 26,
    "start_time": "2022-05-19T16:34:09.271Z"
   },
   {
    "duration": 10,
    "start_time": "2022-05-19T16:34:09.312Z"
   },
   {
    "duration": 13,
    "start_time": "2022-05-19T16:34:09.325Z"
   },
   {
    "duration": 7,
    "start_time": "2022-05-19T16:34:09.340Z"
   },
   {
    "duration": 24,
    "start_time": "2022-05-19T16:34:09.348Z"
   },
   {
    "duration": 8,
    "start_time": "2022-05-19T16:34:09.374Z"
   },
   {
    "duration": 35,
    "start_time": "2022-05-19T16:34:09.384Z"
   },
   {
    "duration": 16,
    "start_time": "2022-05-19T16:34:09.421Z"
   },
   {
    "duration": 460,
    "start_time": "2022-05-19T16:34:09.439Z"
   },
   {
    "duration": 12,
    "start_time": "2022-05-19T16:34:09.901Z"
   },
   {
    "duration": 17,
    "start_time": "2022-05-19T16:34:09.914Z"
   },
   {
    "duration": 12,
    "start_time": "2022-05-19T16:34:09.934Z"
   },
   {
    "duration": 22,
    "start_time": "2022-05-19T16:34:09.948Z"
   },
   {
    "duration": 434,
    "start_time": "2022-05-19T16:35:48.706Z"
   },
   {
    "duration": 287,
    "start_time": "2022-05-19T16:35:49.142Z"
   },
   {
    "duration": 21,
    "start_time": "2022-05-19T16:35:49.430Z"
   },
   {
    "duration": 16,
    "start_time": "2022-05-19T16:36:01.928Z"
   },
   {
    "duration": 10,
    "start_time": "2022-05-19T16:36:01.946Z"
   },
   {
    "duration": 10,
    "start_time": "2022-05-19T16:36:02.726Z"
   },
   {
    "duration": 6,
    "start_time": "2022-05-19T16:36:03.407Z"
   },
   {
    "duration": 14,
    "start_time": "2022-05-19T16:36:03.417Z"
   },
   {
    "duration": 14,
    "start_time": "2022-05-19T16:36:03.432Z"
   },
   {
    "duration": 35,
    "start_time": "2022-05-19T16:36:04.128Z"
   },
   {
    "duration": 6,
    "start_time": "2022-05-19T16:36:04.165Z"
   },
   {
    "duration": 6,
    "start_time": "2022-05-19T16:36:05.407Z"
   },
   {
    "duration": 34,
    "start_time": "2022-05-19T16:36:05.415Z"
   },
   {
    "duration": 23,
    "start_time": "2022-05-19T16:36:11.807Z"
   },
   {
    "duration": 4,
    "start_time": "2022-05-19T16:36:11.833Z"
   },
   {
    "duration": 26,
    "start_time": "2022-05-19T16:36:13.206Z"
   },
   {
    "duration": 12,
    "start_time": "2022-05-19T16:36:13.236Z"
   },
   {
    "duration": 19,
    "start_time": "2022-05-19T16:36:13.250Z"
   },
   {
    "duration": 8,
    "start_time": "2022-05-19T16:36:14.107Z"
   },
   {
    "duration": 32,
    "start_time": "2022-05-19T16:36:14.117Z"
   },
   {
    "duration": 14,
    "start_time": "2022-05-19T16:36:14.546Z"
   },
   {
    "duration": 18,
    "start_time": "2022-05-19T16:36:14.561Z"
   },
   {
    "duration": 25,
    "start_time": "2022-05-19T16:36:21.268Z"
   },
   {
    "duration": 36,
    "start_time": "2022-05-19T16:36:21.295Z"
   },
   {
    "duration": 85,
    "start_time": "2022-05-19T16:36:23.186Z"
   },
   {
    "duration": 26,
    "start_time": "2022-05-19T16:36:23.273Z"
   },
   {
    "duration": 14,
    "start_time": "2022-05-19T16:36:23.312Z"
   },
   {
    "duration": 7,
    "start_time": "2022-05-19T16:36:23.507Z"
   },
   {
    "duration": 17,
    "start_time": "2022-05-19T16:36:23.522Z"
   },
   {
    "duration": 22,
    "start_time": "2022-05-19T16:36:23.866Z"
   },
   {
    "duration": 8,
    "start_time": "2022-05-19T16:36:25.886Z"
   },
   {
    "duration": 23,
    "start_time": "2022-05-19T16:36:26.131Z"
   },
   {
    "duration": 16,
    "start_time": "2022-05-19T16:36:26.157Z"
   },
   {
    "duration": 518,
    "start_time": "2022-05-19T16:36:26.175Z"
   },
   {
    "duration": 6,
    "start_time": "2022-05-19T16:36:28.448Z"
   },
   {
    "duration": 10,
    "start_time": "2022-05-19T16:36:28.455Z"
   },
   {
    "duration": 9,
    "start_time": "2022-05-19T16:36:28.467Z"
   },
   {
    "duration": 7,
    "start_time": "2022-05-19T16:36:28.790Z"
   },
   {
    "duration": 415,
    "start_time": "2022-05-19T16:40:49.675Z"
   },
   {
    "duration": 271,
    "start_time": "2022-05-19T16:40:50.091Z"
   },
   {
    "duration": 19,
    "start_time": "2022-05-19T16:40:50.773Z"
   },
   {
    "duration": 15,
    "start_time": "2022-05-19T16:40:50.793Z"
   },
   {
    "duration": 10,
    "start_time": "2022-05-19T16:40:50.809Z"
   },
   {
    "duration": 9,
    "start_time": "2022-05-19T16:40:50.820Z"
   },
   {
    "duration": 7,
    "start_time": "2022-05-19T16:40:50.831Z"
   },
   {
    "duration": 23,
    "start_time": "2022-05-19T16:40:50.839Z"
   },
   {
    "duration": 15,
    "start_time": "2022-05-19T16:40:50.863Z"
   },
   {
    "duration": 41,
    "start_time": "2022-05-19T16:40:50.880Z"
   },
   {
    "duration": 6,
    "start_time": "2022-05-19T16:40:50.922Z"
   },
   {
    "duration": 5,
    "start_time": "2022-05-19T16:40:50.930Z"
   },
   {
    "duration": 16,
    "start_time": "2022-05-19T16:40:50.936Z"
   },
   {
    "duration": 12,
    "start_time": "2022-05-19T16:40:50.954Z"
   },
   {
    "duration": 5,
    "start_time": "2022-05-19T16:40:50.967Z"
   },
   {
    "duration": 45,
    "start_time": "2022-05-19T16:40:50.974Z"
   },
   {
    "duration": 5,
    "start_time": "2022-05-19T16:40:51.021Z"
   },
   {
    "duration": 10,
    "start_time": "2022-05-19T16:40:51.027Z"
   },
   {
    "duration": 7,
    "start_time": "2022-05-19T16:40:51.039Z"
   },
   {
    "duration": 11,
    "start_time": "2022-05-19T16:40:51.048Z"
   },
   {
    "duration": 13,
    "start_time": "2022-05-19T16:40:51.061Z"
   },
   {
    "duration": 44,
    "start_time": "2022-05-19T16:40:51.075Z"
   },
   {
    "duration": 19,
    "start_time": "2022-05-19T16:40:51.121Z"
   },
   {
    "duration": 16,
    "start_time": "2022-05-19T16:40:51.141Z"
   },
   {
    "duration": 91,
    "start_time": "2022-05-19T16:40:51.159Z"
   },
   {
    "duration": 26,
    "start_time": "2022-05-19T16:40:51.252Z"
   },
   {
    "duration": 7,
    "start_time": "2022-05-19T16:40:51.280Z"
   },
   {
    "duration": 28,
    "start_time": "2022-05-19T16:40:51.288Z"
   },
   {
    "duration": 5,
    "start_time": "2022-05-19T16:40:51.317Z"
   },
   {
    "duration": 16,
    "start_time": "2022-05-19T16:40:54.328Z"
   },
   {
    "duration": 6,
    "start_time": "2022-05-19T16:41:18.038Z"
   },
   {
    "duration": 22,
    "start_time": "2022-05-19T16:41:18.046Z"
   },
   {
    "duration": 15,
    "start_time": "2022-05-19T16:41:18.069Z"
   },
   {
    "duration": 459,
    "start_time": "2022-05-19T16:41:47.087Z"
   },
   {
    "duration": 271,
    "start_time": "2022-05-19T16:41:47.548Z"
   },
   {
    "duration": 20,
    "start_time": "2022-05-19T16:41:47.821Z"
   },
   {
    "duration": 14,
    "start_time": "2022-05-19T16:41:47.842Z"
   },
   {
    "duration": 9,
    "start_time": "2022-05-19T16:41:47.858Z"
   },
   {
    "duration": 11,
    "start_time": "2022-05-19T16:41:47.869Z"
   },
   {
    "duration": 5,
    "start_time": "2022-05-19T16:42:09.137Z"
   },
   {
    "duration": 6,
    "start_time": "2022-05-19T16:42:09.144Z"
   },
   {
    "duration": 15,
    "start_time": "2022-05-19T16:42:09.151Z"
   },
   {
    "duration": 30,
    "start_time": "2022-05-19T16:42:09.378Z"
   },
   {
    "duration": 6,
    "start_time": "2022-05-19T16:42:09.410Z"
   },
   {
    "duration": 6,
    "start_time": "2022-05-19T16:42:09.418Z"
   },
   {
    "duration": 24,
    "start_time": "2022-05-19T16:42:09.426Z"
   },
   {
    "duration": 12,
    "start_time": "2022-05-19T16:42:09.452Z"
   },
   {
    "duration": 13,
    "start_time": "2022-05-19T16:42:09.466Z"
   },
   {
    "duration": 33,
    "start_time": "2022-05-19T16:42:09.480Z"
   },
   {
    "duration": 6,
    "start_time": "2022-05-19T16:42:09.645Z"
   },
   {
    "duration": 8,
    "start_time": "2022-05-19T16:42:09.652Z"
   },
   {
    "duration": 9,
    "start_time": "2022-05-19T16:42:09.662Z"
   },
   {
    "duration": 10,
    "start_time": "2022-05-19T16:42:09.975Z"
   },
   {
    "duration": 13,
    "start_time": "2022-05-19T16:42:09.987Z"
   },
   {
    "duration": 17,
    "start_time": "2022-05-19T16:42:10.186Z"
   },
   {
    "duration": 21,
    "start_time": "2022-05-19T16:42:10.205Z"
   },
   {
    "duration": 22,
    "start_time": "2022-05-19T16:42:46.641Z"
   },
   {
    "duration": 72,
    "start_time": "2022-05-19T16:42:46.664Z"
   },
   {
    "duration": 35,
    "start_time": "2022-05-19T16:42:47.007Z"
   },
   {
    "duration": 8,
    "start_time": "2022-05-19T16:42:47.043Z"
   },
   {
    "duration": 9,
    "start_time": "2022-05-19T16:42:47.121Z"
   },
   {
    "duration": 5,
    "start_time": "2022-05-19T16:42:47.132Z"
   },
   {
    "duration": 18,
    "start_time": "2022-05-19T16:42:47.138Z"
   },
   {
    "duration": 6,
    "start_time": "2022-05-19T16:42:47.157Z"
   },
   {
    "duration": 18,
    "start_time": "2022-05-19T16:42:47.166Z"
   },
   {
    "duration": 48,
    "start_time": "2022-05-19T16:42:47.186Z"
   },
   {
    "duration": 452,
    "start_time": "2022-05-19T16:42:47.235Z"
   },
   {
    "duration": 6,
    "start_time": "2022-05-19T16:42:47.689Z"
   },
   {
    "duration": 9,
    "start_time": "2022-05-19T16:42:47.697Z"
   },
   {
    "duration": 20,
    "start_time": "2022-05-19T16:42:47.712Z"
   },
   {
    "duration": 14,
    "start_time": "2022-05-19T16:42:47.734Z"
   },
   {
    "duration": 408,
    "start_time": "2022-05-19T16:48:55.332Z"
   },
   {
    "duration": 275,
    "start_time": "2022-05-19T16:48:55.742Z"
   },
   {
    "duration": 18,
    "start_time": "2022-05-19T16:48:56.019Z"
   },
   {
    "duration": 14,
    "start_time": "2022-05-19T16:48:56.039Z"
   },
   {
    "duration": 9,
    "start_time": "2022-05-19T16:48:56.054Z"
   },
   {
    "duration": 11,
    "start_time": "2022-05-19T16:48:56.064Z"
   },
   {
    "duration": 4,
    "start_time": "2022-05-19T16:48:56.076Z"
   },
   {
    "duration": 11,
    "start_time": "2022-05-19T16:48:56.082Z"
   },
   {
    "duration": 32,
    "start_time": "2022-05-19T16:48:56.094Z"
   },
   {
    "duration": 28,
    "start_time": "2022-05-19T16:48:56.129Z"
   },
   {
    "duration": 6,
    "start_time": "2022-05-19T16:48:56.159Z"
   },
   {
    "duration": 5,
    "start_time": "2022-05-19T16:48:56.167Z"
   },
   {
    "duration": 46,
    "start_time": "2022-05-19T16:48:56.173Z"
   },
   {
    "duration": 12,
    "start_time": "2022-05-19T16:48:56.221Z"
   },
   {
    "duration": 7,
    "start_time": "2022-05-19T16:48:56.235Z"
   },
   {
    "duration": 15,
    "start_time": "2022-05-19T16:48:56.244Z"
   },
   {
    "duration": 4,
    "start_time": "2022-05-19T16:48:56.261Z"
   },
   {
    "duration": 11,
    "start_time": "2022-05-19T16:48:56.267Z"
   },
   {
    "duration": 7,
    "start_time": "2022-05-19T16:48:56.279Z"
   },
   {
    "duration": 11,
    "start_time": "2022-05-19T16:48:56.312Z"
   },
   {
    "duration": 13,
    "start_time": "2022-05-19T16:48:56.325Z"
   },
   {
    "duration": 16,
    "start_time": "2022-05-19T16:48:56.339Z"
   },
   {
    "duration": 18,
    "start_time": "2022-05-19T16:48:56.356Z"
   },
   {
    "duration": 43,
    "start_time": "2022-05-19T16:48:56.375Z"
   },
   {
    "duration": 67,
    "start_time": "2022-05-19T16:48:56.420Z"
   },
   {
    "duration": 42,
    "start_time": "2022-05-19T16:48:56.488Z"
   },
   {
    "duration": 8,
    "start_time": "2022-05-19T16:48:56.531Z"
   },
   {
    "duration": 14,
    "start_time": "2022-05-19T16:48:56.542Z"
   },
   {
    "duration": 8,
    "start_time": "2022-05-19T16:48:56.557Z"
   },
   {
    "duration": 15,
    "start_time": "2022-05-19T16:48:56.566Z"
   },
   {
    "duration": 5,
    "start_time": "2022-05-19T16:48:56.583Z"
   },
   {
    "duration": 20,
    "start_time": "2022-05-19T16:48:56.612Z"
   },
   {
    "duration": 15,
    "start_time": "2022-05-19T16:48:56.634Z"
   },
   {
    "duration": 445,
    "start_time": "2022-05-19T16:48:56.650Z"
   },
   {
    "duration": 6,
    "start_time": "2022-05-19T16:48:57.097Z"
   },
   {
    "duration": 11,
    "start_time": "2022-05-19T16:48:57.104Z"
   },
   {
    "duration": 10,
    "start_time": "2022-05-19T16:48:57.116Z"
   },
   {
    "duration": 9,
    "start_time": "2022-05-19T16:48:57.127Z"
   },
   {
    "duration": 11,
    "start_time": "2022-05-19T16:48:57.137Z"
   },
   {
    "duration": 18,
    "start_time": "2022-05-19T16:48:57.149Z"
   },
   {
    "duration": 183,
    "start_time": "2022-05-19T16:48:57.169Z"
   },
   {
    "duration": 15,
    "start_time": "2022-05-19T16:48:57.354Z"
   },
   {
    "duration": 143,
    "start_time": "2022-05-19T16:48:57.370Z"
   },
   {
    "duration": 13,
    "start_time": "2022-05-19T16:48:57.515Z"
   },
   {
    "duration": 151,
    "start_time": "2022-05-19T16:48:57.529Z"
   },
   {
    "duration": 17,
    "start_time": "2022-05-19T16:50:07.990Z"
   },
   {
    "duration": 10,
    "start_time": "2022-05-19T18:52:04.071Z"
   },
   {
    "duration": 526,
    "start_time": "2022-05-19T18:52:16.270Z"
   },
   {
    "duration": 312,
    "start_time": "2022-05-19T18:52:16.798Z"
   },
   {
    "duration": 22,
    "start_time": "2022-05-19T18:52:17.112Z"
   },
   {
    "duration": 15,
    "start_time": "2022-05-19T18:52:17.136Z"
   },
   {
    "duration": 9,
    "start_time": "2022-05-19T18:52:17.153Z"
   },
   {
    "duration": 12,
    "start_time": "2022-05-19T18:52:17.164Z"
   },
   {
    "duration": 4,
    "start_time": "2022-05-19T18:52:17.177Z"
   },
   {
    "duration": 5,
    "start_time": "2022-05-19T18:52:17.183Z"
   },
   {
    "duration": 18,
    "start_time": "2022-05-19T18:52:17.190Z"
   },
   {
    "duration": 8,
    "start_time": "2022-05-19T18:52:17.209Z"
   },
   {
    "duration": 0,
    "start_time": "2022-05-19T18:52:17.220Z"
   },
   {
    "duration": 0,
    "start_time": "2022-05-19T18:52:17.221Z"
   },
   {
    "duration": 0,
    "start_time": "2022-05-19T18:52:17.222Z"
   },
   {
    "duration": 0,
    "start_time": "2022-05-19T18:52:17.223Z"
   },
   {
    "duration": 0,
    "start_time": "2022-05-19T18:52:17.224Z"
   },
   {
    "duration": 0,
    "start_time": "2022-05-19T18:52:17.225Z"
   },
   {
    "duration": 0,
    "start_time": "2022-05-19T18:52:17.226Z"
   },
   {
    "duration": 0,
    "start_time": "2022-05-19T18:52:17.228Z"
   },
   {
    "duration": 0,
    "start_time": "2022-05-19T18:52:17.229Z"
   },
   {
    "duration": 0,
    "start_time": "2022-05-19T18:52:17.230Z"
   },
   {
    "duration": 0,
    "start_time": "2022-05-19T18:52:17.231Z"
   },
   {
    "duration": 0,
    "start_time": "2022-05-19T18:52:17.232Z"
   },
   {
    "duration": 0,
    "start_time": "2022-05-19T18:52:17.233Z"
   },
   {
    "duration": 0,
    "start_time": "2022-05-19T18:52:17.275Z"
   },
   {
    "duration": 0,
    "start_time": "2022-05-19T18:52:17.277Z"
   },
   {
    "duration": 0,
    "start_time": "2022-05-19T18:52:17.280Z"
   },
   {
    "duration": 0,
    "start_time": "2022-05-19T18:52:17.281Z"
   },
   {
    "duration": 0,
    "start_time": "2022-05-19T18:52:17.282Z"
   },
   {
    "duration": 0,
    "start_time": "2022-05-19T18:52:17.283Z"
   },
   {
    "duration": 0,
    "start_time": "2022-05-19T18:52:17.284Z"
   },
   {
    "duration": 0,
    "start_time": "2022-05-19T18:52:17.285Z"
   },
   {
    "duration": 0,
    "start_time": "2022-05-19T18:52:17.286Z"
   },
   {
    "duration": 0,
    "start_time": "2022-05-19T18:52:17.288Z"
   },
   {
    "duration": 0,
    "start_time": "2022-05-19T18:52:17.289Z"
   },
   {
    "duration": 0,
    "start_time": "2022-05-19T18:52:17.289Z"
   },
   {
    "duration": 0,
    "start_time": "2022-05-19T18:52:17.290Z"
   },
   {
    "duration": 0,
    "start_time": "2022-05-19T18:52:17.291Z"
   },
   {
    "duration": 0,
    "start_time": "2022-05-19T18:52:17.292Z"
   },
   {
    "duration": 0,
    "start_time": "2022-05-19T18:52:17.293Z"
   },
   {
    "duration": 0,
    "start_time": "2022-05-19T18:52:17.294Z"
   },
   {
    "duration": 0,
    "start_time": "2022-05-19T18:52:17.295Z"
   },
   {
    "duration": 0,
    "start_time": "2022-05-19T18:52:17.296Z"
   },
   {
    "duration": 0,
    "start_time": "2022-05-19T18:52:17.297Z"
   },
   {
    "duration": 0,
    "start_time": "2022-05-19T18:52:17.298Z"
   },
   {
    "duration": 0,
    "start_time": "2022-05-19T18:52:17.299Z"
   },
   {
    "duration": 32,
    "start_time": "2022-05-19T18:53:04.679Z"
   },
   {
    "duration": 67,
    "start_time": "2022-05-19T18:54:29.675Z"
   },
   {
    "duration": 15,
    "start_time": "2022-05-19T18:55:40.745Z"
   },
   {
    "duration": 416,
    "start_time": "2022-05-20T09:55:42.090Z"
   },
   {
    "duration": 85,
    "start_time": "2022-05-20T09:55:42.508Z"
   },
   {
    "duration": 22,
    "start_time": "2022-05-20T09:55:42.595Z"
   },
   {
    "duration": 32,
    "start_time": "2022-05-20T09:55:42.620Z"
   },
   {
    "duration": 14,
    "start_time": "2022-05-20T09:55:42.654Z"
   },
   {
    "duration": 11,
    "start_time": "2022-05-20T09:55:42.670Z"
   },
   {
    "duration": 7,
    "start_time": "2022-05-20T09:55:42.682Z"
   },
   {
    "duration": 10,
    "start_time": "2022-05-20T09:55:42.691Z"
   },
   {
    "duration": 46,
    "start_time": "2022-05-20T09:55:42.703Z"
   },
   {
    "duration": 48,
    "start_time": "2022-05-20T09:55:42.753Z"
   },
   {
    "duration": 7,
    "start_time": "2022-05-20T09:55:42.802Z"
   },
   {
    "duration": 5,
    "start_time": "2022-05-20T09:55:42.811Z"
   },
   {
    "duration": 27,
    "start_time": "2022-05-20T09:55:42.842Z"
   },
   {
    "duration": 12,
    "start_time": "2022-05-20T09:55:42.872Z"
   },
   {
    "duration": 4,
    "start_time": "2022-05-20T09:55:42.886Z"
   },
   {
    "duration": 15,
    "start_time": "2022-05-20T09:55:42.891Z"
   },
   {
    "duration": 37,
    "start_time": "2022-05-20T09:55:42.908Z"
   },
   {
    "duration": 17,
    "start_time": "2022-05-20T09:55:42.946Z"
   },
   {
    "duration": 7,
    "start_time": "2022-05-20T09:55:42.964Z"
   },
   {
    "duration": 16,
    "start_time": "2022-05-20T09:55:42.973Z"
   },
   {
    "duration": 15,
    "start_time": "2022-05-20T09:55:42.990Z"
   },
   {
    "duration": 46,
    "start_time": "2022-05-20T09:55:43.006Z"
   },
   {
    "duration": 23,
    "start_time": "2022-05-20T09:55:43.055Z"
   },
   {
    "duration": 17,
    "start_time": "2022-05-20T09:55:43.080Z"
   },
   {
    "duration": 118,
    "start_time": "2022-05-20T09:55:43.099Z"
   },
   {
    "duration": 52,
    "start_time": "2022-05-20T09:55:43.219Z"
   },
   {
    "duration": 9,
    "start_time": "2022-05-20T09:55:43.274Z"
   },
   {
    "duration": 11,
    "start_time": "2022-05-20T09:55:43.288Z"
   },
   {
    "duration": 10,
    "start_time": "2022-05-20T09:55:43.301Z"
   },
   {
    "duration": 34,
    "start_time": "2022-05-20T09:55:43.312Z"
   },
   {
    "duration": 16,
    "start_time": "2022-05-20T09:55:43.350Z"
   },
   {
    "duration": 18,
    "start_time": "2022-05-20T09:55:43.368Z"
   },
   {
    "duration": 14,
    "start_time": "2022-05-20T09:55:43.387Z"
   },
   {
    "duration": 492,
    "start_time": "2022-05-20T09:55:43.402Z"
   },
   {
    "duration": 6,
    "start_time": "2022-05-20T09:55:43.897Z"
   },
   {
    "duration": 10,
    "start_time": "2022-05-20T09:55:43.904Z"
   },
   {
    "duration": 9,
    "start_time": "2022-05-20T09:55:43.915Z"
   },
   {
    "duration": 41,
    "start_time": "2022-05-20T09:55:43.926Z"
   },
   {
    "duration": 22,
    "start_time": "2022-05-20T09:55:43.969Z"
   },
   {
    "duration": 18,
    "start_time": "2022-05-20T09:55:43.992Z"
   },
   {
    "duration": 193,
    "start_time": "2022-05-20T09:55:44.012Z"
   },
   {
    "duration": 21,
    "start_time": "2022-05-20T09:55:44.207Z"
   },
   {
    "duration": 172,
    "start_time": "2022-05-20T09:55:44.229Z"
   },
   {
    "duration": 15,
    "start_time": "2022-05-20T09:55:44.403Z"
   },
   {
    "duration": 177,
    "start_time": "2022-05-20T09:55:44.420Z"
   },
   {
    "duration": 448,
    "start_time": "2022-05-20T09:56:31.972Z"
   },
   {
    "duration": 90,
    "start_time": "2022-05-20T09:56:32.422Z"
   },
   {
    "duration": 21,
    "start_time": "2022-05-20T09:56:32.514Z"
   },
   {
    "duration": 25,
    "start_time": "2022-05-20T09:56:32.538Z"
   },
   {
    "duration": 10,
    "start_time": "2022-05-20T09:56:32.565Z"
   },
   {
    "duration": 14,
    "start_time": "2022-05-20T09:56:32.577Z"
   },
   {
    "duration": 7,
    "start_time": "2022-05-20T09:56:32.593Z"
   },
   {
    "duration": 14,
    "start_time": "2022-05-20T09:56:32.601Z"
   },
   {
    "duration": 42,
    "start_time": "2022-05-20T09:56:32.617Z"
   },
   {
    "duration": 39,
    "start_time": "2022-05-20T09:56:32.662Z"
   },
   {
    "duration": 8,
    "start_time": "2022-05-20T09:56:32.702Z"
   },
   {
    "duration": 9,
    "start_time": "2022-05-20T09:56:32.711Z"
   },
   {
    "duration": 30,
    "start_time": "2022-05-20T09:56:32.744Z"
   },
   {
    "duration": 13,
    "start_time": "2022-05-20T09:56:32.776Z"
   },
   {
    "duration": 10,
    "start_time": "2022-05-20T09:56:32.790Z"
   },
   {
    "duration": 16,
    "start_time": "2022-05-20T09:56:32.803Z"
   },
   {
    "duration": 36,
    "start_time": "2022-05-20T09:56:32.821Z"
   },
   {
    "duration": 10,
    "start_time": "2022-05-20T09:56:32.859Z"
   },
   {
    "duration": 9,
    "start_time": "2022-05-20T09:56:32.870Z"
   },
   {
    "duration": 15,
    "start_time": "2022-05-20T09:56:32.881Z"
   },
   {
    "duration": 14,
    "start_time": "2022-05-20T09:56:32.898Z"
   },
   {
    "duration": 56,
    "start_time": "2022-05-20T09:56:32.914Z"
   },
   {
    "duration": 22,
    "start_time": "2022-05-20T09:56:32.971Z"
   },
   {
    "duration": 18,
    "start_time": "2022-05-20T09:56:32.995Z"
   },
   {
    "duration": 114,
    "start_time": "2022-05-20T09:56:33.015Z"
   },
   {
    "duration": 48,
    "start_time": "2022-05-20T09:56:33.131Z"
   },
   {
    "duration": 10,
    "start_time": "2022-05-20T09:56:33.181Z"
   },
   {
    "duration": 10,
    "start_time": "2022-05-20T09:56:33.194Z"
   },
   {
    "duration": 41,
    "start_time": "2022-05-20T09:56:33.206Z"
   },
   {
    "duration": 20,
    "start_time": "2022-05-20T09:56:33.249Z"
   },
   {
    "duration": 13,
    "start_time": "2022-05-20T09:56:33.271Z"
   },
   {
    "duration": 19,
    "start_time": "2022-05-20T09:56:33.286Z"
   },
   {
    "duration": 44,
    "start_time": "2022-05-20T09:56:33.307Z"
   },
   {
    "duration": 479,
    "start_time": "2022-05-20T09:56:33.352Z"
   },
   {
    "duration": 21,
    "start_time": "2022-05-20T09:56:33.833Z"
   },
   {
    "duration": 7,
    "start_time": "2022-05-20T09:56:33.857Z"
   },
   {
    "duration": 10,
    "start_time": "2022-05-20T09:56:33.866Z"
   },
   {
    "duration": 9,
    "start_time": "2022-05-20T09:56:33.878Z"
   },
   {
    "duration": 19,
    "start_time": "2022-05-20T09:56:33.889Z"
   },
   {
    "duration": 51,
    "start_time": "2022-05-20T09:56:33.909Z"
   },
   {
    "duration": 212,
    "start_time": "2022-05-20T09:56:33.962Z"
   },
   {
    "duration": 17,
    "start_time": "2022-05-20T09:56:34.176Z"
   },
   {
    "duration": 181,
    "start_time": "2022-05-20T09:56:34.195Z"
   },
   {
    "duration": 17,
    "start_time": "2022-05-20T09:56:34.379Z"
   },
   {
    "duration": 178,
    "start_time": "2022-05-20T09:56:34.397Z"
   },
   {
    "duration": 508,
    "start_time": "2022-05-20T10:02:24.129Z"
   },
   {
    "duration": 87,
    "start_time": "2022-05-20T10:02:24.642Z"
   },
   {
    "duration": 29,
    "start_time": "2022-05-20T10:02:24.731Z"
   },
   {
    "duration": 21,
    "start_time": "2022-05-20T10:02:24.762Z"
   },
   {
    "duration": 11,
    "start_time": "2022-05-20T10:02:24.786Z"
   },
   {
    "duration": 47,
    "start_time": "2022-05-20T10:02:24.800Z"
   },
   {
    "duration": 14,
    "start_time": "2022-05-20T10:02:24.855Z"
   },
   {
    "duration": 6,
    "start_time": "2022-05-20T10:02:24.871Z"
   },
   {
    "duration": 17,
    "start_time": "2022-05-20T10:02:24.879Z"
   },
   {
    "duration": 60,
    "start_time": "2022-05-20T10:02:24.898Z"
   },
   {
    "duration": 9,
    "start_time": "2022-05-20T10:02:24.959Z"
   },
   {
    "duration": 7,
    "start_time": "2022-05-20T10:02:24.970Z"
   },
   {
    "duration": 22,
    "start_time": "2022-05-20T10:02:24.979Z"
   },
   {
    "duration": 55,
    "start_time": "2022-05-20T10:02:25.005Z"
   },
   {
    "duration": 9,
    "start_time": "2022-05-20T10:02:25.063Z"
   },
   {
    "duration": 19,
    "start_time": "2022-05-20T10:02:25.074Z"
   },
   {
    "duration": 8,
    "start_time": "2022-05-20T10:02:25.095Z"
   },
   {
    "duration": 13,
    "start_time": "2022-05-20T10:02:25.105Z"
   },
   {
    "duration": 10,
    "start_time": "2022-05-20T10:02:25.142Z"
   },
   {
    "duration": 23,
    "start_time": "2022-05-20T10:02:25.155Z"
   },
   {
    "duration": 15,
    "start_time": "2022-05-20T10:02:25.181Z"
   },
   {
    "duration": 20,
    "start_time": "2022-05-20T10:02:25.198Z"
   },
   {
    "duration": 30,
    "start_time": "2022-05-20T10:02:25.242Z"
   },
   {
    "duration": 20,
    "start_time": "2022-05-20T10:02:25.273Z"
   },
   {
    "duration": 139,
    "start_time": "2022-05-20T10:02:25.295Z"
   },
   {
    "duration": 41,
    "start_time": "2022-05-20T10:02:25.444Z"
   },
   {
    "duration": 12,
    "start_time": "2022-05-20T10:02:25.487Z"
   },
   {
    "duration": 13,
    "start_time": "2022-05-20T10:02:25.502Z"
   },
   {
    "duration": 37,
    "start_time": "2022-05-20T10:02:25.517Z"
   },
   {
    "duration": 28,
    "start_time": "2022-05-20T10:02:25.556Z"
   },
   {
    "duration": 10,
    "start_time": "2022-05-20T10:02:25.587Z"
   },
   {
    "duration": 23,
    "start_time": "2022-05-20T10:02:25.599Z"
   },
   {
    "duration": 20,
    "start_time": "2022-05-20T10:02:25.643Z"
   },
   {
    "duration": 508,
    "start_time": "2022-05-20T10:02:25.665Z"
   },
   {
    "duration": 7,
    "start_time": "2022-05-20T10:02:26.175Z"
   },
   {
    "duration": 7,
    "start_time": "2022-05-20T10:02:26.184Z"
   },
   {
    "duration": 10,
    "start_time": "2022-05-20T10:02:26.193Z"
   },
   {
    "duration": 10,
    "start_time": "2022-05-20T10:02:26.205Z"
   },
   {
    "duration": 46,
    "start_time": "2022-05-20T10:02:26.217Z"
   },
   {
    "duration": 22,
    "start_time": "2022-05-20T10:02:26.264Z"
   },
   {
    "duration": 195,
    "start_time": "2022-05-20T10:02:26.290Z"
   },
   {
    "duration": 16,
    "start_time": "2022-05-20T10:02:26.487Z"
   },
   {
    "duration": 184,
    "start_time": "2022-05-20T10:02:26.504Z"
   },
   {
    "duration": 20,
    "start_time": "2022-05-20T10:02:26.690Z"
   },
   {
    "duration": 222,
    "start_time": "2022-05-20T10:02:26.712Z"
   },
   {
    "duration": 115,
    "start_time": "2022-05-21T11:52:57.964Z"
   },
   {
    "duration": 990,
    "start_time": "2022-05-21T11:53:01.822Z"
   },
   {
    "duration": 170,
    "start_time": "2022-05-21T11:53:02.814Z"
   },
   {
    "duration": 20,
    "start_time": "2022-05-21T11:53:02.986Z"
   },
   {
    "duration": 40,
    "start_time": "2022-05-21T11:53:03.009Z"
   },
   {
    "duration": 39,
    "start_time": "2022-05-21T11:53:03.056Z"
   },
   {
    "duration": 19,
    "start_time": "2022-05-21T11:53:03.097Z"
   },
   {
    "duration": 6,
    "start_time": "2022-05-21T11:53:03.118Z"
   },
   {
    "duration": 51,
    "start_time": "2022-05-21T11:53:03.126Z"
   },
   {
    "duration": 14,
    "start_time": "2022-05-21T11:53:03.179Z"
   },
   {
    "duration": 56,
    "start_time": "2022-05-21T11:53:03.197Z"
   },
   {
    "duration": 83,
    "start_time": "2022-05-21T11:53:03.254Z"
   },
   {
    "duration": 7,
    "start_time": "2022-05-21T11:53:03.338Z"
   },
   {
    "duration": 39,
    "start_time": "2022-05-21T11:53:03.347Z"
   },
   {
    "duration": 29,
    "start_time": "2022-05-21T11:53:03.390Z"
   },
   {
    "duration": 32,
    "start_time": "2022-05-21T11:53:03.423Z"
   },
   {
    "duration": 13,
    "start_time": "2022-05-21T11:53:03.457Z"
   },
   {
    "duration": 38,
    "start_time": "2022-05-21T11:53:03.472Z"
   },
   {
    "duration": 6,
    "start_time": "2022-05-21T11:53:03.512Z"
   },
   {
    "duration": 74,
    "start_time": "2022-05-21T11:53:03.520Z"
   },
   {
    "duration": 12,
    "start_time": "2022-05-21T11:53:03.596Z"
   },
   {
    "duration": 71,
    "start_time": "2022-05-21T11:53:03.610Z"
   },
   {
    "duration": 22,
    "start_time": "2022-05-21T11:53:03.683Z"
   },
   {
    "duration": 30,
    "start_time": "2022-05-21T11:53:03.707Z"
   },
   {
    "duration": 51,
    "start_time": "2022-05-21T11:53:03.746Z"
   },
   {
    "duration": 62,
    "start_time": "2022-05-21T11:53:03.800Z"
   },
   {
    "duration": 198,
    "start_time": "2022-05-21T11:53:03.864Z"
   },
   {
    "duration": 38,
    "start_time": "2022-05-21T11:53:04.066Z"
   },
   {
    "duration": 10,
    "start_time": "2022-05-21T11:53:04.111Z"
   },
   {
    "duration": 70,
    "start_time": "2022-05-21T11:53:04.124Z"
   },
   {
    "duration": 28,
    "start_time": "2022-05-21T11:53:04.196Z"
   },
   {
    "duration": 54,
    "start_time": "2022-05-21T11:53:04.233Z"
   },
   {
    "duration": 17,
    "start_time": "2022-05-21T11:53:04.290Z"
   },
   {
    "duration": 40,
    "start_time": "2022-05-21T11:53:04.309Z"
   },
   {
    "duration": 47,
    "start_time": "2022-05-21T11:53:04.351Z"
   },
   {
    "duration": 767,
    "start_time": "2022-05-21T11:53:04.400Z"
   },
   {
    "duration": 6,
    "start_time": "2022-05-21T11:53:05.173Z"
   },
   {
    "duration": 13,
    "start_time": "2022-05-21T11:53:05.182Z"
   },
   {
    "duration": 8,
    "start_time": "2022-05-21T11:53:05.198Z"
   },
   {
    "duration": 79,
    "start_time": "2022-05-21T11:53:05.230Z"
   },
   {
    "duration": 42,
    "start_time": "2022-05-21T11:53:05.311Z"
   },
   {
    "duration": 49,
    "start_time": "2022-05-21T11:53:05.357Z"
   },
   {
    "duration": 194,
    "start_time": "2022-05-21T11:53:05.408Z"
   },
   {
    "duration": 16,
    "start_time": "2022-05-21T11:53:05.606Z"
   },
   {
    "duration": 181,
    "start_time": "2022-05-21T11:53:05.624Z"
   },
   {
    "duration": 23,
    "start_time": "2022-05-21T11:53:05.807Z"
   },
   {
    "duration": 166,
    "start_time": "2022-05-21T11:53:05.846Z"
   },
   {
    "duration": 6,
    "start_time": "2022-05-21T11:53:38.896Z"
   },
   {
    "duration": 616,
    "start_time": "2022-05-21T12:01:01.357Z"
   },
   {
    "duration": 5,
    "start_time": "2022-05-21T12:01:08.456Z"
   },
   {
    "duration": 11,
    "start_time": "2022-05-21T12:01:22.964Z"
   },
   {
    "duration": 86,
    "start_time": "2022-05-21T12:28:27.986Z"
   },
   {
    "duration": 16,
    "start_time": "2022-05-21T12:28:34.721Z"
   },
   {
    "duration": 6,
    "start_time": "2022-05-21T12:29:36.607Z"
   },
   {
    "duration": 10,
    "start_time": "2022-05-21T12:29:50.191Z"
   },
   {
    "duration": 14,
    "start_time": "2022-05-21T12:30:04.602Z"
   },
   {
    "duration": 11,
    "start_time": "2022-05-21T12:30:08.192Z"
   },
   {
    "duration": 10,
    "start_time": "2022-05-21T12:30:26.382Z"
   },
   {
    "duration": 5,
    "start_time": "2022-05-21T12:30:47.211Z"
   },
   {
    "duration": 17,
    "start_time": "2022-05-21T12:31:00.416Z"
   },
   {
    "duration": 17,
    "start_time": "2022-05-21T12:31:11.667Z"
   },
   {
    "duration": 454,
    "start_time": "2022-05-21T20:23:12.294Z"
   },
   {
    "duration": 268,
    "start_time": "2022-05-21T20:23:12.750Z"
   },
   {
    "duration": 19,
    "start_time": "2022-05-21T20:23:13.019Z"
   },
   {
    "duration": 16,
    "start_time": "2022-05-21T20:23:13.040Z"
   },
   {
    "duration": 9,
    "start_time": "2022-05-21T20:23:13.057Z"
   },
   {
    "duration": 10,
    "start_time": "2022-05-21T20:23:13.067Z"
   },
   {
    "duration": 6,
    "start_time": "2022-05-21T20:23:13.079Z"
   },
   {
    "duration": 28,
    "start_time": "2022-05-21T20:23:13.087Z"
   },
   {
    "duration": 5,
    "start_time": "2022-05-21T20:23:13.117Z"
   },
   {
    "duration": 15,
    "start_time": "2022-05-21T20:23:13.125Z"
   },
   {
    "duration": 30,
    "start_time": "2022-05-21T20:23:13.142Z"
   },
   {
    "duration": 39,
    "start_time": "2022-05-21T20:23:13.174Z"
   },
   {
    "duration": 6,
    "start_time": "2022-05-21T20:23:13.214Z"
   },
   {
    "duration": 18,
    "start_time": "2022-05-21T20:23:13.221Z"
   },
   {
    "duration": 11,
    "start_time": "2022-05-21T20:23:13.241Z"
   },
   {
    "duration": 7,
    "start_time": "2022-05-21T20:23:13.253Z"
   },
   {
    "duration": 13,
    "start_time": "2022-05-21T20:23:13.261Z"
   },
   {
    "duration": 95,
    "start_time": "2022-05-21T20:23:13.276Z"
   },
   {
    "duration": 0,
    "start_time": "2022-05-21T20:23:13.374Z"
   },
   {
    "duration": 0,
    "start_time": "2022-05-21T20:23:13.376Z"
   },
   {
    "duration": 0,
    "start_time": "2022-05-21T20:23:13.377Z"
   },
   {
    "duration": 0,
    "start_time": "2022-05-21T20:23:13.379Z"
   },
   {
    "duration": 0,
    "start_time": "2022-05-21T20:23:13.380Z"
   },
   {
    "duration": 0,
    "start_time": "2022-05-21T20:23:13.381Z"
   },
   {
    "duration": 0,
    "start_time": "2022-05-21T20:23:13.382Z"
   },
   {
    "duration": 0,
    "start_time": "2022-05-21T20:23:13.383Z"
   },
   {
    "duration": 0,
    "start_time": "2022-05-21T20:23:13.384Z"
   },
   {
    "duration": 0,
    "start_time": "2022-05-21T20:23:13.385Z"
   },
   {
    "duration": 0,
    "start_time": "2022-05-21T20:23:13.412Z"
   },
   {
    "duration": 0,
    "start_time": "2022-05-21T20:23:13.413Z"
   },
   {
    "duration": 0,
    "start_time": "2022-05-21T20:23:13.414Z"
   },
   {
    "duration": 1,
    "start_time": "2022-05-21T20:23:13.415Z"
   },
   {
    "duration": 0,
    "start_time": "2022-05-21T20:23:13.417Z"
   },
   {
    "duration": 0,
    "start_time": "2022-05-21T20:23:13.417Z"
   },
   {
    "duration": 0,
    "start_time": "2022-05-21T20:23:13.418Z"
   },
   {
    "duration": 0,
    "start_time": "2022-05-21T20:23:13.420Z"
   },
   {
    "duration": 0,
    "start_time": "2022-05-21T20:23:13.421Z"
   },
   {
    "duration": 0,
    "start_time": "2022-05-21T20:23:13.422Z"
   },
   {
    "duration": 0,
    "start_time": "2022-05-21T20:23:13.423Z"
   },
   {
    "duration": 0,
    "start_time": "2022-05-21T20:23:13.424Z"
   },
   {
    "duration": 0,
    "start_time": "2022-05-21T20:23:13.425Z"
   },
   {
    "duration": 0,
    "start_time": "2022-05-21T20:23:13.426Z"
   },
   {
    "duration": 0,
    "start_time": "2022-05-21T20:23:13.427Z"
   },
   {
    "duration": 0,
    "start_time": "2022-05-21T20:23:13.427Z"
   },
   {
    "duration": 0,
    "start_time": "2022-05-21T20:23:13.428Z"
   },
   {
    "duration": 0,
    "start_time": "2022-05-21T20:23:13.429Z"
   },
   {
    "duration": 0,
    "start_time": "2022-05-21T20:23:13.430Z"
   },
   {
    "duration": 37,
    "start_time": "2022-05-21T20:25:41.068Z"
   },
   {
    "duration": 5,
    "start_time": "2022-05-21T20:25:46.805Z"
   },
   {
    "duration": 5,
    "start_time": "2022-05-21T20:25:49.209Z"
   },
   {
    "duration": 2,
    "start_time": "2022-05-21T20:25:52.291Z"
   },
   {
    "duration": 70,
    "start_time": "2022-05-21T20:25:52.295Z"
   },
   {
    "duration": 12,
    "start_time": "2022-05-21T20:25:52.367Z"
   },
   {
    "duration": 17,
    "start_time": "2022-05-21T20:25:52.380Z"
   },
   {
    "duration": 19,
    "start_time": "2022-05-21T20:25:52.399Z"
   },
   {
    "duration": 9,
    "start_time": "2022-05-21T20:25:52.420Z"
   },
   {
    "duration": 5,
    "start_time": "2022-05-21T20:25:52.430Z"
   },
   {
    "duration": 8,
    "start_time": "2022-05-21T20:25:52.436Z"
   },
   {
    "duration": 13,
    "start_time": "2022-05-21T20:25:52.445Z"
   },
   {
    "duration": 22,
    "start_time": "2022-05-21T20:25:52.459Z"
   },
   {
    "duration": 56,
    "start_time": "2022-05-21T20:25:52.484Z"
   },
   {
    "duration": 5,
    "start_time": "2022-05-21T20:25:52.542Z"
   },
   {
    "duration": 7,
    "start_time": "2022-05-21T20:25:52.549Z"
   },
   {
    "duration": 18,
    "start_time": "2022-05-21T20:25:52.557Z"
   },
   {
    "duration": 46,
    "start_time": "2022-05-21T20:25:52.577Z"
   },
   {
    "duration": 6,
    "start_time": "2022-05-21T20:25:52.625Z"
   },
   {
    "duration": 18,
    "start_time": "2022-05-21T20:25:52.632Z"
   },
   {
    "duration": 8,
    "start_time": "2022-05-21T20:25:52.652Z"
   },
   {
    "duration": 0,
    "start_time": "2022-05-21T20:25:52.662Z"
   },
   {
    "duration": 0,
    "start_time": "2022-05-21T20:25:52.663Z"
   },
   {
    "duration": 0,
    "start_time": "2022-05-21T20:25:52.664Z"
   },
   {
    "duration": 0,
    "start_time": "2022-05-21T20:25:52.665Z"
   },
   {
    "duration": 0,
    "start_time": "2022-05-21T20:25:52.666Z"
   },
   {
    "duration": 0,
    "start_time": "2022-05-21T20:25:52.667Z"
   },
   {
    "duration": 0,
    "start_time": "2022-05-21T20:25:52.668Z"
   },
   {
    "duration": 0,
    "start_time": "2022-05-21T20:25:52.669Z"
   },
   {
    "duration": 0,
    "start_time": "2022-05-21T20:25:52.670Z"
   },
   {
    "duration": 0,
    "start_time": "2022-05-21T20:25:52.671Z"
   },
   {
    "duration": 0,
    "start_time": "2022-05-21T20:25:52.672Z"
   },
   {
    "duration": 0,
    "start_time": "2022-05-21T20:25:52.712Z"
   },
   {
    "duration": 0,
    "start_time": "2022-05-21T20:25:52.713Z"
   },
   {
    "duration": 0,
    "start_time": "2022-05-21T20:25:52.714Z"
   },
   {
    "duration": 0,
    "start_time": "2022-05-21T20:25:52.715Z"
   },
   {
    "duration": 0,
    "start_time": "2022-05-21T20:25:52.716Z"
   },
   {
    "duration": 0,
    "start_time": "2022-05-21T20:25:52.717Z"
   },
   {
    "duration": 0,
    "start_time": "2022-05-21T20:25:52.718Z"
   },
   {
    "duration": 0,
    "start_time": "2022-05-21T20:25:52.719Z"
   },
   {
    "duration": 0,
    "start_time": "2022-05-21T20:25:52.720Z"
   },
   {
    "duration": 0,
    "start_time": "2022-05-21T20:25:52.721Z"
   },
   {
    "duration": 0,
    "start_time": "2022-05-21T20:25:52.722Z"
   },
   {
    "duration": 0,
    "start_time": "2022-05-21T20:25:52.724Z"
   },
   {
    "duration": 0,
    "start_time": "2022-05-21T20:25:52.725Z"
   },
   {
    "duration": 0,
    "start_time": "2022-05-21T20:25:52.726Z"
   },
   {
    "duration": 0,
    "start_time": "2022-05-21T20:25:52.727Z"
   },
   {
    "duration": 0,
    "start_time": "2022-05-21T20:25:52.728Z"
   },
   {
    "duration": 0,
    "start_time": "2022-05-21T20:25:52.729Z"
   },
   {
    "duration": 0,
    "start_time": "2022-05-21T20:25:52.730Z"
   },
   {
    "duration": 35,
    "start_time": "2022-05-21T20:29:08.101Z"
   },
   {
    "duration": 41,
    "start_time": "2022-05-21T20:31:06.474Z"
   },
   {
    "duration": 22,
    "start_time": "2022-05-21T20:38:46.209Z"
   },
   {
    "duration": 4,
    "start_time": "2022-05-21T20:39:32.120Z"
   },
   {
    "duration": 3,
    "start_time": "2022-05-21T20:39:47.392Z"
   },
   {
    "duration": 7,
    "start_time": "2022-05-21T20:40:45.720Z"
   },
   {
    "duration": 8,
    "start_time": "2022-05-21T20:40:56.288Z"
   },
   {
    "duration": 12,
    "start_time": "2022-05-21T20:44:23.573Z"
   },
   {
    "duration": 7,
    "start_time": "2022-05-21T20:44:29.715Z"
   },
   {
    "duration": 12,
    "start_time": "2022-05-21T20:44:36.693Z"
   },
   {
    "duration": 10,
    "start_time": "2022-05-21T20:44:47.381Z"
   },
   {
    "duration": 10,
    "start_time": "2022-05-21T20:44:51.088Z"
   },
   {
    "duration": 7,
    "start_time": "2022-05-21T20:45:04.880Z"
   },
   {
    "duration": 8,
    "start_time": "2022-05-21T20:49:22.591Z"
   },
   {
    "duration": 7,
    "start_time": "2022-05-21T20:53:23.351Z"
   },
   {
    "duration": 9,
    "start_time": "2022-05-21T20:53:34.948Z"
   },
   {
    "duration": 7,
    "start_time": "2022-05-21T20:54:24.383Z"
   },
   {
    "duration": 7,
    "start_time": "2022-05-21T20:54:40.283Z"
   },
   {
    "duration": 337,
    "start_time": "2022-05-21T20:56:25.111Z"
   },
   {
    "duration": 322,
    "start_time": "2022-05-21T20:56:53.483Z"
   },
   {
    "duration": 393,
    "start_time": "2022-05-21T20:57:56.010Z"
   },
   {
    "duration": 7,
    "start_time": "2022-05-21T20:59:24.974Z"
   },
   {
    "duration": 10,
    "start_time": "2022-05-21T21:00:38.610Z"
   },
   {
    "duration": 8,
    "start_time": "2022-05-21T21:04:08.282Z"
   },
   {
    "duration": 15,
    "start_time": "2022-05-21T21:04:36.934Z"
   },
   {
    "duration": 7,
    "start_time": "2022-05-21T21:05:15.702Z"
   },
   {
    "duration": 2,
    "start_time": "2022-05-21T21:05:36.386Z"
   },
   {
    "duration": 81,
    "start_time": "2022-05-21T21:05:36.390Z"
   },
   {
    "duration": 13,
    "start_time": "2022-05-21T21:05:36.472Z"
   },
   {
    "duration": 26,
    "start_time": "2022-05-21T21:05:36.486Z"
   },
   {
    "duration": 17,
    "start_time": "2022-05-21T21:05:36.515Z"
   },
   {
    "duration": 9,
    "start_time": "2022-05-21T21:05:36.533Z"
   },
   {
    "duration": 5,
    "start_time": "2022-05-21T21:05:36.543Z"
   },
   {
    "duration": 6,
    "start_time": "2022-05-21T21:05:36.550Z"
   },
   {
    "duration": 5,
    "start_time": "2022-05-21T21:05:36.557Z"
   },
   {
    "duration": 7,
    "start_time": "2022-05-21T21:05:36.564Z"
   },
   {
    "duration": 49,
    "start_time": "2022-05-21T21:05:36.573Z"
   },
   {
    "duration": 21,
    "start_time": "2022-05-21T21:05:36.625Z"
   },
   {
    "duration": 27,
    "start_time": "2022-05-21T21:05:36.647Z"
   },
   {
    "duration": 5,
    "start_time": "2022-05-21T21:05:36.675Z"
   },
   {
    "duration": 31,
    "start_time": "2022-05-21T21:05:36.681Z"
   },
   {
    "duration": 27,
    "start_time": "2022-05-21T21:05:36.715Z"
   },
   {
    "duration": 18,
    "start_time": "2022-05-21T21:05:36.744Z"
   },
   {
    "duration": 11,
    "start_time": "2022-05-21T21:05:36.763Z"
   },
   {
    "duration": 22,
    "start_time": "2022-05-21T21:05:36.775Z"
   },
   {
    "duration": 10,
    "start_time": "2022-05-21T21:05:36.799Z"
   },
   {
    "duration": 0,
    "start_time": "2022-05-21T21:05:36.812Z"
   },
   {
    "duration": 0,
    "start_time": "2022-05-21T21:05:36.814Z"
   },
   {
    "duration": 0,
    "start_time": "2022-05-21T21:05:36.815Z"
   },
   {
    "duration": 0,
    "start_time": "2022-05-21T21:05:36.817Z"
   },
   {
    "duration": 0,
    "start_time": "2022-05-21T21:05:36.818Z"
   },
   {
    "duration": 0,
    "start_time": "2022-05-21T21:05:36.819Z"
   },
   {
    "duration": 0,
    "start_time": "2022-05-21T21:05:36.821Z"
   },
   {
    "duration": 0,
    "start_time": "2022-05-21T21:05:36.822Z"
   },
   {
    "duration": 0,
    "start_time": "2022-05-21T21:05:36.823Z"
   },
   {
    "duration": 0,
    "start_time": "2022-05-21T21:05:36.825Z"
   },
   {
    "duration": 0,
    "start_time": "2022-05-21T21:05:36.827Z"
   },
   {
    "duration": 0,
    "start_time": "2022-05-21T21:05:36.828Z"
   },
   {
    "duration": 0,
    "start_time": "2022-05-21T21:05:36.829Z"
   },
   {
    "duration": 0,
    "start_time": "2022-05-21T21:05:36.831Z"
   },
   {
    "duration": 0,
    "start_time": "2022-05-21T21:05:36.832Z"
   },
   {
    "duration": 0,
    "start_time": "2022-05-21T21:05:36.833Z"
   },
   {
    "duration": 0,
    "start_time": "2022-05-21T21:05:36.834Z"
   },
   {
    "duration": 0,
    "start_time": "2022-05-21T21:05:36.835Z"
   },
   {
    "duration": 0,
    "start_time": "2022-05-21T21:05:36.836Z"
   },
   {
    "duration": 0,
    "start_time": "2022-05-21T21:05:36.837Z"
   },
   {
    "duration": 0,
    "start_time": "2022-05-21T21:05:36.838Z"
   },
   {
    "duration": 0,
    "start_time": "2022-05-21T21:05:36.839Z"
   },
   {
    "duration": 0,
    "start_time": "2022-05-21T21:05:36.840Z"
   },
   {
    "duration": 0,
    "start_time": "2022-05-21T21:05:36.841Z"
   },
   {
    "duration": 0,
    "start_time": "2022-05-21T21:05:36.842Z"
   },
   {
    "duration": 0,
    "start_time": "2022-05-21T21:05:36.843Z"
   },
   {
    "duration": 0,
    "start_time": "2022-05-21T21:05:36.844Z"
   },
   {
    "duration": 0,
    "start_time": "2022-05-21T21:05:36.845Z"
   },
   {
    "duration": 0,
    "start_time": "2022-05-21T21:05:36.846Z"
   },
   {
    "duration": 26,
    "start_time": "2022-05-21T21:07:41.166Z"
   },
   {
    "duration": 32,
    "start_time": "2022-05-21T21:07:47.866Z"
   },
   {
    "duration": 17,
    "start_time": "2022-05-21T21:08:05.433Z"
   },
   {
    "duration": 3,
    "start_time": "2022-05-21T21:08:07.178Z"
   },
   {
    "duration": 126,
    "start_time": "2022-05-21T21:08:07.184Z"
   },
   {
    "duration": 19,
    "start_time": "2022-05-21T21:08:07.313Z"
   },
   {
    "duration": 28,
    "start_time": "2022-05-21T21:08:07.334Z"
   },
   {
    "duration": 10,
    "start_time": "2022-05-21T21:08:07.364Z"
   },
   {
    "duration": 15,
    "start_time": "2022-05-21T21:08:07.375Z"
   },
   {
    "duration": 6,
    "start_time": "2022-05-21T21:08:07.413Z"
   },
   {
    "duration": 17,
    "start_time": "2022-05-21T21:08:07.420Z"
   },
   {
    "duration": 5,
    "start_time": "2022-05-21T21:08:07.439Z"
   },
   {
    "duration": 22,
    "start_time": "2022-05-21T21:08:07.446Z"
   },
   {
    "duration": 9,
    "start_time": "2022-05-21T21:08:07.472Z"
   },
   {
    "duration": 68,
    "start_time": "2022-05-21T21:08:07.483Z"
   },
   {
    "duration": 28,
    "start_time": "2022-05-21T21:08:07.553Z"
   },
   {
    "duration": 5,
    "start_time": "2022-05-21T21:08:07.583Z"
   },
   {
    "duration": 9,
    "start_time": "2022-05-21T21:08:07.613Z"
   },
   {
    "duration": 25,
    "start_time": "2022-05-21T21:08:07.623Z"
   },
   {
    "duration": 11,
    "start_time": "2022-05-21T21:08:07.650Z"
   },
   {
    "duration": 4,
    "start_time": "2022-05-21T21:08:07.663Z"
   },
   {
    "duration": 16,
    "start_time": "2022-05-21T21:08:07.668Z"
   },
   {
    "duration": 41,
    "start_time": "2022-05-21T21:08:07.685Z"
   },
   {
    "duration": 0,
    "start_time": "2022-05-21T21:08:07.729Z"
   },
   {
    "duration": 0,
    "start_time": "2022-05-21T21:08:07.731Z"
   },
   {
    "duration": 0,
    "start_time": "2022-05-21T21:08:07.732Z"
   },
   {
    "duration": 0,
    "start_time": "2022-05-21T21:08:07.734Z"
   },
   {
    "duration": 0,
    "start_time": "2022-05-21T21:08:07.734Z"
   },
   {
    "duration": 0,
    "start_time": "2022-05-21T21:08:07.735Z"
   },
   {
    "duration": 0,
    "start_time": "2022-05-21T21:08:07.736Z"
   },
   {
    "duration": 0,
    "start_time": "2022-05-21T21:08:07.738Z"
   },
   {
    "duration": 0,
    "start_time": "2022-05-21T21:08:07.739Z"
   },
   {
    "duration": 0,
    "start_time": "2022-05-21T21:08:07.740Z"
   },
   {
    "duration": 0,
    "start_time": "2022-05-21T21:08:07.741Z"
   },
   {
    "duration": 0,
    "start_time": "2022-05-21T21:08:07.742Z"
   },
   {
    "duration": 0,
    "start_time": "2022-05-21T21:08:07.744Z"
   },
   {
    "duration": 0,
    "start_time": "2022-05-21T21:08:07.745Z"
   },
   {
    "duration": 0,
    "start_time": "2022-05-21T21:08:07.746Z"
   },
   {
    "duration": 0,
    "start_time": "2022-05-21T21:08:07.747Z"
   },
   {
    "duration": 0,
    "start_time": "2022-05-21T21:08:07.748Z"
   },
   {
    "duration": 0,
    "start_time": "2022-05-21T21:08:07.749Z"
   },
   {
    "duration": 0,
    "start_time": "2022-05-21T21:08:07.751Z"
   },
   {
    "duration": 0,
    "start_time": "2022-05-21T21:08:07.752Z"
   },
   {
    "duration": 0,
    "start_time": "2022-05-21T21:08:07.753Z"
   },
   {
    "duration": 0,
    "start_time": "2022-05-21T21:08:07.754Z"
   },
   {
    "duration": 0,
    "start_time": "2022-05-21T21:08:07.755Z"
   },
   {
    "duration": 0,
    "start_time": "2022-05-21T21:08:07.756Z"
   },
   {
    "duration": 0,
    "start_time": "2022-05-21T21:08:07.757Z"
   },
   {
    "duration": 0,
    "start_time": "2022-05-21T21:08:07.758Z"
   },
   {
    "duration": 0,
    "start_time": "2022-05-21T21:08:07.759Z"
   },
   {
    "duration": 0,
    "start_time": "2022-05-21T21:08:07.760Z"
   },
   {
    "duration": 0,
    "start_time": "2022-05-21T21:08:07.812Z"
   },
   {
    "duration": 3,
    "start_time": "2022-05-21T21:08:25.939Z"
   },
   {
    "duration": 72,
    "start_time": "2022-05-21T21:08:25.945Z"
   },
   {
    "duration": 13,
    "start_time": "2022-05-21T21:08:26.018Z"
   },
   {
    "duration": 17,
    "start_time": "2022-05-21T21:08:26.033Z"
   },
   {
    "duration": 10,
    "start_time": "2022-05-21T21:08:26.052Z"
   },
   {
    "duration": 13,
    "start_time": "2022-05-21T21:08:26.063Z"
   },
   {
    "duration": 36,
    "start_time": "2022-05-21T21:08:26.078Z"
   },
   {
    "duration": 9,
    "start_time": "2022-05-21T21:08:26.116Z"
   },
   {
    "duration": 10,
    "start_time": "2022-05-21T21:08:26.127Z"
   },
   {
    "duration": 17,
    "start_time": "2022-05-21T21:08:26.138Z"
   },
   {
    "duration": 16,
    "start_time": "2022-05-21T21:08:26.157Z"
   },
   {
    "duration": 42,
    "start_time": "2022-05-21T21:08:26.175Z"
   },
   {
    "duration": 30,
    "start_time": "2022-05-21T21:08:26.219Z"
   },
   {
    "duration": 4,
    "start_time": "2022-05-21T21:08:26.251Z"
   },
   {
    "duration": 19,
    "start_time": "2022-05-21T21:08:26.257Z"
   },
   {
    "duration": 35,
    "start_time": "2022-05-21T21:08:26.278Z"
   },
   {
    "duration": 22,
    "start_time": "2022-05-21T21:08:26.315Z"
   },
   {
    "duration": 9,
    "start_time": "2022-05-21T21:08:26.339Z"
   },
   {
    "duration": 29,
    "start_time": "2022-05-21T21:08:26.349Z"
   },
   {
    "duration": 18,
    "start_time": "2022-05-21T21:08:26.379Z"
   },
   {
    "duration": 0,
    "start_time": "2022-05-21T21:08:26.399Z"
   },
   {
    "duration": 0,
    "start_time": "2022-05-21T21:08:26.400Z"
   },
   {
    "duration": 0,
    "start_time": "2022-05-21T21:08:26.402Z"
   },
   {
    "duration": 0,
    "start_time": "2022-05-21T21:08:26.403Z"
   },
   {
    "duration": 0,
    "start_time": "2022-05-21T21:08:26.405Z"
   },
   {
    "duration": 0,
    "start_time": "2022-05-21T21:08:26.406Z"
   },
   {
    "duration": 0,
    "start_time": "2022-05-21T21:08:26.407Z"
   },
   {
    "duration": 0,
    "start_time": "2022-05-21T21:08:26.408Z"
   },
   {
    "duration": 0,
    "start_time": "2022-05-21T21:08:26.409Z"
   },
   {
    "duration": 0,
    "start_time": "2022-05-21T21:08:26.411Z"
   },
   {
    "duration": 0,
    "start_time": "2022-05-21T21:08:26.413Z"
   },
   {
    "duration": 0,
    "start_time": "2022-05-21T21:08:26.414Z"
   },
   {
    "duration": 0,
    "start_time": "2022-05-21T21:08:26.415Z"
   },
   {
    "duration": 0,
    "start_time": "2022-05-21T21:08:26.416Z"
   },
   {
    "duration": 0,
    "start_time": "2022-05-21T21:08:26.417Z"
   },
   {
    "duration": 0,
    "start_time": "2022-05-21T21:08:26.418Z"
   },
   {
    "duration": 0,
    "start_time": "2022-05-21T21:08:26.419Z"
   },
   {
    "duration": 0,
    "start_time": "2022-05-21T21:08:26.420Z"
   },
   {
    "duration": 0,
    "start_time": "2022-05-21T21:08:26.421Z"
   },
   {
    "duration": 0,
    "start_time": "2022-05-21T21:08:26.422Z"
   },
   {
    "duration": 0,
    "start_time": "2022-05-21T21:08:26.423Z"
   },
   {
    "duration": 0,
    "start_time": "2022-05-21T21:08:26.424Z"
   },
   {
    "duration": 0,
    "start_time": "2022-05-21T21:08:26.425Z"
   },
   {
    "duration": 0,
    "start_time": "2022-05-21T21:08:26.425Z"
   },
   {
    "duration": 0,
    "start_time": "2022-05-21T21:08:26.426Z"
   },
   {
    "duration": 0,
    "start_time": "2022-05-21T21:08:26.427Z"
   },
   {
    "duration": 0,
    "start_time": "2022-05-21T21:08:26.428Z"
   },
   {
    "duration": 0,
    "start_time": "2022-05-21T21:08:26.429Z"
   },
   {
    "duration": 0,
    "start_time": "2022-05-21T21:08:26.430Z"
   },
   {
    "duration": 34,
    "start_time": "2022-05-21T21:10:11.135Z"
   },
   {
    "duration": 379,
    "start_time": "2022-05-21T21:10:48.094Z"
   },
   {
    "duration": 409,
    "start_time": "2022-05-21T21:11:35.726Z"
   },
   {
    "duration": 2,
    "start_time": "2022-05-21T21:12:03.145Z"
   },
   {
    "duration": 107,
    "start_time": "2022-05-21T21:12:03.151Z"
   },
   {
    "duration": 15,
    "start_time": "2022-05-21T21:12:03.261Z"
   },
   {
    "duration": 40,
    "start_time": "2022-05-21T21:12:03.278Z"
   },
   {
    "duration": 46,
    "start_time": "2022-05-21T21:12:03.321Z"
   },
   {
    "duration": 30,
    "start_time": "2022-05-21T21:12:03.370Z"
   },
   {
    "duration": 36,
    "start_time": "2022-05-21T21:12:03.401Z"
   },
   {
    "duration": 23,
    "start_time": "2022-05-21T21:12:03.439Z"
   },
   {
    "duration": 23,
    "start_time": "2022-05-21T21:12:03.465Z"
   },
   {
    "duration": 16,
    "start_time": "2022-05-21T21:12:03.490Z"
   },
   {
    "duration": 39,
    "start_time": "2022-05-21T21:12:03.509Z"
   },
   {
    "duration": 449,
    "start_time": "2022-05-21T21:12:03.550Z"
   },
   {
    "duration": 0,
    "start_time": "2022-05-21T21:12:04.002Z"
   },
   {
    "duration": 0,
    "start_time": "2022-05-21T21:12:04.004Z"
   },
   {
    "duration": 0,
    "start_time": "2022-05-21T21:12:04.006Z"
   },
   {
    "duration": 0,
    "start_time": "2022-05-21T21:12:04.007Z"
   },
   {
    "duration": 0,
    "start_time": "2022-05-21T21:12:04.009Z"
   },
   {
    "duration": 0,
    "start_time": "2022-05-21T21:12:04.010Z"
   },
   {
    "duration": 0,
    "start_time": "2022-05-21T21:12:04.011Z"
   },
   {
    "duration": 0,
    "start_time": "2022-05-21T21:12:04.012Z"
   },
   {
    "duration": 0,
    "start_time": "2022-05-21T21:12:04.014Z"
   },
   {
    "duration": 0,
    "start_time": "2022-05-21T21:12:04.015Z"
   },
   {
    "duration": 0,
    "start_time": "2022-05-21T21:12:04.017Z"
   },
   {
    "duration": 0,
    "start_time": "2022-05-21T21:12:04.018Z"
   },
   {
    "duration": 0,
    "start_time": "2022-05-21T21:12:04.019Z"
   },
   {
    "duration": 0,
    "start_time": "2022-05-21T21:12:04.022Z"
   },
   {
    "duration": 0,
    "start_time": "2022-05-21T21:12:04.023Z"
   },
   {
    "duration": 0,
    "start_time": "2022-05-21T21:12:04.024Z"
   },
   {
    "duration": 0,
    "start_time": "2022-05-21T21:12:04.026Z"
   },
   {
    "duration": 0,
    "start_time": "2022-05-21T21:12:04.027Z"
   },
   {
    "duration": 0,
    "start_time": "2022-05-21T21:12:04.028Z"
   },
   {
    "duration": 0,
    "start_time": "2022-05-21T21:12:04.029Z"
   },
   {
    "duration": 1,
    "start_time": "2022-05-21T21:12:04.030Z"
   },
   {
    "duration": 0,
    "start_time": "2022-05-21T21:12:04.032Z"
   },
   {
    "duration": 0,
    "start_time": "2022-05-21T21:12:04.033Z"
   },
   {
    "duration": 0,
    "start_time": "2022-05-21T21:12:04.035Z"
   },
   {
    "duration": 0,
    "start_time": "2022-05-21T21:12:04.036Z"
   },
   {
    "duration": 0,
    "start_time": "2022-05-21T21:12:04.038Z"
   },
   {
    "duration": 0,
    "start_time": "2022-05-21T21:12:04.039Z"
   },
   {
    "duration": 0,
    "start_time": "2022-05-21T21:12:04.041Z"
   },
   {
    "duration": 0,
    "start_time": "2022-05-21T21:12:04.042Z"
   },
   {
    "duration": 0,
    "start_time": "2022-05-21T21:12:04.043Z"
   },
   {
    "duration": 0,
    "start_time": "2022-05-21T21:12:04.044Z"
   },
   {
    "duration": 0,
    "start_time": "2022-05-21T21:12:04.045Z"
   },
   {
    "duration": 0,
    "start_time": "2022-05-21T21:12:04.046Z"
   },
   {
    "duration": 0,
    "start_time": "2022-05-21T21:12:04.047Z"
   },
   {
    "duration": 0,
    "start_time": "2022-05-21T21:12:04.048Z"
   },
   {
    "duration": 0,
    "start_time": "2022-05-21T21:12:04.049Z"
   },
   {
    "duration": 0,
    "start_time": "2022-05-21T21:12:04.049Z"
   },
   {
    "duration": 384,
    "start_time": "2022-05-21T21:12:45.577Z"
   },
   {
    "duration": 407,
    "start_time": "2022-05-21T21:13:09.229Z"
   },
   {
    "duration": 395,
    "start_time": "2022-05-21T21:13:18.682Z"
   },
   {
    "duration": 3,
    "start_time": "2022-05-21T21:13:27.225Z"
   },
   {
    "duration": 88,
    "start_time": "2022-05-21T21:13:27.230Z"
   },
   {
    "duration": 17,
    "start_time": "2022-05-21T21:13:27.321Z"
   },
   {
    "duration": 15,
    "start_time": "2022-05-21T21:13:27.339Z"
   },
   {
    "duration": 9,
    "start_time": "2022-05-21T21:13:27.356Z"
   },
   {
    "duration": 9,
    "start_time": "2022-05-21T21:13:27.366Z"
   },
   {
    "duration": 4,
    "start_time": "2022-05-21T21:13:27.377Z"
   },
   {
    "duration": 32,
    "start_time": "2022-05-21T21:13:27.382Z"
   },
   {
    "duration": 16,
    "start_time": "2022-05-21T21:13:27.416Z"
   },
   {
    "duration": 5,
    "start_time": "2022-05-21T21:13:27.433Z"
   },
   {
    "duration": 9,
    "start_time": "2022-05-21T21:13:27.440Z"
   },
   {
    "duration": 6,
    "start_time": "2022-05-21T21:13:27.451Z"
   },
   {
    "duration": 5,
    "start_time": "2022-05-21T21:13:27.459Z"
   },
   {
    "duration": 335,
    "start_time": "2022-05-21T21:13:27.466Z"
   },
   {
    "duration": 0,
    "start_time": "2022-05-21T21:13:27.803Z"
   },
   {
    "duration": 0,
    "start_time": "2022-05-21T21:13:27.804Z"
   },
   {
    "duration": 0,
    "start_time": "2022-05-21T21:13:27.805Z"
   },
   {
    "duration": 0,
    "start_time": "2022-05-21T21:13:27.806Z"
   },
   {
    "duration": 0,
    "start_time": "2022-05-21T21:13:27.807Z"
   },
   {
    "duration": 0,
    "start_time": "2022-05-21T21:13:27.807Z"
   },
   {
    "duration": 0,
    "start_time": "2022-05-21T21:13:27.809Z"
   },
   {
    "duration": 0,
    "start_time": "2022-05-21T21:13:27.810Z"
   },
   {
    "duration": 0,
    "start_time": "2022-05-21T21:13:27.811Z"
   },
   {
    "duration": 0,
    "start_time": "2022-05-21T21:13:27.813Z"
   },
   {
    "duration": 0,
    "start_time": "2022-05-21T21:13:27.814Z"
   },
   {
    "duration": 0,
    "start_time": "2022-05-21T21:13:27.815Z"
   },
   {
    "duration": 0,
    "start_time": "2022-05-21T21:13:27.816Z"
   },
   {
    "duration": 0,
    "start_time": "2022-05-21T21:13:27.818Z"
   },
   {
    "duration": 0,
    "start_time": "2022-05-21T21:13:27.819Z"
   },
   {
    "duration": 0,
    "start_time": "2022-05-21T21:13:27.820Z"
   },
   {
    "duration": 0,
    "start_time": "2022-05-21T21:13:27.821Z"
   },
   {
    "duration": 0,
    "start_time": "2022-05-21T21:13:27.823Z"
   },
   {
    "duration": 0,
    "start_time": "2022-05-21T21:13:27.825Z"
   },
   {
    "duration": 0,
    "start_time": "2022-05-21T21:13:27.827Z"
   },
   {
    "duration": 0,
    "start_time": "2022-05-21T21:13:27.827Z"
   },
   {
    "duration": 0,
    "start_time": "2022-05-21T21:13:27.829Z"
   },
   {
    "duration": 0,
    "start_time": "2022-05-21T21:13:27.830Z"
   },
   {
    "duration": 0,
    "start_time": "2022-05-21T21:13:27.831Z"
   },
   {
    "duration": 0,
    "start_time": "2022-05-21T21:13:27.832Z"
   },
   {
    "duration": 0,
    "start_time": "2022-05-21T21:13:27.833Z"
   },
   {
    "duration": 0,
    "start_time": "2022-05-21T21:13:27.834Z"
   },
   {
    "duration": 0,
    "start_time": "2022-05-21T21:13:27.835Z"
   },
   {
    "duration": 0,
    "start_time": "2022-05-21T21:13:27.836Z"
   },
   {
    "duration": 0,
    "start_time": "2022-05-21T21:13:27.837Z"
   },
   {
    "duration": 0,
    "start_time": "2022-05-21T21:13:27.838Z"
   },
   {
    "duration": 0,
    "start_time": "2022-05-21T21:13:27.839Z"
   },
   {
    "duration": 0,
    "start_time": "2022-05-21T21:13:27.840Z"
   },
   {
    "duration": 0,
    "start_time": "2022-05-21T21:13:27.841Z"
   },
   {
    "duration": 0,
    "start_time": "2022-05-21T21:13:27.842Z"
   },
   {
    "duration": 2,
    "start_time": "2022-05-21T21:13:41.801Z"
   },
   {
    "duration": 83,
    "start_time": "2022-05-21T21:13:41.807Z"
   },
   {
    "duration": 13,
    "start_time": "2022-05-21T21:13:41.893Z"
   },
   {
    "duration": 32,
    "start_time": "2022-05-21T21:13:41.907Z"
   },
   {
    "duration": 9,
    "start_time": "2022-05-21T21:13:41.941Z"
   },
   {
    "duration": 12,
    "start_time": "2022-05-21T21:13:41.951Z"
   },
   {
    "duration": 6,
    "start_time": "2022-05-21T21:13:41.964Z"
   },
   {
    "duration": 13,
    "start_time": "2022-05-21T21:13:41.971Z"
   },
   {
    "duration": 13,
    "start_time": "2022-05-21T21:13:41.986Z"
   },
   {
    "duration": 10,
    "start_time": "2022-05-21T21:13:42.000Z"
   },
   {
    "duration": 20,
    "start_time": "2022-05-21T21:13:42.014Z"
   },
   {
    "duration": 10,
    "start_time": "2022-05-21T21:13:42.035Z"
   },
   {
    "duration": 0,
    "start_time": "2022-05-21T21:13:42.047Z"
   },
   {
    "duration": 0,
    "start_time": "2022-05-21T21:13:42.048Z"
   },
   {
    "duration": 0,
    "start_time": "2022-05-21T21:13:42.049Z"
   },
   {
    "duration": 0,
    "start_time": "2022-05-21T21:13:42.050Z"
   },
   {
    "duration": 0,
    "start_time": "2022-05-21T21:13:42.051Z"
   },
   {
    "duration": 0,
    "start_time": "2022-05-21T21:13:42.052Z"
   },
   {
    "duration": 0,
    "start_time": "2022-05-21T21:13:42.052Z"
   },
   {
    "duration": 0,
    "start_time": "2022-05-21T21:13:42.053Z"
   },
   {
    "duration": 0,
    "start_time": "2022-05-21T21:13:42.054Z"
   },
   {
    "duration": 0,
    "start_time": "2022-05-21T21:13:42.055Z"
   },
   {
    "duration": 0,
    "start_time": "2022-05-21T21:13:42.056Z"
   },
   {
    "duration": 0,
    "start_time": "2022-05-21T21:13:42.057Z"
   },
   {
    "duration": 0,
    "start_time": "2022-05-21T21:13:42.058Z"
   },
   {
    "duration": 0,
    "start_time": "2022-05-21T21:13:42.059Z"
   },
   {
    "duration": 0,
    "start_time": "2022-05-21T21:13:42.060Z"
   },
   {
    "duration": 0,
    "start_time": "2022-05-21T21:13:42.061Z"
   },
   {
    "duration": 0,
    "start_time": "2022-05-21T21:13:42.062Z"
   },
   {
    "duration": 0,
    "start_time": "2022-05-21T21:13:42.062Z"
   },
   {
    "duration": 0,
    "start_time": "2022-05-21T21:13:42.063Z"
   },
   {
    "duration": 0,
    "start_time": "2022-05-21T21:13:42.064Z"
   },
   {
    "duration": 0,
    "start_time": "2022-05-21T21:13:42.065Z"
   },
   {
    "duration": 0,
    "start_time": "2022-05-21T21:13:42.066Z"
   },
   {
    "duration": 0,
    "start_time": "2022-05-21T21:13:42.067Z"
   },
   {
    "duration": 0,
    "start_time": "2022-05-21T21:13:42.069Z"
   },
   {
    "duration": 0,
    "start_time": "2022-05-21T21:13:42.069Z"
   },
   {
    "duration": 0,
    "start_time": "2022-05-21T21:13:42.070Z"
   },
   {
    "duration": 0,
    "start_time": "2022-05-21T21:13:42.112Z"
   },
   {
    "duration": 0,
    "start_time": "2022-05-21T21:13:42.114Z"
   },
   {
    "duration": 0,
    "start_time": "2022-05-21T21:13:42.115Z"
   },
   {
    "duration": 0,
    "start_time": "2022-05-21T21:13:42.116Z"
   },
   {
    "duration": 0,
    "start_time": "2022-05-21T21:13:42.118Z"
   },
   {
    "duration": 0,
    "start_time": "2022-05-21T21:13:42.119Z"
   },
   {
    "duration": 0,
    "start_time": "2022-05-21T21:13:42.120Z"
   },
   {
    "duration": 0,
    "start_time": "2022-05-21T21:13:42.121Z"
   },
   {
    "duration": 0,
    "start_time": "2022-05-21T21:13:42.123Z"
   },
   {
    "duration": 0,
    "start_time": "2022-05-21T21:13:42.125Z"
   },
   {
    "duration": 0,
    "start_time": "2022-05-21T21:13:42.127Z"
   },
   {
    "duration": 3,
    "start_time": "2022-05-21T21:13:51.243Z"
   },
   {
    "duration": 68,
    "start_time": "2022-05-21T21:13:51.248Z"
   },
   {
    "duration": 14,
    "start_time": "2022-05-21T21:13:51.320Z"
   },
   {
    "duration": 14,
    "start_time": "2022-05-21T21:13:51.336Z"
   },
   {
    "duration": 8,
    "start_time": "2022-05-21T21:13:51.352Z"
   },
   {
    "duration": 10,
    "start_time": "2022-05-21T21:13:51.362Z"
   },
   {
    "duration": 6,
    "start_time": "2022-05-21T21:13:51.374Z"
   },
   {
    "duration": 2,
    "start_time": "2022-05-21T21:13:51.382Z"
   },
   {
    "duration": 3,
    "start_time": "2022-05-21T21:13:51.414Z"
   },
   {
    "duration": 20,
    "start_time": "2022-05-21T21:13:51.418Z"
   },
   {
    "duration": 13,
    "start_time": "2022-05-21T21:13:51.440Z"
   },
   {
    "duration": 14,
    "start_time": "2022-05-21T21:13:51.455Z"
   },
   {
    "duration": 0,
    "start_time": "2022-05-21T21:13:51.472Z"
   },
   {
    "duration": 0,
    "start_time": "2022-05-21T21:13:51.473Z"
   },
   {
    "duration": 0,
    "start_time": "2022-05-21T21:13:51.474Z"
   },
   {
    "duration": 0,
    "start_time": "2022-05-21T21:13:51.476Z"
   },
   {
    "duration": 0,
    "start_time": "2022-05-21T21:13:51.477Z"
   },
   {
    "duration": 0,
    "start_time": "2022-05-21T21:13:51.479Z"
   },
   {
    "duration": 0,
    "start_time": "2022-05-21T21:13:51.480Z"
   },
   {
    "duration": 0,
    "start_time": "2022-05-21T21:13:51.484Z"
   },
   {
    "duration": 0,
    "start_time": "2022-05-21T21:13:51.486Z"
   },
   {
    "duration": 0,
    "start_time": "2022-05-21T21:13:51.487Z"
   },
   {
    "duration": 0,
    "start_time": "2022-05-21T21:13:51.488Z"
   },
   {
    "duration": 0,
    "start_time": "2022-05-21T21:13:51.513Z"
   },
   {
    "duration": 0,
    "start_time": "2022-05-21T21:13:51.514Z"
   },
   {
    "duration": 0,
    "start_time": "2022-05-21T21:13:51.515Z"
   },
   {
    "duration": 0,
    "start_time": "2022-05-21T21:13:51.517Z"
   },
   {
    "duration": 0,
    "start_time": "2022-05-21T21:13:51.518Z"
   },
   {
    "duration": 0,
    "start_time": "2022-05-21T21:13:51.520Z"
   },
   {
    "duration": 0,
    "start_time": "2022-05-21T21:13:51.521Z"
   },
   {
    "duration": 0,
    "start_time": "2022-05-21T21:13:51.522Z"
   },
   {
    "duration": 0,
    "start_time": "2022-05-21T21:13:51.523Z"
   },
   {
    "duration": 0,
    "start_time": "2022-05-21T21:13:51.524Z"
   },
   {
    "duration": 0,
    "start_time": "2022-05-21T21:13:51.526Z"
   },
   {
    "duration": 0,
    "start_time": "2022-05-21T21:13:51.527Z"
   },
   {
    "duration": 0,
    "start_time": "2022-05-21T21:13:51.529Z"
   },
   {
    "duration": 0,
    "start_time": "2022-05-21T21:13:51.530Z"
   },
   {
    "duration": 0,
    "start_time": "2022-05-21T21:13:51.531Z"
   },
   {
    "duration": 0,
    "start_time": "2022-05-21T21:13:51.533Z"
   },
   {
    "duration": 0,
    "start_time": "2022-05-21T21:13:51.535Z"
   },
   {
    "duration": 0,
    "start_time": "2022-05-21T21:13:51.536Z"
   },
   {
    "duration": 0,
    "start_time": "2022-05-21T21:13:51.538Z"
   },
   {
    "duration": 0,
    "start_time": "2022-05-21T21:13:51.539Z"
   },
   {
    "duration": 0,
    "start_time": "2022-05-21T21:13:51.540Z"
   },
   {
    "duration": 0,
    "start_time": "2022-05-21T21:13:51.541Z"
   },
   {
    "duration": 1,
    "start_time": "2022-05-21T21:13:51.542Z"
   },
   {
    "duration": 0,
    "start_time": "2022-05-21T21:13:51.544Z"
   },
   {
    "duration": 0,
    "start_time": "2022-05-21T21:13:51.545Z"
   },
   {
    "duration": 0,
    "start_time": "2022-05-21T21:13:51.547Z"
   },
   {
    "duration": 4,
    "start_time": "2022-05-21T21:14:13.010Z"
   },
   {
    "duration": 83,
    "start_time": "2022-05-21T21:14:13.016Z"
   },
   {
    "duration": 14,
    "start_time": "2022-05-21T21:14:13.101Z"
   },
   {
    "duration": 29,
    "start_time": "2022-05-21T21:14:13.117Z"
   },
   {
    "duration": 9,
    "start_time": "2022-05-21T21:14:13.149Z"
   },
   {
    "duration": 12,
    "start_time": "2022-05-21T21:14:13.160Z"
   },
   {
    "duration": 5,
    "start_time": "2022-05-21T21:14:13.174Z"
   },
   {
    "duration": 3,
    "start_time": "2022-05-21T21:14:13.181Z"
   },
   {
    "duration": 3,
    "start_time": "2022-05-21T21:14:13.212Z"
   },
   {
    "duration": 16,
    "start_time": "2022-05-21T21:14:13.218Z"
   },
   {
    "duration": 9,
    "start_time": "2022-05-21T21:14:13.237Z"
   },
   {
    "duration": 8,
    "start_time": "2022-05-21T21:14:13.247Z"
   },
   {
    "duration": 7,
    "start_time": "2022-05-21T21:14:13.256Z"
   },
   {
    "duration": 414,
    "start_time": "2022-05-21T21:14:13.264Z"
   },
   {
    "duration": 0,
    "start_time": "2022-05-21T21:14:13.680Z"
   },
   {
    "duration": 0,
    "start_time": "2022-05-21T21:14:13.681Z"
   },
   {
    "duration": 0,
    "start_time": "2022-05-21T21:14:13.682Z"
   },
   {
    "duration": 0,
    "start_time": "2022-05-21T21:14:13.684Z"
   },
   {
    "duration": 0,
    "start_time": "2022-05-21T21:14:13.685Z"
   },
   {
    "duration": 0,
    "start_time": "2022-05-21T21:14:13.686Z"
   },
   {
    "duration": 0,
    "start_time": "2022-05-21T21:14:13.688Z"
   },
   {
    "duration": 0,
    "start_time": "2022-05-21T21:14:13.689Z"
   },
   {
    "duration": 0,
    "start_time": "2022-05-21T21:14:13.691Z"
   },
   {
    "duration": 0,
    "start_time": "2022-05-21T21:14:13.692Z"
   },
   {
    "duration": 0,
    "start_time": "2022-05-21T21:14:13.693Z"
   },
   {
    "duration": 0,
    "start_time": "2022-05-21T21:14:13.695Z"
   },
   {
    "duration": 0,
    "start_time": "2022-05-21T21:14:13.697Z"
   },
   {
    "duration": 0,
    "start_time": "2022-05-21T21:14:13.698Z"
   },
   {
    "duration": 0,
    "start_time": "2022-05-21T21:14:13.699Z"
   },
   {
    "duration": 0,
    "start_time": "2022-05-21T21:14:13.700Z"
   },
   {
    "duration": 0,
    "start_time": "2022-05-21T21:14:13.702Z"
   },
   {
    "duration": 0,
    "start_time": "2022-05-21T21:14:13.703Z"
   },
   {
    "duration": 0,
    "start_time": "2022-05-21T21:14:13.704Z"
   },
   {
    "duration": 0,
    "start_time": "2022-05-21T21:14:13.706Z"
   },
   {
    "duration": 0,
    "start_time": "2022-05-21T21:14:13.707Z"
   },
   {
    "duration": 0,
    "start_time": "2022-05-21T21:14:13.708Z"
   },
   {
    "duration": 0,
    "start_time": "2022-05-21T21:14:13.710Z"
   },
   {
    "duration": 0,
    "start_time": "2022-05-21T21:14:13.711Z"
   },
   {
    "duration": 0,
    "start_time": "2022-05-21T21:14:13.713Z"
   },
   {
    "duration": 0,
    "start_time": "2022-05-21T21:14:13.714Z"
   },
   {
    "duration": 0,
    "start_time": "2022-05-21T21:14:13.715Z"
   },
   {
    "duration": 0,
    "start_time": "2022-05-21T21:14:13.716Z"
   },
   {
    "duration": 0,
    "start_time": "2022-05-21T21:14:13.718Z"
   },
   {
    "duration": 0,
    "start_time": "2022-05-21T21:14:13.719Z"
   },
   {
    "duration": 0,
    "start_time": "2022-05-21T21:14:13.720Z"
   },
   {
    "duration": 0,
    "start_time": "2022-05-21T21:14:13.721Z"
   },
   {
    "duration": 0,
    "start_time": "2022-05-21T21:14:13.723Z"
   },
   {
    "duration": 0,
    "start_time": "2022-05-21T21:14:13.724Z"
   },
   {
    "duration": 0,
    "start_time": "2022-05-21T21:14:13.725Z"
   },
   {
    "duration": 430,
    "start_time": "2022-05-21T21:21:46.088Z"
   },
   {
    "duration": 3,
    "start_time": "2022-05-21T21:22:04.915Z"
   },
   {
    "duration": 66,
    "start_time": "2022-05-21T21:22:04.922Z"
   },
   {
    "duration": 13,
    "start_time": "2022-05-21T21:22:04.990Z"
   },
   {
    "duration": 17,
    "start_time": "2022-05-21T21:22:05.004Z"
   },
   {
    "duration": 9,
    "start_time": "2022-05-21T21:22:05.024Z"
   },
   {
    "duration": 10,
    "start_time": "2022-05-21T21:22:05.034Z"
   },
   {
    "duration": 5,
    "start_time": "2022-05-21T21:22:05.046Z"
   },
   {
    "duration": 3,
    "start_time": "2022-05-21T21:22:05.053Z"
   },
   {
    "duration": 4,
    "start_time": "2022-05-21T21:22:05.058Z"
   },
   {
    "duration": 5,
    "start_time": "2022-05-21T21:22:05.063Z"
   },
   {
    "duration": 46,
    "start_time": "2022-05-21T21:22:05.070Z"
   },
   {
    "duration": 14,
    "start_time": "2022-05-21T21:22:05.118Z"
   },
   {
    "duration": 30,
    "start_time": "2022-05-21T21:22:05.133Z"
   },
   {
    "duration": 5,
    "start_time": "2022-05-21T21:22:05.165Z"
   },
   {
    "duration": 6,
    "start_time": "2022-05-21T21:22:05.171Z"
   },
   {
    "duration": 16,
    "start_time": "2022-05-21T21:22:05.213Z"
   },
   {
    "duration": 12,
    "start_time": "2022-05-21T21:22:05.230Z"
   },
   {
    "duration": 7,
    "start_time": "2022-05-21T21:22:05.244Z"
   },
   {
    "duration": 13,
    "start_time": "2022-05-21T21:22:05.253Z"
   },
   {
    "duration": 8,
    "start_time": "2022-05-21T21:22:05.268Z"
   },
   {
    "duration": 0,
    "start_time": "2022-05-21T21:22:05.278Z"
   },
   {
    "duration": 0,
    "start_time": "2022-05-21T21:22:05.279Z"
   },
   {
    "duration": 0,
    "start_time": "2022-05-21T21:22:05.280Z"
   },
   {
    "duration": 0,
    "start_time": "2022-05-21T21:22:05.281Z"
   },
   {
    "duration": 0,
    "start_time": "2022-05-21T21:22:05.282Z"
   },
   {
    "duration": 0,
    "start_time": "2022-05-21T21:22:05.312Z"
   },
   {
    "duration": 0,
    "start_time": "2022-05-21T21:22:05.313Z"
   },
   {
    "duration": 1,
    "start_time": "2022-05-21T21:22:05.314Z"
   },
   {
    "duration": 0,
    "start_time": "2022-05-21T21:22:05.315Z"
   },
   {
    "duration": 0,
    "start_time": "2022-05-21T21:22:05.316Z"
   },
   {
    "duration": 0,
    "start_time": "2022-05-21T21:22:05.317Z"
   },
   {
    "duration": 0,
    "start_time": "2022-05-21T21:22:05.319Z"
   },
   {
    "duration": 0,
    "start_time": "2022-05-21T21:22:05.320Z"
   },
   {
    "duration": 0,
    "start_time": "2022-05-21T21:22:05.321Z"
   },
   {
    "duration": 0,
    "start_time": "2022-05-21T21:22:05.322Z"
   },
   {
    "duration": 0,
    "start_time": "2022-05-21T21:22:05.323Z"
   },
   {
    "duration": 0,
    "start_time": "2022-05-21T21:22:05.324Z"
   },
   {
    "duration": 0,
    "start_time": "2022-05-21T21:22:05.325Z"
   },
   {
    "duration": 0,
    "start_time": "2022-05-21T21:22:05.326Z"
   },
   {
    "duration": 0,
    "start_time": "2022-05-21T21:22:05.327Z"
   },
   {
    "duration": 0,
    "start_time": "2022-05-21T21:22:05.328Z"
   },
   {
    "duration": 0,
    "start_time": "2022-05-21T21:22:05.329Z"
   },
   {
    "duration": 0,
    "start_time": "2022-05-21T21:22:05.330Z"
   },
   {
    "duration": 0,
    "start_time": "2022-05-21T21:22:05.331Z"
   },
   {
    "duration": 0,
    "start_time": "2022-05-21T21:22:05.332Z"
   },
   {
    "duration": 0,
    "start_time": "2022-05-21T21:22:05.333Z"
   },
   {
    "duration": 0,
    "start_time": "2022-05-21T21:22:05.334Z"
   },
   {
    "duration": 0,
    "start_time": "2022-05-21T21:22:05.335Z"
   },
   {
    "duration": 0,
    "start_time": "2022-05-21T21:22:05.336Z"
   },
   {
    "duration": 23,
    "start_time": "2022-05-21T21:22:26.374Z"
   },
   {
    "duration": 7,
    "start_time": "2022-05-21T21:29:03.063Z"
   },
   {
    "duration": 18,
    "start_time": "2022-05-21T21:29:15.143Z"
   },
   {
    "duration": 26,
    "start_time": "2022-05-21T21:29:43.611Z"
   },
   {
    "duration": 30,
    "start_time": "2022-05-21T21:30:07.259Z"
   },
   {
    "duration": 30,
    "start_time": "2022-05-21T21:31:07.963Z"
   },
   {
    "duration": 2,
    "start_time": "2022-05-21T21:31:13.975Z"
   },
   {
    "duration": 74,
    "start_time": "2022-05-21T21:31:13.980Z"
   },
   {
    "duration": 13,
    "start_time": "2022-05-21T21:31:14.056Z"
   },
   {
    "duration": 22,
    "start_time": "2022-05-21T21:31:14.071Z"
   },
   {
    "duration": 9,
    "start_time": "2022-05-21T21:31:14.113Z"
   },
   {
    "duration": 13,
    "start_time": "2022-05-21T21:31:14.123Z"
   },
   {
    "duration": 5,
    "start_time": "2022-05-21T21:31:14.137Z"
   },
   {
    "duration": 10,
    "start_time": "2022-05-21T21:31:14.144Z"
   },
   {
    "duration": 6,
    "start_time": "2022-05-21T21:31:14.155Z"
   },
   {
    "duration": 5,
    "start_time": "2022-05-21T21:31:14.163Z"
   },
   {
    "duration": 10,
    "start_time": "2022-05-21T21:31:14.171Z"
   },
   {
    "duration": 57,
    "start_time": "2022-05-21T21:31:14.182Z"
   },
   {
    "duration": 29,
    "start_time": "2022-05-21T21:31:14.242Z"
   },
   {
    "duration": 6,
    "start_time": "2022-05-21T21:31:14.273Z"
   },
   {
    "duration": 37,
    "start_time": "2022-05-21T21:31:14.281Z"
   },
   {
    "duration": 18,
    "start_time": "2022-05-21T21:31:14.319Z"
   },
   {
    "duration": 12,
    "start_time": "2022-05-21T21:31:14.338Z"
   },
   {
    "duration": 10,
    "start_time": "2022-05-21T21:31:14.352Z"
   },
   {
    "duration": 15,
    "start_time": "2022-05-21T21:31:14.364Z"
   },
   {
    "duration": 33,
    "start_time": "2022-05-21T21:31:14.380Z"
   },
   {
    "duration": 0,
    "start_time": "2022-05-21T21:31:14.415Z"
   },
   {
    "duration": 0,
    "start_time": "2022-05-21T21:31:14.416Z"
   },
   {
    "duration": 0,
    "start_time": "2022-05-21T21:31:14.417Z"
   },
   {
    "duration": 0,
    "start_time": "2022-05-21T21:31:14.418Z"
   },
   {
    "duration": 0,
    "start_time": "2022-05-21T21:31:14.419Z"
   },
   {
    "duration": 0,
    "start_time": "2022-05-21T21:31:14.420Z"
   },
   {
    "duration": 0,
    "start_time": "2022-05-21T21:31:14.421Z"
   },
   {
    "duration": 0,
    "start_time": "2022-05-21T21:31:14.422Z"
   },
   {
    "duration": 0,
    "start_time": "2022-05-21T21:31:14.423Z"
   },
   {
    "duration": 0,
    "start_time": "2022-05-21T21:31:14.424Z"
   },
   {
    "duration": 0,
    "start_time": "2022-05-21T21:31:14.425Z"
   },
   {
    "duration": 0,
    "start_time": "2022-05-21T21:31:14.426Z"
   },
   {
    "duration": 0,
    "start_time": "2022-05-21T21:31:14.427Z"
   },
   {
    "duration": 0,
    "start_time": "2022-05-21T21:31:14.428Z"
   },
   {
    "duration": 0,
    "start_time": "2022-05-21T21:31:14.429Z"
   },
   {
    "duration": 0,
    "start_time": "2022-05-21T21:31:14.430Z"
   },
   {
    "duration": 0,
    "start_time": "2022-05-21T21:31:14.431Z"
   },
   {
    "duration": 0,
    "start_time": "2022-05-21T21:31:14.431Z"
   },
   {
    "duration": 0,
    "start_time": "2022-05-21T21:31:14.432Z"
   },
   {
    "duration": 0,
    "start_time": "2022-05-21T21:31:14.433Z"
   },
   {
    "duration": 0,
    "start_time": "2022-05-21T21:31:14.434Z"
   },
   {
    "duration": 0,
    "start_time": "2022-05-21T21:31:14.435Z"
   },
   {
    "duration": 0,
    "start_time": "2022-05-21T21:31:14.436Z"
   },
   {
    "duration": 0,
    "start_time": "2022-05-21T21:31:14.437Z"
   },
   {
    "duration": 0,
    "start_time": "2022-05-21T21:31:14.438Z"
   },
   {
    "duration": 0,
    "start_time": "2022-05-21T21:31:14.439Z"
   },
   {
    "duration": 0,
    "start_time": "2022-05-21T21:31:14.440Z"
   },
   {
    "duration": 0,
    "start_time": "2022-05-21T21:31:14.441Z"
   },
   {
    "duration": 0,
    "start_time": "2022-05-21T21:31:14.442Z"
   },
   {
    "duration": 33,
    "start_time": "2022-05-21T21:32:19.366Z"
   },
   {
    "duration": 27,
    "start_time": "2022-05-21T21:32:24.187Z"
   },
   {
    "duration": 26,
    "start_time": "2022-05-21T21:32:31.059Z"
   },
   {
    "duration": 3,
    "start_time": "2022-05-21T21:32:34.455Z"
   },
   {
    "duration": 76,
    "start_time": "2022-05-21T21:32:34.459Z"
   },
   {
    "duration": 13,
    "start_time": "2022-05-21T21:32:34.537Z"
   },
   {
    "duration": 16,
    "start_time": "2022-05-21T21:32:34.552Z"
   },
   {
    "duration": 11,
    "start_time": "2022-05-21T21:32:34.570Z"
   },
   {
    "duration": 36,
    "start_time": "2022-05-21T21:32:34.582Z"
   },
   {
    "duration": 4,
    "start_time": "2022-05-21T21:32:34.620Z"
   },
   {
    "duration": 4,
    "start_time": "2022-05-21T21:32:34.625Z"
   },
   {
    "duration": 4,
    "start_time": "2022-05-21T21:32:34.631Z"
   },
   {
    "duration": 7,
    "start_time": "2022-05-21T21:32:34.637Z"
   },
   {
    "duration": 11,
    "start_time": "2022-05-21T21:32:34.647Z"
   },
   {
    "duration": 53,
    "start_time": "2022-05-21T21:32:34.660Z"
   },
   {
    "duration": 29,
    "start_time": "2022-05-21T21:32:34.715Z"
   },
   {
    "duration": 6,
    "start_time": "2022-05-21T21:32:34.745Z"
   },
   {
    "duration": 10,
    "start_time": "2022-05-21T21:32:34.752Z"
   },
   {
    "duration": 21,
    "start_time": "2022-05-21T21:32:34.763Z"
   },
   {
    "duration": 39,
    "start_time": "2022-05-21T21:32:34.785Z"
   },
   {
    "duration": 7,
    "start_time": "2022-05-21T21:32:34.826Z"
   },
   {
    "duration": 15,
    "start_time": "2022-05-21T21:32:34.835Z"
   },
   {
    "duration": 9,
    "start_time": "2022-05-21T21:32:34.852Z"
   },
   {
    "duration": 0,
    "start_time": "2022-05-21T21:32:34.863Z"
   },
   {
    "duration": 0,
    "start_time": "2022-05-21T21:32:34.864Z"
   },
   {
    "duration": 0,
    "start_time": "2022-05-21T21:32:34.865Z"
   },
   {
    "duration": 0,
    "start_time": "2022-05-21T21:32:34.866Z"
   },
   {
    "duration": 0,
    "start_time": "2022-05-21T21:32:34.867Z"
   },
   {
    "duration": 0,
    "start_time": "2022-05-21T21:32:34.868Z"
   },
   {
    "duration": 0,
    "start_time": "2022-05-21T21:32:34.869Z"
   },
   {
    "duration": 0,
    "start_time": "2022-05-21T21:32:34.870Z"
   },
   {
    "duration": 0,
    "start_time": "2022-05-21T21:32:34.912Z"
   },
   {
    "duration": 0,
    "start_time": "2022-05-21T21:32:34.913Z"
   },
   {
    "duration": 0,
    "start_time": "2022-05-21T21:32:34.914Z"
   },
   {
    "duration": 0,
    "start_time": "2022-05-21T21:32:34.915Z"
   },
   {
    "duration": 0,
    "start_time": "2022-05-21T21:32:34.917Z"
   },
   {
    "duration": 0,
    "start_time": "2022-05-21T21:32:34.918Z"
   },
   {
    "duration": 0,
    "start_time": "2022-05-21T21:32:34.919Z"
   },
   {
    "duration": 0,
    "start_time": "2022-05-21T21:32:34.920Z"
   },
   {
    "duration": 0,
    "start_time": "2022-05-21T21:32:34.921Z"
   },
   {
    "duration": 0,
    "start_time": "2022-05-21T21:32:34.922Z"
   },
   {
    "duration": 0,
    "start_time": "2022-05-21T21:32:34.923Z"
   },
   {
    "duration": 0,
    "start_time": "2022-05-21T21:32:34.924Z"
   },
   {
    "duration": 0,
    "start_time": "2022-05-21T21:32:34.926Z"
   },
   {
    "duration": 0,
    "start_time": "2022-05-21T21:32:34.927Z"
   },
   {
    "duration": 0,
    "start_time": "2022-05-21T21:32:34.928Z"
   },
   {
    "duration": 0,
    "start_time": "2022-05-21T21:32:34.929Z"
   },
   {
    "duration": 0,
    "start_time": "2022-05-21T21:32:34.930Z"
   },
   {
    "duration": 0,
    "start_time": "2022-05-21T21:32:34.931Z"
   },
   {
    "duration": 0,
    "start_time": "2022-05-21T21:32:34.932Z"
   },
   {
    "duration": 0,
    "start_time": "2022-05-21T21:32:34.933Z"
   },
   {
    "duration": 0,
    "start_time": "2022-05-21T21:32:34.935Z"
   },
   {
    "duration": 24,
    "start_time": "2022-05-21T21:32:44.647Z"
   },
   {
    "duration": 27,
    "start_time": "2022-05-21T21:33:45.174Z"
   },
   {
    "duration": 3,
    "start_time": "2022-05-21T21:33:53.626Z"
   },
   {
    "duration": 67,
    "start_time": "2022-05-21T21:33:53.632Z"
   },
   {
    "duration": 12,
    "start_time": "2022-05-21T21:33:53.701Z"
   },
   {
    "duration": 17,
    "start_time": "2022-05-21T21:33:53.714Z"
   },
   {
    "duration": 9,
    "start_time": "2022-05-21T21:33:53.733Z"
   },
   {
    "duration": 10,
    "start_time": "2022-05-21T21:33:53.743Z"
   },
   {
    "duration": 7,
    "start_time": "2022-05-21T21:33:53.754Z"
   },
   {
    "duration": 4,
    "start_time": "2022-05-21T21:33:53.763Z"
   },
   {
    "duration": 6,
    "start_time": "2022-05-21T21:33:53.768Z"
   },
   {
    "duration": 37,
    "start_time": "2022-05-21T21:33:53.775Z"
   },
   {
    "duration": 8,
    "start_time": "2022-05-21T21:33:53.815Z"
   },
   {
    "duration": 25,
    "start_time": "2022-05-21T21:33:53.825Z"
   },
   {
    "duration": 62,
    "start_time": "2022-05-21T21:33:53.851Z"
   },
   {
    "duration": 5,
    "start_time": "2022-05-21T21:33:53.915Z"
   },
   {
    "duration": 7,
    "start_time": "2022-05-21T21:33:53.922Z"
   },
   {
    "duration": 19,
    "start_time": "2022-05-21T21:33:53.931Z"
   },
   {
    "duration": 11,
    "start_time": "2022-05-21T21:33:53.952Z"
   },
   {
    "duration": 4,
    "start_time": "2022-05-21T21:33:53.965Z"
   },
   {
    "duration": 43,
    "start_time": "2022-05-21T21:33:53.970Z"
   },
   {
    "duration": 7,
    "start_time": "2022-05-21T21:33:54.014Z"
   },
   {
    "duration": 0,
    "start_time": "2022-05-21T21:33:54.023Z"
   },
   {
    "duration": 0,
    "start_time": "2022-05-21T21:33:54.025Z"
   },
   {
    "duration": 0,
    "start_time": "2022-05-21T21:33:54.026Z"
   },
   {
    "duration": 0,
    "start_time": "2022-05-21T21:33:54.027Z"
   },
   {
    "duration": 0,
    "start_time": "2022-05-21T21:33:54.028Z"
   },
   {
    "duration": 0,
    "start_time": "2022-05-21T21:33:54.029Z"
   },
   {
    "duration": 0,
    "start_time": "2022-05-21T21:33:54.030Z"
   },
   {
    "duration": 0,
    "start_time": "2022-05-21T21:33:54.031Z"
   },
   {
    "duration": 0,
    "start_time": "2022-05-21T21:33:54.032Z"
   },
   {
    "duration": 0,
    "start_time": "2022-05-21T21:33:54.033Z"
   },
   {
    "duration": 0,
    "start_time": "2022-05-21T21:33:54.034Z"
   },
   {
    "duration": 0,
    "start_time": "2022-05-21T21:33:54.035Z"
   },
   {
    "duration": 0,
    "start_time": "2022-05-21T21:33:54.036Z"
   },
   {
    "duration": 0,
    "start_time": "2022-05-21T21:33:54.037Z"
   },
   {
    "duration": 0,
    "start_time": "2022-05-21T21:33:54.038Z"
   },
   {
    "duration": 0,
    "start_time": "2022-05-21T21:33:54.039Z"
   },
   {
    "duration": 0,
    "start_time": "2022-05-21T21:33:54.040Z"
   },
   {
    "duration": 0,
    "start_time": "2022-05-21T21:33:54.041Z"
   },
   {
    "duration": 0,
    "start_time": "2022-05-21T21:33:54.042Z"
   },
   {
    "duration": 0,
    "start_time": "2022-05-21T21:33:54.043Z"
   },
   {
    "duration": 0,
    "start_time": "2022-05-21T21:33:54.044Z"
   },
   {
    "duration": 0,
    "start_time": "2022-05-21T21:33:54.045Z"
   },
   {
    "duration": 0,
    "start_time": "2022-05-21T21:33:54.046Z"
   },
   {
    "duration": 0,
    "start_time": "2022-05-21T21:33:54.047Z"
   },
   {
    "duration": 0,
    "start_time": "2022-05-21T21:33:54.048Z"
   },
   {
    "duration": 0,
    "start_time": "2022-05-21T21:33:54.049Z"
   },
   {
    "duration": 0,
    "start_time": "2022-05-21T21:33:54.049Z"
   },
   {
    "duration": 0,
    "start_time": "2022-05-21T21:33:54.051Z"
   },
   {
    "duration": 0,
    "start_time": "2022-05-21T21:33:54.051Z"
   },
   {
    "duration": 3,
    "start_time": "2022-05-21T21:34:08.163Z"
   },
   {
    "duration": 100,
    "start_time": "2022-05-21T21:34:08.168Z"
   },
   {
    "duration": 12,
    "start_time": "2022-05-21T21:34:08.270Z"
   },
   {
    "duration": 49,
    "start_time": "2022-05-21T21:34:08.284Z"
   },
   {
    "duration": 11,
    "start_time": "2022-05-21T21:34:08.335Z"
   },
   {
    "duration": 18,
    "start_time": "2022-05-21T21:34:08.347Z"
   },
   {
    "duration": 19,
    "start_time": "2022-05-21T21:34:08.367Z"
   },
   {
    "duration": 43,
    "start_time": "2022-05-21T21:34:08.387Z"
   },
   {
    "duration": 18,
    "start_time": "2022-05-21T21:34:08.431Z"
   },
   {
    "duration": 25,
    "start_time": "2022-05-21T21:34:08.450Z"
   },
   {
    "duration": 60,
    "start_time": "2022-05-21T21:34:08.477Z"
   },
   {
    "duration": 37,
    "start_time": "2022-05-21T21:34:08.539Z"
   },
   {
    "duration": 32,
    "start_time": "2022-05-21T21:34:08.578Z"
   },
   {
    "duration": 26,
    "start_time": "2022-05-21T21:34:08.619Z"
   },
   {
    "duration": 11,
    "start_time": "2022-05-21T21:34:08.647Z"
   },
   {
    "duration": 28,
    "start_time": "2022-05-21T21:34:08.659Z"
   },
   {
    "duration": 19,
    "start_time": "2022-05-21T21:34:08.689Z"
   },
   {
    "duration": 7,
    "start_time": "2022-05-21T21:34:08.710Z"
   },
   {
    "duration": 34,
    "start_time": "2022-05-21T21:34:08.719Z"
   },
   {
    "duration": 8,
    "start_time": "2022-05-21T21:34:08.755Z"
   },
   {
    "duration": 0,
    "start_time": "2022-05-21T21:34:08.764Z"
   },
   {
    "duration": 0,
    "start_time": "2022-05-21T21:34:08.766Z"
   },
   {
    "duration": 0,
    "start_time": "2022-05-21T21:34:08.767Z"
   },
   {
    "duration": 0,
    "start_time": "2022-05-21T21:34:08.768Z"
   },
   {
    "duration": 0,
    "start_time": "2022-05-21T21:34:08.769Z"
   },
   {
    "duration": 0,
    "start_time": "2022-05-21T21:34:08.770Z"
   },
   {
    "duration": 0,
    "start_time": "2022-05-21T21:34:08.771Z"
   },
   {
    "duration": 0,
    "start_time": "2022-05-21T21:34:08.772Z"
   },
   {
    "duration": 0,
    "start_time": "2022-05-21T21:34:08.773Z"
   },
   {
    "duration": 0,
    "start_time": "2022-05-21T21:34:08.774Z"
   },
   {
    "duration": 0,
    "start_time": "2022-05-21T21:34:08.775Z"
   },
   {
    "duration": 0,
    "start_time": "2022-05-21T21:34:08.777Z"
   },
   {
    "duration": 0,
    "start_time": "2022-05-21T21:34:08.778Z"
   },
   {
    "duration": 0,
    "start_time": "2022-05-21T21:34:08.778Z"
   },
   {
    "duration": 0,
    "start_time": "2022-05-21T21:34:08.780Z"
   },
   {
    "duration": 0,
    "start_time": "2022-05-21T21:34:08.782Z"
   },
   {
    "duration": 0,
    "start_time": "2022-05-21T21:34:08.783Z"
   },
   {
    "duration": 0,
    "start_time": "2022-05-21T21:34:08.783Z"
   },
   {
    "duration": 0,
    "start_time": "2022-05-21T21:34:08.785Z"
   },
   {
    "duration": 0,
    "start_time": "2022-05-21T21:34:08.813Z"
   },
   {
    "duration": 0,
    "start_time": "2022-05-21T21:34:08.814Z"
   },
   {
    "duration": 0,
    "start_time": "2022-05-21T21:34:08.815Z"
   },
   {
    "duration": 0,
    "start_time": "2022-05-21T21:34:08.815Z"
   },
   {
    "duration": 0,
    "start_time": "2022-05-21T21:34:08.820Z"
   },
   {
    "duration": 0,
    "start_time": "2022-05-21T21:34:08.823Z"
   },
   {
    "duration": 0,
    "start_time": "2022-05-21T21:34:08.824Z"
   },
   {
    "duration": 0,
    "start_time": "2022-05-21T21:34:08.826Z"
   },
   {
    "duration": 0,
    "start_time": "2022-05-21T21:34:08.827Z"
   },
   {
    "duration": 0,
    "start_time": "2022-05-21T21:34:08.829Z"
   },
   {
    "duration": 3,
    "start_time": "2022-05-21T21:37:44.802Z"
   },
   {
    "duration": 95,
    "start_time": "2022-05-21T21:37:44.806Z"
   },
   {
    "duration": 15,
    "start_time": "2022-05-21T21:37:44.903Z"
   },
   {
    "duration": 29,
    "start_time": "2022-05-21T21:37:44.920Z"
   },
   {
    "duration": 17,
    "start_time": "2022-05-21T21:37:44.951Z"
   },
   {
    "duration": 12,
    "start_time": "2022-05-21T21:37:44.970Z"
   },
   {
    "duration": 31,
    "start_time": "2022-05-21T21:37:44.985Z"
   },
   {
    "duration": 29,
    "start_time": "2022-05-21T21:37:45.018Z"
   },
   {
    "duration": 6,
    "start_time": "2022-05-21T21:37:45.049Z"
   },
   {
    "duration": 13,
    "start_time": "2022-05-21T21:37:45.057Z"
   },
   {
    "duration": 16,
    "start_time": "2022-05-21T21:37:45.073Z"
   },
   {
    "duration": 54,
    "start_time": "2022-05-21T21:37:45.090Z"
   },
   {
    "duration": 29,
    "start_time": "2022-05-21T21:37:45.146Z"
   },
   {
    "duration": 6,
    "start_time": "2022-05-21T21:37:45.177Z"
   },
   {
    "duration": 23,
    "start_time": "2022-05-21T21:37:45.212Z"
   },
   {
    "duration": 18,
    "start_time": "2022-05-21T21:37:45.237Z"
   },
   {
    "duration": 11,
    "start_time": "2022-05-21T21:37:45.257Z"
   },
   {
    "duration": 7,
    "start_time": "2022-05-21T21:37:45.270Z"
   },
   {
    "duration": 16,
    "start_time": "2022-05-21T21:37:45.278Z"
   },
   {
    "duration": 12,
    "start_time": "2022-05-21T21:37:45.314Z"
   },
   {
    "duration": 0,
    "start_time": "2022-05-21T21:37:45.330Z"
   },
   {
    "duration": 0,
    "start_time": "2022-05-21T21:37:45.332Z"
   },
   {
    "duration": 0,
    "start_time": "2022-05-21T21:37:45.333Z"
   },
   {
    "duration": 0,
    "start_time": "2022-05-21T21:37:45.334Z"
   },
   {
    "duration": 0,
    "start_time": "2022-05-21T21:37:45.335Z"
   },
   {
    "duration": 0,
    "start_time": "2022-05-21T21:37:45.336Z"
   },
   {
    "duration": 0,
    "start_time": "2022-05-21T21:37:45.337Z"
   },
   {
    "duration": 0,
    "start_time": "2022-05-21T21:37:45.338Z"
   },
   {
    "duration": 0,
    "start_time": "2022-05-21T21:37:45.339Z"
   },
   {
    "duration": 0,
    "start_time": "2022-05-21T21:37:45.339Z"
   },
   {
    "duration": 0,
    "start_time": "2022-05-21T21:37:45.340Z"
   },
   {
    "duration": 0,
    "start_time": "2022-05-21T21:37:45.341Z"
   },
   {
    "duration": 0,
    "start_time": "2022-05-21T21:37:45.342Z"
   },
   {
    "duration": 0,
    "start_time": "2022-05-21T21:37:45.343Z"
   },
   {
    "duration": 0,
    "start_time": "2022-05-21T21:37:45.344Z"
   },
   {
    "duration": 0,
    "start_time": "2022-05-21T21:37:45.345Z"
   },
   {
    "duration": 0,
    "start_time": "2022-05-21T21:37:45.346Z"
   },
   {
    "duration": 0,
    "start_time": "2022-05-21T21:37:45.347Z"
   },
   {
    "duration": 0,
    "start_time": "2022-05-21T21:37:45.347Z"
   },
   {
    "duration": 0,
    "start_time": "2022-05-21T21:37:45.349Z"
   },
   {
    "duration": 0,
    "start_time": "2022-05-21T21:37:45.350Z"
   },
   {
    "duration": 0,
    "start_time": "2022-05-21T21:37:45.351Z"
   },
   {
    "duration": 0,
    "start_time": "2022-05-21T21:37:45.351Z"
   },
   {
    "duration": 0,
    "start_time": "2022-05-21T21:37:45.353Z"
   },
   {
    "duration": 0,
    "start_time": "2022-05-21T21:37:45.354Z"
   },
   {
    "duration": 0,
    "start_time": "2022-05-21T21:37:45.355Z"
   },
   {
    "duration": 0,
    "start_time": "2022-05-21T21:37:45.356Z"
   },
   {
    "duration": 0,
    "start_time": "2022-05-21T21:37:45.357Z"
   },
   {
    "duration": 0,
    "start_time": "2022-05-21T21:37:45.358Z"
   },
   {
    "duration": 12,
    "start_time": "2022-05-21T21:38:44.478Z"
   },
   {
    "duration": 12,
    "start_time": "2022-05-21T21:38:58.734Z"
   },
   {
    "duration": 7,
    "start_time": "2022-05-21T21:39:05.706Z"
   },
   {
    "duration": 2,
    "start_time": "2022-05-21T21:39:20.334Z"
   },
   {
    "duration": 86,
    "start_time": "2022-05-21T21:39:20.340Z"
   },
   {
    "duration": 13,
    "start_time": "2022-05-21T21:39:20.428Z"
   },
   {
    "duration": 16,
    "start_time": "2022-05-21T21:39:20.442Z"
   },
   {
    "duration": 9,
    "start_time": "2022-05-21T21:39:20.459Z"
   },
   {
    "duration": 9,
    "start_time": "2022-05-21T21:39:20.470Z"
   },
   {
    "duration": 51,
    "start_time": "2022-05-21T21:39:20.480Z"
   },
   {
    "duration": 5,
    "start_time": "2022-05-21T21:39:20.532Z"
   },
   {
    "duration": 4,
    "start_time": "2022-05-21T21:39:20.539Z"
   },
   {
    "duration": 4,
    "start_time": "2022-05-21T21:39:20.545Z"
   },
   {
    "duration": 9,
    "start_time": "2022-05-21T21:39:20.551Z"
   },
   {
    "duration": 4,
    "start_time": "2022-05-21T21:39:20.561Z"
   },
   {
    "duration": 47,
    "start_time": "2022-05-21T21:39:20.567Z"
   },
   {
    "duration": 9,
    "start_time": "2022-05-21T21:39:20.616Z"
   },
   {
    "duration": 8,
    "start_time": "2022-05-21T21:39:20.627Z"
   },
   {
    "duration": 15,
    "start_time": "2022-05-21T21:39:20.637Z"
   },
   {
    "duration": 11,
    "start_time": "2022-05-21T21:39:20.654Z"
   },
   {
    "duration": 5,
    "start_time": "2022-05-21T21:39:20.667Z"
   },
   {
    "duration": 53,
    "start_time": "2022-05-21T21:39:20.674Z"
   },
   {
    "duration": 7,
    "start_time": "2022-05-21T21:39:20.729Z"
   },
   {
    "duration": 0,
    "start_time": "2022-05-21T21:39:20.738Z"
   },
   {
    "duration": 0,
    "start_time": "2022-05-21T21:39:20.739Z"
   },
   {
    "duration": 0,
    "start_time": "2022-05-21T21:39:20.740Z"
   },
   {
    "duration": 0,
    "start_time": "2022-05-21T21:39:20.741Z"
   },
   {
    "duration": 0,
    "start_time": "2022-05-21T21:39:20.742Z"
   },
   {
    "duration": 0,
    "start_time": "2022-05-21T21:39:20.743Z"
   },
   {
    "duration": 0,
    "start_time": "2022-05-21T21:39:20.743Z"
   },
   {
    "duration": 0,
    "start_time": "2022-05-21T21:39:20.744Z"
   },
   {
    "duration": 0,
    "start_time": "2022-05-21T21:39:20.745Z"
   },
   {
    "duration": 0,
    "start_time": "2022-05-21T21:39:20.746Z"
   },
   {
    "duration": 0,
    "start_time": "2022-05-21T21:39:20.746Z"
   },
   {
    "duration": 0,
    "start_time": "2022-05-21T21:39:20.748Z"
   },
   {
    "duration": 0,
    "start_time": "2022-05-21T21:39:20.748Z"
   },
   {
    "duration": 0,
    "start_time": "2022-05-21T21:39:20.749Z"
   },
   {
    "duration": 0,
    "start_time": "2022-05-21T21:39:20.750Z"
   },
   {
    "duration": 0,
    "start_time": "2022-05-21T21:39:20.750Z"
   },
   {
    "duration": 0,
    "start_time": "2022-05-21T21:39:20.751Z"
   },
   {
    "duration": 0,
    "start_time": "2022-05-21T21:39:20.752Z"
   },
   {
    "duration": 0,
    "start_time": "2022-05-21T21:39:20.753Z"
   },
   {
    "duration": 0,
    "start_time": "2022-05-21T21:39:20.753Z"
   },
   {
    "duration": 0,
    "start_time": "2022-05-21T21:39:20.754Z"
   },
   {
    "duration": 0,
    "start_time": "2022-05-21T21:39:20.755Z"
   },
   {
    "duration": 0,
    "start_time": "2022-05-21T21:39:20.756Z"
   },
   {
    "duration": 0,
    "start_time": "2022-05-21T21:39:20.757Z"
   },
   {
    "duration": 0,
    "start_time": "2022-05-21T21:39:20.758Z"
   },
   {
    "duration": 0,
    "start_time": "2022-05-21T21:39:20.759Z"
   },
   {
    "duration": 0,
    "start_time": "2022-05-21T21:39:20.760Z"
   },
   {
    "duration": 0,
    "start_time": "2022-05-21T21:39:20.760Z"
   },
   {
    "duration": 0,
    "start_time": "2022-05-21T21:39:20.761Z"
   },
   {
    "duration": 9,
    "start_time": "2022-05-21T21:39:28.824Z"
   },
   {
    "duration": 3,
    "start_time": "2022-05-21T21:39:30.662Z"
   },
   {
    "duration": 92,
    "start_time": "2022-05-21T21:39:30.666Z"
   },
   {
    "duration": 13,
    "start_time": "2022-05-21T21:39:30.760Z"
   },
   {
    "duration": 46,
    "start_time": "2022-05-21T21:39:30.774Z"
   },
   {
    "duration": 12,
    "start_time": "2022-05-21T21:39:30.823Z"
   },
   {
    "duration": 23,
    "start_time": "2022-05-21T21:39:30.836Z"
   },
   {
    "duration": 7,
    "start_time": "2022-05-21T21:39:30.860Z"
   },
   {
    "duration": 8,
    "start_time": "2022-05-21T21:39:30.869Z"
   },
   {
    "duration": 14,
    "start_time": "2022-05-21T21:39:30.879Z"
   },
   {
    "duration": 36,
    "start_time": "2022-05-21T21:39:30.895Z"
   },
   {
    "duration": 25,
    "start_time": "2022-05-21T21:39:30.933Z"
   },
   {
    "duration": 16,
    "start_time": "2022-05-21T21:39:30.960Z"
   },
   {
    "duration": 49,
    "start_time": "2022-05-21T21:39:30.978Z"
   },
   {
    "duration": 18,
    "start_time": "2022-05-21T21:39:31.029Z"
   },
   {
    "duration": 20,
    "start_time": "2022-05-21T21:39:31.048Z"
   },
   {
    "duration": 51,
    "start_time": "2022-05-21T21:39:31.070Z"
   },
   {
    "duration": 13,
    "start_time": "2022-05-21T21:39:31.124Z"
   },
   {
    "duration": 9,
    "start_time": "2022-05-21T21:39:31.139Z"
   },
   {
    "duration": 37,
    "start_time": "2022-05-21T21:39:31.150Z"
   },
   {
    "duration": 11,
    "start_time": "2022-05-21T21:39:31.189Z"
   },
   {
    "duration": 0,
    "start_time": "2022-05-21T21:39:31.202Z"
   },
   {
    "duration": 0,
    "start_time": "2022-05-21T21:39:31.203Z"
   },
   {
    "duration": 0,
    "start_time": "2022-05-21T21:39:31.204Z"
   },
   {
    "duration": 0,
    "start_time": "2022-05-21T21:39:31.206Z"
   },
   {
    "duration": 0,
    "start_time": "2022-05-21T21:39:31.212Z"
   },
   {
    "duration": 0,
    "start_time": "2022-05-21T21:39:31.214Z"
   },
   {
    "duration": 0,
    "start_time": "2022-05-21T21:39:31.216Z"
   },
   {
    "duration": 0,
    "start_time": "2022-05-21T21:39:31.217Z"
   },
   {
    "duration": 0,
    "start_time": "2022-05-21T21:39:31.218Z"
   },
   {
    "duration": 0,
    "start_time": "2022-05-21T21:39:31.220Z"
   },
   {
    "duration": 0,
    "start_time": "2022-05-21T21:39:31.221Z"
   },
   {
    "duration": 0,
    "start_time": "2022-05-21T21:39:31.223Z"
   },
   {
    "duration": 0,
    "start_time": "2022-05-21T21:39:31.225Z"
   },
   {
    "duration": 0,
    "start_time": "2022-05-21T21:39:31.227Z"
   },
   {
    "duration": 0,
    "start_time": "2022-05-21T21:39:31.229Z"
   },
   {
    "duration": 0,
    "start_time": "2022-05-21T21:39:31.231Z"
   },
   {
    "duration": 0,
    "start_time": "2022-05-21T21:39:31.232Z"
   },
   {
    "duration": 0,
    "start_time": "2022-05-21T21:39:31.233Z"
   },
   {
    "duration": 0,
    "start_time": "2022-05-21T21:39:31.234Z"
   },
   {
    "duration": 0,
    "start_time": "2022-05-21T21:39:31.235Z"
   },
   {
    "duration": 0,
    "start_time": "2022-05-21T21:39:31.236Z"
   },
   {
    "duration": 0,
    "start_time": "2022-05-21T21:39:31.237Z"
   },
   {
    "duration": 0,
    "start_time": "2022-05-21T21:39:31.238Z"
   },
   {
    "duration": 0,
    "start_time": "2022-05-21T21:39:31.239Z"
   },
   {
    "duration": 0,
    "start_time": "2022-05-21T21:39:31.240Z"
   },
   {
    "duration": 0,
    "start_time": "2022-05-21T21:39:31.241Z"
   },
   {
    "duration": 0,
    "start_time": "2022-05-21T21:39:31.242Z"
   },
   {
    "duration": 0,
    "start_time": "2022-05-21T21:39:31.243Z"
   },
   {
    "duration": 0,
    "start_time": "2022-05-21T21:39:31.243Z"
   },
   {
    "duration": 25,
    "start_time": "2022-05-21T21:44:19.241Z"
   },
   {
    "duration": 2,
    "start_time": "2022-05-21T21:44:22.855Z"
   },
   {
    "duration": 78,
    "start_time": "2022-05-21T21:44:22.859Z"
   },
   {
    "duration": 12,
    "start_time": "2022-05-21T21:44:22.939Z"
   },
   {
    "duration": 14,
    "start_time": "2022-05-21T21:44:22.953Z"
   },
   {
    "duration": 15,
    "start_time": "2022-05-21T21:44:22.969Z"
   },
   {
    "duration": 40,
    "start_time": "2022-05-21T21:44:22.986Z"
   },
   {
    "duration": 12,
    "start_time": "2022-05-21T21:44:23.028Z"
   },
   {
    "duration": 3,
    "start_time": "2022-05-21T21:44:23.042Z"
   },
   {
    "duration": 3,
    "start_time": "2022-05-21T21:44:23.048Z"
   },
   {
    "duration": 5,
    "start_time": "2022-05-21T21:44:23.053Z"
   },
   {
    "duration": 14,
    "start_time": "2022-05-21T21:44:23.060Z"
   },
   {
    "duration": 69,
    "start_time": "2022-05-21T21:44:23.076Z"
   },
   {
    "duration": 28,
    "start_time": "2022-05-21T21:44:23.146Z"
   },
   {
    "duration": 5,
    "start_time": "2022-05-21T21:44:23.176Z"
   },
   {
    "duration": 45,
    "start_time": "2022-05-21T21:44:23.182Z"
   },
   {
    "duration": 16,
    "start_time": "2022-05-21T21:44:23.229Z"
   },
   {
    "duration": 13,
    "start_time": "2022-05-21T21:44:23.247Z"
   },
   {
    "duration": 6,
    "start_time": "2022-05-21T21:44:23.261Z"
   },
   {
    "duration": 13,
    "start_time": "2022-05-21T21:44:23.269Z"
   },
   {
    "duration": 35,
    "start_time": "2022-05-21T21:44:23.284Z"
   },
   {
    "duration": 0,
    "start_time": "2022-05-21T21:44:23.323Z"
   },
   {
    "duration": 0,
    "start_time": "2022-05-21T21:44:23.324Z"
   },
   {
    "duration": 0,
    "start_time": "2022-05-21T21:44:23.325Z"
   },
   {
    "duration": 0,
    "start_time": "2022-05-21T21:44:23.327Z"
   },
   {
    "duration": 0,
    "start_time": "2022-05-21T21:44:23.328Z"
   },
   {
    "duration": 0,
    "start_time": "2022-05-21T21:44:23.330Z"
   },
   {
    "duration": 0,
    "start_time": "2022-05-21T21:44:23.332Z"
   },
   {
    "duration": 0,
    "start_time": "2022-05-21T21:44:23.334Z"
   },
   {
    "duration": 0,
    "start_time": "2022-05-21T21:44:23.336Z"
   },
   {
    "duration": 0,
    "start_time": "2022-05-21T21:44:23.337Z"
   },
   {
    "duration": 0,
    "start_time": "2022-05-21T21:44:23.338Z"
   },
   {
    "duration": 0,
    "start_time": "2022-05-21T21:44:23.339Z"
   },
   {
    "duration": 0,
    "start_time": "2022-05-21T21:44:23.340Z"
   },
   {
    "duration": 0,
    "start_time": "2022-05-21T21:44:23.341Z"
   },
   {
    "duration": 0,
    "start_time": "2022-05-21T21:44:23.342Z"
   },
   {
    "duration": 0,
    "start_time": "2022-05-21T21:44:23.343Z"
   },
   {
    "duration": 0,
    "start_time": "2022-05-21T21:44:23.344Z"
   },
   {
    "duration": 0,
    "start_time": "2022-05-21T21:44:23.346Z"
   },
   {
    "duration": 0,
    "start_time": "2022-05-21T21:44:23.346Z"
   },
   {
    "duration": 0,
    "start_time": "2022-05-21T21:44:23.347Z"
   },
   {
    "duration": 0,
    "start_time": "2022-05-21T21:44:23.348Z"
   },
   {
    "duration": 0,
    "start_time": "2022-05-21T21:44:23.349Z"
   },
   {
    "duration": 0,
    "start_time": "2022-05-21T21:44:23.350Z"
   },
   {
    "duration": 0,
    "start_time": "2022-05-21T21:44:23.351Z"
   },
   {
    "duration": 0,
    "start_time": "2022-05-21T21:44:23.352Z"
   },
   {
    "duration": 0,
    "start_time": "2022-05-21T21:44:23.353Z"
   },
   {
    "duration": 0,
    "start_time": "2022-05-21T21:44:23.354Z"
   },
   {
    "duration": 1,
    "start_time": "2022-05-21T21:44:23.354Z"
   },
   {
    "duration": 0,
    "start_time": "2022-05-21T21:44:23.356Z"
   },
   {
    "duration": 4,
    "start_time": "2022-05-21T21:44:41.337Z"
   },
   {
    "duration": 30,
    "start_time": "2022-05-21T21:46:49.701Z"
   },
   {
    "duration": 3,
    "start_time": "2022-05-21T21:46:57.584Z"
   },
   {
    "duration": 79,
    "start_time": "2022-05-21T21:46:57.590Z"
   },
   {
    "duration": 13,
    "start_time": "2022-05-21T21:46:57.671Z"
   },
   {
    "duration": 15,
    "start_time": "2022-05-21T21:46:57.685Z"
   },
   {
    "duration": 15,
    "start_time": "2022-05-21T21:46:57.713Z"
   },
   {
    "duration": 20,
    "start_time": "2022-05-21T21:46:57.730Z"
   },
   {
    "duration": 30,
    "start_time": "2022-05-21T21:46:57.751Z"
   },
   {
    "duration": 43,
    "start_time": "2022-05-21T21:46:57.783Z"
   },
   {
    "duration": 17,
    "start_time": "2022-05-21T21:46:57.828Z"
   },
   {
    "duration": 35,
    "start_time": "2022-05-21T21:46:57.846Z"
   },
   {
    "duration": 45,
    "start_time": "2022-05-21T21:46:57.884Z"
   },
   {
    "duration": 39,
    "start_time": "2022-05-21T21:46:57.930Z"
   },
   {
    "duration": 42,
    "start_time": "2022-05-21T21:46:57.970Z"
   },
   {
    "duration": 18,
    "start_time": "2022-05-21T21:46:58.014Z"
   },
   {
    "duration": 18,
    "start_time": "2022-05-21T21:46:58.034Z"
   },
   {
    "duration": 29,
    "start_time": "2022-05-21T21:46:58.053Z"
   },
   {
    "duration": 22,
    "start_time": "2022-05-21T21:46:58.084Z"
   },
   {
    "duration": 44,
    "start_time": "2022-05-21T21:46:58.108Z"
   },
   {
    "duration": 37,
    "start_time": "2022-05-21T21:46:58.153Z"
   },
   {
    "duration": 16,
    "start_time": "2022-05-21T21:46:58.191Z"
   },
   {
    "duration": 0,
    "start_time": "2022-05-21T21:46:58.209Z"
   },
   {
    "duration": 0,
    "start_time": "2022-05-21T21:46:58.210Z"
   },
   {
    "duration": 0,
    "start_time": "2022-05-21T21:46:58.211Z"
   },
   {
    "duration": 0,
    "start_time": "2022-05-21T21:46:58.213Z"
   },
   {
    "duration": 0,
    "start_time": "2022-05-21T21:46:58.215Z"
   },
   {
    "duration": 0,
    "start_time": "2022-05-21T21:46:58.216Z"
   },
   {
    "duration": 0,
    "start_time": "2022-05-21T21:46:58.217Z"
   },
   {
    "duration": 0,
    "start_time": "2022-05-21T21:46:58.219Z"
   },
   {
    "duration": 0,
    "start_time": "2022-05-21T21:46:58.220Z"
   },
   {
    "duration": 0,
    "start_time": "2022-05-21T21:46:58.222Z"
   },
   {
    "duration": 0,
    "start_time": "2022-05-21T21:46:58.223Z"
   },
   {
    "duration": 0,
    "start_time": "2022-05-21T21:46:58.225Z"
   },
   {
    "duration": 0,
    "start_time": "2022-05-21T21:46:58.226Z"
   },
   {
    "duration": 1,
    "start_time": "2022-05-21T21:46:58.227Z"
   },
   {
    "duration": 0,
    "start_time": "2022-05-21T21:46:58.229Z"
   },
   {
    "duration": 0,
    "start_time": "2022-05-21T21:46:58.229Z"
   },
   {
    "duration": 1,
    "start_time": "2022-05-21T21:46:58.230Z"
   },
   {
    "duration": 0,
    "start_time": "2022-05-21T21:46:58.231Z"
   },
   {
    "duration": 0,
    "start_time": "2022-05-21T21:46:58.233Z"
   },
   {
    "duration": 0,
    "start_time": "2022-05-21T21:46:58.233Z"
   },
   {
    "duration": 0,
    "start_time": "2022-05-21T21:46:58.235Z"
   },
   {
    "duration": 0,
    "start_time": "2022-05-21T21:46:58.236Z"
   },
   {
    "duration": 0,
    "start_time": "2022-05-21T21:46:58.237Z"
   },
   {
    "duration": 0,
    "start_time": "2022-05-21T21:46:58.238Z"
   },
   {
    "duration": 0,
    "start_time": "2022-05-21T21:46:58.239Z"
   },
   {
    "duration": 0,
    "start_time": "2022-05-21T21:46:58.240Z"
   },
   {
    "duration": 0,
    "start_time": "2022-05-21T21:46:58.241Z"
   },
   {
    "duration": 0,
    "start_time": "2022-05-21T21:46:58.243Z"
   },
   {
    "duration": 0,
    "start_time": "2022-05-21T21:46:58.244Z"
   },
   {
    "duration": 2,
    "start_time": "2022-05-21T21:47:55.841Z"
   },
   {
    "duration": 82,
    "start_time": "2022-05-21T21:47:55.855Z"
   },
   {
    "duration": 15,
    "start_time": "2022-05-21T21:47:55.940Z"
   },
   {
    "duration": 18,
    "start_time": "2022-05-21T21:47:55.957Z"
   },
   {
    "duration": 9,
    "start_time": "2022-05-21T21:47:55.977Z"
   },
   {
    "duration": 17,
    "start_time": "2022-05-21T21:47:56.011Z"
   },
   {
    "duration": 5,
    "start_time": "2022-05-21T21:47:56.031Z"
   },
   {
    "duration": 8,
    "start_time": "2022-05-21T21:47:56.037Z"
   },
   {
    "duration": 4,
    "start_time": "2022-05-21T21:47:56.046Z"
   },
   {
    "duration": 14,
    "start_time": "2022-05-21T21:47:56.051Z"
   },
   {
    "duration": 4,
    "start_time": "2022-05-21T21:47:56.067Z"
   },
   {
    "duration": 44,
    "start_time": "2022-05-21T21:47:56.072Z"
   },
   {
    "duration": 33,
    "start_time": "2022-05-21T21:47:56.121Z"
   },
   {
    "duration": 5,
    "start_time": "2022-05-21T21:47:56.156Z"
   },
   {
    "duration": 5,
    "start_time": "2022-05-21T21:47:56.164Z"
   },
   {
    "duration": 43,
    "start_time": "2022-05-21T21:47:56.170Z"
   },
   {
    "duration": 16,
    "start_time": "2022-05-21T21:47:56.216Z"
   },
   {
    "duration": 6,
    "start_time": "2022-05-21T21:47:56.233Z"
   },
   {
    "duration": 19,
    "start_time": "2022-05-21T21:47:56.240Z"
   },
   {
    "duration": 8,
    "start_time": "2022-05-21T21:47:56.260Z"
   },
   {
    "duration": 0,
    "start_time": "2022-05-21T21:47:56.270Z"
   },
   {
    "duration": 0,
    "start_time": "2022-05-21T21:47:56.270Z"
   },
   {
    "duration": 0,
    "start_time": "2022-05-21T21:47:56.271Z"
   },
   {
    "duration": 0,
    "start_time": "2022-05-21T21:47:56.272Z"
   },
   {
    "duration": 0,
    "start_time": "2022-05-21T21:47:56.273Z"
   },
   {
    "duration": 0,
    "start_time": "2022-05-21T21:47:56.274Z"
   },
   {
    "duration": 0,
    "start_time": "2022-05-21T21:47:56.275Z"
   },
   {
    "duration": 0,
    "start_time": "2022-05-21T21:47:56.276Z"
   },
   {
    "duration": 0,
    "start_time": "2022-05-21T21:47:56.277Z"
   },
   {
    "duration": 0,
    "start_time": "2022-05-21T21:47:56.278Z"
   },
   {
    "duration": 0,
    "start_time": "2022-05-21T21:47:56.279Z"
   },
   {
    "duration": 0,
    "start_time": "2022-05-21T21:47:56.279Z"
   },
   {
    "duration": 0,
    "start_time": "2022-05-21T21:47:56.313Z"
   },
   {
    "duration": 0,
    "start_time": "2022-05-21T21:47:56.315Z"
   },
   {
    "duration": 0,
    "start_time": "2022-05-21T21:47:56.317Z"
   },
   {
    "duration": 0,
    "start_time": "2022-05-21T21:47:56.318Z"
   },
   {
    "duration": 0,
    "start_time": "2022-05-21T21:47:56.320Z"
   },
   {
    "duration": 0,
    "start_time": "2022-05-21T21:47:56.321Z"
   },
   {
    "duration": 0,
    "start_time": "2022-05-21T21:47:56.322Z"
   },
   {
    "duration": 0,
    "start_time": "2022-05-21T21:47:56.324Z"
   },
   {
    "duration": 0,
    "start_time": "2022-05-21T21:47:56.325Z"
   },
   {
    "duration": 0,
    "start_time": "2022-05-21T21:47:56.326Z"
   },
   {
    "duration": 0,
    "start_time": "2022-05-21T21:47:56.328Z"
   },
   {
    "duration": 0,
    "start_time": "2022-05-21T21:47:56.329Z"
   },
   {
    "duration": 0,
    "start_time": "2022-05-21T21:47:56.330Z"
   },
   {
    "duration": 0,
    "start_time": "2022-05-21T21:47:56.331Z"
   },
   {
    "duration": 0,
    "start_time": "2022-05-21T21:47:56.332Z"
   },
   {
    "duration": 0,
    "start_time": "2022-05-21T21:47:56.332Z"
   },
   {
    "duration": 0,
    "start_time": "2022-05-21T21:47:56.333Z"
   },
   {
    "duration": 3,
    "start_time": "2022-05-21T21:48:52.957Z"
   },
   {
    "duration": 71,
    "start_time": "2022-05-21T21:48:52.962Z"
   },
   {
    "duration": 13,
    "start_time": "2022-05-21T21:48:53.035Z"
   },
   {
    "duration": 15,
    "start_time": "2022-05-21T21:48:53.049Z"
   },
   {
    "duration": 10,
    "start_time": "2022-05-21T21:48:53.067Z"
   },
   {
    "duration": 38,
    "start_time": "2022-05-21T21:48:53.078Z"
   },
   {
    "duration": 8,
    "start_time": "2022-05-21T21:48:53.117Z"
   },
   {
    "duration": 6,
    "start_time": "2022-05-21T21:48:53.126Z"
   },
   {
    "duration": 3,
    "start_time": "2022-05-21T21:48:53.133Z"
   },
   {
    "duration": 7,
    "start_time": "2022-05-21T21:48:53.137Z"
   },
   {
    "duration": 10,
    "start_time": "2022-05-21T21:48:53.145Z"
   },
   {
    "duration": 57,
    "start_time": "2022-05-21T21:48:53.156Z"
   },
   {
    "duration": 28,
    "start_time": "2022-05-21T21:48:53.216Z"
   },
   {
    "duration": 5,
    "start_time": "2022-05-21T21:48:53.245Z"
   },
   {
    "duration": 7,
    "start_time": "2022-05-21T21:48:53.252Z"
   },
   {
    "duration": 18,
    "start_time": "2022-05-21T21:48:53.260Z"
   },
   {
    "duration": 39,
    "start_time": "2022-05-21T21:48:53.279Z"
   },
   {
    "duration": 6,
    "start_time": "2022-05-21T21:48:53.320Z"
   },
   {
    "duration": 15,
    "start_time": "2022-05-21T21:48:53.327Z"
   },
   {
    "duration": 8,
    "start_time": "2022-05-21T21:48:53.344Z"
   },
   {
    "duration": 0,
    "start_time": "2022-05-21T21:48:53.354Z"
   },
   {
    "duration": 0,
    "start_time": "2022-05-21T21:48:53.355Z"
   },
   {
    "duration": 0,
    "start_time": "2022-05-21T21:48:53.356Z"
   },
   {
    "duration": 0,
    "start_time": "2022-05-21T21:48:53.357Z"
   },
   {
    "duration": 0,
    "start_time": "2022-05-21T21:48:53.358Z"
   },
   {
    "duration": 0,
    "start_time": "2022-05-21T21:48:53.359Z"
   },
   {
    "duration": 0,
    "start_time": "2022-05-21T21:48:53.361Z"
   },
   {
    "duration": 0,
    "start_time": "2022-05-21T21:48:53.362Z"
   },
   {
    "duration": 0,
    "start_time": "2022-05-21T21:48:53.363Z"
   },
   {
    "duration": 0,
    "start_time": "2022-05-21T21:48:53.364Z"
   },
   {
    "duration": 0,
    "start_time": "2022-05-21T21:48:53.365Z"
   },
   {
    "duration": 0,
    "start_time": "2022-05-21T21:48:53.367Z"
   },
   {
    "duration": 0,
    "start_time": "2022-05-21T21:48:53.367Z"
   },
   {
    "duration": 0,
    "start_time": "2022-05-21T21:48:53.369Z"
   },
   {
    "duration": 0,
    "start_time": "2022-05-21T21:48:53.370Z"
   },
   {
    "duration": 0,
    "start_time": "2022-05-21T21:48:53.371Z"
   },
   {
    "duration": 0,
    "start_time": "2022-05-21T21:48:53.412Z"
   },
   {
    "duration": 0,
    "start_time": "2022-05-21T21:48:53.413Z"
   },
   {
    "duration": 0,
    "start_time": "2022-05-21T21:48:53.415Z"
   },
   {
    "duration": 0,
    "start_time": "2022-05-21T21:48:53.416Z"
   },
   {
    "duration": 0,
    "start_time": "2022-05-21T21:48:53.417Z"
   },
   {
    "duration": 0,
    "start_time": "2022-05-21T21:48:53.418Z"
   },
   {
    "duration": 0,
    "start_time": "2022-05-21T21:48:53.419Z"
   },
   {
    "duration": 0,
    "start_time": "2022-05-21T21:48:53.421Z"
   },
   {
    "duration": 0,
    "start_time": "2022-05-21T21:48:53.421Z"
   },
   {
    "duration": 0,
    "start_time": "2022-05-21T21:48:53.422Z"
   },
   {
    "duration": 0,
    "start_time": "2022-05-21T21:48:53.424Z"
   },
   {
    "duration": 0,
    "start_time": "2022-05-21T21:48:53.425Z"
   },
   {
    "duration": 0,
    "start_time": "2022-05-21T21:48:53.426Z"
   },
   {
    "duration": 3,
    "start_time": "2022-05-21T21:49:18.592Z"
   },
   {
    "duration": 81,
    "start_time": "2022-05-21T21:49:18.597Z"
   },
   {
    "duration": 12,
    "start_time": "2022-05-21T21:49:18.680Z"
   },
   {
    "duration": 20,
    "start_time": "2022-05-21T21:49:18.694Z"
   },
   {
    "duration": 10,
    "start_time": "2022-05-21T21:49:18.716Z"
   },
   {
    "duration": 11,
    "start_time": "2022-05-21T21:49:18.727Z"
   },
   {
    "duration": 4,
    "start_time": "2022-05-21T21:49:18.740Z"
   },
   {
    "duration": 10,
    "start_time": "2022-05-21T21:49:18.745Z"
   },
   {
    "duration": 4,
    "start_time": "2022-05-21T21:49:18.757Z"
   },
   {
    "duration": 7,
    "start_time": "2022-05-21T21:49:18.763Z"
   },
   {
    "duration": 42,
    "start_time": "2022-05-21T21:49:18.773Z"
   },
   {
    "duration": 27,
    "start_time": "2022-05-21T21:49:18.816Z"
   },
   {
    "duration": 28,
    "start_time": "2022-05-21T21:49:18.845Z"
   },
   {
    "duration": 5,
    "start_time": "2022-05-21T21:49:18.875Z"
   },
   {
    "duration": 34,
    "start_time": "2022-05-21T21:49:18.881Z"
   },
   {
    "duration": 17,
    "start_time": "2022-05-21T21:49:18.917Z"
   },
   {
    "duration": 11,
    "start_time": "2022-05-21T21:49:18.935Z"
   },
   {
    "duration": 7,
    "start_time": "2022-05-21T21:49:18.948Z"
   },
   {
    "duration": 13,
    "start_time": "2022-05-21T21:49:18.957Z"
   },
   {
    "duration": 8,
    "start_time": "2022-05-21T21:49:18.971Z"
   },
   {
    "duration": 0,
    "start_time": "2022-05-21T21:49:18.980Z"
   },
   {
    "duration": 0,
    "start_time": "2022-05-21T21:49:18.982Z"
   },
   {
    "duration": 0,
    "start_time": "2022-05-21T21:49:18.983Z"
   },
   {
    "duration": 0,
    "start_time": "2022-05-21T21:49:18.984Z"
   },
   {
    "duration": 0,
    "start_time": "2022-05-21T21:49:18.984Z"
   },
   {
    "duration": 0,
    "start_time": "2022-05-21T21:49:19.013Z"
   },
   {
    "duration": 0,
    "start_time": "2022-05-21T21:49:19.014Z"
   },
   {
    "duration": 0,
    "start_time": "2022-05-21T21:49:19.015Z"
   },
   {
    "duration": 0,
    "start_time": "2022-05-21T21:49:19.016Z"
   },
   {
    "duration": 0,
    "start_time": "2022-05-21T21:49:19.017Z"
   },
   {
    "duration": 0,
    "start_time": "2022-05-21T21:49:19.018Z"
   },
   {
    "duration": 0,
    "start_time": "2022-05-21T21:49:19.019Z"
   },
   {
    "duration": 0,
    "start_time": "2022-05-21T21:49:19.020Z"
   },
   {
    "duration": 0,
    "start_time": "2022-05-21T21:49:19.021Z"
   },
   {
    "duration": 0,
    "start_time": "2022-05-21T21:49:19.022Z"
   },
   {
    "duration": 0,
    "start_time": "2022-05-21T21:49:19.023Z"
   },
   {
    "duration": 0,
    "start_time": "2022-05-21T21:49:19.024Z"
   },
   {
    "duration": 0,
    "start_time": "2022-05-21T21:49:19.026Z"
   },
   {
    "duration": 0,
    "start_time": "2022-05-21T21:49:19.027Z"
   },
   {
    "duration": 0,
    "start_time": "2022-05-21T21:49:19.028Z"
   },
   {
    "duration": 0,
    "start_time": "2022-05-21T21:49:19.029Z"
   },
   {
    "duration": 0,
    "start_time": "2022-05-21T21:49:19.030Z"
   },
   {
    "duration": 0,
    "start_time": "2022-05-21T21:49:19.031Z"
   },
   {
    "duration": 0,
    "start_time": "2022-05-21T21:49:19.032Z"
   },
   {
    "duration": 0,
    "start_time": "2022-05-21T21:49:19.032Z"
   },
   {
    "duration": 0,
    "start_time": "2022-05-21T21:49:19.033Z"
   },
   {
    "duration": 0,
    "start_time": "2022-05-21T21:49:19.034Z"
   },
   {
    "duration": 0,
    "start_time": "2022-05-21T21:49:19.035Z"
   },
   {
    "duration": 0,
    "start_time": "2022-05-21T21:49:19.037Z"
   },
   {
    "duration": 26,
    "start_time": "2022-05-21T21:49:34.700Z"
   },
   {
    "duration": 3,
    "start_time": "2022-05-21T21:50:34.432Z"
   },
   {
    "duration": 78,
    "start_time": "2022-05-21T21:50:34.438Z"
   },
   {
    "duration": 14,
    "start_time": "2022-05-21T21:50:34.518Z"
   },
   {
    "duration": 16,
    "start_time": "2022-05-21T21:50:34.534Z"
   },
   {
    "duration": 10,
    "start_time": "2022-05-21T21:50:34.552Z"
   },
   {
    "duration": 14,
    "start_time": "2022-05-21T21:50:34.563Z"
   },
   {
    "duration": 41,
    "start_time": "2022-05-21T21:50:34.579Z"
   },
   {
    "duration": 10,
    "start_time": "2022-05-21T21:50:34.621Z"
   },
   {
    "duration": 3,
    "start_time": "2022-05-21T21:50:34.632Z"
   },
   {
    "duration": 5,
    "start_time": "2022-05-21T21:50:34.637Z"
   },
   {
    "duration": 14,
    "start_time": "2022-05-21T21:50:34.644Z"
   },
   {
    "duration": 52,
    "start_time": "2022-05-21T21:50:34.661Z"
   },
   {
    "duration": 31,
    "start_time": "2022-05-21T21:50:34.715Z"
   },
   {
    "duration": 7,
    "start_time": "2022-05-21T21:50:34.747Z"
   },
   {
    "duration": 10,
    "start_time": "2022-05-21T21:50:34.755Z"
   },
   {
    "duration": 19,
    "start_time": "2022-05-21T21:50:34.767Z"
   },
   {
    "duration": 14,
    "start_time": "2022-05-21T21:50:34.811Z"
   },
   {
    "duration": 10,
    "start_time": "2022-05-21T21:50:34.826Z"
   },
   {
    "duration": 16,
    "start_time": "2022-05-21T21:50:34.837Z"
   },
   {
    "duration": 8,
    "start_time": "2022-05-21T21:50:34.855Z"
   },
   {
    "duration": 0,
    "start_time": "2022-05-21T21:50:34.865Z"
   },
   {
    "duration": 0,
    "start_time": "2022-05-21T21:50:34.866Z"
   },
   {
    "duration": 0,
    "start_time": "2022-05-21T21:50:34.868Z"
   },
   {
    "duration": 0,
    "start_time": "2022-05-21T21:50:34.869Z"
   },
   {
    "duration": 0,
    "start_time": "2022-05-21T21:50:34.870Z"
   },
   {
    "duration": 0,
    "start_time": "2022-05-21T21:50:34.871Z"
   },
   {
    "duration": 0,
    "start_time": "2022-05-21T21:50:34.872Z"
   },
   {
    "duration": 0,
    "start_time": "2022-05-21T21:50:34.874Z"
   },
   {
    "duration": 0,
    "start_time": "2022-05-21T21:50:34.875Z"
   },
   {
    "duration": 0,
    "start_time": "2022-05-21T21:50:34.876Z"
   },
   {
    "duration": 0,
    "start_time": "2022-05-21T21:50:34.912Z"
   },
   {
    "duration": 0,
    "start_time": "2022-05-21T21:50:34.913Z"
   },
   {
    "duration": 0,
    "start_time": "2022-05-21T21:50:34.915Z"
   },
   {
    "duration": 0,
    "start_time": "2022-05-21T21:50:34.916Z"
   },
   {
    "duration": 0,
    "start_time": "2022-05-21T21:50:34.917Z"
   },
   {
    "duration": 0,
    "start_time": "2022-05-21T21:50:34.918Z"
   },
   {
    "duration": 0,
    "start_time": "2022-05-21T21:50:34.919Z"
   },
   {
    "duration": 0,
    "start_time": "2022-05-21T21:50:34.921Z"
   },
   {
    "duration": 0,
    "start_time": "2022-05-21T21:50:34.922Z"
   },
   {
    "duration": 0,
    "start_time": "2022-05-21T21:50:34.925Z"
   },
   {
    "duration": 0,
    "start_time": "2022-05-21T21:50:34.926Z"
   },
   {
    "duration": 0,
    "start_time": "2022-05-21T21:50:34.928Z"
   },
   {
    "duration": 0,
    "start_time": "2022-05-21T21:50:34.930Z"
   },
   {
    "duration": 0,
    "start_time": "2022-05-21T21:50:34.931Z"
   },
   {
    "duration": 0,
    "start_time": "2022-05-21T21:50:34.933Z"
   },
   {
    "duration": 0,
    "start_time": "2022-05-21T21:50:34.935Z"
   },
   {
    "duration": 0,
    "start_time": "2022-05-21T21:50:34.936Z"
   },
   {
    "duration": 0,
    "start_time": "2022-05-21T21:50:34.938Z"
   },
   {
    "duration": 0,
    "start_time": "2022-05-21T21:50:34.940Z"
   },
   {
    "duration": 8,
    "start_time": "2022-05-21T21:52:54.156Z"
   },
   {
    "duration": 4,
    "start_time": "2022-05-21T21:53:43.444Z"
   },
   {
    "duration": 8,
    "start_time": "2022-05-21T21:54:20.116Z"
   },
   {
    "duration": 8,
    "start_time": "2022-05-21T21:54:23.420Z"
   },
   {
    "duration": 7,
    "start_time": "2022-05-21T21:54:29.300Z"
   },
   {
    "duration": 8,
    "start_time": "2022-05-21T21:54:32.799Z"
   },
   {
    "duration": 8,
    "start_time": "2022-05-21T21:54:37.135Z"
   },
   {
    "duration": 7,
    "start_time": "2022-05-21T21:54:54.364Z"
   },
   {
    "duration": 4,
    "start_time": "2022-05-21T21:55:43.072Z"
   },
   {
    "duration": 4,
    "start_time": "2022-05-21T21:55:48.651Z"
   },
   {
    "duration": 6,
    "start_time": "2022-05-21T21:56:16.839Z"
   },
   {
    "duration": 7,
    "start_time": "2022-05-21T21:56:30.287Z"
   },
   {
    "duration": 8,
    "start_time": "2022-05-21T21:56:36.163Z"
   },
   {
    "duration": 6,
    "start_time": "2022-05-21T21:57:07.915Z"
   },
   {
    "duration": 6,
    "start_time": "2022-05-21T21:57:37.696Z"
   },
   {
    "duration": 6,
    "start_time": "2022-05-21T21:57:47.579Z"
   },
   {
    "duration": 7,
    "start_time": "2022-05-21T21:57:52.339Z"
   },
   {
    "duration": 6,
    "start_time": "2022-05-21T22:00:20.703Z"
   },
   {
    "duration": 6,
    "start_time": "2022-05-21T22:00:27.371Z"
   },
   {
    "duration": 14,
    "start_time": "2022-05-21T22:01:41.307Z"
   },
   {
    "duration": 12,
    "start_time": "2022-05-21T22:01:48.040Z"
   },
   {
    "duration": 8,
    "start_time": "2022-05-21T22:01:56.324Z"
   },
   {
    "duration": 6,
    "start_time": "2022-05-21T22:02:13.779Z"
   },
   {
    "duration": 6,
    "start_time": "2022-05-21T22:03:28.475Z"
   },
   {
    "duration": 6,
    "start_time": "2022-05-21T22:03:52.803Z"
   },
   {
    "duration": 48,
    "start_time": "2022-05-21T22:05:12.510Z"
   },
   {
    "duration": 3,
    "start_time": "2022-05-21T22:06:14.738Z"
   },
   {
    "duration": 74,
    "start_time": "2022-05-21T22:06:14.744Z"
   },
   {
    "duration": 15,
    "start_time": "2022-05-21T22:06:14.821Z"
   },
   {
    "duration": 16,
    "start_time": "2022-05-21T22:06:14.837Z"
   },
   {
    "duration": 10,
    "start_time": "2022-05-21T22:06:14.855Z"
   },
   {
    "duration": 9,
    "start_time": "2022-05-21T22:06:14.866Z"
   },
   {
    "duration": 38,
    "start_time": "2022-05-21T22:06:14.877Z"
   },
   {
    "duration": 19,
    "start_time": "2022-05-21T22:06:14.917Z"
   },
   {
    "duration": 3,
    "start_time": "2022-05-21T22:06:14.937Z"
   },
   {
    "duration": 5,
    "start_time": "2022-05-21T22:06:14.941Z"
   },
   {
    "duration": 9,
    "start_time": "2022-05-21T22:06:14.948Z"
   },
   {
    "duration": 23,
    "start_time": "2022-05-21T22:06:14.959Z"
   },
   {
    "duration": 60,
    "start_time": "2022-05-21T22:06:14.984Z"
   },
   {
    "duration": 4,
    "start_time": "2022-05-21T22:06:15.046Z"
   },
   {
    "duration": 12,
    "start_time": "2022-05-21T22:06:15.052Z"
   },
   {
    "duration": 18,
    "start_time": "2022-05-21T22:06:15.065Z"
   },
   {
    "duration": 44,
    "start_time": "2022-05-21T22:06:15.085Z"
   },
   {
    "duration": 5,
    "start_time": "2022-05-21T22:06:15.131Z"
   },
   {
    "duration": 13,
    "start_time": "2022-05-21T22:06:15.138Z"
   },
   {
    "duration": 7,
    "start_time": "2022-05-21T22:06:15.153Z"
   },
   {
    "duration": 7,
    "start_time": "2022-05-21T22:06:15.162Z"
   },
   {
    "duration": 44,
    "start_time": "2022-05-21T22:06:15.170Z"
   },
   {
    "duration": 8,
    "start_time": "2022-05-21T22:06:15.215Z"
   },
   {
    "duration": 14,
    "start_time": "2022-05-21T22:06:15.225Z"
   },
   {
    "duration": 7,
    "start_time": "2022-05-21T22:06:15.240Z"
   },
   {
    "duration": 10,
    "start_time": "2022-05-21T22:06:15.248Z"
   },
   {
    "duration": 11,
    "start_time": "2022-05-21T22:06:15.260Z"
   },
   {
    "duration": 46,
    "start_time": "2022-05-21T22:06:15.272Z"
   },
   {
    "duration": 19,
    "start_time": "2022-05-21T22:06:15.324Z"
   },
   {
    "duration": 15,
    "start_time": "2022-05-21T22:06:15.345Z"
   },
   {
    "duration": 96,
    "start_time": "2022-05-21T22:06:15.361Z"
   },
   {
    "duration": 27,
    "start_time": "2022-05-21T22:06:15.459Z"
   },
   {
    "duration": 35,
    "start_time": "2022-05-21T22:06:15.487Z"
   },
   {
    "duration": 8,
    "start_time": "2022-05-21T22:06:15.525Z"
   },
   {
    "duration": 7,
    "start_time": "2022-05-21T22:06:15.535Z"
   },
   {
    "duration": 13,
    "start_time": "2022-05-21T22:06:15.544Z"
   },
   {
    "duration": 7,
    "start_time": "2022-05-21T22:06:15.558Z"
   },
   {
    "duration": 15,
    "start_time": "2022-05-21T22:06:15.566Z"
   },
   {
    "duration": 47,
    "start_time": "2022-05-21T22:06:15.582Z"
   },
   {
    "duration": 993,
    "start_time": "2022-05-21T22:06:15.631Z"
   },
   {
    "duration": 6,
    "start_time": "2022-05-21T22:06:16.627Z"
   },
   {
    "duration": 7,
    "start_time": "2022-05-21T22:06:16.634Z"
   },
   {
    "duration": 8,
    "start_time": "2022-05-21T22:06:16.642Z"
   },
   {
    "duration": 8,
    "start_time": "2022-05-21T22:06:16.651Z"
   },
   {
    "duration": 16,
    "start_time": "2022-05-21T22:06:16.660Z"
   },
   {
    "duration": 45,
    "start_time": "2022-05-21T22:06:16.678Z"
   },
   {
    "duration": 152,
    "start_time": "2022-05-21T22:06:16.726Z"
   },
   {
    "duration": 13,
    "start_time": "2022-05-21T22:06:16.880Z"
   },
   {
    "duration": 162,
    "start_time": "2022-05-21T22:06:16.895Z"
   },
   {
    "duration": 15,
    "start_time": "2022-05-21T22:06:17.058Z"
   },
   {
    "duration": 167,
    "start_time": "2022-05-21T22:06:17.074Z"
   },
   {
    "duration": 20,
    "start_time": "2022-05-21T22:06:34.258Z"
   },
   {
    "duration": 6,
    "start_time": "2022-05-21T22:06:38.254Z"
   },
   {
    "duration": 6,
    "start_time": "2022-05-21T22:06:51.651Z"
   },
   {
    "duration": 32,
    "start_time": "2022-05-21T22:07:26.402Z"
   },
   {
    "duration": 20,
    "start_time": "2022-05-21T22:12:22.630Z"
   },
   {
    "duration": 21,
    "start_time": "2022-05-21T22:12:32.138Z"
   },
   {
    "duration": 9,
    "start_time": "2022-05-21T22:14:03.010Z"
   },
   {
    "duration": 21,
    "start_time": "2022-05-21T22:14:14.526Z"
   },
   {
    "duration": 34,
    "start_time": "2022-05-21T22:14:46.014Z"
   },
   {
    "duration": 18,
    "start_time": "2022-05-21T22:15:59.959Z"
   },
   {
    "duration": 3,
    "start_time": "2022-05-21T22:16:21.237Z"
   },
   {
    "duration": 75,
    "start_time": "2022-05-21T22:16:21.241Z"
   },
   {
    "duration": 12,
    "start_time": "2022-05-21T22:16:21.318Z"
   },
   {
    "duration": 111,
    "start_time": "2022-05-21T22:16:21.332Z"
   },
   {
    "duration": 15,
    "start_time": "2022-05-21T22:16:21.446Z"
   },
   {
    "duration": 19,
    "start_time": "2022-05-21T22:16:21.463Z"
   },
   {
    "duration": 31,
    "start_time": "2022-05-21T22:16:21.485Z"
   },
   {
    "duration": 15,
    "start_time": "2022-05-21T22:16:21.518Z"
   },
   {
    "duration": 10,
    "start_time": "2022-05-21T22:16:21.535Z"
   },
   {
    "duration": 9,
    "start_time": "2022-05-21T22:16:21.547Z"
   },
   {
    "duration": 16,
    "start_time": "2022-05-21T22:16:21.558Z"
   },
   {
    "duration": 42,
    "start_time": "2022-05-21T22:16:21.576Z"
   },
   {
    "duration": 38,
    "start_time": "2022-05-21T22:16:21.622Z"
   },
   {
    "duration": 7,
    "start_time": "2022-05-21T22:16:21.662Z"
   },
   {
    "duration": 10,
    "start_time": "2022-05-21T22:16:21.670Z"
   },
   {
    "duration": 20,
    "start_time": "2022-05-21T22:16:21.711Z"
   },
   {
    "duration": 13,
    "start_time": "2022-05-21T22:16:21.733Z"
   },
   {
    "duration": 10,
    "start_time": "2022-05-21T22:16:21.747Z"
   },
   {
    "duration": 17,
    "start_time": "2022-05-21T22:16:21.758Z"
   },
   {
    "duration": 8,
    "start_time": "2022-05-21T22:16:21.777Z"
   },
   {
    "duration": 30,
    "start_time": "2022-05-21T22:16:21.786Z"
   },
   {
    "duration": 6,
    "start_time": "2022-05-21T22:16:21.818Z"
   },
   {
    "duration": 6,
    "start_time": "2022-05-21T22:16:21.826Z"
   },
   {
    "duration": 9,
    "start_time": "2022-05-21T22:16:21.834Z"
   },
   {
    "duration": 7,
    "start_time": "2022-05-21T22:16:21.845Z"
   },
   {
    "duration": 11,
    "start_time": "2022-05-21T22:16:21.854Z"
   },
   {
    "duration": 45,
    "start_time": "2022-05-21T22:16:21.867Z"
   },
   {
    "duration": 18,
    "start_time": "2022-05-21T22:16:21.914Z"
   },
   {
    "duration": 19,
    "start_time": "2022-05-21T22:16:21.934Z"
   },
   {
    "duration": 15,
    "start_time": "2022-05-21T22:16:21.955Z"
   },
   {
    "duration": 95,
    "start_time": "2022-05-21T22:16:21.972Z"
   },
   {
    "duration": 29,
    "start_time": "2022-05-21T22:16:22.069Z"
   },
   {
    "duration": 17,
    "start_time": "2022-05-21T22:16:22.111Z"
   },
   {
    "duration": 16,
    "start_time": "2022-05-21T22:16:22.129Z"
   },
   {
    "duration": 8,
    "start_time": "2022-05-21T22:16:22.146Z"
   },
   {
    "duration": 9,
    "start_time": "2022-05-21T22:16:22.155Z"
   },
   {
    "duration": 8,
    "start_time": "2022-05-21T22:16:22.168Z"
   },
   {
    "duration": 46,
    "start_time": "2022-05-21T22:16:22.178Z"
   },
   {
    "duration": 10,
    "start_time": "2022-05-21T22:16:22.226Z"
   },
   {
    "duration": 16,
    "start_time": "2022-05-21T22:16:22.238Z"
   },
   {
    "duration": 13,
    "start_time": "2022-05-21T22:16:22.256Z"
   },
   {
    "duration": 160,
    "start_time": "2022-05-21T22:16:22.271Z"
   },
   {
    "duration": 5,
    "start_time": "2022-05-21T22:16:22.434Z"
   },
   {
    "duration": 5,
    "start_time": "2022-05-21T22:16:22.441Z"
   },
   {
    "duration": 7,
    "start_time": "2022-05-21T22:16:22.447Z"
   },
   {
    "duration": 7,
    "start_time": "2022-05-21T22:16:22.455Z"
   },
   {
    "duration": 16,
    "start_time": "2022-05-21T22:16:22.464Z"
   },
   {
    "duration": 45,
    "start_time": "2022-05-21T22:16:22.481Z"
   },
   {
    "duration": 162,
    "start_time": "2022-05-21T22:16:22.528Z"
   },
   {
    "duration": 21,
    "start_time": "2022-05-21T22:16:22.692Z"
   },
   {
    "duration": 140,
    "start_time": "2022-05-21T22:16:22.714Z"
   },
   {
    "duration": 17,
    "start_time": "2022-05-21T22:16:22.856Z"
   },
   {
    "duration": 162,
    "start_time": "2022-05-21T22:16:22.875Z"
   },
   {
    "duration": 28,
    "start_time": "2022-05-21T22:16:50.701Z"
   },
   {
    "duration": 3,
    "start_time": "2022-05-21T22:17:03.149Z"
   },
   {
    "duration": 86,
    "start_time": "2022-05-21T22:17:03.154Z"
   },
   {
    "duration": 14,
    "start_time": "2022-05-21T22:17:03.247Z"
   },
   {
    "duration": 18,
    "start_time": "2022-05-21T22:17:03.263Z"
   },
   {
    "duration": 31,
    "start_time": "2022-05-21T22:17:03.283Z"
   },
   {
    "duration": 14,
    "start_time": "2022-05-21T22:17:03.317Z"
   },
   {
    "duration": 5,
    "start_time": "2022-05-21T22:17:03.333Z"
   },
   {
    "duration": 10,
    "start_time": "2022-05-21T22:17:03.340Z"
   },
   {
    "duration": 3,
    "start_time": "2022-05-21T22:17:03.351Z"
   },
   {
    "duration": 6,
    "start_time": "2022-05-21T22:17:03.356Z"
   },
   {
    "duration": 10,
    "start_time": "2022-05-21T22:17:03.364Z"
   },
   {
    "duration": 59,
    "start_time": "2022-05-21T22:17:03.376Z"
   },
   {
    "duration": 36,
    "start_time": "2022-05-21T22:17:03.437Z"
   },
   {
    "duration": 7,
    "start_time": "2022-05-21T22:17:03.474Z"
   },
   {
    "duration": 36,
    "start_time": "2022-05-21T22:17:03.483Z"
   },
   {
    "duration": 21,
    "start_time": "2022-05-21T22:17:03.520Z"
   },
   {
    "duration": 13,
    "start_time": "2022-05-21T22:17:03.543Z"
   },
   {
    "duration": 11,
    "start_time": "2022-05-21T22:17:03.558Z"
   },
   {
    "duration": 15,
    "start_time": "2022-05-21T22:17:03.571Z"
   },
   {
    "duration": 32,
    "start_time": "2022-05-21T22:17:03.587Z"
   },
   {
    "duration": 6,
    "start_time": "2022-05-21T22:17:03.620Z"
   },
   {
    "duration": 8,
    "start_time": "2022-05-21T22:17:03.627Z"
   },
   {
    "duration": 5,
    "start_time": "2022-05-21T22:17:03.637Z"
   },
   {
    "duration": 10,
    "start_time": "2022-05-21T22:17:03.644Z"
   },
   {
    "duration": 6,
    "start_time": "2022-05-21T22:17:03.656Z"
   },
   {
    "duration": 14,
    "start_time": "2022-05-21T22:17:03.664Z"
   },
   {
    "duration": 39,
    "start_time": "2022-05-21T22:17:03.679Z"
   },
   {
    "duration": 18,
    "start_time": "2022-05-21T22:17:03.720Z"
   },
   {
    "duration": 19,
    "start_time": "2022-05-21T22:17:03.742Z"
   },
   {
    "duration": 17,
    "start_time": "2022-05-21T22:17:03.763Z"
   },
   {
    "duration": 102,
    "start_time": "2022-05-21T22:17:03.782Z"
   },
   {
    "duration": 41,
    "start_time": "2022-05-21T22:17:03.885Z"
   },
   {
    "duration": 17,
    "start_time": "2022-05-21T22:17:03.928Z"
   },
   {
    "duration": 17,
    "start_time": "2022-05-21T22:17:03.946Z"
   },
   {
    "duration": 8,
    "start_time": "2022-05-21T22:17:03.965Z"
   },
   {
    "duration": 12,
    "start_time": "2022-05-21T22:17:03.974Z"
   },
   {
    "duration": 6,
    "start_time": "2022-05-21T22:17:04.011Z"
   },
   {
    "duration": 18,
    "start_time": "2022-05-21T22:17:04.019Z"
   },
   {
    "duration": 5,
    "start_time": "2022-05-21T22:17:04.039Z"
   },
   {
    "duration": 19,
    "start_time": "2022-05-21T22:17:04.046Z"
   },
   {
    "duration": 14,
    "start_time": "2022-05-21T22:17:04.066Z"
   },
   {
    "duration": 168,
    "start_time": "2022-05-21T22:17:04.082Z"
   },
   {
    "duration": 6,
    "start_time": "2022-05-21T22:17:04.252Z"
   },
   {
    "duration": 12,
    "start_time": "2022-05-21T22:17:04.260Z"
   },
   {
    "duration": 8,
    "start_time": "2022-05-21T22:17:04.273Z"
   },
   {
    "duration": 11,
    "start_time": "2022-05-21T22:17:04.283Z"
   },
   {
    "duration": 30,
    "start_time": "2022-05-21T22:17:04.296Z"
   },
   {
    "duration": 17,
    "start_time": "2022-05-21T22:17:04.328Z"
   },
   {
    "duration": 185,
    "start_time": "2022-05-21T22:17:04.347Z"
   },
   {
    "duration": 16,
    "start_time": "2022-05-21T22:17:04.533Z"
   },
   {
    "duration": 169,
    "start_time": "2022-05-21T22:17:04.551Z"
   },
   {
    "duration": 19,
    "start_time": "2022-05-21T22:17:04.722Z"
   },
   {
    "duration": 160,
    "start_time": "2022-05-21T22:17:04.743Z"
   },
   {
    "duration": 22,
    "start_time": "2022-05-21T22:18:56.377Z"
   },
   {
    "duration": 37,
    "start_time": "2022-05-21T22:20:14.213Z"
   },
   {
    "duration": 15,
    "start_time": "2022-05-21T22:24:21.052Z"
   },
   {
    "duration": 3,
    "start_time": "2022-05-21T22:24:46.544Z"
   },
   {
    "duration": 68,
    "start_time": "2022-05-21T22:24:46.555Z"
   },
   {
    "duration": 13,
    "start_time": "2022-05-21T22:24:46.624Z"
   },
   {
    "duration": 15,
    "start_time": "2022-05-21T22:24:46.638Z"
   },
   {
    "duration": 9,
    "start_time": "2022-05-21T22:24:46.655Z"
   },
   {
    "duration": 9,
    "start_time": "2022-05-21T22:24:46.665Z"
   },
   {
    "duration": 4,
    "start_time": "2022-05-21T22:24:46.676Z"
   },
   {
    "duration": 5,
    "start_time": "2022-05-21T22:24:46.712Z"
   },
   {
    "duration": 4,
    "start_time": "2022-05-21T22:24:46.719Z"
   },
   {
    "duration": 7,
    "start_time": "2022-05-21T22:24:46.725Z"
   },
   {
    "duration": 9,
    "start_time": "2022-05-21T22:24:46.734Z"
   },
   {
    "duration": 24,
    "start_time": "2022-05-21T22:24:46.745Z"
   },
   {
    "duration": 54,
    "start_time": "2022-05-21T22:24:46.771Z"
   },
   {
    "duration": 5,
    "start_time": "2022-05-21T22:24:46.827Z"
   },
   {
    "duration": 7,
    "start_time": "2022-05-21T22:24:46.833Z"
   },
   {
    "duration": 16,
    "start_time": "2022-05-21T22:24:46.841Z"
   },
   {
    "duration": 12,
    "start_time": "2022-05-21T22:24:46.859Z"
   },
   {
    "duration": 39,
    "start_time": "2022-05-21T22:24:46.873Z"
   },
   {
    "duration": 15,
    "start_time": "2022-05-21T22:24:46.915Z"
   },
   {
    "duration": 7,
    "start_time": "2022-05-21T22:24:46.932Z"
   },
   {
    "duration": 6,
    "start_time": "2022-05-21T22:24:46.941Z"
   },
   {
    "duration": 7,
    "start_time": "2022-05-21T22:24:46.949Z"
   },
   {
    "duration": 6,
    "start_time": "2022-05-21T22:24:46.958Z"
   },
   {
    "duration": 11,
    "start_time": "2022-05-21T22:24:46.966Z"
   },
   {
    "duration": 9,
    "start_time": "2022-05-21T22:24:47.011Z"
   },
   {
    "duration": 12,
    "start_time": "2022-05-21T22:24:47.021Z"
   },
   {
    "duration": 5,
    "start_time": "2022-05-21T22:24:47.034Z"
   },
   {
    "duration": 18,
    "start_time": "2022-05-21T22:24:47.041Z"
   },
   {
    "duration": 17,
    "start_time": "2022-05-21T22:24:47.062Z"
   },
   {
    "duration": 46,
    "start_time": "2022-05-21T22:24:47.081Z"
   },
   {
    "duration": 86,
    "start_time": "2022-05-21T22:24:47.129Z"
   },
   {
    "duration": 32,
    "start_time": "2022-05-21T22:24:47.216Z"
   },
   {
    "duration": 14,
    "start_time": "2022-05-21T22:24:47.250Z"
   },
   {
    "duration": 17,
    "start_time": "2022-05-21T22:24:47.265Z"
   },
   {
    "duration": 32,
    "start_time": "2022-05-21T22:24:47.284Z"
   },
   {
    "duration": 12,
    "start_time": "2022-05-21T22:24:47.318Z"
   },
   {
    "duration": 7,
    "start_time": "2022-05-21T22:24:47.331Z"
   },
   {
    "duration": 15,
    "start_time": "2022-05-21T22:24:47.339Z"
   },
   {
    "duration": 5,
    "start_time": "2022-05-21T22:24:47.355Z"
   },
   {
    "duration": 18,
    "start_time": "2022-05-21T22:24:47.362Z"
   },
   {
    "duration": 36,
    "start_time": "2022-05-21T22:24:47.381Z"
   },
   {
    "duration": 140,
    "start_time": "2022-05-21T22:24:47.419Z"
   },
   {
    "duration": 5,
    "start_time": "2022-05-21T22:24:47.561Z"
   },
   {
    "duration": 6,
    "start_time": "2022-05-21T22:24:47.567Z"
   },
   {
    "duration": 11,
    "start_time": "2022-05-21T22:24:47.574Z"
   },
   {
    "duration": 9,
    "start_time": "2022-05-21T22:24:47.586Z"
   },
   {
    "duration": 29,
    "start_time": "2022-05-21T22:24:47.596Z"
   },
   {
    "duration": 17,
    "start_time": "2022-05-21T22:24:47.626Z"
   },
   {
    "duration": 155,
    "start_time": "2022-05-21T22:24:47.644Z"
   },
   {
    "duration": 14,
    "start_time": "2022-05-21T22:24:47.812Z"
   },
   {
    "duration": 136,
    "start_time": "2022-05-21T22:24:47.828Z"
   },
   {
    "duration": 15,
    "start_time": "2022-05-21T22:24:47.966Z"
   },
   {
    "duration": 214,
    "start_time": "2022-05-21T22:24:47.983Z"
   },
   {
    "duration": 3,
    "start_time": "2022-05-21T22:25:14.197Z"
   },
   {
    "duration": 74,
    "start_time": "2022-05-21T22:25:14.201Z"
   },
   {
    "duration": 12,
    "start_time": "2022-05-21T22:25:14.277Z"
   },
   {
    "duration": 24,
    "start_time": "2022-05-21T22:25:14.291Z"
   },
   {
    "duration": 9,
    "start_time": "2022-05-21T22:25:14.317Z"
   },
   {
    "duration": 9,
    "start_time": "2022-05-21T22:25:14.328Z"
   },
   {
    "duration": 5,
    "start_time": "2022-05-21T22:25:14.338Z"
   },
   {
    "duration": 9,
    "start_time": "2022-05-21T22:25:14.344Z"
   },
   {
    "duration": 2,
    "start_time": "2022-05-21T22:25:14.355Z"
   },
   {
    "duration": 5,
    "start_time": "2022-05-21T22:25:14.359Z"
   },
   {
    "duration": 9,
    "start_time": "2022-05-21T22:25:14.367Z"
   },
   {
    "duration": 25,
    "start_time": "2022-05-21T22:25:14.413Z"
   },
   {
    "duration": 28,
    "start_time": "2022-05-21T22:25:14.440Z"
   },
   {
    "duration": 5,
    "start_time": "2022-05-21T22:25:14.469Z"
   },
   {
    "duration": 41,
    "start_time": "2022-05-21T22:25:14.475Z"
   },
   {
    "duration": 16,
    "start_time": "2022-05-21T22:25:14.518Z"
   },
   {
    "duration": 12,
    "start_time": "2022-05-21T22:25:14.535Z"
   },
   {
    "duration": 7,
    "start_time": "2022-05-21T22:25:14.548Z"
   },
   {
    "duration": 14,
    "start_time": "2022-05-21T22:25:14.557Z"
   },
   {
    "duration": 7,
    "start_time": "2022-05-21T22:25:14.572Z"
   },
   {
    "duration": 33,
    "start_time": "2022-05-21T22:25:14.580Z"
   },
   {
    "duration": 7,
    "start_time": "2022-05-21T22:25:14.615Z"
   },
   {
    "duration": 5,
    "start_time": "2022-05-21T22:25:14.624Z"
   },
   {
    "duration": 7,
    "start_time": "2022-05-21T22:25:14.630Z"
   },
   {
    "duration": 6,
    "start_time": "2022-05-21T22:25:14.638Z"
   },
   {
    "duration": 10,
    "start_time": "2022-05-21T22:25:14.645Z"
   },
   {
    "duration": 5,
    "start_time": "2022-05-21T22:25:14.656Z"
   },
   {
    "duration": 52,
    "start_time": "2022-05-21T22:25:14.663Z"
   },
   {
    "duration": 17,
    "start_time": "2022-05-21T22:25:14.718Z"
   },
   {
    "duration": 15,
    "start_time": "2022-05-21T22:25:14.737Z"
   },
   {
    "duration": 90,
    "start_time": "2022-05-21T22:25:14.754Z"
   },
   {
    "duration": 25,
    "start_time": "2022-05-21T22:25:14.846Z"
   },
   {
    "duration": 40,
    "start_time": "2022-05-21T22:25:14.873Z"
   },
   {
    "duration": 14,
    "start_time": "2022-05-21T22:25:14.914Z"
   },
   {
    "duration": 8,
    "start_time": "2022-05-21T22:25:14.929Z"
   },
   {
    "duration": 10,
    "start_time": "2022-05-21T22:25:14.938Z"
   },
   {
    "duration": 6,
    "start_time": "2022-05-21T22:25:14.950Z"
   },
   {
    "duration": 12,
    "start_time": "2022-05-21T22:25:14.957Z"
   },
   {
    "duration": 6,
    "start_time": "2022-05-21T22:25:14.970Z"
   },
   {
    "duration": 49,
    "start_time": "2022-05-21T22:25:14.977Z"
   },
   {
    "duration": 17,
    "start_time": "2022-05-21T22:25:15.027Z"
   },
   {
    "duration": 130,
    "start_time": "2022-05-21T22:25:15.046Z"
   },
   {
    "duration": 6,
    "start_time": "2022-05-21T22:25:15.178Z"
   },
   {
    "duration": 10,
    "start_time": "2022-05-21T22:25:15.185Z"
   },
   {
    "duration": 16,
    "start_time": "2022-05-21T22:25:15.197Z"
   },
   {
    "duration": 12,
    "start_time": "2022-05-21T22:25:15.214Z"
   },
   {
    "duration": 17,
    "start_time": "2022-05-21T22:25:15.227Z"
   },
   {
    "duration": 15,
    "start_time": "2022-05-21T22:25:15.246Z"
   },
   {
    "duration": 158,
    "start_time": "2022-05-21T22:25:15.262Z"
   },
   {
    "duration": 13,
    "start_time": "2022-05-21T22:25:15.421Z"
   },
   {
    "duration": 141,
    "start_time": "2022-05-21T22:25:15.436Z"
   },
   {
    "duration": 13,
    "start_time": "2022-05-21T22:25:15.579Z"
   },
   {
    "duration": 144,
    "start_time": "2022-05-21T22:25:15.594Z"
   },
   {
    "duration": 25,
    "start_time": "2022-05-21T22:27:07.244Z"
   },
   {
    "duration": 3,
    "start_time": "2022-05-21T22:27:22.968Z"
   },
   {
    "duration": 103,
    "start_time": "2022-05-21T22:27:22.974Z"
   },
   {
    "duration": 13,
    "start_time": "2022-05-21T22:27:23.079Z"
   },
   {
    "duration": 14,
    "start_time": "2022-05-21T22:27:23.112Z"
   },
   {
    "duration": 10,
    "start_time": "2022-05-21T22:27:23.129Z"
   },
   {
    "duration": 12,
    "start_time": "2022-05-21T22:27:23.140Z"
   },
   {
    "duration": 19,
    "start_time": "2022-05-21T22:27:23.154Z"
   },
   {
    "duration": 14,
    "start_time": "2022-05-21T22:27:23.175Z"
   },
   {
    "duration": 11,
    "start_time": "2022-05-21T22:27:23.191Z"
   },
   {
    "duration": 9,
    "start_time": "2022-05-21T22:27:23.212Z"
   },
   {
    "duration": 19,
    "start_time": "2022-05-21T22:27:23.223Z"
   },
   {
    "duration": 25,
    "start_time": "2022-05-21T22:27:23.243Z"
   },
   {
    "duration": 27,
    "start_time": "2022-05-21T22:27:23.269Z"
   },
   {
    "duration": 18,
    "start_time": "2022-05-21T22:27:23.297Z"
   },
   {
    "duration": 11,
    "start_time": "2022-05-21T22:27:23.316Z"
   },
   {
    "duration": 17,
    "start_time": "2022-05-21T22:27:23.328Z"
   },
   {
    "duration": 12,
    "start_time": "2022-05-21T22:27:23.347Z"
   },
   {
    "duration": 8,
    "start_time": "2022-05-21T22:27:23.360Z"
   },
   {
    "duration": 14,
    "start_time": "2022-05-21T22:27:23.370Z"
   },
   {
    "duration": 31,
    "start_time": "2022-05-21T22:27:23.385Z"
   },
   {
    "duration": 6,
    "start_time": "2022-05-21T22:27:23.417Z"
   },
   {
    "duration": 8,
    "start_time": "2022-05-21T22:27:23.425Z"
   },
   {
    "duration": 6,
    "start_time": "2022-05-21T22:27:23.435Z"
   },
   {
    "duration": 14,
    "start_time": "2022-05-21T22:27:23.442Z"
   },
   {
    "duration": 8,
    "start_time": "2022-05-21T22:27:23.458Z"
   },
   {
    "duration": 45,
    "start_time": "2022-05-21T22:27:23.467Z"
   },
   {
    "duration": 5,
    "start_time": "2022-05-21T22:27:23.514Z"
   },
   {
    "duration": 16,
    "start_time": "2022-05-21T22:27:23.521Z"
   },
   {
    "duration": 17,
    "start_time": "2022-05-21T22:27:23.540Z"
   },
   {
    "duration": 15,
    "start_time": "2022-05-21T22:27:23.559Z"
   },
   {
    "duration": 93,
    "start_time": "2022-05-21T22:27:23.576Z"
   },
   {
    "duration": 25,
    "start_time": "2022-05-21T22:27:23.670Z"
   },
   {
    "duration": 13,
    "start_time": "2022-05-21T22:27:23.712Z"
   },
   {
    "duration": 15,
    "start_time": "2022-05-21T22:27:23.727Z"
   },
   {
    "duration": 8,
    "start_time": "2022-05-21T22:27:23.744Z"
   },
   {
    "duration": 9,
    "start_time": "2022-05-21T22:27:23.753Z"
   },
   {
    "duration": 8,
    "start_time": "2022-05-21T22:27:23.763Z"
   },
   {
    "duration": 47,
    "start_time": "2022-05-21T22:27:23.773Z"
   },
   {
    "duration": 6,
    "start_time": "2022-05-21T22:27:23.822Z"
   },
   {
    "duration": 15,
    "start_time": "2022-05-21T22:27:23.829Z"
   },
   {
    "duration": 12,
    "start_time": "2022-05-21T22:27:23.845Z"
   },
   {
    "duration": 160,
    "start_time": "2022-05-21T22:27:23.859Z"
   },
   {
    "duration": 5,
    "start_time": "2022-05-21T22:27:24.021Z"
   },
   {
    "duration": 7,
    "start_time": "2022-05-21T22:27:24.027Z"
   },
   {
    "duration": 7,
    "start_time": "2022-05-21T22:27:24.035Z"
   },
   {
    "duration": 8,
    "start_time": "2022-05-21T22:27:24.043Z"
   },
   {
    "duration": 16,
    "start_time": "2022-05-21T22:27:24.052Z"
   },
   {
    "duration": 52,
    "start_time": "2022-05-21T22:27:24.070Z"
   },
   {
    "duration": 152,
    "start_time": "2022-05-21T22:27:24.123Z"
   },
   {
    "duration": 20,
    "start_time": "2022-05-21T22:27:24.277Z"
   },
   {
    "duration": 148,
    "start_time": "2022-05-21T22:27:24.299Z"
   },
   {
    "duration": 15,
    "start_time": "2022-05-21T22:27:24.449Z"
   },
   {
    "duration": 158,
    "start_time": "2022-05-21T22:27:24.466Z"
   },
   {
    "duration": 439,
    "start_time": "2022-05-21T22:29:16.780Z"
   },
   {
    "duration": 404,
    "start_time": "2022-05-21T22:29:22.900Z"
   },
   {
    "duration": 2,
    "start_time": "2022-05-21T22:29:35.684Z"
   },
   {
    "duration": 73,
    "start_time": "2022-05-21T22:29:35.690Z"
   },
   {
    "duration": 14,
    "start_time": "2022-05-21T22:29:35.765Z"
   },
   {
    "duration": 35,
    "start_time": "2022-05-21T22:29:35.780Z"
   },
   {
    "duration": 9,
    "start_time": "2022-05-21T22:29:35.818Z"
   },
   {
    "duration": 23,
    "start_time": "2022-05-21T22:29:35.828Z"
   },
   {
    "duration": 27,
    "start_time": "2022-05-21T22:29:35.853Z"
   },
   {
    "duration": 18,
    "start_time": "2022-05-21T22:29:35.882Z"
   },
   {
    "duration": 24,
    "start_time": "2022-05-21T22:29:35.902Z"
   },
   {
    "duration": 17,
    "start_time": "2022-05-21T22:29:35.928Z"
   },
   {
    "duration": 26,
    "start_time": "2022-05-21T22:29:35.949Z"
   },
   {
    "duration": 39,
    "start_time": "2022-05-21T22:29:35.977Z"
   },
   {
    "duration": 28,
    "start_time": "2022-05-21T22:29:36.018Z"
   },
   {
    "duration": 8,
    "start_time": "2022-05-21T22:29:36.047Z"
   },
   {
    "duration": 30,
    "start_time": "2022-05-21T22:29:36.056Z"
   },
   {
    "duration": 29,
    "start_time": "2022-05-21T22:29:36.087Z"
   },
   {
    "duration": 30,
    "start_time": "2022-05-21T22:29:36.118Z"
   },
   {
    "duration": 38,
    "start_time": "2022-05-21T22:29:36.150Z"
   },
   {
    "duration": 30,
    "start_time": "2022-05-21T22:29:36.189Z"
   },
   {
    "duration": 15,
    "start_time": "2022-05-21T22:29:36.220Z"
   },
   {
    "duration": 21,
    "start_time": "2022-05-21T22:29:36.236Z"
   },
   {
    "duration": 19,
    "start_time": "2022-05-21T22:29:36.258Z"
   },
   {
    "duration": 43,
    "start_time": "2022-05-21T22:29:36.279Z"
   },
   {
    "duration": 23,
    "start_time": "2022-05-21T22:29:36.324Z"
   },
   {
    "duration": 5,
    "start_time": "2022-05-21T22:29:36.349Z"
   },
   {
    "duration": 10,
    "start_time": "2022-05-21T22:29:36.356Z"
   },
   {
    "duration": 6,
    "start_time": "2022-05-21T22:29:36.367Z"
   },
   {
    "duration": 15,
    "start_time": "2022-05-21T22:29:36.376Z"
   },
   {
    "duration": 25,
    "start_time": "2022-05-21T22:29:36.394Z"
   },
   {
    "duration": 16,
    "start_time": "2022-05-21T22:29:36.421Z"
   },
   {
    "duration": 80,
    "start_time": "2022-05-21T22:29:36.439Z"
   },
   {
    "duration": 42,
    "start_time": "2022-05-21T22:29:36.521Z"
   },
   {
    "duration": 5,
    "start_time": "2022-05-21T22:29:36.566Z"
   },
   {
    "duration": 19,
    "start_time": "2022-05-21T22:29:36.573Z"
   },
   {
    "duration": 22,
    "start_time": "2022-05-21T22:29:36.594Z"
   },
   {
    "duration": 9,
    "start_time": "2022-05-21T22:29:36.618Z"
   },
   {
    "duration": 8,
    "start_time": "2022-05-21T22:29:36.629Z"
   },
   {
    "duration": 14,
    "start_time": "2022-05-21T22:29:36.638Z"
   },
   {
    "duration": 5,
    "start_time": "2022-05-21T22:29:36.653Z"
   },
   {
    "duration": 21,
    "start_time": "2022-05-21T22:29:36.659Z"
   },
   {
    "duration": 36,
    "start_time": "2022-05-21T22:29:36.681Z"
   },
   {
    "duration": 139,
    "start_time": "2022-05-21T22:29:36.718Z"
   },
   {
    "duration": 6,
    "start_time": "2022-05-21T22:29:36.858Z"
   },
   {
    "duration": 8,
    "start_time": "2022-05-21T22:29:36.866Z"
   },
   {
    "duration": 8,
    "start_time": "2022-05-21T22:29:36.876Z"
   },
   {
    "duration": 9,
    "start_time": "2022-05-21T22:29:36.886Z"
   },
   {
    "duration": 15,
    "start_time": "2022-05-21T22:29:36.913Z"
   },
   {
    "duration": 17,
    "start_time": "2022-05-21T22:29:36.930Z"
   },
   {
    "duration": 169,
    "start_time": "2022-05-21T22:29:36.949Z"
   },
   {
    "duration": 14,
    "start_time": "2022-05-21T22:29:37.119Z"
   },
   {
    "duration": 164,
    "start_time": "2022-05-21T22:29:37.135Z"
   },
   {
    "duration": 22,
    "start_time": "2022-05-21T22:29:37.301Z"
   },
   {
    "duration": 149,
    "start_time": "2022-05-21T22:29:37.324Z"
   },
   {
    "duration": 420,
    "start_time": "2022-05-21T22:29:55.932Z"
   },
   {
    "duration": 3,
    "start_time": "2022-05-21T22:29:59.195Z"
   },
   {
    "duration": 70,
    "start_time": "2022-05-21T22:29:59.201Z"
   },
   {
    "duration": 12,
    "start_time": "2022-05-21T22:29:59.273Z"
   },
   {
    "duration": 27,
    "start_time": "2022-05-21T22:29:59.286Z"
   },
   {
    "duration": 10,
    "start_time": "2022-05-21T22:29:59.315Z"
   },
   {
    "duration": 9,
    "start_time": "2022-05-21T22:29:59.326Z"
   },
   {
    "duration": 4,
    "start_time": "2022-05-21T22:29:59.337Z"
   },
   {
    "duration": 6,
    "start_time": "2022-05-21T22:29:59.342Z"
   },
   {
    "duration": 3,
    "start_time": "2022-05-21T22:29:59.349Z"
   },
   {
    "duration": 5,
    "start_time": "2022-05-21T22:29:59.353Z"
   },
   {
    "duration": 8,
    "start_time": "2022-05-21T22:29:59.480Z"
   },
   {
    "duration": 44,
    "start_time": "2022-05-21T22:29:59.490Z"
   },
   {
    "duration": 27,
    "start_time": "2022-05-21T22:29:59.535Z"
   },
   {
    "duration": 5,
    "start_time": "2022-05-21T22:29:59.563Z"
   },
   {
    "duration": 5,
    "start_time": "2022-05-21T22:29:59.570Z"
   },
   {
    "duration": 43,
    "start_time": "2022-05-21T22:29:59.577Z"
   },
   {
    "duration": 12,
    "start_time": "2022-05-21T22:29:59.621Z"
   },
   {
    "duration": 11,
    "start_time": "2022-05-21T22:29:59.634Z"
   },
   {
    "duration": 20,
    "start_time": "2022-05-21T22:29:59.646Z"
   },
   {
    "duration": 9,
    "start_time": "2022-05-21T22:29:59.668Z"
   },
   {
    "duration": 7,
    "start_time": "2022-05-21T22:29:59.679Z"
   },
   {
    "duration": 28,
    "start_time": "2022-05-21T22:29:59.687Z"
   },
   {
    "duration": 5,
    "start_time": "2022-05-21T22:29:59.717Z"
   },
   {
    "duration": 8,
    "start_time": "2022-05-21T22:29:59.723Z"
   },
   {
    "duration": 6,
    "start_time": "2022-05-21T22:29:59.733Z"
   },
   {
    "duration": 11,
    "start_time": "2022-05-21T22:29:59.740Z"
   },
   {
    "duration": 5,
    "start_time": "2022-05-21T22:29:59.752Z"
   },
   {
    "duration": 55,
    "start_time": "2022-05-21T22:29:59.759Z"
   },
   {
    "duration": 17,
    "start_time": "2022-05-21T22:29:59.818Z"
   },
   {
    "duration": 16,
    "start_time": "2022-05-21T22:29:59.837Z"
   },
   {
    "duration": 85,
    "start_time": "2022-05-21T22:29:59.854Z"
   },
   {
    "duration": 29,
    "start_time": "2022-05-21T22:29:59.941Z"
   },
   {
    "duration": 8,
    "start_time": "2022-05-21T22:29:59.971Z"
   },
   {
    "duration": 33,
    "start_time": "2022-05-21T22:29:59.981Z"
   },
   {
    "duration": 7,
    "start_time": "2022-05-21T22:30:00.016Z"
   },
   {
    "duration": 14,
    "start_time": "2022-05-21T22:30:00.025Z"
   },
   {
    "duration": 7,
    "start_time": "2022-05-21T22:30:00.041Z"
   },
   {
    "duration": 16,
    "start_time": "2022-05-21T22:30:00.049Z"
   },
   {
    "duration": 11,
    "start_time": "2022-05-21T22:30:00.067Z"
   },
   {
    "duration": 33,
    "start_time": "2022-05-21T22:30:00.079Z"
   },
   {
    "duration": 13,
    "start_time": "2022-05-21T22:30:00.114Z"
   },
   {
    "duration": 137,
    "start_time": "2022-05-21T22:30:00.129Z"
   },
   {
    "duration": 5,
    "start_time": "2022-05-21T22:30:00.268Z"
   },
   {
    "duration": 12,
    "start_time": "2022-05-21T22:30:00.275Z"
   },
   {
    "duration": 12,
    "start_time": "2022-05-21T22:30:00.289Z"
   },
   {
    "duration": 20,
    "start_time": "2022-05-21T22:30:00.303Z"
   },
   {
    "duration": 28,
    "start_time": "2022-05-21T22:30:00.325Z"
   },
   {
    "duration": 17,
    "start_time": "2022-05-21T22:30:00.355Z"
   },
   {
    "duration": 160,
    "start_time": "2022-05-21T22:30:00.375Z"
   },
   {
    "duration": 14,
    "start_time": "2022-05-21T22:30:00.537Z"
   },
   {
    "duration": 133,
    "start_time": "2022-05-21T22:30:00.553Z"
   },
   {
    "duration": 27,
    "start_time": "2022-05-21T22:30:00.687Z"
   },
   {
    "duration": 142,
    "start_time": "2022-05-21T22:30:00.715Z"
   },
   {
    "duration": 20,
    "start_time": "2022-05-21T22:30:26.172Z"
   },
   {
    "duration": 18,
    "start_time": "2022-05-21T22:30:30.852Z"
   },
   {
    "duration": 19,
    "start_time": "2022-05-21T22:30:38.312Z"
   },
   {
    "duration": 19,
    "start_time": "2022-05-21T22:30:46.460Z"
   },
   {
    "duration": 19,
    "start_time": "2022-05-21T22:30:49.955Z"
   },
   {
    "duration": 22,
    "start_time": "2022-05-21T22:30:57.547Z"
   },
   {
    "duration": 23,
    "start_time": "2022-05-21T22:30:59.932Z"
   },
   {
    "duration": 2,
    "start_time": "2022-05-21T22:32:16.896Z"
   },
   {
    "duration": 73,
    "start_time": "2022-05-21T22:32:16.902Z"
   },
   {
    "duration": 13,
    "start_time": "2022-05-21T22:32:16.977Z"
   },
   {
    "duration": 30,
    "start_time": "2022-05-21T22:32:16.992Z"
   },
   {
    "duration": 26,
    "start_time": "2022-05-21T22:32:17.025Z"
   },
   {
    "duration": 29,
    "start_time": "2022-05-21T22:32:17.053Z"
   },
   {
    "duration": 16,
    "start_time": "2022-05-21T22:32:17.084Z"
   },
   {
    "duration": 26,
    "start_time": "2022-05-21T22:32:17.101Z"
   },
   {
    "duration": 22,
    "start_time": "2022-05-21T22:32:17.129Z"
   },
   {
    "duration": 42,
    "start_time": "2022-05-21T22:32:17.153Z"
   },
   {
    "duration": 27,
    "start_time": "2022-05-21T22:32:17.198Z"
   },
   {
    "duration": 41,
    "start_time": "2022-05-21T22:32:17.227Z"
   },
   {
    "duration": 39,
    "start_time": "2022-05-21T22:32:17.270Z"
   },
   {
    "duration": 5,
    "start_time": "2022-05-21T22:32:17.310Z"
   },
   {
    "duration": 21,
    "start_time": "2022-05-21T22:32:17.317Z"
   },
   {
    "duration": 28,
    "start_time": "2022-05-21T22:32:17.339Z"
   },
   {
    "duration": 23,
    "start_time": "2022-05-21T22:32:17.369Z"
   },
   {
    "duration": 31,
    "start_time": "2022-05-21T22:32:17.393Z"
   },
   {
    "duration": 26,
    "start_time": "2022-05-21T22:32:17.425Z"
   },
   {
    "duration": 23,
    "start_time": "2022-05-21T22:32:17.453Z"
   },
   {
    "duration": 21,
    "start_time": "2022-05-21T22:32:17.477Z"
   },
   {
    "duration": 34,
    "start_time": "2022-05-21T22:32:17.499Z"
   },
   {
    "duration": 17,
    "start_time": "2022-05-21T22:32:17.535Z"
   },
   {
    "duration": 20,
    "start_time": "2022-05-21T22:32:17.553Z"
   },
   {
    "duration": 19,
    "start_time": "2022-05-21T22:32:17.575Z"
   },
   {
    "duration": 25,
    "start_time": "2022-05-21T22:32:17.595Z"
   },
   {
    "duration": 19,
    "start_time": "2022-05-21T22:32:17.621Z"
   },
   {
    "duration": 25,
    "start_time": "2022-05-21T22:32:17.642Z"
   },
   {
    "duration": 21,
    "start_time": "2022-05-21T22:32:17.670Z"
   },
   {
    "duration": 23,
    "start_time": "2022-05-21T22:32:17.693Z"
   },
   {
    "duration": 64,
    "start_time": "2022-05-21T22:32:17.718Z"
   },
   {
    "duration": 42,
    "start_time": "2022-05-21T22:32:17.783Z"
   },
   {
    "duration": 41,
    "start_time": "2022-05-21T22:32:17.826Z"
   },
   {
    "duration": 21,
    "start_time": "2022-05-21T22:32:17.869Z"
   },
   {
    "duration": 22,
    "start_time": "2022-05-21T22:32:17.892Z"
   },
   {
    "duration": 16,
    "start_time": "2022-05-21T22:32:17.916Z"
   },
   {
    "duration": 33,
    "start_time": "2022-05-21T22:32:17.934Z"
   },
   {
    "duration": 23,
    "start_time": "2022-05-21T22:32:17.969Z"
   },
   {
    "duration": 33,
    "start_time": "2022-05-21T22:32:17.994Z"
   },
   {
    "duration": 27,
    "start_time": "2022-05-21T22:32:18.029Z"
   },
   {
    "duration": 21,
    "start_time": "2022-05-21T22:32:18.058Z"
   },
   {
    "duration": 21,
    "start_time": "2022-05-21T22:32:18.081Z"
   },
   {
    "duration": 147,
    "start_time": "2022-05-21T22:32:18.104Z"
   },
   {
    "duration": 6,
    "start_time": "2022-05-21T22:32:18.253Z"
   },
   {
    "duration": 21,
    "start_time": "2022-05-21T22:32:18.261Z"
   },
   {
    "duration": 14,
    "start_time": "2022-05-21T22:32:18.283Z"
   },
   {
    "duration": 34,
    "start_time": "2022-05-21T22:32:18.298Z"
   },
   {
    "duration": 36,
    "start_time": "2022-05-21T22:32:18.334Z"
   },
   {
    "duration": 22,
    "start_time": "2022-05-21T22:32:18.372Z"
   },
   {
    "duration": 164,
    "start_time": "2022-05-21T22:32:18.396Z"
   },
   {
    "duration": 15,
    "start_time": "2022-05-21T22:32:18.562Z"
   },
   {
    "duration": 134,
    "start_time": "2022-05-21T22:32:18.579Z"
   },
   {
    "duration": 13,
    "start_time": "2022-05-21T22:32:18.715Z"
   },
   {
    "duration": 142,
    "start_time": "2022-05-21T22:32:18.730Z"
   },
   {
    "duration": 24,
    "start_time": "2022-05-21T22:32:41.267Z"
   },
   {
    "duration": 737,
    "start_time": "2022-05-21T22:40:20.970Z"
   },
   {
    "duration": 10,
    "start_time": "2022-05-21T22:40:40.358Z"
   },
   {
    "duration": 10,
    "start_time": "2022-05-21T22:40:55.814Z"
   },
   {
    "duration": 3,
    "start_time": "2022-05-21T22:41:00.851Z"
   },
   {
    "duration": 80,
    "start_time": "2022-05-21T22:41:00.862Z"
   },
   {
    "duration": 14,
    "start_time": "2022-05-21T22:41:00.944Z"
   },
   {
    "duration": 23,
    "start_time": "2022-05-21T22:41:00.959Z"
   },
   {
    "duration": 35,
    "start_time": "2022-05-21T22:41:00.985Z"
   },
   {
    "duration": 11,
    "start_time": "2022-05-21T22:41:01.022Z"
   },
   {
    "duration": 11,
    "start_time": "2022-05-21T22:41:01.034Z"
   },
   {
    "duration": 15,
    "start_time": "2022-05-21T22:41:01.046Z"
   },
   {
    "duration": 6,
    "start_time": "2022-05-21T22:41:01.063Z"
   },
   {
    "duration": 10,
    "start_time": "2022-05-21T22:41:01.070Z"
   },
   {
    "duration": 13,
    "start_time": "2022-05-21T22:41:01.114Z"
   },
   {
    "duration": 29,
    "start_time": "2022-05-21T22:41:01.128Z"
   },
   {
    "duration": 65,
    "start_time": "2022-05-21T22:41:01.158Z"
   },
   {
    "duration": 6,
    "start_time": "2022-05-21T22:41:01.225Z"
   },
   {
    "duration": 10,
    "start_time": "2022-05-21T22:41:01.233Z"
   },
   {
    "duration": 30,
    "start_time": "2022-05-21T22:41:01.245Z"
   },
   {
    "duration": 37,
    "start_time": "2022-05-21T22:41:01.276Z"
   },
   {
    "duration": 11,
    "start_time": "2022-05-21T22:41:01.315Z"
   },
   {
    "duration": 15,
    "start_time": "2022-05-21T22:41:01.327Z"
   },
   {
    "duration": 9,
    "start_time": "2022-05-21T22:41:01.344Z"
   },
   {
    "duration": 6,
    "start_time": "2022-05-21T22:41:01.355Z"
   },
   {
    "duration": 20,
    "start_time": "2022-05-21T22:41:01.363Z"
   },
   {
    "duration": 42,
    "start_time": "2022-05-21T22:41:01.385Z"
   },
   {
    "duration": 48,
    "start_time": "2022-05-21T22:41:01.429Z"
   },
   {
    "duration": 16,
    "start_time": "2022-05-21T22:41:01.479Z"
   },
   {
    "duration": 26,
    "start_time": "2022-05-21T22:41:01.497Z"
   },
   {
    "duration": 15,
    "start_time": "2022-05-21T22:41:01.525Z"
   },
   {
    "duration": 21,
    "start_time": "2022-05-21T22:41:01.542Z"
   },
   {
    "duration": 35,
    "start_time": "2022-05-21T22:41:01.567Z"
   },
   {
    "duration": 22,
    "start_time": "2022-05-21T22:41:01.604Z"
   },
   {
    "duration": 65,
    "start_time": "2022-05-21T22:41:01.628Z"
   },
   {
    "duration": 28,
    "start_time": "2022-05-21T22:41:01.712Z"
   },
   {
    "duration": 16,
    "start_time": "2022-05-21T22:41:01.742Z"
   },
   {
    "duration": 17,
    "start_time": "2022-05-21T22:41:01.759Z"
   },
   {
    "duration": 44,
    "start_time": "2022-05-21T22:41:01.778Z"
   },
   {
    "duration": 6,
    "start_time": "2022-05-21T22:41:01.823Z"
   },
   {
    "duration": 20,
    "start_time": "2022-05-21T22:41:01.831Z"
   },
   {
    "duration": 24,
    "start_time": "2022-05-21T22:41:01.852Z"
   },
   {
    "duration": 17,
    "start_time": "2022-05-21T22:41:01.878Z"
   },
   {
    "duration": 35,
    "start_time": "2022-05-21T22:41:01.896Z"
   },
   {
    "duration": 11,
    "start_time": "2022-05-21T22:41:01.933Z"
   },
   {
    "duration": 33,
    "start_time": "2022-05-21T22:41:01.946Z"
   },
   {
    "duration": 24,
    "start_time": "2022-05-21T22:41:01.980Z"
   },
   {
    "duration": 128,
    "start_time": "2022-05-21T22:41:02.005Z"
   },
   {
    "duration": 6,
    "start_time": "2022-05-21T22:41:02.135Z"
   },
   {
    "duration": 11,
    "start_time": "2022-05-21T22:41:02.143Z"
   },
   {
    "duration": 28,
    "start_time": "2022-05-21T22:41:02.156Z"
   },
   {
    "duration": 20,
    "start_time": "2022-05-21T22:41:02.186Z"
   },
   {
    "duration": 23,
    "start_time": "2022-05-21T22:41:02.208Z"
   },
   {
    "duration": 25,
    "start_time": "2022-05-21T22:41:02.232Z"
   },
   {
    "duration": 139,
    "start_time": "2022-05-21T22:41:02.258Z"
   },
   {
    "duration": 21,
    "start_time": "2022-05-21T22:41:02.399Z"
   },
   {
    "duration": 132,
    "start_time": "2022-05-21T22:41:02.421Z"
   },
   {
    "duration": 15,
    "start_time": "2022-05-21T22:41:02.554Z"
   },
   {
    "duration": 149,
    "start_time": "2022-05-21T22:41:02.571Z"
   },
   {
    "duration": 3,
    "start_time": "2022-05-21T22:41:27.284Z"
   },
   {
    "duration": 83,
    "start_time": "2022-05-21T22:41:27.290Z"
   },
   {
    "duration": 16,
    "start_time": "2022-05-21T22:41:27.375Z"
   },
   {
    "duration": 31,
    "start_time": "2022-05-21T22:41:27.393Z"
   },
   {
    "duration": 11,
    "start_time": "2022-05-21T22:41:27.426Z"
   },
   {
    "duration": 11,
    "start_time": "2022-05-21T22:41:27.439Z"
   },
   {
    "duration": 6,
    "start_time": "2022-05-21T22:41:27.452Z"
   },
   {
    "duration": 7,
    "start_time": "2022-05-21T22:41:27.459Z"
   },
   {
    "duration": 2,
    "start_time": "2022-05-21T22:41:27.512Z"
   },
   {
    "duration": 5,
    "start_time": "2022-05-21T22:41:27.516Z"
   },
   {
    "duration": 10,
    "start_time": "2022-05-21T22:41:27.524Z"
   },
   {
    "duration": 27,
    "start_time": "2022-05-21T22:41:27.536Z"
   },
   {
    "duration": 72,
    "start_time": "2022-05-21T22:41:27.565Z"
   },
   {
    "duration": 5,
    "start_time": "2022-05-21T22:41:27.638Z"
   },
   {
    "duration": 16,
    "start_time": "2022-05-21T22:41:27.644Z"
   },
   {
    "duration": 17,
    "start_time": "2022-05-21T22:41:27.662Z"
   },
   {
    "duration": 40,
    "start_time": "2022-05-21T22:41:27.680Z"
   },
   {
    "duration": 7,
    "start_time": "2022-05-21T22:41:27.722Z"
   },
   {
    "duration": 14,
    "start_time": "2022-05-21T22:41:27.730Z"
   },
   {
    "duration": 8,
    "start_time": "2022-05-21T22:41:27.745Z"
   },
   {
    "duration": 6,
    "start_time": "2022-05-21T22:41:27.754Z"
   },
   {
    "duration": 6,
    "start_time": "2022-05-21T22:41:27.761Z"
   },
   {
    "duration": 43,
    "start_time": "2022-05-21T22:41:27.769Z"
   },
   {
    "duration": 7,
    "start_time": "2022-05-21T22:41:27.813Z"
   },
   {
    "duration": 6,
    "start_time": "2022-05-21T22:41:27.821Z"
   },
   {
    "duration": 11,
    "start_time": "2022-05-21T22:41:27.828Z"
   },
   {
    "duration": 5,
    "start_time": "2022-05-21T22:41:27.840Z"
   },
   {
    "duration": 15,
    "start_time": "2022-05-21T22:41:27.847Z"
   },
   {
    "duration": 57,
    "start_time": "2022-05-21T22:41:27.865Z"
   },
   {
    "duration": 16,
    "start_time": "2022-05-21T22:41:27.923Z"
   },
   {
    "duration": 89,
    "start_time": "2022-05-21T22:41:27.940Z"
   },
   {
    "duration": 26,
    "start_time": "2022-05-21T22:41:28.030Z"
   },
   {
    "duration": 16,
    "start_time": "2022-05-21T22:41:28.058Z"
   },
   {
    "duration": 48,
    "start_time": "2022-05-21T22:41:28.075Z"
   },
   {
    "duration": 15,
    "start_time": "2022-05-21T22:41:28.125Z"
   },
   {
    "duration": 14,
    "start_time": "2022-05-21T22:41:28.141Z"
   },
   {
    "duration": 7,
    "start_time": "2022-05-21T22:41:28.156Z"
   },
   {
    "duration": 9,
    "start_time": "2022-05-21T22:41:28.165Z"
   },
   {
    "duration": 38,
    "start_time": "2022-05-21T22:41:28.175Z"
   },
   {
    "duration": 13,
    "start_time": "2022-05-21T22:41:28.215Z"
   },
   {
    "duration": 8,
    "start_time": "2022-05-21T22:41:28.230Z"
   },
   {
    "duration": 17,
    "start_time": "2022-05-21T22:41:28.240Z"
   },
   {
    "duration": 12,
    "start_time": "2022-05-21T22:41:28.259Z"
   },
   {
    "duration": 165,
    "start_time": "2022-05-21T22:41:28.273Z"
   },
   {
    "duration": 6,
    "start_time": "2022-05-21T22:41:28.439Z"
   },
   {
    "duration": 8,
    "start_time": "2022-05-21T22:41:28.446Z"
   },
   {
    "duration": 6,
    "start_time": "2022-05-21T22:41:28.456Z"
   },
   {
    "duration": 12,
    "start_time": "2022-05-21T22:41:28.464Z"
   },
   {
    "duration": 41,
    "start_time": "2022-05-21T22:41:28.478Z"
   },
   {
    "duration": 16,
    "start_time": "2022-05-21T22:41:28.521Z"
   },
   {
    "duration": 149,
    "start_time": "2022-05-21T22:41:28.539Z"
   },
   {
    "duration": 25,
    "start_time": "2022-05-21T22:41:28.689Z"
   },
   {
    "duration": 129,
    "start_time": "2022-05-21T22:41:28.715Z"
   },
   {
    "duration": 14,
    "start_time": "2022-05-21T22:41:28.846Z"
   },
   {
    "duration": 251,
    "start_time": "2022-05-21T22:41:28.861Z"
   },
   {
    "duration": 441,
    "start_time": "2022-05-21T22:41:50.143Z"
   },
   {
    "duration": 3,
    "start_time": "2022-05-21T22:41:52.691Z"
   },
   {
    "duration": 67,
    "start_time": "2022-05-21T22:41:52.701Z"
   },
   {
    "duration": 13,
    "start_time": "2022-05-21T22:41:52.770Z"
   },
   {
    "duration": 28,
    "start_time": "2022-05-21T22:41:52.784Z"
   },
   {
    "duration": 9,
    "start_time": "2022-05-21T22:41:52.814Z"
   },
   {
    "duration": 22,
    "start_time": "2022-05-21T22:41:52.825Z"
   },
   {
    "duration": 15,
    "start_time": "2022-05-21T22:41:52.849Z"
   },
   {
    "duration": 26,
    "start_time": "2022-05-21T22:41:52.866Z"
   },
   {
    "duration": 4,
    "start_time": "2022-05-21T22:41:52.894Z"
   },
   {
    "duration": 14,
    "start_time": "2022-05-21T22:41:52.900Z"
   },
   {
    "duration": 14,
    "start_time": "2022-05-21T22:41:52.917Z"
   },
   {
    "duration": 32,
    "start_time": "2022-05-21T22:41:52.932Z"
   },
   {
    "duration": 35,
    "start_time": "2022-05-21T22:41:52.965Z"
   },
   {
    "duration": 11,
    "start_time": "2022-05-21T22:41:53.002Z"
   },
   {
    "duration": 20,
    "start_time": "2022-05-21T22:41:53.014Z"
   },
   {
    "duration": 29,
    "start_time": "2022-05-21T22:41:53.035Z"
   },
   {
    "duration": 13,
    "start_time": "2022-05-21T22:41:53.066Z"
   },
   {
    "duration": 27,
    "start_time": "2022-05-21T22:41:53.081Z"
   },
   {
    "duration": 20,
    "start_time": "2022-05-21T22:41:53.110Z"
   },
   {
    "duration": 8,
    "start_time": "2022-05-21T22:41:53.131Z"
   },
   {
    "duration": 7,
    "start_time": "2022-05-21T22:41:53.141Z"
   },
   {
    "duration": 13,
    "start_time": "2022-05-21T22:41:53.150Z"
   },
   {
    "duration": 5,
    "start_time": "2022-05-21T22:41:53.165Z"
   },
   {
    "duration": 40,
    "start_time": "2022-05-21T22:41:53.172Z"
   },
   {
    "duration": 7,
    "start_time": "2022-05-21T22:41:53.213Z"
   },
   {
    "duration": 11,
    "start_time": "2022-05-21T22:41:53.221Z"
   },
   {
    "duration": 5,
    "start_time": "2022-05-21T22:41:53.233Z"
   },
   {
    "duration": 16,
    "start_time": "2022-05-21T22:41:53.239Z"
   },
   {
    "duration": 56,
    "start_time": "2022-05-21T22:41:53.258Z"
   },
   {
    "duration": 15,
    "start_time": "2022-05-21T22:41:53.316Z"
   },
   {
    "duration": 63,
    "start_time": "2022-05-21T22:41:53.332Z"
   },
   {
    "duration": 26,
    "start_time": "2022-05-21T22:41:53.413Z"
   },
   {
    "duration": 17,
    "start_time": "2022-05-21T22:41:53.441Z"
   },
   {
    "duration": 19,
    "start_time": "2022-05-21T22:41:53.460Z"
   },
   {
    "duration": 45,
    "start_time": "2022-05-21T22:41:53.480Z"
   },
   {
    "duration": 6,
    "start_time": "2022-05-21T22:41:53.527Z"
   },
   {
    "duration": 8,
    "start_time": "2022-05-21T22:41:53.535Z"
   },
   {
    "duration": 9,
    "start_time": "2022-05-21T22:41:53.545Z"
   },
   {
    "duration": 9,
    "start_time": "2022-05-21T22:41:53.556Z"
   },
   {
    "duration": 53,
    "start_time": "2022-05-21T22:41:53.567Z"
   },
   {
    "duration": 6,
    "start_time": "2022-05-21T22:41:53.622Z"
   },
   {
    "duration": 17,
    "start_time": "2022-05-21T22:41:53.630Z"
   },
   {
    "duration": 14,
    "start_time": "2022-05-21T22:41:53.648Z"
   },
   {
    "duration": 165,
    "start_time": "2022-05-21T22:41:53.664Z"
   },
   {
    "duration": 6,
    "start_time": "2022-05-21T22:41:53.831Z"
   },
   {
    "duration": 6,
    "start_time": "2022-05-21T22:41:53.839Z"
   },
   {
    "duration": 7,
    "start_time": "2022-05-21T22:41:53.846Z"
   },
   {
    "duration": 7,
    "start_time": "2022-05-21T22:41:53.854Z"
   },
   {
    "duration": 54,
    "start_time": "2022-05-21T22:41:53.862Z"
   },
   {
    "duration": 17,
    "start_time": "2022-05-21T22:41:53.917Z"
   },
   {
    "duration": 154,
    "start_time": "2022-05-21T22:41:53.935Z"
   },
   {
    "duration": 23,
    "start_time": "2022-05-21T22:41:54.090Z"
   },
   {
    "duration": 130,
    "start_time": "2022-05-21T22:41:54.114Z"
   },
   {
    "duration": 15,
    "start_time": "2022-05-21T22:41:54.245Z"
   },
   {
    "duration": 158,
    "start_time": "2022-05-21T22:41:54.262Z"
   },
   {
    "duration": 29,
    "start_time": "2022-05-21T22:42:23.466Z"
   },
   {
    "duration": 34,
    "start_time": "2022-05-21T22:42:33.982Z"
   },
   {
    "duration": 493,
    "start_time": "2022-05-21T22:42:44.850Z"
   },
   {
    "duration": 4,
    "start_time": "2022-05-21T22:42:47.674Z"
   },
   {
    "duration": 77,
    "start_time": "2022-05-21T22:42:47.679Z"
   },
   {
    "duration": 12,
    "start_time": "2022-05-21T22:42:47.757Z"
   },
   {
    "duration": 15,
    "start_time": "2022-05-21T22:42:47.771Z"
   },
   {
    "duration": 10,
    "start_time": "2022-05-21T22:42:47.812Z"
   },
   {
    "duration": 21,
    "start_time": "2022-05-21T22:42:47.823Z"
   },
   {
    "duration": 4,
    "start_time": "2022-05-21T22:42:47.846Z"
   },
   {
    "duration": 20,
    "start_time": "2022-05-21T22:42:47.852Z"
   },
   {
    "duration": 16,
    "start_time": "2022-05-21T22:42:47.874Z"
   },
   {
    "duration": 20,
    "start_time": "2022-05-21T22:42:47.893Z"
   },
   {
    "duration": 40,
    "start_time": "2022-05-21T22:42:47.915Z"
   },
   {
    "duration": 33,
    "start_time": "2022-05-21T22:42:47.957Z"
   },
   {
    "duration": 26,
    "start_time": "2022-05-21T22:42:47.992Z"
   },
   {
    "duration": 10,
    "start_time": "2022-05-21T22:42:48.020Z"
   },
   {
    "duration": 22,
    "start_time": "2022-05-21T22:42:48.032Z"
   },
   {
    "duration": 35,
    "start_time": "2022-05-21T22:42:48.055Z"
   },
   {
    "duration": 21,
    "start_time": "2022-05-21T22:42:48.091Z"
   },
   {
    "duration": 19,
    "start_time": "2022-05-21T22:42:48.113Z"
   },
   {
    "duration": 34,
    "start_time": "2022-05-21T22:42:48.134Z"
   },
   {
    "duration": 17,
    "start_time": "2022-05-21T22:42:48.170Z"
   },
   {
    "duration": 30,
    "start_time": "2022-05-21T22:42:48.188Z"
   },
   {
    "duration": 25,
    "start_time": "2022-05-21T22:42:48.222Z"
   },
   {
    "duration": 18,
    "start_time": "2022-05-21T22:42:48.248Z"
   },
   {
    "duration": 33,
    "start_time": "2022-05-21T22:42:48.267Z"
   },
   {
    "duration": 19,
    "start_time": "2022-05-21T22:42:48.302Z"
   },
   {
    "duration": 32,
    "start_time": "2022-05-21T22:42:48.323Z"
   },
   {
    "duration": 16,
    "start_time": "2022-05-21T22:42:48.356Z"
   },
   {
    "duration": 41,
    "start_time": "2022-05-21T22:42:48.375Z"
   },
   {
    "duration": 20,
    "start_time": "2022-05-21T22:42:48.418Z"
   },
   {
    "duration": 31,
    "start_time": "2022-05-21T22:42:48.440Z"
   },
   {
    "duration": 85,
    "start_time": "2022-05-21T22:42:48.473Z"
   },
   {
    "duration": 27,
    "start_time": "2022-05-21T22:42:48.559Z"
   },
   {
    "duration": 35,
    "start_time": "2022-05-21T22:42:48.587Z"
   },
   {
    "duration": 17,
    "start_time": "2022-05-21T22:42:48.624Z"
   },
   {
    "duration": 15,
    "start_time": "2022-05-21T22:42:48.643Z"
   },
   {
    "duration": 7,
    "start_time": "2022-05-21T22:42:48.659Z"
   },
   {
    "duration": 10,
    "start_time": "2022-05-21T22:42:48.668Z"
   },
   {
    "duration": 39,
    "start_time": "2022-05-21T22:42:48.679Z"
   },
   {
    "duration": 8,
    "start_time": "2022-05-21T22:42:48.720Z"
   },
   {
    "duration": 15,
    "start_time": "2022-05-21T22:42:48.730Z"
   },
   {
    "duration": 7,
    "start_time": "2022-05-21T22:42:48.747Z"
   },
   {
    "duration": 62,
    "start_time": "2022-05-21T22:42:48.755Z"
   },
   {
    "duration": 14,
    "start_time": "2022-05-21T22:42:48.818Z"
   },
   {
    "duration": 144,
    "start_time": "2022-05-21T22:42:48.834Z"
   },
   {
    "duration": 6,
    "start_time": "2022-05-21T22:42:48.980Z"
   },
   {
    "duration": 14,
    "start_time": "2022-05-21T22:42:48.987Z"
   },
   {
    "duration": 7,
    "start_time": "2022-05-21T22:42:49.013Z"
   },
   {
    "duration": 10,
    "start_time": "2022-05-21T22:42:49.022Z"
   },
   {
    "duration": 17,
    "start_time": "2022-05-21T22:42:49.033Z"
   },
   {
    "duration": 16,
    "start_time": "2022-05-21T22:42:49.052Z"
   },
   {
    "duration": 178,
    "start_time": "2022-05-21T22:42:49.069Z"
   },
   {
    "duration": 14,
    "start_time": "2022-05-21T22:42:49.249Z"
   },
   {
    "duration": 150,
    "start_time": "2022-05-21T22:42:49.264Z"
   },
   {
    "duration": 15,
    "start_time": "2022-05-21T22:42:49.416Z"
   },
   {
    "duration": 189,
    "start_time": "2022-05-21T22:42:49.433Z"
   },
   {
    "duration": 11,
    "start_time": "2022-05-21T22:44:32.930Z"
   },
   {
    "duration": 2,
    "start_time": "2022-05-21T22:44:39.806Z"
   },
   {
    "duration": 69,
    "start_time": "2022-05-21T22:44:39.814Z"
   },
   {
    "duration": 13,
    "start_time": "2022-05-21T22:44:39.885Z"
   },
   {
    "duration": 19,
    "start_time": "2022-05-21T22:44:39.900Z"
   },
   {
    "duration": 9,
    "start_time": "2022-05-21T22:44:39.921Z"
   },
   {
    "duration": 8,
    "start_time": "2022-05-21T22:44:39.932Z"
   },
   {
    "duration": 5,
    "start_time": "2022-05-21T22:44:39.942Z"
   },
   {
    "duration": 5,
    "start_time": "2022-05-21T22:44:39.949Z"
   },
   {
    "duration": 3,
    "start_time": "2022-05-21T22:44:39.955Z"
   },
   {
    "duration": 55,
    "start_time": "2022-05-21T22:44:39.959Z"
   },
   {
    "duration": 15,
    "start_time": "2022-05-21T22:44:40.016Z"
   },
   {
    "duration": 25,
    "start_time": "2022-05-21T22:44:40.033Z"
   },
   {
    "duration": 59,
    "start_time": "2022-05-21T22:44:40.059Z"
   },
   {
    "duration": 6,
    "start_time": "2022-05-21T22:44:40.120Z"
   },
   {
    "duration": 8,
    "start_time": "2022-05-21T22:44:40.129Z"
   },
   {
    "duration": 17,
    "start_time": "2022-05-21T22:44:40.139Z"
   },
   {
    "duration": 13,
    "start_time": "2022-05-21T22:44:40.158Z"
   },
   {
    "duration": 43,
    "start_time": "2022-05-21T22:44:40.172Z"
   },
   {
    "duration": 15,
    "start_time": "2022-05-21T22:44:40.217Z"
   },
   {
    "duration": 9,
    "start_time": "2022-05-21T22:44:40.234Z"
   },
   {
    "duration": 7,
    "start_time": "2022-05-21T22:44:40.245Z"
   },
   {
    "duration": 7,
    "start_time": "2022-05-21T22:44:40.254Z"
   },
   {
    "duration": 6,
    "start_time": "2022-05-21T22:44:40.263Z"
   },
   {
    "duration": 10,
    "start_time": "2022-05-21T22:44:40.313Z"
   },
   {
    "duration": 8,
    "start_time": "2022-05-21T22:44:40.324Z"
   },
   {
    "duration": 15,
    "start_time": "2022-05-21T22:44:40.333Z"
   },
   {
    "duration": 7,
    "start_time": "2022-05-21T22:44:40.350Z"
   },
   {
    "duration": 26,
    "start_time": "2022-05-21T22:44:40.358Z"
   },
   {
    "duration": 37,
    "start_time": "2022-05-21T22:44:40.385Z"
   },
   {
    "duration": 16,
    "start_time": "2022-05-21T22:44:40.424Z"
   },
   {
    "duration": 94,
    "start_time": "2022-05-21T22:44:40.442Z"
   },
   {
    "duration": 27,
    "start_time": "2022-05-21T22:44:40.538Z"
   },
   {
    "duration": 24,
    "start_time": "2022-05-21T22:44:40.567Z"
   },
   {
    "duration": 25,
    "start_time": "2022-05-21T22:44:40.613Z"
   },
   {
    "duration": 24,
    "start_time": "2022-05-21T22:44:40.640Z"
   },
   {
    "duration": 2,
    "start_time": "2022-05-21T22:44:40.667Z"
   },
   {
    "duration": 42,
    "start_time": "2022-05-21T22:44:40.670Z"
   },
   {
    "duration": 0,
    "start_time": "2022-05-21T22:44:40.715Z"
   },
   {
    "duration": 0,
    "start_time": "2022-05-21T22:44:40.716Z"
   },
   {
    "duration": 0,
    "start_time": "2022-05-21T22:44:40.718Z"
   },
   {
    "duration": 0,
    "start_time": "2022-05-21T22:44:40.718Z"
   },
   {
    "duration": 1,
    "start_time": "2022-05-21T22:44:40.720Z"
   },
   {
    "duration": 0,
    "start_time": "2022-05-21T22:44:40.721Z"
   },
   {
    "duration": 0,
    "start_time": "2022-05-21T22:44:40.723Z"
   },
   {
    "duration": 0,
    "start_time": "2022-05-21T22:44:40.724Z"
   },
   {
    "duration": 0,
    "start_time": "2022-05-21T22:44:40.725Z"
   },
   {
    "duration": 0,
    "start_time": "2022-05-21T22:44:40.727Z"
   },
   {
    "duration": 0,
    "start_time": "2022-05-21T22:44:40.728Z"
   },
   {
    "duration": 0,
    "start_time": "2022-05-21T22:44:40.729Z"
   },
   {
    "duration": 0,
    "start_time": "2022-05-21T22:44:40.730Z"
   },
   {
    "duration": 0,
    "start_time": "2022-05-21T22:44:40.731Z"
   },
   {
    "duration": 0,
    "start_time": "2022-05-21T22:44:40.732Z"
   },
   {
    "duration": 0,
    "start_time": "2022-05-21T22:44:40.733Z"
   },
   {
    "duration": 0,
    "start_time": "2022-05-21T22:44:40.734Z"
   },
   {
    "duration": 0,
    "start_time": "2022-05-21T22:44:40.735Z"
   },
   {
    "duration": 11,
    "start_time": "2022-05-21T22:44:59.666Z"
   },
   {
    "duration": 3,
    "start_time": "2022-05-21T22:45:02.418Z"
   },
   {
    "duration": 78,
    "start_time": "2022-05-21T22:45:02.423Z"
   },
   {
    "duration": 15,
    "start_time": "2022-05-21T22:45:02.503Z"
   },
   {
    "duration": 17,
    "start_time": "2022-05-21T22:45:02.519Z"
   },
   {
    "duration": 12,
    "start_time": "2022-05-21T22:45:02.538Z"
   },
   {
    "duration": 13,
    "start_time": "2022-05-21T22:45:02.552Z"
   },
   {
    "duration": 45,
    "start_time": "2022-05-21T22:45:02.567Z"
   },
   {
    "duration": 9,
    "start_time": "2022-05-21T22:45:02.614Z"
   },
   {
    "duration": 2,
    "start_time": "2022-05-21T22:45:02.625Z"
   },
   {
    "duration": 7,
    "start_time": "2022-05-21T22:45:02.629Z"
   },
   {
    "duration": 9,
    "start_time": "2022-05-21T22:45:02.639Z"
   },
   {
    "duration": 72,
    "start_time": "2022-05-21T22:45:02.650Z"
   },
   {
    "duration": 37,
    "start_time": "2022-05-21T22:45:02.724Z"
   },
   {
    "duration": 7,
    "start_time": "2022-05-21T22:45:02.763Z"
   },
   {
    "duration": 41,
    "start_time": "2022-05-21T22:45:02.772Z"
   },
   {
    "duration": 19,
    "start_time": "2022-05-21T22:45:02.816Z"
   },
   {
    "duration": 18,
    "start_time": "2022-05-21T22:45:02.837Z"
   },
   {
    "duration": 6,
    "start_time": "2022-05-21T22:45:02.857Z"
   },
   {
    "duration": 56,
    "start_time": "2022-05-21T22:45:02.865Z"
   },
   {
    "duration": 10,
    "start_time": "2022-05-21T22:45:02.923Z"
   },
   {
    "duration": 8,
    "start_time": "2022-05-21T22:45:02.935Z"
   },
   {
    "duration": 6,
    "start_time": "2022-05-21T22:45:02.945Z"
   },
   {
    "duration": 6,
    "start_time": "2022-05-21T22:45:02.953Z"
   },
   {
    "duration": 55,
    "start_time": "2022-05-21T22:45:02.961Z"
   },
   {
    "duration": 7,
    "start_time": "2022-05-21T22:45:03.018Z"
   },
   {
    "duration": 13,
    "start_time": "2022-05-21T22:45:03.027Z"
   },
   {
    "duration": 7,
    "start_time": "2022-05-21T22:45:03.042Z"
   },
   {
    "duration": 19,
    "start_time": "2022-05-21T22:45:03.051Z"
   },
   {
    "duration": 59,
    "start_time": "2022-05-21T22:45:03.074Z"
   },
   {
    "duration": 18,
    "start_time": "2022-05-21T22:45:03.135Z"
   },
   {
    "duration": 113,
    "start_time": "2022-05-21T22:45:03.155Z"
   },
   {
    "duration": 49,
    "start_time": "2022-05-21T22:45:03.270Z"
   },
   {
    "duration": 18,
    "start_time": "2022-05-21T22:45:03.321Z"
   },
   {
    "duration": 19,
    "start_time": "2022-05-21T22:45:03.341Z"
   },
   {
    "duration": 17,
    "start_time": "2022-05-21T22:45:03.362Z"
   },
   {
    "duration": 2,
    "start_time": "2022-05-21T22:45:03.413Z"
   },
   {
    "duration": 16,
    "start_time": "2022-05-21T22:45:03.417Z"
   },
   {
    "duration": 0,
    "start_time": "2022-05-21T22:45:03.435Z"
   },
   {
    "duration": 0,
    "start_time": "2022-05-21T22:45:03.437Z"
   },
   {
    "duration": 0,
    "start_time": "2022-05-21T22:45:03.438Z"
   },
   {
    "duration": 0,
    "start_time": "2022-05-21T22:45:03.439Z"
   },
   {
    "duration": 0,
    "start_time": "2022-05-21T22:45:03.440Z"
   },
   {
    "duration": 0,
    "start_time": "2022-05-21T22:45:03.441Z"
   },
   {
    "duration": 0,
    "start_time": "2022-05-21T22:45:03.443Z"
   },
   {
    "duration": 0,
    "start_time": "2022-05-21T22:45:03.444Z"
   },
   {
    "duration": 0,
    "start_time": "2022-05-21T22:45:03.445Z"
   },
   {
    "duration": 0,
    "start_time": "2022-05-21T22:45:03.446Z"
   },
   {
    "duration": 0,
    "start_time": "2022-05-21T22:45:03.447Z"
   },
   {
    "duration": 0,
    "start_time": "2022-05-21T22:45:03.448Z"
   },
   {
    "duration": 0,
    "start_time": "2022-05-21T22:45:03.450Z"
   },
   {
    "duration": 0,
    "start_time": "2022-05-21T22:45:03.451Z"
   },
   {
    "duration": 0,
    "start_time": "2022-05-21T22:45:03.452Z"
   },
   {
    "duration": 0,
    "start_time": "2022-05-21T22:45:03.453Z"
   },
   {
    "duration": 0,
    "start_time": "2022-05-21T22:45:03.454Z"
   },
   {
    "duration": 0,
    "start_time": "2022-05-21T22:45:03.455Z"
   },
   {
    "duration": 10,
    "start_time": "2022-05-21T22:45:38.234Z"
   },
   {
    "duration": 8,
    "start_time": "2022-05-21T22:45:52.238Z"
   },
   {
    "duration": 8,
    "start_time": "2022-05-21T22:46:02.957Z"
   },
   {
    "duration": 10,
    "start_time": "2022-05-21T22:47:26.494Z"
   },
   {
    "duration": 9,
    "start_time": "2022-05-21T22:47:39.610Z"
   },
   {
    "duration": 3,
    "start_time": "2022-05-21T22:47:42.701Z"
   },
   {
    "duration": 80,
    "start_time": "2022-05-21T22:47:42.709Z"
   },
   {
    "duration": 18,
    "start_time": "2022-05-21T22:47:42.791Z"
   },
   {
    "duration": 15,
    "start_time": "2022-05-21T22:47:42.812Z"
   },
   {
    "duration": 10,
    "start_time": "2022-05-21T22:47:42.829Z"
   },
   {
    "duration": 10,
    "start_time": "2022-05-21T22:47:42.840Z"
   },
   {
    "duration": 9,
    "start_time": "2022-05-21T22:47:42.852Z"
   },
   {
    "duration": 49,
    "start_time": "2022-05-21T22:47:42.863Z"
   },
   {
    "duration": 3,
    "start_time": "2022-05-21T22:47:42.914Z"
   },
   {
    "duration": 5,
    "start_time": "2022-05-21T22:47:42.919Z"
   },
   {
    "duration": 11,
    "start_time": "2022-05-21T22:47:42.927Z"
   },
   {
    "duration": 27,
    "start_time": "2022-05-21T22:47:42.940Z"
   },
   {
    "duration": 70,
    "start_time": "2022-05-21T22:47:42.969Z"
   },
   {
    "duration": 5,
    "start_time": "2022-05-21T22:47:43.041Z"
   },
   {
    "duration": 7,
    "start_time": "2022-05-21T22:47:43.048Z"
   },
   {
    "duration": 57,
    "start_time": "2022-05-21T22:47:43.057Z"
   },
   {
    "duration": 12,
    "start_time": "2022-05-21T22:47:43.116Z"
   },
   {
    "duration": 8,
    "start_time": "2022-05-21T22:47:43.129Z"
   },
   {
    "duration": 15,
    "start_time": "2022-05-21T22:47:43.139Z"
   },
   {
    "duration": 8,
    "start_time": "2022-05-21T22:47:43.155Z"
   },
   {
    "duration": 6,
    "start_time": "2022-05-21T22:47:43.164Z"
   },
   {
    "duration": 41,
    "start_time": "2022-05-21T22:47:43.172Z"
   },
   {
    "duration": 5,
    "start_time": "2022-05-21T22:47:43.215Z"
   },
   {
    "duration": 11,
    "start_time": "2022-05-21T22:47:43.221Z"
   },
   {
    "duration": 6,
    "start_time": "2022-05-21T22:47:43.233Z"
   },
   {
    "duration": 11,
    "start_time": "2022-05-21T22:47:43.241Z"
   },
   {
    "duration": 6,
    "start_time": "2022-05-21T22:47:43.254Z"
   },
   {
    "duration": 61,
    "start_time": "2022-05-21T22:47:43.262Z"
   },
   {
    "duration": 19,
    "start_time": "2022-05-21T22:47:43.326Z"
   },
   {
    "duration": 16,
    "start_time": "2022-05-21T22:47:43.346Z"
   },
   {
    "duration": 101,
    "start_time": "2022-05-21T22:47:43.364Z"
   },
   {
    "duration": 29,
    "start_time": "2022-05-21T22:47:43.467Z"
   },
   {
    "duration": 29,
    "start_time": "2022-05-21T22:47:43.497Z"
   },
   {
    "duration": 21,
    "start_time": "2022-05-21T22:47:43.528Z"
   },
   {
    "duration": 23,
    "start_time": "2022-05-21T22:47:43.552Z"
   },
   {
    "duration": 11,
    "start_time": "2022-05-21T22:47:43.612Z"
   },
   {
    "duration": 0,
    "start_time": "2022-05-21T22:47:43.625Z"
   },
   {
    "duration": 0,
    "start_time": "2022-05-21T22:47:43.626Z"
   },
   {
    "duration": 0,
    "start_time": "2022-05-21T22:47:43.627Z"
   },
   {
    "duration": 0,
    "start_time": "2022-05-21T22:47:43.629Z"
   },
   {
    "duration": 0,
    "start_time": "2022-05-21T22:47:43.631Z"
   },
   {
    "duration": 0,
    "start_time": "2022-05-21T22:47:43.632Z"
   },
   {
    "duration": 0,
    "start_time": "2022-05-21T22:47:43.634Z"
   },
   {
    "duration": 0,
    "start_time": "2022-05-21T22:47:43.635Z"
   },
   {
    "duration": 0,
    "start_time": "2022-05-21T22:47:43.637Z"
   },
   {
    "duration": 0,
    "start_time": "2022-05-21T22:47:43.638Z"
   },
   {
    "duration": 0,
    "start_time": "2022-05-21T22:47:43.639Z"
   },
   {
    "duration": 0,
    "start_time": "2022-05-21T22:47:43.641Z"
   },
   {
    "duration": 0,
    "start_time": "2022-05-21T22:47:43.642Z"
   },
   {
    "duration": 0,
    "start_time": "2022-05-21T22:47:43.643Z"
   },
   {
    "duration": 0,
    "start_time": "2022-05-21T22:47:43.644Z"
   },
   {
    "duration": 0,
    "start_time": "2022-05-21T22:47:43.646Z"
   },
   {
    "duration": 0,
    "start_time": "2022-05-21T22:47:43.648Z"
   },
   {
    "duration": 0,
    "start_time": "2022-05-21T22:47:43.649Z"
   },
   {
    "duration": 0,
    "start_time": "2022-05-21T22:47:43.651Z"
   },
   {
    "duration": 2,
    "start_time": "2022-05-21T22:48:04.982Z"
   },
   {
    "duration": 90,
    "start_time": "2022-05-21T22:48:04.992Z"
   },
   {
    "duration": 13,
    "start_time": "2022-05-21T22:48:05.084Z"
   },
   {
    "duration": 19,
    "start_time": "2022-05-21T22:48:05.098Z"
   },
   {
    "duration": 9,
    "start_time": "2022-05-21T22:48:05.119Z"
   },
   {
    "duration": 13,
    "start_time": "2022-05-21T22:48:05.130Z"
   },
   {
    "duration": 6,
    "start_time": "2022-05-21T22:48:05.144Z"
   },
   {
    "duration": 11,
    "start_time": "2022-05-21T22:48:05.151Z"
   },
   {
    "duration": 4,
    "start_time": "2022-05-21T22:48:05.164Z"
   },
   {
    "duration": 4,
    "start_time": "2022-05-21T22:48:05.170Z"
   },
   {
    "duration": 47,
    "start_time": "2022-05-21T22:48:05.176Z"
   },
   {
    "duration": 33,
    "start_time": "2022-05-21T22:48:05.225Z"
   },
   {
    "duration": 55,
    "start_time": "2022-05-21T22:48:05.259Z"
   },
   {
    "duration": 5,
    "start_time": "2022-05-21T22:48:05.316Z"
   },
   {
    "duration": 5,
    "start_time": "2022-05-21T22:48:05.324Z"
   },
   {
    "duration": 16,
    "start_time": "2022-05-21T22:48:05.331Z"
   },
   {
    "duration": 12,
    "start_time": "2022-05-21T22:48:05.349Z"
   },
   {
    "duration": 9,
    "start_time": "2022-05-21T22:48:05.362Z"
   },
   {
    "duration": 49,
    "start_time": "2022-05-21T22:48:05.373Z"
   },
   {
    "duration": 10,
    "start_time": "2022-05-21T22:48:05.424Z"
   },
   {
    "duration": 6,
    "start_time": "2022-05-21T22:48:05.436Z"
   },
   {
    "duration": 13,
    "start_time": "2022-05-21T22:48:05.444Z"
   },
   {
    "duration": 5,
    "start_time": "2022-05-21T22:48:05.459Z"
   },
   {
    "duration": 47,
    "start_time": "2022-05-21T22:48:05.466Z"
   },
   {
    "duration": 8,
    "start_time": "2022-05-21T22:48:05.515Z"
   },
   {
    "duration": 12,
    "start_time": "2022-05-21T22:48:05.525Z"
   },
   {
    "duration": 8,
    "start_time": "2022-05-21T22:48:05.538Z"
   },
   {
    "duration": 16,
    "start_time": "2022-05-21T22:48:05.547Z"
   },
   {
    "duration": 58,
    "start_time": "2022-05-21T22:48:05.565Z"
   },
   {
    "duration": 15,
    "start_time": "2022-05-21T22:48:05.625Z"
   },
   {
    "duration": 86,
    "start_time": "2022-05-21T22:48:05.641Z"
   },
   {
    "duration": 27,
    "start_time": "2022-05-21T22:48:05.728Z"
   },
   {
    "duration": 25,
    "start_time": "2022-05-21T22:48:05.758Z"
   },
   {
    "duration": 42,
    "start_time": "2022-05-21T22:48:05.785Z"
   },
   {
    "duration": 16,
    "start_time": "2022-05-21T22:48:05.829Z"
   },
   {
    "duration": 7,
    "start_time": "2022-05-21T22:48:05.846Z"
   },
   {
    "duration": 0,
    "start_time": "2022-05-21T22:48:05.855Z"
   },
   {
    "duration": 0,
    "start_time": "2022-05-21T22:48:05.857Z"
   },
   {
    "duration": 0,
    "start_time": "2022-05-21T22:48:05.858Z"
   },
   {
    "duration": 0,
    "start_time": "2022-05-21T22:48:05.859Z"
   },
   {
    "duration": 0,
    "start_time": "2022-05-21T22:48:05.861Z"
   },
   {
    "duration": 0,
    "start_time": "2022-05-21T22:48:05.862Z"
   },
   {
    "duration": 0,
    "start_time": "2022-05-21T22:48:05.863Z"
   },
   {
    "duration": 0,
    "start_time": "2022-05-21T22:48:05.865Z"
   },
   {
    "duration": 0,
    "start_time": "2022-05-21T22:48:05.865Z"
   },
   {
    "duration": 0,
    "start_time": "2022-05-21T22:48:05.867Z"
   },
   {
    "duration": 0,
    "start_time": "2022-05-21T22:48:05.868Z"
   },
   {
    "duration": 0,
    "start_time": "2022-05-21T22:48:05.912Z"
   },
   {
    "duration": 0,
    "start_time": "2022-05-21T22:48:05.913Z"
   },
   {
    "duration": 0,
    "start_time": "2022-05-21T22:48:05.914Z"
   },
   {
    "duration": 0,
    "start_time": "2022-05-21T22:48:05.915Z"
   },
   {
    "duration": 0,
    "start_time": "2022-05-21T22:48:05.916Z"
   },
   {
    "duration": 0,
    "start_time": "2022-05-21T22:48:05.917Z"
   },
   {
    "duration": 0,
    "start_time": "2022-05-21T22:48:05.917Z"
   },
   {
    "duration": 0,
    "start_time": "2022-05-21T22:48:05.919Z"
   },
   {
    "duration": 3,
    "start_time": "2022-05-21T22:48:19.522Z"
   },
   {
    "duration": 65,
    "start_time": "2022-05-21T22:48:19.529Z"
   },
   {
    "duration": 13,
    "start_time": "2022-05-21T22:48:19.597Z"
   },
   {
    "duration": 27,
    "start_time": "2022-05-21T22:48:19.612Z"
   },
   {
    "duration": 9,
    "start_time": "2022-05-21T22:48:19.641Z"
   },
   {
    "duration": 9,
    "start_time": "2022-05-21T22:48:19.652Z"
   },
   {
    "duration": 6,
    "start_time": "2022-05-21T22:48:19.663Z"
   },
   {
    "duration": 43,
    "start_time": "2022-05-21T22:48:19.671Z"
   },
   {
    "duration": 2,
    "start_time": "2022-05-21T22:48:19.717Z"
   },
   {
    "duration": 8,
    "start_time": "2022-05-21T22:48:19.721Z"
   },
   {
    "duration": 20,
    "start_time": "2022-05-21T22:48:19.733Z"
   },
   {
    "duration": 31,
    "start_time": "2022-05-21T22:48:19.755Z"
   },
   {
    "duration": 37,
    "start_time": "2022-05-21T22:48:19.811Z"
   },
   {
    "duration": 5,
    "start_time": "2022-05-21T22:48:19.850Z"
   },
   {
    "duration": 6,
    "start_time": "2022-05-21T22:48:19.856Z"
   },
   {
    "duration": 48,
    "start_time": "2022-05-21T22:48:19.864Z"
   },
   {
    "duration": 12,
    "start_time": "2022-05-21T22:48:19.913Z"
   },
   {
    "duration": 7,
    "start_time": "2022-05-21T22:48:19.926Z"
   },
   {
    "duration": 13,
    "start_time": "2022-05-21T22:48:19.935Z"
   },
   {
    "duration": 7,
    "start_time": "2022-05-21T22:48:19.949Z"
   },
   {
    "duration": 5,
    "start_time": "2022-05-21T22:48:19.958Z"
   },
   {
    "duration": 53,
    "start_time": "2022-05-21T22:48:19.964Z"
   },
   {
    "duration": 8,
    "start_time": "2022-05-21T22:48:20.018Z"
   },
   {
    "duration": 6,
    "start_time": "2022-05-21T22:48:20.028Z"
   },
   {
    "duration": 6,
    "start_time": "2022-05-21T22:48:20.036Z"
   },
   {
    "duration": 14,
    "start_time": "2022-05-21T22:48:20.043Z"
   },
   {
    "duration": 8,
    "start_time": "2022-05-21T22:48:20.059Z"
   },
   {
    "duration": 57,
    "start_time": "2022-05-21T22:48:20.069Z"
   },
   {
    "duration": 18,
    "start_time": "2022-05-21T22:48:20.130Z"
   },
   {
    "duration": 17,
    "start_time": "2022-05-21T22:48:20.149Z"
   },
   {
    "duration": 118,
    "start_time": "2022-05-21T22:48:20.168Z"
   },
   {
    "duration": 36,
    "start_time": "2022-05-21T22:48:20.287Z"
   },
   {
    "duration": 16,
    "start_time": "2022-05-21T22:48:20.325Z"
   },
   {
    "duration": 17,
    "start_time": "2022-05-21T22:48:20.343Z"
   },
   {
    "duration": 17,
    "start_time": "2022-05-21T22:48:20.362Z"
   },
   {
    "duration": 521,
    "start_time": "2022-05-21T22:48:20.412Z"
   },
   {
    "duration": 0,
    "start_time": "2022-05-21T22:48:20.935Z"
   },
   {
    "duration": 0,
    "start_time": "2022-05-21T22:48:20.936Z"
   },
   {
    "duration": 0,
    "start_time": "2022-05-21T22:48:20.937Z"
   },
   {
    "duration": 0,
    "start_time": "2022-05-21T22:48:20.938Z"
   },
   {
    "duration": 0,
    "start_time": "2022-05-21T22:48:20.939Z"
   },
   {
    "duration": 0,
    "start_time": "2022-05-21T22:48:20.940Z"
   },
   {
    "duration": 0,
    "start_time": "2022-05-21T22:48:20.941Z"
   },
   {
    "duration": 0,
    "start_time": "2022-05-21T22:48:20.942Z"
   },
   {
    "duration": 0,
    "start_time": "2022-05-21T22:48:20.943Z"
   },
   {
    "duration": 0,
    "start_time": "2022-05-21T22:48:20.944Z"
   },
   {
    "duration": 0,
    "start_time": "2022-05-21T22:48:20.945Z"
   },
   {
    "duration": 0,
    "start_time": "2022-05-21T22:48:20.946Z"
   },
   {
    "duration": 0,
    "start_time": "2022-05-21T22:48:20.947Z"
   },
   {
    "duration": 0,
    "start_time": "2022-05-21T22:48:20.948Z"
   },
   {
    "duration": 0,
    "start_time": "2022-05-21T22:48:20.949Z"
   },
   {
    "duration": 0,
    "start_time": "2022-05-21T22:48:20.950Z"
   },
   {
    "duration": 0,
    "start_time": "2022-05-21T22:48:20.951Z"
   },
   {
    "duration": 0,
    "start_time": "2022-05-21T22:48:20.951Z"
   },
   {
    "duration": 0,
    "start_time": "2022-05-21T22:48:20.952Z"
   },
   {
    "duration": 623,
    "start_time": "2022-05-21T22:48:44.734Z"
   },
   {
    "duration": 7,
    "start_time": "2022-05-21T22:49:06.606Z"
   },
   {
    "duration": 11,
    "start_time": "2022-05-21T22:50:15.282Z"
   },
   {
    "duration": 14,
    "start_time": "2022-05-21T22:50:36.730Z"
   },
   {
    "duration": 55,
    "start_time": "2022-05-21T22:53:46.534Z"
   },
   {
    "duration": 39,
    "start_time": "2022-05-21T22:54:11.402Z"
   },
   {
    "duration": 13,
    "start_time": "2022-05-21T22:54:15.906Z"
   },
   {
    "duration": 11,
    "start_time": "2022-05-21T22:54:21.762Z"
   },
   {
    "duration": 17,
    "start_time": "2022-05-21T22:54:26.290Z"
   },
   {
    "duration": 12,
    "start_time": "2022-05-21T22:54:29.942Z"
   },
   {
    "duration": 13,
    "start_time": "2022-05-21T22:54:57.670Z"
   },
   {
    "duration": 18,
    "start_time": "2022-05-21T22:55:44.834Z"
   },
   {
    "duration": 17,
    "start_time": "2022-05-21T22:55:54.331Z"
   },
   {
    "duration": 12,
    "start_time": "2022-05-21T22:58:53.905Z"
   },
   {
    "duration": 3,
    "start_time": "2022-05-21T23:01:10.353Z"
   },
   {
    "duration": 65,
    "start_time": "2022-05-21T23:01:10.360Z"
   },
   {
    "duration": 12,
    "start_time": "2022-05-21T23:01:10.427Z"
   },
   {
    "duration": 15,
    "start_time": "2022-05-21T23:01:10.441Z"
   },
   {
    "duration": 9,
    "start_time": "2022-05-21T23:01:10.457Z"
   },
   {
    "duration": 9,
    "start_time": "2022-05-21T23:01:10.467Z"
   },
   {
    "duration": 36,
    "start_time": "2022-05-21T23:01:10.478Z"
   },
   {
    "duration": 5,
    "start_time": "2022-05-21T23:01:10.515Z"
   },
   {
    "duration": 3,
    "start_time": "2022-05-21T23:01:10.521Z"
   },
   {
    "duration": 5,
    "start_time": "2022-05-21T23:01:10.526Z"
   },
   {
    "duration": 9,
    "start_time": "2022-05-21T23:01:10.533Z"
   },
   {
    "duration": 24,
    "start_time": "2022-05-21T23:01:10.543Z"
   },
   {
    "duration": 68,
    "start_time": "2022-05-21T23:01:10.568Z"
   },
   {
    "duration": 5,
    "start_time": "2022-05-21T23:01:10.637Z"
   },
   {
    "duration": 7,
    "start_time": "2022-05-21T23:01:10.644Z"
   },
   {
    "duration": 19,
    "start_time": "2022-05-21T23:01:10.652Z"
   },
   {
    "duration": 43,
    "start_time": "2022-05-21T23:01:10.673Z"
   },
   {
    "duration": 7,
    "start_time": "2022-05-21T23:01:10.717Z"
   },
   {
    "duration": 14,
    "start_time": "2022-05-21T23:01:10.726Z"
   },
   {
    "duration": 7,
    "start_time": "2022-05-21T23:01:10.741Z"
   },
   {
    "duration": 5,
    "start_time": "2022-05-21T23:01:10.749Z"
   },
   {
    "duration": 5,
    "start_time": "2022-05-21T23:01:10.756Z"
   },
   {
    "duration": 5,
    "start_time": "2022-05-21T23:01:10.762Z"
   },
   {
    "duration": 48,
    "start_time": "2022-05-21T23:01:10.768Z"
   },
   {
    "duration": 6,
    "start_time": "2022-05-21T23:01:10.818Z"
   },
   {
    "duration": 10,
    "start_time": "2022-05-21T23:01:10.826Z"
   },
   {
    "duration": 6,
    "start_time": "2022-05-21T23:01:10.838Z"
   },
   {
    "duration": 17,
    "start_time": "2022-05-21T23:01:10.846Z"
   },
   {
    "duration": 60,
    "start_time": "2022-05-21T23:01:10.868Z"
   },
   {
    "duration": 18,
    "start_time": "2022-05-21T23:01:10.930Z"
   },
   {
    "duration": 97,
    "start_time": "2022-05-21T23:01:10.949Z"
   },
   {
    "duration": 25,
    "start_time": "2022-05-21T23:01:11.047Z"
   },
   {
    "duration": 16,
    "start_time": "2022-05-21T23:01:11.074Z"
   },
   {
    "duration": 35,
    "start_time": "2022-05-21T23:01:11.092Z"
   },
   {
    "duration": 16,
    "start_time": "2022-05-21T23:01:11.128Z"
   },
   {
    "duration": 11,
    "start_time": "2022-05-21T23:01:11.146Z"
   },
   {
    "duration": 11,
    "start_time": "2022-05-21T23:01:11.159Z"
   },
   {
    "duration": 44,
    "start_time": "2022-05-21T23:01:11.172Z"
   },
   {
    "duration": 14,
    "start_time": "2022-05-21T23:01:11.218Z"
   },
   {
    "duration": 6,
    "start_time": "2022-05-21T23:01:11.234Z"
   },
   {
    "duration": 17,
    "start_time": "2022-05-21T23:01:11.241Z"
   },
   {
    "duration": 12,
    "start_time": "2022-05-21T23:01:11.260Z"
   },
   {
    "duration": 186,
    "start_time": "2022-05-21T23:01:11.274Z"
   },
   {
    "duration": 8,
    "start_time": "2022-05-21T23:01:11.462Z"
   },
   {
    "duration": 13,
    "start_time": "2022-05-21T23:01:11.471Z"
   },
   {
    "duration": 28,
    "start_time": "2022-05-21T23:01:11.486Z"
   },
   {
    "duration": 14,
    "start_time": "2022-05-21T23:01:11.517Z"
   },
   {
    "duration": 26,
    "start_time": "2022-05-21T23:01:11.533Z"
   },
   {
    "duration": 20,
    "start_time": "2022-05-21T23:01:11.561Z"
   },
   {
    "duration": 148,
    "start_time": "2022-05-21T23:01:11.583Z"
   },
   {
    "duration": 15,
    "start_time": "2022-05-21T23:01:11.733Z"
   },
   {
    "duration": 146,
    "start_time": "2022-05-21T23:01:11.750Z"
   },
   {
    "duration": 27,
    "start_time": "2022-05-21T23:01:11.898Z"
   },
   {
    "duration": 148,
    "start_time": "2022-05-21T23:01:11.927Z"
   },
   {
    "duration": 12,
    "start_time": "2022-05-21T23:01:16.386Z"
   },
   {
    "duration": 17,
    "start_time": "2022-05-21T23:02:01.618Z"
   },
   {
    "duration": 15,
    "start_time": "2022-05-21T23:02:08.010Z"
   },
   {
    "duration": 11,
    "start_time": "2022-05-21T23:04:22.337Z"
   },
   {
    "duration": 14,
    "start_time": "2022-05-21T23:05:26.206Z"
   },
   {
    "duration": 3,
    "start_time": "2022-05-21T23:05:46.361Z"
   },
   {
    "duration": 73,
    "start_time": "2022-05-21T23:05:46.365Z"
   },
   {
    "duration": 13,
    "start_time": "2022-05-21T23:05:46.439Z"
   },
   {
    "duration": 17,
    "start_time": "2022-05-21T23:05:46.453Z"
   },
   {
    "duration": 9,
    "start_time": "2022-05-21T23:05:46.472Z"
   },
   {
    "duration": 37,
    "start_time": "2022-05-21T23:05:46.482Z"
   },
   {
    "duration": 9,
    "start_time": "2022-05-21T23:05:46.521Z"
   },
   {
    "duration": 12,
    "start_time": "2022-05-21T23:05:46.532Z"
   },
   {
    "duration": 3,
    "start_time": "2022-05-21T23:05:46.545Z"
   },
   {
    "duration": 4,
    "start_time": "2022-05-21T23:05:46.550Z"
   },
   {
    "duration": 15,
    "start_time": "2022-05-21T23:05:46.557Z"
   },
   {
    "duration": 39,
    "start_time": "2022-05-21T23:05:46.613Z"
   },
   {
    "duration": 27,
    "start_time": "2022-05-21T23:05:46.653Z"
   },
   {
    "duration": 31,
    "start_time": "2022-05-21T23:05:46.682Z"
   },
   {
    "duration": 7,
    "start_time": "2022-05-21T23:05:46.715Z"
   },
   {
    "duration": 24,
    "start_time": "2022-05-21T23:05:46.724Z"
   },
   {
    "duration": 13,
    "start_time": "2022-05-21T23:05:46.750Z"
   },
   {
    "duration": 8,
    "start_time": "2022-05-21T23:05:46.765Z"
   },
   {
    "duration": 15,
    "start_time": "2022-05-21T23:05:46.812Z"
   },
   {
    "duration": 8,
    "start_time": "2022-05-21T23:05:46.829Z"
   },
   {
    "duration": 6,
    "start_time": "2022-05-21T23:05:46.839Z"
   },
   {
    "duration": 8,
    "start_time": "2022-05-21T23:05:46.846Z"
   },
   {
    "duration": 5,
    "start_time": "2022-05-21T23:05:46.855Z"
   },
   {
    "duration": 52,
    "start_time": "2022-05-21T23:05:46.862Z"
   },
   {
    "duration": 8,
    "start_time": "2022-05-21T23:05:46.915Z"
   },
   {
    "duration": 11,
    "start_time": "2022-05-21T23:05:46.925Z"
   },
   {
    "duration": 5,
    "start_time": "2022-05-21T23:05:46.938Z"
   },
   {
    "duration": 17,
    "start_time": "2022-05-21T23:05:46.944Z"
   },
   {
    "duration": 53,
    "start_time": "2022-05-21T23:05:46.965Z"
   },
   {
    "duration": 17,
    "start_time": "2022-05-21T23:05:47.021Z"
   },
   {
    "duration": 95,
    "start_time": "2022-05-21T23:05:47.040Z"
   },
   {
    "duration": 26,
    "start_time": "2022-05-21T23:05:47.137Z"
   },
   {
    "duration": 23,
    "start_time": "2022-05-21T23:05:47.166Z"
   },
   {
    "duration": 21,
    "start_time": "2022-05-21T23:05:47.213Z"
   },
   {
    "duration": 20,
    "start_time": "2022-05-21T23:05:47.237Z"
   },
   {
    "duration": 15,
    "start_time": "2022-05-21T23:05:47.259Z"
   },
   {
    "duration": 43,
    "start_time": "2022-05-21T23:05:47.276Z"
   },
   {
    "duration": 8,
    "start_time": "2022-05-21T23:05:47.320Z"
   },
   {
    "duration": 24,
    "start_time": "2022-05-21T23:05:47.329Z"
   },
   {
    "duration": 5,
    "start_time": "2022-05-21T23:05:47.355Z"
   },
   {
    "duration": 52,
    "start_time": "2022-05-21T23:05:47.361Z"
   },
   {
    "duration": 13,
    "start_time": "2022-05-21T23:05:47.414Z"
   },
   {
    "duration": 158,
    "start_time": "2022-05-21T23:05:47.429Z"
   },
   {
    "duration": 6,
    "start_time": "2022-05-21T23:05:47.588Z"
   },
   {
    "duration": 18,
    "start_time": "2022-05-21T23:05:47.595Z"
   },
   {
    "duration": 7,
    "start_time": "2022-05-21T23:05:47.614Z"
   },
   {
    "duration": 7,
    "start_time": "2022-05-21T23:05:47.623Z"
   },
   {
    "duration": 17,
    "start_time": "2022-05-21T23:05:47.632Z"
   },
   {
    "duration": 14,
    "start_time": "2022-05-21T23:05:47.651Z"
   },
   {
    "duration": 181,
    "start_time": "2022-05-21T23:05:47.666Z"
   },
   {
    "duration": 13,
    "start_time": "2022-05-21T23:05:47.849Z"
   },
   {
    "duration": 148,
    "start_time": "2022-05-21T23:05:47.864Z"
   },
   {
    "duration": 14,
    "start_time": "2022-05-21T23:05:48.013Z"
   },
   {
    "duration": 150,
    "start_time": "2022-05-21T23:05:48.029Z"
   },
   {
    "duration": 12,
    "start_time": "2022-05-21T23:06:04.357Z"
   },
   {
    "duration": 14,
    "start_time": "2022-05-21T23:06:10.429Z"
   },
   {
    "duration": 11,
    "start_time": "2022-05-21T23:06:51.361Z"
   },
   {
    "duration": 13,
    "start_time": "2022-05-21T23:08:09.753Z"
   },
   {
    "duration": 3,
    "start_time": "2022-05-21T23:08:39.437Z"
   },
   {
    "duration": 77,
    "start_time": "2022-05-21T23:08:39.443Z"
   },
   {
    "duration": 15,
    "start_time": "2022-05-21T23:08:39.522Z"
   },
   {
    "duration": 14,
    "start_time": "2022-05-21T23:08:39.539Z"
   },
   {
    "duration": 9,
    "start_time": "2022-05-21T23:08:39.555Z"
   },
   {
    "duration": 48,
    "start_time": "2022-05-21T23:08:39.566Z"
   },
   {
    "duration": 5,
    "start_time": "2022-05-21T23:08:39.616Z"
   },
   {
    "duration": 7,
    "start_time": "2022-05-21T23:08:39.623Z"
   },
   {
    "duration": 3,
    "start_time": "2022-05-21T23:08:39.631Z"
   },
   {
    "duration": 4,
    "start_time": "2022-05-21T23:08:39.636Z"
   },
   {
    "duration": 9,
    "start_time": "2022-05-21T23:08:39.642Z"
   },
   {
    "duration": 66,
    "start_time": "2022-05-21T23:08:39.653Z"
   },
   {
    "duration": 26,
    "start_time": "2022-05-21T23:08:39.721Z"
   },
   {
    "duration": 5,
    "start_time": "2022-05-21T23:08:39.748Z"
   },
   {
    "duration": 9,
    "start_time": "2022-05-21T23:08:39.754Z"
   },
   {
    "duration": 48,
    "start_time": "2022-05-21T23:08:39.765Z"
   },
   {
    "duration": 11,
    "start_time": "2022-05-21T23:08:39.815Z"
   },
   {
    "duration": 11,
    "start_time": "2022-05-21T23:08:39.827Z"
   },
   {
    "duration": 14,
    "start_time": "2022-05-21T23:08:39.839Z"
   },
   {
    "duration": 7,
    "start_time": "2022-05-21T23:08:39.854Z"
   },
   {
    "duration": 6,
    "start_time": "2022-05-21T23:08:39.862Z"
   },
   {
    "duration": 44,
    "start_time": "2022-05-21T23:08:39.869Z"
   },
   {
    "duration": 6,
    "start_time": "2022-05-21T23:08:39.914Z"
   },
   {
    "duration": 8,
    "start_time": "2022-05-21T23:08:39.921Z"
   },
   {
    "duration": 6,
    "start_time": "2022-05-21T23:08:39.931Z"
   },
   {
    "duration": 11,
    "start_time": "2022-05-21T23:08:39.938Z"
   },
   {
    "duration": 5,
    "start_time": "2022-05-21T23:08:39.950Z"
   },
   {
    "duration": 56,
    "start_time": "2022-05-21T23:08:39.956Z"
   },
   {
    "duration": 19,
    "start_time": "2022-05-21T23:08:40.015Z"
   },
   {
    "duration": 16,
    "start_time": "2022-05-21T23:08:40.036Z"
   },
   {
    "duration": 91,
    "start_time": "2022-05-21T23:08:40.054Z"
   },
   {
    "duration": 27,
    "start_time": "2022-05-21T23:08:40.147Z"
   },
   {
    "duration": 16,
    "start_time": "2022-05-21T23:08:40.176Z"
   },
   {
    "duration": 32,
    "start_time": "2022-05-21T23:08:40.194Z"
   },
   {
    "duration": 15,
    "start_time": "2022-05-21T23:08:40.228Z"
   },
   {
    "duration": 11,
    "start_time": "2022-05-21T23:08:40.245Z"
   },
   {
    "duration": 14,
    "start_time": "2022-05-21T23:08:40.257Z"
   },
   {
    "duration": 41,
    "start_time": "2022-05-21T23:08:40.273Z"
   },
   {
    "duration": 13,
    "start_time": "2022-05-21T23:08:40.315Z"
   },
   {
    "duration": 7,
    "start_time": "2022-05-21T23:08:40.330Z"
   },
   {
    "duration": 16,
    "start_time": "2022-05-21T23:08:40.339Z"
   },
   {
    "duration": 13,
    "start_time": "2022-05-21T23:08:40.356Z"
   },
   {
    "duration": 171,
    "start_time": "2022-05-21T23:08:40.371Z"
   },
   {
    "duration": 6,
    "start_time": "2022-05-21T23:08:40.543Z"
   },
   {
    "duration": 8,
    "start_time": "2022-05-21T23:08:40.550Z"
   },
   {
    "duration": 8,
    "start_time": "2022-05-21T23:08:40.560Z"
   },
   {
    "duration": 9,
    "start_time": "2022-05-21T23:08:40.569Z"
   },
   {
    "duration": 45,
    "start_time": "2022-05-21T23:08:40.580Z"
   },
   {
    "duration": 17,
    "start_time": "2022-05-21T23:08:40.626Z"
   },
   {
    "duration": 148,
    "start_time": "2022-05-21T23:08:40.644Z"
   },
   {
    "duration": 25,
    "start_time": "2022-05-21T23:08:40.794Z"
   },
   {
    "duration": 129,
    "start_time": "2022-05-21T23:08:40.820Z"
   },
   {
    "duration": 15,
    "start_time": "2022-05-21T23:08:40.950Z"
   },
   {
    "duration": 157,
    "start_time": "2022-05-21T23:08:40.967Z"
   },
   {
    "duration": 13,
    "start_time": "2022-05-21T23:09:01.057Z"
   },
   {
    "duration": 2,
    "start_time": "2022-05-21T23:10:15.157Z"
   },
   {
    "duration": 73,
    "start_time": "2022-05-21T23:10:15.165Z"
   },
   {
    "duration": 14,
    "start_time": "2022-05-21T23:10:15.240Z"
   },
   {
    "duration": 17,
    "start_time": "2022-05-21T23:10:15.256Z"
   },
   {
    "duration": 41,
    "start_time": "2022-05-21T23:10:15.275Z"
   },
   {
    "duration": 8,
    "start_time": "2022-05-21T23:10:15.318Z"
   },
   {
    "duration": 5,
    "start_time": "2022-05-21T23:10:15.327Z"
   },
   {
    "duration": 6,
    "start_time": "2022-05-21T23:10:15.333Z"
   },
   {
    "duration": 4,
    "start_time": "2022-05-21T23:10:15.340Z"
   },
   {
    "duration": 14,
    "start_time": "2022-05-21T23:10:15.345Z"
   },
   {
    "duration": 51,
    "start_time": "2022-05-21T23:10:15.361Z"
   },
   {
    "duration": 3,
    "start_time": "2022-05-21T23:10:15.413Z"
   },
   {
    "duration": 36,
    "start_time": "2022-05-21T23:10:15.417Z"
   },
   {
    "duration": 5,
    "start_time": "2022-05-21T23:10:15.455Z"
   },
   {
    "duration": 9,
    "start_time": "2022-05-21T23:10:15.462Z"
   },
   {
    "duration": 51,
    "start_time": "2022-05-21T23:10:15.472Z"
   },
   {
    "duration": 12,
    "start_time": "2022-05-21T23:10:15.525Z"
   },
   {
    "duration": 7,
    "start_time": "2022-05-21T23:10:15.538Z"
   },
   {
    "duration": 13,
    "start_time": "2022-05-21T23:10:15.547Z"
   },
   {
    "duration": 7,
    "start_time": "2022-05-21T23:10:15.561Z"
   },
   {
    "duration": 4,
    "start_time": "2022-05-21T23:10:15.570Z"
   },
   {
    "duration": 41,
    "start_time": "2022-05-21T23:10:15.576Z"
   },
   {
    "duration": 5,
    "start_time": "2022-05-21T23:10:15.618Z"
   },
   {
    "duration": 8,
    "start_time": "2022-05-21T23:10:15.624Z"
   },
   {
    "duration": 6,
    "start_time": "2022-05-21T23:10:15.633Z"
   },
   {
    "duration": 10,
    "start_time": "2022-05-21T23:10:15.641Z"
   },
   {
    "duration": 7,
    "start_time": "2022-05-21T23:10:15.653Z"
   },
   {
    "duration": 65,
    "start_time": "2022-05-21T23:10:15.662Z"
   },
   {
    "duration": 18,
    "start_time": "2022-05-21T23:10:15.732Z"
   },
   {
    "duration": 16,
    "start_time": "2022-05-21T23:10:15.752Z"
   },
   {
    "duration": 93,
    "start_time": "2022-05-21T23:10:15.769Z"
   },
   {
    "duration": 26,
    "start_time": "2022-05-21T23:10:15.864Z"
   },
   {
    "duration": 34,
    "start_time": "2022-05-21T23:10:15.892Z"
   },
   {
    "duration": 16,
    "start_time": "2022-05-21T23:10:15.928Z"
   },
   {
    "duration": 15,
    "start_time": "2022-05-21T23:10:15.946Z"
   },
   {
    "duration": 10,
    "start_time": "2022-05-21T23:10:15.962Z"
   },
   {
    "duration": 43,
    "start_time": "2022-05-21T23:10:15.973Z"
   },
   {
    "duration": 7,
    "start_time": "2022-05-21T23:10:16.018Z"
   },
   {
    "duration": 15,
    "start_time": "2022-05-21T23:10:16.027Z"
   },
   {
    "duration": 7,
    "start_time": "2022-05-21T23:10:16.044Z"
   },
   {
    "duration": 60,
    "start_time": "2022-05-21T23:10:16.053Z"
   },
   {
    "duration": 14,
    "start_time": "2022-05-21T23:10:16.115Z"
   },
   {
    "duration": 142,
    "start_time": "2022-05-21T23:10:16.131Z"
   },
   {
    "duration": 5,
    "start_time": "2022-05-21T23:10:16.275Z"
   },
   {
    "duration": 5,
    "start_time": "2022-05-21T23:10:16.281Z"
   },
   {
    "duration": 26,
    "start_time": "2022-05-21T23:10:16.288Z"
   },
   {
    "duration": 8,
    "start_time": "2022-05-21T23:10:16.315Z"
   },
   {
    "duration": 19,
    "start_time": "2022-05-21T23:10:16.324Z"
   },
   {
    "duration": 14,
    "start_time": "2022-05-21T23:10:16.345Z"
   },
   {
    "duration": 160,
    "start_time": "2022-05-21T23:10:16.361Z"
   },
   {
    "duration": 14,
    "start_time": "2022-05-21T23:10:16.523Z"
   },
   {
    "duration": 139,
    "start_time": "2022-05-21T23:10:16.539Z"
   },
   {
    "duration": 33,
    "start_time": "2022-05-21T23:10:16.680Z"
   },
   {
    "duration": 136,
    "start_time": "2022-05-21T23:10:16.715Z"
   },
   {
    "duration": 13,
    "start_time": "2022-05-21T23:14:29.660Z"
   },
   {
    "duration": 2,
    "start_time": "2022-05-21T23:14:43.336Z"
   },
   {
    "duration": 68,
    "start_time": "2022-05-21T23:14:43.342Z"
   },
   {
    "duration": 12,
    "start_time": "2022-05-21T23:14:43.412Z"
   },
   {
    "duration": 14,
    "start_time": "2022-05-21T23:14:43.426Z"
   },
   {
    "duration": 10,
    "start_time": "2022-05-21T23:14:43.442Z"
   },
   {
    "duration": 10,
    "start_time": "2022-05-21T23:14:43.454Z"
   },
   {
    "duration": 47,
    "start_time": "2022-05-21T23:14:43.466Z"
   },
   {
    "duration": 2,
    "start_time": "2022-05-21T23:14:43.515Z"
   },
   {
    "duration": 7,
    "start_time": "2022-05-21T23:14:43.518Z"
   },
   {
    "duration": 18,
    "start_time": "2022-05-21T23:14:43.526Z"
   },
   {
    "duration": 2,
    "start_time": "2022-05-21T23:14:43.546Z"
   },
   {
    "duration": 7,
    "start_time": "2022-05-21T23:14:43.549Z"
   },
   {
    "duration": 16,
    "start_time": "2022-05-21T23:14:43.557Z"
   },
   {
    "duration": 27,
    "start_time": "2022-05-21T23:14:43.611Z"
   },
   {
    "duration": 5,
    "start_time": "2022-05-21T23:14:43.640Z"
   },
   {
    "duration": 8,
    "start_time": "2022-05-21T23:14:43.646Z"
   },
   {
    "duration": 16,
    "start_time": "2022-05-21T23:14:43.655Z"
   },
   {
    "duration": 49,
    "start_time": "2022-05-21T23:14:43.672Z"
   },
   {
    "duration": 4,
    "start_time": "2022-05-21T23:14:43.722Z"
   },
   {
    "duration": 16,
    "start_time": "2022-05-21T23:14:43.728Z"
   },
   {
    "duration": 10,
    "start_time": "2022-05-21T23:14:43.746Z"
   },
   {
    "duration": 16,
    "start_time": "2022-05-21T23:14:43.757Z"
   },
   {
    "duration": 38,
    "start_time": "2022-05-21T23:14:43.775Z"
   },
   {
    "duration": 5,
    "start_time": "2022-05-21T23:14:43.815Z"
   },
   {
    "duration": 8,
    "start_time": "2022-05-21T23:14:43.822Z"
   },
   {
    "duration": 5,
    "start_time": "2022-05-21T23:14:43.832Z"
   },
   {
    "duration": 11,
    "start_time": "2022-05-21T23:14:43.839Z"
   },
   {
    "duration": 13,
    "start_time": "2022-05-21T23:14:43.852Z"
   },
   {
    "duration": 0,
    "start_time": "2022-05-21T23:14:43.867Z"
   },
   {
    "duration": 0,
    "start_time": "2022-05-21T23:14:43.869Z"
   },
   {
    "duration": 0,
    "start_time": "2022-05-21T23:14:43.911Z"
   },
   {
    "duration": 0,
    "start_time": "2022-05-21T23:14:43.913Z"
   },
   {
    "duration": 0,
    "start_time": "2022-05-21T23:14:43.914Z"
   },
   {
    "duration": 0,
    "start_time": "2022-05-21T23:14:43.915Z"
   },
   {
    "duration": 0,
    "start_time": "2022-05-21T23:14:43.916Z"
   },
   {
    "duration": 0,
    "start_time": "2022-05-21T23:14:43.918Z"
   },
   {
    "duration": 0,
    "start_time": "2022-05-21T23:14:43.919Z"
   },
   {
    "duration": 0,
    "start_time": "2022-05-21T23:14:43.920Z"
   },
   {
    "duration": 0,
    "start_time": "2022-05-21T23:14:43.921Z"
   },
   {
    "duration": 0,
    "start_time": "2022-05-21T23:14:43.922Z"
   },
   {
    "duration": 0,
    "start_time": "2022-05-21T23:14:43.923Z"
   },
   {
    "duration": 0,
    "start_time": "2022-05-21T23:14:43.925Z"
   },
   {
    "duration": 0,
    "start_time": "2022-05-21T23:14:43.926Z"
   },
   {
    "duration": 0,
    "start_time": "2022-05-21T23:14:43.927Z"
   },
   {
    "duration": 0,
    "start_time": "2022-05-21T23:14:43.928Z"
   },
   {
    "duration": 0,
    "start_time": "2022-05-21T23:14:43.929Z"
   },
   {
    "duration": 0,
    "start_time": "2022-05-21T23:14:43.931Z"
   },
   {
    "duration": 0,
    "start_time": "2022-05-21T23:14:43.932Z"
   },
   {
    "duration": 0,
    "start_time": "2022-05-21T23:14:43.933Z"
   },
   {
    "duration": 0,
    "start_time": "2022-05-21T23:14:43.934Z"
   },
   {
    "duration": 0,
    "start_time": "2022-05-21T23:14:43.935Z"
   },
   {
    "duration": 0,
    "start_time": "2022-05-21T23:14:43.936Z"
   },
   {
    "duration": 0,
    "start_time": "2022-05-21T23:14:43.937Z"
   },
   {
    "duration": 0,
    "start_time": "2022-05-21T23:14:43.939Z"
   },
   {
    "duration": 0,
    "start_time": "2022-05-21T23:14:43.940Z"
   },
   {
    "duration": 13,
    "start_time": "2022-05-21T23:15:02.964Z"
   },
   {
    "duration": 2,
    "start_time": "2022-05-21T23:15:06.630Z"
   },
   {
    "duration": 67,
    "start_time": "2022-05-21T23:15:06.635Z"
   },
   {
    "duration": 13,
    "start_time": "2022-05-21T23:15:06.704Z"
   },
   {
    "duration": 17,
    "start_time": "2022-05-21T23:15:06.719Z"
   },
   {
    "duration": 10,
    "start_time": "2022-05-21T23:15:06.738Z"
   },
   {
    "duration": 18,
    "start_time": "2022-05-21T23:15:06.749Z"
   },
   {
    "duration": 15,
    "start_time": "2022-05-21T23:15:06.769Z"
   },
   {
    "duration": 8,
    "start_time": "2022-05-21T23:15:06.812Z"
   },
   {
    "duration": 20,
    "start_time": "2022-05-21T23:15:06.822Z"
   },
   {
    "duration": 34,
    "start_time": "2022-05-21T23:15:06.844Z"
   },
   {
    "duration": 7,
    "start_time": "2022-05-21T23:15:06.880Z"
   },
   {
    "duration": 29,
    "start_time": "2022-05-21T23:15:06.889Z"
   },
   {
    "duration": 28,
    "start_time": "2022-05-21T23:15:06.919Z"
   },
   {
    "duration": 38,
    "start_time": "2022-05-21T23:15:06.949Z"
   },
   {
    "duration": 5,
    "start_time": "2022-05-21T23:15:06.989Z"
   },
   {
    "duration": 19,
    "start_time": "2022-05-21T23:15:06.996Z"
   },
   {
    "duration": 30,
    "start_time": "2022-05-21T23:15:07.017Z"
   },
   {
    "duration": 12,
    "start_time": "2022-05-21T23:15:07.049Z"
   },
   {
    "duration": 24,
    "start_time": "2022-05-21T23:15:07.062Z"
   },
   {
    "duration": 32,
    "start_time": "2022-05-21T23:15:07.088Z"
   },
   {
    "duration": 15,
    "start_time": "2022-05-21T23:15:07.122Z"
   },
   {
    "duration": 19,
    "start_time": "2022-05-21T23:15:07.139Z"
   },
   {
    "duration": 16,
    "start_time": "2022-05-21T23:15:07.160Z"
   },
   {
    "duration": 23,
    "start_time": "2022-05-21T23:15:07.178Z"
   },
   {
    "duration": 14,
    "start_time": "2022-05-21T23:15:07.203Z"
   },
   {
    "duration": 20,
    "start_time": "2022-05-21T23:15:07.219Z"
   },
   {
    "duration": 20,
    "start_time": "2022-05-21T23:15:07.241Z"
   },
   {
    "duration": 29,
    "start_time": "2022-05-21T23:15:07.263Z"
   },
   {
    "duration": 0,
    "start_time": "2022-05-21T23:15:07.295Z"
   },
   {
    "duration": 1,
    "start_time": "2022-05-21T23:15:07.296Z"
   },
   {
    "duration": 0,
    "start_time": "2022-05-21T23:15:07.298Z"
   },
   {
    "duration": 0,
    "start_time": "2022-05-21T23:15:07.300Z"
   },
   {
    "duration": 0,
    "start_time": "2022-05-21T23:15:07.301Z"
   },
   {
    "duration": 0,
    "start_time": "2022-05-21T23:15:07.302Z"
   },
   {
    "duration": 0,
    "start_time": "2022-05-21T23:15:07.302Z"
   },
   {
    "duration": 0,
    "start_time": "2022-05-21T23:15:07.303Z"
   },
   {
    "duration": 0,
    "start_time": "2022-05-21T23:15:07.304Z"
   },
   {
    "duration": 0,
    "start_time": "2022-05-21T23:15:07.304Z"
   },
   {
    "duration": 0,
    "start_time": "2022-05-21T23:15:07.312Z"
   },
   {
    "duration": 0,
    "start_time": "2022-05-21T23:15:07.313Z"
   },
   {
    "duration": 0,
    "start_time": "2022-05-21T23:15:07.314Z"
   },
   {
    "duration": 0,
    "start_time": "2022-05-21T23:15:07.315Z"
   },
   {
    "duration": 0,
    "start_time": "2022-05-21T23:15:07.316Z"
   },
   {
    "duration": 0,
    "start_time": "2022-05-21T23:15:07.318Z"
   },
   {
    "duration": 0,
    "start_time": "2022-05-21T23:15:07.319Z"
   },
   {
    "duration": 0,
    "start_time": "2022-05-21T23:15:07.319Z"
   },
   {
    "duration": 0,
    "start_time": "2022-05-21T23:15:07.320Z"
   },
   {
    "duration": 0,
    "start_time": "2022-05-21T23:15:07.322Z"
   },
   {
    "duration": 0,
    "start_time": "2022-05-21T23:15:07.323Z"
   },
   {
    "duration": 0,
    "start_time": "2022-05-21T23:15:07.324Z"
   },
   {
    "duration": 0,
    "start_time": "2022-05-21T23:15:07.326Z"
   },
   {
    "duration": 0,
    "start_time": "2022-05-21T23:15:07.327Z"
   },
   {
    "duration": 0,
    "start_time": "2022-05-21T23:15:07.328Z"
   },
   {
    "duration": 0,
    "start_time": "2022-05-21T23:15:07.329Z"
   },
   {
    "duration": 0,
    "start_time": "2022-05-21T23:15:07.330Z"
   },
   {
    "duration": 3,
    "start_time": "2022-05-21T23:15:13.696Z"
   },
   {
    "duration": 82,
    "start_time": "2022-05-21T23:15:13.702Z"
   },
   {
    "duration": 12,
    "start_time": "2022-05-21T23:15:13.786Z"
   },
   {
    "duration": 30,
    "start_time": "2022-05-21T23:15:13.799Z"
   },
   {
    "duration": 9,
    "start_time": "2022-05-21T23:15:13.831Z"
   },
   {
    "duration": 27,
    "start_time": "2022-05-21T23:15:13.841Z"
   },
   {
    "duration": 15,
    "start_time": "2022-05-21T23:15:13.870Z"
   },
   {
    "duration": 24,
    "start_time": "2022-05-21T23:15:13.887Z"
   },
   {
    "duration": 8,
    "start_time": "2022-05-21T23:15:13.913Z"
   },
   {
    "duration": 37,
    "start_time": "2022-05-21T23:15:13.922Z"
   },
   {
    "duration": 3,
    "start_time": "2022-05-21T23:15:13.962Z"
   },
   {
    "duration": 23,
    "start_time": "2022-05-21T23:15:13.966Z"
   },
   {
    "duration": 25,
    "start_time": "2022-05-21T23:15:13.990Z"
   },
   {
    "duration": 31,
    "start_time": "2022-05-21T23:15:14.017Z"
   },
   {
    "duration": 6,
    "start_time": "2022-05-21T23:15:14.049Z"
   },
   {
    "duration": 13,
    "start_time": "2022-05-21T23:15:14.056Z"
   },
   {
    "duration": 28,
    "start_time": "2022-05-21T23:15:14.070Z"
   },
   {
    "duration": 26,
    "start_time": "2022-05-21T23:15:14.100Z"
   },
   {
    "duration": 16,
    "start_time": "2022-05-21T23:15:14.127Z"
   },
   {
    "duration": 19,
    "start_time": "2022-05-21T23:15:14.145Z"
   },
   {
    "duration": 18,
    "start_time": "2022-05-21T23:15:14.166Z"
   },
   {
    "duration": 10,
    "start_time": "2022-05-21T23:15:14.185Z"
   },
   {
    "duration": 22,
    "start_time": "2022-05-21T23:15:14.196Z"
   },
   {
    "duration": 24,
    "start_time": "2022-05-21T23:15:14.219Z"
   },
   {
    "duration": 35,
    "start_time": "2022-05-21T23:15:14.244Z"
   },
   {
    "duration": 23,
    "start_time": "2022-05-21T23:15:14.281Z"
   },
   {
    "duration": 21,
    "start_time": "2022-05-21T23:15:14.306Z"
   },
   {
    "duration": 42,
    "start_time": "2022-05-21T23:15:14.328Z"
   },
   {
    "duration": 0,
    "start_time": "2022-05-21T23:15:14.373Z"
   },
   {
    "duration": 0,
    "start_time": "2022-05-21T23:15:14.375Z"
   },
   {
    "duration": 0,
    "start_time": "2022-05-21T23:15:14.377Z"
   },
   {
    "duration": 0,
    "start_time": "2022-05-21T23:15:14.378Z"
   },
   {
    "duration": 0,
    "start_time": "2022-05-21T23:15:14.379Z"
   },
   {
    "duration": 0,
    "start_time": "2022-05-21T23:15:14.381Z"
   },
   {
    "duration": 0,
    "start_time": "2022-05-21T23:15:14.382Z"
   },
   {
    "duration": 0,
    "start_time": "2022-05-21T23:15:14.383Z"
   },
   {
    "duration": 0,
    "start_time": "2022-05-21T23:15:14.385Z"
   },
   {
    "duration": 0,
    "start_time": "2022-05-21T23:15:14.386Z"
   },
   {
    "duration": 0,
    "start_time": "2022-05-21T23:15:14.388Z"
   },
   {
    "duration": 0,
    "start_time": "2022-05-21T23:15:14.389Z"
   },
   {
    "duration": 0,
    "start_time": "2022-05-21T23:15:14.392Z"
   },
   {
    "duration": 0,
    "start_time": "2022-05-21T23:15:14.393Z"
   },
   {
    "duration": 0,
    "start_time": "2022-05-21T23:15:14.395Z"
   },
   {
    "duration": 0,
    "start_time": "2022-05-21T23:15:14.411Z"
   },
   {
    "duration": 0,
    "start_time": "2022-05-21T23:15:14.413Z"
   },
   {
    "duration": 0,
    "start_time": "2022-05-21T23:15:14.414Z"
   },
   {
    "duration": 0,
    "start_time": "2022-05-21T23:15:14.415Z"
   },
   {
    "duration": 0,
    "start_time": "2022-05-21T23:15:14.417Z"
   },
   {
    "duration": 0,
    "start_time": "2022-05-21T23:15:14.418Z"
   },
   {
    "duration": 0,
    "start_time": "2022-05-21T23:15:14.419Z"
   },
   {
    "duration": 0,
    "start_time": "2022-05-21T23:15:14.420Z"
   },
   {
    "duration": 0,
    "start_time": "2022-05-21T23:15:14.421Z"
   },
   {
    "duration": 0,
    "start_time": "2022-05-21T23:15:14.422Z"
   },
   {
    "duration": 0,
    "start_time": "2022-05-21T23:15:14.423Z"
   },
   {
    "duration": 0,
    "start_time": "2022-05-21T23:15:14.424Z"
   },
   {
    "duration": 3,
    "start_time": "2022-05-21T23:15:29.860Z"
   },
   {
    "duration": 74,
    "start_time": "2022-05-21T23:15:29.868Z"
   },
   {
    "duration": 14,
    "start_time": "2022-05-21T23:15:29.944Z"
   },
   {
    "duration": 17,
    "start_time": "2022-05-21T23:15:29.960Z"
   },
   {
    "duration": 43,
    "start_time": "2022-05-21T23:15:29.979Z"
   },
   {
    "duration": 11,
    "start_time": "2022-05-21T23:15:30.024Z"
   },
   {
    "duration": 6,
    "start_time": "2022-05-21T23:15:30.037Z"
   },
   {
    "duration": 4,
    "start_time": "2022-05-21T23:15:30.045Z"
   },
   {
    "duration": 6,
    "start_time": "2022-05-21T23:15:30.051Z"
   },
   {
    "duration": 60,
    "start_time": "2022-05-21T23:15:30.059Z"
   },
   {
    "duration": 2,
    "start_time": "2022-05-21T23:15:30.122Z"
   },
   {
    "duration": 10,
    "start_time": "2022-05-21T23:15:30.126Z"
   },
   {
    "duration": 26,
    "start_time": "2022-05-21T23:15:30.138Z"
   },
   {
    "duration": 52,
    "start_time": "2022-05-21T23:15:30.166Z"
   },
   {
    "duration": 5,
    "start_time": "2022-05-21T23:15:30.220Z"
   },
   {
    "duration": 14,
    "start_time": "2022-05-21T23:15:30.226Z"
   },
   {
    "duration": 24,
    "start_time": "2022-05-21T23:15:30.242Z"
   },
   {
    "duration": 14,
    "start_time": "2022-05-21T23:15:30.267Z"
   },
   {
    "duration": 27,
    "start_time": "2022-05-21T23:15:30.282Z"
   },
   {
    "duration": 23,
    "start_time": "2022-05-21T23:15:30.311Z"
   },
   {
    "duration": 11,
    "start_time": "2022-05-21T23:15:30.335Z"
   },
   {
    "duration": 13,
    "start_time": "2022-05-21T23:15:30.348Z"
   },
   {
    "duration": 14,
    "start_time": "2022-05-21T23:15:30.362Z"
   },
   {
    "duration": 7,
    "start_time": "2022-05-21T23:15:30.378Z"
   },
   {
    "duration": 27,
    "start_time": "2022-05-21T23:15:30.387Z"
   },
   {
    "duration": 29,
    "start_time": "2022-05-21T23:15:30.416Z"
   },
   {
    "duration": 19,
    "start_time": "2022-05-21T23:15:30.447Z"
   },
   {
    "duration": 17,
    "start_time": "2022-05-21T23:15:30.468Z"
   },
   {
    "duration": 0,
    "start_time": "2022-05-21T23:15:30.487Z"
   },
   {
    "duration": 0,
    "start_time": "2022-05-21T23:15:30.488Z"
   },
   {
    "duration": 0,
    "start_time": "2022-05-21T23:15:30.489Z"
   },
   {
    "duration": 0,
    "start_time": "2022-05-21T23:15:30.490Z"
   },
   {
    "duration": 0,
    "start_time": "2022-05-21T23:15:30.491Z"
   },
   {
    "duration": 0,
    "start_time": "2022-05-21T23:15:30.492Z"
   },
   {
    "duration": 0,
    "start_time": "2022-05-21T23:15:30.493Z"
   },
   {
    "duration": 0,
    "start_time": "2022-05-21T23:15:30.493Z"
   },
   {
    "duration": 0,
    "start_time": "2022-05-21T23:15:30.494Z"
   },
   {
    "duration": 0,
    "start_time": "2022-05-21T23:15:30.495Z"
   },
   {
    "duration": 0,
    "start_time": "2022-05-21T23:15:30.496Z"
   },
   {
    "duration": 0,
    "start_time": "2022-05-21T23:15:30.497Z"
   },
   {
    "duration": 0,
    "start_time": "2022-05-21T23:15:30.497Z"
   },
   {
    "duration": 0,
    "start_time": "2022-05-21T23:15:30.499Z"
   },
   {
    "duration": 0,
    "start_time": "2022-05-21T23:15:30.499Z"
   },
   {
    "duration": 0,
    "start_time": "2022-05-21T23:15:30.501Z"
   },
   {
    "duration": 0,
    "start_time": "2022-05-21T23:15:30.502Z"
   },
   {
    "duration": 0,
    "start_time": "2022-05-21T23:15:30.502Z"
   },
   {
    "duration": 0,
    "start_time": "2022-05-21T23:15:30.503Z"
   },
   {
    "duration": 0,
    "start_time": "2022-05-21T23:15:30.511Z"
   },
   {
    "duration": 0,
    "start_time": "2022-05-21T23:15:30.513Z"
   },
   {
    "duration": 0,
    "start_time": "2022-05-21T23:15:30.514Z"
   },
   {
    "duration": 0,
    "start_time": "2022-05-21T23:15:30.517Z"
   },
   {
    "duration": 0,
    "start_time": "2022-05-21T23:15:30.518Z"
   },
   {
    "duration": 0,
    "start_time": "2022-05-21T23:15:30.519Z"
   },
   {
    "duration": 0,
    "start_time": "2022-05-21T23:15:30.521Z"
   },
   {
    "duration": 0,
    "start_time": "2022-05-21T23:15:30.522Z"
   },
   {
    "duration": 3,
    "start_time": "2022-05-21T23:15:55.960Z"
   },
   {
    "duration": 68,
    "start_time": "2022-05-21T23:15:55.965Z"
   },
   {
    "duration": 13,
    "start_time": "2022-05-21T23:15:56.034Z"
   },
   {
    "duration": 15,
    "start_time": "2022-05-21T23:15:56.048Z"
   },
   {
    "duration": 8,
    "start_time": "2022-05-21T23:15:56.065Z"
   },
   {
    "duration": 37,
    "start_time": "2022-05-21T23:15:56.075Z"
   },
   {
    "duration": 4,
    "start_time": "2022-05-21T23:15:56.113Z"
   },
   {
    "duration": 4,
    "start_time": "2022-05-21T23:15:56.119Z"
   },
   {
    "duration": 5,
    "start_time": "2022-05-21T23:15:56.124Z"
   },
   {
    "duration": 14,
    "start_time": "2022-05-21T23:15:56.130Z"
   },
   {
    "duration": 2,
    "start_time": "2022-05-21T23:15:56.147Z"
   },
   {
    "duration": 6,
    "start_time": "2022-05-21T23:15:56.150Z"
   },
   {
    "duration": 8,
    "start_time": "2022-05-21T23:15:56.158Z"
   },
   {
    "duration": 44,
    "start_time": "2022-05-21T23:15:56.168Z"
   },
   {
    "duration": 355,
    "start_time": "2022-05-21T23:15:56.214Z"
   },
   {
    "duration": 0,
    "start_time": "2022-05-21T23:15:56.571Z"
   },
   {
    "duration": 0,
    "start_time": "2022-05-21T23:15:56.572Z"
   },
   {
    "duration": 0,
    "start_time": "2022-05-21T23:15:56.573Z"
   },
   {
    "duration": 0,
    "start_time": "2022-05-21T23:15:56.574Z"
   },
   {
    "duration": 0,
    "start_time": "2022-05-21T23:15:56.575Z"
   },
   {
    "duration": 0,
    "start_time": "2022-05-21T23:15:56.576Z"
   },
   {
    "duration": 0,
    "start_time": "2022-05-21T23:15:56.577Z"
   },
   {
    "duration": 0,
    "start_time": "2022-05-21T23:15:56.578Z"
   },
   {
    "duration": 0,
    "start_time": "2022-05-21T23:15:56.579Z"
   },
   {
    "duration": 0,
    "start_time": "2022-05-21T23:15:56.580Z"
   },
   {
    "duration": 0,
    "start_time": "2022-05-21T23:15:56.581Z"
   },
   {
    "duration": 0,
    "start_time": "2022-05-21T23:15:56.582Z"
   },
   {
    "duration": 0,
    "start_time": "2022-05-21T23:15:56.583Z"
   },
   {
    "duration": 0,
    "start_time": "2022-05-21T23:15:56.584Z"
   },
   {
    "duration": 0,
    "start_time": "2022-05-21T23:15:56.585Z"
   },
   {
    "duration": 0,
    "start_time": "2022-05-21T23:15:56.586Z"
   },
   {
    "duration": 0,
    "start_time": "2022-05-21T23:15:56.587Z"
   },
   {
    "duration": 0,
    "start_time": "2022-05-21T23:15:56.588Z"
   },
   {
    "duration": 0,
    "start_time": "2022-05-21T23:15:56.589Z"
   },
   {
    "duration": 0,
    "start_time": "2022-05-21T23:15:56.589Z"
   },
   {
    "duration": 0,
    "start_time": "2022-05-21T23:15:56.590Z"
   },
   {
    "duration": 0,
    "start_time": "2022-05-21T23:15:56.591Z"
   },
   {
    "duration": 0,
    "start_time": "2022-05-21T23:15:56.592Z"
   },
   {
    "duration": 0,
    "start_time": "2022-05-21T23:15:56.593Z"
   },
   {
    "duration": 0,
    "start_time": "2022-05-21T23:15:56.594Z"
   },
   {
    "duration": 0,
    "start_time": "2022-05-21T23:15:56.595Z"
   },
   {
    "duration": 0,
    "start_time": "2022-05-21T23:15:56.596Z"
   },
   {
    "duration": 0,
    "start_time": "2022-05-21T23:15:56.597Z"
   },
   {
    "duration": 0,
    "start_time": "2022-05-21T23:15:56.598Z"
   },
   {
    "duration": 0,
    "start_time": "2022-05-21T23:15:56.599Z"
   },
   {
    "duration": 0,
    "start_time": "2022-05-21T23:15:56.600Z"
   },
   {
    "duration": 0,
    "start_time": "2022-05-21T23:15:56.601Z"
   },
   {
    "duration": 0,
    "start_time": "2022-05-21T23:15:56.601Z"
   },
   {
    "duration": 0,
    "start_time": "2022-05-21T23:15:56.602Z"
   },
   {
    "duration": 0,
    "start_time": "2022-05-21T23:15:56.603Z"
   },
   {
    "duration": 0,
    "start_time": "2022-05-21T23:15:56.604Z"
   },
   {
    "duration": 0,
    "start_time": "2022-05-21T23:15:56.605Z"
   },
   {
    "duration": 0,
    "start_time": "2022-05-21T23:15:56.606Z"
   },
   {
    "duration": 0,
    "start_time": "2022-05-21T23:15:56.607Z"
   },
   {
    "duration": 0,
    "start_time": "2022-05-21T23:15:56.608Z"
   },
   {
    "duration": 322,
    "start_time": "2022-05-21T23:16:15.748Z"
   },
   {
    "duration": 3,
    "start_time": "2022-05-21T23:16:21.692Z"
   },
   {
    "duration": 64,
    "start_time": "2022-05-21T23:16:21.700Z"
   },
   {
    "duration": 12,
    "start_time": "2022-05-21T23:16:21.766Z"
   },
   {
    "duration": 16,
    "start_time": "2022-05-21T23:16:21.780Z"
   },
   {
    "duration": 10,
    "start_time": "2022-05-21T23:16:21.812Z"
   },
   {
    "duration": 9,
    "start_time": "2022-05-21T23:16:21.824Z"
   },
   {
    "duration": 12,
    "start_time": "2022-05-21T23:16:21.835Z"
   },
   {
    "duration": 11,
    "start_time": "2022-05-21T23:16:21.849Z"
   },
   {
    "duration": 8,
    "start_time": "2022-05-21T23:16:21.861Z"
   },
   {
    "duration": 28,
    "start_time": "2022-05-21T23:16:21.871Z"
   },
   {
    "duration": 12,
    "start_time": "2022-05-21T23:16:21.900Z"
   },
   {
    "duration": 8,
    "start_time": "2022-05-21T23:16:21.913Z"
   },
   {
    "duration": 33,
    "start_time": "2022-05-21T23:16:21.923Z"
   },
   {
    "duration": 16,
    "start_time": "2022-05-21T23:16:21.958Z"
   },
   {
    "duration": 372,
    "start_time": "2022-05-21T23:16:21.977Z"
   },
   {
    "duration": 0,
    "start_time": "2022-05-21T23:16:22.351Z"
   },
   {
    "duration": 0,
    "start_time": "2022-05-21T23:16:22.352Z"
   },
   {
    "duration": 0,
    "start_time": "2022-05-21T23:16:22.353Z"
   },
   {
    "duration": 0,
    "start_time": "2022-05-21T23:16:22.354Z"
   },
   {
    "duration": 0,
    "start_time": "2022-05-21T23:16:22.354Z"
   },
   {
    "duration": 0,
    "start_time": "2022-05-21T23:16:22.355Z"
   },
   {
    "duration": 0,
    "start_time": "2022-05-21T23:16:22.357Z"
   },
   {
    "duration": 0,
    "start_time": "2022-05-21T23:16:22.358Z"
   },
   {
    "duration": 0,
    "start_time": "2022-05-21T23:16:22.358Z"
   },
   {
    "duration": 0,
    "start_time": "2022-05-21T23:16:22.359Z"
   },
   {
    "duration": 0,
    "start_time": "2022-05-21T23:16:22.360Z"
   },
   {
    "duration": 0,
    "start_time": "2022-05-21T23:16:22.361Z"
   },
   {
    "duration": 0,
    "start_time": "2022-05-21T23:16:22.362Z"
   },
   {
    "duration": 0,
    "start_time": "2022-05-21T23:16:22.363Z"
   },
   {
    "duration": 0,
    "start_time": "2022-05-21T23:16:22.363Z"
   },
   {
    "duration": 0,
    "start_time": "2022-05-21T23:16:22.365Z"
   },
   {
    "duration": 0,
    "start_time": "2022-05-21T23:16:22.366Z"
   },
   {
    "duration": 0,
    "start_time": "2022-05-21T23:16:22.367Z"
   },
   {
    "duration": 0,
    "start_time": "2022-05-21T23:16:22.367Z"
   },
   {
    "duration": 0,
    "start_time": "2022-05-21T23:16:22.368Z"
   },
   {
    "duration": 0,
    "start_time": "2022-05-21T23:16:22.369Z"
   },
   {
    "duration": 0,
    "start_time": "2022-05-21T23:16:22.370Z"
   },
   {
    "duration": 0,
    "start_time": "2022-05-21T23:16:22.371Z"
   },
   {
    "duration": 0,
    "start_time": "2022-05-21T23:16:22.372Z"
   },
   {
    "duration": 0,
    "start_time": "2022-05-21T23:16:22.373Z"
   },
   {
    "duration": 0,
    "start_time": "2022-05-21T23:16:22.374Z"
   },
   {
    "duration": 0,
    "start_time": "2022-05-21T23:16:22.375Z"
   },
   {
    "duration": 0,
    "start_time": "2022-05-21T23:16:22.376Z"
   },
   {
    "duration": 0,
    "start_time": "2022-05-21T23:16:22.377Z"
   },
   {
    "duration": 0,
    "start_time": "2022-05-21T23:16:22.378Z"
   },
   {
    "duration": 0,
    "start_time": "2022-05-21T23:16:22.378Z"
   },
   {
    "duration": 0,
    "start_time": "2022-05-21T23:16:22.380Z"
   },
   {
    "duration": 0,
    "start_time": "2022-05-21T23:16:22.380Z"
   },
   {
    "duration": 0,
    "start_time": "2022-05-21T23:16:22.381Z"
   },
   {
    "duration": 0,
    "start_time": "2022-05-21T23:16:22.383Z"
   },
   {
    "duration": 0,
    "start_time": "2022-05-21T23:16:22.383Z"
   },
   {
    "duration": 0,
    "start_time": "2022-05-21T23:16:22.384Z"
   },
   {
    "duration": 0,
    "start_time": "2022-05-21T23:16:22.385Z"
   },
   {
    "duration": 0,
    "start_time": "2022-05-21T23:16:22.386Z"
   },
   {
    "duration": 0,
    "start_time": "2022-05-21T23:16:22.387Z"
   },
   {
    "duration": 3,
    "start_time": "2022-05-21T23:17:29.060Z"
   },
   {
    "duration": 99,
    "start_time": "2022-05-21T23:17:29.065Z"
   },
   {
    "duration": 14,
    "start_time": "2022-05-21T23:17:29.166Z"
   },
   {
    "duration": 37,
    "start_time": "2022-05-21T23:17:29.181Z"
   },
   {
    "duration": 10,
    "start_time": "2022-05-21T23:17:29.220Z"
   },
   {
    "duration": 12,
    "start_time": "2022-05-21T23:17:29.231Z"
   },
   {
    "duration": 5,
    "start_time": "2022-05-21T23:17:29.244Z"
   },
   {
    "duration": 3,
    "start_time": "2022-05-21T23:17:29.251Z"
   },
   {
    "duration": 5,
    "start_time": "2022-05-21T23:17:29.256Z"
   },
   {
    "duration": 52,
    "start_time": "2022-05-21T23:17:29.262Z"
   },
   {
    "duration": 9,
    "start_time": "2022-05-21T23:17:29.317Z"
   },
   {
    "duration": 25,
    "start_time": "2022-05-21T23:17:29.328Z"
   },
   {
    "duration": 66,
    "start_time": "2022-05-21T23:17:29.355Z"
   },
   {
    "duration": 6,
    "start_time": "2022-05-21T23:17:29.423Z"
   },
   {
    "duration": 8,
    "start_time": "2022-05-21T23:17:29.430Z"
   },
   {
    "duration": 21,
    "start_time": "2022-05-21T23:17:29.439Z"
   },
   {
    "duration": 54,
    "start_time": "2022-05-21T23:17:29.462Z"
   },
   {
    "duration": 5,
    "start_time": "2022-05-21T23:17:29.518Z"
   },
   {
    "duration": 13,
    "start_time": "2022-05-21T23:17:29.525Z"
   },
   {
    "duration": 8,
    "start_time": "2022-05-21T23:17:29.540Z"
   },
   {
    "duration": 6,
    "start_time": "2022-05-21T23:17:29.550Z"
   },
   {
    "duration": 8,
    "start_time": "2022-05-21T23:17:29.558Z"
   },
   {
    "duration": 48,
    "start_time": "2022-05-21T23:17:29.567Z"
   },
   {
    "duration": 9,
    "start_time": "2022-05-21T23:17:29.617Z"
   },
   {
    "duration": 9,
    "start_time": "2022-05-21T23:17:29.628Z"
   },
   {
    "duration": 10,
    "start_time": "2022-05-21T23:17:29.639Z"
   },
   {
    "duration": 5,
    "start_time": "2022-05-21T23:17:29.651Z"
   },
   {
    "duration": 63,
    "start_time": "2022-05-21T23:17:29.658Z"
   },
   {
    "duration": 18,
    "start_time": "2022-05-21T23:17:29.724Z"
   },
   {
    "duration": 16,
    "start_time": "2022-05-21T23:17:29.744Z"
   },
   {
    "duration": 110,
    "start_time": "2022-05-21T23:17:29.762Z"
   },
   {
    "duration": 43,
    "start_time": "2022-05-21T23:17:29.874Z"
   },
   {
    "duration": 16,
    "start_time": "2022-05-21T23:17:29.919Z"
   },
   {
    "duration": 16,
    "start_time": "2022-05-21T23:17:29.936Z"
   },
   {
    "duration": 16,
    "start_time": "2022-05-21T23:17:29.954Z"
   },
   {
    "duration": 47,
    "start_time": "2022-05-21T23:17:29.971Z"
   },
   {
    "duration": 10,
    "start_time": "2022-05-21T23:17:30.020Z"
   },
   {
    "duration": 12,
    "start_time": "2022-05-21T23:17:30.032Z"
   },
   {
    "duration": 17,
    "start_time": "2022-05-21T23:17:30.046Z"
   },
   {
    "duration": 14,
    "start_time": "2022-05-21T23:17:30.065Z"
   },
   {
    "duration": 17,
    "start_time": "2022-05-21T23:17:30.111Z"
   },
   {
    "duration": 14,
    "start_time": "2022-05-21T23:17:30.130Z"
   },
   {
    "duration": 151,
    "start_time": "2022-05-21T23:17:30.146Z"
   },
   {
    "duration": 16,
    "start_time": "2022-05-21T23:17:30.299Z"
   },
   {
    "duration": 7,
    "start_time": "2022-05-21T23:17:30.317Z"
   },
   {
    "duration": 9,
    "start_time": "2022-05-21T23:17:30.325Z"
   },
   {
    "duration": 13,
    "start_time": "2022-05-21T23:17:30.335Z"
   },
   {
    "duration": 24,
    "start_time": "2022-05-21T23:17:30.350Z"
   },
   {
    "duration": 40,
    "start_time": "2022-05-21T23:17:30.376Z"
   },
   {
    "duration": 296,
    "start_time": "2022-05-21T23:17:30.418Z"
   },
   {
    "duration": 14,
    "start_time": "2022-05-21T23:17:30.715Z"
   },
   {
    "duration": 149,
    "start_time": "2022-05-21T23:17:30.731Z"
   },
   {
    "duration": 15,
    "start_time": "2022-05-21T23:17:30.912Z"
   },
   {
    "duration": 289,
    "start_time": "2022-05-21T23:17:30.929Z"
   },
   {
    "duration": 4,
    "start_time": "2022-05-21T23:22:13.508Z"
   },
   {
    "duration": 91,
    "start_time": "2022-05-21T23:22:13.514Z"
   },
   {
    "duration": 15,
    "start_time": "2022-05-21T23:22:13.607Z"
   },
   {
    "duration": 17,
    "start_time": "2022-05-21T23:22:13.623Z"
   },
   {
    "duration": 9,
    "start_time": "2022-05-21T23:22:13.643Z"
   },
   {
    "duration": 13,
    "start_time": "2022-05-21T23:22:13.653Z"
   },
   {
    "duration": 46,
    "start_time": "2022-05-21T23:22:13.668Z"
   },
   {
    "duration": 6,
    "start_time": "2022-05-21T23:22:13.716Z"
   },
   {
    "duration": 5,
    "start_time": "2022-05-21T23:22:13.724Z"
   },
   {
    "duration": 16,
    "start_time": "2022-05-21T23:22:13.730Z"
   },
   {
    "duration": 9,
    "start_time": "2022-05-21T23:22:13.750Z"
   },
   {
    "duration": 77,
    "start_time": "2022-05-21T23:22:13.761Z"
   },
   {
    "duration": 28,
    "start_time": "2022-05-21T23:22:13.840Z"
   },
   {
    "duration": 6,
    "start_time": "2022-05-21T23:22:13.869Z"
   },
   {
    "duration": 43,
    "start_time": "2022-05-21T23:22:13.877Z"
   },
   {
    "duration": 20,
    "start_time": "2022-05-21T23:22:13.922Z"
   },
   {
    "duration": 13,
    "start_time": "2022-05-21T23:22:13.944Z"
   },
   {
    "duration": 4,
    "start_time": "2022-05-21T23:22:13.958Z"
   },
   {
    "duration": 52,
    "start_time": "2022-05-21T23:22:13.964Z"
   },
   {
    "duration": 7,
    "start_time": "2022-05-21T23:22:14.018Z"
   },
   {
    "duration": 5,
    "start_time": "2022-05-21T23:22:14.027Z"
   },
   {
    "duration": 6,
    "start_time": "2022-05-21T23:22:14.033Z"
   },
   {
    "duration": 12,
    "start_time": "2022-05-21T23:22:14.041Z"
   },
   {
    "duration": 8,
    "start_time": "2022-05-21T23:22:14.055Z"
   },
   {
    "duration": 51,
    "start_time": "2022-05-21T23:22:14.065Z"
   },
   {
    "duration": 11,
    "start_time": "2022-05-21T23:22:14.118Z"
   },
   {
    "duration": 8,
    "start_time": "2022-05-21T23:22:14.131Z"
   },
   {
    "duration": 25,
    "start_time": "2022-05-21T23:22:14.142Z"
   },
   {
    "duration": 59,
    "start_time": "2022-05-21T23:22:14.172Z"
   },
   {
    "duration": 17,
    "start_time": "2022-05-21T23:22:14.233Z"
   },
   {
    "duration": 99,
    "start_time": "2022-05-21T23:22:14.252Z"
   },
   {
    "duration": 33,
    "start_time": "2022-05-21T23:22:14.353Z"
   },
   {
    "duration": 41,
    "start_time": "2022-05-21T23:22:14.389Z"
   },
   {
    "duration": 25,
    "start_time": "2022-05-21T23:22:14.432Z"
   },
   {
    "duration": 18,
    "start_time": "2022-05-21T23:22:14.458Z"
   },
   {
    "duration": 42,
    "start_time": "2022-05-21T23:22:14.477Z"
   },
   {
    "duration": 13,
    "start_time": "2022-05-21T23:22:14.521Z"
   },
   {
    "duration": 16,
    "start_time": "2022-05-21T23:22:14.535Z"
   },
   {
    "duration": 19,
    "start_time": "2022-05-21T23:22:14.553Z"
   },
   {
    "duration": 6,
    "start_time": "2022-05-21T23:22:14.574Z"
   },
   {
    "duration": 16,
    "start_time": "2022-05-21T23:22:14.612Z"
   },
   {
    "duration": 13,
    "start_time": "2022-05-21T23:22:14.629Z"
   },
   {
    "duration": 158,
    "start_time": "2022-05-21T23:22:14.645Z"
   },
   {
    "duration": 6,
    "start_time": "2022-05-21T23:22:14.812Z"
   },
   {
    "duration": 12,
    "start_time": "2022-05-21T23:22:14.821Z"
   },
   {
    "duration": 13,
    "start_time": "2022-05-21T23:22:14.835Z"
   },
   {
    "duration": 8,
    "start_time": "2022-05-21T23:22:14.850Z"
   },
   {
    "duration": 31,
    "start_time": "2022-05-21T23:22:14.860Z"
   },
   {
    "duration": 21,
    "start_time": "2022-05-21T23:22:14.913Z"
   },
   {
    "duration": 198,
    "start_time": "2022-05-21T23:22:14.936Z"
   },
   {
    "duration": 16,
    "start_time": "2022-05-21T23:22:15.136Z"
   },
   {
    "duration": 143,
    "start_time": "2022-05-21T23:22:15.153Z"
   },
   {
    "duration": 26,
    "start_time": "2022-05-21T23:22:15.298Z"
   },
   {
    "duration": 158,
    "start_time": "2022-05-21T23:22:15.326Z"
   },
   {
    "duration": 2,
    "start_time": "2022-05-21T23:25:32.084Z"
   },
   {
    "duration": 71,
    "start_time": "2022-05-21T23:25:32.091Z"
   },
   {
    "duration": 14,
    "start_time": "2022-05-21T23:25:32.164Z"
   },
   {
    "duration": 42,
    "start_time": "2022-05-21T23:25:32.180Z"
   },
   {
    "duration": 9,
    "start_time": "2022-05-21T23:25:32.224Z"
   },
   {
    "duration": 9,
    "start_time": "2022-05-21T23:25:32.234Z"
   },
   {
    "duration": 6,
    "start_time": "2022-05-21T23:25:32.245Z"
   },
   {
    "duration": 5,
    "start_time": "2022-05-21T23:25:32.252Z"
   },
   {
    "duration": 4,
    "start_time": "2022-05-21T23:25:32.259Z"
   },
   {
    "duration": 60,
    "start_time": "2022-05-21T23:25:32.264Z"
   },
   {
    "duration": 8,
    "start_time": "2022-05-21T23:25:32.325Z"
   },
   {
    "duration": 28,
    "start_time": "2022-05-21T23:25:32.335Z"
   },
   {
    "duration": 6,
    "start_time": "2022-05-21T23:25:32.364Z"
   },
   {
    "duration": 48,
    "start_time": "2022-05-21T23:25:32.371Z"
   },
   {
    "duration": 15,
    "start_time": "2022-05-21T23:25:32.422Z"
   },
   {
    "duration": 11,
    "start_time": "2022-05-21T23:25:32.439Z"
   },
   {
    "duration": 6,
    "start_time": "2022-05-21T23:25:32.452Z"
   },
   {
    "duration": 52,
    "start_time": "2022-05-21T23:25:32.460Z"
   },
   {
    "duration": 9,
    "start_time": "2022-05-21T23:25:32.514Z"
   },
   {
    "duration": 7,
    "start_time": "2022-05-21T23:25:32.525Z"
   },
   {
    "duration": 7,
    "start_time": "2022-05-21T23:25:32.534Z"
   },
   {
    "duration": 6,
    "start_time": "2022-05-21T23:25:32.543Z"
   },
   {
    "duration": 9,
    "start_time": "2022-05-21T23:25:32.550Z"
   },
   {
    "duration": 54,
    "start_time": "2022-05-21T23:25:32.561Z"
   },
   {
    "duration": 11,
    "start_time": "2022-05-21T23:25:32.617Z"
   },
   {
    "duration": 5,
    "start_time": "2022-05-21T23:25:32.630Z"
   },
   {
    "duration": 17,
    "start_time": "2022-05-21T23:25:32.637Z"
   },
   {
    "duration": 63,
    "start_time": "2022-05-21T23:25:32.656Z"
   },
   {
    "duration": 18,
    "start_time": "2022-05-21T23:25:32.720Z"
   },
   {
    "duration": 88,
    "start_time": "2022-05-21T23:25:32.740Z"
   },
   {
    "duration": 27,
    "start_time": "2022-05-21T23:25:32.830Z"
   },
   {
    "duration": 17,
    "start_time": "2022-05-21T23:25:32.859Z"
   },
   {
    "duration": 44,
    "start_time": "2022-05-21T23:25:32.878Z"
   },
   {
    "duration": 17,
    "start_time": "2022-05-21T23:25:32.924Z"
   },
   {
    "duration": 10,
    "start_time": "2022-05-21T23:25:32.942Z"
   },
   {
    "duration": 9,
    "start_time": "2022-05-21T23:25:32.954Z"
   },
   {
    "duration": 6,
    "start_time": "2022-05-21T23:25:32.965Z"
   },
   {
    "duration": 47,
    "start_time": "2022-05-21T23:25:32.973Z"
   },
   {
    "duration": 5,
    "start_time": "2022-05-21T23:25:33.022Z"
   },
   {
    "duration": 16,
    "start_time": "2022-05-21T23:25:33.028Z"
   },
   {
    "duration": 14,
    "start_time": "2022-05-21T23:25:33.046Z"
   },
   {
    "duration": 175,
    "start_time": "2022-05-21T23:25:33.065Z"
   },
   {
    "duration": 6,
    "start_time": "2022-05-21T23:25:33.242Z"
   },
   {
    "duration": 7,
    "start_time": "2022-05-21T23:25:33.250Z"
   },
   {
    "duration": 7,
    "start_time": "2022-05-21T23:25:33.259Z"
   },
   {
    "duration": 12,
    "start_time": "2022-05-21T23:25:33.267Z"
   },
   {
    "duration": 43,
    "start_time": "2022-05-21T23:25:33.281Z"
   },
   {
    "duration": 15,
    "start_time": "2022-05-21T23:25:33.326Z"
   },
   {
    "duration": 153,
    "start_time": "2022-05-21T23:25:33.342Z"
   },
   {
    "duration": 22,
    "start_time": "2022-05-21T23:25:33.496Z"
   },
   {
    "duration": 120,
    "start_time": "2022-05-21T23:25:33.519Z"
   },
   {
    "duration": 14,
    "start_time": "2022-05-21T23:25:33.641Z"
   },
   {
    "duration": 148,
    "start_time": "2022-05-21T23:25:33.656Z"
   },
   {
    "duration": 9,
    "start_time": "2022-05-21T23:33:01.895Z"
   },
   {
    "duration": 7,
    "start_time": "2022-05-21T23:33:50.835Z"
   },
   {
    "duration": 6,
    "start_time": "2022-05-21T23:33:55.795Z"
   },
   {
    "duration": 6,
    "start_time": "2022-05-21T23:34:29.599Z"
   },
   {
    "duration": 11,
    "start_time": "2022-05-21T23:35:22.811Z"
   },
   {
    "duration": 11,
    "start_time": "2022-05-21T23:35:29.938Z"
   },
   {
    "duration": 19,
    "start_time": "2022-05-21T23:35:46.051Z"
   },
   {
    "duration": 3,
    "start_time": "2022-05-21T23:35:51.107Z"
   },
   {
    "duration": 71,
    "start_time": "2022-05-21T23:35:51.112Z"
   },
   {
    "duration": 13,
    "start_time": "2022-05-21T23:35:51.185Z"
   },
   {
    "duration": 19,
    "start_time": "2022-05-21T23:35:51.200Z"
   },
   {
    "duration": 10,
    "start_time": "2022-05-21T23:35:51.221Z"
   },
   {
    "duration": 9,
    "start_time": "2022-05-21T23:35:51.233Z"
   },
   {
    "duration": 5,
    "start_time": "2022-05-21T23:35:51.244Z"
   },
   {
    "duration": 7,
    "start_time": "2022-05-21T23:35:51.250Z"
   },
   {
    "duration": 58,
    "start_time": "2022-05-21T23:35:51.258Z"
   },
   {
    "duration": 14,
    "start_time": "2022-05-21T23:35:51.318Z"
   },
   {
    "duration": 7,
    "start_time": "2022-05-21T23:35:51.334Z"
   },
   {
    "duration": 16,
    "start_time": "2022-05-21T23:35:51.342Z"
   },
   {
    "duration": 86,
    "start_time": "2022-05-21T23:35:51.360Z"
   },
   {
    "duration": 7,
    "start_time": "2022-05-21T23:35:51.448Z"
   },
   {
    "duration": 31,
    "start_time": "2022-05-21T23:35:51.457Z"
   },
   {
    "duration": 38,
    "start_time": "2022-05-21T23:35:51.489Z"
   },
   {
    "duration": 15,
    "start_time": "2022-05-21T23:35:51.529Z"
   },
   {
    "duration": 12,
    "start_time": "2022-05-21T23:35:51.546Z"
   },
   {
    "duration": 19,
    "start_time": "2022-05-21T23:35:51.561Z"
   },
   {
    "duration": 30,
    "start_time": "2022-05-21T23:35:51.582Z"
   },
   {
    "duration": 6,
    "start_time": "2022-05-21T23:35:51.614Z"
   },
   {
    "duration": 6,
    "start_time": "2022-05-21T23:35:51.622Z"
   },
   {
    "duration": 5,
    "start_time": "2022-05-21T23:35:51.630Z"
   },
   {
    "duration": 9,
    "start_time": "2022-05-21T23:35:51.637Z"
   },
   {
    "duration": 6,
    "start_time": "2022-05-21T23:35:51.648Z"
   },
   {
    "duration": 10,
    "start_time": "2022-05-21T23:35:51.655Z"
   },
   {
    "duration": 50,
    "start_time": "2022-05-21T23:35:51.667Z"
   },
   {
    "duration": 17,
    "start_time": "2022-05-21T23:35:51.719Z"
   },
   {
    "duration": 16,
    "start_time": "2022-05-21T23:35:51.740Z"
   },
   {
    "duration": 14,
    "start_time": "2022-05-21T23:35:51.758Z"
   },
   {
    "duration": 99,
    "start_time": "2022-05-21T23:35:51.773Z"
   },
   {
    "duration": 40,
    "start_time": "2022-05-21T23:35:51.874Z"
   },
   {
    "duration": 17,
    "start_time": "2022-05-21T23:35:51.916Z"
   },
   {
    "duration": 17,
    "start_time": "2022-05-21T23:35:51.935Z"
   },
   {
    "duration": 16,
    "start_time": "2022-05-21T23:35:51.954Z"
   },
   {
    "duration": 43,
    "start_time": "2022-05-21T23:35:51.972Z"
   },
   {
    "duration": 12,
    "start_time": "2022-05-21T23:35:52.017Z"
   },
   {
    "duration": 7,
    "start_time": "2022-05-21T23:35:52.031Z"
   },
   {
    "duration": 17,
    "start_time": "2022-05-21T23:35:52.040Z"
   },
   {
    "duration": 5,
    "start_time": "2022-05-21T23:35:52.058Z"
   },
   {
    "duration": 55,
    "start_time": "2022-05-21T23:35:52.065Z"
   },
   {
    "duration": 12,
    "start_time": "2022-05-21T23:35:52.122Z"
   },
   {
    "duration": 159,
    "start_time": "2022-05-21T23:35:52.136Z"
   },
   {
    "duration": 5,
    "start_time": "2022-05-21T23:35:52.297Z"
   },
   {
    "duration": 15,
    "start_time": "2022-05-21T23:35:52.303Z"
   },
   {
    "duration": 14,
    "start_time": "2022-05-21T23:35:52.322Z"
   },
   {
    "duration": 12,
    "start_time": "2022-05-21T23:35:52.337Z"
   },
   {
    "duration": 23,
    "start_time": "2022-05-21T23:35:52.350Z"
   },
   {
    "duration": 15,
    "start_time": "2022-05-21T23:35:52.374Z"
   },
   {
    "duration": 160,
    "start_time": "2022-05-21T23:35:52.390Z"
   },
   {
    "duration": 13,
    "start_time": "2022-05-21T23:35:52.552Z"
   },
   {
    "duration": 148,
    "start_time": "2022-05-21T23:35:52.566Z"
   },
   {
    "duration": 19,
    "start_time": "2022-05-21T23:35:52.716Z"
   },
   {
    "duration": 154,
    "start_time": "2022-05-21T23:35:52.737Z"
   },
   {
    "duration": 3,
    "start_time": "2022-05-21T23:36:22.187Z"
   },
   {
    "duration": 70,
    "start_time": "2022-05-21T23:36:22.195Z"
   },
   {
    "duration": 12,
    "start_time": "2022-05-21T23:36:22.267Z"
   },
   {
    "duration": 33,
    "start_time": "2022-05-21T23:36:22.281Z"
   },
   {
    "duration": 9,
    "start_time": "2022-05-21T23:36:22.316Z"
   },
   {
    "duration": 9,
    "start_time": "2022-05-21T23:36:22.327Z"
   },
   {
    "duration": 5,
    "start_time": "2022-05-21T23:36:22.337Z"
   },
   {
    "duration": 3,
    "start_time": "2022-05-21T23:36:22.343Z"
   },
   {
    "duration": 5,
    "start_time": "2022-05-21T23:36:22.347Z"
   },
   {
    "duration": 6,
    "start_time": "2022-05-21T23:36:22.354Z"
   },
   {
    "duration": 53,
    "start_time": "2022-05-21T23:36:22.361Z"
   },
   {
    "duration": 17,
    "start_time": "2022-05-21T23:36:22.416Z"
   },
   {
    "duration": 29,
    "start_time": "2022-05-21T23:36:22.434Z"
   },
   {
    "duration": 5,
    "start_time": "2022-05-21T23:36:22.464Z"
   },
   {
    "duration": 43,
    "start_time": "2022-05-21T23:36:22.472Z"
   },
   {
    "duration": 16,
    "start_time": "2022-05-21T23:36:22.516Z"
   },
   {
    "duration": 12,
    "start_time": "2022-05-21T23:36:22.534Z"
   },
   {
    "duration": 4,
    "start_time": "2022-05-21T23:36:22.547Z"
   },
   {
    "duration": 15,
    "start_time": "2022-05-21T23:36:22.552Z"
   },
   {
    "duration": 47,
    "start_time": "2022-05-21T23:36:22.568Z"
   },
   {
    "duration": 5,
    "start_time": "2022-05-21T23:36:22.617Z"
   },
   {
    "duration": 6,
    "start_time": "2022-05-21T23:36:22.624Z"
   },
   {
    "duration": 6,
    "start_time": "2022-05-21T23:36:22.631Z"
   },
   {
    "duration": 6,
    "start_time": "2022-05-21T23:36:22.638Z"
   },
   {
    "duration": 5,
    "start_time": "2022-05-21T23:36:22.646Z"
   },
   {
    "duration": 11,
    "start_time": "2022-05-21T23:36:22.652Z"
   },
   {
    "duration": 53,
    "start_time": "2022-05-21T23:36:22.665Z"
   },
   {
    "duration": 0,
    "start_time": "2022-05-21T23:36:22.720Z"
   },
   {
    "duration": 0,
    "start_time": "2022-05-21T23:36:22.722Z"
   },
   {
    "duration": 0,
    "start_time": "2022-05-21T23:36:22.723Z"
   },
   {
    "duration": 0,
    "start_time": "2022-05-21T23:36:22.724Z"
   },
   {
    "duration": 0,
    "start_time": "2022-05-21T23:36:22.725Z"
   },
   {
    "duration": 0,
    "start_time": "2022-05-21T23:36:22.726Z"
   },
   {
    "duration": 0,
    "start_time": "2022-05-21T23:36:22.728Z"
   },
   {
    "duration": 0,
    "start_time": "2022-05-21T23:36:22.730Z"
   },
   {
    "duration": 0,
    "start_time": "2022-05-21T23:36:22.731Z"
   },
   {
    "duration": 0,
    "start_time": "2022-05-21T23:36:22.732Z"
   },
   {
    "duration": 0,
    "start_time": "2022-05-21T23:36:22.733Z"
   },
   {
    "duration": 0,
    "start_time": "2022-05-21T23:36:22.734Z"
   },
   {
    "duration": 0,
    "start_time": "2022-05-21T23:36:22.735Z"
   },
   {
    "duration": 0,
    "start_time": "2022-05-21T23:36:22.736Z"
   },
   {
    "duration": 0,
    "start_time": "2022-05-21T23:36:22.737Z"
   },
   {
    "duration": 0,
    "start_time": "2022-05-21T23:36:22.738Z"
   },
   {
    "duration": 0,
    "start_time": "2022-05-21T23:36:22.740Z"
   },
   {
    "duration": 0,
    "start_time": "2022-05-21T23:36:22.741Z"
   },
   {
    "duration": 0,
    "start_time": "2022-05-21T23:36:22.742Z"
   },
   {
    "duration": 0,
    "start_time": "2022-05-21T23:36:22.743Z"
   },
   {
    "duration": 0,
    "start_time": "2022-05-21T23:36:22.744Z"
   },
   {
    "duration": 0,
    "start_time": "2022-05-21T23:36:22.745Z"
   },
   {
    "duration": 0,
    "start_time": "2022-05-21T23:36:22.746Z"
   },
   {
    "duration": 0,
    "start_time": "2022-05-21T23:36:22.747Z"
   },
   {
    "duration": 0,
    "start_time": "2022-05-21T23:36:22.748Z"
   },
   {
    "duration": 0,
    "start_time": "2022-05-21T23:36:22.748Z"
   },
   {
    "duration": 0,
    "start_time": "2022-05-21T23:36:22.749Z"
   },
   {
    "duration": 45,
    "start_time": "2022-05-21T23:39:49.283Z"
   },
   {
    "duration": 3,
    "start_time": "2022-05-21T23:39:52.607Z"
   },
   {
    "duration": 77,
    "start_time": "2022-05-21T23:39:52.611Z"
   },
   {
    "duration": 12,
    "start_time": "2022-05-21T23:39:52.690Z"
   },
   {
    "duration": 19,
    "start_time": "2022-05-21T23:39:52.704Z"
   },
   {
    "duration": 15,
    "start_time": "2022-05-21T23:39:52.725Z"
   },
   {
    "duration": 23,
    "start_time": "2022-05-21T23:39:52.741Z"
   },
   {
    "duration": 30,
    "start_time": "2022-05-21T23:39:52.766Z"
   },
   {
    "duration": 10,
    "start_time": "2022-05-21T23:39:52.797Z"
   },
   {
    "duration": 18,
    "start_time": "2022-05-21T23:39:52.809Z"
   },
   {
    "duration": 8,
    "start_time": "2022-05-21T23:39:52.828Z"
   },
   {
    "duration": 35,
    "start_time": "2022-05-21T23:39:52.838Z"
   },
   {
    "duration": 63,
    "start_time": "2022-05-21T23:39:52.874Z"
   },
   {
    "duration": 26,
    "start_time": "2022-05-21T23:39:52.939Z"
   },
   {
    "duration": 4,
    "start_time": "2022-05-21T23:39:52.967Z"
   },
   {
    "duration": 37,
    "start_time": "2022-05-21T23:39:52.973Z"
   },
   {
    "duration": 24,
    "start_time": "2022-05-21T23:39:53.011Z"
   },
   {
    "duration": 18,
    "start_time": "2022-05-21T23:39:53.037Z"
   },
   {
    "duration": 9,
    "start_time": "2022-05-21T23:39:53.056Z"
   },
   {
    "duration": 26,
    "start_time": "2022-05-21T23:39:53.066Z"
   },
   {
    "duration": 20,
    "start_time": "2022-05-21T23:39:53.093Z"
   },
   {
    "duration": 6,
    "start_time": "2022-05-21T23:39:53.114Z"
   },
   {
    "duration": 20,
    "start_time": "2022-05-21T23:39:53.122Z"
   },
   {
    "duration": 14,
    "start_time": "2022-05-21T23:39:53.143Z"
   },
   {
    "duration": 26,
    "start_time": "2022-05-21T23:39:53.158Z"
   },
   {
    "duration": 14,
    "start_time": "2022-05-21T23:39:53.186Z"
   },
   {
    "duration": 25,
    "start_time": "2022-05-21T23:39:53.201Z"
   },
   {
    "duration": 30,
    "start_time": "2022-05-21T23:39:53.227Z"
   },
   {
    "duration": 32,
    "start_time": "2022-05-21T23:39:53.259Z"
   },
   {
    "duration": 19,
    "start_time": "2022-05-21T23:39:53.294Z"
   },
   {
    "duration": 16,
    "start_time": "2022-05-21T23:39:53.314Z"
   },
   {
    "duration": 80,
    "start_time": "2022-05-21T23:39:53.332Z"
   },
   {
    "duration": 26,
    "start_time": "2022-05-21T23:39:53.413Z"
   },
   {
    "duration": 33,
    "start_time": "2022-05-21T23:39:53.441Z"
   },
   {
    "duration": 21,
    "start_time": "2022-05-21T23:39:53.475Z"
   },
   {
    "duration": 28,
    "start_time": "2022-05-21T23:39:53.498Z"
   },
   {
    "duration": 12,
    "start_time": "2022-05-21T23:39:53.528Z"
   },
   {
    "duration": 25,
    "start_time": "2022-05-21T23:39:53.542Z"
   },
   {
    "duration": 14,
    "start_time": "2022-05-21T23:39:53.569Z"
   },
   {
    "duration": 34,
    "start_time": "2022-05-21T23:39:53.584Z"
   },
   {
    "duration": 30,
    "start_time": "2022-05-21T23:39:53.619Z"
   },
   {
    "duration": 23,
    "start_time": "2022-05-21T23:39:53.650Z"
   },
   {
    "duration": 31,
    "start_time": "2022-05-21T23:39:53.674Z"
   },
   {
    "duration": 148,
    "start_time": "2022-05-21T23:39:53.707Z"
   },
   {
    "duration": 6,
    "start_time": "2022-05-21T23:39:53.857Z"
   },
   {
    "duration": 14,
    "start_time": "2022-05-21T23:39:53.865Z"
   },
   {
    "duration": 18,
    "start_time": "2022-05-21T23:39:53.881Z"
   },
   {
    "duration": 18,
    "start_time": "2022-05-21T23:39:53.900Z"
   },
   {
    "duration": 17,
    "start_time": "2022-05-21T23:39:53.920Z"
   },
   {
    "duration": 15,
    "start_time": "2022-05-21T23:39:53.939Z"
   },
   {
    "duration": 168,
    "start_time": "2022-05-21T23:39:53.956Z"
   },
   {
    "duration": 15,
    "start_time": "2022-05-21T23:39:54.126Z"
   },
   {
    "duration": 141,
    "start_time": "2022-05-21T23:39:54.143Z"
   },
   {
    "duration": 15,
    "start_time": "2022-05-21T23:39:54.285Z"
   },
   {
    "duration": 143,
    "start_time": "2022-05-21T23:39:54.312Z"
   },
   {
    "duration": 52,
    "start_time": "2022-05-21T23:40:58.739Z"
   },
   {
    "duration": 6,
    "start_time": "2022-05-21T23:41:12.586Z"
   },
   {
    "duration": 3,
    "start_time": "2022-05-21T23:41:19.550Z"
   },
   {
    "duration": 71,
    "start_time": "2022-05-21T23:41:19.556Z"
   },
   {
    "duration": 14,
    "start_time": "2022-05-21T23:41:19.629Z"
   },
   {
    "duration": 16,
    "start_time": "2022-05-21T23:41:19.645Z"
   },
   {
    "duration": 9,
    "start_time": "2022-05-21T23:41:19.663Z"
   },
   {
    "duration": 40,
    "start_time": "2022-05-21T23:41:19.673Z"
   },
   {
    "duration": 8,
    "start_time": "2022-05-21T23:41:19.715Z"
   },
   {
    "duration": 6,
    "start_time": "2022-05-21T23:41:19.725Z"
   },
   {
    "duration": 2,
    "start_time": "2022-05-21T23:41:19.733Z"
   },
   {
    "duration": 4,
    "start_time": "2022-05-21T23:41:19.737Z"
   },
   {
    "duration": 10,
    "start_time": "2022-05-21T23:41:19.744Z"
   },
   {
    "duration": 99,
    "start_time": "2022-05-21T23:41:19.756Z"
   },
   {
    "duration": 55,
    "start_time": "2022-05-21T23:41:19.857Z"
   },
   {
    "duration": 6,
    "start_time": "2022-05-21T23:41:19.913Z"
   },
   {
    "duration": 9,
    "start_time": "2022-05-21T23:41:19.921Z"
   },
   {
    "duration": 17,
    "start_time": "2022-05-21T23:41:19.931Z"
   },
   {
    "duration": 12,
    "start_time": "2022-05-21T23:41:19.949Z"
   },
   {
    "duration": 5,
    "start_time": "2022-05-21T23:41:19.963Z"
   },
   {
    "duration": 53,
    "start_time": "2022-05-21T23:41:19.969Z"
   },
   {
    "duration": 8,
    "start_time": "2022-05-21T23:41:20.024Z"
   },
   {
    "duration": 7,
    "start_time": "2022-05-21T23:41:20.033Z"
   },
   {
    "duration": 6,
    "start_time": "2022-05-21T23:41:20.041Z"
   },
   {
    "duration": 5,
    "start_time": "2022-05-21T23:41:20.049Z"
   },
   {
    "duration": 8,
    "start_time": "2022-05-21T23:41:20.056Z"
   },
   {
    "duration": 50,
    "start_time": "2022-05-21T23:41:20.065Z"
   },
   {
    "duration": 12,
    "start_time": "2022-05-21T23:41:20.116Z"
   },
   {
    "duration": 7,
    "start_time": "2022-05-21T23:41:20.129Z"
   },
   {
    "duration": 29,
    "start_time": "2022-05-21T23:41:20.137Z"
   },
   {
    "duration": 19,
    "start_time": "2022-05-21T23:41:20.169Z"
   },
   {
    "duration": 37,
    "start_time": "2022-05-21T23:41:20.189Z"
   },
   {
    "duration": 85,
    "start_time": "2022-05-21T23:41:20.227Z"
   },
   {
    "duration": 27,
    "start_time": "2022-05-21T23:41:20.314Z"
   },
   {
    "duration": 16,
    "start_time": "2022-05-21T23:41:20.343Z"
   },
   {
    "duration": 17,
    "start_time": "2022-05-21T23:41:20.360Z"
   },
   {
    "duration": 43,
    "start_time": "2022-05-21T23:41:20.379Z"
   },
   {
    "duration": 12,
    "start_time": "2022-05-21T23:41:20.423Z"
   },
   {
    "duration": 11,
    "start_time": "2022-05-21T23:41:20.436Z"
   },
   {
    "duration": 7,
    "start_time": "2022-05-21T23:41:20.448Z"
   },
   {
    "duration": 55,
    "start_time": "2022-05-21T23:41:20.457Z"
   },
   {
    "duration": 7,
    "start_time": "2022-05-21T23:41:20.514Z"
   },
   {
    "duration": 19,
    "start_time": "2022-05-21T23:41:20.523Z"
   },
   {
    "duration": 13,
    "start_time": "2022-05-21T23:41:20.544Z"
   },
   {
    "duration": 167,
    "start_time": "2022-05-21T23:41:20.559Z"
   },
   {
    "duration": 6,
    "start_time": "2022-05-21T23:41:20.728Z"
   },
   {
    "duration": 9,
    "start_time": "2022-05-21T23:41:20.736Z"
   },
   {
    "duration": 16,
    "start_time": "2022-05-21T23:41:20.746Z"
   },
   {
    "duration": 8,
    "start_time": "2022-05-21T23:41:20.764Z"
   },
   {
    "duration": 40,
    "start_time": "2022-05-21T23:41:20.774Z"
   },
   {
    "duration": 16,
    "start_time": "2022-05-21T23:41:20.816Z"
   },
   {
    "duration": 160,
    "start_time": "2022-05-21T23:41:20.834Z"
   },
   {
    "duration": 23,
    "start_time": "2022-05-21T23:41:20.996Z"
   },
   {
    "duration": 130,
    "start_time": "2022-05-21T23:41:21.021Z"
   },
   {
    "duration": 17,
    "start_time": "2022-05-21T23:41:21.152Z"
   },
   {
    "duration": 157,
    "start_time": "2022-05-21T23:41:21.170Z"
   },
   {
    "duration": 46,
    "start_time": "2022-05-21T23:41:53.010Z"
   },
   {
    "duration": 50,
    "start_time": "2022-05-21T23:42:03.230Z"
   },
   {
    "duration": 3,
    "start_time": "2022-05-21T23:42:13.966Z"
   },
   {
    "duration": 76,
    "start_time": "2022-05-21T23:42:13.974Z"
   },
   {
    "duration": 12,
    "start_time": "2022-05-21T23:42:14.052Z"
   },
   {
    "duration": 16,
    "start_time": "2022-05-21T23:42:14.065Z"
   },
   {
    "duration": 34,
    "start_time": "2022-05-21T23:42:14.083Z"
   },
   {
    "duration": 9,
    "start_time": "2022-05-21T23:42:14.119Z"
   },
   {
    "duration": 7,
    "start_time": "2022-05-21T23:42:14.130Z"
   },
   {
    "duration": 8,
    "start_time": "2022-05-21T23:42:14.138Z"
   },
   {
    "duration": 5,
    "start_time": "2022-05-21T23:42:14.148Z"
   },
   {
    "duration": 9,
    "start_time": "2022-05-21T23:42:14.155Z"
   },
   {
    "duration": 50,
    "start_time": "2022-05-21T23:42:14.166Z"
   },
   {
    "duration": 50,
    "start_time": "2022-05-21T23:42:14.218Z"
   },
   {
    "duration": 66,
    "start_time": "2022-05-21T23:42:14.270Z"
   },
   {
    "duration": 7,
    "start_time": "2022-05-21T23:42:14.338Z"
   },
   {
    "duration": 13,
    "start_time": "2022-05-21T23:42:14.349Z"
   },
   {
    "duration": 19,
    "start_time": "2022-05-21T23:42:14.364Z"
   },
   {
    "duration": 46,
    "start_time": "2022-05-21T23:42:14.385Z"
   },
   {
    "duration": 5,
    "start_time": "2022-05-21T23:42:14.433Z"
   },
   {
    "duration": 20,
    "start_time": "2022-05-21T23:42:14.440Z"
   },
   {
    "duration": 9,
    "start_time": "2022-05-21T23:42:14.462Z"
   },
   {
    "duration": 40,
    "start_time": "2022-05-21T23:42:14.473Z"
   },
   {
    "duration": 8,
    "start_time": "2022-05-21T23:42:14.515Z"
   },
   {
    "duration": 7,
    "start_time": "2022-05-21T23:42:14.525Z"
   },
   {
    "duration": 8,
    "start_time": "2022-05-21T23:42:14.533Z"
   },
   {
    "duration": 9,
    "start_time": "2022-05-21T23:42:14.543Z"
   },
   {
    "duration": 11,
    "start_time": "2022-05-21T23:42:14.554Z"
   },
   {
    "duration": 48,
    "start_time": "2022-05-21T23:42:14.567Z"
   },
   {
    "duration": 16,
    "start_time": "2022-05-21T23:42:14.616Z"
   },
   {
    "duration": 18,
    "start_time": "2022-05-21T23:42:14.633Z"
   },
   {
    "duration": 18,
    "start_time": "2022-05-21T23:42:14.653Z"
   },
   {
    "duration": 102,
    "start_time": "2022-05-21T23:42:14.672Z"
   },
   {
    "duration": 51,
    "start_time": "2022-05-21T23:42:14.776Z"
   },
   {
    "duration": 20,
    "start_time": "2022-05-21T23:42:14.829Z"
   },
   {
    "duration": 18,
    "start_time": "2022-05-21T23:42:14.851Z"
   },
   {
    "duration": 19,
    "start_time": "2022-05-21T23:42:14.870Z"
   },
   {
    "duration": 12,
    "start_time": "2022-05-21T23:42:14.912Z"
   },
   {
    "duration": 11,
    "start_time": "2022-05-21T23:42:14.925Z"
   },
   {
    "duration": 6,
    "start_time": "2022-05-21T23:42:14.937Z"
   },
   {
    "duration": 16,
    "start_time": "2022-05-21T23:42:14.945Z"
   },
   {
    "duration": 51,
    "start_time": "2022-05-21T23:42:14.963Z"
   },
   {
    "duration": 16,
    "start_time": "2022-05-21T23:42:15.016Z"
   },
   {
    "duration": 14,
    "start_time": "2022-05-21T23:42:15.036Z"
   },
   {
    "duration": 176,
    "start_time": "2022-05-21T23:42:15.051Z"
   },
   {
    "duration": 6,
    "start_time": "2022-05-21T23:42:15.229Z"
   },
   {
    "duration": 7,
    "start_time": "2022-05-21T23:42:15.236Z"
   },
   {
    "duration": 11,
    "start_time": "2022-05-21T23:42:15.244Z"
   },
   {
    "duration": 8,
    "start_time": "2022-05-21T23:42:15.258Z"
   },
   {
    "duration": 52,
    "start_time": "2022-05-21T23:42:15.267Z"
   },
   {
    "duration": 19,
    "start_time": "2022-05-21T23:42:15.321Z"
   },
   {
    "duration": 330,
    "start_time": "2022-05-21T23:42:15.342Z"
   },
   {
    "duration": 15,
    "start_time": "2022-05-21T23:42:15.673Z"
   },
   {
    "duration": 162,
    "start_time": "2022-05-21T23:42:15.690Z"
   },
   {
    "duration": 15,
    "start_time": "2022-05-21T23:42:15.854Z"
   },
   {
    "duration": 157,
    "start_time": "2022-05-21T23:42:15.871Z"
   },
   {
    "duration": 2,
    "start_time": "2022-05-21T23:43:32.995Z"
   },
   {
    "duration": 82,
    "start_time": "2022-05-21T23:43:32.999Z"
   },
   {
    "duration": 15,
    "start_time": "2022-05-21T23:43:33.083Z"
   },
   {
    "duration": 29,
    "start_time": "2022-05-21T23:43:33.100Z"
   },
   {
    "duration": 14,
    "start_time": "2022-05-21T23:43:33.132Z"
   },
   {
    "duration": 11,
    "start_time": "2022-05-21T23:43:33.148Z"
   },
   {
    "duration": 7,
    "start_time": "2022-05-21T23:43:33.160Z"
   },
   {
    "duration": 52,
    "start_time": "2022-05-21T23:43:33.169Z"
   },
   {
    "duration": 5,
    "start_time": "2022-05-21T23:43:33.222Z"
   },
   {
    "duration": 22,
    "start_time": "2022-05-21T23:43:33.229Z"
   },
   {
    "duration": 9,
    "start_time": "2022-05-21T23:43:33.254Z"
   },
   {
    "duration": 80,
    "start_time": "2022-05-21T23:43:33.264Z"
   },
   {
    "duration": 6,
    "start_time": "2022-05-21T23:43:33.347Z"
   },
   {
    "duration": 9,
    "start_time": "2022-05-21T23:43:33.355Z"
   },
   {
    "duration": 47,
    "start_time": "2022-05-21T23:43:33.365Z"
   },
   {
    "duration": 13,
    "start_time": "2022-05-21T23:43:33.414Z"
   },
   {
    "duration": 9,
    "start_time": "2022-05-21T23:43:33.428Z"
   },
   {
    "duration": 22,
    "start_time": "2022-05-21T23:43:33.438Z"
   },
   {
    "duration": 7,
    "start_time": "2022-05-21T23:43:33.461Z"
   },
   {
    "duration": 6,
    "start_time": "2022-05-21T23:43:33.470Z"
   },
   {
    "duration": 8,
    "start_time": "2022-05-21T23:43:33.517Z"
   },
   {
    "duration": 7,
    "start_time": "2022-05-21T23:43:33.527Z"
   },
   {
    "duration": 10,
    "start_time": "2022-05-21T23:43:33.536Z"
   },
   {
    "duration": 8,
    "start_time": "2022-05-21T23:43:33.548Z"
   },
   {
    "duration": 12,
    "start_time": "2022-05-21T23:43:33.558Z"
   },
   {
    "duration": 46,
    "start_time": "2022-05-21T23:43:33.572Z"
   },
   {
    "duration": 24,
    "start_time": "2022-05-21T23:43:33.621Z"
   },
   {
    "duration": 19,
    "start_time": "2022-05-21T23:43:33.647Z"
   },
   {
    "duration": 16,
    "start_time": "2022-05-21T23:43:33.669Z"
   },
   {
    "duration": 92,
    "start_time": "2022-05-21T23:43:33.687Z"
   },
   {
    "duration": 60,
    "start_time": "2022-05-21T23:43:33.781Z"
   },
   {
    "duration": 17,
    "start_time": "2022-05-21T23:43:33.843Z"
   },
   {
    "duration": 19,
    "start_time": "2022-05-21T23:43:33.862Z"
   },
   {
    "duration": 37,
    "start_time": "2022-05-21T23:43:33.891Z"
   },
   {
    "duration": 14,
    "start_time": "2022-05-21T23:43:33.930Z"
   },
   {
    "duration": 17,
    "start_time": "2022-05-21T23:43:33.946Z"
   },
   {
    "duration": 14,
    "start_time": "2022-05-21T23:43:33.964Z"
   },
   {
    "duration": 39,
    "start_time": "2022-05-21T23:43:33.980Z"
   },
   {
    "duration": 5,
    "start_time": "2022-05-21T23:43:34.022Z"
   },
   {
    "duration": 26,
    "start_time": "2022-05-21T23:43:34.029Z"
   },
   {
    "duration": 22,
    "start_time": "2022-05-21T23:43:34.057Z"
   },
   {
    "duration": 159,
    "start_time": "2022-05-21T23:43:34.080Z"
   },
   {
    "duration": 7,
    "start_time": "2022-05-21T23:43:34.241Z"
   },
   {
    "duration": 21,
    "start_time": "2022-05-21T23:43:34.250Z"
   },
   {
    "duration": 11,
    "start_time": "2022-05-21T23:43:34.274Z"
   },
   {
    "duration": 21,
    "start_time": "2022-05-21T23:43:34.287Z"
   },
   {
    "duration": 34,
    "start_time": "2022-05-21T23:43:34.310Z"
   },
   {
    "duration": 15,
    "start_time": "2022-05-21T23:43:34.346Z"
   },
   {
    "duration": 144,
    "start_time": "2022-05-21T23:43:34.363Z"
   },
   {
    "duration": 16,
    "start_time": "2022-05-21T23:43:34.509Z"
   },
   {
    "duration": 141,
    "start_time": "2022-05-21T23:43:34.527Z"
   },
   {
    "duration": 14,
    "start_time": "2022-05-21T23:43:34.669Z"
   },
   {
    "duration": 162,
    "start_time": "2022-05-21T23:43:34.685Z"
   },
   {
    "duration": 3,
    "start_time": "2022-05-21T23:43:58.802Z"
   },
   {
    "duration": 82,
    "start_time": "2022-05-21T23:43:58.809Z"
   },
   {
    "duration": 13,
    "start_time": "2022-05-21T23:43:58.892Z"
   },
   {
    "duration": 22,
    "start_time": "2022-05-21T23:43:58.906Z"
   },
   {
    "duration": 15,
    "start_time": "2022-05-21T23:43:58.930Z"
   },
   {
    "duration": 10,
    "start_time": "2022-05-21T23:43:58.947Z"
   },
   {
    "duration": 7,
    "start_time": "2022-05-21T23:43:58.958Z"
   },
   {
    "duration": 48,
    "start_time": "2022-05-21T23:43:58.966Z"
   },
   {
    "duration": 4,
    "start_time": "2022-05-21T23:43:59.015Z"
   },
   {
    "duration": 5,
    "start_time": "2022-05-21T23:43:59.021Z"
   },
   {
    "duration": 10,
    "start_time": "2022-05-21T23:43:59.028Z"
   },
   {
    "duration": 88,
    "start_time": "2022-05-21T23:43:59.040Z"
   },
   {
    "duration": 31,
    "start_time": "2022-05-21T23:43:59.130Z"
   },
   {
    "duration": 6,
    "start_time": "2022-05-21T23:43:59.162Z"
   },
   {
    "duration": 9,
    "start_time": "2022-05-21T23:43:59.169Z"
   },
   {
    "duration": 52,
    "start_time": "2022-05-21T23:43:59.179Z"
   },
   {
    "duration": 15,
    "start_time": "2022-05-21T23:43:59.233Z"
   },
   {
    "duration": 7,
    "start_time": "2022-05-21T23:43:59.250Z"
   },
   {
    "duration": 17,
    "start_time": "2022-05-21T23:43:59.258Z"
   },
   {
    "duration": 39,
    "start_time": "2022-05-21T23:43:59.277Z"
   },
   {
    "duration": 6,
    "start_time": "2022-05-21T23:43:59.318Z"
   },
   {
    "duration": 7,
    "start_time": "2022-05-21T23:43:59.326Z"
   },
   {
    "duration": 6,
    "start_time": "2022-05-21T23:43:59.334Z"
   },
   {
    "duration": 8,
    "start_time": "2022-05-21T23:43:59.341Z"
   },
   {
    "duration": 5,
    "start_time": "2022-05-21T23:43:59.351Z"
   },
   {
    "duration": 61,
    "start_time": "2022-05-21T23:43:59.358Z"
   },
   {
    "duration": 8,
    "start_time": "2022-05-21T23:43:59.421Z"
   },
   {
    "duration": 24,
    "start_time": "2022-05-21T23:43:59.431Z"
   },
   {
    "duration": 17,
    "start_time": "2022-05-21T23:43:59.460Z"
   },
   {
    "duration": 45,
    "start_time": "2022-05-21T23:43:59.486Z"
   },
   {
    "duration": 99,
    "start_time": "2022-05-21T23:43:59.533Z"
   },
   {
    "duration": 39,
    "start_time": "2022-05-21T23:43:59.633Z"
   },
   {
    "duration": 17,
    "start_time": "2022-05-21T23:43:59.674Z"
   },
   {
    "duration": 17,
    "start_time": "2022-05-21T23:43:59.712Z"
   },
   {
    "duration": 22,
    "start_time": "2022-05-21T23:43:59.731Z"
   },
   {
    "duration": 12,
    "start_time": "2022-05-21T23:43:59.755Z"
   },
   {
    "duration": 44,
    "start_time": "2022-05-21T23:43:59.768Z"
   },
   {
    "duration": 7,
    "start_time": "2022-05-21T23:43:59.813Z"
   },
   {
    "duration": 16,
    "start_time": "2022-05-21T23:43:59.822Z"
   },
   {
    "duration": 7,
    "start_time": "2022-05-21T23:43:59.839Z"
   },
   {
    "duration": 16,
    "start_time": "2022-05-21T23:43:59.847Z"
   },
   {
    "duration": 53,
    "start_time": "2022-05-21T23:43:59.865Z"
   },
   {
    "duration": 141,
    "start_time": "2022-05-21T23:43:59.920Z"
   },
   {
    "duration": 5,
    "start_time": "2022-05-21T23:44:00.063Z"
   },
   {
    "duration": 9,
    "start_time": "2022-05-21T23:44:00.069Z"
   },
   {
    "duration": 7,
    "start_time": "2022-05-21T23:44:00.079Z"
   },
   {
    "duration": 27,
    "start_time": "2022-05-21T23:44:00.087Z"
   },
   {
    "duration": 24,
    "start_time": "2022-05-21T23:44:00.116Z"
   },
   {
    "duration": 16,
    "start_time": "2022-05-21T23:44:00.142Z"
   },
   {
    "duration": 173,
    "start_time": "2022-05-21T23:44:00.159Z"
   },
   {
    "duration": 17,
    "start_time": "2022-05-21T23:44:00.334Z"
   },
   {
    "duration": 185,
    "start_time": "2022-05-21T23:44:00.353Z"
   },
   {
    "duration": 16,
    "start_time": "2022-05-21T23:44:00.539Z"
   },
   {
    "duration": 298,
    "start_time": "2022-05-21T23:44:00.556Z"
   },
   {
    "duration": 26,
    "start_time": "2022-05-21T23:47:01.739Z"
   },
   {
    "duration": 3,
    "start_time": "2022-05-21T23:47:27.382Z"
   },
   {
    "duration": 83,
    "start_time": "2022-05-21T23:47:27.390Z"
   },
   {
    "duration": 13,
    "start_time": "2022-05-21T23:47:27.475Z"
   },
   {
    "duration": 33,
    "start_time": "2022-05-21T23:47:27.489Z"
   },
   {
    "duration": 13,
    "start_time": "2022-05-21T23:47:27.526Z"
   },
   {
    "duration": 9,
    "start_time": "2022-05-21T23:47:27.540Z"
   },
   {
    "duration": 5,
    "start_time": "2022-05-21T23:47:27.550Z"
   },
   {
    "duration": 6,
    "start_time": "2022-05-21T23:47:27.556Z"
   },
   {
    "duration": 7,
    "start_time": "2022-05-21T23:47:27.563Z"
   },
   {
    "duration": 3,
    "start_time": "2022-05-21T23:47:27.613Z"
   },
   {
    "duration": 16,
    "start_time": "2022-05-21T23:47:27.620Z"
   },
   {
    "duration": 46,
    "start_time": "2022-05-21T23:47:27.638Z"
   },
   {
    "duration": 60,
    "start_time": "2022-05-21T23:47:27.685Z"
   },
   {
    "duration": 5,
    "start_time": "2022-05-21T23:47:27.747Z"
   },
   {
    "duration": 10,
    "start_time": "2022-05-21T23:47:27.753Z"
   },
   {
    "duration": 18,
    "start_time": "2022-05-21T23:47:27.764Z"
   },
   {
    "duration": 40,
    "start_time": "2022-05-21T23:47:27.783Z"
   },
   {
    "duration": 10,
    "start_time": "2022-05-21T23:47:27.825Z"
   },
   {
    "duration": 19,
    "start_time": "2022-05-21T23:47:27.837Z"
   },
   {
    "duration": 7,
    "start_time": "2022-05-21T23:47:27.858Z"
   },
   {
    "duration": 15,
    "start_time": "2022-05-21T23:47:27.866Z"
   },
   {
    "duration": 31,
    "start_time": "2022-05-21T23:47:27.883Z"
   },
   {
    "duration": 19,
    "start_time": "2022-05-21T23:47:27.916Z"
   },
   {
    "duration": 9,
    "start_time": "2022-05-21T23:47:27.936Z"
   },
   {
    "duration": 6,
    "start_time": "2022-05-21T23:47:27.946Z"
   },
   {
    "duration": 11,
    "start_time": "2022-05-21T23:47:27.953Z"
   },
   {
    "duration": 12,
    "start_time": "2022-05-21T23:47:27.965Z"
   },
   {
    "duration": 51,
    "start_time": "2022-05-21T23:47:27.978Z"
   },
   {
    "duration": 17,
    "start_time": "2022-05-21T23:47:28.032Z"
   },
   {
    "duration": 15,
    "start_time": "2022-05-21T23:47:28.051Z"
   },
   {
    "duration": 99,
    "start_time": "2022-05-21T23:47:28.068Z"
   },
   {
    "duration": 26,
    "start_time": "2022-05-21T23:47:28.169Z"
   },
   {
    "duration": 38,
    "start_time": "2022-05-21T23:47:28.196Z"
   },
   {
    "duration": 17,
    "start_time": "2022-05-21T23:47:28.236Z"
   },
   {
    "duration": 16,
    "start_time": "2022-05-21T23:47:28.254Z"
   },
   {
    "duration": 44,
    "start_time": "2022-05-21T23:47:28.272Z"
   },
   {
    "duration": 15,
    "start_time": "2022-05-21T23:47:28.317Z"
   },
   {
    "duration": 7,
    "start_time": "2022-05-21T23:47:28.334Z"
   },
   {
    "duration": 14,
    "start_time": "2022-05-21T23:47:28.343Z"
   },
   {
    "duration": 6,
    "start_time": "2022-05-21T23:47:28.358Z"
   },
   {
    "duration": 66,
    "start_time": "2022-05-21T23:47:28.366Z"
   },
   {
    "duration": 14,
    "start_time": "2022-05-21T23:47:28.434Z"
   },
   {
    "duration": 167,
    "start_time": "2022-05-21T23:47:28.449Z"
   },
   {
    "duration": 10,
    "start_time": "2022-05-21T23:47:28.618Z"
   },
   {
    "duration": 6,
    "start_time": "2022-05-21T23:47:28.630Z"
   },
   {
    "duration": 7,
    "start_time": "2022-05-21T23:47:28.638Z"
   },
   {
    "duration": 9,
    "start_time": "2022-05-21T23:47:28.647Z"
   },
   {
    "duration": 23,
    "start_time": "2022-05-21T23:47:28.657Z"
   },
   {
    "duration": 45,
    "start_time": "2022-05-21T23:47:28.682Z"
   },
   {
    "duration": 154,
    "start_time": "2022-05-21T23:47:28.729Z"
   },
   {
    "duration": 14,
    "start_time": "2022-05-21T23:47:28.885Z"
   },
   {
    "duration": 140,
    "start_time": "2022-05-21T23:47:28.914Z"
   },
   {
    "duration": 15,
    "start_time": "2022-05-21T23:47:29.055Z"
   },
   {
    "duration": 168,
    "start_time": "2022-05-21T23:47:29.072Z"
   },
   {
    "duration": 407,
    "start_time": "2022-05-21T23:54:39.332Z"
   },
   {
    "duration": 69,
    "start_time": "2022-05-21T23:54:39.741Z"
   },
   {
    "duration": 22,
    "start_time": "2022-05-21T23:54:39.812Z"
   },
   {
    "duration": 17,
    "start_time": "2022-05-21T23:54:39.836Z"
   },
   {
    "duration": 11,
    "start_time": "2022-05-21T23:54:39.854Z"
   },
   {
    "duration": 45,
    "start_time": "2022-05-21T23:54:39.867Z"
   },
   {
    "duration": 14,
    "start_time": "2022-05-21T23:54:39.914Z"
   },
   {
    "duration": 8,
    "start_time": "2022-05-21T23:54:39.929Z"
   },
   {
    "duration": 5,
    "start_time": "2022-05-21T23:54:39.938Z"
   },
   {
    "duration": 6,
    "start_time": "2022-05-21T23:54:39.945Z"
   },
   {
    "duration": 10,
    "start_time": "2022-05-21T23:54:39.953Z"
   },
   {
    "duration": 82,
    "start_time": "2022-05-21T23:54:39.965Z"
   },
   {
    "duration": 32,
    "start_time": "2022-05-21T23:54:40.049Z"
   },
   {
    "duration": 31,
    "start_time": "2022-05-21T23:54:40.082Z"
   },
   {
    "duration": 5,
    "start_time": "2022-05-21T23:54:40.115Z"
   },
   {
    "duration": 18,
    "start_time": "2022-05-21T23:54:40.122Z"
   },
   {
    "duration": 16,
    "start_time": "2022-05-21T23:54:40.142Z"
   },
   {
    "duration": 6,
    "start_time": "2022-05-21T23:54:40.159Z"
   },
   {
    "duration": 53,
    "start_time": "2022-05-21T23:54:40.167Z"
   },
   {
    "duration": 9,
    "start_time": "2022-05-21T23:54:40.222Z"
   },
   {
    "duration": 6,
    "start_time": "2022-05-21T23:54:40.233Z"
   },
   {
    "duration": 10,
    "start_time": "2022-05-21T23:54:40.241Z"
   },
   {
    "duration": 7,
    "start_time": "2022-05-21T23:54:40.253Z"
   },
   {
    "duration": 51,
    "start_time": "2022-05-21T23:54:40.261Z"
   },
   {
    "duration": 6,
    "start_time": "2022-05-21T23:54:40.314Z"
   },
   {
    "duration": 20,
    "start_time": "2022-05-21T23:54:40.322Z"
   },
   {
    "duration": 5,
    "start_time": "2022-05-21T23:54:40.343Z"
   },
   {
    "duration": 17,
    "start_time": "2022-05-21T23:54:40.351Z"
   },
   {
    "duration": 54,
    "start_time": "2022-05-21T23:54:40.369Z"
   },
   {
    "duration": 17,
    "start_time": "2022-05-21T23:54:40.425Z"
   },
   {
    "duration": 87,
    "start_time": "2022-05-21T23:54:40.443Z"
   },
   {
    "duration": 27,
    "start_time": "2022-05-21T23:54:40.532Z"
   },
   {
    "duration": 18,
    "start_time": "2022-05-21T23:54:40.560Z"
   },
   {
    "duration": 49,
    "start_time": "2022-05-21T23:54:40.580Z"
   },
   {
    "duration": 17,
    "start_time": "2022-05-21T23:54:40.631Z"
   },
   {
    "duration": 12,
    "start_time": "2022-05-21T23:54:40.649Z"
   },
   {
    "duration": 11,
    "start_time": "2022-05-21T23:54:40.662Z"
   },
   {
    "duration": 43,
    "start_time": "2022-05-21T23:54:40.674Z"
   },
   {
    "duration": 14,
    "start_time": "2022-05-21T23:54:40.718Z"
   },
   {
    "duration": 11,
    "start_time": "2022-05-21T23:54:40.734Z"
   },
   {
    "duration": 16,
    "start_time": "2022-05-21T23:54:40.747Z"
   },
   {
    "duration": 47,
    "start_time": "2022-05-21T23:54:40.765Z"
   },
   {
    "duration": 401,
    "start_time": "2022-05-21T23:54:40.814Z"
   },
   {
    "duration": 5,
    "start_time": "2022-05-21T23:54:41.217Z"
   },
   {
    "duration": 54,
    "start_time": "2022-05-21T23:54:41.224Z"
   },
   {
    "duration": 8,
    "start_time": "2022-05-21T23:54:41.280Z"
   },
   {
    "duration": 20,
    "start_time": "2022-05-21T23:54:41.289Z"
   },
   {
    "duration": 17,
    "start_time": "2022-05-21T23:54:41.310Z"
   },
   {
    "duration": 184,
    "start_time": "2022-05-21T23:54:41.329Z"
   },
   {
    "duration": 17,
    "start_time": "2022-05-21T23:54:41.514Z"
   },
   {
    "duration": 143,
    "start_time": "2022-05-21T23:54:41.533Z"
   },
   {
    "duration": 14,
    "start_time": "2022-05-21T23:54:41.678Z"
   },
   {
    "duration": 151,
    "start_time": "2022-05-21T23:54:41.694Z"
   },
   {
    "duration": 22,
    "start_time": "2022-05-21T23:56:47.536Z"
   },
   {
    "duration": 34,
    "start_time": "2022-05-22T00:13:24.724Z"
   },
   {
    "duration": 3,
    "start_time": "2022-05-22T00:13:33.950Z"
   },
   {
    "duration": 97,
    "start_time": "2022-05-22T00:13:33.954Z"
   },
   {
    "duration": 11,
    "start_time": "2022-05-22T00:13:34.053Z"
   },
   {
    "duration": 28,
    "start_time": "2022-05-22T00:13:34.065Z"
   },
   {
    "duration": 35,
    "start_time": "2022-05-22T00:13:34.095Z"
   },
   {
    "duration": 45,
    "start_time": "2022-05-22T00:13:34.132Z"
   },
   {
    "duration": 18,
    "start_time": "2022-05-22T00:13:34.178Z"
   },
   {
    "duration": 39,
    "start_time": "2022-05-22T00:13:34.197Z"
   },
   {
    "duration": 22,
    "start_time": "2022-05-22T00:13:34.238Z"
   },
   {
    "duration": 26,
    "start_time": "2022-05-22T00:13:34.262Z"
   },
   {
    "duration": 47,
    "start_time": "2022-05-22T00:13:34.291Z"
   },
   {
    "duration": 55,
    "start_time": "2022-05-22T00:13:34.340Z"
   },
   {
    "duration": 40,
    "start_time": "2022-05-22T00:13:34.396Z"
   },
   {
    "duration": 10,
    "start_time": "2022-05-22T00:13:34.438Z"
   },
   {
    "duration": 42,
    "start_time": "2022-05-22T00:13:34.450Z"
   },
   {
    "duration": 38,
    "start_time": "2022-05-22T00:13:34.494Z"
   },
   {
    "duration": 26,
    "start_time": "2022-05-22T00:13:34.533Z"
   },
   {
    "duration": 37,
    "start_time": "2022-05-22T00:13:34.561Z"
   },
   {
    "duration": 40,
    "start_time": "2022-05-22T00:13:34.600Z"
   },
   {
    "duration": 30,
    "start_time": "2022-05-22T00:13:34.643Z"
   },
   {
    "duration": 12,
    "start_time": "2022-05-22T00:13:34.675Z"
   },
   {
    "duration": 37,
    "start_time": "2022-05-22T00:13:34.689Z"
   },
   {
    "duration": 33,
    "start_time": "2022-05-22T00:13:34.729Z"
   },
   {
    "duration": 23,
    "start_time": "2022-05-22T00:13:34.764Z"
   },
   {
    "duration": 36,
    "start_time": "2022-05-22T00:13:34.790Z"
   },
   {
    "duration": 32,
    "start_time": "2022-05-22T00:13:34.828Z"
   },
   {
    "duration": 43,
    "start_time": "2022-05-22T00:13:34.862Z"
   },
   {
    "duration": 29,
    "start_time": "2022-05-22T00:13:34.907Z"
   },
   {
    "duration": 24,
    "start_time": "2022-05-22T00:13:34.942Z"
   },
   {
    "duration": 20,
    "start_time": "2022-05-22T00:13:34.968Z"
   },
   {
    "duration": 99,
    "start_time": "2022-05-22T00:13:34.990Z"
   },
   {
    "duration": 39,
    "start_time": "2022-05-22T00:13:35.091Z"
   },
   {
    "duration": 17,
    "start_time": "2022-05-22T00:13:35.132Z"
   },
   {
    "duration": 36,
    "start_time": "2022-05-22T00:13:35.150Z"
   },
   {
    "duration": 28,
    "start_time": "2022-05-22T00:13:35.187Z"
   },
   {
    "duration": 30,
    "start_time": "2022-05-22T00:13:35.217Z"
   },
   {
    "duration": 31,
    "start_time": "2022-05-22T00:13:35.248Z"
   },
   {
    "duration": 24,
    "start_time": "2022-05-22T00:13:35.280Z"
   },
   {
    "duration": 14,
    "start_time": "2022-05-22T00:13:35.306Z"
   },
   {
    "duration": 11,
    "start_time": "2022-05-22T00:13:35.321Z"
   },
   {
    "duration": 16,
    "start_time": "2022-05-22T00:13:35.333Z"
   },
   {
    "duration": 12,
    "start_time": "2022-05-22T00:13:35.351Z"
   },
   {
    "duration": 178,
    "start_time": "2022-05-22T00:13:35.364Z"
   },
   {
    "duration": 6,
    "start_time": "2022-05-22T00:13:35.544Z"
   },
   {
    "duration": 14,
    "start_time": "2022-05-22T00:13:35.551Z"
   },
   {
    "duration": 17,
    "start_time": "2022-05-22T00:13:35.567Z"
   },
   {
    "duration": 40,
    "start_time": "2022-05-22T00:13:35.585Z"
   },
   {
    "duration": 17,
    "start_time": "2022-05-22T00:13:35.626Z"
   },
   {
    "duration": 166,
    "start_time": "2022-05-22T00:13:35.644Z"
   },
   {
    "duration": 14,
    "start_time": "2022-05-22T00:13:35.811Z"
   },
   {
    "duration": 133,
    "start_time": "2022-05-22T00:13:35.827Z"
   },
   {
    "duration": 14,
    "start_time": "2022-05-22T00:13:35.962Z"
   },
   {
    "duration": 142,
    "start_time": "2022-05-22T00:13:35.978Z"
   },
   {
    "duration": 21,
    "start_time": "2022-05-22T00:13:50.942Z"
   },
   {
    "duration": 3,
    "start_time": "2022-05-22T00:14:26.982Z"
   },
   {
    "duration": 68,
    "start_time": "2022-05-22T00:14:26.987Z"
   },
   {
    "duration": 12,
    "start_time": "2022-05-22T00:14:27.057Z"
   },
   {
    "duration": 45,
    "start_time": "2022-05-22T00:14:27.071Z"
   },
   {
    "duration": 10,
    "start_time": "2022-05-22T00:14:27.119Z"
   },
   {
    "duration": 11,
    "start_time": "2022-05-22T00:14:27.131Z"
   },
   {
    "duration": 5,
    "start_time": "2022-05-22T00:14:27.144Z"
   },
   {
    "duration": 6,
    "start_time": "2022-05-22T00:14:27.150Z"
   },
   {
    "duration": 3,
    "start_time": "2022-05-22T00:14:27.157Z"
   },
   {
    "duration": 52,
    "start_time": "2022-05-22T00:14:27.162Z"
   },
   {
    "duration": 8,
    "start_time": "2022-05-22T00:14:27.312Z"
   },
   {
    "duration": 46,
    "start_time": "2022-05-22T00:14:27.321Z"
   },
   {
    "duration": 53,
    "start_time": "2022-05-22T00:14:27.369Z"
   },
   {
    "duration": 5,
    "start_time": "2022-05-22T00:14:27.424Z"
   },
   {
    "duration": 8,
    "start_time": "2022-05-22T00:14:27.431Z"
   },
   {
    "duration": 16,
    "start_time": "2022-05-22T00:14:27.441Z"
   },
   {
    "duration": 12,
    "start_time": "2022-05-22T00:14:27.459Z"
   },
   {
    "duration": 42,
    "start_time": "2022-05-22T00:14:27.473Z"
   },
   {
    "duration": 15,
    "start_time": "2022-05-22T00:14:27.516Z"
   },
   {
    "duration": 8,
    "start_time": "2022-05-22T00:14:27.534Z"
   },
   {
    "duration": 11,
    "start_time": "2022-05-22T00:14:27.543Z"
   },
   {
    "duration": 6,
    "start_time": "2022-05-22T00:14:27.555Z"
   },
   {
    "duration": 8,
    "start_time": "2022-05-22T00:14:27.562Z"
   },
   {
    "duration": 40,
    "start_time": "2022-05-22T00:14:27.572Z"
   },
   {
    "duration": 7,
    "start_time": "2022-05-22T00:14:27.613Z"
   },
   {
    "duration": 9,
    "start_time": "2022-05-22T00:14:27.621Z"
   },
   {
    "duration": 5,
    "start_time": "2022-05-22T00:14:27.632Z"
   },
   {
    "duration": 16,
    "start_time": "2022-05-22T00:14:27.638Z"
   },
   {
    "duration": 18,
    "start_time": "2022-05-22T00:14:27.657Z"
   },
   {
    "duration": 52,
    "start_time": "2022-05-22T00:14:27.676Z"
   },
   {
    "duration": 83,
    "start_time": "2022-05-22T00:14:27.729Z"
   },
   {
    "duration": 25,
    "start_time": "2022-05-22T00:14:27.814Z"
   },
   {
    "duration": 16,
    "start_time": "2022-05-22T00:14:27.840Z"
   },
   {
    "duration": 17,
    "start_time": "2022-05-22T00:14:27.857Z"
   },
   {
    "duration": 48,
    "start_time": "2022-05-22T00:14:27.876Z"
   },
   {
    "duration": 10,
    "start_time": "2022-05-22T00:14:27.926Z"
   },
   {
    "duration": 10,
    "start_time": "2022-05-22T00:14:27.938Z"
   },
   {
    "duration": 9,
    "start_time": "2022-05-22T00:14:27.949Z"
   },
   {
    "duration": 5,
    "start_time": "2022-05-22T00:14:27.960Z"
   },
   {
    "duration": 49,
    "start_time": "2022-05-22T00:14:27.966Z"
   },
   {
    "duration": 5,
    "start_time": "2022-05-22T00:14:28.017Z"
   },
   {
    "duration": 17,
    "start_time": "2022-05-22T00:14:28.023Z"
   },
   {
    "duration": 12,
    "start_time": "2022-05-22T00:14:28.041Z"
   },
   {
    "duration": 158,
    "start_time": "2022-05-22T00:14:28.054Z"
   },
   {
    "duration": 5,
    "start_time": "2022-05-22T00:14:28.213Z"
   },
   {
    "duration": 5,
    "start_time": "2022-05-22T00:14:28.220Z"
   },
   {
    "duration": 7,
    "start_time": "2022-05-22T00:14:28.227Z"
   },
   {
    "duration": 21,
    "start_time": "2022-05-22T00:14:28.235Z"
   },
   {
    "duration": 15,
    "start_time": "2022-05-22T00:14:28.257Z"
   },
   {
    "duration": 186,
    "start_time": "2022-05-22T00:14:28.274Z"
   },
   {
    "duration": 15,
    "start_time": "2022-05-22T00:14:28.462Z"
   },
   {
    "duration": 140,
    "start_time": "2022-05-22T00:14:28.478Z"
   },
   {
    "duration": 15,
    "start_time": "2022-05-22T00:14:28.620Z"
   },
   {
    "duration": 151,
    "start_time": "2022-05-22T00:14:28.636Z"
   },
   {
    "duration": 24,
    "start_time": "2022-05-22T00:14:53.181Z"
   },
   {
    "duration": 9,
    "start_time": "2022-05-22T00:15:19.393Z"
   },
   {
    "duration": 21,
    "start_time": "2022-05-22T00:15:29.713Z"
   },
   {
    "duration": 31,
    "start_time": "2022-05-22T00:15:38.665Z"
   },
   {
    "duration": 2,
    "start_time": "2022-05-22T00:15:44.310Z"
   },
   {
    "duration": 69,
    "start_time": "2022-05-22T00:15:44.314Z"
   },
   {
    "duration": 13,
    "start_time": "2022-05-22T00:15:44.385Z"
   },
   {
    "duration": 21,
    "start_time": "2022-05-22T00:15:44.399Z"
   },
   {
    "duration": 14,
    "start_time": "2022-05-22T00:15:44.423Z"
   },
   {
    "duration": 10,
    "start_time": "2022-05-22T00:15:44.438Z"
   },
   {
    "duration": 4,
    "start_time": "2022-05-22T00:15:44.450Z"
   },
   {
    "duration": 5,
    "start_time": "2022-05-22T00:15:44.456Z"
   },
   {
    "duration": 3,
    "start_time": "2022-05-22T00:15:44.462Z"
   },
   {
    "duration": 45,
    "start_time": "2022-05-22T00:15:44.467Z"
   },
   {
    "duration": 10,
    "start_time": "2022-05-22T00:15:44.515Z"
   },
   {
    "duration": 85,
    "start_time": "2022-05-22T00:15:44.527Z"
   },
   {
    "duration": 29,
    "start_time": "2022-05-22T00:15:44.614Z"
   },
   {
    "duration": 6,
    "start_time": "2022-05-22T00:15:44.645Z"
   },
   {
    "duration": 8,
    "start_time": "2022-05-22T00:15:44.653Z"
   },
   {
    "duration": 52,
    "start_time": "2022-05-22T00:15:44.662Z"
   },
   {
    "duration": 12,
    "start_time": "2022-05-22T00:15:44.716Z"
   },
   {
    "duration": 9,
    "start_time": "2022-05-22T00:15:44.730Z"
   },
   {
    "duration": 14,
    "start_time": "2022-05-22T00:15:44.741Z"
   },
   {
    "duration": 7,
    "start_time": "2022-05-22T00:15:44.757Z"
   },
   {
    "duration": 6,
    "start_time": "2022-05-22T00:15:44.766Z"
   },
   {
    "duration": 7,
    "start_time": "2022-05-22T00:15:44.812Z"
   },
   {
    "duration": 7,
    "start_time": "2022-05-22T00:15:44.821Z"
   },
   {
    "duration": 7,
    "start_time": "2022-05-22T00:15:44.829Z"
   },
   {
    "duration": 6,
    "start_time": "2022-05-22T00:15:44.837Z"
   },
   {
    "duration": 10,
    "start_time": "2022-05-22T00:15:44.844Z"
   },
   {
    "duration": 4,
    "start_time": "2022-05-22T00:15:44.856Z"
   },
   {
    "duration": 60,
    "start_time": "2022-05-22T00:15:44.861Z"
   },
   {
    "duration": 18,
    "start_time": "2022-05-22T00:15:44.925Z"
   },
   {
    "duration": 16,
    "start_time": "2022-05-22T00:15:44.945Z"
   },
   {
    "duration": 94,
    "start_time": "2022-05-22T00:15:44.962Z"
   },
   {
    "duration": 25,
    "start_time": "2022-05-22T00:15:45.058Z"
   },
   {
    "duration": 40,
    "start_time": "2022-05-22T00:15:45.085Z"
   },
   {
    "duration": 15,
    "start_time": "2022-05-22T00:15:45.126Z"
   },
   {
    "duration": 15,
    "start_time": "2022-05-22T00:15:45.143Z"
   },
   {
    "duration": 10,
    "start_time": "2022-05-22T00:15:45.159Z"
   },
   {
    "duration": 10,
    "start_time": "2022-05-22T00:15:45.171Z"
   },
   {
    "duration": 10,
    "start_time": "2022-05-22T00:15:45.211Z"
   },
   {
    "duration": 8,
    "start_time": "2022-05-22T00:15:45.222Z"
   },
   {
    "duration": 13,
    "start_time": "2022-05-22T00:15:45.231Z"
   },
   {
    "duration": 11,
    "start_time": "2022-05-22T00:15:45.245Z"
   },
   {
    "duration": 15,
    "start_time": "2022-05-22T00:15:45.257Z"
   },
   {
    "duration": 48,
    "start_time": "2022-05-22T00:15:45.274Z"
   },
   {
    "duration": 138,
    "start_time": "2022-05-22T00:15:45.324Z"
   },
   {
    "duration": 6,
    "start_time": "2022-05-22T00:15:45.464Z"
   },
   {
    "duration": 6,
    "start_time": "2022-05-22T00:15:45.471Z"
   },
   {
    "duration": 8,
    "start_time": "2022-05-22T00:15:45.478Z"
   },
   {
    "duration": 39,
    "start_time": "2022-05-22T00:15:45.487Z"
   },
   {
    "duration": 17,
    "start_time": "2022-05-22T00:15:45.528Z"
   },
   {
    "duration": 152,
    "start_time": "2022-05-22T00:15:45.546Z"
   },
   {
    "duration": 23,
    "start_time": "2022-05-22T00:15:45.699Z"
   },
   {
    "duration": 128,
    "start_time": "2022-05-22T00:15:45.724Z"
   },
   {
    "duration": 14,
    "start_time": "2022-05-22T00:15:45.854Z"
   },
   {
    "duration": 150,
    "start_time": "2022-05-22T00:15:45.869Z"
   },
   {
    "duration": 447,
    "start_time": "2022-05-22T00:16:17.001Z"
   },
   {
    "duration": 69,
    "start_time": "2022-05-22T00:16:17.450Z"
   },
   {
    "duration": 18,
    "start_time": "2022-05-22T00:16:17.521Z"
   },
   {
    "duration": 15,
    "start_time": "2022-05-22T00:16:17.541Z"
   },
   {
    "duration": 8,
    "start_time": "2022-05-22T00:16:17.558Z"
   },
   {
    "duration": 44,
    "start_time": "2022-05-22T00:16:17.568Z"
   },
   {
    "duration": 5,
    "start_time": "2022-05-22T00:16:17.614Z"
   },
   {
    "duration": 10,
    "start_time": "2022-05-22T00:16:17.620Z"
   },
   {
    "duration": 3,
    "start_time": "2022-05-22T00:16:17.632Z"
   },
   {
    "duration": 4,
    "start_time": "2022-05-22T00:16:17.637Z"
   },
   {
    "duration": 13,
    "start_time": "2022-05-22T00:16:17.643Z"
   },
   {
    "duration": 76,
    "start_time": "2022-05-22T00:16:17.658Z"
   },
   {
    "duration": 29,
    "start_time": "2022-05-22T00:16:17.736Z"
   },
   {
    "duration": 6,
    "start_time": "2022-05-22T00:16:17.767Z"
   },
   {
    "duration": 8,
    "start_time": "2022-05-22T00:16:17.774Z"
   },
   {
    "duration": 41,
    "start_time": "2022-05-22T00:16:17.783Z"
   },
   {
    "duration": 12,
    "start_time": "2022-05-22T00:16:17.826Z"
   },
   {
    "duration": 3,
    "start_time": "2022-05-22T00:16:17.839Z"
   },
   {
    "duration": 14,
    "start_time": "2022-05-22T00:16:17.844Z"
   },
   {
    "duration": 7,
    "start_time": "2022-05-22T00:16:17.859Z"
   },
   {
    "duration": 50,
    "start_time": "2022-05-22T00:16:17.867Z"
   },
   {
    "duration": 20,
    "start_time": "2022-05-22T00:16:17.919Z"
   },
   {
    "duration": 10,
    "start_time": "2022-05-22T00:16:17.941Z"
   },
   {
    "duration": 10,
    "start_time": "2022-05-22T00:16:17.953Z"
   },
   {
    "duration": 5,
    "start_time": "2022-05-22T00:16:17.965Z"
   },
   {
    "duration": 12,
    "start_time": "2022-05-22T00:16:17.972Z"
   },
   {
    "duration": 27,
    "start_time": "2022-05-22T00:16:17.986Z"
   },
   {
    "duration": 18,
    "start_time": "2022-05-22T00:16:18.018Z"
   },
   {
    "duration": 19,
    "start_time": "2022-05-22T00:16:18.037Z"
   },
   {
    "duration": 18,
    "start_time": "2022-05-22T00:16:18.058Z"
   },
   {
    "duration": 69,
    "start_time": "2022-05-22T00:16:18.113Z"
   },
   {
    "duration": 44,
    "start_time": "2022-05-22T00:16:18.185Z"
   },
   {
    "duration": 17,
    "start_time": "2022-05-22T00:16:18.231Z"
   },
   {
    "duration": 18,
    "start_time": "2022-05-22T00:16:18.250Z"
   },
   {
    "duration": 53,
    "start_time": "2022-05-22T00:16:18.270Z"
   },
   {
    "duration": 13,
    "start_time": "2022-05-22T00:16:18.325Z"
   },
   {
    "duration": 13,
    "start_time": "2022-05-22T00:16:18.340Z"
   },
   {
    "duration": 11,
    "start_time": "2022-05-22T00:16:18.356Z"
   },
   {
    "duration": 45,
    "start_time": "2022-05-22T00:16:18.368Z"
   },
   {
    "duration": 13,
    "start_time": "2022-05-22T00:16:18.415Z"
   },
   {
    "duration": 11,
    "start_time": "2022-05-22T00:16:18.430Z"
   },
   {
    "duration": 17,
    "start_time": "2022-05-22T00:16:18.442Z"
   },
   {
    "duration": 13,
    "start_time": "2022-05-22T00:16:18.461Z"
   },
   {
    "duration": 384,
    "start_time": "2022-05-22T00:16:18.513Z"
   },
   {
    "duration": 13,
    "start_time": "2022-05-22T00:16:18.899Z"
   },
   {
    "duration": 23,
    "start_time": "2022-05-22T00:16:18.914Z"
   },
   {
    "duration": 7,
    "start_time": "2022-05-22T00:16:18.939Z"
   },
   {
    "duration": 23,
    "start_time": "2022-05-22T00:16:18.948Z"
   },
   {
    "duration": 18,
    "start_time": "2022-05-22T00:16:18.972Z"
   },
   {
    "duration": 154,
    "start_time": "2022-05-22T00:16:18.992Z"
   },
   {
    "duration": 14,
    "start_time": "2022-05-22T00:16:19.148Z"
   },
   {
    "duration": 131,
    "start_time": "2022-05-22T00:16:19.163Z"
   },
   {
    "duration": 29,
    "start_time": "2022-05-22T00:16:19.295Z"
   },
   {
    "duration": 151,
    "start_time": "2022-05-22T00:16:19.325Z"
   },
   {
    "duration": 10,
    "start_time": "2022-05-22T00:19:44.453Z"
   },
   {
    "duration": 3,
    "start_time": "2022-05-22T00:19:50.317Z"
   },
   {
    "duration": 69,
    "start_time": "2022-05-22T00:19:50.322Z"
   },
   {
    "duration": 12,
    "start_time": "2022-05-22T00:19:50.393Z"
   },
   {
    "duration": 16,
    "start_time": "2022-05-22T00:19:50.407Z"
   },
   {
    "duration": 9,
    "start_time": "2022-05-22T00:19:50.425Z"
   },
   {
    "duration": 9,
    "start_time": "2022-05-22T00:19:50.435Z"
   },
   {
    "duration": 6,
    "start_time": "2022-05-22T00:19:50.446Z"
   },
   {
    "duration": 5,
    "start_time": "2022-05-22T00:19:50.453Z"
   },
   {
    "duration": 3,
    "start_time": "2022-05-22T00:19:50.459Z"
   },
   {
    "duration": 49,
    "start_time": "2022-05-22T00:19:50.463Z"
   },
   {
    "duration": 8,
    "start_time": "2022-05-22T00:19:50.516Z"
   },
   {
    "duration": 50,
    "start_time": "2022-05-22T00:19:50.526Z"
   },
   {
    "duration": 33,
    "start_time": "2022-05-22T00:19:50.611Z"
   },
   {
    "duration": 6,
    "start_time": "2022-05-22T00:19:50.646Z"
   },
   {
    "duration": 9,
    "start_time": "2022-05-22T00:19:50.654Z"
   },
   {
    "duration": 48,
    "start_time": "2022-05-22T00:19:50.665Z"
   },
   {
    "duration": 14,
    "start_time": "2022-05-22T00:19:50.715Z"
   },
   {
    "duration": 4,
    "start_time": "2022-05-22T00:19:50.731Z"
   },
   {
    "duration": 14,
    "start_time": "2022-05-22T00:19:50.737Z"
   },
   {
    "duration": 9,
    "start_time": "2022-05-22T00:19:50.753Z"
   },
   {
    "duration": 53,
    "start_time": "2022-05-22T00:19:50.764Z"
   },
   {
    "duration": 7,
    "start_time": "2022-05-22T00:19:50.819Z"
   },
   {
    "duration": 6,
    "start_time": "2022-05-22T00:19:50.828Z"
   },
   {
    "duration": 8,
    "start_time": "2022-05-22T00:19:50.835Z"
   },
   {
    "duration": 6,
    "start_time": "2022-05-22T00:19:50.845Z"
   },
   {
    "duration": 10,
    "start_time": "2022-05-22T00:19:50.852Z"
   },
   {
    "duration": 54,
    "start_time": "2022-05-22T00:19:50.863Z"
   },
   {
    "duration": 18,
    "start_time": "2022-05-22T00:19:50.918Z"
   },
   {
    "duration": 17,
    "start_time": "2022-05-22T00:19:50.940Z"
   },
   {
    "duration": 16,
    "start_time": "2022-05-22T00:19:50.958Z"
   },
   {
    "duration": 98,
    "start_time": "2022-05-22T00:19:50.975Z"
   },
   {
    "duration": 41,
    "start_time": "2022-05-22T00:19:51.074Z"
   },
   {
    "duration": 16,
    "start_time": "2022-05-22T00:19:51.117Z"
   },
   {
    "duration": 16,
    "start_time": "2022-05-22T00:19:51.135Z"
   },
   {
    "duration": 17,
    "start_time": "2022-05-22T00:19:51.152Z"
   },
   {
    "duration": 44,
    "start_time": "2022-05-22T00:19:51.170Z"
   },
   {
    "duration": 11,
    "start_time": "2022-05-22T00:19:51.216Z"
   },
   {
    "duration": 7,
    "start_time": "2022-05-22T00:19:51.229Z"
   },
   {
    "duration": 26,
    "start_time": "2022-05-22T00:19:51.237Z"
   },
   {
    "duration": 18,
    "start_time": "2022-05-22T00:19:51.265Z"
   },
   {
    "duration": 27,
    "start_time": "2022-05-22T00:19:51.285Z"
   },
   {
    "duration": 14,
    "start_time": "2022-05-22T00:19:51.314Z"
   },
   {
    "duration": 164,
    "start_time": "2022-05-22T00:19:51.330Z"
   },
   {
    "duration": 7,
    "start_time": "2022-05-22T00:19:51.496Z"
   },
   {
    "duration": 4,
    "start_time": "2022-05-22T00:19:51.512Z"
   },
   {
    "duration": 10,
    "start_time": "2022-05-22T00:19:51.518Z"
   },
   {
    "duration": 21,
    "start_time": "2022-05-22T00:19:51.530Z"
   },
   {
    "duration": 14,
    "start_time": "2022-05-22T00:19:51.553Z"
   },
   {
    "duration": 174,
    "start_time": "2022-05-22T00:19:51.569Z"
   },
   {
    "duration": 13,
    "start_time": "2022-05-22T00:19:51.745Z"
   },
   {
    "duration": 126,
    "start_time": "2022-05-22T00:19:51.759Z"
   },
   {
    "duration": 26,
    "start_time": "2022-05-22T00:19:51.887Z"
   },
   {
    "duration": 145,
    "start_time": "2022-05-22T00:19:51.914Z"
   },
   {
    "duration": 12,
    "start_time": "2022-05-22T00:20:06.340Z"
   },
   {
    "duration": 53,
    "start_time": "2022-05-22T00:20:30.114Z"
   },
   {
    "duration": 20,
    "start_time": "2022-05-22T00:20:33.237Z"
   },
   {
    "duration": 26,
    "start_time": "2022-05-22T00:21:07.585Z"
   },
   {
    "duration": 12,
    "start_time": "2022-05-22T00:21:11.365Z"
   },
   {
    "duration": 428,
    "start_time": "2022-05-22T00:23:18.448Z"
   },
   {
    "duration": 69,
    "start_time": "2022-05-22T00:23:18.878Z"
   },
   {
    "duration": 19,
    "start_time": "2022-05-22T00:23:18.948Z"
   },
   {
    "duration": 17,
    "start_time": "2022-05-22T00:23:18.969Z"
   },
   {
    "duration": 25,
    "start_time": "2022-05-22T00:23:18.987Z"
   },
   {
    "duration": 9,
    "start_time": "2022-05-22T00:23:19.014Z"
   },
   {
    "duration": 9,
    "start_time": "2022-05-22T00:23:19.024Z"
   },
   {
    "duration": 7,
    "start_time": "2022-05-22T00:23:19.034Z"
   },
   {
    "duration": 2,
    "start_time": "2022-05-22T00:23:19.043Z"
   },
   {
    "duration": 4,
    "start_time": "2022-05-22T00:23:19.047Z"
   },
   {
    "duration": 9,
    "start_time": "2022-05-22T00:23:19.052Z"
   },
   {
    "duration": 89,
    "start_time": "2022-05-22T00:23:19.063Z"
   },
   {
    "duration": 28,
    "start_time": "2022-05-22T00:23:19.154Z"
   },
   {
    "duration": 30,
    "start_time": "2022-05-22T00:23:19.183Z"
   },
   {
    "duration": 5,
    "start_time": "2022-05-22T00:23:19.215Z"
   },
   {
    "duration": 19,
    "start_time": "2022-05-22T00:23:19.222Z"
   },
   {
    "duration": 12,
    "start_time": "2022-05-22T00:23:19.242Z"
   },
   {
    "duration": 4,
    "start_time": "2022-05-22T00:23:19.255Z"
   },
   {
    "duration": 13,
    "start_time": "2022-05-22T00:23:19.260Z"
   },
   {
    "duration": 44,
    "start_time": "2022-05-22T00:23:19.274Z"
   },
   {
    "duration": 6,
    "start_time": "2022-05-22T00:23:19.319Z"
   },
   {
    "duration": 5,
    "start_time": "2022-05-22T00:23:19.326Z"
   },
   {
    "duration": 4,
    "start_time": "2022-05-22T00:23:19.333Z"
   },
   {
    "duration": 7,
    "start_time": "2022-05-22T00:23:19.339Z"
   },
   {
    "duration": 5,
    "start_time": "2022-05-22T00:23:19.347Z"
   },
   {
    "duration": 9,
    "start_time": "2022-05-22T00:23:19.353Z"
   },
   {
    "duration": 50,
    "start_time": "2022-05-22T00:23:19.364Z"
   },
   {
    "duration": 29,
    "start_time": "2022-05-22T00:23:19.418Z"
   },
   {
    "duration": 18,
    "start_time": "2022-05-22T00:23:19.449Z"
   },
   {
    "duration": 14,
    "start_time": "2022-05-22T00:23:19.468Z"
   },
   {
    "duration": 94,
    "start_time": "2022-05-22T00:23:19.484Z"
   },
   {
    "duration": 38,
    "start_time": "2022-05-22T00:23:19.580Z"
   },
   {
    "duration": 20,
    "start_time": "2022-05-22T00:23:19.620Z"
   },
   {
    "duration": 19,
    "start_time": "2022-05-22T00:23:19.642Z"
   },
   {
    "duration": 16,
    "start_time": "2022-05-22T00:23:19.662Z"
   },
   {
    "duration": 42,
    "start_time": "2022-05-22T00:23:19.679Z"
   },
   {
    "duration": 9,
    "start_time": "2022-05-22T00:23:19.723Z"
   },
   {
    "duration": 6,
    "start_time": "2022-05-22T00:23:19.734Z"
   },
   {
    "duration": 12,
    "start_time": "2022-05-22T00:23:19.741Z"
   },
   {
    "duration": 5,
    "start_time": "2022-05-22T00:23:19.755Z"
   },
   {
    "duration": 61,
    "start_time": "2022-05-22T00:23:19.761Z"
   },
   {
    "duration": 11,
    "start_time": "2022-05-22T00:23:19.824Z"
   },
   {
    "duration": 414,
    "start_time": "2022-05-22T00:23:19.837Z"
   },
   {
    "duration": 5,
    "start_time": "2022-05-22T00:23:20.253Z"
   },
   {
    "duration": 31,
    "start_time": "2022-05-22T00:23:20.259Z"
   },
   {
    "duration": 8,
    "start_time": "2022-05-22T00:23:20.291Z"
   },
   {
    "duration": 22,
    "start_time": "2022-05-22T00:23:20.300Z"
   },
   {
    "duration": 16,
    "start_time": "2022-05-22T00:23:20.323Z"
   },
   {
    "duration": 156,
    "start_time": "2022-05-22T00:23:20.340Z"
   },
   {
    "duration": 23,
    "start_time": "2022-05-22T00:23:20.498Z"
   },
   {
    "duration": 137,
    "start_time": "2022-05-22T00:23:20.523Z"
   },
   {
    "duration": 14,
    "start_time": "2022-05-22T00:23:20.661Z"
   },
   {
    "duration": 154,
    "start_time": "2022-05-22T00:23:20.677Z"
   },
   {
    "duration": 391,
    "start_time": "2022-05-22T00:28:05.451Z"
   },
   {
    "duration": 67,
    "start_time": "2022-05-22T00:28:05.844Z"
   },
   {
    "duration": 18,
    "start_time": "2022-05-22T00:28:05.913Z"
   },
   {
    "duration": 14,
    "start_time": "2022-05-22T00:28:05.932Z"
   },
   {
    "duration": 8,
    "start_time": "2022-05-22T00:28:05.948Z"
   },
   {
    "duration": 8,
    "start_time": "2022-05-22T00:28:05.958Z"
   },
   {
    "duration": 4,
    "start_time": "2022-05-22T00:28:05.968Z"
   },
   {
    "duration": 42,
    "start_time": "2022-05-22T00:28:05.973Z"
   },
   {
    "duration": 3,
    "start_time": "2022-05-22T00:28:06.017Z"
   },
   {
    "duration": 4,
    "start_time": "2022-05-22T00:28:06.022Z"
   },
   {
    "duration": 9,
    "start_time": "2022-05-22T00:28:06.027Z"
   },
   {
    "duration": 112,
    "start_time": "2022-05-22T00:28:06.038Z"
   },
   {
    "duration": 0,
    "start_time": "2022-05-22T00:28:06.152Z"
   },
   {
    "duration": 0,
    "start_time": "2022-05-22T00:28:06.153Z"
   },
   {
    "duration": 0,
    "start_time": "2022-05-22T00:28:06.154Z"
   },
   {
    "duration": 0,
    "start_time": "2022-05-22T00:28:06.156Z"
   },
   {
    "duration": 0,
    "start_time": "2022-05-22T00:28:06.156Z"
   },
   {
    "duration": 0,
    "start_time": "2022-05-22T00:28:06.158Z"
   },
   {
    "duration": 0,
    "start_time": "2022-05-22T00:28:06.158Z"
   },
   {
    "duration": 0,
    "start_time": "2022-05-22T00:28:06.159Z"
   },
   {
    "duration": 0,
    "start_time": "2022-05-22T00:28:06.160Z"
   },
   {
    "duration": 0,
    "start_time": "2022-05-22T00:28:06.162Z"
   },
   {
    "duration": 0,
    "start_time": "2022-05-22T00:28:06.163Z"
   },
   {
    "duration": 0,
    "start_time": "2022-05-22T00:28:06.164Z"
   },
   {
    "duration": 0,
    "start_time": "2022-05-22T00:28:06.165Z"
   },
   {
    "duration": 0,
    "start_time": "2022-05-22T00:28:06.166Z"
   },
   {
    "duration": 0,
    "start_time": "2022-05-22T00:28:06.167Z"
   },
   {
    "duration": 0,
    "start_time": "2022-05-22T00:28:06.168Z"
   },
   {
    "duration": 0,
    "start_time": "2022-05-22T00:28:06.169Z"
   },
   {
    "duration": 0,
    "start_time": "2022-05-22T00:28:06.170Z"
   },
   {
    "duration": 0,
    "start_time": "2022-05-22T00:28:06.171Z"
   },
   {
    "duration": 0,
    "start_time": "2022-05-22T00:28:06.172Z"
   },
   {
    "duration": 0,
    "start_time": "2022-05-22T00:28:06.212Z"
   },
   {
    "duration": 0,
    "start_time": "2022-05-22T00:28:06.214Z"
   },
   {
    "duration": 0,
    "start_time": "2022-05-22T00:28:06.215Z"
   },
   {
    "duration": 0,
    "start_time": "2022-05-22T00:28:06.217Z"
   },
   {
    "duration": 0,
    "start_time": "2022-05-22T00:28:06.218Z"
   },
   {
    "duration": 0,
    "start_time": "2022-05-22T00:28:06.219Z"
   },
   {
    "duration": 0,
    "start_time": "2022-05-22T00:28:06.221Z"
   },
   {
    "duration": 0,
    "start_time": "2022-05-22T00:28:06.222Z"
   },
   {
    "duration": 0,
    "start_time": "2022-05-22T00:28:06.225Z"
   },
   {
    "duration": 0,
    "start_time": "2022-05-22T00:28:06.226Z"
   },
   {
    "duration": 0,
    "start_time": "2022-05-22T00:28:06.227Z"
   },
   {
    "duration": 0,
    "start_time": "2022-05-22T00:28:06.229Z"
   },
   {
    "duration": 0,
    "start_time": "2022-05-22T00:28:06.230Z"
   },
   {
    "duration": 0,
    "start_time": "2022-05-22T00:28:06.231Z"
   },
   {
    "duration": 0,
    "start_time": "2022-05-22T00:28:06.233Z"
   },
   {
    "duration": 0,
    "start_time": "2022-05-22T00:28:06.234Z"
   },
   {
    "duration": 0,
    "start_time": "2022-05-22T00:28:06.236Z"
   },
   {
    "duration": 0,
    "start_time": "2022-05-22T00:28:06.237Z"
   },
   {
    "duration": 0,
    "start_time": "2022-05-22T00:28:06.238Z"
   },
   {
    "duration": 0,
    "start_time": "2022-05-22T00:28:06.240Z"
   },
   {
    "duration": 0,
    "start_time": "2022-05-22T00:28:06.241Z"
   },
   {
    "duration": 46,
    "start_time": "2022-05-22T00:28:18.744Z"
   },
   {
    "duration": 435,
    "start_time": "2022-05-22T00:28:28.696Z"
   },
   {
    "duration": 73,
    "start_time": "2022-05-22T00:28:29.132Z"
   },
   {
    "duration": 19,
    "start_time": "2022-05-22T00:28:29.207Z"
   },
   {
    "duration": 16,
    "start_time": "2022-05-22T00:28:29.227Z"
   },
   {
    "duration": 9,
    "start_time": "2022-05-22T00:28:29.244Z"
   },
   {
    "duration": 10,
    "start_time": "2022-05-22T00:28:29.254Z"
   },
   {
    "duration": 5,
    "start_time": "2022-05-22T00:28:29.265Z"
   },
   {
    "duration": 42,
    "start_time": "2022-05-22T00:28:29.271Z"
   },
   {
    "duration": 2,
    "start_time": "2022-05-22T00:28:29.315Z"
   },
   {
    "duration": 4,
    "start_time": "2022-05-22T00:28:29.319Z"
   },
   {
    "duration": 10,
    "start_time": "2022-05-22T00:28:29.324Z"
   },
   {
    "duration": 46,
    "start_time": "2022-05-22T00:28:29.335Z"
   },
   {
    "duration": 56,
    "start_time": "2022-05-22T00:28:29.383Z"
   },
   {
    "duration": 5,
    "start_time": "2022-05-22T00:28:29.441Z"
   },
   {
    "duration": 5,
    "start_time": "2022-05-22T00:28:29.448Z"
   },
   {
    "duration": 18,
    "start_time": "2022-05-22T00:28:29.454Z"
   },
   {
    "duration": 47,
    "start_time": "2022-05-22T00:28:29.474Z"
   },
   {
    "duration": 5,
    "start_time": "2022-05-22T00:28:29.523Z"
   },
   {
    "duration": 14,
    "start_time": "2022-05-22T00:28:29.530Z"
   },
   {
    "duration": 7,
    "start_time": "2022-05-22T00:28:29.545Z"
   },
   {
    "duration": 4,
    "start_time": "2022-05-22T00:28:29.554Z"
   },
   {
    "duration": 5,
    "start_time": "2022-05-22T00:28:29.560Z"
   },
   {
    "duration": 47,
    "start_time": "2022-05-22T00:28:29.566Z"
   },
   {
    "duration": 11,
    "start_time": "2022-05-22T00:28:29.615Z"
   },
   {
    "duration": 5,
    "start_time": "2022-05-22T00:28:29.627Z"
   },
   {
    "duration": 10,
    "start_time": "2022-05-22T00:28:29.634Z"
   },
   {
    "duration": 7,
    "start_time": "2022-05-22T00:28:29.646Z"
   },
   {
    "duration": 16,
    "start_time": "2022-05-22T00:28:29.656Z"
   },
   {
    "duration": 53,
    "start_time": "2022-05-22T00:28:29.673Z"
   },
   {
    "duration": 15,
    "start_time": "2022-05-22T00:28:29.728Z"
   },
   {
    "duration": 84,
    "start_time": "2022-05-22T00:28:29.745Z"
   },
   {
    "duration": 27,
    "start_time": "2022-05-22T00:28:29.830Z"
   },
   {
    "duration": 15,
    "start_time": "2022-05-22T00:28:29.859Z"
   },
   {
    "duration": 44,
    "start_time": "2022-05-22T00:28:29.876Z"
   },
   {
    "duration": 16,
    "start_time": "2022-05-22T00:28:29.922Z"
   },
   {
    "duration": 12,
    "start_time": "2022-05-22T00:28:29.939Z"
   },
   {
    "duration": 10,
    "start_time": "2022-05-22T00:28:29.953Z"
   },
   {
    "duration": 9,
    "start_time": "2022-05-22T00:28:29.964Z"
   },
   {
    "duration": 46,
    "start_time": "2022-05-22T00:28:29.974Z"
   },
   {
    "duration": 6,
    "start_time": "2022-05-22T00:28:30.021Z"
   },
   {
    "duration": 26,
    "start_time": "2022-05-22T00:28:30.028Z"
   },
   {
    "duration": 18,
    "start_time": "2022-05-22T00:28:30.056Z"
   },
   {
    "duration": 396,
    "start_time": "2022-05-22T00:28:30.075Z"
   },
   {
    "duration": 5,
    "start_time": "2022-05-22T00:28:30.473Z"
   },
   {
    "duration": 63,
    "start_time": "2022-05-22T00:28:30.480Z"
   },
   {
    "duration": 21,
    "start_time": "2022-05-22T00:28:30.544Z"
   },
   {
    "duration": 32,
    "start_time": "2022-05-22T00:28:30.566Z"
   },
   {
    "duration": 25,
    "start_time": "2022-05-22T00:28:30.600Z"
   },
   {
    "duration": 148,
    "start_time": "2022-05-22T00:28:30.627Z"
   },
   {
    "duration": 17,
    "start_time": "2022-05-22T00:28:30.776Z"
   },
   {
    "duration": 147,
    "start_time": "2022-05-22T00:28:30.795Z"
   },
   {
    "duration": 17,
    "start_time": "2022-05-22T00:28:30.944Z"
   },
   {
    "duration": 166,
    "start_time": "2022-05-22T00:28:30.963Z"
   },
   {
    "duration": 50,
    "start_time": "2022-05-22T00:29:58.992Z"
   },
   {
    "duration": 373,
    "start_time": "2022-05-22T00:35:39.165Z"
   },
   {
    "duration": 76,
    "start_time": "2022-05-22T00:35:39.540Z"
   },
   {
    "duration": 22,
    "start_time": "2022-05-22T00:35:39.620Z"
   },
   {
    "duration": 16,
    "start_time": "2022-05-22T00:35:39.643Z"
   },
   {
    "duration": 11,
    "start_time": "2022-05-22T00:35:39.661Z"
   },
   {
    "duration": 46,
    "start_time": "2022-05-22T00:35:39.674Z"
   },
   {
    "duration": 5,
    "start_time": "2022-05-22T00:35:39.721Z"
   },
   {
    "duration": 8,
    "start_time": "2022-05-22T00:35:39.727Z"
   },
   {
    "duration": 2,
    "start_time": "2022-05-22T00:35:39.738Z"
   },
   {
    "duration": 7,
    "start_time": "2022-05-22T00:35:39.741Z"
   },
   {
    "duration": 9,
    "start_time": "2022-05-22T00:35:39.749Z"
   },
   {
    "duration": 80,
    "start_time": "2022-05-22T00:35:39.759Z"
   },
   {
    "duration": 28,
    "start_time": "2022-05-22T00:35:39.840Z"
   },
   {
    "duration": 6,
    "start_time": "2022-05-22T00:35:39.869Z"
   },
   {
    "duration": 5,
    "start_time": "2022-05-22T00:35:39.877Z"
   },
   {
    "duration": 43,
    "start_time": "2022-05-22T00:35:39.883Z"
   },
   {
    "duration": 12,
    "start_time": "2022-05-22T00:35:39.927Z"
   },
   {
    "duration": 6,
    "start_time": "2022-05-22T00:35:39.941Z"
   },
   {
    "duration": 14,
    "start_time": "2022-05-22T00:35:39.948Z"
   },
   {
    "duration": 9,
    "start_time": "2022-05-22T00:35:39.963Z"
   },
   {
    "duration": 43,
    "start_time": "2022-05-22T00:35:39.974Z"
   },
   {
    "duration": 8,
    "start_time": "2022-05-22T00:35:40.019Z"
   },
   {
    "duration": 7,
    "start_time": "2022-05-22T00:35:40.028Z"
   },
   {
    "duration": 11,
    "start_time": "2022-05-22T00:35:40.037Z"
   },
   {
    "duration": 5,
    "start_time": "2022-05-22T00:35:40.050Z"
   },
   {
    "duration": 55,
    "start_time": "2022-05-22T00:35:40.057Z"
   },
   {
    "duration": 6,
    "start_time": "2022-05-22T00:35:40.116Z"
   },
   {
    "duration": 18,
    "start_time": "2022-05-22T00:35:40.124Z"
   },
   {
    "duration": 19,
    "start_time": "2022-05-22T00:35:40.144Z"
   },
   {
    "duration": 54,
    "start_time": "2022-05-22T00:35:40.164Z"
   },
   {
    "duration": 67,
    "start_time": "2022-05-22T00:35:40.220Z"
   },
   {
    "duration": 28,
    "start_time": "2022-05-22T00:35:40.311Z"
   },
   {
    "duration": 17,
    "start_time": "2022-05-22T00:35:40.341Z"
   },
   {
    "duration": 19,
    "start_time": "2022-05-22T00:35:40.360Z"
   },
   {
    "duration": 46,
    "start_time": "2022-05-22T00:35:40.381Z"
   },
   {
    "duration": 13,
    "start_time": "2022-05-22T00:35:40.428Z"
   },
   {
    "duration": 10,
    "start_time": "2022-05-22T00:35:40.442Z"
   },
   {
    "duration": 6,
    "start_time": "2022-05-22T00:35:40.454Z"
   },
   {
    "duration": 55,
    "start_time": "2022-05-22T00:35:40.461Z"
   },
   {
    "duration": 10,
    "start_time": "2022-05-22T00:35:40.517Z"
   },
   {
    "duration": 16,
    "start_time": "2022-05-22T00:35:40.529Z"
   },
   {
    "duration": 13,
    "start_time": "2022-05-22T00:35:40.546Z"
   },
   {
    "duration": 401,
    "start_time": "2022-05-22T00:35:40.561Z"
   },
   {
    "duration": 22,
    "start_time": "2022-05-22T00:35:40.964Z"
   },
   {
    "duration": 39,
    "start_time": "2022-05-22T00:35:40.988Z"
   },
   {
    "duration": 148,
    "start_time": "2022-05-22T00:35:41.029Z"
   },
   {
    "duration": 16,
    "start_time": "2022-05-22T00:35:41.179Z"
   },
   {
    "duration": 128,
    "start_time": "2022-05-22T00:35:41.212Z"
   },
   {
    "duration": 15,
    "start_time": "2022-05-22T00:35:41.341Z"
   },
   {
    "duration": 172,
    "start_time": "2022-05-22T00:35:41.358Z"
   },
   {
    "duration": 450,
    "start_time": "2022-05-23T06:51:43.452Z"
   },
   {
    "duration": 292,
    "start_time": "2022-05-23T06:51:43.904Z"
   },
   {
    "duration": 19,
    "start_time": "2022-05-23T06:51:44.197Z"
   },
   {
    "duration": 16,
    "start_time": "2022-05-23T06:51:44.218Z"
   },
   {
    "duration": 10,
    "start_time": "2022-05-23T06:51:44.237Z"
   },
   {
    "duration": 10,
    "start_time": "2022-05-23T06:51:44.249Z"
   },
   {
    "duration": 5,
    "start_time": "2022-05-23T06:51:44.261Z"
   },
   {
    "duration": 7,
    "start_time": "2022-05-23T06:51:44.301Z"
   },
   {
    "duration": 14,
    "start_time": "2022-05-23T06:51:44.310Z"
   },
   {
    "duration": 5,
    "start_time": "2022-05-23T06:51:44.326Z"
   },
   {
    "duration": 10,
    "start_time": "2022-05-23T06:51:44.332Z"
   },
   {
    "duration": 61,
    "start_time": "2022-05-23T06:51:44.344Z"
   },
   {
    "duration": 29,
    "start_time": "2022-05-23T06:51:44.406Z"
   },
   {
    "duration": 7,
    "start_time": "2022-05-23T06:51:44.438Z"
   },
   {
    "duration": 5,
    "start_time": "2022-05-23T06:51:44.446Z"
   },
   {
    "duration": 18,
    "start_time": "2022-05-23T06:51:44.452Z"
   },
   {
    "duration": 41,
    "start_time": "2022-05-23T06:51:44.472Z"
   },
   {
    "duration": 7,
    "start_time": "2022-05-23T06:51:44.514Z"
   },
   {
    "duration": 14,
    "start_time": "2022-05-23T06:51:44.522Z"
   },
   {
    "duration": 7,
    "start_time": "2022-05-23T06:51:44.537Z"
   },
   {
    "duration": 5,
    "start_time": "2022-05-23T06:51:44.546Z"
   },
   {
    "duration": 9,
    "start_time": "2022-05-23T06:51:44.552Z"
   },
   {
    "duration": 5,
    "start_time": "2022-05-23T06:51:44.562Z"
   },
   {
    "duration": 39,
    "start_time": "2022-05-23T06:51:44.568Z"
   },
   {
    "duration": 6,
    "start_time": "2022-05-23T06:51:44.609Z"
   },
   {
    "duration": 10,
    "start_time": "2022-05-23T06:51:44.616Z"
   },
   {
    "duration": 4,
    "start_time": "2022-05-23T06:51:44.628Z"
   },
   {
    "duration": 16,
    "start_time": "2022-05-23T06:51:44.634Z"
   },
   {
    "duration": 50,
    "start_time": "2022-05-23T06:51:44.652Z"
   },
   {
    "duration": 17,
    "start_time": "2022-05-23T06:51:44.704Z"
   },
   {
    "duration": 84,
    "start_time": "2022-05-23T06:51:44.722Z"
   },
   {
    "duration": 26,
    "start_time": "2022-05-23T06:51:44.808Z"
   },
   {
    "duration": 15,
    "start_time": "2022-05-23T06:51:44.836Z"
   },
   {
    "duration": 17,
    "start_time": "2022-05-23T06:51:44.852Z"
   },
   {
    "duration": 43,
    "start_time": "2022-05-23T06:51:44.871Z"
   },
   {
    "duration": 12,
    "start_time": "2022-05-23T06:51:44.916Z"
   },
   {
    "duration": 12,
    "start_time": "2022-05-23T06:51:44.929Z"
   },
   {
    "duration": 6,
    "start_time": "2022-05-23T06:51:44.943Z"
   },
   {
    "duration": 15,
    "start_time": "2022-05-23T06:51:44.951Z"
   },
   {
    "duration": 6,
    "start_time": "2022-05-23T06:51:45.002Z"
   },
   {
    "duration": 18,
    "start_time": "2022-05-23T06:51:45.011Z"
   },
   {
    "duration": 15,
    "start_time": "2022-05-23T06:51:45.030Z"
   },
   {
    "duration": 593,
    "start_time": "2022-05-23T06:51:45.046Z"
   },
   {
    "duration": 23,
    "start_time": "2022-05-23T06:51:45.641Z"
   },
   {
    "duration": 41,
    "start_time": "2022-05-23T06:51:45.666Z"
   },
   {
    "duration": 155,
    "start_time": "2022-05-23T06:51:45.709Z"
   },
   {
    "duration": 13,
    "start_time": "2022-05-23T06:51:45.865Z"
   },
   {
    "duration": 130,
    "start_time": "2022-05-23T06:51:45.879Z"
   },
   {
    "duration": 14,
    "start_time": "2022-05-23T06:51:46.010Z"
   },
   {
    "duration": 148,
    "start_time": "2022-05-23T06:51:46.025Z"
   },
   {
    "duration": 443,
    "start_time": "2022-05-23T06:55:15.979Z"
   },
   {
    "duration": 71,
    "start_time": "2022-05-23T06:55:16.424Z"
   },
   {
    "duration": 20,
    "start_time": "2022-05-23T06:55:16.496Z"
   },
   {
    "duration": 17,
    "start_time": "2022-05-23T06:55:16.518Z"
   },
   {
    "duration": 9,
    "start_time": "2022-05-23T06:55:16.537Z"
   },
   {
    "duration": 11,
    "start_time": "2022-05-23T06:55:16.547Z"
   },
   {
    "duration": 4,
    "start_time": "2022-05-23T06:55:16.560Z"
   },
   {
    "duration": 8,
    "start_time": "2022-05-23T06:55:16.566Z"
   },
   {
    "duration": 32,
    "start_time": "2022-05-23T06:55:16.575Z"
   },
   {
    "duration": 3,
    "start_time": "2022-05-23T06:55:16.609Z"
   },
   {
    "duration": 10,
    "start_time": "2022-05-23T06:55:16.614Z"
   },
   {
    "duration": 47,
    "start_time": "2022-05-23T06:55:16.625Z"
   },
   {
    "duration": 3,
    "start_time": "2022-05-23T06:55:16.673Z"
   },
   {
    "duration": 52,
    "start_time": "2022-05-23T06:55:16.677Z"
   },
   {
    "duration": 6,
    "start_time": "2022-05-23T06:55:16.730Z"
   },
   {
    "duration": 5,
    "start_time": "2022-05-23T06:55:16.737Z"
   },
   {
    "duration": 22,
    "start_time": "2022-05-23T06:55:16.743Z"
   },
   {
    "duration": 12,
    "start_time": "2022-05-23T06:55:16.766Z"
   },
   {
    "duration": 4,
    "start_time": "2022-05-23T06:55:16.803Z"
   },
   {
    "duration": 17,
    "start_time": "2022-05-23T06:55:16.808Z"
   },
   {
    "duration": 8,
    "start_time": "2022-05-23T06:55:16.826Z"
   },
   {
    "duration": 6,
    "start_time": "2022-05-23T06:55:16.835Z"
   },
   {
    "duration": 7,
    "start_time": "2022-05-23T06:55:16.842Z"
   },
   {
    "duration": 7,
    "start_time": "2022-05-23T06:55:16.850Z"
   },
   {
    "duration": 10,
    "start_time": "2022-05-23T06:55:16.858Z"
   },
   {
    "duration": 37,
    "start_time": "2022-05-23T06:55:16.869Z"
   },
   {
    "duration": 11,
    "start_time": "2022-05-23T06:55:16.907Z"
   },
   {
    "duration": 5,
    "start_time": "2022-05-23T06:55:16.922Z"
   },
   {
    "duration": 18,
    "start_time": "2022-05-23T06:55:16.928Z"
   },
   {
    "duration": 17,
    "start_time": "2022-05-23T06:55:16.947Z"
   },
   {
    "duration": 43,
    "start_time": "2022-05-23T06:55:16.965Z"
   },
   {
    "duration": 66,
    "start_time": "2022-05-23T06:55:17.009Z"
   },
   {
    "duration": 46,
    "start_time": "2022-05-23T06:55:17.076Z"
   },
   {
    "duration": 16,
    "start_time": "2022-05-23T06:55:17.123Z"
   },
   {
    "duration": 18,
    "start_time": "2022-05-23T06:55:17.140Z"
   },
   {
    "duration": 42,
    "start_time": "2022-05-23T06:55:17.160Z"
   },
   {
    "duration": 12,
    "start_time": "2022-05-23T06:55:17.204Z"
   },
   {
    "duration": 10,
    "start_time": "2022-05-23T06:55:17.218Z"
   },
   {
    "duration": 11,
    "start_time": "2022-05-23T06:55:17.230Z"
   },
   {
    "duration": 18,
    "start_time": "2022-05-23T06:55:17.243Z"
   },
   {
    "duration": 11,
    "start_time": "2022-05-23T06:55:17.262Z"
   },
   {
    "duration": 30,
    "start_time": "2022-05-23T06:55:17.274Z"
   },
   {
    "duration": 26,
    "start_time": "2022-05-23T06:55:17.306Z"
   },
   {
    "duration": 411,
    "start_time": "2022-05-23T06:55:17.334Z"
   },
   {
    "duration": 25,
    "start_time": "2022-05-23T06:55:17.747Z"
   },
   {
    "duration": 45,
    "start_time": "2022-05-23T06:55:17.774Z"
   },
   {
    "duration": 160,
    "start_time": "2022-05-23T06:55:17.821Z"
   },
   {
    "duration": 19,
    "start_time": "2022-05-23T06:55:17.983Z"
   },
   {
    "duration": 126,
    "start_time": "2022-05-23T06:55:18.004Z"
   },
   {
    "duration": 15,
    "start_time": "2022-05-23T06:55:18.131Z"
   },
   {
    "duration": 142,
    "start_time": "2022-05-23T06:55:18.147Z"
   }
  ],
  "kernelspec": {
   "display_name": "Python 3 (ipykernel)",
   "language": "python",
   "name": "python3"
  },
  "language_info": {
   "codemirror_mode": {
    "name": "ipython",
    "version": 3
   },
   "file_extension": ".py",
   "mimetype": "text/x-python",
   "name": "python",
   "nbconvert_exporter": "python",
   "pygments_lexer": "ipython3",
   "version": "3.9.7"
  },
  "toc": {
   "base_numbering": 1,
   "nav_menu": {},
   "number_sections": true,
   "sideBar": true,
   "skip_h1_title": true,
   "title_cell": "Table of Contents",
   "title_sidebar": "Contents",
   "toc_cell": false,
   "toc_position": {
    "height": "calc(100% - 180px)",
    "left": "10px",
    "top": "150px",
    "width": "332.266px"
   },
   "toc_section_display": true,
   "toc_window_display": true
  }
 },
 "nbformat": 4,
 "nbformat_minor": 5
}
