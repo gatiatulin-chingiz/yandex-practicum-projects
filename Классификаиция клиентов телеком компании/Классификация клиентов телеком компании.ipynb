{
 "cells": [
  {
   "cell_type": "markdown",
   "metadata": {},
   "source": [
    "# Классификация клиентов телеком компании"
   ]
  },
  {
   "cell_type": "markdown",
   "metadata": {},
   "source": [
    "**Цель исследования** - создание оптимальной предсказательной модели для предложения клиентам лучшего тарифа из существующих на основании их потребительского поведения."
   ]
  },
  {
   "cell_type": "markdown",
   "metadata": {},
   "source": [
    "**Ход исследования:**\n",
    "1. Проведение обзора данных.\n",
    "2. Разбивка данных на обучающую, валидационну, тестовую выборки.\n",
    "3. Исследование моделей.\n",
    "4. Проверка моделей на тестовой выборке.\n",
    "5. Проверка моделей на адекватность."
   ]
  },
  {
   "cell_type": "markdown",
   "metadata": {},
   "source": [
    "## Обзор данных"
   ]
  },
  {
   "cell_type": "markdown",
   "metadata": {},
   "source": [
    "Импортируем необходимые для работы библиотеки."
   ]
  },
  {
   "cell_type": "code",
   "execution_count": 1,
   "metadata": {
    "ExecuteTime": {
     "end_time": "2023-02-11T14:51:48.936443Z",
     "start_time": "2023-02-11T14:51:46.715253Z"
    }
   },
   "outputs": [],
   "source": [
    "# Импорт стандартных библиотек\n",
    "import pandas as pd\n",
    "import seaborn as sns\n",
    "import matplotlib.pyplot as plt\n",
    "from datetime import datetime as dt\n",
    "from sklearn.metrics import roc_curve\n",
    "from sklearn.dummy import DummyClassifier\n",
    "from sklearn.metrics import roc_auc_score\n",
    "from sklearn.metrics import accuracy_score\n",
    "from sklearn.tree import DecisionTreeClassifier\n",
    "from sklearn.ensemble import RandomForestClassifier\n",
    "from sklearn.linear_model import LogisticRegression\n",
    "from sklearn.model_selection import train_test_split"
   ]
  },
  {
   "cell_type": "markdown",
   "metadata": {},
   "source": [
    "Прочитаем необходимые данные из файла."
   ]
  },
  {
   "cell_type": "code",
   "execution_count": 2,
   "metadata": {
    "ExecuteTime": {
     "end_time": "2023-02-11T14:51:48.966758Z",
     "start_time": "2023-02-11T14:51:48.938217Z"
    }
   },
   "outputs": [],
   "source": [
    "try:\n",
    "    df = pd.read_csv(('D:\\\\Users\\\\BlackEdition\\\\'\n",
    "                      'Desktop\\\\Data Science\\\\Обучение в Яндекс\\\\'\n",
    "                      '7. Введение в машинное обучение\\\\Проект\\\\users_behavior.csv'))\n",
    "except:\n",
    "    df = pd.read_csv('/datasets/users_behavior.csv')"
   ]
  },
  {
   "cell_type": "markdown",
   "metadata": {},
   "source": [
    "Выведем на экран общую информацию о датасете."
   ]
  },
  {
   "cell_type": "code",
   "execution_count": 3,
   "metadata": {
    "ExecuteTime": {
     "end_time": "2023-02-11T14:51:48.998330Z",
     "start_time": "2023-02-11T14:51:48.970871Z"
    }
   },
   "outputs": [
    {
     "name": "stdout",
     "output_type": "stream",
     "text": [
      "<class 'pandas.core.frame.DataFrame'>\n",
      "RangeIndex: 3214 entries, 0 to 3213\n",
      "Data columns (total 5 columns):\n",
      " #   Column    Non-Null Count  Dtype  \n",
      "---  ------    --------------  -----  \n",
      " 0   calls     3214 non-null   float64\n",
      " 1   minutes   3214 non-null   float64\n",
      " 2   messages  3214 non-null   float64\n",
      " 3   mb_used   3214 non-null   float64\n",
      " 4   is_ultra  3214 non-null   int64  \n",
      "dtypes: float64(4), int64(1)\n",
      "memory usage: 125.7 KB\n"
     ]
    }
   ],
   "source": [
    "df.info()"
   ]
  },
  {
   "cell_type": "code",
   "execution_count": 4,
   "metadata": {
    "ExecuteTime": {
     "end_time": "2023-02-11T14:51:49.029177Z",
     "start_time": "2023-02-11T14:51:49.000344Z"
    }
   },
   "outputs": [
    {
     "data": {
      "text/html": [
       "<div>\n",
       "<style scoped>\n",
       "    .dataframe tbody tr th:only-of-type {\n",
       "        vertical-align: middle;\n",
       "    }\n",
       "\n",
       "    .dataframe tbody tr th {\n",
       "        vertical-align: top;\n",
       "    }\n",
       "\n",
       "    .dataframe thead th {\n",
       "        text-align: right;\n",
       "    }\n",
       "</style>\n",
       "<table border=\"1\" class=\"dataframe\">\n",
       "  <thead>\n",
       "    <tr style=\"text-align: right;\">\n",
       "      <th></th>\n",
       "      <th>calls</th>\n",
       "      <th>minutes</th>\n",
       "      <th>messages</th>\n",
       "      <th>mb_used</th>\n",
       "      <th>is_ultra</th>\n",
       "    </tr>\n",
       "  </thead>\n",
       "  <tbody>\n",
       "    <tr>\n",
       "      <th>0</th>\n",
       "      <td>40.0</td>\n",
       "      <td>311.90</td>\n",
       "      <td>83.0</td>\n",
       "      <td>19915.42</td>\n",
       "      <td>0</td>\n",
       "    </tr>\n",
       "    <tr>\n",
       "      <th>1</th>\n",
       "      <td>85.0</td>\n",
       "      <td>516.75</td>\n",
       "      <td>56.0</td>\n",
       "      <td>22696.96</td>\n",
       "      <td>0</td>\n",
       "    </tr>\n",
       "    <tr>\n",
       "      <th>2</th>\n",
       "      <td>77.0</td>\n",
       "      <td>467.66</td>\n",
       "      <td>86.0</td>\n",
       "      <td>21060.45</td>\n",
       "      <td>0</td>\n",
       "    </tr>\n",
       "    <tr>\n",
       "      <th>3</th>\n",
       "      <td>106.0</td>\n",
       "      <td>745.53</td>\n",
       "      <td>81.0</td>\n",
       "      <td>8437.39</td>\n",
       "      <td>1</td>\n",
       "    </tr>\n",
       "    <tr>\n",
       "      <th>4</th>\n",
       "      <td>66.0</td>\n",
       "      <td>418.74</td>\n",
       "      <td>1.0</td>\n",
       "      <td>14502.75</td>\n",
       "      <td>0</td>\n",
       "    </tr>\n",
       "  </tbody>\n",
       "</table>\n",
       "</div>"
      ],
      "text/plain": [
       "   calls  minutes  messages   mb_used  is_ultra\n",
       "0   40.0   311.90      83.0  19915.42         0\n",
       "1   85.0   516.75      56.0  22696.96         0\n",
       "2   77.0   467.66      86.0  21060.45         0\n",
       "3  106.0   745.53      81.0   8437.39         1\n",
       "4   66.0   418.74       1.0  14502.75         0"
      ]
     },
     "execution_count": 4,
     "metadata": {},
     "output_type": "execute_result"
    }
   ],
   "source": [
    "df.head()"
   ]
  },
  {
   "cell_type": "markdown",
   "metadata": {},
   "source": [
    "### Вывод"
   ]
  },
  {
   "cell_type": "markdown",
   "metadata": {},
   "source": [
    "Из обзора данных видно, что датасет полный, пропущенных данных нет. Тип данных соответствует содержимому. Классификация данных уже проведена и не требуется."
   ]
  },
  {
   "cell_type": "markdown",
   "metadata": {},
   "source": [
    "## Разбивка на выборки"
   ]
  },
  {
   "cell_type": "markdown",
   "metadata": {},
   "source": [
    "Разобьем датасет на признаки(features) и целевой признак(target)."
   ]
  },
  {
   "cell_type": "code",
   "execution_count": 5,
   "metadata": {
    "ExecuteTime": {
     "end_time": "2023-02-11T14:51:49.044361Z",
     "start_time": "2023-02-11T14:51:49.031243Z"
    }
   },
   "outputs": [],
   "source": [
    "features = df.drop('is_ultra', axis=1)\n",
    "target = df['is_ultra']"
   ]
  },
  {
   "cell_type": "markdown",
   "metadata": {},
   "source": [
    "Выведем на экран для проверки результата."
   ]
  },
  {
   "cell_type": "code",
   "execution_count": 6,
   "metadata": {
    "ExecuteTime": {
     "end_time": "2023-02-11T14:51:49.060449Z",
     "start_time": "2023-02-11T14:51:49.048347Z"
    }
   },
   "outputs": [
    {
     "data": {
      "text/plain": [
       "(3214, 4)"
      ]
     },
     "metadata": {},
     "output_type": "display_data"
    },
    {
     "data": {
      "text/plain": [
       "(3214,)"
      ]
     },
     "metadata": {},
     "output_type": "display_data"
    }
   ],
   "source": [
    "display(features.shape, target.shape)"
   ]
  },
  {
   "cell_type": "markdown",
   "metadata": {},
   "source": [
    "Разобьем данные на обучающую и промежуточную выборки (в пропорции 60%/40%).\n",
    "Промежуточную выборку после разобьем на валидационную и тестовую (в пропорции 50%/50%)."
   ]
  },
  {
   "cell_type": "code",
   "execution_count": 7,
   "metadata": {
    "ExecuteTime": {
     "end_time": "2023-02-11T14:51:49.075589Z",
     "start_time": "2023-02-11T14:51:49.063311Z"
    }
   },
   "outputs": [],
   "source": [
    "(features_train, features_intermediate,\n",
    " target_train, target_intermediate) = (train_test_split(features, target,\n",
    "                                                        test_size=.4,\n",
    "                                                        random_state=12345))"
   ]
  },
  {
   "cell_type": "markdown",
   "metadata": {},
   "source": [
    "Выведем результат."
   ]
  },
  {
   "cell_type": "code",
   "execution_count": 8,
   "metadata": {
    "ExecuteTime": {
     "end_time": "2023-02-11T14:51:49.107263Z",
     "start_time": "2023-02-11T14:51:49.079267Z"
    }
   },
   "outputs": [
    {
     "data": {
      "text/plain": [
       "(1928, 4)"
      ]
     },
     "metadata": {},
     "output_type": "display_data"
    },
    {
     "data": {
      "text/plain": [
       "(1928,)"
      ]
     },
     "metadata": {},
     "output_type": "display_data"
    },
    {
     "data": {
      "text/plain": [
       "(1286, 4)"
      ]
     },
     "metadata": {},
     "output_type": "display_data"
    },
    {
     "data": {
      "text/plain": [
       "(1286,)"
      ]
     },
     "metadata": {},
     "output_type": "display_data"
    }
   ],
   "source": [
    "display(features_train.shape,\n",
    "        target_train.shape,\n",
    "        features_intermediate.shape,\n",
    "        target_intermediate.shape)"
   ]
  },
  {
   "cell_type": "markdown",
   "metadata": {},
   "source": [
    "Разобьем валидационную выборку на валидационную и тестовую."
   ]
  },
  {
   "cell_type": "code",
   "execution_count": 9,
   "metadata": {
    "ExecuteTime": {
     "end_time": "2023-02-11T14:51:49.123147Z",
     "start_time": "2023-02-11T14:51:49.110182Z"
    }
   },
   "outputs": [],
   "source": [
    "(features_valid, features_test,\n",
    " target_valid, target_test) = (train_test_split(features_intermediate,\n",
    "                                                target_intermediate,\n",
    "                                                test_size=.5,\n",
    "                                                random_state=12345))"
   ]
  },
  {
   "cell_type": "markdown",
   "metadata": {},
   "source": [
    "Выведем их на экран"
   ]
  },
  {
   "cell_type": "code",
   "execution_count": 10,
   "metadata": {
    "ExecuteTime": {
     "end_time": "2023-02-11T14:51:49.154156Z",
     "start_time": "2023-02-11T14:51:49.128753Z"
    }
   },
   "outputs": [
    {
     "data": {
      "text/plain": [
       "(643, 4)"
      ]
     },
     "metadata": {},
     "output_type": "display_data"
    },
    {
     "data": {
      "text/plain": [
       "(643, 4)"
      ]
     },
     "metadata": {},
     "output_type": "display_data"
    },
    {
     "data": {
      "text/plain": [
       "(643,)"
      ]
     },
     "metadata": {},
     "output_type": "display_data"
    },
    {
     "data": {
      "text/plain": [
       "(643,)"
      ]
     },
     "metadata": {},
     "output_type": "display_data"
    }
   ],
   "source": [
    "display(features_valid.shape,\n",
    "        features_test.shape,\n",
    "        target_valid.shape,\n",
    "        target_test.shape)"
   ]
  },
  {
   "cell_type": "markdown",
   "metadata": {},
   "source": [
    "### Вывод"
   ]
  },
  {
   "cell_type": "markdown",
   "metadata": {},
   "source": [
    "Датасет был разбит на обучающую(тренировочную), валидационную и тестовую выборки для дальнейшей оценки качества различных моделей."
   ]
  },
  {
   "cell_type": "markdown",
   "metadata": {},
   "source": [
    "## Исследование моделей"
   ]
  },
  {
   "cell_type": "markdown",
   "metadata": {},
   "source": [
    "**Решающее дерево**"
   ]
  },
  {
   "cell_type": "markdown",
   "metadata": {},
   "source": [
    "Исследуем модель решающего дерева с глубиной от 1 до 8."
   ]
  },
  {
   "cell_type": "code",
   "execution_count": 11,
   "metadata": {
    "ExecuteTime": {
     "end_time": "2023-02-11T14:51:49.297424Z",
     "start_time": "2023-02-11T14:51:49.160039Z"
    }
   },
   "outputs": [
    {
     "name": "stdout",
     "output_type": "stream",
     "text": [
      "Максимальная глубина: 1\n",
      "Качество на обучающей выборке: 0.7577800829875518\n",
      "Качество на валидационной выборке: 0.7542768273716952\n",
      "\n",
      "Максимальная глубина: 2\n",
      "Качество на обучающей выборке: 0.7878630705394191\n",
      "Качество на валидационной выборке: 0.7822706065318819\n",
      "\n",
      "Максимальная глубина: 3\n",
      "Качество на обучающей выборке: 0.8075726141078838\n",
      "Качество на валидационной выборке: 0.7853810264385692\n",
      "\n",
      "Максимальная глубина: 4\n",
      "Качество на обучающей выборке: 0.8106846473029046\n",
      "Качество на валидационной выборке: 0.7791601866251944\n",
      "\n",
      "Максимальная глубина: 5\n",
      "Качество на обучающей выборке: 0.8200207468879668\n",
      "Качество на валидационной выборке: 0.7791601866251944\n",
      "\n",
      "Максимальная глубина: 6\n",
      "Качество на обучающей выборке: 0.8376556016597511\n",
      "Качество на валидационной выборке: 0.7838258164852255\n",
      "\n",
      "Максимальная глубина: 7\n",
      "Качество на обучающей выборке: 0.8558091286307054\n",
      "Качество на валидационной выборке: 0.7822706065318819\n",
      "\n",
      "Максимальная глубина: 8\n",
      "Качество на обучающей выборке: 0.8625518672199171\n",
      "Качество на валидационной выборке: 0.7791601866251944\n",
      "\n",
      "('Лучшая модель | глубина 3', 'качество 0.7853810264385692')\n",
      "Wall time: 115 ms\n"
     ]
    }
   ],
   "source": [
    "%%time\n",
    "\n",
    "best_tree_model = None  # Переменная для хранения информации о лучшей модели\n",
    "best_depth = 0  # Переменная для хранения информации о лучшей глубине дерева\n",
    "best_accuracy_valid = 0  # Переменная для хранения информации о лучшей точности\n",
    "\n",
    "for depth in range(1, 9):\n",
    "    model_decision_tree = DecisionTreeClassifier(random_state=12345,\n",
    "                                                 max_depth=depth)\n",
    "    model_decision_tree.fit(features_train, target_train)\n",
    "    prediction_train = model_decision_tree.predict(features_train)\n",
    "    prediction_valid = model_decision_tree.predict(features_valid)\n",
    "    accuracy_train = accuracy_score(target_train, prediction_train)\n",
    "    accuracy_valid = accuracy_score(target_valid, prediction_valid)\n",
    "    print(f'Максимальная глубина: {depth}')\n",
    "    print(f'Качество на обучающей выборке: {accuracy_train}')\n",
    "    print(f'Качество на валидационной выборке: {accuracy_valid}')\n",
    "    print()\n",
    "    if accuracy_valid > best_accuracy_valid:\n",
    "        best_depth = depth\n",
    "        best_accuracy_valid = accuracy_valid\n",
    "        best_tree_model = model_decision_tree\n",
    "\n",
    "print((f'Лучшая модель | глубина {best_depth}',\n",
    "         f'качество {best_accuracy_valid}'))"
   ]
  },
  {
   "cell_type": "markdown",
   "metadata": {},
   "source": [
    "**Случайный лес**"
   ]
  },
  {
   "cell_type": "markdown",
   "metadata": {},
   "source": [
    "Исследуем модель случайного леса с количеством деревьев до 27, глубиной до 9."
   ]
  },
  {
   "cell_type": "code",
   "execution_count": 12,
   "metadata": {
    "ExecuteTime": {
     "end_time": "2023-02-11T14:54:53.441540Z",
     "start_time": "2023-02-11T14:51:49.304404Z"
    }
   },
   "outputs": [
    {
     "name": "stdout",
     "output_type": "stream",
     "text": [
      "Лучшая модель | количество деревьев 40 глубина 8 качество 0.8087091757387247\n",
      "Wall time: 3min 4s\n"
     ]
    }
   ],
   "source": [
    "%%time\n",
    "\n",
    "\n",
    "best_forest_model = None  # Переменная для хранения информации о лучшей модели\n",
    "best_est = 0  # Переменная для хранения информации о количестве деревьев\n",
    "best_depth = 0  # Переменная для хранения информации о глубине деревьев\n",
    "best_accuracy = 0  # Переменная для хранения информации о лучшей точности\n",
    "\n",
    "for est in range(1, 101):\n",
    "    for depth in range(1, 11):\n",
    "        model_random_forest = RandomForestClassifier(random_state=12345,\n",
    "                                                     n_estimators=est,\n",
    "                                                     max_depth=depth)\n",
    "        model_random_forest.fit(features_train, target_train)\n",
    "        prediction_valid = model_random_forest.predict(features_valid)\n",
    "        accuracy = accuracy_score(target_valid, prediction_valid)\n",
    "        if accuracy > best_accuracy:\n",
    "            best_est = est\n",
    "            best_depth = depth\n",
    "            best_accuracy = accuracy\n",
    "            best_forest_model = model_random_forest\n",
    "\n",
    "print(f'Лучшая модель | количество деревьев {best_est}',\n",
    "        f'глубина {best_depth}',\n",
    "        f'качество {best_accuracy}')"
   ]
  },
  {
   "cell_type": "markdown",
   "metadata": {},
   "source": [
    "**Логистическая регрессия**"
   ]
  },
  {
   "cell_type": "markdown",
   "metadata": {},
   "source": [
    "Исследуем модель логистической регрессии с максимальной итерацией 100."
   ]
  },
  {
   "cell_type": "code",
   "execution_count": 13,
   "metadata": {
    "ExecuteTime": {
     "end_time": "2023-02-11T14:54:53.489535Z",
     "start_time": "2023-02-11T14:54:53.444493Z"
    }
   },
   "outputs": [
    {
     "name": "stdout",
     "output_type": "stream",
     "text": [
      "Лучшая модель | качество 0.7107309486780715\n",
      "Wall time: 31.9 ms\n"
     ]
    }
   ],
   "source": [
    "%%time\n",
    "\n",
    "best_regression_model = None  # Переменная для хранения информации о лучшей модели\n",
    "\n",
    "model_logistic_regression = LogisticRegression(random_state=12345,\n",
    "                                               solver='lbfgs',\n",
    "                                               max_iter=100)\n",
    "model_logistic_regression.fit(features_train, target_train)\n",
    "prediction_valid = model_logistic_regression.predict(features_valid)\n",
    "accuracy = accuracy_score(target_valid, prediction_valid)\n",
    "best_regression_model = model_logistic_regression\n",
    "\n",
    "print(f'Лучшая модель | качество {accuracy}')"
   ]
  },
  {
   "cell_type": "markdown",
   "metadata": {},
   "source": [
    "### Вывод"
   ]
  },
  {
   "cell_type": "markdown",
   "metadata": {},
   "source": [
    "Исходя из проведенной проверки точности моделей можно сделать вывод, что самой качественной моделью для данного набора данных является \"Случайный лес\", с точностью 81%. Количество деревьев - 40, глубина - 8."
   ]
  },
  {
   "cell_type": "markdown",
   "metadata": {},
   "source": [
    "## Проверка модели на тестовой выборке"
   ]
  },
  {
   "cell_type": "markdown",
   "metadata": {},
   "source": [
    "Проверим модель случайного леса на тестовой выборке."
   ]
  },
  {
   "cell_type": "markdown",
   "metadata": {},
   "source": [
    "**Проверка случайного леса**"
   ]
  },
  {
   "cell_type": "code",
   "execution_count": 14,
   "metadata": {
    "ExecuteTime": {
     "end_time": "2023-02-11T14:54:53.520510Z",
     "start_time": "2023-02-11T14:54:53.491335Z"
    }
   },
   "outputs": [
    {
     "data": {
      "text/plain": [
       "'Качество модели на тестовой выборке: 0.7962674961119751'"
      ]
     },
     "metadata": {},
     "output_type": "display_data"
    }
   ],
   "source": [
    "prediction_test = best_forest_model.predict(features_test)\n",
    "accuracy = accuracy_score(target_test, prediction_test)\n",
    "display(f'Качество модели на тестовой выборке: {accuracy}')"
   ]
  },
  {
   "cell_type": "markdown",
   "metadata": {},
   "source": [
    "# Вывод"
   ]
  },
  {
   "cell_type": "markdown",
   "metadata": {},
   "source": [
    "На тестовой выборке результат у модели чуть хуже, чем на валидационной - 80%."
   ]
  },
  {
   "cell_type": "markdown",
   "metadata": {},
   "source": [
    "## Проверка модели на адекватность"
   ]
  },
  {
   "cell_type": "markdown",
   "metadata": {},
   "source": [
    "Проверим адеватность моделей с помощью ROC-кривой для бинарной классификации."
   ]
  },
  {
   "cell_type": "markdown",
   "metadata": {},
   "source": [
    "**Решающее дерево**"
   ]
  },
  {
   "cell_type": "code",
   "execution_count": 15,
   "metadata": {
    "ExecuteTime": {
     "end_time": "2023-02-11T14:54:53.791118Z",
     "start_time": "2023-02-11T14:54:53.522382Z"
    }
   },
   "outputs": [
    {
     "data": {
      "text/plain": [
       "'AUC-ROC = '"
      ]
     },
     "metadata": {},
     "output_type": "display_data"
    },
    {
     "data": {
      "text/plain": [
       "0.6990315718763994"
      ]
     },
     "metadata": {},
     "output_type": "display_data"
    },
    {
     "data": {
      "image/png": "[encoded data removed]",
      "text/plain": [
       "<Figure size 720x576 with 1 Axes>"
      ]
     },
     "metadata": {},
     "output_type": "display_data"
    }
   ],
   "source": [
    "# Расчет площади под кривой рабочих характеристик приемника (AUC-ROC).\n",
    "display('AUC-ROC = ', roc_auc_score(target_test,\n",
    "                                    best_tree_model.predict_proba(features_test)[:, 1]))\n",
    "\n",
    "# Построение графика\n",
    "sns.set(font_scale=1.5)\n",
    "sns.set_color_codes(\"muted\")\n",
    "\n",
    "plt.figure(figsize=(10, 8))\n",
    "fpr, tpr, thresholds = roc_curve(target_test,\n",
    "                                 best_tree_model.predict(features_test), pos_label=1)\n",
    "lw = 2\n",
    "plt.plot(fpr, tpr, lw=lw, label='ROC curve ')\n",
    "plt.plot([0, 1], [0, 1])\n",
    "plt.xlim([0.0, 1.0])\n",
    "plt.ylim([0.0, 1.05])\n",
    "plt.xlabel('False Positive Rate')\n",
    "plt.ylabel('True Positive Rate')\n",
    "plt.title('ROC curve')\n",
    "plt.show()"
   ]
  },
  {
   "cell_type": "markdown",
   "metadata": {},
   "source": [
    "Из полученных данных видно, что площадь AUC-ROC = 70% по сравнению с accuracy 79%."
   ]
  },
  {
   "cell_type": "markdown",
   "metadata": {},
   "source": [
    "**Случайный лес**"
   ]
  },
  {
   "cell_type": "code",
   "execution_count": 16,
   "metadata": {
    "ExecuteTime": {
     "end_time": "2023-02-11T14:54:54.090733Z",
     "start_time": "2023-02-11T14:54:53.795075Z"
    }
   },
   "outputs": [
    {
     "data": {
      "text/plain": [
       "'AUC-ROC = '"
      ]
     },
     "metadata": {},
     "output_type": "display_data"
    },
    {
     "data": {
      "text/plain": [
       "0.8242330944917151"
      ]
     },
     "metadata": {},
     "output_type": "display_data"
    },
    {
     "data": {
      "image/png": "[encoded data removed]",
      "text/plain": [
       "<Figure size 720x576 with 1 Axes>"
      ]
     },
     "metadata": {},
     "output_type": "display_data"
    }
   ],
   "source": [
    "# Расчет площади под кривой рабочих характеристик приемника (AUC-ROC).\n",
    "display('AUC-ROC = ', roc_auc_score(target_test,\n",
    "                                    best_forest_model.predict_proba(features_test)[:, 1]))\n",
    "\n",
    "# Построение графика\n",
    "sns.set(font_scale=1.5)\n",
    "sns.set_color_codes(\"muted\")\n",
    "\n",
    "plt.figure(figsize=(10, 8))\n",
    "fpr, tpr, thresholds = roc_curve(target_test,\n",
    "                                 best_forest_model.predict(features_test), pos_label=1)\n",
    "plt.plot(fpr, tpr, lw=2, label='ROC curve ')\n",
    "plt.plot([0, 1], [0, 1])\n",
    "plt.xlim([0.0, 1.0])\n",
    "plt.ylim([0.0, 1.05])\n",
    "plt.xlabel('False Positive Rate')\n",
    "plt.ylabel('True Positive Rate')\n",
    "plt.title('ROC curve')\n",
    "plt.show()"
   ]
  },
  {
   "cell_type": "markdown",
   "metadata": {},
   "source": [
    "Из полученных данных видно, что площадь AUC-ROC = 82% по сравнению с accuracy 81%."
   ]
  },
  {
   "cell_type": "markdown",
   "metadata": {},
   "source": [
    "**Проверка логистической регрессии**"
   ]
  },
  {
   "cell_type": "code",
   "execution_count": 17,
   "metadata": {
    "ExecuteTime": {
     "end_time": "2023-02-11T14:54:54.326767Z",
     "start_time": "2023-02-11T14:54:54.092728Z"
    },
    "scrolled": true
   },
   "outputs": [
    {
     "data": {
      "text/plain": [
       "'AUC-ROC = '"
      ]
     },
     "metadata": {},
     "output_type": "display_data"
    },
    {
     "data": {
      "text/plain": [
       "0.44510747872816836"
      ]
     },
     "metadata": {},
     "output_type": "display_data"
    },
    {
     "data": {
      "image/png": "[encoded data removed]",
      "text/plain": [
       "<Figure size 720x576 with 1 Axes>"
      ]
     },
     "metadata": {},
     "output_type": "display_data"
    }
   ],
   "source": [
    "# Расчет площади под кривой рабочих характеристик приемника (AUC-ROC).\n",
    "display('AUC-ROC = ', roc_auc_score(target_test,\n",
    "                                    best_regression_model.predict_proba(features_test)[:, 1]))\n",
    "\n",
    "# Построение графика\n",
    "sns.set(font_scale=1.5)\n",
    "sns.set_color_codes(\"muted\")\n",
    "\n",
    "plt.figure(figsize=(10, 8))\n",
    "fpr, tpr, thresholds = roc_curve(target_test,\n",
    "                                 best_regression_model.predict(features_test), pos_label=1)\n",
    "plt.plot(fpr, tpr, lw=2, label='ROC curve ')\n",
    "plt.plot([0, 1], [0, 1])\n",
    "plt.xlim([0.0, 1.0])\n",
    "plt.ylim([0.0, 1.05])\n",
    "plt.xlabel('False Positive Rate')\n",
    "plt.ylabel('True Positive Rate')\n",
    "plt.title('ROC curve')\n",
    "plt.show()"
   ]
  },
  {
   "cell_type": "markdown",
   "metadata": {},
   "source": [
    "Из полученных данных видно, что площадь AUC-ROC = 45% по сравнению с accuracy 71%."
   ]
  },
  {
   "cell_type": "code",
   "execution_count": 18,
   "metadata": {
    "ExecuteTime": {
     "end_time": "2023-02-11T14:54:54.342852Z",
     "start_time": "2023-02-11T14:54:54.329853Z"
    }
   },
   "outputs": [
    {
     "data": {
      "text/plain": [
       "0.6924273858921162"
      ]
     },
     "execution_count": 18,
     "metadata": {},
     "output_type": "execute_result"
    }
   ],
   "source": [
    "dummy_clf = DummyClassifier(strategy=\"most_frequent\")\n",
    "dummy_clf.fit(features_train, target_train)\n",
    "dummy_clf.predict(features_valid)\n",
    "dummy_clf.score(features_train, target_train)"
   ]
  },
  {
   "cell_type": "markdown",
   "metadata": {},
   "source": [
    "### Вывод"
   ]
  },
  {
   "cell_type": "markdown",
   "metadata": {},
   "source": [
    "Из анализа площади AUC-ROC видно, что наилучшее качество неизменно показывает модель Случайного леса. "
   ]
  },
  {
   "cell_type": "markdown",
   "metadata": {},
   "source": [
    "## Общий вывод"
   ]
  },
  {
   "cell_type": "markdown",
   "metadata": {},
   "source": [
    "Нами были рассмотрены три модели бинарной классификации с перебором гиперпараметров:\n",
    "1. Решающее дерево.\n",
    "2. Случайный лес.\n",
    "3. Логистическая регрессия.\n",
    "\n",
    "По итогам рассмотрения наилучее качество показал Случайный лес.\n",
    "\n",
    "Точность(Accuracy) Случайного леса составила 81% на валидационной выборке, 80% на тестовой выборке и 82% при проверке площади под кривой рабочих характеристик приемника (AUC-ROC)."
   ]
  }
 ],
 "metadata": {
  "ExecuteTimeLog": [
   {
    "duration": 1974,
    "start_time": "2022-07-08T06:22:01.044Z"
   },
   {
    "duration": 197,
    "start_time": "2022-07-08T06:22:03.020Z"
   },
   {
    "duration": 13,
    "start_time": "2022-07-08T06:22:03.219Z"
   },
   {
    "duration": 18,
    "start_time": "2022-07-08T06:22:03.234Z"
   },
   {
    "duration": 5,
    "start_time": "2022-07-08T06:22:03.254Z"
   },
   {
    "duration": 18,
    "start_time": "2022-07-08T06:22:03.260Z"
   },
   {
    "duration": 6,
    "start_time": "2022-07-08T06:22:03.279Z"
   },
   {
    "duration": 31,
    "start_time": "2022-07-08T06:22:03.287Z"
   },
   {
    "duration": 4,
    "start_time": "2022-07-08T06:22:03.320Z"
   },
   {
    "duration": 27,
    "start_time": "2022-07-08T06:22:03.326Z"
   },
   {
    "duration": 95,
    "start_time": "2022-07-08T06:22:03.354Z"
   },
   {
    "duration": 9242,
    "start_time": "2022-07-08T06:22:03.451Z"
   },
   {
    "duration": 28,
    "start_time": "2022-07-08T06:22:12.696Z"
   },
   {
    "duration": 10,
    "start_time": "2022-07-08T06:22:12.726Z"
   },
   {
    "duration": 236,
    "start_time": "2022-07-08T06:22:12.739Z"
   },
   {
    "duration": 208,
    "start_time": "2022-07-08T06:22:12.977Z"
   },
   {
    "duration": 202,
    "start_time": "2022-07-08T06:22:13.187Z"
   },
   {
    "duration": 1641,
    "start_time": "2022-07-08T06:22:23.878Z"
   },
   {
    "duration": 85,
    "start_time": "2022-07-08T06:22:25.521Z"
   },
   {
    "duration": 16,
    "start_time": "2022-07-08T06:22:25.608Z"
   },
   {
    "duration": 22,
    "start_time": "2022-07-08T06:22:25.626Z"
   },
   {
    "duration": 6,
    "start_time": "2022-07-08T06:22:25.650Z"
   },
   {
    "duration": 22,
    "start_time": "2022-07-08T06:22:25.657Z"
   },
   {
    "duration": 20,
    "start_time": "2022-07-08T06:22:25.681Z"
   },
   {
    "duration": 27,
    "start_time": "2022-07-08T06:22:25.703Z"
   },
   {
    "duration": 5,
    "start_time": "2022-07-08T06:22:25.731Z"
   },
   {
    "duration": 29,
    "start_time": "2022-07-08T06:22:25.738Z"
   },
   {
    "duration": 87,
    "start_time": "2022-07-08T06:22:25.768Z"
   },
   {
    "duration": 9176,
    "start_time": "2022-07-08T06:22:25.857Z"
   },
   {
    "duration": 28,
    "start_time": "2022-07-08T06:22:35.034Z"
   },
   {
    "duration": 14,
    "start_time": "2022-07-08T06:22:35.064Z"
   },
   {
    "duration": 228,
    "start_time": "2022-07-08T06:22:35.079Z"
   },
   {
    "duration": 220,
    "start_time": "2022-07-08T06:22:35.309Z"
   },
   {
    "duration": 203,
    "start_time": "2022-07-08T06:22:35.530Z"
   },
   {
    "duration": 44,
    "start_time": "2022-07-08T09:44:06.074Z"
   },
   {
    "duration": 1504,
    "start_time": "2022-07-08T09:44:10.320Z"
   },
   {
    "duration": 67,
    "start_time": "2022-07-08T09:44:11.826Z"
   },
   {
    "duration": 11,
    "start_time": "2022-07-08T09:44:11.894Z"
   },
   {
    "duration": 16,
    "start_time": "2022-07-08T09:44:11.907Z"
   },
   {
    "duration": 4,
    "start_time": "2022-07-08T09:44:11.925Z"
   },
   {
    "duration": 17,
    "start_time": "2022-07-08T09:44:11.930Z"
   },
   {
    "duration": 7,
    "start_time": "2022-07-08T09:44:11.948Z"
   },
   {
    "duration": 24,
    "start_time": "2022-07-08T09:44:11.957Z"
   },
   {
    "duration": 5,
    "start_time": "2022-07-08T09:44:11.982Z"
   },
   {
    "duration": 50,
    "start_time": "2022-07-08T09:44:11.988Z"
   },
   {
    "duration": 59,
    "start_time": "2022-07-08T09:44:12.039Z"
   },
   {
    "duration": 8392,
    "start_time": "2022-07-08T09:44:12.124Z"
   },
   {
    "duration": 25,
    "start_time": "2022-07-08T09:44:20.523Z"
   },
   {
    "duration": 10,
    "start_time": "2022-07-08T09:44:20.550Z"
   },
   {
    "duration": 199,
    "start_time": "2022-07-08T09:44:20.561Z"
   },
   {
    "duration": 193,
    "start_time": "2022-07-08T09:44:20.762Z"
   },
   {
    "duration": 193,
    "start_time": "2022-07-08T09:44:20.956Z"
   },
   {
    "duration": 17,
    "start_time": "2022-07-08T09:44:46.979Z"
   },
   {
    "duration": 8,
    "start_time": "2022-07-08T09:45:15.237Z"
   },
   {
    "duration": 48,
    "start_time": "2022-07-08T09:47:13.572Z"
   },
   {
    "duration": 6,
    "start_time": "2022-07-08T09:48:11.468Z"
   },
   {
    "duration": 8,
    "start_time": "2022-07-08T09:48:21.969Z"
   },
   {
    "duration": 242,
    "start_time": "2022-07-08T09:48:50.969Z"
   },
   {
    "duration": 74,
    "start_time": "2022-07-08T09:53:35.421Z"
   },
   {
    "duration": 16,
    "start_time": "2022-07-08T09:53:42.798Z"
   },
   {
    "duration": 73,
    "start_time": "2022-07-08T09:53:48.128Z"
   },
   {
    "duration": 4,
    "start_time": "2022-07-08T09:54:46.175Z"
   },
   {
    "duration": 58,
    "start_time": "2022-07-08T09:54:46.181Z"
   },
   {
    "duration": 9,
    "start_time": "2022-07-08T09:54:46.241Z"
   },
   {
    "duration": 8,
    "start_time": "2022-07-08T09:54:46.252Z"
   },
   {
    "duration": 12,
    "start_time": "2022-07-08T09:54:46.262Z"
   },
   {
    "duration": 81,
    "start_time": "2022-07-08T09:54:46.275Z"
   },
   {
    "duration": 9,
    "start_time": "2022-07-08T09:54:46.358Z"
   },
   {
    "duration": 14,
    "start_time": "2022-07-08T09:54:46.369Z"
   },
   {
    "duration": 4,
    "start_time": "2022-07-08T09:54:46.385Z"
   },
   {
    "duration": 10,
    "start_time": "2022-07-08T09:54:46.390Z"
   },
   {
    "duration": 64,
    "start_time": "2022-07-08T09:54:46.424Z"
   },
   {
    "duration": 8930,
    "start_time": "2022-07-08T09:54:46.489Z"
   },
   {
    "duration": 32,
    "start_time": "2022-07-08T09:54:55.420Z"
   },
   {
    "duration": 14,
    "start_time": "2022-07-08T09:54:55.454Z"
   },
   {
    "duration": 204,
    "start_time": "2022-07-08T09:54:55.470Z"
   },
   {
    "duration": 217,
    "start_time": "2022-07-08T09:54:55.676Z"
   },
   {
    "duration": 190,
    "start_time": "2022-07-08T09:54:55.895Z"
   },
   {
    "duration": 70,
    "start_time": "2022-07-08T09:55:09.570Z"
   },
   {
    "duration": 63,
    "start_time": "2022-07-08T09:56:36.020Z"
   },
   {
    "duration": 3,
    "start_time": "2022-07-08T09:56:48.619Z"
   },
   {
    "duration": 61,
    "start_time": "2022-07-08T09:56:48.627Z"
   },
   {
    "duration": 9,
    "start_time": "2022-07-08T09:56:48.690Z"
   },
   {
    "duration": 12,
    "start_time": "2022-07-08T09:56:48.701Z"
   },
   {
    "duration": 7,
    "start_time": "2022-07-08T09:56:48.715Z"
   },
   {
    "duration": 7,
    "start_time": "2022-07-08T09:56:48.724Z"
   },
   {
    "duration": 10,
    "start_time": "2022-07-08T09:56:48.732Z"
   },
   {
    "duration": 9,
    "start_time": "2022-07-08T09:56:48.744Z"
   },
   {
    "duration": 5,
    "start_time": "2022-07-08T09:56:48.755Z"
   },
   {
    "duration": 7,
    "start_time": "2022-07-08T09:56:48.761Z"
   },
   {
    "duration": 92,
    "start_time": "2022-07-08T09:56:48.770Z"
   },
   {
    "duration": 8350,
    "start_time": "2022-07-08T09:56:48.863Z"
   },
   {
    "duration": 42,
    "start_time": "2022-07-08T09:56:57.215Z"
   },
   {
    "duration": 13,
    "start_time": "2022-07-08T09:56:57.259Z"
   },
   {
    "duration": 237,
    "start_time": "2022-07-08T09:56:57.274Z"
   },
   {
    "duration": 191,
    "start_time": "2022-07-08T09:56:57.513Z"
   },
   {
    "duration": 189,
    "start_time": "2022-07-08T09:56:57.706Z"
   },
   {
    "duration": 49,
    "start_time": "2022-07-08T09:57:55.185Z"
   },
   {
    "duration": 45,
    "start_time": "2022-07-08T09:57:58.966Z"
   },
   {
    "duration": 103931,
    "start_time": "2022-07-08T09:58:40.393Z"
   },
   {
    "duration": 48,
    "start_time": "2022-07-08T10:02:56.624Z"
   },
   {
    "duration": 25,
    "start_time": "2022-07-08T10:05:27.954Z"
   },
   {
    "duration": 57,
    "start_time": "2022-07-08T17:53:35.579Z"
   },
   {
    "duration": 1946,
    "start_time": "2022-07-08T17:53:37.609Z"
   },
   {
    "duration": 87,
    "start_time": "2022-07-08T17:53:39.557Z"
   },
   {
    "duration": 13,
    "start_time": "2022-07-08T17:53:39.645Z"
   },
   {
    "duration": 49,
    "start_time": "2022-07-08T17:53:39.661Z"
   },
   {
    "duration": 4,
    "start_time": "2022-07-08T17:53:39.712Z"
   },
   {
    "duration": 12,
    "start_time": "2022-07-08T17:53:39.717Z"
   },
   {
    "duration": 8,
    "start_time": "2022-07-08T17:53:39.730Z"
   },
   {
    "duration": 13,
    "start_time": "2022-07-08T17:53:39.739Z"
   },
   {
    "duration": 5,
    "start_time": "2022-07-08T17:53:39.753Z"
   },
   {
    "duration": 41,
    "start_time": "2022-07-08T17:53:39.760Z"
   },
   {
    "duration": 85,
    "start_time": "2022-07-08T17:53:39.803Z"
   },
   {
    "duration": 119711,
    "start_time": "2022-07-08T17:53:39.890Z"
   },
   {
    "duration": 29,
    "start_time": "2022-07-08T17:55:39.603Z"
   },
   {
    "duration": 26,
    "start_time": "2022-07-08T17:55:39.634Z"
   },
   {
    "duration": 235,
    "start_time": "2022-07-08T17:55:39.663Z"
   },
   {
    "duration": 330,
    "start_time": "2022-07-08T17:55:39.900Z"
   },
   {
    "duration": 103,
    "start_time": "2022-07-08T17:55:40.232Z"
   },
   {
    "duration": 48,
    "start_time": "2022-07-08T18:01:59.367Z"
   },
   {
    "duration": 139370,
    "start_time": "2022-07-08T18:02:21.126Z"
   },
   {
    "duration": 26,
    "start_time": "2022-07-08T18:04:55.876Z"
   },
   {
    "duration": 30,
    "start_time": "2022-07-08T18:04:59.576Z"
   },
   {
    "duration": 27,
    "start_time": "2022-07-08T18:05:12.487Z"
   },
   {
    "duration": 25,
    "start_time": "2022-07-08T18:05:14.015Z"
   },
   {
    "duration": 24,
    "start_time": "2022-07-08T18:05:34.821Z"
   },
   {
    "duration": 1840,
    "start_time": "2022-07-09T19:29:46.495Z"
   },
   {
    "duration": 208,
    "start_time": "2022-07-09T19:29:48.339Z"
   },
   {
    "duration": 13,
    "start_time": "2022-07-09T19:29:48.549Z"
   },
   {
    "duration": 21,
    "start_time": "2022-07-09T19:29:48.564Z"
   },
   {
    "duration": 6,
    "start_time": "2022-07-09T19:29:48.587Z"
   },
   {
    "duration": 14,
    "start_time": "2022-07-09T19:29:48.595Z"
   },
   {
    "duration": 37,
    "start_time": "2022-07-09T19:29:48.610Z"
   },
   {
    "duration": 8,
    "start_time": "2022-07-09T19:29:48.649Z"
   },
   {
    "duration": 4,
    "start_time": "2022-07-09T19:29:48.659Z"
   },
   {
    "duration": 8,
    "start_time": "2022-07-09T19:29:48.665Z"
   },
   {
    "duration": 85,
    "start_time": "2022-07-09T19:29:48.675Z"
   },
   {
    "duration": 145168,
    "start_time": "2022-07-09T19:29:48.761Z"
   },
   {
    "duration": 30,
    "start_time": "2022-07-09T19:32:13.936Z"
   },
   {
    "duration": 13,
    "start_time": "2022-07-09T19:32:13.969Z"
   },
   {
    "duration": 267,
    "start_time": "2022-07-09T19:32:13.983Z"
   },
   {
    "duration": 310,
    "start_time": "2022-07-09T19:32:14.252Z"
   },
   {
    "duration": 166,
    "start_time": "2022-07-09T19:32:14.564Z"
   }
  ],
  "kernelspec": {
   "display_name": "Python 3 (ipykernel)",
   "language": "python",
   "name": "python3"
  },
  "language_info": {
   "codemirror_mode": {
    "name": "ipython",
    "version": 3
   },
   "file_extension": ".py",
   "mimetype": "text/x-python",
   "name": "python",
   "nbconvert_exporter": "python",
   "pygments_lexer": "ipython3",
   "version": "3.9.7"
  },
  "toc": {
   "base_numbering": 1,
   "nav_menu": {},
   "number_sections": true,
   "sideBar": true,
   "skip_h1_title": true,
   "title_cell": "Table of Contents",
   "title_sidebar": "Contents",
   "toc_cell": false,
   "toc_position": {
    "height": "calc(100% - 180px)",
    "left": "10px",
    "top": "150px",
    "width": "329.492px"
   },
   "toc_section_display": true,
   "toc_window_display": true
  }
 },
 "nbformat": 4,
 "nbformat_minor": 2
}
