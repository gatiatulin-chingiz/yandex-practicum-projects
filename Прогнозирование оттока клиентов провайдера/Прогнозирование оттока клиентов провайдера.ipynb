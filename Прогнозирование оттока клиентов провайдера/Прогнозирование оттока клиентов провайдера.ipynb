{
 "cells": [
  {
   "cell_type": "markdown",
   "id": "061cc97d",
   "metadata": {},
   "source": [
    "# Прогнозирование оттока клиентов провайдера"
   ]
  },
  {
   "cell_type": "markdown",
   "id": "d319d347",
   "metadata": {},
   "source": [
    "**Целью проекта** является выявление оттока клиентов из компании-оператора телефонной связи и интернета. Своевременное прогнозирование оттока позволит компании вовремя проводить удерживающие маркетинговые мероприятия и увеличивать лояльность среди клиентов, а так же сократить расходы на удержание таких клиентов.\n",
    "\n",
    "Прогнозирование оттока клиентов будет решаться задачей классификацией с применением машинного обучения.\n",
    "\n",
    "**Этапы проекта:**\n",
    "1. **Обзор данных**:\n",
    "\n",
    "    Загрузим данные в тетрадку и проведем их предварительный обзор для понимания дальнейших действий.\n",
    "2. **Предобработка данных**:\n",
    "    * объединим таблицы;\n",
    "    * обработаем пропущенные значения;\n",
    "    * обработаем аномалий и дубликаты;\n",
    "    * приведем данные к нужным форматам.\n",
    "3. **Исследовательский анализ данных**:\n",
    "    * проверим данные на полноту и распределение;\n",
    "    * проверим данные на аномалии;\n",
    "    * проверим баланс классов целевой переменной;\n",
    "    * проведем корреляционный анализ;\n",
    "    * построим соответствующие графики.\n",
    "4. **Подготовка данных для обучения:**\n",
    "    * разобьем датасет на train и test выборки;\n",
    "    * проведем кодирование категориальных фичей;\n",
    "    * проведем масштабирование.\n",
    "4. **Обучение моделей**:\n",
    "    * обучим модели;\n",
    "    * посмотрим на результат их работы;\n",
    "    * для улучшения метрик проведем тюнинг гиперпараметров и накрутим кросс-валидацию;\n",
    "    * для финальной оценки лучшей модели проверим модель на test выборке.\n",
    "    \n",
    "    Для оценки моделей будем использовать метрики AUR-ROC и Accuracy.\n",
    "5. **Общий вывод**:\n",
    "\n",
    "    Напишем общий вывод и отчет о проделанной работе."
   ]
  },
  {
   "cell_type": "markdown",
   "id": "6248d8c3",
   "metadata": {},
   "source": [
    "## Обзор данных"
   ]
  },
  {
   "cell_type": "markdown",
   "id": "5f7b0a08",
   "metadata": {},
   "source": [
    "Загрузим данные в тетрадку и проведем их предварительный обзор для понимания дальнейших действий."
   ]
  },
  {
   "cell_type": "code",
   "execution_count": 1,
   "id": "b91abab7",
   "metadata": {
    "ExecuteTime": {
     "end_time": "2023-02-09T10:55:05.282663Z",
     "start_time": "2023-02-09T10:55:03.238236Z"
    }
   },
   "outputs": [],
   "source": [
    "# Импорт стандартных библиотек\n",
    "import numpy as np\n",
    "import pandas as pd\n",
    "import seaborn as sns\n",
    "import matplotlib.pyplot as plt\n",
    "import matplotlib.ticker as ticker\n",
    "from sklearn.pipeline import Pipeline\n",
    "from sklearn.linear_model import LogisticRegression\n",
    "from sklearn.ensemble import RandomForestClassifier\n",
    "from sklearn.metrics import roc_auc_score, accuracy_score\n",
    "from sklearn.preprocessing import OneHotEncoder, StandardScaler\n",
    "from sklearn.model_selection import GridSearchCV, train_test_split\n",
    "\n",
    "# Импорт сторонних библиотек\n",
    "import phik\n",
    "from catboost.utils import get_roc_curve\n",
    "from catboost import CatBoostClassifier, Pool"
   ]
  },
  {
   "cell_type": "code",
   "execution_count": 2,
   "id": "585cf85d",
   "metadata": {
    "ExecuteTime": {
     "end_time": "2023-02-09T10:55:05.360483Z",
     "start_time": "2023-02-09T10:55:05.285457Z"
    }
   },
   "outputs": [],
   "source": [
    "# Обработка исключений для подгрузки данных с севера или локального компьютера\n",
    "try:\n",
    "    contract = pd.read_csv('D:\\\\Users\\\\BlackEdition\\\\Desktop\\\\Data Science\\\\'\n",
    "                           'Обучение в Яндекс\\\\17. Выпускной проект\\\\final_provider\\\\contract.csv')\n",
    "    internet = pd.read_csv('D:\\\\Users\\\\BlackEdition\\\\Desktop\\\\Data Science\\\\'\n",
    "                           'Обучение в Яндекс\\\\17. Выпускной проект\\\\final_provider\\\\internet.csv')\n",
    "    personal = pd.read_csv('D:\\\\Users\\\\BlackEdition\\\\Desktop\\\\Data Science\\\\'\n",
    "                           'Обучение в Яндекс\\\\17. Выпускной проект\\\\final_provider\\\\personal.csv')\n",
    "    phone = pd.read_csv('D:\\\\Users\\\\BlackEdition\\\\Desktop\\\\Data Science\\\\'\n",
    "                        'Обучение в Яндекс\\\\17. Выпускной проект\\\\final_provider\\\\phone.csv')\n",
    "except:\n",
    "    contract = pd.read_csv('/datasets/final_provider/contract.csv')\n",
    "    internet = pd.read_csv('/datasets/final_provider/internet.csv')\n",
    "    personal = pd.read_csv('/datasets/final_provider/personal.csv')\n",
    "    phone = pd.read_csv('/datasets/final_provider/phone.csv')"
   ]
  },
  {
   "cell_type": "markdown",
   "id": "0ddd6dac",
   "metadata": {},
   "source": [
    "Выедем датасеты и информацию о них на экран."
   ]
  },
  {
   "cell_type": "code",
   "execution_count": 3,
   "id": "4701da43",
   "metadata": {
    "ExecuteTime": {
     "end_time": "2023-02-09T10:55:05.440274Z",
     "start_time": "2023-02-09T10:55:05.363481Z"
    },
    "scrolled": false
   },
   "outputs": [
    {
     "name": "stdout",
     "output_type": "stream",
     "text": [
      "<class 'pandas.core.frame.DataFrame'>\n",
      "RangeIndex: 7043 entries, 0 to 7042\n",
      "Data columns (total 8 columns):\n",
      " #   Column            Non-Null Count  Dtype  \n",
      "---  ------            --------------  -----  \n",
      " 0   customerID        7043 non-null   object \n",
      " 1   BeginDate         7043 non-null   object \n",
      " 2   EndDate           7043 non-null   object \n",
      " 3   Type              7043 non-null   object \n",
      " 4   PaperlessBilling  7043 non-null   object \n",
      " 5   PaymentMethod     7043 non-null   object \n",
      " 6   MonthlyCharges    7043 non-null   float64\n",
      " 7   TotalCharges      7043 non-null   object \n",
      "dtypes: float64(1), object(7)\n",
      "memory usage: 440.3+ KB\n"
     ]
    },
    {
     "data": {
      "text/plain": [
       "None"
      ]
     },
     "metadata": {},
     "output_type": "display_data"
    },
    {
     "data": {
      "text/html": [
       "<div>\n",
       "<style scoped>\n",
       "    .dataframe tbody tr th:only-of-type {\n",
       "        vertical-align: middle;\n",
       "    }\n",
       "\n",
       "    .dataframe tbody tr th {\n",
       "        vertical-align: top;\n",
       "    }\n",
       "\n",
       "    .dataframe thead th {\n",
       "        text-align: right;\n",
       "    }\n",
       "</style>\n",
       "<table border=\"1\" class=\"dataframe\">\n",
       "  <thead>\n",
       "    <tr style=\"text-align: right;\">\n",
       "      <th></th>\n",
       "      <th>customerID</th>\n",
       "      <th>BeginDate</th>\n",
       "      <th>EndDate</th>\n",
       "      <th>Type</th>\n",
       "      <th>PaperlessBilling</th>\n",
       "      <th>PaymentMethod</th>\n",
       "      <th>MonthlyCharges</th>\n",
       "      <th>TotalCharges</th>\n",
       "    </tr>\n",
       "  </thead>\n",
       "  <tbody>\n",
       "    <tr>\n",
       "      <th>0</th>\n",
       "      <td>7590-VHVEG</td>\n",
       "      <td>2020-01-01</td>\n",
       "      <td>No</td>\n",
       "      <td>Month-to-month</td>\n",
       "      <td>Yes</td>\n",
       "      <td>Electronic check</td>\n",
       "      <td>29.85</td>\n",
       "      <td>29.85</td>\n",
       "    </tr>\n",
       "    <tr>\n",
       "      <th>1</th>\n",
       "      <td>5575-GNVDE</td>\n",
       "      <td>2017-04-01</td>\n",
       "      <td>No</td>\n",
       "      <td>One year</td>\n",
       "      <td>No</td>\n",
       "      <td>Mailed check</td>\n",
       "      <td>56.95</td>\n",
       "      <td>1889.5</td>\n",
       "    </tr>\n",
       "    <tr>\n",
       "      <th>2</th>\n",
       "      <td>3668-QPYBK</td>\n",
       "      <td>2019-10-01</td>\n",
       "      <td>2019-12-01 00:00:00</td>\n",
       "      <td>Month-to-month</td>\n",
       "      <td>Yes</td>\n",
       "      <td>Mailed check</td>\n",
       "      <td>53.85</td>\n",
       "      <td>108.15</td>\n",
       "    </tr>\n",
       "    <tr>\n",
       "      <th>3</th>\n",
       "      <td>7795-CFOCW</td>\n",
       "      <td>2016-05-01</td>\n",
       "      <td>No</td>\n",
       "      <td>One year</td>\n",
       "      <td>No</td>\n",
       "      <td>Bank transfer (automatic)</td>\n",
       "      <td>42.30</td>\n",
       "      <td>1840.75</td>\n",
       "    </tr>\n",
       "    <tr>\n",
       "      <th>4</th>\n",
       "      <td>9237-HQITU</td>\n",
       "      <td>2019-09-01</td>\n",
       "      <td>2019-11-01 00:00:00</td>\n",
       "      <td>Month-to-month</td>\n",
       "      <td>Yes</td>\n",
       "      <td>Electronic check</td>\n",
       "      <td>70.70</td>\n",
       "      <td>151.65</td>\n",
       "    </tr>\n",
       "    <tr>\n",
       "      <th>...</th>\n",
       "      <td>...</td>\n",
       "      <td>...</td>\n",
       "      <td>...</td>\n",
       "      <td>...</td>\n",
       "      <td>...</td>\n",
       "      <td>...</td>\n",
       "      <td>...</td>\n",
       "      <td>...</td>\n",
       "    </tr>\n",
       "    <tr>\n",
       "      <th>7038</th>\n",
       "      <td>6840-RESVB</td>\n",
       "      <td>2018-02-01</td>\n",
       "      <td>No</td>\n",
       "      <td>One year</td>\n",
       "      <td>Yes</td>\n",
       "      <td>Mailed check</td>\n",
       "      <td>84.80</td>\n",
       "      <td>1990.5</td>\n",
       "    </tr>\n",
       "    <tr>\n",
       "      <th>7039</th>\n",
       "      <td>2234-XADUH</td>\n",
       "      <td>2014-02-01</td>\n",
       "      <td>No</td>\n",
       "      <td>One year</td>\n",
       "      <td>Yes</td>\n",
       "      <td>Credit card (automatic)</td>\n",
       "      <td>103.20</td>\n",
       "      <td>7362.9</td>\n",
       "    </tr>\n",
       "    <tr>\n",
       "      <th>7040</th>\n",
       "      <td>4801-JZAZL</td>\n",
       "      <td>2019-03-01</td>\n",
       "      <td>No</td>\n",
       "      <td>Month-to-month</td>\n",
       "      <td>Yes</td>\n",
       "      <td>Electronic check</td>\n",
       "      <td>29.60</td>\n",
       "      <td>346.45</td>\n",
       "    </tr>\n",
       "    <tr>\n",
       "      <th>7041</th>\n",
       "      <td>8361-LTMKD</td>\n",
       "      <td>2019-07-01</td>\n",
       "      <td>2019-11-01 00:00:00</td>\n",
       "      <td>Month-to-month</td>\n",
       "      <td>Yes</td>\n",
       "      <td>Mailed check</td>\n",
       "      <td>74.40</td>\n",
       "      <td>306.6</td>\n",
       "    </tr>\n",
       "    <tr>\n",
       "      <th>7042</th>\n",
       "      <td>3186-AJIEK</td>\n",
       "      <td>2014-08-01</td>\n",
       "      <td>No</td>\n",
       "      <td>Two year</td>\n",
       "      <td>Yes</td>\n",
       "      <td>Bank transfer (automatic)</td>\n",
       "      <td>105.65</td>\n",
       "      <td>6844.5</td>\n",
       "    </tr>\n",
       "  </tbody>\n",
       "</table>\n",
       "<p>7043 rows × 8 columns</p>\n",
       "</div>"
      ],
      "text/plain": [
       "      customerID   BeginDate              EndDate            Type  \\\n",
       "0     7590-VHVEG  2020-01-01                   No  Month-to-month   \n",
       "1     5575-GNVDE  2017-04-01                   No        One year   \n",
       "2     3668-QPYBK  2019-10-01  2019-12-01 00:00:00  Month-to-month   \n",
       "3     7795-CFOCW  2016-05-01                   No        One year   \n",
       "4     9237-HQITU  2019-09-01  2019-11-01 00:00:00  Month-to-month   \n",
       "...          ...         ...                  ...             ...   \n",
       "7038  6840-RESVB  2018-02-01                   No        One year   \n",
       "7039  2234-XADUH  2014-02-01                   No        One year   \n",
       "7040  4801-JZAZL  2019-03-01                   No  Month-to-month   \n",
       "7041  8361-LTMKD  2019-07-01  2019-11-01 00:00:00  Month-to-month   \n",
       "7042  3186-AJIEK  2014-08-01                   No        Two year   \n",
       "\n",
       "     PaperlessBilling              PaymentMethod  MonthlyCharges TotalCharges  \n",
       "0                 Yes           Electronic check           29.85        29.85  \n",
       "1                  No               Mailed check           56.95       1889.5  \n",
       "2                 Yes               Mailed check           53.85       108.15  \n",
       "3                  No  Bank transfer (automatic)           42.30      1840.75  \n",
       "4                 Yes           Electronic check           70.70       151.65  \n",
       "...               ...                        ...             ...          ...  \n",
       "7038              Yes               Mailed check           84.80       1990.5  \n",
       "7039              Yes    Credit card (automatic)          103.20       7362.9  \n",
       "7040              Yes           Electronic check           29.60       346.45  \n",
       "7041              Yes               Mailed check           74.40        306.6  \n",
       "7042              Yes  Bank transfer (automatic)          105.65       6844.5  \n",
       "\n",
       "[7043 rows x 8 columns]"
      ]
     },
     "metadata": {},
     "output_type": "display_data"
    },
    {
     "data": {
      "text/html": [
       "<div>\n",
       "<style scoped>\n",
       "    .dataframe tbody tr th:only-of-type {\n",
       "        vertical-align: middle;\n",
       "    }\n",
       "\n",
       "    .dataframe tbody tr th {\n",
       "        vertical-align: top;\n",
       "    }\n",
       "\n",
       "    .dataframe thead th {\n",
       "        text-align: right;\n",
       "    }\n",
       "</style>\n",
       "<table border=\"1\" class=\"dataframe\">\n",
       "  <thead>\n",
       "    <tr style=\"text-align: right;\">\n",
       "      <th></th>\n",
       "      <th>count</th>\n",
       "      <th>mean</th>\n",
       "      <th>std</th>\n",
       "      <th>min</th>\n",
       "      <th>25%</th>\n",
       "      <th>50%</th>\n",
       "      <th>75%</th>\n",
       "      <th>max</th>\n",
       "    </tr>\n",
       "  </thead>\n",
       "  <tbody>\n",
       "    <tr>\n",
       "      <th>MonthlyCharges</th>\n",
       "      <td>7043.0</td>\n",
       "      <td>64.761692</td>\n",
       "      <td>30.090047</td>\n",
       "      <td>18.25</td>\n",
       "      <td>35.5</td>\n",
       "      <td>70.35</td>\n",
       "      <td>89.85</td>\n",
       "      <td>118.75</td>\n",
       "    </tr>\n",
       "  </tbody>\n",
       "</table>\n",
       "</div>"
      ],
      "text/plain": [
       "                 count       mean        std    min   25%    50%    75%  \\\n",
       "MonthlyCharges  7043.0  64.761692  30.090047  18.25  35.5  70.35  89.85   \n",
       "\n",
       "                   max  \n",
       "MonthlyCharges  118.75  "
      ]
     },
     "metadata": {},
     "output_type": "display_data"
    }
   ],
   "source": [
    "display(contract.info())\n",
    "display(contract)\n",
    "display(contract.describe().T)"
   ]
  },
  {
   "cell_type": "markdown",
   "id": "ab317196",
   "metadata": {},
   "source": [
    "Датасет состоит из 8 колонок и 7043 строк, описывающих контрактную часть с клиентами:\n",
    "* customerID - ID покупателя;\n",
    "* BeginDate - дата начала действия договора;\n",
    "* EndDate - дата окончания договора;\n",
    "* Type - тип договора по сроку действия;\n",
    "* PaperlessBilling - безбумажное заполнение договора;\n",
    "* PaymentMethod - метод оплаты договора;\n",
    "* MonthlyCharges - ежемесячные платежи;\n",
    "* TotalCharges - итоговая сумма платежей.\n",
    "\n",
    "Средняя сумма ежемесячных платежей среди клиентв составляет 64.76 ye., медиана 70.35 ye."
   ]
  },
  {
   "cell_type": "code",
   "execution_count": 4,
   "id": "bd1b5418",
   "metadata": {
    "ExecuteTime": {
     "end_time": "2023-02-09T10:55:05.533025Z",
     "start_time": "2023-02-09T10:55:05.442268Z"
    }
   },
   "outputs": [
    {
     "name": "stdout",
     "output_type": "stream",
     "text": [
      "<class 'pandas.core.frame.DataFrame'>\n",
      "RangeIndex: 5517 entries, 0 to 5516\n",
      "Data columns (total 8 columns):\n",
      " #   Column            Non-Null Count  Dtype \n",
      "---  ------            --------------  ----- \n",
      " 0   customerID        5517 non-null   object\n",
      " 1   InternetService   5517 non-null   object\n",
      " 2   OnlineSecurity    5517 non-null   object\n",
      " 3   OnlineBackup      5517 non-null   object\n",
      " 4   DeviceProtection  5517 non-null   object\n",
      " 5   TechSupport       5517 non-null   object\n",
      " 6   StreamingTV       5517 non-null   object\n",
      " 7   StreamingMovies   5517 non-null   object\n",
      "dtypes: object(8)\n",
      "memory usage: 344.9+ KB\n"
     ]
    },
    {
     "data": {
      "text/plain": [
       "None"
      ]
     },
     "metadata": {},
     "output_type": "display_data"
    },
    {
     "data": {
      "text/html": [
       "<div>\n",
       "<style scoped>\n",
       "    .dataframe tbody tr th:only-of-type {\n",
       "        vertical-align: middle;\n",
       "    }\n",
       "\n",
       "    .dataframe tbody tr th {\n",
       "        vertical-align: top;\n",
       "    }\n",
       "\n",
       "    .dataframe thead th {\n",
       "        text-align: right;\n",
       "    }\n",
       "</style>\n",
       "<table border=\"1\" class=\"dataframe\">\n",
       "  <thead>\n",
       "    <tr style=\"text-align: right;\">\n",
       "      <th></th>\n",
       "      <th>customerID</th>\n",
       "      <th>InternetService</th>\n",
       "      <th>OnlineSecurity</th>\n",
       "      <th>OnlineBackup</th>\n",
       "      <th>DeviceProtection</th>\n",
       "      <th>TechSupport</th>\n",
       "      <th>StreamingTV</th>\n",
       "      <th>StreamingMovies</th>\n",
       "    </tr>\n",
       "  </thead>\n",
       "  <tbody>\n",
       "    <tr>\n",
       "      <th>0</th>\n",
       "      <td>7590-VHVEG</td>\n",
       "      <td>DSL</td>\n",
       "      <td>No</td>\n",
       "      <td>Yes</td>\n",
       "      <td>No</td>\n",
       "      <td>No</td>\n",
       "      <td>No</td>\n",
       "      <td>No</td>\n",
       "    </tr>\n",
       "    <tr>\n",
       "      <th>1</th>\n",
       "      <td>5575-GNVDE</td>\n",
       "      <td>DSL</td>\n",
       "      <td>Yes</td>\n",
       "      <td>No</td>\n",
       "      <td>Yes</td>\n",
       "      <td>No</td>\n",
       "      <td>No</td>\n",
       "      <td>No</td>\n",
       "    </tr>\n",
       "    <tr>\n",
       "      <th>2</th>\n",
       "      <td>3668-QPYBK</td>\n",
       "      <td>DSL</td>\n",
       "      <td>Yes</td>\n",
       "      <td>Yes</td>\n",
       "      <td>No</td>\n",
       "      <td>No</td>\n",
       "      <td>No</td>\n",
       "      <td>No</td>\n",
       "    </tr>\n",
       "    <tr>\n",
       "      <th>3</th>\n",
       "      <td>7795-CFOCW</td>\n",
       "      <td>DSL</td>\n",
       "      <td>Yes</td>\n",
       "      <td>No</td>\n",
       "      <td>Yes</td>\n",
       "      <td>Yes</td>\n",
       "      <td>No</td>\n",
       "      <td>No</td>\n",
       "    </tr>\n",
       "    <tr>\n",
       "      <th>4</th>\n",
       "      <td>9237-HQITU</td>\n",
       "      <td>Fiber optic</td>\n",
       "      <td>No</td>\n",
       "      <td>No</td>\n",
       "      <td>No</td>\n",
       "      <td>No</td>\n",
       "      <td>No</td>\n",
       "      <td>No</td>\n",
       "    </tr>\n",
       "    <tr>\n",
       "      <th>...</th>\n",
       "      <td>...</td>\n",
       "      <td>...</td>\n",
       "      <td>...</td>\n",
       "      <td>...</td>\n",
       "      <td>...</td>\n",
       "      <td>...</td>\n",
       "      <td>...</td>\n",
       "      <td>...</td>\n",
       "    </tr>\n",
       "    <tr>\n",
       "      <th>5512</th>\n",
       "      <td>6840-RESVB</td>\n",
       "      <td>DSL</td>\n",
       "      <td>Yes</td>\n",
       "      <td>No</td>\n",
       "      <td>Yes</td>\n",
       "      <td>Yes</td>\n",
       "      <td>Yes</td>\n",
       "      <td>Yes</td>\n",
       "    </tr>\n",
       "    <tr>\n",
       "      <th>5513</th>\n",
       "      <td>2234-XADUH</td>\n",
       "      <td>Fiber optic</td>\n",
       "      <td>No</td>\n",
       "      <td>Yes</td>\n",
       "      <td>Yes</td>\n",
       "      <td>No</td>\n",
       "      <td>Yes</td>\n",
       "      <td>Yes</td>\n",
       "    </tr>\n",
       "    <tr>\n",
       "      <th>5514</th>\n",
       "      <td>4801-JZAZL</td>\n",
       "      <td>DSL</td>\n",
       "      <td>Yes</td>\n",
       "      <td>No</td>\n",
       "      <td>No</td>\n",
       "      <td>No</td>\n",
       "      <td>No</td>\n",
       "      <td>No</td>\n",
       "    </tr>\n",
       "    <tr>\n",
       "      <th>5515</th>\n",
       "      <td>8361-LTMKD</td>\n",
       "      <td>Fiber optic</td>\n",
       "      <td>No</td>\n",
       "      <td>No</td>\n",
       "      <td>No</td>\n",
       "      <td>No</td>\n",
       "      <td>No</td>\n",
       "      <td>No</td>\n",
       "    </tr>\n",
       "    <tr>\n",
       "      <th>5516</th>\n",
       "      <td>3186-AJIEK</td>\n",
       "      <td>Fiber optic</td>\n",
       "      <td>Yes</td>\n",
       "      <td>No</td>\n",
       "      <td>Yes</td>\n",
       "      <td>Yes</td>\n",
       "      <td>Yes</td>\n",
       "      <td>Yes</td>\n",
       "    </tr>\n",
       "  </tbody>\n",
       "</table>\n",
       "<p>5517 rows × 8 columns</p>\n",
       "</div>"
      ],
      "text/plain": [
       "      customerID InternetService OnlineSecurity OnlineBackup DeviceProtection  \\\n",
       "0     7590-VHVEG             DSL             No          Yes               No   \n",
       "1     5575-GNVDE             DSL            Yes           No              Yes   \n",
       "2     3668-QPYBK             DSL            Yes          Yes               No   \n",
       "3     7795-CFOCW             DSL            Yes           No              Yes   \n",
       "4     9237-HQITU     Fiber optic             No           No               No   \n",
       "...          ...             ...            ...          ...              ...   \n",
       "5512  6840-RESVB             DSL            Yes           No              Yes   \n",
       "5513  2234-XADUH     Fiber optic             No          Yes              Yes   \n",
       "5514  4801-JZAZL             DSL            Yes           No               No   \n",
       "5515  8361-LTMKD     Fiber optic             No           No               No   \n",
       "5516  3186-AJIEK     Fiber optic            Yes           No              Yes   \n",
       "\n",
       "     TechSupport StreamingTV StreamingMovies  \n",
       "0             No          No              No  \n",
       "1             No          No              No  \n",
       "2             No          No              No  \n",
       "3            Yes          No              No  \n",
       "4             No          No              No  \n",
       "...          ...         ...             ...  \n",
       "5512         Yes         Yes             Yes  \n",
       "5513          No         Yes             Yes  \n",
       "5514          No          No              No  \n",
       "5515          No          No              No  \n",
       "5516         Yes         Yes             Yes  \n",
       "\n",
       "[5517 rows x 8 columns]"
      ]
     },
     "metadata": {},
     "output_type": "display_data"
    },
    {
     "data": {
      "text/html": [
       "<div>\n",
       "<style scoped>\n",
       "    .dataframe tbody tr th:only-of-type {\n",
       "        vertical-align: middle;\n",
       "    }\n",
       "\n",
       "    .dataframe tbody tr th {\n",
       "        vertical-align: top;\n",
       "    }\n",
       "\n",
       "    .dataframe thead th {\n",
       "        text-align: right;\n",
       "    }\n",
       "</style>\n",
       "<table border=\"1\" class=\"dataframe\">\n",
       "  <thead>\n",
       "    <tr style=\"text-align: right;\">\n",
       "      <th></th>\n",
       "      <th>count</th>\n",
       "      <th>unique</th>\n",
       "      <th>top</th>\n",
       "      <th>freq</th>\n",
       "    </tr>\n",
       "  </thead>\n",
       "  <tbody>\n",
       "    <tr>\n",
       "      <th>customerID</th>\n",
       "      <td>5517</td>\n",
       "      <td>5517</td>\n",
       "      <td>7590-VHVEG</td>\n",
       "      <td>1</td>\n",
       "    </tr>\n",
       "    <tr>\n",
       "      <th>InternetService</th>\n",
       "      <td>5517</td>\n",
       "      <td>2</td>\n",
       "      <td>Fiber optic</td>\n",
       "      <td>3096</td>\n",
       "    </tr>\n",
       "    <tr>\n",
       "      <th>OnlineSecurity</th>\n",
       "      <td>5517</td>\n",
       "      <td>2</td>\n",
       "      <td>No</td>\n",
       "      <td>3498</td>\n",
       "    </tr>\n",
       "    <tr>\n",
       "      <th>OnlineBackup</th>\n",
       "      <td>5517</td>\n",
       "      <td>2</td>\n",
       "      <td>No</td>\n",
       "      <td>3088</td>\n",
       "    </tr>\n",
       "    <tr>\n",
       "      <th>DeviceProtection</th>\n",
       "      <td>5517</td>\n",
       "      <td>2</td>\n",
       "      <td>No</td>\n",
       "      <td>3095</td>\n",
       "    </tr>\n",
       "    <tr>\n",
       "      <th>TechSupport</th>\n",
       "      <td>5517</td>\n",
       "      <td>2</td>\n",
       "      <td>No</td>\n",
       "      <td>3473</td>\n",
       "    </tr>\n",
       "    <tr>\n",
       "      <th>StreamingTV</th>\n",
       "      <td>5517</td>\n",
       "      <td>2</td>\n",
       "      <td>No</td>\n",
       "      <td>2810</td>\n",
       "    </tr>\n",
       "    <tr>\n",
       "      <th>StreamingMovies</th>\n",
       "      <td>5517</td>\n",
       "      <td>2</td>\n",
       "      <td>No</td>\n",
       "      <td>2785</td>\n",
       "    </tr>\n",
       "  </tbody>\n",
       "</table>\n",
       "</div>"
      ],
      "text/plain": [
       "                 count unique          top  freq\n",
       "customerID        5517   5517   7590-VHVEG     1\n",
       "InternetService   5517      2  Fiber optic  3096\n",
       "OnlineSecurity    5517      2           No  3498\n",
       "OnlineBackup      5517      2           No  3088\n",
       "DeviceProtection  5517      2           No  3095\n",
       "TechSupport       5517      2           No  3473\n",
       "StreamingTV       5517      2           No  2810\n",
       "StreamingMovies   5517      2           No  2785"
      ]
     },
     "metadata": {},
     "output_type": "display_data"
    }
   ],
   "source": [
    "display(internet.info())\n",
    "display(internet)\n",
    "display(internet.describe().T)"
   ]
  },
  {
   "cell_type": "markdown",
   "id": "738b1fd8",
   "metadata": {},
   "source": [
    "Датасет состоит из 8 колонок и 5517 строк, описывающих интернет услуги:\n",
    "\n",
    "* InternetService - тип интернет соединения;\n",
    "* OnlineSecurity - онлайн безопасность;\n",
    "* OnlineBackup - резервная копия данных;\n",
    "* DeviceProtection - антивирус;\n",
    "* TechSupport - поддержка;\n",
    "* StreamingTV - стриминговое телевидение;\n",
    "* StreamingMovies - каталог фильмов.\n",
    "\n",
    "Соотношение покупаемых и непокупаемых услуг в пользу непокупаемых. Каталог фильмов берут чаще, чем остальные услуги. Преобладающий тип интернет соединения - оптоволокно."
   ]
  },
  {
   "cell_type": "code",
   "execution_count": 5,
   "id": "75f1578a",
   "metadata": {
    "ExecuteTime": {
     "end_time": "2023-02-09T10:55:05.579899Z",
     "start_time": "2023-02-09T10:55:05.535022Z"
    }
   },
   "outputs": [
    {
     "name": "stdout",
     "output_type": "stream",
     "text": [
      "<class 'pandas.core.frame.DataFrame'>\n",
      "RangeIndex: 7043 entries, 0 to 7042\n",
      "Data columns (total 5 columns):\n",
      " #   Column         Non-Null Count  Dtype \n",
      "---  ------         --------------  ----- \n",
      " 0   customerID     7043 non-null   object\n",
      " 1   gender         7043 non-null   object\n",
      " 2   SeniorCitizen  7043 non-null   int64 \n",
      " 3   Partner        7043 non-null   object\n",
      " 4   Dependents     7043 non-null   object\n",
      "dtypes: int64(1), object(4)\n",
      "memory usage: 275.2+ KB\n"
     ]
    },
    {
     "data": {
      "text/plain": [
       "None"
      ]
     },
     "metadata": {},
     "output_type": "display_data"
    },
    {
     "data": {
      "text/html": [
       "<div>\n",
       "<style scoped>\n",
       "    .dataframe tbody tr th:only-of-type {\n",
       "        vertical-align: middle;\n",
       "    }\n",
       "\n",
       "    .dataframe tbody tr th {\n",
       "        vertical-align: top;\n",
       "    }\n",
       "\n",
       "    .dataframe thead th {\n",
       "        text-align: right;\n",
       "    }\n",
       "</style>\n",
       "<table border=\"1\" class=\"dataframe\">\n",
       "  <thead>\n",
       "    <tr style=\"text-align: right;\">\n",
       "      <th></th>\n",
       "      <th>customerID</th>\n",
       "      <th>gender</th>\n",
       "      <th>SeniorCitizen</th>\n",
       "      <th>Partner</th>\n",
       "      <th>Dependents</th>\n",
       "    </tr>\n",
       "  </thead>\n",
       "  <tbody>\n",
       "    <tr>\n",
       "      <th>0</th>\n",
       "      <td>7590-VHVEG</td>\n",
       "      <td>Female</td>\n",
       "      <td>0</td>\n",
       "      <td>Yes</td>\n",
       "      <td>No</td>\n",
       "    </tr>\n",
       "    <tr>\n",
       "      <th>1</th>\n",
       "      <td>5575-GNVDE</td>\n",
       "      <td>Male</td>\n",
       "      <td>0</td>\n",
       "      <td>No</td>\n",
       "      <td>No</td>\n",
       "    </tr>\n",
       "    <tr>\n",
       "      <th>2</th>\n",
       "      <td>3668-QPYBK</td>\n",
       "      <td>Male</td>\n",
       "      <td>0</td>\n",
       "      <td>No</td>\n",
       "      <td>No</td>\n",
       "    </tr>\n",
       "    <tr>\n",
       "      <th>3</th>\n",
       "      <td>7795-CFOCW</td>\n",
       "      <td>Male</td>\n",
       "      <td>0</td>\n",
       "      <td>No</td>\n",
       "      <td>No</td>\n",
       "    </tr>\n",
       "    <tr>\n",
       "      <th>4</th>\n",
       "      <td>9237-HQITU</td>\n",
       "      <td>Female</td>\n",
       "      <td>0</td>\n",
       "      <td>No</td>\n",
       "      <td>No</td>\n",
       "    </tr>\n",
       "    <tr>\n",
       "      <th>...</th>\n",
       "      <td>...</td>\n",
       "      <td>...</td>\n",
       "      <td>...</td>\n",
       "      <td>...</td>\n",
       "      <td>...</td>\n",
       "    </tr>\n",
       "    <tr>\n",
       "      <th>7038</th>\n",
       "      <td>6840-RESVB</td>\n",
       "      <td>Male</td>\n",
       "      <td>0</td>\n",
       "      <td>Yes</td>\n",
       "      <td>Yes</td>\n",
       "    </tr>\n",
       "    <tr>\n",
       "      <th>7039</th>\n",
       "      <td>2234-XADUH</td>\n",
       "      <td>Female</td>\n",
       "      <td>0</td>\n",
       "      <td>Yes</td>\n",
       "      <td>Yes</td>\n",
       "    </tr>\n",
       "    <tr>\n",
       "      <th>7040</th>\n",
       "      <td>4801-JZAZL</td>\n",
       "      <td>Female</td>\n",
       "      <td>0</td>\n",
       "      <td>Yes</td>\n",
       "      <td>Yes</td>\n",
       "    </tr>\n",
       "    <tr>\n",
       "      <th>7041</th>\n",
       "      <td>8361-LTMKD</td>\n",
       "      <td>Male</td>\n",
       "      <td>1</td>\n",
       "      <td>Yes</td>\n",
       "      <td>No</td>\n",
       "    </tr>\n",
       "    <tr>\n",
       "      <th>7042</th>\n",
       "      <td>3186-AJIEK</td>\n",
       "      <td>Male</td>\n",
       "      <td>0</td>\n",
       "      <td>No</td>\n",
       "      <td>No</td>\n",
       "    </tr>\n",
       "  </tbody>\n",
       "</table>\n",
       "<p>7043 rows × 5 columns</p>\n",
       "</div>"
      ],
      "text/plain": [
       "      customerID  gender  SeniorCitizen Partner Dependents\n",
       "0     7590-VHVEG  Female              0     Yes         No\n",
       "1     5575-GNVDE    Male              0      No         No\n",
       "2     3668-QPYBK    Male              0      No         No\n",
       "3     7795-CFOCW    Male              0      No         No\n",
       "4     9237-HQITU  Female              0      No         No\n",
       "...          ...     ...            ...     ...        ...\n",
       "7038  6840-RESVB    Male              0     Yes        Yes\n",
       "7039  2234-XADUH  Female              0     Yes        Yes\n",
       "7040  4801-JZAZL  Female              0     Yes        Yes\n",
       "7041  8361-LTMKD    Male              1     Yes         No\n",
       "7042  3186-AJIEK    Male              0      No         No\n",
       "\n",
       "[7043 rows x 5 columns]"
      ]
     },
     "metadata": {},
     "output_type": "display_data"
    }
   ],
   "source": [
    "display(personal.info())\n",
    "display(personal)"
   ]
  },
  {
   "cell_type": "markdown",
   "id": "26357570",
   "metadata": {},
   "source": [
    "Датасет состоит из 5 колонок и 7043 строк, описывающих клиентов:\n",
    "\n",
    "* InternetService - тип интернет соединения;\n",
    "* gender - пол;\n",
    "* SeniorCitizen - пожилой возраст;\n",
    "* Partner - партнер компании;\n",
    "* Dependents - инживенец."
   ]
  },
  {
   "cell_type": "code",
   "execution_count": 6,
   "id": "66833f7d",
   "metadata": {
    "ExecuteTime": {
     "end_time": "2023-02-09T10:55:05.643730Z",
     "start_time": "2023-02-09T10:55:05.582894Z"
    }
   },
   "outputs": [
    {
     "name": "stdout",
     "output_type": "stream",
     "text": [
      "<class 'pandas.core.frame.DataFrame'>\n",
      "RangeIndex: 6361 entries, 0 to 6360\n",
      "Data columns (total 2 columns):\n",
      " #   Column         Non-Null Count  Dtype \n",
      "---  ------         --------------  ----- \n",
      " 0   customerID     6361 non-null   object\n",
      " 1   MultipleLines  6361 non-null   object\n",
      "dtypes: object(2)\n",
      "memory usage: 99.5+ KB\n"
     ]
    },
    {
     "data": {
      "text/plain": [
       "None"
      ]
     },
     "metadata": {},
     "output_type": "display_data"
    },
    {
     "data": {
      "text/html": [
       "<div>\n",
       "<style scoped>\n",
       "    .dataframe tbody tr th:only-of-type {\n",
       "        vertical-align: middle;\n",
       "    }\n",
       "\n",
       "    .dataframe tbody tr th {\n",
       "        vertical-align: top;\n",
       "    }\n",
       "\n",
       "    .dataframe thead th {\n",
       "        text-align: right;\n",
       "    }\n",
       "</style>\n",
       "<table border=\"1\" class=\"dataframe\">\n",
       "  <thead>\n",
       "    <tr style=\"text-align: right;\">\n",
       "      <th></th>\n",
       "      <th>customerID</th>\n",
       "      <th>MultipleLines</th>\n",
       "    </tr>\n",
       "  </thead>\n",
       "  <tbody>\n",
       "    <tr>\n",
       "      <th>0</th>\n",
       "      <td>5575-GNVDE</td>\n",
       "      <td>No</td>\n",
       "    </tr>\n",
       "    <tr>\n",
       "      <th>1</th>\n",
       "      <td>3668-QPYBK</td>\n",
       "      <td>No</td>\n",
       "    </tr>\n",
       "    <tr>\n",
       "      <th>2</th>\n",
       "      <td>9237-HQITU</td>\n",
       "      <td>No</td>\n",
       "    </tr>\n",
       "    <tr>\n",
       "      <th>3</th>\n",
       "      <td>9305-CDSKC</td>\n",
       "      <td>Yes</td>\n",
       "    </tr>\n",
       "    <tr>\n",
       "      <th>4</th>\n",
       "      <td>1452-KIOVK</td>\n",
       "      <td>Yes</td>\n",
       "    </tr>\n",
       "    <tr>\n",
       "      <th>...</th>\n",
       "      <td>...</td>\n",
       "      <td>...</td>\n",
       "    </tr>\n",
       "    <tr>\n",
       "      <th>6356</th>\n",
       "      <td>2569-WGERO</td>\n",
       "      <td>No</td>\n",
       "    </tr>\n",
       "    <tr>\n",
       "      <th>6357</th>\n",
       "      <td>6840-RESVB</td>\n",
       "      <td>Yes</td>\n",
       "    </tr>\n",
       "    <tr>\n",
       "      <th>6358</th>\n",
       "      <td>2234-XADUH</td>\n",
       "      <td>Yes</td>\n",
       "    </tr>\n",
       "    <tr>\n",
       "      <th>6359</th>\n",
       "      <td>8361-LTMKD</td>\n",
       "      <td>Yes</td>\n",
       "    </tr>\n",
       "    <tr>\n",
       "      <th>6360</th>\n",
       "      <td>3186-AJIEK</td>\n",
       "      <td>No</td>\n",
       "    </tr>\n",
       "  </tbody>\n",
       "</table>\n",
       "<p>6361 rows × 2 columns</p>\n",
       "</div>"
      ],
      "text/plain": [
       "      customerID MultipleLines\n",
       "0     5575-GNVDE            No\n",
       "1     3668-QPYBK            No\n",
       "2     9237-HQITU            No\n",
       "3     9305-CDSKC           Yes\n",
       "4     1452-KIOVK           Yes\n",
       "...          ...           ...\n",
       "6356  2569-WGERO            No\n",
       "6357  6840-RESVB           Yes\n",
       "6358  2234-XADUH           Yes\n",
       "6359  8361-LTMKD           Yes\n",
       "6360  3186-AJIEK            No\n",
       "\n",
       "[6361 rows x 2 columns]"
      ]
     },
     "metadata": {},
     "output_type": "display_data"
    },
    {
     "data": {
      "text/html": [
       "<div>\n",
       "<style scoped>\n",
       "    .dataframe tbody tr th:only-of-type {\n",
       "        vertical-align: middle;\n",
       "    }\n",
       "\n",
       "    .dataframe tbody tr th {\n",
       "        vertical-align: top;\n",
       "    }\n",
       "\n",
       "    .dataframe thead th {\n",
       "        text-align: right;\n",
       "    }\n",
       "</style>\n",
       "<table border=\"1\" class=\"dataframe\">\n",
       "  <thead>\n",
       "    <tr style=\"text-align: right;\">\n",
       "      <th></th>\n",
       "      <th>count</th>\n",
       "      <th>unique</th>\n",
       "      <th>top</th>\n",
       "      <th>freq</th>\n",
       "    </tr>\n",
       "  </thead>\n",
       "  <tbody>\n",
       "    <tr>\n",
       "      <th>customerID</th>\n",
       "      <td>6361</td>\n",
       "      <td>6361</td>\n",
       "      <td>5575-GNVDE</td>\n",
       "      <td>1</td>\n",
       "    </tr>\n",
       "    <tr>\n",
       "      <th>MultipleLines</th>\n",
       "      <td>6361</td>\n",
       "      <td>2</td>\n",
       "      <td>No</td>\n",
       "      <td>3390</td>\n",
       "    </tr>\n",
       "  </tbody>\n",
       "</table>\n",
       "</div>"
      ],
      "text/plain": [
       "              count unique         top  freq\n",
       "customerID     6361   6361  5575-GNVDE     1\n",
       "MultipleLines  6361      2          No  3390"
      ]
     },
     "metadata": {},
     "output_type": "display_data"
    }
   ],
   "source": [
    "display(phone.info())\n",
    "display(phone)\n",
    "display(phone.describe().T)"
   ]
  },
  {
   "cell_type": "markdown",
   "id": "48e83ea3",
   "metadata": {},
   "source": [
    "Датасет состоит из 2 колонок и 6361 строк, описывающих клиентов с подключенной телефонией:\n",
    "\n",
    "* InternetService - тип интернет соединения;\n",
    "* MultipleLines - множественные линии.\n",
    " \n",
    " Среди пользователей преобладает телефония с 1 линией."
   ]
  },
  {
   "cell_type": "markdown",
   "id": "b3bd1a4a",
   "metadata": {},
   "source": [
    "Выведем на экран все уникальные уникальные значения и их встречаемость в датасетах с целью посмотреть на скрытые аномалии."
   ]
  },
  {
   "cell_type": "code",
   "execution_count": 7,
   "id": "3e5b3a2d",
   "metadata": {
    "ExecuteTime": {
     "end_time": "2023-02-09T10:55:05.895057Z",
     "start_time": "2023-02-09T10:55:05.646726Z"
    },
    "scrolled": true
   },
   "outputs": [
    {
     "data": {
      "text/plain": [
       "'contract'"
      ]
     },
     "metadata": {},
     "output_type": "display_data"
    },
    {
     "data": {
      "text/plain": [
       "'customerID'"
      ]
     },
     "metadata": {},
     "output_type": "display_data"
    },
    {
     "data": {
      "text/plain": [
       "7590-VHVEG    1\n",
       "9237-HQITU    1\n",
       "9305-CDSKC    1\n",
       "1452-KIOVK    1\n",
       "6713-OKOMC    1\n",
       "             ..\n",
       "8361-LTMKD    1\n",
       "1122-JWTJW    1\n",
       "4807-IZYOZ    1\n",
       "6894-LFHLY    1\n",
       "3186-AJIEK    1\n",
       "Name: customerID, Length: 7043, dtype: int64"
      ]
     },
     "metadata": {},
     "output_type": "display_data"
    },
    {
     "data": {
      "text/plain": [
       "'BeginDate'"
      ]
     },
     "metadata": {},
     "output_type": "display_data"
    },
    {
     "data": {
      "text/plain": [
       "2013-11-01      2\n",
       "2013-12-01      3\n",
       "2013-10-01      3\n",
       "2014-01-01      7\n",
       "2020-02-01     11\n",
       "             ... \n",
       "2020-01-01    233\n",
       "2019-09-01    237\n",
       "2019-11-01    237\n",
       "2019-10-01    237\n",
       "2014-02-01    366\n",
       "Name: BeginDate, Length: 77, dtype: int64"
      ]
     },
     "metadata": {},
     "output_type": "display_data"
    },
    {
     "data": {
      "text/plain": [
       "'EndDate'"
      ]
     },
     "metadata": {},
     "output_type": "display_data"
    },
    {
     "data": {
      "text/plain": [
       "2019-10-01 00:00:00     458\n",
       "2020-01-01 00:00:00     460\n",
       "2019-12-01 00:00:00     466\n",
       "2019-11-01 00:00:00     485\n",
       "No                     5174\n",
       "Name: EndDate, dtype: int64"
      ]
     },
     "metadata": {},
     "output_type": "display_data"
    },
    {
     "data": {
      "text/plain": [
       "'Type'"
      ]
     },
     "metadata": {},
     "output_type": "display_data"
    },
    {
     "data": {
      "text/plain": [
       "One year          1473\n",
       "Two year          1695\n",
       "Month-to-month    3875\n",
       "Name: Type, dtype: int64"
      ]
     },
     "metadata": {},
     "output_type": "display_data"
    },
    {
     "data": {
      "text/plain": [
       "'PaperlessBilling'"
      ]
     },
     "metadata": {},
     "output_type": "display_data"
    },
    {
     "data": {
      "text/plain": [
       "No     2872\n",
       "Yes    4171\n",
       "Name: PaperlessBilling, dtype: int64"
      ]
     },
     "metadata": {},
     "output_type": "display_data"
    },
    {
     "data": {
      "text/plain": [
       "'PaymentMethod'"
      ]
     },
     "metadata": {},
     "output_type": "display_data"
    },
    {
     "data": {
      "text/plain": [
       "Credit card (automatic)      1522\n",
       "Bank transfer (automatic)    1544\n",
       "Mailed check                 1612\n",
       "Electronic check             2365\n",
       "Name: PaymentMethod, dtype: int64"
      ]
     },
     "metadata": {},
     "output_type": "display_data"
    },
    {
     "data": {
      "text/plain": [
       "'MonthlyCharges'"
      ]
     },
     "metadata": {},
     "output_type": "display_data"
    },
    {
     "data": {
      "text/plain": [
       "78.70     1\n",
       "62.55     1\n",
       "40.90     1\n",
       "26.50     1\n",
       "56.00     1\n",
       "         ..\n",
       "20.00    43\n",
       "19.90    44\n",
       "19.95    44\n",
       "19.85    45\n",
       "20.05    61\n",
       "Name: MonthlyCharges, Length: 1585, dtype: int64"
      ]
     },
     "metadata": {},
     "output_type": "display_data"
    },
    {
     "data": {
      "text/plain": [
       "'TotalCharges'"
      ]
     },
     "metadata": {},
     "output_type": "display_data"
    },
    {
     "data": {
      "text/plain": [
       "7674.55     1\n",
       "155.8       1\n",
       "5293.95     1\n",
       "4759.85     1\n",
       "6148.45     1\n",
       "           ..\n",
       "19.9        8\n",
       "20.05       8\n",
       "19.75       9\n",
       "20.2       11\n",
       "           11\n",
       "Name: TotalCharges, Length: 6531, dtype: int64"
      ]
     },
     "metadata": {},
     "output_type": "display_data"
    },
    {
     "data": {
      "text/plain": [
       "'-----------------------------------------------------------------------------------------'"
      ]
     },
     "metadata": {},
     "output_type": "display_data"
    },
    {
     "data": {
      "text/plain": [
       "'internet'"
      ]
     },
     "metadata": {},
     "output_type": "display_data"
    },
    {
     "data": {
      "text/plain": [
       "'customerID'"
      ]
     },
     "metadata": {},
     "output_type": "display_data"
    },
    {
     "data": {
      "text/plain": [
       "7590-VHVEG    1\n",
       "9305-CDSKC    1\n",
       "1452-KIOVK    1\n",
       "6713-OKOMC    1\n",
       "7892-POOKP    1\n",
       "             ..\n",
       "7203-OYKCT    1\n",
       "1699-HPSBG    1\n",
       "1122-JWTJW    1\n",
       "8456-QDAVC    1\n",
       "3186-AJIEK    1\n",
       "Name: customerID, Length: 5517, dtype: int64"
      ]
     },
     "metadata": {},
     "output_type": "display_data"
    },
    {
     "data": {
      "text/plain": [
       "'InternetService'"
      ]
     },
     "metadata": {},
     "output_type": "display_data"
    },
    {
     "data": {
      "text/plain": [
       "DSL            2421\n",
       "Fiber optic    3096\n",
       "Name: InternetService, dtype: int64"
      ]
     },
     "metadata": {},
     "output_type": "display_data"
    },
    {
     "data": {
      "text/plain": [
       "'OnlineSecurity'"
      ]
     },
     "metadata": {},
     "output_type": "display_data"
    },
    {
     "data": {
      "text/plain": [
       "Yes    2019\n",
       "No     3498\n",
       "Name: OnlineSecurity, dtype: int64"
      ]
     },
     "metadata": {},
     "output_type": "display_data"
    },
    {
     "data": {
      "text/plain": [
       "'OnlineBackup'"
      ]
     },
     "metadata": {},
     "output_type": "display_data"
    },
    {
     "data": {
      "text/plain": [
       "Yes    2429\n",
       "No     3088\n",
       "Name: OnlineBackup, dtype: int64"
      ]
     },
     "metadata": {},
     "output_type": "display_data"
    },
    {
     "data": {
      "text/plain": [
       "'DeviceProtection'"
      ]
     },
     "metadata": {},
     "output_type": "display_data"
    },
    {
     "data": {
      "text/plain": [
       "Yes    2422\n",
       "No     3095\n",
       "Name: DeviceProtection, dtype: int64"
      ]
     },
     "metadata": {},
     "output_type": "display_data"
    },
    {
     "data": {
      "text/plain": [
       "'TechSupport'"
      ]
     },
     "metadata": {},
     "output_type": "display_data"
    },
    {
     "data": {
      "text/plain": [
       "Yes    2044\n",
       "No     3473\n",
       "Name: TechSupport, dtype: int64"
      ]
     },
     "metadata": {},
     "output_type": "display_data"
    },
    {
     "data": {
      "text/plain": [
       "'StreamingTV'"
      ]
     },
     "metadata": {},
     "output_type": "display_data"
    },
    {
     "data": {
      "text/plain": [
       "Yes    2707\n",
       "No     2810\n",
       "Name: StreamingTV, dtype: int64"
      ]
     },
     "metadata": {},
     "output_type": "display_data"
    },
    {
     "data": {
      "text/plain": [
       "'StreamingMovies'"
      ]
     },
     "metadata": {},
     "output_type": "display_data"
    },
    {
     "data": {
      "text/plain": [
       "Yes    2732\n",
       "No     2785\n",
       "Name: StreamingMovies, dtype: int64"
      ]
     },
     "metadata": {},
     "output_type": "display_data"
    },
    {
     "data": {
      "text/plain": [
       "'-----------------------------------------------------------------------------------------'"
      ]
     },
     "metadata": {},
     "output_type": "display_data"
    },
    {
     "data": {
      "text/plain": [
       "'personal'"
      ]
     },
     "metadata": {},
     "output_type": "display_data"
    },
    {
     "data": {
      "text/plain": [
       "'customerID'"
      ]
     },
     "metadata": {},
     "output_type": "display_data"
    },
    {
     "data": {
      "text/plain": [
       "7590-VHVEG    1\n",
       "9237-HQITU    1\n",
       "9305-CDSKC    1\n",
       "1452-KIOVK    1\n",
       "6713-OKOMC    1\n",
       "             ..\n",
       "8361-LTMKD    1\n",
       "1122-JWTJW    1\n",
       "4807-IZYOZ    1\n",
       "6894-LFHLY    1\n",
       "3186-AJIEK    1\n",
       "Name: customerID, Length: 7043, dtype: int64"
      ]
     },
     "metadata": {},
     "output_type": "display_data"
    },
    {
     "data": {
      "text/plain": [
       "'gender'"
      ]
     },
     "metadata": {},
     "output_type": "display_data"
    },
    {
     "data": {
      "text/plain": [
       "Female    3488\n",
       "Male      3555\n",
       "Name: gender, dtype: int64"
      ]
     },
     "metadata": {},
     "output_type": "display_data"
    },
    {
     "data": {
      "text/plain": [
       "'SeniorCitizen'"
      ]
     },
     "metadata": {},
     "output_type": "display_data"
    },
    {
     "data": {
      "text/plain": [
       "1    1142\n",
       "0    5901\n",
       "Name: SeniorCitizen, dtype: int64"
      ]
     },
     "metadata": {},
     "output_type": "display_data"
    },
    {
     "data": {
      "text/plain": [
       "'Partner'"
      ]
     },
     "metadata": {},
     "output_type": "display_data"
    },
    {
     "data": {
      "text/plain": [
       "Yes    3402\n",
       "No     3641\n",
       "Name: Partner, dtype: int64"
      ]
     },
     "metadata": {},
     "output_type": "display_data"
    },
    {
     "data": {
      "text/plain": [
       "'Dependents'"
      ]
     },
     "metadata": {},
     "output_type": "display_data"
    },
    {
     "data": {
      "text/plain": [
       "Yes    2110\n",
       "No     4933\n",
       "Name: Dependents, dtype: int64"
      ]
     },
     "metadata": {},
     "output_type": "display_data"
    },
    {
     "data": {
      "text/plain": [
       "'-----------------------------------------------------------------------------------------'"
      ]
     },
     "metadata": {},
     "output_type": "display_data"
    },
    {
     "data": {
      "text/plain": [
       "'phone'"
      ]
     },
     "metadata": {},
     "output_type": "display_data"
    },
    {
     "data": {
      "text/plain": [
       "'customerID'"
      ]
     },
     "metadata": {},
     "output_type": "display_data"
    },
    {
     "data": {
      "text/plain": [
       "5575-GNVDE    1\n",
       "7892-POOKP    1\n",
       "6388-TABGU    1\n",
       "9763-GRSKD    1\n",
       "7469-LKBCI    1\n",
       "             ..\n",
       "4807-IZYOZ    1\n",
       "5306-BVTKJ    1\n",
       "1471-GIQKQ    1\n",
       "0376-OIWME    1\n",
       "3186-AJIEK    1\n",
       "Name: customerID, Length: 6361, dtype: int64"
      ]
     },
     "metadata": {},
     "output_type": "display_data"
    },
    {
     "data": {
      "text/plain": [
       "'MultipleLines'"
      ]
     },
     "metadata": {},
     "output_type": "display_data"
    },
    {
     "data": {
      "text/plain": [
       "Yes    2971\n",
       "No     3390\n",
       "Name: MultipleLines, dtype: int64"
      ]
     },
     "metadata": {},
     "output_type": "display_data"
    },
    {
     "data": {
      "text/plain": [
       "'-----------------------------------------------------------------------------------------'"
      ]
     },
     "metadata": {},
     "output_type": "display_data"
    }
   ],
   "source": [
    "# Вывод уникальных значений каждого признака, отсортированных по убыванию\n",
    "datasets = {'contract': contract,\n",
    "            'internet': internet,\n",
    "            'personal': personal,\n",
    "            'phone': phone}\n",
    "\n",
    "for key, value in datasets.items():\n",
    "    display(key)\n",
    "    for column in value:\n",
    "        display(column)\n",
    "        display(value[column].value_counts().sort_values())\n",
    "        display()\n",
    "    display('-----------------------------------------------------------------------------------------')"
   ]
  },
  {
   "cell_type": "markdown",
   "id": "897b9e07",
   "metadata": {},
   "source": [
    "### Вывод"
   ]
  },
  {
   "cell_type": "markdown",
   "id": "e0629d60",
   "metadata": {},
   "source": [
    "Из проведенного обзора данных можно сделать следующие выводы:\n",
    "* колонки BeginDate и EndDate необходимо привести к формату DateTime в целях исследовательского анализа данных. После анализа колонки можно будет удалить, т.к. они будут лишними для моделей;\n",
    "* колонка EndDate является целевым признаком для классификации клиентов на активных и прогнозируемых к оттоку. Колонка имеет смешанный формат данных. Необходимо привести ее к бинарному виду для дальнейшей классификации клиентов на активных (0) и прогнозируемых к оттоку (1). Но, в связи с тем, что сама по себе информация о окончании действия договора, возможно, несет в себе практическую пользу для моделей (можно сгенерировать отдельную фичу с продолжительность действия договора и посмотреть как она влияет на метрики моделей), перед приведением целевого признака в бинарный вид мы сгенерируем дополнительную фичу с помощью колонок BeginDate и EndDate;\n",
    "* колонку TotalCharges необходимо привести к float формату, дополнительно в колонке есть скрытые пропуски из-за чего, возможно, формат колонки типа object. Заменим их на 0 или удалим.\n",
    "* необходимо провести кодирование категориальных колонок в каждом из датасетов;\n",
    "* необходимо произвести масштабирование категориальных колонок;\n",
    "* полезность фичи MonthlyCharges для моделей под вопросом, т.к. платежи гомогенны, без динамики. Можно попробовать посмотреть метрики с этой фичей и без;\n",
    "* данные необходимо будет объединить в один датафрейм."
   ]
  },
  {
   "cell_type": "markdown",
   "id": "18ce84b3",
   "metadata": {},
   "source": [
    "## Предобработка данных"
   ]
  },
  {
   "cell_type": "markdown",
   "id": "bfcac451",
   "metadata": {},
   "source": [
    "Объединим таблицы, чтобы проще было работать с данными."
   ]
  },
  {
   "cell_type": "code",
   "execution_count": 8,
   "id": "8c32ac30",
   "metadata": {
    "ExecuteTime": {
     "end_time": "2023-02-09T10:55:06.004768Z",
     "start_time": "2023-02-09T10:55:05.898050Z"
    },
    "scrolled": false
   },
   "outputs": [
    {
     "data": {
      "text/html": [
       "<div>\n",
       "<style scoped>\n",
       "    .dataframe tbody tr th:only-of-type {\n",
       "        vertical-align: middle;\n",
       "    }\n",
       "\n",
       "    .dataframe tbody tr th {\n",
       "        vertical-align: top;\n",
       "    }\n",
       "\n",
       "    .dataframe thead th {\n",
       "        text-align: right;\n",
       "    }\n",
       "</style>\n",
       "<table border=\"1\" class=\"dataframe\">\n",
       "  <thead>\n",
       "    <tr style=\"text-align: right;\">\n",
       "      <th></th>\n",
       "      <th>customerID</th>\n",
       "      <th>BeginDate</th>\n",
       "      <th>EndDate</th>\n",
       "      <th>Type</th>\n",
       "      <th>PaperlessBilling</th>\n",
       "      <th>PaymentMethod</th>\n",
       "      <th>MonthlyCharges</th>\n",
       "      <th>TotalCharges</th>\n",
       "      <th>InternetService</th>\n",
       "      <th>OnlineSecurity</th>\n",
       "      <th>OnlineBackup</th>\n",
       "      <th>DeviceProtection</th>\n",
       "      <th>TechSupport</th>\n",
       "      <th>StreamingTV</th>\n",
       "      <th>StreamingMovies</th>\n",
       "      <th>gender</th>\n",
       "      <th>SeniorCitizen</th>\n",
       "      <th>Partner</th>\n",
       "      <th>Dependents</th>\n",
       "      <th>MultipleLines</th>\n",
       "    </tr>\n",
       "  </thead>\n",
       "  <tbody>\n",
       "    <tr>\n",
       "      <th>0</th>\n",
       "      <td>7590-VHVEG</td>\n",
       "      <td>2020-01-01</td>\n",
       "      <td>No</td>\n",
       "      <td>Month-to-month</td>\n",
       "      <td>Yes</td>\n",
       "      <td>Electronic check</td>\n",
       "      <td>29.85</td>\n",
       "      <td>29.85</td>\n",
       "      <td>DSL</td>\n",
       "      <td>No</td>\n",
       "      <td>Yes</td>\n",
       "      <td>No</td>\n",
       "      <td>No</td>\n",
       "      <td>No</td>\n",
       "      <td>No</td>\n",
       "      <td>Female</td>\n",
       "      <td>0</td>\n",
       "      <td>Yes</td>\n",
       "      <td>No</td>\n",
       "      <td>NaN</td>\n",
       "    </tr>\n",
       "    <tr>\n",
       "      <th>1</th>\n",
       "      <td>5575-GNVDE</td>\n",
       "      <td>2017-04-01</td>\n",
       "      <td>No</td>\n",
       "      <td>One year</td>\n",
       "      <td>No</td>\n",
       "      <td>Mailed check</td>\n",
       "      <td>56.95</td>\n",
       "      <td>1889.5</td>\n",
       "      <td>DSL</td>\n",
       "      <td>Yes</td>\n",
       "      <td>No</td>\n",
       "      <td>Yes</td>\n",
       "      <td>No</td>\n",
       "      <td>No</td>\n",
       "      <td>No</td>\n",
       "      <td>Male</td>\n",
       "      <td>0</td>\n",
       "      <td>No</td>\n",
       "      <td>No</td>\n",
       "      <td>No</td>\n",
       "    </tr>\n",
       "    <tr>\n",
       "      <th>2</th>\n",
       "      <td>3668-QPYBK</td>\n",
       "      <td>2019-10-01</td>\n",
       "      <td>2019-12-01 00:00:00</td>\n",
       "      <td>Month-to-month</td>\n",
       "      <td>Yes</td>\n",
       "      <td>Mailed check</td>\n",
       "      <td>53.85</td>\n",
       "      <td>108.15</td>\n",
       "      <td>DSL</td>\n",
       "      <td>Yes</td>\n",
       "      <td>Yes</td>\n",
       "      <td>No</td>\n",
       "      <td>No</td>\n",
       "      <td>No</td>\n",
       "      <td>No</td>\n",
       "      <td>Male</td>\n",
       "      <td>0</td>\n",
       "      <td>No</td>\n",
       "      <td>No</td>\n",
       "      <td>No</td>\n",
       "    </tr>\n",
       "    <tr>\n",
       "      <th>3</th>\n",
       "      <td>7795-CFOCW</td>\n",
       "      <td>2016-05-01</td>\n",
       "      <td>No</td>\n",
       "      <td>One year</td>\n",
       "      <td>No</td>\n",
       "      <td>Bank transfer (automatic)</td>\n",
       "      <td>42.30</td>\n",
       "      <td>1840.75</td>\n",
       "      <td>DSL</td>\n",
       "      <td>Yes</td>\n",
       "      <td>No</td>\n",
       "      <td>Yes</td>\n",
       "      <td>Yes</td>\n",
       "      <td>No</td>\n",
       "      <td>No</td>\n",
       "      <td>Male</td>\n",
       "      <td>0</td>\n",
       "      <td>No</td>\n",
       "      <td>No</td>\n",
       "      <td>NaN</td>\n",
       "    </tr>\n",
       "    <tr>\n",
       "      <th>4</th>\n",
       "      <td>9237-HQITU</td>\n",
       "      <td>2019-09-01</td>\n",
       "      <td>2019-11-01 00:00:00</td>\n",
       "      <td>Month-to-month</td>\n",
       "      <td>Yes</td>\n",
       "      <td>Electronic check</td>\n",
       "      <td>70.70</td>\n",
       "      <td>151.65</td>\n",
       "      <td>Fiber optic</td>\n",
       "      <td>No</td>\n",
       "      <td>No</td>\n",
       "      <td>No</td>\n",
       "      <td>No</td>\n",
       "      <td>No</td>\n",
       "      <td>No</td>\n",
       "      <td>Female</td>\n",
       "      <td>0</td>\n",
       "      <td>No</td>\n",
       "      <td>No</td>\n",
       "      <td>No</td>\n",
       "    </tr>\n",
       "    <tr>\n",
       "      <th>...</th>\n",
       "      <td>...</td>\n",
       "      <td>...</td>\n",
       "      <td>...</td>\n",
       "      <td>...</td>\n",
       "      <td>...</td>\n",
       "      <td>...</td>\n",
       "      <td>...</td>\n",
       "      <td>...</td>\n",
       "      <td>...</td>\n",
       "      <td>...</td>\n",
       "      <td>...</td>\n",
       "      <td>...</td>\n",
       "      <td>...</td>\n",
       "      <td>...</td>\n",
       "      <td>...</td>\n",
       "      <td>...</td>\n",
       "      <td>...</td>\n",
       "      <td>...</td>\n",
       "      <td>...</td>\n",
       "      <td>...</td>\n",
       "    </tr>\n",
       "    <tr>\n",
       "      <th>7038</th>\n",
       "      <td>6840-RESVB</td>\n",
       "      <td>2018-02-01</td>\n",
       "      <td>No</td>\n",
       "      <td>One year</td>\n",
       "      <td>Yes</td>\n",
       "      <td>Mailed check</td>\n",
       "      <td>84.80</td>\n",
       "      <td>1990.5</td>\n",
       "      <td>DSL</td>\n",
       "      <td>Yes</td>\n",
       "      <td>No</td>\n",
       "      <td>Yes</td>\n",
       "      <td>Yes</td>\n",
       "      <td>Yes</td>\n",
       "      <td>Yes</td>\n",
       "      <td>Male</td>\n",
       "      <td>0</td>\n",
       "      <td>Yes</td>\n",
       "      <td>Yes</td>\n",
       "      <td>Yes</td>\n",
       "    </tr>\n",
       "    <tr>\n",
       "      <th>7039</th>\n",
       "      <td>2234-XADUH</td>\n",
       "      <td>2014-02-01</td>\n",
       "      <td>No</td>\n",
       "      <td>One year</td>\n",
       "      <td>Yes</td>\n",
       "      <td>Credit card (automatic)</td>\n",
       "      <td>103.20</td>\n",
       "      <td>7362.9</td>\n",
       "      <td>Fiber optic</td>\n",
       "      <td>No</td>\n",
       "      <td>Yes</td>\n",
       "      <td>Yes</td>\n",
       "      <td>No</td>\n",
       "      <td>Yes</td>\n",
       "      <td>Yes</td>\n",
       "      <td>Female</td>\n",
       "      <td>0</td>\n",
       "      <td>Yes</td>\n",
       "      <td>Yes</td>\n",
       "      <td>Yes</td>\n",
       "    </tr>\n",
       "    <tr>\n",
       "      <th>7040</th>\n",
       "      <td>4801-JZAZL</td>\n",
       "      <td>2019-03-01</td>\n",
       "      <td>No</td>\n",
       "      <td>Month-to-month</td>\n",
       "      <td>Yes</td>\n",
       "      <td>Electronic check</td>\n",
       "      <td>29.60</td>\n",
       "      <td>346.45</td>\n",
       "      <td>DSL</td>\n",
       "      <td>Yes</td>\n",
       "      <td>No</td>\n",
       "      <td>No</td>\n",
       "      <td>No</td>\n",
       "      <td>No</td>\n",
       "      <td>No</td>\n",
       "      <td>Female</td>\n",
       "      <td>0</td>\n",
       "      <td>Yes</td>\n",
       "      <td>Yes</td>\n",
       "      <td>NaN</td>\n",
       "    </tr>\n",
       "    <tr>\n",
       "      <th>7041</th>\n",
       "      <td>8361-LTMKD</td>\n",
       "      <td>2019-07-01</td>\n",
       "      <td>2019-11-01 00:00:00</td>\n",
       "      <td>Month-to-month</td>\n",
       "      <td>Yes</td>\n",
       "      <td>Mailed check</td>\n",
       "      <td>74.40</td>\n",
       "      <td>306.6</td>\n",
       "      <td>Fiber optic</td>\n",
       "      <td>No</td>\n",
       "      <td>No</td>\n",
       "      <td>No</td>\n",
       "      <td>No</td>\n",
       "      <td>No</td>\n",
       "      <td>No</td>\n",
       "      <td>Male</td>\n",
       "      <td>1</td>\n",
       "      <td>Yes</td>\n",
       "      <td>No</td>\n",
       "      <td>Yes</td>\n",
       "    </tr>\n",
       "    <tr>\n",
       "      <th>7042</th>\n",
       "      <td>3186-AJIEK</td>\n",
       "      <td>2014-08-01</td>\n",
       "      <td>No</td>\n",
       "      <td>Two year</td>\n",
       "      <td>Yes</td>\n",
       "      <td>Bank transfer (automatic)</td>\n",
       "      <td>105.65</td>\n",
       "      <td>6844.5</td>\n",
       "      <td>Fiber optic</td>\n",
       "      <td>Yes</td>\n",
       "      <td>No</td>\n",
       "      <td>Yes</td>\n",
       "      <td>Yes</td>\n",
       "      <td>Yes</td>\n",
       "      <td>Yes</td>\n",
       "      <td>Male</td>\n",
       "      <td>0</td>\n",
       "      <td>No</td>\n",
       "      <td>No</td>\n",
       "      <td>No</td>\n",
       "    </tr>\n",
       "  </tbody>\n",
       "</table>\n",
       "<p>7043 rows × 20 columns</p>\n",
       "</div>"
      ],
      "text/plain": [
       "      customerID   BeginDate              EndDate            Type  \\\n",
       "0     7590-VHVEG  2020-01-01                   No  Month-to-month   \n",
       "1     5575-GNVDE  2017-04-01                   No        One year   \n",
       "2     3668-QPYBK  2019-10-01  2019-12-01 00:00:00  Month-to-month   \n",
       "3     7795-CFOCW  2016-05-01                   No        One year   \n",
       "4     9237-HQITU  2019-09-01  2019-11-01 00:00:00  Month-to-month   \n",
       "...          ...         ...                  ...             ...   \n",
       "7038  6840-RESVB  2018-02-01                   No        One year   \n",
       "7039  2234-XADUH  2014-02-01                   No        One year   \n",
       "7040  4801-JZAZL  2019-03-01                   No  Month-to-month   \n",
       "7041  8361-LTMKD  2019-07-01  2019-11-01 00:00:00  Month-to-month   \n",
       "7042  3186-AJIEK  2014-08-01                   No        Two year   \n",
       "\n",
       "     PaperlessBilling              PaymentMethod  MonthlyCharges TotalCharges  \\\n",
       "0                 Yes           Electronic check           29.85        29.85   \n",
       "1                  No               Mailed check           56.95       1889.5   \n",
       "2                 Yes               Mailed check           53.85       108.15   \n",
       "3                  No  Bank transfer (automatic)           42.30      1840.75   \n",
       "4                 Yes           Electronic check           70.70       151.65   \n",
       "...               ...                        ...             ...          ...   \n",
       "7038              Yes               Mailed check           84.80       1990.5   \n",
       "7039              Yes    Credit card (automatic)          103.20       7362.9   \n",
       "7040              Yes           Electronic check           29.60       346.45   \n",
       "7041              Yes               Mailed check           74.40        306.6   \n",
       "7042              Yes  Bank transfer (automatic)          105.65       6844.5   \n",
       "\n",
       "     InternetService OnlineSecurity OnlineBackup DeviceProtection TechSupport  \\\n",
       "0                DSL             No          Yes               No          No   \n",
       "1                DSL            Yes           No              Yes          No   \n",
       "2                DSL            Yes          Yes               No          No   \n",
       "3                DSL            Yes           No              Yes         Yes   \n",
       "4        Fiber optic             No           No               No          No   \n",
       "...              ...            ...          ...              ...         ...   \n",
       "7038             DSL            Yes           No              Yes         Yes   \n",
       "7039     Fiber optic             No          Yes              Yes          No   \n",
       "7040             DSL            Yes           No               No          No   \n",
       "7041     Fiber optic             No           No               No          No   \n",
       "7042     Fiber optic            Yes           No              Yes         Yes   \n",
       "\n",
       "     StreamingTV StreamingMovies  gender  SeniorCitizen Partner Dependents  \\\n",
       "0             No              No  Female              0     Yes         No   \n",
       "1             No              No    Male              0      No         No   \n",
       "2             No              No    Male              0      No         No   \n",
       "3             No              No    Male              0      No         No   \n",
       "4             No              No  Female              0      No         No   \n",
       "...          ...             ...     ...            ...     ...        ...   \n",
       "7038         Yes             Yes    Male              0     Yes        Yes   \n",
       "7039         Yes             Yes  Female              0     Yes        Yes   \n",
       "7040          No              No  Female              0     Yes        Yes   \n",
       "7041          No              No    Male              1     Yes         No   \n",
       "7042         Yes             Yes    Male              0      No         No   \n",
       "\n",
       "     MultipleLines  \n",
       "0              NaN  \n",
       "1               No  \n",
       "2               No  \n",
       "3              NaN  \n",
       "4               No  \n",
       "...            ...  \n",
       "7038           Yes  \n",
       "7039           Yes  \n",
       "7040           NaN  \n",
       "7041           Yes  \n",
       "7042            No  \n",
       "\n",
       "[7043 rows x 20 columns]"
      ]
     },
     "execution_count": 8,
     "metadata": {},
     "output_type": "execute_result"
    }
   ],
   "source": [
    "# Объединение датасетов в один фрейм\n",
    "data = contract.merge(internet, how='left', on='customerID')\n",
    "data = data.merge(personal, how='left', on='customerID')\n",
    "data = data.merge(phone, how='left', on='customerID')\n",
    "data"
   ]
  },
  {
   "cell_type": "markdown",
   "id": "c5daf8ca",
   "metadata": {},
   "source": [
    "### Проверка на пропуски"
   ]
  },
  {
   "cell_type": "markdown",
   "id": "c34f37c6",
   "metadata": {},
   "source": [
    "Проверим датасет на пропуски."
   ]
  },
  {
   "cell_type": "code",
   "execution_count": 9,
   "id": "3dff102a",
   "metadata": {
    "ExecuteTime": {
     "end_time": "2023-02-09T10:55:06.035683Z",
     "start_time": "2023-02-09T10:55:06.006760Z"
    },
    "scrolled": false
   },
   "outputs": [
    {
     "data": {
      "text/plain": [
       "customerID             0\n",
       "BeginDate              0\n",
       "EndDate                0\n",
       "Type                   0\n",
       "PaperlessBilling       0\n",
       "PaymentMethod          0\n",
       "MonthlyCharges         0\n",
       "TotalCharges           0\n",
       "InternetService     1526\n",
       "OnlineSecurity      1526\n",
       "OnlineBackup        1526\n",
       "DeviceProtection    1526\n",
       "TechSupport         1526\n",
       "StreamingTV         1526\n",
       "StreamingMovies     1526\n",
       "gender                 0\n",
       "SeniorCitizen          0\n",
       "Partner                0\n",
       "Dependents             0\n",
       "MultipleLines        682\n",
       "dtype: int64"
      ]
     },
     "execution_count": 9,
     "metadata": {},
     "output_type": "execute_result"
    }
   ],
   "source": [
    "data.isna().sum()"
   ]
  },
  {
   "cell_type": "markdown",
   "id": "42689d6c",
   "metadata": {},
   "source": [
    "Видно, что в данных присутствуют пропуски из-за несоответствия размерности таблиц Contract, Internet и Phone. Посмотрим поконкретнее, что это за пропуски. Допустим, имеются ли такие клиенты, которые не пользуются ни интернетом ни телефонией?"
   ]
  },
  {
   "cell_type": "code",
   "execution_count": 10,
   "id": "6348c84e",
   "metadata": {
    "ExecuteTime": {
     "end_time": "2023-02-09T10:55:06.066977Z",
     "start_time": "2023-02-09T10:55:06.039676Z"
    }
   },
   "outputs": [
    {
     "data": {
      "text/html": [
       "<div>\n",
       "<style scoped>\n",
       "    .dataframe tbody tr th:only-of-type {\n",
       "        vertical-align: middle;\n",
       "    }\n",
       "\n",
       "    .dataframe tbody tr th {\n",
       "        vertical-align: top;\n",
       "    }\n",
       "\n",
       "    .dataframe thead th {\n",
       "        text-align: right;\n",
       "    }\n",
       "</style>\n",
       "<table border=\"1\" class=\"dataframe\">\n",
       "  <thead>\n",
       "    <tr style=\"text-align: right;\">\n",
       "      <th></th>\n",
       "      <th>customerID</th>\n",
       "      <th>BeginDate</th>\n",
       "      <th>EndDate</th>\n",
       "      <th>Type</th>\n",
       "      <th>PaperlessBilling</th>\n",
       "      <th>PaymentMethod</th>\n",
       "      <th>MonthlyCharges</th>\n",
       "      <th>TotalCharges</th>\n",
       "      <th>InternetService</th>\n",
       "      <th>OnlineSecurity</th>\n",
       "      <th>OnlineBackup</th>\n",
       "      <th>DeviceProtection</th>\n",
       "      <th>TechSupport</th>\n",
       "      <th>StreamingTV</th>\n",
       "      <th>StreamingMovies</th>\n",
       "      <th>gender</th>\n",
       "      <th>SeniorCitizen</th>\n",
       "      <th>Partner</th>\n",
       "      <th>Dependents</th>\n",
       "      <th>MultipleLines</th>\n",
       "    </tr>\n",
       "  </thead>\n",
       "  <tbody>\n",
       "  </tbody>\n",
       "</table>\n",
       "</div>"
      ],
      "text/plain": [
       "Empty DataFrame\n",
       "Columns: [customerID, BeginDate, EndDate, Type, PaperlessBilling, PaymentMethod, MonthlyCharges, TotalCharges, InternetService, OnlineSecurity, OnlineBackup, DeviceProtection, TechSupport, StreamingTV, StreamingMovies, gender, SeniorCitizen, Partner, Dependents, MultipleLines]\n",
       "Index: []"
      ]
     },
     "execution_count": 10,
     "metadata": {},
     "output_type": "execute_result"
    }
   ],
   "source": [
    "# Проверка датасета на NAN\n",
    "data.loc[(data['InternetService'].isnull()) & (data['MultipleLines'].isnull())]"
   ]
  },
  {
   "cell_type": "markdown",
   "id": "483c045a",
   "metadata": {},
   "source": [
    "Клиентов, которые не пользуются ни интернетом ни телефонией нет, соответсвенно все клиенты у нас задействованы в обслуживании и всех их можно брать в расчет модели (не удалять пропуски)."
   ]
  },
  {
   "cell_type": "markdown",
   "id": "86832293",
   "metadata": {},
   "source": [
    "В связи с тем, что в столбцах имеются пропуски - заменем их соответствующими значениями. Т.к. пропуски во всех категориальных столбцах с одинаковым бинарным разбиением (Yes or No) - заменим все NAN значения на \"No\", как не употребляемые клиентами услуги."
   ]
  },
  {
   "cell_type": "code",
   "execution_count": 11,
   "id": "32e4e458",
   "metadata": {
    "ExecuteTime": {
     "end_time": "2023-02-09T10:55:06.160732Z",
     "start_time": "2023-02-09T10:55:06.069973Z"
    },
    "scrolled": false
   },
   "outputs": [
    {
     "data": {
      "text/plain": [
       "\"Колонки с NAN: ['InternetService', 'OnlineSecurity', 'OnlineBackup', 'DeviceProtection', 'TechSupport', 'StreamingTV', 'StreamingMovies', 'MultipleLines']\""
      ]
     },
     "metadata": {},
     "output_type": "display_data"
    },
    {
     "data": {
      "text/plain": [
       "customerID          0\n",
       "BeginDate           0\n",
       "EndDate             0\n",
       "Type                0\n",
       "PaperlessBilling    0\n",
       "PaymentMethod       0\n",
       "MonthlyCharges      0\n",
       "TotalCharges        0\n",
       "InternetService     0\n",
       "OnlineSecurity      0\n",
       "OnlineBackup        0\n",
       "DeviceProtection    0\n",
       "TechSupport         0\n",
       "StreamingTV         0\n",
       "StreamingMovies     0\n",
       "gender              0\n",
       "SeniorCitizen       0\n",
       "Partner             0\n",
       "Dependents          0\n",
       "MultipleLines       0\n",
       "dtype: int64"
      ]
     },
     "metadata": {},
     "output_type": "display_data"
    },
    {
     "data": {
      "text/html": [
       "<div>\n",
       "<style scoped>\n",
       "    .dataframe tbody tr th:only-of-type {\n",
       "        vertical-align: middle;\n",
       "    }\n",
       "\n",
       "    .dataframe tbody tr th {\n",
       "        vertical-align: top;\n",
       "    }\n",
       "\n",
       "    .dataframe thead th {\n",
       "        text-align: right;\n",
       "    }\n",
       "</style>\n",
       "<table border=\"1\" class=\"dataframe\">\n",
       "  <thead>\n",
       "    <tr style=\"text-align: right;\">\n",
       "      <th></th>\n",
       "      <th>customerID</th>\n",
       "      <th>BeginDate</th>\n",
       "      <th>EndDate</th>\n",
       "      <th>Type</th>\n",
       "      <th>PaperlessBilling</th>\n",
       "      <th>PaymentMethod</th>\n",
       "      <th>MonthlyCharges</th>\n",
       "      <th>TotalCharges</th>\n",
       "      <th>InternetService</th>\n",
       "      <th>OnlineSecurity</th>\n",
       "      <th>OnlineBackup</th>\n",
       "      <th>DeviceProtection</th>\n",
       "      <th>TechSupport</th>\n",
       "      <th>StreamingTV</th>\n",
       "      <th>StreamingMovies</th>\n",
       "      <th>gender</th>\n",
       "      <th>SeniorCitizen</th>\n",
       "      <th>Partner</th>\n",
       "      <th>Dependents</th>\n",
       "      <th>MultipleLines</th>\n",
       "    </tr>\n",
       "  </thead>\n",
       "  <tbody>\n",
       "    <tr>\n",
       "      <th>0</th>\n",
       "      <td>7590-VHVEG</td>\n",
       "      <td>2020-01-01</td>\n",
       "      <td>No</td>\n",
       "      <td>Month-to-month</td>\n",
       "      <td>Yes</td>\n",
       "      <td>Electronic check</td>\n",
       "      <td>29.85</td>\n",
       "      <td>29.85</td>\n",
       "      <td>DSL</td>\n",
       "      <td>No</td>\n",
       "      <td>Yes</td>\n",
       "      <td>No</td>\n",
       "      <td>No</td>\n",
       "      <td>No</td>\n",
       "      <td>No</td>\n",
       "      <td>Female</td>\n",
       "      <td>0</td>\n",
       "      <td>Yes</td>\n",
       "      <td>No</td>\n",
       "      <td>No</td>\n",
       "    </tr>\n",
       "    <tr>\n",
       "      <th>1</th>\n",
       "      <td>5575-GNVDE</td>\n",
       "      <td>2017-04-01</td>\n",
       "      <td>No</td>\n",
       "      <td>One year</td>\n",
       "      <td>No</td>\n",
       "      <td>Mailed check</td>\n",
       "      <td>56.95</td>\n",
       "      <td>1889.5</td>\n",
       "      <td>DSL</td>\n",
       "      <td>Yes</td>\n",
       "      <td>No</td>\n",
       "      <td>Yes</td>\n",
       "      <td>No</td>\n",
       "      <td>No</td>\n",
       "      <td>No</td>\n",
       "      <td>Male</td>\n",
       "      <td>0</td>\n",
       "      <td>No</td>\n",
       "      <td>No</td>\n",
       "      <td>No</td>\n",
       "    </tr>\n",
       "    <tr>\n",
       "      <th>2</th>\n",
       "      <td>3668-QPYBK</td>\n",
       "      <td>2019-10-01</td>\n",
       "      <td>2019-12-01 00:00:00</td>\n",
       "      <td>Month-to-month</td>\n",
       "      <td>Yes</td>\n",
       "      <td>Mailed check</td>\n",
       "      <td>53.85</td>\n",
       "      <td>108.15</td>\n",
       "      <td>DSL</td>\n",
       "      <td>Yes</td>\n",
       "      <td>Yes</td>\n",
       "      <td>No</td>\n",
       "      <td>No</td>\n",
       "      <td>No</td>\n",
       "      <td>No</td>\n",
       "      <td>Male</td>\n",
       "      <td>0</td>\n",
       "      <td>No</td>\n",
       "      <td>No</td>\n",
       "      <td>No</td>\n",
       "    </tr>\n",
       "    <tr>\n",
       "      <th>3</th>\n",
       "      <td>7795-CFOCW</td>\n",
       "      <td>2016-05-01</td>\n",
       "      <td>No</td>\n",
       "      <td>One year</td>\n",
       "      <td>No</td>\n",
       "      <td>Bank transfer (automatic)</td>\n",
       "      <td>42.30</td>\n",
       "      <td>1840.75</td>\n",
       "      <td>DSL</td>\n",
       "      <td>Yes</td>\n",
       "      <td>No</td>\n",
       "      <td>Yes</td>\n",
       "      <td>Yes</td>\n",
       "      <td>No</td>\n",
       "      <td>No</td>\n",
       "      <td>Male</td>\n",
       "      <td>0</td>\n",
       "      <td>No</td>\n",
       "      <td>No</td>\n",
       "      <td>No</td>\n",
       "    </tr>\n",
       "    <tr>\n",
       "      <th>4</th>\n",
       "      <td>9237-HQITU</td>\n",
       "      <td>2019-09-01</td>\n",
       "      <td>2019-11-01 00:00:00</td>\n",
       "      <td>Month-to-month</td>\n",
       "      <td>Yes</td>\n",
       "      <td>Electronic check</td>\n",
       "      <td>70.70</td>\n",
       "      <td>151.65</td>\n",
       "      <td>Fiber optic</td>\n",
       "      <td>No</td>\n",
       "      <td>No</td>\n",
       "      <td>No</td>\n",
       "      <td>No</td>\n",
       "      <td>No</td>\n",
       "      <td>No</td>\n",
       "      <td>Female</td>\n",
       "      <td>0</td>\n",
       "      <td>No</td>\n",
       "      <td>No</td>\n",
       "      <td>No</td>\n",
       "    </tr>\n",
       "    <tr>\n",
       "      <th>...</th>\n",
       "      <td>...</td>\n",
       "      <td>...</td>\n",
       "      <td>...</td>\n",
       "      <td>...</td>\n",
       "      <td>...</td>\n",
       "      <td>...</td>\n",
       "      <td>...</td>\n",
       "      <td>...</td>\n",
       "      <td>...</td>\n",
       "      <td>...</td>\n",
       "      <td>...</td>\n",
       "      <td>...</td>\n",
       "      <td>...</td>\n",
       "      <td>...</td>\n",
       "      <td>...</td>\n",
       "      <td>...</td>\n",
       "      <td>...</td>\n",
       "      <td>...</td>\n",
       "      <td>...</td>\n",
       "      <td>...</td>\n",
       "    </tr>\n",
       "    <tr>\n",
       "      <th>7038</th>\n",
       "      <td>6840-RESVB</td>\n",
       "      <td>2018-02-01</td>\n",
       "      <td>No</td>\n",
       "      <td>One year</td>\n",
       "      <td>Yes</td>\n",
       "      <td>Mailed check</td>\n",
       "      <td>84.80</td>\n",
       "      <td>1990.5</td>\n",
       "      <td>DSL</td>\n",
       "      <td>Yes</td>\n",
       "      <td>No</td>\n",
       "      <td>Yes</td>\n",
       "      <td>Yes</td>\n",
       "      <td>Yes</td>\n",
       "      <td>Yes</td>\n",
       "      <td>Male</td>\n",
       "      <td>0</td>\n",
       "      <td>Yes</td>\n",
       "      <td>Yes</td>\n",
       "      <td>Yes</td>\n",
       "    </tr>\n",
       "    <tr>\n",
       "      <th>7039</th>\n",
       "      <td>2234-XADUH</td>\n",
       "      <td>2014-02-01</td>\n",
       "      <td>No</td>\n",
       "      <td>One year</td>\n",
       "      <td>Yes</td>\n",
       "      <td>Credit card (automatic)</td>\n",
       "      <td>103.20</td>\n",
       "      <td>7362.9</td>\n",
       "      <td>Fiber optic</td>\n",
       "      <td>No</td>\n",
       "      <td>Yes</td>\n",
       "      <td>Yes</td>\n",
       "      <td>No</td>\n",
       "      <td>Yes</td>\n",
       "      <td>Yes</td>\n",
       "      <td>Female</td>\n",
       "      <td>0</td>\n",
       "      <td>Yes</td>\n",
       "      <td>Yes</td>\n",
       "      <td>Yes</td>\n",
       "    </tr>\n",
       "    <tr>\n",
       "      <th>7040</th>\n",
       "      <td>4801-JZAZL</td>\n",
       "      <td>2019-03-01</td>\n",
       "      <td>No</td>\n",
       "      <td>Month-to-month</td>\n",
       "      <td>Yes</td>\n",
       "      <td>Electronic check</td>\n",
       "      <td>29.60</td>\n",
       "      <td>346.45</td>\n",
       "      <td>DSL</td>\n",
       "      <td>Yes</td>\n",
       "      <td>No</td>\n",
       "      <td>No</td>\n",
       "      <td>No</td>\n",
       "      <td>No</td>\n",
       "      <td>No</td>\n",
       "      <td>Female</td>\n",
       "      <td>0</td>\n",
       "      <td>Yes</td>\n",
       "      <td>Yes</td>\n",
       "      <td>No</td>\n",
       "    </tr>\n",
       "    <tr>\n",
       "      <th>7041</th>\n",
       "      <td>8361-LTMKD</td>\n",
       "      <td>2019-07-01</td>\n",
       "      <td>2019-11-01 00:00:00</td>\n",
       "      <td>Month-to-month</td>\n",
       "      <td>Yes</td>\n",
       "      <td>Mailed check</td>\n",
       "      <td>74.40</td>\n",
       "      <td>306.6</td>\n",
       "      <td>Fiber optic</td>\n",
       "      <td>No</td>\n",
       "      <td>No</td>\n",
       "      <td>No</td>\n",
       "      <td>No</td>\n",
       "      <td>No</td>\n",
       "      <td>No</td>\n",
       "      <td>Male</td>\n",
       "      <td>1</td>\n",
       "      <td>Yes</td>\n",
       "      <td>No</td>\n",
       "      <td>Yes</td>\n",
       "    </tr>\n",
       "    <tr>\n",
       "      <th>7042</th>\n",
       "      <td>3186-AJIEK</td>\n",
       "      <td>2014-08-01</td>\n",
       "      <td>No</td>\n",
       "      <td>Two year</td>\n",
       "      <td>Yes</td>\n",
       "      <td>Bank transfer (automatic)</td>\n",
       "      <td>105.65</td>\n",
       "      <td>6844.5</td>\n",
       "      <td>Fiber optic</td>\n",
       "      <td>Yes</td>\n",
       "      <td>No</td>\n",
       "      <td>Yes</td>\n",
       "      <td>Yes</td>\n",
       "      <td>Yes</td>\n",
       "      <td>Yes</td>\n",
       "      <td>Male</td>\n",
       "      <td>0</td>\n",
       "      <td>No</td>\n",
       "      <td>No</td>\n",
       "      <td>No</td>\n",
       "    </tr>\n",
       "  </tbody>\n",
       "</table>\n",
       "<p>7043 rows × 20 columns</p>\n",
       "</div>"
      ],
      "text/plain": [
       "      customerID   BeginDate              EndDate            Type  \\\n",
       "0     7590-VHVEG  2020-01-01                   No  Month-to-month   \n",
       "1     5575-GNVDE  2017-04-01                   No        One year   \n",
       "2     3668-QPYBK  2019-10-01  2019-12-01 00:00:00  Month-to-month   \n",
       "3     7795-CFOCW  2016-05-01                   No        One year   \n",
       "4     9237-HQITU  2019-09-01  2019-11-01 00:00:00  Month-to-month   \n",
       "...          ...         ...                  ...             ...   \n",
       "7038  6840-RESVB  2018-02-01                   No        One year   \n",
       "7039  2234-XADUH  2014-02-01                   No        One year   \n",
       "7040  4801-JZAZL  2019-03-01                   No  Month-to-month   \n",
       "7041  8361-LTMKD  2019-07-01  2019-11-01 00:00:00  Month-to-month   \n",
       "7042  3186-AJIEK  2014-08-01                   No        Two year   \n",
       "\n",
       "     PaperlessBilling              PaymentMethod  MonthlyCharges TotalCharges  \\\n",
       "0                 Yes           Electronic check           29.85        29.85   \n",
       "1                  No               Mailed check           56.95       1889.5   \n",
       "2                 Yes               Mailed check           53.85       108.15   \n",
       "3                  No  Bank transfer (automatic)           42.30      1840.75   \n",
       "4                 Yes           Electronic check           70.70       151.65   \n",
       "...               ...                        ...             ...          ...   \n",
       "7038              Yes               Mailed check           84.80       1990.5   \n",
       "7039              Yes    Credit card (automatic)          103.20       7362.9   \n",
       "7040              Yes           Electronic check           29.60       346.45   \n",
       "7041              Yes               Mailed check           74.40        306.6   \n",
       "7042              Yes  Bank transfer (automatic)          105.65       6844.5   \n",
       "\n",
       "     InternetService OnlineSecurity OnlineBackup DeviceProtection TechSupport  \\\n",
       "0                DSL             No          Yes               No          No   \n",
       "1                DSL            Yes           No              Yes          No   \n",
       "2                DSL            Yes          Yes               No          No   \n",
       "3                DSL            Yes           No              Yes         Yes   \n",
       "4        Fiber optic             No           No               No          No   \n",
       "...              ...            ...          ...              ...         ...   \n",
       "7038             DSL            Yes           No              Yes         Yes   \n",
       "7039     Fiber optic             No          Yes              Yes          No   \n",
       "7040             DSL            Yes           No               No          No   \n",
       "7041     Fiber optic             No           No               No          No   \n",
       "7042     Fiber optic            Yes           No              Yes         Yes   \n",
       "\n",
       "     StreamingTV StreamingMovies  gender  SeniorCitizen Partner Dependents  \\\n",
       "0             No              No  Female              0     Yes         No   \n",
       "1             No              No    Male              0      No         No   \n",
       "2             No              No    Male              0      No         No   \n",
       "3             No              No    Male              0      No         No   \n",
       "4             No              No  Female              0      No         No   \n",
       "...          ...             ...     ...            ...     ...        ...   \n",
       "7038         Yes             Yes    Male              0     Yes        Yes   \n",
       "7039         Yes             Yes  Female              0     Yes        Yes   \n",
       "7040          No              No  Female              0     Yes        Yes   \n",
       "7041          No              No    Male              1     Yes         No   \n",
       "7042         Yes             Yes    Male              0      No         No   \n",
       "\n",
       "     MultipleLines  \n",
       "0               No  \n",
       "1               No  \n",
       "2               No  \n",
       "3               No  \n",
       "4               No  \n",
       "...            ...  \n",
       "7038           Yes  \n",
       "7039           Yes  \n",
       "7040            No  \n",
       "7041           Yes  \n",
       "7042            No  \n",
       "\n",
       "[7043 rows x 20 columns]"
      ]
     },
     "metadata": {},
     "output_type": "display_data"
    }
   ],
   "source": [
    "# Замена NAN на 'No'\n",
    "columns = []\n",
    "\n",
    "# Цикл, ищущий NAN в кололнках\n",
    "for column in data.columns:\n",
    "    if data[column].isnull().sum() > 0:\n",
    "        columns.append(column)\n",
    "\n",
    "display(f'Колонки с NAN: {columns}')\n",
    "\n",
    "# Цикл, заменяющий найденные в колонках NAN на 'No'\n",
    "for column in columns:\n",
    "    data[column] = data[column].fillna('No')\n",
    "\n",
    "display(data.isnull().sum())\n",
    "display(data)"
   ]
  },
  {
   "cell_type": "markdown",
   "id": "3f292e45",
   "metadata": {},
   "source": [
    "### Проверка на дубликаты"
   ]
  },
  {
   "cell_type": "markdown",
   "id": "2a032cd8",
   "metadata": {},
   "source": [
    "Проверим датасет на явные дубликаты."
   ]
  },
  {
   "cell_type": "code",
   "execution_count": 12,
   "id": "a778fc1a",
   "metadata": {
    "ExecuteTime": {
     "end_time": "2023-02-09T10:55:06.207603Z",
     "start_time": "2023-02-09T10:55:06.166713Z"
    }
   },
   "outputs": [
    {
     "data": {
      "text/plain": [
       "0"
      ]
     },
     "execution_count": 12,
     "metadata": {},
     "output_type": "execute_result"
    }
   ],
   "source": [
    "data.duplicated().sum()"
   ]
  },
  {
   "cell_type": "markdown",
   "id": "249c17af",
   "metadata": {},
   "source": [
    "Явные дубликаты в данных отсутствуют."
   ]
  },
  {
   "cell_type": "markdown",
   "id": "956456fb",
   "metadata": {},
   "source": [
    "### Удаление неявных пропусков и приведение типов"
   ]
  },
  {
   "cell_type": "markdown",
   "id": "2c6f14a2",
   "metadata": {},
   "source": [
    "При обозоре данных мы выявили, что в колонке TotalCharges имеются аномалии в виде пустой строки. Т.к. данные в других столбцах могут быть полезными - не будем удалять 11 аномалий, а заменим их на нули."
   ]
  },
  {
   "cell_type": "code",
   "execution_count": 13,
   "id": "c549f2fb",
   "metadata": {
    "ExecuteTime": {
     "end_time": "2023-02-09T10:55:06.238854Z",
     "start_time": "2023-02-09T10:55:06.209598Z"
    },
    "scrolled": false
   },
   "outputs": [
    {
     "data": {
      "text/plain": [
       "          11\n",
       "20.2      11\n",
       "19.75      9\n",
       "20.05      8\n",
       "19.9       8\n",
       "          ..\n",
       "6849.4     1\n",
       "692.35     1\n",
       "130.15     1\n",
       "3211.9     1\n",
       "6844.5     1\n",
       "Name: TotalCharges, Length: 6531, dtype: int64"
      ]
     },
     "execution_count": 13,
     "metadata": {},
     "output_type": "execute_result"
    }
   ],
   "source": [
    "data['TotalCharges'].value_counts()"
   ]
  },
  {
   "cell_type": "markdown",
   "id": "68bfffc1",
   "metadata": {
    "scrolled": true
   },
   "source": [
    "data['TotalCharges'] = data['TotalCharges'].replace([' '], 0)\n",
    "data['TotalCharges'] = data['TotalCharges'].replace([' '], data['TotalCharges'].median())\n",
    "data['TotalCharges'].value_counts()"
   ]
  },
  {
   "cell_type": "code",
   "execution_count": 14,
   "id": "8e322822",
   "metadata": {
    "ExecuteTime": {
     "end_time": "2023-02-09T10:55:06.254799Z",
     "start_time": "2023-02-09T10:55:06.242833Z"
    }
   },
   "outputs": [],
   "source": [
    "data = data[data['TotalCharges'] != ' ']"
   ]
  },
  {
   "cell_type": "code",
   "execution_count": 15,
   "id": "5efe2959",
   "metadata": {
    "ExecuteTime": {
     "end_time": "2023-02-09T10:55:06.286713Z",
     "start_time": "2023-02-09T10:55:06.258789Z"
    }
   },
   "outputs": [
    {
     "data": {
      "text/plain": [
       "20.2      11\n",
       "19.75      9\n",
       "20.05      8\n",
       "19.9       8\n",
       "19.65      8\n",
       "          ..\n",
       "6849.4     1\n",
       "692.35     1\n",
       "130.15     1\n",
       "3211.9     1\n",
       "6844.5     1\n",
       "Name: TotalCharges, Length: 6530, dtype: int64"
      ]
     },
     "execution_count": 15,
     "metadata": {},
     "output_type": "execute_result"
    }
   ],
   "source": [
    "data['TotalCharges'].value_counts()"
   ]
  },
  {
   "cell_type": "code",
   "execution_count": 16,
   "id": "84e24f9d",
   "metadata": {
    "ExecuteTime": {
     "end_time": "2023-02-09T10:55:06.318629Z",
     "start_time": "2023-02-09T10:55:06.289708Z"
    }
   },
   "outputs": [
    {
     "data": {
      "text/html": [
       "<div>\n",
       "<style scoped>\n",
       "    .dataframe tbody tr th:only-of-type {\n",
       "        vertical-align: middle;\n",
       "    }\n",
       "\n",
       "    .dataframe tbody tr th {\n",
       "        vertical-align: top;\n",
       "    }\n",
       "\n",
       "    .dataframe thead th {\n",
       "        text-align: right;\n",
       "    }\n",
       "</style>\n",
       "<table border=\"1\" class=\"dataframe\">\n",
       "  <thead>\n",
       "    <tr style=\"text-align: right;\">\n",
       "      <th></th>\n",
       "      <th>customerID</th>\n",
       "      <th>BeginDate</th>\n",
       "      <th>EndDate</th>\n",
       "      <th>Type</th>\n",
       "      <th>PaperlessBilling</th>\n",
       "      <th>PaymentMethod</th>\n",
       "      <th>MonthlyCharges</th>\n",
       "      <th>TotalCharges</th>\n",
       "      <th>InternetService</th>\n",
       "      <th>OnlineSecurity</th>\n",
       "      <th>OnlineBackup</th>\n",
       "      <th>DeviceProtection</th>\n",
       "      <th>TechSupport</th>\n",
       "      <th>StreamingTV</th>\n",
       "      <th>StreamingMovies</th>\n",
       "      <th>gender</th>\n",
       "      <th>SeniorCitizen</th>\n",
       "      <th>Partner</th>\n",
       "      <th>Dependents</th>\n",
       "      <th>MultipleLines</th>\n",
       "    </tr>\n",
       "  </thead>\n",
       "  <tbody>\n",
       "  </tbody>\n",
       "</table>\n",
       "</div>"
      ],
      "text/plain": [
       "Empty DataFrame\n",
       "Columns: [customerID, BeginDate, EndDate, Type, PaperlessBilling, PaymentMethod, MonthlyCharges, TotalCharges, InternetService, OnlineSecurity, OnlineBackup, DeviceProtection, TechSupport, StreamingTV, StreamingMovies, gender, SeniorCitizen, Partner, Dependents, MultipleLines]\n",
       "Index: []"
      ]
     },
     "execution_count": 16,
     "metadata": {},
     "output_type": "execute_result"
    }
   ],
   "source": [
    "data.loc[data['TotalCharges'] == 0]"
   ]
  },
  {
   "cell_type": "markdown",
   "id": "4229e21e",
   "metadata": {},
   "source": [
    "Теперь приведем колонку TotalCharges к типу float."
   ]
  },
  {
   "cell_type": "code",
   "execution_count": 17,
   "id": "8077babb",
   "metadata": {
    "ExecuteTime": {
     "end_time": "2023-02-09T10:55:06.333589Z",
     "start_time": "2023-02-09T10:55:06.320624Z"
    }
   },
   "outputs": [
    {
     "name": "stderr",
     "output_type": "stream",
     "text": [
      "C:\\Users\\BLACKE~1\\AppData\\Local\\Temp/ipykernel_8276/1864821250.py:1: SettingWithCopyWarning: \n",
      "A value is trying to be set on a copy of a slice from a DataFrame.\n",
      "Try using .loc[row_indexer,col_indexer] = value instead\n",
      "\n",
      "See the caveats in the documentation: https://pandas.pydata.org/pandas-docs/stable/user_guide/indexing.html#returning-a-view-versus-a-copy\n",
      "  data['TotalCharges'] = data['TotalCharges'].astype(float)\n"
     ]
    }
   ],
   "source": [
    "data['TotalCharges'] = data['TotalCharges'].astype(float)"
   ]
  },
  {
   "cell_type": "code",
   "execution_count": 18,
   "id": "e239bfb4",
   "metadata": {
    "ExecuteTime": {
     "end_time": "2023-02-09T10:55:06.948730Z",
     "start_time": "2023-02-09T10:55:06.336580Z"
    },
    "scrolled": false
   },
   "outputs": [
    {
     "ename": "TypeError",
     "evalue": "'numpy.dtype[float64]' object is not callable",
     "output_type": "error",
     "traceback": [
      "\u001b[1;31m---------------------------------------------------------------------------\u001b[0m",
      "\u001b[1;31mTypeError\u001b[0m                                 Traceback (most recent call last)",
      "\u001b[1;32mC:\\Users\\BLACKE~1\\AppData\\Local\\Temp/ipykernel_8276/3250446570.py\u001b[0m in \u001b[0;36m<module>\u001b[1;34m\u001b[0m\n\u001b[1;32m----> 1\u001b[1;33m \u001b[0mdata\u001b[0m\u001b[1;33m[\u001b[0m\u001b[1;34m'TotalCharges'\u001b[0m\u001b[1;33m]\u001b[0m\u001b[1;33m.\u001b[0m\u001b[0mdtypes\u001b[0m\u001b[1;33m(\u001b[0m\u001b[1;33m)\u001b[0m\u001b[1;33m\u001b[0m\u001b[1;33m\u001b[0m\u001b[0m\n\u001b[0m",
      "\u001b[1;31mTypeError\u001b[0m: 'numpy.dtype[float64]' object is not callable"
     ]
    }
   ],
   "source": [
    "data['TotalCharges'].dtypes()"
   ]
  },
  {
   "cell_type": "markdown",
   "id": "63b134fa",
   "metadata": {},
   "source": [
    "Все колонки приведены к необходимым форматам."
   ]
  },
  {
   "cell_type": "markdown",
   "id": "977856d9",
   "metadata": {},
   "source": [
    "### Майнинг таргета и дополнительных фич"
   ]
  },
  {
   "cell_type": "markdown",
   "id": "1f306d91",
   "metadata": {},
   "source": [
    "Выделем таргет в отдельный столбец, чтобы произвести манипуляции со столбцами BeginDate и EndDate, вычислив CLF (customerlifecycle). Также приведем таргет в бинарный вид."
   ]
  },
  {
   "cell_type": "code",
   "execution_count": null,
   "id": "e0f9a1a9",
   "metadata": {
    "ExecuteTime": {
     "end_time": "2023-02-09T10:55:06.951656Z",
     "start_time": "2023-02-09T10:55:06.951656Z"
    },
    "scrolled": false
   },
   "outputs": [],
   "source": [
    "data['target'] = data['EndDate']\n",
    "data.head()"
   ]
  },
  {
   "cell_type": "code",
   "execution_count": null,
   "id": "865d41fe",
   "metadata": {
    "ExecuteTime": {
     "end_time": "2023-02-09T10:55:06.953649Z",
     "start_time": "2023-02-09T10:55:06.953649Z"
    },
    "scrolled": false
   },
   "outputs": [],
   "source": [
    "'''Цикл для преобразования уникальных значений\n",
    "в признаке target в бинарную классификацию (1 или 0).\n",
    "Тем самым мы майним таргет.\n",
    "'''\n",
    "\n",
    "\n",
    "for i in data['target'].unique():\n",
    "    if i != 'No':\n",
    "        data['target'] = data['target'].replace(i, 1)\n",
    "    data['target'] = data['target'].replace(i, 0)\n",
    "\n",
    "data.head()"
   ]
  },
  {
   "cell_type": "code",
   "execution_count": null,
   "id": "2b452f03",
   "metadata": {
    "ExecuteTime": {
     "end_time": "2023-02-09T10:55:06.957638Z",
     "start_time": "2023-02-09T10:55:06.957638Z"
    }
   },
   "outputs": [],
   "source": [
    "'''Значения \"No\" в EndDate заменим на дату \"2020-02-01\"\n",
    "в целью дальнейшего расчета customer life cycle.\n",
    "Также проведем необходимые преобразования типов.\n",
    "'''\n",
    "\n",
    "\n",
    "data['EndDate'] = data['EndDate'].replace('No', '2020-02-01')\n",
    "data['BeginDate'] = data['BeginDate'].astype('datetime64')\n",
    "data['EndDate'] = data['EndDate'].astype('datetime64')\n",
    "\n",
    "data[['BeginDate', 'EndDate']].head()"
   ]
  },
  {
   "cell_type": "code",
   "execution_count": null,
   "id": "bfe345c7",
   "metadata": {
    "ExecuteTime": {
     "end_time": "2023-02-09T10:55:06.960632Z",
     "start_time": "2023-02-09T10:55:06.960632Z"
    }
   },
   "outputs": [],
   "source": [
    "data['customer_life_cycle'] = ((data['EndDate'] - data['BeginDate']).astype('timedelta64[D]')\n",
    "                                                                    .astype('int'))\n",
    "data.head()"
   ]
  },
  {
   "cell_type": "markdown",
   "id": "d048d6aa",
   "metadata": {},
   "source": [
    "### Вывод"
   ]
  },
  {
   "cell_type": "markdown",
   "id": "e853995c",
   "metadata": {},
   "source": [
    "В рамках первичной предобработки данных мы выполнили проверку датасета на пропуски, дубликаты, аномалии. Дополнительно нами был замайнена новая фича и определена целевая переменная. Первичная предобработка данных позволит нам провести ислледовательский анализ данных без артефактов в построенных графиках.\n",
    "\n",
    "Вторичную обработку данных, а вернее их подготовку к машинному обучению будем делать в пункте 1.4 проекта."
   ]
  },
  {
   "cell_type": "markdown",
   "id": "55db5406",
   "metadata": {},
   "source": [
    "## Исследовательский анализ данных"
   ]
  },
  {
   "cell_type": "markdown",
   "id": "2cd7270b",
   "metadata": {},
   "source": [
    "Проведем исследовательский анализ данных:\n",
    "* проверим данные на полноту и распределение;\n",
    "* проверим данные на аномалии и дубликаты (возможо они проявятся на графиках);\n",
    "* проверим баланс классов;\n",
    "* построим соответствующие графики."
   ]
  },
  {
   "cell_type": "markdown",
   "id": "e3d6493e",
   "metadata": {},
   "source": [
    "### Проверка на полноту, распределение и аномалии"
   ]
  },
  {
   "cell_type": "markdown",
   "id": "72f00141",
   "metadata": {},
   "source": [
    "Посмотрим на распределение данных и отсутствие в их аномалий."
   ]
  },
  {
   "cell_type": "code",
   "execution_count": null,
   "id": "018eaef9",
   "metadata": {
    "ExecuteTime": {
     "end_time": "2023-02-09T10:55:06.962626Z",
     "start_time": "2023-02-09T10:55:06.962626Z"
    },
    "scrolled": false
   },
   "outputs": [],
   "source": [
    "plt.figure(figsize=(15, 10))\n",
    "\n",
    "plt.hist(data['BeginDate'], bins=20)\n",
    "plt.xticks(rotation=90)\n",
    "plt.xlabel('Дата')\n",
    "plt.ylabel('Количество заключенных договоров')"
   ]
  },
  {
   "cell_type": "markdown",
   "id": "259905d0",
   "metadata": {},
   "source": [
    "Дата начала договоров равномерно распределена по годам за исключением 2014 года и конца 2019 года. Возможно в 2014 году компания начала деятельность и заключила своим первые договоры. Причина заключения большого количества договоров в 2019 году неизвестна и требует отдельного анализа."
   ]
  },
  {
   "cell_type": "code",
   "execution_count": null,
   "id": "0667629a",
   "metadata": {
    "ExecuteTime": {
     "end_time": "2023-02-09T10:55:06.965618Z",
     "start_time": "2023-02-09T10:55:06.965618Z"
    }
   },
   "outputs": [],
   "source": [
    "plt.figure(figsize=(15, 10))\n",
    "\n",
    "plt.hist(data['EndDate'], bins=20)\n",
    "plt.xticks(rotation=90)\n",
    "plt.xlabel('Дата')\n",
    "plt.ylabel('Оток клиентов')"
   ]
  },
  {
   "cell_type": "markdown",
   "id": "e97de6a3",
   "metadata": {},
   "source": [
    "Отток клиентов компании равномерный. Фиксировать отток компания, видимо, начала в 2019 и делает это ежемесячно в 1 числах месяца. Большой отток 2020-02-01 не аномалия, а следствие нашей предобработки данных. Эта информация не несет пользы для нас."
   ]
  },
  {
   "cell_type": "markdown",
   "id": "7c5634b6",
   "metadata": {},
   "source": [
    "Посмотрим на распределение ежемесячных платежей среди ушедших пользователей по сравнению с клиентами, которые до сих пор пользуются услугами компании."
   ]
  },
  {
   "cell_type": "code",
   "execution_count": null,
   "id": "aaf26178",
   "metadata": {
    "ExecuteTime": {
     "end_time": "2023-02-09T10:55:06.967611Z",
     "start_time": "2023-02-09T10:55:06.967611Z"
    },
    "scrolled": false
   },
   "outputs": [],
   "source": [
    "fig, ax = plt.subplots(figsize=(15, 15))\n",
    "\n",
    "plt.hist(data.loc[data['target'] == 0]['MonthlyCharges'])\n",
    "plt.hist(data.loc[data['target'] == 1]['MonthlyCharges'])\n",
    "plt.xlabel('Сумма ежемесячных платежей')\n",
    "plt.ylabel('Количество заключенных договоров')"
   ]
  },
  {
   "cell_type": "markdown",
   "id": "63b6b80f",
   "metadata": {},
   "source": [
    "Распределения по ежемесячным платежам одинаковы. Также видна мультимодальность распределения (несколько пиков)."
   ]
  },
  {
   "cell_type": "markdown",
   "id": "e5185b9d",
   "metadata": {},
   "source": [
    "Посмотрим на распределение итоговых сумм платежей среди ушедших пользователей по сравнению с клиентами, которые до сих пор пользуются услугами компании."
   ]
  },
  {
   "cell_type": "code",
   "execution_count": null,
   "id": "abb140b9",
   "metadata": {
    "ExecuteTime": {
     "end_time": "2023-02-09T10:55:06.970603Z",
     "start_time": "2023-02-09T10:55:06.970603Z"
    },
    "scrolled": false
   },
   "outputs": [],
   "source": [
    "fig, ax = plt.subplots(figsize=(15, 15))\n",
    "\n",
    "plt.hist(data.loc[data['target'] == 0]['TotalCharges'])\n",
    "plt.hist(data.loc[data['target'] == 1]['TotalCharges'])\n",
    "plt.xlabel('Сумма итоговых платежей')\n",
    "plt.ylabel('Количество заключенных договоров')"
   ]
  },
  {
   "cell_type": "markdown",
   "id": "634095aa",
   "metadata": {},
   "source": [
    "Распределение итоговых платежей тоже одиковое."
   ]
  },
  {
   "cell_type": "markdown",
   "id": "2aa51160",
   "metadata": {},
   "source": [
    "Теперь посмотрим на распределение жизненного цикла клиента."
   ]
  },
  {
   "cell_type": "code",
   "execution_count": null,
   "id": "190da129",
   "metadata": {
    "ExecuteTime": {
     "end_time": "2023-02-09T10:55:06.973596Z",
     "start_time": "2023-02-09T10:55:06.973596Z"
    }
   },
   "outputs": [],
   "source": [
    "fig, ax = plt.subplots(figsize=(15, 15))\n",
    "ax.xaxis.set_major_locator(ticker.MultipleLocator(100))\n",
    "\n",
    "plt.hist(data.loc[data['target'] == 0]['customer_life_cycle'], bins=20)\n",
    "plt.hist(data.loc[data['target'] == 1]['customer_life_cycle'], bins=20)\n",
    "plt.xlabel('Customer life cycle')\n",
    "plt.ylabel('Количество заключенных договоров')"
   ]
  },
  {
   "cell_type": "markdown",
   "id": "affd137c",
   "metadata": {},
   "source": [
    "Ушедшие клиенты чаще всего пользовались услугами компании короткое время (около 100 дней). В целом утечка клиентов есть, но она не привязана к каким-то событиям."
   ]
  },
  {
   "cell_type": "markdown",
   "id": "ba9d67b4",
   "metadata": {},
   "source": [
    "### Баланс классов целевой переменной"
   ]
  },
  {
   "cell_type": "markdown",
   "id": "3a616f0a",
   "metadata": {},
   "source": [
    "Проверим балансировку классов у целевого признака."
   ]
  },
  {
   "cell_type": "code",
   "execution_count": null,
   "id": "00854d26",
   "metadata": {
    "ExecuteTime": {
     "end_time": "2023-02-09T10:55:06.976588Z",
     "start_time": "2023-02-09T10:55:06.976588Z"
    },
    "scrolled": false
   },
   "outputs": [],
   "source": [
    "fig, ax = plt.subplots(figsize=(15, 15))\n",
    "\n",
    "plt.hist(data['target'])\n",
    "plt.xlabel('Целевой признак')\n",
    "plt.ylabel('Количество заключенных договоров')"
   ]
  },
  {
   "cell_type": "markdown",
   "id": "71d38611",
   "metadata": {},
   "source": [
    "Из гистограммы видно, что ушедших пользователей в несколько раз меньше, чем активных. В связи с этим при обучении моделей машинного обучения будем использовать балансировку классов."
   ]
  },
  {
   "cell_type": "markdown",
   "id": "475e3f93",
   "metadata": {},
   "source": [
    "### Анализ выбросов"
   ]
  },
  {
   "cell_type": "markdown",
   "id": "cadc4244",
   "metadata": {},
   "source": [
    "Посмотрим на выбросы в ежемесячных платежах и общей сумме платежей."
   ]
  },
  {
   "cell_type": "code",
   "execution_count": null,
   "id": "ff7da770",
   "metadata": {
    "ExecuteTime": {
     "end_time": "2023-02-09T10:55:06.978582Z",
     "start_time": "2023-02-09T10:55:06.978582Z"
    }
   },
   "outputs": [],
   "source": [
    "fig, ax = plt.subplots(figsize=(15, 2))\n",
    "plt.boxplot(data['MonthlyCharges'], vert=False)\n",
    "ax.set_title('Диаграмма размаха значений итоговой цены')\n",
    "ax.set_xlim(0, 200)"
   ]
  },
  {
   "cell_type": "code",
   "execution_count": null,
   "id": "ee1ce8c9",
   "metadata": {
    "ExecuteTime": {
     "end_time": "2023-02-09T10:55:06.981577Z",
     "start_time": "2023-02-09T10:55:06.981577Z"
    },
    "scrolled": true
   },
   "outputs": [],
   "source": [
    "fig, ax = plt.subplots(figsize=(15, 2))\n",
    "plt.boxplot(data['TotalCharges'], vert=False)\n",
    "ax.set_title('Диаграмма размаха значений итоговой цены')\n",
    "ax.set_xlim(0, 15000)"
   ]
  },
  {
   "cell_type": "markdown",
   "id": "ab521460",
   "metadata": {},
   "source": [
    "Выбросов не выявлено. Все значения находятся в диапазоне полуторного межквартильного расстояния."
   ]
  },
  {
   "cell_type": "markdown",
   "id": "3a59fddd",
   "metadata": {},
   "source": [
    "### Корреляционный анализ"
   ]
  },
  {
   "cell_type": "markdown",
   "id": "320391c0",
   "metadata": {},
   "source": [
    "Воспользуемся библиотекой phik для оценки корреляции различных гиперпараметров между собой."
   ]
  },
  {
   "cell_type": "code",
   "execution_count": null,
   "id": "dbc3a390",
   "metadata": {
    "ExecuteTime": {
     "end_time": "2023-02-09T10:55:06.984567Z",
     "start_time": "2023-02-09T10:55:06.984567Z"
    }
   },
   "outputs": [],
   "source": [
    "corr_matrix = data.phik_matrix()\n",
    "corr_matrix"
   ]
  },
  {
   "cell_type": "markdown",
   "id": "55606332",
   "metadata": {},
   "source": [
    "Выведем коррелционные данные на тепловую карту для удобства анализа."
   ]
  },
  {
   "cell_type": "code",
   "execution_count": null,
   "id": "338ff2a5",
   "metadata": {
    "ExecuteTime": {
     "end_time": "2023-02-09T10:55:06.986560Z",
     "start_time": "2023-02-09T10:55:06.986560Z"
    }
   },
   "outputs": [],
   "source": [
    "plt.figure(figsize=(15, 15))\n",
    "sns.heatmap(corr_matrix, annot=True)"
   ]
  },
  {
   "cell_type": "markdown",
   "id": "06df5e51",
   "metadata": {},
   "source": [
    "Исходя из тепловой карты видно, что у нас высокая корреляция между показателем EndDate и target, что логично, учитывая, что эти показатели идентичны. Аналогичная ситуация с BeginDate и customer_life_cycle.\n",
    "\n",
    "Также высокая корреляция наблюдается между показателями customer_life_cycle и TotalCharges, MontlyCharges и InternetService.\n",
    "\n",
    "Признак gender позал отсутствие корреляции почти со всеми показателями. Скорее всего данный признак не даст какого-либо прироста метрики моделей машинного обучения. Мы можем его удалить.\n",
    "\n",
    "Таже удалим мультиколлинеарные признаки BeginDate и EndDate."
   ]
  },
  {
   "cell_type": "markdown",
   "id": "3bcc935c",
   "metadata": {},
   "source": [
    "### Вывод"
   ]
  },
  {
   "cell_type": "markdown",
   "id": "9b564d5e",
   "metadata": {},
   "source": [
    "Мы провели краткий исследовательский анализ данных. Нами были оценены распределение, и полнота данных, определена необходимость балансироваки классов в рамках машинного обучения, произведен анализ выбросов количественных признаков с помощью ящиков с усами, проведен корреляционный анализ.\n",
    "\n",
    "В рамках полноты и распределение данных - порядок, - в данных нет никаких пропусков, которые мы могли не заметить в рамках первичной предобработки данных.\n",
    "\n",
    "Модели машинного обучения требуют балансировки классов, т.к. разница между утекшими и активными пользователями существенна.\n",
    "\n",
    "Исходя из ящиков с усами выбросов количественных данных у нас нет, их нормализация не трубуется.\n",
    "\n",
    "Корреляционный анализ показал зависимость таких признаков, как:\n",
    "* EndDate и target;\n",
    "* BeginDate и customer_life_cycle;\n",
    "* customer_life_cycle и TotalCharges;\n",
    "* MontlyCharges и InternetService.\n",
    "\n",
    "Признак gender не коррелирует ни с одним из других фичей, в связи с чем мы можем удалить его из датасета на этапе подготовки данных для обучения."
   ]
  },
  {
   "cell_type": "markdown",
   "id": "a45133ee",
   "metadata": {},
   "source": [
    "## Подготовка данных для обучения"
   ]
  },
  {
   "cell_type": "markdown",
   "id": "4b54ec11",
   "metadata": {},
   "source": [
    "### Удаление лишних признаков"
   ]
  },
  {
   "cell_type": "markdown",
   "id": "a4234fe4",
   "metadata": {},
   "source": [
    "Удалим признаки, которые помешают модели обучиться."
   ]
  },
  {
   "cell_type": "code",
   "execution_count": null,
   "id": "957ecaf3",
   "metadata": {
    "ExecuteTime": {
     "end_time": "2023-02-09T10:55:06.990552Z",
     "start_time": "2023-02-09T10:55:06.990552Z"
    },
    "scrolled": true
   },
   "outputs": [],
   "source": [
    "data = data.drop(columns=[\n",
    "    'customerID',\n",
    "    'BeginDate',\n",
    "    'EndDate',\n",
    "    'gender',\n",
    "    'TotalCharges'], axis=1)\n",
    "data.columns"
   ]
  },
  {
   "cell_type": "markdown",
   "id": "d0ebcd79",
   "metadata": {},
   "source": [
    "### Разделение датасета на обучающую и тестовую выборки"
   ]
  },
  {
   "cell_type": "markdown",
   "id": "3253739a",
   "metadata": {},
   "source": [
    "Разделим датасет на фичи и таргет."
   ]
  },
  {
   "cell_type": "code",
   "execution_count": null,
   "id": "576deb68",
   "metadata": {
    "ExecuteTime": {
     "end_time": "2023-02-09T10:55:06.992545Z",
     "start_time": "2023-02-09T10:55:06.992545Z"
    },
    "scrolled": true
   },
   "outputs": [],
   "source": [
    "features = data.drop('target', axis=1)\n",
    "target = data['target']\n",
    "\n",
    "display(features.shape)\n",
    "display(target.shape)\n",
    "display(features.head())"
   ]
  },
  {
   "cell_type": "markdown",
   "id": "c44dd189",
   "metadata": {},
   "source": [
    "Разделим датасет на обучающую выборку, тестовую выборку и соответствующие таргеты."
   ]
  },
  {
   "cell_type": "code",
   "execution_count": null,
   "id": "409c08c0",
   "metadata": {
    "ExecuteTime": {
     "end_time": "2023-02-09T10:55:06.994539Z",
     "start_time": "2023-02-09T10:55:06.994539Z"
    },
    "scrolled": true
   },
   "outputs": [],
   "source": [
    "X_train, X_test, y_train, y_test = train_test_split(features,\n",
    "                                                    target,\n",
    "                                                    test_size=.25,\n",
    "                                                    random_state=160123)\n",
    "\n",
    "display(X_train.shape)\n",
    "display(X_test.shape)\n",
    "display(y_train.shape)\n",
    "display(y_test.shape)"
   ]
  },
  {
   "cell_type": "markdown",
   "id": "e1e5a047",
   "metadata": {},
   "source": [
    "### Кодирование категориальных переменных"
   ]
  },
  {
   "cell_type": "markdown",
   "id": "3f5f0fc3",
   "metadata": {},
   "source": [
    "Применим кодирование категориальных переменных с помощью OneHotEncoding."
   ]
  },
  {
   "cell_type": "code",
   "execution_count": null,
   "id": "bd0ad673",
   "metadata": {
    "ExecuteTime": {
     "end_time": "2023-02-09T10:55:06.997533Z",
     "start_time": "2023-02-09T10:55:06.997533Z"
    },
    "scrolled": false
   },
   "outputs": [],
   "source": [
    "# Сброс индексов для избежания появления NAN при join датасетов\n",
    "X_train = X_train.reset_index(drop=True)\n",
    "X_test = X_test.reset_index(drop=True)\n",
    "y_train = y_train.reset_index(drop=True)\n",
    "y_test = y_test.reset_index(drop=True)\n",
    "\n",
    "ohe_columns = []\n",
    "\n",
    "# Сбор категориальных признаков через цикл в список\n",
    "for column in X_train.columns:\n",
    "    if X_train[column].dtypes == object:\n",
    "        ohe_columns.append(column)\n",
    "\n",
    "# Обучение энкодера\n",
    "encoder = OneHotEncoder(drop='first').fit(X_train[ohe_columns])\n",
    "new_columns = encoder.get_feature_names(ohe_columns)\n",
    "\n",
    "# Кодирование категориальных признаков, сбор train выборки\n",
    "encoder_train = pd.DataFrame(encoder.transform(X_train[ohe_columns]).toarray(),\n",
    "                             columns=new_columns)\n",
    "\n",
    "X_train = X_train.join(encoder_train)\n",
    "X_train = X_train.drop(columns=ohe_columns, axis=1)\n",
    "display(X_train)\n",
    "\n",
    "# Кодирование категориальных признаков, сбор test выборки\n",
    "encoder_test = pd.DataFrame(encoder.transform(X_test[ohe_columns]).toarray(),\n",
    "                            columns=new_columns)\n",
    "\n",
    "X_test = X_test.join(encoder_test)\n",
    "X_test = X_test.drop(columns=ohe_columns, axis=1)\n",
    "display(X_test)"
   ]
  },
  {
   "cell_type": "markdown",
   "id": "ba30e31c",
   "metadata": {},
   "source": [
    "### Вывод"
   ]
  },
  {
   "cell_type": "markdown",
   "id": "9f61ab0c",
   "metadata": {},
   "source": [
    "В данном разделе нами были удалены признаки, не несущие пользы для машинного обучения (ID пользователей, даты)."
   ]
  },
  {
   "cell_type": "markdown",
   "id": "9bfcf6ca",
   "metadata": {},
   "source": [
    "## Обучение моделей"
   ]
  },
  {
   "cell_type": "markdown",
   "id": "1981e8c3",
   "metadata": {},
   "source": [
    "Обучим несколько моделей на данных и посмотрим на метрику AUC-ROC.\n",
    "\n",
    "Будем собирать pipelin'ы для каждой модели. В нем будет scaler и модель. Сетку параметров укажем в словаре param_grid. Обучим модели черех GridSearchCV с помощью кросс-валидации с 5 фолдами.\n",
    "\n",
    "Для обучения будем использовать следующие модели:\n",
    "* LogisticRegression\n",
    "* RandomForestClassifier\n",
    "* CatBoostClassifier"
   ]
  },
  {
   "cell_type": "markdown",
   "id": "f316a7e9",
   "metadata": {},
   "source": [
    "### LogisticRegression"
   ]
  },
  {
   "cell_type": "code",
   "execution_count": null,
   "id": "0b371c13",
   "metadata": {
    "ExecuteTime": {
     "end_time": "2023-02-09T10:55:06.999528Z",
     "start_time": "2023-02-09T10:55:06.999528Z"
    }
   },
   "outputs": [],
   "source": [
    "pipeline = Pipeline([(\"scaler\", StandardScaler()),\n",
    "                     (\"lr\", LogisticRegression(random_state=160123,\n",
    "                                               class_weight='balanced'))])\n",
    "\n",
    "param_grid = {\n",
    "    'lr__solver': ['lbfgs', 'liblinear']\n",
    "}\n",
    "\n",
    "grid_pipeline = GridSearchCV(pipeline,\n",
    "                             param_grid,\n",
    "                             verbose=1,\n",
    "                             cv=5,\n",
    "                             scoring='roc_auc')\n",
    "\n",
    "grid_pipeline.fit(X_train, y_train)\n",
    "display(grid_pipeline.best_params_)\n",
    "display(grid_pipeline.best_score_)"
   ]
  },
  {
   "cell_type": "markdown",
   "id": "9a844b5d",
   "metadata": {},
   "source": [
    "### RandomForestClassifier"
   ]
  },
  {
   "cell_type": "code",
   "execution_count": null,
   "id": "32044852",
   "metadata": {
    "ExecuteTime": {
     "end_time": "2023-02-09T10:55:07.001521Z",
     "start_time": "2023-02-09T10:55:07.001521Z"
    },
    "scrolled": true
   },
   "outputs": [],
   "source": [
    "pipeline = Pipeline([(\"scaler\", StandardScaler()),\n",
    "                     (\"rfc\", RandomForestClassifier(random_state=160123,\n",
    "                                                    class_weight='balanced'))])\n",
    "\n",
    "param_grid = {\n",
    "    'rfc__max_depth': [1, 10, 50],\n",
    "    'rfc__n_estimators': [10, 50, 100]\n",
    "}\n",
    "\n",
    "grid_pipeline = GridSearchCV(pipeline,\n",
    "                             param_grid,\n",
    "                             verbose=1,\n",
    "                             cv=5,\n",
    "                             scoring='roc_auc')\n",
    "\n",
    "grid_pipeline.fit(X_train, y_train)\n",
    "display(grid_pipeline.best_params_)\n",
    "display(grid_pipeline.best_score_)"
   ]
  },
  {
   "cell_type": "markdown",
   "id": "d7460e58",
   "metadata": {},
   "source": [
    "### CatboostClassifier"
   ]
  },
  {
   "cell_type": "code",
   "execution_count": null,
   "id": "7627c742",
   "metadata": {
    "ExecuteTime": {
     "end_time": "2023-02-09T10:55:07.005896Z",
     "start_time": "2023-02-09T10:55:07.005896Z"
    },
    "scrolled": true
   },
   "outputs": [],
   "source": [
    "pipeline = Pipeline([(\"cbc\", CatBoostClassifier(random_state=160123,\n",
    "                                                auto_class_weights='Balanced'))])\n",
    "\n",
    "param_grid = {\n",
    "    'cbc__learning_rate': [0.01, 0.1],\n",
    "    'cbc__depth': [1, 10]\n",
    "}\n",
    "\n",
    "grid_pipeline = GridSearchCV(pipeline,\n",
    "                             param_grid,\n",
    "                             verbose=1,\n",
    "                             cv=5,\n",
    "                             scoring='roc_auc')\n",
    "\n",
    "grid_pipeline.fit(X_train, y_train)\n",
    "display(grid_pipeline.best_params_)\n",
    "display(grid_pipeline.best_score_)"
   ]
  },
  {
   "cell_type": "markdown",
   "id": "f51bf383",
   "metadata": {},
   "source": [
    "### Проверка лучшей модели на тестовой выборке"
   ]
  },
  {
   "cell_type": "code",
   "execution_count": null,
   "id": "f805f68a",
   "metadata": {
    "ExecuteTime": {
     "end_time": "2023-02-09T10:55:07.008885Z",
     "start_time": "2023-02-09T10:55:07.008885Z"
    },
    "scrolled": true
   },
   "outputs": [],
   "source": [
    "model = CatBoostClassifier(random_state=160123,\n",
    "                           auto_class_weights='Balanced',\n",
    "                           depth=10,\n",
    "                           learning_rate=0.1)\n",
    "\n",
    "model.fit(X_train, y_train)\n",
    "predictions = model.predict(X_test)\n",
    "predictions_proba = model.predict_proba(X_test)[:, 1]\n",
    "\n",
    "display(roc_auc_score(y_test, predictions_proba))\n",
    "display(accuracy_score(y_test, predictions))"
   ]
  },
  {
   "cell_type": "code",
   "execution_count": null,
   "id": "ebe1761c",
   "metadata": {
    "ExecuteTime": {
     "end_time": "2023-02-09T10:55:07.011876Z",
     "start_time": "2023-02-09T10:55:07.011876Z"
    }
   },
   "outputs": [],
   "source": [
    "catboost_pool = Pool(X_test, y_test)\n",
    "(fpr, tpr, thresholds) = get_roc_curve(model, catboost_pool, plot=True)"
   ]
  },
  {
   "cell_type": "code",
   "execution_count": null,
   "id": "e450ef7e",
   "metadata": {
    "ExecuteTime": {
     "end_time": "2023-02-09T10:55:07.013872Z",
     "start_time": "2023-02-09T10:55:07.013872Z"
    },
    "scrolled": false
   },
   "outputs": [],
   "source": [
    "features_imp = pd.DataFrame(model.get_feature_importance(), X_test.columns)\n",
    "features_imp"
   ]
  },
  {
   "cell_type": "markdown",
   "id": "15b17df8",
   "metadata": {},
   "source": [
    "### Вывод"
   ]
  },
  {
   "cell_type": "markdown",
   "id": "2bfb020e",
   "metadata": {},
   "source": [
    "Из обучения и проверки моделей видно, что лучше всего себя показала модель CatBoostClassifier. AUC-ROC данной модели составляет 88% на обучающей выборке и 89.38% на тестовой. Accuracy модели на тестовой выборке состваляет 83.67%.\n",
    "\n",
    "Важнейшими параметрами для обучения модели оказались MonthlyCharges и customer_life_cycle, отражающие ежемесячные платежи и время жизни клиента."
   ]
  },
  {
   "cell_type": "markdown",
   "id": "43510959",
   "metadata": {},
   "source": [
    "# Отчет о проделанной работе"
   ]
  },
  {
   "cell_type": "markdown",
   "id": "86c827cb",
   "metadata": {},
   "source": [
    "В данном работе мы исследуем проблему оттока пользователей интернет/телеком-провайдера «Ниединогоразрыва.ком». Конечной целью нашего исследования будет построение прогнозной модели, основывающейся на машинном обучении, определяющей клиентов склонных к оттоку из компании. Результатом использования такой модели будет удержание клиентов внутри компании различными маркетинговыми схемами.\n",
    "Анализируя имеющиеся данные по клиентам компании модель определяет к какой категории относится клиент:\n",
    "* \"0\" - не склонен к оттоку;\n",
    "* \"1\" - склонен к оттоку.\n",
    "\n",
    "Для оценки качества модели нами используется метрика оценки бинарной классификации AUC-ROC (Area Under Curve - Receiver Operating Characteristic).\n",
    "Обученная в работе модель позволяет определять склонность клиента к оттоку с точностью до 89%."
   ]
  },
  {
   "cell_type": "markdown",
   "id": "d4563adc",
   "metadata": {},
   "source": [
    "## Введение"
   ]
  },
  {
   "cell_type": "markdown",
   "id": "f8e50f89",
   "metadata": {},
   "source": [
    "Различные компании, ведя свою деятельность, часто не задумываются о необходимости построения баз данных для накопления статистических данных по своим различным бизнес-процессам. Но те компании, которые занялись этим вопросом заранее, по прошествию определенного количества времени получили преимущество по сравнению с конкуретами - это преимущество заключено в силе данных.\n",
    "\n",
    "Одной из таких компаний является компания «Ниединогоразрыва.ком». Компания занималась сбором данных по своим клиентам и накопила внушительную базу данных, данные из которой можно использовать для создания различных управленческих рычагов.\n",
    "\n",
    "Проанализировав базу можно понять, что у нас есть все необходимые данные для получения возможности в сохранении компанией своих клиентов. Эти возможности открываются нам за счет машинного обучения и статистики.\n",
    "\n",
    "**Для обучения моделей проведем следующие этапы проекта:**\n",
    "1. **Обзор данных**:\n",
    "\n",
    "    Загрузим данные в тетрадку и проведем их предварительный обзор для понимания дальнейших действий.\n",
    "2. **Предобработка данных**:\n",
    "    * объединим таблицы;\n",
    "    * обработаем пропущенные значения;\n",
    "    * обработаем аномалий и дубликаты;\n",
    "    * приведем данные к нужным форматам.\n",
    "3. **Исследовательский анализ данных**:\n",
    "    * проверим данные на полноту и распределение;\n",
    "    * проверим данные на аномалии;\n",
    "    * проверим баланс классов целевой переменной;\n",
    "    * проведем корреляционный анализ;\n",
    "    * построим соответствующие графики.\n",
    "4. **Подготовка данных для обучения:**\n",
    "    * разобьем датасет на train, valid, test выборки;\n",
    "    * проведем кодирование категориальных фичей;\n",
    "    * проведем масштабирование.\n",
    "4. **Обучение моделей**:\n",
    "    * обучим парочку \"голых\" моделей без гиперпараметров (LogisticRegression, RandomForest, Catboost и т.д.). Посмотрим на результат их работы;\n",
    "    * для улучшения метрик проведем тюнинг гиперпараметров и накрутим кросс-валидацию;\n",
    "    * для финальной оценки лучшей модели проверим модель на test выборке.\n",
    "    \n",
    "    Для оценки моделей будем использовать метрики AUR-ROC и accuracy.\n",
    "5. **Общий вывод**:\n",
    "\n",
    "    Напишем общий вывод и отчет о проделанной работе."
   ]
  },
  {
   "cell_type": "markdown",
   "id": "4f281a79",
   "metadata": {},
   "source": [
    "## Данные"
   ]
  },
  {
   "cell_type": "markdown",
   "id": "e3728bb2",
   "metadata": {},
   "source": [
    "Данные были взяты из базы данных компании «Ниединогоразрыва.ком». Данные разбиты на несколько датасетов:\n",
    "   * Список контрактов.\n",
    "   * Список клиентов.\n",
    "   * Покупаемые интернет услуги.\n",
    "   * Покупаемые услуги телефонии.\n",
    "\n",
    "Проведя первичный обзор датасетов можно выделить следующие моменты:\n",
    "1. У нас имеются следующие данные, они же признаки для дальнейшего обучения нашей модели:\n",
    "    * `customerID` - ID покупателя;\n",
    "    * `BeginDate` - дата начала действия договора;\n",
    "    * `EndDate` - дата окончания договора;\n",
    "    * `Type` - тип договора по сроку действия;\n",
    "    * `PaperlessBilling` - безбумажное заполнение договора;\n",
    "    * `PaymentMethod` - метод оплаты договора;\n",
    "    * `MonthlyCharges` - ежемесячные платежи;\n",
    "    * `TotalCharges` - итоговая сумма платежей;\n",
    "    * `InternetService` - тип интернет соединения;\n",
    "    * `OnlineSecurity` - онлайн безопасность;\n",
    "    * `OnlineBackup` - резервная копия данных;\n",
    "    * `DeviceProtection` - антивирус;\n",
    "    * `TechSupport` - поддержка;\n",
    "    * `StreamingTV` - стриминговое телевидение;\n",
    "    * `StreamingMovies` - каталог фильмов.\n",
    "    * `InternetService` - тип интернет соединения;\n",
    "    * `gender` - пол;\n",
    "    * `SeniorCitizen` - пожилой возраст;\n",
    "    * `Partner` - партнер компании;\n",
    "    * `Dependents` - инживенец;\n",
    "    * `InternetService` - тип интернет соединения;\n",
    "    * `MultipleLines` - множественные линии.\n",
    "2. Всего у нас имеются 7043 строк с данными, соответственно столько же клиентов и заключенных контрактов.\n",
    "3. В данных есть множественные недочеты, которые необходимо будет исправить:\n",
    "    * колонки `BeginDate` и `EndDate` необходимо привести к формату DateTime в целях исследовательского анализа данных. После анализа колонки можно будет удалить, т.к. они будут лишними для моделей;\n",
    "    * колонка `EndDate` является целевым признаком для классификации клиентов на активных и прогнозируемых к оттоку. Колонка имеет смешанный формат данных. Необходимо привести ее к бинарному виду для дальнейшей классификации клиентов на активных (0) и прогнозируемых к оттоку (1). Но, в связи с тем, что сама по себе информация о окончании действия договора, возможно, несет в себе практическую пользу для моделей (можно сгенерировать отдельную фичу с продолжительность действия договора и посмотреть как она влияет на метрики моделей), перед приведением целевого признака в бинарный вид мы сгенерируем дополнительную фичу с помощью колонок `BeginDate` и `EndDate`;\n",
    "    * колонку `TotalCharges` необходимо привести к float формату, дополнительно в колонке есть скрытые пропуски из-за чего, возможно, формат колонки типа object. Заменим их на 0 или удалим.\n",
    "    * необходимо провести кодирование категориальных колонок в каждом из датасетов;\n",
    "    * необходимо произвести масштабирование данных;\n",
    "    * полезность признаков `MonthlyCharges` и `TotalCharges` для моделей под вопросом, т.к. платежи гомогенны, без динамики. Можно попробовать посмотреть метрики с этой фичей и без;\n",
    "    * данные необходимо будет объединить в один датафрейм.\n",
    "    * данные необходимо разбить на train и test выборки.\n",
    "    \n",
    "Всего данные прошли 2 стадии обработки:\n",
    "1. Предварительная обработка для исследовательского анализа:\n",
    "    * проверка и удаление пропусков;\n",
    "    * проверка и удаление дубликато;\n",
    "    * проверка на неявные аномалии;\n",
    "    * майнинг таргета и дополнительных признаков.\n",
    "2. Вторичная обработка для пригодности к машинному обучению\n",
    "    * удаление лишних для модели признаков, дающих утечку;\n",
    "    * разделение датасета на train и test выборки в соотношении 75/25 (5274 против 1758 строк). Параметр random_state для разделения данных выбран 160123.\n",
    "    * кодирование категориальных переменных с помощью GridSearchCV."
   ]
  },
  {
   "cell_type": "markdown",
   "id": "807c93df",
   "metadata": {},
   "source": [
    "## Модели"
   ]
  },
  {
   "cell_type": "markdown",
   "id": "30521f9a",
   "metadata": {},
   "source": [
    "Всего для выполнения работы нами были выбраны 3 модели:\n",
    "* Logistic Regression.\n",
    "* RandomForest Classifier.\n",
    "* CatBoost Classifier.\n",
    "\n",
    "Для каждой модели был составлен Pipeline с помощью которого данные для моделей прошли следующие стадии:\n",
    "1. Предобработка:\n",
    "    * масштабирование числовых признаков.\n",
    "2. Составление обучающей сетки гиперпараметров.\n",
    "3. Обучение каждой модели на данных с применением кросс-валидации с итерацией равной 5.\n",
    "\n",
    "Для моделей были выбраны следующие сетки гиперпараметров:\n",
    "\n",
    "**LogisticRegression:**\n",
    "* 'lr__solver': ['lbfgs', 'liblinear']\n",
    "\n",
    "\n",
    "**RandomForestClassifier:**\n",
    "* 'rfc__max_depth': [1, 10, 50],\n",
    "* 'rfc__n_estimators': [10, 50, 100]\n",
    "\n",
    "**CatBoostClassifier:**\n",
    "* 'cbc__learning_rate': [0.01, 0.1],\n",
    "* 'cbc__depth': [1, 10]\n",
    "\n",
    "Гиперпараметр *random_state* для всех моделей использовался равный 16012023, а классы были сбалансированы методом class_weight='balanced'.\n",
    "\n",
    "Список признаков, которые были использованы для обучения моделей (в т.ч. закодиронные признаки):\n",
    "1. Дефолтные:\n",
    "    * MonthlyCharges'\n",
    "    * SeniorCitizen'\n",
    "    * customer_life_cycle'\n",
    "2. Закодированные:\n",
    "    * Type_One year'\n",
    "    * Type_Two year'\n",
    "    * PaperlessBilling_Yes'\n",
    "    * PaymentMethod_Credit card (automatic)'\n",
    "    * PaymentMethod_Electronic check'\n",
    "    * PaymentMethod_Mailed check'\n",
    "    * InternetService_Fiber optic'\n",
    "    * InternetService_No'\n",
    "    * OnlineSecurity_Yes'\n",
    "    * OnlineBackup_Yes'\n",
    "    * DeviceProtection_Yes'\n",
    "    * TechSupport_Yes'\n",
    "    * StreamingTV_Yes'\n",
    "    * StreamingMovies_Yes'\n",
    "    * Partner_Yes'\n",
    "    * Dependents_Yes'\n",
    "    * MultipleLines_Yes'"
   ]
  },
  {
   "cell_type": "markdown",
   "id": "c86506a4",
   "metadata": {},
   "source": [
    "## Результаты обучения моделей"
   ]
  },
  {
   "cell_type": "markdown",
   "id": "d35b6d11",
   "metadata": {},
   "source": [
    "### Общая информация"
   ]
  },
  {
   "cell_type": "markdown",
   "id": "8eada2f6",
   "metadata": {},
   "source": [
    "Модели были успешно обучены на train выборке и показали следующие результаты:\n",
    "\n",
    "**LogisticRegression:**\n",
    "\n",
    "Лучшие гиперпараметры:\n",
    "* 'lr__solver': 'lbfgs'\n",
    "\n",
    "Лучшая целевая метрика (AUC-ROC):\n",
    "`0.8386`\n",
    "\n",
    "\\\n",
    "**RandomForestClassifier:**\n",
    "\n",
    "Лучшие гиперпараметры:\n",
    "* 'rfc__max_depth': 10\n",
    "* 'rfc__n_estimators': 100\n",
    "\n",
    "Лучшая целевая метрика (AUC-ROC):\n",
    "`0.8523`\n",
    "\n",
    "\\\n",
    "**CatBoostClassifier:**\n",
    "\n",
    "Лучшие гиперпараметры:\n",
    "* 'cbc__depth': 10\n",
    "* 'cbc__learning_rate': 0.1\n",
    "\n",
    "Лучшая целевая метрика (AUC-ROC):\n",
    "`0.8801`"
   ]
  },
  {
   "cell_type": "markdown",
   "id": "da0cacb9",
   "metadata": {},
   "source": [
    "### Лучшая модель"
   ]
  },
  {
   "cell_type": "markdown",
   "id": "500acaeb",
   "metadata": {},
   "source": [
    "**По итогам обучения моделей как лучшая из них была выбрана модель CatBoost Classifier с итоговой метрикой AUC-ROC равной `88.01%`.**\n",
    "\n",
    "**Лучшие гиперпараметры:**\n",
    "* 'cbc__depth': 10\n",
    "* 'cbc__learning_rate': 0.1\n",
    "\n",
    "**Лучшая целевая метрика (AUC-ROC) на train:**\n",
    "`0.8801`\n",
    "\n",
    "\\\n",
    "**Модель CatBoostClassifier, как лучшая, была проверена на тестовой выборке и получила на ней слудующие результаты:**\n",
    "\n",
    "* AUC-ROC: `0.8938`\n",
    "\n",
    "* Accuracy: `0.8367`"
   ]
  },
  {
   "cell_type": "markdown",
   "id": "4e5964f1",
   "metadata": {},
   "source": [
    "## Выводы"
   ]
  },
  {
   "cell_type": "markdown",
   "id": "8d620b5c",
   "metadata": {},
   "source": [
    "Нами выполнена работа по обучению моделей машинного обучения на данных компании «Ниединогоразрыва.ком».\n",
    "\n",
    "Работа потребовала от нас предварительной обработки данных и их анализа. Так, например, были удалены некоторые пропуски в данных, замайнен из начальной и конечной даты контракта целевой признак (target) и дополнительный признак (customer_life_cycle).\n",
    "\n",
    "Категорильные признаки в работе были закодированы, а все числовые признаки отмасштабированы.\n",
    "\n",
    "К моделям машинного обучения был применеН PipeLine, перекрестная валидация с 5 фолдами и поиск по сетке гиперпараметров.\n",
    "\n",
    "лучшей моделью по итогам обучения на обучающей выборке была определена модель CatBoostClassifier с AUC-ROC равной 88.01%. Данная модель была взята за основную и проверена на тестовой выборке, где показала еще лучший результат, равный 89.38%.\n",
    "\n",
    "Данную модель можно брать за основу и применить к текущим данным компании, для определения клиентов, которые, скорее всего, являются утекающими. Таким клиентам можно предлагать скидки и дополнительные услуги, которые могут быть так же определены в рамках составленного с помощью машинного обучения портрета целевой аудитории (персонализированные услуги).\n",
    "\n",
    "Обученную модель также можно применять к новым клиентам в будущем для исключения их утечки.\n",
    "\n",
    "**По итогам работы отклонения от первоначального плана работы не было. Трудности в работе не выявлены. Ключевым признаком для обучения модели оказался customer_life_cycle.**"
   ]
  }
 ],
 "metadata": {
  "ExecuteTimeLog": [
   {
    "duration": 55,
    "start_time": "2023-01-18T17:36:03.407Z"
   },
   {
    "duration": 3204,
    "start_time": "2023-01-18T17:36:11.613Z"
   },
   {
    "duration": 1207,
    "start_time": "2023-01-18T17:36:14.820Z"
   },
   {
    "duration": 156,
    "start_time": "2023-01-18T17:36:21.704Z"
   },
   {
    "duration": 46,
    "start_time": "2023-01-18T17:36:44.824Z"
   },
   {
    "duration": 47,
    "start_time": "2023-01-18T17:36:45.872Z"
   },
   {
    "duration": 29,
    "start_time": "2023-01-18T17:36:46.823Z"
   },
   {
    "duration": 30,
    "start_time": "2023-01-18T17:36:47.479Z"
   },
   {
    "duration": 68,
    "start_time": "2023-01-18T17:36:49.191Z"
   },
   {
    "duration": 44,
    "start_time": "2023-01-18T17:39:01.377Z"
   },
   {
    "duration": 12,
    "start_time": "2023-01-18T17:39:04.147Z"
   },
   {
    "duration": 14,
    "start_time": "2023-01-18T17:39:07.668Z"
   },
   {
    "duration": 46,
    "start_time": "2023-01-18T17:39:52.678Z"
   },
   {
    "duration": 16,
    "start_time": "2023-01-18T17:39:57.221Z"
   },
   {
    "duration": 9,
    "start_time": "2023-01-18T17:39:59.646Z"
   },
   {
    "duration": 10,
    "start_time": "2023-01-18T17:40:02.102Z"
   },
   {
    "duration": 6,
    "start_time": "2023-01-18T17:40:40.871Z"
   },
   {
    "duration": 14,
    "start_time": "2023-01-18T17:40:42.719Z"
   },
   {
    "duration": 23,
    "start_time": "2023-01-18T17:40:48.287Z"
   },
   {
    "duration": 31,
    "start_time": "2023-01-18T17:40:51.848Z"
   },
   {
    "duration": 17,
    "start_time": "2023-01-18T17:41:55.388Z"
   },
   {
    "duration": 24,
    "start_time": "2023-01-18T17:41:55.882Z"
   },
   {
    "duration": 310,
    "start_time": "2023-01-18T17:41:59.317Z"
   },
   {
    "duration": 239,
    "start_time": "2023-01-18T17:42:12.410Z"
   },
   {
    "duration": 226,
    "start_time": "2023-01-18T17:42:38.452Z"
   },
   {
    "duration": 219,
    "start_time": "2023-01-18T17:43:42.293Z"
   },
   {
    "duration": 313,
    "start_time": "2023-01-18T17:43:47.998Z"
   },
   {
    "duration": 259,
    "start_time": "2023-01-18T17:44:37.055Z"
   },
   {
    "duration": 111,
    "start_time": "2023-01-18T17:44:57.295Z"
   },
   {
    "duration": 110,
    "start_time": "2023-01-18T17:44:58.159Z"
   },
   {
    "duration": 18706,
    "start_time": "2023-01-18T17:45:02.232Z"
   },
   {
    "duration": 650,
    "start_time": "2023-01-18T17:45:20.940Z"
   },
   {
    "duration": 1578,
    "start_time": "2023-01-23T08:19:03.971Z"
   },
   {
    "duration": 18230,
    "start_time": "2023-01-23T08:19:17.248Z"
   },
   {
    "duration": 741,
    "start_time": "2023-01-23T08:19:35.481Z"
   },
   {
    "duration": 303,
    "start_time": "2023-01-23T08:19:39.571Z"
   },
   {
    "duration": 45,
    "start_time": "2023-01-23T08:19:42.417Z"
   },
   {
    "duration": 46,
    "start_time": "2023-01-23T08:19:43.665Z"
   },
   {
    "duration": 22,
    "start_time": "2023-01-23T08:19:44.852Z"
   },
   {
    "duration": 32,
    "start_time": "2023-01-23T08:19:47.297Z"
   },
   {
    "duration": 54,
    "start_time": "2023-01-23T08:19:53.769Z"
   },
   {
    "duration": 46,
    "start_time": "2023-01-23T08:25:23.080Z"
   },
   {
    "duration": 11,
    "start_time": "2023-01-23T08:25:25.463Z"
   },
   {
    "duration": 16,
    "start_time": "2023-01-23T08:25:27.374Z"
   },
   {
    "duration": 42,
    "start_time": "2023-01-23T08:25:28.591Z"
   },
   {
    "duration": 16,
    "start_time": "2023-01-23T08:25:30.982Z"
   },
   {
    "duration": 10,
    "start_time": "2023-01-23T08:25:31.758Z"
   },
   {
    "duration": 14,
    "start_time": "2023-01-23T08:25:31.886Z"
   },
   {
    "duration": 6,
    "start_time": "2023-01-23T08:25:34.182Z"
   },
   {
    "duration": 15,
    "start_time": "2023-01-23T08:25:34.393Z"
   },
   {
    "duration": 24,
    "start_time": "2023-01-23T08:25:36.271Z"
   },
   {
    "duration": 29,
    "start_time": "2023-01-23T08:25:37.559Z"
   },
   {
    "duration": 20,
    "start_time": "2023-01-23T08:25:39.206Z"
   },
   {
    "duration": 24,
    "start_time": "2023-01-23T08:25:43.453Z"
   },
   {
    "duration": 34,
    "start_time": "2023-01-23T08:25:44.759Z"
   },
   {
    "duration": 299,
    "start_time": "2023-01-23T08:25:47.990Z"
   },
   {
    "duration": 312,
    "start_time": "2023-01-23T08:25:49.998Z"
   },
   {
    "duration": 245,
    "start_time": "2023-01-23T08:25:52.999Z"
   },
   {
    "duration": 224,
    "start_time": "2023-01-23T08:42:54.646Z"
   },
   {
    "duration": 320,
    "start_time": "2023-01-23T08:42:59.566Z"
   },
   {
    "duration": 192,
    "start_time": "2023-01-23T08:43:07.941Z"
   },
   {
    "duration": 117,
    "start_time": "2023-01-23T08:43:10.606Z"
   },
   {
    "duration": 105,
    "start_time": "2023-01-23T08:43:10.762Z"
   },
   {
    "duration": 18486,
    "start_time": "2023-01-23T08:43:12.548Z"
   },
   {
    "duration": 874,
    "start_time": "2023-01-23T08:43:31.036Z"
   },
   {
    "duration": 6,
    "start_time": "2023-01-23T08:46:41.901Z"
   },
   {
    "duration": 12,
    "start_time": "2023-01-23T08:46:45.340Z"
   },
   {
    "duration": 8,
    "start_time": "2023-01-23T08:48:26.195Z"
   },
   {
    "duration": 67,
    "start_time": "2023-01-23T08:48:28.460Z"
   },
   {
    "duration": 32,
    "start_time": "2023-01-23T08:48:32.915Z"
   },
   {
    "duration": 4897,
    "start_time": "2023-01-23T09:07:21.606Z"
   },
   {
    "duration": 9499,
    "start_time": "2023-01-23T09:07:41.350Z"
   }
  ],
  "kernelspec": {
   "display_name": "Python 3 (ipykernel)",
   "language": "python",
   "name": "python3"
  },
  "language_info": {
   "codemirror_mode": {
    "name": "ipython",
    "version": 3
   },
   "file_extension": ".py",
   "mimetype": "text/x-python",
   "name": "python",
   "nbconvert_exporter": "python",
   "pygments_lexer": "ipython3",
   "version": "3.9.7"
  },
  "toc": {
   "base_numbering": 1,
   "nav_menu": {},
   "number_sections": true,
   "sideBar": true,
   "skip_h1_title": false,
   "title_cell": "Table of Contents",
   "title_sidebar": "Contents",
   "toc_cell": false,
   "toc_position": {
    "height": "689.766px",
    "left": "45px",
    "top": "145.965px",
    "width": "400.762px"
   },
   "toc_section_display": true,
   "toc_window_display": true
  }
 },
 "nbformat": 4,
 "nbformat_minor": 5
}
