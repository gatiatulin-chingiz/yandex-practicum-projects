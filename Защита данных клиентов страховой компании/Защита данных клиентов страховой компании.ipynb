{
 "cells": [
  {
   "cell_type": "markdown",
   "metadata": {
    "toc": true
   },
   "source": [
    "<h1>Содержание<span class=\"tocSkip\"></span></h1>\n",
    "<div class=\"toc\"><ul class=\"toc-item\"><li><span><a href=\"#Загрузка-данных\" data-toc-modified-id=\"Загрузка-данных-1\"><span class=\"toc-item-num\">1&nbsp;&nbsp;</span>Загрузка данных</a></span><ul class=\"toc-item\"><li><span><a href=\"#Вывод\" data-toc-modified-id=\"Вывод-1.1\"><span class=\"toc-item-num\">1.1&nbsp;&nbsp;</span>Вывод</a></span></li></ul></li><li><span><a href=\"#Умножение-матриц\" data-toc-modified-id=\"Умножение-матриц-2\"><span class=\"toc-item-num\">2&nbsp;&nbsp;</span>Умножение матриц</a></span><ul class=\"toc-item\"><li><span><a href=\"#Вывод\" data-toc-modified-id=\"Вывод-2.1\"><span class=\"toc-item-num\">2.1&nbsp;&nbsp;</span>Вывод</a></span></li></ul></li><li><span><a href=\"#Алгоритм-преобразования\" data-toc-modified-id=\"Алгоритм-преобразования-3\"><span class=\"toc-item-num\">3&nbsp;&nbsp;</span>Алгоритм преобразования</a></span></li><li><span><a href=\"#Проверка-модели\" data-toc-modified-id=\"Проверка-модели-4\"><span class=\"toc-item-num\">4&nbsp;&nbsp;</span>Проверка модели</a></span><ul class=\"toc-item\"><li><span><a href=\"#На-незащифрованных-данных\" data-toc-modified-id=\"На-незащифрованных-данных-4.1\"><span class=\"toc-item-num\">4.1&nbsp;&nbsp;</span>На незащифрованных данных</a></span></li><li><span><a href=\"#На-зашифрованных-данных\" data-toc-modified-id=\"На-зашифрованных-данных-4.2\"><span class=\"toc-item-num\">4.2&nbsp;&nbsp;</span>На зашифрованных данных</a></span></li><li><span><a href=\"#Вывод\" data-toc-modified-id=\"Вывод-4.3\"><span class=\"toc-item-num\">4.3&nbsp;&nbsp;</span>Вывод</a></span></li></ul></li><li><span><a href=\"#Общий-вывод\" data-toc-modified-id=\"Общий-вывод-5\"><span class=\"toc-item-num\">5&nbsp;&nbsp;</span>Общий вывод</a></span></li></ul></div>"
   ]
  },
  {
   "cell_type": "markdown",
   "metadata": {},
   "source": [
    "# Защита данных клиентов страховой компании"
   ]
  },
  {
   "cell_type": "markdown",
   "metadata": {},
   "source": [
    "В данном проекте мы защитим данные клиентов страховой компании «Хоть потоп», разработав такой метод преобразования данных, чтобы по ним было сложно восстановить персональную информацию.\n",
    "\n",
    "При преобразовании данных качество моделей машинного обучения не должно будет ухудшиться."
   ]
  },
  {
   "cell_type": "markdown",
   "metadata": {},
   "source": [
    "## Загрузка данных"
   ]
  },
  {
   "cell_type": "code",
   "execution_count": 1,
   "metadata": {
    "ExecuteTime": {
     "end_time": "2023-02-11T12:16:10.710863Z",
     "start_time": "2023-02-11T12:16:08.903896Z"
    }
   },
   "outputs": [],
   "source": [
    "# Импорт необходимых библиотек\n",
    "import numpy as np\n",
    "import pandas as pd\n",
    "import seaborn as sns\n",
    "import matplotlib.pyplot as plt\n",
    "from sklearn.metrics import r2_score\n",
    "from sklearn.linear_model import LinearRegression\n",
    "from sklearn.preprocessing import StandardScaler\n",
    "from sklearn.model_selection import train_test_split"
   ]
  },
  {
   "cell_type": "code",
   "execution_count": 2,
   "metadata": {
    "ExecuteTime": {
     "end_time": "2023-02-11T12:16:10.742012Z",
     "start_time": "2023-02-11T12:16:10.714081Z"
    }
   },
   "outputs": [],
   "source": [
    "try:\n",
    "    df = pd.read_csv('D:\\\\Users\\\\BlackEdition\\\\Desktop\\Data Science\\\\'\n",
    "                     'Обучение в Яндекс\\\\11. Линейная алгебра\\insurance.csv')\n",
    "except:\n",
    "    df = pd.read_csv('/datasets/insurance.csv')"
   ]
  },
  {
   "cell_type": "code",
   "execution_count": 3,
   "metadata": {
    "ExecuteTime": {
     "end_time": "2023-02-11T12:16:10.774044Z",
     "start_time": "2023-02-11T12:16:10.747002Z"
    }
   },
   "outputs": [
    {
     "name": "stdout",
     "output_type": "stream",
     "text": [
      "<class 'pandas.core.frame.DataFrame'>\n",
      "RangeIndex: 5000 entries, 0 to 4999\n",
      "Data columns (total 5 columns):\n",
      " #   Column             Non-Null Count  Dtype  \n",
      "---  ------             --------------  -----  \n",
      " 0   Пол                5000 non-null   int64  \n",
      " 1   Возраст            5000 non-null   float64\n",
      " 2   Зарплата           5000 non-null   float64\n",
      " 3   Члены семьи        5000 non-null   int64  \n",
      " 4   Страховые выплаты  5000 non-null   int64  \n",
      "dtypes: float64(2), int64(3)\n",
      "memory usage: 195.4 KB\n"
     ]
    }
   ],
   "source": [
    "df.info()"
   ]
  },
  {
   "cell_type": "code",
   "execution_count": 4,
   "metadata": {
    "ExecuteTime": {
     "end_time": "2023-02-11T12:16:10.804878Z",
     "start_time": "2023-02-11T12:16:10.776923Z"
    }
   },
   "outputs": [
    {
     "data": {
      "text/html": [
       "<div>\n",
       "<style scoped>\n",
       "    .dataframe tbody tr th:only-of-type {\n",
       "        vertical-align: middle;\n",
       "    }\n",
       "\n",
       "    .dataframe tbody tr th {\n",
       "        vertical-align: top;\n",
       "    }\n",
       "\n",
       "    .dataframe thead th {\n",
       "        text-align: right;\n",
       "    }\n",
       "</style>\n",
       "<table border=\"1\" class=\"dataframe\">\n",
       "  <thead>\n",
       "    <tr style=\"text-align: right;\">\n",
       "      <th></th>\n",
       "      <th>Пол</th>\n",
       "      <th>Возраст</th>\n",
       "      <th>Зарплата</th>\n",
       "      <th>Члены семьи</th>\n",
       "      <th>Страховые выплаты</th>\n",
       "    </tr>\n",
       "  </thead>\n",
       "  <tbody>\n",
       "    <tr>\n",
       "      <th>0</th>\n",
       "      <td>1</td>\n",
       "      <td>41.0</td>\n",
       "      <td>49600.0</td>\n",
       "      <td>1</td>\n",
       "      <td>0</td>\n",
       "    </tr>\n",
       "    <tr>\n",
       "      <th>1</th>\n",
       "      <td>0</td>\n",
       "      <td>46.0</td>\n",
       "      <td>38000.0</td>\n",
       "      <td>1</td>\n",
       "      <td>1</td>\n",
       "    </tr>\n",
       "    <tr>\n",
       "      <th>2</th>\n",
       "      <td>0</td>\n",
       "      <td>29.0</td>\n",
       "      <td>21000.0</td>\n",
       "      <td>0</td>\n",
       "      <td>0</td>\n",
       "    </tr>\n",
       "    <tr>\n",
       "      <th>3</th>\n",
       "      <td>0</td>\n",
       "      <td>21.0</td>\n",
       "      <td>41700.0</td>\n",
       "      <td>2</td>\n",
       "      <td>0</td>\n",
       "    </tr>\n",
       "    <tr>\n",
       "      <th>4</th>\n",
       "      <td>1</td>\n",
       "      <td>28.0</td>\n",
       "      <td>26100.0</td>\n",
       "      <td>0</td>\n",
       "      <td>0</td>\n",
       "    </tr>\n",
       "  </tbody>\n",
       "</table>\n",
       "</div>"
      ],
      "text/plain": [
       "   Пол  Возраст  Зарплата  Члены семьи  Страховые выплаты\n",
       "0    1     41.0   49600.0            1                  0\n",
       "1    0     46.0   38000.0            1                  1\n",
       "2    0     29.0   21000.0            0                  0\n",
       "3    0     21.0   41700.0            2                  0\n",
       "4    1     28.0   26100.0            0                  0"
      ]
     },
     "execution_count": 4,
     "metadata": {},
     "output_type": "execute_result"
    }
   ],
   "source": [
    "df.head()"
   ]
  },
  {
   "cell_type": "markdown",
   "metadata": {},
   "source": [
    "### Вывод"
   ]
  },
  {
   "cell_type": "markdown",
   "metadata": {},
   "source": [
    "Данные загружены. В данных описаны персональные данные клиентов, их:\n",
    "   * пол;\n",
    "   * возраст;\n",
    "   * уровень заработной платы;\n",
    "   * количество членов семьи;\n",
    "   * количество выплаченных страховых взносов."
   ]
  },
  {
   "cell_type": "code",
   "execution_count": 5,
   "metadata": {
    "ExecuteTime": {
     "end_time": "2023-02-11T12:16:11.200125Z",
     "start_time": "2023-02-11T12:16:10.806841Z"
    }
   },
   "outputs": [
    {
     "data": {
      "image/png": "[encoded data removed]",
      "text/plain": [
       "<Figure size 432x288 with 2 Axes>"
      ]
     },
     "metadata": {
      "needs_background": "light"
     },
     "output_type": "display_data"
    }
   ],
   "source": [
    "# Построение тепловой карты корреляции\n",
    "df_plot = sns.heatmap(df.corr(), cmap=\"YlGnBu\", annot=True)\n",
    "plt.show()"
   ]
  },
  {
   "cell_type": "markdown",
   "metadata": {},
   "source": [
    "## Умножение матриц"
   ]
  },
  {
   "cell_type": "markdown",
   "metadata": {},
   "source": [
    "Обозначения:\n",
    "\n",
    "- $X$ — матрица признаков (нулевой столбец состоит из единиц)\n",
    "\n",
    "- $y$ — вектор целевого признака\n",
    "\n",
    "- $P$ — матрица, на которую умножаются признаки\n",
    "\n",
    "- $w$ — вектор весов линейной регрессии (нулевой элемент равен сдвигу)"
   ]
  },
  {
   "cell_type": "markdown",
   "metadata": {},
   "source": [
    "Предсказания:\n",
    "\n",
    "$$\n",
    "a = Xw\n",
    "$$\n",
    "\n",
    "Задача обучения:\n",
    "\n",
    "$$\n",
    "w = \\arg\\min_w MSE(Xw, y)\n",
    "$$\n",
    "\n",
    "Формула обучения:\n",
    "\n",
    "$$\n",
    "w = (X^T X)^{-1} X^T y\n",
    "$$\n",
    "\n",
    "Предположение:\n",
    "предположим, что при умножении признаков на обратимую матрицу качество предсказаний линейной регрессии не изменится. Попробуем это доказать.\n",
    "\n",
    "Условия:\n",
    "$$\n",
    "a = Xw\n",
    "$$\n",
    "$$\n",
    "a_1 = Zw_1\n",
    "$$\n",
    "$$\n",
    "w = (X^T X)^{-1} X^T y\n",
    "$$\n",
    "$$\n",
    "w_1 = (Z^T Z)^{-1} Z^T y\n",
    "$$\n",
    "$$\n",
    "Z = XP\n",
    "$$\n",
    "Даказательство:\n",
    "$$\n",
    "т.к. a_1 = Zw_1, w_1 = (Z^T Z)^{-1} Z^T y ⇒ a_1 = Z(Z^T Z)^{-1} Z^T y\n",
    "$$\n",
    "$$\n",
    "т.к. Z = XP ⇒ a_1 = XP((XP)^T (XP))^{-1} (XP)^T y\n",
    "$$\n",
    "$$\n",
    "т.к. (AB)^{-1} = B^{-1} A^{-1} ⇒ a_1 = XP(XP)^{-1} ((XP)^T)^{-1} (XP)^T y ⇒ XPP^{-1} X^{-1} ((XP)^T)^{-1} (XP)^T y\n",
    "$$\n",
    "$$\n",
    "т.к. AA^{-1} = E ⇒ XEX^{-1} ((XP)^T)^{-1} (XP)^T y\n",
    "$$\n",
    "$$\n",
    "т.к. (AB)^T = A^T B^T ⇒ XEX^{-1} (P^T X^T)^{-1} P^T X^T y ⇒ XX^{-1} (X)^{-1} (P^T)^{-1} P^T X^T y\n",
    "$$\n",
    "$$\n",
    "т.к. (P^T)^{-1}P^T = E ⇒ XX^{-1} (X^T)^{-1} EX^T y ⇒ X(X^T X)^{-1} X^T y\n",
    "$$\n",
    "$$\n",
    "X(X^T X)^{-1} X^T y = X_w = a ⇒ a = a_1 ⇒ Xw = Zw_1\n",
    "$$"
   ]
  },
  {
   "cell_type": "markdown",
   "metadata": {},
   "source": [
    "### Вывод"
   ]
  },
  {
   "cell_type": "markdown",
   "metadata": {},
   "source": [
    "Из доказательства следует, что при умножении признаков на обратимую матрицу качество линейной регрессии не пострадает."
   ]
  },
  {
   "cell_type": "markdown",
   "metadata": {},
   "source": [
    "Даказательство:\n",
    "$$\n",
    "т.к. a_1 = Zw_1, w_1 = (Z^T Z)^{-1} Z^T y ⇒ a_1 = Z(Z^T Z)^{-1} Z^T y\n",
    "$$\n",
    "$$\n",
    "т.к. Z = XP ⇒ a_1 = XP(P(X^T X)P)^{-1} (XP)^T y ⇒\n",
    "$$\n",
    "$$\n",
    "XPP^{-1} (X^T X)^{-1} (P^T)^{-1} (XP)^T y ⇒\n",
    "$$\n",
    "$$\n",
    "XE(X^TX)^{-1} (P^T)^{-1} (XP)^T y ⇒\n",
    "$$\n",
    "$$\n",
    "X(X^T X)^{-1} (P^T)^{-1} P^T X^T y ⇒\n",
    "$$\n",
    "$$\n",
    "X(X^T X)^{-1} EX^T y ⇒\n",
    "$$\n",
    "$$\n",
    "X(X^T X)^{-1} X^T y = X_w = a ⇒ a = a_1 ⇒ Xw = Zw_1\n",
    "$$"
   ]
  },
  {
   "cell_type": "markdown",
   "metadata": {},
   "source": [
    "## Алгоритм преобразования"
   ]
  },
  {
   "cell_type": "markdown",
   "metadata": {},
   "source": [
    "**Алгоритм**\n",
    "\n",
    "Применим следующий алгоритм для шифрования данных клиентов компании:\n",
    " - создидим рандомную матрицу А;\n",
    " - определим детерминант матрицы А для определения ее обратимости;\n",
    " - вычислим обратную матрицу к матрице А (обратимый ключ);\n",
    " - умножим клиентские данные на обратимую матрицу А для шифрования данных клиентов."
   ]
  },
  {
   "cell_type": "markdown",
   "metadata": {},
   "source": [
    "## Проверка модели"
   ]
  },
  {
   "cell_type": "markdown",
   "metadata": {},
   "source": [
    "### На незащифрованных данных"
   ]
  },
  {
   "cell_type": "code",
   "execution_count": 6,
   "metadata": {
    "ExecuteTime": {
     "end_time": "2023-02-11T12:16:11.216084Z",
     "start_time": "2023-02-11T12:16:11.203118Z"
    }
   },
   "outputs": [],
   "source": [
    "# Разбивка данных на обучающие и ключевые признаки\n",
    "features = df.drop('Страховые выплаты', axis=1)\n",
    "target = df['Страховые выплаты']"
   ]
  },
  {
   "cell_type": "code",
   "execution_count": 7,
   "metadata": {
    "ExecuteTime": {
     "end_time": "2023-02-11T12:16:11.232039Z",
     "start_time": "2023-02-11T12:16:11.219077Z"
    }
   },
   "outputs": [],
   "source": [
    "# Разбивка данных на train и valid\n",
    "(features_train, features_valid,\n",
    " target_train, target_valid) = train_test_split(features,\n",
    "                                                target,\n",
    "                                                test_size=.25,\n",
    "                                                random_state=12345)"
   ]
  },
  {
   "cell_type": "code",
   "execution_count": 8,
   "metadata": {
    "ExecuteTime": {
     "end_time": "2023-02-11T12:16:11.263999Z",
     "start_time": "2023-02-11T12:16:11.237029Z"
    }
   },
   "outputs": [],
   "source": [
    "# Масштабирование данных для регрессии\n",
    "scaler = StandardScaler()\n",
    "scaler.fit(features_train)\n",
    "features_train = scaler.transform(features_train)\n",
    "features_valid = scaler.transform(features_valid)"
   ]
  },
  {
   "cell_type": "code",
   "execution_count": 9,
   "metadata": {
    "ExecuteTime": {
     "end_time": "2023-02-11T12:16:11.311826Z",
     "start_time": "2023-02-11T12:16:11.266948Z"
    }
   },
   "outputs": [
    {
     "data": {
      "text/plain": [
       "0.4352275712702667"
      ]
     },
     "metadata": {},
     "output_type": "display_data"
    }
   ],
   "source": [
    "# Обучение модели Линейной Регрессии\n",
    "model = LinearRegression()\n",
    "model.fit(features_train, target_train)\n",
    "predictions_valid = model.predict(features_valid)\n",
    "score = r2_score(target_valid, predictions_valid)\n",
    "display(score)"
   ]
  },
  {
   "cell_type": "markdown",
   "metadata": {},
   "source": [
    "Коэффициент детерминации модели на незашифрованных данных составил 44%"
   ]
  },
  {
   "cell_type": "markdown",
   "metadata": {},
   "source": [
    "### На зашифрованных данных"
   ]
  },
  {
   "cell_type": "markdown",
   "metadata": {},
   "source": [
    "Напишем функцию, которая будет создавать рандомную невырожденную матрицу (шифрующую матрицу) и обратную к ней (матрицу-дешифровщик)."
   ]
  },
  {
   "cell_type": "code",
   "execution_count": 10,
   "metadata": {
    "ExecuteTime": {
     "end_time": "2023-02-11T12:16:11.327148Z",
     "start_time": "2023-02-11T12:16:11.315180Z"
    }
   },
   "outputs": [],
   "source": [
    "# Функция для создания шифрующей и дешифрующей матрицы\n",
    "def e_d_matrix(features):\n",
    "    # Определение количества столбцов матрицы признаков\n",
    "    n = features.shape[1]\n",
    "    # Создание рандомной шифрующей матрицы\n",
    "    encryption_matrix = np.random.rand(n, n)\n",
    "    # Определение детерминанта\n",
    "    det = np.linalg.det(encryption_matrix)\n",
    "    # Создание матрицы, пока детерминант не станет отличным от 0\n",
    "    while det == 0:\n",
    "        encryption_matrix = np.random.rand(n, n)\n",
    "        det = np.linalg.det(encryption_matrix)\n",
    "    # Создание дешифрующей матрицы\n",
    "    decryption_matrix = np.linalg.inv(encryption_matrix)\n",
    "    return encryption_matrix, decryption_matrix"
   ]
  },
  {
   "cell_type": "markdown",
   "metadata": {},
   "source": [
    "Закодируем признаки путем их умножения на шифрующую матрицу."
   ]
  },
  {
   "cell_type": "code",
   "execution_count": 11,
   "metadata": {
    "ExecuteTime": {
     "end_time": "2023-02-11T12:16:11.343113Z",
     "start_time": "2023-02-11T12:16:11.332134Z"
    }
   },
   "outputs": [],
   "source": [
    "encryption_matrix, decryption_matrix = e_d_matrix(features)  # Вызов фунции создания матриц\n",
    "encryption_features = features @ encryption_matrix  # Шифровка признаков"
   ]
  },
  {
   "cell_type": "code",
   "execution_count": 12,
   "metadata": {
    "ExecuteTime": {
     "end_time": "2023-02-11T12:16:11.407011Z",
     "start_time": "2023-02-11T12:16:11.351084Z"
    }
   },
   "outputs": [
    {
     "data": {
      "text/html": [
       "<div>\n",
       "<style scoped>\n",
       "    .dataframe tbody tr th:only-of-type {\n",
       "        vertical-align: middle;\n",
       "    }\n",
       "\n",
       "    .dataframe tbody tr th {\n",
       "        vertical-align: top;\n",
       "    }\n",
       "\n",
       "    .dataframe thead th {\n",
       "        text-align: right;\n",
       "    }\n",
       "</style>\n",
       "<table border=\"1\" class=\"dataframe\">\n",
       "  <thead>\n",
       "    <tr style=\"text-align: right;\">\n",
       "      <th></th>\n",
       "      <th>0</th>\n",
       "      <th>1</th>\n",
       "      <th>2</th>\n",
       "      <th>3</th>\n",
       "    </tr>\n",
       "  </thead>\n",
       "  <tbody>\n",
       "    <tr>\n",
       "      <th>3369</th>\n",
       "      <td>28151.841029</td>\n",
       "      <td>30723.965973</td>\n",
       "      <td>14098.170170</td>\n",
       "      <td>4077.557800</td>\n",
       "    </tr>\n",
       "    <tr>\n",
       "      <th>1441</th>\n",
       "      <td>44767.031213</td>\n",
       "      <td>48860.043776</td>\n",
       "      <td>22426.320773</td>\n",
       "      <td>6453.132221</td>\n",
       "    </tr>\n",
       "    <tr>\n",
       "      <th>571</th>\n",
       "      <td>31949.569397</td>\n",
       "      <td>34869.306127</td>\n",
       "      <td>16003.320322</td>\n",
       "      <td>4612.312521</td>\n",
       "    </tr>\n",
       "    <tr>\n",
       "      <th>225</th>\n",
       "      <td>35059.636527</td>\n",
       "      <td>38263.512874</td>\n",
       "      <td>17560.932096</td>\n",
       "      <td>5062.049938</td>\n",
       "    </tr>\n",
       "    <tr>\n",
       "      <th>2558</th>\n",
       "      <td>39330.064760</td>\n",
       "      <td>42924.820920</td>\n",
       "      <td>19701.602001</td>\n",
       "      <td>5672.295806</td>\n",
       "    </tr>\n",
       "  </tbody>\n",
       "</table>\n",
       "</div>"
      ],
      "text/plain": [
       "                 0             1             2            3\n",
       "3369  28151.841029  30723.965973  14098.170170  4077.557800\n",
       "1441  44767.031213  48860.043776  22426.320773  6453.132221\n",
       "571   31949.569397  34869.306127  16003.320322  4612.312521\n",
       "225   35059.636527  38263.512874  17560.932096  5062.049938\n",
       "2558  39330.064760  42924.820920  19701.602001  5672.295806"
      ]
     },
     "metadata": {},
     "output_type": "display_data"
    },
    {
     "data": {
      "text/html": [
       "<div>\n",
       "<style scoped>\n",
       "    .dataframe tbody tr th:only-of-type {\n",
       "        vertical-align: middle;\n",
       "    }\n",
       "\n",
       "    .dataframe tbody tr th {\n",
       "        vertical-align: top;\n",
       "    }\n",
       "\n",
       "    .dataframe thead th {\n",
       "        text-align: right;\n",
       "    }\n",
       "</style>\n",
       "<table border=\"1\" class=\"dataframe\">\n",
       "  <thead>\n",
       "    <tr style=\"text-align: right;\">\n",
       "      <th></th>\n",
       "      <th>0</th>\n",
       "      <th>1</th>\n",
       "      <th>2</th>\n",
       "      <th>3</th>\n",
       "    </tr>\n",
       "  </thead>\n",
       "  <tbody>\n",
       "    <tr>\n",
       "      <th>3183</th>\n",
       "      <td>30320.791935</td>\n",
       "      <td>33091.236227</td>\n",
       "      <td>15186.933849</td>\n",
       "      <td>4380.197507</td>\n",
       "    </tr>\n",
       "    <tr>\n",
       "      <th>1071</th>\n",
       "      <td>33517.320878</td>\n",
       "      <td>36578.730465</td>\n",
       "      <td>16784.933588</td>\n",
       "      <td>4853.389410</td>\n",
       "    </tr>\n",
       "    <tr>\n",
       "      <th>2640</th>\n",
       "      <td>32731.111114</td>\n",
       "      <td>35722.593345</td>\n",
       "      <td>16393.799642</td>\n",
       "      <td>4730.775276</td>\n",
       "    </tr>\n",
       "    <tr>\n",
       "      <th>2282</th>\n",
       "      <td>27046.328790</td>\n",
       "      <td>29518.696724</td>\n",
       "      <td>13548.894510</td>\n",
       "      <td>3898.005377</td>\n",
       "    </tr>\n",
       "    <tr>\n",
       "      <th>1595</th>\n",
       "      <td>31103.632143</td>\n",
       "      <td>33944.944256</td>\n",
       "      <td>15577.437839</td>\n",
       "      <td>4499.589364</td>\n",
       "    </tr>\n",
       "  </tbody>\n",
       "</table>\n",
       "</div>"
      ],
      "text/plain": [
       "                 0             1             2            3\n",
       "3183  30320.791935  33091.236227  15186.933849  4380.197507\n",
       "1071  33517.320878  36578.730465  16784.933588  4853.389410\n",
       "2640  32731.111114  35722.593345  16393.799642  4730.775276\n",
       "2282  27046.328790  29518.696724  13548.894510  3898.005377\n",
       "1595  31103.632143  33944.944256  15577.437839  4499.589364"
      ]
     },
     "metadata": {},
     "output_type": "display_data"
    }
   ],
   "source": [
    "# Разбивка зашифрованных признаков на train и valid выборки\n",
    "(features_train, features_valid,\n",
    " target_train, target_valid) = train_test_split(encryption_features,\n",
    "                                                target,\n",
    "                                                test_size=.25,\n",
    "                                                random_state=12345)\n",
    "\n",
    "display(features_train.head())\n",
    "display(features_valid.head())"
   ]
  },
  {
   "cell_type": "code",
   "execution_count": 13,
   "metadata": {
    "ExecuteTime": {
     "end_time": "2023-02-11T12:16:11.438942Z",
     "start_time": "2023-02-11T12:16:11.411921Z"
    }
   },
   "outputs": [],
   "source": [
    "# Масштабирование данных\n",
    "scaler = StandardScaler()\n",
    "scaler.fit(encryption_features)\n",
    "features_train = scaler.transform(features_train)\n",
    "features_valid = scaler.transform(features_valid)"
   ]
  },
  {
   "cell_type": "markdown",
   "metadata": {},
   "source": [
    "Обучим модель на зашифрованных данных."
   ]
  },
  {
   "cell_type": "code",
   "execution_count": 14,
   "metadata": {
    "ExecuteTime": {
     "end_time": "2023-02-11T12:16:11.454809Z",
     "start_time": "2023-02-11T12:16:11.441840Z"
    }
   },
   "outputs": [
    {
     "data": {
      "text/plain": [
       "0.43522757127037504"
      ]
     },
     "metadata": {},
     "output_type": "display_data"
    }
   ],
   "source": [
    "# Обучение модели Линейной Регрессии\n",
    "model = LinearRegression()\n",
    "model.fit(features_train, target_train)\n",
    "predictions_valid = model.predict(features_valid)\n",
    "score = r2_score(target_valid, predictions_valid)\n",
    "display(score)"
   ]
  },
  {
   "cell_type": "markdown",
   "metadata": {},
   "source": [
    "Коэффициент детерминации модели на зашифрованных данных составил 44%"
   ]
  },
  {
   "cell_type": "markdown",
   "metadata": {},
   "source": [
    "### Вывод"
   ]
  },
  {
   "cell_type": "markdown",
   "metadata": {},
   "source": [
    "Из полученных опытных путем данных видно, что шифрование признаков путем их умножения на обратимую матрицу не влияет на качество предсказания модели."
   ]
  },
  {
   "cell_type": "markdown",
   "metadata": {},
   "source": [
    "## Общий вывод"
   ]
  },
  {
   "cell_type": "markdown",
   "metadata": {},
   "source": [
    "В данной работе мы составили алгоритм преобразования (шифрования) клиентских данных страховой компании \"Хоть потоп\". С целью шифрования нами была проверена теория о том, что при умножении матрицы клиентских данных на обратимую матрицу, мы сможем получить зашифрованные данные, которые можно дешифровать путем их обратного умножения на обратную матрицу.\n",
    "\n",
    "Также нами был исследован факт того, что зашифрованные данные не влияют на предсказательные метрики моделей машинного обучения. Так, коэффициент детерминации модели линейной регрессии, обученной на незашифрованных данных равен 44%, что аналогично результату работы аналогичной модели, обученной на зашифрованных данных.\n",
    "\n",
    "В связи с изложеннным мы можем зашифровывать клиентские данные в целях из защиты без боязни в потере качества метрик и предсказательной силы существующих или будущих моделей."
   ]
  }
 ],
 "metadata": {
  "ExecuteTimeLog": [
   {
    "duration": 1607,
    "start_time": "2022-09-19T11:17:47.440Z"
   },
   {
    "duration": 167,
    "start_time": "2022-09-19T11:17:49.049Z"
   },
   {
    "duration": 12,
    "start_time": "2022-09-19T11:17:49.218Z"
   },
   {
    "duration": 23,
    "start_time": "2022-09-19T11:17:49.233Z"
   },
   {
    "duration": 4,
    "start_time": "2022-09-19T11:17:49.257Z"
   },
   {
    "duration": 16,
    "start_time": "2022-09-19T11:17:49.262Z"
   },
   {
    "duration": 17,
    "start_time": "2022-09-19T11:17:49.279Z"
   },
   {
    "duration": 6,
    "start_time": "2022-09-19T11:17:49.297Z"
   },
   {
    "duration": 7,
    "start_time": "2022-09-19T11:17:49.305Z"
   },
   {
    "duration": 13,
    "start_time": "2022-09-19T11:17:49.314Z"
   },
   {
    "duration": 19,
    "start_time": "2022-09-19T11:17:49.331Z"
   },
   {
    "duration": 81,
    "start_time": "2022-09-19T11:17:49.352Z"
   },
   {
    "duration": 7,
    "start_time": "2022-09-19T11:17:49.443Z"
   },
   {
    "duration": 4,
    "start_time": "2022-09-19T11:20:44.268Z"
   },
   {
    "duration": 1365,
    "start_time": "2022-09-19T11:20:58.439Z"
   },
   {
    "duration": 58,
    "start_time": "2022-09-19T11:20:59.806Z"
   },
   {
    "duration": 11,
    "start_time": "2022-09-19T11:20:59.865Z"
   },
   {
    "duration": 17,
    "start_time": "2022-09-19T11:20:59.878Z"
   },
   {
    "duration": 5,
    "start_time": "2022-09-19T11:20:59.897Z"
   },
   {
    "duration": 34,
    "start_time": "2022-09-19T11:20:59.903Z"
   },
   {
    "duration": 12,
    "start_time": "2022-09-19T11:20:59.939Z"
   },
   {
    "duration": 19,
    "start_time": "2022-09-19T11:20:59.953Z"
   },
   {
    "duration": 21,
    "start_time": "2022-09-19T11:20:59.974Z"
   },
   {
    "duration": 26,
    "start_time": "2022-09-19T11:20:59.996Z"
   },
   {
    "duration": 36,
    "start_time": "2022-09-19T11:21:00.026Z"
   },
   {
    "duration": 14,
    "start_time": "2022-09-19T11:21:00.064Z"
   },
   {
    "duration": 51,
    "start_time": "2022-09-19T11:21:00.080Z"
   },
   {
    "duration": 103,
    "start_time": "2022-09-19T11:21:00.134Z"
   },
   {
    "duration": 7,
    "start_time": "2022-09-19T11:21:00.239Z"
   },
   {
    "duration": 88,
    "start_time": "2022-09-19T19:06:48.590Z"
   },
   {
    "duration": 3,
    "start_time": "2022-09-19T19:07:21.742Z"
   },
   {
    "duration": 3,
    "start_time": "2022-09-19T19:07:28.409Z"
   },
   {
    "duration": 3,
    "start_time": "2022-09-19T19:07:32.592Z"
   },
   {
    "duration": 4,
    "start_time": "2022-09-19T19:07:49.347Z"
   },
   {
    "duration": 3,
    "start_time": "2022-09-19T19:08:00.275Z"
   },
   {
    "duration": 1361,
    "start_time": "2022-09-19T19:10:13.192Z"
   },
   {
    "duration": 67,
    "start_time": "2022-09-19T19:10:14.555Z"
   },
   {
    "duration": 10,
    "start_time": "2022-09-19T19:10:14.624Z"
   },
   {
    "duration": 17,
    "start_time": "2022-09-19T19:10:14.636Z"
   },
   {
    "duration": 321,
    "start_time": "2022-09-19T19:10:14.654Z"
   },
   {
    "duration": 3,
    "start_time": "2022-09-19T19:10:14.977Z"
   },
   {
    "duration": 9,
    "start_time": "2022-09-19T19:10:14.982Z"
   },
   {
    "duration": 10,
    "start_time": "2022-09-19T19:10:14.993Z"
   },
   {
    "duration": 24,
    "start_time": "2022-09-19T19:10:15.005Z"
   },
   {
    "duration": 4,
    "start_time": "2022-09-19T19:10:15.032Z"
   },
   {
    "duration": 8,
    "start_time": "2022-09-19T19:10:15.038Z"
   },
   {
    "duration": 85,
    "start_time": "2022-09-19T19:10:15.048Z"
   },
   {
    "duration": 88,
    "start_time": "2022-09-19T19:10:15.136Z"
   },
   {
    "duration": 6,
    "start_time": "2022-09-19T19:10:15.226Z"
   }
  ],
  "kernelspec": {
   "display_name": "Python 3 (ipykernel)",
   "language": "python",
   "name": "python3"
  },
  "language_info": {
   "codemirror_mode": {
    "name": "ipython",
    "version": 3
   },
   "file_extension": ".py",
   "mimetype": "text/x-python",
   "name": "python",
   "nbconvert_exporter": "python",
   "pygments_lexer": "ipython3",
   "version": "3.9.7"
  },
  "toc": {
   "base_numbering": 1,
   "nav_menu": {},
   "number_sections": true,
   "sideBar": true,
   "skip_h1_title": true,
   "title_cell": "Содержание",
   "title_sidebar": "Contents",
   "toc_cell": true,
   "toc_position": {},
   "toc_section_display": true,
   "toc_window_display": true
  },
  "varInspector": {
   "cols": {
    "lenName": 16,
    "lenType": 16,
    "lenVar": 40
   },
   "kernels_config": {
    "python": {
     "delete_cmd_postfix": "",
     "delete_cmd_prefix": "del ",
     "library": "var_list.py",
     "varRefreshCmd": "print(var_dic_list())"
    },
    "r": {
     "delete_cmd_postfix": ") ",
     "delete_cmd_prefix": "rm(",
     "library": "var_list.r",
     "varRefreshCmd": "cat(var_dic_list()) "
    }
   },
   "position": {
    "height": "145.521px",
    "left": "1449.33px",
    "right": "20px",
    "top": "120px",
    "width": "350px"
   },
   "types_to_exclude": [
    "module",
    "function",
    "builtin_function_or_method",
    "instance",
    "_Feature"
   ],
   "window_display": true
  }
 },
 "nbformat": 4,
 "nbformat_minor": 2
}
