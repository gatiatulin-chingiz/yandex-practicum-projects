{
 "cells": [
  {
   "cell_type": "markdown",
   "metadata": {
    "toc": true
   },
   "source": [
    "<h1>Содержание<span class=\"tocSkip\"></span></h1>\n",
    "<div class=\"toc\"><ul class=\"toc-item\"><li><span><a href=\"#Подготовка-данных\" data-toc-modified-id=\"Подготовка-данных-1\"><span class=\"toc-item-num\">1&nbsp;&nbsp;</span>Подготовка данных</a></span><ul class=\"toc-item\"><li><span><a href=\"#Обзор-данных\" data-toc-modified-id=\"Обзор-данных-1.1\"><span class=\"toc-item-num\">1.1&nbsp;&nbsp;</span>Обзор данных</a></span></li><li><span><a href=\"#Предобработка-данных\" data-toc-modified-id=\"Предобработка-данных-1.2\"><span class=\"toc-item-num\">1.2&nbsp;&nbsp;</span>Предобработка данных</a></span><ul class=\"toc-item\"><li><span><a href=\"#Удаление-NAN\" data-toc-modified-id=\"Удаление-NAN-1.2.1\"><span class=\"toc-item-num\">1.2.1&nbsp;&nbsp;</span>Удаление NAN</a></span></li><li><span><a href=\"#Удаление-колонок\" data-toc-modified-id=\"Удаление-колонок-1.2.2\"><span class=\"toc-item-num\">1.2.2&nbsp;&nbsp;</span>Удаление колонок</a></span></li><li><span><a href=\"#One-hot-encoding\" data-toc-modified-id=\"One-hot-encoding-1.2.3\"><span class=\"toc-item-num\">1.2.3&nbsp;&nbsp;</span>One hot encoding</a></span></li><li><span><a href=\"#Разделение-выборки\" data-toc-modified-id=\"Разделение-выборки-1.2.4\"><span class=\"toc-item-num\">1.2.4&nbsp;&nbsp;</span>Разделение выборки</a></span></li><li><span><a href=\"#Масштабирование-выборки\" data-toc-modified-id=\"Масштабирование-выборки-1.2.5\"><span class=\"toc-item-num\">1.2.5&nbsp;&nbsp;</span>Масштабирование выборки</a></span></li></ul></li><li><span><a href=\"#Вывод\" data-toc-modified-id=\"Вывод-1.3\"><span class=\"toc-item-num\">1.3&nbsp;&nbsp;</span>Вывод</a></span></li></ul></li><li><span><a href=\"#Исследование-задачи\" data-toc-modified-id=\"Исследование-задачи-2\"><span class=\"toc-item-num\">2&nbsp;&nbsp;</span>Исследование задачи</a></span><ul class=\"toc-item\"><li><span><a href=\"#Определение-баланса-классов\" data-toc-modified-id=\"Определение-баланса-классов-2.1\"><span class=\"toc-item-num\">2.1&nbsp;&nbsp;</span>Определение баланса классов</a></span></li><li><span><a href=\"#Обучение-моделей-на-несбалансированной-выборке\" data-toc-modified-id=\"Обучение-моделей-на-несбалансированной-выборке-2.2\"><span class=\"toc-item-num\">2.2&nbsp;&nbsp;</span>Обучение моделей на несбалансированной выборке</a></span><ul class=\"toc-item\"><li><span><a href=\"#DecisionTreeClassifier\" data-toc-modified-id=\"DecisionTreeClassifier-2.2.1\"><span class=\"toc-item-num\">2.2.1&nbsp;&nbsp;</span>DecisionTreeClassifier</a></span></li><li><span><a href=\"#RandomForestClassifier\" data-toc-modified-id=\"RandomForestClassifier-2.2.2\"><span class=\"toc-item-num\">2.2.2&nbsp;&nbsp;</span>RandomForestClassifier</a></span></li><li><span><a href=\"#LogisticRegression\" data-toc-modified-id=\"LogisticRegression-2.2.3\"><span class=\"toc-item-num\">2.2.3&nbsp;&nbsp;</span>LogisticRegression</a></span></li></ul></li><li><span><a href=\"#Вывод\" data-toc-modified-id=\"Вывод-2.3\"><span class=\"toc-item-num\">2.3&nbsp;&nbsp;</span>Вывод</a></span></li></ul></li><li><span><a href=\"#Борьба-с-дисбалансом\" data-toc-modified-id=\"Борьба-с-дисбалансом-3\"><span class=\"toc-item-num\">3&nbsp;&nbsp;</span>Борьба с дисбалансом</a></span><ul class=\"toc-item\"><li><span><a href=\"#Сlass-weight.-Обучение-моделей-на-сбалансированной-выборке.\" data-toc-modified-id=\"Сlass-weight.-Обучение-моделей-на-сбалансированной-выборке.-3.1\"><span class=\"toc-item-num\">3.1&nbsp;&nbsp;</span>Сlass weight. Обучение моделей на сбалансированной выборке.</a></span><ul class=\"toc-item\"><li><span><a href=\"#DecisionTreeClassifier\" data-toc-modified-id=\"DecisionTreeClassifier-3.1.1\"><span class=\"toc-item-num\">3.1.1&nbsp;&nbsp;</span>DecisionTreeClassifier</a></span></li><li><span><a href=\"#RandomForestClassifier\" data-toc-modified-id=\"RandomForestClassifier-3.1.2\"><span class=\"toc-item-num\">3.1.2&nbsp;&nbsp;</span>RandomForestClassifier</a></span></li><li><span><a href=\"#LogisticRegression\" data-toc-modified-id=\"LogisticRegression-3.1.3\"><span class=\"toc-item-num\">3.1.3&nbsp;&nbsp;</span>LogisticRegression</a></span></li></ul></li><li><span><a href=\"#Upsampling.-Обучение-моделей-на-сбалансированной-выборке.\" data-toc-modified-id=\"Upsampling.-Обучение-моделей-на-сбалансированной-выборке.-3.2\"><span class=\"toc-item-num\">3.2&nbsp;&nbsp;</span>Upsampling. Обучение моделей на сбалансированной выборке.</a></span><ul class=\"toc-item\"><li><span><a href=\"#DecisionTreeClassifier\" data-toc-modified-id=\"DecisionTreeClassifier-3.2.1\"><span class=\"toc-item-num\">3.2.1&nbsp;&nbsp;</span>DecisionTreeClassifier</a></span></li><li><span><a href=\"#RandomForestClassifier\" data-toc-modified-id=\"RandomForestClassifier-3.2.2\"><span class=\"toc-item-num\">3.2.2&nbsp;&nbsp;</span>RandomForestClassifier</a></span></li><li><span><a href=\"#LogisticRegression\" data-toc-modified-id=\"LogisticRegression-3.2.3\"><span class=\"toc-item-num\">3.2.3&nbsp;&nbsp;</span>LogisticRegression</a></span></li></ul></li><li><span><a href=\"#Вывод\" data-toc-modified-id=\"Вывод-3.3\"><span class=\"toc-item-num\">3.3&nbsp;&nbsp;</span>Вывод</a></span></li></ul></li><li><span><a href=\"#Тестирование-лучшей-модели\" data-toc-modified-id=\"Тестирование-лучшей-модели-4\"><span class=\"toc-item-num\">4&nbsp;&nbsp;</span>Тестирование лучшей модели</a></span><ul class=\"toc-item\"><li><span><a href=\"#Вывод\" data-toc-modified-id=\"Вывод-4.1\"><span class=\"toc-item-num\">4.1&nbsp;&nbsp;</span>Вывод</a></span></li></ul></li><li><span><a href=\"#Общий-вывод\" data-toc-modified-id=\"Общий-вывод-5\"><span class=\"toc-item-num\">5&nbsp;&nbsp;</span>Общий вывод</a></span></li></ul></div>"
   ]
  },
  {
   "cell_type": "markdown",
   "metadata": {},
   "source": [
    "# Прогнозирование оттока клиента банка"
   ]
  },
  {
   "cell_type": "markdown",
   "metadata": {},
   "source": [
    "Нам предоставлены исторические данные о поведении клиентов и расторжении договоров с банком «Бета-Банка».\n",
    "\n",
    "**Цель проекта** - спрогнозировать, уйдёт клиент из банка в ближайшее время или нет.\n",
    "\n",
    "\n",
    "**План работы:**\n",
    "1. Подготовка данных.\n",
    "2. Исследование данных.\n",
    "3. Определение дисбаланса данных.\n",
    "4. Обучение моделей без/с учетом дисбаланса.\n",
    "5. Тестирование лучшей модели.\n",
    "6. Определение метрик F1 и AUC-ROC."
   ]
  },
  {
   "cell_type": "markdown",
   "metadata": {},
   "source": [
    "## Подготовка данных"
   ]
  },
  {
   "cell_type": "markdown",
   "metadata": {},
   "source": [
    "### Обзор данных"
   ]
  },
  {
   "cell_type": "markdown",
   "metadata": {},
   "source": [
    "Импортируем необходимые библиотеки и данные."
   ]
  },
  {
   "cell_type": "code",
   "execution_count": 1,
   "metadata": {
    "ExecuteTime": {
     "end_time": "2023-02-11T14:14:56.257084Z",
     "start_time": "2023-02-11T14:14:54.792185Z"
    }
   },
   "outputs": [],
   "source": [
    "# Импорт стандартных библиотек\n",
    "import pandas as pd\n",
    "from sklearn.utils import shuffle\n",
    "from sklearn.tree import DecisionTreeClassifier\n",
    "from sklearn.preprocessing import StandardScaler\n",
    "from sklearn.ensemble import RandomForestClassifier\n",
    "from sklearn.linear_model import LogisticRegression\n",
    "from sklearn.metrics import f1_score, roc_auc_score\n",
    "from sklearn.model_selection import train_test_split"
   ]
  },
  {
   "cell_type": "code",
   "execution_count": 2,
   "metadata": {
    "ExecuteTime": {
     "end_time": "2023-02-11T14:14:56.302958Z",
     "start_time": "2023-02-11T14:14:56.260073Z"
    }
   },
   "outputs": [],
   "source": [
    "try:\n",
    "    data = pd.read_csv('D:\\\\Users\\\\BlackEdition\\\\Desktop\\\\Data Science\\\\'\n",
    "                       'Обучение в Яндекс\\\\8. Обучение с учителем\\\\Проект\\\\Churn.csv')\n",
    "except:\n",
    "    data = pd.read_csv('/datasets/Churn.csv')"
   ]
  },
  {
   "cell_type": "markdown",
   "metadata": {},
   "source": [
    "Проведем их обзор."
   ]
  },
  {
   "cell_type": "code",
   "execution_count": 3,
   "metadata": {
    "ExecuteTime": {
     "end_time": "2023-02-11T14:14:56.348835Z",
     "start_time": "2023-02-11T14:14:56.309941Z"
    }
   },
   "outputs": [
    {
     "name": "stdout",
     "output_type": "stream",
     "text": [
      "<class 'pandas.core.frame.DataFrame'>\n",
      "RangeIndex: 10000 entries, 0 to 9999\n",
      "Data columns (total 14 columns):\n",
      " #   Column           Non-Null Count  Dtype  \n",
      "---  ------           --------------  -----  \n",
      " 0   RowNumber        10000 non-null  int64  \n",
      " 1   CustomerId       10000 non-null  int64  \n",
      " 2   Surname          10000 non-null  object \n",
      " 3   CreditScore      10000 non-null  int64  \n",
      " 4   Geography        10000 non-null  object \n",
      " 5   Gender           10000 non-null  object \n",
      " 6   Age              10000 non-null  int64  \n",
      " 7   Tenure           9091 non-null   float64\n",
      " 8   Balance          10000 non-null  float64\n",
      " 9   NumOfProducts    10000 non-null  int64  \n",
      " 10  HasCrCard        10000 non-null  int64  \n",
      " 11  IsActiveMember   10000 non-null  int64  \n",
      " 12  EstimatedSalary  10000 non-null  float64\n",
      " 13  Exited           10000 non-null  int64  \n",
      "dtypes: float64(3), int64(8), object(3)\n",
      "memory usage: 1.1+ MB\n"
     ]
    }
   ],
   "source": [
    "data.info()"
   ]
  },
  {
   "cell_type": "code",
   "execution_count": 4,
   "metadata": {
    "ExecuteTime": {
     "end_time": "2023-02-11T14:14:56.412666Z",
     "start_time": "2023-02-11T14:14:56.352826Z"
    }
   },
   "outputs": [
    {
     "data": {
      "text/html": [
       "<div>\n",
       "<style scoped>\n",
       "    .dataframe tbody tr th:only-of-type {\n",
       "        vertical-align: middle;\n",
       "    }\n",
       "\n",
       "    .dataframe tbody tr th {\n",
       "        vertical-align: top;\n",
       "    }\n",
       "\n",
       "    .dataframe thead th {\n",
       "        text-align: right;\n",
       "    }\n",
       "</style>\n",
       "<table border=\"1\" class=\"dataframe\">\n",
       "  <thead>\n",
       "    <tr style=\"text-align: right;\">\n",
       "      <th></th>\n",
       "      <th>RowNumber</th>\n",
       "      <th>CustomerId</th>\n",
       "      <th>Surname</th>\n",
       "      <th>CreditScore</th>\n",
       "      <th>Geography</th>\n",
       "      <th>Gender</th>\n",
       "      <th>Age</th>\n",
       "      <th>Tenure</th>\n",
       "      <th>Balance</th>\n",
       "      <th>NumOfProducts</th>\n",
       "      <th>HasCrCard</th>\n",
       "      <th>IsActiveMember</th>\n",
       "      <th>EstimatedSalary</th>\n",
       "      <th>Exited</th>\n",
       "    </tr>\n",
       "  </thead>\n",
       "  <tbody>\n",
       "    <tr>\n",
       "      <th>0</th>\n",
       "      <td>1</td>\n",
       "      <td>15634602</td>\n",
       "      <td>Hargrave</td>\n",
       "      <td>619</td>\n",
       "      <td>France</td>\n",
       "      <td>Female</td>\n",
       "      <td>42</td>\n",
       "      <td>2.0</td>\n",
       "      <td>0.00</td>\n",
       "      <td>1</td>\n",
       "      <td>1</td>\n",
       "      <td>1</td>\n",
       "      <td>101348.88</td>\n",
       "      <td>1</td>\n",
       "    </tr>\n",
       "    <tr>\n",
       "      <th>1</th>\n",
       "      <td>2</td>\n",
       "      <td>15647311</td>\n",
       "      <td>Hill</td>\n",
       "      <td>608</td>\n",
       "      <td>Spain</td>\n",
       "      <td>Female</td>\n",
       "      <td>41</td>\n",
       "      <td>1.0</td>\n",
       "      <td>83807.86</td>\n",
       "      <td>1</td>\n",
       "      <td>0</td>\n",
       "      <td>1</td>\n",
       "      <td>112542.58</td>\n",
       "      <td>0</td>\n",
       "    </tr>\n",
       "    <tr>\n",
       "      <th>2</th>\n",
       "      <td>3</td>\n",
       "      <td>15619304</td>\n",
       "      <td>Onio</td>\n",
       "      <td>502</td>\n",
       "      <td>France</td>\n",
       "      <td>Female</td>\n",
       "      <td>42</td>\n",
       "      <td>8.0</td>\n",
       "      <td>159660.80</td>\n",
       "      <td>3</td>\n",
       "      <td>1</td>\n",
       "      <td>0</td>\n",
       "      <td>113931.57</td>\n",
       "      <td>1</td>\n",
       "    </tr>\n",
       "    <tr>\n",
       "      <th>3</th>\n",
       "      <td>4</td>\n",
       "      <td>15701354</td>\n",
       "      <td>Boni</td>\n",
       "      <td>699</td>\n",
       "      <td>France</td>\n",
       "      <td>Female</td>\n",
       "      <td>39</td>\n",
       "      <td>1.0</td>\n",
       "      <td>0.00</td>\n",
       "      <td>2</td>\n",
       "      <td>0</td>\n",
       "      <td>0</td>\n",
       "      <td>93826.63</td>\n",
       "      <td>0</td>\n",
       "    </tr>\n",
       "    <tr>\n",
       "      <th>4</th>\n",
       "      <td>5</td>\n",
       "      <td>15737888</td>\n",
       "      <td>Mitchell</td>\n",
       "      <td>850</td>\n",
       "      <td>Spain</td>\n",
       "      <td>Female</td>\n",
       "      <td>43</td>\n",
       "      <td>2.0</td>\n",
       "      <td>125510.82</td>\n",
       "      <td>1</td>\n",
       "      <td>1</td>\n",
       "      <td>1</td>\n",
       "      <td>79084.10</td>\n",
       "      <td>0</td>\n",
       "    </tr>\n",
       "    <tr>\n",
       "      <th>5</th>\n",
       "      <td>6</td>\n",
       "      <td>15574012</td>\n",
       "      <td>Chu</td>\n",
       "      <td>645</td>\n",
       "      <td>Spain</td>\n",
       "      <td>Male</td>\n",
       "      <td>44</td>\n",
       "      <td>8.0</td>\n",
       "      <td>113755.78</td>\n",
       "      <td>2</td>\n",
       "      <td>1</td>\n",
       "      <td>0</td>\n",
       "      <td>149756.71</td>\n",
       "      <td>1</td>\n",
       "    </tr>\n",
       "    <tr>\n",
       "      <th>6</th>\n",
       "      <td>7</td>\n",
       "      <td>15592531</td>\n",
       "      <td>Bartlett</td>\n",
       "      <td>822</td>\n",
       "      <td>France</td>\n",
       "      <td>Male</td>\n",
       "      <td>50</td>\n",
       "      <td>7.0</td>\n",
       "      <td>0.00</td>\n",
       "      <td>2</td>\n",
       "      <td>1</td>\n",
       "      <td>1</td>\n",
       "      <td>10062.80</td>\n",
       "      <td>0</td>\n",
       "    </tr>\n",
       "    <tr>\n",
       "      <th>7</th>\n",
       "      <td>8</td>\n",
       "      <td>15656148</td>\n",
       "      <td>Obinna</td>\n",
       "      <td>376</td>\n",
       "      <td>Germany</td>\n",
       "      <td>Female</td>\n",
       "      <td>29</td>\n",
       "      <td>4.0</td>\n",
       "      <td>115046.74</td>\n",
       "      <td>4</td>\n",
       "      <td>1</td>\n",
       "      <td>0</td>\n",
       "      <td>119346.88</td>\n",
       "      <td>1</td>\n",
       "    </tr>\n",
       "    <tr>\n",
       "      <th>8</th>\n",
       "      <td>9</td>\n",
       "      <td>15792365</td>\n",
       "      <td>He</td>\n",
       "      <td>501</td>\n",
       "      <td>France</td>\n",
       "      <td>Male</td>\n",
       "      <td>44</td>\n",
       "      <td>4.0</td>\n",
       "      <td>142051.07</td>\n",
       "      <td>2</td>\n",
       "      <td>0</td>\n",
       "      <td>1</td>\n",
       "      <td>74940.50</td>\n",
       "      <td>0</td>\n",
       "    </tr>\n",
       "    <tr>\n",
       "      <th>9</th>\n",
       "      <td>10</td>\n",
       "      <td>15592389</td>\n",
       "      <td>H?</td>\n",
       "      <td>684</td>\n",
       "      <td>France</td>\n",
       "      <td>Male</td>\n",
       "      <td>27</td>\n",
       "      <td>2.0</td>\n",
       "      <td>134603.88</td>\n",
       "      <td>1</td>\n",
       "      <td>1</td>\n",
       "      <td>1</td>\n",
       "      <td>71725.73</td>\n",
       "      <td>0</td>\n",
       "    </tr>\n",
       "  </tbody>\n",
       "</table>\n",
       "</div>"
      ],
      "text/plain": [
       "   RowNumber  CustomerId   Surname  CreditScore Geography  Gender  Age  \\\n",
       "0          1    15634602  Hargrave          619    France  Female   42   \n",
       "1          2    15647311      Hill          608     Spain  Female   41   \n",
       "2          3    15619304      Onio          502    France  Female   42   \n",
       "3          4    15701354      Boni          699    France  Female   39   \n",
       "4          5    15737888  Mitchell          850     Spain  Female   43   \n",
       "5          6    15574012       Chu          645     Spain    Male   44   \n",
       "6          7    15592531  Bartlett          822    France    Male   50   \n",
       "7          8    15656148    Obinna          376   Germany  Female   29   \n",
       "8          9    15792365        He          501    France    Male   44   \n",
       "9         10    15592389        H?          684    France    Male   27   \n",
       "\n",
       "   Tenure    Balance  NumOfProducts  HasCrCard  IsActiveMember  \\\n",
       "0     2.0       0.00              1          1               1   \n",
       "1     1.0   83807.86              1          0               1   \n",
       "2     8.0  159660.80              3          1               0   \n",
       "3     1.0       0.00              2          0               0   \n",
       "4     2.0  125510.82              1          1               1   \n",
       "5     8.0  113755.78              2          1               0   \n",
       "6     7.0       0.00              2          1               1   \n",
       "7     4.0  115046.74              4          1               0   \n",
       "8     4.0  142051.07              2          0               1   \n",
       "9     2.0  134603.88              1          1               1   \n",
       "\n",
       "   EstimatedSalary  Exited  \n",
       "0        101348.88       1  \n",
       "1        112542.58       0  \n",
       "2        113931.57       1  \n",
       "3         93826.63       0  \n",
       "4         79084.10       0  \n",
       "5        149756.71       1  \n",
       "6         10062.80       0  \n",
       "7        119346.88       1  \n",
       "8         74940.50       0  \n",
       "9         71725.73       0  "
      ]
     },
     "execution_count": 4,
     "metadata": {},
     "output_type": "execute_result"
    }
   ],
   "source": [
    "data.head(10)"
   ]
  },
  {
   "cell_type": "markdown",
   "metadata": {},
   "source": [
    "**Описание данных:**\n",
    "* `RowNumber` — индекс строки в данных;\n",
    "* `CustomerId` — уникальный идентификатор клиента;\n",
    "* `Surname` — фамилия;\n",
    "* `CreditScore` — кредитный рейтинг;\n",
    "* `Geography` — страна проживания;\n",
    "* `Gende`r — пол;\n",
    "* `Age` — возраст;\n",
    "* `Tenure` — сколько лет человек является клиентом банка;\n",
    "* `Balance` — баланс на счёте;\n",
    "* `NumOfProducts` — количество продуктов банка, используемых клиентом;\n",
    "* `HasCrCard` — наличие кредитной карты;\n",
    "* `IsActiveMember` — активность клиента;\n",
    "* `EstimatedSalary` — предполагаемая зарплата;\n",
    "* `Exited` — факт ухода клиента."
   ]
  },
  {
   "cell_type": "markdown",
   "metadata": {},
   "source": [
    "Из данных видно, что нам необходимо будет:\n",
    "1. Удалить NAN в колонке *`Tenure`*.\n",
    "2. Удалить колонки *`RowNumber`, `CustomerId`, `Surname`*, являющиеся лишними для моделей обучения.\n",
    "3. Преобразовать категориальные данные в количественные.\n",
    "4. Произвести разлеление данных на обучающую, валидационную и тестовую выборки.\n",
    "5. Произвести масштабирование разделенных выборок."
   ]
  },
  {
   "cell_type": "markdown",
   "metadata": {},
   "source": [
    "### Предобработка данных"
   ]
  },
  {
   "cell_type": "markdown",
   "metadata": {},
   "source": [
    "#### Удаление NAN"
   ]
  },
  {
   "cell_type": "markdown",
   "metadata": {},
   "source": [
    "Найдем NAN объекты."
   ]
  },
  {
   "cell_type": "code",
   "execution_count": 5,
   "metadata": {
    "ExecuteTime": {
     "end_time": "2023-02-11T14:14:56.444582Z",
     "start_time": "2023-02-11T14:14:56.416655Z"
    }
   },
   "outputs": [
    {
     "data": {
      "text/plain": [
       "RowNumber            0\n",
       "CustomerId           0\n",
       "Surname              0\n",
       "CreditScore          0\n",
       "Geography            0\n",
       "Gender               0\n",
       "Age                  0\n",
       "Tenure             909\n",
       "Balance              0\n",
       "NumOfProducts        0\n",
       "HasCrCard            0\n",
       "IsActiveMember       0\n",
       "EstimatedSalary      0\n",
       "Exited               0\n",
       "dtype: int64"
      ]
     },
     "execution_count": 5,
     "metadata": {},
     "output_type": "execute_result"
    }
   ],
   "source": [
    "data.isna().sum()"
   ]
  },
  {
   "cell_type": "markdown",
   "metadata": {},
   "source": [
    "Удалим NAN объекты, т.к. их не много, а их замена на количественные объекты может привести к ухудшению обучаемости моделей."
   ]
  },
  {
   "cell_type": "code",
   "execution_count": 6,
   "metadata": {
    "ExecuteTime": {
     "end_time": "2023-02-11T14:14:56.492452Z",
     "start_time": "2023-02-11T14:14:56.447573Z"
    }
   },
   "outputs": [
    {
     "name": "stdout",
     "output_type": "stream",
     "text": [
      "<class 'pandas.core.frame.DataFrame'>\n",
      "Int64Index: 9091 entries, 0 to 9998\n",
      "Data columns (total 14 columns):\n",
      " #   Column           Non-Null Count  Dtype  \n",
      "---  ------           --------------  -----  \n",
      " 0   RowNumber        9091 non-null   int64  \n",
      " 1   CustomerId       9091 non-null   int64  \n",
      " 2   Surname          9091 non-null   object \n",
      " 3   CreditScore      9091 non-null   int64  \n",
      " 4   Geography        9091 non-null   object \n",
      " 5   Gender           9091 non-null   object \n",
      " 6   Age              9091 non-null   int64  \n",
      " 7   Tenure           9091 non-null   float64\n",
      " 8   Balance          9091 non-null   float64\n",
      " 9   NumOfProducts    9091 non-null   int64  \n",
      " 10  HasCrCard        9091 non-null   int64  \n",
      " 11  IsActiveMember   9091 non-null   int64  \n",
      " 12  EstimatedSalary  9091 non-null   float64\n",
      " 13  Exited           9091 non-null   int64  \n",
      "dtypes: float64(3), int64(8), object(3)\n",
      "memory usage: 1.0+ MB\n"
     ]
    }
   ],
   "source": [
    "data = data.dropna()\n",
    "data.info()"
   ]
  },
  {
   "cell_type": "markdown",
   "metadata": {},
   "source": [
    "#### Удаление колонок"
   ]
  },
  {
   "cell_type": "markdown",
   "metadata": {},
   "source": [
    "Удалим колонки *RowNumber, CustomerId, Surname*, т.к. они бесполезны для обучения."
   ]
  },
  {
   "cell_type": "code",
   "execution_count": 7,
   "metadata": {
    "ExecuteTime": {
     "end_time": "2023-02-11T14:14:56.524368Z",
     "start_time": "2023-02-11T14:14:56.494447Z"
    }
   },
   "outputs": [
    {
     "data": {
      "text/plain": [
       "Index(['CreditScore', 'Geography', 'Gender', 'Age', 'Tenure', 'Balance',\n",
       "       'NumOfProducts', 'HasCrCard', 'IsActiveMember', 'EstimatedSalary',\n",
       "       'Exited'],\n",
       "      dtype='object')"
      ]
     },
     "execution_count": 7,
     "metadata": {},
     "output_type": "execute_result"
    }
   ],
   "source": [
    "# Удаление ненужных столбцов\n",
    "data = data.drop(['RowNumber', 'CustomerId', 'Surname'], axis=1)\n",
    "data.columns"
   ]
  },
  {
   "cell_type": "markdown",
   "metadata": {},
   "source": [
    "#### One hot encoding"
   ]
  },
  {
   "cell_type": "markdown",
   "metadata": {},
   "source": [
    "Приведем категориальные данные к количественным с помощью One-Hot Encoding."
   ]
  },
  {
   "cell_type": "code",
   "execution_count": 8,
   "metadata": {
    "ExecuteTime": {
     "end_time": "2023-02-11T14:14:56.555285Z",
     "start_time": "2023-02-11T14:14:56.527360Z"
    },
    "scrolled": true
   },
   "outputs": [
    {
     "data": {
      "text/plain": [
       "CreditScore            int64\n",
       "Age                    int64\n",
       "Tenure               float64\n",
       "Balance              float64\n",
       "NumOfProducts          int64\n",
       "HasCrCard              int64\n",
       "IsActiveMember         int64\n",
       "EstimatedSalary      float64\n",
       "Exited                 int64\n",
       "Geography_Germany      uint8\n",
       "Geography_Spain        uint8\n",
       "Gender_Male            uint8\n",
       "dtype: object"
      ]
     },
     "execution_count": 8,
     "metadata": {},
     "output_type": "execute_result"
    }
   ],
   "source": [
    "data_ohe = pd.get_dummies(data, drop_first=True)\n",
    "data_ohe.dtypes"
   ]
  },
  {
   "cell_type": "markdown",
   "metadata": {},
   "source": [
    "#### Разделение выборки"
   ]
  },
  {
   "cell_type": "markdown",
   "metadata": {},
   "source": [
    "Разделим данные на фичи и целевые признаки."
   ]
  },
  {
   "cell_type": "code",
   "execution_count": 9,
   "metadata": {
    "ExecuteTime": {
     "end_time": "2023-02-11T14:14:56.587286Z",
     "start_time": "2023-02-11T14:14:56.559274Z"
    }
   },
   "outputs": [
    {
     "data": {
      "text/plain": [
       "(9091, 11)"
      ]
     },
     "metadata": {},
     "output_type": "display_data"
    },
    {
     "data": {
      "text/plain": [
       "(9091,)"
      ]
     },
     "metadata": {},
     "output_type": "display_data"
    }
   ],
   "source": [
    "# Разделение датасета на фичи и целевые признаки\n",
    "features = data_ohe.drop('Exited', axis=1)\n",
    "target = data_ohe['Exited']\n",
    "\n",
    "display(features.shape)\n",
    "display(target.shape)"
   ]
  },
  {
   "cell_type": "markdown",
   "metadata": {},
   "source": [
    "Разобьем фичи и целевые признаки на обучающую, валидационну и тестовую выборки."
   ]
  },
  {
   "cell_type": "code",
   "execution_count": 10,
   "metadata": {
    "ExecuteTime": {
     "end_time": "2023-02-11T14:14:56.634074Z",
     "start_time": "2023-02-11T14:14:56.592187Z"
    }
   },
   "outputs": [
    {
     "data": {
      "text/plain": [
       "(5454, 11)"
      ]
     },
     "metadata": {},
     "output_type": "display_data"
    },
    {
     "data": {
      "text/plain": [
       "(5454,)"
      ]
     },
     "metadata": {},
     "output_type": "display_data"
    },
    {
     "data": {
      "text/plain": [
       "(1818, 11)"
      ]
     },
     "metadata": {},
     "output_type": "display_data"
    },
    {
     "data": {
      "text/plain": [
       "(1818,)"
      ]
     },
     "metadata": {},
     "output_type": "display_data"
    },
    {
     "data": {
      "text/plain": [
       "(1819, 11)"
      ]
     },
     "metadata": {},
     "output_type": "display_data"
    },
    {
     "data": {
      "text/plain": [
       "(1819,)"
      ]
     },
     "metadata": {},
     "output_type": "display_data"
    }
   ],
   "source": [
    "# Разделение выборки на обучающую и валидационную\n",
    "(features_train, features_valid_test, target_train,\n",
    " target_valid_test) = (train_test_split(features,\n",
    "                                        target,\n",
    "                                        test_size=.4,\n",
    "                                        random_state=12345))\n",
    "# Разделение валидационной выборки на валидационную и тестовую\n",
    "(features_valid, features_test, target_valid,\n",
    " target_test) = (train_test_split(features_valid_test,\n",
    "                                  target_valid_test,\n",
    "                                  test_size=.5,\n",
    "                                  random_state=12345))\n",
    "\n",
    "display(features_train.shape)\n",
    "display(target_train.shape)\n",
    "\n",
    "display(features_valid.shape)\n",
    "display(target_valid.shape)\n",
    "\n",
    "display(features_test.shape)\n",
    "display(target_test.shape)"
   ]
  },
  {
   "cell_type": "markdown",
   "metadata": {},
   "source": [
    "#### Масштабирование выборки"
   ]
  },
  {
   "cell_type": "markdown",
   "metadata": {},
   "source": [
    "Обучим скейлер на обучающей выборке и масштабируем остальные выборки."
   ]
  },
  {
   "cell_type": "code",
   "execution_count": 11,
   "metadata": {
    "ExecuteTime": {
     "end_time": "2023-02-11T14:14:56.681946Z",
     "start_time": "2023-02-11T14:14:56.637066Z"
    }
   },
   "outputs": [],
   "source": [
    "# Исключение ошибки взаимодействия фрагментов фреймов данных sklearn и pandas\n",
    "pd.options.mode.chained_assignment = None\n",
    "\n",
    "numeric = ['CreditScore', 'Age', 'Tenure', 'Balance', 'EstimatedSalary']\n",
    "\n",
    "# Обучение скейлера на обучающей выборке для масштабирования остальных выборок\n",
    "scaler = StandardScaler()\n",
    "scaler.fit(features_train[numeric])\n",
    "\n",
    "features_train[numeric] = scaler.transform(features_train[numeric])\n",
    "features_valid[numeric] = scaler.transform(features_valid[numeric])\n",
    "features_test[numeric] = scaler.transform(features_test[numeric])"
   ]
  },
  {
   "cell_type": "code",
   "execution_count": 12,
   "metadata": {
    "ExecuteTime": {
     "end_time": "2023-02-11T14:14:56.793647Z",
     "start_time": "2023-02-11T14:14:56.687930Z"
    }
   },
   "outputs": [
    {
     "data": {
      "text/html": [
       "<div>\n",
       "<style scoped>\n",
       "    .dataframe tbody tr th:only-of-type {\n",
       "        vertical-align: middle;\n",
       "    }\n",
       "\n",
       "    .dataframe tbody tr th {\n",
       "        vertical-align: top;\n",
       "    }\n",
       "\n",
       "    .dataframe thead th {\n",
       "        text-align: right;\n",
       "    }\n",
       "</style>\n",
       "<table border=\"1\" class=\"dataframe\">\n",
       "  <thead>\n",
       "    <tr style=\"text-align: right;\">\n",
       "      <th></th>\n",
       "      <th>CreditScore</th>\n",
       "      <th>Age</th>\n",
       "      <th>Tenure</th>\n",
       "      <th>Balance</th>\n",
       "      <th>NumOfProducts</th>\n",
       "      <th>HasCrCard</th>\n",
       "      <th>IsActiveMember</th>\n",
       "      <th>EstimatedSalary</th>\n",
       "      <th>Geography_Germany</th>\n",
       "      <th>Geography_Spain</th>\n",
       "      <th>Gender_Male</th>\n",
       "    </tr>\n",
       "  </thead>\n",
       "  <tbody>\n",
       "    <tr>\n",
       "      <th>9344</th>\n",
       "      <td>0.809075</td>\n",
       "      <td>-1.039327</td>\n",
       "      <td>-1.025995</td>\n",
       "      <td>0.554904</td>\n",
       "      <td>1</td>\n",
       "      <td>1</td>\n",
       "      <td>0</td>\n",
       "      <td>0.019508</td>\n",
       "      <td>0</td>\n",
       "      <td>0</td>\n",
       "      <td>0</td>\n",
       "    </tr>\n",
       "    <tr>\n",
       "      <th>3796</th>\n",
       "      <td>-1.152518</td>\n",
       "      <td>-1.227561</td>\n",
       "      <td>0.696524</td>\n",
       "      <td>0.480609</td>\n",
       "      <td>1</td>\n",
       "      <td>0</td>\n",
       "      <td>0</td>\n",
       "      <td>0.056167</td>\n",
       "      <td>0</td>\n",
       "      <td>0</td>\n",
       "      <td>1</td>\n",
       "    </tr>\n",
       "    <tr>\n",
       "      <th>7462</th>\n",
       "      <td>-0.398853</td>\n",
       "      <td>0.090079</td>\n",
       "      <td>1.385532</td>\n",
       "      <td>-1.237830</td>\n",
       "      <td>1</td>\n",
       "      <td>1</td>\n",
       "      <td>1</td>\n",
       "      <td>0.848738</td>\n",
       "      <td>0</td>\n",
       "      <td>0</td>\n",
       "      <td>1</td>\n",
       "    </tr>\n",
       "    <tr>\n",
       "      <th>1508</th>\n",
       "      <td>-0.749875</td>\n",
       "      <td>-0.286389</td>\n",
       "      <td>0.352020</td>\n",
       "      <td>-1.237830</td>\n",
       "      <td>2</td>\n",
       "      <td>1</td>\n",
       "      <td>1</td>\n",
       "      <td>-0.894953</td>\n",
       "      <td>0</td>\n",
       "      <td>0</td>\n",
       "      <td>1</td>\n",
       "    </tr>\n",
       "    <tr>\n",
       "      <th>4478</th>\n",
       "      <td>-1.028628</td>\n",
       "      <td>-0.756975</td>\n",
       "      <td>-0.336987</td>\n",
       "      <td>-1.237830</td>\n",
       "      <td>2</td>\n",
       "      <td>0</td>\n",
       "      <td>1</td>\n",
       "      <td>-1.284516</td>\n",
       "      <td>0</td>\n",
       "      <td>0</td>\n",
       "      <td>1</td>\n",
       "    </tr>\n",
       "    <tr>\n",
       "      <th>...</th>\n",
       "      <td>...</td>\n",
       "      <td>...</td>\n",
       "      <td>...</td>\n",
       "      <td>...</td>\n",
       "      <td>...</td>\n",
       "      <td>...</td>\n",
       "      <td>...</td>\n",
       "      <td>...</td>\n",
       "      <td>...</td>\n",
       "      <td>...</td>\n",
       "      <td>...</td>\n",
       "    </tr>\n",
       "    <tr>\n",
       "      <th>4938</th>\n",
       "      <td>1.283988</td>\n",
       "      <td>-0.474624</td>\n",
       "      <td>1.730036</td>\n",
       "      <td>0.813031</td>\n",
       "      <td>1</td>\n",
       "      <td>0</td>\n",
       "      <td>0</td>\n",
       "      <td>-1.092767</td>\n",
       "      <td>1</td>\n",
       "      <td>0</td>\n",
       "      <td>1</td>\n",
       "    </tr>\n",
       "    <tr>\n",
       "      <th>4529</th>\n",
       "      <td>0.158652</td>\n",
       "      <td>0.466548</td>\n",
       "      <td>1.041028</td>\n",
       "      <td>1.071609</td>\n",
       "      <td>1</td>\n",
       "      <td>1</td>\n",
       "      <td>1</td>\n",
       "      <td>0.260842</td>\n",
       "      <td>0</td>\n",
       "      <td>0</td>\n",
       "      <td>0</td>\n",
       "    </tr>\n",
       "    <tr>\n",
       "      <th>3866</th>\n",
       "      <td>-1.049276</td>\n",
       "      <td>-0.945210</td>\n",
       "      <td>0.352020</td>\n",
       "      <td>0.449165</td>\n",
       "      <td>1</td>\n",
       "      <td>1</td>\n",
       "      <td>1</td>\n",
       "      <td>-1.086965</td>\n",
       "      <td>0</td>\n",
       "      <td>0</td>\n",
       "      <td>0</td>\n",
       "    </tr>\n",
       "    <tr>\n",
       "      <th>2414</th>\n",
       "      <td>-0.956359</td>\n",
       "      <td>1.219485</td>\n",
       "      <td>1.385532</td>\n",
       "      <td>-1.237830</td>\n",
       "      <td>1</td>\n",
       "      <td>1</td>\n",
       "      <td>0</td>\n",
       "      <td>1.288527</td>\n",
       "      <td>0</td>\n",
       "      <td>0</td>\n",
       "      <td>0</td>\n",
       "    </tr>\n",
       "    <tr>\n",
       "      <th>5056</th>\n",
       "      <td>1.222043</td>\n",
       "      <td>-1.509912</td>\n",
       "      <td>-1.025995</td>\n",
       "      <td>1.015938</td>\n",
       "      <td>1</td>\n",
       "      <td>0</td>\n",
       "      <td>1</td>\n",
       "      <td>-1.244002</td>\n",
       "      <td>1</td>\n",
       "      <td>0</td>\n",
       "      <td>1</td>\n",
       "    </tr>\n",
       "  </tbody>\n",
       "</table>\n",
       "<p>5454 rows × 11 columns</p>\n",
       "</div>"
      ],
      "text/plain": [
       "      CreditScore       Age    Tenure   Balance  NumOfProducts  HasCrCard  \\\n",
       "9344     0.809075 -1.039327 -1.025995  0.554904              1          1   \n",
       "3796    -1.152518 -1.227561  0.696524  0.480609              1          0   \n",
       "7462    -0.398853  0.090079  1.385532 -1.237830              1          1   \n",
       "1508    -0.749875 -0.286389  0.352020 -1.237830              2          1   \n",
       "4478    -1.028628 -0.756975 -0.336987 -1.237830              2          0   \n",
       "...           ...       ...       ...       ...            ...        ...   \n",
       "4938     1.283988 -0.474624  1.730036  0.813031              1          0   \n",
       "4529     0.158652  0.466548  1.041028  1.071609              1          1   \n",
       "3866    -1.049276 -0.945210  0.352020  0.449165              1          1   \n",
       "2414    -0.956359  1.219485  1.385532 -1.237830              1          1   \n",
       "5056     1.222043 -1.509912 -1.025995  1.015938              1          0   \n",
       "\n",
       "      IsActiveMember  EstimatedSalary  Geography_Germany  Geography_Spain  \\\n",
       "9344               0         0.019508                  0                0   \n",
       "3796               0         0.056167                  0                0   \n",
       "7462               1         0.848738                  0                0   \n",
       "1508               1        -0.894953                  0                0   \n",
       "4478               1        -1.284516                  0                0   \n",
       "...              ...              ...                ...              ...   \n",
       "4938               0        -1.092767                  1                0   \n",
       "4529               1         0.260842                  0                0   \n",
       "3866               1        -1.086965                  0                0   \n",
       "2414               0         1.288527                  0                0   \n",
       "5056               1        -1.244002                  1                0   \n",
       "\n",
       "      Gender_Male  \n",
       "9344            0  \n",
       "3796            1  \n",
       "7462            1  \n",
       "1508            1  \n",
       "4478            1  \n",
       "...           ...  \n",
       "4938            1  \n",
       "4529            0  \n",
       "3866            0  \n",
       "2414            0  \n",
       "5056            1  \n",
       "\n",
       "[5454 rows x 11 columns]"
      ]
     },
     "metadata": {},
     "output_type": "display_data"
    },
    {
     "data": {
      "text/html": [
       "<div>\n",
       "<style scoped>\n",
       "    .dataframe tbody tr th:only-of-type {\n",
       "        vertical-align: middle;\n",
       "    }\n",
       "\n",
       "    .dataframe tbody tr th {\n",
       "        vertical-align: top;\n",
       "    }\n",
       "\n",
       "    .dataframe thead th {\n",
       "        text-align: right;\n",
       "    }\n",
       "</style>\n",
       "<table border=\"1\" class=\"dataframe\">\n",
       "  <thead>\n",
       "    <tr style=\"text-align: right;\">\n",
       "      <th></th>\n",
       "      <th>CreditScore</th>\n",
       "      <th>Age</th>\n",
       "      <th>Tenure</th>\n",
       "      <th>Balance</th>\n",
       "      <th>NumOfProducts</th>\n",
       "      <th>HasCrCard</th>\n",
       "      <th>IsActiveMember</th>\n",
       "      <th>EstimatedSalary</th>\n",
       "      <th>Geography_Germany</th>\n",
       "      <th>Geography_Spain</th>\n",
       "      <th>Gender_Male</th>\n",
       "    </tr>\n",
       "  </thead>\n",
       "  <tbody>\n",
       "    <tr>\n",
       "      <th>7445</th>\n",
       "      <td>-1.369326</td>\n",
       "      <td>0.560665</td>\n",
       "      <td>-0.336987</td>\n",
       "      <td>-1.237830</td>\n",
       "      <td>1</td>\n",
       "      <td>1</td>\n",
       "      <td>0</td>\n",
       "      <td>-0.086537</td>\n",
       "      <td>0</td>\n",
       "      <td>0</td>\n",
       "      <td>0</td>\n",
       "    </tr>\n",
       "    <tr>\n",
       "      <th>8620</th>\n",
       "      <td>1.232367</td>\n",
       "      <td>0.090079</td>\n",
       "      <td>1.041028</td>\n",
       "      <td>-1.237830</td>\n",
       "      <td>2</td>\n",
       "      <td>0</td>\n",
       "      <td>1</td>\n",
       "      <td>-0.537457</td>\n",
       "      <td>0</td>\n",
       "      <td>0</td>\n",
       "      <td>0</td>\n",
       "    </tr>\n",
       "    <tr>\n",
       "      <th>1714</th>\n",
       "      <td>0.840048</td>\n",
       "      <td>0.560665</td>\n",
       "      <td>0.352020</td>\n",
       "      <td>1.231363</td>\n",
       "      <td>1</td>\n",
       "      <td>0</td>\n",
       "      <td>0</td>\n",
       "      <td>1.070393</td>\n",
       "      <td>1</td>\n",
       "      <td>0</td>\n",
       "      <td>1</td>\n",
       "    </tr>\n",
       "    <tr>\n",
       "      <th>5441</th>\n",
       "      <td>1.056856</td>\n",
       "      <td>-0.945210</td>\n",
       "      <td>-1.370498</td>\n",
       "      <td>0.951231</td>\n",
       "      <td>1</td>\n",
       "      <td>1</td>\n",
       "      <td>0</td>\n",
       "      <td>-0.576279</td>\n",
       "      <td>0</td>\n",
       "      <td>0</td>\n",
       "      <td>1</td>\n",
       "    </tr>\n",
       "    <tr>\n",
       "      <th>9001</th>\n",
       "      <td>0.406433</td>\n",
       "      <td>-0.662858</td>\n",
       "      <td>0.352020</td>\n",
       "      <td>0.767800</td>\n",
       "      <td>1</td>\n",
       "      <td>1</td>\n",
       "      <td>1</td>\n",
       "      <td>0.662068</td>\n",
       "      <td>0</td>\n",
       "      <td>1</td>\n",
       "      <td>1</td>\n",
       "    </tr>\n",
       "    <tr>\n",
       "      <th>...</th>\n",
       "      <td>...</td>\n",
       "      <td>...</td>\n",
       "      <td>...</td>\n",
       "      <td>...</td>\n",
       "      <td>...</td>\n",
       "      <td>...</td>\n",
       "      <td>...</td>\n",
       "      <td>...</td>\n",
       "      <td>...</td>\n",
       "      <td>...</td>\n",
       "      <td>...</td>\n",
       "    </tr>\n",
       "    <tr>\n",
       "      <th>7505</th>\n",
       "      <td>0.107031</td>\n",
       "      <td>-1.133444</td>\n",
       "      <td>-0.336987</td>\n",
       "      <td>-1.237830</td>\n",
       "      <td>2</td>\n",
       "      <td>1</td>\n",
       "      <td>0</td>\n",
       "      <td>-0.016504</td>\n",
       "      <td>0</td>\n",
       "      <td>1</td>\n",
       "      <td>1</td>\n",
       "    </tr>\n",
       "    <tr>\n",
       "      <th>2232</th>\n",
       "      <td>0.003790</td>\n",
       "      <td>-0.286389</td>\n",
       "      <td>1.041028</td>\n",
       "      <td>-1.237830</td>\n",
       "      <td>2</td>\n",
       "      <td>1</td>\n",
       "      <td>0</td>\n",
       "      <td>1.056449</td>\n",
       "      <td>0</td>\n",
       "      <td>1</td>\n",
       "      <td>1</td>\n",
       "    </tr>\n",
       "    <tr>\n",
       "      <th>3720</th>\n",
       "      <td>-1.813265</td>\n",
       "      <td>0.090079</td>\n",
       "      <td>1.041028</td>\n",
       "      <td>1.226442</td>\n",
       "      <td>2</td>\n",
       "      <td>1</td>\n",
       "      <td>0</td>\n",
       "      <td>-0.468713</td>\n",
       "      <td>1</td>\n",
       "      <td>0</td>\n",
       "      <td>1</td>\n",
       "    </tr>\n",
       "    <tr>\n",
       "      <th>5196</th>\n",
       "      <td>0.726482</td>\n",
       "      <td>-1.604030</td>\n",
       "      <td>0.696524</td>\n",
       "      <td>0.610110</td>\n",
       "      <td>1</td>\n",
       "      <td>1</td>\n",
       "      <td>1</td>\n",
       "      <td>1.328951</td>\n",
       "      <td>0</td>\n",
       "      <td>0</td>\n",
       "      <td>0</td>\n",
       "    </tr>\n",
       "    <tr>\n",
       "      <th>2460</th>\n",
       "      <td>0.117356</td>\n",
       "      <td>0.184196</td>\n",
       "      <td>-1.370498</td>\n",
       "      <td>0.860215</td>\n",
       "      <td>1</td>\n",
       "      <td>1</td>\n",
       "      <td>0</td>\n",
       "      <td>-1.278650</td>\n",
       "      <td>1</td>\n",
       "      <td>0</td>\n",
       "      <td>1</td>\n",
       "    </tr>\n",
       "  </tbody>\n",
       "</table>\n",
       "<p>1818 rows × 11 columns</p>\n",
       "</div>"
      ],
      "text/plain": [
       "      CreditScore       Age    Tenure   Balance  NumOfProducts  HasCrCard  \\\n",
       "7445    -1.369326  0.560665 -0.336987 -1.237830              1          1   \n",
       "8620     1.232367  0.090079  1.041028 -1.237830              2          0   \n",
       "1714     0.840048  0.560665  0.352020  1.231363              1          0   \n",
       "5441     1.056856 -0.945210 -1.370498  0.951231              1          1   \n",
       "9001     0.406433 -0.662858  0.352020  0.767800              1          1   \n",
       "...           ...       ...       ...       ...            ...        ...   \n",
       "7505     0.107031 -1.133444 -0.336987 -1.237830              2          1   \n",
       "2232     0.003790 -0.286389  1.041028 -1.237830              2          1   \n",
       "3720    -1.813265  0.090079  1.041028  1.226442              2          1   \n",
       "5196     0.726482 -1.604030  0.696524  0.610110              1          1   \n",
       "2460     0.117356  0.184196 -1.370498  0.860215              1          1   \n",
       "\n",
       "      IsActiveMember  EstimatedSalary  Geography_Germany  Geography_Spain  \\\n",
       "7445               0        -0.086537                  0                0   \n",
       "8620               1        -0.537457                  0                0   \n",
       "1714               0         1.070393                  1                0   \n",
       "5441               0        -0.576279                  0                0   \n",
       "9001               1         0.662068                  0                1   \n",
       "...              ...              ...                ...              ...   \n",
       "7505               0        -0.016504                  0                1   \n",
       "2232               0         1.056449                  0                1   \n",
       "3720               0        -0.468713                  1                0   \n",
       "5196               1         1.328951                  0                0   \n",
       "2460               0        -1.278650                  1                0   \n",
       "\n",
       "      Gender_Male  \n",
       "7445            0  \n",
       "8620            0  \n",
       "1714            1  \n",
       "5441            1  \n",
       "9001            1  \n",
       "...           ...  \n",
       "7505            1  \n",
       "2232            1  \n",
       "3720            1  \n",
       "5196            0  \n",
       "2460            1  \n",
       "\n",
       "[1818 rows x 11 columns]"
      ]
     },
     "metadata": {},
     "output_type": "display_data"
    },
    {
     "data": {
      "text/html": [
       "<div>\n",
       "<style scoped>\n",
       "    .dataframe tbody tr th:only-of-type {\n",
       "        vertical-align: middle;\n",
       "    }\n",
       "\n",
       "    .dataframe tbody tr th {\n",
       "        vertical-align: top;\n",
       "    }\n",
       "\n",
       "    .dataframe thead th {\n",
       "        text-align: right;\n",
       "    }\n",
       "</style>\n",
       "<table border=\"1\" class=\"dataframe\">\n",
       "  <thead>\n",
       "    <tr style=\"text-align: right;\">\n",
       "      <th></th>\n",
       "      <th>CreditScore</th>\n",
       "      <th>Age</th>\n",
       "      <th>Tenure</th>\n",
       "      <th>Balance</th>\n",
       "      <th>NumOfProducts</th>\n",
       "      <th>HasCrCard</th>\n",
       "      <th>IsActiveMember</th>\n",
       "      <th>EstimatedSalary</th>\n",
       "      <th>Geography_Germany</th>\n",
       "      <th>Geography_Spain</th>\n",
       "      <th>Gender_Male</th>\n",
       "    </tr>\n",
       "  </thead>\n",
       "  <tbody>\n",
       "    <tr>\n",
       "      <th>5170</th>\n",
       "      <td>1.707279</td>\n",
       "      <td>-0.756975</td>\n",
       "      <td>-0.336987</td>\n",
       "      <td>-1.237830</td>\n",
       "      <td>2</td>\n",
       "      <td>1</td>\n",
       "      <td>1</td>\n",
       "      <td>0.718362</td>\n",
       "      <td>0</td>\n",
       "      <td>0</td>\n",
       "      <td>0</td>\n",
       "    </tr>\n",
       "    <tr>\n",
       "      <th>4180</th>\n",
       "      <td>-0.429826</td>\n",
       "      <td>-0.286389</td>\n",
       "      <td>1.730036</td>\n",
       "      <td>0.485538</td>\n",
       "      <td>2</td>\n",
       "      <td>0</td>\n",
       "      <td>0</td>\n",
       "      <td>1.687305</td>\n",
       "      <td>1</td>\n",
       "      <td>0</td>\n",
       "      <td>1</td>\n",
       "    </tr>\n",
       "    <tr>\n",
       "      <th>7349</th>\n",
       "      <td>-0.171721</td>\n",
       "      <td>0.278313</td>\n",
       "      <td>0.352020</td>\n",
       "      <td>-0.269213</td>\n",
       "      <td>2</td>\n",
       "      <td>0</td>\n",
       "      <td>1</td>\n",
       "      <td>0.824128</td>\n",
       "      <td>1</td>\n",
       "      <td>0</td>\n",
       "      <td>1</td>\n",
       "    </tr>\n",
       "    <tr>\n",
       "      <th>7469</th>\n",
       "      <td>0.385784</td>\n",
       "      <td>-0.380507</td>\n",
       "      <td>1.041028</td>\n",
       "      <td>0.464813</td>\n",
       "      <td>1</td>\n",
       "      <td>1</td>\n",
       "      <td>0</td>\n",
       "      <td>-1.118018</td>\n",
       "      <td>0</td>\n",
       "      <td>0</td>\n",
       "      <td>0</td>\n",
       "    </tr>\n",
       "    <tr>\n",
       "      <th>3467</th>\n",
       "      <td>-1.142194</td>\n",
       "      <td>0.278313</td>\n",
       "      <td>-1.370498</td>\n",
       "      <td>0.353837</td>\n",
       "      <td>2</td>\n",
       "      <td>0</td>\n",
       "      <td>1</td>\n",
       "      <td>-0.107642</td>\n",
       "      <td>1</td>\n",
       "      <td>0</td>\n",
       "      <td>0</td>\n",
       "    </tr>\n",
       "    <tr>\n",
       "      <th>...</th>\n",
       "      <td>...</td>\n",
       "      <td>...</td>\n",
       "      <td>...</td>\n",
       "      <td>...</td>\n",
       "      <td>...</td>\n",
       "      <td>...</td>\n",
       "      <td>...</td>\n",
       "      <td>...</td>\n",
       "      <td>...</td>\n",
       "      <td>...</td>\n",
       "      <td>...</td>\n",
       "    </tr>\n",
       "    <tr>\n",
       "      <th>8579</th>\n",
       "      <td>0.014114</td>\n",
       "      <td>-0.474624</td>\n",
       "      <td>-0.336987</td>\n",
       "      <td>0.474274</td>\n",
       "      <td>1</td>\n",
       "      <td>0</td>\n",
       "      <td>1</td>\n",
       "      <td>0.734995</td>\n",
       "      <td>0</td>\n",
       "      <td>0</td>\n",
       "      <td>1</td>\n",
       "    </tr>\n",
       "    <tr>\n",
       "      <th>7536</th>\n",
       "      <td>0.499350</td>\n",
       "      <td>0.278313</td>\n",
       "      <td>-1.370498</td>\n",
       "      <td>-1.237830</td>\n",
       "      <td>1</td>\n",
       "      <td>1</td>\n",
       "      <td>0</td>\n",
       "      <td>-1.704943</td>\n",
       "      <td>0</td>\n",
       "      <td>0</td>\n",
       "      <td>0</td>\n",
       "    </tr>\n",
       "    <tr>\n",
       "      <th>2911</th>\n",
       "      <td>0.003790</td>\n",
       "      <td>1.219485</td>\n",
       "      <td>1.041028</td>\n",
       "      <td>-0.444590</td>\n",
       "      <td>1</td>\n",
       "      <td>1</td>\n",
       "      <td>0</td>\n",
       "      <td>-1.006086</td>\n",
       "      <td>0</td>\n",
       "      <td>0</td>\n",
       "      <td>0</td>\n",
       "    </tr>\n",
       "    <tr>\n",
       "      <th>2789</th>\n",
       "      <td>0.581944</td>\n",
       "      <td>0.466548</td>\n",
       "      <td>-1.715002</td>\n",
       "      <td>1.742887</td>\n",
       "      <td>1</td>\n",
       "      <td>1</td>\n",
       "      <td>0</td>\n",
       "      <td>-0.541247</td>\n",
       "      <td>0</td>\n",
       "      <td>1</td>\n",
       "      <td>1</td>\n",
       "    </tr>\n",
       "    <tr>\n",
       "      <th>7755</th>\n",
       "      <td>0.272218</td>\n",
       "      <td>-0.474624</td>\n",
       "      <td>1.041028</td>\n",
       "      <td>-1.237830</td>\n",
       "      <td>2</td>\n",
       "      <td>1</td>\n",
       "      <td>1</td>\n",
       "      <td>1.455393</td>\n",
       "      <td>0</td>\n",
       "      <td>0</td>\n",
       "      <td>1</td>\n",
       "    </tr>\n",
       "  </tbody>\n",
       "</table>\n",
       "<p>1819 rows × 11 columns</p>\n",
       "</div>"
      ],
      "text/plain": [
       "      CreditScore       Age    Tenure   Balance  NumOfProducts  HasCrCard  \\\n",
       "5170     1.707279 -0.756975 -0.336987 -1.237830              2          1   \n",
       "4180    -0.429826 -0.286389  1.730036  0.485538              2          0   \n",
       "7349    -0.171721  0.278313  0.352020 -0.269213              2          0   \n",
       "7469     0.385784 -0.380507  1.041028  0.464813              1          1   \n",
       "3467    -1.142194  0.278313 -1.370498  0.353837              2          0   \n",
       "...           ...       ...       ...       ...            ...        ...   \n",
       "8579     0.014114 -0.474624 -0.336987  0.474274              1          0   \n",
       "7536     0.499350  0.278313 -1.370498 -1.237830              1          1   \n",
       "2911     0.003790  1.219485  1.041028 -0.444590              1          1   \n",
       "2789     0.581944  0.466548 -1.715002  1.742887              1          1   \n",
       "7755     0.272218 -0.474624  1.041028 -1.237830              2          1   \n",
       "\n",
       "      IsActiveMember  EstimatedSalary  Geography_Germany  Geography_Spain  \\\n",
       "5170               1         0.718362                  0                0   \n",
       "4180               0         1.687305                  1                0   \n",
       "7349               1         0.824128                  1                0   \n",
       "7469               0        -1.118018                  0                0   \n",
       "3467               1        -0.107642                  1                0   \n",
       "...              ...              ...                ...              ...   \n",
       "8579               1         0.734995                  0                0   \n",
       "7536               0        -1.704943                  0                0   \n",
       "2911               0        -1.006086                  0                0   \n",
       "2789               0        -0.541247                  0                1   \n",
       "7755               1         1.455393                  0                0   \n",
       "\n",
       "      Gender_Male  \n",
       "5170            0  \n",
       "4180            1  \n",
       "7349            1  \n",
       "7469            0  \n",
       "3467            0  \n",
       "...           ...  \n",
       "8579            1  \n",
       "7536            0  \n",
       "2911            0  \n",
       "2789            1  \n",
       "7755            1  \n",
       "\n",
       "[1819 rows x 11 columns]"
      ]
     },
     "metadata": {},
     "output_type": "display_data"
    }
   ],
   "source": [
    "display(features_train)\n",
    "display(features_valid)\n",
    "display(features_test)"
   ]
  },
  {
   "cell_type": "markdown",
   "metadata": {},
   "source": [
    "### Вывод"
   ]
  },
  {
   "cell_type": "markdown",
   "metadata": {},
   "source": [
    "В данном разделе мы:\n",
    "- Удалили NAN в колонке `Tenure`.\n",
    "- Удалили колонки `RowNumber`, `CustomerId`, `Surname`, являющиеся лишними для моделей обучения.\n",
    "- Преобразовали категориальные данные в количественные.\n",
    "- Произвели разлеление данных на обучающую, валидационную и тестовую выборки.\n",
    "- Произвели масштабирование разделенных выборок.\n",
    "\n",
    "Все поставленные задачи выполнены."
   ]
  },
  {
   "cell_type": "markdown",
   "metadata": {},
   "source": [
    "## Исследование задачи"
   ]
  },
  {
   "cell_type": "markdown",
   "metadata": {},
   "source": [
    "### Определение баланса классов"
   ]
  },
  {
   "cell_type": "markdown",
   "metadata": {},
   "source": [
    "Определим баланс классов."
   ]
  },
  {
   "cell_type": "code",
   "execution_count": 13,
   "metadata": {
    "ExecuteTime": {
     "end_time": "2023-02-11T14:14:56.823566Z",
     "start_time": "2023-02-11T14:14:56.795642Z"
    }
   },
   "outputs": [
    {
     "data": {
      "text/plain": [
       "'Unbalanced training data: '"
      ]
     },
     "metadata": {},
     "output_type": "display_data"
    },
    {
     "data": {
      "text/plain": [
       "26.01663585951941"
      ]
     },
     "metadata": {},
     "output_type": "display_data"
    },
    {
     "data": {
      "text/plain": [
       "'%'"
      ]
     },
     "metadata": {},
     "output_type": "display_data"
    }
   ],
   "source": [
    "# Определение дисбаланса классов\n",
    "target_train_zero = target_train[target_train == 0]\n",
    "target_train_one = target_train[target_train == 1]\n",
    "\n",
    "display('Unbalanced training data: ',\n",
    "        target_train_one.count() / target_train_zero.count() * 100, '%')"
   ]
  },
  {
   "cell_type": "markdown",
   "metadata": {},
   "source": [
    "Видно, что класс 1 в выборке составляет 26% от класса 0 (в 3.8 раз меньше)."
   ]
  },
  {
   "cell_type": "markdown",
   "metadata": {},
   "source": [
    "### Обучение моделей на несбалансированной выборке"
   ]
  },
  {
   "cell_type": "markdown",
   "metadata": {},
   "source": [
    "Обучим модели на несбалансированной выборке и посмотрим на метрики качества."
   ]
  },
  {
   "cell_type": "markdown",
   "metadata": {},
   "source": [
    "#### DecisionTreeClassifier"
   ]
  },
  {
   "cell_type": "markdown",
   "metadata": {},
   "source": [
    "Обучение Решающего дерева."
   ]
  },
  {
   "cell_type": "code",
   "execution_count": 14,
   "metadata": {
    "ExecuteTime": {
     "end_time": "2023-02-11T14:14:57.168974Z",
     "start_time": "2023-02-11T14:14:56.826560Z"
    }
   },
   "outputs": [
    {
     "data": {
      "text/plain": [
       "'Best depth: 7,best score: 0.5764331210191083, AUC-ROCK: 0.8346049843812412'"
      ]
     },
     "metadata": {},
     "output_type": "display_data"
    },
    {
     "data": {
      "text/plain": [
       "'Best AUC-ROC depth: 6, best AUC-ROC: 0.8495399046859958'"
      ]
     },
     "metadata": {},
     "output_type": "display_data"
    },
    {
     "name": "stdout",
     "output_type": "stream",
     "text": [
      "Wall time: 318 ms\n"
     ]
    }
   ],
   "source": [
    "%%time\n",
    "\n",
    "best_depth = 0  # Лучшая глубина\n",
    "best_score = 0  # Лучшая F1 метрика\n",
    "best_model_score_auc_roc = 0  # Лучшая AUC-ROC у модели с лучшей F1 метрикой\n",
    "\n",
    "best_auc_roc = 0  # Определение лучшего AUC-ROC значения\n",
    "best_auc_roc_depth = 0  # Глубина лучшего AUC-ROC значения\n",
    "\n",
    "# Обучение модели с перебором глубины\n",
    "for depth in range(1, 10):\n",
    "    model = DecisionTreeClassifier(max_depth=depth,\n",
    "                                   random_state=12345)\n",
    "    model.fit(features_train, target_train)\n",
    "\n",
    "    predicted_valid = model.predict(features_valid)\n",
    "\n",
    "    f1_valid = f1_score(target_valid, predicted_valid)\n",
    "\n",
    "    probabilities_valid = model.predict_proba(features_valid)\n",
    "    probabilities_one_valid = probabilities_valid[:, 1]\n",
    "\n",
    "    auc_roc = roc_auc_score(target_valid, probabilities_one_valid)\n",
    "\n",
    "    if f1_valid > best_score:\n",
    "        best_score = f1_valid\n",
    "        best_depth = depth\n",
    "        best_model_score_auc_roc = auc_roc\n",
    "\n",
    "    if auc_roc > best_auc_roc:\n",
    "        best_auc_roc = auc_roc\n",
    "        best_auc_roc_depth = depth\n",
    "\n",
    "display(f'Best depth: {best_depth},best score: {best_score}, AUC-ROCK: {best_model_score_auc_roc}')\n",
    "display(f'Best AUC-ROC depth: {best_auc_roc_depth}, best AUC-ROC: {best_auc_roc}')"
   ]
  },
  {
   "cell_type": "markdown",
   "metadata": {},
   "source": [
    "#### RandomForestClassifier"
   ]
  },
  {
   "cell_type": "markdown",
   "metadata": {},
   "source": [
    "Обучение Рандомного леса."
   ]
  },
  {
   "cell_type": "code",
   "execution_count": 15,
   "metadata": {
    "ExecuteTime": {
     "end_time": "2023-02-11T14:14:59.130831Z",
     "start_time": "2023-02-11T14:14:57.174782Z"
    }
   },
   "outputs": [
    {
     "data": {
      "text/plain": [
       "'Best depth: 19, best score: 0.5780730897009967, AUC-ROCK: 0.8440931271939431'"
      ]
     },
     "metadata": {},
     "output_type": "display_data"
    },
    {
     "data": {
      "text/plain": [
       "'Best AUC-ROC depth: 9, best AUC-ROC: 0.8694172371455866'"
      ]
     },
     "metadata": {},
     "output_type": "display_data"
    },
    {
     "name": "stdout",
     "output_type": "stream",
     "text": [
      "Wall time: 1.94 s\n"
     ]
    }
   ],
   "source": [
    "%%time\n",
    "\n",
    "best_depth = 0  # Лучшая глубина\n",
    "best_score = 0  # Лучшая F1 метрика\n",
    "best_model_score_auc_roc = 0  # Лучшая AUC-ROC у модели с лучшей F1 метрикой\n",
    "\n",
    "best_auc_roc = 0  # Определение лучшего AUC-ROC значения\n",
    "best_auc_roc_depth = 0  # Глубина лучшего AUC-ROC значения\n",
    "\n",
    "# Обучение модели с перебором глубины\n",
    "for depth in range(1, 21):\n",
    "    model = RandomForestClassifier(n_estimators=10,\n",
    "                                   max_depth=depth,\n",
    "                                   random_state=12345)\n",
    "    model.fit(features_train, target_train)\n",
    "\n",
    "    predicted_valid = model.predict(features_valid)\n",
    "\n",
    "    f1_valid = f1_score(target_valid, predicted_valid)\n",
    "\n",
    "    probabilities_valid = model.predict_proba(features_valid)\n",
    "    probabilities_one_valid = probabilities_valid[:, 1]\n",
    "\n",
    "    auc_roc = roc_auc_score(target_valid, probabilities_one_valid)\n",
    "\n",
    "    if f1_valid > best_score:\n",
    "        best_score = f1_valid\n",
    "        best_depth = depth\n",
    "        best_mscore_auc_roc = auc_roc\n",
    "\n",
    "    if auc_roc > best_auc_roc:\n",
    "        best_auc_roc = auc_roc\n",
    "        best_auc_roc_depth = depth\n",
    "\n",
    "display(f'Best depth: {best_depth}, best score: {best_score}, AUC-ROCK: {best_mscore_auc_roc}')\n",
    "display(f'Best AUC-ROC depth: {best_auc_roc_depth}, best AUC-ROC: {best_auc_roc}')"
   ]
  },
  {
   "cell_type": "code",
   "execution_count": 16,
   "metadata": {
    "ExecuteTime": {
     "end_time": "2023-02-11T14:16:54.070686Z",
     "start_time": "2023-02-11T14:14:59.133726Z"
    }
   },
   "outputs": [
    {
     "data": {
      "text/plain": [
       "'Estimators: 1'"
      ]
     },
     "metadata": {},
     "output_type": "display_data"
    },
    {
     "data": {
      "text/plain": [
       "'Estimators: 11'"
      ]
     },
     "metadata": {},
     "output_type": "display_data"
    },
    {
     "data": {
      "text/plain": [
       "'Estimators: 21'"
      ]
     },
     "metadata": {},
     "output_type": "display_data"
    },
    {
     "data": {
      "text/plain": [
       "'Estimators: 31'"
      ]
     },
     "metadata": {},
     "output_type": "display_data"
    },
    {
     "data": {
      "text/plain": [
       "'Estimators: 41'"
      ]
     },
     "metadata": {},
     "output_type": "display_data"
    },
    {
     "data": {
      "text/plain": [
       "'Estimators: 51'"
      ]
     },
     "metadata": {},
     "output_type": "display_data"
    },
    {
     "data": {
      "text/plain": [
       "'Estimators: 61'"
      ]
     },
     "metadata": {},
     "output_type": "display_data"
    },
    {
     "data": {
      "text/plain": [
       "'Estimators: 71'"
      ]
     },
     "metadata": {},
     "output_type": "display_data"
    },
    {
     "data": {
      "text/plain": [
       "'Estimators: 81'"
      ]
     },
     "metadata": {},
     "output_type": "display_data"
    },
    {
     "data": {
      "text/plain": [
       "'Estimators: 91'"
      ]
     },
     "metadata": {},
     "output_type": "display_data"
    },
    {
     "data": {
      "text/plain": [
       "'Estimators: 101'"
      ]
     },
     "metadata": {},
     "output_type": "display_data"
    },
    {
     "data": {
      "text/plain": [
       "'Best estimators: 81, best depth: 23,best score: 0.602291325695581, AUC-ROC: 0.8616925322637352'"
      ]
     },
     "metadata": {},
     "output_type": "display_data"
    },
    {
     "data": {
      "text/plain": [
       "'Best AUC-ROC est: 81, best AUC-ROCK depth 9,best AUC-ROC: 0.8739381176864724'"
      ]
     },
     "metadata": {},
     "output_type": "display_data"
    },
    {
     "name": "stdout",
     "output_type": "stream",
     "text": [
      "Wall time: 1min 54s\n"
     ]
    }
   ],
   "source": [
    "%%time\n",
    "\n",
    "best_est = 0  # Количество деревьев у модели с лучшей F1 метрикой\n",
    "best_depth = 0  # Лучшая глубина\n",
    "best_score = 0  # Лучшая F1 метрика\n",
    "best_model_score_auc_roc = 0  # Лучшая AUC-ROC у модели с лучшей F1 метрикой\n",
    "\n",
    "best_auc_roc = 0  # Определение лучшего AUC-ROC значения\n",
    "best_auc_roc_est = 0  # Количество деревьев у лучшей AUC-ROC метрики\n",
    "best_auc_roc_depth = 0  # Глубина лучшего AUC-ROC значения\n",
    "\n",
    "for est in range(1, 102, 10):\n",
    "    display(f'Estimators: {est}')\n",
    "    for depth in range(1, 25):\n",
    "        model = RandomForestClassifier(n_estimators=est,\n",
    "                                       max_depth=depth,\n",
    "                                       random_state=12345)\n",
    "        model.fit(features_train, target_train)\n",
    "\n",
    "        predicted_valid = model.predict(features_valid)\n",
    "\n",
    "        f1_valid = f1_score(target_valid, predicted_valid)\n",
    "\n",
    "        probabilities_valid = model.predict_proba(features_valid)\n",
    "        probabilities_one_valid = probabilities_valid[:, 1]\n",
    "\n",
    "        auc_roc = roc_auc_score(target_valid, probabilities_one_valid)\n",
    "\n",
    "        if f1_valid > best_score:\n",
    "            best_score = f1_valid\n",
    "            best_depth = depth\n",
    "            best_est = est\n",
    "            best_model_score_auc_roc = auc_roc\n",
    "\n",
    "        if auc_roc > best_auc_roc:\n",
    "            best_auc_roc = auc_roc\n",
    "            best_auc_roc_depth = depth\n",
    "            best_auc_roc_est = est\n",
    "\n",
    "display(f'Best estimators: {best_est}, best depth: {best_depth},'\n",
    "        f'best score: {best_score}, AUC-ROC: {best_model_score_auc_roc}')\n",
    "display(\n",
    "    f'Best AUC-ROC est: {best_auc_roc_est}, best AUC-ROCK depth {best_auc_roc_depth},'\n",
    "    f'best AUC-ROC: {best_auc_roc}')"
   ]
  },
  {
   "cell_type": "markdown",
   "metadata": {},
   "source": [
    "#### LogisticRegression"
   ]
  },
  {
   "cell_type": "markdown",
   "metadata": {},
   "source": [
    "Обучение логистической регрессии."
   ]
  },
  {
   "cell_type": "code",
   "execution_count": 17,
   "metadata": {
    "ExecuteTime": {
     "end_time": "2023-02-11T14:16:54.133413Z",
     "start_time": "2023-02-11T14:16:54.073815Z"
    }
   },
   "outputs": [
    {
     "data": {
      "text/plain": [
       "'F1 valid 0.30400000000000005'"
      ]
     },
     "metadata": {},
     "output_type": "display_data"
    },
    {
     "data": {
      "text/plain": [
       "'AUC-ROC: 0.7735454858381945'"
      ]
     },
     "metadata": {},
     "output_type": "display_data"
    },
    {
     "name": "stdout",
     "output_type": "stream",
     "text": [
      "Wall time: 52.5 ms\n"
     ]
    }
   ],
   "source": [
    "%%time\n",
    "\n",
    "model = LogisticRegression(solver='liblinear', random_state=12345)\n",
    "model.fit(features_train, target_train)\n",
    "\n",
    "predicted_valid = model.predict(features_valid)\n",
    "\n",
    "f1_valid = f1_score(target_valid, predicted_valid)\n",
    "\n",
    "probabilities_valid = model.predict_proba(features_valid)\n",
    "probabilities_one_valid = probabilities_valid[:, 1]\n",
    "\n",
    "auc_roc = roc_auc_score(target_valid, probabilities_one_valid)\n",
    "\n",
    "display(f'F1 valid {f1_valid}')\n",
    "display(f'AUC-ROC: {auc_roc}')"
   ]
  },
  {
   "cell_type": "markdown",
   "metadata": {},
   "source": [
    "### Вывод"
   ]
  },
  {
   "cell_type": "markdown",
   "metadata": {},
   "source": [
    "В данном разделе мы обучили три модели на несбалансированной выборке и посмотрели на метрики их качества. Видно, что при обучении без учета дисбаланса классов, налучший показатель **F1 = 0.6023** у **RandomForest** с количеством деревьев **81** и глубиной **23**. **AUC-ROC** данной модели составляет **0.8617**."
   ]
  },
  {
   "cell_type": "markdown",
   "metadata": {},
   "source": [
    "## Борьба с дисбалансом"
   ]
  },
  {
   "cell_type": "markdown",
   "metadata": {},
   "source": [
    "### Сlass weight. Обучение моделей на сбалансированной выборке."
   ]
  },
  {
   "cell_type": "markdown",
   "metadata": {},
   "source": [
    "Сбалансируем классы путем добавления в модели гиперпараментра class_weght."
   ]
  },
  {
   "cell_type": "markdown",
   "metadata": {},
   "source": [
    "#### DecisionTreeClassifier"
   ]
  },
  {
   "cell_type": "markdown",
   "metadata": {},
   "source": [
    "Обучение Решающего дерева с гиперпараметром class_weight='balanced'."
   ]
  },
  {
   "cell_type": "code",
   "execution_count": 18,
   "metadata": {
    "ExecuteTime": {
     "end_time": "2023-02-11T14:16:54.386233Z",
     "start_time": "2023-02-11T14:16:54.136394Z"
    }
   },
   "outputs": [
    {
     "data": {
      "text/plain": [
       "'Best depth: 5, best score: 0.5735449735449736, AUC-ROCK: 0.8396523192522141'"
      ]
     },
     "metadata": {},
     "output_type": "display_data"
    },
    {
     "data": {
      "text/plain": [
       "'Best AUC-ROC depth: 5, best AUC-ROC: 0.8396523192522141'"
      ]
     },
     "metadata": {},
     "output_type": "display_data"
    },
    {
     "name": "stdout",
     "output_type": "stream",
     "text": [
      "Wall time: 232 ms\n"
     ]
    }
   ],
   "source": [
    "%%time\n",
    "\n",
    "# Переменные для фиксации лучших значений\n",
    "best_depth = 0  # Лучшая глубина\n",
    "best_score = 0  # Лучшая F1 метрика\n",
    "best_model_score_auc_roc = 0  # Лучшая AUC-ROC у модели с лучшей F1 метрикой\n",
    "\n",
    "best_auc_roc = 0  # Определение лучшего AUC-ROC значения\n",
    "best_auc_roc_depth = 0  # Глубина лучшего AUC-ROC значения\n",
    "\n",
    "for depth in range(1, 10):\n",
    "    model = DecisionTreeClassifier(max_depth=depth,\n",
    "                                   random_state=12345,\n",
    "                                   class_weight='balanced')\n",
    "    model.fit(features_train, target_train)\n",
    "\n",
    "    predicted_valid = model.predict(features_valid)\n",
    "\n",
    "    f1_valid = f1_score(target_valid, predicted_valid)\n",
    "\n",
    "    probabilities_valid = model.predict_proba(features_valid)\n",
    "    probabilities_one_valid = probabilities_valid[:, 1]\n",
    "\n",
    "    auc_roc = roc_auc_score(target_valid, probabilities_one_valid)\n",
    "\n",
    "    if f1_valid > best_score:\n",
    "        best_score = f1_valid\n",
    "        best_depth = depth\n",
    "        best_model_score_auc_roc = auc_roc\n",
    "\n",
    "    if auc_roc > best_auc_roc:\n",
    "        best_auc_roc = auc_roc\n",
    "        best_auc_roc_depth = depth\n",
    "\n",
    "display(f'Best depth: {best_depth}, best score: {best_score}, AUC-ROCK: {best_model_score_auc_roc}')\n",
    "display(f'Best AUC-ROC depth: {best_auc_roc_depth}, best AUC-ROC: {best_auc_roc}')"
   ]
  },
  {
   "cell_type": "markdown",
   "metadata": {},
   "source": [
    "#### RandomForestClassifier"
   ]
  },
  {
   "cell_type": "markdown",
   "metadata": {},
   "source": [
    "Обучение Рандомного леса с гиперпараметром class_weight='balanced'."
   ]
  },
  {
   "cell_type": "code",
   "execution_count": 19,
   "metadata": {
    "ExecuteTime": {
     "end_time": "2023-02-11T14:16:56.141756Z",
     "start_time": "2023-02-11T14:16:54.389222Z"
    }
   },
   "outputs": [
    {
     "data": {
      "text/plain": [
       "'Best depth: 9, best score: 0.6497584541062802, AUC-ROCK: 0.8690573706367336'"
      ]
     },
     "metadata": {},
     "output_type": "display_data"
    },
    {
     "data": {
      "text/plain": [
       "'Best AUC-ROC depth: 9, best AUC-ROC: 0.8690573706367336'"
      ]
     },
     "metadata": {},
     "output_type": "display_data"
    },
    {
     "name": "stdout",
     "output_type": "stream",
     "text": [
      "Wall time: 1.73 s\n"
     ]
    }
   ],
   "source": [
    "%%time\n",
    "\n",
    "best_depth = 0  # Лучшая глубина\n",
    "best_score = 0  # Лучшая F1 метрика\n",
    "best_model_score_auc_roc = 0  # Лучшая AUC-ROC у модели с лучшей F1 метрикой\n",
    "\n",
    "best_auc_roc = 0  # Определение лучшего AUC-ROC значения\n",
    "best_auc_roc_depth = 0  # Глубина лучшего AUC-ROC значения\n",
    "\n",
    "for depth in range(1, 21):\n",
    "    model = (RandomForestClassifier(n_estimators=10,\n",
    "                                    max_depth=depth,\n",
    "                                    random_state=12345,\n",
    "                                    class_weight='balanced'))\n",
    "    model.fit(features_train, target_train)\n",
    "\n",
    "    predicted_valid = model.predict(features_valid)\n",
    "\n",
    "    f1_valid = f1_score(target_valid, predicted_valid)\n",
    "\n",
    "    probabilities_valid = model.predict_proba(features_valid)\n",
    "    probabilities_one_valid = probabilities_valid[:, 1]\n",
    "\n",
    "    auc_roc = roc_auc_score(target_valid, probabilities_one_valid)\n",
    "\n",
    "    if f1_valid > best_score:\n",
    "        best_score = f1_valid\n",
    "        best_depth = depth\n",
    "        best_model_score_auc_roc = auc_roc\n",
    "\n",
    "    if auc_roc > best_auc_roc:\n",
    "        best_auc_roc = auc_roc\n",
    "        best_auc_roc_depth = depth\n",
    "\n",
    "display(f'Best depth: {best_depth}, best score: {best_score}, AUC-ROCK: {best_model_score_auc_roc}')\n",
    "display(f'Best AUC-ROC depth: {best_auc_roc_depth}, best AUC-ROC: {best_auc_roc}')"
   ]
  },
  {
   "cell_type": "code",
   "execution_count": 20,
   "metadata": {
    "ExecuteTime": {
     "end_time": "2023-02-11T14:19:09.154970Z",
     "start_time": "2023-02-11T14:16:56.144192Z"
    }
   },
   "outputs": [
    {
     "data": {
      "text/plain": [
       "'Estimators: 1'"
      ]
     },
     "metadata": {},
     "output_type": "display_data"
    },
    {
     "data": {
      "text/plain": [
       "'Estimators: 11'"
      ]
     },
     "metadata": {},
     "output_type": "display_data"
    },
    {
     "data": {
      "text/plain": [
       "'Estimators: 21'"
      ]
     },
     "metadata": {},
     "output_type": "display_data"
    },
    {
     "data": {
      "text/plain": [
       "'Estimators: 31'"
      ]
     },
     "metadata": {},
     "output_type": "display_data"
    },
    {
     "data": {
      "text/plain": [
       "'Estimators: 41'"
      ]
     },
     "metadata": {},
     "output_type": "display_data"
    },
    {
     "data": {
      "text/plain": [
       "'Estimators: 51'"
      ]
     },
     "metadata": {},
     "output_type": "display_data"
    },
    {
     "data": {
      "text/plain": [
       "'Estimators: 61'"
      ]
     },
     "metadata": {},
     "output_type": "display_data"
    },
    {
     "data": {
      "text/plain": [
       "'Estimators: 71'"
      ]
     },
     "metadata": {},
     "output_type": "display_data"
    },
    {
     "data": {
      "text/plain": [
       "'Estimators: 81'"
      ]
     },
     "metadata": {},
     "output_type": "display_data"
    },
    {
     "data": {
      "text/plain": [
       "'Estimators: 91'"
      ]
     },
     "metadata": {},
     "output_type": "display_data"
    },
    {
     "data": {
      "text/plain": [
       "'Estimators: 101'"
      ]
     },
     "metadata": {},
     "output_type": "display_data"
    },
    {
     "data": {
      "text/plain": [
       "'Estimators: 111'"
      ]
     },
     "metadata": {},
     "output_type": "display_data"
    },
    {
     "data": {
      "text/plain": [
       "'Best estimators: 101, best depth: 8,best score: 0.6460807600950118, AUC-ROC: 0.8695939490885529'"
      ]
     },
     "metadata": {},
     "output_type": "display_data"
    },
    {
     "data": {
      "text/plain": [
       "'Best AUC-ROC est: 31, best AUC-ROCK depth 9,best AUC-ROC: 0.8715874806951406'"
      ]
     },
     "metadata": {},
     "output_type": "display_data"
    },
    {
     "name": "stdout",
     "output_type": "stream",
     "text": [
      "Wall time: 2min 12s\n"
     ]
    }
   ],
   "source": [
    "%%time\n",
    "\n",
    "best_est = 0  # Количество деревьев у модели с лучшей F1 метрикой\n",
    "best_depth = 0  # Лучшая глубина\n",
    "best_score = 0  # Лучшая F1 метрика\n",
    "best_model_score_auc_roc = 0  # Лучшая AUC-ROC у модели с лучшей F1 метрикой\n",
    "\n",
    "best_auc_roc = 0  # Определение лучшего AUC-ROC значения\n",
    "best_auc_roc_est = 0  # Количество деревьев у лучшей AUC-ROC метрики\n",
    "best_auc_roc_depth = 0  # Глубина лучшего AUC-ROC значения\n",
    "\n",
    "for est in range(1, 112, 10):\n",
    "    display(f'Estimators: {est}')\n",
    "    for depth in range(1, 25):\n",
    "        model = (RandomForestClassifier(n_estimators=est,\n",
    "                                        max_depth=depth,\n",
    "                                        random_state=12345,\n",
    "                                        class_weight='balanced'))\n",
    "        model.fit(features_train, target_train)\n",
    "\n",
    "        predicted_valid = model.predict(features_valid)\n",
    "\n",
    "        f1_valid = f1_score(target_valid, predicted_valid)\n",
    "\n",
    "        probabilities_valid = model.predict_proba(features_valid)\n",
    "        probabilities_one_valid = probabilities_valid[:, 1]\n",
    "\n",
    "        auc_roc = roc_auc_score(target_valid, probabilities_one_valid)\n",
    "\n",
    "        if f1_valid > best_score:\n",
    "            best_score = f1_valid\n",
    "            best_depth = depth\n",
    "            best_est = est\n",
    "            best_model_score_auc_roc = auc_roc\n",
    "\n",
    "        if auc_roc > best_auc_roc:\n",
    "            best_auc_roc = auc_roc\n",
    "            best_auc_roc_depth = depth\n",
    "            best_auc_roc_est = est\n",
    "\n",
    "display(f'Best estimators: {best_est}, best depth: {best_depth},'\n",
    "        f'best score: {best_score}, AUC-ROC: {best_model_score_auc_roc}')\n",
    "\n",
    "display((\n",
    "    f'Best AUC-ROC est: {best_auc_roc_est}, best AUC-ROCK depth {best_auc_roc_depth},'\n",
    "    f'best AUC-ROC: {best_auc_roc}'))"
   ]
  },
  {
   "cell_type": "markdown",
   "metadata": {},
   "source": [
    "#### LogisticRegression"
   ]
  },
  {
   "cell_type": "markdown",
   "metadata": {},
   "source": [
    "Обучение Логистической регрессии с гиперпараметром class_weight='balanced'."
   ]
  },
  {
   "cell_type": "code",
   "execution_count": 21,
   "metadata": {
    "ExecuteTime": {
     "end_time": "2023-02-11T14:19:09.201714Z",
     "start_time": "2023-02-11T14:19:09.157001Z"
    }
   },
   "outputs": [
    {
     "data": {
      "text/plain": [
       "'F1 valid 0.509731232622799'"
      ]
     },
     "metadata": {},
     "output_type": "display_data"
    },
    {
     "data": {
      "text/plain": [
       "'AUC-ROC: 0.7778123429610663'"
      ]
     },
     "metadata": {},
     "output_type": "display_data"
    },
    {
     "name": "stdout",
     "output_type": "stream",
     "text": [
      "Wall time: 30.4 ms\n"
     ]
    }
   ],
   "source": [
    "%%time\n",
    "\n",
    "model = LogisticRegression(solver='liblinear',\n",
    "                           random_state=12345,\n",
    "                           class_weight='balanced')\n",
    "model.fit(features_train, target_train)\n",
    "\n",
    "predicted_valid = model.predict(features_valid)\n",
    "\n",
    "f1_valid = f1_score(target_valid, predicted_valid)\n",
    "\n",
    "probabilities_valid = model.predict_proba(features_valid)\n",
    "probabilities_one_valid = probabilities_valid[:, 1]\n",
    "\n",
    "auc_roc = roc_auc_score(target_valid, probabilities_one_valid)\n",
    "\n",
    "display(f'F1 valid {f1_valid}')\n",
    "display(f'AUC-ROC: {auc_roc}')"
   ]
  },
  {
   "cell_type": "markdown",
   "metadata": {},
   "source": [
    "**Лучшей моделью** по итогам обучения на сбалансированной выборке **является Рандомный лес** с **количеством деревьев 101** и их **глубиной 8**. **F1** метрика при этом составляет **0.6461**, а **AUC-ROC** - **0.8617**."
   ]
  },
  {
   "cell_type": "markdown",
   "metadata": {},
   "source": [
    "### Upsampling. Обучение моделей на сбалансированной выборке."
   ]
  },
  {
   "cell_type": "markdown",
   "metadata": {},
   "source": [
    "Сбалансируем обучающую выборку с помощью метода upsampling."
   ]
  },
  {
   "cell_type": "code",
   "execution_count": 22,
   "metadata": {
    "ExecuteTime": {
     "end_time": "2023-02-11T14:19:09.247970Z",
     "start_time": "2023-02-11T14:19:09.203704Z"
    }
   },
   "outputs": [
    {
     "data": {
      "text/plain": [
       "(5454, 11)"
      ]
     },
     "metadata": {},
     "output_type": "display_data"
    },
    {
     "data": {
      "text/plain": [
       "(8832, 11)"
      ]
     },
     "metadata": {},
     "output_type": "display_data"
    },
    {
     "data": {
      "text/plain": [
       "(5454,)"
      ]
     },
     "metadata": {},
     "output_type": "display_data"
    },
    {
     "data": {
      "text/plain": [
       "(8832,)"
      ]
     },
     "metadata": {},
     "output_type": "display_data"
    }
   ],
   "source": [
    "# Функция балансировки даннах методом unsampling\n",
    "def upsample(features, target):\n",
    "    # Repeat определяется путем частного между большим и меньшим классами\n",
    "    repeat = round(target[target == 0].count() / target[target == 1].count())\n",
    "    features_zeros = features[target == 0]\n",
    "    features_ones = features[target == 1]\n",
    "    target_zeros = target[target == 0]\n",
    "    target_ones = target[target == 1]\n",
    "\n",
    "    # Upsampling\n",
    "    features_upsampled = pd.concat([features_zeros] + [features_ones] * repeat)\n",
    "    target_upsampled = pd.concat([target_zeros] + [target_ones] * repeat)\n",
    "\n",
    "    # Перемешивание выборок\n",
    "    features_upsampled, target_upsampled = (shuffle(features_upsampled,\n",
    "                                                    target_upsampled,\n",
    "                                                    random_state=12345))\n",
    "    return features_upsampled, target_upsampled\n",
    "\n",
    "\n",
    "features_upsampled, target_upsampled = upsample(features_train, target_train)\n",
    "\n",
    "display(features_train.shape, features_upsampled.shape)\n",
    "display(target_train.shape, target_upsampled.shape)"
   ]
  },
  {
   "cell_type": "markdown",
   "metadata": {},
   "source": [
    "#### DecisionTreeClassifier"
   ]
  },
  {
   "cell_type": "markdown",
   "metadata": {},
   "source": [
    "Обучение Решающего дерева на upsampled выборке."
   ]
  },
  {
   "cell_type": "code",
   "execution_count": 23,
   "metadata": {
    "ExecuteTime": {
     "end_time": "2023-02-11T14:19:09.531782Z",
     "start_time": "2023-02-11T14:19:09.249968Z"
    }
   },
   "outputs": [
    {
     "data": {
      "text/plain": [
       "'Best depth: 5, best score: 0.5735449735449736, AUC-ROCK: 0.8396523192522141'"
      ]
     },
     "metadata": {},
     "output_type": "display_data"
    },
    {
     "data": {
      "text/plain": [
       "'Best AUC-ROC depth: 5, best AUC-ROC: 0.8396523192522141'"
      ]
     },
     "metadata": {},
     "output_type": "display_data"
    },
    {
     "name": "stdout",
     "output_type": "stream",
     "text": [
      "Wall time: 268 ms\n"
     ]
    }
   ],
   "source": [
    "%%time\n",
    "\n",
    "best_depth = 0  # Лучшая глубина\n",
    "best_score = 0  # Лучшая F1 метрика\n",
    "best_model_score_auc_roc = 0  # Лучшая AUC-ROC у модели с лучшей F1 метрикой\n",
    "\n",
    "best_auc_roc = 0  # Определение лучшего AUC-ROC значения\n",
    "best_auc_roc_depth = 0  # Глубина лучшего AUC-ROC значения\n",
    "\n",
    "for depth in range(1, 10):\n",
    "    model = DecisionTreeClassifier(max_depth=depth, random_state=12345)\n",
    "    model.fit(features_upsampled, target_upsampled)\n",
    "\n",
    "    predicted_valid = model.predict(features_valid)\n",
    "\n",
    "    f1_valid = f1_score(target_valid, predicted_valid)\n",
    "\n",
    "    probabilities_valid = model.predict_proba(features_valid)\n",
    "    probabilities_one_valid = probabilities_valid[:, 1]\n",
    "\n",
    "    auc_roc = roc_auc_score(target_valid, probabilities_one_valid)\n",
    "\n",
    "    if f1_valid > best_score:\n",
    "        best_score = f1_valid\n",
    "        best_depth = depth\n",
    "        best_model_score_auc_roc = auc_roc\n",
    "\n",
    "    if auc_roc > best_auc_roc:\n",
    "        best_auc_roc = auc_roc\n",
    "        best_auc_roc_depth = depth\n",
    "\n",
    "display(f'Best depth: {best_depth}, best score: {best_score}, AUC-ROCK: {best_model_score_auc_roc}')\n",
    "display(f'Best AUC-ROC depth: {best_auc_roc_depth}, best AUC-ROC: {best_auc_roc}')"
   ]
  },
  {
   "cell_type": "markdown",
   "metadata": {},
   "source": [
    "#### RandomForestClassifier"
   ]
  },
  {
   "cell_type": "markdown",
   "metadata": {},
   "source": [
    "Обучение Рандомного леса на upsampled выборке."
   ]
  },
  {
   "cell_type": "code",
   "execution_count": 24,
   "metadata": {
    "ExecuteTime": {
     "end_time": "2023-02-11T14:19:11.814596Z",
     "start_time": "2023-02-11T14:19:09.535770Z"
    }
   },
   "outputs": [
    {
     "data": {
      "text/plain": [
       "'Best depth: 9, best score: 0.6121076233183858, AUC-ROCK: 0.8550612325289871'"
      ]
     },
     "metadata": {},
     "output_type": "display_data"
    },
    {
     "data": {
      "text/plain": [
       "'Best AUC-ROC depth: 6, best AUC-ROC: 0.8576355205731356'"
      ]
     },
     "metadata": {},
     "output_type": "display_data"
    },
    {
     "name": "stdout",
     "output_type": "stream",
     "text": [
      "Wall time: 2.26 s\n"
     ]
    }
   ],
   "source": [
    "%%time\n",
    "\n",
    "best_depth = 0  # Лучшая глубина\n",
    "best_score = 0  # Лучшая F1 метрика\n",
    "best_model_score_auc_roc = 0  # Лучшая AUC-ROC у модели с лучшей F1 метрикой\n",
    "\n",
    "best_auc_roc = 0  # Определение лучшего AUC-ROC значения\n",
    "best_auc_roc_depth = 0  # Глубина лучшего AUC-ROC значения\n",
    "\n",
    "for depth in range(1, 21):\n",
    "    model = RandomForestClassifier(n_estimators=10,\n",
    "                                   max_depth=depth,\n",
    "                                   random_state=12345)\n",
    "    model.fit(features_upsampled, target_upsampled)\n",
    "\n",
    "    predicted_valid = model.predict(features_valid)\n",
    "\n",
    "    f1_valid = f1_score(target_valid, predicted_valid)\n",
    "\n",
    "    probabilities_valid = model.predict_proba(features_valid)\n",
    "    probabilities_one_valid = probabilities_valid[:, 1]\n",
    "\n",
    "    auc_roc = roc_auc_score(target_valid, probabilities_one_valid)\n",
    "\n",
    "    if f1_valid > best_score:\n",
    "        best_score = f1_valid\n",
    "        best_depth = depth\n",
    "        best_model_score_auc_roc = auc_roc\n",
    "\n",
    "    if auc_roc > best_auc_roc:\n",
    "        best_auc_roc = auc_roc\n",
    "        best_auc_roc_depth = depth\n",
    "\n",
    "display(f'Best depth: {best_depth}, best score: {best_score}, AUC-ROCK: {best_model_score_auc_roc}')\n",
    "display(f'Best AUC-ROC depth: {best_auc_roc_depth}, best AUC-ROC: {best_auc_roc}')"
   ]
  },
  {
   "cell_type": "code",
   "execution_count": 25,
   "metadata": {
    "ExecuteTime": {
     "end_time": "2023-02-11T14:21:38.544642Z",
     "start_time": "2023-02-11T14:19:11.817048Z"
    }
   },
   "outputs": [
    {
     "data": {
      "text/plain": [
       "'Estimators: 1'"
      ]
     },
     "metadata": {},
     "output_type": "display_data"
    },
    {
     "data": {
      "text/plain": [
       "'Estimators: 11'"
      ]
     },
     "metadata": {},
     "output_type": "display_data"
    },
    {
     "data": {
      "text/plain": [
       "'Estimators: 21'"
      ]
     },
     "metadata": {},
     "output_type": "display_data"
    },
    {
     "data": {
      "text/plain": [
       "'Estimators: 31'"
      ]
     },
     "metadata": {},
     "output_type": "display_data"
    },
    {
     "data": {
      "text/plain": [
       "'Estimators: 41'"
      ]
     },
     "metadata": {},
     "output_type": "display_data"
    },
    {
     "data": {
      "text/plain": [
       "'Estimators: 51'"
      ]
     },
     "metadata": {},
     "output_type": "display_data"
    },
    {
     "data": {
      "text/plain": [
       "'Estimators: 61'"
      ]
     },
     "metadata": {},
     "output_type": "display_data"
    },
    {
     "data": {
      "text/plain": [
       "'Estimators: 71'"
      ]
     },
     "metadata": {},
     "output_type": "display_data"
    },
    {
     "data": {
      "text/plain": [
       "'Estimators: 81'"
      ]
     },
     "metadata": {},
     "output_type": "display_data"
    },
    {
     "data": {
      "text/plain": [
       "'Estimators: 91'"
      ]
     },
     "metadata": {},
     "output_type": "display_data"
    },
    {
     "data": {
      "text/plain": [
       "'Estimators: 101'"
      ]
     },
     "metadata": {},
     "output_type": "display_data"
    },
    {
     "data": {
      "text/plain": [
       "'Best estimators: 81, best depth: 14,best score: 0.6378378378378378, AUC-ROC: 0.8614707219603246'"
      ]
     },
     "metadata": {},
     "output_type": "display_data"
    },
    {
     "data": {
      "text/plain": [
       "'Best AUC-ROC est: 101, best AUC-ROCK depth 8,best AUC-ROC: 0.8701369701632929'"
      ]
     },
     "metadata": {},
     "output_type": "display_data"
    },
    {
     "name": "stdout",
     "output_type": "stream",
     "text": [
      "Wall time: 2min 26s\n"
     ]
    }
   ],
   "source": [
    "%%time\n",
    "\n",
    "best_est = 0  # Количество деревьев у модели с лучшей F1 метрикой\n",
    "best_depth = 0  # Лучшая глубина\n",
    "best_score = 0  # Лучшая F1 метрика\n",
    "best_model_score_auc_roc = 0  # Лучшая AUC-ROC у модели с лучшей F1 метрикой\n",
    "\n",
    "best_auc_roc = 0  # Определение лучшего AUC-ROC значения\n",
    "best_auc_roc_est = 0  # Количество деревьев у лучшей AUC-ROC метрики\n",
    "best_auc_roc_depth = 0  # Глубина лучшего AUC-ROC значения\n",
    "\n",
    "for est in range(1, 102, 10):\n",
    "    display(f'Estimators: {est}')\n",
    "    for depth in range(1, 25):\n",
    "        model = RandomForestClassifier(n_estimators=est,\n",
    "                                       max_depth=depth,\n",
    "                                       random_state=12345)\n",
    "        model.fit(features_upsampled, target_upsampled)\n",
    "\n",
    "        predicted_valid = model.predict(features_valid)\n",
    "\n",
    "        f1_valid = f1_score(target_valid, predicted_valid)\n",
    "\n",
    "        probabilities_valid = model.predict_proba(features_valid)\n",
    "        probabilities_one_valid = probabilities_valid[:, 1]\n",
    "\n",
    "        auc_roc = roc_auc_score(target_valid, probabilities_one_valid)\n",
    "\n",
    "        if f1_valid > best_score:\n",
    "            best_score = f1_valid\n",
    "            best_depth = depth\n",
    "            best_est = est\n",
    "            best_model_score_auc_roc = auc_roc\n",
    "\n",
    "        if auc_roc > best_auc_roc:\n",
    "            best_auc_roc = auc_roc\n",
    "            best_auc_roc_depth = depth\n",
    "            best_auc_roc_est = est\n",
    "\n",
    "display((f'Best estimators: {best_est}, best depth: {best_depth},'\n",
    "         f'best score: {best_score}, AUC-ROC: {best_model_score_auc_roc}'))\n",
    "display((\n",
    "    f'Best AUC-ROC est: {best_auc_roc_est}, best AUC-ROCK depth {best_auc_roc_depth},'\n",
    "    f'best AUC-ROC: {best_auc_roc}'))"
   ]
  },
  {
   "cell_type": "markdown",
   "metadata": {},
   "source": [
    "#### LogisticRegression"
   ]
  },
  {
   "cell_type": "markdown",
   "metadata": {},
   "source": [
    "Обучение Логистической регрессии на upsampled выборке."
   ]
  },
  {
   "cell_type": "code",
   "execution_count": 26,
   "metadata": {
    "ExecuteTime": {
     "end_time": "2023-02-11T14:21:38.607432Z",
     "start_time": "2023-02-11T14:21:38.547638Z"
    }
   },
   "outputs": [
    {
     "data": {
      "text/plain": [
       "'F1 valid 0.5085972850678734'"
      ]
     },
     "metadata": {},
     "output_type": "display_data"
    },
    {
     "data": {
      "text/plain": [
       "'AUC-ROC: 0.7779246286748261'"
      ]
     },
     "metadata": {},
     "output_type": "display_data"
    },
    {
     "name": "stdout",
     "output_type": "stream",
     "text": [
      "Wall time: 38.5 ms\n"
     ]
    }
   ],
   "source": [
    "%%time\n",
    "\n",
    "model = LogisticRegression(solver='liblinear', random_state=12345)\n",
    "model.fit(features_upsampled, target_upsampled)\n",
    "\n",
    "predicted_valid = model.predict(features_valid)\n",
    "\n",
    "f1_valid = f1_score(target_valid, predicted_valid)\n",
    "\n",
    "probabilities_valid = model.predict_proba(features_valid)\n",
    "probabilities_one_valid = probabilities_valid[:, 1]\n",
    "\n",
    "auc_roc = roc_auc_score(target_valid, probabilities_one_valid)\n",
    "\n",
    "display(f'F1 valid {f1_valid}')\n",
    "display(f'AUC-ROC: {auc_roc}')"
   ]
  },
  {
   "cell_type": "markdown",
   "metadata": {},
   "source": [
    "**Лучшей моделью** по итогам обучения на сбалансированной выборке **является Рандомный лес** с **количеством деревьев 81** и их **глубиной 14**. **F1** метрика при этом составляет **0.6378**, а **AUC-ROC** - **0.8617**."
   ]
  },
  {
   "cell_type": "markdown",
   "metadata": {},
   "source": [
    "### Вывод"
   ]
  },
  {
   "cell_type": "markdown",
   "metadata": {},
   "source": [
    "По итогам проведенных мероприятий по балансировке классов обучающей выборки лучший показатель метрики F1 составляет 0.6461 у Рандомного леса с гиперпараметрами:\n",
    "* `estimator: 101`;\n",
    "* `depth: 8`;\n",
    "* `class_weight: 'balanced'`.\n",
    "\n",
    "AUC-ROC лучшей модели составляет 0.8617."
   ]
  },
  {
   "cell_type": "markdown",
   "metadata": {},
   "source": [
    "## Тестирование лучшей модели"
   ]
  },
  {
   "cell_type": "markdown",
   "metadata": {},
   "source": [
    "Проведем тестирование лучшей модели (Рандомный лес с гиперпараметром `class_weight='balanced'`) на тестовой выборке."
   ]
  },
  {
   "cell_type": "code",
   "execution_count": 27,
   "metadata": {
    "ExecuteTime": {
     "end_time": "2023-02-11T14:21:39.399243Z",
     "start_time": "2023-02-11T14:21:38.610224Z"
    }
   },
   "outputs": [
    {
     "data": {
      "text/plain": [
       "'Best score: 0.5945273631840796, AUC-ROC: 0.8617631989566595'"
      ]
     },
     "metadata": {},
     "output_type": "display_data"
    },
    {
     "name": "stdout",
     "output_type": "stream",
     "text": [
      "Wall time: 778 ms\n"
     ]
    }
   ],
   "source": [
    "%%time\n",
    "\n",
    "model = (RandomForestClassifier(n_estimators=101,\n",
    "                                max_depth=8,\n",
    "                                random_state=12345,\n",
    "                                class_weight='balanced'))\n",
    "model.fit(features_train, target_train)\n",
    "\n",
    "predicted_test = model.predict(features_test)\n",
    "\n",
    "f1_test = f1_score(target_test, predicted_test)\n",
    "\n",
    "probabilities_test = model.predict_proba(features_test)\n",
    "probabilities_one_test = probabilities_test[:, 1]\n",
    "\n",
    "auc_roc = roc_auc_score(target_test, probabilities_one_test)\n",
    "\n",
    "display(f'Best score: {f1_test}, AUC-ROC: {auc_roc}')"
   ]
  },
  {
   "cell_type": "markdown",
   "metadata": {},
   "source": [
    "### Вывод"
   ]
  },
  {
   "cell_type": "markdown",
   "metadata": {},
   "source": [
    "По итогам тестирования лучшей модели по итогам балансировки классов на тестовой выборке получены следующие метрики качества:\n",
    "* **F1: 0.5945**\n",
    "* **AUC-ROCK: 0.8618**"
   ]
  },
  {
   "cell_type": "markdown",
   "metadata": {},
   "source": [
    "## Общий вывод"
   ]
  },
  {
   "cell_type": "markdown",
   "metadata": {},
   "source": [
    "Нами были изучены и обработаны исторические данные о поведении клиентов и расторжении договоров с банком «Бета-Банка». Данные подготовлены для обучения математических моделей: проведено их численное категорирование и масштабирование. Обучены модели без учета дисбаланса классов. \n",
    "\n",
    "В данных мы наблюдаем дисбаланс классов, поэтому для повышения качества наших моделей нами была проведена их балансировка. По итогам балансировки проведено повторное обучение моделей с целью получить более точные предсказания.\n",
    "\n",
    "По итогам проведенных мероприятий по балансировке классов обучающей выборки лучший показатель метрики F1 составляет 0.6461 у Рандомного леса с гиперпараметрами:\n",
    "\n",
    "* `estimators: 101`;\n",
    "* `depth: 8`;\n",
    "* `class_weight: 'balanced'`.\n",
    "\n",
    "AUC-ROC лучшей модели составляет 0.8617.\n",
    "\n",
    "По итогам тестирования лучшей модели по итогам балансировки классов на тестовой выборке получены следующие метрики качества:\n",
    "\n",
    "* F1: 0.5945\n",
    "* AUC-ROCK: 0.8618"
   ]
  }
 ],
 "metadata": {
  "kernelspec": {
   "display_name": "Python 3 (ipykernel)",
   "language": "python",
   "name": "python3"
  },
  "language_info": {
   "codemirror_mode": {
    "name": "ipython",
    "version": 3
   },
   "file_extension": ".py",
   "mimetype": "text/x-python",
   "name": "python",
   "nbconvert_exporter": "python",
   "pygments_lexer": "ipython3",
   "version": "3.9.7"
  },
  "toc": {
   "base_numbering": 1,
   "nav_menu": {},
   "number_sections": true,
   "sideBar": true,
   "skip_h1_title": true,
   "title_cell": "Содержание",
   "title_sidebar": "Contents",
   "toc_cell": true,
   "toc_position": {
    "height": "calc(100% - 180px)",
    "left": "10px",
    "top": "150px",
    "width": "341.465px"
   },
   "toc_section_display": true,
   "toc_window_display": true
  }
 },
 "nbformat": 4,
 "nbformat_minor": 2
}
