{
 "cells": [
  {
   "cell_type": "markdown",
   "metadata": {
    "id": "E0vqbgi9ay0H"
   },
   "source": [
    "# Исследование данных сервиса Яндекс.Музыка"
   ]
  },
  {
   "cell_type": "markdown",
   "metadata": {
    "id": "VUC88oWjTJw2"
   },
   "source": [
    "На основе данных из Яндекс.Музыки сравним поведение пользователей двух столиц (Москва и Санкт-Петербург).\n",
    "\n",
    "**Цель исследования** — проверить три гипотезы:\n",
    "1. Активность пользователей зависит от дня недели.\n",
    "2. В понедельник утром в Москве преобладают одни жанры, а в Петербурге — другие. Так же и вечером пятницы преобладают разные жанры — в зависимости от города. \n",
    "3. Москва и Санкт-Петербург предпочитают разные жанры музыки.\n",
    "\n",
    "**Ход исследования:**\n",
    "\n",
    "1. Обзор данных.\n",
    "2. Предобработка данных.\n",
    "3. Проверка гипотез.\n",
    "\n"
   ]
  },
  {
   "cell_type": "markdown",
   "metadata": {
    "id": "Ml1hmfXC_Zcs"
   },
   "source": [
    "## Обзор данных"
   ]
  },
  {
   "cell_type": "markdown",
   "metadata": {},
   "source": [
    "Импортируем необходимые библиотеки."
   ]
  },
  {
   "cell_type": "code",
   "execution_count": 1,
   "metadata": {
    "ExecuteTime": {
     "end_time": "2023-02-07T09:50:37.045188Z",
     "start_time": "2023-02-07T09:50:36.332821Z"
    },
    "id": "AXN7PHPN_Zcs"
   },
   "outputs": [],
   "source": [
    "import pandas as pd"
   ]
  },
  {
   "cell_type": "code",
   "execution_count": 2,
   "metadata": {
    "ExecuteTime": {
     "end_time": "2023-02-07T09:50:37.318873Z",
     "start_time": "2023-02-07T09:50:37.048181Z"
    },
    "id": "fFVu7vqh_Zct"
   },
   "outputs": [],
   "source": [
    "# Чтение файла с сервера или с локального ПК\n",
    "try:\n",
    "    df = pd.read_csv('/datasets/yandex_music_project.csv')\n",
    "except:\n",
    "    df = pd.read_csv('D:\\\\Users\\\\BlackEdition\\\\Desktop\\\\Data Science\\\\'\n",
    "                     'Обучение в Яндекс\\\\2. Базовый Python\\\\yandex_music_project.csv')"
   ]
  },
  {
   "cell_type": "markdown",
   "metadata": {
    "id": "rDoOMd3uTqnZ"
   },
   "source": [
    "Выведем датасет на экран."
   ]
  },
  {
   "cell_type": "code",
   "execution_count": 3,
   "metadata": {
    "ExecuteTime": {
     "end_time": "2023-02-07T09:50:37.365749Z",
     "start_time": "2023-02-07T09:50:37.322864Z"
    },
    "id": "oWTVX3gW_Zct"
   },
   "outputs": [
    {
     "data": {
      "text/html": [
       "<div>\n",
       "<style scoped>\n",
       "    .dataframe tbody tr th:only-of-type {\n",
       "        vertical-align: middle;\n",
       "    }\n",
       "\n",
       "    .dataframe tbody tr th {\n",
       "        vertical-align: top;\n",
       "    }\n",
       "\n",
       "    .dataframe thead th {\n",
       "        text-align: right;\n",
       "    }\n",
       "</style>\n",
       "<table border=\"1\" class=\"dataframe\">\n",
       "  <thead>\n",
       "    <tr style=\"text-align: right;\">\n",
       "      <th></th>\n",
       "      <th>userID</th>\n",
       "      <th>Track</th>\n",
       "      <th>artist</th>\n",
       "      <th>genre</th>\n",
       "      <th>City</th>\n",
       "      <th>time</th>\n",
       "      <th>Day</th>\n",
       "    </tr>\n",
       "  </thead>\n",
       "  <tbody>\n",
       "    <tr>\n",
       "      <th>0</th>\n",
       "      <td>FFB692EC</td>\n",
       "      <td>Kamigata To Boots</td>\n",
       "      <td>The Mass Missile</td>\n",
       "      <td>rock</td>\n",
       "      <td>Saint-Petersburg</td>\n",
       "      <td>20:28:33</td>\n",
       "      <td>Wednesday</td>\n",
       "    </tr>\n",
       "    <tr>\n",
       "      <th>1</th>\n",
       "      <td>55204538</td>\n",
       "      <td>Delayed Because of Accident</td>\n",
       "      <td>Andreas Rönnberg</td>\n",
       "      <td>rock</td>\n",
       "      <td>Moscow</td>\n",
       "      <td>14:07:09</td>\n",
       "      <td>Friday</td>\n",
       "    </tr>\n",
       "    <tr>\n",
       "      <th>2</th>\n",
       "      <td>20EC38</td>\n",
       "      <td>Funiculì funiculà</td>\n",
       "      <td>Mario Lanza</td>\n",
       "      <td>pop</td>\n",
       "      <td>Saint-Petersburg</td>\n",
       "      <td>20:58:07</td>\n",
       "      <td>Wednesday</td>\n",
       "    </tr>\n",
       "    <tr>\n",
       "      <th>3</th>\n",
       "      <td>A3DD03C9</td>\n",
       "      <td>Dragons in the Sunset</td>\n",
       "      <td>Fire + Ice</td>\n",
       "      <td>folk</td>\n",
       "      <td>Saint-Petersburg</td>\n",
       "      <td>08:37:09</td>\n",
       "      <td>Monday</td>\n",
       "    </tr>\n",
       "    <tr>\n",
       "      <th>4</th>\n",
       "      <td>E2DC1FAE</td>\n",
       "      <td>Soul People</td>\n",
       "      <td>Space Echo</td>\n",
       "      <td>dance</td>\n",
       "      <td>Moscow</td>\n",
       "      <td>08:34:34</td>\n",
       "      <td>Monday</td>\n",
       "    </tr>\n",
       "    <tr>\n",
       "      <th>...</th>\n",
       "      <td>...</td>\n",
       "      <td>...</td>\n",
       "      <td>...</td>\n",
       "      <td>...</td>\n",
       "      <td>...</td>\n",
       "      <td>...</td>\n",
       "      <td>...</td>\n",
       "    </tr>\n",
       "    <tr>\n",
       "      <th>65074</th>\n",
       "      <td>729CBB09</td>\n",
       "      <td>My Name</td>\n",
       "      <td>McLean</td>\n",
       "      <td>rnb</td>\n",
       "      <td>Moscow</td>\n",
       "      <td>13:32:28</td>\n",
       "      <td>Wednesday</td>\n",
       "    </tr>\n",
       "    <tr>\n",
       "      <th>65075</th>\n",
       "      <td>D08D4A55</td>\n",
       "      <td>Maybe One Day (feat. Black Spade)</td>\n",
       "      <td>Blu &amp; Exile</td>\n",
       "      <td>hip</td>\n",
       "      <td>Saint-Petersburg</td>\n",
       "      <td>10:00:00</td>\n",
       "      <td>Monday</td>\n",
       "    </tr>\n",
       "    <tr>\n",
       "      <th>65076</th>\n",
       "      <td>C5E3A0D5</td>\n",
       "      <td>Jalopiina</td>\n",
       "      <td>NaN</td>\n",
       "      <td>industrial</td>\n",
       "      <td>Moscow</td>\n",
       "      <td>20:09:26</td>\n",
       "      <td>Friday</td>\n",
       "    </tr>\n",
       "    <tr>\n",
       "      <th>65077</th>\n",
       "      <td>321D0506</td>\n",
       "      <td>Freight Train</td>\n",
       "      <td>Chas McDevitt</td>\n",
       "      <td>rock</td>\n",
       "      <td>Moscow</td>\n",
       "      <td>21:43:59</td>\n",
       "      <td>Friday</td>\n",
       "    </tr>\n",
       "    <tr>\n",
       "      <th>65078</th>\n",
       "      <td>3A64EF84</td>\n",
       "      <td>Tell Me Sweet Little Lies</td>\n",
       "      <td>Monica Lopez</td>\n",
       "      <td>country</td>\n",
       "      <td>Moscow</td>\n",
       "      <td>21:59:46</td>\n",
       "      <td>Friday</td>\n",
       "    </tr>\n",
       "  </tbody>\n",
       "</table>\n",
       "<p>65079 rows × 7 columns</p>\n",
       "</div>"
      ],
      "text/plain": [
       "         userID                              Track            artist  \\\n",
       "0      FFB692EC                  Kamigata To Boots  The Mass Missile   \n",
       "1      55204538        Delayed Because of Accident  Andreas Rönnberg   \n",
       "2        20EC38                  Funiculì funiculà       Mario Lanza   \n",
       "3      A3DD03C9              Dragons in the Sunset        Fire + Ice   \n",
       "4      E2DC1FAE                        Soul People        Space Echo   \n",
       "...         ...                                ...               ...   \n",
       "65074  729CBB09                            My Name            McLean   \n",
       "65075  D08D4A55  Maybe One Day (feat. Black Spade)       Blu & Exile   \n",
       "65076  C5E3A0D5                          Jalopiina               NaN   \n",
       "65077  321D0506                      Freight Train     Chas McDevitt   \n",
       "65078  3A64EF84          Tell Me Sweet Little Lies      Monica Lopez   \n",
       "\n",
       "            genre            City        time        Day  \n",
       "0            rock  Saint-Petersburg  20:28:33  Wednesday  \n",
       "1            rock            Moscow  14:07:09     Friday  \n",
       "2             pop  Saint-Petersburg  20:58:07  Wednesday  \n",
       "3            folk  Saint-Petersburg  08:37:09     Monday  \n",
       "4           dance            Moscow  08:34:34     Monday  \n",
       "...           ...               ...       ...        ...  \n",
       "65074         rnb            Moscow  13:32:28  Wednesday  \n",
       "65075         hip  Saint-Petersburg  10:00:00     Monday  \n",
       "65076  industrial            Moscow  20:09:26     Friday  \n",
       "65077        rock            Moscow  21:43:59     Friday  \n",
       "65078     country            Moscow  21:59:46     Friday  \n",
       "\n",
       "[65079 rows x 7 columns]"
      ]
     },
     "metadata": {},
     "output_type": "display_data"
    }
   ],
   "source": [
    "display(df)"
   ]
  },
  {
   "cell_type": "markdown",
   "metadata": {
    "id": "EO73Kwic_Zct"
   },
   "source": [
    "Выведем общую информацию о датасете:"
   ]
  },
  {
   "cell_type": "code",
   "execution_count": 4,
   "metadata": {
    "ExecuteTime": {
     "end_time": "2023-02-07T09:50:37.428581Z",
     "start_time": "2023-02-07T09:50:37.367743Z"
    },
    "id": "DSf2kIb-_Zct"
   },
   "outputs": [
    {
     "name": "stdout",
     "output_type": "stream",
     "text": [
      "<class 'pandas.core.frame.DataFrame'>\n",
      "RangeIndex: 65079 entries, 0 to 65078\n",
      "Data columns (total 7 columns):\n",
      " #   Column    Non-Null Count  Dtype \n",
      "---  ------    --------------  ----- \n",
      " 0     userID  65079 non-null  object\n",
      " 1   Track     63848 non-null  object\n",
      " 2   artist    57876 non-null  object\n",
      " 3   genre     63881 non-null  object\n",
      " 4     City    65079 non-null  object\n",
      " 5   time      65079 non-null  object\n",
      " 6   Day       65079 non-null  object\n",
      "dtypes: object(7)\n",
      "memory usage: 3.5+ MB\n"
     ]
    }
   ],
   "source": [
    "df.info()"
   ]
  },
  {
   "cell_type": "markdown",
   "metadata": {
    "id": "TaQ2Iwbr_Zct"
   },
   "source": [
    "В таблице семь столбцов. Тип данных во всех столбцах — `object`.\n",
    "\n",
    "Согласно документации к данным:\n",
    "* `userID` — идентификатор пользователя;\n",
    "* `Track` — название трека;  \n",
    "* `artist` — имя исполнителя;\n",
    "* `genre` — название жанра;\n",
    "* `City` — город пользователя;\n",
    "* `time` — время начала прослушивания;\n",
    "* `Day` — день недели.\n",
    "\n",
    "В названиях колонок видны три нарушения стиля:\n",
    "1. Строчные буквы сочетаются с прописными.\n",
    "2. Встречаются пробелы.\n",
    "3. Столбец `userID` написан не через snake_case.\n",
    "\n",
    "В данных есть пропущенные значения.\n"
   ]
  },
  {
   "cell_type": "markdown",
   "metadata": {},
   "source": [
    "### Вывод"
   ]
  },
  {
   "cell_type": "markdown",
   "metadata": {
    "id": "MCB6-dXG_Zct"
   },
   "source": [
    "В каждой строке таблицы — данные о прослушанном треке. Часть колонок описывает саму композицию: название, исполнителя и жанр. Остальные данные рассказывают о пользователе: из какого он города, когда он слушал музыку. \n",
    "\n",
    "Предварительно можно утверждать, что, данных достаточно для проверки гипотез. Но встречаются пропуски в данных, а в названиях колонок — расхождения с хорошим стилем.\n",
    "\n",
    "Чтобы двигаться дальше, нужно устранить проблемы в данных."
   ]
  },
  {
   "cell_type": "markdown",
   "metadata": {
    "id": "SjYF6Ub9_Zct"
   },
   "source": [
    "## Предобработка данных"
   ]
  },
  {
   "cell_type": "markdown",
   "metadata": {
    "id": "dIaKXr29_Zct"
   },
   "source": [
    "### Стиль заголовков"
   ]
  },
  {
   "cell_type": "markdown",
   "metadata": {},
   "source": [
    "Посмотрим на стиль заголовков"
   ]
  },
  {
   "cell_type": "code",
   "execution_count": 5,
   "metadata": {
    "ExecuteTime": {
     "end_time": "2023-02-07T09:50:37.444537Z",
     "start_time": "2023-02-07T09:50:37.432572Z"
    },
    "id": "oKOTdF_Q_Zct"
   },
   "outputs": [
    {
     "data": {
      "text/plain": [
       "Index(['  userID', 'Track', 'artist', 'genre', '  City  ', 'time', 'Day'], dtype='object')"
      ]
     },
     "execution_count": 5,
     "metadata": {},
     "output_type": "execute_result"
    }
   ],
   "source": [
    "df.columns"
   ]
  },
  {
   "cell_type": "markdown",
   "metadata": {
    "id": "zj5534cv_Zct"
   },
   "source": [
    "Приведем названия колонок к единому стилю:\n",
    "* приведем названия к snake_case;\n",
    "* все символы сделаем строчными;\n",
    "* устраним пробелы."
   ]
  },
  {
   "cell_type": "code",
   "execution_count": 6,
   "metadata": {
    "ExecuteTime": {
     "end_time": "2023-02-07T09:50:37.477450Z",
     "start_time": "2023-02-07T09:50:37.449526Z"
    },
    "id": "ISlFqs5y_Zct"
   },
   "outputs": [],
   "source": [
    "# Приведение наименование столбцов к единому стилю\n",
    "df = df.rename(columns={'  userID': 'user_id',\n",
    "                        'Track': 'track',\n",
    "                        '  City  ': 'city',\n",
    "                        'Day': 'day'\n",
    "                        })"
   ]
  },
  {
   "cell_type": "markdown",
   "metadata": {
    "id": "1dqbh00J_Zct"
   },
   "source": [
    "Проверим результат."
   ]
  },
  {
   "cell_type": "code",
   "execution_count": 7,
   "metadata": {
    "ExecuteTime": {
     "end_time": "2023-02-07T09:50:37.492411Z",
     "start_time": "2023-02-07T09:50:37.482439Z"
    },
    "id": "d4NOAmTW_Zct"
   },
   "outputs": [
    {
     "data": {
      "text/plain": [
       "Index(['user_id', 'track', 'artist', 'genre', 'city', 'time', 'day'], dtype='object')"
      ]
     },
     "execution_count": 7,
     "metadata": {},
     "output_type": "execute_result"
    }
   ],
   "source": [
    "df.columns"
   ]
  },
  {
   "cell_type": "markdown",
   "metadata": {
    "id": "5ISfbcfY_Zct"
   },
   "source": [
    "### Пропуски значений"
   ]
  },
  {
   "cell_type": "markdown",
   "metadata": {},
   "source": [
    "Посмотрим на пропущенные значения."
   ]
  },
  {
   "cell_type": "code",
   "execution_count": 8,
   "metadata": {
    "ExecuteTime": {
     "end_time": "2023-02-07T09:50:37.554245Z",
     "start_time": "2023-02-07T09:50:37.495404Z"
    },
    "id": "RskX29qr_Zct"
   },
   "outputs": [
    {
     "data": {
      "text/plain": [
       "user_id       0\n",
       "track      1231\n",
       "artist     7203\n",
       "genre      1198\n",
       "city          0\n",
       "time          0\n",
       "day           0\n",
       "dtype: int64"
      ]
     },
     "execution_count": 8,
     "metadata": {},
     "output_type": "execute_result"
    }
   ],
   "source": [
    "df.isna().sum()"
   ]
  },
  {
   "cell_type": "markdown",
   "metadata": {
    "id": "qubhgnlO_Zct"
   },
   "source": [
    "Пропуски в `track` и `artist` не важны для нашей работы. Достаточно заменить их явными обозначениями.\n",
    "\n",
    "Но пропуски в `genre` могут помешать сравнению музыкальных вкусов в Москве и Санкт-Петербурге. На практике было бы правильно установить причину пропусков и восстановить данные. Такой возможности нет в учебном проекте. Придётся:\n",
    "* заполнить и эти пропуски явными обозначениями;\n",
    "* оценить, насколько они повредят расчётам."
   ]
  },
  {
   "cell_type": "markdown",
   "metadata": {
    "id": "fSv2laPA_Zct"
   },
   "source": [
    "Необходимо заменить пропущенные значения в столбцах `track`, `artist` и `genre` на строку `'unknown'`. Для этого создадим список `columns_to_replace`, переберем его элементы циклом `for` и для каждого столбца заменим пропущенные значения:"
   ]
  },
  {
   "cell_type": "code",
   "execution_count": 9,
   "metadata": {
    "ExecuteTime": {
     "end_time": "2023-02-07T09:50:37.615957Z",
     "start_time": "2023-02-07T09:50:37.557237Z"
    },
    "id": "KplB5qWs_Zct"
   },
   "outputs": [],
   "source": [
    "columns_to_replace = ['track', 'artist', 'genre']\n",
    "\n",
    "# Перебор названий столбцов в цикле и замена пропущенные значения на 'unknown'\n",
    "for row in columns_to_replace:\n",
    "    df[row] = df[row].fillna('unknown')"
   ]
  },
  {
   "cell_type": "markdown",
   "metadata": {
    "id": "Ilsm-MZo_Zct"
   },
   "source": [
    "Убедимся, что в таблице не осталось пропусков. Для этого ещё раз посчитаем пропущенные значения."
   ]
  },
  {
   "cell_type": "code",
   "execution_count": 10,
   "metadata": {
    "ExecuteTime": {
     "end_time": "2023-02-07T09:50:37.679785Z",
     "start_time": "2023-02-07T09:50:37.619947Z"
    },
    "id": "Tq4nYRX4_Zct"
   },
   "outputs": [
    {
     "data": {
      "text/plain": [
       "user_id    0\n",
       "track      0\n",
       "artist     0\n",
       "genre      0\n",
       "city       0\n",
       "time       0\n",
       "day        0\n",
       "dtype: int64"
      ]
     },
     "execution_count": 10,
     "metadata": {},
     "output_type": "execute_result"
    }
   ],
   "source": [
    "df.isna().sum()"
   ]
  },
  {
   "cell_type": "markdown",
   "metadata": {
    "id": "BWKRtBJ3_Zct"
   },
   "source": [
    "### Дубликаты"
   ]
  },
  {
   "cell_type": "markdown",
   "metadata": {},
   "source": [
    "Посчитаем явные дубликаты в таблице:"
   ]
  },
  {
   "cell_type": "code",
   "execution_count": 11,
   "metadata": {
    "ExecuteTime": {
     "end_time": "2023-02-07T09:50:37.821329Z",
     "start_time": "2023-02-07T09:50:37.682777Z"
    },
    "id": "36eES_S0_Zct"
   },
   "outputs": [
    {
     "data": {
      "text/plain": [
       "3826"
      ]
     },
     "execution_count": 11,
     "metadata": {},
     "output_type": "execute_result"
    }
   ],
   "source": [
    "df.duplicated().sum()"
   ]
  },
  {
   "cell_type": "markdown",
   "metadata": {
    "id": "Ot25h6XR_Zct"
   },
   "source": [
    "В датасете 3826 явных дубликатов, соответственно удалим их."
   ]
  },
  {
   "cell_type": "code",
   "execution_count": 12,
   "metadata": {
    "ExecuteTime": {
     "end_time": "2023-02-07T09:50:37.978123Z",
     "start_time": "2023-02-07T09:50:37.827311Z"
    },
    "id": "exFHq6tt_Zct"
   },
   "outputs": [],
   "source": [
    "df = df.drop_duplicates().reset_index(drop=True)"
   ]
  },
  {
   "cell_type": "markdown",
   "metadata": {
    "id": "Im2YwBEG_Zct"
   },
   "source": [
    "Проверим успешность удаления:"
   ]
  },
  {
   "cell_type": "code",
   "execution_count": 13,
   "metadata": {
    "ExecuteTime": {
     "end_time": "2023-02-07T09:50:38.101794Z",
     "start_time": "2023-02-07T09:50:37.982111Z"
    },
    "id": "-8PuNWQ0_Zct"
   },
   "outputs": [
    {
     "data": {
      "text/plain": [
       "0"
      ]
     },
     "execution_count": 13,
     "metadata": {},
     "output_type": "execute_result"
    }
   ],
   "source": [
    "df.duplicated().sum()"
   ]
  },
  {
   "cell_type": "markdown",
   "metadata": {
    "id": "QlFBsxAr_Zct"
   },
   "source": [
    "Избавимся от неявных дубликатов в колонке `genre`. Выведем на экран список уникальных названий жанров, отсортированный в алфавитном порядке."
   ]
  },
  {
   "cell_type": "code",
   "execution_count": 14,
   "metadata": {
    "ExecuteTime": {
     "end_time": "2023-02-07T09:50:38.179657Z",
     "start_time": "2023-02-07T09:50:38.103787Z"
    },
    "id": "JIUcqzZN_Zct"
   },
   "outputs": [
    {
     "data": {
      "text/plain": [
       "array(['acid', 'acoustic', 'action', 'adult', 'africa', 'afrikaans',\n",
       "       'alternative', 'alternativepunk', 'ambient', 'americana',\n",
       "       'animated', 'anime', 'arabesk', 'arabic', 'arena',\n",
       "       'argentinetango', 'art', 'audiobook', 'author', 'avantgarde',\n",
       "       'axé', 'baile', 'balkan', 'beats', 'bigroom', 'black', 'bluegrass',\n",
       "       'blues', 'bollywood', 'bossa', 'brazilian', 'breakbeat', 'breaks',\n",
       "       'broadway', 'cantautori', 'cantopop', 'canzone', 'caribbean',\n",
       "       'caucasian', 'celtic', 'chamber', 'chanson', 'children', 'chill',\n",
       "       'chinese', 'choral', 'christian', 'christmas', 'classical',\n",
       "       'classicmetal', 'club', 'colombian', 'comedy', 'conjazz',\n",
       "       'contemporary', 'country', 'cuban', 'dance', 'dancehall',\n",
       "       'dancepop', 'dark', 'death', 'deep', 'deutschrock', 'deutschspr',\n",
       "       'dirty', 'disco', 'dnb', 'documentary', 'downbeat', 'downtempo',\n",
       "       'drum', 'dub', 'dubstep', 'eastern', 'easy', 'electronic',\n",
       "       'electropop', 'emo', 'entehno', 'epicmetal', 'estrada', 'ethnic',\n",
       "       'eurofolk', 'european', 'experimental', 'extrememetal', 'fado',\n",
       "       'fairytail', 'film', 'fitness', 'flamenco', 'folk', 'folklore',\n",
       "       'folkmetal', 'folkrock', 'folktronica', 'forró', 'frankreich',\n",
       "       'französisch', 'french', 'funk', 'future', 'gangsta', 'garage',\n",
       "       'german', 'ghazal', 'gitarre', 'glitch', 'gospel', 'gothic',\n",
       "       'grime', 'grunge', 'gypsy', 'handsup', \"hard'n'heavy\", 'hardcore',\n",
       "       'hardstyle', 'hardtechno', 'hip', 'hip-hop', 'hiphop',\n",
       "       'historisch', 'holiday', 'hop', 'horror', 'house', 'hymn', 'idm',\n",
       "       'independent', 'indian', 'indie', 'indipop', 'industrial',\n",
       "       'inspirational', 'instrumental', 'international', 'irish', 'jam',\n",
       "       'japanese', 'jazz', 'jewish', 'jpop', 'jungle', 'k-pop',\n",
       "       'karadeniz', 'karaoke', 'kayokyoku', 'korean', 'laiko', 'latin',\n",
       "       'latino', 'leftfield', 'local', 'lounge', 'loungeelectronic',\n",
       "       'lovers', 'malaysian', 'mandopop', 'marschmusik', 'meditative',\n",
       "       'mediterranean', 'melodic', 'metal', 'metalcore', 'mexican',\n",
       "       'middle', 'minimal', 'miscellaneous', 'modern', 'mood', 'mpb',\n",
       "       'muslim', 'native', 'neoklassik', 'neue', 'new', 'newage',\n",
       "       'newwave', 'nu', 'nujazz', 'numetal', 'oceania', 'old', 'opera',\n",
       "       'orchestral', 'other', 'piano', 'podcasts', 'pop', 'popdance',\n",
       "       'popelectronic', 'popeurodance', 'poprussian', 'post',\n",
       "       'posthardcore', 'postrock', 'power', 'progmetal', 'progressive',\n",
       "       'psychedelic', 'punjabi', 'punk', 'quebecois', 'ragga', 'ram',\n",
       "       'rancheras', 'rap', 'rave', 'reggae', 'reggaeton', 'regional',\n",
       "       'relax', 'religious', 'retro', 'rhythm', 'rnb', 'rnr', 'rock',\n",
       "       'rockabilly', 'rockalternative', 'rockindie', 'rockother',\n",
       "       'romance', 'roots', 'ruspop', 'rusrap', 'rusrock', 'russian',\n",
       "       'salsa', 'samba', 'scenic', 'schlager', 'self', 'sertanejo',\n",
       "       'shanson', 'shoegazing', 'showtunes', 'singer', 'ska', 'skarock',\n",
       "       'slow', 'smooth', 'soft', 'soul', 'soulful', 'sound', 'soundtrack',\n",
       "       'southern', 'specialty', 'speech', 'spiritual', 'sport',\n",
       "       'stonerrock', 'surf', 'swing', 'synthpop', 'synthrock',\n",
       "       'sängerportrait', 'tango', 'tanzorchester', 'taraftar', 'tatar',\n",
       "       'tech', 'techno', 'teen', 'thrash', 'top', 'traditional',\n",
       "       'tradjazz', 'trance', 'tribal', 'trip', 'triphop', 'tropical',\n",
       "       'türk', 'türkçe', 'ukrrock', 'unknown', 'urban', 'uzbek',\n",
       "       'variété', 'vi', 'videogame', 'vocal', 'western', 'world',\n",
       "       'worldbeat', 'ïîï', 'электроника'], dtype=object)"
      ]
     },
     "execution_count": 14,
     "metadata": {},
     "output_type": "execute_result"
    }
   ],
   "source": [
    "# Вывод на экран списка уникальных названий жанров для поиска неявных дубликатов\n",
    "df['genre'].sort_values().unique()"
   ]
  },
  {
   "cell_type": "markdown",
   "metadata": {},
   "source": [
    "Приведем неявные дубликаты к единому стилю."
   ]
  },
  {
   "cell_type": "code",
   "execution_count": 15,
   "metadata": {
    "ExecuteTime": {
     "end_time": "2023-02-07T09:50:38.195613Z",
     "start_time": "2023-02-07T09:50:38.183646Z"
    },
    "id": "ErNDkmns_Zct"
   },
   "outputs": [],
   "source": [
    "# Функция для замены неявных дубликатов\n",
    "def replace_wrong_genres(wrong_genres, correct_genre):\n",
    "    for wrong_genre in wrong_genres:\n",
    "        df['genre'] = df['genre'].replace(wrong_genre, correct_genre)"
   ]
  },
  {
   "cell_type": "code",
   "execution_count": 16,
   "metadata": {
    "ExecuteTime": {
     "end_time": "2023-02-07T09:50:38.227527Z",
     "start_time": "2023-02-07T09:50:38.198605Z"
    },
    "id": "YN5i2hpmSo09"
   },
   "outputs": [],
   "source": [
    "wrong_genres_1 = ['hip', 'hop', 'hip-hop']  # Дубликаты\n",
    "correct_genre_1 = 'hiphop'  # Уникальные значения\n",
    "\n",
    "wrong_genres_2 = ['электроника']  # Дубликаты\n",
    "correct_genre_2 = 'electronic'  # Уникальные значения\n",
    "\n",
    "# Вызов функции для замены неявных дубликатов\n",
    "replace_wrong_genres(wrong_genres_1, correct_genre_1)\n",
    "replace_wrong_genres(wrong_genres_2, correct_genre_2)"
   ]
  },
  {
   "cell_type": "markdown",
   "metadata": {},
   "source": [
    "Проверим успешность замены."
   ]
  },
  {
   "cell_type": "code",
   "execution_count": 17,
   "metadata": {
    "ExecuteTime": {
     "end_time": "2023-02-07T09:50:38.320280Z",
     "start_time": "2023-02-07T09:50:38.230521Z"
    },
    "id": "wvixALnFG15m"
   },
   "outputs": [
    {
     "data": {
      "text/plain": [
       "array(['acid', 'acoustic', 'action', 'adult', 'africa', 'afrikaans',\n",
       "       'alternative', 'alternativepunk', 'ambient', 'americana',\n",
       "       'animated', 'anime', 'arabesk', 'arabic', 'arena',\n",
       "       'argentinetango', 'art', 'audiobook', 'author', 'avantgarde',\n",
       "       'axé', 'baile', 'balkan', 'beats', 'bigroom', 'black', 'bluegrass',\n",
       "       'blues', 'bollywood', 'bossa', 'brazilian', 'breakbeat', 'breaks',\n",
       "       'broadway', 'cantautori', 'cantopop', 'canzone', 'caribbean',\n",
       "       'caucasian', 'celtic', 'chamber', 'chanson', 'children', 'chill',\n",
       "       'chinese', 'choral', 'christian', 'christmas', 'classical',\n",
       "       'classicmetal', 'club', 'colombian', 'comedy', 'conjazz',\n",
       "       'contemporary', 'country', 'cuban', 'dance', 'dancehall',\n",
       "       'dancepop', 'dark', 'death', 'deep', 'deutschrock', 'deutschspr',\n",
       "       'dirty', 'disco', 'dnb', 'documentary', 'downbeat', 'downtempo',\n",
       "       'drum', 'dub', 'dubstep', 'eastern', 'easy', 'electronic',\n",
       "       'electropop', 'emo', 'entehno', 'epicmetal', 'estrada', 'ethnic',\n",
       "       'eurofolk', 'european', 'experimental', 'extrememetal', 'fado',\n",
       "       'fairytail', 'film', 'fitness', 'flamenco', 'folk', 'folklore',\n",
       "       'folkmetal', 'folkrock', 'folktronica', 'forró', 'frankreich',\n",
       "       'französisch', 'french', 'funk', 'future', 'gangsta', 'garage',\n",
       "       'german', 'ghazal', 'gitarre', 'glitch', 'gospel', 'gothic',\n",
       "       'grime', 'grunge', 'gypsy', 'handsup', \"hard'n'heavy\", 'hardcore',\n",
       "       'hardstyle', 'hardtechno', 'hiphop', 'historisch', 'holiday',\n",
       "       'horror', 'house', 'hymn', 'idm', 'independent', 'indian', 'indie',\n",
       "       'indipop', 'industrial', 'inspirational', 'instrumental',\n",
       "       'international', 'irish', 'jam', 'japanese', 'jazz', 'jewish',\n",
       "       'jpop', 'jungle', 'k-pop', 'karadeniz', 'karaoke', 'kayokyoku',\n",
       "       'korean', 'laiko', 'latin', 'latino', 'leftfield', 'local',\n",
       "       'lounge', 'loungeelectronic', 'lovers', 'malaysian', 'mandopop',\n",
       "       'marschmusik', 'meditative', 'mediterranean', 'melodic', 'metal',\n",
       "       'metalcore', 'mexican', 'middle', 'minimal', 'miscellaneous',\n",
       "       'modern', 'mood', 'mpb', 'muslim', 'native', 'neoklassik', 'neue',\n",
       "       'new', 'newage', 'newwave', 'nu', 'nujazz', 'numetal', 'oceania',\n",
       "       'old', 'opera', 'orchestral', 'other', 'piano', 'podcasts', 'pop',\n",
       "       'popdance', 'popelectronic', 'popeurodance', 'poprussian', 'post',\n",
       "       'posthardcore', 'postrock', 'power', 'progmetal', 'progressive',\n",
       "       'psychedelic', 'punjabi', 'punk', 'quebecois', 'ragga', 'ram',\n",
       "       'rancheras', 'rap', 'rave', 'reggae', 'reggaeton', 'regional',\n",
       "       'relax', 'religious', 'retro', 'rhythm', 'rnb', 'rnr', 'rock',\n",
       "       'rockabilly', 'rockalternative', 'rockindie', 'rockother',\n",
       "       'romance', 'roots', 'ruspop', 'rusrap', 'rusrock', 'russian',\n",
       "       'salsa', 'samba', 'scenic', 'schlager', 'self', 'sertanejo',\n",
       "       'shanson', 'shoegazing', 'showtunes', 'singer', 'ska', 'skarock',\n",
       "       'slow', 'smooth', 'soft', 'soul', 'soulful', 'sound', 'soundtrack',\n",
       "       'southern', 'specialty', 'speech', 'spiritual', 'sport',\n",
       "       'stonerrock', 'surf', 'swing', 'synthpop', 'synthrock',\n",
       "       'sängerportrait', 'tango', 'tanzorchester', 'taraftar', 'tatar',\n",
       "       'tech', 'techno', 'teen', 'thrash', 'top', 'traditional',\n",
       "       'tradjazz', 'trance', 'tribal', 'trip', 'triphop', 'tropical',\n",
       "       'türk', 'türkçe', 'ukrrock', 'unknown', 'urban', 'uzbek',\n",
       "       'variété', 'vi', 'videogame', 'vocal', 'western', 'world',\n",
       "       'worldbeat', 'ïîï'], dtype=object)"
      ]
     },
     "execution_count": 17,
     "metadata": {},
     "output_type": "execute_result"
    }
   ],
   "source": [
    "df['genre'].sort_values().unique()"
   ]
  },
  {
   "cell_type": "markdown",
   "metadata": {},
   "source": [
    "### Вывод"
   ]
  },
  {
   "cell_type": "markdown",
   "metadata": {
    "id": "jz6a9-7HQUDd"
   },
   "source": [
    "Предобработка обнаружила три проблемы в данных:\n",
    "\n",
    "- нарушения в стиле заголовков,\n",
    "- пропущенные значения,\n",
    "- дубликаты — явные и неявные.\n",
    "\n",
    "Теперь можно перейти к проверке гипотез. "
   ]
  },
  {
   "cell_type": "markdown",
   "metadata": {
    "id": "WttZHXH0SqKk"
   },
   "source": [
    "## Проверка гипотез"
   ]
  },
  {
   "cell_type": "markdown",
   "metadata": {
    "id": "Im936VVi_Zcu"
   },
   "source": [
    "### Сравнение поведения пользователей двух столиц"
   ]
  },
  {
   "cell_type": "markdown",
   "metadata": {
    "id": "nwt_MuaL_Zcu"
   },
   "source": [
    "Первая гипотеза утверждает, что пользователи по-разному слушают музыку в Москве и Санкт-Петербурге. Проверим это предположение по данным о трёх днях недели — понедельнике, среде и пятнице. Для этого:\n",
    "\n",
    "* Разделим пользователей Москвы и Санкт-Петербурга.\n",
    "* Сравним, сколько треков послушала каждая группа пользователей в понедельник, среду и пятницу."
   ]
  },
  {
   "cell_type": "code",
   "execution_count": 18,
   "metadata": {
    "ExecuteTime": {
     "end_time": "2023-02-07T09:50:38.359428Z",
     "start_time": "2023-02-07T09:50:38.322275Z"
    },
    "id": "0_Qs96oh_Zcu"
   },
   "outputs": [
    {
     "data": {
      "text/plain": [
       "city\n",
       "Moscow              42741\n",
       "Saint-Petersburg    18512\n",
       "Name: city, dtype: int64"
      ]
     },
     "execution_count": 18,
     "metadata": {},
     "output_type": "execute_result"
    }
   ],
   "source": [
    "df.groupby('city')['city'].count()"
   ]
  },
  {
   "cell_type": "markdown",
   "metadata": {
    "id": "dzli3w8o_Zcu"
   },
   "source": [
    "В Москве прослушиваний больше, чем в Петербурге. Из этого не следует, что московские пользователи чаще слушают музыку. Просто самих пользователей в Москве больше.\n",
    "\n",
    "Теперь сгруппируем данные по дню недели и подсчитаем прослушивания в понедельник, среду и пятницу."
   ]
  },
  {
   "cell_type": "code",
   "execution_count": 19,
   "metadata": {
    "ExecuteTime": {
     "end_time": "2023-02-07T09:50:38.389348Z",
     "start_time": "2023-02-07T09:50:38.365413Z"
    },
    "id": "uZMKjiJz_Zcu"
   },
   "outputs": [
    {
     "data": {
      "text/plain": [
       "day\n",
       "Friday       21840\n",
       "Monday       21354\n",
       "Wednesday    18059\n",
       "Name: day, dtype: int64"
      ]
     },
     "execution_count": 19,
     "metadata": {},
     "output_type": "execute_result"
    }
   ],
   "source": [
    "df.groupby('day')['day'].count()"
   ]
  },
  {
   "cell_type": "markdown",
   "metadata": {
    "id": "cC2tNrlL_Zcu"
   },
   "source": [
    "В среднем пользователи из двух городов менее активны по средам.\n",
    "\n",
    "Посмотрим на каждый город в отдельности."
   ]
  },
  {
   "cell_type": "code",
   "execution_count": 20,
   "metadata": {
    "ExecuteTime": {
     "end_time": "2023-02-07T09:50:38.405307Z",
     "start_time": "2023-02-07T09:50:38.392342Z"
    },
    "id": "Nz3GdQB1_Zcu"
   },
   "outputs": [],
   "source": [
    "'''Функция number_tracks()\n",
    "\n",
    "Считает количество прослушиваний для конкретного города и дня.\n",
    "С помощью последовательной фильтрации с логической индексацией она \n",
    "получает из исходной таблицы строки с нужным днём,\n",
    "затем из результата фильтрует строки с нужным городом,\n",
    "методом count() считает количество значений в колонке user_id. \n",
    "Это количество функция вернёт в качестве результата.\n",
    "'''\n",
    "\n",
    "\n",
    "def number_tracks(day, city):\n",
    "    day = day\n",
    "    city = city\n",
    "    track_list = df[df['day'] == day]\n",
    "    track_list = track_list[track_list['city'] == city]\n",
    "    track_list_count = track_list['user_id'].count()\n",
    "    return track_list_count"
   ]
  },
  {
   "cell_type": "markdown",
   "metadata": {
    "id": "ytf7xFrFJQ2r"
   },
   "source": [
    "Получим данные для каждого города в каждый из трёх дней."
   ]
  },
  {
   "cell_type": "code",
   "execution_count": 21,
   "metadata": {
    "ExecuteTime": {
     "end_time": "2023-02-07T09:50:38.546497Z",
     "start_time": "2023-02-07T09:50:38.408299Z"
    },
    "scrolled": true
   },
   "outputs": [
    {
     "name": "stdout",
     "output_type": "stream",
     "text": [
      "Monday, Moscow, 15740\n",
      "Wednesday, Moscow, 11056\n",
      "Friday, Moscow, 15945\n",
      "Monday, Saint-Petersburg, 5614\n",
      "Wednesday, Saint-Petersburg, 7003\n",
      "Friday, Saint-Petersburg, 5895\n"
     ]
    }
   ],
   "source": [
    "days = ['Monday', 'Wednesday', 'Friday']\n",
    "cities = ['Moscow', 'Saint-Petersburg']\n",
    "\n",
    "# Для каждого дня/города выведем количество прослушиваний\n",
    "for city in cities:\n",
    "    for day in days:\n",
    "        print(f'{day}, {city}, {number_tracks(day, city)}')"
   ]
  },
  {
   "cell_type": "markdown",
   "metadata": {},
   "source": [
    "Создадим датафрейм с результатами."
   ]
  },
  {
   "cell_type": "code",
   "execution_count": 22,
   "metadata": {
    "ExecuteTime": {
     "end_time": "2023-02-07T09:50:38.578098Z",
     "start_time": "2023-02-07T09:50:38.549486Z"
    },
    "id": "APAcLpOr_Zcu"
   },
   "outputs": [
    {
     "data": {
      "text/html": [
       "<div>\n",
       "<style scoped>\n",
       "    .dataframe tbody tr th:only-of-type {\n",
       "        vertical-align: middle;\n",
       "    }\n",
       "\n",
       "    .dataframe tbody tr th {\n",
       "        vertical-align: top;\n",
       "    }\n",
       "\n",
       "    .dataframe thead th {\n",
       "        text-align: right;\n",
       "    }\n",
       "</style>\n",
       "<table border=\"1\" class=\"dataframe\">\n",
       "  <thead>\n",
       "    <tr style=\"text-align: right;\">\n",
       "      <th></th>\n",
       "      <th>city</th>\n",
       "      <th>monday</th>\n",
       "      <th>wednesday</th>\n",
       "      <th>friday</th>\n",
       "    </tr>\n",
       "  </thead>\n",
       "  <tbody>\n",
       "    <tr>\n",
       "      <th>0</th>\n",
       "      <td>Moscow</td>\n",
       "      <td>15740</td>\n",
       "      <td>11056</td>\n",
       "      <td>15945</td>\n",
       "    </tr>\n",
       "    <tr>\n",
       "      <th>1</th>\n",
       "      <td>Saint-Petersburg</td>\n",
       "      <td>5614</td>\n",
       "      <td>7003</td>\n",
       "      <td>5895</td>\n",
       "    </tr>\n",
       "  </tbody>\n",
       "</table>\n",
       "</div>"
      ],
      "text/plain": [
       "               city  monday  wednesday  friday\n",
       "0            Moscow   15740      11056   15945\n",
       "1  Saint-Petersburg    5614       7003    5895"
      ]
     },
     "execution_count": 22,
     "metadata": {},
     "output_type": "execute_result"
    }
   ],
   "source": [
    "columns = ['city', 'monday', 'wednesday', 'friday']\n",
    "data = [\n",
    "    ['Moscow', 15740, 11056, 15945],\n",
    "    ['Saint-Petersburg', 5614, 7003, 5895]\n",
    "    ]\n",
    "\n",
    "auditions_number = pd.DataFrame(data=data, columns=columns)\n",
    "auditions_number"
   ]
  },
  {
   "cell_type": "markdown",
   "metadata": {
    "id": "-EgPIHYu_Zcu"
   },
   "source": [
    "**Выводы**\n",
    "\n",
    "Данные показывают разницу поведения пользователей:\n",
    "\n",
    "- В Москве пик прослушиваний приходится на понедельник и пятницу, а в среду заметен спад.\n",
    "- В Петербурге, наоборот, больше слушают музыку по средам. Активность в понедельник и пятницу здесь почти в равной мере уступает среде.\n",
    "\n",
    "Значит, данные говорят в пользу первой гипотезы."
   ]
  },
  {
   "cell_type": "markdown",
   "metadata": {
    "id": "atZAxtq4_Zcu"
   },
   "source": [
    "### Музыка в начале и в конце недели"
   ]
  },
  {
   "cell_type": "markdown",
   "metadata": {
    "id": "eXrQqXFH_Zcu"
   },
   "source": [
    "Согласно второй гипотезе, утром в понедельник в Москве преобладают одни жанры, а в Петербурге — другие. Так же и вечером пятницы преобладают разные жанры — в зависимости от города."
   ]
  },
  {
   "cell_type": "markdown",
   "metadata": {
    "id": "S8UcW6Hw_Zcu"
   },
   "source": [
    "Сохраним таблицы с данными в двух переменных:\n",
    "* по Москве — в `moscow_general`;\n",
    "* по Санкт-Петербургу — в `spb_general`."
   ]
  },
  {
   "cell_type": "code",
   "execution_count": 23,
   "metadata": {
    "ExecuteTime": {
     "end_time": "2023-02-07T09:50:38.625972Z",
     "start_time": "2023-02-07T09:50:38.581092Z"
    },
    "id": "qeaFfM_P_Zcu"
   },
   "outputs": [
    {
     "data": {
      "text/html": [
       "<div>\n",
       "<style scoped>\n",
       "    .dataframe tbody tr th:only-of-type {\n",
       "        vertical-align: middle;\n",
       "    }\n",
       "\n",
       "    .dataframe tbody tr th {\n",
       "        vertical-align: top;\n",
       "    }\n",
       "\n",
       "    .dataframe thead th {\n",
       "        text-align: right;\n",
       "    }\n",
       "</style>\n",
       "<table border=\"1\" class=\"dataframe\">\n",
       "  <thead>\n",
       "    <tr style=\"text-align: right;\">\n",
       "      <th></th>\n",
       "      <th>user_id</th>\n",
       "      <th>track</th>\n",
       "      <th>artist</th>\n",
       "      <th>genre</th>\n",
       "      <th>city</th>\n",
       "      <th>time</th>\n",
       "      <th>day</th>\n",
       "    </tr>\n",
       "  </thead>\n",
       "  <tbody>\n",
       "    <tr>\n",
       "      <th>1</th>\n",
       "      <td>55204538</td>\n",
       "      <td>Delayed Because of Accident</td>\n",
       "      <td>Andreas Rönnberg</td>\n",
       "      <td>rock</td>\n",
       "      <td>Moscow</td>\n",
       "      <td>14:07:09</td>\n",
       "      <td>Friday</td>\n",
       "    </tr>\n",
       "    <tr>\n",
       "      <th>4</th>\n",
       "      <td>E2DC1FAE</td>\n",
       "      <td>Soul People</td>\n",
       "      <td>Space Echo</td>\n",
       "      <td>dance</td>\n",
       "      <td>Moscow</td>\n",
       "      <td>08:34:34</td>\n",
       "      <td>Monday</td>\n",
       "    </tr>\n",
       "    <tr>\n",
       "      <th>6</th>\n",
       "      <td>4CB90AA5</td>\n",
       "      <td>True</td>\n",
       "      <td>Roman Messer</td>\n",
       "      <td>dance</td>\n",
       "      <td>Moscow</td>\n",
       "      <td>13:00:07</td>\n",
       "      <td>Wednesday</td>\n",
       "    </tr>\n",
       "    <tr>\n",
       "      <th>7</th>\n",
       "      <td>F03E1C1F</td>\n",
       "      <td>Feeling This Way</td>\n",
       "      <td>Polina Griffith</td>\n",
       "      <td>dance</td>\n",
       "      <td>Moscow</td>\n",
       "      <td>20:47:49</td>\n",
       "      <td>Wednesday</td>\n",
       "    </tr>\n",
       "    <tr>\n",
       "      <th>8</th>\n",
       "      <td>8FA1D3BE</td>\n",
       "      <td>И вновь продолжается бой</td>\n",
       "      <td>unknown</td>\n",
       "      <td>ruspop</td>\n",
       "      <td>Moscow</td>\n",
       "      <td>09:17:40</td>\n",
       "      <td>Friday</td>\n",
       "    </tr>\n",
       "  </tbody>\n",
       "</table>\n",
       "</div>"
      ],
      "text/plain": [
       "    user_id                        track            artist   genre    city  \\\n",
       "1  55204538  Delayed Because of Accident  Andreas Rönnberg    rock  Moscow   \n",
       "4  E2DC1FAE                  Soul People        Space Echo   dance  Moscow   \n",
       "6  4CB90AA5                         True      Roman Messer   dance  Moscow   \n",
       "7  F03E1C1F             Feeling This Way   Polina Griffith   dance  Moscow   \n",
       "8  8FA1D3BE     И вновь продолжается бой           unknown  ruspop  Moscow   \n",
       "\n",
       "       time        day  \n",
       "1  14:07:09     Friday  \n",
       "4  08:34:34     Monday  \n",
       "6  13:00:07  Wednesday  \n",
       "7  20:47:49  Wednesday  \n",
       "8  09:17:40     Friday  "
      ]
     },
     "execution_count": 23,
     "metadata": {},
     "output_type": "execute_result"
    }
   ],
   "source": [
    "moscow_general = df[df['city'] == 'Moscow']\n",
    "moscow_general.head()"
   ]
  },
  {
   "cell_type": "code",
   "execution_count": 24,
   "metadata": {
    "ExecuteTime": {
     "end_time": "2023-02-07T09:50:38.672847Z",
     "start_time": "2023-02-07T09:50:38.629970Z"
    },
    "id": "ORaVRKto_Zcu"
   },
   "outputs": [
    {
     "data": {
      "text/html": [
       "<div>\n",
       "<style scoped>\n",
       "    .dataframe tbody tr th:only-of-type {\n",
       "        vertical-align: middle;\n",
       "    }\n",
       "\n",
       "    .dataframe tbody tr th {\n",
       "        vertical-align: top;\n",
       "    }\n",
       "\n",
       "    .dataframe thead th {\n",
       "        text-align: right;\n",
       "    }\n",
       "</style>\n",
       "<table border=\"1\" class=\"dataframe\">\n",
       "  <thead>\n",
       "    <tr style=\"text-align: right;\">\n",
       "      <th></th>\n",
       "      <th>user_id</th>\n",
       "      <th>track</th>\n",
       "      <th>artist</th>\n",
       "      <th>genre</th>\n",
       "      <th>city</th>\n",
       "      <th>time</th>\n",
       "      <th>day</th>\n",
       "    </tr>\n",
       "  </thead>\n",
       "  <tbody>\n",
       "    <tr>\n",
       "      <th>0</th>\n",
       "      <td>FFB692EC</td>\n",
       "      <td>Kamigata To Boots</td>\n",
       "      <td>The Mass Missile</td>\n",
       "      <td>rock</td>\n",
       "      <td>Saint-Petersburg</td>\n",
       "      <td>20:28:33</td>\n",
       "      <td>Wednesday</td>\n",
       "    </tr>\n",
       "    <tr>\n",
       "      <th>2</th>\n",
       "      <td>20EC38</td>\n",
       "      <td>Funiculì funiculà</td>\n",
       "      <td>Mario Lanza</td>\n",
       "      <td>pop</td>\n",
       "      <td>Saint-Petersburg</td>\n",
       "      <td>20:58:07</td>\n",
       "      <td>Wednesday</td>\n",
       "    </tr>\n",
       "    <tr>\n",
       "      <th>3</th>\n",
       "      <td>A3DD03C9</td>\n",
       "      <td>Dragons in the Sunset</td>\n",
       "      <td>Fire + Ice</td>\n",
       "      <td>folk</td>\n",
       "      <td>Saint-Petersburg</td>\n",
       "      <td>08:37:09</td>\n",
       "      <td>Monday</td>\n",
       "    </tr>\n",
       "    <tr>\n",
       "      <th>5</th>\n",
       "      <td>842029A1</td>\n",
       "      <td>Преданная</td>\n",
       "      <td>IMPERVTOR</td>\n",
       "      <td>rusrap</td>\n",
       "      <td>Saint-Petersburg</td>\n",
       "      <td>13:09:41</td>\n",
       "      <td>Friday</td>\n",
       "    </tr>\n",
       "    <tr>\n",
       "      <th>9</th>\n",
       "      <td>E772D5C0</td>\n",
       "      <td>Pessimist</td>\n",
       "      <td>unknown</td>\n",
       "      <td>dance</td>\n",
       "      <td>Saint-Petersburg</td>\n",
       "      <td>21:20:49</td>\n",
       "      <td>Wednesday</td>\n",
       "    </tr>\n",
       "  </tbody>\n",
       "</table>\n",
       "</div>"
      ],
      "text/plain": [
       "    user_id                  track            artist   genre  \\\n",
       "0  FFB692EC      Kamigata To Boots  The Mass Missile    rock   \n",
       "2    20EC38      Funiculì funiculà       Mario Lanza     pop   \n",
       "3  A3DD03C9  Dragons in the Sunset        Fire + Ice    folk   \n",
       "5  842029A1              Преданная         IMPERVTOR  rusrap   \n",
       "9  E772D5C0              Pessimist           unknown   dance   \n",
       "\n",
       "               city      time        day  \n",
       "0  Saint-Petersburg  20:28:33  Wednesday  \n",
       "2  Saint-Petersburg  20:58:07  Wednesday  \n",
       "3  Saint-Petersburg  08:37:09     Monday  \n",
       "5  Saint-Petersburg  13:09:41     Friday  \n",
       "9  Saint-Petersburg  21:20:49  Wednesday  "
      ]
     },
     "execution_count": 24,
     "metadata": {},
     "output_type": "execute_result"
    }
   ],
   "source": [
    "spb_general = df[df['city'] == 'Saint-Petersburg']\n",
    "spb_general.head()"
   ]
  },
  {
   "cell_type": "markdown",
   "metadata": {
    "id": "MEJV-CX2_Zcu"
   },
   "source": [
    "Создадим функцию `genre_weekday()` с четырьмя параметрами:\n",
    "* таблица (датафрейм) с данными;\n",
    "* день недели;\n",
    "* начальная временная метка в формате 'hh:mm';\n",
    "* последняя временная метка в формате 'hh:mm'.\n",
    "\n",
    "Функция вернет информацию о топ-10 жанров тех треков, которые прослушивали в указанный день, в промежутке между двумя отметками времени."
   ]
  },
  {
   "cell_type": "code",
   "execution_count": 25,
   "metadata": {
    "ExecuteTime": {
     "end_time": "2023-02-07T09:50:38.688803Z",
     "start_time": "2023-02-07T09:50:38.675838Z"
    },
    "id": "laJT9BYl_Zcu"
   },
   "outputs": [],
   "source": [
    "'''Объявление функции genre_weekday()\n",
    "\n",
    "Функция возвращает информацию о самых популярных жанрах в указанный\n",
    "день в заданное время.\n",
    "'''\n",
    "\n",
    "\n",
    "def genre_weekday(table, day, time1, time2):\n",
    "    genre_df = table[table['day'] == day]\n",
    "    genre_df = genre_df[(genre_df['time'] > time1) &\n",
    "                        (genre_df['time'] < time2)]\n",
    "    genre_df_count = genre_df.groupby('genre')['genre'].count()\n",
    "    genre_df_sorteds = genre_df_count.sort_values(ascending=False)\n",
    "    genre_df_sorteds = genre_df_sorteds[:10]\n",
    "    return genre_df_sorteds"
   ]
  },
  {
   "cell_type": "markdown",
   "metadata": {
    "id": "la2s2_PF_Zcu"
   },
   "source": [
    "Сравним результаты функции `genre_weekday()` для Москвы и Санкт-Петербурга в понедельник утром (с 7:00 до 11:00) и в пятницу вечером (с 17:00 до 23:00):"
   ]
  },
  {
   "cell_type": "code",
   "execution_count": 26,
   "metadata": {
    "ExecuteTime": {
     "end_time": "2023-02-07T09:50:38.751637Z",
     "start_time": "2023-02-07T09:50:38.692793Z"
    },
    "id": "yz7itPUQ_Zcu"
   },
   "outputs": [
    {
     "data": {
      "text/plain": [
       "genre\n",
       "pop            781\n",
       "dance          549\n",
       "electronic     480\n",
       "rock           474\n",
       "hiphop         286\n",
       "ruspop         186\n",
       "world          181\n",
       "rusrap         175\n",
       "alternative    164\n",
       "unknown        161\n",
       "Name: genre, dtype: int64"
      ]
     },
     "metadata": {},
     "output_type": "display_data"
    },
    {
     "data": {
      "text/plain": [
       "genre\n",
       "pop            717\n",
       "dance          524\n",
       "rock           518\n",
       "electronic     485\n",
       "hiphop         238\n",
       "alternative    182\n",
       "classical      172\n",
       "world          172\n",
       "ruspop         149\n",
       "rusrap         133\n",
       "Name: genre, dtype: int64"
      ]
     },
     "metadata": {},
     "output_type": "display_data"
    }
   ],
   "source": [
    "display(genre_weekday(moscow_general, 'Monday', '07:00', '11:00'))\n",
    "display(genre_weekday(moscow_general, 'Monday', '17:00', '23:00'))"
   ]
  },
  {
   "cell_type": "code",
   "execution_count": 27,
   "metadata": {
    "ExecuteTime": {
     "end_time": "2023-02-07T09:50:38.799506Z",
     "start_time": "2023-02-07T09:50:38.754630Z"
    },
    "id": "kwUcHPdy_Zcu"
   },
   "outputs": [
    {
     "data": {
      "text/plain": [
       "genre\n",
       "pop            218\n",
       "dance          182\n",
       "rock           162\n",
       "electronic     147\n",
       "hiphop          80\n",
       "ruspop          64\n",
       "alternative     58\n",
       "rusrap          55\n",
       "jazz            44\n",
       "classical       40\n",
       "Name: genre, dtype: int64"
      ]
     },
     "metadata": {},
     "output_type": "display_data"
    },
    {
     "data": {
      "text/plain": [
       "genre\n",
       "pop            263\n",
       "rock           208\n",
       "electronic     192\n",
       "dance          191\n",
       "hiphop         104\n",
       "alternative     72\n",
       "classical       71\n",
       "jazz            57\n",
       "rusrap          54\n",
       "ruspop          53\n",
       "Name: genre, dtype: int64"
      ]
     },
     "metadata": {},
     "output_type": "display_data"
    }
   ],
   "source": [
    "display(genre_weekday(spb_general, 'Monday', '07:00', '11:00'))\n",
    "display(genre_weekday(spb_general, 'Monday', '17:00', '23:00'))"
   ]
  },
  {
   "cell_type": "markdown",
   "metadata": {
    "id": "wrCe4MNX_Zcu"
   },
   "source": [
    "**Выводы**\n",
    "\n",
    "Если сравнить топ-10 жанров в понедельник утром, можно сделать такие выводы:\n",
    "\n",
    "1. В Москве и Петербурге слушают похожую музыку. Единственное отличие — в московский рейтинг вошёл жанр “world”, а в петербургский — джаз и классика.\n",
    "\n",
    "2. В Москве пропущенных значений оказалось так много, что значение `'unknown'` заняло десятое место среди самых популярных жанров. Значит, пропущенные значения занимают существенную долю в данных и угрожают достоверности исследования.\n",
    "\n",
    "Вечер пятницы не меняет эту картину. Некоторые жанры поднимаются немного выше, другие спускаются, но в целом топ-10 остаётся тем же самым.\n",
    "\n",
    "Таким образом, вторая гипотеза подтвердилась лишь частично:\n",
    "* Пользователи слушают похожую музыку в начале недели и в конце.\n",
    "* Разница между Москвой и Петербургом не слишком выражена. В Москве чаще слушают русскую популярную музыку, в Петербурге — джаз.\n",
    "\n",
    "Однако пропуски в данных ставят под сомнение этот результат. В Москве их так много, что рейтинг топ-10 мог бы выглядеть иначе, если бы не утерянные  данные о жанрах."
   ]
  },
  {
   "cell_type": "markdown",
   "metadata": {
    "id": "JolODAqr_Zcu"
   },
   "source": [
    "### Жанровые предпочтения в Москве и Петербурге"
   ]
  },
  {
   "cell_type": "markdown",
   "metadata": {},
   "source": [
    "Гипотеза: Петербург — столица рэпа, музыку этого жанра там слушают чаще, чем в Москве.  А Москва — город контрастов, в котором, тем не менее, преобладает поп-музыка."
   ]
  },
  {
   "cell_type": "markdown",
   "metadata": {
    "id": "DlegSvaT_Zcu"
   },
   "source": [
    "Сгруппируем таблицу `moscow_general` по жанру и посчитаем прослушивания треков каждого жанра методом `count()`. Затем отсортируем результат в порядке убывания и сохраним его в таблице `moscow_genres`."
   ]
  },
  {
   "cell_type": "code",
   "execution_count": 28,
   "metadata": {
    "ExecuteTime": {
     "end_time": "2023-02-07T09:50:38.831431Z",
     "start_time": "2023-02-07T09:50:38.802499Z"
    },
    "id": "r19lIPke_Zcu"
   },
   "outputs": [
    {
     "data": {
      "text/plain": [
       "genre\n",
       "pop            5892\n",
       "dance          4435\n",
       "rock           3965\n",
       "electronic     3786\n",
       "hiphop         2096\n",
       "classical      1616\n",
       "world          1432\n",
       "alternative    1379\n",
       "ruspop         1372\n",
       "rusrap         1161\n",
       "Name: genre, dtype: int64"
      ]
     },
     "execution_count": 28,
     "metadata": {},
     "output_type": "execute_result"
    }
   ],
   "source": [
    "moscow_general = moscow_general.groupby('genre')['genre'].count()\n",
    "moscow_genres = moscow_general.sort_values(ascending=False)\n",
    "moscow_genres.head(10)"
   ]
  },
  {
   "cell_type": "markdown",
   "metadata": {
    "id": "cnPG2vnN_Zcv"
   },
   "source": [
    "Теперь повторим то же и для Петербурга.\n",
    "\n",
    "Сгруппируем таблицу `spb_general` по жанру. Посчитаем прослушивания треков каждого жанра. Результат отсортируем в порядке убывания и сохраним в таблице `spb_genres`:"
   ]
  },
  {
   "cell_type": "code",
   "execution_count": 29,
   "metadata": {
    "ExecuteTime": {
     "end_time": "2023-02-07T09:50:38.863343Z",
     "start_time": "2023-02-07T09:50:38.835411Z"
    },
    "id": "gluLIpE7_Zcv"
   },
   "outputs": [
    {
     "data": {
      "text/plain": [
       "genre\n",
       "pop            2431\n",
       "dance          1932\n",
       "rock           1879\n",
       "electronic     1737\n",
       "hiphop          960\n",
       "alternative     649\n",
       "classical       646\n",
       "rusrap          564\n",
       "ruspop          538\n",
       "world           515\n",
       "Name: genre, dtype: int64"
      ]
     },
     "execution_count": 29,
     "metadata": {},
     "output_type": "execute_result"
    }
   ],
   "source": [
    "spb_general = spb_general.groupby('genre')['genre'].count()\n",
    "spb_genres = spb_general.sort_values(ascending=False)\n",
    "spb_genres.head(10)"
   ]
  },
  {
   "cell_type": "markdown",
   "metadata": {},
   "source": [
    "### Вывод"
   ]
  },
  {
   "cell_type": "markdown",
   "metadata": {
    "id": "nVhnJEm__Zcv"
   },
   "source": [
    "Гипотеза частично подтвердилась:\n",
    "* Поп-музыка — самый популярный жанр в Москве, как и предполагала гипотеза. Более того, в топ-10 жанров встречается близкий жанр — русская популярная музыка.\n",
    "* Вопреки ожиданиям, рэп одинаково популярен в Москве и Петербурге. \n"
   ]
  },
  {
   "cell_type": "markdown",
   "metadata": {
    "id": "ykKQ0N65_Zcv"
   },
   "source": [
    "## Итоги исследования"
   ]
  },
  {
   "cell_type": "markdown",
   "metadata": {
    "id": "tjUwbHb3_Zcv"
   },
   "source": [
    "Мы проверили три гипотезы и установили:\n",
    "\n",
    "1. День недели по-разному влияет на активность пользователей в Москве и Петербурге. \n",
    "\n",
    "Первая гипотеза полностью подтвердилась.\n",
    "\n",
    "2. Музыкальные предпочтения не сильно меняются в течение недели — будь то Москва или Петербург. Небольшие различия заметны в начале недели, по понедельникам:\n",
    "* в Москве слушают музыку жанра “world”,\n",
    "* в Петербурге — джаз и классику.\n",
    "\n",
    "Таким образом, вторая гипотеза подтвердилась лишь отчасти. Этот результат мог оказаться иным, если бы не пропуски в данных.\n",
    "\n",
    "3. Во вкусах пользователей Москвы и Петербурга больше общего чем различий. Вопреки ожиданиям, предпочтения жанров в Петербурге напоминают московские.\n",
    "\n",
    "Третья гипотеза не подтвердилась. Если различия в предпочтениях и существуют, на основной массе пользователей они незаметны."
   ]
  }
 ],
 "metadata": {
  "ExecuteTimeLog": [
   {
    "duration": 235,
    "start_time": "2022-04-28T15:52:21.645Z"
   },
   {
    "duration": 6,
    "start_time": "2022-04-28T15:52:51.490Z"
   },
   {
    "duration": 202,
    "start_time": "2022-04-28T15:53:28.725Z"
   },
   {
    "duration": 10,
    "start_time": "2022-04-28T15:53:33.586Z"
   },
   {
    "duration": 4,
    "start_time": "2022-04-28T15:54:50.345Z"
   },
   {
    "duration": 8,
    "start_time": "2022-04-28T15:54:54.008Z"
   },
   {
    "duration": 7,
    "start_time": "2022-04-28T15:55:23.409Z"
   },
   {
    "duration": 60,
    "start_time": "2022-04-28T15:55:45.871Z"
   },
   {
    "duration": 226,
    "start_time": "2022-04-28T15:56:05.926Z"
   },
   {
    "duration": 15,
    "start_time": "2022-04-28T15:56:20.244Z"
   },
   {
    "duration": 28,
    "start_time": "2022-04-28T15:56:35.938Z"
   },
   {
    "duration": 11,
    "start_time": "2022-04-28T15:57:15.167Z"
   },
   {
    "duration": 17,
    "start_time": "2022-04-28T15:57:24.034Z"
   },
   {
    "duration": 15,
    "start_time": "2022-04-28T15:57:37.319Z"
   },
   {
    "duration": 67,
    "start_time": "2022-04-28T16:00:40.198Z"
   },
   {
    "duration": 10,
    "start_time": "2022-04-28T16:00:59.373Z"
   },
   {
    "duration": 60,
    "start_time": "2022-04-28T16:01:04.787Z"
   },
   {
    "duration": 12,
    "start_time": "2022-04-28T16:05:09.325Z"
   },
   {
    "duration": 6,
    "start_time": "2022-04-28T16:05:16.272Z"
   },
   {
    "duration": 11,
    "start_time": "2022-04-28T16:10:19.117Z"
   },
   {
    "duration": 285,
    "start_time": "2022-04-28T16:11:47.850Z"
   },
   {
    "duration": 230,
    "start_time": "2022-04-28T16:13:03.819Z"
   },
   {
    "duration": 220,
    "start_time": "2022-04-28T16:13:23.423Z"
   },
   {
    "duration": 17,
    "start_time": "2022-04-28T16:16:54.136Z"
   },
   {
    "duration": 5,
    "start_time": "2022-04-28T16:16:58.575Z"
   },
   {
    "duration": 44,
    "start_time": "2022-04-28T16:17:34.327Z"
   },
   {
    "duration": 41,
    "start_time": "2022-04-28T16:17:54.120Z"
   },
   {
    "duration": 47,
    "start_time": "2022-04-28T16:18:06.114Z"
   },
   {
    "duration": 234,
    "start_time": "2022-04-28T16:39:17.430Z"
   },
   {
    "duration": 66,
    "start_time": "2022-04-28T16:39:25.355Z"
   },
   {
    "duration": 65,
    "start_time": "2022-04-28T16:39:39.267Z"
   },
   {
    "duration": 46,
    "start_time": "2022-04-29T07:54:56.770Z"
   },
   {
    "duration": 424,
    "start_time": "2022-04-29T07:55:03.098Z"
   },
   {
    "duration": 177,
    "start_time": "2022-04-29T07:55:03.525Z"
   },
   {
    "duration": 8,
    "start_time": "2022-04-29T07:55:03.798Z"
   },
   {
    "duration": 30,
    "start_time": "2022-04-29T07:55:04.583Z"
   },
   {
    "duration": 4,
    "start_time": "2022-04-29T07:55:05.998Z"
   },
   {
    "duration": 13,
    "start_time": "2022-04-29T07:55:08.942Z"
   },
   {
    "duration": 10,
    "start_time": "2022-04-29T07:55:10.102Z"
   },
   {
    "duration": 26,
    "start_time": "2022-04-29T07:55:11.550Z"
   },
   {
    "duration": 39,
    "start_time": "2022-04-29T07:55:58.650Z"
   },
   {
    "duration": 48,
    "start_time": "2022-04-29T07:56:06.795Z"
   },
   {
    "duration": 37,
    "start_time": "2022-04-29T08:00:32.722Z"
   },
   {
    "duration": 23,
    "start_time": "2022-04-29T08:00:58.914Z"
   },
   {
    "duration": 9,
    "start_time": "2022-04-29T08:02:51.778Z"
   },
   {
    "duration": 32,
    "start_time": "2022-04-29T08:02:57.907Z"
   },
   {
    "duration": 100,
    "start_time": "2022-04-29T08:03:14.874Z"
   },
   {
    "duration": 72,
    "start_time": "2022-04-29T08:03:27.123Z"
   },
   {
    "duration": 72,
    "start_time": "2022-04-29T08:03:31.674Z"
   },
   {
    "duration": 67,
    "start_time": "2022-04-29T08:03:36.481Z"
   },
   {
    "duration": 10,
    "start_time": "2022-04-29T08:06:05.250Z"
   },
   {
    "duration": 8,
    "start_time": "2022-04-29T08:06:21.914Z"
   },
   {
    "duration": 117,
    "start_time": "2022-04-29T08:06:44.969Z"
   },
   {
    "duration": 107,
    "start_time": "2022-04-29T08:07:01.431Z"
   },
   {
    "duration": 54,
    "start_time": "2022-04-29T08:10:26.561Z"
   },
   {
    "duration": 12,
    "start_time": "2022-04-29T08:10:57.513Z"
   },
   {
    "duration": 11,
    "start_time": "2022-04-29T08:12:03.086Z"
   },
   {
    "duration": 11,
    "start_time": "2022-04-29T08:12:07.565Z"
   },
   {
    "duration": 93,
    "start_time": "2022-04-29T08:12:12.402Z"
   },
   {
    "duration": 8,
    "start_time": "2022-04-29T08:13:33.853Z"
   },
   {
    "duration": 56,
    "start_time": "2022-04-29T08:13:39.437Z"
   },
   {
    "duration": 50,
    "start_time": "2022-04-29T08:13:59.244Z"
   },
   {
    "duration": 58,
    "start_time": "2022-04-29T08:19:37.709Z"
   },
   {
    "duration": 46,
    "start_time": "2022-04-29T08:19:41.477Z"
   },
   {
    "duration": 46,
    "start_time": "2022-04-29T08:20:33.352Z"
   },
   {
    "duration": 84,
    "start_time": "2022-04-29T08:20:57.092Z"
   },
   {
    "duration": 432,
    "start_time": "2022-05-01T19:41:16.050Z"
   },
   {
    "duration": 164,
    "start_time": "2022-05-01T19:41:16.484Z"
   },
   {
    "duration": 11,
    "start_time": "2022-05-01T19:41:16.650Z"
   },
   {
    "duration": 43,
    "start_time": "2022-05-01T19:41:16.664Z"
   },
   {
    "duration": 4,
    "start_time": "2022-05-01T19:41:16.709Z"
   },
   {
    "duration": 40,
    "start_time": "2022-05-01T19:41:16.715Z"
   },
   {
    "duration": 22,
    "start_time": "2022-05-01T19:41:16.756Z"
   },
   {
    "duration": 29,
    "start_time": "2022-05-01T19:41:16.779Z"
   },
   {
    "duration": 18,
    "start_time": "2022-05-01T19:41:16.810Z"
   },
   {
    "duration": 50,
    "start_time": "2022-05-01T19:41:16.831Z"
   },
   {
    "duration": 71,
    "start_time": "2022-05-01T19:41:16.883Z"
   },
   {
    "duration": 79,
    "start_time": "2022-05-01T19:41:16.956Z"
   },
   {
    "duration": 73,
    "start_time": "2022-05-01T19:41:17.037Z"
   },
   {
    "duration": 66,
    "start_time": "2022-05-01T19:41:17.112Z"
   },
   {
    "duration": 2,
    "start_time": "2022-05-01T19:41:17.180Z"
   },
   {
    "duration": 6,
    "start_time": "2022-05-01T19:41:17.184Z"
   },
   {
    "duration": 6,
    "start_time": "2022-05-01T19:41:17.191Z"
   },
   {
    "duration": 5,
    "start_time": "2022-05-01T19:41:17.199Z"
   },
   {
    "duration": 5,
    "start_time": "2022-05-01T19:41:17.205Z"
   },
   {
    "duration": 7,
    "start_time": "2022-05-01T19:41:17.211Z"
   },
   {
    "duration": 9,
    "start_time": "2022-05-01T19:41:17.219Z"
   },
   {
    "duration": 6,
    "start_time": "2022-05-01T19:41:17.230Z"
   },
   {
    "duration": 2,
    "start_time": "2022-05-01T19:41:17.255Z"
   },
   {
    "duration": 25,
    "start_time": "2022-05-01T19:41:17.259Z"
   },
   {
    "duration": 7,
    "start_time": "2022-05-01T19:41:17.286Z"
   },
   {
    "duration": 8,
    "start_time": "2022-05-01T19:41:17.295Z"
   },
   {
    "duration": 6,
    "start_time": "2022-05-01T19:41:17.305Z"
   },
   {
    "duration": 5,
    "start_time": "2022-05-01T19:41:17.315Z"
   },
   {
    "duration": 5,
    "start_time": "2022-05-01T19:41:17.322Z"
   },
   {
    "duration": 6,
    "start_time": "2022-05-01T19:41:17.328Z"
   },
   {
    "duration": 7,
    "start_time": "2022-05-01T19:41:17.336Z"
   },
   {
    "duration": 7,
    "start_time": "2022-05-01T19:41:17.344Z"
   },
   {
    "duration": 25,
    "start_time": "2022-05-01T19:41:17.353Z"
   },
   {
    "duration": 5,
    "start_time": "2022-05-01T19:41:17.380Z"
   },
   {
    "duration": 7,
    "start_time": "2022-05-01T19:41:17.387Z"
   },
   {
    "duration": 8,
    "start_time": "2022-05-01T19:41:17.395Z"
   },
   {
    "duration": 5,
    "start_time": "2022-05-01T19:41:17.404Z"
   },
   {
    "duration": 7,
    "start_time": "2022-05-01T19:41:17.410Z"
   },
   {
    "duration": 17,
    "start_time": "2022-05-01T19:42:29.818Z"
   },
   {
    "duration": 23,
    "start_time": "2022-05-01T19:42:42.430Z"
   },
   {
    "duration": 55,
    "start_time": "2022-05-01T19:43:06.794Z"
   },
   {
    "duration": 3,
    "start_time": "2022-05-01T19:43:19.798Z"
   },
   {
    "duration": 163,
    "start_time": "2022-05-01T19:43:20.438Z"
   },
   {
    "duration": 12,
    "start_time": "2022-05-01T19:43:20.868Z"
   },
   {
    "duration": 50,
    "start_time": "2022-05-01T19:43:21.426Z"
   },
   {
    "duration": 5,
    "start_time": "2022-05-01T19:43:22.546Z"
   },
   {
    "duration": 7,
    "start_time": "2022-05-01T19:43:23.375Z"
   },
   {
    "duration": 3,
    "start_time": "2022-05-01T19:43:24.030Z"
   },
   {
    "duration": 29,
    "start_time": "2022-05-01T19:43:26.938Z"
   },
   {
    "duration": 25,
    "start_time": "2022-05-01T19:43:28.506Z"
   },
   {
    "duration": 24,
    "start_time": "2022-05-01T19:43:29.826Z"
   },
   {
    "duration": 90,
    "start_time": "2022-05-01T19:43:31.842Z"
   },
   {
    "duration": 107,
    "start_time": "2022-05-01T19:43:39.618Z"
   },
   {
    "duration": 84,
    "start_time": "2022-05-01T19:43:41.982Z"
   },
   {
    "duration": 51,
    "start_time": "2022-05-01T19:43:53.538Z"
   },
   {
    "duration": 70,
    "start_time": "2022-05-01T19:48:18.046Z"
   },
   {
    "duration": 8,
    "start_time": "2022-05-01T19:48:36.730Z"
   },
   {
    "duration": 15,
    "start_time": "2022-05-01T19:54:50.174Z"
   },
   {
    "duration": 8,
    "start_time": "2022-05-01T19:55:18.073Z"
   },
   {
    "duration": 37,
    "start_time": "2022-05-01T19:56:15.881Z"
   },
   {
    "duration": 9,
    "start_time": "2022-05-01T19:59:55.045Z"
   },
   {
    "duration": 5,
    "start_time": "2022-05-01T20:00:02.858Z"
   },
   {
    "duration": 33,
    "start_time": "2022-05-01T20:00:21.774Z"
   },
   {
    "duration": 13,
    "start_time": "2022-05-01T20:01:18.453Z"
   },
   {
    "duration": 16,
    "start_time": "2022-05-01T20:02:50.765Z"
   },
   {
    "duration": 6,
    "start_time": "2022-05-01T20:21:30.555Z"
   },
   {
    "duration": 25,
    "start_time": "2022-05-01T20:22:39.519Z"
   },
   {
    "duration": 31,
    "start_time": "2022-05-01T20:24:20.252Z"
   },
   {
    "duration": 35,
    "start_time": "2022-05-01T20:24:21.280Z"
   },
   {
    "duration": 22,
    "start_time": "2022-05-01T20:24:21.727Z"
   },
   {
    "duration": 25,
    "start_time": "2022-05-01T20:24:24.815Z"
   },
   {
    "duration": 35,
    "start_time": "2022-05-01T20:24:25.360Z"
   },
   {
    "duration": 3,
    "start_time": "2022-05-01T20:26:27.111Z"
   },
   {
    "duration": 8,
    "start_time": "2022-05-01T20:28:22.215Z"
   },
   {
    "duration": 18,
    "start_time": "2022-05-01T20:28:28.311Z"
   },
   {
    "duration": 89,
    "start_time": "2022-05-02T06:43:28.005Z"
   },
   {
    "duration": 9,
    "start_time": "2022-05-02T06:49:03.807Z"
   },
   {
    "duration": 551,
    "start_time": "2022-05-02T06:49:27.311Z"
   },
   {
    "duration": 224,
    "start_time": "2022-05-02T06:49:27.864Z"
   },
   {
    "duration": 11,
    "start_time": "2022-05-02T06:49:28.091Z"
   },
   {
    "duration": 72,
    "start_time": "2022-05-02T06:49:28.106Z"
   },
   {
    "duration": 5,
    "start_time": "2022-05-02T06:49:28.180Z"
   },
   {
    "duration": 22,
    "start_time": "2022-05-02T06:49:28.188Z"
   },
   {
    "duration": 21,
    "start_time": "2022-05-02T06:49:28.213Z"
   },
   {
    "duration": 53,
    "start_time": "2022-05-02T06:49:28.236Z"
   },
   {
    "duration": 45,
    "start_time": "2022-05-02T06:49:28.292Z"
   },
   {
    "duration": 40,
    "start_time": "2022-05-02T06:49:28.346Z"
   },
   {
    "duration": 157,
    "start_time": "2022-05-02T06:49:28.389Z"
   },
   {
    "duration": 133,
    "start_time": "2022-05-02T06:49:28.548Z"
   },
   {
    "duration": 109,
    "start_time": "2022-05-02T06:49:28.683Z"
   },
   {
    "duration": 76,
    "start_time": "2022-05-02T06:49:28.794Z"
   },
   {
    "duration": 5,
    "start_time": "2022-05-02T06:49:28.873Z"
   },
   {
    "duration": 27,
    "start_time": "2022-05-02T06:49:28.880Z"
   },
   {
    "duration": 84,
    "start_time": "2022-05-02T06:49:28.910Z"
   },
   {
    "duration": 39,
    "start_time": "2022-05-02T06:49:28.997Z"
   },
   {
    "duration": 15,
    "start_time": "2022-05-02T06:49:29.052Z"
   },
   {
    "duration": 8,
    "start_time": "2022-05-02T06:49:29.069Z"
   },
   {
    "duration": 71,
    "start_time": "2022-05-02T06:49:29.080Z"
   },
   {
    "duration": 31,
    "start_time": "2022-05-02T06:49:29.153Z"
   },
   {
    "duration": 61,
    "start_time": "2022-05-02T06:49:29.186Z"
   },
   {
    "duration": 31,
    "start_time": "2022-05-02T06:49:29.250Z"
   },
   {
    "duration": 49,
    "start_time": "2022-05-02T06:49:29.284Z"
   },
   {
    "duration": 37,
    "start_time": "2022-05-02T06:49:29.336Z"
   },
   {
    "duration": 14,
    "start_time": "2022-05-02T06:49:29.375Z"
   },
   {
    "duration": 3,
    "start_time": "2022-05-02T06:49:29.393Z"
   },
   {
    "duration": 37,
    "start_time": "2022-05-02T06:49:29.398Z"
   },
   {
    "duration": 27,
    "start_time": "2022-05-02T06:49:29.438Z"
   },
   {
    "duration": 12,
    "start_time": "2022-05-02T06:49:29.467Z"
   },
   {
    "duration": 10,
    "start_time": "2022-05-02T06:49:29.481Z"
   },
   {
    "duration": 8,
    "start_time": "2022-05-02T06:49:29.493Z"
   },
   {
    "duration": 6,
    "start_time": "2022-05-02T06:49:29.503Z"
   },
   {
    "duration": 6,
    "start_time": "2022-05-02T06:49:29.511Z"
   },
   {
    "duration": 22,
    "start_time": "2022-05-02T06:49:29.529Z"
   },
   {
    "duration": 10,
    "start_time": "2022-05-02T06:49:29.555Z"
   },
   {
    "duration": 8,
    "start_time": "2022-05-02T06:49:29.568Z"
   },
   {
    "duration": 24,
    "start_time": "2022-05-02T06:50:02.419Z"
   },
   {
    "duration": 53,
    "start_time": "2022-05-02T06:52:18.942Z"
   },
   {
    "duration": 61,
    "start_time": "2022-05-02T07:00:32.218Z"
   },
   {
    "duration": 41,
    "start_time": "2022-05-02T07:01:11.841Z"
   },
   {
    "duration": 204,
    "start_time": "2022-05-02T07:01:47.889Z"
   },
   {
    "duration": 53,
    "start_time": "2022-05-02T07:02:57.651Z"
   },
   {
    "duration": 45,
    "start_time": "2022-05-02T07:03:27.921Z"
   },
   {
    "duration": 129,
    "start_time": "2022-05-02T07:05:07.117Z"
   },
   {
    "duration": 51,
    "start_time": "2022-05-02T07:05:11.776Z"
   },
   {
    "duration": 9,
    "start_time": "2022-05-02T07:05:52.648Z"
   },
   {
    "duration": 30,
    "start_time": "2022-05-02T07:05:54.853Z"
   },
   {
    "duration": 55,
    "start_time": "2022-05-02T07:06:15.626Z"
   },
   {
    "duration": 5,
    "start_time": "2022-05-02T07:06:31.000Z"
   },
   {
    "duration": 46,
    "start_time": "2022-05-02T07:06:33.012Z"
   },
   {
    "duration": 28,
    "start_time": "2022-05-02T07:18:45.955Z"
   },
   {
    "duration": 26,
    "start_time": "2022-05-02T07:18:46.758Z"
   },
   {
    "duration": 26,
    "start_time": "2022-05-02T07:18:47.362Z"
   },
   {
    "duration": 25,
    "start_time": "2022-05-02T07:18:47.887Z"
   },
   {
    "duration": 28,
    "start_time": "2022-05-02T07:18:48.454Z"
   },
   {
    "duration": 26,
    "start_time": "2022-05-02T07:18:48.990Z"
   },
   {
    "duration": 6,
    "start_time": "2022-05-02T07:22:07.352Z"
   },
   {
    "duration": 24,
    "start_time": "2022-05-02T07:22:09.490Z"
   },
   {
    "duration": 21,
    "start_time": "2022-05-02T07:22:10.062Z"
   },
   {
    "duration": 31,
    "start_time": "2022-05-02T07:22:10.406Z"
   },
   {
    "duration": 23,
    "start_time": "2022-05-02T07:22:10.748Z"
   },
   {
    "duration": 33,
    "start_time": "2022-05-02T07:22:11.001Z"
   },
   {
    "duration": 21,
    "start_time": "2022-05-02T07:22:11.486Z"
   },
   {
    "duration": 17,
    "start_time": "2022-05-02T07:33:43.284Z"
   },
   {
    "duration": 17,
    "start_time": "2022-05-02T07:53:33.026Z"
   },
   {
    "duration": 10,
    "start_time": "2022-05-02T08:18:53.824Z"
   },
   {
    "duration": 103,
    "start_time": "2022-05-02T08:19:01.602Z"
   },
   {
    "duration": 8,
    "start_time": "2022-05-02T08:19:20.980Z"
   },
   {
    "duration": 31,
    "start_time": "2022-05-02T08:19:23.324Z"
   },
   {
    "duration": 6,
    "start_time": "2022-05-02T08:19:38.582Z"
   },
   {
    "duration": 27,
    "start_time": "2022-05-02T08:19:40.700Z"
   },
   {
    "duration": 6,
    "start_time": "2022-05-02T08:21:21.288Z"
   },
   {
    "duration": 31,
    "start_time": "2022-05-02T08:21:22.052Z"
   },
   {
    "duration": 6,
    "start_time": "2022-05-02T08:21:52.564Z"
   },
   {
    "duration": 24,
    "start_time": "2022-05-02T08:21:53.604Z"
   },
   {
    "duration": 124,
    "start_time": "2022-05-02T08:22:16.481Z"
   },
   {
    "duration": 6,
    "start_time": "2022-05-02T08:23:10.073Z"
   },
   {
    "duration": 28,
    "start_time": "2022-05-02T08:23:10.920Z"
   },
   {
    "duration": 7,
    "start_time": "2022-05-02T08:23:26.412Z"
   },
   {
    "duration": 25,
    "start_time": "2022-05-02T08:23:27.372Z"
   },
   {
    "duration": 9,
    "start_time": "2022-05-02T08:23:35.680Z"
   },
   {
    "duration": 9,
    "start_time": "2022-05-02T08:24:01.989Z"
   },
   {
    "duration": 6,
    "start_time": "2022-05-02T08:24:03.469Z"
   },
   {
    "duration": 25,
    "start_time": "2022-05-02T08:24:04.036Z"
   },
   {
    "duration": 11,
    "start_time": "2022-05-02T08:24:05.828Z"
   },
   {
    "duration": 23,
    "start_time": "2022-05-02T08:24:20.857Z"
   },
   {
    "duration": 9,
    "start_time": "2022-05-02T08:24:22.421Z"
   },
   {
    "duration": 14,
    "start_time": "2022-05-02T08:24:58.568Z"
   },
   {
    "duration": 6,
    "start_time": "2022-05-02T08:25:03.690Z"
   },
   {
    "duration": 28,
    "start_time": "2022-05-02T08:25:04.329Z"
   },
   {
    "duration": 20,
    "start_time": "2022-05-02T08:25:04.849Z"
   },
   {
    "duration": 25,
    "start_time": "2022-05-02T08:25:05.588Z"
   },
   {
    "duration": 18,
    "start_time": "2022-05-02T08:25:05.921Z"
   },
   {
    "duration": 58,
    "start_time": "2022-05-02T09:02:14.729Z"
   },
   {
    "duration": 1783,
    "start_time": "2022-05-02T09:02:46.989Z"
   },
   {
    "duration": 2297,
    "start_time": "2022-05-02T09:03:18.937Z"
   },
   {
    "duration": 7,
    "start_time": "2022-05-02T09:03:52.401Z"
   },
   {
    "duration": 17,
    "start_time": "2022-05-02T09:04:13.989Z"
   },
   {
    "duration": 19,
    "start_time": "2022-05-02T09:04:53.569Z"
   },
   {
    "duration": 13,
    "start_time": "2022-05-02T09:07:56.205Z"
   },
   {
    "duration": 16,
    "start_time": "2022-05-02T09:08:05.405Z"
   },
   {
    "duration": 16,
    "start_time": "2022-05-02T09:08:28.296Z"
   },
   {
    "duration": 16,
    "start_time": "2022-05-02T09:08:28.656Z"
   },
   {
    "duration": 8,
    "start_time": "2022-05-02T09:08:31.242Z"
   },
   {
    "duration": 28,
    "start_time": "2022-05-02T09:08:31.985Z"
   },
   {
    "duration": 18,
    "start_time": "2022-05-02T09:08:32.497Z"
   },
   {
    "duration": 23,
    "start_time": "2022-05-02T09:08:32.897Z"
   },
   {
    "duration": 17,
    "start_time": "2022-05-02T09:08:33.848Z"
   },
   {
    "duration": 21,
    "start_time": "2022-05-02T09:08:38.632Z"
   },
   {
    "duration": 12,
    "start_time": "2022-05-02T09:09:01.985Z"
   },
   {
    "duration": 10,
    "start_time": "2022-05-02T09:09:47.377Z"
   },
   {
    "duration": 11,
    "start_time": "2022-05-02T09:10:41.945Z"
   },
   {
    "duration": 6,
    "start_time": "2022-05-02T09:10:57.776Z"
   },
   {
    "duration": 12,
    "start_time": "2022-05-02T09:11:15.600Z"
   },
   {
    "duration": 60,
    "start_time": "2022-05-02T09:12:51.805Z"
   },
   {
    "duration": 16,
    "start_time": "2022-05-02T09:13:02.412Z"
   },
   {
    "duration": 31,
    "start_time": "2022-05-02T09:13:52.353Z"
   },
   {
    "duration": 18,
    "start_time": "2022-05-02T09:14:02.068Z"
   },
   {
    "duration": 14,
    "start_time": "2022-05-02T09:14:05.512Z"
   },
   {
    "duration": 12,
    "start_time": "2022-05-02T09:14:07.356Z"
   },
   {
    "duration": 10,
    "start_time": "2022-05-02T09:14:21.144Z"
   },
   {
    "duration": 8,
    "start_time": "2022-05-02T09:14:24.196Z"
   },
   {
    "duration": 8,
    "start_time": "2022-05-02T09:14:27.749Z"
   },
   {
    "duration": 4,
    "start_time": "2022-05-02T09:14:32.472Z"
   },
   {
    "duration": 237,
    "start_time": "2022-05-02T09:14:32.478Z"
   },
   {
    "duration": 14,
    "start_time": "2022-05-02T09:14:32.718Z"
   },
   {
    "duration": 53,
    "start_time": "2022-05-02T09:14:32.735Z"
   },
   {
    "duration": 10,
    "start_time": "2022-05-02T09:14:32.791Z"
   },
   {
    "duration": 29,
    "start_time": "2022-05-02T09:14:32.803Z"
   },
   {
    "duration": 6,
    "start_time": "2022-05-02T09:14:32.834Z"
   },
   {
    "duration": 40,
    "start_time": "2022-05-02T09:14:32.843Z"
   },
   {
    "duration": 59,
    "start_time": "2022-05-02T09:14:32.886Z"
   },
   {
    "duration": 36,
    "start_time": "2022-05-02T09:14:32.947Z"
   },
   {
    "duration": 123,
    "start_time": "2022-05-02T09:14:32.989Z"
   },
   {
    "duration": 145,
    "start_time": "2022-05-02T09:14:33.114Z"
   },
   {
    "duration": 135,
    "start_time": "2022-05-02T09:14:33.261Z"
   },
   {
    "duration": 97,
    "start_time": "2022-05-02T09:14:33.398Z"
   },
   {
    "duration": 5,
    "start_time": "2022-05-02T09:14:33.498Z"
   },
   {
    "duration": 16,
    "start_time": "2022-05-02T09:14:33.524Z"
   },
   {
    "duration": 54,
    "start_time": "2022-05-02T09:14:33.543Z"
   },
   {
    "duration": 36,
    "start_time": "2022-05-02T09:14:33.599Z"
   },
   {
    "duration": 25,
    "start_time": "2022-05-02T09:14:33.637Z"
   },
   {
    "duration": 12,
    "start_time": "2022-05-02T09:14:33.664Z"
   },
   {
    "duration": 50,
    "start_time": "2022-05-02T09:14:33.678Z"
   },
   {
    "duration": 22,
    "start_time": "2022-05-02T09:14:33.733Z"
   },
   {
    "duration": 24,
    "start_time": "2022-05-02T09:14:33.757Z"
   },
   {
    "duration": 47,
    "start_time": "2022-05-02T09:14:33.784Z"
   },
   {
    "duration": 24,
    "start_time": "2022-05-02T09:14:33.833Z"
   },
   {
    "duration": 30,
    "start_time": "2022-05-02T09:14:33.859Z"
   },
   {
    "duration": 38,
    "start_time": "2022-05-02T09:14:33.891Z"
   },
   {
    "duration": 28,
    "start_time": "2022-05-02T09:14:33.932Z"
   },
   {
    "duration": 23,
    "start_time": "2022-05-02T09:14:33.967Z"
   },
   {
    "duration": 31,
    "start_time": "2022-05-02T09:14:33.994Z"
   },
   {
    "duration": 37,
    "start_time": "2022-05-02T09:14:34.028Z"
   },
   {
    "duration": 17,
    "start_time": "2022-05-02T09:14:34.068Z"
   },
   {
    "duration": 47,
    "start_time": "2022-05-02T09:14:34.087Z"
   },
   {
    "duration": 17,
    "start_time": "2022-05-02T09:14:34.137Z"
   },
   {
    "duration": 30,
    "start_time": "2022-05-02T09:14:34.157Z"
   },
   {
    "duration": 40,
    "start_time": "2022-05-02T09:14:34.189Z"
   },
   {
    "duration": 14,
    "start_time": "2022-05-02T09:14:34.231Z"
   },
   {
    "duration": 7,
    "start_time": "2022-05-02T09:14:34.247Z"
   },
   {
    "duration": 6,
    "start_time": "2022-05-02T09:15:06.888Z"
   },
   {
    "duration": 6,
    "start_time": "2022-05-02T09:15:18.440Z"
   },
   {
    "duration": 5,
    "start_time": "2022-05-02T09:15:38.036Z"
   },
   {
    "duration": 4,
    "start_time": "2022-05-02T09:16:57.684Z"
   },
   {
    "duration": 64,
    "start_time": "2022-05-02T18:03:08.406Z"
   },
   {
    "duration": 459,
    "start_time": "2022-05-02T18:03:14.349Z"
   },
   {
    "duration": 210,
    "start_time": "2022-05-02T18:03:14.810Z"
   },
   {
    "duration": 9,
    "start_time": "2022-05-02T18:03:15.022Z"
   },
   {
    "duration": 42,
    "start_time": "2022-05-02T18:03:15.033Z"
   },
   {
    "duration": 4,
    "start_time": "2022-05-02T18:03:15.077Z"
   },
   {
    "duration": 17,
    "start_time": "2022-05-02T18:03:15.083Z"
   },
   {
    "duration": 30,
    "start_time": "2022-05-02T18:03:15.102Z"
   },
   {
    "duration": 27,
    "start_time": "2022-05-02T18:03:15.134Z"
   },
   {
    "duration": 18,
    "start_time": "2022-05-02T18:03:15.163Z"
   },
   {
    "duration": 44,
    "start_time": "2022-05-02T18:03:15.184Z"
   },
   {
    "duration": 63,
    "start_time": "2022-05-02T18:03:15.230Z"
   },
   {
    "duration": 90,
    "start_time": "2022-05-02T18:03:15.296Z"
   },
   {
    "duration": 71,
    "start_time": "2022-05-02T18:03:15.388Z"
   },
   {
    "duration": 38,
    "start_time": "2022-05-02T18:03:15.460Z"
   },
   {
    "duration": 3,
    "start_time": "2022-05-02T18:03:15.500Z"
   },
   {
    "duration": 25,
    "start_time": "2022-05-02T18:03:15.505Z"
   },
   {
    "duration": 34,
    "start_time": "2022-05-02T18:03:15.532Z"
   },
   {
    "duration": 11,
    "start_time": "2022-05-02T18:03:15.568Z"
   },
   {
    "duration": 11,
    "start_time": "2022-05-02T18:03:15.581Z"
   },
   {
    "duration": 5,
    "start_time": "2022-05-02T18:03:15.624Z"
   },
   {
    "duration": 19,
    "start_time": "2022-05-02T18:03:15.631Z"
   },
   {
    "duration": 15,
    "start_time": "2022-05-02T18:03:15.652Z"
   },
   {
    "duration": 14,
    "start_time": "2022-05-02T18:03:15.668Z"
   },
   {
    "duration": 42,
    "start_time": "2022-05-02T18:03:15.684Z"
   },
   {
    "duration": 17,
    "start_time": "2022-05-02T18:03:15.727Z"
   },
   {
    "duration": 13,
    "start_time": "2022-05-02T18:03:15.746Z"
   },
   {
    "duration": 9,
    "start_time": "2022-05-02T18:03:15.760Z"
   },
   {
    "duration": 10,
    "start_time": "2022-05-02T18:03:15.773Z"
   },
   {
    "duration": 42,
    "start_time": "2022-05-02T18:03:15.785Z"
   },
   {
    "duration": 4,
    "start_time": "2022-05-02T18:03:15.829Z"
   },
   {
    "duration": 23,
    "start_time": "2022-05-02T18:03:15.834Z"
   },
   {
    "duration": 11,
    "start_time": "2022-05-02T18:03:15.858Z"
   },
   {
    "duration": 14,
    "start_time": "2022-05-02T18:03:15.871Z"
   },
   {
    "duration": 39,
    "start_time": "2022-05-02T18:03:15.887Z"
   },
   {
    "duration": 12,
    "start_time": "2022-05-02T18:03:15.928Z"
   },
   {
    "duration": 28,
    "start_time": "2022-05-02T18:03:15.941Z"
   },
   {
    "duration": 0,
    "start_time": "2022-05-02T18:03:15.970Z"
   },
   {
    "duration": 0,
    "start_time": "2022-05-02T18:03:15.972Z"
   },
   {
    "duration": 12,
    "start_time": "2022-05-02T18:03:23.252Z"
   },
   {
    "duration": 5,
    "start_time": "2022-05-02T18:03:36.554Z"
   },
   {
    "duration": 4,
    "start_time": "2022-05-02T18:03:41.449Z"
   },
   {
    "duration": 3,
    "start_time": "2022-05-02T18:03:49.214Z"
   },
   {
    "duration": 4,
    "start_time": "2022-05-02T18:03:51.751Z"
   },
   {
    "duration": 24,
    "start_time": "2022-05-02T18:04:59.895Z"
   },
   {
    "duration": 10,
    "start_time": "2022-05-02T18:05:18.602Z"
   },
   {
    "duration": 11,
    "start_time": "2022-05-02T18:05:28.237Z"
   },
   {
    "duration": 14,
    "start_time": "2022-05-02T18:07:17.805Z"
   },
   {
    "duration": 9,
    "start_time": "2022-05-02T18:07:35.029Z"
   },
   {
    "duration": 8,
    "start_time": "2022-05-02T18:07:53.141Z"
   },
   {
    "duration": 8,
    "start_time": "2022-05-02T18:08:34.045Z"
   },
   {
    "duration": 8,
    "start_time": "2022-05-02T18:08:57.265Z"
   },
   {
    "duration": 7,
    "start_time": "2022-05-02T18:08:58.848Z"
   },
   {
    "duration": 9,
    "start_time": "2022-05-02T18:09:01.943Z"
   },
   {
    "duration": 7,
    "start_time": "2022-05-02T18:09:10.296Z"
   },
   {
    "duration": 2,
    "start_time": "2022-05-02T18:09:14.884Z"
   },
   {
    "duration": 150,
    "start_time": "2022-05-02T18:09:14.888Z"
   },
   {
    "duration": 6,
    "start_time": "2022-05-02T18:09:15.040Z"
   },
   {
    "duration": 26,
    "start_time": "2022-05-02T18:09:15.048Z"
   },
   {
    "duration": 3,
    "start_time": "2022-05-02T18:09:15.076Z"
   },
   {
    "duration": 8,
    "start_time": "2022-05-02T18:09:15.080Z"
   },
   {
    "duration": 4,
    "start_time": "2022-05-02T18:09:15.089Z"
   },
   {
    "duration": 47,
    "start_time": "2022-05-02T18:09:15.094Z"
   },
   {
    "duration": 16,
    "start_time": "2022-05-02T18:09:15.143Z"
   },
   {
    "duration": 21,
    "start_time": "2022-05-02T18:09:15.161Z"
   },
   {
    "duration": 75,
    "start_time": "2022-05-02T18:09:15.184Z"
   },
   {
    "duration": 69,
    "start_time": "2022-05-02T18:09:15.261Z"
   },
   {
    "duration": 50,
    "start_time": "2022-05-02T18:09:15.332Z"
   },
   {
    "duration": 47,
    "start_time": "2022-05-02T18:09:15.384Z"
   },
   {
    "duration": 2,
    "start_time": "2022-05-02T18:09:15.433Z"
   },
   {
    "duration": 10,
    "start_time": "2022-05-02T18:09:15.437Z"
   },
   {
    "duration": 33,
    "start_time": "2022-05-02T18:09:15.448Z"
   },
   {
    "duration": 10,
    "start_time": "2022-05-02T18:09:15.482Z"
   },
   {
    "duration": 35,
    "start_time": "2022-05-02T18:09:15.493Z"
   },
   {
    "duration": 4,
    "start_time": "2022-05-02T18:09:15.529Z"
   },
   {
    "duration": 18,
    "start_time": "2022-05-02T18:09:15.534Z"
   },
   {
    "duration": 12,
    "start_time": "2022-05-02T18:09:15.554Z"
   },
   {
    "duration": 13,
    "start_time": "2022-05-02T18:09:15.567Z"
   },
   {
    "duration": 13,
    "start_time": "2022-05-02T18:09:15.582Z"
   },
   {
    "duration": 14,
    "start_time": "2022-05-02T18:09:15.623Z"
   },
   {
    "duration": 12,
    "start_time": "2022-05-02T18:09:15.639Z"
   },
   {
    "duration": 8,
    "start_time": "2022-05-02T18:09:15.652Z"
   },
   {
    "duration": 10,
    "start_time": "2022-05-02T18:09:15.661Z"
   },
   {
    "duration": 10,
    "start_time": "2022-05-02T18:09:15.674Z"
   },
   {
    "duration": 4,
    "start_time": "2022-05-02T18:09:15.685Z"
   },
   {
    "duration": 46,
    "start_time": "2022-05-02T18:09:15.691Z"
   },
   {
    "duration": 11,
    "start_time": "2022-05-02T18:09:15.738Z"
   },
   {
    "duration": 14,
    "start_time": "2022-05-02T18:09:15.750Z"
   },
   {
    "duration": 9,
    "start_time": "2022-05-02T18:09:15.765Z"
   },
   {
    "duration": 11,
    "start_time": "2022-05-02T18:09:15.776Z"
   },
   {
    "duration": 42,
    "start_time": "2022-05-02T18:09:15.788Z"
   },
   {
    "duration": 0,
    "start_time": "2022-05-02T18:09:15.832Z"
   },
   {
    "duration": 0,
    "start_time": "2022-05-02T18:09:15.833Z"
   },
   {
    "duration": 10,
    "start_time": "2022-05-02T18:09:28.790Z"
   },
   {
    "duration": 3,
    "start_time": "2022-05-02T18:09:48.688Z"
   },
   {
    "duration": 187,
    "start_time": "2022-05-02T18:09:48.693Z"
   },
   {
    "duration": 7,
    "start_time": "2022-05-02T18:09:48.882Z"
   },
   {
    "duration": 40,
    "start_time": "2022-05-02T18:09:48.891Z"
   },
   {
    "duration": 6,
    "start_time": "2022-05-02T18:09:48.933Z"
   },
   {
    "duration": 11,
    "start_time": "2022-05-02T18:09:48.941Z"
   },
   {
    "duration": 5,
    "start_time": "2022-05-02T18:09:48.954Z"
   },
   {
    "duration": 41,
    "start_time": "2022-05-02T18:09:48.961Z"
   },
   {
    "duration": 42,
    "start_time": "2022-05-02T18:09:49.003Z"
   },
   {
    "duration": 39,
    "start_time": "2022-05-02T18:09:49.047Z"
   },
   {
    "duration": 99,
    "start_time": "2022-05-02T18:09:49.089Z"
   },
   {
    "duration": 106,
    "start_time": "2022-05-02T18:09:49.189Z"
   },
   {
    "duration": 94,
    "start_time": "2022-05-02T18:09:49.296Z"
   },
   {
    "duration": 72,
    "start_time": "2022-05-02T18:09:49.393Z"
   },
   {
    "duration": 4,
    "start_time": "2022-05-02T18:09:49.467Z"
   },
   {
    "duration": 15,
    "start_time": "2022-05-02T18:09:49.474Z"
   },
   {
    "duration": 73,
    "start_time": "2022-05-02T18:09:49.491Z"
   },
   {
    "duration": 15,
    "start_time": "2022-05-02T18:09:49.566Z"
   },
   {
    "duration": 14,
    "start_time": "2022-05-02T18:09:49.583Z"
   },
   {
    "duration": 25,
    "start_time": "2022-05-02T18:09:49.599Z"
   },
   {
    "duration": 30,
    "start_time": "2022-05-02T18:09:49.626Z"
   },
   {
    "duration": 22,
    "start_time": "2022-05-02T18:09:49.657Z"
   },
   {
    "duration": 22,
    "start_time": "2022-05-02T18:09:49.682Z"
   },
   {
    "duration": 35,
    "start_time": "2022-05-02T18:09:49.706Z"
   },
   {
    "duration": 19,
    "start_time": "2022-05-02T18:09:49.744Z"
   },
   {
    "duration": 15,
    "start_time": "2022-05-02T18:09:49.765Z"
   },
   {
    "duration": 15,
    "start_time": "2022-05-02T18:09:49.782Z"
   },
   {
    "duration": 46,
    "start_time": "2022-05-02T18:09:49.798Z"
   },
   {
    "duration": 14,
    "start_time": "2022-05-02T18:09:49.848Z"
   },
   {
    "duration": 14,
    "start_time": "2022-05-02T18:09:49.866Z"
   },
   {
    "duration": 29,
    "start_time": "2022-05-02T18:09:49.882Z"
   },
   {
    "duration": 26,
    "start_time": "2022-05-02T18:09:49.913Z"
   },
   {
    "duration": 19,
    "start_time": "2022-05-02T18:09:49.941Z"
   },
   {
    "duration": 15,
    "start_time": "2022-05-02T18:09:49.962Z"
   },
   {
    "duration": 16,
    "start_time": "2022-05-02T18:09:49.978Z"
   },
   {
    "duration": 3,
    "start_time": "2022-05-02T18:10:00.425Z"
   },
   {
    "duration": 150,
    "start_time": "2022-05-02T18:10:00.432Z"
   },
   {
    "duration": 7,
    "start_time": "2022-05-02T18:10:00.584Z"
   },
   {
    "duration": 46,
    "start_time": "2022-05-02T18:10:00.592Z"
   },
   {
    "duration": 9,
    "start_time": "2022-05-02T18:10:00.640Z"
   },
   {
    "duration": 16,
    "start_time": "2022-05-02T18:10:00.651Z"
   },
   {
    "duration": 5,
    "start_time": "2022-05-02T18:10:00.669Z"
   },
   {
    "duration": 26,
    "start_time": "2022-05-02T18:10:00.676Z"
   },
   {
    "duration": 31,
    "start_time": "2022-05-02T18:10:00.704Z"
   },
   {
    "duration": 24,
    "start_time": "2022-05-02T18:10:00.736Z"
   },
   {
    "duration": 83,
    "start_time": "2022-05-02T18:10:00.761Z"
   },
   {
    "duration": 68,
    "start_time": "2022-05-02T18:10:00.846Z"
   },
   {
    "duration": 58,
    "start_time": "2022-05-02T18:10:00.924Z"
   },
   {
    "duration": 53,
    "start_time": "2022-05-02T18:10:00.984Z"
   },
   {
    "duration": 3,
    "start_time": "2022-05-02T18:10:01.040Z"
   },
   {
    "duration": 19,
    "start_time": "2022-05-02T18:10:01.045Z"
   },
   {
    "duration": 37,
    "start_time": "2022-05-02T18:10:01.065Z"
   },
   {
    "duration": 25,
    "start_time": "2022-05-02T18:10:01.104Z"
   },
   {
    "duration": 16,
    "start_time": "2022-05-02T18:10:01.130Z"
   },
   {
    "duration": 5,
    "start_time": "2022-05-02T18:10:01.148Z"
   },
   {
    "duration": 42,
    "start_time": "2022-05-02T18:10:01.155Z"
   },
   {
    "duration": 36,
    "start_time": "2022-05-02T18:10:01.199Z"
   },
   {
    "duration": 21,
    "start_time": "2022-05-02T18:10:01.237Z"
   },
   {
    "duration": 16,
    "start_time": "2022-05-02T18:10:01.260Z"
   },
   {
    "duration": 32,
    "start_time": "2022-05-02T18:10:01.278Z"
   },
   {
    "duration": 19,
    "start_time": "2022-05-02T18:10:01.323Z"
   },
   {
    "duration": 10,
    "start_time": "2022-05-02T18:10:01.344Z"
   },
   {
    "duration": 35,
    "start_time": "2022-05-02T18:10:01.356Z"
   },
   {
    "duration": 18,
    "start_time": "2022-05-02T18:10:01.393Z"
   },
   {
    "duration": 11,
    "start_time": "2022-05-02T18:10:01.413Z"
   },
   {
    "duration": 57,
    "start_time": "2022-05-02T18:10:01.426Z"
   },
   {
    "duration": 35,
    "start_time": "2022-05-02T18:10:01.484Z"
   },
   {
    "duration": 36,
    "start_time": "2022-05-02T18:10:01.520Z"
   },
   {
    "duration": 12,
    "start_time": "2022-05-02T18:10:01.557Z"
   },
   {
    "duration": 12,
    "start_time": "2022-05-02T18:10:13.456Z"
   },
   {
    "duration": 9,
    "start_time": "2022-05-02T18:10:21.023Z"
   },
   {
    "duration": 2,
    "start_time": "2022-05-02T18:10:25.052Z"
   },
   {
    "duration": 204,
    "start_time": "2022-05-02T18:10:25.057Z"
   },
   {
    "duration": 6,
    "start_time": "2022-05-02T18:10:25.263Z"
   },
   {
    "duration": 35,
    "start_time": "2022-05-02T18:10:25.271Z"
   },
   {
    "duration": 6,
    "start_time": "2022-05-02T18:10:25.308Z"
   },
   {
    "duration": 15,
    "start_time": "2022-05-02T18:10:25.315Z"
   },
   {
    "duration": 3,
    "start_time": "2022-05-02T18:10:25.332Z"
   },
   {
    "duration": 41,
    "start_time": "2022-05-02T18:10:25.337Z"
   },
   {
    "duration": 28,
    "start_time": "2022-05-02T18:10:25.379Z"
   },
   {
    "duration": 55,
    "start_time": "2022-05-02T18:10:25.409Z"
   },
   {
    "duration": 70,
    "start_time": "2022-05-02T18:10:25.467Z"
   },
   {
    "duration": 69,
    "start_time": "2022-05-02T18:10:25.538Z"
   },
   {
    "duration": 73,
    "start_time": "2022-05-02T18:10:25.609Z"
   },
   {
    "duration": 44,
    "start_time": "2022-05-02T18:10:25.683Z"
   },
   {
    "duration": 10,
    "start_time": "2022-05-02T18:10:25.728Z"
   },
   {
    "duration": 11,
    "start_time": "2022-05-02T18:10:25.740Z"
   },
   {
    "duration": 43,
    "start_time": "2022-05-02T18:10:25.753Z"
   },
   {
    "duration": 11,
    "start_time": "2022-05-02T18:10:25.797Z"
   },
   {
    "duration": 21,
    "start_time": "2022-05-02T18:10:25.809Z"
   },
   {
    "duration": 17,
    "start_time": "2022-05-02T18:10:25.831Z"
   },
   {
    "duration": 40,
    "start_time": "2022-05-02T18:10:25.850Z"
   },
   {
    "duration": 22,
    "start_time": "2022-05-02T18:10:25.892Z"
   },
   {
    "duration": 20,
    "start_time": "2022-05-02T18:10:25.916Z"
   },
   {
    "duration": 19,
    "start_time": "2022-05-02T18:10:25.937Z"
   },
   {
    "duration": 37,
    "start_time": "2022-05-02T18:10:25.957Z"
   },
   {
    "duration": 14,
    "start_time": "2022-05-02T18:10:25.996Z"
   },
   {
    "duration": 10,
    "start_time": "2022-05-02T18:10:26.011Z"
   },
   {
    "duration": 27,
    "start_time": "2022-05-02T18:10:26.022Z"
   },
   {
    "duration": 11,
    "start_time": "2022-05-02T18:10:26.053Z"
   },
   {
    "duration": 8,
    "start_time": "2022-05-02T18:10:26.065Z"
   },
   {
    "duration": 31,
    "start_time": "2022-05-02T18:10:26.075Z"
   },
   {
    "duration": 31,
    "start_time": "2022-05-02T18:10:26.108Z"
   },
   {
    "duration": 15,
    "start_time": "2022-05-02T18:10:26.140Z"
   },
   {
    "duration": 22,
    "start_time": "2022-05-02T18:10:26.157Z"
   },
   {
    "duration": 13,
    "start_time": "2022-05-02T18:10:26.180Z"
   },
   {
    "duration": 3,
    "start_time": "2022-05-02T18:10:44.131Z"
   },
   {
    "duration": 138,
    "start_time": "2022-05-02T18:10:44.137Z"
   },
   {
    "duration": 6,
    "start_time": "2022-05-02T18:10:44.279Z"
   },
   {
    "duration": 46,
    "start_time": "2022-05-02T18:10:44.286Z"
   },
   {
    "duration": 3,
    "start_time": "2022-05-02T18:10:44.334Z"
   },
   {
    "duration": 12,
    "start_time": "2022-05-02T18:10:44.339Z"
   },
   {
    "duration": 4,
    "start_time": "2022-05-02T18:10:44.353Z"
   },
   {
    "duration": 24,
    "start_time": "2022-05-02T18:10:44.358Z"
   },
   {
    "duration": 16,
    "start_time": "2022-05-02T18:10:44.384Z"
   },
   {
    "duration": 23,
    "start_time": "2022-05-02T18:10:44.423Z"
   },
   {
    "duration": 64,
    "start_time": "2022-05-02T18:10:44.449Z"
   },
   {
    "duration": 69,
    "start_time": "2022-05-02T18:10:44.523Z"
   },
   {
    "duration": 70,
    "start_time": "2022-05-02T18:10:44.594Z"
   },
   {
    "duration": 34,
    "start_time": "2022-05-02T18:10:44.666Z"
   },
   {
    "duration": 3,
    "start_time": "2022-05-02T18:10:44.702Z"
   },
   {
    "duration": 25,
    "start_time": "2022-05-02T18:10:44.706Z"
   },
   {
    "duration": 35,
    "start_time": "2022-05-02T18:10:44.732Z"
   },
   {
    "duration": 10,
    "start_time": "2022-05-02T18:10:44.768Z"
   },
   {
    "duration": 10,
    "start_time": "2022-05-02T18:10:44.780Z"
   },
   {
    "duration": 5,
    "start_time": "2022-05-02T18:10:44.791Z"
   },
   {
    "duration": 20,
    "start_time": "2022-05-02T18:10:44.823Z"
   },
   {
    "duration": 14,
    "start_time": "2022-05-02T18:10:44.845Z"
   },
   {
    "duration": 14,
    "start_time": "2022-05-02T18:10:44.860Z"
   },
   {
    "duration": 13,
    "start_time": "2022-05-02T18:10:44.876Z"
   },
   {
    "duration": 46,
    "start_time": "2022-05-02T18:10:44.891Z"
   },
   {
    "duration": 14,
    "start_time": "2022-05-02T18:10:44.939Z"
   },
   {
    "duration": 9,
    "start_time": "2022-05-02T18:10:44.954Z"
   },
   {
    "duration": 13,
    "start_time": "2022-05-02T18:10:44.965Z"
   },
   {
    "duration": 12,
    "start_time": "2022-05-02T18:10:44.981Z"
   },
   {
    "duration": 29,
    "start_time": "2022-05-02T18:10:44.995Z"
   },
   {
    "duration": 22,
    "start_time": "2022-05-02T18:10:45.025Z"
   },
   {
    "duration": 18,
    "start_time": "2022-05-02T18:10:45.049Z"
   },
   {
    "duration": 15,
    "start_time": "2022-05-02T18:10:45.069Z"
   },
   {
    "duration": 12,
    "start_time": "2022-05-02T18:10:45.085Z"
   },
   {
    "duration": 2,
    "start_time": "2022-05-02T18:10:50.228Z"
   },
   {
    "duration": 158,
    "start_time": "2022-05-02T18:10:50.235Z"
   },
   {
    "duration": 7,
    "start_time": "2022-05-02T18:10:50.395Z"
   },
   {
    "duration": 49,
    "start_time": "2022-05-02T18:10:50.404Z"
   },
   {
    "duration": 3,
    "start_time": "2022-05-02T18:10:50.456Z"
   },
   {
    "duration": 15,
    "start_time": "2022-05-02T18:10:50.461Z"
   },
   {
    "duration": 5,
    "start_time": "2022-05-02T18:10:50.477Z"
   },
   {
    "duration": 62,
    "start_time": "2022-05-02T18:10:50.483Z"
   },
   {
    "duration": 21,
    "start_time": "2022-05-02T18:10:50.547Z"
   },
   {
    "duration": 23,
    "start_time": "2022-05-02T18:10:50.569Z"
   },
   {
    "duration": 91,
    "start_time": "2022-05-02T18:10:50.595Z"
   },
   {
    "duration": 88,
    "start_time": "2022-05-02T18:10:50.687Z"
   },
   {
    "duration": 75,
    "start_time": "2022-05-02T18:10:50.776Z"
   },
   {
    "duration": 32,
    "start_time": "2022-05-02T18:10:50.853Z"
   },
   {
    "duration": 3,
    "start_time": "2022-05-02T18:10:50.887Z"
   },
   {
    "duration": 16,
    "start_time": "2022-05-02T18:10:50.891Z"
   },
   {
    "duration": 74,
    "start_time": "2022-05-02T18:10:50.908Z"
   },
   {
    "duration": 15,
    "start_time": "2022-05-02T18:10:50.984Z"
   },
   {
    "duration": 28,
    "start_time": "2022-05-02T18:10:51.001Z"
   },
   {
    "duration": 3,
    "start_time": "2022-05-02T18:10:51.031Z"
   },
   {
    "duration": 42,
    "start_time": "2022-05-02T18:10:51.036Z"
   },
   {
    "duration": 14,
    "start_time": "2022-05-02T18:10:51.080Z"
   },
   {
    "duration": 21,
    "start_time": "2022-05-02T18:10:51.095Z"
   },
   {
    "duration": 15,
    "start_time": "2022-05-02T18:10:51.117Z"
   },
   {
    "duration": 17,
    "start_time": "2022-05-02T18:10:51.134Z"
   },
   {
    "duration": 12,
    "start_time": "2022-05-02T18:10:51.153Z"
   },
   {
    "duration": 7,
    "start_time": "2022-05-02T18:10:51.167Z"
   },
   {
    "duration": 18,
    "start_time": "2022-05-02T18:10:51.176Z"
   },
   {
    "duration": 33,
    "start_time": "2022-05-02T18:10:51.197Z"
   },
   {
    "duration": 5,
    "start_time": "2022-05-02T18:10:51.232Z"
   },
   {
    "duration": 22,
    "start_time": "2022-05-02T18:10:51.238Z"
   },
   {
    "duration": 12,
    "start_time": "2022-05-02T18:10:51.262Z"
   },
   {
    "duration": 17,
    "start_time": "2022-05-02T18:10:51.276Z"
   },
   {
    "duration": 13,
    "start_time": "2022-05-02T18:10:51.323Z"
   },
   {
    "duration": 14,
    "start_time": "2022-05-02T18:11:07.711Z"
   },
   {
    "duration": 6,
    "start_time": "2022-05-02T18:12:39.311Z"
   },
   {
    "duration": 7,
    "start_time": "2022-05-02T18:16:44.531Z"
   },
   {
    "duration": 6,
    "start_time": "2022-05-02T18:16:54.790Z"
   },
   {
    "duration": 3,
    "start_time": "2022-05-02T18:23:19.990Z"
   },
   {
    "duration": 10,
    "start_time": "2022-05-02T18:23:22.846Z"
   },
   {
    "duration": 36,
    "start_time": "2022-05-02T18:35:26.873Z"
   },
   {
    "duration": 8,
    "start_time": "2022-05-02T18:39:35.804Z"
   },
   {
    "duration": 2,
    "start_time": "2022-05-02T18:59:04.183Z"
   },
   {
    "duration": 146,
    "start_time": "2022-05-02T18:59:04.192Z"
   },
   {
    "duration": 9,
    "start_time": "2022-05-02T18:59:04.340Z"
   },
   {
    "duration": 32,
    "start_time": "2022-05-02T18:59:04.351Z"
   },
   {
    "duration": 5,
    "start_time": "2022-05-02T18:59:04.385Z"
   },
   {
    "duration": 34,
    "start_time": "2022-05-02T18:59:04.393Z"
   },
   {
    "duration": 5,
    "start_time": "2022-05-02T18:59:04.430Z"
   },
   {
    "duration": 41,
    "start_time": "2022-05-02T18:59:04.437Z"
   },
   {
    "duration": 46,
    "start_time": "2022-05-02T18:59:04.481Z"
   },
   {
    "duration": 42,
    "start_time": "2022-05-02T18:59:04.529Z"
   },
   {
    "duration": 78,
    "start_time": "2022-05-02T18:59:04.572Z"
   },
   {
    "duration": 79,
    "start_time": "2022-05-02T18:59:04.651Z"
   },
   {
    "duration": 53,
    "start_time": "2022-05-02T18:59:04.731Z"
   },
   {
    "duration": 46,
    "start_time": "2022-05-02T18:59:04.785Z"
   },
   {
    "duration": 3,
    "start_time": "2022-05-02T18:59:04.834Z"
   },
   {
    "duration": 17,
    "start_time": "2022-05-02T18:59:04.838Z"
   },
   {
    "duration": 33,
    "start_time": "2022-05-02T18:59:04.856Z"
   },
   {
    "duration": 10,
    "start_time": "2022-05-02T18:59:04.891Z"
   },
   {
    "duration": 26,
    "start_time": "2022-05-02T18:59:04.903Z"
   },
   {
    "duration": 4,
    "start_time": "2022-05-02T18:59:04.930Z"
   },
   {
    "duration": 21,
    "start_time": "2022-05-02T18:59:04.935Z"
   },
   {
    "duration": 12,
    "start_time": "2022-05-02T18:59:04.957Z"
   },
   {
    "duration": 12,
    "start_time": "2022-05-02T18:59:04.970Z"
   },
   {
    "duration": 41,
    "start_time": "2022-05-02T18:59:04.984Z"
   },
   {
    "duration": 15,
    "start_time": "2022-05-02T18:59:05.027Z"
   },
   {
    "duration": 14,
    "start_time": "2022-05-02T18:59:05.043Z"
   },
   {
    "duration": 8,
    "start_time": "2022-05-02T18:59:05.059Z"
   },
   {
    "duration": 13,
    "start_time": "2022-05-02T18:59:05.068Z"
   },
   {
    "duration": 8,
    "start_time": "2022-05-02T18:59:05.082Z"
   },
   {
    "duration": 33,
    "start_time": "2022-05-02T18:59:05.092Z"
   },
   {
    "duration": 22,
    "start_time": "2022-05-02T18:59:05.126Z"
   },
   {
    "duration": 11,
    "start_time": "2022-05-02T18:59:05.150Z"
   },
   {
    "duration": 15,
    "start_time": "2022-05-02T18:59:05.163Z"
   },
   {
    "duration": 10,
    "start_time": "2022-05-02T18:59:05.180Z"
   },
   {
    "duration": 34,
    "start_time": "2022-05-02T18:59:05.192Z"
   },
   {
    "duration": 4,
    "start_time": "2022-05-02T18:59:05.228Z"
   },
   {
    "duration": 8,
    "start_time": "2022-05-02T18:59:05.234Z"
   },
   {
    "duration": 5,
    "start_time": "2022-05-02T18:59:05.243Z"
   },
   {
    "duration": 133,
    "start_time": "2022-05-05T20:11:02.394Z"
   },
   {
    "duration": 558,
    "start_time": "2022-05-05T20:11:16.514Z"
   },
   {
    "duration": 317,
    "start_time": "2022-05-05T20:11:17.077Z"
   },
   {
    "duration": 33,
    "start_time": "2022-05-05T20:11:17.397Z"
   },
   {
    "duration": 17,
    "start_time": "2022-05-05T20:11:17.433Z"
   },
   {
    "duration": 94,
    "start_time": "2022-05-05T20:11:17.455Z"
   },
   {
    "duration": 5,
    "start_time": "2022-05-05T20:11:17.551Z"
   },
   {
    "duration": 19,
    "start_time": "2022-05-05T20:11:17.559Z"
   },
   {
    "duration": 13,
    "start_time": "2022-05-05T20:11:17.581Z"
   },
   {
    "duration": 43,
    "start_time": "2022-05-05T20:11:17.597Z"
   },
   {
    "duration": 58,
    "start_time": "2022-05-05T20:11:17.642Z"
   },
   {
    "duration": 43,
    "start_time": "2022-05-05T20:11:17.706Z"
   },
   {
    "duration": 132,
    "start_time": "2022-05-05T20:11:17.752Z"
   },
   {
    "duration": 148,
    "start_time": "2022-05-05T20:11:17.886Z"
   },
   {
    "duration": 109,
    "start_time": "2022-05-05T20:11:18.037Z"
   },
   {
    "duration": 80,
    "start_time": "2022-05-05T20:11:18.149Z"
   },
   {
    "duration": 5,
    "start_time": "2022-05-05T20:11:18.231Z"
   },
   {
    "duration": 25,
    "start_time": "2022-05-05T20:11:18.238Z"
   },
   {
    "duration": 80,
    "start_time": "2022-05-05T20:11:18.265Z"
   },
   {
    "duration": 18,
    "start_time": "2022-05-05T20:11:18.347Z"
   },
   {
    "duration": 47,
    "start_time": "2022-05-05T20:11:18.367Z"
   },
   {
    "duration": 6,
    "start_time": "2022-05-05T20:11:18.417Z"
   },
   {
    "duration": 37,
    "start_time": "2022-05-05T20:11:18.426Z"
   },
   {
    "duration": 34,
    "start_time": "2022-05-05T20:11:18.465Z"
   },
   {
    "duration": 35,
    "start_time": "2022-05-05T20:11:18.502Z"
   },
   {
    "duration": 23,
    "start_time": "2022-05-05T20:11:18.544Z"
   },
   {
    "duration": 49,
    "start_time": "2022-05-05T20:11:18.569Z"
   },
   {
    "duration": 27,
    "start_time": "2022-05-05T20:11:18.621Z"
   },
   {
    "duration": 12,
    "start_time": "2022-05-05T20:11:18.650Z"
   },
   {
    "duration": 18,
    "start_time": "2022-05-05T20:11:18.693Z"
   },
   {
    "duration": 18,
    "start_time": "2022-05-05T20:11:18.714Z"
   },
   {
    "duration": 5,
    "start_time": "2022-05-05T20:11:18.735Z"
   },
   {
    "duration": 61,
    "start_time": "2022-05-05T20:11:18.743Z"
   },
   {
    "duration": 31,
    "start_time": "2022-05-05T20:11:18.806Z"
   },
   {
    "duration": 23,
    "start_time": "2022-05-05T20:11:18.839Z"
   },
   {
    "duration": 55,
    "start_time": "2022-05-05T20:11:18.864Z"
   },
   {
    "duration": 19,
    "start_time": "2022-05-05T20:11:18.922Z"
   },
   {
    "duration": 9,
    "start_time": "2022-05-05T20:11:18.943Z"
   },
   {
    "duration": 15,
    "start_time": "2022-05-05T20:11:18.954Z"
   },
   {
    "duration": 30,
    "start_time": "2022-05-05T20:11:18.972Z"
   },
   {
    "duration": 107,
    "start_time": "2022-05-06T21:02:57.195Z"
   },
   {
    "duration": 41,
    "start_time": "2022-05-06T21:04:13.987Z"
   },
   {
    "duration": 6,
    "start_time": "2022-05-06T21:04:19.887Z"
   },
   {
    "duration": 436,
    "start_time": "2022-05-06T21:04:30.347Z"
   },
   {
    "duration": 142,
    "start_time": "2022-05-06T21:04:30.785Z"
   },
   {
    "duration": 20,
    "start_time": "2022-05-06T21:04:30.928Z"
   },
   {
    "duration": 8,
    "start_time": "2022-05-06T21:04:30.951Z"
   },
   {
    "duration": 30,
    "start_time": "2022-05-06T21:04:30.961Z"
   },
   {
    "duration": 4,
    "start_time": "2022-05-06T21:04:30.993Z"
   },
   {
    "duration": 16,
    "start_time": "2022-05-06T21:04:30.998Z"
   },
   {
    "duration": 7,
    "start_time": "2022-05-06T21:04:31.016Z"
   },
   {
    "duration": 23,
    "start_time": "2022-05-06T21:04:31.047Z"
   },
   {
    "duration": 28,
    "start_time": "2022-05-06T21:04:31.073Z"
   },
   {
    "duration": 23,
    "start_time": "2022-05-06T21:04:31.103Z"
   },
   {
    "duration": 79,
    "start_time": "2022-05-06T21:04:31.128Z"
   },
   {
    "duration": 81,
    "start_time": "2022-05-06T21:04:31.209Z"
   },
   {
    "duration": 64,
    "start_time": "2022-05-06T21:04:31.292Z"
   },
   {
    "duration": 40,
    "start_time": "2022-05-06T21:04:31.357Z"
   },
   {
    "duration": 3,
    "start_time": "2022-05-06T21:04:31.398Z"
   },
   {
    "duration": 9,
    "start_time": "2022-05-06T21:04:31.403Z"
   },
   {
    "duration": 56,
    "start_time": "2022-05-06T21:04:31.414Z"
   },
   {
    "duration": 11,
    "start_time": "2022-05-06T21:04:31.471Z"
   },
   {
    "duration": 10,
    "start_time": "2022-05-06T21:04:31.484Z"
   },
   {
    "duration": 4,
    "start_time": "2022-05-06T21:04:31.495Z"
   },
   {
    "duration": 19,
    "start_time": "2022-05-06T21:04:31.500Z"
   },
   {
    "duration": 41,
    "start_time": "2022-05-06T21:04:31.521Z"
   },
   {
    "duration": 15,
    "start_time": "2022-05-06T21:04:31.563Z"
   },
   {
    "duration": 14,
    "start_time": "2022-05-06T21:04:31.580Z"
   },
   {
    "duration": 17,
    "start_time": "2022-05-06T21:04:31.596Z"
   },
   {
    "duration": 43,
    "start_time": "2022-05-06T21:04:31.615Z"
   },
   {
    "duration": 8,
    "start_time": "2022-05-06T21:04:31.661Z"
   },
   {
    "duration": 12,
    "start_time": "2022-05-06T21:04:31.670Z"
   },
   {
    "duration": 9,
    "start_time": "2022-05-06T21:04:31.683Z"
   },
   {
    "duration": 4,
    "start_time": "2022-05-06T21:04:31.694Z"
   },
   {
    "duration": 51,
    "start_time": "2022-05-06T21:04:31.699Z"
   },
   {
    "duration": 12,
    "start_time": "2022-05-06T21:04:31.751Z"
   },
   {
    "duration": 16,
    "start_time": "2022-05-06T21:04:31.764Z"
   },
   {
    "duration": 11,
    "start_time": "2022-05-06T21:04:31.781Z"
   },
   {
    "duration": 10,
    "start_time": "2022-05-06T21:04:31.793Z"
   },
   {
    "duration": 4,
    "start_time": "2022-05-06T21:04:31.804Z"
   },
   {
    "duration": 42,
    "start_time": "2022-05-06T21:04:31.809Z"
   },
   {
    "duration": 6,
    "start_time": "2022-05-06T21:04:31.852Z"
   },
   {
    "duration": 16,
    "start_time": "2022-05-06T21:04:41.399Z"
   },
   {
    "duration": 102,
    "start_time": "2022-05-06T21:09:18.307Z"
   },
   {
    "duration": 11,
    "start_time": "2022-05-06T21:15:57.658Z"
   },
   {
    "duration": 38,
    "start_time": "2022-05-06T21:16:04.750Z"
   },
   {
    "duration": 25,
    "start_time": "2022-05-06T21:20:36.570Z"
   },
   {
    "duration": 57,
    "start_time": "2022-05-06T21:20:49.830Z"
   },
   {
    "duration": 58,
    "start_time": "2022-05-06T21:20:52.269Z"
   },
   {
    "duration": 58,
    "start_time": "2022-05-06T21:21:15.841Z"
   },
   {
    "duration": 64,
    "start_time": "2022-05-06T21:21:50.801Z"
   },
   {
    "duration": 98,
    "start_time": "2022-05-06T21:23:21.421Z"
   },
   {
    "duration": 4,
    "start_time": "2022-05-06T21:26:00.917Z"
   },
   {
    "duration": 17,
    "start_time": "2022-05-06T21:27:48.365Z"
   },
   {
    "duration": 17,
    "start_time": "2022-05-06T21:28:16.089Z"
   },
   {
    "duration": 99,
    "start_time": "2022-05-06T21:28:41.981Z"
   },
   {
    "duration": 61,
    "start_time": "2022-05-06T21:37:20.681Z"
   },
   {
    "duration": 15,
    "start_time": "2022-05-06T21:42:45.572Z"
   },
   {
    "duration": 104,
    "start_time": "2022-05-06T21:42:49.252Z"
   },
   {
    "duration": 16,
    "start_time": "2022-05-06T21:42:52.484Z"
   },
   {
    "duration": 16,
    "start_time": "2022-05-06T21:42:55.072Z"
   },
   {
    "duration": 2,
    "start_time": "2022-05-06T21:42:59.128Z"
   },
   {
    "duration": 156,
    "start_time": "2022-05-06T21:42:59.134Z"
   },
   {
    "duration": 10,
    "start_time": "2022-05-06T21:42:59.292Z"
   },
   {
    "duration": 10,
    "start_time": "2022-05-06T21:42:59.303Z"
   },
   {
    "duration": 57,
    "start_time": "2022-05-06T21:42:59.315Z"
   },
   {
    "duration": 4,
    "start_time": "2022-05-06T21:42:59.373Z"
   },
   {
    "duration": 10,
    "start_time": "2022-05-06T21:42:59.378Z"
   },
   {
    "duration": 4,
    "start_time": "2022-05-06T21:42:59.389Z"
   },
   {
    "duration": 25,
    "start_time": "2022-05-06T21:42:59.395Z"
   },
   {
    "duration": 38,
    "start_time": "2022-05-06T21:42:59.421Z"
   },
   {
    "duration": 23,
    "start_time": "2022-05-06T21:42:59.462Z"
   },
   {
    "duration": 75,
    "start_time": "2022-05-06T21:42:59.487Z"
   },
   {
    "duration": 62,
    "start_time": "2022-05-06T21:42:59.564Z"
   },
   {
    "duration": 64,
    "start_time": "2022-05-06T21:42:59.628Z"
   },
   {
    "duration": 37,
    "start_time": "2022-05-06T21:42:59.693Z"
   },
   {
    "duration": 3,
    "start_time": "2022-05-06T21:42:59.748Z"
   },
   {
    "duration": 17,
    "start_time": "2022-05-06T21:42:59.753Z"
   },
   {
    "duration": 38,
    "start_time": "2022-05-06T21:42:59.772Z"
   },
   {
    "duration": 11,
    "start_time": "2022-05-06T21:42:59.811Z"
   },
   {
    "duration": 28,
    "start_time": "2022-05-06T21:42:59.823Z"
   },
   {
    "duration": 3,
    "start_time": "2022-05-06T21:42:59.853Z"
   },
   {
    "duration": 23,
    "start_time": "2022-05-06T21:42:59.858Z"
   },
   {
    "duration": 14,
    "start_time": "2022-05-06T21:42:59.883Z"
   },
   {
    "duration": 14,
    "start_time": "2022-05-06T21:42:59.898Z"
   },
   {
    "duration": 38,
    "start_time": "2022-05-06T21:42:59.914Z"
   },
   {
    "duration": 17,
    "start_time": "2022-05-06T21:42:59.953Z"
   },
   {
    "duration": 14,
    "start_time": "2022-05-06T21:42:59.971Z"
   },
   {
    "duration": 97,
    "start_time": "2022-05-06T21:42:59.987Z"
   },
   {
    "duration": 4,
    "start_time": "2022-05-06T21:43:00.088Z"
   },
   {
    "duration": 26,
    "start_time": "2022-05-06T21:43:00.093Z"
   },
   {
    "duration": 14,
    "start_time": "2022-05-06T21:43:00.121Z"
   },
   {
    "duration": 3,
    "start_time": "2022-05-06T21:43:00.148Z"
   },
   {
    "duration": 33,
    "start_time": "2022-05-06T21:43:00.153Z"
   },
   {
    "duration": 12,
    "start_time": "2022-05-06T21:43:00.188Z"
   },
   {
    "duration": 21,
    "start_time": "2022-05-06T21:43:00.202Z"
   },
   {
    "duration": 23,
    "start_time": "2022-05-06T21:43:00.225Z"
   },
   {
    "duration": 8,
    "start_time": "2022-05-06T21:43:00.249Z"
   },
   {
    "duration": 4,
    "start_time": "2022-05-06T21:43:00.259Z"
   },
   {
    "duration": 18,
    "start_time": "2022-05-06T21:43:00.265Z"
   },
   {
    "duration": 8,
    "start_time": "2022-05-06T21:43:00.285Z"
   }
  ],
  "colab": {
   "collapsed_sections": [
    "E0vqbgi9ay0H",
    "VUC88oWjTJw2"
   ],
   "name": "yandex_music_project.ipynb",
   "provenance": []
  },
  "kernelspec": {
   "display_name": "Python 3 (ipykernel)",
   "language": "python",
   "name": "python3"
  },
  "language_info": {
   "codemirror_mode": {
    "name": "ipython",
    "version": 3
   },
   "file_extension": ".py",
   "mimetype": "text/x-python",
   "name": "python",
   "nbconvert_exporter": "python",
   "pygments_lexer": "ipython3",
   "version": "3.9.7"
  },
  "toc": {
   "base_numbering": 1,
   "nav_menu": {},
   "number_sections": true,
   "sideBar": true,
   "skip_h1_title": true,
   "title_cell": "Table of Contents",
   "title_sidebar": "Contents",
   "toc_cell": false,
   "toc_position": {
    "height": "calc(100% - 180px)",
    "left": "10px",
    "top": "150px",
    "width": "255.586px"
   },
   "toc_section_display": true,
   "toc_window_display": true
  }
 },
 "nbformat": 4,
 "nbformat_minor": 1
}
