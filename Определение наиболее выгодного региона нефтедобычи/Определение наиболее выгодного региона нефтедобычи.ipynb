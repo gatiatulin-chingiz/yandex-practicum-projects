{
 "cells": [
  {
   "cell_type": "markdown",
   "metadata": {},
   "source": [
    "# Определение наиболее выгодного региона нефтедобычи"
   ]
  },
  {
   "cell_type": "markdown",
   "metadata": {},
   "source": [
    "В данной исследовательской работы мы исследуем несколько регионов и определим целесообразность разработки в них месторождений нефти.\n",
    "\n",
    "**Цели исследования:**\n",
    "1. На основании имеющихся данных построить предсказательную модель, которая отразит текущие запасы нефти в регионе.\n",
    "2. Рассчитать минимальный средний запас нефти в регионах для их безубыточной разработки.\n",
    "3. Рассчитать прибыль и риски по каждому региону на основании предсказанных моделью данных.\n",
    "\n",
    "**Ход исследования:**\n",
    "1. Загрузим и подготовим данные.\n",
    "2. Обучим предсказательную модель на подготовленных данных.\n",
    "3. Произведем подготовку к расчету прибыли и рисков.\n",
    "4. Рассчитаем среднюю прибыль, 90% доверительный интервал прибыли и риски по каждому из регионов."
   ]
  },
  {
   "cell_type": "markdown",
   "metadata": {},
   "source": [
    "## Обзор данных"
   ]
  },
  {
   "cell_type": "markdown",
   "metadata": {},
   "source": [
    "Испортируем необходимые для исследования библиотеки и загрузим имеющиеся данные по кажому региону."
   ]
  },
  {
   "cell_type": "code",
   "execution_count": 1,
   "metadata": {
    "ExecuteTime": {
     "end_time": "2023-02-11T13:31:46.827890Z",
     "start_time": "2023-02-11T13:31:45.615988Z"
    }
   },
   "outputs": [],
   "source": [
    "# Импорт стандартных библиотек\n",
    "import pandas as pd\n",
    "import numpy as np\n",
    "from sklearn.metrics import mean_squared_error\n",
    "from sklearn.preprocessing import StandardScaler\n",
    "from sklearn.linear_model import LinearRegression\n",
    "from sklearn.model_selection import train_test_split"
   ]
  },
  {
   "cell_type": "code",
   "execution_count": 2,
   "metadata": {
    "ExecuteTime": {
     "end_time": "2023-02-11T13:31:47.332545Z",
     "start_time": "2023-02-11T13:31:46.831885Z"
    }
   },
   "outputs": [],
   "source": [
    "try:\n",
    "    geo_df_0 = pd.read_csv('D:\\\\Users\\\\BlackEdition\\\\Desktop\\\\'\n",
    "                           'Data Science\\\\Обучение в Яндекс\\\\'\n",
    "                           '9. Машинное обучение в бизнесе\\\\Проект\\\\geo_data_0.csv')\n",
    "    geo_df_1 = pd.read_csv('D:\\\\Users\\\\BlackEdition\\\\Desktop\\\\'\n",
    "                           'Data Science\\\\Обучение в Яндекс\\\\'\n",
    "                           '9. Машинное обучение в бизнесе\\\\Проект\\\\geo_data_1.csv')\n",
    "    geo_df_2 = pd.read_csv('D:\\\\Users\\\\BlackEdition\\\\Desktop\\\\'\n",
    "                           'Data Science\\\\Обучение в Яндекс\\\\'\n",
    "                           '9. Машинное обучение в бизнесе\\\\Проект\\\\geo_data_2.csv')\n",
    "except:\n",
    "    geo_df_0 = read_csv('/datasets/geo_data_0.csv')\n",
    "    geo_df_1 = read_csv('/datasets/geo_data_1.csv')\n",
    "    geo_df_2 = read_csv('/datasets/geo_data_2.csv')"
   ]
  },
  {
   "cell_type": "code",
   "execution_count": 3,
   "metadata": {
    "ExecuteTime": {
     "end_time": "2023-02-11T13:31:47.396375Z",
     "start_time": "2023-02-11T13:31:47.337534Z"
    }
   },
   "outputs": [
    {
     "name": "stdout",
     "output_type": "stream",
     "text": [
      "<class 'pandas.core.frame.DataFrame'>\n",
      "RangeIndex: 100000 entries, 0 to 99999\n",
      "Data columns (total 5 columns):\n",
      " #   Column   Non-Null Count   Dtype  \n",
      "---  ------   --------------   -----  \n",
      " 0   id       100000 non-null  object \n",
      " 1   f0       100000 non-null  float64\n",
      " 2   f1       100000 non-null  float64\n",
      " 3   f2       100000 non-null  float64\n",
      " 4   product  100000 non-null  float64\n",
      "dtypes: float64(4), object(1)\n",
      "memory usage: 3.8+ MB\n"
     ]
    },
    {
     "data": {
      "text/html": [
       "<div>\n",
       "<style scoped>\n",
       "    .dataframe tbody tr th:only-of-type {\n",
       "        vertical-align: middle;\n",
       "    }\n",
       "\n",
       "    .dataframe tbody tr th {\n",
       "        vertical-align: top;\n",
       "    }\n",
       "\n",
       "    .dataframe thead th {\n",
       "        text-align: right;\n",
       "    }\n",
       "</style>\n",
       "<table border=\"1\" class=\"dataframe\">\n",
       "  <thead>\n",
       "    <tr style=\"text-align: right;\">\n",
       "      <th></th>\n",
       "      <th>id</th>\n",
       "      <th>f0</th>\n",
       "      <th>f1</th>\n",
       "      <th>f2</th>\n",
       "      <th>product</th>\n",
       "    </tr>\n",
       "  </thead>\n",
       "  <tbody>\n",
       "    <tr>\n",
       "      <th>0</th>\n",
       "      <td>txEyH</td>\n",
       "      <td>0.705745</td>\n",
       "      <td>-0.497823</td>\n",
       "      <td>1.221170</td>\n",
       "      <td>105.280062</td>\n",
       "    </tr>\n",
       "    <tr>\n",
       "      <th>1</th>\n",
       "      <td>2acmU</td>\n",
       "      <td>1.334711</td>\n",
       "      <td>-0.340164</td>\n",
       "      <td>4.365080</td>\n",
       "      <td>73.037750</td>\n",
       "    </tr>\n",
       "    <tr>\n",
       "      <th>2</th>\n",
       "      <td>409Wp</td>\n",
       "      <td>1.022732</td>\n",
       "      <td>0.151990</td>\n",
       "      <td>1.419926</td>\n",
       "      <td>85.265647</td>\n",
       "    </tr>\n",
       "    <tr>\n",
       "      <th>3</th>\n",
       "      <td>iJLyR</td>\n",
       "      <td>-0.032172</td>\n",
       "      <td>0.139033</td>\n",
       "      <td>2.978566</td>\n",
       "      <td>168.620776</td>\n",
       "    </tr>\n",
       "    <tr>\n",
       "      <th>4</th>\n",
       "      <td>Xdl7t</td>\n",
       "      <td>1.988431</td>\n",
       "      <td>0.155413</td>\n",
       "      <td>4.751769</td>\n",
       "      <td>154.036647</td>\n",
       "    </tr>\n",
       "  </tbody>\n",
       "</table>\n",
       "</div>"
      ],
      "text/plain": [
       "      id        f0        f1        f2     product\n",
       "0  txEyH  0.705745 -0.497823  1.221170  105.280062\n",
       "1  2acmU  1.334711 -0.340164  4.365080   73.037750\n",
       "2  409Wp  1.022732  0.151990  1.419926   85.265647\n",
       "3  iJLyR -0.032172  0.139033  2.978566  168.620776\n",
       "4  Xdl7t  1.988431  0.155413  4.751769  154.036647"
      ]
     },
     "execution_count": 3,
     "metadata": {},
     "output_type": "execute_result"
    }
   ],
   "source": [
    "geo_df_0.info()\n",
    "geo_df_0.head(5)"
   ]
  },
  {
   "cell_type": "code",
   "execution_count": 4,
   "metadata": {
    "ExecuteTime": {
     "end_time": "2023-02-11T13:31:47.443298Z",
     "start_time": "2023-02-11T13:31:47.399367Z"
    }
   },
   "outputs": [
    {
     "name": "stdout",
     "output_type": "stream",
     "text": [
      "<class 'pandas.core.frame.DataFrame'>\n",
      "RangeIndex: 100000 entries, 0 to 99999\n",
      "Data columns (total 5 columns):\n",
      " #   Column   Non-Null Count   Dtype  \n",
      "---  ------   --------------   -----  \n",
      " 0   id       100000 non-null  object \n",
      " 1   f0       100000 non-null  float64\n",
      " 2   f1       100000 non-null  float64\n",
      " 3   f2       100000 non-null  float64\n",
      " 4   product  100000 non-null  float64\n",
      "dtypes: float64(4), object(1)\n",
      "memory usage: 3.8+ MB\n"
     ]
    },
    {
     "data": {
      "text/html": [
       "<div>\n",
       "<style scoped>\n",
       "    .dataframe tbody tr th:only-of-type {\n",
       "        vertical-align: middle;\n",
       "    }\n",
       "\n",
       "    .dataframe tbody tr th {\n",
       "        vertical-align: top;\n",
       "    }\n",
       "\n",
       "    .dataframe thead th {\n",
       "        text-align: right;\n",
       "    }\n",
       "</style>\n",
       "<table border=\"1\" class=\"dataframe\">\n",
       "  <thead>\n",
       "    <tr style=\"text-align: right;\">\n",
       "      <th></th>\n",
       "      <th>id</th>\n",
       "      <th>f0</th>\n",
       "      <th>f1</th>\n",
       "      <th>f2</th>\n",
       "      <th>product</th>\n",
       "    </tr>\n",
       "  </thead>\n",
       "  <tbody>\n",
       "    <tr>\n",
       "      <th>0</th>\n",
       "      <td>kBEdx</td>\n",
       "      <td>-15.001348</td>\n",
       "      <td>-8.276000</td>\n",
       "      <td>-0.005876</td>\n",
       "      <td>3.179103</td>\n",
       "    </tr>\n",
       "    <tr>\n",
       "      <th>1</th>\n",
       "      <td>62mP7</td>\n",
       "      <td>14.272088</td>\n",
       "      <td>-3.475083</td>\n",
       "      <td>0.999183</td>\n",
       "      <td>26.953261</td>\n",
       "    </tr>\n",
       "    <tr>\n",
       "      <th>2</th>\n",
       "      <td>vyE1P</td>\n",
       "      <td>6.263187</td>\n",
       "      <td>-5.948386</td>\n",
       "      <td>5.001160</td>\n",
       "      <td>134.766305</td>\n",
       "    </tr>\n",
       "    <tr>\n",
       "      <th>3</th>\n",
       "      <td>KcrkZ</td>\n",
       "      <td>-13.081196</td>\n",
       "      <td>-11.506057</td>\n",
       "      <td>4.999415</td>\n",
       "      <td>137.945408</td>\n",
       "    </tr>\n",
       "    <tr>\n",
       "      <th>4</th>\n",
       "      <td>AHL4O</td>\n",
       "      <td>12.702195</td>\n",
       "      <td>-8.147433</td>\n",
       "      <td>5.004363</td>\n",
       "      <td>134.766305</td>\n",
       "    </tr>\n",
       "  </tbody>\n",
       "</table>\n",
       "</div>"
      ],
      "text/plain": [
       "      id         f0         f1        f2     product\n",
       "0  kBEdx -15.001348  -8.276000 -0.005876    3.179103\n",
       "1  62mP7  14.272088  -3.475083  0.999183   26.953261\n",
       "2  vyE1P   6.263187  -5.948386  5.001160  134.766305\n",
       "3  KcrkZ -13.081196 -11.506057  4.999415  137.945408\n",
       "4  AHL4O  12.702195  -8.147433  5.004363  134.766305"
      ]
     },
     "execution_count": 4,
     "metadata": {},
     "output_type": "execute_result"
    }
   ],
   "source": [
    "geo_df_1.info()\n",
    "geo_df_1.head(5)"
   ]
  },
  {
   "cell_type": "code",
   "execution_count": 5,
   "metadata": {
    "ExecuteTime": {
     "end_time": "2023-02-11T13:31:47.506505Z",
     "start_time": "2023-02-11T13:31:47.448237Z"
    }
   },
   "outputs": [
    {
     "name": "stdout",
     "output_type": "stream",
     "text": [
      "<class 'pandas.core.frame.DataFrame'>\n",
      "RangeIndex: 100000 entries, 0 to 99999\n",
      "Data columns (total 5 columns):\n",
      " #   Column   Non-Null Count   Dtype  \n",
      "---  ------   --------------   -----  \n",
      " 0   id       100000 non-null  object \n",
      " 1   f0       100000 non-null  float64\n",
      " 2   f1       100000 non-null  float64\n",
      " 3   f2       100000 non-null  float64\n",
      " 4   product  100000 non-null  float64\n",
      "dtypes: float64(4), object(1)\n",
      "memory usage: 3.8+ MB\n"
     ]
    },
    {
     "data": {
      "text/html": [
       "<div>\n",
       "<style scoped>\n",
       "    .dataframe tbody tr th:only-of-type {\n",
       "        vertical-align: middle;\n",
       "    }\n",
       "\n",
       "    .dataframe tbody tr th {\n",
       "        vertical-align: top;\n",
       "    }\n",
       "\n",
       "    .dataframe thead th {\n",
       "        text-align: right;\n",
       "    }\n",
       "</style>\n",
       "<table border=\"1\" class=\"dataframe\">\n",
       "  <thead>\n",
       "    <tr style=\"text-align: right;\">\n",
       "      <th></th>\n",
       "      <th>id</th>\n",
       "      <th>f0</th>\n",
       "      <th>f1</th>\n",
       "      <th>f2</th>\n",
       "      <th>product</th>\n",
       "    </tr>\n",
       "  </thead>\n",
       "  <tbody>\n",
       "    <tr>\n",
       "      <th>0</th>\n",
       "      <td>fwXo0</td>\n",
       "      <td>-1.146987</td>\n",
       "      <td>0.963328</td>\n",
       "      <td>-0.828965</td>\n",
       "      <td>27.758673</td>\n",
       "    </tr>\n",
       "    <tr>\n",
       "      <th>1</th>\n",
       "      <td>WJtFt</td>\n",
       "      <td>0.262778</td>\n",
       "      <td>0.269839</td>\n",
       "      <td>-2.530187</td>\n",
       "      <td>56.069697</td>\n",
       "    </tr>\n",
       "    <tr>\n",
       "      <th>2</th>\n",
       "      <td>ovLUW</td>\n",
       "      <td>0.194587</td>\n",
       "      <td>0.289035</td>\n",
       "      <td>-5.586433</td>\n",
       "      <td>62.871910</td>\n",
       "    </tr>\n",
       "    <tr>\n",
       "      <th>3</th>\n",
       "      <td>q6cA6</td>\n",
       "      <td>2.236060</td>\n",
       "      <td>-0.553760</td>\n",
       "      <td>0.930038</td>\n",
       "      <td>114.572842</td>\n",
       "    </tr>\n",
       "    <tr>\n",
       "      <th>4</th>\n",
       "      <td>WPMUX</td>\n",
       "      <td>-0.515993</td>\n",
       "      <td>1.716266</td>\n",
       "      <td>5.899011</td>\n",
       "      <td>149.600746</td>\n",
       "    </tr>\n",
       "  </tbody>\n",
       "</table>\n",
       "</div>"
      ],
      "text/plain": [
       "      id        f0        f1        f2     product\n",
       "0  fwXo0 -1.146987  0.963328 -0.828965   27.758673\n",
       "1  WJtFt  0.262778  0.269839 -2.530187   56.069697\n",
       "2  ovLUW  0.194587  0.289035 -5.586433   62.871910\n",
       "3  q6cA6  2.236060 -0.553760  0.930038  114.572842\n",
       "4  WPMUX -0.515993  1.716266  5.899011  149.600746"
      ]
     },
     "execution_count": 5,
     "metadata": {},
     "output_type": "execute_result"
    }
   ],
   "source": [
    "geo_df_2.info()\n",
    "geo_df_2.head(5)"
   ]
  },
  {
   "cell_type": "markdown",
   "metadata": {},
   "source": [
    "### Вывод"
   ]
  },
  {
   "cell_type": "markdown",
   "metadata": {},
   "source": [
    "Из загруженных файлов видно, что у нас есть 100 тыс. различных данных геологоразведки по 3-м регионам. Данные состоят из признаков, характеризующих отдельно взятые скважины в уже исследованных регионах, и ключевых показателей объема запаса нефти в каждой из них."
   ]
  },
  {
   "cell_type": "markdown",
   "metadata": {},
   "source": [
    "## Предобработка данных"
   ]
  },
  {
   "cell_type": "markdown",
   "metadata": {},
   "source": [
    "Предобработаем данные.\n",
    "В данных отсутствуют пропуски, и значения признаков каждой из скважин сбалансированы, поэтому заменя пропусков и сэмплинг из предобработки исключим."
   ]
  },
  {
   "cell_type": "markdown",
   "metadata": {},
   "source": [
    "Проверим данные на наличие полных дубликатов."
   ]
  },
  {
   "cell_type": "code",
   "execution_count": 6,
   "metadata": {
    "ExecuteTime": {
     "end_time": "2023-02-11T13:31:47.836716Z",
     "start_time": "2023-02-11T13:31:47.510496Z"
    }
   },
   "outputs": [
    {
     "data": {
      "text/plain": [
       "0"
      ]
     },
     "metadata": {},
     "output_type": "display_data"
    },
    {
     "data": {
      "text/plain": [
       "0"
      ]
     },
     "metadata": {},
     "output_type": "display_data"
    },
    {
     "data": {
      "text/plain": [
       "0"
      ]
     },
     "metadata": {},
     "output_type": "display_data"
    }
   ],
   "source": [
    "display(geo_df_0.duplicated().sum(), geo_df_1.duplicated().sum(), geo_df_2.duplicated().sum())"
   ]
  },
  {
   "cell_type": "markdown",
   "metadata": {},
   "source": [
    "Полные дубликаты в данных отсутствуют."
   ]
  },
  {
   "cell_type": "markdown",
   "metadata": {},
   "source": [
    "Проверим данные на наличие дубликов по id скважин."
   ]
  },
  {
   "cell_type": "code",
   "execution_count": 7,
   "metadata": {
    "ExecuteTime": {
     "end_time": "2023-02-11T13:31:47.963377Z",
     "start_time": "2023-02-11T13:31:47.841704Z"
    }
   },
   "outputs": [
    {
     "data": {
      "text/plain": [
       "10"
      ]
     },
     "metadata": {},
     "output_type": "display_data"
    },
    {
     "data": {
      "text/plain": [
       "4"
      ]
     },
     "metadata": {},
     "output_type": "display_data"
    },
    {
     "data": {
      "text/plain": [
       "4"
      ]
     },
     "metadata": {},
     "output_type": "display_data"
    }
   ],
   "source": [
    "display(geo_df_0.duplicated(subset=['id']).sum(),\n",
    "        geo_df_1.duplicated(subset=['id']).sum(),\n",
    "        geo_df_2.duplicated(subset=['id']).sum())"
   ]
  },
  {
   "cell_type": "markdown",
   "metadata": {},
   "source": [
    "В данных есть дубликаты скважин.\n",
    "Однако:\n",
    " * их очень маленькое количество;\n",
    " * все остальные признаки скважин отличаются.\n",
    "В связи с изложенным мы оставим дубликаты скважин без изменений."
   ]
  },
  {
   "cell_type": "markdown",
   "metadata": {},
   "source": [
    "### Вывод"
   ]
  },
  {
   "cell_type": "markdown",
   "metadata": {},
   "source": [
    "Данные достаточно чистые, их предобработка не требуется. Приступим к обучению моделей."
   ]
  },
  {
   "cell_type": "markdown",
   "metadata": {},
   "source": [
    "## Обучение и проверка модели"
   ]
  },
  {
   "cell_type": "markdown",
   "metadata": {},
   "source": [
    "Разобъем данные на предсказательные признаки и ключевой признак по каждому региону."
   ]
  },
  {
   "cell_type": "code",
   "execution_count": 8,
   "metadata": {
    "ExecuteTime": {
     "end_time": "2023-02-11T13:31:48.010252Z",
     "start_time": "2023-02-11T13:31:47.967367Z"
    }
   },
   "outputs": [
    {
     "data": {
      "text/plain": [
       "(100000, 3)"
      ]
     },
     "metadata": {},
     "output_type": "display_data"
    },
    {
     "data": {
      "text/plain": [
       "(100000,)"
      ]
     },
     "metadata": {},
     "output_type": "display_data"
    },
    {
     "data": {
      "text/plain": [
       "(100000, 3)"
      ]
     },
     "metadata": {},
     "output_type": "display_data"
    },
    {
     "data": {
      "text/plain": [
       "(100000,)"
      ]
     },
     "metadata": {},
     "output_type": "display_data"
    },
    {
     "data": {
      "text/plain": [
       "(100000, 3)"
      ]
     },
     "metadata": {},
     "output_type": "display_data"
    },
    {
     "data": {
      "text/plain": [
       "(100000,)"
      ]
     },
     "metadata": {},
     "output_type": "display_data"
    }
   ],
   "source": [
    "features_0 = geo_df_0.drop(['id', 'product'], axis=1)\n",
    "target_0 = geo_df_0['product']\n",
    "\n",
    "features_1 = geo_df_1.drop(['id', 'product'], axis=1)\n",
    "target_1 = geo_df_1['product']\n",
    "\n",
    "features_2 = geo_df_2.drop(['id', 'product'], axis=1)\n",
    "target_2 = geo_df_2['product']\n",
    "\n",
    "display(features_0.shape, target_0.shape,\n",
    "        features_1.shape, target_1.shape,\n",
    "        features_2.shape, target_2.shape)"
   ]
  },
  {
   "cell_type": "markdown",
   "metadata": {},
   "source": [
    "Разобъем данные на обучающую и валидационную выборки по каждому региону."
   ]
  },
  {
   "cell_type": "code",
   "execution_count": 9,
   "metadata": {
    "ExecuteTime": {
     "end_time": "2023-02-11T13:31:48.134955Z",
     "start_time": "2023-02-11T13:31:48.012247Z"
    }
   },
   "outputs": [
    {
     "data": {
      "text/plain": [
       "(75000, 3)"
      ]
     },
     "metadata": {},
     "output_type": "display_data"
    },
    {
     "data": {
      "text/plain": [
       "(75000,)"
      ]
     },
     "metadata": {},
     "output_type": "display_data"
    },
    {
     "data": {
      "text/plain": [
       "(25000, 3)"
      ]
     },
     "metadata": {},
     "output_type": "display_data"
    },
    {
     "data": {
      "text/plain": [
       "(25000,)"
      ]
     },
     "metadata": {},
     "output_type": "display_data"
    },
    {
     "data": {
      "text/plain": [
       "(75000, 3)"
      ]
     },
     "metadata": {},
     "output_type": "display_data"
    },
    {
     "data": {
      "text/plain": [
       "(75000,)"
      ]
     },
     "metadata": {},
     "output_type": "display_data"
    },
    {
     "data": {
      "text/plain": [
       "(25000, 3)"
      ]
     },
     "metadata": {},
     "output_type": "display_data"
    },
    {
     "data": {
      "text/plain": [
       "(25000,)"
      ]
     },
     "metadata": {},
     "output_type": "display_data"
    },
    {
     "data": {
      "text/plain": [
       "(75000, 3)"
      ]
     },
     "metadata": {},
     "output_type": "display_data"
    },
    {
     "data": {
      "text/plain": [
       "(75000,)"
      ]
     },
     "metadata": {},
     "output_type": "display_data"
    },
    {
     "data": {
      "text/plain": [
       "(25000, 3)"
      ]
     },
     "metadata": {},
     "output_type": "display_data"
    },
    {
     "data": {
      "text/plain": [
       "(25000,)"
      ]
     },
     "metadata": {},
     "output_type": "display_data"
    }
   ],
   "source": [
    "state = np.random.RandomState(12345)\n",
    "\n",
    "# Разбивка данных на обучающую и валидационную выборки\n",
    "(features_train_0, features_valid_0,\n",
    " target_train_0, target_valid_0) = train_test_split(features_0, target_0,\n",
    "                                                    test_size=.25, random_state=state)\n",
    "(features_train_1, features_valid_1,\n",
    " target_train_1, target_valid_1) = train_test_split(features_1, target_1,\n",
    "                                                    test_size=.25, random_state=state)\n",
    "(features_train_2, features_valid_2,\n",
    " target_train_2, target_valid_2) = train_test_split(features_2, target_2,\n",
    "                                                    test_size=.25, random_state=state)\n",
    "\n",
    "display(features_train_0.shape, target_train_0.shape,\n",
    "        features_valid_0.shape, target_valid_0.shape)\n",
    "display(features_train_1.shape, target_train_1.shape,\n",
    "        features_valid_1.shape, target_valid_1.shape)\n",
    "display(features_train_2.shape, target_train_2.shape,\n",
    "        features_valid_2.shape, target_valid_2.shape)"
   ]
  },
  {
   "cell_type": "markdown",
   "metadata": {},
   "source": [
    "Для обучения выбрана модель логистической регрессии, как самая предсказуемая в данном случае.\n",
    "\n",
    "Обучим модели на данных каждого региона."
   ]
  },
  {
   "cell_type": "code",
   "execution_count": 10,
   "metadata": {
    "ExecuteTime": {
     "end_time": "2023-02-11T13:31:48.197756Z",
     "start_time": "2023-02-11T13:31:48.137912Z"
    }
   },
   "outputs": [
    {
     "data": {
      "text/plain": [
       "'RMSE: 37.58'"
      ]
     },
     "metadata": {},
     "output_type": "display_data"
    },
    {
     "data": {
      "text/plain": [
       "'Средний запас сырья по региону: 92.59'"
      ]
     },
     "metadata": {},
     "output_type": "display_data"
    }
   ],
   "source": [
    "# Модель для Региона № 1\n",
    "model_0 = LinearRegression()\n",
    "model_0.fit(features_train_0, target_train_0)\n",
    "predictions_valid_0 = model_0.predict(features_valid_0)\n",
    "\n",
    "result_0 = mean_squared_error(target_valid_0, predictions_valid_0) ** .5\n",
    "# Расчет среднего запаса сырья по региону\n",
    "average_stock_materials_0 = predictions_valid_0.mean()\n",
    "\n",
    "display(f'RMSE: {result_0:.2f}')\n",
    "display(f'Средний запас сырья по региону: {average_stock_materials_0:.2f}')"
   ]
  },
  {
   "cell_type": "code",
   "execution_count": 11,
   "metadata": {
    "ExecuteTime": {
     "end_time": "2023-02-11T13:31:48.244623Z",
     "start_time": "2023-02-11T13:31:48.201740Z"
    }
   },
   "outputs": [
    {
     "data": {
      "text/plain": [
       "'RMSE: 0.89'"
      ]
     },
     "metadata": {},
     "output_type": "display_data"
    },
    {
     "data": {
      "text/plain": [
       "'Средний запас сырья по региону: 68.77'"
      ]
     },
     "metadata": {},
     "output_type": "display_data"
    }
   ],
   "source": [
    "# Модель для Региона № 2\n",
    "model_1 = LinearRegression()\n",
    "model_1.fit(features_train_1, target_train_1)\n",
    "predictions_valid_1 = model_1.predict(features_valid_1)\n",
    "\n",
    "result_1 = mean_squared_error(target_valid_1, predictions_valid_1) ** .5\n",
    "# Расчет среднего запаса сырья по региону\n",
    "average_stock_materials_1 = predictions_valid_1.mean()\n",
    "\n",
    "display(f'RMSE: {result_1:.2f}')\n",
    "display(f'Средний запас сырья по региону: {average_stock_materials_1:.2f}')"
   ]
  },
  {
   "cell_type": "code",
   "execution_count": 12,
   "metadata": {
    "ExecuteTime": {
     "end_time": "2023-02-11T13:31:48.291498Z",
     "start_time": "2023-02-11T13:31:48.251608Z"
    }
   },
   "outputs": [
    {
     "data": {
      "text/plain": [
       "'RMSE: 39.96'"
      ]
     },
     "metadata": {},
     "output_type": "display_data"
    },
    {
     "data": {
      "text/plain": [
       "'Средний запас сырья по региону: 95.09'"
      ]
     },
     "metadata": {},
     "output_type": "display_data"
    }
   ],
   "source": [
    "# Модель для Региона № 1\n",
    "model_2 = LinearRegression()\n",
    "model_2.fit(features_train_2, target_train_2)\n",
    "predictions_valid_2 = model_2.predict(features_valid_2)\n",
    "\n",
    "result_2 = mean_squared_error(target_valid_2, predictions_valid_2) ** .5\n",
    "# Расчет среднего запаса сырья по региону\n",
    "average_stock_materials_2 = predictions_valid_2.mean()\n",
    "\n",
    "display(f'RMSE: {result_2:.2f}')\n",
    "display(f'Средний запас сырья по региону: {average_stock_materials_2:.2f}')"
   ]
  },
  {
   "cell_type": "markdown",
   "metadata": {},
   "source": [
    "### Вывод"
   ]
  },
  {
   "cell_type": "markdown",
   "metadata": {},
   "source": [
    "Модели обучены.\n",
    "\n",
    "Наибольший запас сырья показывает регион № 3 с показателем 94.97 тыс. тонн. нефти. Вторым по показателям запаса нефти идет регион № 1.\n",
    "\n",
    "В регионе № 2 самые маленькие запасы, однако корень из среднеквадратичной ошибки по предсказаниям в данном регионе стремится к нулю, что является неплохим показателем качества предсказаний второй модели."
   ]
  },
  {
   "cell_type": "markdown",
   "metadata": {},
   "source": [
    "## Подготовка к расчёту прибыли"
   ]
  },
  {
   "cell_type": "markdown",
   "metadata": {},
   "source": [
    "Запишем ключевые значения для расчета прибыли и рисков в константы для удобства."
   ]
  },
  {
   "cell_type": "code",
   "execution_count": 13,
   "metadata": {
    "ExecuteTime": {
     "end_time": "2023-02-11T13:31:48.307540Z",
     "start_time": "2023-02-11T13:31:48.293493Z"
    }
   },
   "outputs": [],
   "source": [
    "RESEARCH_POINTS = 500  # Количество скважин для анализа, шт.\n",
    "BEST_POINTS = 200  # Количество выбираемых скважин, шт.\n",
    "INVESTMENT = 10_000_000_000  # Инвестиции на разработку региона, млрд. руб.\n",
    "BARREL_PRICE = 450 * 1000  # Доход с каждой единицы продукта, руб.\n",
    "PROBABILITY_OF_LOSS = 2.5  # Вероятность убытка, %"
   ]
  },
  {
   "cell_type": "markdown",
   "metadata": {},
   "source": [
    "Рассчитаем минимальный средний объем сырья для безубыточной разработки регионов."
   ]
  },
  {
   "cell_type": "code",
   "execution_count": 14,
   "metadata": {
    "ExecuteTime": {
     "end_time": "2023-02-11T13:31:48.339408Z",
     "start_time": "2023-02-11T13:31:48.310449Z"
    }
   },
   "outputs": [
    {
     "data": {
      "text/plain": [
       "'Общий объем сырья выбранных скважин для их безубыточной разработки:'"
      ]
     },
     "metadata": {},
     "output_type": "display_data"
    },
    {
     "data": {
      "text/plain": [
       "'22222.22 тыс. тонн баррелей'"
      ]
     },
     "metadata": {},
     "output_type": "display_data"
    },
    {
     "data": {
      "text/plain": [
       "'Средний объем сырья в каждой скважине для их безубыточной разработки:'"
      ]
     },
     "metadata": {},
     "output_type": "display_data"
    },
    {
     "data": {
      "text/plain": [
       "'111.11 тыс. тонн баррелей'"
      ]
     },
     "metadata": {},
     "output_type": "display_data"
    }
   ],
   "source": [
    "# Расчет общегоо объема сырья для безубыточной разработки\n",
    "min_total_materials_by_region = INVESTMENT / (BARREL_PRICE)\n",
    "# Расчет среднего минимального объема сырья для безубыточной разработки\n",
    "required_material_stocks = INVESTMENT / (BARREL_PRICE) / BEST_POINTS\n",
    "\n",
    "display(f'Общий объем сырья выбранных скважин для их безубыточной разработки:',\n",
    "        f'{min_total_materials_by_region:.2f} тыс. тонн баррелей')\n",
    "display('Средний объем сырья в каждой скважине для их безубыточной разработки:',\n",
    "        f'{required_material_stocks:.2f} тыс. тонн баррелей')"
   ]
  },
  {
   "cell_type": "markdown",
   "metadata": {},
   "source": [
    "### Вывод"
   ]
  },
  {
   "cell_type": "markdown",
   "metadata": {},
   "source": [
    "Из расчетов видно, что общий объем сырья выбранных скважин для их безубыточной разработки должен составлять не менее 22 222.22 тыс. тонн баррелей, а средний объем сырья в каждой скважине для их безубыточной разработки должен составлять не менее 111.11 тыс. тонн баррелей."
   ]
  },
  {
   "cell_type": "markdown",
   "metadata": {},
   "source": [
    "## Расчёт прибыли и рисков"
   ]
  },
  {
   "cell_type": "markdown",
   "metadata": {},
   "source": [
    "Произведем расчет прибыли и рисков.\n",
    "\n",
    "Для начала переведем предсказанные значения к формату Series, а индексы ключевых признаков сбросим для избежания ошибок в коде."
   ]
  },
  {
   "cell_type": "code",
   "execution_count": 15,
   "metadata": {
    "ExecuteTime": {
     "end_time": "2023-02-11T13:31:48.374277Z",
     "start_time": "2023-02-11T13:31:48.341366Z"
    }
   },
   "outputs": [],
   "source": [
    "# Преобразование numpy.ndarray в pd.Series\n",
    "predictions_valid_0 = pd.Series(predictions_valid_0)\n",
    "predictions_valid_1 = pd.Series(predictions_valid_1)\n",
    "predictions_valid_2 = pd.Series(predictions_valid_2)\n",
    "\n",
    "# Дроп индексов ключевых показателей валидационной выборки (для ичключения KeyError)\n",
    "target_valid_0 = target_valid_0.reset_index(drop=True)\n",
    "target_valid_1 = target_valid_1.reset_index(drop=True)\n",
    "target_valid_2 = target_valid_2.reset_index(drop=True)"
   ]
  },
  {
   "cell_type": "markdown",
   "metadata": {},
   "source": [
    "Напишем функции для расчета прибыли и рисков."
   ]
  },
  {
   "cell_type": "code",
   "execution_count": 16,
   "metadata": {
    "ExecuteTime": {
     "end_time": "2023-02-11T13:31:54.715423Z",
     "start_time": "2023-02-11T13:31:48.386247Z"
    }
   },
   "outputs": [
    {
     "data": {
      "text/plain": [
       "'Регион 0:'"
      ]
     },
     "metadata": {},
     "output_type": "display_data"
    },
    {
     "data": {
      "text/plain": [
       "'\\t Средняя прибыль: 0.42 млрд. руб.'"
      ]
     },
     "metadata": {},
     "output_type": "display_data"
    },
    {
     "data": {
      "text/plain": [
       "'\\t Доверительный интервал: -0.08'"
      ]
     },
     "metadata": {},
     "output_type": "display_data"
    },
    {
     "data": {
      "text/plain": [
       "'- 0.96 млрд. руб.'"
      ]
     },
     "metadata": {},
     "output_type": "display_data"
    },
    {
     "data": {
      "text/plain": [
       "'\\t Риск убытков: 4.80% \\n'"
      ]
     },
     "metadata": {},
     "output_type": "display_data"
    },
    {
     "data": {
      "text/plain": [
       "'Регион 1:'"
      ]
     },
     "metadata": {},
     "output_type": "display_data"
    },
    {
     "data": {
      "text/plain": [
       "'\\t Средняя прибыль: 0.51 млрд. руб.'"
      ]
     },
     "metadata": {},
     "output_type": "display_data"
    },
    {
     "data": {
      "text/plain": [
       "'\\t Доверительный интервал: 0.11'"
      ]
     },
     "metadata": {},
     "output_type": "display_data"
    },
    {
     "data": {
      "text/plain": [
       "'- 0.93 млрд. руб.'"
      ]
     },
     "metadata": {},
     "output_type": "display_data"
    },
    {
     "data": {
      "text/plain": [
       "'\\t Риск убытков: 0.60% \\n'"
      ]
     },
     "metadata": {},
     "output_type": "display_data"
    },
    {
     "data": {
      "text/plain": [
       "'Регион 2:'"
      ]
     },
     "metadata": {},
     "output_type": "display_data"
    },
    {
     "data": {
      "text/plain": [
       "'\\t Средняя прибыль: 0.38 млрд. руб.'"
      ]
     },
     "metadata": {},
     "output_type": "display_data"
    },
    {
     "data": {
      "text/plain": [
       "'\\t Доверительный интервал: -0.14'"
      ]
     },
     "metadata": {},
     "output_type": "display_data"
    },
    {
     "data": {
      "text/plain": [
       "'- 0.89 млрд. руб.'"
      ]
     },
     "metadata": {},
     "output_type": "display_data"
    },
    {
     "data": {
      "text/plain": [
       "'\\t Риск убытков: 7.40% \\n'"
      ]
     },
     "metadata": {},
     "output_type": "display_data"
    }
   ],
   "source": [
    "# Функция расчета прибыли\n",
    "def revenue(predict_subsample, target_subsample, count=BEST_POINTS):\n",
    "    predict_sorted = predict_subsample.sort_values(ascending=False)\n",
    "    selected = target_subsample[predict_sorted.index][:count]\n",
    "    value = (selected.sum() * BARREL_PRICE - INVESTMENT) / 1000000000\n",
    "    return value\n",
    "\n",
    "\n",
    "# Boostrap функция, расчет ключевых показателей\n",
    "def bootstrap(predictions_valid, target):\n",
    "    values = []\n",
    "    for i in range(1000):\n",
    "        target_subsample = target.sample(\n",
    "            n=RESEARCH_POINTS, replace=True, random_state=state)\n",
    "        predict_subsample = predictions_valid[target_subsample.index]\n",
    "        # Передача значений ф-ции revenue\n",
    "        values.append(revenue(predict_subsample, target_subsample))\n",
    "    values = pd.Series(values)\n",
    "    lower = values.quantile(0.025)\n",
    "    upper = values.quantile(0.975)\n",
    "    values_mean = values.mean()\n",
    "    values_loss = [num for num in values if num < 0]  # Список убытков\n",
    "    # Доля убытков в общем объеме значений прибыли\n",
    "    risk = len(values_loss) / len(values)\n",
    "    return lower, upper, values_mean, risk\n",
    "\n",
    "\n",
    "calculation_0 = bootstrap(predictions_valid_0, target_valid_0)\n",
    "calculation_1 = bootstrap(predictions_valid_1, target_valid_1)\n",
    "calculation_2 = bootstrap(predictions_valid_2, target_valid_2)\n",
    "\n",
    "calculation_list = [calculation_0, calculation_1, calculation_2]\n",
    "for i in range(len(calculation_list)):\n",
    "    display(f'Регион {i}:')\n",
    "    display(f'\\t Средняя прибыль: {calculation_list[i][2]:.2f} млрд. руб.')\n",
    "    display(f'\\t Доверительный интервал: {calculation_list[i][0]:.2f}',\n",
    "            f'- {calculation_list[i][1]:.2f} млрд. руб.')\n",
    "    display(f'\\t Риск убытков: {calculation_list[i][3]:.2%} \\n')"
   ]
  },
  {
   "cell_type": "markdown",
   "metadata": {},
   "source": [
    "### Вывод"
   ]
  },
  {
   "cell_type": "markdown",
   "metadata": {},
   "source": [
    "Из рассчитанной прибыли и рисков можно сделать следующие выводы:\n",
    "1. Регион № 1:\n",
    "   \n",
    "   Средняя прибыль по региону составляет 420 млн. руб., диапазон вириации прибыли составляет от убытка в 80 млн. руб. до прибыли в 960 млн. руб. Риск получить убыток составляет 4.80%.\n",
    "2. Регион № 2:\n",
    "   \n",
    "   Средняя прибыль по региону составляет 510 млн. руб., диапазон вириации прибыли составляет от прибыли в 110 млн. руб. до прибыли в 930 млн. руб. Риск получить убыток составляет 0.60%.\n",
    "3. Регион № 3:\n",
    "   \n",
    "   Средняя прибыль по региону составляет 380 млн. руб., диапазон вириации прибыли составляет от убытка в 140 млн. руб. до прибыли в 890 млн. руб. Риск получить убыток составляет 7.40%."
   ]
  },
  {
   "cell_type": "markdown",
   "metadata": {},
   "source": [
    "## Общий вывод"
   ]
  },
  {
   "cell_type": "markdown",
   "metadata": {},
   "source": [
    "Нами прововеден анализ нескольких нефтесодержащих регионов и определена целесообразность разработки нефтяных месторождений в каждом из них.\n",
    "\n",
    "По итогам анализа можно сделать вывод, что наиболее прибыльным регионом является регион под № 2 со средней прибылью по региону 510 млн. руб. и с безубыточным доверительным интервалом от 110 до 930 млн. руб. Риск получить убыток в данном регионе составляет всего 0.60%, что значительно ниже инвестиционной оценки риска в 2.5%. Иные регионы имеют высокий риск получения убытков.\n",
    "\n",
    "Исходя из анализа для разработки нефтяных месторождений целесообразно выбрать регион под № 2."
   ]
  }
 ],
 "metadata": {
  "ExecuteTimeLog": [
   {
    "duration": 57,
    "start_time": "2022-08-17T07:28:56.291Z"
   }
  ],
  "kernelspec": {
   "display_name": "Python 3 (ipykernel)",
   "language": "python",
   "name": "python3"
  },
  "language_info": {
   "codemirror_mode": {
    "name": "ipython",
    "version": 3
   },
   "file_extension": ".py",
   "mimetype": "text/x-python",
   "name": "python",
   "nbconvert_exporter": "python",
   "pygments_lexer": "ipython3",
   "version": "3.9.7"
  },
  "toc": {
   "base_numbering": 1,
   "nav_menu": {},
   "number_sections": true,
   "sideBar": true,
   "skip_h1_title": true,
   "title_cell": "Table of Contents",
   "title_sidebar": "Contents",
   "toc_cell": false,
   "toc_position": {},
   "toc_section_display": true,
   "toc_window_display": true
  }
 },
 "nbformat": 4,
 "nbformat_minor": 2
}
