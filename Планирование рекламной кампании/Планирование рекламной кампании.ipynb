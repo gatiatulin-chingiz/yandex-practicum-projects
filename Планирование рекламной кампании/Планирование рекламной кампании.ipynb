{
 "cells": [
  {
   "cell_type": "markdown",
   "id": "415180db",
   "metadata": {},
   "source": [
    "# Планирование рекламной кампании"
   ]
  },
  {
   "cell_type": "markdown",
   "id": "0a04e094",
   "metadata": {},
   "source": [
    "**Цель исследования** - выявить закономерности успешности игр для планирования рекламной кампании интернет-магазина «Стримчик» на грядущий год.\n",
    "\n",
    "**Этапы исследования:**\n",
    "1. Обзор данных.\n",
    "2. Предобработка данных.\n",
    "3. Исследовательский анализ данных.\n",
    " * определение количества выпущенных игр по годам;\n",
    " * анализ продаж по платформам и по годам;\n",
    " * выявление лидирующих платформ, определение их роста и падения;\n",
    " * анализ глобальных продаж по платформам;\n",
    " * анализ влияния отзывов пользователей и критиков на продажи;\n",
    " * определение прибыльных жанров.\n",
    "4. Составление портрета пользователей по регионам в зависимости от платформы и жанра.\n",
    "5. Проверка гипотез:\n",
    " * Средние пользовательские рейтинги платформ Xbox One и PC одинаковые.\n",
    " * Средние пользовательские рейтинги жанров Action и Sports разные.\n",
    "\n",
    "**Описание данных**\n",
    "\n",
    "* `Name` — название игры\n",
    "* `Platform` — платформа\n",
    "* `Year_of_Release` — год выпуска\n",
    "* `Genre` — жанр игры\n",
    "* `NA_sales` — продажи в Северной Америке (миллионы проданных копий)\n",
    "* `EU_sales` — продажи в Европе (миллионы проданных копий)\n",
    "* `JP_sales` — продажи в Японии (миллионы проданных копий)\n",
    "* `Other_sales` — продажи в других странах (миллионы проданных копий)\n",
    "* `Critic_Score` — оценка критиков (максимум 100)\n",
    "* `User_Score` — оценка пользователей (максимум 10)\n",
    "* `Rating` — рейтинг от организации ESRB (англ. Entertainment Software Rating Board). Эта ассоциация определяет рейтинг компьютерных игр и присваивает им подходящую возрастную категорию"
   ]
  },
  {
   "cell_type": "markdown",
   "id": "6a7a2b31",
   "metadata": {},
   "source": [
    "## Обзор данных"
   ]
  },
  {
   "cell_type": "markdown",
   "id": "30d8529f",
   "metadata": {},
   "source": [
    "Импортируем необходимые библиотки."
   ]
  },
  {
   "cell_type": "code",
   "execution_count": 1,
   "id": "3ca551c1",
   "metadata": {
    "ExecuteTime": {
     "end_time": "2023-02-11T19:03:09.555485Z",
     "start_time": "2023-02-11T19:03:07.702287Z"
    }
   },
   "outputs": [],
   "source": [
    "# Импорт стандартных библиотек\n",
    "import numpy as np\n",
    "import pandas as pd\n",
    "import seaborn as sns\n",
    "import scipy.stats as st\n",
    "import matplotlib.pyplot as plt\n",
    "\n",
    "pd.set_option('display.float_format', lambda x: '%.2f' % x)"
   ]
  },
  {
   "cell_type": "markdown",
   "id": "bd9e4b50",
   "metadata": {},
   "source": [
    "Прочитаем файл с данными и проведем их обзор."
   ]
  },
  {
   "cell_type": "code",
   "execution_count": 2,
   "id": "a1af63f0",
   "metadata": {
    "ExecuteTime": {
     "end_time": "2023-02-11T19:03:09.618318Z",
     "start_time": "2023-02-11T19:03:09.557419Z"
    }
   },
   "outputs": [],
   "source": [
    "try:\n",
    "    df = pd.read_csv('D:\\\\Users\\\\BlackEdition\\\\Desktop\\\\'\n",
    "                     'Data Science\\\\Обучение в Яндекс\\\\6. Сборный проект\\\\games.csv')\n",
    "except:\n",
    "    df = pd.read_csv('/datasets/games.csv')"
   ]
  },
  {
   "cell_type": "code",
   "execution_count": 3,
   "id": "57ab4bd2",
   "metadata": {
    "ExecuteTime": {
     "end_time": "2023-02-11T19:03:09.649387Z",
     "start_time": "2023-02-11T19:03:09.622349Z"
    }
   },
   "outputs": [
    {
     "name": "stdout",
     "output_type": "stream",
     "text": [
      "<class 'pandas.core.frame.DataFrame'>\n",
      "RangeIndex: 16715 entries, 0 to 16714\n",
      "Data columns (total 11 columns):\n",
      " #   Column           Non-Null Count  Dtype  \n",
      "---  ------           --------------  -----  \n",
      " 0   Name             16713 non-null  object \n",
      " 1   Platform         16715 non-null  object \n",
      " 2   Year_of_Release  16446 non-null  float64\n",
      " 3   Genre            16713 non-null  object \n",
      " 4   NA_sales         16715 non-null  float64\n",
      " 5   EU_sales         16715 non-null  float64\n",
      " 6   JP_sales         16715 non-null  float64\n",
      " 7   Other_sales      16715 non-null  float64\n",
      " 8   Critic_Score     8137 non-null   float64\n",
      " 9   User_Score       10014 non-null  object \n",
      " 10  Rating           9949 non-null   object \n",
      "dtypes: float64(6), object(5)\n",
      "memory usage: 1.4+ MB\n"
     ]
    }
   ],
   "source": [
    "df.info()"
   ]
  },
  {
   "cell_type": "code",
   "execution_count": 4,
   "id": "75395039",
   "metadata": {
    "ExecuteTime": {
     "end_time": "2023-02-11T19:03:09.680613Z",
     "start_time": "2023-02-11T19:03:09.652407Z"
    }
   },
   "outputs": [
    {
     "data": {
      "text/html": [
       "<div>\n",
       "<style scoped>\n",
       "    .dataframe tbody tr th:only-of-type {\n",
       "        vertical-align: middle;\n",
       "    }\n",
       "\n",
       "    .dataframe tbody tr th {\n",
       "        vertical-align: top;\n",
       "    }\n",
       "\n",
       "    .dataframe thead th {\n",
       "        text-align: right;\n",
       "    }\n",
       "</style>\n",
       "<table border=\"1\" class=\"dataframe\">\n",
       "  <thead>\n",
       "    <tr style=\"text-align: right;\">\n",
       "      <th></th>\n",
       "      <th>Name</th>\n",
       "      <th>Platform</th>\n",
       "      <th>Year_of_Release</th>\n",
       "      <th>Genre</th>\n",
       "      <th>NA_sales</th>\n",
       "      <th>EU_sales</th>\n",
       "      <th>JP_sales</th>\n",
       "      <th>Other_sales</th>\n",
       "      <th>Critic_Score</th>\n",
       "      <th>User_Score</th>\n",
       "      <th>Rating</th>\n",
       "    </tr>\n",
       "  </thead>\n",
       "  <tbody>\n",
       "    <tr>\n",
       "      <th>0</th>\n",
       "      <td>Wii Sports</td>\n",
       "      <td>Wii</td>\n",
       "      <td>2006.00</td>\n",
       "      <td>Sports</td>\n",
       "      <td>41.36</td>\n",
       "      <td>28.96</td>\n",
       "      <td>3.77</td>\n",
       "      <td>8.45</td>\n",
       "      <td>76.00</td>\n",
       "      <td>8</td>\n",
       "      <td>E</td>\n",
       "    </tr>\n",
       "    <tr>\n",
       "      <th>1</th>\n",
       "      <td>Super Mario Bros.</td>\n",
       "      <td>NES</td>\n",
       "      <td>1985.00</td>\n",
       "      <td>Platform</td>\n",
       "      <td>29.08</td>\n",
       "      <td>3.58</td>\n",
       "      <td>6.81</td>\n",
       "      <td>0.77</td>\n",
       "      <td>NaN</td>\n",
       "      <td>NaN</td>\n",
       "      <td>NaN</td>\n",
       "    </tr>\n",
       "    <tr>\n",
       "      <th>2</th>\n",
       "      <td>Mario Kart Wii</td>\n",
       "      <td>Wii</td>\n",
       "      <td>2008.00</td>\n",
       "      <td>Racing</td>\n",
       "      <td>15.68</td>\n",
       "      <td>12.76</td>\n",
       "      <td>3.79</td>\n",
       "      <td>3.29</td>\n",
       "      <td>82.00</td>\n",
       "      <td>8.3</td>\n",
       "      <td>E</td>\n",
       "    </tr>\n",
       "    <tr>\n",
       "      <th>3</th>\n",
       "      <td>Wii Sports Resort</td>\n",
       "      <td>Wii</td>\n",
       "      <td>2009.00</td>\n",
       "      <td>Sports</td>\n",
       "      <td>15.61</td>\n",
       "      <td>10.93</td>\n",
       "      <td>3.28</td>\n",
       "      <td>2.95</td>\n",
       "      <td>80.00</td>\n",
       "      <td>8</td>\n",
       "      <td>E</td>\n",
       "    </tr>\n",
       "    <tr>\n",
       "      <th>4</th>\n",
       "      <td>Pokemon Red/Pokemon Blue</td>\n",
       "      <td>GB</td>\n",
       "      <td>1996.00</td>\n",
       "      <td>Role-Playing</td>\n",
       "      <td>11.27</td>\n",
       "      <td>8.89</td>\n",
       "      <td>10.22</td>\n",
       "      <td>1.00</td>\n",
       "      <td>NaN</td>\n",
       "      <td>NaN</td>\n",
       "      <td>NaN</td>\n",
       "    </tr>\n",
       "    <tr>\n",
       "      <th>5</th>\n",
       "      <td>Tetris</td>\n",
       "      <td>GB</td>\n",
       "      <td>1989.00</td>\n",
       "      <td>Puzzle</td>\n",
       "      <td>23.20</td>\n",
       "      <td>2.26</td>\n",
       "      <td>4.22</td>\n",
       "      <td>0.58</td>\n",
       "      <td>NaN</td>\n",
       "      <td>NaN</td>\n",
       "      <td>NaN</td>\n",
       "    </tr>\n",
       "    <tr>\n",
       "      <th>6</th>\n",
       "      <td>New Super Mario Bros.</td>\n",
       "      <td>DS</td>\n",
       "      <td>2006.00</td>\n",
       "      <td>Platform</td>\n",
       "      <td>11.28</td>\n",
       "      <td>9.14</td>\n",
       "      <td>6.50</td>\n",
       "      <td>2.88</td>\n",
       "      <td>89.00</td>\n",
       "      <td>8.5</td>\n",
       "      <td>E</td>\n",
       "    </tr>\n",
       "    <tr>\n",
       "      <th>7</th>\n",
       "      <td>Wii Play</td>\n",
       "      <td>Wii</td>\n",
       "      <td>2006.00</td>\n",
       "      <td>Misc</td>\n",
       "      <td>13.96</td>\n",
       "      <td>9.18</td>\n",
       "      <td>2.93</td>\n",
       "      <td>2.84</td>\n",
       "      <td>58.00</td>\n",
       "      <td>6.6</td>\n",
       "      <td>E</td>\n",
       "    </tr>\n",
       "    <tr>\n",
       "      <th>8</th>\n",
       "      <td>New Super Mario Bros. Wii</td>\n",
       "      <td>Wii</td>\n",
       "      <td>2009.00</td>\n",
       "      <td>Platform</td>\n",
       "      <td>14.44</td>\n",
       "      <td>6.94</td>\n",
       "      <td>4.70</td>\n",
       "      <td>2.24</td>\n",
       "      <td>87.00</td>\n",
       "      <td>8.4</td>\n",
       "      <td>E</td>\n",
       "    </tr>\n",
       "    <tr>\n",
       "      <th>9</th>\n",
       "      <td>Duck Hunt</td>\n",
       "      <td>NES</td>\n",
       "      <td>1984.00</td>\n",
       "      <td>Shooter</td>\n",
       "      <td>26.93</td>\n",
       "      <td>0.63</td>\n",
       "      <td>0.28</td>\n",
       "      <td>0.47</td>\n",
       "      <td>NaN</td>\n",
       "      <td>NaN</td>\n",
       "      <td>NaN</td>\n",
       "    </tr>\n",
       "    <tr>\n",
       "      <th>10</th>\n",
       "      <td>Nintendogs</td>\n",
       "      <td>DS</td>\n",
       "      <td>2005.00</td>\n",
       "      <td>Simulation</td>\n",
       "      <td>9.05</td>\n",
       "      <td>10.95</td>\n",
       "      <td>1.93</td>\n",
       "      <td>2.74</td>\n",
       "      <td>NaN</td>\n",
       "      <td>NaN</td>\n",
       "      <td>NaN</td>\n",
       "    </tr>\n",
       "    <tr>\n",
       "      <th>11</th>\n",
       "      <td>Mario Kart DS</td>\n",
       "      <td>DS</td>\n",
       "      <td>2005.00</td>\n",
       "      <td>Racing</td>\n",
       "      <td>9.71</td>\n",
       "      <td>7.47</td>\n",
       "      <td>4.13</td>\n",
       "      <td>1.90</td>\n",
       "      <td>91.00</td>\n",
       "      <td>8.6</td>\n",
       "      <td>E</td>\n",
       "    </tr>\n",
       "    <tr>\n",
       "      <th>12</th>\n",
       "      <td>Pokemon Gold/Pokemon Silver</td>\n",
       "      <td>GB</td>\n",
       "      <td>1999.00</td>\n",
       "      <td>Role-Playing</td>\n",
       "      <td>9.00</td>\n",
       "      <td>6.18</td>\n",
       "      <td>7.20</td>\n",
       "      <td>0.71</td>\n",
       "      <td>NaN</td>\n",
       "      <td>NaN</td>\n",
       "      <td>NaN</td>\n",
       "    </tr>\n",
       "    <tr>\n",
       "      <th>13</th>\n",
       "      <td>Wii Fit</td>\n",
       "      <td>Wii</td>\n",
       "      <td>2007.00</td>\n",
       "      <td>Sports</td>\n",
       "      <td>8.92</td>\n",
       "      <td>8.03</td>\n",
       "      <td>3.60</td>\n",
       "      <td>2.15</td>\n",
       "      <td>80.00</td>\n",
       "      <td>7.7</td>\n",
       "      <td>E</td>\n",
       "    </tr>\n",
       "    <tr>\n",
       "      <th>14</th>\n",
       "      <td>Kinect Adventures!</td>\n",
       "      <td>X360</td>\n",
       "      <td>2010.00</td>\n",
       "      <td>Misc</td>\n",
       "      <td>15.00</td>\n",
       "      <td>4.89</td>\n",
       "      <td>0.24</td>\n",
       "      <td>1.69</td>\n",
       "      <td>61.00</td>\n",
       "      <td>6.3</td>\n",
       "      <td>E</td>\n",
       "    </tr>\n",
       "  </tbody>\n",
       "</table>\n",
       "</div>"
      ],
      "text/plain": [
       "                           Name Platform  Year_of_Release         Genre  \\\n",
       "0                    Wii Sports      Wii          2006.00        Sports   \n",
       "1             Super Mario Bros.      NES          1985.00      Platform   \n",
       "2                Mario Kart Wii      Wii          2008.00        Racing   \n",
       "3             Wii Sports Resort      Wii          2009.00        Sports   \n",
       "4      Pokemon Red/Pokemon Blue       GB          1996.00  Role-Playing   \n",
       "5                        Tetris       GB          1989.00        Puzzle   \n",
       "6         New Super Mario Bros.       DS          2006.00      Platform   \n",
       "7                      Wii Play      Wii          2006.00          Misc   \n",
       "8     New Super Mario Bros. Wii      Wii          2009.00      Platform   \n",
       "9                     Duck Hunt      NES          1984.00       Shooter   \n",
       "10                   Nintendogs       DS          2005.00    Simulation   \n",
       "11                Mario Kart DS       DS          2005.00        Racing   \n",
       "12  Pokemon Gold/Pokemon Silver       GB          1999.00  Role-Playing   \n",
       "13                      Wii Fit      Wii          2007.00        Sports   \n",
       "14           Kinect Adventures!     X360          2010.00          Misc   \n",
       "\n",
       "    NA_sales  EU_sales  JP_sales  Other_sales  Critic_Score User_Score Rating  \n",
       "0      41.36     28.96      3.77         8.45         76.00          8      E  \n",
       "1      29.08      3.58      6.81         0.77           NaN        NaN    NaN  \n",
       "2      15.68     12.76      3.79         3.29         82.00        8.3      E  \n",
       "3      15.61     10.93      3.28         2.95         80.00          8      E  \n",
       "4      11.27      8.89     10.22         1.00           NaN        NaN    NaN  \n",
       "5      23.20      2.26      4.22         0.58           NaN        NaN    NaN  \n",
       "6      11.28      9.14      6.50         2.88         89.00        8.5      E  \n",
       "7      13.96      9.18      2.93         2.84         58.00        6.6      E  \n",
       "8      14.44      6.94      4.70         2.24         87.00        8.4      E  \n",
       "9      26.93      0.63      0.28         0.47           NaN        NaN    NaN  \n",
       "10      9.05     10.95      1.93         2.74           NaN        NaN    NaN  \n",
       "11      9.71      7.47      4.13         1.90         91.00        8.6      E  \n",
       "12      9.00      6.18      7.20         0.71           NaN        NaN    NaN  \n",
       "13      8.92      8.03      3.60         2.15         80.00        7.7      E  \n",
       "14     15.00      4.89      0.24         1.69         61.00        6.3      E  "
      ]
     },
     "execution_count": 4,
     "metadata": {},
     "output_type": "execute_result"
    }
   ],
   "source": [
    "df.head(15)"
   ]
  },
  {
   "cell_type": "code",
   "execution_count": 5,
   "id": "e090f907",
   "metadata": {
    "ExecuteTime": {
     "end_time": "2023-02-11T19:03:09.712223Z",
     "start_time": "2023-02-11T19:03:09.682611Z"
    }
   },
   "outputs": [
    {
     "data": {
      "text/plain": [
       "Name                  2\n",
       "Platform              0\n",
       "Year_of_Release     269\n",
       "Genre                 2\n",
       "NA_sales              0\n",
       "EU_sales              0\n",
       "JP_sales              0\n",
       "Other_sales           0\n",
       "Critic_Score       8578\n",
       "User_Score         6701\n",
       "Rating             6766\n",
       "dtype: int64"
      ]
     },
     "execution_count": 5,
     "metadata": {},
     "output_type": "execute_result"
    }
   ],
   "source": [
    "df.isna().sum()"
   ]
  },
  {
   "cell_type": "code",
   "execution_count": 6,
   "id": "760c5d17",
   "metadata": {
    "ExecuteTime": {
     "end_time": "2023-02-11T19:03:09.819881Z",
     "start_time": "2023-02-11T19:03:09.716147Z"
    }
   },
   "outputs": [
    {
     "data": {
      "text/plain": [
       "'Наименование столца: Name'"
      ]
     },
     "metadata": {},
     "output_type": "display_data"
    },
    {
     "data": {
      "text/plain": [
       "Need for Speed: Most Wanted                         12\n",
       "Ratatouille                                          9\n",
       "LEGO Marvel Super Heroes                             9\n",
       "FIFA 14                                              9\n",
       "Madden NFL 07                                        9\n",
       "                                                    ..\n",
       "Jewels of the Tropical Lost Island                   1\n",
       "Sherlock Holmes and the Mystery of Osborne House     1\n",
       "The King of Fighters '95 (CD)                        1\n",
       "Megamind: Mega Team Unite                            1\n",
       "Haitaka no Psychedelica                              1\n",
       "Name: Name, Length: 11559, dtype: int64"
      ]
     },
     "metadata": {},
     "output_type": "display_data"
    },
    {
     "data": {
      "text/plain": [
       "'Наименование столца: Platform'"
      ]
     },
     "metadata": {},
     "output_type": "display_data"
    },
    {
     "data": {
      "text/plain": [
       "PS2     2161\n",
       "DS      2151\n",
       "PS3     1331\n",
       "Wii     1320\n",
       "X360    1262\n",
       "PSP     1209\n",
       "PS      1197\n",
       "PC       974\n",
       "XB       824\n",
       "GBA      822\n",
       "GC       556\n",
       "3DS      520\n",
       "PSV      430\n",
       "PS4      392\n",
       "N64      319\n",
       "XOne     247\n",
       "SNES     239\n",
       "SAT      173\n",
       "WiiU     147\n",
       "2600     133\n",
       "NES       98\n",
       "GB        98\n",
       "DC        52\n",
       "GEN       29\n",
       "NG        12\n",
       "SCD        6\n",
       "WS         6\n",
       "3DO        3\n",
       "TG16       2\n",
       "GG         1\n",
       "PCFX       1\n",
       "Name: Platform, dtype: int64"
      ]
     },
     "metadata": {},
     "output_type": "display_data"
    },
    {
     "data": {
      "text/plain": [
       "'Наименование столца: Year_of_Release'"
      ]
     },
     "metadata": {},
     "output_type": "display_data"
    },
    {
     "data": {
      "text/plain": [
       "2008.00    1427\n",
       "2009.00    1426\n",
       "2010.00    1255\n",
       "2007.00    1197\n",
       "2011.00    1136\n",
       "2006.00    1006\n",
       "2005.00     939\n",
       "2002.00     829\n",
       "2003.00     775\n",
       "2004.00     762\n",
       "2012.00     653\n",
       "2015.00     606\n",
       "2014.00     581\n",
       "2013.00     544\n",
       "2016.00     502\n",
       "2001.00     482\n",
       "1998.00     379\n",
       "2000.00     350\n",
       "1999.00     338\n",
       "1997.00     289\n",
       "1996.00     263\n",
       "1995.00     219\n",
       "1994.00     121\n",
       "1993.00      62\n",
       "1981.00      46\n",
       "1992.00      43\n",
       "1991.00      41\n",
       "1982.00      36\n",
       "1986.00      21\n",
       "1989.00      17\n",
       "1983.00      17\n",
       "1990.00      16\n",
       "1987.00      16\n",
       "1988.00      15\n",
       "1985.00      14\n",
       "1984.00      14\n",
       "1980.00       9\n",
       "Name: Year_of_Release, dtype: int64"
      ]
     },
     "metadata": {},
     "output_type": "display_data"
    },
    {
     "data": {
      "text/plain": [
       "'Наименование столца: Genre'"
      ]
     },
     "metadata": {},
     "output_type": "display_data"
    },
    {
     "data": {
      "text/plain": [
       "Action          3369\n",
       "Sports          2348\n",
       "Misc            1750\n",
       "Role-Playing    1498\n",
       "Shooter         1323\n",
       "Adventure       1303\n",
       "Racing          1249\n",
       "Platform         888\n",
       "Simulation       873\n",
       "Fighting         849\n",
       "Strategy         683\n",
       "Puzzle           580\n",
       "Name: Genre, dtype: int64"
      ]
     },
     "metadata": {},
     "output_type": "display_data"
    },
    {
     "data": {
      "text/plain": [
       "'Наименование столца: NA_sales'"
      ]
     },
     "metadata": {},
     "output_type": "display_data"
    },
    {
     "data": {
      "text/plain": [
       "0.00     4508\n",
       "0.02      576\n",
       "0.03      561\n",
       "0.04      549\n",
       "0.01      545\n",
       "         ... \n",
       "3.68        1\n",
       "2.98        1\n",
       "2.61        1\n",
       "3.04        1\n",
       "41.36       1\n",
       "Name: NA_sales, Length: 402, dtype: int64"
      ]
     },
     "metadata": {},
     "output_type": "display_data"
    },
    {
     "data": {
      "text/plain": [
       "'Наименование столца: EU_sales'"
      ]
     },
     "metadata": {},
     "output_type": "display_data"
    },
    {
     "data": {
      "text/plain": [
       "0.00     5870\n",
       "0.01     1494\n",
       "0.02     1308\n",
       "0.03      926\n",
       "0.04      709\n",
       "         ... \n",
       "1.87        1\n",
       "1.75        1\n",
       "1.44        1\n",
       "1.60        1\n",
       "28.96       1\n",
       "Name: EU_sales, Length: 307, dtype: int64"
      ]
     },
     "metadata": {},
     "output_type": "display_data"
    },
    {
     "data": {
      "text/plain": [
       "'Наименование столца: JP_sales'"
      ]
     },
     "metadata": {},
     "output_type": "display_data"
    },
    {
     "data": {
      "text/plain": [
       "0.00    10514\n",
       "0.02      741\n",
       "0.01      706\n",
       "0.03      546\n",
       "0.04      397\n",
       "        ...  \n",
       "3.14        1\n",
       "2.73        1\n",
       "3.18        1\n",
       "3.63        1\n",
       "0.97        1\n",
       "Name: JP_sales, Length: 244, dtype: int64"
      ]
     },
     "metadata": {},
     "output_type": "display_data"
    },
    {
     "data": {
      "text/plain": [
       "'Наименование столца: Other_sales'"
      ]
     },
     "metadata": {},
     "output_type": "display_data"
    },
    {
     "data": {
      "text/plain": [
       "0.00    6601\n",
       "0.01    3464\n",
       "0.02    1618\n",
       "0.03     926\n",
       "0.04     654\n",
       "        ... \n",
       "2.11       1\n",
       "7.53       1\n",
       "1.21       1\n",
       "1.79       1\n",
       "0.93       1\n",
       "Name: Other_sales, Length: 155, dtype: int64"
      ]
     },
     "metadata": {},
     "output_type": "display_data"
    },
    {
     "data": {
      "text/plain": [
       "'Наименование столца: Critic_Score'"
      ]
     },
     "metadata": {},
     "output_type": "display_data"
    },
    {
     "data": {
      "text/plain": [
       "70.00    256\n",
       "71.00    254\n",
       "75.00    245\n",
       "78.00    240\n",
       "73.00    238\n",
       "        ... \n",
       "20.00      3\n",
       "21.00      1\n",
       "17.00      1\n",
       "22.00      1\n",
       "13.00      1\n",
       "Name: Critic_Score, Length: 82, dtype: int64"
      ]
     },
     "metadata": {},
     "output_type": "display_data"
    },
    {
     "data": {
      "text/plain": [
       "'Наименование столца: User_Score'"
      ]
     },
     "metadata": {},
     "output_type": "display_data"
    },
    {
     "data": {
      "text/plain": [
       "tbd    2424\n",
       "7.8     324\n",
       "8       290\n",
       "8.2     282\n",
       "8.3     254\n",
       "       ... \n",
       "1.1       2\n",
       "1.9       2\n",
       "9.6       2\n",
       "0         1\n",
       "9.7       1\n",
       "Name: User_Score, Length: 96, dtype: int64"
      ]
     },
     "metadata": {},
     "output_type": "display_data"
    },
    {
     "data": {
      "text/plain": [
       "'Наименование столца: Rating'"
      ]
     },
     "metadata": {},
     "output_type": "display_data"
    },
    {
     "data": {
      "text/plain": [
       "E       3990\n",
       "T       2961\n",
       "M       1563\n",
       "E10+    1420\n",
       "EC         8\n",
       "K-A        3\n",
       "RP         3\n",
       "AO         1\n",
       "Name: Rating, dtype: int64"
      ]
     },
     "metadata": {},
     "output_type": "display_data"
    }
   ],
   "source": [
    "# Вывод информации по столбцам\n",
    "for column in df:\n",
    "    display(f'Наименование столца: {column}')\n",
    "    display(df[column].value_counts(dropna=True))"
   ]
  },
  {
   "cell_type": "markdown",
   "id": "9ed442fa",
   "metadata": {},
   "source": [
    "### Вывод"
   ]
  },
  {
   "cell_type": "markdown",
   "id": "fb1a3292",
   "metadata": {},
   "source": [
    "Из данных видно, что:\n",
    " * Всего в данных 16715 строк.\n",
    " * В данных имеются пропуски.\n",
    " * Колонки необходимо привести к единому стилю написания.\n",
    "     * Колонку *`Year_of_Release`* необходимо привести к формату `integer`.\n",
    "     * В колонках *`Critic_Score`, `User_Score`, `Rating`* имеются `NAN` значения.\n",
    "     * В колонке *`User_Score`* необходимо обработать *`tbd`* значения."
   ]
  },
  {
   "cell_type": "markdown",
   "id": "add3928d",
   "metadata": {},
   "source": [
    "## Предобработка данных"
   ]
  },
  {
   "cell_type": "markdown",
   "id": "1b1b722e",
   "metadata": {},
   "source": [
    "### Замена наименований столбцов"
   ]
  },
  {
   "cell_type": "markdown",
   "id": "17090761",
   "metadata": {},
   "source": [
    "Проведем наименования столбцов датасета к нижнему регистру."
   ]
  },
  {
   "cell_type": "code",
   "execution_count": 7,
   "id": "a1055c93",
   "metadata": {
    "ExecuteTime": {
     "end_time": "2023-02-11T19:03:09.850280Z",
     "start_time": "2023-02-11T19:03:09.823018Z"
    }
   },
   "outputs": [
    {
     "data": {
      "text/html": [
       "<div>\n",
       "<style scoped>\n",
       "    .dataframe tbody tr th:only-of-type {\n",
       "        vertical-align: middle;\n",
       "    }\n",
       "\n",
       "    .dataframe tbody tr th {\n",
       "        vertical-align: top;\n",
       "    }\n",
       "\n",
       "    .dataframe thead th {\n",
       "        text-align: right;\n",
       "    }\n",
       "</style>\n",
       "<table border=\"1\" class=\"dataframe\">\n",
       "  <thead>\n",
       "    <tr style=\"text-align: right;\">\n",
       "      <th></th>\n",
       "      <th>name</th>\n",
       "      <th>platform</th>\n",
       "      <th>year_of_release</th>\n",
       "      <th>genre</th>\n",
       "      <th>na_sales</th>\n",
       "      <th>eu_sales</th>\n",
       "      <th>jp_sales</th>\n",
       "      <th>other_sales</th>\n",
       "      <th>critic_score</th>\n",
       "      <th>user_score</th>\n",
       "      <th>rating</th>\n",
       "    </tr>\n",
       "  </thead>\n",
       "  <tbody>\n",
       "    <tr>\n",
       "      <th>0</th>\n",
       "      <td>Wii Sports</td>\n",
       "      <td>Wii</td>\n",
       "      <td>2006.00</td>\n",
       "      <td>Sports</td>\n",
       "      <td>41.36</td>\n",
       "      <td>28.96</td>\n",
       "      <td>3.77</td>\n",
       "      <td>8.45</td>\n",
       "      <td>76.00</td>\n",
       "      <td>8</td>\n",
       "      <td>E</td>\n",
       "    </tr>\n",
       "    <tr>\n",
       "      <th>1</th>\n",
       "      <td>Super Mario Bros.</td>\n",
       "      <td>NES</td>\n",
       "      <td>1985.00</td>\n",
       "      <td>Platform</td>\n",
       "      <td>29.08</td>\n",
       "      <td>3.58</td>\n",
       "      <td>6.81</td>\n",
       "      <td>0.77</td>\n",
       "      <td>NaN</td>\n",
       "      <td>NaN</td>\n",
       "      <td>NaN</td>\n",
       "    </tr>\n",
       "    <tr>\n",
       "      <th>2</th>\n",
       "      <td>Mario Kart Wii</td>\n",
       "      <td>Wii</td>\n",
       "      <td>2008.00</td>\n",
       "      <td>Racing</td>\n",
       "      <td>15.68</td>\n",
       "      <td>12.76</td>\n",
       "      <td>3.79</td>\n",
       "      <td>3.29</td>\n",
       "      <td>82.00</td>\n",
       "      <td>8.3</td>\n",
       "      <td>E</td>\n",
       "    </tr>\n",
       "    <tr>\n",
       "      <th>3</th>\n",
       "      <td>Wii Sports Resort</td>\n",
       "      <td>Wii</td>\n",
       "      <td>2009.00</td>\n",
       "      <td>Sports</td>\n",
       "      <td>15.61</td>\n",
       "      <td>10.93</td>\n",
       "      <td>3.28</td>\n",
       "      <td>2.95</td>\n",
       "      <td>80.00</td>\n",
       "      <td>8</td>\n",
       "      <td>E</td>\n",
       "    </tr>\n",
       "    <tr>\n",
       "      <th>4</th>\n",
       "      <td>Pokemon Red/Pokemon Blue</td>\n",
       "      <td>GB</td>\n",
       "      <td>1996.00</td>\n",
       "      <td>Role-Playing</td>\n",
       "      <td>11.27</td>\n",
       "      <td>8.89</td>\n",
       "      <td>10.22</td>\n",
       "      <td>1.00</td>\n",
       "      <td>NaN</td>\n",
       "      <td>NaN</td>\n",
       "      <td>NaN</td>\n",
       "    </tr>\n",
       "  </tbody>\n",
       "</table>\n",
       "</div>"
      ],
      "text/plain": [
       "                       name platform  year_of_release         genre  na_sales  \\\n",
       "0                Wii Sports      Wii          2006.00        Sports     41.36   \n",
       "1         Super Mario Bros.      NES          1985.00      Platform     29.08   \n",
       "2            Mario Kart Wii      Wii          2008.00        Racing     15.68   \n",
       "3         Wii Sports Resort      Wii          2009.00        Sports     15.61   \n",
       "4  Pokemon Red/Pokemon Blue       GB          1996.00  Role-Playing     11.27   \n",
       "\n",
       "   eu_sales  jp_sales  other_sales  critic_score user_score rating  \n",
       "0     28.96      3.77         8.45         76.00          8      E  \n",
       "1      3.58      6.81         0.77           NaN        NaN    NaN  \n",
       "2     12.76      3.79         3.29         82.00        8.3      E  \n",
       "3     10.93      3.28         2.95         80.00          8      E  \n",
       "4      8.89     10.22         1.00           NaN        NaN    NaN  "
      ]
     },
     "execution_count": 7,
     "metadata": {},
     "output_type": "execute_result"
    }
   ],
   "source": [
    "df.columns = df.columns.str.lower()\n",
    "df.head()"
   ]
  },
  {
   "cell_type": "markdown",
   "id": "3485a4f3",
   "metadata": {},
   "source": [
    "Приведение к нижнему регистру выполнено успешно."
   ]
  },
  {
   "cell_type": "markdown",
   "id": "50a6e561",
   "metadata": {},
   "source": [
    "### Обработка пропусков"
   ]
  },
  {
   "cell_type": "markdown",
   "id": "4a90115b",
   "metadata": {},
   "source": [
    "**Анализ характера пропусков в датасете**"
   ]
  },
  {
   "cell_type": "markdown",
   "id": "5d26d5ec",
   "metadata": {},
   "source": [
    "Посмотрим на наличие NAN значений в датасете."
   ]
  },
  {
   "cell_type": "code",
   "execution_count": 8,
   "id": "20ab573a",
   "metadata": {
    "ExecuteTime": {
     "end_time": "2023-02-11T19:03:09.881127Z",
     "start_time": "2023-02-11T19:03:09.854142Z"
    }
   },
   "outputs": [
    {
     "data": {
      "text/plain": [
       "name                  2\n",
       "platform              0\n",
       "year_of_release     269\n",
       "genre                 2\n",
       "na_sales              0\n",
       "eu_sales              0\n",
       "jp_sales              0\n",
       "other_sales           0\n",
       "critic_score       8578\n",
       "user_score         6701\n",
       "rating             6766\n",
       "dtype: int64"
      ]
     },
     "execution_count": 8,
     "metadata": {},
     "output_type": "execute_result"
    }
   ],
   "source": [
    "df.isna().sum()"
   ]
  },
  {
   "cell_type": "markdown",
   "id": "1d2bc92a",
   "metadata": {},
   "source": [
    "В колонках *`name`, `year_of_release`, `genre`, `critic_score`, `user_score`, `rating`* имеются `NAN` значения. Рассмотрим их по отдельности."
   ]
  },
  {
   "cell_type": "code",
   "execution_count": 9,
   "id": "e3f27863",
   "metadata": {
    "ExecuteTime": {
     "end_time": "2023-02-11T19:03:09.912000Z",
     "start_time": "2023-02-11T19:03:09.883067Z"
    }
   },
   "outputs": [
    {
     "data": {
      "text/html": [
       "<div>\n",
       "<style scoped>\n",
       "    .dataframe tbody tr th:only-of-type {\n",
       "        vertical-align: middle;\n",
       "    }\n",
       "\n",
       "    .dataframe tbody tr th {\n",
       "        vertical-align: top;\n",
       "    }\n",
       "\n",
       "    .dataframe thead th {\n",
       "        text-align: right;\n",
       "    }\n",
       "</style>\n",
       "<table border=\"1\" class=\"dataframe\">\n",
       "  <thead>\n",
       "    <tr style=\"text-align: right;\">\n",
       "      <th></th>\n",
       "      <th>name</th>\n",
       "      <th>platform</th>\n",
       "      <th>year_of_release</th>\n",
       "      <th>genre</th>\n",
       "      <th>na_sales</th>\n",
       "      <th>eu_sales</th>\n",
       "      <th>jp_sales</th>\n",
       "      <th>other_sales</th>\n",
       "      <th>critic_score</th>\n",
       "      <th>user_score</th>\n",
       "      <th>rating</th>\n",
       "    </tr>\n",
       "  </thead>\n",
       "  <tbody>\n",
       "    <tr>\n",
       "      <th>659</th>\n",
       "      <td>NaN</td>\n",
       "      <td>GEN</td>\n",
       "      <td>1993.00</td>\n",
       "      <td>NaN</td>\n",
       "      <td>1.78</td>\n",
       "      <td>0.53</td>\n",
       "      <td>0.00</td>\n",
       "      <td>0.08</td>\n",
       "      <td>NaN</td>\n",
       "      <td>NaN</td>\n",
       "      <td>NaN</td>\n",
       "    </tr>\n",
       "    <tr>\n",
       "      <th>14244</th>\n",
       "      <td>NaN</td>\n",
       "      <td>GEN</td>\n",
       "      <td>1993.00</td>\n",
       "      <td>NaN</td>\n",
       "      <td>0.00</td>\n",
       "      <td>0.00</td>\n",
       "      <td>0.03</td>\n",
       "      <td>0.00</td>\n",
       "      <td>NaN</td>\n",
       "      <td>NaN</td>\n",
       "      <td>NaN</td>\n",
       "    </tr>\n",
       "  </tbody>\n",
       "</table>\n",
       "</div>"
      ],
      "text/plain": [
       "      name platform  year_of_release genre  na_sales  eu_sales  jp_sales  \\\n",
       "659    NaN      GEN          1993.00   NaN      1.78      0.53      0.00   \n",
       "14244  NaN      GEN          1993.00   NaN      0.00      0.00      0.03   \n",
       "\n",
       "       other_sales  critic_score user_score rating  \n",
       "659           0.08           NaN        NaN    NaN  \n",
       "14244         0.00           NaN        NaN    NaN  "
      ]
     },
     "execution_count": 9,
     "metadata": {},
     "output_type": "execute_result"
    }
   ],
   "source": [
    "df.query('name != name')"
   ]
  },
  {
   "cell_type": "markdown",
   "id": "e806daf2",
   "metadata": {},
   "source": [
    "Видно, что в колонке *`name`* пропущены два значения игр 1993 года платформы GEN. Одна из игр продалась в Серверой америке в количестве 1.78 млн. На тот момент это, скоре всего, была очень популярная игра. Отсутствие ее названия, скорее всего, либо утеря данных, либо просто элементарный человеческий фактор.\n",
    "\n",
    "Касательно второй игры - игра так же выпустилась в 1993 году на той же платформе, выпускалась только в Японии в количестве 0.03 млн. экземпляров. Игра малоизвестная, возможно пропуск из-за этого."
   ]
  },
  {
   "cell_type": "code",
   "execution_count": 10,
   "id": "92ded872",
   "metadata": {
    "ExecuteTime": {
     "end_time": "2023-02-11T19:03:09.958663Z",
     "start_time": "2023-02-11T19:03:09.914991Z"
    }
   },
   "outputs": [
    {
     "data": {
      "text/html": [
       "<div>\n",
       "<style scoped>\n",
       "    .dataframe tbody tr th:only-of-type {\n",
       "        vertical-align: middle;\n",
       "    }\n",
       "\n",
       "    .dataframe tbody tr th {\n",
       "        vertical-align: top;\n",
       "    }\n",
       "\n",
       "    .dataframe thead th {\n",
       "        text-align: right;\n",
       "    }\n",
       "</style>\n",
       "<table border=\"1\" class=\"dataframe\">\n",
       "  <thead>\n",
       "    <tr style=\"text-align: right;\">\n",
       "      <th></th>\n",
       "      <th>name</th>\n",
       "      <th>platform</th>\n",
       "      <th>year_of_release</th>\n",
       "      <th>genre</th>\n",
       "      <th>na_sales</th>\n",
       "      <th>eu_sales</th>\n",
       "      <th>jp_sales</th>\n",
       "      <th>other_sales</th>\n",
       "      <th>critic_score</th>\n",
       "      <th>user_score</th>\n",
       "      <th>rating</th>\n",
       "    </tr>\n",
       "  </thead>\n",
       "  <tbody>\n",
       "    <tr>\n",
       "      <th>183</th>\n",
       "      <td>Madden NFL 2004</td>\n",
       "      <td>PS2</td>\n",
       "      <td>NaN</td>\n",
       "      <td>Sports</td>\n",
       "      <td>4.26</td>\n",
       "      <td>0.26</td>\n",
       "      <td>0.01</td>\n",
       "      <td>0.71</td>\n",
       "      <td>94.00</td>\n",
       "      <td>8.5</td>\n",
       "      <td>E</td>\n",
       "    </tr>\n",
       "    <tr>\n",
       "      <th>377</th>\n",
       "      <td>FIFA Soccer 2004</td>\n",
       "      <td>PS2</td>\n",
       "      <td>NaN</td>\n",
       "      <td>Sports</td>\n",
       "      <td>0.59</td>\n",
       "      <td>2.36</td>\n",
       "      <td>0.04</td>\n",
       "      <td>0.51</td>\n",
       "      <td>84.00</td>\n",
       "      <td>6.4</td>\n",
       "      <td>E</td>\n",
       "    </tr>\n",
       "    <tr>\n",
       "      <th>456</th>\n",
       "      <td>LEGO Batman: The Videogame</td>\n",
       "      <td>Wii</td>\n",
       "      <td>NaN</td>\n",
       "      <td>Action</td>\n",
       "      <td>1.80</td>\n",
       "      <td>0.97</td>\n",
       "      <td>0.00</td>\n",
       "      <td>0.29</td>\n",
       "      <td>74.00</td>\n",
       "      <td>7.9</td>\n",
       "      <td>E10+</td>\n",
       "    </tr>\n",
       "    <tr>\n",
       "      <th>475</th>\n",
       "      <td>wwe Smackdown vs. Raw 2006</td>\n",
       "      <td>PS2</td>\n",
       "      <td>NaN</td>\n",
       "      <td>Fighting</td>\n",
       "      <td>1.57</td>\n",
       "      <td>1.02</td>\n",
       "      <td>0.00</td>\n",
       "      <td>0.41</td>\n",
       "      <td>NaN</td>\n",
       "      <td>NaN</td>\n",
       "      <td>NaN</td>\n",
       "    </tr>\n",
       "    <tr>\n",
       "      <th>609</th>\n",
       "      <td>Space Invaders</td>\n",
       "      <td>2600</td>\n",
       "      <td>NaN</td>\n",
       "      <td>Shooter</td>\n",
       "      <td>2.36</td>\n",
       "      <td>0.14</td>\n",
       "      <td>0.00</td>\n",
       "      <td>0.03</td>\n",
       "      <td>NaN</td>\n",
       "      <td>NaN</td>\n",
       "      <td>NaN</td>\n",
       "    </tr>\n",
       "    <tr>\n",
       "      <th>...</th>\n",
       "      <td>...</td>\n",
       "      <td>...</td>\n",
       "      <td>...</td>\n",
       "      <td>...</td>\n",
       "      <td>...</td>\n",
       "      <td>...</td>\n",
       "      <td>...</td>\n",
       "      <td>...</td>\n",
       "      <td>...</td>\n",
       "      <td>...</td>\n",
       "      <td>...</td>\n",
       "    </tr>\n",
       "    <tr>\n",
       "      <th>16373</th>\n",
       "      <td>PDC World Championship Darts 2008</td>\n",
       "      <td>PSP</td>\n",
       "      <td>NaN</td>\n",
       "      <td>Sports</td>\n",
       "      <td>0.01</td>\n",
       "      <td>0.00</td>\n",
       "      <td>0.00</td>\n",
       "      <td>0.00</td>\n",
       "      <td>43.00</td>\n",
       "      <td>tbd</td>\n",
       "      <td>E10+</td>\n",
       "    </tr>\n",
       "    <tr>\n",
       "      <th>16405</th>\n",
       "      <td>Freaky Flyers</td>\n",
       "      <td>GC</td>\n",
       "      <td>NaN</td>\n",
       "      <td>Racing</td>\n",
       "      <td>0.01</td>\n",
       "      <td>0.00</td>\n",
       "      <td>0.00</td>\n",
       "      <td>0.00</td>\n",
       "      <td>69.00</td>\n",
       "      <td>6.5</td>\n",
       "      <td>T</td>\n",
       "    </tr>\n",
       "    <tr>\n",
       "      <th>16448</th>\n",
       "      <td>Inversion</td>\n",
       "      <td>PC</td>\n",
       "      <td>NaN</td>\n",
       "      <td>Shooter</td>\n",
       "      <td>0.01</td>\n",
       "      <td>0.00</td>\n",
       "      <td>0.00</td>\n",
       "      <td>0.00</td>\n",
       "      <td>59.00</td>\n",
       "      <td>6.7</td>\n",
       "      <td>M</td>\n",
       "    </tr>\n",
       "    <tr>\n",
       "      <th>16458</th>\n",
       "      <td>Hakuouki: Shinsengumi Kitan</td>\n",
       "      <td>PS3</td>\n",
       "      <td>NaN</td>\n",
       "      <td>Adventure</td>\n",
       "      <td>0.01</td>\n",
       "      <td>0.00</td>\n",
       "      <td>0.00</td>\n",
       "      <td>0.00</td>\n",
       "      <td>NaN</td>\n",
       "      <td>NaN</td>\n",
       "      <td>NaN</td>\n",
       "    </tr>\n",
       "    <tr>\n",
       "      <th>16522</th>\n",
       "      <td>Virtua Quest</td>\n",
       "      <td>GC</td>\n",
       "      <td>NaN</td>\n",
       "      <td>Role-Playing</td>\n",
       "      <td>0.01</td>\n",
       "      <td>0.00</td>\n",
       "      <td>0.00</td>\n",
       "      <td>0.00</td>\n",
       "      <td>55.00</td>\n",
       "      <td>5.5</td>\n",
       "      <td>T</td>\n",
       "    </tr>\n",
       "  </tbody>\n",
       "</table>\n",
       "<p>269 rows × 11 columns</p>\n",
       "</div>"
      ],
      "text/plain": [
       "                                    name platform  year_of_release  \\\n",
       "183                      Madden NFL 2004      PS2              NaN   \n",
       "377                     FIFA Soccer 2004      PS2              NaN   \n",
       "456           LEGO Batman: The Videogame      Wii              NaN   \n",
       "475           wwe Smackdown vs. Raw 2006      PS2              NaN   \n",
       "609                       Space Invaders     2600              NaN   \n",
       "...                                  ...      ...              ...   \n",
       "16373  PDC World Championship Darts 2008      PSP              NaN   \n",
       "16405                      Freaky Flyers       GC              NaN   \n",
       "16448                          Inversion       PC              NaN   \n",
       "16458        Hakuouki: Shinsengumi Kitan      PS3              NaN   \n",
       "16522                       Virtua Quest       GC              NaN   \n",
       "\n",
       "              genre  na_sales  eu_sales  jp_sales  other_sales  critic_score  \\\n",
       "183          Sports      4.26      0.26      0.01         0.71         94.00   \n",
       "377          Sports      0.59      2.36      0.04         0.51         84.00   \n",
       "456          Action      1.80      0.97      0.00         0.29         74.00   \n",
       "475        Fighting      1.57      1.02      0.00         0.41           NaN   \n",
       "609         Shooter      2.36      0.14      0.00         0.03           NaN   \n",
       "...             ...       ...       ...       ...          ...           ...   \n",
       "16373        Sports      0.01      0.00      0.00         0.00         43.00   \n",
       "16405        Racing      0.01      0.00      0.00         0.00         69.00   \n",
       "16448       Shooter      0.01      0.00      0.00         0.00         59.00   \n",
       "16458     Adventure      0.01      0.00      0.00         0.00           NaN   \n",
       "16522  Role-Playing      0.01      0.00      0.00         0.00         55.00   \n",
       "\n",
       "      user_score rating  \n",
       "183          8.5      E  \n",
       "377          6.4      E  \n",
       "456          7.9   E10+  \n",
       "475          NaN    NaN  \n",
       "609          NaN    NaN  \n",
       "...          ...    ...  \n",
       "16373        tbd   E10+  \n",
       "16405        6.5      T  \n",
       "16448        6.7      M  \n",
       "16458        NaN    NaN  \n",
       "16522        5.5      T  \n",
       "\n",
       "[269 rows x 11 columns]"
      ]
     },
     "execution_count": 10,
     "metadata": {},
     "output_type": "execute_result"
    }
   ],
   "source": [
    "df.query('year_of_release != year_of_release')"
   ]
  },
  {
   "cell_type": "markdown",
   "id": "9fe72855",
   "metadata": {},
   "source": [
    "В части пропусков в колонке `year_of_release` видно, что пропуски есть по играм с различных платформ, жанров и т.д. Возможно эти пропуски возникли из-за сложности в установлении даты выпуска игр или данные просто не заполняли."
   ]
  },
  {
   "cell_type": "code",
   "execution_count": 11,
   "id": "df2d6564",
   "metadata": {
    "ExecuteTime": {
     "end_time": "2023-02-11T19:03:09.990557Z",
     "start_time": "2023-02-11T19:03:09.962539Z"
    }
   },
   "outputs": [
    {
     "data": {
      "text/html": [
       "<div>\n",
       "<style scoped>\n",
       "    .dataframe tbody tr th:only-of-type {\n",
       "        vertical-align: middle;\n",
       "    }\n",
       "\n",
       "    .dataframe tbody tr th {\n",
       "        vertical-align: top;\n",
       "    }\n",
       "\n",
       "    .dataframe thead th {\n",
       "        text-align: right;\n",
       "    }\n",
       "</style>\n",
       "<table border=\"1\" class=\"dataframe\">\n",
       "  <thead>\n",
       "    <tr style=\"text-align: right;\">\n",
       "      <th></th>\n",
       "      <th>name</th>\n",
       "      <th>platform</th>\n",
       "      <th>year_of_release</th>\n",
       "      <th>genre</th>\n",
       "      <th>na_sales</th>\n",
       "      <th>eu_sales</th>\n",
       "      <th>jp_sales</th>\n",
       "      <th>other_sales</th>\n",
       "      <th>critic_score</th>\n",
       "      <th>user_score</th>\n",
       "      <th>rating</th>\n",
       "    </tr>\n",
       "  </thead>\n",
       "  <tbody>\n",
       "    <tr>\n",
       "      <th>659</th>\n",
       "      <td>NaN</td>\n",
       "      <td>GEN</td>\n",
       "      <td>1993.00</td>\n",
       "      <td>NaN</td>\n",
       "      <td>1.78</td>\n",
       "      <td>0.53</td>\n",
       "      <td>0.00</td>\n",
       "      <td>0.08</td>\n",
       "      <td>NaN</td>\n",
       "      <td>NaN</td>\n",
       "      <td>NaN</td>\n",
       "    </tr>\n",
       "    <tr>\n",
       "      <th>14244</th>\n",
       "      <td>NaN</td>\n",
       "      <td>GEN</td>\n",
       "      <td>1993.00</td>\n",
       "      <td>NaN</td>\n",
       "      <td>0.00</td>\n",
       "      <td>0.00</td>\n",
       "      <td>0.03</td>\n",
       "      <td>0.00</td>\n",
       "      <td>NaN</td>\n",
       "      <td>NaN</td>\n",
       "      <td>NaN</td>\n",
       "    </tr>\n",
       "  </tbody>\n",
       "</table>\n",
       "</div>"
      ],
      "text/plain": [
       "      name platform  year_of_release genre  na_sales  eu_sales  jp_sales  \\\n",
       "659    NaN      GEN          1993.00   NaN      1.78      0.53      0.00   \n",
       "14244  NaN      GEN          1993.00   NaN      0.00      0.00      0.03   \n",
       "\n",
       "       other_sales  critic_score user_score rating  \n",
       "659           0.08           NaN        NaN    NaN  \n",
       "14244         0.00           NaN        NaN    NaN  "
      ]
     },
     "execution_count": 11,
     "metadata": {},
     "output_type": "execute_result"
    }
   ],
   "source": [
    "df.query('genre != genre')"
   ]
  },
  {
   "cell_type": "markdown",
   "id": "f134dcd7",
   "metadata": {},
   "source": [
    "Пропуски в колонке genre совпадают с пропусками в колонке name. В итоге возможно об этих играх просто ничего не было известно, кроме объема реализации когда-то."
   ]
  },
  {
   "cell_type": "markdown",
   "id": "2df89e7f",
   "metadata": {},
   "source": [
    "Касательно колонок `critic_score`, `user_score`, `rating` - в них имеется большое количество незаполненных значений.\n",
    "Самое большое количество пропусков в колонке `critic_score` - это логично, учитывая, что свое мнение критики оставляют реже, чем, например, пользователи. Посмотрим сколько всего nan значений повторяется по всем трем столбцам."
   ]
  },
  {
   "cell_type": "code",
   "execution_count": 12,
   "id": "cdd38cc5",
   "metadata": {
    "ExecuteTime": {
     "end_time": "2023-02-11T19:03:10.037391Z",
     "start_time": "2023-02-11T19:03:09.995564Z"
    }
   },
   "outputs": [
    {
     "data": {
      "text/html": [
       "<div>\n",
       "<style scoped>\n",
       "    .dataframe tbody tr th:only-of-type {\n",
       "        vertical-align: middle;\n",
       "    }\n",
       "\n",
       "    .dataframe tbody tr th {\n",
       "        vertical-align: top;\n",
       "    }\n",
       "\n",
       "    .dataframe thead th {\n",
       "        text-align: right;\n",
       "    }\n",
       "</style>\n",
       "<table border=\"1\" class=\"dataframe\">\n",
       "  <thead>\n",
       "    <tr style=\"text-align: right;\">\n",
       "      <th></th>\n",
       "      <th>name</th>\n",
       "      <th>platform</th>\n",
       "      <th>year_of_release</th>\n",
       "      <th>genre</th>\n",
       "      <th>na_sales</th>\n",
       "      <th>eu_sales</th>\n",
       "      <th>jp_sales</th>\n",
       "      <th>other_sales</th>\n",
       "      <th>critic_score</th>\n",
       "      <th>user_score</th>\n",
       "      <th>rating</th>\n",
       "    </tr>\n",
       "  </thead>\n",
       "  <tbody>\n",
       "    <tr>\n",
       "      <th>1</th>\n",
       "      <td>Super Mario Bros.</td>\n",
       "      <td>NES</td>\n",
       "      <td>1985.00</td>\n",
       "      <td>Platform</td>\n",
       "      <td>29.08</td>\n",
       "      <td>3.58</td>\n",
       "      <td>6.81</td>\n",
       "      <td>0.77</td>\n",
       "      <td>NaN</td>\n",
       "      <td>NaN</td>\n",
       "      <td>NaN</td>\n",
       "    </tr>\n",
       "    <tr>\n",
       "      <th>4</th>\n",
       "      <td>Pokemon Red/Pokemon Blue</td>\n",
       "      <td>GB</td>\n",
       "      <td>1996.00</td>\n",
       "      <td>Role-Playing</td>\n",
       "      <td>11.27</td>\n",
       "      <td>8.89</td>\n",
       "      <td>10.22</td>\n",
       "      <td>1.00</td>\n",
       "      <td>NaN</td>\n",
       "      <td>NaN</td>\n",
       "      <td>NaN</td>\n",
       "    </tr>\n",
       "    <tr>\n",
       "      <th>5</th>\n",
       "      <td>Tetris</td>\n",
       "      <td>GB</td>\n",
       "      <td>1989.00</td>\n",
       "      <td>Puzzle</td>\n",
       "      <td>23.20</td>\n",
       "      <td>2.26</td>\n",
       "      <td>4.22</td>\n",
       "      <td>0.58</td>\n",
       "      <td>NaN</td>\n",
       "      <td>NaN</td>\n",
       "      <td>NaN</td>\n",
       "    </tr>\n",
       "    <tr>\n",
       "      <th>9</th>\n",
       "      <td>Duck Hunt</td>\n",
       "      <td>NES</td>\n",
       "      <td>1984.00</td>\n",
       "      <td>Shooter</td>\n",
       "      <td>26.93</td>\n",
       "      <td>0.63</td>\n",
       "      <td>0.28</td>\n",
       "      <td>0.47</td>\n",
       "      <td>NaN</td>\n",
       "      <td>NaN</td>\n",
       "      <td>NaN</td>\n",
       "    </tr>\n",
       "    <tr>\n",
       "      <th>10</th>\n",
       "      <td>Nintendogs</td>\n",
       "      <td>DS</td>\n",
       "      <td>2005.00</td>\n",
       "      <td>Simulation</td>\n",
       "      <td>9.05</td>\n",
       "      <td>10.95</td>\n",
       "      <td>1.93</td>\n",
       "      <td>2.74</td>\n",
       "      <td>NaN</td>\n",
       "      <td>NaN</td>\n",
       "      <td>NaN</td>\n",
       "    </tr>\n",
       "    <tr>\n",
       "      <th>...</th>\n",
       "      <td>...</td>\n",
       "      <td>...</td>\n",
       "      <td>...</td>\n",
       "      <td>...</td>\n",
       "      <td>...</td>\n",
       "      <td>...</td>\n",
       "      <td>...</td>\n",
       "      <td>...</td>\n",
       "      <td>...</td>\n",
       "      <td>...</td>\n",
       "      <td>...</td>\n",
       "    </tr>\n",
       "    <tr>\n",
       "      <th>16710</th>\n",
       "      <td>Samurai Warriors: Sanada Maru</td>\n",
       "      <td>PS3</td>\n",
       "      <td>2016.00</td>\n",
       "      <td>Action</td>\n",
       "      <td>0.00</td>\n",
       "      <td>0.00</td>\n",
       "      <td>0.01</td>\n",
       "      <td>0.00</td>\n",
       "      <td>NaN</td>\n",
       "      <td>NaN</td>\n",
       "      <td>NaN</td>\n",
       "    </tr>\n",
       "    <tr>\n",
       "      <th>16711</th>\n",
       "      <td>LMA Manager 2007</td>\n",
       "      <td>X360</td>\n",
       "      <td>2006.00</td>\n",
       "      <td>Sports</td>\n",
       "      <td>0.00</td>\n",
       "      <td>0.01</td>\n",
       "      <td>0.00</td>\n",
       "      <td>0.00</td>\n",
       "      <td>NaN</td>\n",
       "      <td>NaN</td>\n",
       "      <td>NaN</td>\n",
       "    </tr>\n",
       "    <tr>\n",
       "      <th>16712</th>\n",
       "      <td>Haitaka no Psychedelica</td>\n",
       "      <td>PSV</td>\n",
       "      <td>2016.00</td>\n",
       "      <td>Adventure</td>\n",
       "      <td>0.00</td>\n",
       "      <td>0.00</td>\n",
       "      <td>0.01</td>\n",
       "      <td>0.00</td>\n",
       "      <td>NaN</td>\n",
       "      <td>NaN</td>\n",
       "      <td>NaN</td>\n",
       "    </tr>\n",
       "    <tr>\n",
       "      <th>16713</th>\n",
       "      <td>Spirits &amp; Spells</td>\n",
       "      <td>GBA</td>\n",
       "      <td>2003.00</td>\n",
       "      <td>Platform</td>\n",
       "      <td>0.01</td>\n",
       "      <td>0.00</td>\n",
       "      <td>0.00</td>\n",
       "      <td>0.00</td>\n",
       "      <td>NaN</td>\n",
       "      <td>NaN</td>\n",
       "      <td>NaN</td>\n",
       "    </tr>\n",
       "    <tr>\n",
       "      <th>16714</th>\n",
       "      <td>Winning Post 8 2016</td>\n",
       "      <td>PSV</td>\n",
       "      <td>2016.00</td>\n",
       "      <td>Simulation</td>\n",
       "      <td>0.00</td>\n",
       "      <td>0.00</td>\n",
       "      <td>0.01</td>\n",
       "      <td>0.00</td>\n",
       "      <td>NaN</td>\n",
       "      <td>NaN</td>\n",
       "      <td>NaN</td>\n",
       "    </tr>\n",
       "  </tbody>\n",
       "</table>\n",
       "<p>6621 rows × 11 columns</p>\n",
       "</div>"
      ],
      "text/plain": [
       "                                name platform  year_of_release         genre  \\\n",
       "1                  Super Mario Bros.      NES          1985.00      Platform   \n",
       "4           Pokemon Red/Pokemon Blue       GB          1996.00  Role-Playing   \n",
       "5                             Tetris       GB          1989.00        Puzzle   \n",
       "9                          Duck Hunt      NES          1984.00       Shooter   \n",
       "10                        Nintendogs       DS          2005.00    Simulation   \n",
       "...                              ...      ...              ...           ...   \n",
       "16710  Samurai Warriors: Sanada Maru      PS3          2016.00        Action   \n",
       "16711               LMA Manager 2007     X360          2006.00        Sports   \n",
       "16712        Haitaka no Psychedelica      PSV          2016.00     Adventure   \n",
       "16713               Spirits & Spells      GBA          2003.00      Platform   \n",
       "16714            Winning Post 8 2016      PSV          2016.00    Simulation   \n",
       "\n",
       "       na_sales  eu_sales  jp_sales  other_sales  critic_score user_score  \\\n",
       "1         29.08      3.58      6.81         0.77           NaN        NaN   \n",
       "4         11.27      8.89     10.22         1.00           NaN        NaN   \n",
       "5         23.20      2.26      4.22         0.58           NaN        NaN   \n",
       "9         26.93      0.63      0.28         0.47           NaN        NaN   \n",
       "10         9.05     10.95      1.93         2.74           NaN        NaN   \n",
       "...         ...       ...       ...          ...           ...        ...   \n",
       "16710      0.00      0.00      0.01         0.00           NaN        NaN   \n",
       "16711      0.00      0.01      0.00         0.00           NaN        NaN   \n",
       "16712      0.00      0.00      0.01         0.00           NaN        NaN   \n",
       "16713      0.01      0.00      0.00         0.00           NaN        NaN   \n",
       "16714      0.00      0.00      0.01         0.00           NaN        NaN   \n",
       "\n",
       "      rating  \n",
       "1        NaN  \n",
       "4        NaN  \n",
       "5        NaN  \n",
       "9        NaN  \n",
       "10       NaN  \n",
       "...      ...  \n",
       "16710    NaN  \n",
       "16711    NaN  \n",
       "16712    NaN  \n",
       "16713    NaN  \n",
       "16714    NaN  \n",
       "\n",
       "[6621 rows x 11 columns]"
      ]
     },
     "execution_count": 12,
     "metadata": {},
     "output_type": "execute_result"
    }
   ],
   "source": [
    "df.query('critic_score ! = critic_score & user_score != user_score & rating != rating')"
   ]
  },
  {
   "cell_type": "markdown",
   "id": "4087fc60",
   "metadata": {},
   "source": [
    "Как и предполагалось, строк с незаполнеными рейтингами по всем трем колонкам достаточно много. Это свидетельствует о том, что данные по данным этим играм, скорее всего, отсутствуют. Оставшиеся несколько тысяч пропусков говорят о незаполненности данных по отдельным оценкам по колонкам."
   ]
  },
  {
   "cell_type": "markdown",
   "id": "1dbe3fad",
   "metadata": {},
   "source": [
    "**Удаление пропусков**"
   ]
  },
  {
   "cell_type": "markdown",
   "id": "789cfeeb",
   "metadata": {},
   "source": [
    "Удалим пропуски в колонках *`name` и `year_of_release`*, т.к. объем пропущенных значений в них небольшой."
   ]
  },
  {
   "cell_type": "code",
   "execution_count": 13,
   "id": "7106536c",
   "metadata": {
    "ExecuteTime": {
     "end_time": "2023-02-11T19:03:10.053298Z",
     "start_time": "2023-02-11T19:03:10.040590Z"
    }
   },
   "outputs": [
    {
     "data": {
      "text/plain": [
       "(16715, 11)"
      ]
     },
     "execution_count": 13,
     "metadata": {},
     "output_type": "execute_result"
    }
   ],
   "source": [
    "df.shape"
   ]
  },
  {
   "cell_type": "code",
   "execution_count": 14,
   "id": "7a056883",
   "metadata": {
    "ExecuteTime": {
     "end_time": "2023-02-11T19:03:10.084318Z",
     "start_time": "2023-02-11T19:03:10.056307Z"
    }
   },
   "outputs": [
    {
     "data": {
      "text/plain": [
       "name                  0\n",
       "platform              0\n",
       "year_of_release       0\n",
       "genre                 0\n",
       "na_sales              0\n",
       "eu_sales              0\n",
       "jp_sales              0\n",
       "other_sales           0\n",
       "critic_score       8461\n",
       "user_score         6605\n",
       "rating             6676\n",
       "dtype: int64"
      ]
     },
     "execution_count": 14,
     "metadata": {},
     "output_type": "execute_result"
    }
   ],
   "source": [
    "df = df.dropna(subset=['name', 'year_of_release'])\n",
    "df.isna().sum()"
   ]
  },
  {
   "cell_type": "code",
   "execution_count": 15,
   "id": "320e68f0",
   "metadata": {
    "ExecuteTime": {
     "end_time": "2023-02-11T19:03:10.100264Z",
     "start_time": "2023-02-11T19:03:10.088296Z"
    }
   },
   "outputs": [
    {
     "data": {
      "text/plain": [
       "(16444, 11)"
      ]
     },
     "execution_count": 15,
     "metadata": {},
     "output_type": "execute_result"
    }
   ],
   "source": [
    "df.shape"
   ]
  },
  {
   "cell_type": "markdown",
   "id": "08f7ab1b",
   "metadata": {},
   "source": [
    "Удаление пропусков прошло успешно."
   ]
  },
  {
   "cell_type": "code",
   "execution_count": 16,
   "id": "b58c0b1b",
   "metadata": {
    "ExecuteTime": {
     "end_time": "2023-02-11T19:03:10.132179Z",
     "start_time": "2023-02-11T19:03:10.103656Z"
    }
   },
   "outputs": [
    {
     "data": {
      "text/plain": [
       "Series([], Name: platform, dtype: int64)"
      ]
     },
     "execution_count": 16,
     "metadata": {},
     "output_type": "execute_result"
    }
   ],
   "source": [
    "df.query('year_of_release != year_of_release')['platform'].value_counts()"
   ]
  },
  {
   "cell_type": "markdown",
   "id": "007e64f1",
   "metadata": {},
   "source": [
    "TBD(To Be Determined) значения означают, что данные не были заполнены специально, из-за их отсутствия.\n",
    "\n",
    "Заменим такие значения в колонке *`user_score`* на `NAN` для упрощения анализа."
   ]
  },
  {
   "cell_type": "code",
   "execution_count": 17,
   "id": "cf99e5bc",
   "metadata": {
    "ExecuteTime": {
     "end_time": "2023-02-11T19:03:10.156727Z",
     "start_time": "2023-02-11T19:03:10.134199Z"
    }
   },
   "outputs": [
    {
     "data": {
      "text/plain": [
       "8981"
      ]
     },
     "execution_count": 17,
     "metadata": {},
     "output_type": "execute_result"
    }
   ],
   "source": [
    "# Замена tbd на NAN\n",
    "df['user_score'] = df['user_score'].replace('tbd', np.nan)\n",
    "df['user_score'].isna().sum()"
   ]
  },
  {
   "cell_type": "markdown",
   "id": "bf676d33",
   "metadata": {},
   "source": [
    "Всего получилось 8981 `NAN` значение в колонке *`user_score`*.\n",
    "\n",
    "Взглянем на тип колонки *`user_score`*."
   ]
  },
  {
   "cell_type": "code",
   "execution_count": 18,
   "id": "92cb068b",
   "metadata": {
    "ExecuteTime": {
     "end_time": "2023-02-11T19:03:10.187729Z",
     "start_time": "2023-02-11T19:03:10.160106Z"
    }
   },
   "outputs": [
    {
     "data": {
      "text/plain": [
       "name                object\n",
       "platform            object\n",
       "year_of_release    float64\n",
       "genre               object\n",
       "na_sales           float64\n",
       "eu_sales           float64\n",
       "jp_sales           float64\n",
       "other_sales        float64\n",
       "critic_score       float64\n",
       "user_score          object\n",
       "rating              object\n",
       "dtype: object"
      ]
     },
     "execution_count": 18,
     "metadata": {},
     "output_type": "execute_result"
    }
   ],
   "source": [
    "df.dtypes"
   ]
  },
  {
   "cell_type": "markdown",
   "id": "0dd55793",
   "metadata": {},
   "source": [
    "Ее тип поменялся на *`object`* после замены *`tbd`* на *`NAN`*. Поэтому необходимо будет колонку *`user_score`* привести к *`float`* значению в соответствующе разделе."
   ]
  },
  {
   "cell_type": "markdown",
   "id": "1978f645",
   "metadata": {},
   "source": [
    "Остальные `NAN` значения предлагается оставить без изменений, т.к. их слишком большое количество, а заменить средним или медианой не предоставляется возможным из-за возможного искажения данных."
   ]
  },
  {
   "cell_type": "markdown",
   "id": "b3a4113e",
   "metadata": {},
   "source": [
    "### Расчет суммарного количества продаж по регионам"
   ]
  },
  {
   "cell_type": "markdown",
   "id": "749cc5c5",
   "metadata": {},
   "source": [
    "Посчитаем суммарное количество продаж по регионам для дальнейшего анализа."
   ]
  },
  {
   "cell_type": "code",
   "execution_count": 19,
   "id": "c852559c",
   "metadata": {
    "ExecuteTime": {
     "end_time": "2023-02-11T19:03:10.203585Z",
     "start_time": "2023-02-11T19:03:10.189622Z"
    }
   },
   "outputs": [
    {
     "data": {
      "text/plain": [
       "0       82.54\n",
       "1       40.24\n",
       "2       35.52\n",
       "3       32.77\n",
       "4       31.38\n",
       "         ... \n",
       "16710    0.01\n",
       "16711    0.01\n",
       "16712    0.01\n",
       "16713    0.01\n",
       "16714    0.01\n",
       "Name: total_sales, Length: 16444, dtype: float64"
      ]
     },
     "execution_count": 19,
     "metadata": {},
     "output_type": "execute_result"
    }
   ],
   "source": [
    "df['total_sales'] = df[['na_sales', 'eu_sales',\n",
    "                        'jp_sales', 'other_sales']].sum(axis='columns')\n",
    "df['total_sales']"
   ]
  },
  {
   "cell_type": "code",
   "execution_count": 20,
   "id": "ede5d9f9",
   "metadata": {
    "ExecuteTime": {
     "end_time": "2023-02-11T19:03:10.219880Z",
     "start_time": "2023-02-11T19:03:10.207183Z"
    }
   },
   "outputs": [
    {
     "data": {
      "text/plain": [
       "0       82.54\n",
       "1       40.24\n",
       "2       35.52\n",
       "3       32.77\n",
       "4       31.38\n",
       "         ... \n",
       "16710    0.01\n",
       "16711    0.01\n",
       "16712    0.01\n",
       "16713    0.01\n",
       "16714    0.01\n",
       "Name: total_sales, Length: 16444, dtype: float64"
      ]
     },
     "execution_count": 20,
     "metadata": {},
     "output_type": "execute_result"
    }
   ],
   "source": [
    "df['total_sales']"
   ]
  },
  {
   "cell_type": "markdown",
   "id": "8ac747ee",
   "metadata": {},
   "source": [
    "### Преобразование данных"
   ]
  },
  {
   "cell_type": "markdown",
   "id": "1dccaf38",
   "metadata": {},
   "source": [
    "Преобразуем колонки *`user_score` и `year_of_release`* к `float` и `int` типам."
   ]
  },
  {
   "cell_type": "code",
   "execution_count": 21,
   "id": "26790696",
   "metadata": {
    "ExecuteTime": {
     "end_time": "2023-02-11T19:03:10.251498Z",
     "start_time": "2023-02-11T19:03:10.223239Z"
    }
   },
   "outputs": [
    {
     "data": {
      "text/plain": [
       "name                object\n",
       "platform            object\n",
       "year_of_release      int64\n",
       "genre               object\n",
       "na_sales           float64\n",
       "eu_sales           float64\n",
       "jp_sales           float64\n",
       "other_sales        float64\n",
       "critic_score       float64\n",
       "user_score         float64\n",
       "rating              object\n",
       "total_sales        float64\n",
       "dtype: object"
      ]
     },
     "execution_count": 21,
     "metadata": {},
     "output_type": "execute_result"
    }
   ],
   "source": [
    "# Преобразование типов\n",
    "df['user_score'] = df['user_score'].astype('float')\n",
    "df['year_of_release'] = df['year_of_release'].astype('int64')\n",
    "df.dtypes"
   ]
  },
  {
   "cell_type": "markdown",
   "id": "c477ea8d",
   "metadata": {},
   "source": [
    "Остальные колонки не изменяем, т.к. там есть `NAN` значения, которые никак не заменишь."
   ]
  },
  {
   "cell_type": "markdown",
   "id": "a98d4770",
   "metadata": {},
   "source": [
    "### Проверка на дубликаты"
   ]
  },
  {
   "cell_type": "markdown",
   "id": "468d80e8",
   "metadata": {},
   "source": [
    "Проверим датасет на наличие явных дубликатов."
   ]
  },
  {
   "cell_type": "markdown",
   "id": "94772b3e",
   "metadata": {},
   "source": [
    "**Проверка на явные дубликаты**"
   ]
  },
  {
   "cell_type": "code",
   "execution_count": 22,
   "id": "8f307df4",
   "metadata": {
    "ExecuteTime": {
     "end_time": "2023-02-11T19:03:10.297793Z",
     "start_time": "2023-02-11T19:03:10.254837Z"
    }
   },
   "outputs": [
    {
     "data": {
      "text/plain": [
       "0"
      ]
     },
     "execution_count": 22,
     "metadata": {},
     "output_type": "execute_result"
    }
   ],
   "source": [
    "df.duplicated().sum()"
   ]
  },
  {
   "cell_type": "code",
   "execution_count": 23,
   "id": "413d57cf",
   "metadata": {
    "ExecuteTime": {
     "end_time": "2023-02-11T19:03:10.361622Z",
     "start_time": "2023-02-11T19:03:10.301783Z"
    }
   },
   "outputs": [
    {
     "name": "stdout",
     "output_type": "stream",
     "text": [
      "name : 5018\n",
      "platform : 16413\n",
      "year_of_release : 16407\n",
      "genre : 16432\n",
      "na_sales : 16043\n",
      "eu_sales : 16137\n",
      "jp_sales : 16200\n",
      "other_sales : 16289\n",
      "critic_score : 16362\n",
      "user_score : 16348\n",
      "rating : 16435\n",
      "total_sales : 15440\n"
     ]
    }
   ],
   "source": [
    "for column in df:\n",
    "    print(column, ':', df.duplicated(subset=column).sum())"
   ]
  },
  {
   "cell_type": "code",
   "execution_count": 24,
   "id": "d8a766d1",
   "metadata": {
    "ExecuteTime": {
     "end_time": "2023-02-11T19:03:10.393738Z",
     "start_time": "2023-02-11T19:03:10.365639Z"
    }
   },
   "outputs": [
    {
     "data": {
      "text/plain": [
       "0        False\n",
       "1        False\n",
       "2        False\n",
       "3        False\n",
       "4        False\n",
       "         ...  \n",
       "16710     True\n",
       "16711     True\n",
       "16712     True\n",
       "16713     True\n",
       "16714     True\n",
       "Length: 16444, dtype: bool"
      ]
     },
     "execution_count": 24,
     "metadata": {},
     "output_type": "execute_result"
    }
   ],
   "source": [
    "df.duplicated(subset=column)"
   ]
  },
  {
   "cell_type": "markdown",
   "id": "29dd7ad2",
   "metadata": {},
   "source": [
    "Из всех дубликатов странными выглядят только дубликаты в колонке name. Однако, если поразмыслить, дубликаты скорее всего образовались из-за того, что одни и те же игры выпускались на разных платформах. Поэтому данные дубликаты я никак не буду обрабатывать. Пример ниже."
   ]
  },
  {
   "cell_type": "code",
   "execution_count": 25,
   "id": "af0b9226",
   "metadata": {
    "ExecuteTime": {
     "end_time": "2023-02-11T19:03:10.440626Z",
     "start_time": "2023-02-11T19:03:10.397686Z"
    }
   },
   "outputs": [
    {
     "data": {
      "text/html": [
       "<div>\n",
       "<style scoped>\n",
       "    .dataframe tbody tr th:only-of-type {\n",
       "        vertical-align: middle;\n",
       "    }\n",
       "\n",
       "    .dataframe tbody tr th {\n",
       "        vertical-align: top;\n",
       "    }\n",
       "\n",
       "    .dataframe thead th {\n",
       "        text-align: right;\n",
       "    }\n",
       "</style>\n",
       "<table border=\"1\" class=\"dataframe\">\n",
       "  <thead>\n",
       "    <tr style=\"text-align: right;\">\n",
       "      <th></th>\n",
       "      <th>name</th>\n",
       "      <th>platform</th>\n",
       "      <th>year_of_release</th>\n",
       "      <th>genre</th>\n",
       "      <th>na_sales</th>\n",
       "      <th>eu_sales</th>\n",
       "      <th>jp_sales</th>\n",
       "      <th>other_sales</th>\n",
       "      <th>critic_score</th>\n",
       "      <th>user_score</th>\n",
       "      <th>rating</th>\n",
       "      <th>total_sales</th>\n",
       "    </tr>\n",
       "  </thead>\n",
       "  <tbody>\n",
       "    <tr>\n",
       "      <th>5</th>\n",
       "      <td>Tetris</td>\n",
       "      <td>GB</td>\n",
       "      <td>1989</td>\n",
       "      <td>Puzzle</td>\n",
       "      <td>23.20</td>\n",
       "      <td>2.26</td>\n",
       "      <td>4.22</td>\n",
       "      <td>0.58</td>\n",
       "      <td>NaN</td>\n",
       "      <td>NaN</td>\n",
       "      <td>NaN</td>\n",
       "      <td>30.26</td>\n",
       "    </tr>\n",
       "    <tr>\n",
       "      <th>157</th>\n",
       "      <td>Tetris</td>\n",
       "      <td>NES</td>\n",
       "      <td>1988</td>\n",
       "      <td>Puzzle</td>\n",
       "      <td>2.97</td>\n",
       "      <td>0.69</td>\n",
       "      <td>1.81</td>\n",
       "      <td>0.11</td>\n",
       "      <td>NaN</td>\n",
       "      <td>NaN</td>\n",
       "      <td>NaN</td>\n",
       "      <td>5.58</td>\n",
       "    </tr>\n",
       "  </tbody>\n",
       "</table>\n",
       "</div>"
      ],
      "text/plain": [
       "       name platform  year_of_release   genre  na_sales  eu_sales  jp_sales  \\\n",
       "5    Tetris       GB             1989  Puzzle     23.20      2.26      4.22   \n",
       "157  Tetris      NES             1988  Puzzle      2.97      0.69      1.81   \n",
       "\n",
       "     other_sales  critic_score  user_score rating  total_sales  \n",
       "5           0.58           NaN         NaN    NaN        30.26  \n",
       "157         0.11           NaN         NaN    NaN         5.58  "
      ]
     },
     "execution_count": 25,
     "metadata": {},
     "output_type": "execute_result"
    }
   ],
   "source": [
    "df.loc[df['name'] == 'Tetris']"
   ]
  },
  {
   "cell_type": "markdown",
   "id": "a4954d30",
   "metadata": {},
   "source": [
    "Явные дубликаты отсутствуют."
   ]
  },
  {
   "cell_type": "markdown",
   "id": "a5073c11",
   "metadata": {},
   "source": [
    "**Проверка на неявные дубликаты**"
   ]
  },
  {
   "cell_type": "markdown",
   "id": "ac3ea120",
   "metadata": {},
   "source": [
    "Проверим датасет на наличие неявных дубликатов."
   ]
  },
  {
   "cell_type": "code",
   "execution_count": 26,
   "id": "d0a3eae3",
   "metadata": {
    "ExecuteTime": {
     "end_time": "2023-02-11T19:03:10.518878Z",
     "start_time": "2023-02-11T19:03:10.443975Z"
    }
   },
   "outputs": [
    {
     "name": "stdout",
     "output_type": "stream",
     "text": [
      "name\n",
      "[' Beyblade Burst' ' Fire Emblem Fates' \" Frozen: Olaf's Quest\" ...\n",
      " 'uDraw Studio' 'uDraw Studio: Instant Artist'\n",
      " '¡Shin Chan Flipa en colores!']\n",
      "platform\n",
      "['2600' '3DO' '3DS' 'DC' 'DS' 'GB' 'GBA' 'GC' 'GEN' 'GG' 'N64' 'NES' 'NG'\n",
      " 'PC' 'PCFX' 'PS' 'PS2' 'PS3' 'PS4' 'PSP' 'PSV' 'SAT' 'SCD' 'SNES' 'TG16'\n",
      " 'WS' 'Wii' 'WiiU' 'X360' 'XB' 'XOne']\n",
      "year_of_release\n",
      "[1980 1981 1982 1983 1984 1985 1986 1987 1988 1989 1990 1991 1992 1993\n",
      " 1994 1995 1996 1997 1998 1999 2000 2001 2002 2003 2004 2005 2006 2007\n",
      " 2008 2009 2010 2011 2012 2013 2014 2015 2016]\n",
      "genre\n",
      "['Action' 'Adventure' 'Fighting' 'Misc' 'Platform' 'Puzzle' 'Racing'\n",
      " 'Role-Playing' 'Shooter' 'Simulation' 'Sports' 'Strategy']\n",
      "rating\n",
      "['AO' 'E' 'E10+' 'EC' 'K-A' 'M' 'RP' 'T' nan]\n"
     ]
    }
   ],
   "source": [
    "columns = ['name', 'platform', 'year_of_release', 'genre', 'rating']\n",
    "\n",
    "# Вывод уникальных значений\n",
    "for column in columns:\n",
    "    print(column)\n",
    "    print(df[column].sort_values().unique())"
   ]
  },
  {
   "cell_type": "markdown",
   "id": "6d6b3997",
   "metadata": {},
   "source": [
    "При анализе уникальных значений столбцов, где могли бы быть явные дубликаты, таковые не обнаружены."
   ]
  },
  {
   "cell_type": "markdown",
   "id": "b2f7a35e",
   "metadata": {},
   "source": [
    "### Вывод"
   ]
  },
  {
   "cell_type": "markdown",
   "id": "a2fc6938",
   "metadata": {},
   "source": [
    "В данном разделе мы проанализировали пропущенные данные, удалили ненужные пропуски, которые не влияют на анализ данных, рассчитали суммарное количество продаж по регионам. Выполнили преобразование данных и проверку данных на дубликаты."
   ]
  },
  {
   "cell_type": "markdown",
   "id": "a0bfeeba",
   "metadata": {},
   "source": [
    "## Исследовательский анализ данных"
   ]
  },
  {
   "cell_type": "markdown",
   "id": "35178b15",
   "metadata": {},
   "source": [
    "### Количество выпущенных игр по годам"
   ]
  },
  {
   "cell_type": "markdown",
   "id": "5a962d87",
   "metadata": {},
   "source": [
    "Определим количество выпущенных по годам игр."
   ]
  },
  {
   "cell_type": "code",
   "execution_count": 27,
   "id": "d48852d0",
   "metadata": {
    "ExecuteTime": {
     "end_time": "2023-02-11T19:03:10.549420Z",
     "start_time": "2023-02-11T19:03:10.521872Z"
    },
    "scrolled": true
   },
   "outputs": [
    {
     "data": {
      "text/html": [
       "<div>\n",
       "<style scoped>\n",
       "    .dataframe tbody tr th:only-of-type {\n",
       "        vertical-align: middle;\n",
       "    }\n",
       "\n",
       "    .dataframe tbody tr th {\n",
       "        vertical-align: top;\n",
       "    }\n",
       "\n",
       "    .dataframe thead th {\n",
       "        text-align: right;\n",
       "    }\n",
       "</style>\n",
       "<table border=\"1\" class=\"dataframe\">\n",
       "  <thead>\n",
       "    <tr style=\"text-align: right;\">\n",
       "      <th></th>\n",
       "      <th>index</th>\n",
       "      <th>year_of_release</th>\n",
       "    </tr>\n",
       "  </thead>\n",
       "  <tbody>\n",
       "    <tr>\n",
       "      <th>14</th>\n",
       "      <td>2016</td>\n",
       "      <td>502</td>\n",
       "    </tr>\n",
       "    <tr>\n",
       "      <th>11</th>\n",
       "      <td>2015</td>\n",
       "      <td>606</td>\n",
       "    </tr>\n",
       "    <tr>\n",
       "      <th>12</th>\n",
       "      <td>2014</td>\n",
       "      <td>581</td>\n",
       "    </tr>\n",
       "    <tr>\n",
       "      <th>13</th>\n",
       "      <td>2013</td>\n",
       "      <td>544</td>\n",
       "    </tr>\n",
       "    <tr>\n",
       "      <th>10</th>\n",
       "      <td>2012</td>\n",
       "      <td>653</td>\n",
       "    </tr>\n",
       "    <tr>\n",
       "      <th>4</th>\n",
       "      <td>2011</td>\n",
       "      <td>1136</td>\n",
       "    </tr>\n",
       "    <tr>\n",
       "      <th>2</th>\n",
       "      <td>2010</td>\n",
       "      <td>1255</td>\n",
       "    </tr>\n",
       "    <tr>\n",
       "      <th>1</th>\n",
       "      <td>2009</td>\n",
       "      <td>1426</td>\n",
       "    </tr>\n",
       "    <tr>\n",
       "      <th>0</th>\n",
       "      <td>2008</td>\n",
       "      <td>1427</td>\n",
       "    </tr>\n",
       "    <tr>\n",
       "      <th>3</th>\n",
       "      <td>2007</td>\n",
       "      <td>1197</td>\n",
       "    </tr>\n",
       "    <tr>\n",
       "      <th>5</th>\n",
       "      <td>2006</td>\n",
       "      <td>1006</td>\n",
       "    </tr>\n",
       "    <tr>\n",
       "      <th>6</th>\n",
       "      <td>2005</td>\n",
       "      <td>939</td>\n",
       "    </tr>\n",
       "    <tr>\n",
       "      <th>9</th>\n",
       "      <td>2004</td>\n",
       "      <td>762</td>\n",
       "    </tr>\n",
       "    <tr>\n",
       "      <th>8</th>\n",
       "      <td>2003</td>\n",
       "      <td>775</td>\n",
       "    </tr>\n",
       "    <tr>\n",
       "      <th>7</th>\n",
       "      <td>2002</td>\n",
       "      <td>829</td>\n",
       "    </tr>\n",
       "    <tr>\n",
       "      <th>15</th>\n",
       "      <td>2001</td>\n",
       "      <td>482</td>\n",
       "    </tr>\n",
       "    <tr>\n",
       "      <th>17</th>\n",
       "      <td>2000</td>\n",
       "      <td>350</td>\n",
       "    </tr>\n",
       "    <tr>\n",
       "      <th>18</th>\n",
       "      <td>1999</td>\n",
       "      <td>338</td>\n",
       "    </tr>\n",
       "    <tr>\n",
       "      <th>16</th>\n",
       "      <td>1998</td>\n",
       "      <td>379</td>\n",
       "    </tr>\n",
       "    <tr>\n",
       "      <th>19</th>\n",
       "      <td>1997</td>\n",
       "      <td>289</td>\n",
       "    </tr>\n",
       "    <tr>\n",
       "      <th>20</th>\n",
       "      <td>1996</td>\n",
       "      <td>263</td>\n",
       "    </tr>\n",
       "    <tr>\n",
       "      <th>21</th>\n",
       "      <td>1995</td>\n",
       "      <td>219</td>\n",
       "    </tr>\n",
       "    <tr>\n",
       "      <th>22</th>\n",
       "      <td>1994</td>\n",
       "      <td>121</td>\n",
       "    </tr>\n",
       "    <tr>\n",
       "      <th>23</th>\n",
       "      <td>1993</td>\n",
       "      <td>60</td>\n",
       "    </tr>\n",
       "    <tr>\n",
       "      <th>25</th>\n",
       "      <td>1992</td>\n",
       "      <td>43</td>\n",
       "    </tr>\n",
       "    <tr>\n",
       "      <th>26</th>\n",
       "      <td>1991</td>\n",
       "      <td>41</td>\n",
       "    </tr>\n",
       "    <tr>\n",
       "      <th>31</th>\n",
       "      <td>1990</td>\n",
       "      <td>16</td>\n",
       "    </tr>\n",
       "    <tr>\n",
       "      <th>29</th>\n",
       "      <td>1989</td>\n",
       "      <td>17</td>\n",
       "    </tr>\n",
       "    <tr>\n",
       "      <th>33</th>\n",
       "      <td>1988</td>\n",
       "      <td>15</td>\n",
       "    </tr>\n",
       "    <tr>\n",
       "      <th>32</th>\n",
       "      <td>1987</td>\n",
       "      <td>16</td>\n",
       "    </tr>\n",
       "    <tr>\n",
       "      <th>28</th>\n",
       "      <td>1986</td>\n",
       "      <td>21</td>\n",
       "    </tr>\n",
       "    <tr>\n",
       "      <th>34</th>\n",
       "      <td>1985</td>\n",
       "      <td>14</td>\n",
       "    </tr>\n",
       "    <tr>\n",
       "      <th>35</th>\n",
       "      <td>1984</td>\n",
       "      <td>14</td>\n",
       "    </tr>\n",
       "    <tr>\n",
       "      <th>30</th>\n",
       "      <td>1983</td>\n",
       "      <td>17</td>\n",
       "    </tr>\n",
       "    <tr>\n",
       "      <th>27</th>\n",
       "      <td>1982</td>\n",
       "      <td>36</td>\n",
       "    </tr>\n",
       "    <tr>\n",
       "      <th>24</th>\n",
       "      <td>1981</td>\n",
       "      <td>46</td>\n",
       "    </tr>\n",
       "    <tr>\n",
       "      <th>36</th>\n",
       "      <td>1980</td>\n",
       "      <td>9</td>\n",
       "    </tr>\n",
       "  </tbody>\n",
       "</table>\n",
       "</div>"
      ],
      "text/plain": [
       "    index  year_of_release\n",
       "14   2016              502\n",
       "11   2015              606\n",
       "12   2014              581\n",
       "13   2013              544\n",
       "10   2012              653\n",
       "4    2011             1136\n",
       "2    2010             1255\n",
       "1    2009             1426\n",
       "0    2008             1427\n",
       "3    2007             1197\n",
       "5    2006             1006\n",
       "6    2005              939\n",
       "9    2004              762\n",
       "8    2003              775\n",
       "7    2002              829\n",
       "15   2001              482\n",
       "17   2000              350\n",
       "18   1999              338\n",
       "16   1998              379\n",
       "19   1997              289\n",
       "20   1996              263\n",
       "21   1995              219\n",
       "22   1994              121\n",
       "23   1993               60\n",
       "25   1992               43\n",
       "26   1991               41\n",
       "31   1990               16\n",
       "29   1989               17\n",
       "33   1988               15\n",
       "32   1987               16\n",
       "28   1986               21\n",
       "34   1985               14\n",
       "35   1984               14\n",
       "30   1983               17\n",
       "27   1982               36\n",
       "24   1981               46\n",
       "36   1980                9"
      ]
     },
     "execution_count": 27,
     "metadata": {},
     "output_type": "execute_result"
    }
   ],
   "source": [
    "(df['year_of_release'].value_counts()\n",
    "                     .reset_index()\n",
    "                     .sort_values(by='index', ascending=False))"
   ]
  },
  {
   "cell_type": "markdown",
   "id": "c8ad054d",
   "metadata": {},
   "source": [
    "Построим сооветствующий линейный график для наглядности."
   ]
  },
  {
   "cell_type": "code",
   "execution_count": 28,
   "id": "d382708d",
   "metadata": {
    "ExecuteTime": {
     "end_time": "2023-02-11T19:03:10.973213Z",
     "start_time": "2023-02-11T19:03:10.551413Z"
    }
   },
   "outputs": [
    {
     "data": {
      "text/plain": [
       "Text(0, 0.5, 'Количество выпущенных игр')"
      ]
     },
     "execution_count": 28,
     "metadata": {},
     "output_type": "execute_result"
    },
    {
     "data": {
      "image/png": "[encoded data removed]",
      "text/plain": [
       "<Figure size 1296x504 with 1 Axes>"
      ]
     },
     "metadata": {
      "needs_background": "light"
     },
     "output_type": "display_data"
    }
   ],
   "source": [
    "games_by_year = df.pivot_table(index='year_of_release',\n",
    "                               values='name',\n",
    "                               aggfunc='count')\n",
    "plt.figure(figsize=(18, 7))\n",
    "sns.lineplot(data=games_by_year)\n",
    "plt.title(\"Количество игр по годам\")\n",
    "plt.xlabel(\"Год выпуска\")\n",
    "plt.ylabel(\"Количество выпущенных игр\")"
   ]
  },
  {
   "cell_type": "markdown",
   "id": "e53b6c8e",
   "metadata": {},
   "source": [
    "### Суммарные продажи по платформам"
   ]
  },
  {
   "cell_type": "markdown",
   "id": "2e545ba2",
   "metadata": {},
   "source": [
    "Посмотрим на суммарные продажи по платформам."
   ]
  },
  {
   "cell_type": "code",
   "execution_count": 29,
   "id": "4459dd66",
   "metadata": {
    "ExecuteTime": {
     "end_time": "2023-02-11T19:03:11.005077Z",
     "start_time": "2023-02-11T19:03:10.976403Z"
    },
    "scrolled": true
   },
   "outputs": [
    {
     "data": {
      "text/html": [
       "<div>\n",
       "<style scoped>\n",
       "    .dataframe tbody tr th:only-of-type {\n",
       "        vertical-align: middle;\n",
       "    }\n",
       "\n",
       "    .dataframe tbody tr th {\n",
       "        vertical-align: top;\n",
       "    }\n",
       "\n",
       "    .dataframe thead th {\n",
       "        text-align: right;\n",
       "    }\n",
       "</style>\n",
       "<table border=\"1\" class=\"dataframe\">\n",
       "  <thead>\n",
       "    <tr style=\"text-align: right;\">\n",
       "      <th></th>\n",
       "      <th>total_sales</th>\n",
       "    </tr>\n",
       "    <tr>\n",
       "      <th>platform</th>\n",
       "      <th></th>\n",
       "    </tr>\n",
       "  </thead>\n",
       "  <tbody>\n",
       "    <tr>\n",
       "      <th>PS2</th>\n",
       "      <td>1233.56</td>\n",
       "    </tr>\n",
       "    <tr>\n",
       "      <th>X360</th>\n",
       "      <td>961.24</td>\n",
       "    </tr>\n",
       "    <tr>\n",
       "      <th>PS3</th>\n",
       "      <td>931.34</td>\n",
       "    </tr>\n",
       "    <tr>\n",
       "      <th>Wii</th>\n",
       "      <td>891.18</td>\n",
       "    </tr>\n",
       "    <tr>\n",
       "      <th>DS</th>\n",
       "      <td>802.78</td>\n",
       "    </tr>\n",
       "    <tr>\n",
       "      <th>PS</th>\n",
       "      <td>727.58</td>\n",
       "    </tr>\n",
       "    <tr>\n",
       "      <th>PS4</th>\n",
       "      <td>314.14</td>\n",
       "    </tr>\n",
       "    <tr>\n",
       "      <th>GBA</th>\n",
       "      <td>312.88</td>\n",
       "    </tr>\n",
       "    <tr>\n",
       "      <th>PSP</th>\n",
       "      <td>289.53</td>\n",
       "    </tr>\n",
       "    <tr>\n",
       "      <th>3DS</th>\n",
       "      <td>257.81</td>\n",
       "    </tr>\n",
       "    <tr>\n",
       "      <th>PC</th>\n",
       "      <td>255.76</td>\n",
       "    </tr>\n",
       "    <tr>\n",
       "      <th>GB</th>\n",
       "      <td>254.43</td>\n",
       "    </tr>\n",
       "    <tr>\n",
       "      <th>XB</th>\n",
       "      <td>251.57</td>\n",
       "    </tr>\n",
       "    <tr>\n",
       "      <th>NES</th>\n",
       "      <td>251.05</td>\n",
       "    </tr>\n",
       "    <tr>\n",
       "      <th>N64</th>\n",
       "      <td>218.01</td>\n",
       "    </tr>\n",
       "    <tr>\n",
       "      <th>SNES</th>\n",
       "      <td>200.04</td>\n",
       "    </tr>\n",
       "    <tr>\n",
       "      <th>GC</th>\n",
       "      <td>196.73</td>\n",
       "    </tr>\n",
       "    <tr>\n",
       "      <th>XOne</th>\n",
       "      <td>159.32</td>\n",
       "    </tr>\n",
       "    <tr>\n",
       "      <th>2600</th>\n",
       "      <td>86.48</td>\n",
       "    </tr>\n",
       "    <tr>\n",
       "      <th>WiiU</th>\n",
       "      <td>82.19</td>\n",
       "    </tr>\n",
       "    <tr>\n",
       "      <th>PSV</th>\n",
       "      <td>53.81</td>\n",
       "    </tr>\n",
       "    <tr>\n",
       "      <th>SAT</th>\n",
       "      <td>33.59</td>\n",
       "    </tr>\n",
       "    <tr>\n",
       "      <th>GEN</th>\n",
       "      <td>28.35</td>\n",
       "    </tr>\n",
       "    <tr>\n",
       "      <th>DC</th>\n",
       "      <td>15.95</td>\n",
       "    </tr>\n",
       "    <tr>\n",
       "      <th>SCD</th>\n",
       "      <td>1.86</td>\n",
       "    </tr>\n",
       "    <tr>\n",
       "      <th>NG</th>\n",
       "      <td>1.44</td>\n",
       "    </tr>\n",
       "    <tr>\n",
       "      <th>WS</th>\n",
       "      <td>1.42</td>\n",
       "    </tr>\n",
       "    <tr>\n",
       "      <th>TG16</th>\n",
       "      <td>0.16</td>\n",
       "    </tr>\n",
       "    <tr>\n",
       "      <th>3DO</th>\n",
       "      <td>0.10</td>\n",
       "    </tr>\n",
       "    <tr>\n",
       "      <th>GG</th>\n",
       "      <td>0.04</td>\n",
       "    </tr>\n",
       "    <tr>\n",
       "      <th>PCFX</th>\n",
       "      <td>0.03</td>\n",
       "    </tr>\n",
       "  </tbody>\n",
       "</table>\n",
       "</div>"
      ],
      "text/plain": [
       "          total_sales\n",
       "platform             \n",
       "PS2           1233.56\n",
       "X360           961.24\n",
       "PS3            931.34\n",
       "Wii            891.18\n",
       "DS             802.78\n",
       "PS             727.58\n",
       "PS4            314.14\n",
       "GBA            312.88\n",
       "PSP            289.53\n",
       "3DS            257.81\n",
       "PC             255.76\n",
       "GB             254.43\n",
       "XB             251.57\n",
       "NES            251.05\n",
       "N64            218.01\n",
       "SNES           200.04\n",
       "GC             196.73\n",
       "XOne           159.32\n",
       "2600            86.48\n",
       "WiiU            82.19\n",
       "PSV             53.81\n",
       "SAT             33.59\n",
       "GEN             28.35\n",
       "DC              15.95\n",
       "SCD              1.86\n",
       "NG               1.44\n",
       "WS               1.42\n",
       "TG16             0.16\n",
       "3DO              0.10\n",
       "GG               0.04\n",
       "PCFX             0.03"
      ]
     },
     "execution_count": 29,
     "metadata": {},
     "output_type": "execute_result"
    }
   ],
   "source": [
    "sales_by_platform = (df.pivot_table(index='platform',\n",
    "                                    values='total_sales',\n",
    "                                    aggfunc='sum')\n",
    "                       .sort_values(by='total_sales',\n",
    "                                    ascending=False))\n",
    "sales_by_platform"
   ]
  },
  {
   "cell_type": "markdown",
   "id": "aec81063",
   "metadata": {},
   "source": [
    "Из данных видно, что по количеству продаж в мире лидируют такие платформы, как *PS2, X360, PS3, Wii, DS*."
   ]
  },
  {
   "cell_type": "markdown",
   "id": "13ffea3a",
   "metadata": {},
   "source": [
    "Постоем гистограмму для визуализации данного распределения."
   ]
  },
  {
   "cell_type": "code",
   "execution_count": 30,
   "id": "cdf4de84",
   "metadata": {
    "ExecuteTime": {
     "end_time": "2023-02-11T19:03:11.556872Z",
     "start_time": "2023-02-11T19:03:11.008068Z"
    }
   },
   "outputs": [
    {
     "data": {
      "text/plain": [
       "Text(0, 0.5, 'Количество продаж')"
      ]
     },
     "execution_count": 30,
     "metadata": {},
     "output_type": "execute_result"
    },
    {
     "data": {
      "image/png": "[encoded data removed]",
      "text/plain": [
       "<Figure size 1296x504 with 1 Axes>"
      ]
     },
     "metadata": {
      "needs_background": "light"
     },
     "output_type": "display_data"
    }
   ],
   "source": [
    "plt.figure(figsize=(18, 7))\n",
    "sns.barplot(x=sales_by_platform.index, \n",
    "            y=sales_by_platform['total_sales'])\n",
    "plt.title('Платформы с наибольшим количеством продаж')\n",
    "plt.xlabel('Наименование платформы')\n",
    "plt.ylabel('Количество продаж')"
   ]
  },
  {
   "cell_type": "markdown",
   "id": "698f7a36",
   "metadata": {},
   "source": [
    "### Платформы с наибольшими суммарными продажами"
   ]
  },
  {
   "cell_type": "markdown",
   "id": "5f5c620e",
   "metadata": {},
   "source": [
    "Проанализиуем платформы с наибольшими суммарными продажами."
   ]
  },
  {
   "cell_type": "code",
   "execution_count": 31,
   "id": "2d19134b",
   "metadata": {
    "ExecuteTime": {
     "end_time": "2023-02-11T19:03:11.588268Z",
     "start_time": "2023-02-11T19:03:11.558902Z"
    }
   },
   "outputs": [
    {
     "data": {
      "text/html": [
       "<div>\n",
       "<style scoped>\n",
       "    .dataframe tbody tr th:only-of-type {\n",
       "        vertical-align: middle;\n",
       "    }\n",
       "\n",
       "    .dataframe tbody tr th {\n",
       "        vertical-align: top;\n",
       "    }\n",
       "\n",
       "    .dataframe thead th {\n",
       "        text-align: right;\n",
       "    }\n",
       "</style>\n",
       "<table border=\"1\" class=\"dataframe\">\n",
       "  <thead>\n",
       "    <tr style=\"text-align: right;\">\n",
       "      <th></th>\n",
       "      <th>platform</th>\n",
       "      <th>total_sales</th>\n",
       "    </tr>\n",
       "  </thead>\n",
       "  <tbody>\n",
       "    <tr>\n",
       "      <th>0</th>\n",
       "      <td>PS2</td>\n",
       "      <td>1233.56</td>\n",
       "    </tr>\n",
       "    <tr>\n",
       "      <th>1</th>\n",
       "      <td>X360</td>\n",
       "      <td>961.24</td>\n",
       "    </tr>\n",
       "    <tr>\n",
       "      <th>2</th>\n",
       "      <td>PS3</td>\n",
       "      <td>931.34</td>\n",
       "    </tr>\n",
       "    <tr>\n",
       "      <th>3</th>\n",
       "      <td>Wii</td>\n",
       "      <td>891.18</td>\n",
       "    </tr>\n",
       "    <tr>\n",
       "      <th>4</th>\n",
       "      <td>DS</td>\n",
       "      <td>802.78</td>\n",
       "    </tr>\n",
       "  </tbody>\n",
       "</table>\n",
       "</div>"
      ],
      "text/plain": [
       "  platform  total_sales\n",
       "0      PS2      1233.56\n",
       "1     X360       961.24\n",
       "2      PS3       931.34\n",
       "3      Wii       891.18\n",
       "4       DS       802.78"
      ]
     },
     "execution_count": 31,
     "metadata": {},
     "output_type": "execute_result"
    }
   ],
   "source": [
    "platform_sales = (df.pivot_table(index='platform',\n",
    "                                 values='total_sales',\n",
    "                                 aggfunc='sum')\n",
    "                    .sort_values(by='total_sales',\n",
    "                                 ascending=False)\n",
    "                    .reset_index()\n",
    "                    .loc[0:4])\n",
    "platform_sales"
   ]
  },
  {
   "cell_type": "code",
   "execution_count": 32,
   "id": "dc148f53",
   "metadata": {
    "ExecuteTime": {
     "end_time": "2023-02-11T19:03:11.604254Z",
     "start_time": "2023-02-11T19:03:11.591227Z"
    }
   },
   "outputs": [],
   "source": [
    "# Фукнция сбора данных для линейных графиков\n",
    "try:\n",
    "    def total_sales_by_year(platform):\n",
    "        platform_sales = df.loc[(df['platform'] == platform)]\n",
    "        platform_sales_by_year = (platform_sales.pivot_table(index='year_of_release',\n",
    "                                                             values='total_sales',\n",
    "                                                             aggfunc='sum')\n",
    "                                                .sort_values('year_of_release',\n",
    "                                                             ascending=False))\n",
    "        return platform_sales_by_year\n",
    "except:\n",
    "    print('Ошибка')"
   ]
  },
  {
   "cell_type": "code",
   "execution_count": 33,
   "id": "0589ab43",
   "metadata": {
    "ExecuteTime": {
     "end_time": "2023-02-11T19:03:12.151462Z",
     "start_time": "2023-02-11T19:03:11.607185Z"
    }
   },
   "outputs": [
    {
     "data": {
      "image/png": "[encoded data removed]",
      "text/plain": [
       "<Figure size 1296x504 with 1 Axes>"
      ]
     },
     "metadata": {
      "needs_background": "light"
     },
     "output_type": "display_data"
    }
   ],
   "source": [
    "plt.figure(figsize=(18, 7))\n",
    "plt.title('Распределение продаж по годам')\n",
    "plt.xlabel('Годы')\n",
    "plt.ylabel('Количество продаж')\n",
    "for platform in platform_sales['platform']:\n",
    "    sns.lineplot(data=total_sales_by_year(platform)\n",
    "                 ['total_sales'], label=platform)\n",
    "    plt.legend()"
   ]
  },
  {
   "cell_type": "code",
   "execution_count": 34,
   "id": "04b0d362",
   "metadata": {
    "ExecuteTime": {
     "end_time": "2023-02-11T19:03:12.182379Z",
     "start_time": "2023-02-11T19:03:12.155452Z"
    }
   },
   "outputs": [
    {
     "data": {
      "text/html": [
       "<div>\n",
       "<style scoped>\n",
       "    .dataframe tbody tr th:only-of-type {\n",
       "        vertical-align: middle;\n",
       "    }\n",
       "\n",
       "    .dataframe tbody tr th {\n",
       "        vertical-align: top;\n",
       "    }\n",
       "\n",
       "    .dataframe thead th {\n",
       "        text-align: right;\n",
       "    }\n",
       "</style>\n",
       "<table border=\"1\" class=\"dataframe\">\n",
       "  <thead>\n",
       "    <tr style=\"text-align: right;\">\n",
       "      <th></th>\n",
       "      <th>name</th>\n",
       "      <th>platform</th>\n",
       "      <th>year_of_release</th>\n",
       "      <th>genre</th>\n",
       "      <th>na_sales</th>\n",
       "      <th>eu_sales</th>\n",
       "      <th>jp_sales</th>\n",
       "      <th>other_sales</th>\n",
       "      <th>critic_score</th>\n",
       "      <th>user_score</th>\n",
       "      <th>rating</th>\n",
       "      <th>total_sales</th>\n",
       "    </tr>\n",
       "  </thead>\n",
       "  <tbody>\n",
       "    <tr>\n",
       "      <th>15957</th>\n",
       "      <td>Strongest Tokyo University Shogi DS</td>\n",
       "      <td>DS</td>\n",
       "      <td>1985</td>\n",
       "      <td>Action</td>\n",
       "      <td>0.00</td>\n",
       "      <td>0.00</td>\n",
       "      <td>0.02</td>\n",
       "      <td>0.00</td>\n",
       "      <td>NaN</td>\n",
       "      <td>NaN</td>\n",
       "      <td>NaN</td>\n",
       "      <td>0.02</td>\n",
       "    </tr>\n",
       "  </tbody>\n",
       "</table>\n",
       "</div>"
      ],
      "text/plain": [
       "                                      name platform  year_of_release   genre  \\\n",
       "15957  Strongest Tokyo University Shogi DS       DS             1985  Action   \n",
       "\n",
       "       na_sales  eu_sales  jp_sales  other_sales  critic_score  user_score  \\\n",
       "15957      0.00      0.00      0.02         0.00           NaN         NaN   \n",
       "\n",
       "      rating  total_sales  \n",
       "15957    NaN         0.02  "
      ]
     },
     "execution_count": 34,
     "metadata": {},
     "output_type": "execute_result"
    }
   ],
   "source": [
    "df.loc[(df['year_of_release'] == 1985) & (df['platform'] == 'DS')]"
   ]
  },
  {
   "cell_type": "markdown",
   "id": "bca9843e",
   "metadata": {},
   "source": [
    "Из линейного графика видно, что лидерами по продажам являются платформы *PS2 и X360*. Платформы, исходят из графика, \"живут\" от 8 до 12 лет, после чего их сменяют либо более прибыльные платформы либо новые поколения платформ."
   ]
  },
  {
   "cell_type": "markdown",
   "id": "1c703cc2",
   "metadata": {},
   "source": [
    "Т.к. минимальный срок жизни платформы около 7 лет, то предлагаю взять данные с 2014 года и пользоваться для анализа ими. Так будет ясно какие платформы к 2017 году \"умирают\", а какие в этот период появились и растут."
   ]
  },
  {
   "cell_type": "code",
   "execution_count": 35,
   "id": "2e3f2644",
   "metadata": {
    "ExecuteTime": {
     "end_time": "2023-02-11T19:03:12.229910Z",
     "start_time": "2023-02-11T19:03:12.185371Z"
    }
   },
   "outputs": [
    {
     "data": {
      "text/html": [
       "<div>\n",
       "<style scoped>\n",
       "    .dataframe tbody tr th:only-of-type {\n",
       "        vertical-align: middle;\n",
       "    }\n",
       "\n",
       "    .dataframe tbody tr th {\n",
       "        vertical-align: top;\n",
       "    }\n",
       "\n",
       "    .dataframe thead th {\n",
       "        text-align: right;\n",
       "    }\n",
       "</style>\n",
       "<table border=\"1\" class=\"dataframe\">\n",
       "  <thead>\n",
       "    <tr style=\"text-align: right;\">\n",
       "      <th></th>\n",
       "      <th>name</th>\n",
       "      <th>platform</th>\n",
       "      <th>year_of_release</th>\n",
       "      <th>genre</th>\n",
       "      <th>na_sales</th>\n",
       "      <th>eu_sales</th>\n",
       "      <th>jp_sales</th>\n",
       "      <th>other_sales</th>\n",
       "      <th>critic_score</th>\n",
       "      <th>user_score</th>\n",
       "      <th>rating</th>\n",
       "      <th>total_sales</th>\n",
       "    </tr>\n",
       "  </thead>\n",
       "  <tbody>\n",
       "    <tr>\n",
       "      <th>31</th>\n",
       "      <td>Call of Duty: Black Ops 3</td>\n",
       "      <td>PS4</td>\n",
       "      <td>2015</td>\n",
       "      <td>Shooter</td>\n",
       "      <td>6.03</td>\n",
       "      <td>5.86</td>\n",
       "      <td>0.36</td>\n",
       "      <td>2.38</td>\n",
       "      <td>NaN</td>\n",
       "      <td>NaN</td>\n",
       "      <td>NaN</td>\n",
       "      <td>14.63</td>\n",
       "    </tr>\n",
       "    <tr>\n",
       "      <th>42</th>\n",
       "      <td>Grand Theft Auto V</td>\n",
       "      <td>PS4</td>\n",
       "      <td>2014</td>\n",
       "      <td>Action</td>\n",
       "      <td>3.96</td>\n",
       "      <td>6.31</td>\n",
       "      <td>0.38</td>\n",
       "      <td>1.97</td>\n",
       "      <td>97.00</td>\n",
       "      <td>8.30</td>\n",
       "      <td>M</td>\n",
       "      <td>12.62</td>\n",
       "    </tr>\n",
       "    <tr>\n",
       "      <th>47</th>\n",
       "      <td>Pokemon Omega Ruby/Pokemon Alpha Sapphire</td>\n",
       "      <td>3DS</td>\n",
       "      <td>2014</td>\n",
       "      <td>Role-Playing</td>\n",
       "      <td>4.35</td>\n",
       "      <td>3.49</td>\n",
       "      <td>3.10</td>\n",
       "      <td>0.74</td>\n",
       "      <td>NaN</td>\n",
       "      <td>NaN</td>\n",
       "      <td>NaN</td>\n",
       "      <td>11.68</td>\n",
       "    </tr>\n",
       "    <tr>\n",
       "      <th>77</th>\n",
       "      <td>FIFA 16</td>\n",
       "      <td>PS4</td>\n",
       "      <td>2015</td>\n",
       "      <td>Sports</td>\n",
       "      <td>1.12</td>\n",
       "      <td>6.12</td>\n",
       "      <td>0.06</td>\n",
       "      <td>1.28</td>\n",
       "      <td>82.00</td>\n",
       "      <td>4.30</td>\n",
       "      <td>E</td>\n",
       "      <td>8.58</td>\n",
       "    </tr>\n",
       "    <tr>\n",
       "      <th>87</th>\n",
       "      <td>Star Wars Battlefront (2015)</td>\n",
       "      <td>PS4</td>\n",
       "      <td>2015</td>\n",
       "      <td>Shooter</td>\n",
       "      <td>2.99</td>\n",
       "      <td>3.49</td>\n",
       "      <td>0.22</td>\n",
       "      <td>1.28</td>\n",
       "      <td>NaN</td>\n",
       "      <td>NaN</td>\n",
       "      <td>NaN</td>\n",
       "      <td>7.98</td>\n",
       "    </tr>\n",
       "    <tr>\n",
       "      <th>...</th>\n",
       "      <td>...</td>\n",
       "      <td>...</td>\n",
       "      <td>...</td>\n",
       "      <td>...</td>\n",
       "      <td>...</td>\n",
       "      <td>...</td>\n",
       "      <td>...</td>\n",
       "      <td>...</td>\n",
       "      <td>...</td>\n",
       "      <td>...</td>\n",
       "      <td>...</td>\n",
       "      <td>...</td>\n",
       "    </tr>\n",
       "    <tr>\n",
       "      <th>16703</th>\n",
       "      <td>Strawberry Nauts</td>\n",
       "      <td>PSV</td>\n",
       "      <td>2016</td>\n",
       "      <td>Adventure</td>\n",
       "      <td>0.00</td>\n",
       "      <td>0.00</td>\n",
       "      <td>0.01</td>\n",
       "      <td>0.00</td>\n",
       "      <td>NaN</td>\n",
       "      <td>NaN</td>\n",
       "      <td>NaN</td>\n",
       "      <td>0.01</td>\n",
       "    </tr>\n",
       "    <tr>\n",
       "      <th>16707</th>\n",
       "      <td>Aiyoku no Eustia</td>\n",
       "      <td>PSV</td>\n",
       "      <td>2014</td>\n",
       "      <td>Misc</td>\n",
       "      <td>0.00</td>\n",
       "      <td>0.00</td>\n",
       "      <td>0.01</td>\n",
       "      <td>0.00</td>\n",
       "      <td>NaN</td>\n",
       "      <td>NaN</td>\n",
       "      <td>NaN</td>\n",
       "      <td>0.01</td>\n",
       "    </tr>\n",
       "    <tr>\n",
       "      <th>16710</th>\n",
       "      <td>Samurai Warriors: Sanada Maru</td>\n",
       "      <td>PS3</td>\n",
       "      <td>2016</td>\n",
       "      <td>Action</td>\n",
       "      <td>0.00</td>\n",
       "      <td>0.00</td>\n",
       "      <td>0.01</td>\n",
       "      <td>0.00</td>\n",
       "      <td>NaN</td>\n",
       "      <td>NaN</td>\n",
       "      <td>NaN</td>\n",
       "      <td>0.01</td>\n",
       "    </tr>\n",
       "    <tr>\n",
       "      <th>16712</th>\n",
       "      <td>Haitaka no Psychedelica</td>\n",
       "      <td>PSV</td>\n",
       "      <td>2016</td>\n",
       "      <td>Adventure</td>\n",
       "      <td>0.00</td>\n",
       "      <td>0.00</td>\n",
       "      <td>0.01</td>\n",
       "      <td>0.00</td>\n",
       "      <td>NaN</td>\n",
       "      <td>NaN</td>\n",
       "      <td>NaN</td>\n",
       "      <td>0.01</td>\n",
       "    </tr>\n",
       "    <tr>\n",
       "      <th>16714</th>\n",
       "      <td>Winning Post 8 2016</td>\n",
       "      <td>PSV</td>\n",
       "      <td>2016</td>\n",
       "      <td>Simulation</td>\n",
       "      <td>0.00</td>\n",
       "      <td>0.00</td>\n",
       "      <td>0.01</td>\n",
       "      <td>0.00</td>\n",
       "      <td>NaN</td>\n",
       "      <td>NaN</td>\n",
       "      <td>NaN</td>\n",
       "      <td>0.01</td>\n",
       "    </tr>\n",
       "  </tbody>\n",
       "</table>\n",
       "<p>1689 rows × 12 columns</p>\n",
       "</div>"
      ],
      "text/plain": [
       "                                            name platform  year_of_release  \\\n",
       "31                     Call of Duty: Black Ops 3      PS4             2015   \n",
       "42                            Grand Theft Auto V      PS4             2014   \n",
       "47     Pokemon Omega Ruby/Pokemon Alpha Sapphire      3DS             2014   \n",
       "77                                       FIFA 16      PS4             2015   \n",
       "87                  Star Wars Battlefront (2015)      PS4             2015   \n",
       "...                                          ...      ...              ...   \n",
       "16703                           Strawberry Nauts      PSV             2016   \n",
       "16707                           Aiyoku no Eustia      PSV             2014   \n",
       "16710              Samurai Warriors: Sanada Maru      PS3             2016   \n",
       "16712                    Haitaka no Psychedelica      PSV             2016   \n",
       "16714                        Winning Post 8 2016      PSV             2016   \n",
       "\n",
       "              genre  na_sales  eu_sales  jp_sales  other_sales  critic_score  \\\n",
       "31          Shooter      6.03      5.86      0.36         2.38           NaN   \n",
       "42           Action      3.96      6.31      0.38         1.97         97.00   \n",
       "47     Role-Playing      4.35      3.49      3.10         0.74           NaN   \n",
       "77           Sports      1.12      6.12      0.06         1.28         82.00   \n",
       "87          Shooter      2.99      3.49      0.22         1.28           NaN   \n",
       "...             ...       ...       ...       ...          ...           ...   \n",
       "16703     Adventure      0.00      0.00      0.01         0.00           NaN   \n",
       "16707          Misc      0.00      0.00      0.01         0.00           NaN   \n",
       "16710        Action      0.00      0.00      0.01         0.00           NaN   \n",
       "16712     Adventure      0.00      0.00      0.01         0.00           NaN   \n",
       "16714    Simulation      0.00      0.00      0.01         0.00           NaN   \n",
       "\n",
       "       user_score rating  total_sales  \n",
       "31            NaN    NaN        14.63  \n",
       "42           8.30      M        12.62  \n",
       "47            NaN    NaN        11.68  \n",
       "77           4.30      E         8.58  \n",
       "87            NaN    NaN         7.98  \n",
       "...           ...    ...          ...  \n",
       "16703         NaN    NaN         0.01  \n",
       "16707         NaN    NaN         0.01  \n",
       "16710         NaN    NaN         0.01  \n",
       "16712         NaN    NaN         0.01  \n",
       "16714         NaN    NaN         0.01  \n",
       "\n",
       "[1689 rows x 12 columns]"
      ]
     },
     "execution_count": 35,
     "metadata": {},
     "output_type": "execute_result"
    }
   ],
   "source": [
    "df_2014 = df.loc[df['year_of_release'] >= 2014]\n",
    "df_2014"
   ]
  },
  {
   "cell_type": "markdown",
   "id": "b12d745b",
   "metadata": {},
   "source": [
    "Получился датасет на 1689 строк из 16715 исходного. В дальнейшем анализ будем проводить по нему."
   ]
  },
  {
   "cell_type": "markdown",
   "id": "e547bb20",
   "metadata": {},
   "source": [
    "### Лидирующие платформы"
   ]
  },
  {
   "cell_type": "markdown",
   "id": "f2201f16",
   "metadata": {},
   "source": [
    "Определим платформы, которые в настоящее время лидируют на рынке, чтобы в новом году опираться на них при разработке рекламной компании."
   ]
  },
  {
   "cell_type": "code",
   "execution_count": 36,
   "id": "fd06f13e",
   "metadata": {
    "ExecuteTime": {
     "end_time": "2023-02-11T19:03:12.261825Z",
     "start_time": "2023-02-11T19:03:12.232770Z"
    }
   },
   "outputs": [
    {
     "data": {
      "text/html": [
       "<div>\n",
       "<style scoped>\n",
       "    .dataframe tbody tr th:only-of-type {\n",
       "        vertical-align: middle;\n",
       "    }\n",
       "\n",
       "    .dataframe tbody tr th {\n",
       "        vertical-align: top;\n",
       "    }\n",
       "\n",
       "    .dataframe thead th {\n",
       "        text-align: right;\n",
       "    }\n",
       "</style>\n",
       "<table border=\"1\" class=\"dataframe\">\n",
       "  <thead>\n",
       "    <tr style=\"text-align: right;\">\n",
       "      <th></th>\n",
       "      <th>platform</th>\n",
       "      <th>total_sales</th>\n",
       "    </tr>\n",
       "  </thead>\n",
       "  <tbody>\n",
       "    <tr>\n",
       "      <th>0</th>\n",
       "      <td>PS4</td>\n",
       "      <td>288.15</td>\n",
       "    </tr>\n",
       "    <tr>\n",
       "      <th>1</th>\n",
       "      <td>XOne</td>\n",
       "      <td>140.36</td>\n",
       "    </tr>\n",
       "    <tr>\n",
       "      <th>2</th>\n",
       "      <td>3DS</td>\n",
       "      <td>86.68</td>\n",
       "    </tr>\n",
       "    <tr>\n",
       "      <th>3</th>\n",
       "      <td>PS3</td>\n",
       "      <td>68.18</td>\n",
       "    </tr>\n",
       "    <tr>\n",
       "      <th>4</th>\n",
       "      <td>X360</td>\n",
       "      <td>48.22</td>\n",
       "    </tr>\n",
       "    <tr>\n",
       "      <th>5</th>\n",
       "      <td>WiiU</td>\n",
       "      <td>42.98</td>\n",
       "    </tr>\n",
       "    <tr>\n",
       "      <th>6</th>\n",
       "      <td>PC</td>\n",
       "      <td>27.05</td>\n",
       "    </tr>\n",
       "    <tr>\n",
       "      <th>7</th>\n",
       "      <td>PSV</td>\n",
       "      <td>22.40</td>\n",
       "    </tr>\n",
       "    <tr>\n",
       "      <th>8</th>\n",
       "      <td>Wii</td>\n",
       "      <td>5.07</td>\n",
       "    </tr>\n",
       "    <tr>\n",
       "      <th>9</th>\n",
       "      <td>PSP</td>\n",
       "      <td>0.36</td>\n",
       "    </tr>\n",
       "  </tbody>\n",
       "</table>\n",
       "</div>"
      ],
      "text/plain": [
       "  platform  total_sales\n",
       "0      PS4       288.15\n",
       "1     XOne       140.36\n",
       "2      3DS        86.68\n",
       "3      PS3        68.18\n",
       "4     X360        48.22\n",
       "5     WiiU        42.98\n",
       "6       PC        27.05\n",
       "7      PSV        22.40\n",
       "8      Wii         5.07\n",
       "9      PSP         0.36"
      ]
     },
     "execution_count": 36,
     "metadata": {},
     "output_type": "execute_result"
    }
   ],
   "source": [
    "platform_sales_2014 = (df_2014.pivot_table(index='platform',\n",
    "                                           values='total_sales',\n",
    "                                           aggfunc='sum')\n",
    "                              .sort_values(by='total_sales',\n",
    "                                           ascending=False)\n",
    "                              .reset_index())\n",
    "platform_sales_2014"
   ]
  },
  {
   "cell_type": "code",
   "execution_count": 37,
   "id": "c29a9ff6",
   "metadata": {
    "ExecuteTime": {
     "end_time": "2023-02-11T19:03:12.277880Z",
     "start_time": "2023-02-11T19:03:12.264817Z"
    }
   },
   "outputs": [],
   "source": [
    "# Фукнция сбора данных для линейных графиков\n",
    "try:\n",
    "    def total_sales_by_year_2014(platform):\n",
    "        platform_sales = df_2014.loc[(df_2014['platform'] == platform)]\n",
    "        platform_sales_by_year = (platform_sales.pivot_table(index='year_of_release',\n",
    "                                                             values='total_sales',\n",
    "                                                             aggfunc='sum')\n",
    "                                                .sort_values('year_of_release',\n",
    "                                                             ascending=False))\n",
    "        return platform_sales_by_year\n",
    "except:\n",
    "    print('Ошибка')"
   ]
  },
  {
   "cell_type": "code",
   "execution_count": 38,
   "id": "17ccbcdd",
   "metadata": {
    "ExecuteTime": {
     "end_time": "2023-02-11T19:03:13.125435Z",
     "start_time": "2023-02-11T19:03:12.280774Z"
    }
   },
   "outputs": [
    {
     "data": {
      "image/png": "[encoded data removed]",
      "text/plain": [
       "<Figure size 1296x720 with 1 Axes>"
      ]
     },
     "metadata": {
      "needs_background": "light"
     },
     "output_type": "display_data"
    }
   ],
   "source": [
    "plt.figure(figsize=(18, 10))\n",
    "plt.title('Распределение продаж по годам')\n",
    "plt.xlabel('Годы')\n",
    "plt.ylabel('Количество продаж')\n",
    "for platform in platform_sales_2014['platform']:\n",
    "    sns.lineplot(data=total_sales_by_year_2014(\n",
    "        platform)['total_sales'], label=platform)\n",
    "    plt.legend()"
   ]
  },
  {
   "cell_type": "markdown",
   "id": "5ad65622",
   "metadata": {},
   "source": [
    "Исходя из графика линейного распределения видно, что в настоящее время лидируют такие платформы, как PS4 и xOne. Данные платформы можно брать как основу для дальнейших продаж компьютерных игр. Однако тенденция к падения спроса к 2016 году видна у всех платформ. Платформа PSP к 2015 году исчезла с продаж."
   ]
  },
  {
   "cell_type": "markdown",
   "id": "7c759304",
   "metadata": {},
   "source": [
    "### Глобальные продажи игра в разбивке по платформам"
   ]
  },
  {
   "cell_type": "markdown",
   "id": "e432be7c",
   "metadata": {},
   "source": [
    "Построим диаграммы размаха для определения медианных значений и квартилей по продажам игр на топовых платформах."
   ]
  },
  {
   "cell_type": "code",
   "execution_count": 39,
   "id": "fe5e9377",
   "metadata": {
    "ExecuteTime": {
     "end_time": "2023-02-11T19:03:13.171048Z",
     "start_time": "2023-02-11T19:03:13.132415Z"
    }
   },
   "outputs": [
    {
     "data": {
      "text/html": [
       "<div>\n",
       "<style scoped>\n",
       "    .dataframe tbody tr th:only-of-type {\n",
       "        vertical-align: middle;\n",
       "    }\n",
       "\n",
       "    .dataframe tbody tr th {\n",
       "        vertical-align: top;\n",
       "    }\n",
       "\n",
       "    .dataframe thead th {\n",
       "        text-align: right;\n",
       "    }\n",
       "</style>\n",
       "<table border=\"1\" class=\"dataframe\">\n",
       "  <thead>\n",
       "    <tr style=\"text-align: right;\">\n",
       "      <th></th>\n",
       "      <th>name</th>\n",
       "      <th>platform</th>\n",
       "      <th>year_of_release</th>\n",
       "      <th>genre</th>\n",
       "      <th>na_sales</th>\n",
       "      <th>eu_sales</th>\n",
       "      <th>jp_sales</th>\n",
       "      <th>other_sales</th>\n",
       "      <th>critic_score</th>\n",
       "      <th>user_score</th>\n",
       "      <th>rating</th>\n",
       "      <th>total_sales</th>\n",
       "    </tr>\n",
       "  </thead>\n",
       "  <tbody>\n",
       "    <tr>\n",
       "      <th>31</th>\n",
       "      <td>Call of Duty: Black Ops 3</td>\n",
       "      <td>PS4</td>\n",
       "      <td>2015</td>\n",
       "      <td>Shooter</td>\n",
       "      <td>6.03</td>\n",
       "      <td>5.86</td>\n",
       "      <td>0.36</td>\n",
       "      <td>2.38</td>\n",
       "      <td>NaN</td>\n",
       "      <td>NaN</td>\n",
       "      <td>NaN</td>\n",
       "      <td>14.63</td>\n",
       "    </tr>\n",
       "    <tr>\n",
       "      <th>42</th>\n",
       "      <td>Grand Theft Auto V</td>\n",
       "      <td>PS4</td>\n",
       "      <td>2014</td>\n",
       "      <td>Action</td>\n",
       "      <td>3.96</td>\n",
       "      <td>6.31</td>\n",
       "      <td>0.38</td>\n",
       "      <td>1.97</td>\n",
       "      <td>97.00</td>\n",
       "      <td>8.30</td>\n",
       "      <td>M</td>\n",
       "      <td>12.62</td>\n",
       "    </tr>\n",
       "    <tr>\n",
       "      <th>47</th>\n",
       "      <td>Pokemon Omega Ruby/Pokemon Alpha Sapphire</td>\n",
       "      <td>3DS</td>\n",
       "      <td>2014</td>\n",
       "      <td>Role-Playing</td>\n",
       "      <td>4.35</td>\n",
       "      <td>3.49</td>\n",
       "      <td>3.10</td>\n",
       "      <td>0.74</td>\n",
       "      <td>NaN</td>\n",
       "      <td>NaN</td>\n",
       "      <td>NaN</td>\n",
       "      <td>11.68</td>\n",
       "    </tr>\n",
       "    <tr>\n",
       "      <th>77</th>\n",
       "      <td>FIFA 16</td>\n",
       "      <td>PS4</td>\n",
       "      <td>2015</td>\n",
       "      <td>Sports</td>\n",
       "      <td>1.12</td>\n",
       "      <td>6.12</td>\n",
       "      <td>0.06</td>\n",
       "      <td>1.28</td>\n",
       "      <td>82.00</td>\n",
       "      <td>4.30</td>\n",
       "      <td>E</td>\n",
       "      <td>8.58</td>\n",
       "    </tr>\n",
       "    <tr>\n",
       "      <th>87</th>\n",
       "      <td>Star Wars Battlefront (2015)</td>\n",
       "      <td>PS4</td>\n",
       "      <td>2015</td>\n",
       "      <td>Shooter</td>\n",
       "      <td>2.99</td>\n",
       "      <td>3.49</td>\n",
       "      <td>0.22</td>\n",
       "      <td>1.28</td>\n",
       "      <td>NaN</td>\n",
       "      <td>NaN</td>\n",
       "      <td>NaN</td>\n",
       "      <td>7.98</td>\n",
       "    </tr>\n",
       "    <tr>\n",
       "      <th>...</th>\n",
       "      <td>...</td>\n",
       "      <td>...</td>\n",
       "      <td>...</td>\n",
       "      <td>...</td>\n",
       "      <td>...</td>\n",
       "      <td>...</td>\n",
       "      <td>...</td>\n",
       "      <td>...</td>\n",
       "      <td>...</td>\n",
       "      <td>...</td>\n",
       "      <td>...</td>\n",
       "      <td>...</td>\n",
       "    </tr>\n",
       "    <tr>\n",
       "      <th>16672</th>\n",
       "      <td>Metal Gear Solid V: The Definitive Experience</td>\n",
       "      <td>XOne</td>\n",
       "      <td>2016</td>\n",
       "      <td>Action</td>\n",
       "      <td>0.01</td>\n",
       "      <td>0.00</td>\n",
       "      <td>0.00</td>\n",
       "      <td>0.00</td>\n",
       "      <td>NaN</td>\n",
       "      <td>NaN</td>\n",
       "      <td>M</td>\n",
       "      <td>0.01</td>\n",
       "    </tr>\n",
       "    <tr>\n",
       "      <th>16674</th>\n",
       "      <td>Tsukigime Ranko's Longest Day</td>\n",
       "      <td>PS3</td>\n",
       "      <td>2014</td>\n",
       "      <td>Action</td>\n",
       "      <td>0.00</td>\n",
       "      <td>0.01</td>\n",
       "      <td>0.00</td>\n",
       "      <td>0.00</td>\n",
       "      <td>NaN</td>\n",
       "      <td>NaN</td>\n",
       "      <td>NaN</td>\n",
       "      <td>0.01</td>\n",
       "    </tr>\n",
       "    <tr>\n",
       "      <th>16677</th>\n",
       "      <td>Aikatsu Stars! My Special Appeal</td>\n",
       "      <td>3DS</td>\n",
       "      <td>2016</td>\n",
       "      <td>Action</td>\n",
       "      <td>0.00</td>\n",
       "      <td>0.00</td>\n",
       "      <td>0.01</td>\n",
       "      <td>0.00</td>\n",
       "      <td>NaN</td>\n",
       "      <td>NaN</td>\n",
       "      <td>NaN</td>\n",
       "      <td>0.01</td>\n",
       "    </tr>\n",
       "    <tr>\n",
       "      <th>16691</th>\n",
       "      <td>Dynasty Warriors: Eiketsuden</td>\n",
       "      <td>PS3</td>\n",
       "      <td>2016</td>\n",
       "      <td>Action</td>\n",
       "      <td>0.00</td>\n",
       "      <td>0.00</td>\n",
       "      <td>0.01</td>\n",
       "      <td>0.00</td>\n",
       "      <td>NaN</td>\n",
       "      <td>NaN</td>\n",
       "      <td>NaN</td>\n",
       "      <td>0.01</td>\n",
       "    </tr>\n",
       "    <tr>\n",
       "      <th>16710</th>\n",
       "      <td>Samurai Warriors: Sanada Maru</td>\n",
       "      <td>PS3</td>\n",
       "      <td>2016</td>\n",
       "      <td>Action</td>\n",
       "      <td>0.00</td>\n",
       "      <td>0.00</td>\n",
       "      <td>0.01</td>\n",
       "      <td>0.00</td>\n",
       "      <td>NaN</td>\n",
       "      <td>NaN</td>\n",
       "      <td>NaN</td>\n",
       "      <td>0.01</td>\n",
       "    </tr>\n",
       "  </tbody>\n",
       "</table>\n",
       "<p>1146 rows × 12 columns</p>\n",
       "</div>"
      ],
      "text/plain": [
       "                                                name platform  \\\n",
       "31                         Call of Duty: Black Ops 3      PS4   \n",
       "42                                Grand Theft Auto V      PS4   \n",
       "47         Pokemon Omega Ruby/Pokemon Alpha Sapphire      3DS   \n",
       "77                                           FIFA 16      PS4   \n",
       "87                      Star Wars Battlefront (2015)      PS4   \n",
       "...                                              ...      ...   \n",
       "16672  Metal Gear Solid V: The Definitive Experience     XOne   \n",
       "16674                  Tsukigime Ranko's Longest Day      PS3   \n",
       "16677               Aikatsu Stars! My Special Appeal      3DS   \n",
       "16691                   Dynasty Warriors: Eiketsuden      PS3   \n",
       "16710                  Samurai Warriors: Sanada Maru      PS3   \n",
       "\n",
       "       year_of_release         genre  na_sales  eu_sales  jp_sales  \\\n",
       "31                2015       Shooter      6.03      5.86      0.36   \n",
       "42                2014        Action      3.96      6.31      0.38   \n",
       "47                2014  Role-Playing      4.35      3.49      3.10   \n",
       "77                2015        Sports      1.12      6.12      0.06   \n",
       "87                2015       Shooter      2.99      3.49      0.22   \n",
       "...                ...           ...       ...       ...       ...   \n",
       "16672             2016        Action      0.01      0.00      0.00   \n",
       "16674             2014        Action      0.00      0.01      0.00   \n",
       "16677             2016        Action      0.00      0.00      0.01   \n",
       "16691             2016        Action      0.00      0.00      0.01   \n",
       "16710             2016        Action      0.00      0.00      0.01   \n",
       "\n",
       "       other_sales  critic_score  user_score rating  total_sales  \n",
       "31            2.38           NaN         NaN    NaN        14.63  \n",
       "42            1.97         97.00        8.30      M        12.62  \n",
       "47            0.74           NaN         NaN    NaN        11.68  \n",
       "77            1.28         82.00        4.30      E         8.58  \n",
       "87            1.28           NaN         NaN    NaN         7.98  \n",
       "...            ...           ...         ...    ...          ...  \n",
       "16672         0.00           NaN         NaN      M         0.01  \n",
       "16674         0.00           NaN         NaN    NaN         0.01  \n",
       "16677         0.00           NaN         NaN    NaN         0.01  \n",
       "16691         0.00           NaN         NaN    NaN         0.01  \n",
       "16710         0.00           NaN         NaN    NaN         0.01  \n",
       "\n",
       "[1146 rows x 12 columns]"
      ]
     },
     "execution_count": 39,
     "metadata": {},
     "output_type": "execute_result"
    }
   ],
   "source": [
    "platform_sales_list = list(platform_sales_2014['platform'].loc[:4])\n",
    "\n",
    "top_five_platform_df = df_2014.loc[(df_2014['platform']\n",
    "                              .isin(platform_sales_list))]\n",
    "top_five_platform_df"
   ]
  },
  {
   "cell_type": "code",
   "execution_count": 40,
   "id": "4d623c82",
   "metadata": {
    "ExecuteTime": {
     "end_time": "2023-02-11T19:03:13.486855Z",
     "start_time": "2023-02-11T19:03:13.174041Z"
    }
   },
   "outputs": [
    {
     "data": {
      "text/plain": [
       "Text(0, 0.5, 'Количество продаж')"
      ]
     },
     "execution_count": 40,
     "metadata": {},
     "output_type": "execute_result"
    },
    {
     "data": {
      "image/png": "[encoded data removed]",
      "text/plain": [
       "<Figure size 1296x504 with 1 Axes>"
      ]
     },
     "metadata": {
      "needs_background": "light"
     },
     "output_type": "display_data"
    }
   ],
   "source": [
    "plt.figure(figsize=(18, 7))\n",
    "sns.boxplot(data=top_five_platform_df,\n",
    "            x='platform',\n",
    "            y='total_sales')\n",
    "\n",
    "plt.ylim(0, 0.72)\n",
    "plt.title('Диаграмма размаха')\n",
    "plt.xlabel('Платформа')\n",
    "plt.ylabel('Количество продаж')"
   ]
  },
  {
   "cell_type": "code",
   "execution_count": 41,
   "id": "792b4a8b",
   "metadata": {
    "ExecuteTime": {
     "end_time": "2023-02-11T19:03:13.926092Z",
     "start_time": "2023-02-11T19:03:13.491172Z"
    }
   },
   "outputs": [
    {
     "data": {
      "text/plain": [
       "Text(0, 0.5, 'Количество продаж')"
      ]
     },
     "execution_count": 41,
     "metadata": {},
     "output_type": "execute_result"
    },
    {
     "data": {
      "image/png": "[encoded data removed]",
      "text/plain": [
       "<Figure size 1296x504 with 1 Axes>"
      ]
     },
     "metadata": {
      "needs_background": "light"
     },
     "output_type": "display_data"
    }
   ],
   "source": [
    "plt.figure(figsize=(18, 7))\n",
    "sns.boxplot(data=top_five_platform_df,\n",
    "            x='platform',\n",
    "            y='total_sales')\n",
    "plt.title('Диаграмма размаха')\n",
    "plt.xlabel('Платформа')\n",
    "plt.ylabel('Количество продаж')"
   ]
  },
  {
   "cell_type": "markdown",
   "id": "5764aa39",
   "metadata": {},
   "source": [
    "Из диграм размаха видно, что медианные значения продаж игр находятся в районе 0,5 миллионов копий. Иногда игры \"выстреливают\" и продаются почти под 15 миллионов копий, но это редкость."
   ]
  },
  {
   "cell_type": "markdown",
   "id": "30a6b7b8",
   "metadata": {},
   "source": [
    "Проанализируем зависимость количества продаж по самой топовой за все время платформе - PlayStation 4, - в зависимости от оценки пользователей и критиков."
   ]
  },
  {
   "cell_type": "code",
   "execution_count": 42,
   "id": "081d9bd8",
   "metadata": {
    "ExecuteTime": {
     "end_time": "2023-02-11T19:03:13.974549Z",
     "start_time": "2023-02-11T19:03:13.927960Z"
    }
   },
   "outputs": [
    {
     "data": {
      "text/html": [
       "<div>\n",
       "<style scoped>\n",
       "    .dataframe tbody tr th:only-of-type {\n",
       "        vertical-align: middle;\n",
       "    }\n",
       "\n",
       "    .dataframe tbody tr th {\n",
       "        vertical-align: top;\n",
       "    }\n",
       "\n",
       "    .dataframe thead th {\n",
       "        text-align: right;\n",
       "    }\n",
       "</style>\n",
       "<table border=\"1\" class=\"dataframe\">\n",
       "  <thead>\n",
       "    <tr style=\"text-align: right;\">\n",
       "      <th></th>\n",
       "      <th>name</th>\n",
       "      <th>platform</th>\n",
       "      <th>year_of_release</th>\n",
       "      <th>genre</th>\n",
       "      <th>na_sales</th>\n",
       "      <th>eu_sales</th>\n",
       "      <th>jp_sales</th>\n",
       "      <th>other_sales</th>\n",
       "      <th>critic_score</th>\n",
       "      <th>user_score</th>\n",
       "      <th>rating</th>\n",
       "      <th>total_sales</th>\n",
       "    </tr>\n",
       "  </thead>\n",
       "  <tbody>\n",
       "    <tr>\n",
       "      <th>31</th>\n",
       "      <td>Call of Duty: Black Ops 3</td>\n",
       "      <td>PS4</td>\n",
       "      <td>2015</td>\n",
       "      <td>Shooter</td>\n",
       "      <td>6.03</td>\n",
       "      <td>5.86</td>\n",
       "      <td>0.36</td>\n",
       "      <td>2.38</td>\n",
       "      <td>NaN</td>\n",
       "      <td>NaN</td>\n",
       "      <td>NaN</td>\n",
       "      <td>14.63</td>\n",
       "    </tr>\n",
       "    <tr>\n",
       "      <th>42</th>\n",
       "      <td>Grand Theft Auto V</td>\n",
       "      <td>PS4</td>\n",
       "      <td>2014</td>\n",
       "      <td>Action</td>\n",
       "      <td>3.96</td>\n",
       "      <td>6.31</td>\n",
       "      <td>0.38</td>\n",
       "      <td>1.97</td>\n",
       "      <td>97.00</td>\n",
       "      <td>8.30</td>\n",
       "      <td>M</td>\n",
       "      <td>12.62</td>\n",
       "    </tr>\n",
       "    <tr>\n",
       "      <th>77</th>\n",
       "      <td>FIFA 16</td>\n",
       "      <td>PS4</td>\n",
       "      <td>2015</td>\n",
       "      <td>Sports</td>\n",
       "      <td>1.12</td>\n",
       "      <td>6.12</td>\n",
       "      <td>0.06</td>\n",
       "      <td>1.28</td>\n",
       "      <td>82.00</td>\n",
       "      <td>4.30</td>\n",
       "      <td>E</td>\n",
       "      <td>8.58</td>\n",
       "    </tr>\n",
       "    <tr>\n",
       "      <th>87</th>\n",
       "      <td>Star Wars Battlefront (2015)</td>\n",
       "      <td>PS4</td>\n",
       "      <td>2015</td>\n",
       "      <td>Shooter</td>\n",
       "      <td>2.99</td>\n",
       "      <td>3.49</td>\n",
       "      <td>0.22</td>\n",
       "      <td>1.28</td>\n",
       "      <td>NaN</td>\n",
       "      <td>NaN</td>\n",
       "      <td>NaN</td>\n",
       "      <td>7.98</td>\n",
       "    </tr>\n",
       "    <tr>\n",
       "      <th>92</th>\n",
       "      <td>Call of Duty: Advanced Warfare</td>\n",
       "      <td>PS4</td>\n",
       "      <td>2014</td>\n",
       "      <td>Shooter</td>\n",
       "      <td>2.81</td>\n",
       "      <td>3.48</td>\n",
       "      <td>0.14</td>\n",
       "      <td>1.23</td>\n",
       "      <td>83.00</td>\n",
       "      <td>5.70</td>\n",
       "      <td>M</td>\n",
       "      <td>7.66</td>\n",
       "    </tr>\n",
       "    <tr>\n",
       "      <th>...</th>\n",
       "      <td>...</td>\n",
       "      <td>...</td>\n",
       "      <td>...</td>\n",
       "      <td>...</td>\n",
       "      <td>...</td>\n",
       "      <td>...</td>\n",
       "      <td>...</td>\n",
       "      <td>...</td>\n",
       "      <td>...</td>\n",
       "      <td>...</td>\n",
       "      <td>...</td>\n",
       "      <td>...</td>\n",
       "    </tr>\n",
       "    <tr>\n",
       "      <th>16500</th>\n",
       "      <td>Root Letter</td>\n",
       "      <td>PS4</td>\n",
       "      <td>2016</td>\n",
       "      <td>Adventure</td>\n",
       "      <td>0.00</td>\n",
       "      <td>0.00</td>\n",
       "      <td>0.01</td>\n",
       "      <td>0.00</td>\n",
       "      <td>69.00</td>\n",
       "      <td>7.50</td>\n",
       "      <td>NaN</td>\n",
       "      <td>0.01</td>\n",
       "    </tr>\n",
       "    <tr>\n",
       "      <th>16503</th>\n",
       "      <td>Shin Hayarigami 2</td>\n",
       "      <td>PS4</td>\n",
       "      <td>2016</td>\n",
       "      <td>Adventure</td>\n",
       "      <td>0.00</td>\n",
       "      <td>0.00</td>\n",
       "      <td>0.01</td>\n",
       "      <td>0.00</td>\n",
       "      <td>NaN</td>\n",
       "      <td>NaN</td>\n",
       "      <td>NaN</td>\n",
       "      <td>0.01</td>\n",
       "    </tr>\n",
       "    <tr>\n",
       "      <th>16526</th>\n",
       "      <td>Dungeons 2</td>\n",
       "      <td>PS4</td>\n",
       "      <td>2016</td>\n",
       "      <td>Role-Playing</td>\n",
       "      <td>0.01</td>\n",
       "      <td>0.00</td>\n",
       "      <td>0.00</td>\n",
       "      <td>0.00</td>\n",
       "      <td>61.00</td>\n",
       "      <td>7.90</td>\n",
       "      <td>T</td>\n",
       "      <td>0.01</td>\n",
       "    </tr>\n",
       "    <tr>\n",
       "      <th>16530</th>\n",
       "      <td>Carmageddon: Max Damage</td>\n",
       "      <td>PS4</td>\n",
       "      <td>2016</td>\n",
       "      <td>Action</td>\n",
       "      <td>0.01</td>\n",
       "      <td>0.00</td>\n",
       "      <td>0.00</td>\n",
       "      <td>0.00</td>\n",
       "      <td>51.00</td>\n",
       "      <td>5.50</td>\n",
       "      <td>M</td>\n",
       "      <td>0.01</td>\n",
       "    </tr>\n",
       "    <tr>\n",
       "      <th>16585</th>\n",
       "      <td>Farming 2017 - The Simulation</td>\n",
       "      <td>PS4</td>\n",
       "      <td>2016</td>\n",
       "      <td>Simulation</td>\n",
       "      <td>0.00</td>\n",
       "      <td>0.01</td>\n",
       "      <td>0.00</td>\n",
       "      <td>0.00</td>\n",
       "      <td>NaN</td>\n",
       "      <td>NaN</td>\n",
       "      <td>NaN</td>\n",
       "      <td>0.01</td>\n",
       "    </tr>\n",
       "  </tbody>\n",
       "</table>\n",
       "<p>376 rows × 12 columns</p>\n",
       "</div>"
      ],
      "text/plain": [
       "                                 name platform  year_of_release         genre  \\\n",
       "31          Call of Duty: Black Ops 3      PS4             2015       Shooter   \n",
       "42                 Grand Theft Auto V      PS4             2014        Action   \n",
       "77                            FIFA 16      PS4             2015        Sports   \n",
       "87       Star Wars Battlefront (2015)      PS4             2015       Shooter   \n",
       "92     Call of Duty: Advanced Warfare      PS4             2014       Shooter   \n",
       "...                               ...      ...              ...           ...   \n",
       "16500                     Root Letter      PS4             2016     Adventure   \n",
       "16503               Shin Hayarigami 2      PS4             2016     Adventure   \n",
       "16526                      Dungeons 2      PS4             2016  Role-Playing   \n",
       "16530         Carmageddon: Max Damage      PS4             2016        Action   \n",
       "16585   Farming 2017 - The Simulation      PS4             2016    Simulation   \n",
       "\n",
       "       na_sales  eu_sales  jp_sales  other_sales  critic_score  user_score  \\\n",
       "31         6.03      5.86      0.36         2.38           NaN         NaN   \n",
       "42         3.96      6.31      0.38         1.97         97.00        8.30   \n",
       "77         1.12      6.12      0.06         1.28         82.00        4.30   \n",
       "87         2.99      3.49      0.22         1.28           NaN         NaN   \n",
       "92         2.81      3.48      0.14         1.23         83.00        5.70   \n",
       "...         ...       ...       ...          ...           ...         ...   \n",
       "16500      0.00      0.00      0.01         0.00         69.00        7.50   \n",
       "16503      0.00      0.00      0.01         0.00           NaN         NaN   \n",
       "16526      0.01      0.00      0.00         0.00         61.00        7.90   \n",
       "16530      0.01      0.00      0.00         0.00         51.00        5.50   \n",
       "16585      0.00      0.01      0.00         0.00           NaN         NaN   \n",
       "\n",
       "      rating  total_sales  \n",
       "31       NaN        14.63  \n",
       "42         M        12.62  \n",
       "77         E         8.58  \n",
       "87       NaN         7.98  \n",
       "92         M         7.66  \n",
       "...      ...          ...  \n",
       "16500    NaN         0.01  \n",
       "16503    NaN         0.01  \n",
       "16526      T         0.01  \n",
       "16530      M         0.01  \n",
       "16585    NaN         0.01  \n",
       "\n",
       "[376 rows x 12 columns]"
      ]
     },
     "execution_count": 42,
     "metadata": {},
     "output_type": "execute_result"
    }
   ],
   "source": [
    "the_most_popular_platform = df_2014.loc[(df_2014['platform'] == 'PS4')]\n",
    "the_most_popular_platform"
   ]
  },
  {
   "cell_type": "code",
   "execution_count": 43,
   "id": "051b5172",
   "metadata": {
    "ExecuteTime": {
     "end_time": "2023-02-11T19:03:13.989793Z",
     "start_time": "2023-02-11T19:03:13.977828Z"
    }
   },
   "outputs": [
    {
     "data": {
      "text/plain": [
       "0.4026614106810409"
      ]
     },
     "execution_count": 43,
     "metadata": {},
     "output_type": "execute_result"
    }
   ],
   "source": [
    "the_most_popular_platform['critic_score'].corr(the_most_popular_platform['total_sales'])"
   ]
  },
  {
   "cell_type": "markdown",
   "id": "bb5412ee",
   "metadata": {},
   "source": [
    "Корреляция между оценкой критиков и количеством проданных копий умеренная."
   ]
  },
  {
   "cell_type": "code",
   "execution_count": 44,
   "id": "8c813447",
   "metadata": {
    "ExecuteTime": {
     "end_time": "2023-02-11T19:03:14.304632Z",
     "start_time": "2023-02-11T19:03:13.992787Z"
    }
   },
   "outputs": [
    {
     "data": {
      "text/plain": [
       "Text(0, 0.5, 'Объем продаж')"
      ]
     },
     "execution_count": 44,
     "metadata": {},
     "output_type": "execute_result"
    },
    {
     "data": {
      "image/png": "[encoded data removed]",
      "text/plain": [
       "<Figure size 1296x432 with 1 Axes>"
      ]
     },
     "metadata": {
      "needs_background": "light"
     },
     "output_type": "display_data"
    }
   ],
   "source": [
    "plt.figure(figsize=(18, 6))\n",
    "sns.scatterplot(data=the_most_popular_platform,\n",
    "                x='critic_score',\n",
    "                y='total_sales')\n",
    "plt.title('Зависимость объема продаж от оценки критиков')\n",
    "plt.xlabel('Оценка критиков')\n",
    "plt.ylabel('Объем продаж')"
   ]
  },
  {
   "cell_type": "markdown",
   "id": "2ea75f37",
   "metadata": {},
   "source": [
    "Оценки критиков демонстрируют прямую, средне-слабую корреляцию с объемом примерно 1-4 млн. продаж."
   ]
  },
  {
   "cell_type": "markdown",
   "id": "994186f9",
   "metadata": {},
   "source": [
    "Посмотрим на корреляцию между оценков пользователей и продажами копий игр."
   ]
  },
  {
   "cell_type": "code",
   "execution_count": 45,
   "id": "f02bb841",
   "metadata": {
    "ExecuteTime": {
     "end_time": "2023-02-11T19:03:14.320591Z",
     "start_time": "2023-02-11T19:03:14.306631Z"
    }
   },
   "outputs": [
    {
     "data": {
      "text/plain": [
       "-0.04013158947269733"
      ]
     },
     "execution_count": 45,
     "metadata": {},
     "output_type": "execute_result"
    }
   ],
   "source": [
    "the_most_popular_platform['user_score'].corr(the_most_popular_platform['total_sales'])"
   ]
  },
  {
   "cell_type": "markdown",
   "id": "2466b0d0",
   "metadata": {},
   "source": [
    "Взаимосвязь между данными показателями обратная и отсутствует."
   ]
  },
  {
   "cell_type": "code",
   "execution_count": 46,
   "id": "e4569158",
   "metadata": {
    "ExecuteTime": {
     "end_time": "2023-02-11T19:03:14.636152Z",
     "start_time": "2023-02-11T19:03:14.324579Z"
    }
   },
   "outputs": [
    {
     "data": {
      "text/plain": [
       "Text(0, 0.5, 'Объем продаж')"
      ]
     },
     "execution_count": 46,
     "metadata": {},
     "output_type": "execute_result"
    },
    {
     "data": {
      "image/png": "[encoded data removed]",
      "text/plain": [
       "<Figure size 1296x432 with 1 Axes>"
      ]
     },
     "metadata": {
      "needs_background": "light"
     },
     "output_type": "display_data"
    }
   ],
   "source": [
    "plt.figure(figsize=(18, 6))\n",
    "sns.scatterplot(data=the_most_popular_platform,\n",
    "                x='user_score',\n",
    "                y='total_sales')\n",
    "plt.title('Зависимость объема продаж от оценки пользователей')\n",
    "plt.xlabel('Оценка пользователей')\n",
    "plt.ylabel('Объем продаж')"
   ]
  },
  {
   "cell_type": "markdown",
   "id": "375f62bb",
   "metadata": {},
   "source": [
    "Оценки пользователей корреляции с продажами не имеют."
   ]
  },
  {
   "cell_type": "markdown",
   "id": "06e0a445",
   "metadata": {},
   "source": [
    "Построем зависимости количества продаж от оценки критиков и пользователей по другим платформам."
   ]
  },
  {
   "cell_type": "code",
   "execution_count": 47,
   "id": "8de2f8e2",
   "metadata": {
    "ExecuteTime": {
     "end_time": "2023-02-11T19:03:17.338071Z",
     "start_time": "2023-02-11T19:03:14.639936Z"
    }
   },
   "outputs": [
    {
     "data": {
      "image/png": "[encoded data removed]",
      "text/plain": [
       "<Figure size 1080x360 with 2 Axes>"
      ]
     },
     "metadata": {
      "needs_background": "light"
     },
     "output_type": "display_data"
    },
    {
     "name": "stdout",
     "output_type": "stream",
     "text": [
      "Корреляция между отзывами пользователей и продажами  PS4 : Отсутствует -0.04013158947269733\n",
      "Корреляция между отзывами критиков и игровой платформой  PS4 : Умеренная 0.4026614106810409\n"
     ]
    },
    {
     "data": {
      "image/png": "[encoded data removed]",
      "text/plain": [
       "<Figure size 1080x360 with 2 Axes>"
      ]
     },
     "metadata": {
      "needs_background": "light"
     },
     "output_type": "display_data"
    },
    {
     "name": "stdout",
     "output_type": "stream",
     "text": [
      "Корреляция между отзывами пользователей и продажами  XONE : Отсутствует -0.07038392806475809\n",
      "Корреляция между отзывами критиков и игровой платформой  XONE : Умеренная 0.42867694370333187\n"
     ]
    },
    {
     "data": {
      "image/png": "[encoded data removed]",
      "text/plain": [
       "<Figure size 1080x360 with 2 Axes>"
      ]
     },
     "metadata": {
      "needs_background": "light"
     },
     "output_type": "display_data"
    },
    {
     "name": "stdout",
     "output_type": "stream",
     "text": [
      "Корреляция между отзывами пользователей и продажами  3DS : Слабая 0.2151932718527028\n",
      "Корреляция между отзывами критиков и игровой платформой  3DS : Умеренная 0.314117492869051\n"
     ]
    },
    {
     "data": {
      "image/png": "[encoded data removed]",
      "text/plain": [
       "<Figure size 1080x360 with 2 Axes>"
      ]
     },
     "metadata": {
      "needs_background": "light"
     },
     "output_type": "display_data"
    },
    {
     "name": "stdout",
     "output_type": "stream",
     "text": [
      "Корреляция между отзывами пользователей и продажами  PS3 : Отсутствует -0.16676141347662118\n",
      "Корреляция между отзывами критиков и игровой платформой  PS3 : Умеренная 0.44657460493190704\n"
     ]
    },
    {
     "data": {
      "image/png": "[encoded data removed]",
      "text/plain": [
       "<Figure size 1080x360 with 2 Axes>"
      ]
     },
     "metadata": {
      "needs_background": "light"
     },
     "output_type": "display_data"
    },
    {
     "name": "stdout",
     "output_type": "stream",
     "text": [
      "Корреляция между отзывами пользователей и продажами  X360 : Отсутствует -0.138444570945665\n",
      "Корреляция между отзывами критиков и игровой платформой  X360 : Высокая 0.5257228356581523\n"
     ]
    }
   ],
   "source": [
    "'''Функция принимает наименование платформы, выбирает необходимые данные \n",
    "и строит scatterplots на основани выбранных данных.\n",
    "'''\n",
    "\n",
    "platform_sales_list = list(platform_sales_2014['platform'].loc[:4])\n",
    "top_five_platform_df_all_sales = df_2014.loc[(df_2014['platform']\n",
    "                                        .isin(platform_sales_list))]\n",
    "\n",
    "try:\n",
    "    def construction_of_correlation_dependencies(platform):\n",
    "        platform_df = top_five_platform_df_all_sales.loc[\n",
    "                top_five_platform_df_all_sales['platform'] == platform]\n",
    "        fig, ax = plt.subplots(1, 2, figsize=(15, 5))\n",
    "        sns.scatterplot(data=platform_df, x='user_score',\n",
    "                        y='total_sales', ax=ax[0])\n",
    "        sns.scatterplot(data=platform_df, x='critic_score',\n",
    "                        y='total_sales', ax=ax[1])\n",
    "        fig.suptitle(platform, fontsize=15)\n",
    "        ax[0].set(xlabel='Оценка пользователей')\n",
    "        ax[1].set(xlabel='Оценка критиков')\n",
    "        ax[0].set(ylabel='Количество продаж')\n",
    "        ax[1].set(ylabel='Количество продаж')\n",
    "        plt.show()\n",
    "\n",
    "        user_correl = platform_df['user_score'].corr(platform_df['total_sales'])\n",
    "        critic_correl = platform_df['critic_score'].corr(platform_df['total_sales'])\n",
    "\n",
    "        if 0.3 >= user_correl >= 0.1:\n",
    "            print('Корреляция между отзывами пользователей и продажами ',\n",
    "                  platform.upper(), ': Слабая', user_correl)\n",
    "        elif 0.5 >= user_correl >= 0.3:\n",
    "            print('Корреляция между отзывами пользователей и продажами ',\n",
    "                  platform.upper(), ': Умеренная', user_correl)\n",
    "        elif 0.7 >= user_correl >= 0.5:\n",
    "            print('Корреляция между отзывами пользователей и продажами ',\n",
    "                  platform.upper(), ': Высокая', user_correl)\n",
    "        elif 0.9 >= user_correl >= 0.7:\n",
    "            print('Корреляция между отзывами пользователей и продажами ',\n",
    "                  platform.upper(), ': Весьма высокая', user_correl)\n",
    "        elif 1 >= user_correl >= 0.9:\n",
    "            print('Корреляция между отзывами пользователей и продажами ',\n",
    "                  platform.upper(), ': Сильная', user_correl)\n",
    "        else:\n",
    "            print('Корреляция между отзывами пользователей и продажами ',\n",
    "                  platform.upper(), ': Отсутствует', user_correl)\n",
    "\n",
    "        if 0.3 >= critic_correl >= 0.1:\n",
    "            print('Корреляция между отзывами критиков и игровой платформой ',\n",
    "                  platform.upper(), ': Слабая', critic_correl)\n",
    "        elif 0.5 >= critic_correl >= 0.3:\n",
    "            print('Корреляция между отзывами критиков и игровой платформой ',\n",
    "                  platform.upper(), ': Умеренная', critic_correl)\n",
    "        elif 0.7 >= critic_correl >= 0.5:\n",
    "            print('Корреляция между отзывами критиков и игровой платформой ',\n",
    "                  platform.upper(), ': Высокая', critic_correl)\n",
    "        elif 0.9 >= critic_correl >= 0.7:\n",
    "            print('Корреляция между отзывами критиков и игровой платформой ',\n",
    "                  platform.upper(), ': Весьма высокая', critic_correl)\n",
    "        elif 1 >= critic_correl >= 0.9:\n",
    "            print('Корреляция между отзывами критиков и игровой платформой ',\n",
    "                  platform.upper(), ': Сильная', critic_correl)\n",
    "        else:\n",
    "            print('Корреляция между отзывами критиков и игровой платформой ',\n",
    "                  platform.upper(), ': Отсутствует', critic_correl)\n",
    "    for platform in platform_sales_list:\n",
    "        construction_of_correlation_dependencies(platform)\n",
    "except:\n",
    "    print('Ошибка')"
   ]
  },
  {
   "cell_type": "markdown",
   "id": "b8b9f107",
   "metadata": {},
   "source": [
    "Как видно из графиков распределения ситуация аналогичная ситуации с PlayStation 4."
   ]
  },
  {
   "cell_type": "markdown",
   "id": "d552b717",
   "metadata": {},
   "source": [
    "### Распределение игр по жанрам"
   ]
  },
  {
   "cell_type": "markdown",
   "id": "68b6fb02",
   "metadata": {},
   "source": [
    "Посмотрим на лидирующие жанры в мировой тенденции игромании."
   ]
  },
  {
   "cell_type": "code",
   "execution_count": 48,
   "id": "f861afe4",
   "metadata": {
    "ExecuteTime": {
     "end_time": "2023-02-11T19:03:17.385082Z",
     "start_time": "2023-02-11T19:03:17.339939Z"
    }
   },
   "outputs": [
    {
     "data": {
      "text/html": [
       "<div>\n",
       "<style scoped>\n",
       "    .dataframe tbody tr th:only-of-type {\n",
       "        vertical-align: middle;\n",
       "    }\n",
       "\n",
       "    .dataframe tbody tr th {\n",
       "        vertical-align: top;\n",
       "    }\n",
       "\n",
       "    .dataframe thead th {\n",
       "        text-align: right;\n",
       "    }\n",
       "</style>\n",
       "<table border=\"1\" class=\"dataframe\">\n",
       "  <thead>\n",
       "    <tr style=\"text-align: right;\">\n",
       "      <th></th>\n",
       "      <th>genre</th>\n",
       "      <th>total_sales</th>\n",
       "    </tr>\n",
       "  </thead>\n",
       "  <tbody>\n",
       "    <tr>\n",
       "      <th>0</th>\n",
       "      <td>Shooter</td>\n",
       "      <td>0.52</td>\n",
       "    </tr>\n",
       "    <tr>\n",
       "      <th>1</th>\n",
       "      <td>Sports</td>\n",
       "      <td>0.18</td>\n",
       "    </tr>\n",
       "    <tr>\n",
       "      <th>2</th>\n",
       "      <td>Platform</td>\n",
       "      <td>0.14</td>\n",
       "    </tr>\n",
       "    <tr>\n",
       "      <th>3</th>\n",
       "      <td>Fighting</td>\n",
       "      <td>0.12</td>\n",
       "    </tr>\n",
       "    <tr>\n",
       "      <th>4</th>\n",
       "      <td>Role-Playing</td>\n",
       "      <td>0.11</td>\n",
       "    </tr>\n",
       "    <tr>\n",
       "      <th>5</th>\n",
       "      <td>Simulation</td>\n",
       "      <td>0.10</td>\n",
       "    </tr>\n",
       "    <tr>\n",
       "      <th>6</th>\n",
       "      <td>Action</td>\n",
       "      <td>0.09</td>\n",
       "    </tr>\n",
       "    <tr>\n",
       "      <th>7</th>\n",
       "      <td>Misc</td>\n",
       "      <td>0.09</td>\n",
       "    </tr>\n",
       "    <tr>\n",
       "      <th>8</th>\n",
       "      <td>Racing</td>\n",
       "      <td>0.09</td>\n",
       "    </tr>\n",
       "    <tr>\n",
       "      <th>9</th>\n",
       "      <td>Strategy</td>\n",
       "      <td>0.06</td>\n",
       "    </tr>\n",
       "    <tr>\n",
       "      <th>10</th>\n",
       "      <td>Puzzle</td>\n",
       "      <td>0.04</td>\n",
       "    </tr>\n",
       "    <tr>\n",
       "      <th>11</th>\n",
       "      <td>Adventure</td>\n",
       "      <td>0.03</td>\n",
       "    </tr>\n",
       "  </tbody>\n",
       "</table>\n",
       "</div>"
      ],
      "text/plain": [
       "           genre  total_sales\n",
       "0        Shooter         0.52\n",
       "1         Sports         0.18\n",
       "2       Platform         0.14\n",
       "3       Fighting         0.12\n",
       "4   Role-Playing         0.11\n",
       "5     Simulation         0.10\n",
       "6         Action         0.09\n",
       "7           Misc         0.09\n",
       "8         Racing         0.09\n",
       "9       Strategy         0.06\n",
       "10        Puzzle         0.04\n",
       "11     Adventure         0.03"
      ]
     },
     "execution_count": 48,
     "metadata": {},
     "output_type": "execute_result"
    }
   ],
   "source": [
    "genre_sales_df = (df_2014.pivot_table(index='genre', values='total_sales', aggfunc=np.median)\n",
    "                         .sort_values(by='total_sales', ascending=False)\n",
    "                         .reset_index())\n",
    "genre_sales_df"
   ]
  },
  {
   "cell_type": "markdown",
   "id": "71cb3d57",
   "metadata": {},
   "source": [
    "Лидирующую позицию занимают шутеры."
   ]
  },
  {
   "cell_type": "code",
   "execution_count": 49,
   "id": "cc8bb3e0",
   "metadata": {
    "ExecuteTime": {
     "end_time": "2023-02-11T19:03:17.890571Z",
     "start_time": "2023-02-11T19:03:17.388813Z"
    }
   },
   "outputs": [
    {
     "data": {
      "text/plain": [
       "Text(0, 0.5, 'Объем продаж')"
      ]
     },
     "execution_count": 49,
     "metadata": {},
     "output_type": "execute_result"
    },
    {
     "data": {
      "image/png": "[encoded data removed]",
      "text/plain": [
       "<Figure size 1296x504 with 1 Axes>"
      ]
     },
     "metadata": {
      "needs_background": "light"
     },
     "output_type": "display_data"
    }
   ],
   "source": [
    "plt.figure(figsize=(18, 7))\n",
    "sns.barplot(x=genre_sales_df['genre'], y=genre_sales_df['total_sales'])\n",
    "plt.title('Распределение объема продаж по жанрам')\n",
    "plt.xlabel('Жанр')\n",
    "plt.ylabel('Объем продаж')"
   ]
  },
  {
   "cell_type": "markdown",
   "id": "179506c8",
   "metadata": {},
   "source": [
    "### Вывод"
   ]
  },
  {
   "cell_type": "markdown",
   "id": "5a1a73a7",
   "metadata": {},
   "source": [
    "Из проведенного анализа видно, что:\n",
    " * наиболее продаваемые в последние годы были платформы PS4, XOne, 3DS, PS3, X360;\n",
    " * среднее количество продаж по платформам составляет около 0.2 млн. копий;\n",
    " * корреляция по PS4 между отзывами критиков и объемами продаж умеренная, а между отзывами пользователей и объемами продаж отсутствует;\n",
    " * по остальным платформам корреляция схожая с PS4.\n",
    " * наиболее продаваемый жанр - шутеры."
   ]
  },
  {
   "cell_type": "markdown",
   "id": "0e116208",
   "metadata": {},
   "source": [
    "## Портрет пользователей"
   ]
  },
  {
   "cell_type": "markdown",
   "id": "fdfd8723",
   "metadata": {},
   "source": [
    "Составим портрет пользователей в зависимости от региона:\n",
    " * NA_sales — продажи в Северной Америке (миллионы проданных копий).\n",
    " * EU_sales — продажи в Европе (миллионы проданных копий).\n",
    " * JP_sales — продажи в Японии (миллионы проданных копий)."
   ]
  },
  {
   "cell_type": "markdown",
   "id": "cb8aee67",
   "metadata": {},
   "source": [
    "**Портрет пользователей из Северной Америки**"
   ]
  },
  {
   "cell_type": "markdown",
   "id": "a5f757a7",
   "metadata": {},
   "source": [
    "Рассмотрим, какие платформы самые популярные в Северной Америке."
   ]
  },
  {
   "cell_type": "code",
   "execution_count": 50,
   "id": "7582ec16",
   "metadata": {
    "ExecuteTime": {
     "end_time": "2023-02-11T19:03:18.266435Z",
     "start_time": "2023-02-11T19:03:17.893679Z"
    },
    "scrolled": false
   },
   "outputs": [
    {
     "data": {
      "text/plain": [
       "Text(0, 0.5, 'Количество продаж')"
      ]
     },
     "execution_count": 50,
     "metadata": {},
     "output_type": "execute_result"
    },
    {
     "data": {
      "image/png": "[encoded data removed]",
      "text/plain": [
       "<Figure size 1296x504 with 1 Axes>"
      ]
     },
     "metadata": {
      "needs_background": "light"
     },
     "output_type": "display_data"
    }
   ],
   "source": [
    "na_sales = (df_2014.pivot_table(index='platform',\n",
    "                                values='na_sales',\n",
    "                                aggfunc=np.sum)\n",
    "                   .sort_values(by='na_sales',\n",
    "                                ascending=False)\n",
    "                   .reset_index()\n",
    "                   .loc[0:4]\n",
    "           )\n",
    "\n",
    "plt.figure(figsize=(18, 7))\n",
    "sns.barplot(data=na_sales, x='platform', y='na_sales')\n",
    "plt.title('Распределение продаж по платформам')\n",
    "plt.xlabel('Платформа')\n",
    "plt.ylabel('Количество продаж')"
   ]
  },
  {
   "cell_type": "markdown",
   "id": "edc04f66",
   "metadata": {},
   "source": [
    "Из гистограммы видно, что самыми популярными платформами в Америке являются PS4 и XOne."
   ]
  },
  {
   "cell_type": "markdown",
   "id": "d13d5eb7",
   "metadata": {},
   "source": [
    "Посмотрим на информацию в части, касающейся предпочтения по жанрам."
   ]
  },
  {
   "cell_type": "code",
   "execution_count": 51,
   "id": "3b83e236",
   "metadata": {
    "ExecuteTime": {
     "end_time": "2023-02-11T19:03:18.598157Z",
     "start_time": "2023-02-11T19:03:18.270550Z"
    }
   },
   "outputs": [
    {
     "data": {
      "text/plain": [
       "Text(0, 0.5, 'Количество продаж')"
      ]
     },
     "execution_count": 51,
     "metadata": {},
     "output_type": "execute_result"
    },
    {
     "data": {
      "image/png": "[encoded data removed]",
      "text/plain": [
       "<Figure size 1296x504 with 1 Axes>"
      ]
     },
     "metadata": {
      "needs_background": "light"
     },
     "output_type": "display_data"
    }
   ],
   "source": [
    "na_genre = (df_2014.pivot_table(index='genre', values='na_sales', aggfunc=np.sum)\n",
    "                   .sort_values(by='na_sales', ascending=False)\n",
    "                   .reset_index()\n",
    "                   .loc[0:4]\n",
    "           )\n",
    "\n",
    "plt.figure(figsize=(18, 7))\n",
    "sns.barplot(data=na_genre, x='genre', y='na_sales')\n",
    "plt.title('Распределение продаж по платформам')\n",
    "plt.xlabel('Жанр')\n",
    "plt.ylabel('Количество продаж')"
   ]
  },
  {
   "cell_type": "markdown",
   "id": "cb4b325b",
   "metadata": {},
   "source": [
    "Самыми популярными жанрами в Америке являются *Shooters* и *Actions*."
   ]
  },
  {
   "cell_type": "markdown",
   "id": "20d79c13",
   "metadata": {},
   "source": [
    "Посмотрим как на продажи игр влияюет рейтинг *Entertainment Software Rating Board*."
   ]
  },
  {
   "cell_type": "code",
   "execution_count": 52,
   "id": "9c0dc60d",
   "metadata": {
    "ExecuteTime": {
     "end_time": "2023-02-11T19:03:18.645623Z",
     "start_time": "2023-02-11T19:03:18.603740Z"
    }
   },
   "outputs": [
    {
     "name": "stdout",
     "output_type": "stream",
     "text": [
      "Количество пропусков в колонке рейтинг:  749\n",
      "Количество строк в датасете до заполнения:  (1689,)\n",
      "Количество строк в датасете после заполнения:  (1689,)\n",
      "Количество значений \"Без рейтинга\": 749 колонок.\n"
     ]
    }
   ],
   "source": [
    "print('Количество пропусков в колонке рейтинг: ', df_2014['rating'].isna().sum())\n",
    "print('Количество строк в датасете до заполнения: ', df_2014['rating'].shape)\n",
    "\n",
    "rating_with_plag = df_2014.copy()\n",
    "\n",
    "rating_with_plag['rating'] = rating_with_plag['rating'].fillna('Без рейтинга')\n",
    "\n",
    "print('Количество строк в датасете после заполнения: ', df_2014['rating'].shape)\n",
    "\n",
    "print('Количество значений \"Без рейтинга\":',\n",
    "      rating_with_plag.loc[rating_with_plag['rating'] == 'Без рейтинга']['rating']\n",
    "                      .count(), 'колонок.')"
   ]
  },
  {
   "cell_type": "markdown",
   "id": "feea96f6",
   "metadata": {},
   "source": [
    "Замена NAN значений на заглушку \"Без рейтинга\" прошла успешно."
   ]
  },
  {
   "cell_type": "code",
   "execution_count": 53,
   "id": "64420a7d",
   "metadata": {
    "ExecuteTime": {
     "end_time": "2023-02-11T19:03:19.005581Z",
     "start_time": "2023-02-11T19:03:18.648744Z"
    }
   },
   "outputs": [
    {
     "data": {
      "text/plain": [
       "Text(0, 0.5, 'Количество продаж')"
      ]
     },
     "execution_count": 53,
     "metadata": {},
     "output_type": "execute_result"
    },
    {
     "data": {
      "image/png": "[encoded data removed]",
      "text/plain": [
       "<Figure size 1296x504 with 1 Axes>"
      ]
     },
     "metadata": {
      "needs_background": "light"
     },
     "output_type": "display_data"
    }
   ],
   "source": [
    "na_rating = (rating_with_plag.pivot_table(index='rating',\n",
    "                                          values='na_sales',\n",
    "                                          aggfunc=np.sum)\n",
    "                             .sort_values(by='na_sales', ascending=False)\n",
    "                             .reset_index()\n",
    "            )\n",
    "\n",
    "plt.figure(figsize=(18, 7))\n",
    "sns.barplot(data=na_rating, x='rating', y='na_sales')\n",
    "plt.title('Распределение продаж по платформам')\n",
    "plt.xlabel('Рейтинг')\n",
    "plt.ylabel('Количество продаж')"
   ]
  },
  {
   "cell_type": "markdown",
   "id": "39d0c6ff",
   "metadata": {},
   "source": [
    "Рейтенг Entertainment Software Rating Board под категорией M (для взрослых) имеет наибольшие продажи."
   ]
  },
  {
   "cell_type": "markdown",
   "id": "94396d5a",
   "metadata": {},
   "source": [
    "**Портрет пользователей из Европы**"
   ]
  },
  {
   "cell_type": "markdown",
   "id": "6d563f2b",
   "metadata": {},
   "source": [
    "Рассмотрим, какие платформы самые популярные в Европе."
   ]
  },
  {
   "cell_type": "code",
   "execution_count": 54,
   "id": "2133cf4f",
   "metadata": {
    "ExecuteTime": {
     "end_time": "2023-02-11T19:03:19.347340Z",
     "start_time": "2023-02-11T19:03:19.007492Z"
    }
   },
   "outputs": [
    {
     "data": {
      "text/plain": [
       "Text(0, 0.5, 'Количество продаж')"
      ]
     },
     "execution_count": 54,
     "metadata": {},
     "output_type": "execute_result"
    },
    {
     "data": {
      "image/png": "[encoded data removed]",
      "text/plain": [
       "<Figure size 1296x504 with 1 Axes>"
      ]
     },
     "metadata": {
      "needs_background": "light"
     },
     "output_type": "display_data"
    }
   ],
   "source": [
    "eu_sales = (df_2014.pivot_table(index='platform', values='eu_sales', aggfunc=np.sum)\n",
    "                   .sort_values(by='eu_sales', ascending=False)\n",
    "                   .reset_index()\n",
    "                   .loc[0:4]\n",
    "           )\n",
    "\n",
    "plt.figure(figsize=(18, 7))\n",
    "sns.barplot(data=eu_sales, x='platform', y='eu_sales')\n",
    "plt.title('Распределение продаж по платформам')\n",
    "plt.xlabel('Платформа')\n",
    "plt.ylabel('Количество продаж')"
   ]
  },
  {
   "cell_type": "markdown",
   "id": "9c605bed",
   "metadata": {},
   "source": [
    "Из гистограммы видно, что самыми популярными платформами в Европе являются PS4 и XOne."
   ]
  },
  {
   "cell_type": "markdown",
   "id": "7573ba32",
   "metadata": {},
   "source": [
    "Посмотрим на информацию в части, касающейся предпочтения по жанрам."
   ]
  },
  {
   "cell_type": "code",
   "execution_count": 55,
   "id": "4d1448f4",
   "metadata": {
    "ExecuteTime": {
     "end_time": "2023-02-11T19:03:19.644591Z",
     "start_time": "2023-02-11T19:03:19.349301Z"
    }
   },
   "outputs": [
    {
     "data": {
      "text/plain": [
       "Text(0, 0.5, 'Количество продаж')"
      ]
     },
     "execution_count": 55,
     "metadata": {},
     "output_type": "execute_result"
    },
    {
     "data": {
      "image/png": "[encoded data removed]",
      "text/plain": [
       "<Figure size 1296x504 with 1 Axes>"
      ]
     },
     "metadata": {
      "needs_background": "light"
     },
     "output_type": "display_data"
    }
   ],
   "source": [
    "eu_genre = (df_2014.pivot_table(index='genre', values='eu_sales', aggfunc=np.sum)\n",
    "                   .sort_values(by='eu_sales', ascending=False)\n",
    "                   .reset_index()\n",
    "                   .loc[0:4]\n",
    "            )\n",
    "\n",
    "plt.figure(figsize=(18, 7))\n",
    "sns.barplot(data=eu_genre, x='genre', y='eu_sales')\n",
    "plt.title('Распределение продаж по платформам')\n",
    "plt.xlabel('Жанр')\n",
    "plt.ylabel('Количество продаж')"
   ]
  },
  {
   "cell_type": "markdown",
   "id": "5812a2bd",
   "metadata": {},
   "source": [
    "Самыми популярными жанрами в Европе, как и в Америке являются *Action* и *Shooter*."
   ]
  },
  {
   "cell_type": "markdown",
   "id": "7ebfb981",
   "metadata": {},
   "source": [
    "Посмотрим как на продажи игр влияюет рейтинг *Entertainment Software Rating Board*."
   ]
  },
  {
   "cell_type": "code",
   "execution_count": 56,
   "id": "022efeb5",
   "metadata": {
    "ExecuteTime": {
     "end_time": "2023-02-11T19:03:19.928859Z",
     "start_time": "2023-02-11T19:03:19.647599Z"
    }
   },
   "outputs": [
    {
     "data": {
      "text/plain": [
       "Text(0, 0.5, 'Количество продаж')"
      ]
     },
     "execution_count": 56,
     "metadata": {},
     "output_type": "execute_result"
    },
    {
     "data": {
      "image/png": "[encoded data removed]",
      "text/plain": [
       "<Figure size 1296x504 with 1 Axes>"
      ]
     },
     "metadata": {
      "needs_background": "light"
     },
     "output_type": "display_data"
    }
   ],
   "source": [
    "eu_rating = (rating_with_plag.pivot_table(index='rating',\n",
    "                                          values='eu_sales',\n",
    "                                          aggfunc=np.sum)\n",
    "                             .sort_values(by='eu_sales',\n",
    "                                          ascending=False)\n",
    "                             .reset_index())\n",
    "\n",
    "plt.figure(figsize=(18, 7))\n",
    "sns.barplot(data=eu_rating, x='rating', y='eu_sales')\n",
    "plt.title('Распределение продаж по платформам')\n",
    "plt.xlabel('Рейтинг')\n",
    "plt.ylabel('Количество продаж')"
   ]
  },
  {
   "cell_type": "markdown",
   "id": "62bc31e4",
   "metadata": {},
   "source": [
    "Рейтенг Entertainment Software Rating Board под категорией M (для взрослых) имеет наибольшие продажи."
   ]
  },
  {
   "cell_type": "markdown",
   "id": "c1d25929",
   "metadata": {},
   "source": [
    "**Портрет пользователей из Японии**"
   ]
  },
  {
   "cell_type": "markdown",
   "id": "7ae990c6",
   "metadata": {},
   "source": [
    "Рассмотрим, какие платформы самые популярные в Японии."
   ]
  },
  {
   "cell_type": "code",
   "execution_count": 57,
   "id": "71f61673",
   "metadata": {
    "ExecuteTime": {
     "end_time": "2023-02-11T19:03:20.227411Z",
     "start_time": "2023-02-11T19:03:19.930858Z"
    }
   },
   "outputs": [
    {
     "data": {
      "text/plain": [
       "Text(0, 0.5, 'Количество продаж')"
      ]
     },
     "execution_count": 57,
     "metadata": {},
     "output_type": "execute_result"
    },
    {
     "data": {
      "image/png": "[encoded data removed]",
      "text/plain": [
       "<Figure size 1296x504 with 1 Axes>"
      ]
     },
     "metadata": {
      "needs_background": "light"
     },
     "output_type": "display_data"
    }
   ],
   "source": [
    "jp_sales = (df_2014.pivot_table(index='platform', values='jp_sales', aggfunc=np.sum)\n",
    "                   .sort_values(by='jp_sales', ascending=False)\n",
    "                   .reset_index()\n",
    "                   .loc[0:4]\n",
    "            )\n",
    "\n",
    "plt.figure(figsize=(18, 7))\n",
    "sns.barplot(data=jp_sales, x='platform', y='jp_sales')\n",
    "plt.title('Распределение продаж по платформам')\n",
    "plt.xlabel('Платформа')\n",
    "plt.ylabel('Количество продаж')"
   ]
  },
  {
   "cell_type": "markdown",
   "id": "552fa46e",
   "metadata": {},
   "source": [
    "Из гистограммы видно, что самыми популярными платформами в Америке являются 3DS и PS4."
   ]
  },
  {
   "cell_type": "markdown",
   "id": "9351c109",
   "metadata": {},
   "source": [
    "Посмотрим на информацию в части, касающейся предпочтения по жанрам."
   ]
  },
  {
   "cell_type": "code",
   "execution_count": 58,
   "id": "47b88902",
   "metadata": {
    "ExecuteTime": {
     "end_time": "2023-02-11T19:03:20.480623Z",
     "start_time": "2023-02-11T19:03:20.229919Z"
    }
   },
   "outputs": [
    {
     "data": {
      "text/plain": [
       "Text(0, 0.5, 'Количество продаж')"
      ]
     },
     "execution_count": 58,
     "metadata": {},
     "output_type": "execute_result"
    },
    {
     "data": {
      "image/png": "[encoded data removed]",
      "text/plain": [
       "<Figure size 1296x504 with 1 Axes>"
      ]
     },
     "metadata": {
      "needs_background": "light"
     },
     "output_type": "display_data"
    }
   ],
   "source": [
    "jp_genre = (df_2014.pivot_table(index='genre', values='jp_sales', aggfunc=np.sum)\n",
    "                   .sort_values(by='jp_sales', ascending=False)\n",
    "                   .reset_index()\n",
    "                   .loc[0:4]\n",
    "            )\n",
    "\n",
    "plt.figure(figsize=(18, 7))\n",
    "sns.barplot(data=jp_genre, x='genre', y='jp_sales')\n",
    "plt.title('Распределение продаж по платформам')\n",
    "plt.xlabel('Жанр')\n",
    "plt.ylabel('Количество продаж')"
   ]
  },
  {
   "cell_type": "markdown",
   "id": "233b326b",
   "metadata": {},
   "source": [
    "Самыми популярными жанрами в Америке являются *Role_Playing* и *Action*."
   ]
  },
  {
   "cell_type": "markdown",
   "id": "062db99c",
   "metadata": {},
   "source": [
    "Посмотрим как на продажи игр влияюет рейтинг *Entertainment Software Rating Board*."
   ]
  },
  {
   "cell_type": "code",
   "execution_count": 59,
   "id": "c6756943",
   "metadata": {
    "ExecuteTime": {
     "end_time": "2023-02-11T19:03:20.732296Z",
     "start_time": "2023-02-11T19:03:20.484238Z"
    }
   },
   "outputs": [
    {
     "data": {
      "text/plain": [
       "Text(0, 0.5, 'Количество продаж')"
      ]
     },
     "execution_count": 59,
     "metadata": {},
     "output_type": "execute_result"
    },
    {
     "data": {
      "image/png": "[encoded data removed]",
      "text/plain": [
       "<Figure size 1296x504 with 1 Axes>"
      ]
     },
     "metadata": {
      "needs_background": "light"
     },
     "output_type": "display_data"
    }
   ],
   "source": [
    "jp_rating = (rating_with_plag.pivot_table(index='rating',\n",
    "                                          values='jp_sales',\n",
    "                                          aggfunc=np.sum)\n",
    "                             .sort_values(by='jp_sales', ascending=False)\n",
    "                             .reset_index())\n",
    "\n",
    "plt.figure(figsize=(18, 7))\n",
    "sns.barplot(data=jp_rating, x='rating', y='jp_sales')\n",
    "plt.title('Распределение продаж по платформам')\n",
    "plt.xlabel('Рейтинг')\n",
    "plt.ylabel('Количество продаж')"
   ]
  },
  {
   "cell_type": "markdown",
   "id": "e9390fa9",
   "metadata": {},
   "source": [
    "Игры под категорией \"Без рейтинга\" имеют наибольшие продажи."
   ]
  },
  {
   "cell_type": "markdown",
   "id": "6103fea6",
   "metadata": {},
   "source": [
    "### Вывод"
   ]
  },
  {
   "cell_type": "markdown",
   "id": "37404ffa",
   "metadata": {},
   "source": [
    "Из анализа портрета пользователей видно, что в разных частях света люди играют в разные платформы и разные жанры игр.\n",
    "\n",
    "В Северной Америке больше играют в PS4 и XOne, жанр shooters или actions.\n",
    "\n",
    "В Европе больше играют в PS4 и XOne, жанров больше actions, поменьше shooters.\n",
    "\n",
    "В Японии больше играют в XDS и PS4, жанров больше Role-Playing, поменьше actions."
   ]
  },
  {
   "cell_type": "markdown",
   "id": "03b574ab",
   "metadata": {},
   "source": [
    "## Проверка гипотез"
   ]
  },
  {
   "cell_type": "markdown",
   "id": "8cced71c",
   "metadata": {},
   "source": [
    "### Первая гипотеза"
   ]
  },
  {
   "cell_type": "markdown",
   "id": "2c62dc10",
   "metadata": {},
   "source": [
    "Сформулируем первые нулевую и альтернативную гипотезы.\n",
    "\n",
    "H0 - Средние пользовательские рейтинги платформ Xbox One и PC одинаковые.\n",
    "\n",
    "H1 - Средние пользовательские рейтинги платформ Xbox One и PC разные.\n",
    "\n",
    "Произведем проверку гипотез."
   ]
  },
  {
   "cell_type": "code",
   "execution_count": 60,
   "id": "6389d811",
   "metadata": {
    "ExecuteTime": {
     "end_time": "2023-02-11T19:03:20.764215Z",
     "start_time": "2023-02-11T19:03:20.735743Z"
    }
   },
   "outputs": [
    {
     "name": "stdout",
     "output_type": "stream",
     "text": [
      "p-значение: 0.11601398086668832\n",
      "Не получилось отвергнуть нулевую гипотезу\n"
     ]
    }
   ],
   "source": [
    "# Проверка первой гипотезы\n",
    "xone_selection = df_2014.loc[(df_2014['platform'] == 'XOne')]['user_score']\n",
    "pc_selection = df_2014.loc[(df_2014['platform'] == 'PC')]['user_score']\n",
    "\n",
    "alpha = .05\n",
    "\n",
    "results = st.ttest_ind(xone_selection.dropna(),\n",
    "                       pc_selection.dropna(), equal_var=False)\n",
    "\n",
    "print('p-значение:', results.pvalue)\n",
    "\n",
    "if (results.pvalue < alpha):\n",
    "    print(\"Отвергаем нулевую гипотезу\")\n",
    "else:\n",
    "    print(\"Не получилось отвергнуть нулевую гипотезу\")"
   ]
  },
  {
   "cell_type": "markdown",
   "id": "ea3a3326",
   "metadata": {},
   "source": [
    "Полученное значение p-value говорит о том, что хотя средние пользовательские рейтинги с платформ неодинаковы, с вероятностью в 12% такое или большее различие можно получить случайно. Поэтому нелувую гипотезу мы не отвергаем."
   ]
  },
  {
   "cell_type": "markdown",
   "id": "063e797d",
   "metadata": {},
   "source": [
    "### Вторая гипотеза"
   ]
  },
  {
   "cell_type": "markdown",
   "id": "1ed0527b",
   "metadata": {},
   "source": [
    "Сформулируем первые нулевую и альтернативную гипотезы.\n",
    "\n",
    "H0 - Средние пользовательские рейтинги жанров Action (англ. «действие», экшен-игры) и Sports (англ. «спортивные соревнования») одинаковые.\n",
    "\n",
    "H1 - Средние пользовательские рейтинги жанров Action (англ. «действие», экшен-игры) и Sports (англ. «спортивные соревнования») разные.\n",
    "\n",
    "Произведем проверку гипотез."
   ]
  },
  {
   "cell_type": "code",
   "execution_count": 61,
   "id": "ef5805ab",
   "metadata": {
    "ExecuteTime": {
     "end_time": "2023-02-11T19:03:20.794134Z",
     "start_time": "2023-02-11T19:03:20.767262Z"
    }
   },
   "outputs": [
    {
     "name": "stdout",
     "output_type": "stream",
     "text": [
      "p-значение: 1.1825550382644557e-14\n",
      "Отвергаем нулевую гипотезу\n"
     ]
    }
   ],
   "source": [
    "# Проверка второй гипотезы\n",
    "action_selection = df_2014.loc[(df_2014['genre'] == 'Action')]['user_score']\n",
    "sports_selection = df_2014.loc[(df_2014['genre'] == 'Sports')]['user_score']\n",
    "\n",
    "alpha = .05\n",
    "\n",
    "results = st.ttest_ind(action_selection.dropna(),\n",
    "                       sports_selection.dropna(), equal_var=False)\n",
    "\n",
    "print('p-значение:', results.pvalue)\n",
    "\n",
    "if (results.pvalue < alpha):\n",
    "    print(\"Отвергаем нулевую гипотезу\")\n",
    "else:\n",
    "    print(\"Не получилось отвергнуть нулевую гипотезу\")"
   ]
  },
  {
   "cell_type": "markdown",
   "id": "70a09d7f",
   "metadata": {},
   "source": [
    "Полученное значение p-value говорит о том, что хотя средние пользовательские рейтинги с платформ неодинаковы, с вероятностью в 1.1825550382644557e-14% такое или большее различие можно получить случайно. Поэтому нелувую гипотезу мы отвергаем."
   ]
  },
  {
   "cell_type": "markdown",
   "id": "8863f8a0",
   "metadata": {},
   "source": [
    "### Вывод"
   ]
  },
  {
   "cell_type": "markdown",
   "id": "f5b17df8",
   "metadata": {},
   "source": [
    "Мы проверили две гипотезы. Из их проверки можно сделать следующие выводы:\n",
    "1. Полученное значение p-value говорит о том, что хотя средние пользовательские рейтинги с платформ неодинаковы, с вероятностью в 12% такое или большее различие можно получить случайно. Поэтому нелувую гипотезу мы не отвергаем.\n",
    "2. Полученное значение p-value говорит о том, что хотя средние пользовательские рейтинги с платформ неодинаковы, с вероятностью в 1.1825550382644557e-14% такое или большее различие можно получить случайно. Поэтому нелувую гипотезу мы отвергаем."
   ]
  },
  {
   "cell_type": "markdown",
   "id": "2b11fd5a",
   "metadata": {},
   "source": [
    "## Общий вывод"
   ]
  },
  {
   "cell_type": "markdown",
   "id": "d7918ce2",
   "metadata": {},
   "source": [
    "Исходя из проведенного анализа, для составления рекламного плана продаж компьютерных игр на следующий год можно сделать следующие выводы:\n",
    " * Как правило при продаже игра надо ориентировать на относительно \"новые\" платформы, которые выпускались не так давно и которые еще только набирают оборот. О \"старичках\" можно забыть, т.к. уровень продаж по ним неуклонно падает. Необходимо искать новые \"загорающиеся звезды\" на рынке игровых платформ, чтобы максимально попадать в тренд текущих дней и пополнять счет компании прибылью.\n",
    " * Общий тренд на рынке на 2016 год таков, что игровые платформы сильно проседают по продажам. Возможно на рынке появляется какая-то новая технология, которая переманивает к себе пользователей (к примеру AR, VR или мобильные игры). Стоит проанализировать рынок к этом направлении и скорректировать глобальную направленность компании.\n",
    " * На текущий момент времени и на грядущий год в части платформ нужно ориентироваться на популярные из них, такие как PS4 и XOne.\n",
    " * Необходимо учитывать, что в среднем игры даже по топовым платформам продаются примерно по 0.2 млн. копий. И только иногда отдельные игры на отдельных платформах \"выстреливают\".\n",
    " * Не стоит сильно акцентировать внимание на отзывах пользователей и критиков по различным платформам и из этого делать вывод о продаваемости игры внутри платформы - они имеют слабую корреляцию.\n",
    " * В части жанров лучше всего ориентироваться на жанры Shooter, Action и Role-Playing - это самые продаваемые жанры в зависимости от региона."
   ]
  }
 ],
 "metadata": {
  "ExecuteTimeLog": [
   {
    "duration": 168,
    "start_time": "2022-06-23T10:30:19.482Z"
   },
   {
    "duration": 1103,
    "start_time": "2022-06-23T10:30:19.652Z"
   },
   {
    "duration": 85,
    "start_time": "2022-06-23T10:30:20.756Z"
   },
   {
    "duration": 16,
    "start_time": "2022-06-23T10:30:20.844Z"
   },
   {
    "duration": 28,
    "start_time": "2022-06-23T10:30:20.861Z"
   },
   {
    "duration": 88,
    "start_time": "2022-06-23T10:30:20.892Z"
   },
   {
    "duration": 17,
    "start_time": "2022-06-23T10:30:20.981Z"
   },
   {
    "duration": 12,
    "start_time": "2022-06-23T10:30:21.000Z"
   },
   {
    "duration": 57,
    "start_time": "2022-06-23T10:30:21.014Z"
   },
   {
    "duration": 7,
    "start_time": "2022-06-23T10:30:21.074Z"
   },
   {
    "duration": 9,
    "start_time": "2022-06-23T10:30:21.083Z"
   },
   {
    "duration": 10,
    "start_time": "2022-06-23T10:30:21.093Z"
   },
   {
    "duration": 9,
    "start_time": "2022-06-23T10:30:21.105Z"
   },
   {
    "duration": 42,
    "start_time": "2022-06-23T10:30:21.115Z"
   },
   {
    "duration": 20,
    "start_time": "2022-06-23T10:30:21.159Z"
   },
   {
    "duration": 95,
    "start_time": "2022-06-23T10:30:21.181Z"
   },
   {
    "duration": 12,
    "start_time": "2022-06-23T10:30:21.278Z"
   },
   {
    "duration": 270,
    "start_time": "2022-06-23T10:30:21.292Z"
   },
   {
    "duration": 15,
    "start_time": "2022-06-23T10:30:21.565Z"
   },
   {
    "duration": 349,
    "start_time": "2022-06-23T10:30:21.581Z"
   },
   {
    "duration": 27,
    "start_time": "2022-06-23T10:30:21.933Z"
   },
   {
    "duration": 4,
    "start_time": "2022-06-23T10:30:21.962Z"
   },
   {
    "duration": 352,
    "start_time": "2022-06-23T10:30:21.967Z"
   },
   {
    "duration": 17,
    "start_time": "2022-06-23T10:30:22.321Z"
   },
   {
    "duration": 1620,
    "start_time": "2022-06-23T10:30:22.352Z"
   },
   {
    "duration": 19,
    "start_time": "2022-06-23T10:30:23.974Z"
   },
   {
    "duration": 225,
    "start_time": "2022-06-23T10:30:23.995Z"
   },
   {
    "duration": 29,
    "start_time": "2022-06-23T10:30:24.224Z"
   },
   {
    "duration": 5,
    "start_time": "2022-06-23T10:30:24.255Z"
   },
   {
    "duration": 193,
    "start_time": "2022-06-23T10:30:24.262Z"
   },
   {
    "duration": 6,
    "start_time": "2022-06-23T10:30:24.457Z"
   },
   {
    "duration": 180,
    "start_time": "2022-06-23T10:30:24.464Z"
   },
   {
    "duration": 1375,
    "start_time": "2022-06-23T10:30:24.646Z"
   },
   {
    "duration": 30,
    "start_time": "2022-06-23T10:30:26.023Z"
   },
   {
    "duration": 365,
    "start_time": "2022-06-23T10:30:26.055Z"
   },
   {
    "duration": 182,
    "start_time": "2022-06-23T10:30:26.422Z"
   },
   {
    "duration": 192,
    "start_time": "2022-06-23T10:30:26.606Z"
   },
   {
    "duration": 195,
    "start_time": "2022-06-23T10:30:26.799Z"
   },
   {
    "duration": 185,
    "start_time": "2022-06-23T10:30:26.995Z"
   },
   {
    "duration": 175,
    "start_time": "2022-06-23T10:30:27.181Z"
   },
   {
    "duration": 206,
    "start_time": "2022-06-23T10:30:27.357Z"
   },
   {
    "duration": 180,
    "start_time": "2022-06-23T10:30:27.564Z"
   },
   {
    "duration": 192,
    "start_time": "2022-06-23T10:30:27.745Z"
   },
   {
    "duration": 202,
    "start_time": "2022-06-23T10:30:27.938Z"
   },
   {
    "duration": 16,
    "start_time": "2022-06-23T10:30:28.143Z"
   },
   {
    "duration": 11,
    "start_time": "2022-06-23T10:30:28.161Z"
   },
   {
    "duration": 83,
    "start_time": "2022-06-23T17:59:47.404Z"
   },
   {
    "duration": 127,
    "start_time": "2022-06-23T17:59:51.703Z"
   },
   {
    "duration": 1909,
    "start_time": "2022-06-23T17:59:51.833Z"
   },
   {
    "duration": 372,
    "start_time": "2022-06-23T17:59:53.744Z"
   },
   {
    "duration": 17,
    "start_time": "2022-06-23T17:59:54.119Z"
   },
   {
    "duration": 75,
    "start_time": "2022-06-23T17:59:54.138Z"
   },
   {
    "duration": 91,
    "start_time": "2022-06-23T17:59:54.215Z"
   },
   {
    "duration": 18,
    "start_time": "2022-06-23T17:59:54.311Z"
   },
   {
    "duration": 15,
    "start_time": "2022-06-23T17:59:54.341Z"
   },
   {
    "duration": 66,
    "start_time": "2022-06-23T17:59:54.358Z"
   },
   {
    "duration": 9,
    "start_time": "2022-06-23T17:59:54.426Z"
   },
   {
    "duration": 40,
    "start_time": "2022-06-23T17:59:54.436Z"
   },
   {
    "duration": 36,
    "start_time": "2022-06-23T17:59:54.479Z"
   },
   {
    "duration": 5,
    "start_time": "2022-06-23T17:59:54.518Z"
   },
   {
    "duration": 12,
    "start_time": "2022-06-23T17:59:54.525Z"
   },
   {
    "duration": 34,
    "start_time": "2022-06-23T17:59:54.539Z"
   },
   {
    "duration": 108,
    "start_time": "2022-06-23T17:59:54.575Z"
   },
   {
    "duration": 24,
    "start_time": "2022-06-23T17:59:54.687Z"
   },
   {
    "duration": 371,
    "start_time": "2022-06-23T17:59:54.712Z"
   },
   {
    "duration": 27,
    "start_time": "2022-06-23T17:59:55.085Z"
   },
   {
    "duration": 563,
    "start_time": "2022-06-23T17:59:55.114Z"
   },
   {
    "duration": 30,
    "start_time": "2022-06-23T17:59:55.679Z"
   },
   {
    "duration": 8,
    "start_time": "2022-06-23T17:59:55.711Z"
   },
   {
    "duration": 536,
    "start_time": "2022-06-23T17:59:55.721Z"
   },
   {
    "duration": 33,
    "start_time": "2022-06-23T17:59:56.259Z"
   },
   {
    "duration": 2372,
    "start_time": "2022-06-23T17:59:56.300Z"
   },
   {
    "duration": 27,
    "start_time": "2022-06-23T17:59:58.674Z"
   },
   {
    "duration": 323,
    "start_time": "2022-06-23T17:59:58.706Z"
   },
   {
    "duration": 25,
    "start_time": "2022-06-23T17:59:59.033Z"
   },
   {
    "duration": 41,
    "start_time": "2022-06-23T17:59:59.060Z"
   },
   {
    "duration": 307,
    "start_time": "2022-06-23T17:59:59.104Z"
   },
   {
    "duration": 6,
    "start_time": "2022-06-23T17:59:59.414Z"
   },
   {
    "duration": 278,
    "start_time": "2022-06-23T17:59:59.423Z"
   },
   {
    "duration": 1925,
    "start_time": "2022-06-23T17:59:59.703Z"
   },
   {
    "duration": 22,
    "start_time": "2022-06-23T18:00:01.630Z"
   },
   {
    "duration": 561,
    "start_time": "2022-06-23T18:00:01.654Z"
   },
   {
    "duration": 308,
    "start_time": "2022-06-23T18:00:02.217Z"
   },
   {
    "duration": 283,
    "start_time": "2022-06-23T18:00:02.527Z"
   },
   {
    "duration": 288,
    "start_time": "2022-06-23T18:00:02.816Z"
   },
   {
    "duration": 63,
    "start_time": "2022-06-25T18:48:56.031Z"
   },
   {
    "duration": 1276,
    "start_time": "2022-06-25T18:48:56.096Z"
   },
   {
    "duration": 104,
    "start_time": "2022-06-25T18:48:57.373Z"
   },
   {
    "duration": 17,
    "start_time": "2022-06-25T18:48:57.479Z"
   },
   {
    "duration": 16,
    "start_time": "2022-06-25T18:48:57.498Z"
   },
   {
    "duration": 28,
    "start_time": "2022-06-25T18:48:57.516Z"
   },
   {
    "duration": 98,
    "start_time": "2022-06-25T18:48:57.546Z"
   },
   {
    "duration": 13,
    "start_time": "2022-06-25T18:48:57.646Z"
   },
   {
    "duration": 10,
    "start_time": "2022-06-25T18:48:57.661Z"
   },
   {
    "duration": 16,
    "start_time": "2022-06-25T18:48:57.674Z"
   },
   {
    "duration": 55,
    "start_time": "2022-06-25T18:48:57.692Z"
   },
   {
    "duration": 15,
    "start_time": "2022-06-25T18:48:57.749Z"
   },
   {
    "duration": 23,
    "start_time": "2022-06-25T18:48:57.766Z"
   },
   {
    "duration": 4,
    "start_time": "2022-06-25T18:48:57.791Z"
   },
   {
    "duration": 46,
    "start_time": "2022-06-25T18:48:57.797Z"
   },
   {
    "duration": 4,
    "start_time": "2022-06-25T18:48:57.845Z"
   },
   {
    "duration": 12,
    "start_time": "2022-06-25T18:48:57.851Z"
   },
   {
    "duration": 14,
    "start_time": "2022-06-25T18:48:57.865Z"
   },
   {
    "duration": 7,
    "start_time": "2022-06-25T18:48:57.881Z"
   },
   {
    "duration": 10,
    "start_time": "2022-06-25T18:48:57.890Z"
   },
   {
    "duration": 10,
    "start_time": "2022-06-25T18:48:57.901Z"
   },
   {
    "duration": 34,
    "start_time": "2022-06-25T18:48:57.913Z"
   },
   {
    "duration": 12,
    "start_time": "2022-06-25T18:48:57.948Z"
   },
   {
    "duration": 16,
    "start_time": "2022-06-25T18:48:57.961Z"
   },
   {
    "duration": 25,
    "start_time": "2022-06-25T18:48:57.979Z"
   },
   {
    "duration": 42,
    "start_time": "2022-06-25T18:48:58.006Z"
   },
   {
    "duration": 14,
    "start_time": "2022-06-25T18:48:58.050Z"
   },
   {
    "duration": 88,
    "start_time": "2022-06-25T18:48:58.067Z"
   },
   {
    "duration": 11,
    "start_time": "2022-06-25T18:48:58.157Z"
   },
   {
    "duration": 288,
    "start_time": "2022-06-25T18:48:58.169Z"
   },
   {
    "duration": 18,
    "start_time": "2022-06-25T18:48:58.460Z"
   },
   {
    "duration": 403,
    "start_time": "2022-06-25T18:48:58.479Z"
   },
   {
    "duration": 21,
    "start_time": "2022-06-25T18:48:58.884Z"
   },
   {
    "duration": 5,
    "start_time": "2022-06-25T18:48:58.907Z"
   },
   {
    "duration": 413,
    "start_time": "2022-06-25T18:48:58.913Z"
   },
   {
    "duration": 18,
    "start_time": "2022-06-25T18:48:59.328Z"
   },
   {
    "duration": 37,
    "start_time": "2022-06-25T18:48:59.348Z"
   },
   {
    "duration": 16,
    "start_time": "2022-06-25T18:48:59.387Z"
   },
   {
    "duration": 10,
    "start_time": "2022-06-25T18:48:59.405Z"
   },
   {
    "duration": 618,
    "start_time": "2022-06-25T18:48:59.417Z"
   },
   {
    "duration": 34,
    "start_time": "2022-06-25T18:49:00.042Z"
   },
   {
    "duration": 313,
    "start_time": "2022-06-25T18:49:00.079Z"
   },
   {
    "duration": 342,
    "start_time": "2022-06-25T18:49:00.393Z"
   },
   {
    "duration": 287,
    "start_time": "2022-06-25T18:49:06.713Z"
   }
  ],
  "kernelspec": {
   "display_name": "Python 3 (ipykernel)",
   "language": "python",
   "name": "python3"
  },
  "language_info": {
   "codemirror_mode": {
    "name": "ipython",
    "version": 3
   },
   "file_extension": ".py",
   "mimetype": "text/x-python",
   "name": "python",
   "nbconvert_exporter": "python",
   "pygments_lexer": "ipython3",
   "version": "3.9.7"
  },
  "toc": {
   "base_numbering": 1,
   "nav_menu": {},
   "number_sections": true,
   "sideBar": true,
   "skip_h1_title": true,
   "title_cell": "Table of Contents",
   "title_sidebar": "Contents",
   "toc_cell": false,
   "toc_position": {
    "height": "calc(100% - 180px)",
    "left": "10px",
    "top": "150px",
    "width": "392.958px"
   },
   "toc_section_display": true,
   "toc_window_display": false
  }
 },
 "nbformat": 4,
 "nbformat_minor": 5
}
